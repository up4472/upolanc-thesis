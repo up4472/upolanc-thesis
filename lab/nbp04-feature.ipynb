{
 "cells": [
  {
   "cell_type": "code",
   "execution_count": 1,
   "id": "f9a99b59-5e38-44ca-a55b-0ffed993e6d3",
   "metadata": {
    "execution": {
     "iopub.execute_input": "2023-02-05T20:16:11.725670Z",
     "iopub.status.busy": "2023-02-05T20:16:11.724671Z",
     "iopub.status.idle": "2023-02-05T20:16:11.840294Z",
     "shell.execute_reply": "2023-02-05T20:16:11.839293Z",
     "shell.execute_reply.started": "2023-02-05T20:16:11.725670Z"
    },
    "tags": []
   },
   "outputs": [],
   "source": [
    "# Libraries\n",
    "\n",
    "import itertools\n",
    "import numpy\n",
    "import os\n",
    "import random\n",
    "import shutil\n",
    "import sys\n",
    "import warnings"
   ]
  },
  {
   "cell_type": "code",
   "execution_count": 2,
   "id": "3f6f9928-f8dd-4c12-b5b4-176c3321ba48",
   "metadata": {
    "execution": {
     "iopub.execute_input": "2023-02-05T20:16:11.842296Z",
     "iopub.status.busy": "2023-02-05T20:16:11.841294Z",
     "iopub.status.idle": "2023-02-05T20:16:11.855308Z",
     "shell.execute_reply": "2023-02-05T20:16:11.855308Z",
     "shell.execute_reply.started": "2023-02-05T20:16:11.842296Z"
    },
    "tags": []
   },
   "outputs": [],
   "source": [
    "# Root directory\n",
    "\n",
    "ROOT = 'C:\\\\Developer\\\\Workspace\\\\PyCharm\\\\Projects\\\\upolanc-thesis'\n",
    "\n",
    "if ROOT not in sys.path :\n",
    "\tsys.path.append(ROOT)\n",
    "\n",
    "os.chdir(ROOT)"
   ]
  },
  {
   "cell_type": "code",
   "execution_count": 3,
   "id": "af2d1a13-8af4-4612-8428-0c6d6d0444fd",
   "metadata": {
    "execution": {
     "iopub.execute_input": "2023-02-05T20:16:11.856309Z",
     "iopub.status.busy": "2023-02-05T20:16:11.856309Z",
     "iopub.status.idle": "2023-02-05T20:16:14.264648Z",
     "shell.execute_reply": "2023-02-05T20:16:14.264648Z",
     "shell.execute_reply.started": "2023-02-05T20:16:11.856309Z"
    },
    "tags": []
   },
   "outputs": [],
   "source": [
    "# Code\n",
    "\n",
    "from src.data.feature import feature  as data_feature\n",
    "from src.data.synth   import sequence as data_synth\n",
    "from src.io           import loader   as data_loader\n",
    "from src.io           import writer   as data_writer"
   ]
  },
  {
   "cell_type": "markdown",
   "id": "46ebed75-3c90-4dc3-acb5-b9dffb12d5da",
   "metadata": {},
   "source": [
    "# 1. Setup"
   ]
  },
  {
   "cell_type": "code",
   "execution_count": 4,
   "id": "41d3dd6d-ed46-4a86-afe8-15f1f1be4895",
   "metadata": {
    "execution": {
     "iopub.execute_input": "2023-02-05T20:16:14.265650Z",
     "iopub.status.busy": "2023-02-05T20:16:14.265650Z",
     "iopub.status.idle": "2023-02-05T20:16:14.280663Z",
     "shell.execute_reply": "2023-02-05T20:16:14.280663Z",
     "shell.execute_reply.started": "2023-02-05T20:16:14.265650Z"
    },
    "tags": []
   },
   "outputs": [
    {
     "name": "stdout",
     "output_type": "stream",
     "text": [
      "     Root Directory : C:\\Developer\\Workspace\\PyCharm\\Projects\\upolanc-thesis\n",
      "   Output Directory : C:\\Developer\\Workspace\\PyCharm\\Projects\\upolanc-thesis\\out\\nbp04-feature\n",
      " Resource Directory : C:\\Developer\\Workspace\\PyCharm\\Projects\\upolanc-thesis\\res\\plant\n"
     ]
    }
   ],
   "source": [
    "# Setup some directory paths\n",
    "\n",
    "CWD = ROOT\n",
    "OUT = os.path.join(CWD, 'out', 'nbp04-feature')\n",
    "RES = os.path.join(CWD, 'res', 'plant')\n",
    "\n",
    "OUT_DATA = os.path.join(OUT, '')\n",
    "OUT_PLOT = os.path.join(OUT, 'plot')\n",
    "OUT_LOG  = os.path.join(OUT, 'log')\n",
    "\n",
    "RES_NBP01 = os.path.join(CWD, 'out', 'nbp01-analysis')\n",
    "\n",
    "shutil.rmtree(OUT, ignore_errors = True)\n",
    "\n",
    "os.makedirs(OUT,      exist_ok = True)\n",
    "os.makedirs(OUT_DATA, exist_ok = True)\n",
    "os.makedirs(OUT_PLOT, exist_ok = True)\n",
    "\n",
    "print(f'     Root Directory : {CWD}')\n",
    "print(f'   Output Directory : {OUT}')\n",
    "print(f' Resource Directory : {RES}')"
   ]
  },
  {
   "cell_type": "code",
   "execution_count": 5,
   "id": "fd6c27b1-4c0a-497f-b961-a73b659797e7",
   "metadata": {
    "execution": {
     "iopub.execute_input": "2023-02-05T20:16:14.281664Z",
     "iopub.status.busy": "2023-02-05T20:16:14.281664Z",
     "iopub.status.idle": "2023-02-05T20:16:14.566118Z",
     "shell.execute_reply": "2023-02-05T20:16:14.565117Z",
     "shell.execute_reply.started": "2023-02-05T20:16:14.281664Z"
    }
   },
   "outputs": [],
   "source": [
    "# Load the annotated and cleaned data\n",
    "\n",
    "gene_assembly = data_loader.load_faidx(\n",
    "\tfilename  = os.path.join(RES, 'arabidopsis-r36', 'gene-assembly.fa')\n",
    ")\n",
    "\n",
    "gene_annotation = data_loader.load_csv(\n",
    "\tfilename   = os.path.join(RES_NBP01, 'gene-annotation.csv'),\n",
    "\tlow_memory = False\n",
    ")"
   ]
  },
  {
   "cell_type": "code",
   "execution_count": 6,
   "id": "646e4086-0192-439f-b154-c819f87dd4ba",
   "metadata": {
    "execution": {
     "iopub.execute_input": "2023-02-05T20:16:14.566118Z",
     "iopub.status.busy": "2023-02-05T20:16:14.566118Z",
     "iopub.status.idle": "2023-02-05T20:16:14.581131Z",
     "shell.execute_reply": "2023-02-05T20:16:14.581131Z",
     "shell.execute_reply.started": "2023-02-05T20:16:14.566118Z"
    }
   },
   "outputs": [],
   "source": [
    "# Define the region lengths\n",
    "\n",
    "lengths = {\n",
    "\t'prom_full' : [int(1000), int(500)],\n",
    "\t'prom'      :  int(1000),\n",
    "\t'utr5'      :  int( 300),\n",
    "\t'cds'       :  int(9999),\n",
    "\t'utr3'      :  int( 350),\n",
    "\t'term'      :  int( 500),\n",
    "\t'term_full' : [int( 500), int(500)]\n",
    "}\n",
    "\n",
    "padding = {\n",
    "\t'prom_full' : 'left',\n",
    "\t'prom'      : 'left',\n",
    "\t'utr5'      : 'left',\n",
    "\t'cds'       : 'none',\n",
    "\t'utr3'      : 'left',\n",
    "\t'term'      : 'right',\n",
    "\t'term_full' : 'right'\n",
    "}"
   ]
  },
  {
   "cell_type": "markdown",
   "id": "115d104b-4935-46c3-9868-a7660f8b688c",
   "metadata": {
    "tags": []
   },
   "source": [
    "# 2. Transcript Regions"
   ]
  },
  {
   "cell_type": "code",
   "execution_count": 7,
   "id": "8b4b8b12-4f5e-4500-aa48-3a1373fc7a92",
   "metadata": {
    "execution": {
     "iopub.execute_input": "2023-02-05T20:16:14.583133Z",
     "iopub.status.busy": "2023-02-05T20:16:14.583133Z",
     "iopub.status.idle": "2023-02-05T20:16:20.003098Z",
     "shell.execute_reply": "2023-02-05T20:16:20.002097Z",
     "shell.execute_reply.started": "2023-02-05T20:16:14.583133Z"
    }
   },
   "outputs": [
    {
     "name": "stdout",
     "output_type": "stream",
     "text": [
      "Passed 1st assertion : True\n",
      "Passed 2nd assertion : True\n",
      "\n",
      "Gene       : 20726\n",
      "Transcript : 30415\n"
     ]
    }
   ],
   "source": [
    "# Group annotations into regions\n",
    "\n",
    "regions = data_feature.annotation_to_regions(\n",
    "\tannotation = gene_annotation,\n",
    "\tlengths    = lengths\n",
    ")\n",
    "\n",
    "print()\n",
    "print('Gene       : {:}'.format(regions['Gene'].nunique()))\n",
    "print('Transcript : {:}'.format(regions['Transcript'].nunique()))"
   ]
  },
  {
   "cell_type": "markdown",
   "id": "1633d701-8e6b-4a53-92d6-a882b627750d",
   "metadata": {},
   "source": [
    "# 3. Transcript Features"
   ]
  },
  {
   "cell_type": "code",
   "execution_count": 8,
   "id": "4b65bf86-8326-41d8-b1ed-c15187240bba",
   "metadata": {
    "execution": {
     "iopub.execute_input": "2023-02-05T20:16:20.004099Z",
     "iopub.status.busy": "2023-02-05T20:16:20.004099Z",
     "iopub.status.idle": "2023-02-05T20:21:33.768228Z",
     "shell.execute_reply": "2023-02-05T20:21:33.768228Z",
     "shell.execute_reply.started": "2023-02-05T20:16:20.004099Z"
    }
   },
   "outputs": [
    {
     "data": {
      "application/vnd.jupyter.widget-view+json": {
       "model_id": "a9259bad472a40bf9f0e00cf4f9ee719",
       "version_major": 2,
       "version_minor": 0
      },
      "text/plain": [
       "  0%|          | 0/30415 [00:00<?, ?it/s]"
      ]
     },
     "metadata": {},
     "output_type": "display_data"
    },
    {
     "name": "stdout",
     "output_type": "stream",
     "text": [
      "[AT1G33612.1 ] : unknown codon [GYG]\n",
      "[AT2G01120.1 ] : unknown codon [GKT]\n",
      "[AT2G01120.1 ] : unknown codon [STA]\n",
      "[AT2G01120.1 ] : unknown codon [GAK]\n",
      "[AT2G01120.1 ] : unknown codon [KTG]\n",
      "[AT2G01120.2 ] : unknown codon [GKT]\n",
      "[AT2G01120.2 ] : unknown codon [STA]\n",
      "[AT2G01120.2 ] : unknown codon [GAK]\n",
      "[AT2G01120.2 ] : unknown codon [KTG]\n",
      "[AT2G48110.1 ] : unknown codon [GCM]\n",
      "[AT3G63540.1 ] : out of bounds at sequence end\n"
     ]
    }
   ],
   "source": [
    "# Convert the regions into sequences and features\n",
    "\n",
    "sequences, features = data_feature.regions_to_features(\n",
    "\tfaidx     = gene_assembly,\n",
    "\tdataframe = regions,\n",
    "\tlengths   = lengths\n",
    ")"
   ]
  },
  {
   "cell_type": "code",
   "execution_count": 9,
   "id": "35f67d39-fc7b-417a-9cb9-3f30111eef99",
   "metadata": {
    "execution": {
     "iopub.execute_input": "2023-02-05T20:21:33.769229Z",
     "iopub.status.busy": "2023-02-05T20:21:33.769229Z",
     "iopub.status.idle": "2023-02-05T20:21:33.958373Z",
     "shell.execute_reply": "2023-02-05T20:21:33.958373Z",
     "shell.execute_reply.started": "2023-02-05T20:21:33.769229Z"
    }
   },
   "outputs": [],
   "source": [
    "# Convert the dataframe into a dictionary for ease of use\n",
    "\n",
    "sequences = sequences.copy()\n",
    "sequences = sequences.set_index('Transcript', drop = False)\n",
    "sequences = sequences.rename_axis(None, axis = 'index')\n",
    "sequences = sequences.to_dict('index')"
   ]
  },
  {
   "cell_type": "code",
   "execution_count": 10,
   "id": "bd54bdf8-962c-4f70-89bd-804022fa130c",
   "metadata": {
    "execution": {
     "iopub.execute_input": "2023-02-05T20:21:33.959375Z",
     "iopub.status.busy": "2023-02-05T20:21:33.959375Z",
     "iopub.status.idle": "2023-02-05T20:21:34.070446Z",
     "shell.execute_reply": "2023-02-05T20:21:34.070446Z",
     "shell.execute_reply.started": "2023-02-05T20:21:33.959375Z"
    }
   },
   "outputs": [],
   "source": [
    "# Convert the dataframe into a dictionary for ease of use\n",
    "\n",
    "features = features.copy()\n",
    "features = features.set_index('Transcript', drop = False)\n",
    "features = features.rename_axis(None, axis = 'index')\n",
    "features = features.to_dict('index')"
   ]
  },
  {
   "cell_type": "markdown",
   "id": "c2fcf5e1-bcc2-4e45-a64d-ba6f6aa63f84",
   "metadata": {},
   "source": [
    "## 3.1 Fasta"
   ]
  },
  {
   "cell_type": "code",
   "execution_count": 11,
   "id": "2df35250-a75c-4e11-a200-e6cb638bbc25",
   "metadata": {
    "execution": {
     "iopub.execute_input": "2023-02-05T20:21:34.071448Z",
     "iopub.status.busy": "2023-02-05T20:21:34.071448Z",
     "iopub.status.idle": "2023-02-05T20:22:41.907770Z",
     "shell.execute_reply": "2023-02-05T20:22:41.907770Z",
     "shell.execute_reply.started": "2023-02-05T20:21:34.071448Z"
    }
   },
   "outputs": [
    {
     "data": {
      "application/vnd.jupyter.widget-view+json": {
       "model_id": "14fe9cbf53594a0e97f413d2e832e59c",
       "version_major": 2,
       "version_minor": 0
      },
      "text/plain": [
       "  0%|          | 0/30414 [00:00<?, ?it/s]"
      ]
     },
     "metadata": {},
     "output_type": "display_data"
    }
   ],
   "source": [
    "# Add a header field with more transcript information\n",
    "\n",
    "sequences = data_feature.sequences_extend_kvpair(\n",
    "\tsequences = sequences,\n",
    "\tregions   = regions,\n",
    "\theader    = '{} | {} | {}:{}-{} | {}'\n",
    ")"
   ]
  },
  {
   "cell_type": "code",
   "execution_count": 12,
   "id": "2f313440-253f-4977-9d38-11b46acf541a",
   "metadata": {
    "execution": {
     "iopub.execute_input": "2023-02-05T20:22:41.908771Z",
     "iopub.status.busy": "2023-02-05T20:22:41.908771Z",
     "iopub.status.idle": "2023-02-05T20:22:41.923784Z",
     "shell.execute_reply": "2023-02-05T20:22:41.923784Z",
     "shell.execute_reply.started": "2023-02-05T20:22:41.908771Z"
    }
   },
   "outputs": [
    {
     "name": "stdout",
     "output_type": "stream",
     "text": [
      "AT1G01010.1 | + | 1:2631-3630 | 1000\n",
      "ATATTGCTAT TTCTGCCAAT ATTAAAACTT CACTTAGGAA GACTTGAACC TACCACACGT TAGTGACTAA TGAGAGCCAC TAGATAATTG CATGCATCCC \n",
      "ACACTAGTAC TAATTTTCTA GGGATATTAG AGTTTTCTAA TCACCTACTT CCTACTATGT GTATGTTATC TACTGGCGTG GATGCTTTTA AAGATGTTAC \n",
      "GTTATTATTT TGTTCGGTTT GGAAAACGGC TCAATCGTTA TGAGTTCGTA AGACACATAC ATTGTTCCAT GATAAAATGC AACCCCACGA ACCATTTGCG \n",
      "ACAAGCAAAA CAACATGGTC AAAATTAAAA GCTAACAATT AGCCAGCGAT TCAAAAAGTC AACCTTCTAG ATGGATTTAA CAACATATCG ATAGGATTCA \n",
      "AGATTAAAAA TAAGCACACT CTTATTAATG TTAAAAAACG AATGAGATGA AAATATTTGG CGTGTTCACA CACATAATCT AGAAGACAGA TTCGAGTTGC \n",
      "TCTCCTTTGT TTTGCTTTGG GAGGGACCCA TTATTACCGC CCAGCAGCTT CCCAGCCTTC CTTTATAAGG CTTAATTTAT ATTTATTTAA ATTTTATATG \n",
      "TTCTTCTATT ATAATACTAA AAGGGGAATA CAAATTTCTA CAGAGGATGA TATTCAATCC ACGGTTCACC CAAACCGATT TTATAAAATT TATTATTAAA \n",
      "TCTTTTTTAA TTGTTAAATT GGTTTAAATC TGAACTCTGT TTACTTACAT TGATTAAAAT TCTAAACCAT CATAAGTAAA AAATAATATG ATTAAGACTA \n",
      "ATAAATCTTA ATAGTTAATA CTACTCGGTT TACTACATGA AATTTCATAC CATCAATTGT TTTAATAATC TTTAAAATTG TTAGGACCGG TAAAACCATA \n",
      "CCAATTAAAC CGGAGATCCA TATTAATTTA ATTAAGAAAA TAAAAATAAA AGGAATAAAT TGTCTTATTT AAACGCTGAC TTCACTGTCT TCCTCCCTCC \n",
      "\n",
      "AT1G01010.1 | + | 1:3631-3759 | 129\n",
      "AAATTATTAG ATATACCAAA CCAGAGAAAA CAAATACATA ATCGGAGAAA TACAGATTAC AGAGAGCGAG AGAGATCGAC GGCGAAGCTC TTTACCCGGA \n",
      "AACCATTGAA ATCGGACGGT TTAGTGAAA \n",
      "\n",
      "AT1G01010.1 | + | 1:3760-5630 | 1290\n",
      "ATGGAGGATC AAGTTGGGTT TGGGTTCCGT CCGAACGACG AGGAGCTCGT TGGTCACTAT CTCCGTAACA AAATCGAAGG AAACACTAGC CGCGACGTTG \n",
      "AAGTAGCCAT CAGCGAGGTC AACATCTGTA GCTACGATCC TTGGAACTTG CGCTTCCAGT CAAAGTACAA ATCGAGAGAT GCTATGTGGT ACTTCTTCTC \n",
      "TCGTAGAGAA AACAACAAAG GGAATCGACA GAGCAGGACA ACGGTTTCTG GTAAATGGAA GCTTACCGGA GAATCTGTTG AGGTCAAGGA CCAGTGGGGA \n",
      "TTTTGTAGTG AGGGCTTTCG TGGTAAGATT GGTCATAAAA GGGTTTTGGT GTTCCTCGAT GGAAGATACC CTGACAAAAC CAAATCTGAT TGGGTTATCC \n",
      "ACGAGTTCCA CTACGACCTC TTACCAGAAC ATCAGAGGAC ATATGTCATC TGCAGACTTG AGTACAAGGG TGATGATGCG GACATTCTAT CTGCTTATGC \n",
      "AATAGATCCC ACTCCCGCTT TTGTCCCCAA TATGACTAGT AGTGCAGGTT CTGTGGTCAA CCAATCACGT CAACGAAATT CAGGATCTTA CAACACTTAC \n",
      "TCTGAGTATG ATTCAGCAAA TCATGGCCAG CAGTTTAATG AAAACTCTAA CATTATGCAG CAGCAACCAC TTCAAGGATC ATTCAACCCT CTCCTTGAGT \n",
      "ATGATTTTGC AAATCACGGC GGTCAGTGGC TGAGTGACTA TATCGACCTG CAACAGCAAG TTCCTTACTT GGCACCTTAT GAAAATGAGT CGGAGATGAT \n",
      "TTGGAAGCAT GTGATTGAAG AAAATTTTGA GTTTTTGGTA GATGAAAGGA CATCTATGCA ACAGCATTAC AGTGATCACC GGCCCAAAAA ACCTGTGTCT \n",
      "GGGGTTTTGC CTGATGATAG CAGTGATACT GAAACTGGAT CAATGATTTT CGAAGACACT TCGAGCTCCA CTGATAGTGT TGGTAGTTCA GATGAACCGG \n",
      "GCCATACTCG TATAGATGAT ATTCCATCAT TGAACATTAT TGAGCCTTTG CACAATTATA AGGCACAAGA GCAACCAAAG CAGCAGAGCA AAGAAAAGGT \n",
      "GATAAGTTCG CAGAAAAGCG AATGCGAGTG GAAAATGGCT GAAGACTCGA TCAAGATACC TCCATCCACC AACACGGTGA AGCAGAGCTG GATTGTTTTG \n",
      "GAGAATGCAC AGTGGAACTA TCTCAAGAAC ATGATCATTG GTGTCTTGTT GTTCATCTCC GTCATTAGTT GGATCATTCT TGTTGGTTAA \n",
      "\n",
      "AT1G01010.1 | + | 1:5631-5899 | 269\n",
      "GAGGTCAAAT CGGATTCTTG CTCAAAATTT GTATTTCTTA GAATGTGTGT TTTTTTTTGT TTTTTTTTCT TTGCTCTGTT TTCTCGCTCC GGAAAAGTTT \n",
      "GAAGTTATAT TTTATTAGTA TGTAAAGAAG AGAAAAAGGG GGAAAGAAGA GAGAAGAAAA ATGCAGAAAA TCATATATAT GAATTGGAAA AAAGTATATG \n",
      "TAATAATAAT TAGTGCATCG TTTTGTGGTG TAGTTTATAT AAATAAAGTG ATATATAGTC TTGTATAAG \n",
      "\n",
      "AT1G01010.1 | + | 1:5900-6399 | 500\n",
      "AAAGGGATTT TACATGAGAC CCAAATATGA GTAAAGGGTG TTGGCTCAAA GATTCATTTA GCAACCAAAG TTGCATTTGC AAGGAAATGA AAAGGTGTTA \n",
      "ACAATGTCAC TGCGTAACAT GACTTCGATA CAAAATCTCA AACAATACAT CTTCAACTGT GGATTATGAT GGACTTGGGG TTGCAGGTGA TATGTCTATA \n",
      "GAAAAACGGG TGGGAATGGA AAATGGCTGA AGAAGAAAGC TCCAACTAAG CATCATAACT GGATTGTTTT AGAGGAGATG AGTCAAAGGA ATTCACAGTG \n",
      "GAACTATCTC AAGAACATGA TCATTGGCTT CTTATTGTTC ATCTCCATCA TTGGCTGGAT CATTCTGGTT CAAGAGGTCA AATTATATAT ACATAACGGA \n",
      "TCTAAGAAGT ATAGTGTAGT CAATTAAAAC AAAACGAGAC TTGAAAATAA GCATAAGTAT TATTAAGTTA ACCCAATATT CGTTTCAATG CTTTAGTTAT \n",
      "\n"
     ]
    }
   ],
   "source": [
    "# Example of a positive strand\n",
    "\n",
    "data_feature.print_extracted_sequence(\n",
    "\ttranscript = 'AT1G01010.1',\n",
    "\tsequences  = sequences,\n",
    "\tspace      = True\n",
    ")"
   ]
  },
  {
   "cell_type": "code",
   "execution_count": 13,
   "id": "83d09452-4c1e-4484-bfba-c1100c1393f2",
   "metadata": {
    "execution": {
     "iopub.execute_input": "2023-02-05T20:22:41.925786Z",
     "iopub.status.busy": "2023-02-05T20:22:41.924786Z",
     "iopub.status.idle": "2023-02-05T20:22:41.939800Z",
     "shell.execute_reply": "2023-02-05T20:22:41.939800Z",
     "shell.execute_reply.started": "2023-02-05T20:22:41.925786Z"
    }
   },
   "outputs": [
    {
     "name": "stdout",
     "output_type": "stream",
     "text": [
      "AT1G01020.1 | - | 1:9129-10128 | 1000\n",
      "ATAAATATAT GAACCTACAT CATTATAAGT AGGGTTAAGT GTGTATGATT GTGTATGCGT ATAAAAATAC TCCCTTGACC GTAAACATGA AACATGTAAT \n",
      "ATATAAGATA TATAGACATG GAGACTATAT CATATAAACA TACATATATA TATATATGTT AGTTATATGT GTAGCCCACA TTTTTCGATA TAGGGGAACA \n",
      "AAGTTACGAA TAATGTATAT GTTAGTTATA TGTATAAAAC ATTTGCAAAG GGATGATACA ATGGAATATG TAAATACGTA TTCCAAATAG TCTACAAGTA \n",
      "GCAATGATAT TGTGTAGATA TGTCTCATAA AGGCTTGTGC TATTATATTG TGTAGATGTG TCTCAAAAGG CTTGTGCATA GTTGTCAAAA GAATATAAAA \n",
      "TGCATTTTAA TATTCAAAAG AATGCATGCA TAGACTGATA GAAAAGAAGA AATAATGAAA ATTAAAAGGG GAGGTATTAG TGAAAAGTAC GGAGGTATTA \n",
      "AAATTATGAA AATGACTAAA GGAAATAATA TTGTAACACA TCTAAATGAT TAGTTGTGTA AGAAGAATAA AGAGAATTAA TGACATGCTC CAATTATTGT \n",
      "TAAATAAAAT AAAATAATTC ATTCTCATTA GATTCCTGAC CTAAAAGAGA CTGCAAATAT GTAGGCCGGT TAGGGTTTTC ATAGGCATGA TTAATGATGA \n",
      "TAAGGAAACT TCGTATTGGG GGTTAATGGG TTCTTTCCCT TTCTAATACA TTTCTAAATA AAGTAATAAT CAAATATTAA ACTTTTAACT TACCGTTTCA \n",
      "TTTTTATGTT GAGTTTACTT ATATTGAAAG GAAACTATTT TATCTAAACC TCATTGTCAA ATCTTTCATT TTGTAGCCAT ATGCTAATTA CATGCAACAA \n",
      "AAGGAGTTTT TTTTGTTTGG TGTGGCAAAC GAAGATTTAT TTACCTTTCT TATTTAATCA AACTAAATAA ATTTCTTCAC TGTTGAATTG TAATAAATAA \n",
      "\n",
      "AT1G01020.1 | - | 1:8667-9130 | 300\n",
      "GGCCTATAAT ATGTTTCATT CATGAACCTA CGCATTTTAA AATGCTATGT CATATGGACA AGATTTTGAT CCAAATTGAA CTATTTATAA ATTACAACGT \n",
      "GTATATGATT TTTAAATTTT GGGGTACAAA TACCCCGGCT TAGAGCAAAA GTGGGCCTAA CAAATTTAAA GTTAAGACTT CAAAAACTTG GCCCATGAAT \n",
      "AAGCCCATTT AGGGTTAAAA CAGTAGCCCA GACCCGGACT CTAATTGCTC CGTATTCTTC TTCTCTTGAG AGAGAGAGAG AGAGAGAGAG AGAGAGAGCA \n",
      "\n",
      "AT1G01020.1 | - | 1:6915-8666 | 738\n",
      "ATGGCGGCGA GTGAACACAG ATGCGTGGGA TGTGGTTTTA GGGTAAAGTC ATTGTTCATT CAATACTCTC CGGGTAACAT TCGTCTCATG AAATGCGGAA \n",
      "ATTGCAAGGA AGTAGCAGAT GAGTACATCG AGTGTGAACG CATGATTATT TTCATCGATT TAATCCTTCA CAGACCAAAG GTATATAGAC ACGTCCTCTA \n",
      "CAATGCAATT AATCCAGCAA CTGTCAATAT TCAGCATCTG TTGTGGAAGT TGGTCTTCGC CTATCTTCTT CTAGACTGTT ATAGAAGCTT GCTACTGAGA \n",
      "AAAAGTGATG AAGAATCGAG CTTTTCTGAT AGCCCTGTTC TTCTATCTAT AAAGGTTCTG ATTGGTGTCT TATCTGCAAA CGCTGCATTT ATCATCTCTT \n",
      "TTGCCATTGC GACTAAGGGT TTGCTAAATG AAGTTTCCAG AAGAAGAGAG ATTATGTTGG GGATATTCAT CTCTAGTTAC TTCAAGATAT TTCTGCTTGC \n",
      "GATGTTGGTA TGGGAATTCC CAATGTCAGT GATTTTTTTT GTCGATATAC TTCTCTTAAC ATCAAACTCC ATGGCTCTTA AAGTGATGAC TGAATCAACA \n",
      "ATGACCAGAT GCATAGCCGT ATGCTTAATC GCGCACTTGA TTAGATTCTT GGTGGGTCAG ATTTTTGAGC CGACAATATT TTTGATACAA ATTGGATCTC \n",
      "TGTTGCAATA TATGTCTTAT TTTTTCAGAA TCGTATGA \n",
      "\n",
      "AT1G01020.1 | - | 1:6788-6914 | 127\n",
      "TCCCATCAGC TTCCAGTATA GTCTTTTGGT TTGAAGATAA GAGAAACCTT TACATTATTA TACCATACTG TATTTTATGA CTAAGCCAAA TATTATCGCC \n",
      "ACCAAAAATT GAATTAGACC TTACTAA \n",
      "\n",
      "AT1G01020.1 | - | 1:6290-6789 | 500\n",
      "AAAATATCAA AAGTTAATTG TTGGTCTGTT ACTCTGTGCG GGCGGATATA ACTCAACCAC CTACAATTAT TTGCCCTACA AAAACCTTGT TCCTCACGAT \n",
      "ATCGTCGCTC CATCTTTCTT GGAATGCTGG GCATATGTGG TGGTACCCTC CTTGGAATGG TGGGCATATG TGGAACCCTC CTATGAATGT TGGAGATATG \n",
      "TGGGACTCTC CTATGAATGT GGGGCATCAA CACATTGTTG CAACACCAAG TGAATGTCAT AGGAAAGACG AGGAGACGGT TGAAGCCGAA GTTGAGGCTC \n",
      "CCCTTGATTC TTATCCGGAG AATGCTACTA CCATGGCGAG AAAGCAACCA AAGGCAAGTT AAATATCTGA AAATGTTGAG AATTCTGATG ATAACTAAAG \n",
      "CATTGAAACG AATATTGGGT TAACTTAATA ATACTTATGC TTATTTTCAA GTCTCGTTTT GTTTTAATTG ACTACACTAT ACTTCTTAGA TCCGTTATGT \n",
      "\n"
     ]
    }
   ],
   "source": [
    "# Example of a negative strand\n",
    "\n",
    "data_feature.print_extracted_sequence(\n",
    "\ttranscript = 'AT1G01020.1',\n",
    "\tsequences  = sequences,\n",
    "\tspace      = True\n",
    ")"
   ]
  },
  {
   "cell_type": "code",
   "execution_count": 14,
   "id": "b554fd5b-908b-4b92-b0b6-e0e4e82d4152",
   "metadata": {
    "execution": {
     "iopub.execute_input": "2023-02-05T20:22:41.941802Z",
     "iopub.status.busy": "2023-02-05T20:22:41.940800Z",
     "iopub.status.idle": "2023-02-05T20:22:43.580749Z",
     "shell.execute_reply": "2023-02-05T20:22:43.580749Z",
     "shell.execute_reply.started": "2023-02-05T20:22:41.941802Z"
    }
   },
   "outputs": [],
   "source": [
    "# Save the transcript region sequences\n",
    "\n",
    "tuples = [\n",
    "\t('Prom_Full', 'promoter-full'),\n",
    "\t('Prom',      'promoter'),\n",
    "\t('UTR5',      'utr5'),\n",
    "\t('CDS',       'cds'),\n",
    "\t('UTR3',      'utr3'),\n",
    "\t('Term',      'terminator'),\n",
    "\t('Term_Full', 'terminator-full')\n",
    "]\n",
    "\n",
    "for region, filename in tuples :\n",
    "\tdata_writer.write_fasta(\n",
    "\t\tdata = {\n",
    "\t\t\titem[region]['key'] : item[region]['seq']\n",
    "\t\t\tfor item in sequences.values()\n",
    "\t\t},\n",
    "\t\tfilename = os.path.join(OUT_DATA, f'sequences-{filename}.fasta')\n",
    "\t)"
   ]
  },
  {
   "cell_type": "markdown",
   "id": "5e4b0715-27b0-428b-be6b-9bea2be77368",
   "metadata": {},
   "source": [
    "## 3.2 Sequences"
   ]
  },
  {
   "cell_type": "code",
   "execution_count": 15,
   "id": "c9e2a11f-a5ed-4f91-bc6a-86fba8fb6b3f",
   "metadata": {
    "execution": {
     "iopub.execute_input": "2023-02-05T20:22:43.581749Z",
     "iopub.status.busy": "2023-02-05T20:22:43.581749Z",
     "iopub.status.idle": "2023-02-05T20:22:43.770919Z",
     "shell.execute_reply": "2023-02-05T20:22:43.770919Z",
     "shell.execute_reply.started": "2023-02-05T20:22:43.581749Z"
    }
   },
   "outputs": [],
   "source": [
    "# Merge transcript regions and pad accordingly\n",
    "\n",
    "bp2150 = data_feature.merge_and_pad_sequences(\n",
    "\tsequences = sequences,\n",
    "\tlengths   = lengths,\n",
    "\tpadding   = padding\n",
    ")"
   ]
  },
  {
   "cell_type": "code",
   "execution_count": 16,
   "id": "0a0fb323-d623-4411-948e-80a0721afbba",
   "metadata": {
    "execution": {
     "iopub.execute_input": "2023-02-05T20:22:43.771920Z",
     "iopub.status.busy": "2023-02-05T20:22:43.771920Z",
     "iopub.status.idle": "2023-02-05T20:22:43.786934Z",
     "shell.execute_reply": "2023-02-05T20:22:43.786934Z",
     "shell.execute_reply.started": "2023-02-05T20:22:43.771920Z"
    }
   },
   "outputs": [
    {
     "name": "stdout",
     "output_type": "stream",
     "text": [
      "AT1G03730.1 | - | 1:930217-932983 | 2150\n",
      "ACTAAAATAG AATAATTTAT GAAATACTTT AATTTACTTG GCTCACACGA CAGCCCGATG TCTTTAGAAC TAATTCATTT ACTTATTTTA AAAAAAAATC \n",
      "AAAGTGTATT AAATATAGAG ATCGTCAATA GGATGCCGAC ACCTTCATCG GCATGCGGAC CATGCGGTGT TGCCAATTTG CCATCGCGAC CGTGTTGTAT \n",
      "GGCAAAATTG GACTCCGTTT CCGGTCATGG GATTATGAAC TAGAAGATTC TTTGAAGTGT ACATCAATAG AAGACTACAA AACTGGAAGA TTATTTGTTT \n",
      "AATGTTCTTA CAAATTAATT CTCAAAGTCG TGTCAACTTC CATATTAGAA AAGCGTTTGA CACATAACAA AGTCGTTGCA ATCGTTCGTA CGTGAAATTG \n",
      "TTACAAATGT CAAGGGACGT TAAATTGTTT CATATGCCAA GTAAATCTTA GTATTCCAAA TGTCCAATTA CTTGGAAGAT GGTTTACCAT ACAATACCAC \n",
      "ATCCATATCC AATTTTAAAA ATGTTTGATT GTAGATTCTC AACTTATATG ATTAGTGTTC CATATATTGT AGATAAATGC TTAATCTCAT TTGATGACTA \n",
      "GACGGAAGAA TATTAAAATC CATATTCAAG AGAAAAAGCT AAGACTTCCA TAAGAAAAAG ACAATCGCAT GCATTCAAGA ATTTGCTAGC GGTGAACGTC \n",
      "AAGAAGTTTC GTTCCTTTAG AGTCTTCTTC ATAAAAGATA GACAAAACAA AACAAAACAA AAAAGGTAAA ATGTCATTAA AGGTTAGAAT AAATAGACGA \n",
      "TTCTTTTATT TTAGTTTGTC GGCTATAATA AGCGTAGAGG CGCACTATCA AGCCAAATCG CATTAAAAAA AAGAAAAGGA AAGACAAATC GCATTTGTTT \n",
      "GTTTGTCCCT AACTTGCTAT ACGACTAAAC TAAAAAAAAA AAAGAAGATA ATGCATTACG TCTCAAACAG ATTTGTTGAA GTAAAAAATG GTATAAACAG \n",
      "CTGGTCTCTT TTGGGGGAAA TCAATAAATA AAACGAAACT TAAGCGCGTG TACTCCACTA CAAGCCTCTA AACCAACGAG TGATTAACAC GCGCTTTAAC \n",
      "ATGAGAGTGG GACTCACGTG AACTAATCTA TTTTCCCCAA ATCTGAAGAC TTTCACTTTT TTTTTTGTGC TCTCTCTCTT CTTCTTCTTC TTCTTCTTCT \n",
      "TCTTCTAGTT CTTCAGCACA AATCTCAAAT CACGGAGATT TCAATTTCCA ACACAAAGAA AGAAAAAATC CCTCAATAAA AAATCTCAAT CAGATCGCCG \n",
      "---------- ---------- ---------- ---------- --------GG TTTTTGATTT TGGGAAATTT TCTTCTCTTT TTTTATTATT ATTGGATTAG \n",
      "GTGGGTTTTT CTTTCTTTCC TGGAAATTTG ACTATTATAT TGAAGAAACT CTTGTCTTTT GCTTCTTGTT TAACTTGTTG CTAATGTAGC AATGTATATG \n",
      "TACATTTTAT AAACGGAGAT GTTCTTGAAT CACTATCATT ATTATTTCTT GAAAGCGTGT CAAATTATTA CATTTTGGCG AATGTTAGCT ATCCATTGTT \n",
      "GGTTGGGTTC AAGGTACTTC TTTTTGGTAA ACCATAGCAG AAATATAACC CCTGTACCAA CAAAATATCC TAGCAATAAA AAAATAATAT ATATATATAT \n",
      "ATATCCTACC TAGCAACAAA ACTGAACAAA GTATCCAACT ACTAATTCAT GCATTTCTCA TTTTTTTTTT TTTTTTGGGG ACGCTTCCAT GATAGTATTA \n",
      "AAATTTGGTA TATTCATTAT TTTTATTAAT CAATTTGTTC ATTTTCCTAA AATTACTTAT CTTTTTGCTT ATAATTTACC CTCTCTTTTT TTGTGTCTAG \n",
      "TTGATTACTT ACTTTTTACT TCTTCTCAAA TGATGACCTG AATTTTTCTC GTAAGTTCAT TATTAACTAA GTTTTAGTAA GCAGACCATG TAGAGTGTTC \n",
      "TAAAGATTAC TACAAGTGAT TATGTCTTGG AATTTAGGCC CATCTCCCAT ACGCCATACA TTAGACAATT TAAACGTAGT TAATAATGGA TAAGCTATGA \n",
      "TTTAGTGAAA TACTTTCTAT TGCAAAACCA AGCTGTGAAT ATCATTTCTT \n",
      "\n"
     ]
    }
   ],
   "source": [
    "# Display an example of a merged transcript sequence\n",
    "\n",
    "data_feature.print_padded_sequence(\n",
    "\ttranscript = 'AT1G03730.1',\n",
    "\tsequences  = bp2150,\n",
    "\tspace      = True\n",
    ")"
   ]
  },
  {
   "cell_type": "code",
   "execution_count": 17,
   "id": "23489337-1d89-4929-bc89-f7d87567effd",
   "metadata": {
    "execution": {
     "iopub.execute_input": "2023-02-05T20:22:43.787935Z",
     "iopub.status.busy": "2023-02-05T20:22:43.787935Z",
     "iopub.status.idle": "2023-02-05T20:22:44.292896Z",
     "shell.execute_reply": "2023-02-05T20:22:44.292896Z",
     "shell.execute_reply.started": "2023-02-05T20:22:43.787935Z"
    }
   },
   "outputs": [],
   "source": [
    "# Save the transcript sequences\n",
    "\n",
    "data_writer.write_fasta(\n",
    "\tdata     = bp2150,\n",
    "\tfilename = os.path.join(OUT_DATA, f'features-bp2150.fasta')\n",
    ")"
   ]
  },
  {
   "cell_type": "markdown",
   "id": "5cbb845a-e1ff-46cb-b3bc-a9274d12d0b5",
   "metadata": {},
   "source": [
    "## 3.3 Mutations"
   ]
  },
  {
   "cell_type": "code",
   "execution_count": 18,
   "id": "4cd8b064-ed29-459d-8e52-5de3ce6e9ab2",
   "metadata": {
    "execution": {
     "iopub.execute_input": "2023-02-05T20:22:44.293898Z",
     "iopub.status.busy": "2023-02-05T20:22:44.293898Z",
     "iopub.status.idle": "2023-02-05T20:22:44.307911Z",
     "shell.execute_reply": "2023-02-05T20:22:44.307911Z",
     "shell.execute_reply.started": "2023-02-05T20:22:44.293898Z"
    }
   },
   "outputs": [],
   "source": [
    "# Select random transcripts to mutate\n",
    "\n",
    "mutation_transcripts = random.choices(list(sequences.keys()), k = 25)\n",
    "mutation_transcripts = {key : value for key, value in sequences.items() if key in mutation_transcripts}"
   ]
  },
  {
   "cell_type": "code",
   "execution_count": 19,
   "id": "e2e5ca72-01a3-475a-8045-f848ccc3c810",
   "metadata": {
    "execution": {
     "iopub.execute_input": "2023-02-05T20:22:44.309912Z",
     "iopub.status.busy": "2023-02-05T20:22:44.308911Z",
     "iopub.status.idle": "2023-02-05T20:23:04.145958Z",
     "shell.execute_reply": "2023-02-05T20:23:04.144957Z",
     "shell.execute_reply.started": "2023-02-05T20:22:44.309912Z"
    }
   },
   "outputs": [
    {
     "data": {
      "application/vnd.jupyter.widget-view+json": {
       "model_id": "7de4d5089834412fa6828bb842e5016b",
       "version_major": 2,
       "version_minor": 0
      },
      "text/plain": [
       "  0%|          | 0/125 [00:00<?, ?it/s]"
      ]
     },
     "metadata": {},
     "output_type": "display_data"
    }
   ],
   "source": [
    "# Mutate transcripts multiple times\n",
    "\n",
    "rates = [\n",
    "\t0.01,\n",
    "\t0.05,\n",
    "\t0.10,\n",
    "\t0.15,\n",
    "\t0.25\n",
    "]\n",
    "\n",
    "params = {\n",
    "\t'mutation_rate'     : 0.1,\n",
    "\t'insertion_rate'    : 0.0,\n",
    "\t'deletion_rate'     : 0.0,\n",
    "\t'substitution_rate' : 1.0,\n",
    "\t'max_length'        : 6\n",
    "}\n",
    "\n",
    "result = data_synth.mutate_sequences(\n",
    "\tsequences = mutation_transcripts,\n",
    "\tvariants  = 20,\n",
    "\tmethod    = 'random',\n",
    "\trates     = rates,\n",
    "\tparams    = params\n",
    ")\n",
    "\n",
    "mutation_sequences = result[0]\n",
    "mutation_features  = result[1]"
   ]
  },
  {
   "cell_type": "code",
   "execution_count": 20,
   "id": "e28d6bdb-1402-47b1-acaa-ceb8d494c8cc",
   "metadata": {
    "execution": {
     "iopub.execute_input": "2023-02-05T20:23:04.147960Z",
     "iopub.status.busy": "2023-02-05T20:23:04.146959Z",
     "iopub.status.idle": "2023-02-05T20:23:04.178988Z",
     "shell.execute_reply": "2023-02-05T20:23:04.177987Z",
     "shell.execute_reply.started": "2023-02-05T20:23:04.146959Z"
    }
   },
   "outputs": [],
   "source": [
    "# Merge mutation transcript regions and pad accordingly\n",
    "\n",
    "mutation_bp2150 = data_feature.merge_and_pad_sequences(\n",
    "\tsequences = mutation_sequences,\n",
    "\tlengths   = lengths,\n",
    "\tpadding   = padding\n",
    ")"
   ]
  },
  {
   "cell_type": "code",
   "execution_count": 21,
   "id": "16fb3099-a09c-4251-8d14-fbea951e734f",
   "metadata": {
    "execution": {
     "iopub.execute_input": "2023-02-05T20:23:04.179989Z",
     "iopub.status.busy": "2023-02-05T20:23:04.179989Z",
     "iopub.status.idle": "2023-02-05T20:23:04.519297Z",
     "shell.execute_reply": "2023-02-05T20:23:04.519297Z",
     "shell.execute_reply.started": "2023-02-05T20:23:04.179989Z"
    }
   },
   "outputs": [],
   "source": [
    "# Compute similiarity betwen orginal and mutated transcript sequences\n",
    "\n",
    "data = dict()\n",
    "\n",
    "for key, value in mutation_bp2150.items() :\n",
    "\tsplits = key.split(' | ')\n",
    "\n",
    "\torgkey = splits[0].split('-')[0]\n",
    "\torgkey = orgkey + ' | ' + ' | '.join(splits[1:])\n",
    "\n",
    "\torgseq = bp2150[orgkey]\n",
    "\n",
    "\tmatch = sum([1 if x == y else 0 for x, y in zip(orgseq, value)])\n",
    "\tmatch = match / len(orgseq)\n",
    "\n",
    "\tdata['{} | {:.5f}'.format(key, match)] = value\n",
    "\n",
    "mutation_bp2150 = data"
   ]
  },
  {
   "cell_type": "code",
   "execution_count": 22,
   "id": "26c40ebe-8e41-46e6-b4f7-c09a703baeb5",
   "metadata": {
    "execution": {
     "iopub.execute_input": "2023-02-05T20:23:04.522301Z",
     "iopub.status.busy": "2023-02-05T20:23:04.522301Z",
     "iopub.status.idle": "2023-02-05T20:23:04.580129Z",
     "shell.execute_reply": "2023-02-05T20:23:04.580129Z",
     "shell.execute_reply.started": "2023-02-05T20:23:04.522301Z"
    }
   },
   "outputs": [],
   "source": [
    "# Save the mutation transcript sequences\n",
    "\n",
    "data_writer.write_fasta(\n",
    "\tdata     = mutation_bp2150,\n",
    "\tfilename = os.path.join(OUT_DATA, f'mutation-features-bp2150.fasta')\n",
    ")"
   ]
  },
  {
   "cell_type": "code",
   "execution_count": 23,
   "id": "99145fcf-78d9-4683-b9e7-4e31a9d10d21",
   "metadata": {
    "execution": {
     "iopub.execute_input": "2023-02-05T20:23:04.581129Z",
     "iopub.status.busy": "2023-02-05T20:23:04.581129Z",
     "iopub.status.idle": "2023-02-05T20:23:04.824350Z",
     "shell.execute_reply": "2023-02-05T20:23:04.823349Z",
     "shell.execute_reply.started": "2023-02-05T20:23:04.581129Z"
    }
   },
   "outputs": [],
   "source": [
    "# Save the mutation transcript features\n",
    "\n",
    "tuples = [\n",
    "\t('Frequency', 'frequency'),\n",
    "\t('Stability', 'stability')\n",
    "]\n",
    "\n",
    "for feature, filename in tuples :\n",
    "\tdata_writer.write_npz(\n",
    "\t\tdata = {\n",
    "\t\t\tkey : numpy.array(value[feature])\n",
    "\t\t\tfor key, value in mutation_features.items()\n",
    "\t\t},\n",
    "\t\tfilename = os.path.join(OUT_DATA, f'mutation-features-{filename}')\n",
    "\t)"
   ]
  },
  {
   "cell_type": "markdown",
   "id": "803fb8fa-aa16-4ea1-8697-122abf9578ec",
   "metadata": {},
   "source": [
    "## 3.4 Features"
   ]
  },
  {
   "cell_type": "code",
   "execution_count": 24,
   "id": "26ba9574-a637-4a33-819f-4324df70c775",
   "metadata": {
    "execution": {
     "iopub.execute_input": "2023-02-05T20:23:04.825351Z",
     "iopub.status.busy": "2023-02-05T20:23:04.824350Z",
     "iopub.status.idle": "2023-02-05T20:23:07.538188Z",
     "shell.execute_reply": "2023-02-05T20:23:07.538188Z",
     "shell.execute_reply.started": "2023-02-05T20:23:04.825351Z"
    },
    "tags": []
   },
   "outputs": [],
   "source": [
    "# Save the transcript features\n",
    "\n",
    "tuples = [\n",
    "\t('Frequency', 'frequency'),\n",
    "\t('Stability', 'stability')\n",
    "]\n",
    "\n",
    "for feature, filename in tuples :\n",
    "\tdata_writer.write_npz(\n",
    "\t\tdata = {\n",
    "\t\t\tkey : numpy.array(value[feature])\n",
    "\t\t\tfor key, value in features.items()\n",
    "\t\t},\n",
    "\t\tfilename = os.path.join(OUT_DATA, f'features-{filename}')\n",
    "\t)"
   ]
  }
 ],
 "metadata": {
  "kernelspec": {
   "display_name": "Python 3 (ipykernel)",
   "language": "python",
   "name": "python3"
  },
  "language_info": {
   "codemirror_mode": {
    "name": "ipython",
    "version": 3
   },
   "file_extension": ".py",
   "mimetype": "text/x-python",
   "name": "python",
   "nbconvert_exporter": "python",
   "pygments_lexer": "ipython3",
   "version": "3.10.7"
  }
 },
 "nbformat": 4,
 "nbformat_minor": 5
}
