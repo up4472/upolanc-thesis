{
 "cells": [
  {
   "cell_type": "code",
   "execution_count": 1,
   "id": "4d6c1030-49e7-4910-a32d-0ae78ce0ce1f",
   "metadata": {
    "execution": {
     "iopub.execute_input": "2023-02-07T13:23:00.883935Z",
     "iopub.status.busy": "2023-02-07T13:23:00.883935Z",
     "iopub.status.idle": "2023-02-07T13:23:00.995419Z",
     "shell.execute_reply": "2023-02-07T13:23:00.995419Z",
     "shell.execute_reply.started": "2023-02-07T13:23:00.883935Z"
    },
    "tags": []
   },
   "outputs": [],
   "source": [
    "# Libraries\n",
    "\n",
    "import json\n",
    "import numpy\n",
    "import os\n",
    "import shutil\n",
    "import sys"
   ]
  },
  {
   "cell_type": "code",
   "execution_count": 2,
   "id": "0f4e7e4e-b486-4abf-ae0d-4b22537b648b",
   "metadata": {
    "execution": {
     "iopub.execute_input": "2023-02-07T13:23:00.997422Z",
     "iopub.status.busy": "2023-02-07T13:23:00.996420Z",
     "iopub.status.idle": "2023-02-07T13:23:01.012051Z",
     "shell.execute_reply": "2023-02-07T13:23:01.011438Z",
     "shell.execute_reply.started": "2023-02-07T13:23:00.997422Z"
    },
    "tags": []
   },
   "outputs": [],
   "source": [
    "# Root directory\n",
    "\n",
    "ROOT = 'C:\\\\Developer\\\\Workspace\\\\PyCharm\\\\Projects\\\\upolanc-thesis'\n",
    "\n",
    "if ROOT not in sys.path :\n",
    "\tsys.path.append(ROOT)\n",
    "\n",
    "os.chdir(ROOT)"
   ]
  },
  {
   "cell_type": "code",
   "execution_count": 3,
   "id": "6e2187b3-fd0c-4e6e-b02a-ffbe11f26afc",
   "metadata": {
    "execution": {
     "iopub.execute_input": "2023-02-07T13:23:01.012051Z",
     "iopub.status.busy": "2023-02-07T13:23:01.012051Z",
     "iopub.status.idle": "2023-02-07T13:23:02.284297Z",
     "shell.execute_reply": "2023-02-07T13:23:02.284297Z",
     "shell.execute_reply.started": "2023-02-07T13:23:01.012051Z"
    },
    "tags": []
   },
   "outputs": [],
   "source": [
    "# Tune\n",
    "\n",
    "from ray.air                  import CheckpointConfig\n",
    "from ray.air                  import FailureConfig\n",
    "from ray.air                  import RunConfig\n",
    "from ray.tune                 import JupyterNotebookReporter\n",
    "from ray.tune                 import TuneConfig\n",
    "from ray.tune                 import Tuner\n",
    "from ray.tune.logger          import CSVLoggerCallback\n",
    "from ray.tune.schedulers      import ASHAScheduler\n",
    "from ray.tune.search          import ConcurrencyLimiter\n",
    "from ray.tune.search.bayesopt import BayesOptSearch\n",
    "from ray.tune.search.hyperopt import HyperOptSearch\n",
    "\n",
    "from ray import tune"
   ]
  },
  {
   "cell_type": "code",
   "execution_count": 4,
   "id": "53cad32c-4de4-412f-a1e9-9e48a8f77213",
   "metadata": {
    "execution": {
     "iopub.execute_input": "2023-02-07T13:23:02.285298Z",
     "iopub.status.busy": "2023-02-07T13:23:02.285298Z",
     "iopub.status.idle": "2023-02-07T13:23:03.915573Z",
     "shell.execute_reply": "2023-02-07T13:23:03.915573Z",
     "shell.execute_reply.started": "2023-02-07T13:23:02.285298Z"
    },
    "tags": []
   },
   "outputs": [],
   "source": [
    "# Code\n",
    "\n",
    "from src.cnn import raytune as cnn_raytune\n",
    "from src.cnn import core    as cnn_core\n",
    "from src.io  import loader  as data_loader"
   ]
  },
  {
   "cell_type": "markdown",
   "id": "d50a8f4a-ddce-4960-a822-3f612701ff0d",
   "metadata": {},
   "source": [
    "# 1. Setup"
   ]
  },
  {
   "cell_type": "code",
   "execution_count": 5,
   "id": "cd10db9c-1c2c-4761-864f-1606829223bc",
   "metadata": {
    "execution": {
     "iopub.execute_input": "2023-02-07T13:23:03.916574Z",
     "iopub.status.busy": "2023-02-07T13:23:03.916574Z",
     "iopub.status.idle": "2023-02-07T13:23:03.931526Z",
     "shell.execute_reply": "2023-02-07T13:23:03.931526Z",
     "shell.execute_reply.started": "2023-02-07T13:23:03.916574Z"
    }
   },
   "outputs": [],
   "source": [
    "# Setup model to tune\n",
    "\n",
    "MODEL_NAME = 'zrimec2020'\n",
    "MODEL_TYPE = 'r'"
   ]
  },
  {
   "cell_type": "code",
   "execution_count": 6,
   "id": "7d9d420a-cde8-46cb-be15-1f99347d9bdd",
   "metadata": {
    "execution": {
     "iopub.execute_input": "2023-02-07T13:23:03.933528Z",
     "iopub.status.busy": "2023-02-07T13:23:03.932528Z",
     "iopub.status.idle": "2023-02-07T13:23:03.947541Z",
     "shell.execute_reply": "2023-02-07T13:23:03.947541Z",
     "shell.execute_reply.started": "2023-02-07T13:23:03.933528Z"
    },
    "tags": []
   },
   "outputs": [
    {
     "name": "stdout",
     "output_type": "stream",
     "text": [
      "     Root Directory : C:\\Developer\\Workspace\\PyCharm\\Projects\\upolanc-thesis\n",
      "   Output Directory : C:\\Developer\\Workspace\\PyCharm\\Projects\\upolanc-thesis\\out\\nbp06-tuner\\zrimec2020\n",
      "   Output Directory : C:\\Developer\\Workspace\\PyCharm\\Projects\\upolanc-thesis\\out\\nbp06-tuner\\zrimec2020\\plot\n",
      " Resource Directory : C:\\Developer\\Workspace\\PyCharm\\Projects\\upolanc-thesis\\res\\tuner\n",
      " Resource Directory : C:\\Developer\\Workspace\\PyCharm\\Projects\\upolanc-thesis\\out\\nbp04-feature\n",
      " Resource Directory : C:\\Developer\\Workspace\\PyCharm\\Projects\\upolanc-thesis\\out\\nbp05-target\n"
     ]
    }
   ],
   "source": [
    "# Setup some directory paths.\n",
    "\n",
    "CWD = ROOT\n",
    "OUT = os.path.join(CWD, 'out')\n",
    "RES = os.path.join(CWD, 'res')\n",
    "\n",
    "OUT_DATA  = os.path.join(OUT,      'nbp06-tuner', MODEL_NAME)\n",
    "OUT_PLOT  = os.path.join(OUT_DATA, 'plot')\n",
    "RES_TUNER = os.path.join(RES,      'tuner')\n",
    "RES_NBP04 = os.path.join(OUT,      'nbp04-feature')\n",
    "RES_NBP05 = os.path.join(OUT,      'nbp05-target')\n",
    "\n",
    "shutil.rmtree(OUT_DATA, ignore_errors = True)\n",
    "\n",
    "os.makedirs(OUT_DATA, exist_ok = True)\n",
    "os.makedirs(OUT_PLOT, exist_ok = True)\n",
    "\n",
    "print(f'     Root Directory : {CWD}')\n",
    "print(f'   Output Directory : {OUT_DATA}')\n",
    "print(f'   Output Directory : {OUT_PLOT}')\n",
    "print(f' Resource Directory : {RES_TUNER}')\n",
    "print(f' Resource Directory : {RES_NBP04}')\n",
    "print(f' Resource Directory : {RES_NBP05}')"
   ]
  },
  {
   "cell_type": "code",
   "execution_count": 7,
   "id": "d254fe75-06de-4b51-88ab-e6af1f5af769",
   "metadata": {
    "execution": {
     "iopub.execute_input": "2023-02-07T13:23:03.949542Z",
     "iopub.status.busy": "2023-02-07T13:23:03.949542Z",
     "iopub.status.idle": "2023-02-07T13:23:03.963555Z",
     "shell.execute_reply": "2023-02-07T13:23:03.963555Z",
     "shell.execute_reply.started": "2023-02-07T13:23:03.949542Z"
    },
    "tags": []
   },
   "outputs": [],
   "source": [
    "# Load the inputs and ouputs\n",
    "\n",
    "tpm_order = data_loader.load_labels(\n",
    "\tfilename = os.path.join(RES_NBP05, 'target-order.json')\n",
    ")"
   ]
  },
  {
   "cell_type": "code",
   "execution_count": 8,
   "id": "87ade6b9-f526-4711-b980-2b79d1abbbb7",
   "metadata": {
    "execution": {
     "iopub.execute_input": "2023-02-07T13:23:03.965559Z",
     "iopub.status.busy": "2023-02-07T13:23:03.964557Z",
     "iopub.status.idle": "2023-02-07T13:23:03.979570Z",
     "shell.execute_reply": "2023-02-07T13:23:03.979570Z",
     "shell.execute_reply.started": "2023-02-07T13:23:03.965559Z"
    },
    "tags": []
   },
   "outputs": [
    {
     "name": "stdout",
     "output_type": "stream",
     "text": [
      "Random seed : 13505706\n"
     ]
    }
   ],
   "source": [
    "# Lock random\n",
    "\n",
    "RANDOM_SEED = cnn_core.lock_random(\n",
    "\tgenerate_seed = True\n",
    ")\n",
    "\n",
    "print('Random seed : {}'.format(RANDOM_SEED))"
   ]
  },
  {
   "cell_type": "code",
   "execution_count": 9,
   "id": "73ba7a35-fda7-408b-bd8c-606b308bbc06",
   "metadata": {
    "execution": {
     "iopub.execute_input": "2023-02-07T13:23:03.980571Z",
     "iopub.status.busy": "2023-02-07T13:23:03.980571Z",
     "iopub.status.idle": "2023-02-07T13:23:04.028623Z",
     "shell.execute_reply": "2023-02-07T13:23:04.027622Z",
     "shell.execute_reply.started": "2023-02-07T13:23:03.980571Z"
    },
    "tags": []
   },
   "outputs": [
    {
     "name": "stdout",
     "output_type": "stream",
     "text": [
      "platform_python  : 3.10.7\n",
      "platform_system  : Windows\n",
      "platform_release : 10\n",
      "platform_version : 10.0.19044\n",
      "cpu_name         : N/A\n",
      "cpu_count        : 12\n",
      "cuda_name        : NVIDIA GeForce RTX 3060 Ti\n",
      "cuda_available   : True\n",
      "cuda_devices     : 1\n",
      "memory_total     : 31.924 GB\n",
      "memory_available : 23.542 GB\n"
     ]
    }
   ],
   "source": [
    "# System and device\n",
    "\n",
    "DEVICE = cnn_core.get_device(only_cpu = False)\n",
    "SYSTEM = cnn_core.get_system_info()\n",
    "\n",
    "for key, value in SYSTEM.items() :\n",
    "\tprint('{:16s} : {}'.format(key, value))"
   ]
  },
  {
   "cell_type": "markdown",
   "id": "de314874-ff3f-43c1-bb0a-919f2d63e775",
   "metadata": {},
   "source": [
    "# 2. CNN Regression"
   ]
  },
  {
   "cell_type": "markdown",
   "id": "f1c53b24-13a8-42bb-8c70-b9ba0f04d28e",
   "metadata": {},
   "source": [
    "## 2.1 Config"
   ]
  },
  {
   "cell_type": "code",
   "execution_count": 10,
   "id": "f642f500-5fe7-4015-9324-6152c34b487f",
   "metadata": {
    "execution": {
     "iopub.execute_input": "2023-02-07T13:23:04.028623Z",
     "iopub.status.busy": "2023-02-07T13:23:04.028623Z",
     "iopub.status.idle": "2023-02-07T13:23:04.043636Z",
     "shell.execute_reply": "2023-02-07T13:23:04.043636Z",
     "shell.execute_reply.started": "2023-02-07T13:23:04.028623Z"
    },
    "tags": []
   },
   "outputs": [],
   "source": [
    "# Define basic data parameters\n",
    "\n",
    "core_config = {\n",
    "\t'random_seed' : RANDOM_SEED,\n",
    "\t'device'      : DEVICE,\n",
    "\t'model_name'  : MODEL_NAME + MODEL_TYPE,\n",
    "\t'expand_dims' : None,\n",
    "\t'epochs'      : 10,\n",
    "\t'samples'     : 20,\n",
    "\t'notebook'    : True,\n",
    "\t'checkpoint'  : False,\n",
    "\n",
    "\t'split_size' : {\n",
    "\t\t'valid' : 0.2,\n",
    "\t\t'test'  : 0.2\n",
    "\t},\n",
    "\t'input' : {\n",
    "\t\t'channels' : 1,\n",
    "\t\t'height'   : 4,\n",
    "\t\t'width'    : 2150,\n",
    "\t\t'features' : 64\n",
    "\t},\n",
    "\t'output' : {\n",
    "\t\t'group0' : 'tissue',\n",
    "\t\t'group1' : 'tissue-mean',\n",
    "\t\t'length' : 8\n",
    "\t},\n",
    "\t'files' : {\n",
    "\t\t'sequences' : lambda : data_loader.load_fasta(filename = os.path.join(RES_NBP04, 'features-bp2150.fasta'), to_string = True),\n",
    "\t\t'frequency' : lambda : data_loader.load_npz(filename = os.path.join(RES_NBP04, 'features-frequency.npz')),\n",
    "\t\t'stability' : lambda : data_loader.load_npz(filename = os.path.join(RES_NBP04, 'features-stability.npz')),\n",
    "\t\t'values'    : lambda : data_loader.load_labels(filename = os.path.join(RES_NBP05, 'target-values.json'), to_numpy = True),\n",
    "\t\t'order'     : lambda : data_loader.load_labels(filename = os.path.join(RES_NBP05, 'target-order.json'))\n",
    "\t}\n",
    "}"
   ]
  },
  {
   "cell_type": "code",
   "execution_count": 11,
   "id": "dd635eb1-2d89-4d56-93b6-7a49e285ee30",
   "metadata": {
    "execution": {
     "iopub.execute_input": "2023-02-07T13:23:04.044637Z",
     "iopub.status.busy": "2023-02-07T13:23:04.044637Z",
     "iopub.status.idle": "2023-02-07T13:23:04.060652Z",
     "shell.execute_reply": "2023-02-07T13:23:04.059651Z",
     "shell.execute_reply.started": "2023-02-07T13:23:04.044637Z"
    },
    "tags": []
   },
   "outputs": [],
   "source": [
    "# Ensure correct\n",
    "\n",
    "core_config['output']['length'] = len(tpm_order[core_config['output']['group0']])\n",
    "\n",
    "if core_config['model_name'].startswith('washburn2019') :\n",
    "\tcore_config['expand_dims'] = 0"
   ]
  },
  {
   "cell_type": "markdown",
   "id": "e17b18d9-cccb-4763-8391-2567b75c3fbb",
   "metadata": {
    "tags": []
   },
   "source": [
    "## 2.2 Search Space"
   ]
  },
  {
   "cell_type": "code",
   "execution_count": 12,
   "id": "e14f73b3-6854-4fa0-a497-50d7fde4391d",
   "metadata": {
    "execution": {
     "iopub.execute_input": "2023-02-07T13:23:04.061654Z",
     "iopub.status.busy": "2023-02-07T13:23:04.060652Z",
     "iopub.status.idle": "2023-02-07T13:23:04.076668Z",
     "shell.execute_reply": "2023-02-07T13:23:04.075666Z",
     "shell.execute_reply.started": "2023-02-07T13:23:04.061654Z"
    },
    "tags": []
   },
   "outputs": [],
   "source": [
    "# Define optimizer parameters\n",
    "\n",
    "optimizer_name     = tune.choice(['adam', 'sgd'])\n",
    "optimizer_lr       = tune.loguniform(1e-5, 1e-2)\n",
    "optimizer_decay    = tune.uniform(0.0, 0.10)\n",
    "optimizer_momentum = tune.uniform(0.0, 0.99)"
   ]
  },
  {
   "cell_type": "code",
   "execution_count": 13,
   "id": "dd4332b9-3ced-4899-86a6-df0425063255",
   "metadata": {
    "execution": {
     "iopub.execute_input": "2023-02-07T13:23:04.077668Z",
     "iopub.status.busy": "2023-02-07T13:23:04.077668Z",
     "iopub.status.idle": "2023-02-07T13:23:04.091723Z",
     "shell.execute_reply": "2023-02-07T13:23:04.091723Z",
     "shell.execute_reply.started": "2023-02-07T13:23:04.077668Z"
    },
    "tags": []
   },
   "outputs": [],
   "source": [
    "# Define scheduler parameters\n",
    "\n",
    "scheduler_name             = tune.choice(['constant', 'step', 'plateau', 'linear', 'exponential'])\n",
    "scheduler_plateau_factor   = tune.uniform(0.1, 0.5)\n",
    "scheduler_plateau_patience = tune.randint(1, 20)\n",
    "scheduler_step_factor      = tune.uniform(0.1, 0.5)\n",
    "scheduler_step_patience    = tune.randint(1, 20)\n",
    "scheduler_linear_factor    = tune.uniform(1e-05, 1e-01)\n",
    "scheduler_exp_factor       = tune.uniform(0.950, 0.999)"
   ]
  },
  {
   "cell_type": "code",
   "execution_count": 14,
   "id": "a5a3581a-5246-4b79-9e8f-8357a42f5793",
   "metadata": {
    "execution": {
     "iopub.execute_input": "2023-02-07T13:23:04.092681Z",
     "iopub.status.busy": "2023-02-07T13:23:04.092681Z",
     "iopub.status.idle": "2023-02-07T13:23:04.107696Z",
     "shell.execute_reply": "2023-02-07T13:23:04.107696Z",
     "shell.execute_reply.started": "2023-02-07T13:23:04.092681Z"
    },
    "tags": []
   },
   "outputs": [],
   "source": [
    "# Define model parameters\n",
    "\n",
    "model_dropout  = tune.quniform(0.0, 0.5, 0.01)\n",
    "\n",
    "conv1_kernels  = [5, 11, 21, 31, 41]\n",
    "conv1_filters  = [32, 64, 128, 256]\n",
    "\n",
    "convx_kernels  = [5, 11, 21, 31, 41]\n",
    "convx_padding  = ['same', 'none']\n",
    "convx_filters  = [32, 64, 128, 256]\n",
    "convx_dilation = [1, 2, 4]\n",
    "\n",
    "poolx_kernels  = [3, 5, 9]\n",
    "poolx_padding  = ['same', 'none']\n",
    "\n",
    "fcx_features = [64, 128, 256, 512]\n",
    "\n",
    "if core_config['model_name'].startswith('washburn2019') :\n",
    "\tconv1_kernels = [(4, x) for x in conv1_kernels]\n",
    "\tconvx_kernels = [(1, x) for x in convx_kernels]\n",
    "\tpoolx_kernels = [(1, x) for x in poolx_kernels]"
   ]
  },
  {
   "cell_type": "code",
   "execution_count": 15,
   "id": "0a2fc685-9803-4596-8fde-d0678ed7604b",
   "metadata": {
    "execution": {
     "iopub.execute_input": "2023-02-07T13:23:04.109696Z",
     "iopub.status.busy": "2023-02-07T13:23:04.108696Z",
     "iopub.status.idle": "2023-02-07T13:23:04.123709Z",
     "shell.execute_reply": "2023-02-07T13:23:04.123709Z",
     "shell.execute_reply.started": "2023-02-07T13:23:04.109696Z"
    },
    "tags": []
   },
   "outputs": [],
   "source": [
    "# Define search space (tested with zrimec2020 and washburn2019)\n",
    "\n",
    "param_space = dict()\n",
    "\n",
    "# Dataset\n",
    "param_space['dataset/batch_size'] = tune.choice([32, 64, 128])\n",
    "\n",
    "# Optimizer\n",
    "param_space['optimizer/name']     = optimizer_name\n",
    "param_space['optimizer/lr']       = optimizer_lr\n",
    "param_space['optimizer/decay']    = optimizer_decay\n",
    "param_space['optimizer/momentum'] = optimizer_momentum\n",
    "\n",
    "# Scheduler\n",
    "param_space['scheduler/name']               = scheduler_name\n",
    "param_space['scheduler/plateau/factor']     = scheduler_plateau_factor\n",
    "param_space['scheduler/plateau/patience']   = scheduler_plateau_patience\n",
    "param_space['scheduler/linear/factor']      = scheduler_linear_factor\n",
    "param_space['scheduler/step/factor']        = scheduler_step_factor\n",
    "param_space['scheduler/step/patience']      = scheduler_step_patience\n",
    "param_space['scheduler/exponential/factor'] = scheduler_exp_factor\n",
    "\n",
    "# Model\n",
    "param_space['model/dropout'] = model_dropout\n",
    "\n",
    "# Convolution\n",
    "param_space['model/conv1/filters']  = tune.choice(conv1_filters)\n",
    "param_space['model/conv1/kernel']   = tune.choice(conv1_kernels)\n",
    "param_space['model/conv1/padding']  = 'none'\n",
    "param_space['model/conv1/dilation'] = 1\n",
    "param_space['model/conv2/filters']  = tune.choice(convx_filters)\n",
    "param_space['model/conv2/kernel']   = tune.choice(convx_kernels)\n",
    "param_space['model/conv2/padding']  = tune.choice(convx_padding)\n",
    "param_space['model/conv2/dilation'] = 1\n",
    "param_space['model/conv3/filters']  = tune.choice(convx_filters)\n",
    "param_space['model/conv3/kernel']   = tune.choice(convx_kernels)\n",
    "param_space['model/conv3/padding']  = tune.choice(convx_padding)\n",
    "param_space['model/conv3/dilation'] = 1\n",
    "\n",
    "if core_config['model_name'].startswith('washburn2019') :\n",
    "\tparam_space['model/conv4/filters']  = tune.choice(convx_filters)\n",
    "\tparam_space['model/conv4/kernel']   = tune.choice(convx_kernels)\n",
    "\tparam_space['model/conv4/padding']  = tune.choice(convx_padding)\n",
    "\tparam_space['model/conv4/dilation'] = 1\n",
    "\tparam_space['model/conv5/filters']  = tune.choice(convx_filters)\n",
    "\tparam_space['model/conv5/kernel']   = tune.choice(convx_kernels)\n",
    "\tparam_space['model/conv5/padding']  = tune.choice(convx_padding)\n",
    "\tparam_space['model/conv5/dilation'] = 1\n",
    "\tparam_space['model/conv6/filters']  = tune.choice(convx_filters)\n",
    "\tparam_space['model/conv6/kernel']   = tune.choice(convx_kernels)\n",
    "\tparam_space['model/conv6/padding']  = tune.choice(convx_padding)\n",
    "\tparam_space['model/conv6/dilation'] = 1\n",
    "\n",
    "# Pooling\n",
    "param_space['model/maxpool1/kernel']  = tune.choice(poolx_kernels)\n",
    "param_space['model/maxpool1/padding'] = 'same'\n",
    "param_space['model/maxpool2/kernel']  = tune.choice(poolx_kernels)\n",
    "param_space['model/maxpool2/padding'] = 'same'\n",
    "param_space['model/maxpool3/kernel']  = tune.choice(poolx_kernels)\n",
    "param_space['model/maxpool3/padding'] = 'same'\n",
    "\n",
    "# Linear\n",
    "param_space['model/fc1/features'] = tune.choice(fcx_features)\n",
    "param_space['model/fc2/features'] = tune.choice(fcx_features)"
   ]
  },
  {
   "cell_type": "code",
   "execution_count": 16,
   "id": "665a0c20-95b3-4acd-ba9c-801dbd8ec72e",
   "metadata": {
    "execution": {
     "iopub.execute_input": "2023-02-07T13:23:04.125711Z",
     "iopub.status.busy": "2023-02-07T13:23:04.124710Z",
     "iopub.status.idle": "2023-02-07T13:23:04.138723Z",
     "shell.execute_reply": "2023-02-07T13:23:04.138723Z",
     "shell.execute_reply.started": "2023-02-07T13:23:04.125711Z"
    },
    "tags": []
   },
   "outputs": [],
   "source": [
    "# Define starting parameters for algorithm (some decent starting point from previous runs)\n",
    "\n",
    "params_initial = None\n",
    "\n",
    "if core_config['model_name'].startswith('zrimec2020') :\n",
    "\tfilename = os.path.join(RES_TUNER, 'zrimec2020.json')\n",
    "\n",
    "\tif os.path.exists(filename) :\n",
    "\t\tparams_initial = data_loader.load_json(filename = filename)\n",
    "\n",
    "if core_config['model_name'].startswith('washburn2019') :\n",
    "\tfilename = os.path.join(RES_TUNER, 'washburn2019.json')\n",
    "\n",
    "\tif os.path.exists(filename) :\n",
    "\t\tparams_initial = data_loader.load_json(filename = filename)"
   ]
  },
  {
   "cell_type": "markdown",
   "id": "08b64877-eb4c-4147-9c5f-d9ed43be320a",
   "metadata": {},
   "source": [
    "## 2.3 Tuning"
   ]
  },
  {
   "cell_type": "code",
   "execution_count": 17,
   "id": "93eec23b-6fd7-4023-9187-c18f9e5f273f",
   "metadata": {
    "execution": {
     "iopub.execute_input": "2023-02-07T13:23:04.140725Z",
     "iopub.status.busy": "2023-02-07T13:23:04.139724Z",
     "iopub.status.idle": "2023-02-07T13:23:04.154737Z",
     "shell.execute_reply": "2023-02-07T13:23:04.154737Z",
     "shell.execute_reply.started": "2023-02-07T13:23:04.140725Z"
    },
    "tags": []
   },
   "outputs": [],
   "source": [
    "# Create a tune method\n",
    "\n",
    "tune_method = tune.with_resources(\n",
    "\tlambda x : cnn_raytune.tune_method(\n",
    "\t\ttune_config = x,\n",
    "\t\tcore_config = core_config\n",
    "\t),\n",
    "\t{\n",
    "\t\t'cpu' : max(1, SYSTEM['cpu_count'] // 2),\n",
    "\t\t'gpu' : max(0, SYSTEM['cuda_devices'])\n",
    "\t}\n",
    ")"
   ]
  },
  {
   "cell_type": "code",
   "execution_count": 18,
   "id": "6b5989e9-3e4f-4589-9837-7e3bdeeac746",
   "metadata": {
    "execution": {
     "iopub.execute_input": "2023-02-07T13:23:04.155738Z",
     "iopub.status.busy": "2023-02-07T13:23:04.155738Z",
     "iopub.status.idle": "2023-02-07T13:23:04.170752Z",
     "shell.execute_reply": "2023-02-07T13:23:04.170752Z",
     "shell.execute_reply.started": "2023-02-07T13:23:04.155738Z"
    },
    "tags": []
   },
   "outputs": [],
   "source": [
    "# Create tune config\n",
    "\n",
    "tune_searcher = HyperOptSearch(\n",
    "\tpoints_to_evaluate = params_initial,\n",
    "\tmetric             = 'valid_loss',\n",
    "\tmode               = 'min'\n",
    ")\n",
    "\n",
    "tune_searcher = ConcurrencyLimiter(\n",
    "\ttune_searcher,\n",
    "\tmax_concurrent = 1\n",
    ")\n",
    "\n",
    "tune_scheduler = ASHAScheduler(\n",
    "\ttime_attr        = 'training_iteration',\n",
    "\tmax_t            = 100,\n",
    "\tgrace_period     = 2,\n",
    "\treduction_factor = 4,\n",
    "\tbrackets         = 1\n",
    ")\n",
    "\n",
    "tune_config = TuneConfig(\n",
    "\tmetric      = 'valid_loss',\n",
    "\tmode        = 'min',\n",
    "\tnum_samples = core_config['samples'],\n",
    "\tsearch_alg  = tune_searcher,\n",
    "\tscheduler   = tune_scheduler,\n",
    "\ttrial_name_creator    = lambda x : str(x.trial_id),\n",
    "\ttrial_dirname_creator = lambda x : str(x.trial_id)\n",
    ")"
   ]
  },
  {
   "cell_type": "code",
   "execution_count": 19,
   "id": "a4d6c612-49a0-4b61-955a-27a1d86982fa",
   "metadata": {
    "execution": {
     "iopub.execute_input": "2023-02-07T13:23:04.171753Z",
     "iopub.status.busy": "2023-02-07T13:23:04.171753Z",
     "iopub.status.idle": "2023-02-07T13:23:04.186768Z",
     "shell.execute_reply": "2023-02-07T13:23:04.186768Z",
     "shell.execute_reply.started": "2023-02-07T13:23:04.171753Z"
    },
    "tags": []
   },
   "outputs": [
    {
     "data": {
      "text/html": [
       "<div class=\"tuneStatus\">\n",
       "  <div style=\"display: flex;flex-direction: row\">\n",
       "    <div style=\"display: flex;flex-direction: column;\">\n",
       "      <h3>Tune Status</h3>\n",
       "      <table>\n",
       "<tbody>\n",
       "<tr><td>Current time:</td><td>2023-02-07 14:26:10</td></tr>\n",
       "<tr><td>Running for: </td><td>01:03:02.89        </td></tr>\n",
       "<tr><td>Memory:      </td><td>14.7/31.9 GiB      </td></tr>\n",
       "</tbody>\n",
       "</table>\n",
       "    </div>\n",
       "    <div class=\"vDivider\"></div>\n",
       "    <div class=\"systemInfo\">\n",
       "      <h3>System Info</h3>\n",
       "      Using AsyncHyperBand: num_stopped=19<br>Bracket: Iter 32.000: None | Iter 8.000: -0.5744047039262536 | Iter 2.000: -0.7921811626340348<br>Resources requested: 0/12 CPUs, 0/1 GPUs, 0.0/14.04 GiB heap, 0.0/7.02 GiB objects\n",
       "    </div>\n",
       "    \n",
       "  </div>\n",
       "  <div class=\"hDivider\"></div>\n",
       "  <div class=\"trialStatus\">\n",
       "    <h3>Trial Status</h3>\n",
       "    <table>\n",
       "<thead>\n",
       "<tr><th>Trial name  </th><th>status    </th><th>loc            </th><th style=\"text-align: right;\">  dataset/batch_size</th><th>optimizer/name  </th><th style=\"text-align: right;\">  optimizer/lr</th><th>scheduler/name  </th><th style=\"text-align: right;\">  valid_loss</th><th style=\"text-align: right;\">  valid_r2</th><th style=\"text-align: right;\">  train_loss</th></tr>\n",
       "</thead>\n",
       "<tbody>\n",
       "<tr><td>48ddf8e9    </td><td>TERMINATED</td><td>127.0.0.1:6480 </td><td style=\"text-align: right;\">                  32</td><td>adam            </td><td style=\"text-align: right;\">   3.26265e-05</td><td>constant        </td><td style=\"text-align: right;\">    0.563476</td><td style=\"text-align: right;\"> 0.0761195</td><td style=\"text-align: right;\">    0.483084</td></tr>\n",
       "<tr><td>15aa29d1    </td><td>TERMINATED</td><td>127.0.0.1:7940 </td><td style=\"text-align: right;\">                  32</td><td>adam            </td><td style=\"text-align: right;\">   0.0001     </td><td>plateau         </td><td style=\"text-align: right;\">    0.645471</td><td style=\"text-align: right;\">-0.06217  </td><td style=\"text-align: right;\">    0.619885</td></tr>\n",
       "<tr><td>2c8df8cf    </td><td>TERMINATED</td><td>127.0.0.1:15116</td><td style=\"text-align: right;\">                 128</td><td>adam            </td><td style=\"text-align: right;\">   3.34092e-05</td><td>linear          </td><td style=\"text-align: right;\">    1.55592 </td><td style=\"text-align: right;\">-1.50184  </td><td style=\"text-align: right;\">    1.87228 </td></tr>\n",
       "<tr><td>b9685ad0    </td><td>TERMINATED</td><td>127.0.0.1:2096 </td><td style=\"text-align: right;\">                 128</td><td>sgd             </td><td style=\"text-align: right;\">   0.00415221 </td><td>plateau         </td><td style=\"text-align: right;\">    0.606176</td><td style=\"text-align: right;\"> 0.0323198</td><td style=\"text-align: right;\">    0.478852</td></tr>\n",
       "<tr><td>9317bf26    </td><td>TERMINATED</td><td>127.0.0.1:13724</td><td style=\"text-align: right;\">                  32</td><td>adam            </td><td style=\"text-align: right;\">   0.00582206 </td><td>exponential     </td><td style=\"text-align: right;\">    0.831764</td><td style=\"text-align: right;\">-0.369879 </td><td style=\"text-align: right;\">    0.671845</td></tr>\n",
       "<tr><td>c6965eb7    </td><td>TERMINATED</td><td>127.0.0.1:13420</td><td style=\"text-align: right;\">                  32</td><td>adam            </td><td style=\"text-align: right;\">   1.08266e-05</td><td>linear          </td><td style=\"text-align: right;\">    0.980404</td><td style=\"text-align: right;\">-0.638583 </td><td style=\"text-align: right;\">    1.13134 </td></tr>\n",
       "<tr><td>7334b873    </td><td>TERMINATED</td><td>127.0.0.1:11196</td><td style=\"text-align: right;\">                  32</td><td>adam            </td><td style=\"text-align: right;\">   0.00182659 </td><td>linear          </td><td style=\"text-align: right;\">    0.673432</td><td style=\"text-align: right;\">-0.109479 </td><td style=\"text-align: right;\">    0.953269</td></tr>\n",
       "<tr><td>a32dee31    </td><td>TERMINATED</td><td>127.0.0.1:14456</td><td style=\"text-align: right;\">                  32</td><td>sgd             </td><td style=\"text-align: right;\">   1.50092e-05</td><td>plateau         </td><td style=\"text-align: right;\">    2.76193 </td><td style=\"text-align: right;\">-3.62883  </td><td style=\"text-align: right;\">    2.85574 </td></tr>\n",
       "<tr><td>b704ec19    </td><td>TERMINATED</td><td>127.0.0.1:1904 </td><td style=\"text-align: right;\">                  32</td><td>sgd             </td><td style=\"text-align: right;\">   0.00022368 </td><td>plateau         </td><td style=\"text-align: right;\">    2.41466 </td><td style=\"text-align: right;\">-3.0499   </td><td style=\"text-align: right;\">    2.3995  </td></tr>\n",
       "<tr><td>aff5f6b2    </td><td>TERMINATED</td><td>127.0.0.1:8204 </td><td style=\"text-align: right;\">                  32</td><td>sgd             </td><td style=\"text-align: right;\">   0.00194782 </td><td>plateau         </td><td style=\"text-align: right;\">    0.663151</td><td style=\"text-align: right;\">-0.0895791</td><td style=\"text-align: right;\">    0.592846</td></tr>\n",
       "<tr><td>cea0879c    </td><td>TERMINATED</td><td>127.0.0.1:12432</td><td style=\"text-align: right;\">                  32</td><td>adam            </td><td style=\"text-align: right;\">   0.000799799</td><td>exponential     </td><td style=\"text-align: right;\">    0.88943 </td><td style=\"text-align: right;\">-0.467772 </td><td style=\"text-align: right;\">    0.705043</td></tr>\n",
       "<tr><td>51c3cecb    </td><td>TERMINATED</td><td>127.0.0.1:12236</td><td style=\"text-align: right;\">                  32</td><td>sgd             </td><td style=\"text-align: right;\">   0.000388963</td><td>exponential     </td><td style=\"text-align: right;\">    2.38067 </td><td style=\"text-align: right;\">-2.98662  </td><td style=\"text-align: right;\">    2.5727  </td></tr>\n",
       "<tr><td>9990f1e1    </td><td>TERMINATED</td><td>127.0.0.1:16232</td><td style=\"text-align: right;\">                  32</td><td>sgd             </td><td style=\"text-align: right;\">   0.00311298 </td><td>constant        </td><td style=\"text-align: right;\">    1.20895 </td><td style=\"text-align: right;\">-1.00147  </td><td style=\"text-align: right;\">    0.771573</td></tr>\n",
       "<tr><td>06f1d53c    </td><td>TERMINATED</td><td>127.0.0.1:13652</td><td style=\"text-align: right;\">                 128</td><td>adam            </td><td style=\"text-align: right;\">   0.00475293 </td><td>constant        </td><td style=\"text-align: right;\">    1.25971 </td><td style=\"text-align: right;\">-1.01806  </td><td style=\"text-align: right;\">    0.877809</td></tr>\n",
       "<tr><td>0a61ff01    </td><td>TERMINATED</td><td>127.0.0.1:1796 </td><td style=\"text-align: right;\">                 128</td><td>adam            </td><td style=\"text-align: right;\">   0.00013043 </td><td>step            </td><td style=\"text-align: right;\">    1.7253  </td><td style=\"text-align: right;\">-1.77504  </td><td style=\"text-align: right;\">    1.46063 </td></tr>\n",
       "<tr><td>cb9130a6    </td><td>TERMINATED</td><td>127.0.0.1:4560 </td><td style=\"text-align: right;\">                 128</td><td>sgd             </td><td style=\"text-align: right;\">   0.000224789</td><td>step            </td><td style=\"text-align: right;\">    2.50327 </td><td style=\"text-align: right;\">-3.01392  </td><td style=\"text-align: right;\">    2.50642 </td></tr>\n",
       "<tr><td>23ca4b9e    </td><td>TERMINATED</td><td>127.0.0.1:15376</td><td style=\"text-align: right;\">                  32</td><td>sgd             </td><td style=\"text-align: right;\">   0.000881374</td><td>linear          </td><td style=\"text-align: right;\">    2.73558 </td><td style=\"text-align: right;\">-3.61721  </td><td style=\"text-align: right;\">    2.7712  </td></tr>\n",
       "<tr><td>067d484a    </td><td>TERMINATED</td><td>127.0.0.1:15972</td><td style=\"text-align: right;\">                  64</td><td>adam            </td><td style=\"text-align: right;\">   2.45972e-05</td><td>exponential     </td><td style=\"text-align: right;\">    1.20382 </td><td style=\"text-align: right;\">-0.949181 </td><td style=\"text-align: right;\">    0.901078</td></tr>\n",
       "<tr><td>795300bc    </td><td>TERMINATED</td><td>127.0.0.1:2012 </td><td style=\"text-align: right;\">                  64</td><td>adam            </td><td style=\"text-align: right;\">   0.000163505</td><td>linear          </td><td style=\"text-align: right;\">    1.29155 </td><td style=\"text-align: right;\">-1.10672  </td><td style=\"text-align: right;\">    0.670428</td></tr>\n",
       "<tr><td>3fbd398f    </td><td>TERMINATED</td><td>127.0.0.1:2088 </td><td style=\"text-align: right;\">                  32</td><td>sgd             </td><td style=\"text-align: right;\">   2.28913e-05</td><td>step            </td><td style=\"text-align: right;\">    1.40829 </td><td style=\"text-align: right;\">-1.34779  </td><td style=\"text-align: right;\">    1.09745 </td></tr>\n",
       "</tbody>\n",
       "</table>\n",
       "  </div>\n",
       "</div>\n",
       "<style>\n",
       ".tuneStatus {\n",
       "  color: var(--jp-ui-font-color1);\n",
       "}\n",
       ".tuneStatus .systemInfo {\n",
       "  display: flex;\n",
       "  flex-direction: column;\n",
       "}\n",
       ".tuneStatus td {\n",
       "  white-space: nowrap;\n",
       "}\n",
       ".tuneStatus .trialStatus {\n",
       "  display: flex;\n",
       "  flex-direction: column;\n",
       "}\n",
       ".tuneStatus h3 {\n",
       "  font-weight: bold;\n",
       "}\n",
       ".tuneStatus .hDivider {\n",
       "  border-bottom-width: var(--jp-border-width);\n",
       "  border-bottom-color: var(--jp-border-color0);\n",
       "  border-bottom-style: solid;\n",
       "}\n",
       ".tuneStatus .vDivider {\n",
       "  border-left-width: var(--jp-border-width);\n",
       "  border-left-color: var(--jp-border-color0);\n",
       "  border-left-style: solid;\n",
       "  margin: 0.5em 1em 0.5em 1em;\n",
       "}\n",
       "</style>\n"
      ],
      "text/plain": [
       "<IPython.core.display.HTML object>"
      ]
     },
     "metadata": {},
     "output_type": "display_data"
    }
   ],
   "source": [
    "# Create tune run config\n",
    "\n",
    "VERBOSE_SILENT = 0\n",
    "VERBOSE_STATUS = 1\n",
    "VERBOSE_BRIEF  = 2\n",
    "VERBOSE_DETAIL = 3\n",
    "\n",
    "reporter = None\n",
    "\n",
    "if core_config['notebook'] :\n",
    "\treporter = JupyterNotebookReporter(\n",
    "\t\tmax_column_length = 32,\n",
    "\t\tmax_progress_rows = 20,\n",
    "\t\tparameter_columns = ['dataset/batch_size', 'optimizer/name', 'optimizer/lr', 'scheduler/name'],\n",
    "\t\tmetric_columns    = ['valid_loss', 'valid_r2', 'train_loss']\n",
    "\t)\n",
    "\n",
    "failure = FailureConfig(\n",
    "\tmax_failures = 0\n",
    ")\n",
    "\n",
    "checkpoint = CheckpointConfig(\n",
    "\tnum_to_keep = None\n",
    ")\n",
    "\n",
    "run_config = RunConfig(\n",
    "\tname              = 'raytune',\n",
    "\tlocal_dir         = OUT_DATA,\n",
    "\tcallbacks         = None,\n",
    "\tlog_to_file       = True,\n",
    "\tverbose           = VERBOSE_STATUS,\n",
    "\tfailure_config    = failure,\n",
    "\tcheckpoint_config = checkpoint,\n",
    "\tprogress_reporter = reporter\n",
    ")"
   ]
  },
  {
   "cell_type": "code",
   "execution_count": 20,
   "id": "844676ae-777a-46ab-9302-89085342b326",
   "metadata": {
    "execution": {
     "iopub.execute_input": "2023-02-07T13:23:04.187768Z",
     "iopub.status.busy": "2023-02-07T13:23:04.187768Z",
     "iopub.status.idle": "2023-02-07T14:26:10.885849Z",
     "shell.execute_reply": "2023-02-07T14:26:10.884849Z",
     "shell.execute_reply.started": "2023-02-07T13:23:04.187768Z"
    },
    "tags": []
   },
   "outputs": [
    {
     "name": "stderr",
     "output_type": "stream",
     "text": [
      "2023-02-07 13:23:05,967\tINFO worker.py:1538 -- Started a local Ray instance.\n",
      "2023-02-07 14:26:10,732\tINFO tune.py:762 -- Total run time: 3783.36 seconds (3782.88 seconds for the tuning loop).\n"
     ]
    }
   ],
   "source": [
    "# Create tune and fit\n",
    "\n",
    "tuner = Tuner(\n",
    "\ttrainable   = tune_method,\n",
    "\ttune_config = tune_config,\n",
    "\trun_config  = run_config,\n",
    "\tparam_space = param_space\n",
    ")\n",
    "\n",
    "report = tuner.fit()"
   ]
  },
  {
   "cell_type": "markdown",
   "id": "2940fc14-d848-4018-a8d2-96ec719a8652",
   "metadata": {},
   "source": [
    "## 2.4 Reports"
   ]
  },
  {
   "cell_type": "code",
   "execution_count": 21,
   "id": "468b6865-7e33-4372-a7b9-09d26beb098e",
   "metadata": {
    "execution": {
     "iopub.execute_input": "2023-02-07T14:26:10.886851Z",
     "iopub.status.busy": "2023-02-07T14:26:10.886851Z",
     "iopub.status.idle": "2023-02-07T14:26:10.900863Z",
     "shell.execute_reply": "2023-02-07T14:26:10.899862Z",
     "shell.execute_reply.started": "2023-02-07T14:26:10.886851Z"
    },
    "tags": []
   },
   "outputs": [
    {
     "name": "stdout",
     "output_type": "stream",
     "text": [
      "No errors.\n"
     ]
    }
   ],
   "source": [
    "# Check if there have been errors\n",
    "\n",
    "if report.errors :\n",
    "\tprint('At least one of the trials has failed.')\n",
    "else :\n",
    "\tprint('No errors.')"
   ]
  },
  {
   "cell_type": "code",
   "execution_count": 22,
   "id": "048991f8-bf5d-47f2-b870-7365789f042c",
   "metadata": {
    "execution": {
     "iopub.execute_input": "2023-02-07T14:26:10.903867Z",
     "iopub.status.busy": "2023-02-07T14:26:10.903867Z",
     "iopub.status.idle": "2023-02-07T14:26:10.991758Z",
     "shell.execute_reply": "2023-02-07T14:26:10.990756Z",
     "shell.execute_reply.started": "2023-02-07T14:26:10.903867Z"
    },
    "tags": []
   },
   "outputs": [
    {
     "name": "stdout",
     "output_type": "stream",
     "text": [
      "valid_loss                               valid_r2                                 valid_mae                                \n",
      "train_loss                               lr                                       time_this_iter_s                         \n",
      "done                                     timesteps_total                          episodes_total                           \n",
      "training_iteration                       trial_id                                 experiment_id                            \n",
      "date                                     timestamp                                time_total_s                             \n",
      "pid                                      hostname                                 node_ip                                  \n",
      "time_since_restore                       timesteps_since_restore                  iterations_since_restore                 \n",
      "warmup_time                              config/dataset/batch_size                config/model/conv1/dilation              \n",
      "config/model/conv1/filters               config/model/conv1/kernel                config/model/conv1/padding               \n",
      "config/model/conv2/dilation              config/model/conv2/filters               config/model/conv2/kernel                \n",
      "config/model/conv2/padding               config/model/conv3/dilation              config/model/conv3/filters               \n",
      "config/model/conv3/kernel                config/model/conv3/padding               config/model/dropout                     \n",
      "config/model/fc1/features                config/model/fc2/features                config/model/maxpool1/kernel             \n",
      "config/model/maxpool1/padding            config/model/maxpool2/kernel             config/model/maxpool2/padding            \n",
      "config/model/maxpool3/kernel             config/model/maxpool3/padding            config/optimizer/decay                   \n",
      "config/optimizer/lr                      config/optimizer/momentum                config/optimizer/name                    \n",
      "config/scheduler/exponential/factor      config/scheduler/linear/factor           config/scheduler/name                    \n",
      "config/scheduler/plateau/factor          config/scheduler/plateau/patience        config/scheduler/step/factor             \n",
      "config/scheduler/step/patience           logdir                                   "
     ]
    }
   ],
   "source": [
    "# Print possible columns\n",
    "\n",
    "for index, column in enumerate(report.get_dataframe().columns, start = 1) :\n",
    "\tprint('{:<40s}'.format(column), end = ' ')\n",
    "\n",
    "\tif index % 3 == 0 :\n",
    "\t\tprint()"
   ]
  },
  {
   "cell_type": "code",
   "execution_count": 23,
   "id": "60cedfc3-65d4-4870-8093-0c5bb784fdf8",
   "metadata": {
    "execution": {
     "iopub.execute_input": "2023-02-07T14:26:10.992758Z",
     "iopub.status.busy": "2023-02-07T14:26:10.991758Z",
     "iopub.status.idle": "2023-02-07T14:26:11.020784Z",
     "shell.execute_reply": "2023-02-07T14:26:11.019783Z",
     "shell.execute_reply.started": "2023-02-07T14:26:10.992758Z"
    },
    "tags": []
   },
   "outputs": [
    {
     "name": "stdout",
     "output_type": "stream",
     "text": [
      "Shortest training time :      1.1 minutes\n",
      " Longest training time :      8.4 minutes\n",
      "   Total training time :     61.5 minutes\n",
      "    Mean training time :      3.1 minutes\n",
      "\n"
     ]
    },
    {
     "data": {
      "text/html": [
       "<div>\n",
       "<style scoped>\n",
       "    .dataframe tbody tr th:only-of-type {\n",
       "        vertical-align: middle;\n",
       "    }\n",
       "\n",
       "    .dataframe tbody tr th {\n",
       "        vertical-align: top;\n",
       "    }\n",
       "\n",
       "    .dataframe thead th {\n",
       "        text-align: right;\n",
       "    }\n",
       "</style>\n",
       "<table border=\"1\" class=\"dataframe\">\n",
       "  <thead>\n",
       "    <tr style=\"text-align: right;\">\n",
       "      <th></th>\n",
       "      <th>trial_id</th>\n",
       "      <th>logdir</th>\n",
       "      <th>time_total_s</th>\n",
       "      <th>training_iteration</th>\n",
       "      <th>valid_loss</th>\n",
       "      <th>valid_r2</th>\n",
       "      <th>valid_mae</th>\n",
       "      <th>train_loss</th>\n",
       "    </tr>\n",
       "  </thead>\n",
       "  <tbody>\n",
       "    <tr>\n",
       "      <th>0</th>\n",
       "      <td>48ddf8e9</td>\n",
       "      <td>C:\\Developer\\Workspace\\PyCharm\\Projects\\upolan...</td>\n",
       "      <td>348.231</td>\n",
       "      <td>10</td>\n",
       "      <td>0.563</td>\n",
       "      <td>0.076</td>\n",
       "      <td>0.622</td>\n",
       "      <td>0.483</td>\n",
       "    </tr>\n",
       "    <tr>\n",
       "      <th>3</th>\n",
       "      <td>b9685ad0</td>\n",
       "      <td>C:\\Developer\\Workspace\\PyCharm\\Projects\\upolan...</td>\n",
       "      <td>374.274</td>\n",
       "      <td>8</td>\n",
       "      <td>0.606</td>\n",
       "      <td>0.032</td>\n",
       "      <td>0.638</td>\n",
       "      <td>0.479</td>\n",
       "    </tr>\n",
       "    <tr>\n",
       "      <th>1</th>\n",
       "      <td>15aa29d1</td>\n",
       "      <td>C:\\Developer\\Workspace\\PyCharm\\Projects\\upolan...</td>\n",
       "      <td>314.549</td>\n",
       "      <td>2</td>\n",
       "      <td>0.645</td>\n",
       "      <td>-0.062</td>\n",
       "      <td>0.663</td>\n",
       "      <td>0.620</td>\n",
       "    </tr>\n",
       "    <tr>\n",
       "      <th>9</th>\n",
       "      <td>aff5f6b2</td>\n",
       "      <td>C:\\Developer\\Workspace\\PyCharm\\Projects\\upolan...</td>\n",
       "      <td>107.051</td>\n",
       "      <td>2</td>\n",
       "      <td>0.663</td>\n",
       "      <td>-0.090</td>\n",
       "      <td>0.668</td>\n",
       "      <td>0.593</td>\n",
       "    </tr>\n",
       "    <tr>\n",
       "      <th>6</th>\n",
       "      <td>7334b873</td>\n",
       "      <td>C:\\Developer\\Workspace\\PyCharm\\Projects\\upolan...</td>\n",
       "      <td>113.496</td>\n",
       "      <td>2</td>\n",
       "      <td>0.673</td>\n",
       "      <td>-0.109</td>\n",
       "      <td>0.678</td>\n",
       "      <td>0.953</td>\n",
       "    </tr>\n",
       "    <tr>\n",
       "      <th>4</th>\n",
       "      <td>9317bf26</td>\n",
       "      <td>C:\\Developer\\Workspace\\PyCharm\\Projects\\upolan...</td>\n",
       "      <td>126.220</td>\n",
       "      <td>2</td>\n",
       "      <td>0.832</td>\n",
       "      <td>-0.370</td>\n",
       "      <td>0.746</td>\n",
       "      <td>0.672</td>\n",
       "    </tr>\n",
       "    <tr>\n",
       "      <th>10</th>\n",
       "      <td>cea0879c</td>\n",
       "      <td>C:\\Developer\\Workspace\\PyCharm\\Projects\\upolan...</td>\n",
       "      <td>251.509</td>\n",
       "      <td>2</td>\n",
       "      <td>0.889</td>\n",
       "      <td>-0.468</td>\n",
       "      <td>0.766</td>\n",
       "      <td>0.705</td>\n",
       "    </tr>\n",
       "    <tr>\n",
       "      <th>5</th>\n",
       "      <td>c6965eb7</td>\n",
       "      <td>C:\\Developer\\Workspace\\PyCharm\\Projects\\upolan...</td>\n",
       "      <td>163.878</td>\n",
       "      <td>2</td>\n",
       "      <td>0.980</td>\n",
       "      <td>-0.639</td>\n",
       "      <td>0.804</td>\n",
       "      <td>1.131</td>\n",
       "    </tr>\n",
       "    <tr>\n",
       "      <th>17</th>\n",
       "      <td>067d484a</td>\n",
       "      <td>C:\\Developer\\Workspace\\PyCharm\\Projects\\upolan...</td>\n",
       "      <td>162.785</td>\n",
       "      <td>2</td>\n",
       "      <td>1.204</td>\n",
       "      <td>-0.949</td>\n",
       "      <td>0.890</td>\n",
       "      <td>0.901</td>\n",
       "    </tr>\n",
       "    <tr>\n",
       "      <th>12</th>\n",
       "      <td>9990f1e1</td>\n",
       "      <td>C:\\Developer\\Workspace\\PyCharm\\Projects\\upolan...</td>\n",
       "      <td>106.047</td>\n",
       "      <td>2</td>\n",
       "      <td>1.209</td>\n",
       "      <td>-1.001</td>\n",
       "      <td>0.891</td>\n",
       "      <td>0.772</td>\n",
       "    </tr>\n",
       "    <tr>\n",
       "      <th>13</th>\n",
       "      <td>06f1d53c</td>\n",
       "      <td>C:\\Developer\\Workspace\\PyCharm\\Projects\\upolan...</td>\n",
       "      <td>66.997</td>\n",
       "      <td>2</td>\n",
       "      <td>1.260</td>\n",
       "      <td>-1.018</td>\n",
       "      <td>0.909</td>\n",
       "      <td>0.878</td>\n",
       "    </tr>\n",
       "    <tr>\n",
       "      <th>18</th>\n",
       "      <td>795300bc</td>\n",
       "      <td>C:\\Developer\\Workspace\\PyCharm\\Projects\\upolan...</td>\n",
       "      <td>109.921</td>\n",
       "      <td>2</td>\n",
       "      <td>1.292</td>\n",
       "      <td>-1.107</td>\n",
       "      <td>0.927</td>\n",
       "      <td>0.670</td>\n",
       "    </tr>\n",
       "    <tr>\n",
       "      <th>19</th>\n",
       "      <td>3fbd398f</td>\n",
       "      <td>C:\\Developer\\Workspace\\PyCharm\\Projects\\upolan...</td>\n",
       "      <td>234.725</td>\n",
       "      <td>2</td>\n",
       "      <td>1.408</td>\n",
       "      <td>-1.348</td>\n",
       "      <td>0.968</td>\n",
       "      <td>1.097</td>\n",
       "    </tr>\n",
       "    <tr>\n",
       "      <th>2</th>\n",
       "      <td>2c8df8cf</td>\n",
       "      <td>C:\\Developer\\Workspace\\PyCharm\\Projects\\upolan...</td>\n",
       "      <td>128.473</td>\n",
       "      <td>2</td>\n",
       "      <td>1.556</td>\n",
       "      <td>-1.502</td>\n",
       "      <td>1.021</td>\n",
       "      <td>1.872</td>\n",
       "    </tr>\n",
       "    <tr>\n",
       "      <th>14</th>\n",
       "      <td>0a61ff01</td>\n",
       "      <td>C:\\Developer\\Workspace\\PyCharm\\Projects\\upolan...</td>\n",
       "      <td>101.102</td>\n",
       "      <td>2</td>\n",
       "      <td>1.725</td>\n",
       "      <td>-1.775</td>\n",
       "      <td>1.083</td>\n",
       "      <td>1.461</td>\n",
       "    </tr>\n",
       "    <tr>\n",
       "      <th>11</th>\n",
       "      <td>51c3cecb</td>\n",
       "      <td>C:\\Developer\\Workspace\\PyCharm\\Projects\\upolan...</td>\n",
       "      <td>504.371</td>\n",
       "      <td>2</td>\n",
       "      <td>2.381</td>\n",
       "      <td>-2.987</td>\n",
       "      <td>1.323</td>\n",
       "      <td>2.573</td>\n",
       "    </tr>\n",
       "    <tr>\n",
       "      <th>8</th>\n",
       "      <td>b704ec19</td>\n",
       "      <td>C:\\Developer\\Workspace\\PyCharm\\Projects\\upolan...</td>\n",
       "      <td>128.288</td>\n",
       "      <td>2</td>\n",
       "      <td>2.415</td>\n",
       "      <td>-3.050</td>\n",
       "      <td>1.330</td>\n",
       "      <td>2.400</td>\n",
       "    </tr>\n",
       "    <tr>\n",
       "      <th>15</th>\n",
       "      <td>cb9130a6</td>\n",
       "      <td>C:\\Developer\\Workspace\\PyCharm\\Projects\\upolan...</td>\n",
       "      <td>74.572</td>\n",
       "      <td>2</td>\n",
       "      <td>2.503</td>\n",
       "      <td>-3.014</td>\n",
       "      <td>1.362</td>\n",
       "      <td>2.506</td>\n",
       "    </tr>\n",
       "    <tr>\n",
       "      <th>16</th>\n",
       "      <td>23ca4b9e</td>\n",
       "      <td>C:\\Developer\\Workspace\\PyCharm\\Projects\\upolan...</td>\n",
       "      <td>159.250</td>\n",
       "      <td>2</td>\n",
       "      <td>2.736</td>\n",
       "      <td>-3.617</td>\n",
       "      <td>1.446</td>\n",
       "      <td>2.771</td>\n",
       "    </tr>\n",
       "    <tr>\n",
       "      <th>7</th>\n",
       "      <td>a32dee31</td>\n",
       "      <td>C:\\Developer\\Workspace\\PyCharm\\Projects\\upolan...</td>\n",
       "      <td>113.835</td>\n",
       "      <td>2</td>\n",
       "      <td>2.762</td>\n",
       "      <td>-3.629</td>\n",
       "      <td>1.455</td>\n",
       "      <td>2.856</td>\n",
       "    </tr>\n",
       "  </tbody>\n",
       "</table>\n",
       "</div>"
      ],
      "text/plain": [
       "    trial_id                                             logdir  time_total_s  \\\n",
       "0   48ddf8e9  C:\\Developer\\Workspace\\PyCharm\\Projects\\upolan...       348.231   \n",
       "3   b9685ad0  C:\\Developer\\Workspace\\PyCharm\\Projects\\upolan...       374.274   \n",
       "1   15aa29d1  C:\\Developer\\Workspace\\PyCharm\\Projects\\upolan...       314.549   \n",
       "9   aff5f6b2  C:\\Developer\\Workspace\\PyCharm\\Projects\\upolan...       107.051   \n",
       "6   7334b873  C:\\Developer\\Workspace\\PyCharm\\Projects\\upolan...       113.496   \n",
       "4   9317bf26  C:\\Developer\\Workspace\\PyCharm\\Projects\\upolan...       126.220   \n",
       "10  cea0879c  C:\\Developer\\Workspace\\PyCharm\\Projects\\upolan...       251.509   \n",
       "5   c6965eb7  C:\\Developer\\Workspace\\PyCharm\\Projects\\upolan...       163.878   \n",
       "17  067d484a  C:\\Developer\\Workspace\\PyCharm\\Projects\\upolan...       162.785   \n",
       "12  9990f1e1  C:\\Developer\\Workspace\\PyCharm\\Projects\\upolan...       106.047   \n",
       "13  06f1d53c  C:\\Developer\\Workspace\\PyCharm\\Projects\\upolan...        66.997   \n",
       "18  795300bc  C:\\Developer\\Workspace\\PyCharm\\Projects\\upolan...       109.921   \n",
       "19  3fbd398f  C:\\Developer\\Workspace\\PyCharm\\Projects\\upolan...       234.725   \n",
       "2   2c8df8cf  C:\\Developer\\Workspace\\PyCharm\\Projects\\upolan...       128.473   \n",
       "14  0a61ff01  C:\\Developer\\Workspace\\PyCharm\\Projects\\upolan...       101.102   \n",
       "11  51c3cecb  C:\\Developer\\Workspace\\PyCharm\\Projects\\upolan...       504.371   \n",
       "8   b704ec19  C:\\Developer\\Workspace\\PyCharm\\Projects\\upolan...       128.288   \n",
       "15  cb9130a6  C:\\Developer\\Workspace\\PyCharm\\Projects\\upolan...        74.572   \n",
       "16  23ca4b9e  C:\\Developer\\Workspace\\PyCharm\\Projects\\upolan...       159.250   \n",
       "7   a32dee31  C:\\Developer\\Workspace\\PyCharm\\Projects\\upolan...       113.835   \n",
       "\n",
       "    training_iteration  valid_loss  valid_r2  valid_mae  train_loss  \n",
       "0                   10       0.563     0.076      0.622       0.483  \n",
       "3                    8       0.606     0.032      0.638       0.479  \n",
       "1                    2       0.645    -0.062      0.663       0.620  \n",
       "9                    2       0.663    -0.090      0.668       0.593  \n",
       "6                    2       0.673    -0.109      0.678       0.953  \n",
       "4                    2       0.832    -0.370      0.746       0.672  \n",
       "10                   2       0.889    -0.468      0.766       0.705  \n",
       "5                    2       0.980    -0.639      0.804       1.131  \n",
       "17                   2       1.204    -0.949      0.890       0.901  \n",
       "12                   2       1.209    -1.001      0.891       0.772  \n",
       "13                   2       1.260    -1.018      0.909       0.878  \n",
       "18                   2       1.292    -1.107      0.927       0.670  \n",
       "19                   2       1.408    -1.348      0.968       1.097  \n",
       "2                    2       1.556    -1.502      1.021       1.872  \n",
       "14                   2       1.725    -1.775      1.083       1.461  \n",
       "11                   2       2.381    -2.987      1.323       2.573  \n",
       "8                    2       2.415    -3.050      1.330       2.400  \n",
       "15                   2       2.503    -3.014      1.362       2.506  \n",
       "16                   2       2.736    -3.617      1.446       2.771  \n",
       "7                    2       2.762    -3.629      1.455       2.856  "
      ]
     },
     "execution_count": 23,
     "metadata": {},
     "output_type": "execute_result"
    }
   ],
   "source": [
    "# Print the results as dataframe\n",
    "\n",
    "dataframe = report.get_dataframe()\n",
    "\n",
    "print('Shortest training time : {:8,.1f} minutes'.format(dataframe['time_total_s'].min()  / 60.0))\n",
    "print(' Longest training time : {:8,.1f} minutes'.format(dataframe['time_total_s'].max()  / 60.0))\n",
    "print('   Total training time : {:8,.1f} minutes'.format(dataframe['time_total_s'].sum()  / 60.0))\n",
    "print('    Mean training time : {:8,.1f} minutes'.format(dataframe['time_total_s'].mean() / 60.0))\n",
    "print()\n",
    "\n",
    "trials = dataframe[['trial_id', 'logdir', 'time_total_s', 'training_iteration', 'valid_loss', 'valid_r2', 'valid_mae', 'train_loss']]\n",
    "trials = trials.sort_values('valid_loss', ascending = True)\n",
    "trials"
   ]
  },
  {
   "cell_type": "markdown",
   "id": "b25ca4ab-214f-451c-8854-11b73696fc0c",
   "metadata": {},
   "source": [
    "### 2.4.1 VIsualization"
   ]
  },
  {
   "cell_type": "code",
   "execution_count": 24,
   "id": "c3d0362f-aed3-4029-9e2d-06b653f51d32",
   "metadata": {
    "execution": {
     "iopub.execute_input": "2023-02-07T14:26:11.021786Z",
     "iopub.status.busy": "2023-02-07T14:26:11.020784Z",
     "iopub.status.idle": "2023-02-07T14:26:11.596101Z",
     "shell.execute_reply": "2023-02-07T14:26:11.596101Z",
     "shell.execute_reply.started": "2023-02-07T14:26:11.021786Z"
    },
    "tags": []
   },
   "outputs": [
    {
     "data": {
      "image/png": "[encoded data removed]",
      "text/plain": [
       "<Figure size 1600x1000 with 1 Axes>"
      ]
     },
     "metadata": {},
     "output_type": "display_data"
    }
   ],
   "source": [
    "# Plot trials valid loss\n",
    "\n",
    "cnn_raytune.plot_trials_loss(\n",
    "\tdataframe  = trials,\n",
    "\tmax_trials = 10,\n",
    "\talpha      = 0.9,\n",
    "\tfilename   = os.path.join(OUT_PLOT, core_config['model_name'] + '-trials')\n",
    ")"
   ]
  },
  {
   "cell_type": "code",
   "execution_count": 25,
   "id": "4e8ddb17-af25-45e1-9833-20066e680452",
   "metadata": {
    "execution": {
     "iopub.execute_input": "2023-02-07T14:26:11.597103Z",
     "iopub.status.busy": "2023-02-07T14:26:11.597103Z",
     "iopub.status.idle": "2023-02-07T14:26:12.140596Z",
     "shell.execute_reply": "2023-02-07T14:26:12.140596Z",
     "shell.execute_reply.started": "2023-02-07T14:26:11.597103Z"
    },
    "tags": []
   },
   "outputs": [
    {
     "data": {
      "image/png": "[encoded data removed]",
      "text/plain": [
       "<Figure size 1600x1000 with 1 Axes>"
      ]
     },
     "metadata": {},
     "output_type": "display_data"
    }
   ],
   "source": [
    "# Plot trials valid r2\n",
    "\n",
    "cnn_raytune.plot_trials_r2(\n",
    "\tdataframe  = trials,\n",
    "\tmax_trials = 10,\n",
    "\talpha      = 0.9,\n",
    "\tfilename   = os.path.join(OUT_PLOT, core_config['model_name'] + '-trials')\n",
    ")"
   ]
  },
  {
   "cell_type": "markdown",
   "id": "8e10efdd-76db-46e4-903d-7118650bb027",
   "metadata": {},
   "source": [
    "### 2.4.2 Best"
   ]
  },
  {
   "cell_type": "code",
   "execution_count": 26,
   "id": "64bf57b1-c93a-4225-a592-3c48b3ee16c3",
   "metadata": {
    "execution": {
     "iopub.execute_input": "2023-02-07T14:26:12.141596Z",
     "iopub.status.busy": "2023-02-07T14:26:12.141596Z",
     "iopub.status.idle": "2023-02-07T14:26:12.155284Z",
     "shell.execute_reply": "2023-02-07T14:26:12.155284Z",
     "shell.execute_reply.started": "2023-02-07T14:26:12.141596Z"
    },
    "tags": []
   },
   "outputs": [
    {
     "name": "stdout",
     "output_type": "stream",
     "text": [
      "Best metric : loss =  0.56348 r2 =  0.07612\n",
      "Best config : \n",
      "\"dataset/batch_size\"           : 32\n",
      "\"optimizer/name\"               : \"adam\"\n",
      "\"optimizer/lr\"                 : 3.262648825129617e-05\n",
      "\"optimizer/decay\"              : 0.05530820765433695\n",
      "\"optimizer/momentum\"           : 0.5857655085105684\n",
      "\"scheduler/name\"               : \"constant\"\n",
      "\"scheduler/plateau/factor\"     : 0.3798409889797759\n",
      "\"scheduler/plateau/patience\"   : 4\n",
      "\"scheduler/linear/factor\"      : 0.004318109387491916\n",
      "\"scheduler/step/factor\"        : 0.16975929027771253\n",
      "\"scheduler/step/patience\"      : 11\n",
      "\"scheduler/exponential/factor\" : 0.9652544464799763\n",
      "\"model/dropout\"                : 0.02\n",
      "\"model/conv1/filters\"          : 32\n",
      "\"model/conv1/kernel\"           : 11\n",
      "\"model/conv1/padding\"          : \"none\"\n",
      "\"model/conv1/dilation\"         : 1\n",
      "\"model/conv2/filters\"          : 32\n",
      "\"model/conv2/kernel\"           : 31\n",
      "\"model/conv2/padding\"          : \"same\"\n",
      "\"model/conv2/dilation\"         : 1\n",
      "\"model/conv3/filters\"          : 64\n",
      "\"model/conv3/kernel\"           : 41\n",
      "\"model/conv3/padding\"          : \"none\"\n",
      "\"model/conv3/dilation\"         : 1\n",
      "\"model/maxpool1/kernel\"        : 5\n",
      "\"model/maxpool1/padding\"       : \"same\"\n",
      "\"model/maxpool2/kernel\"        : 3\n",
      "\"model/maxpool2/padding\"       : \"same\"\n",
      "\"model/maxpool3/kernel\"        : 3\n",
      "\"model/maxpool3/padding\"       : \"same\"\n",
      "\"model/fc1/features\"           : 64\n",
      "\"model/fc2/features\"           : 512\n"
     ]
    }
   ],
   "source": [
    "# Display best trial\n",
    "\n",
    "best = report.get_best_result()\n",
    "\n",
    "print('Best metric : loss = {: 8.5f} r2 = {: 8.5f}'.format(best.metrics['valid_loss'], best.metrics['valid_r2']))\n",
    "print('Best config : ')\n",
    "\n",
    "for key, val in best.config.items() :\n",
    "\tif isinstance(key, str) : key = f'\"{key}\"'\n",
    "\tif isinstance(val, str) : val = f'\"{val}\"'\n",
    "\n",
    "\tprint('{:30s} : {}'.format(key, val))"
   ]
  },
  {
   "cell_type": "code",
   "execution_count": 27,
   "id": "9e2e2351-82eb-41db-932d-ddc5fece0244",
   "metadata": {
    "execution": {
     "iopub.execute_input": "2023-02-07T14:26:12.157286Z",
     "iopub.status.busy": "2023-02-07T14:26:12.156285Z",
     "iopub.status.idle": "2023-02-07T14:26:12.171847Z",
     "shell.execute_reply": "2023-02-07T14:26:12.170845Z",
     "shell.execute_reply.started": "2023-02-07T14:26:12.157286Z"
    },
    "tags": []
   },
   "outputs": [
    {
     "data": {
      "text/html": [
       "<div>\n",
       "<style scoped>\n",
       "    .dataframe tbody tr th:only-of-type {\n",
       "        vertical-align: middle;\n",
       "    }\n",
       "\n",
       "    .dataframe tbody tr th {\n",
       "        vertical-align: top;\n",
       "    }\n",
       "\n",
       "    .dataframe thead th {\n",
       "        text-align: right;\n",
       "    }\n",
       "</style>\n",
       "<table border=\"1\" class=\"dataframe\">\n",
       "  <thead>\n",
       "    <tr style=\"text-align: right;\">\n",
       "      <th></th>\n",
       "      <th>trial_id</th>\n",
       "      <th>experiment_id</th>\n",
       "      <th>time_total_s</th>\n",
       "      <th>training_iteration</th>\n",
       "      <th>lr</th>\n",
       "      <th>valid_loss</th>\n",
       "      <th>valid_r2</th>\n",
       "      <th>valid_mae</th>\n",
       "      <th>train_loss</th>\n",
       "    </tr>\n",
       "  </thead>\n",
       "  <tbody>\n",
       "    <tr>\n",
       "      <th>0</th>\n",
       "      <td>48ddf8e9</td>\n",
       "      <td>bfc5a81cce7e4e068c7284def2551419</td>\n",
       "      <td>62.372</td>\n",
       "      <td>1</td>\n",
       "      <td>0.000</td>\n",
       "      <td>0.667</td>\n",
       "      <td>-0.098</td>\n",
       "      <td>0.676</td>\n",
       "      <td>1.034</td>\n",
       "    </tr>\n",
       "    <tr>\n",
       "      <th>1</th>\n",
       "      <td>48ddf8e9</td>\n",
       "      <td>bfc5a81cce7e4e068c7284def2551419</td>\n",
       "      <td>93.652</td>\n",
       "      <td>2</td>\n",
       "      <td>0.000</td>\n",
       "      <td>0.620</td>\n",
       "      <td>-0.014</td>\n",
       "      <td>0.655</td>\n",
       "      <td>0.670</td>\n",
       "    </tr>\n",
       "    <tr>\n",
       "      <th>2</th>\n",
       "      <td>48ddf8e9</td>\n",
       "      <td>bfc5a81cce7e4e068c7284def2551419</td>\n",
       "      <td>125.041</td>\n",
       "      <td>3</td>\n",
       "      <td>0.000</td>\n",
       "      <td>0.604</td>\n",
       "      <td>0.008</td>\n",
       "      <td>0.647</td>\n",
       "      <td>0.628</td>\n",
       "    </tr>\n",
       "    <tr>\n",
       "      <th>3</th>\n",
       "      <td>48ddf8e9</td>\n",
       "      <td>bfc5a81cce7e4e068c7284def2551419</td>\n",
       "      <td>156.319</td>\n",
       "      <td>4</td>\n",
       "      <td>0.000</td>\n",
       "      <td>0.586</td>\n",
       "      <td>0.033</td>\n",
       "      <td>0.637</td>\n",
       "      <td>0.601</td>\n",
       "    </tr>\n",
       "    <tr>\n",
       "      <th>4</th>\n",
       "      <td>48ddf8e9</td>\n",
       "      <td>bfc5a81cce7e4e068c7284def2551419</td>\n",
       "      <td>187.631</td>\n",
       "      <td>5</td>\n",
       "      <td>0.000</td>\n",
       "      <td>0.579</td>\n",
       "      <td>0.049</td>\n",
       "      <td>0.633</td>\n",
       "      <td>0.584</td>\n",
       "    </tr>\n",
       "    <tr>\n",
       "      <th>5</th>\n",
       "      <td>48ddf8e9</td>\n",
       "      <td>bfc5a81cce7e4e068c7284def2551419</td>\n",
       "      <td>219.878</td>\n",
       "      <td>6</td>\n",
       "      <td>0.000</td>\n",
       "      <td>0.588</td>\n",
       "      <td>0.033</td>\n",
       "      <td>0.634</td>\n",
       "      <td>0.564</td>\n",
       "    </tr>\n",
       "    <tr>\n",
       "      <th>6</th>\n",
       "      <td>48ddf8e9</td>\n",
       "      <td>bfc5a81cce7e4e068c7284def2551419</td>\n",
       "      <td>252.073</td>\n",
       "      <td>7</td>\n",
       "      <td>0.000</td>\n",
       "      <td>0.577</td>\n",
       "      <td>0.053</td>\n",
       "      <td>0.629</td>\n",
       "      <td>0.546</td>\n",
       "    </tr>\n",
       "    <tr>\n",
       "      <th>7</th>\n",
       "      <td>48ddf8e9</td>\n",
       "      <td>bfc5a81cce7e4e068c7284def2551419</td>\n",
       "      <td>285.458</td>\n",
       "      <td>8</td>\n",
       "      <td>0.000</td>\n",
       "      <td>0.564</td>\n",
       "      <td>0.072</td>\n",
       "      <td>0.622</td>\n",
       "      <td>0.528</td>\n",
       "    </tr>\n",
       "    <tr>\n",
       "      <th>8</th>\n",
       "      <td>48ddf8e9</td>\n",
       "      <td>bfc5a81cce7e4e068c7284def2551419</td>\n",
       "      <td>317.376</td>\n",
       "      <td>9</td>\n",
       "      <td>0.000</td>\n",
       "      <td>0.560</td>\n",
       "      <td>0.077</td>\n",
       "      <td>0.620</td>\n",
       "      <td>0.507</td>\n",
       "    </tr>\n",
       "    <tr>\n",
       "      <th>9</th>\n",
       "      <td>48ddf8e9</td>\n",
       "      <td>bfc5a81cce7e4e068c7284def2551419</td>\n",
       "      <td>348.231</td>\n",
       "      <td>10</td>\n",
       "      <td>0.000</td>\n",
       "      <td>0.563</td>\n",
       "      <td>0.076</td>\n",
       "      <td>0.622</td>\n",
       "      <td>0.483</td>\n",
       "    </tr>\n",
       "  </tbody>\n",
       "</table>\n",
       "</div>"
      ],
      "text/plain": [
       "   trial_id                     experiment_id  time_total_s  \\\n",
       "0  48ddf8e9  bfc5a81cce7e4e068c7284def2551419        62.372   \n",
       "1  48ddf8e9  bfc5a81cce7e4e068c7284def2551419        93.652   \n",
       "2  48ddf8e9  bfc5a81cce7e4e068c7284def2551419       125.041   \n",
       "3  48ddf8e9  bfc5a81cce7e4e068c7284def2551419       156.319   \n",
       "4  48ddf8e9  bfc5a81cce7e4e068c7284def2551419       187.631   \n",
       "5  48ddf8e9  bfc5a81cce7e4e068c7284def2551419       219.878   \n",
       "6  48ddf8e9  bfc5a81cce7e4e068c7284def2551419       252.073   \n",
       "7  48ddf8e9  bfc5a81cce7e4e068c7284def2551419       285.458   \n",
       "8  48ddf8e9  bfc5a81cce7e4e068c7284def2551419       317.376   \n",
       "9  48ddf8e9  bfc5a81cce7e4e068c7284def2551419       348.231   \n",
       "\n",
       "   training_iteration    lr  valid_loss  valid_r2  valid_mae  train_loss  \n",
       "0                   1 0.000       0.667    -0.098      0.676       1.034  \n",
       "1                   2 0.000       0.620    -0.014      0.655       0.670  \n",
       "2                   3 0.000       0.604     0.008      0.647       0.628  \n",
       "3                   4 0.000       0.586     0.033      0.637       0.601  \n",
       "4                   5 0.000       0.579     0.049      0.633       0.584  \n",
       "5                   6 0.000       0.588     0.033      0.634       0.564  \n",
       "6                   7 0.000       0.577     0.053      0.629       0.546  \n",
       "7                   8 0.000       0.564     0.072      0.622       0.528  \n",
       "8                   9 0.000       0.560     0.077      0.620       0.507  \n",
       "9                  10 0.000       0.563     0.076      0.622       0.483  "
      ]
     },
     "execution_count": 27,
     "metadata": {},
     "output_type": "execute_result"
    }
   ],
   "source": [
    "# Display per iteration\n",
    "\n",
    "progress = data_loader.load_csv(\n",
    "\tfilename = os.path.join(best.log_dir, 'progress.csv')\n",
    ")\n",
    "\n",
    "progress = progress[['trial_id', 'experiment_id', 'time_total_s', 'training_iteration', 'lr', 'valid_loss', 'valid_r2', 'valid_mae', 'train_loss']]\n",
    "progress"
   ]
  },
  {
   "cell_type": "code",
   "execution_count": 28,
   "id": "4eaa27d6-0da6-4e09-a49e-5cc9b25897c9",
   "metadata": {
    "execution": {
     "iopub.execute_input": "2023-02-07T14:26:12.173848Z",
     "iopub.status.busy": "2023-02-07T14:26:12.172848Z",
     "iopub.status.idle": "2023-02-07T14:26:12.491577Z",
     "shell.execute_reply": "2023-02-07T14:26:12.491577Z",
     "shell.execute_reply.started": "2023-02-07T14:26:12.173848Z"
    },
    "tags": []
   },
   "outputs": [
    {
     "data": {
      "image/png": "[encoded data removed]",
      "text/plain": [
       "<Figure size 1600x1000 with 1 Axes>"
      ]
     },
     "metadata": {},
     "output_type": "display_data"
    }
   ],
   "source": [
    "# Plot best trial valid loss\n",
    "\n",
    "cnn_raytune.plot_trial_loss(\n",
    "\tdataframe = progress,\n",
    "\tfilename  = os.path.join(OUT_PLOT, core_config['model_name'] + '-best')\n",
    ")"
   ]
  },
  {
   "cell_type": "code",
   "execution_count": 29,
   "id": "5057fefd-cb7d-4244-b4bc-3d6ed10b53f9",
   "metadata": {
    "execution": {
     "iopub.execute_input": "2023-02-07T14:26:12.492578Z",
     "iopub.status.busy": "2023-02-07T14:26:12.492578Z",
     "iopub.status.idle": "2023-02-07T14:26:12.825880Z",
     "shell.execute_reply": "2023-02-07T14:26:12.825880Z",
     "shell.execute_reply.started": "2023-02-07T14:26:12.492578Z"
    },
    "tags": []
   },
   "outputs": [
    {
     "data": {
      "image/png": "[encoded data removed]",
      "text/plain": [
       "<Figure size 1600x1000 with 1 Axes>"
      ]
     },
     "metadata": {},
     "output_type": "display_data"
    }
   ],
   "source": [
    "# Plot best trial valid r2\n",
    "\n",
    "cnn_raytune.plot_trial_r2(\n",
    "\tdataframe = progress,\n",
    "\tfilename  = os.path.join(OUT_PLOT, core_config['model_name'] + '-best')\n",
    ")"
   ]
  },
  {
   "cell_type": "code",
   "execution_count": 30,
   "id": "0461429d-9439-4764-b085-044ae6121581",
   "metadata": {
    "execution": {
     "iopub.execute_input": "2023-02-07T14:26:12.826881Z",
     "iopub.status.busy": "2023-02-07T14:26:12.826881Z",
     "iopub.status.idle": "2023-02-07T14:26:13.117145Z",
     "shell.execute_reply": "2023-02-07T14:26:13.117145Z",
     "shell.execute_reply.started": "2023-02-07T14:26:12.826881Z"
    }
   },
   "outputs": [
    {
     "data": {
      "image/png": "[encoded data removed]",
      "text/plain": [
       "<Figure size 1600x1000 with 1 Axes>"
      ]
     },
     "metadata": {},
     "output_type": "display_data"
    }
   ],
   "source": [
    "# Plot trials learning rate\n",
    "\n",
    "cnn_raytune.plot_trial_lr(\n",
    "\tdataframe = progress,\n",
    "\tfilename  = os.path.join(OUT_PLOT, core_config['model_name'] + '-best')\n",
    ")"
   ]
  },
  {
   "cell_type": "markdown",
   "id": "5f916513-555e-4c4a-a803-194373aab336",
   "metadata": {},
   "source": [
    "### 2.4.3 Worst"
   ]
  },
  {
   "cell_type": "code",
   "execution_count": 31,
   "id": "d2d8e546-a974-4d35-aa77-3f6e865b8e22",
   "metadata": {
    "execution": {
     "iopub.execute_input": "2023-02-07T14:26:13.118145Z",
     "iopub.status.busy": "2023-02-07T14:26:13.118145Z",
     "iopub.status.idle": "2023-02-07T14:26:13.133039Z",
     "shell.execute_reply": "2023-02-07T14:26:13.132037Z",
     "shell.execute_reply.started": "2023-02-07T14:26:13.118145Z"
    },
    "tags": []
   },
   "outputs": [
    {
     "name": "stdout",
     "output_type": "stream",
     "text": [
      "Worst metric : loss =  2.76193 r2 = -3.62883\n",
      "Worst config : \n",
      "\"dataset/batch_size\"           : 32\n",
      "\"optimizer/name\"               : \"adam\"\n",
      "\"optimizer/lr\"                 : 3.262648825129617e-05\n",
      "\"optimizer/decay\"              : 0.05530820765433695\n",
      "\"optimizer/momentum\"           : 0.5857655085105684\n",
      "\"scheduler/name\"               : \"constant\"\n",
      "\"scheduler/plateau/factor\"     : 0.3798409889797759\n",
      "\"scheduler/plateau/patience\"   : 4\n",
      "\"scheduler/linear/factor\"      : 0.004318109387491916\n",
      "\"scheduler/step/factor\"        : 0.16975929027771253\n",
      "\"scheduler/step/patience\"      : 11\n",
      "\"scheduler/exponential/factor\" : 0.9652544464799763\n",
      "\"model/dropout\"                : 0.02\n",
      "\"model/conv1/filters\"          : 32\n",
      "\"model/conv1/kernel\"           : 11\n",
      "\"model/conv1/padding\"          : \"none\"\n",
      "\"model/conv1/dilation\"         : 1\n",
      "\"model/conv2/filters\"          : 32\n",
      "\"model/conv2/kernel\"           : 31\n",
      "\"model/conv2/padding\"          : \"same\"\n",
      "\"model/conv2/dilation\"         : 1\n",
      "\"model/conv3/filters\"          : 64\n",
      "\"model/conv3/kernel\"           : 41\n",
      "\"model/conv3/padding\"          : \"none\"\n",
      "\"model/conv3/dilation\"         : 1\n",
      "\"model/maxpool1/kernel\"        : 5\n",
      "\"model/maxpool1/padding\"       : \"same\"\n",
      "\"model/maxpool2/kernel\"        : 3\n",
      "\"model/maxpool2/padding\"       : \"same\"\n",
      "\"model/maxpool3/kernel\"        : 3\n",
      "\"model/maxpool3/padding\"       : \"same\"\n",
      "\"model/fc1/features\"           : 64\n",
      "\"model/fc2/features\"           : 512\n"
     ]
    }
   ],
   "source": [
    "# Display worst trial\n",
    "\n",
    "worst = report.get_best_result(metric = 'valid_loss', mode = 'max')\n",
    "\n",
    "print('Worst metric : loss = {: 8.5f} r2 = {: 8.5f}'.format(worst.metrics['valid_loss'], worst.metrics['valid_r2']))\n",
    "print('Worst config : ')\n",
    "\n",
    "for key, val in best.config.items() :\n",
    "\tif isinstance(key, str) : key = f'\"{key}\"'\n",
    "\tif isinstance(val, str) : val = f'\"{val}\"'\n",
    "\n",
    "\tprint('{:30s} : {}'.format(key, val))"
   ]
  },
  {
   "cell_type": "code",
   "execution_count": 32,
   "id": "de3058da-1648-4d3f-94e1-540f5cb83905",
   "metadata": {
    "execution": {
     "iopub.execute_input": "2023-02-07T14:26:13.134039Z",
     "iopub.status.busy": "2023-02-07T14:26:13.133039Z",
     "iopub.status.idle": "2023-02-07T14:26:13.147052Z",
     "shell.execute_reply": "2023-02-07T14:26:13.147052Z",
     "shell.execute_reply.started": "2023-02-07T14:26:13.134039Z"
    },
    "tags": []
   },
   "outputs": [
    {
     "data": {
      "text/html": [
       "<div>\n",
       "<style scoped>\n",
       "    .dataframe tbody tr th:only-of-type {\n",
       "        vertical-align: middle;\n",
       "    }\n",
       "\n",
       "    .dataframe tbody tr th {\n",
       "        vertical-align: top;\n",
       "    }\n",
       "\n",
       "    .dataframe thead th {\n",
       "        text-align: right;\n",
       "    }\n",
       "</style>\n",
       "<table border=\"1\" class=\"dataframe\">\n",
       "  <thead>\n",
       "    <tr style=\"text-align: right;\">\n",
       "      <th></th>\n",
       "      <th>trial_id</th>\n",
       "      <th>experiment_id</th>\n",
       "      <th>time_total_s</th>\n",
       "      <th>training_iteration</th>\n",
       "      <th>lr</th>\n",
       "      <th>valid_loss</th>\n",
       "      <th>valid_r2</th>\n",
       "      <th>valid_mae</th>\n",
       "      <th>train_loss</th>\n",
       "    </tr>\n",
       "  </thead>\n",
       "  <tbody>\n",
       "    <tr>\n",
       "      <th>0</th>\n",
       "      <td>a32dee31</td>\n",
       "      <td>13fe1e15df494960a8126da9eaa03352</td>\n",
       "      <td>74.509</td>\n",
       "      <td>1</td>\n",
       "      <td>0.000</td>\n",
       "      <td>2.758</td>\n",
       "      <td>-3.650</td>\n",
       "      <td>1.454</td>\n",
       "      <td>3.354</td>\n",
       "    </tr>\n",
       "    <tr>\n",
       "      <th>1</th>\n",
       "      <td>a32dee31</td>\n",
       "      <td>13fe1e15df494960a8126da9eaa03352</td>\n",
       "      <td>113.835</td>\n",
       "      <td>2</td>\n",
       "      <td>0.000</td>\n",
       "      <td>2.762</td>\n",
       "      <td>-3.629</td>\n",
       "      <td>1.455</td>\n",
       "      <td>2.856</td>\n",
       "    </tr>\n",
       "  </tbody>\n",
       "</table>\n",
       "</div>"
      ],
      "text/plain": [
       "   trial_id                     experiment_id  time_total_s  \\\n",
       "0  a32dee31  13fe1e15df494960a8126da9eaa03352        74.509   \n",
       "1  a32dee31  13fe1e15df494960a8126da9eaa03352       113.835   \n",
       "\n",
       "   training_iteration    lr  valid_loss  valid_r2  valid_mae  train_loss  \n",
       "0                   1 0.000       2.758    -3.650      1.454       3.354  \n",
       "1                   2 0.000       2.762    -3.629      1.455       2.856  "
      ]
     },
     "execution_count": 32,
     "metadata": {},
     "output_type": "execute_result"
    }
   ],
   "source": [
    "# Display per iteration\n",
    "\n",
    "progress = data_loader.load_csv(\n",
    "\tfilename = os.path.join(worst.log_dir, 'progress.csv')\n",
    ")\n",
    "\n",
    "progress = progress[['trial_id', 'experiment_id', 'time_total_s', 'training_iteration', 'lr', 'valid_loss', 'valid_r2', 'valid_mae', 'train_loss']]\n",
    "progress"
   ]
  },
  {
   "cell_type": "markdown",
   "id": "8a22c9b0-2060-4ec0-845a-6d2880a6e865",
   "metadata": {},
   "source": [
    "## 2.5 Save"
   ]
  },
  {
   "cell_type": "code",
   "execution_count": 33,
   "id": "bb49abee-4242-4e40-b516-a3682b5fefd7",
   "metadata": {
    "execution": {
     "iopub.execute_input": "2023-02-07T14:26:13.148052Z",
     "iopub.status.busy": "2023-02-07T14:26:13.148052Z",
     "iopub.status.idle": "2023-02-07T14:26:13.162064Z",
     "shell.execute_reply": "2023-02-07T14:26:13.162064Z",
     "shell.execute_reply.started": "2023-02-07T14:26:13.148052Z"
    },
    "tags": []
   },
   "outputs": [],
   "source": [
    "# Save the tuning results\n",
    "\n",
    "report.get_dataframe().to_csv(\n",
    "\tos.path.join(OUT_DATA, core_config['model_name'] + '-report.csv')\n",
    ")"
   ]
  }
 ],
 "metadata": {
  "kernelspec": {
   "display_name": "Python 3 (ipykernel)",
   "language": "python",
   "name": "python3"
  },
  "language_info": {
   "codemirror_mode": {
    "name": "ipython",
    "version": 3
   },
   "file_extension": ".py",
   "mimetype": "text/x-python",
   "name": "python",
   "nbconvert_exporter": "python",
   "pygments_lexer": "ipython3",
   "version": "3.10.7"
  }
 },
 "nbformat": 4,
 "nbformat_minor": 5
}
