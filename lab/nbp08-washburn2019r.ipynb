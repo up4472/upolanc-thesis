{
 "cells": [
  {
   "cell_type": "code",
   "execution_count": null,
   "id": "26b3f699-3e32-41d5-b3bc-e5051b120757",
   "metadata": {
    "tags": []
   },
   "outputs": [],
   "source": [
    "# Libraries\n",
    "\n",
    "import json\n",
    "import numpy\n",
    "import os\n",
    "import shutil\n",
    "import sys"
   ]
  },
  {
   "cell_type": "code",
   "execution_count": null,
   "id": "d94a9e1d-7a36-4919-8b95-359dde1853e3",
   "metadata": {},
   "outputs": [],
   "source": [
    "# Root directory\n",
    "\n",
    "ROOT = 'C:\\\\Developer\\\\Workspace\\\\PyCharm\\\\Projects\\\\upolanc-thesis'\n",
    "\n",
    "if ROOT not in sys.path :\n",
    "\tsys.path.append(ROOT)\n",
    "\n",
    "os.chdir(ROOT)"
   ]
  },
  {
   "cell_type": "code",
   "execution_count": null,
   "id": "63982933-9b7e-4c69-9320-0d622cc5c0fd",
   "metadata": {},
   "outputs": [],
   "source": [
    "# Code\n",
    "\n",
    "from src.cnn.models  import Washburn2019r\n",
    "\n",
    "from src.cnn import core     as cnn_core\n",
    "from src.cnn import dataset  as cnn_dataset\n",
    "from src.cnn import model    as cnn_model\n",
    "from src.cnn import mutation as cnn_mutation\n",
    "from src.cnn import plot     as cnn_plot\n",
    "from src.cnn import util     as cnn_util\n",
    "from src.io  import loader   as data_loader"
   ]
  },
  {
   "cell_type": "markdown",
   "id": "1bb00b68-6422-44c5-b474-8e828e84a155",
   "metadata": {},
   "source": [
    "# 1. Setup"
   ]
  },
  {
   "cell_type": "code",
   "execution_count": null,
   "id": "0f8e6208-5d4c-496e-b2dd-5f69ebe331db",
   "metadata": {},
   "outputs": [],
   "source": [
    "# Setup some directory paths.\n",
    "\n",
    "CWD = ROOT\n",
    "OUT = os.path.join(CWD, 'out', 'nbp08-washburn2019', 'regression')\n",
    "RES = os.path.join(CWD, 'res', 'plant')\n",
    "\n",
    "OUT_DATA  = os.path.join(OUT, '')\n",
    "OUT_MODEL = os.path.join(OUT, 'model')\n",
    "OUT_PLOT  = os.path.join(OUT, 'plot')\n",
    "OUT_LOG   = os.path.join(OUT, 'log')\n",
    "\n",
    "RES_NBP04 = os.path.join(CWD, 'out', 'nbp04-feature')\n",
    "RES_NBP05 = os.path.join(CWD, 'out', 'nbp05-target')\n",
    "\n",
    "shutil.rmtree(OUT, ignore_errors = True)\n",
    "\n",
    "os.makedirs(OUT,       exist_ok = True)\n",
    "os.makedirs(OUT_MODEL, exist_ok = True)\n",
    "os.makedirs(OUT_DATA,  exist_ok = True)\n",
    "os.makedirs(OUT_PLOT,  exist_ok = True)\n",
    "\n",
    "print(f'     Root Directory : {CWD}')\n",
    "print(f'   Output Directory : {OUT}')\n",
    "print(f' Resource Directory : {RES}')"
   ]
  },
  {
   "cell_type": "code",
   "execution_count": null,
   "id": "7a57b927-f2bc-4a6c-ab3d-b6a090436717",
   "metadata": {},
   "outputs": [],
   "source": [
    "# System and device\n",
    "\n",
    "DEVICE = cnn_core.get_device(only_cpu = False)\n",
    "SYSTEM = cnn_core.get_system_info()\n",
    "\n",
    "print(json.dumps(SYSTEM, indent = '\\t'))"
   ]
  },
  {
   "cell_type": "code",
   "execution_count": null,
   "id": "24c80797-8eeb-49e7-a09a-953e2604832b",
   "metadata": {},
   "outputs": [],
   "source": [
    "# Load the input transcript features\n",
    "\n",
    "mutation_gene_sequences = data_loader.load_fasta(\n",
    "\tfilename  = os.path.join(RES_NBP04, 'mutation-features-bp2150.fasta'),\n",
    "\tto_string = True\n",
    ")\n",
    "\n",
    "mutation_gene_frequency = data_loader.load_npz(\n",
    "\tfilename = os.path.join(RES_NBP04, 'mutation-features-frequency.npz')\n",
    ")\n",
    "\n",
    "mutation_gene_stability = data_loader.load_npz(\n",
    "\tfilename = os.path.join(RES_NBP04, 'mutation-features-stability.npz')\n",
    ")\n",
    "\n",
    "gene_sequences = data_loader.load_fasta(\n",
    "\tfilename  = os.path.join(RES_NBP04, 'features-bp2150.fasta'),\n",
    "\tto_string = True\n",
    ")\n",
    "\n",
    "gene_frequency = data_loader.load_npz(\n",
    "\tfilename = os.path.join(RES_NBP04, 'features-frequency.npz')\n",
    ")\n",
    "\n",
    "gene_stability = data_loader.load_npz(\n",
    "\tfilename = os.path.join(RES_NBP04, 'features-stability.npz')\n",
    ")\n",
    "\n",
    "tpm_value = data_loader.load_labels(\n",
    "\tfilename = os.path.join(RES_NBP05, 'target-values.json'),\n",
    "\tto_numpy = True\n",
    ")\n",
    "\n",
    "tpm_order = data_loader.load_labels(\n",
    "\tfilename = os.path.join(RES_NBP05, 'target-order.json')\n",
    ")"
   ]
  },
  {
   "cell_type": "markdown",
   "id": "011f224a-6fff-4487-b1fc-1b64e050361c",
   "metadata": {},
   "source": [
    "# 2. Config"
   ]
  },
  {
   "cell_type": "code",
   "execution_count": null,
   "id": "15db99c2-2be2-4a10-ba71-e5ac472f6eab",
   "metadata": {
    "tags": []
   },
   "outputs": [],
   "source": [
    "# Define basic data parameters\n",
    "\n",
    "config = {\n",
    "\t'random_seed' : None,\n",
    "\t'batch_size' : {\n",
    "\t\t'train' : 32,\n",
    "\t\t'valid' : 32,\n",
    "\t\t'test'  : 32\n",
    "\t},\n",
    "\t'split_size' : {\n",
    "\t\t'valid' : 0.2,\n",
    "\t\t'test'  : 0.2\n",
    "\t},\n",
    "\t'input' : {\n",
    "\t\t'channels' : 1,\n",
    "\t\t'height'   : 4,\n",
    "\t\t'width'    : 2150,\n",
    "\t\t'features' : 64\n",
    "\t},\n",
    "\t'output' : {\n",
    "\t\t'group0' : 'tissue',\n",
    "\t\t'group1' : 'tissue-mean',\n",
    "\t\t'length' : 8\n",
    "\t}\n",
    "}\n",
    "\n",
    "# Ensure correct\n",
    "config['output']['length'] = len(tpm_order[config['output']['group0']])"
   ]
  },
  {
   "cell_type": "code",
   "execution_count": null,
   "id": "08af0a94-03e3-4f0a-a60f-5eda012d1e53",
   "metadata": {},
   "outputs": [],
   "source": [
    "# Get the correct output group\n",
    "\n",
    "gene_targets = {\n",
    "\tkey : value[config['output']['group1']]\n",
    "\tfor key, value in tpm_value.items()\n",
    "}"
   ]
  },
  {
   "cell_type": "code",
   "execution_count": null,
   "id": "2ebefcb6-78a2-43a1-929e-c4bba92c7c5a",
   "metadata": {},
   "outputs": [],
   "source": [
    "# Get the correct output order\n",
    "\n",
    "tpm_order = tpm_order[config['output']['group0']]"
   ]
  },
  {
   "cell_type": "code",
   "execution_count": null,
   "id": "bf70828d-d102-4a78-a914-a2302c877182",
   "metadata": {},
   "outputs": [],
   "source": [
    "# Lock random\n",
    "\n",
    "config['random_seed'] = cnn_core.lock_random(\n",
    "\tseed = config['random_seed'],\n",
    "\tgenerate_seed = True\n",
    ")\n",
    "\n",
    "print('Random seed : {}'.format(config['random_seed']))"
   ]
  },
  {
   "cell_type": "markdown",
   "id": "2e400e81-0c4c-473b-98c9-5a01485f4cf8",
   "metadata": {},
   "source": [
    "# 3. Dataloaders"
   ]
  },
  {
   "cell_type": "markdown",
   "id": "df2766d0-154d-4087-b51b-fdad2bfb481b",
   "metadata": {},
   "source": [
    "## 3.1 Normal"
   ]
  },
  {
   "cell_type": "code",
   "execution_count": null,
   "id": "48783db7-e4d9-4cdb-8d3c-11f6d314b89e",
   "metadata": {
    "tags": []
   },
   "outputs": [],
   "source": [
    "# Create dataloader\n",
    "\n",
    "dataset = cnn_dataset.to_dataset(\n",
    "\tsequences   = gene_sequences,\n",
    "\tfeatures    = gene_frequency,\n",
    "\ttargets     = gene_targets,\n",
    "\texpand_dims = 0\n",
    ")\n",
    "\n",
    "dataloaders = cnn_dataset.to_dataloaders(\n",
    "\tdataset     = dataset,\n",
    "\tsplit_size  = config['split_size'],\n",
    "\tbatch_size  = config['batch_size'],\n",
    "\trandom_seed = config['random_seed']\n",
    ")\n",
    "\n",
    "train_dataloader = dataloaders[0]\n",
    "valid_dataloader = dataloaders[1]\n",
    "test_dataloader  = dataloaders[2]"
   ]
  },
  {
   "cell_type": "code",
   "execution_count": null,
   "id": "d5e26f98-6a22-46a7-b82e-3c1d16c7aa91",
   "metadata": {},
   "outputs": [],
   "source": [
    "# Display train dataloader\n",
    "\n",
    "cnn_dataset.show_dataloader(\n",
    "\tdataloader = train_dataloader,\n",
    "\tbatch_size = config['batch_size']['train']\n",
    ")"
   ]
  },
  {
   "cell_type": "code",
   "execution_count": null,
   "id": "8c5a27b0-14c1-494b-a9e0-7851e9784f1d",
   "metadata": {},
   "outputs": [],
   "source": [
    "# Display valid dataloader\n",
    "\n",
    "cnn_dataset.show_dataloader(\n",
    "\tdataloader = valid_dataloader,\n",
    "\tbatch_size = config['batch_size']['valid']\n",
    ")"
   ]
  },
  {
   "cell_type": "code",
   "execution_count": null,
   "id": "2628d763-676f-47d3-929e-b9b787a04e99",
   "metadata": {},
   "outputs": [],
   "source": [
    "# Display test dataloader\n",
    "\n",
    "cnn_dataset.show_dataloader(\n",
    "\tdataloader = test_dataloader,\n",
    "\tbatch_size = config['batch_size']['test']\n",
    ")"
   ]
  },
  {
   "cell_type": "markdown",
   "id": "7eac5531-3aaa-4988-806f-d63fb2bafbff",
   "metadata": {},
   "source": [
    "## 3.2 Mutation"
   ]
  },
  {
   "cell_type": "code",
   "execution_count": null,
   "id": "894e48d9-b4c7-4cdd-b7e1-2d32bf42e756",
   "metadata": {},
   "outputs": [],
   "source": [
    "# Create mutation dataloader\n",
    "\n",
    "mutation_dataloader = cnn_mutation.create_dataloader(\n",
    "\tsequences   = mutation_gene_sequences,\n",
    "\tfeatures    = mutation_gene_frequency,\n",
    "\ttargets     = gene_targets,\n",
    "\texpand_dims = 0,\n",
    "\trandom_seed = config['random_seed']\n",
    ")"
   ]
  },
  {
   "cell_type": "code",
   "execution_count": null,
   "id": "cb9740d2-27a4-429d-a7a4-9a1fa025f6e7",
   "metadata": {},
   "outputs": [],
   "source": [
    "# Display mutation dataloader\n",
    "\n",
    "cnn_dataset.show_dataloader(\n",
    "\tdataloader = mutation_dataloader,\n",
    "\tbatch_size = 1\n",
    ")"
   ]
  },
  {
   "cell_type": "markdown",
   "id": "1ae8f258-7a81-49a4-be05-bbf5a9b749f0",
   "metadata": {},
   "source": [
    "# 4. Model"
   ]
  },
  {
   "cell_type": "markdown",
   "id": "6e1d88b9-68ea-49e5-a323-0187dbadb6dd",
   "metadata": {},
   "source": [
    "## 4.1 Structure"
   ]
  },
  {
   "cell_type": "code",
   "execution_count": null,
   "id": "def292a2-8b2c-4602-b15b-791e357b44a4",
   "metadata": {
    "tags": []
   },
   "outputs": [],
   "source": [
    "# Create and display the model structure\n",
    "\n",
    "model = Washburn2019r(params = {\n",
    "\t'other' : {\n",
    "\t\t'in_channels' : config['input']['channels'],\n",
    "\t\t'in_height'   : config['input']['height'],\n",
    "\t\t'in_width'    : config['input']['width'],\n",
    "\t\t'in_features' : config['input']['features'],\n",
    "\t\t'dropout'     : 0.1\n",
    "\t},\n",
    "\t'conv1' : {\n",
    "\t\t'kernel'  : (4, 11),\n",
    "\t\t'padding' : (0, 0)\n",
    "\t},\n",
    "\t'conv2' : {\n",
    "\t\t'kernel'  : (1, 11),\n",
    "\t\t'padding' : (0, 5)\n",
    "\t},\n",
    "\t'conv3' : {\n",
    "\t\t'kernel'  : (1, 11),\n",
    "\t\t'padding' : (0, 5)\n",
    "\t},\n",
    "\t'conv4' : {\n",
    "\t\t'kernel'  : (1, 11),\n",
    "\t\t'padding' : (0, 5)\n",
    "\t},\n",
    "\t'conv5' : {\n",
    "\t\t'kernel'  : (1, 9),\n",
    "\t\t'padding' : (0, 4)\n",
    "\t},\n",
    "\t'conv6' : {\n",
    "\t\t'kernel'  : (1, 9),\n",
    "\t\t'padding' : (0, 4)\n",
    "\t},\n",
    "\t'maxpool1' : {\n",
    "\t\t'kernel'  : (1, 3),\n",
    "\t\t'padding' : (0, 1)\n",
    "\t},\n",
    "\t'maxpool2' : {\n",
    "\t\t'kernel'  : (1, 3),\n",
    "\t\t'padding' : (0, 1)\n",
    "\t},\n",
    "\t'maxpool3' : {\n",
    "\t\t'kernel'  : (1, 3),\n",
    "\t\t'padding' : (0, 1)\n",
    "\t},\n",
    "\t'fc1' : {\n",
    "\t\t'features' : 512\n",
    "\t},\n",
    "\t'fc2' : {\n",
    "\t\t'features' : 128\n",
    "\t},\n",
    "\t'fc3' : {\n",
    "\t\t'features' : config['output']['length']\n",
    "\t}\n",
    "})\n",
    "\n",
    "model.summary(\n",
    "\tbatch_size  = config['batch_size']['train'],\n",
    "\tin_channels = config['input']['channels'],\n",
    "\tin_height   = config['input']['height'],\n",
    "\tin_width    = config['input']['width'],\n",
    "\tin_features = config['input']['features'],\n",
    ")"
   ]
  },
  {
   "cell_type": "code",
   "execution_count": null,
   "id": "726f7470-9e83-4e7a-b5c8-73f85fef97a4",
   "metadata": {},
   "outputs": [],
   "source": [
    "# Convert the model to double and initialize weights and biases\n",
    "\n",
    "model = model.double()\n",
    "model = model.apply(cnn_model.he_uniform_weight)\n",
    "model = model.apply(cnn_model.zero_bias)"
   ]
  },
  {
   "cell_type": "markdown",
   "id": "0e203659-9aed-49f2-9075-feeaf04c29cc",
   "metadata": {},
   "source": [
    "## 4.2 Parameters"
   ]
  },
  {
   "cell_type": "code",
   "execution_count": null,
   "id": "500f0749-13e2-4d2e-9286-ade10b41066d",
   "metadata": {},
   "outputs": [],
   "source": [
    "# Set the training parameters\n",
    "\n",
    "criterion = cnn_model.get_criterion(\n",
    "\tquery     = 'mse',\n",
    "\treduction = 'mean',\n",
    "\tweights   = None\n",
    ")\n",
    "\n",
    "optimizer = cnn_model.get_optimizer(\n",
    "\tquery        = 'adam',\n",
    "\tmodel        = model,\n",
    "\tlr           = 0.001,\n",
    "\tbetas        = (\n",
    "\t\t0.970,\n",
    "\t\t0.999\n",
    "\t),\n",
    "\tweight_decay = 0.01\n",
    ")\n",
    "\n",
    "scheduler = cnn_model.get_scheduler(\n",
    "\tquery     = 'plateau',\n",
    "\tmode      = 'min',\n",
    "\toptimizer = optimizer,\n",
    "\tpatience  = 5,\n",
    "\tfactor    = 0.5,\n",
    "\tmin_lr    = 1e-8\n",
    ")\n",
    "\n",
    "params = {\n",
    "\t'model'     : model,\n",
    "\t'savebest'  : os.path.join(OUT_MODEL, f'{model.__name__}-best.pth'),\n",
    "\t'savelast'  : os.path.join(OUT_MODEL, f'{model.__name__}-last.pth'),\n",
    "\t'epochs'    : 25,\n",
    "\t'criterion' : criterion,\n",
    "\t'optimizer' : optimizer,\n",
    "\t'scheduler' : scheduler,\n",
    "\t'device'    : DEVICE,\n",
    "\t'verbose'   : False,\n",
    "\t'train_dataloader' : train_dataloader,\n",
    "\t'valid_dataloader' : valid_dataloader,\n",
    "\t'test_dataloader'  : test_dataloader,\n",
    "\t'metrics' : {\n",
    "\t\t'mse' : cnn_model.get_criterion(reduction = 'none', weights = None, query = 'mse'),\n",
    "\t\t'mae' : cnn_model.get_criterion(reduction = 'none', weights = None, query = 'mae'),\n",
    "\t\t'r2'  : cnn_model.get_criterion(reduction = 'none', weights = None, query = 'r2')\n",
    "\t}\n",
    "}"
   ]
  },
  {
   "cell_type": "markdown",
   "id": "59fbeda7-5ba2-4390-bf7b-1ccec5e3bb80",
   "metadata": {
    "tags": []
   },
   "source": [
    "## 4.3 Training"
   ]
  },
  {
   "cell_type": "code",
   "execution_count": null,
   "id": "d7b4fe33-70d8-47ea-a20d-a0dc661e15c3",
   "metadata": {},
   "outputs": [],
   "source": [
    "# Train and validate the model\n",
    "\n",
    "report = cnn_model.train_regressor(\n",
    "\tmodel  = model,\n",
    "\tparams = params\n",
    ")"
   ]
  },
  {
   "cell_type": "markdown",
   "id": "ab066b09-ef74-4af2-b761-2f277750564c",
   "metadata": {},
   "source": [
    "## 4.4 Visualization"
   ]
  },
  {
   "cell_type": "code",
   "execution_count": null,
   "id": "1dd6351e-f3da-4d21-bc1c-4558a2801c1e",
   "metadata": {
    "tags": []
   },
   "outputs": [],
   "source": [
    "# Display the training and validation loss curves\n",
    "\n",
    "cnn_plot.show_loss(\n",
    "\treport   = report,\n",
    "\ttitle    = 'MSE Loss',\n",
    "\tfilename = os.path.join(OUT_PLOT, model.__name__)\n",
    ")"
   ]
  },
  {
   "cell_type": "code",
   "execution_count": null,
   "id": "d829024c-eea1-4c80-bf99-16d3f11b158b",
   "metadata": {},
   "outputs": [],
   "source": [
    "# Display the training and validation learning rate curves\n",
    "\n",
    "cnn_plot.show_lr(\n",
    "\treport   = report,\n",
    "\ttitle    = 'Reduce On Plateau',\n",
    "\tfilename = os.path.join(OUT_PLOT, model.__name__)\n",
    ")"
   ]
  },
  {
   "cell_type": "code",
   "execution_count": null,
   "id": "c8c3808e-94c0-493d-b546-391eeaff7250",
   "metadata": {},
   "outputs": [],
   "source": [
    "# Display the training and validation r2 score curves\n",
    "\n",
    "cnn_plot.show_r2(\n",
    "\treport   = report,\n",
    "\ttitle    = 'R2 Score',\n",
    "\tfilename = os.path.join(OUT_PLOT, model.__name__)\n",
    ")"
   ]
  },
  {
   "cell_type": "code",
   "execution_count": null,
   "id": "002ccf4d-3d4c-43a8-b404-227e84c15fcb",
   "metadata": {},
   "outputs": [],
   "source": [
    "# Display the training metrics per batch\n",
    "\n",
    "cnn_plot.show_metric_grid(\n",
    "\treport   = report,\n",
    "\tmode     = 'train',\n",
    "\tfilename = os.path.join(OUT_PLOT, model.__name__ + '-train')\n",
    ")"
   ]
  },
  {
   "cell_type": "code",
   "execution_count": null,
   "id": "cf59b9f0-7111-48e9-9243-20217324cad7",
   "metadata": {},
   "outputs": [],
   "source": [
    "# Display the validation metrics per batch\n",
    "\n",
    "cnn_plot.show_metric_grid(\n",
    "\treport   = report,\n",
    "\tmode     = 'valid',\n",
    "\tfilename = os.path.join(OUT_PLOT, model.__name__ + '-valid')\n",
    ")"
   ]
  },
  {
   "cell_type": "markdown",
   "id": "0bc6aafc-d3c2-4781-a45a-244b8dd02f8c",
   "metadata": {},
   "source": [
    "# 5. Evaluation"
   ]
  },
  {
   "cell_type": "markdown",
   "id": "e7e51b0f-b492-4cf7-8069-5bcb8a16a2c2",
   "metadata": {
    "tags": []
   },
   "source": [
    "## 5.1 Last Model"
   ]
  },
  {
   "cell_type": "markdown",
   "id": "1fcead0a-17bc-48f8-be9a-f42d64b88005",
   "metadata": {},
   "source": [
    "### 5.1.1 Evaluation"
   ]
  },
  {
   "cell_type": "code",
   "execution_count": null,
   "id": "3de7c56c-3c7c-42f4-81ad-9f047f4c8066",
   "metadata": {},
   "outputs": [],
   "source": [
    "# Load last model\n",
    "\n",
    "checkpoint = data_loader.load_torch(\n",
    "\tfilename = os.path.join(OUT_MODEL, model.__name__ + '-last.pth')\n",
    ")\n",
    "\n",
    "print('Epoch : ' + '{}'.format(checkpoint['epoch']))\n",
    "print('Loss  : ' + '{:.5f}'.format(checkpoint['loss']))\n",
    "\n",
    "model.load_state_dict(checkpoint['models'])"
   ]
  },
  {
   "cell_type": "code",
   "execution_count": null,
   "id": "3042f387-bdf2-4707-b46a-9d27bf244f70",
   "metadata": {},
   "outputs": [],
   "source": [
    "# Evaluate the full model\n",
    "\n",
    "report = cnn_model.eval_regressor(\n",
    "\tmodel  = model,\n",
    "\tparams = params\n",
    ")\n",
    "\n",
    "print('R2 Score : ' + '{: 8.5f}'.format(report['eval']['metric']['r2'].mean()))\n",
    "print('MAE Loss : ' + '{: 8.5f}'.format(report['eval']['metric']['mae'].mean()))\n",
    "print('MSE Loss : ' + '{: 8.5f}'.format(report['eval']['metric']['mse'].mean()))"
   ]
  },
  {
   "cell_type": "markdown",
   "id": "4b554a9f-498e-47e1-9526-7dff8b6e34b4",
   "metadata": {
    "tags": []
   },
   "source": [
    "### 5.1.2 Custom"
   ]
  },
  {
   "cell_type": "code",
   "execution_count": null,
   "id": "f6300e23-3468-4c27-9e2c-36a086560045",
   "metadata": {},
   "outputs": [],
   "source": [
    "# Display the first few evaluation item predictions and expectations\n",
    "\n",
    "cnn_util.display_regression_predictions(report = report, n = 2)"
   ]
  },
  {
   "cell_type": "code",
   "execution_count": null,
   "id": "8cb1acc5-aa4f-44e1-96cc-0e5d2285df16",
   "metadata": {},
   "outputs": [],
   "source": [
    "# Display the evaluation accuracy, as well as the amount of over and under predictions\n",
    "\n",
    "dataframe = cnn_util.display_regression_accuracy(\n",
    "\treport    = report,\n",
    "\torder     = tpm_order,\n",
    "\tthreshold = {\n",
    "\t\tkey : value[config['output']['group0'] + '-std']\n",
    "\t\tfor key, value in tpm_value.items()\n",
    "\t}\n",
    ").sort_values('Accuracy', ascending = False)\n",
    "\n",
    "print('Accuracy : {:6.2f} %'.format(dataframe['Accuracy'].mean()))\n",
    "print()\n",
    "\n",
    "dataframe"
   ]
  },
  {
   "cell_type": "markdown",
   "id": "20d3d9e8-2d2d-4cab-868d-64e6bb7eb442",
   "metadata": {},
   "source": [
    "### 5.1.3 Visualization"
   ]
  },
  {
   "cell_type": "code",
   "execution_count": null,
   "id": "9bda5cdd-f889-46ca-947b-0ba9817d7ac6",
   "metadata": {},
   "outputs": [],
   "source": [
    "# Display prediction error per group\n",
    "\n",
    "cnn_plot.show_prediction_error_grid(\n",
    "\treport   = report,\n",
    "\torder    = tpm_order,\n",
    "\tfilename = os.path.join(OUT_PLOT, model.__name__ + '-last')\n",
    ")"
   ]
  },
  {
   "cell_type": "code",
   "execution_count": null,
   "id": "745d614b-7c67-44fe-8a99-781bfc8aa48e",
   "metadata": {},
   "outputs": [],
   "source": [
    "# Display prediction linear regression per group\n",
    "\n",
    "cnn_plot.show_linear_regression_grid(\n",
    "\treport   = report,\n",
    "\torder    = tpm_order,\n",
    "\tfilename = os.path.join(OUT_PLOT, model.__name__ + '-last')\n",
    ")"
   ]
  },
  {
   "cell_type": "markdown",
   "id": "4771537e-91bc-4f06-8214-f9af478923cf",
   "metadata": {
    "tags": []
   },
   "source": [
    "### 5.1.4 Mutation"
   ]
  },
  {
   "cell_type": "code",
   "execution_count": null,
   "id": "b9b5f84a-f776-4a42-a96d-2c93c3d11b89",
   "metadata": {},
   "outputs": [],
   "source": [
    "# Evaluate the mutations\n",
    "\n",
    "report = cnn_model.eval_regressor(\n",
    "\tmodel  = model,\n",
    "\tparams = params | {\n",
    "\t\t'test_dataloader' : mutation_dataloader,\n",
    "\t\t'metrics' : {\n",
    "\t\t\t'mse'   : cnn_model.get_criterion(reduction = 'none', weights = None, query = 'mse'),\n",
    "\t\t\t'mae'   : cnn_model.get_criterion(reduction = 'none', weights = None, query = 'mae'),\n",
    "\t\t}\n",
    "\t}\n",
    ")\n",
    "\n",
    "print('MAE Loss : ' + '{: 8.5f}'.format(report['eval']['metric']['mae'].mean()))\n",
    "print('MSE Loss : ' + '{: 8.5f}'.format(report['eval']['metric']['mse'].mean()))"
   ]
  },
  {
   "cell_type": "code",
   "execution_count": null,
   "id": "8088539b-9ea4-40b4-b3c2-6c6afdba8cb0",
   "metadata": {},
   "outputs": [],
   "source": [
    "# Transform model report to mutation report\n",
    "\n",
    "mutation_report = cnn_mutation.get_mutation_report(report = report)\n",
    "\n",
    "transcript = list(mutation_report.keys())[0]\n",
    "mutation   = list(mutation_report[transcript].keys())[0]\n",
    "\n",
    "print('Transcripts : {}'.format(len(mutation_report)))\n",
    "print('Mutations   : {}'.format(len(mutation_report[transcript])))\n",
    "print('Variants    : {}'.format(len(mutation_report[transcript][mutation]['label'])))"
   ]
  },
  {
   "cell_type": "code",
   "execution_count": null,
   "id": "bb426c70-efc5-4021-b794-e9057a50eb83",
   "metadata": {},
   "outputs": [],
   "source": [
    "# Print mutations\n",
    "\n",
    "print(' ' + ' '.join(x if i % 10 != 0 else x + '\\n' for i, x in enumerate(mutation_report.keys(), start = 1)))"
   ]
  },
  {
   "cell_type": "code",
   "execution_count": null,
   "id": "b1e6cb98-a6b9-4ba5-85ed-61eebef2c5a7",
   "metadata": {},
   "outputs": [],
   "source": [
    "# Plot single transcript mutation variant predictions\n",
    "\n",
    "cnn_mutation.plot_mutation_regression(\n",
    "\treport     = mutation_report,\n",
    "\ttranscript = None,\n",
    "\tmutation   = 'M01',\n",
    "\torder      = tpm_order\n",
    ")"
   ]
  },
  {
   "cell_type": "code",
   "execution_count": null,
   "id": "26757804-cd04-46d8-bbd2-8471a0392d4e",
   "metadata": {},
   "outputs": [],
   "source": [
    "# Plot single transcript mutation variant predictions\n",
    "\n",
    "cnn_mutation.plot_mutation_regression(\n",
    "\treport     = mutation_report,\n",
    "\ttranscript = None,\n",
    "\tmutation   = 'M05',\n",
    "\torder      = tpm_order\n",
    ")"
   ]
  },
  {
   "cell_type": "code",
   "execution_count": null,
   "id": "ca42557f-8966-4d33-aac1-bd7d9366f154",
   "metadata": {},
   "outputs": [],
   "source": [
    "# Plot single transcript mutation variant predictions\n",
    "\n",
    "cnn_mutation.plot_mutation_regression(\n",
    "\treport     = mutation_report,\n",
    "\ttranscript = None,\n",
    "\tmutation   = 'M10',\n",
    "\torder      = tpm_order\n",
    ")"
   ]
  },
  {
   "cell_type": "markdown",
   "id": "99a0a29a-6ab4-4463-93f5-a38239558db7",
   "metadata": {},
   "source": [
    "## 5.2 Best Model"
   ]
  },
  {
   "cell_type": "markdown",
   "id": "4042128f-c9a9-4ddf-a435-aa9bec4e537f",
   "metadata": {},
   "source": [
    "### 5.2.1 Evaluation"
   ]
  },
  {
   "cell_type": "code",
   "execution_count": null,
   "id": "b30e7903-88eb-4e92-9f10-65c4a71d1b4c",
   "metadata": {},
   "outputs": [],
   "source": [
    "# Load best model\n",
    "\n",
    "checkpoint = data_loader.load_torch(\n",
    "\tfilename = os.path.join(OUT_MODEL, model.__name__ + '-best.pth')\n",
    ")\n",
    "\n",
    "print('Epoch : ' + '{}'.format(checkpoint['epoch']))\n",
    "print(' Loss : ' + '{:.5f}'.format(checkpoint['loss']))\n",
    "\n",
    "model.load_state_dict(checkpoint['models'])"
   ]
  },
  {
   "cell_type": "code",
   "execution_count": null,
   "id": "ae73e65d-f292-4570-ab58-9a662137d48f",
   "metadata": {},
   "outputs": [],
   "source": [
    "# Evaluate the full model\n",
    "\n",
    "report = cnn_model.eval_regressor(\n",
    "\tmodel  = model,\n",
    "\tparams = params\n",
    ")\n",
    "\n",
    "print('R2 Score : ' + '{: 8.5f}'.format(report['eval']['metric']['r2'].mean()))\n",
    "print('MAE Loss : ' + '{: 8.5f}'.format(report['eval']['metric']['mae'].mean()))\n",
    "print('MSE Loss : ' + '{: 8.5f}'.format(report['eval']['metric']['mse'].mean()))"
   ]
  },
  {
   "cell_type": "markdown",
   "id": "b4c52523-49d1-4613-9897-d9a4b8e22e50",
   "metadata": {},
   "source": [
    "### 5.2.2 Custom"
   ]
  },
  {
   "cell_type": "code",
   "execution_count": null,
   "id": "0097cf63-39e1-46e7-9f12-33b8cd860139",
   "metadata": {},
   "outputs": [],
   "source": [
    "# Display the first few evaluation item predictions and expectations\n",
    "\n",
    "cnn_util.display_regression_predictions(report = report, n = 2)"
   ]
  },
  {
   "cell_type": "code",
   "execution_count": null,
   "id": "d4ba93f6-d50d-450d-8d37-4a937f795ac3",
   "metadata": {},
   "outputs": [],
   "source": [
    "# Display the evaluation accuracy, as well as the amount of over and under predictions\n",
    "\n",
    "dataframe = cnn_util.display_regression_accuracy(\n",
    "\treport    = report,\n",
    "\torder     = tpm_order,\n",
    "\tthreshold = {\n",
    "\t\tkey : value[config['output']['group0'] + '-std']\n",
    "\t\tfor key, value in tpm_value.items()\n",
    "\t}\n",
    ").sort_values('Accuracy', ascending = False)\n",
    "\n",
    "print('Accuracy : {:6.2f} %'.format(dataframe['Accuracy'].mean()))\n",
    "print()\n",
    "\n",
    "dataframe"
   ]
  },
  {
   "cell_type": "markdown",
   "id": "71e1984d-88b8-4a09-abec-17eb6c100def",
   "metadata": {},
   "source": [
    "### 5.2.3 Visualization"
   ]
  },
  {
   "cell_type": "code",
   "execution_count": null,
   "id": "5b6c0368-22fa-4df2-b1af-98f222e8ea16",
   "metadata": {},
   "outputs": [],
   "source": [
    "# Display prediction error per group\n",
    "\n",
    "cnn_plot.show_prediction_error_grid(\n",
    "\treport   = report,\n",
    "\torder    = tpm_order,\n",
    "\tfilename = os.path.join(OUT_PLOT, model.__name__ + '-best')\n",
    ")"
   ]
  },
  {
   "cell_type": "code",
   "execution_count": null,
   "id": "e4004492-e20b-4ad2-91cf-c11b6f564225",
   "metadata": {},
   "outputs": [],
   "source": [
    "# Display prediction linear regression per group\n",
    "\n",
    "cnn_plot.show_linear_regression_grid(\n",
    "\treport   = report,\n",
    "\torder    = tpm_order,\n",
    "\tfilename = os.path.join(OUT_PLOT, model.__name__ + '-best')\n",
    ")"
   ]
  },
  {
   "cell_type": "markdown",
   "id": "2a949ad0-5672-46fe-bf72-557d93cb0e8f",
   "metadata": {},
   "source": [
    "### 5.2.4 Mutation"
   ]
  },
  {
   "cell_type": "code",
   "execution_count": null,
   "id": "9df0eb5a-cf95-485d-8c02-a4bcbffb0702",
   "metadata": {},
   "outputs": [],
   "source": [
    "# Evaluate the mutations\n",
    "\n",
    "report = cnn_model.eval_regressor(\n",
    "\tmodel  = model,\n",
    "\tparams = params | {\n",
    "\t\t'test_dataloader' : mutation_dataloader,\n",
    "\t\t'metrics' : {\n",
    "\t\t\t'mse'   : cnn_model.get_criterion(reduction = 'none', weights = None, query = 'mse'),\n",
    "\t\t\t'mae'   : cnn_model.get_criterion(reduction = 'none', weights = None, query = 'mae'),\n",
    "\t\t}\n",
    "\t}\n",
    ")\n",
    "\n",
    "print('MAE Loss : ' + '{: 8.5f}'.format(report['eval']['metric']['mae'].mean()))\n",
    "print('MSE Loss : ' + '{: 8.5f}'.format(report['eval']['metric']['mse'].mean()))"
   ]
  },
  {
   "cell_type": "code",
   "execution_count": null,
   "id": "0f2b4bf6-8a72-42f6-a421-366c7e3c52f9",
   "metadata": {},
   "outputs": [],
   "source": [
    "# Transform model report to mutation report\n",
    "\n",
    "mutation_report = cnn_mutation.get_mutation_report(report = report)\n",
    "\n",
    "transcript = list(mutation_report.keys())[0]\n",
    "mutation   = list(mutation_report[transcript].keys())[0]\n",
    "\n",
    "print('Transcripts : {}'.format(len(mutation_report)))\n",
    "print('Mutations   : {}'.format(len(mutation_report[transcript])))\n",
    "print('Variants    : {}'.format(len(mutation_report[transcript][mutation]['label'])))"
   ]
  },
  {
   "cell_type": "code",
   "execution_count": null,
   "id": "ef4c2abe-b19d-4722-aebb-a92113240dde",
   "metadata": {},
   "outputs": [],
   "source": [
    "# Print mutations\n",
    "\n",
    "print(' ' + ' '.join(x if i % 10 != 0 else x + '\\n' for i, x in enumerate(mutation_report.keys(), start = 1)))"
   ]
  },
  {
   "cell_type": "code",
   "execution_count": null,
   "id": "89806eef-b9f5-47eb-bb62-a172737026a6",
   "metadata": {},
   "outputs": [],
   "source": [
    "# Plot single transcript mutation variant predictions\n",
    "\n",
    "cnn_mutation.plot_mutation_regression(\n",
    "\treport     = mutation_report,\n",
    "\ttranscript = None,\n",
    "\tmutation   = 'M01',\n",
    "\torder      = tpm_order\n",
    ")"
   ]
  },
  {
   "cell_type": "code",
   "execution_count": null,
   "id": "c3afbc98-2bc0-4af0-bd05-2445769e48e2",
   "metadata": {},
   "outputs": [],
   "source": [
    "# Plot single transcript mutation variant predictions\n",
    "\n",
    "cnn_mutation.plot_mutation_regression(\n",
    "\treport     = mutation_report,\n",
    "\ttranscript = None,\n",
    "\tmutation   = 'M05',\n",
    "\torder      = tpm_order\n",
    ")"
   ]
  },
  {
   "cell_type": "code",
   "execution_count": null,
   "id": "0c557beb-1780-4034-ac34-bb2c2b1f8a6f",
   "metadata": {
    "tags": []
   },
   "outputs": [],
   "source": [
    "# Plot single transcript mutation variant predictions\n",
    "\n",
    "cnn_mutation.plot_mutation_regression(\n",
    "\treport     = mutation_report,\n",
    "\ttranscript = None,\n",
    "\tmutation   = 'M10',\n",
    "\torder      = tpm_order\n",
    ")"
   ]
  }
 ],
 "metadata": {
  "kernelspec": {
   "display_name": "Python 3 (ipykernel)",
   "language": "python",
   "name": "python3"
  },
  "language_info": {
   "codemirror_mode": {
    "name": "ipython",
    "version": 3
   },
   "file_extension": ".py",
   "mimetype": "text/x-python",
   "name": "python",
   "nbconvert_exporter": "python",
   "pygments_lexer": "ipython3",
   "version": "3.10.7"
  }
 },
 "nbformat": 4,
 "nbformat_minor": 5
}
