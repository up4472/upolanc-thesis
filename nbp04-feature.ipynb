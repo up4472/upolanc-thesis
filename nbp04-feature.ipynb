{
 "cells": [
  {
   "cell_type": "code",
   "execution_count": 1,
   "id": "7ba8fcad-d3c5-43d4-b99b-a9dbafcc38fd",
   "metadata": {},
   "outputs": [],
   "source": [
    "# Libraries\n",
    "\n",
    "import numpy\n",
    "import os\n",
    "import shutil\n",
    "import warnings"
   ]
  },
  {
   "cell_type": "code",
   "execution_count": 2,
   "id": "af2d1a13-8af4-4612-8428-0c6d6d0444fd",
   "metadata": {},
   "outputs": [],
   "source": [
    "# Code\n",
    "\n",
    "from src.data.feature import feature as data_feature\n",
    "from src.io           import loader  as data_loader\n",
    "from src.io           import writer  as data_writer"
   ]
  },
  {
   "cell_type": "markdown",
   "id": "46ebed75-3c90-4dc3-acb5-b9dffb12d5da",
   "metadata": {},
   "source": [
    "# 1. Setup"
   ]
  },
  {
   "cell_type": "code",
   "execution_count": 3,
   "id": "41d3dd6d-ed46-4a86-afe8-15f1f1be4895",
   "metadata": {},
   "outputs": [
    {
     "name": "stdout",
     "output_type": "stream",
     "text": [
      "     Root Directory : C:\\Developer\\Workspace\\PyCharm\\Projects\\upolanc-thesis\n",
      "   Output Directory : C:\\Developer\\Workspace\\PyCharm\\Projects\\upolanc-thesis\\out\n",
      " Resource Directory : C:\\Developer\\Workspace\\PyCharm\\Projects\\upolanc-thesis\\res\n"
     ]
    }
   ],
   "source": [
    "# Setup some directory paths\n",
    "\n",
    "OUT_SUBFOLDER = 'nbp04-feature'\n",
    "RES_SUBFOLDER = ''\n",
    "\n",
    "CWD = os.getcwd()\n",
    "OUT = os.path.join(CWD, 'out')\n",
    "RES = os.path.join(CWD, 'res')\n",
    "\n",
    "OUT_DATA  = os.path.join(OUT, 'data',  OUT_SUBFOLDER)\n",
    "RES_PLANT = os.path.join(RES, 'plant', RES_SUBFOLDER)\n",
    "RES_NBP01 = os.path.join(OUT, 'data',  'nbp01-analysis')\n",
    "\n",
    "shutil.rmtree(OUT_DATA, ignore_errors = True)\n",
    "\n",
    "os.makedirs(OUT_DATA, exist_ok = True)\n",
    "\n",
    "print(f'     Root Directory : {CWD}')\n",
    "print(f'   Output Directory : {OUT}')\n",
    "print(f' Resource Directory : {RES}')"
   ]
  },
  {
   "cell_type": "code",
   "execution_count": 4,
   "id": "fd6c27b1-4c0a-497f-b961-a73b659797e7",
   "metadata": {},
   "outputs": [],
   "source": [
    "# Load the annotated and cleaned data\n",
    "\n",
    "gene_assembly = data_loader.load_faidx(\n",
    "\tfilename  = os.path.join(RES_PLANT, 'arabidopsis-r36', 'gene-assembly.fa')\n",
    ")\n",
    "\n",
    "gene_annotation = data_loader.load_csv(\n",
    "\tfilename   = os.path.join(RES_NBP01, 'gene-annotation.csv'),\n",
    "\tlow_memory = False\n",
    ")"
   ]
  },
  {
   "cell_type": "markdown",
   "id": "bebe8d4d-a097-4dd5-90cd-b2821dbfa2ba",
   "metadata": {},
   "source": [
    "# 2. Lengths"
   ]
  },
  {
   "cell_type": "code",
   "execution_count": 5,
   "id": "646e4086-0192-439f-b154-c819f87dd4ba",
   "metadata": {},
   "outputs": [],
   "source": [
    "# Define the region lengths\n",
    "\n",
    "lengths = {\n",
    "\t'prom_full' : [int(1000), int(500)],\n",
    "\t'prom'      :  int(1000),\n",
    "\t'utr5'      :  int( 300),\n",
    "\t'cds'       :  int(9000),\n",
    "\t'utr3'      :  int( 350),\n",
    "\t'term'      :  int( 500),\n",
    "\t'term_full' : [int( 500), int(500)]\n",
    "}"
   ]
  },
  {
   "cell_type": "markdown",
   "id": "115d104b-4935-46c3-9868-a7660f8b688c",
   "metadata": {
    "tags": []
   },
   "source": [
    "# 3. Gene Regions"
   ]
  },
  {
   "cell_type": "code",
   "execution_count": 6,
   "id": "8b4b8b12-4f5e-4500-aa48-3a1373fc7a92",
   "metadata": {},
   "outputs": [
    {
     "name": "stdout",
     "output_type": "stream",
     "text": [
      "Passed 1st assertion : True\n",
      "Passed 2nd assertion : True\n",
      "\n",
      "Total unique mRNA regions : 31685\n"
     ]
    }
   ],
   "source": [
    "# Group annotations into regions\n",
    "\n",
    "regions = data_feature.annotation_to_regions(\n",
    "\tannotation = gene_annotation,\n",
    "\tlengths    = lengths\n",
    ")\n",
    "\n",
    "print()\n",
    "print(f'Total unique mRNA regions : {len(regions)}')"
   ]
  },
  {
   "cell_type": "markdown",
   "id": "1633d701-8e6b-4a53-92d6-a882b627750d",
   "metadata": {},
   "source": [
    "# 4. Gene Features"
   ]
  },
  {
   "cell_type": "code",
   "execution_count": 7,
   "id": "4b65bf86-8326-41d8-b1ed-c15187240bba",
   "metadata": {},
   "outputs": [
    {
     "data": {
      "application/vnd.jupyter.widget-view+json": {
       "model_id": "0ad850f8885047baae75c4f4ae5f4bf2",
       "version_major": 2,
       "version_minor": 0
      },
      "text/plain": [
       "  0%|          | 0/31685 [00:00<?, ?it/s]"
      ]
     },
     "metadata": {},
     "output_type": "display_data"
    },
    {
     "name": "stdout",
     "output_type": "stream",
     "text": [
      "[AT1G33612.1 ] : unknown codon [GYG]\n",
      "[AT2G01120.1 ] : unknown codon [GKT]\n",
      "[AT2G01120.1 ] : unknown codon [STA]\n",
      "[AT2G01120.1 ] : unknown codon [GAK]\n",
      "[AT2G01120.1 ] : unknown codon [KTG]\n",
      "[AT2G01120.2 ] : unknown codon [GKT]\n",
      "[AT2G01120.2 ] : unknown codon [STA]\n",
      "[AT2G01120.2 ] : unknown codon [GAK]\n",
      "[AT2G01120.2 ] : unknown codon [KTG]\n",
      "[AT2G48110.1 ] : unknown codon [GCM]\n",
      "[AT3G63540.1 ] : out of bounds at sequence end\n"
     ]
    }
   ],
   "source": [
    "# Convert the regions into sequences and features\n",
    "\n",
    "sequences, features = data_feature.regions_to_features(\n",
    "\tfaidx     = gene_assembly,\n",
    "\tdataframe = regions,\n",
    "\tlengths   = lengths\n",
    ")"
   ]
  },
  {
   "cell_type": "code",
   "execution_count": 8,
   "id": "8e3310dc-8296-47e5-99f6-faf003508e95",
   "metadata": {},
   "outputs": [],
   "source": [
    "# Convert the dataframe into a dictionary for ease of use\n",
    "\n",
    "sequences = sequences.copy()\n",
    "sequences = sequences.set_index('mRNA', drop = False)\n",
    "sequences = sequences.rename_axis(None, axis = 'index')\n",
    "sequences = sequences.to_dict('index')"
   ]
  },
  {
   "cell_type": "code",
   "execution_count": 9,
   "id": "2df35250-a75c-4e11-a200-e6cb638bbc25",
   "metadata": {},
   "outputs": [],
   "source": [
    "# Add a header field with more transcript information\n",
    "\n",
    "sequences = data_feature.sequences_extend_kvpair(\n",
    "\tsequences = sequences,\n",
    "\tregions   = regions,\n",
    "\theader    = '{} | {} | {}:{}-{} | {}'\n",
    ")"
   ]
  },
  {
   "cell_type": "code",
   "execution_count": 10,
   "id": "2f313440-253f-4977-9d38-11b46acf541a",
   "metadata": {},
   "outputs": [
    {
     "name": "stdout",
     "output_type": "stream",
     "text": [
      "AT1G01010.1 | + | 1:2631-3630 | 1000\n",
      "ATATTGCTAT TTCTGCCAAT ATTAAAACTT CACTTAGGAA GACTTGAACC TACCACACGT TAGTGACTAA TGAGAGCCAC TAGATAATTG CATGCATCCC \n",
      "ACACTAGTAC TAATTTTCTA GGGATATTAG AGTTTTCTAA TCACCTACTT CCTACTATGT GTATGTTATC TACTGGCGTG GATGCTTTTA AAGATGTTAC \n",
      "GTTATTATTT TGTTCGGTTT GGAAAACGGC TCAATCGTTA TGAGTTCGTA AGACACATAC ATTGTTCCAT GATAAAATGC AACCCCACGA ACCATTTGCG \n",
      "ACAAGCAAAA CAACATGGTC AAAATTAAAA GCTAACAATT AGCCAGCGAT TCAAAAAGTC AACCTTCTAG ATGGATTTAA CAACATATCG ATAGGATTCA \n",
      "AGATTAAAAA TAAGCACACT CTTATTAATG TTAAAAAACG AATGAGATGA AAATATTTGG CGTGTTCACA CACATAATCT AGAAGACAGA TTCGAGTTGC \n",
      "TCTCCTTTGT TTTGCTTTGG GAGGGACCCA TTATTACCGC CCAGCAGCTT CCCAGCCTTC CTTTATAAGG CTTAATTTAT ATTTATTTAA ATTTTATATG \n",
      "TTCTTCTATT ATAATACTAA AAGGGGAATA CAAATTTCTA CAGAGGATGA TATTCAATCC ACGGTTCACC CAAACCGATT TTATAAAATT TATTATTAAA \n",
      "TCTTTTTTAA TTGTTAAATT GGTTTAAATC TGAACTCTGT TTACTTACAT TGATTAAAAT TCTAAACCAT CATAAGTAAA AAATAATATG ATTAAGACTA \n",
      "ATAAATCTTA ATAGTTAATA CTACTCGGTT TACTACATGA AATTTCATAC CATCAATTGT TTTAATAATC TTTAAAATTG TTAGGACCGG TAAAACCATA \n",
      "CCAATTAAAC CGGAGATCCA TATTAATTTA ATTAAGAAAA TAAAAATAAA AGGAATAAAT TGTCTTATTT AAACGCTGAC TTCACTGTCT TCCTCCCTCC \n",
      "\n",
      "AT1G01010.1 | + | 1:3631-3759 | 129\n",
      "AAATTATTAG ATATACCAAA CCAGAGAAAA CAAATACATA ATCGGAGAAA TACAGATTAC AGAGAGCGAG AGAGATCGAC GGCGAAGCTC TTTACCCGGA \n",
      "AACCATTGAA ATCGGACGGT TTAGTGAAA \n",
      "\n",
      "AT1G01010.1 | + | 1:3760-5630 | 1290\n",
      "ATGGAGGATC AAGTTGGGTT TGGGTTCCGT CCGAACGACG AGGAGCTCGT TGGTCACTAT CTCCGTAACA AAATCGAAGG AAACACTAGC CGCGACGTTG \n",
      "AAGTAGCCAT CAGCGAGGTC AACATCTGTA GCTACGATCC TTGGAACTTG CGCTTCCAGT CAAAGTACAA ATCGAGAGAT GCTATGTGGT ACTTCTTCTC \n",
      "TCGTAGAGAA AACAACAAAG GGAATCGACA GAGCAGGACA ACGGTTTCTG GTAAATGGAA GCTTACCGGA GAATCTGTTG AGGTCAAGGA CCAGTGGGGA \n",
      "TTTTGTAGTG AGGGCTTTCG TGGTAAGATT GGTCATAAAA GGGTTTTGGT GTTCCTCGAT GGAAGATACC CTGACAAAAC CAAATCTGAT TGGGTTATCC \n",
      "ACGAGTTCCA CTACGACCTC TTACCAGAAC ATCAGAGGAC ATATGTCATC TGCAGACTTG AGTACAAGGG TGATGATGCG GACATTCTAT CTGCTTATGC \n",
      "AATAGATCCC ACTCCCGCTT TTGTCCCCAA TATGACTAGT AGTGCAGGTT CTGTGGTCAA CCAATCACGT CAACGAAATT CAGGATCTTA CAACACTTAC \n",
      "TCTGAGTATG ATTCAGCAAA TCATGGCCAG CAGTTTAATG AAAACTCTAA CATTATGCAG CAGCAACCAC TTCAAGGATC ATTCAACCCT CTCCTTGAGT \n",
      "ATGATTTTGC AAATCACGGC GGTCAGTGGC TGAGTGACTA TATCGACCTG CAACAGCAAG TTCCTTACTT GGCACCTTAT GAAAATGAGT CGGAGATGAT \n",
      "TTGGAAGCAT GTGATTGAAG AAAATTTTGA GTTTTTGGTA GATGAAAGGA CATCTATGCA ACAGCATTAC AGTGATCACC GGCCCAAAAA ACCTGTGTCT \n",
      "GGGGTTTTGC CTGATGATAG CAGTGATACT GAAACTGGAT CAATGATTTT CGAAGACACT TCGAGCTCCA CTGATAGTGT TGGTAGTTCA GATGAACCGG \n",
      "GCCATACTCG TATAGATGAT ATTCCATCAT TGAACATTAT TGAGCCTTTG CACAATTATA AGGCACAAGA GCAACCAAAG CAGCAGAGCA AAGAAAAGGT \n",
      "GATAAGTTCG CAGAAAAGCG AATGCGAGTG GAAAATGGCT GAAGACTCGA TCAAGATACC TCCATCCACC AACACGGTGA AGCAGAGCTG GATTGTTTTG \n",
      "GAGAATGCAC AGTGGAACTA TCTCAAGAAC ATGATCATTG GTGTCTTGTT GTTCATCTCC GTCATTAGTT GGATCATTCT TGTTGGTTAA \n",
      "\n",
      "AT1G01010.1 | + | 1:5631-5899 | 269\n",
      "GAGGTCAAAT CGGATTCTTG CTCAAAATTT GTATTTCTTA GAATGTGTGT TTTTTTTTGT TTTTTTTTCT TTGCTCTGTT TTCTCGCTCC GGAAAAGTTT \n",
      "GAAGTTATAT TTTATTAGTA TGTAAAGAAG AGAAAAAGGG GGAAAGAAGA GAGAAGAAAA ATGCAGAAAA TCATATATAT GAATTGGAAA AAAGTATATG \n",
      "TAATAATAAT TAGTGCATCG TTTTGTGGTG TAGTTTATAT AAATAAAGTG ATATATAGTC TTGTATAAG \n",
      "\n",
      "AT1G01010.1 | + | 1:5900-6399 | 500\n",
      "AAAGGGATTT TACATGAGAC CCAAATATGA GTAAAGGGTG TTGGCTCAAA GATTCATTTA GCAACCAAAG TTGCATTTGC AAGGAAATGA AAAGGTGTTA \n",
      "ACAATGTCAC TGCGTAACAT GACTTCGATA CAAAATCTCA AACAATACAT CTTCAACTGT GGATTATGAT GGACTTGGGG TTGCAGGTGA TATGTCTATA \n",
      "GAAAAACGGG TGGGAATGGA AAATGGCTGA AGAAGAAAGC TCCAACTAAG CATCATAACT GGATTGTTTT AGAGGAGATG AGTCAAAGGA ATTCACAGTG \n",
      "GAACTATCTC AAGAACATGA TCATTGGCTT CTTATTGTTC ATCTCCATCA TTGGCTGGAT CATTCTGGTT CAAGAGGTCA AATTATATAT ACATAACGGA \n",
      "TCTAAGAAGT ATAGTGTAGT CAATTAAAAC AAAACGAGAC TTGAAAATAA GCATAAGTAT TATTAAGTTA ACCCAATATT CGTTTCAATG CTTTAGTTAT \n",
      "\n"
     ]
    }
   ],
   "source": [
    "# Example of a positive strand\n",
    "\n",
    "data_feature.print_extracted_sequence(\n",
    "\tmrna      = 'AT1G01010.1',\n",
    "\tsequences = sequences,\n",
    "\tspace     = True\n",
    ")"
   ]
  },
  {
   "cell_type": "code",
   "execution_count": 11,
   "id": "83d09452-4c1e-4484-bfba-c1100c1393f2",
   "metadata": {},
   "outputs": [
    {
     "name": "stdout",
     "output_type": "stream",
     "text": [
      "AT1G01020.1 | - | 1:9129-10128 | 1000\n",
      "ATAAATATAT GAACCTACAT CATTATAAGT AGGGTTAAGT GTGTATGATT GTGTATGCGT ATAAAAATAC TCCCTTGACC GTAAACATGA AACATGTAAT \n",
      "ATATAAGATA TATAGACATG GAGACTATAT CATATAAACA TACATATATA TATATATGTT AGTTATATGT GTAGCCCACA TTTTTCGATA TAGGGGAACA \n",
      "AAGTTACGAA TAATGTATAT GTTAGTTATA TGTATAAAAC ATTTGCAAAG GGATGATACA ATGGAATATG TAAATACGTA TTCCAAATAG TCTACAAGTA \n",
      "GCAATGATAT TGTGTAGATA TGTCTCATAA AGGCTTGTGC TATTATATTG TGTAGATGTG TCTCAAAAGG CTTGTGCATA GTTGTCAAAA GAATATAAAA \n",
      "TGCATTTTAA TATTCAAAAG AATGCATGCA TAGACTGATA GAAAAGAAGA AATAATGAAA ATTAAAAGGG GAGGTATTAG TGAAAAGTAC GGAGGTATTA \n",
      "AAATTATGAA AATGACTAAA GGAAATAATA TTGTAACACA TCTAAATGAT TAGTTGTGTA AGAAGAATAA AGAGAATTAA TGACATGCTC CAATTATTGT \n",
      "TAAATAAAAT AAAATAATTC ATTCTCATTA GATTCCTGAC CTAAAAGAGA CTGCAAATAT GTAGGCCGGT TAGGGTTTTC ATAGGCATGA TTAATGATGA \n",
      "TAAGGAAACT TCGTATTGGG GGTTAATGGG TTCTTTCCCT TTCTAATACA TTTCTAAATA AAGTAATAAT CAAATATTAA ACTTTTAACT TACCGTTTCA \n",
      "TTTTTATGTT GAGTTTACTT ATATTGAAAG GAAACTATTT TATCTAAACC TCATTGTCAA ATCTTTCATT TTGTAGCCAT ATGCTAATTA CATGCAACAA \n",
      "AAGGAGTTTT TTTTGTTTGG TGTGGCAAAC GAAGATTTAT TTACCTTTCT TATTTAATCA AACTAAATAA ATTTCTTCAC TGTTGAATTG TAATAAATAA \n",
      "\n",
      "AT1G01020.1 | - | 1:8667-9130 | 300\n",
      "GGCCTATAAT ATGTTTCATT CATGAACCTA CGCATTTTAA AATGCTATGT CATATGGACA AGATTTTGAT CCAAATTGAA CTATTTATAA ATTACAACGT \n",
      "GTATATGATT TTTAAATTTT GGGGTACAAA TACCCCGGCT TAGAGCAAAA GTGGGCCTAA CAAATTTAAA GTTAAGACTT CAAAAACTTG GCCCATGAAT \n",
      "AAGCCCATTT AGGGTTAAAA CAGTAGCCCA GACCCGGACT CTAATTGCTC CGTATTCTTC TTCTCTTGAG AGAGAGAGAG AGAGAGAGAG AGAGAGAGCA \n",
      "\n",
      "AT1G01020.1 | - | 1:6915-8666 | 738\n",
      "ATGGCGGCGA GTGAACACAG ATGCGTGGGA TGTGGTTTTA GGGTAAAGTC ATTGTTCATT CAATACTCTC CGGGTAACAT TCGTCTCATG AAATGCGGAA \n",
      "ATTGCAAGGA AGTAGCAGAT GAGTACATCG AGTGTGAACG CATGATTATT TTCATCGATT TAATCCTTCA CAGACCAAAG GTATATAGAC ACGTCCTCTA \n",
      "CAATGCAATT AATCCAGCAA CTGTCAATAT TCAGCATCTG TTGTGGAAGT TGGTCTTCGC CTATCTTCTT CTAGACTGTT ATAGAAGCTT GCTACTGAGA \n",
      "AAAAGTGATG AAGAATCGAG CTTTTCTGAT AGCCCTGTTC TTCTATCTAT AAAGGTTCTG ATTGGTGTCT TATCTGCAAA CGCTGCATTT ATCATCTCTT \n",
      "TTGCCATTGC GACTAAGGGT TTGCTAAATG AAGTTTCCAG AAGAAGAGAG ATTATGTTGG GGATATTCAT CTCTAGTTAC TTCAAGATAT TTCTGCTTGC \n",
      "GATGTTGGTA TGGGAATTCC CAATGTCAGT GATTTTTTTT GTCGATATAC TTCTCTTAAC ATCAAACTCC ATGGCTCTTA AAGTGATGAC TGAATCAACA \n",
      "ATGACCAGAT GCATAGCCGT ATGCTTAATC GCGCACTTGA TTAGATTCTT GGTGGGTCAG ATTTTTGAGC CGACAATATT TTTGATACAA ATTGGATCTC \n",
      "TGTTGCAATA TATGTCTTAT TTTTTCAGAA TCGTATGA \n",
      "\n",
      "AT1G01020.1 | - | 1:6788-6914 | 127\n",
      "TCCCATCAGC TTCCAGTATA GTCTTTTGGT TTGAAGATAA GAGAAACCTT TACATTATTA TACCATACTG TATTTTATGA CTAAGCCAAA TATTATCGCC \n",
      "ACCAAAAATT GAATTAGACC TTACTAA \n",
      "\n",
      "AT1G01020.1 | - | 1:6290-6789 | 500\n",
      "AAAATATCAA AAGTTAATTG TTGGTCTGTT ACTCTGTGCG GGCGGATATA ACTCAACCAC CTACAATTAT TTGCCCTACA AAAACCTTGT TCCTCACGAT \n",
      "ATCGTCGCTC CATCTTTCTT GGAATGCTGG GCATATGTGG TGGTACCCTC CTTGGAATGG TGGGCATATG TGGAACCCTC CTATGAATGT TGGAGATATG \n",
      "TGGGACTCTC CTATGAATGT GGGGCATCAA CACATTGTTG CAACACCAAG TGAATGTCAT AGGAAAGACG AGGAGACGGT TGAAGCCGAA GTTGAGGCTC \n",
      "CCCTTGATTC TTATCCGGAG AATGCTACTA CCATGGCGAG AAAGCAACCA AAGGCAAGTT AAATATCTGA AAATGTTGAG AATTCTGATG ATAACTAAAG \n",
      "CATTGAAACG AATATTGGGT TAACTTAATA ATACTTATGC TTATTTTCAA GTCTCGTTTT GTTTTAATTG ACTACACTAT ACTTCTTAGA TCCGTTATGT \n",
      "\n"
     ]
    }
   ],
   "source": [
    "# Example of a negative strand\n",
    "\n",
    "data_feature.print_extracted_sequence(\n",
    "\tmrna      = 'AT1G01020.1',\n",
    "\tsequences = sequences,\n",
    "\tspace     = True\n",
    ")"
   ]
  },
  {
   "cell_type": "code",
   "execution_count": 12,
   "id": "b554fd5b-908b-4b92-b0b6-e0e4e82d4152",
   "metadata": {},
   "outputs": [],
   "source": [
    "# Save the gene regions (non-padded)\n",
    "\n",
    "tuples = [\n",
    "\t('Prom_Full', 'promoter-full'),\n",
    "\t('Prom',      'promoter'),\n",
    "\t('UTR5',      'utr5'),\n",
    "\t('CDS',       'cds'),\n",
    "\t('UTR3',      'utr3'),\n",
    "\t('Term',      'terminator'),\n",
    "\t('Term_Full', 'terminator-full')\n",
    "]\n",
    "\n",
    "for region, filename in tuples :\n",
    "\tdata_writer.write_fasta(\n",
    "\t\tdata = {\n",
    "\t\t\titem[region]['key'] : item[region]['seq']\n",
    "\t\t\tfor item in sequences.values()\n",
    "\t\t},\n",
    "\t\tfilename = os.path.join(OUT_DATA, f'sequences-{filename}.fasta')\n",
    "\t)"
   ]
  },
  {
   "cell_type": "code",
   "execution_count": 13,
   "id": "c9e2a11f-a5ed-4f91-bc6a-86fba8fb6b3f",
   "metadata": {},
   "outputs": [],
   "source": [
    "# Merge regions and pad accordingly\n",
    "\n",
    "bp2150 = data_feature.merge_and_pad_sequences(\n",
    "\tsequences = sequences,\n",
    "\tlengths   = lengths,\n",
    "\tpadding   = {\n",
    "\t\t'prom' : 'left',\n",
    "\t\t'utr5' : 'left',\n",
    "\t\t'utr3' : 'left',\n",
    "\t\t'term' : 'right'\n",
    "\t}\n",
    ")"
   ]
  },
  {
   "cell_type": "code",
   "execution_count": 14,
   "id": "0a0fb323-d623-4411-948e-80a0721afbba",
   "metadata": {},
   "outputs": [
    {
     "name": "stdout",
     "output_type": "stream",
     "text": [
      "AT1G01010.1 | + | 1:2631-6399 | 2150\n",
      "ATATTGCTAT TTCTGCCAAT ATTAAAACTT CACTTAGGAA GACTTGAACC TACCACACGT TAGTGACTAA TGAGAGCCAC TAGATAATTG CATGCATCCC \n",
      "ACACTAGTAC TAATTTTCTA GGGATATTAG AGTTTTCTAA TCACCTACTT CCTACTATGT GTATGTTATC TACTGGCGTG GATGCTTTTA AAGATGTTAC \n",
      "GTTATTATTT TGTTCGGTTT GGAAAACGGC TCAATCGTTA TGAGTTCGTA AGACACATAC ATTGTTCCAT GATAAAATGC AACCCCACGA ACCATTTGCG \n",
      "ACAAGCAAAA CAACATGGTC AAAATTAAAA GCTAACAATT AGCCAGCGAT TCAAAAAGTC AACCTTCTAG ATGGATTTAA CAACATATCG ATAGGATTCA \n",
      "AGATTAAAAA TAAGCACACT CTTATTAATG TTAAAAAACG AATGAGATGA AAATATTTGG CGTGTTCACA CACATAATCT AGAAGACAGA TTCGAGTTGC \n",
      "TCTCCTTTGT TTTGCTTTGG GAGGGACCCA TTATTACCGC CCAGCAGCTT CCCAGCCTTC CTTTATAAGG CTTAATTTAT ATTTATTTAA ATTTTATATG \n",
      "TTCTTCTATT ATAATACTAA AAGGGGAATA CAAATTTCTA CAGAGGATGA TATTCAATCC ACGGTTCACC CAAACCGATT TTATAAAATT TATTATTAAA \n",
      "TCTTTTTTAA TTGTTAAATT GGTTTAAATC TGAACTCTGT TTACTTACAT TGATTAAAAT TCTAAACCAT CATAAGTAAA AAATAATATG ATTAAGACTA \n",
      "ATAAATCTTA ATAGTTAATA CTACTCGGTT TACTACATGA AATTTCATAC CATCAATTGT TTTAATAATC TTTAAAATTG TTAGGACCGG TAAAACCATA \n",
      "CCAATTAAAC CGGAGATCCA TATTAATTTA ATTAAGAAAA TAAAAATAAA AGGAATAAAT TGTCTTATTT AAACGCTGAC TTCACTGTCT TCCTCCCTCC \n",
      "NNNNNNNNNN NNNNNNNNNN NNNNNNNNNN NNNNNNNNNN NNNNNNNNNN NNNNNNNNNN NNNNNNNNNN NNNNNNNNNN NNNNNNNNNN NNNNNNNNNN \n",
      "NNNNNNNNNN NNNNNNNNNN NNNNNNNNNN NNNNNNNNNN NNNNNNNNNN NNNNNNNNNN NNNNNNNNNN NAAATTATTA GATATACCAA ACCAGAGAAA \n",
      "ACAAATACAT AATCGGAGAA ATACAGATTA CAGAGAGCGA GAGAGATCGA CGGCGAAGCT CTTTACCCGG AAACCATTGA AATCGGACGG TTTAGTGAAA \n",
      "NNNNNNNNNN NNNNNNNNNN NNNNNNNNNN NNNNNNNNNN NNNNNNNNNN NNNNNNNNNN NNNNNNNNNN NNNNNNNNNN NGAGGTCAAA TCGGATTCTT \n",
      "GCTCAAAATT TGTATTTCTT AGAATGTGTG TTTTTTTTTG TTTTTTTTTC TTTGCTCTGT TTTCTCGCTC CGGAAAAGTT TGAAGTTATA TTTTATTAGT \n",
      "ATGTAAAGAA GAGAAAAAGG GGGAAAGAAG AGAGAAGAAA AATGCAGAAA ATCATATATA TGAATTGGAA AAAAGTATAT GTAATAATAA TTAGTGCATC \n",
      "GTTTTGTGGT GTAGTTTATA TAAATAAAGT GATATATAGT CTTGTATAAG AAAGGGATTT TACATGAGAC CCAAATATGA GTAAAGGGTG TTGGCTCAAA \n",
      "GATTCATTTA GCAACCAAAG TTGCATTTGC AAGGAAATGA AAAGGTGTTA ACAATGTCAC TGCGTAACAT GACTTCGATA CAAAATCTCA AACAATACAT \n",
      "CTTCAACTGT GGATTATGAT GGACTTGGGG TTGCAGGTGA TATGTCTATA GAAAAACGGG TGGGAATGGA AAATGGCTGA AGAAGAAAGC TCCAACTAAG \n",
      "CATCATAACT GGATTGTTTT AGAGGAGATG AGTCAAAGGA ATTCACAGTG GAACTATCTC AAGAACATGA TCATTGGCTT CTTATTGTTC ATCTCCATCA \n",
      "TTGGCTGGAT CATTCTGGTT CAAGAGGTCA AATTATATAT ACATAACGGA TCTAAGAAGT ATAGTGTAGT CAATTAAAAC AAAACGAGAC TTGAAAATAA \n",
      "GCATAAGTAT TATTAAGTTA ACCCAATATT CGTTTCAATG CTTTAGTTAT \n",
      "\n"
     ]
    }
   ],
   "source": [
    "# Display an example of a merged mrna sequence\n",
    "\n",
    "data_feature.print_padded_sequence(\n",
    "\tmrna      = 'AT1G01010.1',\n",
    "\tsequences = bp2150,\n",
    "\tspace     = True\n",
    ")"
   ]
  },
  {
   "cell_type": "code",
   "execution_count": 15,
   "id": "23489337-1d89-4929-bc89-f7d87567effd",
   "metadata": {},
   "outputs": [],
   "source": [
    "# Save the gene features\n",
    "\n",
    "data_writer.write_fasta(\n",
    "\tdata     = bp2150,\n",
    "\tfilename = os.path.join(OUT_DATA, f'features-bp2150.fasta')\n",
    ")"
   ]
  },
  {
   "cell_type": "code",
   "execution_count": 16,
   "id": "eed469dc-1a15-418f-9350-a5aee1bf5481",
   "metadata": {},
   "outputs": [],
   "source": [
    "# Convert the dataframe into a dictionary for ease of use\n",
    "\n",
    "features = features.copy()\n",
    "features = features.set_index('mRNA', drop = False)\n",
    "features = features.rename_axis(None, axis = 'index')\n",
    "features = features.to_dict('index')\n"
   ]
  },
  {
   "cell_type": "code",
   "execution_count": 17,
   "id": "26ba9574-a637-4a33-819f-4324df70c775",
   "metadata": {},
   "outputs": [],
   "source": [
    "# Save the gene features\n",
    "\n",
    "tuples = [\n",
    "\t('Frequency', 'frequency'),\n",
    "\t('Stability', 'stability')\n",
    "]\n",
    "\n",
    "for feature, filename in tuples :\n",
    "\tdata_writer.write_npz(\n",
    "\t\tdata = {\n",
    "\t\t\tkey : numpy.array(value[feature])\n",
    "\t\t\tfor key, value in features.items()\n",
    "\t\t},\n",
    "\t\tfilename = os.path.join(OUT_DATA, f'features-{filename}')\n",
    "\t)"
   ]
  }
 ],
 "metadata": {
  "kernelspec": {
   "display_name": "Python 3 (ipykernel)",
   "language": "python",
   "name": "python3"
  },
  "language_info": {
   "codemirror_mode": {
    "name": "ipython",
    "version": 3
   },
   "file_extension": ".py",
   "mimetype": "text/x-python",
   "name": "python",
   "nbconvert_exporter": "python",
   "pygments_lexer": "ipython3",
   "version": "3.10.7"
  }
 },
 "nbformat": 4,
 "nbformat_minor": 5
}
