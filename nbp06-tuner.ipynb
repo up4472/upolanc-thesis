{
 "cells": [
  {
   "cell_type": "code",
   "execution_count": 1,
   "id": "fe95fb87-61a3-4a60-a38c-878e6c7073fd",
   "metadata": {},
   "outputs": [],
   "source": [
    "# Libraries\n",
    "\n",
    "import json\n",
    "import numpy\n",
    "import os\n",
    "import shutil"
   ]
  },
  {
   "cell_type": "code",
   "execution_count": 2,
   "id": "6e2187b3-fd0c-4e6e-b02a-ffbe11f26afc",
   "metadata": {},
   "outputs": [],
   "source": [
    "# Tune\n",
    "\n",
    "from ray.air                  import RunConfig\n",
    "from ray.tune                 import JupyterNotebookReporter\n",
    "from ray.tune                 import TuneConfig\n",
    "from ray.tune                 import Tuner\n",
    "from ray.tune.logger          import CSVLoggerCallback\n",
    "from ray.tune.schedulers      import ASHAScheduler\n",
    "from ray.tune.search.bayesopt import BayesOptSearch\n",
    "from ray.tune.search.hyperopt import HyperOptSearch\n",
    "\n",
    "from ray import tune"
   ]
  },
  {
   "cell_type": "code",
   "execution_count": 3,
   "id": "53cad32c-4de4-412f-a1e9-9e48a8f77213",
   "metadata": {},
   "outputs": [],
   "source": [
    "# Code\n",
    "\n",
    "from src.cnn import raytune as cnn_raytune\n",
    "from src.cnn import core    as cnn_core\n",
    "from src.io  import loader  as data_loader"
   ]
  },
  {
   "cell_type": "markdown",
   "id": "d50a8f4a-ddce-4960-a822-3f612701ff0d",
   "metadata": {},
   "source": [
    "# 1. Setup"
   ]
  },
  {
   "cell_type": "code",
   "execution_count": 4,
   "id": "7d9d420a-cde8-46cb-be15-1f99347d9bdd",
   "metadata": {},
   "outputs": [
    {
     "name": "stdout",
     "output_type": "stream",
     "text": [
      "     Root Directory : C:\\Developer\\Workspace\\PyCharm\\Projects\\upolanc-thesis\n",
      "   Output Directory : C:\\Developer\\Workspace\\PyCharm\\Projects\\upolanc-thesis\\out\n",
      " Resource Directory : C:\\Developer\\Workspace\\PyCharm\\Projects\\upolanc-thesis\\res\n"
     ]
    }
   ],
   "source": [
    "# Setup some directory paths.\n",
    "\n",
    "OUT_SUBFOLDER = 'nbp06-raytune'\n",
    "RES_SUBFOLDER = ''\n",
    "\n",
    "CWD = os.getcwd()\n",
    "OUT = os.path.join(CWD, 'out')\n",
    "RES = os.path.join(CWD, 'res')\n",
    "\n",
    "OUT_DATA  = os.path.join(OUT, 'data',  OUT_SUBFOLDER)\n",
    "RES_NBP04 = os.path.join(OUT, 'data', 'nbp04-feature')\n",
    "RES_NBP05 = os.path.join(OUT, 'data', 'nbp05-target')\n",
    "\n",
    "shutil.rmtree(OUT_DATA, ignore_errors = True)\n",
    "os.makedirs(OUT_DATA, exist_ok = True)\n",
    "\n",
    "print(f'     Root Directory : {CWD}')\n",
    "print(f'   Output Directory : {OUT}')\n",
    "print(f' Resource Directory : {RES}')"
   ]
  },
  {
   "cell_type": "code",
   "execution_count": 5,
   "id": "a9ab003c-2bec-41b5-9885-a3424de1625d",
   "metadata": {},
   "outputs": [
    {
     "name": "stdout",
     "output_type": "stream",
     "text": [
      "Graphic devices : 1\n",
      "Selected device : cuda\n"
     ]
    }
   ],
   "source": [
    "# Device\n",
    "\n",
    "DEVICE = cnn_core.get_device(only_cpu = False)"
   ]
  },
  {
   "cell_type": "code",
   "execution_count": 6,
   "id": "a233ad45-501d-4197-a461-185e2f010f65",
   "metadata": {},
   "outputs": [
    {
     "name": "stdout",
     "output_type": "stream",
     "text": [
      "Random seed : 19546736\n"
     ]
    }
   ],
   "source": [
    "# Lock random\n",
    "\n",
    "RANDOM_SEED = cnn_core.lock_random(\n",
    "\tgenerate_seed = True\n",
    ")\n",
    "\n",
    "print('Random seed : {}'.format(RANDOM_SEED))"
   ]
  },
  {
   "cell_type": "code",
   "execution_count": 7,
   "id": "a5e1c767-bdd9-4c35-9ae4-c27ca2215c5c",
   "metadata": {},
   "outputs": [],
   "source": [
    "# Load the inputs and ouputs\n",
    "\n",
    "tpm_order = data_loader.load_labels(\n",
    "\tfilename = os.path.join(RES_NBP05, 'target-order.json')\n",
    ")"
   ]
  },
  {
   "cell_type": "markdown",
   "id": "de314874-ff3f-43c1-bb0a-919f2d63e775",
   "metadata": {},
   "source": [
    "# 2. Raytune"
   ]
  },
  {
   "cell_type": "markdown",
   "id": "f1c53b24-13a8-42bb-8c70-b9ba0f04d28e",
   "metadata": {},
   "source": [
    "## 2.1 Config"
   ]
  },
  {
   "cell_type": "code",
   "execution_count": 8,
   "id": "f642f500-5fe7-4015-9324-6152c34b487f",
   "metadata": {},
   "outputs": [],
   "source": [
    "# Define basic data parameters\n",
    "\n",
    "core_config = {\n",
    "\t'random_seed' : RANDOM_SEED,\n",
    "\t'device'      : DEVICE,\n",
    "\t'model_name'  : 'zrimec2020r',\n",
    "\t'epochs'      : 5,\n",
    "\t'expand_dims' : None,\n",
    "\n",
    "\t'split_size' : {\n",
    "\t\t'valid' : 0.2,\n",
    "\t\t'test'  : 0.2\n",
    "\t},\n",
    "\t'input' : {\n",
    "\t\t'channels' : 1,\n",
    "\t\t'height'   : 4,\n",
    "\t\t'width'    : 2150,\n",
    "\t\t'features' : 64\n",
    "\t},\n",
    "\t'output' : {\n",
    "\t\t'group0' : 'tissue',\n",
    "\t\t'group1' : 'tissue-mean',\n",
    "\t\t'length' : 8\n",
    "\t},\n",
    "\t'files' : {\n",
    "\t\t'sequences' : lambda : data_loader.load_fasta(filename = os.path.join(RES_NBP04, 'features-bp2150.fasta'), to_string = True),\n",
    "\t\t'frequency' : lambda : data_loader.load_npz(filename = os.path.join(RES_NBP04, 'features-frequency.npz')),\n",
    "\t\t'stability' : lambda : data_loader.load_npz(filename = os.path.join(RES_NBP04, 'features-stability.npz')),\n",
    "\t\t'values'    : lambda : data_loader.load_labels(filename = os.path.join(RES_NBP05, 'target-values.json'), to_numpy = True),\n",
    "\t\t'order'     : lambda : data_loader.load_labels(filename = os.path.join(RES_NBP05, 'target-order.json'))\n",
    "\t}\n",
    "}"
   ]
  },
  {
   "cell_type": "code",
   "execution_count": 9,
   "id": "dd635eb1-2d89-4d56-93b6-7a49e285ee30",
   "metadata": {},
   "outputs": [],
   "source": [
    "# Ensure correct\n",
    "\n",
    "core_config['output']['length'] = len(tpm_order[core_config['output']['group0']])"
   ]
  },
  {
   "cell_type": "markdown",
   "id": "e17b18d9-cccb-4763-8391-2567b75c3fbb",
   "metadata": {
    "tags": []
   },
   "source": [
    "## 2.2 Search Space"
   ]
  },
  {
   "cell_type": "code",
   "execution_count": 10,
   "id": "0a2fc685-9803-4596-8fde-d0678ed7604b",
   "metadata": {},
   "outputs": [],
   "source": [
    "# Define search space\n",
    "# https://docs.ray.io/en/latest/tune/api_docs/search_space.html\n",
    "\n",
    "# Notes\n",
    "# batch_size = 256 : a bit too much for my system\n",
    "\n",
    "param_space = {\n",
    "\t# Dataset\n",
    "\t'dataset/batch_size' : tune.choice([32, 64, 128]),\n",
    "\t# Optimizer\n",
    "\t'optimizer/lr' : tune.choice([1e-5, 1e-4, 1e-3, 1e-2]),\n",
    "\t'optimizer/l2' : tune.choice([0, 0.01, 0.05]),\n",
    "\t# Dropout\n",
    "\t'model/dropout' : tune.choice([0.1, 0.2, 0.3, 0.4]),\n",
    "\t# Convolution\n",
    "\t'model/conv1/filters' : tune.choice([32, 64, 128, 256]),\n",
    "\t'model/conv1/kernel'  : tune.choice([5, 11, 21, 31, 41]),\n",
    "\t'model/conv1/padding' : 0,\n",
    "\t'model/conv2/filters' : tune.choice([32, 64, 128, 256]),\n",
    "\t'model/conv2/kernel'  : tune.choice([5, 11, 21, 31, 41]),\n",
    "\t'model/conv2/padding' : tune.choice([0, 'same']),\n",
    "\t'model/conv3/filters' : tune.choice([32, 64, 128, 256]),\n",
    "\t'model/conv3/kernel'  : tune.choice([5, 11, 21, 31, 41]),\n",
    "\t'model/conv3/padding' : tune.choice([0, 'same']),\n",
    "\t# Max Pooling\n",
    "\t'model/maxpool1/kernel'  : tune.choice([3, 5, 9]),\n",
    "\t'model/maxpool1/padding' : 'same',\n",
    "\t'model/maxpool2/kernel'  : tune.choice([3, 5, 9]),\n",
    "\t'model/maxpool2/padding' : 'same',\n",
    "\t'model/maxpool3/kernel'  : tune.choice([3, 5, 9]),\n",
    "\t'model/maxpool3/padding' : 'same',\n",
    "\t# Dense\n",
    "\t'model/fc1/features' : tune.choice([64, 128, 256, 512]),\n",
    "\t'model/fc2/features' : tune.choice([64, 128, 256, 512])\n",
    "}"
   ]
  },
  {
   "cell_type": "markdown",
   "id": "08b64877-eb4c-4147-9c5f-d9ed43be320a",
   "metadata": {},
   "source": [
    "## 2.3 Tuning"
   ]
  },
  {
   "cell_type": "code",
   "execution_count": 11,
   "id": "df8bc3b7-5057-4eeb-83ae-3a41ce2525fb",
   "metadata": {},
   "outputs": [
    {
     "data": {
      "text/html": [],
      "text/plain": [
       "<IPython.core.display.HTML object>"
      ]
     },
     "metadata": {},
     "output_type": "display_data"
    },
    {
     "name": "stderr",
     "output_type": "stream",
     "text": [
      "2023-01-27 13:38:27,735\tINFO worker.py:1538 -- Started a local Ray instance.\n"
     ]
    }
   ],
   "source": [
    "# Create a hyperparameter optimization tuner\n",
    "\n",
    "tune_method = tune.with_resources(\n",
    "\tlambda x : cnn_raytune.tune_method(\n",
    "\t\ttune_config = x,\n",
    "\t\tcore_config = core_config\n",
    "\t),\n",
    "\t{\n",
    "\t\t'cpu' : 1,\n",
    "\t\t'gpu' : 1\n",
    "\t}\n",
    ")\n",
    "\n",
    "tune_config = TuneConfig(\n",
    "\tmetric      = 'valid_loss',\n",
    "\tmode        = 'min',\n",
    "\tsearch_alg  = None,\n",
    "\tscheduler   = ASHAScheduler(\n",
    "\t\ttime_attr        = 'training_iteration',\n",
    "\t\tmax_t            = 100,\n",
    "\t\tgrace_period     = 1,\n",
    "\t\treduction_factor = 4,\n",
    "\t\tbrackets         = 1\n",
    "\t\t\n",
    "\t),\n",
    "\tnum_samples = 2,\n",
    "\ttrial_name_creator    = lambda x : str(x.trial_id),\n",
    "\ttrial_dirname_creator = lambda x : str(x.trial_id)\n",
    ")\n",
    "\n",
    "run_config = RunConfig(\n",
    "\tname              = core_config['model_name'],\n",
    "\tlocal_dir         = OUT_DATA,\n",
    "\tcallbacks         = None,\n",
    "\tlog_to_file       = True,\n",
    "\tverbose           = 0,\n",
    "\tprogress_reporter = JupyterNotebookReporter(\n",
    "\t\tmax_column_length = 32,\n",
    "\t\tmax_progress_rows = 20,\n",
    "\t\tparameter_columns = [],\n",
    "\t\tmetric_columns    = []\n",
    "\t)\n",
    ")\n",
    "\n",
    "tuner = Tuner(\n",
    "\ttrainable   = tune_method,\n",
    "\ttune_config = tune_config,\n",
    "\trun_config  = run_config,\n",
    "\tparam_space = param_space\n",
    ")\n",
    "\n",
    "report = tuner.fit()"
   ]
  },
  {
   "cell_type": "markdown",
   "id": "2940fc14-d848-4018-a8d2-96ec719a8652",
   "metadata": {},
   "source": [
    "## 2.4 Reports"
   ]
  },
  {
   "cell_type": "code",
   "execution_count": 12,
   "id": "468b6865-7e33-4372-a7b9-09d26beb098e",
   "metadata": {},
   "outputs": [
    {
     "name": "stdout",
     "output_type": "stream",
     "text": [
      "No errors.\n"
     ]
    }
   ],
   "source": [
    "# Check if there have been errors\n",
    "\n",
    "if report.errors :\n",
    "\tprint('At least one of the trials has failed.')\n",
    "else :\n",
    "\tprint('No errors.')"
   ]
  },
  {
   "cell_type": "code",
   "execution_count": 13,
   "id": "60cedfc3-65d4-4870-8093-0c5bb784fdf8",
   "metadata": {},
   "outputs": [
    {
     "name": "stdout",
     "output_type": "stream",
     "text": [
      "Shortest training time : 97.12 seconds\n",
      " Longest training time : 129.95 seconds\n",
      "\n"
     ]
    },
    {
     "data": {
      "text/html": [
       "<div>\n",
       "<style scoped>\n",
       "    .dataframe tbody tr th:only-of-type {\n",
       "        vertical-align: middle;\n",
       "    }\n",
       "\n",
       "    .dataframe tbody tr th {\n",
       "        vertical-align: top;\n",
       "    }\n",
       "\n",
       "    .dataframe thead th {\n",
       "        text-align: right;\n",
       "    }\n",
       "</style>\n",
       "<table border=\"1\" class=\"dataframe\">\n",
       "  <thead>\n",
       "    <tr style=\"text-align: right;\">\n",
       "      <th></th>\n",
       "      <th>trial_id</th>\n",
       "      <th>experiment_id</th>\n",
       "      <th>time_total_s</th>\n",
       "      <th>training_iteration</th>\n",
       "      <th>valid_loss</th>\n",
       "      <th>valid_r2</th>\n",
       "      <th>valid_mae</th>\n",
       "      <th>train_loss</th>\n",
       "    </tr>\n",
       "  </thead>\n",
       "  <tbody>\n",
       "    <tr>\n",
       "      <th>0</th>\n",
       "      <td>e202e_00000</td>\n",
       "      <td>ab3e23b259d94b90b6a980a0dec67add</td>\n",
       "      <td>97.120</td>\n",
       "      <td>5</td>\n",
       "      <td>0.923</td>\n",
       "      <td>-0.796</td>\n",
       "      <td>0.769</td>\n",
       "      <td>1.015</td>\n",
       "    </tr>\n",
       "    <tr>\n",
       "      <th>1</th>\n",
       "      <td>e202e_00001</td>\n",
       "      <td>ab3e23b259d94b90b6a980a0dec67add</td>\n",
       "      <td>129.949</td>\n",
       "      <td>5</td>\n",
       "      <td>0.793</td>\n",
       "      <td>-0.484</td>\n",
       "      <td>0.706</td>\n",
       "      <td>0.481</td>\n",
       "    </tr>\n",
       "  </tbody>\n",
       "</table>\n",
       "</div>"
      ],
      "text/plain": [
       "      trial_id                     experiment_id  time_total_s  \\\n",
       "0  e202e_00000  ab3e23b259d94b90b6a980a0dec67add        97.120   \n",
       "1  e202e_00001  ab3e23b259d94b90b6a980a0dec67add       129.949   \n",
       "\n",
       "   training_iteration  valid_loss  valid_r2  valid_mae  train_loss  \n",
       "0                   5       0.923    -0.796      0.769       1.015  \n",
       "1                   5       0.793    -0.484      0.706       0.481  "
      ]
     },
     "execution_count": 13,
     "metadata": {},
     "output_type": "execute_result"
    }
   ],
   "source": [
    "# Print the results as dataframe\n",
    "\n",
    "dataframe = report.get_dataframe()\n",
    "\n",
    "print('Shortest training time : {:.2f} seconds'.format(dataframe['time_total_s'].min()))\n",
    "print(' Longest training time : {:.2f} seconds'.format(dataframe['time_total_s'].max()))\n",
    "print()\n",
    "\n",
    "trials = dataframe[['trial_id', 'experiment_id', 'time_total_s', 'training_iteration', 'valid_loss', 'valid_r2', 'valid_mae', 'train_loss']]\n",
    "trials"
   ]
  },
  {
   "cell_type": "markdown",
   "id": "b25ca4ab-214f-451c-8854-11b73696fc0c",
   "metadata": {},
   "source": [
    "### 2.4.1 VIsualization"
   ]
  },
  {
   "cell_type": "code",
   "execution_count": 14,
   "id": "d993c871-3209-47c4-99d1-60f56c0e0191",
   "metadata": {},
   "outputs": [
    {
     "name": "stdout",
     "output_type": "stream",
     "text": [
      "TODO - tensorboard\n"
     ]
    }
   ],
   "source": [
    "print('TODO - tensorboard')"
   ]
  },
  {
   "cell_type": "markdown",
   "id": "8e10efdd-76db-46e4-903d-7118650bb027",
   "metadata": {},
   "source": [
    "### 2.4.2 Best"
   ]
  },
  {
   "cell_type": "code",
   "execution_count": 15,
   "id": "64bf57b1-c93a-4225-a592-3c48b3ee16c3",
   "metadata": {},
   "outputs": [
    {
     "name": "stdout",
     "output_type": "stream",
     "text": [
      "Best metric : loss =  0.79289 r2 = -0.48367\n",
      "Best config : \n",
      "{\n",
      "\t\"dataset/batch_size\": 128,\n",
      "\t\"optimizer/lr\": 0.001,\n",
      "\t\"optimizer/l2\": 0.01,\n",
      "\t\"model/dropout\": 0.2,\n",
      "\t\"model/conv1/filters\": 64,\n",
      "\t\"model/conv1/kernel\": 41,\n",
      "\t\"model/conv1/padding\": 0,\n",
      "\t\"model/conv2/filters\": 64,\n",
      "\t\"model/conv2/kernel\": 5,\n",
      "\t\"model/conv2/padding\": 0,\n",
      "\t\"model/conv3/filters\": 128,\n",
      "\t\"model/conv3/kernel\": 5,\n",
      "\t\"model/conv3/padding\": \"same\",\n",
      "\t\"model/maxpool1/kernel\": 3,\n",
      "\t\"model/maxpool1/padding\": \"same\",\n",
      "\t\"model/maxpool2/kernel\": 9,\n",
      "\t\"model/maxpool2/padding\": \"same\",\n",
      "\t\"model/maxpool3/kernel\": 9,\n",
      "\t\"model/maxpool3/padding\": \"same\",\n",
      "\t\"model/fc1/features\": 512,\n",
      "\t\"model/fc2/features\": 64\n",
      "}\n"
     ]
    }
   ],
   "source": [
    "# Display best trial\n",
    "\n",
    "best = report.get_best_result()\n",
    "\n",
    "print('Best metric : loss = {: 8.5f} r2 = {: 8.5f}'.format(best.metrics['valid_loss'], best.metrics['valid_r2']))\n",
    "print('Best config : ')\n",
    "print(json.dumps(best.config, indent = '\\t'))"
   ]
  },
  {
   "cell_type": "code",
   "execution_count": 16,
   "id": "9e2e2351-82eb-41db-932d-ddc5fece0244",
   "metadata": {},
   "outputs": [
    {
     "data": {
      "text/html": [
       "<div>\n",
       "<style scoped>\n",
       "    .dataframe tbody tr th:only-of-type {\n",
       "        vertical-align: middle;\n",
       "    }\n",
       "\n",
       "    .dataframe tbody tr th {\n",
       "        vertical-align: top;\n",
       "    }\n",
       "\n",
       "    .dataframe thead th {\n",
       "        text-align: right;\n",
       "    }\n",
       "</style>\n",
       "<table border=\"1\" class=\"dataframe\">\n",
       "  <thead>\n",
       "    <tr style=\"text-align: right;\">\n",
       "      <th></th>\n",
       "      <th>trial_id</th>\n",
       "      <th>experiment_id</th>\n",
       "      <th>time_total_s</th>\n",
       "      <th>training_iteration</th>\n",
       "      <th>valid_loss</th>\n",
       "      <th>valid_r2</th>\n",
       "      <th>valid_mae</th>\n",
       "      <th>train_loss</th>\n",
       "    </tr>\n",
       "  </thead>\n",
       "  <tbody>\n",
       "    <tr>\n",
       "      <th>0</th>\n",
       "      <td>e202e_00001</td>\n",
       "      <td>ab3e23b259d94b90b6a980a0dec67add</td>\n",
       "      <td>59.489</td>\n",
       "      <td>1</td>\n",
       "      <td>1.135</td>\n",
       "      <td>-1.152</td>\n",
       "      <td>0.854</td>\n",
       "      <td>1.053</td>\n",
       "    </tr>\n",
       "    <tr>\n",
       "      <th>1</th>\n",
       "      <td>e202e_00001</td>\n",
       "      <td>ab3e23b259d94b90b6a980a0dec67add</td>\n",
       "      <td>77.099</td>\n",
       "      <td>2</td>\n",
       "      <td>0.893</td>\n",
       "      <td>-0.675</td>\n",
       "      <td>0.749</td>\n",
       "      <td>0.649</td>\n",
       "    </tr>\n",
       "    <tr>\n",
       "      <th>2</th>\n",
       "      <td>e202e_00001</td>\n",
       "      <td>ab3e23b259d94b90b6a980a0dec67add</td>\n",
       "      <td>94.704</td>\n",
       "      <td>3</td>\n",
       "      <td>0.866</td>\n",
       "      <td>-0.609</td>\n",
       "      <td>0.735</td>\n",
       "      <td>0.522</td>\n",
       "    </tr>\n",
       "    <tr>\n",
       "      <th>3</th>\n",
       "      <td>e202e_00001</td>\n",
       "      <td>ab3e23b259d94b90b6a980a0dec67add</td>\n",
       "      <td>112.316</td>\n",
       "      <td>4</td>\n",
       "      <td>0.547</td>\n",
       "      <td>-0.029</td>\n",
       "      <td>0.598</td>\n",
       "      <td>0.495</td>\n",
       "    </tr>\n",
       "    <tr>\n",
       "      <th>4</th>\n",
       "      <td>e202e_00001</td>\n",
       "      <td>ab3e23b259d94b90b6a980a0dec67add</td>\n",
       "      <td>129.949</td>\n",
       "      <td>5</td>\n",
       "      <td>0.793</td>\n",
       "      <td>-0.484</td>\n",
       "      <td>0.706</td>\n",
       "      <td>0.481</td>\n",
       "    </tr>\n",
       "  </tbody>\n",
       "</table>\n",
       "</div>"
      ],
      "text/plain": [
       "      trial_id                     experiment_id  time_total_s  \\\n",
       "0  e202e_00001  ab3e23b259d94b90b6a980a0dec67add        59.489   \n",
       "1  e202e_00001  ab3e23b259d94b90b6a980a0dec67add        77.099   \n",
       "2  e202e_00001  ab3e23b259d94b90b6a980a0dec67add        94.704   \n",
       "3  e202e_00001  ab3e23b259d94b90b6a980a0dec67add       112.316   \n",
       "4  e202e_00001  ab3e23b259d94b90b6a980a0dec67add       129.949   \n",
       "\n",
       "   training_iteration  valid_loss  valid_r2  valid_mae  train_loss  \n",
       "0                   1       1.135    -1.152      0.854       1.053  \n",
       "1                   2       0.893    -0.675      0.749       0.649  \n",
       "2                   3       0.866    -0.609      0.735       0.522  \n",
       "3                   4       0.547    -0.029      0.598       0.495  \n",
       "4                   5       0.793    -0.484      0.706       0.481  "
      ]
     },
     "execution_count": 16,
     "metadata": {},
     "output_type": "execute_result"
    }
   ],
   "source": [
    "# Display per iteration\n",
    "\n",
    "progress = data_loader.load_csv(\n",
    "\tfilename = os.path.join(best.log_dir, 'progress.csv')\n",
    ")\n",
    "\n",
    "progress = progress[['trial_id', 'experiment_id', 'time_total_s', 'training_iteration', 'valid_loss', 'valid_r2', 'valid_mae', 'train_loss']]\n",
    "progress"
   ]
  },
  {
   "cell_type": "code",
   "execution_count": 17,
   "id": "4eaa27d6-0da6-4e09-a49e-5cc9b25897c9",
   "metadata": {},
   "outputs": [
    {
     "name": "stdout",
     "output_type": "stream",
     "text": [
      "TODO - graphs\n"
     ]
    }
   ],
   "source": [
    "print('TODO - graphs')"
   ]
  },
  {
   "cell_type": "markdown",
   "id": "5f916513-555e-4c4a-a803-194373aab336",
   "metadata": {},
   "source": [
    "### 2.4.3 Worst"
   ]
  },
  {
   "cell_type": "code",
   "execution_count": 18,
   "id": "d2d8e546-a974-4d35-aa77-3f6e865b8e22",
   "metadata": {},
   "outputs": [
    {
     "name": "stdout",
     "output_type": "stream",
     "text": [
      "Worst metric : loss =  0.92320 r2 = -0.79642\n",
      "Worst config : \n",
      "{\n",
      "\t\"dataset/batch_size\": 128,\n",
      "\t\"optimizer/lr\": 1e-05,\n",
      "\t\"optimizer/l2\": 0.05,\n",
      "\t\"model/dropout\": 0.1,\n",
      "\t\"model/conv1/filters\": 32,\n",
      "\t\"model/conv1/kernel\": 11,\n",
      "\t\"model/conv1/padding\": 0,\n",
      "\t\"model/conv2/filters\": 32,\n",
      "\t\"model/conv2/kernel\": 31,\n",
      "\t\"model/conv2/padding\": \"same\",\n",
      "\t\"model/conv3/filters\": 256,\n",
      "\t\"model/conv3/kernel\": 41,\n",
      "\t\"model/conv3/padding\": 0,\n",
      "\t\"model/maxpool1/kernel\": 5,\n",
      "\t\"model/maxpool1/padding\": \"same\",\n",
      "\t\"model/maxpool2/kernel\": 5,\n",
      "\t\"model/maxpool2/padding\": \"same\",\n",
      "\t\"model/maxpool3/kernel\": 3,\n",
      "\t\"model/maxpool3/padding\": \"same\",\n",
      "\t\"model/fc1/features\": 128,\n",
      "\t\"model/fc2/features\": 512\n",
      "}\n"
     ]
    }
   ],
   "source": [
    "# Display worst trial\n",
    "\n",
    "worst = report.get_best_result(metric = 'valid_loss', mode = 'max')\n",
    "\n",
    "print('Worst metric : loss = {: 8.5f} r2 = {: 8.5f}'.format(worst.metrics['valid_loss'], worst.metrics['valid_r2']))\n",
    "print('Worst config : ')\n",
    "print(json.dumps(worst.config, indent = '\\t'))"
   ]
  },
  {
   "cell_type": "code",
   "execution_count": 19,
   "id": "de3058da-1648-4d3f-94e1-540f5cb83905",
   "metadata": {},
   "outputs": [
    {
     "data": {
      "text/html": [
       "<div>\n",
       "<style scoped>\n",
       "    .dataframe tbody tr th:only-of-type {\n",
       "        vertical-align: middle;\n",
       "    }\n",
       "\n",
       "    .dataframe tbody tr th {\n",
       "        vertical-align: top;\n",
       "    }\n",
       "\n",
       "    .dataframe thead th {\n",
       "        text-align: right;\n",
       "    }\n",
       "</style>\n",
       "<table border=\"1\" class=\"dataframe\">\n",
       "  <thead>\n",
       "    <tr style=\"text-align: right;\">\n",
       "      <th></th>\n",
       "      <th>trial_id</th>\n",
       "      <th>experiment_id</th>\n",
       "      <th>time_total_s</th>\n",
       "      <th>training_iteration</th>\n",
       "      <th>valid_loss</th>\n",
       "      <th>valid_r2</th>\n",
       "      <th>valid_mae</th>\n",
       "      <th>train_loss</th>\n",
       "    </tr>\n",
       "  </thead>\n",
       "  <tbody>\n",
       "    <tr>\n",
       "      <th>0</th>\n",
       "      <td>e202e_00000</td>\n",
       "      <td>ab3e23b259d94b90b6a980a0dec67add</td>\n",
       "      <td>51.651</td>\n",
       "      <td>1</td>\n",
       "      <td>1.595</td>\n",
       "      <td>-1.986</td>\n",
       "      <td>1.030</td>\n",
       "      <td>1.951</td>\n",
       "    </tr>\n",
       "    <tr>\n",
       "      <th>1</th>\n",
       "      <td>e202e_00000</td>\n",
       "      <td>ab3e23b259d94b90b6a980a0dec67add</td>\n",
       "      <td>63.166</td>\n",
       "      <td>2</td>\n",
       "      <td>1.423</td>\n",
       "      <td>-1.689</td>\n",
       "      <td>0.964</td>\n",
       "      <td>1.671</td>\n",
       "    </tr>\n",
       "    <tr>\n",
       "      <th>2</th>\n",
       "      <td>e202e_00000</td>\n",
       "      <td>ab3e23b259d94b90b6a980a0dec67add</td>\n",
       "      <td>74.494</td>\n",
       "      <td>3</td>\n",
       "      <td>1.213</td>\n",
       "      <td>-1.314</td>\n",
       "      <td>0.883</td>\n",
       "      <td>1.457</td>\n",
       "    </tr>\n",
       "    <tr>\n",
       "      <th>3</th>\n",
       "      <td>e202e_00000</td>\n",
       "      <td>ab3e23b259d94b90b6a980a0dec67add</td>\n",
       "      <td>85.695</td>\n",
       "      <td>4</td>\n",
       "      <td>1.033</td>\n",
       "      <td>-1.000</td>\n",
       "      <td>0.813</td>\n",
       "      <td>1.215</td>\n",
       "    </tr>\n",
       "    <tr>\n",
       "      <th>4</th>\n",
       "      <td>e202e_00000</td>\n",
       "      <td>ab3e23b259d94b90b6a980a0dec67add</td>\n",
       "      <td>97.120</td>\n",
       "      <td>5</td>\n",
       "      <td>0.923</td>\n",
       "      <td>-0.796</td>\n",
       "      <td>0.769</td>\n",
       "      <td>1.015</td>\n",
       "    </tr>\n",
       "  </tbody>\n",
       "</table>\n",
       "</div>"
      ],
      "text/plain": [
       "      trial_id                     experiment_id  time_total_s  \\\n",
       "0  e202e_00000  ab3e23b259d94b90b6a980a0dec67add        51.651   \n",
       "1  e202e_00000  ab3e23b259d94b90b6a980a0dec67add        63.166   \n",
       "2  e202e_00000  ab3e23b259d94b90b6a980a0dec67add        74.494   \n",
       "3  e202e_00000  ab3e23b259d94b90b6a980a0dec67add        85.695   \n",
       "4  e202e_00000  ab3e23b259d94b90b6a980a0dec67add        97.120   \n",
       "\n",
       "   training_iteration  valid_loss  valid_r2  valid_mae  train_loss  \n",
       "0                   1       1.595    -1.986      1.030       1.951  \n",
       "1                   2       1.423    -1.689      0.964       1.671  \n",
       "2                   3       1.213    -1.314      0.883       1.457  \n",
       "3                   4       1.033    -1.000      0.813       1.215  \n",
       "4                   5       0.923    -0.796      0.769       1.015  "
      ]
     },
     "execution_count": 19,
     "metadata": {},
     "output_type": "execute_result"
    }
   ],
   "source": [
    "# Display per iteration\n",
    "\n",
    "progress = data_loader.load_csv(\n",
    "\tfilename = os.path.join(worst.log_dir, 'progress.csv')\n",
    ")\n",
    "\n",
    "progress = progress[['trial_id', 'experiment_id', 'time_total_s', 'training_iteration', 'valid_loss', 'valid_r2', 'valid_mae', 'train_loss']]\n",
    "progress"
   ]
  },
  {
   "cell_type": "code",
   "execution_count": 20,
   "id": "41a70fc8-e52c-4115-98ee-c2c6e6642805",
   "metadata": {},
   "outputs": [
    {
     "name": "stdout",
     "output_type": "stream",
     "text": [
      "TODO - graphs\n"
     ]
    }
   ],
   "source": [
    "print('TODO - graphs')"
   ]
  },
  {
   "cell_type": "markdown",
   "id": "8a22c9b0-2060-4ec0-845a-6d2880a6e865",
   "metadata": {},
   "source": [
    "## 2.4 Save"
   ]
  },
  {
   "cell_type": "code",
   "execution_count": 21,
   "id": "bb49abee-4242-4e40-b516-a3682b5fefd7",
   "metadata": {},
   "outputs": [],
   "source": [
    "# Save the tuning results\n",
    "\n",
    "report.get_dataframe().to_csv(\n",
    "\tos.path.join(OUT_DATA, core_config['model_name'] + '-report.csv')\n",
    ")"
   ]
  }
 ],
 "metadata": {
  "kernelspec": {
   "display_name": "Python 3 (ipykernel)",
   "language": "python",
   "name": "python3"
  },
  "language_info": {
   "codemirror_mode": {
    "name": "ipython",
    "version": 3
   },
   "file_extension": ".py",
   "mimetype": "text/x-python",
   "name": "python",
   "nbconvert_exporter": "python",
   "pygments_lexer": "ipython3",
   "version": "3.10.7"
  }
 },
 "nbformat": 4,
 "nbformat_minor": 5
}
