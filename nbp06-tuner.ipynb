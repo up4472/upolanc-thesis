{
 "cells": [
  {
   "cell_type": "code",
   "execution_count": 1,
   "id": "fe95fb87-61a3-4a60-a38c-878e6c7073fd",
   "metadata": {},
   "outputs": [],
   "source": [
    "# Libraries\n",
    "\n",
    "import json\n",
    "import numpy\n",
    "import os\n",
    "import shutil"
   ]
  },
  {
   "cell_type": "code",
   "execution_count": 2,
   "id": "6e2187b3-fd0c-4e6e-b02a-ffbe11f26afc",
   "metadata": {},
   "outputs": [],
   "source": [
    "# Tune\n",
    "\n",
    "from ray.air                  import RunConfig\n",
    "from ray.tune                 import JupyterNotebookReporter\n",
    "from ray.tune                 import TuneConfig\n",
    "from ray.tune                 import Tuner\n",
    "from ray.tune.logger          import CSVLoggerCallback\n",
    "from ray.tune.schedulers      import ASHAScheduler\n",
    "from ray.tune.search.bayesopt import BayesOptSearch\n",
    "from ray.tune.search.hyperopt import HyperOptSearch\n",
    "\n",
    "from ray import tune"
   ]
  },
  {
   "cell_type": "code",
   "execution_count": 3,
   "id": "53cad32c-4de4-412f-a1e9-9e48a8f77213",
   "metadata": {},
   "outputs": [],
   "source": [
    "# Code\n",
    "\n",
    "from src.cnn import raytune as cnn_raytune\n",
    "from src.cnn import core    as cnn_core\n",
    "from src.io  import loader  as data_loader"
   ]
  },
  {
   "cell_type": "markdown",
   "id": "d50a8f4a-ddce-4960-a822-3f612701ff0d",
   "metadata": {},
   "source": [
    "# 1. Setup"
   ]
  },
  {
   "cell_type": "code",
   "execution_count": 4,
   "id": "7d9d420a-cde8-46cb-be15-1f99347d9bdd",
   "metadata": {},
   "outputs": [
    {
     "name": "stdout",
     "output_type": "stream",
     "text": [
      "     Root Directory : C:\\Developer\\Workspace\\PyCharm\\Projects\\upolanc-thesis\n",
      "   Output Directory : C:\\Developer\\Workspace\\PyCharm\\Projects\\upolanc-thesis\\out\n",
      " Resource Directory : C:\\Developer\\Workspace\\PyCharm\\Projects\\upolanc-thesis\\res\n"
     ]
    }
   ],
   "source": [
    "# Setup some directory paths.\n",
    "\n",
    "OUT_SUBFOLDER = 'nbp06-raytune'\n",
    "RES_SUBFOLDER = ''\n",
    "\n",
    "CWD = os.getcwd()\n",
    "OUT = os.path.join(CWD, 'out')\n",
    "RES = os.path.join(CWD, 'res')\n",
    "\n",
    "OUT_DATA  = os.path.join(OUT, 'data',  OUT_SUBFOLDER)\n",
    "RES_NBP04 = os.path.join(OUT, 'data', 'nbp04-feature')\n",
    "RES_NBP05 = os.path.join(OUT, 'data', 'nbp05-target')\n",
    "\n",
    "shutil.rmtree(OUT_DATA, ignore_errors = True)\n",
    "os.makedirs(OUT_DATA, exist_ok = True)\n",
    "\n",
    "print(f'     Root Directory : {CWD}')\n",
    "print(f'   Output Directory : {OUT}')\n",
    "print(f' Resource Directory : {RES}')"
   ]
  },
  {
   "cell_type": "code",
   "execution_count": 5,
   "id": "a9ab003c-2bec-41b5-9885-a3424de1625d",
   "metadata": {},
   "outputs": [
    {
     "name": "stdout",
     "output_type": "stream",
     "text": [
      "Graphic devices : 1\n",
      "Selected device : cuda\n"
     ]
    }
   ],
   "source": [
    "# Device\n",
    "\n",
    "DEVICE = cnn_core.get_device(only_cpu = False)"
   ]
  },
  {
   "cell_type": "code",
   "execution_count": 6,
   "id": "a233ad45-501d-4197-a461-185e2f010f65",
   "metadata": {},
   "outputs": [
    {
     "name": "stdout",
     "output_type": "stream",
     "text": [
      "Random seed : 634811121\n"
     ]
    }
   ],
   "source": [
    "# Lock random\n",
    "\n",
    "RANDOM_SEED = cnn_core.lock_random(\n",
    "\tgenerate_seed = True\n",
    ")\n",
    "\n",
    "print('Random seed : {}'.format(RANDOM_SEED))"
   ]
  },
  {
   "cell_type": "code",
   "execution_count": 7,
   "id": "a5e1c767-bdd9-4c35-9ae4-c27ca2215c5c",
   "metadata": {},
   "outputs": [],
   "source": [
    "# Load the inputs and ouputs\n",
    "\n",
    "tpm_order = data_loader.load_labels(\n",
    "\tfilename = os.path.join(RES_NBP05, 'target-order.json')\n",
    ")"
   ]
  },
  {
   "cell_type": "markdown",
   "id": "de314874-ff3f-43c1-bb0a-919f2d63e775",
   "metadata": {},
   "source": [
    "# 2. Raytune"
   ]
  },
  {
   "cell_type": "markdown",
   "id": "f1c53b24-13a8-42bb-8c70-b9ba0f04d28e",
   "metadata": {},
   "source": [
    "## 2.1 Core Config"
   ]
  },
  {
   "cell_type": "code",
   "execution_count": 8,
   "id": "f642f500-5fe7-4015-9324-6152c34b487f",
   "metadata": {},
   "outputs": [],
   "source": [
    "# Define basic data parameters\n",
    "\n",
    "core_config = {\n",
    "\t'random_seed' : RANDOM_SEED,\n",
    "\t'device'      : DEVICE,\n",
    "\t'model_name'  : 'zrimec2020r',\n",
    "\t'epochs'      : 2,\n",
    "\t'expand_dims' : None,\n",
    "\n",
    "\t'split_size' : {\n",
    "\t\t'valid' : 0.2,\n",
    "\t\t'test'  : 0.2\n",
    "\t},\n",
    "\t'input' : {\n",
    "\t\t'channels' : 1,\n",
    "\t\t'height'   : 4,\n",
    "\t\t'width'    : 2150,\n",
    "\t\t'features' : 64\n",
    "\t},\n",
    "\t'output' : {\n",
    "\t\t'group0' : 'tissue',\n",
    "\t\t'group1' : 'tissue-mean',\n",
    "\t\t'length' : 8\n",
    "\t},\n",
    "\t'files' : {\n",
    "\t\t'sequences' : lambda : data_loader.load_fasta(filename = os.path.join(RES_NBP04, 'features-bp2150.fasta'), to_string = True),\n",
    "\t\t'frequency' : lambda : data_loader.load_npz(filename = os.path.join(RES_NBP04, 'features-frequency.npz')),\n",
    "\t\t'stability' : lambda : data_loader.load_npz(filename = os.path.join(RES_NBP04, 'features-stability.npz')),\n",
    "\t\t'values'    : lambda : data_loader.load_labels(filename = os.path.join(RES_NBP05, 'target-values.json'), to_numpy = True),\n",
    "\t\t'order'     : lambda : data_loader.load_labels(filename = os.path.join(RES_NBP05, 'target-order.json'))\n",
    "\t}\n",
    "}"
   ]
  },
  {
   "cell_type": "code",
   "execution_count": 9,
   "id": "dd635eb1-2d89-4d56-93b6-7a49e285ee30",
   "metadata": {},
   "outputs": [],
   "source": [
    "# Ensure correct\n",
    "\n",
    "core_config['output']['length'] = len(tpm_order[core_config['output']['group0']])"
   ]
  },
  {
   "cell_type": "markdown",
   "id": "e17b18d9-cccb-4763-8391-2567b75c3fbb",
   "metadata": {
    "tags": []
   },
   "source": [
    "## 2.2 Search Space"
   ]
  },
  {
   "cell_type": "code",
   "execution_count": 10,
   "id": "0a2fc685-9803-4596-8fde-d0678ed7604b",
   "metadata": {},
   "outputs": [],
   "source": [
    "# Define search space\n",
    "# https://docs.ray.io/en/latest/tune/api_docs/search_space.html\n",
    "\n",
    "# Notes\n",
    "# batch_size = 256 : a bit too much for my system\n",
    "\n",
    "param_space = {\n",
    "\t# Dataset\n",
    "\t'dataset/batch_size' : tune.choice([32, 64, 128]),\n",
    "\t# Optimizer\n",
    "\t'optimizer/lr' : tune.choice([1e-5, 1e-4, 1e-3, 1e-2]),\n",
    "\t'optimizer/l2' : tune.choice([0, 0.01, 0.05]),\n",
    "\t# Dropout\n",
    "\t'model/dropout' : tune.choice([0.1, 0.2, 0.3, 0.4]),\n",
    "\t# Convolution\n",
    "\t'model/conv1/filters' : tune.choice([32, 64, 128, 256]),\n",
    "\t'model/conv1/kernel'  : tune.choice([5, 11, 21, 31, 41]),\n",
    "\t'model/conv1/padding' : 0,\n",
    "\t'model/conv2/filters' : tune.choice([32, 64, 128, 256]),\n",
    "\t'model/conv2/kernel'  : tune.choice([5, 11, 21, 31, 41]),\n",
    "\t'model/conv2/padding' : tune.choice([0, 'same']),\n",
    "\t'model/conv3/filters' : tune.choice([32, 64, 128, 256]),\n",
    "\t'model/conv3/kernel'  : tune.choice([5, 11, 21, 31, 41]),\n",
    "\t'model/conv3/padding' : tune.choice([0, 'same']),\n",
    "\t# Max Pooling\n",
    "\t'model/maxpool1/kernel'  : tune.choice([3, 5, 9]),\n",
    "\t'model/maxpool1/padding' : 'same',\n",
    "\t'model/maxpool2/kernel'  : tune.choice([3, 5, 9]),\n",
    "\t'model/maxpool2/padding' : 'same',\n",
    "\t'model/maxpool3/kernel'  : tune.choice([3, 5, 9]),\n",
    "\t'model/maxpool3/padding' : 'same',\n",
    "\t# Dense\n",
    "\t'model/fc1/features' : tune.choice([64, 128, 256, 512]),\n",
    "\t'model/fc2/features' : tune.choice([64, 128, 256, 512])\n",
    "}"
   ]
  },
  {
   "cell_type": "markdown",
   "id": "08b64877-eb4c-4147-9c5f-d9ed43be320a",
   "metadata": {},
   "source": [
    "## 2.3 Tune Config"
   ]
  },
  {
   "cell_type": "code",
   "execution_count": 11,
   "id": "018c2af6-abb7-4b0d-9216-5faa47a13350",
   "metadata": {},
   "outputs": [],
   "source": [
    "# Create callable trainer with resources\n",
    "\n",
    "tune_method = tune.with_resources(\n",
    "\tlambda x : cnn_raytune.tune_method(\n",
    "\t\ttune_config = x,\n",
    "\t\tcore_config = core_config\n",
    "\t),\n",
    "\t{\n",
    "\t\t'cpu' : 1,\n",
    "\t\t'gpu' : 1\n",
    "\t}\n",
    ")"
   ]
  },
  {
   "cell_type": "code",
   "execution_count": 12,
   "id": "971cbd9f-8deb-4a38-b419-128e92897793",
   "metadata": {},
   "outputs": [],
   "source": [
    "# Create tune configuration\n",
    "\n",
    "tune_config = TuneConfig(\n",
    "\tmetric      = 'valid_loss',\n",
    "\tmode        = 'min',\n",
    "\tsearch_alg  = None,\n",
    "\tscheduler   = ASHAScheduler(),\n",
    "\tnum_samples = 2,\n",
    "\ttrial_name_creator    = lambda x : str(x.trial_id),\n",
    "\ttrial_dirname_creator = lambda x : str(x.trial_id)\n",
    ")"
   ]
  },
  {
   "cell_type": "code",
   "execution_count": 13,
   "id": "d6bd293f-ce11-4387-a822-384d47b43c92",
   "metadata": {},
   "outputs": [
    {
     "data": {
      "text/html": [
       "<div class=\"tuneStatus\">\n",
       "  <div style=\"display: flex;flex-direction: row\">\n",
       "    <div style=\"display: flex;flex-direction: column;\">\n",
       "      <h3>Tune Status</h3>\n",
       "      <table>\n",
       "<tbody>\n",
       "<tr><td>Current time:</td><td>2023-01-26 13:03:30</td></tr>\n",
       "<tr><td>Running for: </td><td>00:04:19.86        </td></tr>\n",
       "<tr><td>Memory:      </td><td>23.5/31.9 GiB      </td></tr>\n",
       "</tbody>\n",
       "</table>\n",
       "    </div>\n",
       "    <div class=\"vDivider\"></div>\n",
       "    <div class=\"systemInfo\">\n",
       "      <h3>System Info</h3>\n",
       "      Using AsyncHyperBand: num_stopped=0<br>Bracket: Iter 64.000: None | Iter 16.000: None | Iter 4.000: None | Iter 1.000: -1.3727311184375344<br>Resources requested: 0/12 CPUs, 0/1 GPUs, 0.0/5.27 GiB heap, 0.0/2.64 GiB objects\n",
       "    </div>\n",
       "    \n",
       "  </div>\n",
       "  <div class=\"hDivider\"></div>\n",
       "  <div class=\"trialStatus\">\n",
       "    <h3>Trial Status</h3>\n",
       "    <table>\n",
       "<thead>\n",
       "<tr><th>Trial name  </th><th>status    </th><th>loc            </th><th style=\"text-align: right;\">  dataset/batch_size</th><th style=\"text-align: right;\">  model/conv1/filters</th><th style=\"text-align: right;\">  model/conv1/kernel</th><th style=\"text-align: right;\">  model/conv2/filters</th><th style=\"text-align: right;\">  model/conv2/kernel</th><th>model/conv2/padding  </th><th style=\"text-align: right;\">  model/conv3/filters</th><th style=\"text-align: right;\">  model/conv3/kernel</th><th>model/conv3/padding  </th><th style=\"text-align: right;\">  model/dropout</th><th style=\"text-align: right;\">  model/fc1/features</th><th style=\"text-align: right;\">  model/fc2/features</th><th style=\"text-align: right;\">  model/maxpool1/kernel</th><th style=\"text-align: right;\">  model/maxpool2/kernel</th><th style=\"text-align: right;\">  model/maxpool3/kernel</th><th style=\"text-align: right;\">  optimizer/l2</th><th style=\"text-align: right;\">  optimizer/lr</th><th style=\"text-align: right;\">  iter</th><th style=\"text-align: right;\">  total time (s)</th><th style=\"text-align: right;\">  valid_loss</th><th style=\"text-align: right;\">  valid_r2</th><th style=\"text-align: right;\">  valid_mae</th></tr>\n",
       "</thead>\n",
       "<tbody>\n",
       "<tr><td>39bdb_00000 </td><td>TERMINATED</td><td>127.0.0.1:16484</td><td style=\"text-align: right;\">                 128</td><td style=\"text-align: right;\">                   32</td><td style=\"text-align: right;\">                  21</td><td style=\"text-align: right;\">                   64</td><td style=\"text-align: right;\">                   5</td><td>same                 </td><td style=\"text-align: right;\">                   32</td><td style=\"text-align: right;\">                  11</td><td>same                 </td><td style=\"text-align: right;\">            0.3</td><td style=\"text-align: right;\">                 512</td><td style=\"text-align: right;\">                 512</td><td style=\"text-align: right;\">                      9</td><td style=\"text-align: right;\">                      9</td><td style=\"text-align: right;\">                      5</td><td style=\"text-align: right;\">          0   </td><td style=\"text-align: right;\">        0.001 </td><td style=\"text-align: right;\">     2</td><td style=\"text-align: right;\">          80.324</td><td style=\"text-align: right;\">    2.09175 </td><td style=\"text-align: right;\"> -2.83014 </td><td style=\"text-align: right;\">   1.21739 </td></tr>\n",
       "<tr><td>39bdb_00001 </td><td>TERMINATED</td><td>127.0.0.1:16484</td><td style=\"text-align: right;\">                  64</td><td style=\"text-align: right;\">                  256</td><td style=\"text-align: right;\">                   5</td><td style=\"text-align: right;\">                   64</td><td style=\"text-align: right;\">                  21</td><td>0                    </td><td style=\"text-align: right;\">                   64</td><td style=\"text-align: right;\">                  31</td><td>same                 </td><td style=\"text-align: right;\">            0.4</td><td style=\"text-align: right;\">                 128</td><td style=\"text-align: right;\">                 256</td><td style=\"text-align: right;\">                      3</td><td style=\"text-align: right;\">                      3</td><td style=\"text-align: right;\">                      3</td><td style=\"text-align: right;\">          0.05</td><td style=\"text-align: right;\">        0.0001</td><td style=\"text-align: right;\">     2</td><td style=\"text-align: right;\">         174.449</td><td style=\"text-align: right;\">    0.832707</td><td style=\"text-align: right;\"> -0.611856</td><td style=\"text-align: right;\">   0.729116</td></tr>\n",
       "</tbody>\n",
       "</table>\n",
       "  </div>\n",
       "</div>\n",
       "<style>\n",
       ".tuneStatus {\n",
       "  color: var(--jp-ui-font-color1);\n",
       "}\n",
       ".tuneStatus .systemInfo {\n",
       "  display: flex;\n",
       "  flex-direction: column;\n",
       "}\n",
       ".tuneStatus td {\n",
       "  white-space: nowrap;\n",
       "}\n",
       ".tuneStatus .trialStatus {\n",
       "  display: flex;\n",
       "  flex-direction: column;\n",
       "}\n",
       ".tuneStatus h3 {\n",
       "  font-weight: bold;\n",
       "}\n",
       ".tuneStatus .hDivider {\n",
       "  border-bottom-width: var(--jp-border-width);\n",
       "  border-bottom-color: var(--jp-border-color0);\n",
       "  border-bottom-style: solid;\n",
       "}\n",
       ".tuneStatus .vDivider {\n",
       "  border-left-width: var(--jp-border-width);\n",
       "  border-left-color: var(--jp-border-color0);\n",
       "  border-left-style: solid;\n",
       "  margin: 0.5em 1em 0.5em 1em;\n",
       "}\n",
       "</style>\n"
      ],
      "text/plain": [
       "<IPython.core.display.HTML object>"
      ]
     },
     "metadata": {},
     "output_type": "display_data"
    }
   ],
   "source": [
    "# Create running configuration\n",
    "\n",
    "reporter = JupyterNotebookReporter(\n",
    "\tmax_column_length = 32,\n",
    "\tmax_progress_rows = 20,\n",
    "\tparameter_columns = [],\n",
    ")\n",
    "\n",
    "run_config = RunConfig(\n",
    "\tname              = core_config['model_name'],\n",
    "\tlocal_dir         = OUT_DATA,\n",
    "\tcallbacks         = None,\n",
    "\tlog_to_file       = True,\n",
    "\tprogress_reporter = reporter\n",
    ")"
   ]
  },
  {
   "cell_type": "code",
   "execution_count": 14,
   "id": "a597b503-c371-4973-aa81-30ddb78f098d",
   "metadata": {},
   "outputs": [],
   "source": [
    "# Create tuner\n",
    "\n",
    "tuner = Tuner(\n",
    "\ttune_method,\n",
    "\ttune_config = tune_config,\n",
    "\trun_config  = run_config,\n",
    "\tparam_space = param_space\n",
    ")"
   ]
  },
  {
   "cell_type": "code",
   "execution_count": 15,
   "id": "c0f65204-4ba5-4637-af5d-76ee670e7f7e",
   "metadata": {},
   "outputs": [
    {
     "name": "stderr",
     "output_type": "stream",
     "text": [
      "2023-01-26 12:59:08,990\tINFO worker.py:1538 -- Started a local Ray instance.\n"
     ]
    },
    {
     "data": {
      "text/html": [
       "<div class=\"trialProgress\">\n",
       "  <h3>Trial Progress</h3>\n",
       "  <table>\n",
       "<thead>\n",
       "<tr><th>Trial name  </th><th>date               </th><th>done  </th><th>episodes_total  </th><th>experiment_id                   </th><th>experiment_tag                                                                                                                                                                                                                                                                                                                                                                                  </th><th>hostname  </th><th style=\"text-align: right;\">  iterations_since_restore</th><th>node_ip  </th><th style=\"text-align: right;\">  pid</th><th>should_checkpoint  </th><th style=\"text-align: right;\">  time_since_restore</th><th style=\"text-align: right;\">  time_this_iter_s</th><th style=\"text-align: right;\">  time_total_s</th><th style=\"text-align: right;\">  timestamp</th><th style=\"text-align: right;\">  timesteps_since_restore</th><th>timesteps_total  </th><th style=\"text-align: right;\">  train_loss</th><th style=\"text-align: right;\">  training_iteration</th><th>trial_id   </th><th style=\"text-align: right;\">  valid_loss</th><th style=\"text-align: right;\">  valid_mae</th><th style=\"text-align: right;\">  valid_r2</th><th style=\"text-align: right;\">  warmup_time</th></tr>\n",
       "</thead>\n",
       "<tbody>\n",
       "<tr><td>39bdb_00000 </td><td>2023-01-26_13-00-34</td><td>True  </td><td>                </td><td>30033d99df304194a59c532a84289c57</td><td>0_dataset_batch_size=128,model_conv1_filters=32,model_conv1_kernel=21,model_conv2_filters=64,model_conv2_kernel=5,model_conv2_padding=same,model_conv3_filters=32,model_conv3_kernel=11,model_conv3_padding=same,model_dropout=0.3000,model_fc1_features=512,model_fc2_features=512,model_maxpool1_kernel=9,model_maxpool2_kernel=9,model_maxpool3_kernel=5,optimizer_l2=0,optimizer_lr=0.0010  </td><td>Home      </td><td style=\"text-align: right;\">                         2</td><td>127.0.0.1</td><td style=\"text-align: right;\">16484</td><td>True               </td><td style=\"text-align: right;\">              80.324</td><td style=\"text-align: right;\">           21.994 </td><td style=\"text-align: right;\">        80.324</td><td style=\"text-align: right;\"> 1674738034</td><td style=\"text-align: right;\">                        0</td><td>                 </td><td style=\"text-align: right;\">     2.09538</td><td style=\"text-align: right;\">                   2</td><td>39bdb_00000</td><td style=\"text-align: right;\">    2.09175 </td><td style=\"text-align: right;\">   1.21739 </td><td style=\"text-align: right;\"> -2.83014 </td><td style=\"text-align: right;\">   0.00300312</td></tr>\n",
       "<tr><td>39bdb_00001 </td><td>2023-01-26_13-03-29</td><td>True  </td><td>                </td><td>30033d99df304194a59c532a84289c57</td><td>1_dataset_batch_size=64,model_conv1_filters=256,model_conv1_kernel=5,model_conv2_filters=64,model_conv2_kernel=21,model_conv2_padding=0,model_conv3_filters=64,model_conv3_kernel=31,model_conv3_padding=same,model_dropout=0.4000,model_fc1_features=128,model_fc2_features=256,model_maxpool1_kernel=3,model_maxpool2_kernel=3,model_maxpool3_kernel=3,optimizer_l2=0.0500,optimizer_lr=0.0001</td><td>Home      </td><td style=\"text-align: right;\">                         2</td><td>127.0.0.1</td><td style=\"text-align: right;\">16484</td><td>True               </td><td style=\"text-align: right;\">             174.449</td><td style=\"text-align: right;\">           66.5485</td><td style=\"text-align: right;\">       174.449</td><td style=\"text-align: right;\"> 1674738209</td><td style=\"text-align: right;\">                        0</td><td>                 </td><td style=\"text-align: right;\">     1.06481</td><td style=\"text-align: right;\">                   2</td><td>39bdb_00001</td><td style=\"text-align: right;\">    0.832707</td><td style=\"text-align: right;\">   0.729116</td><td style=\"text-align: right;\"> -0.611856</td><td style=\"text-align: right;\">   0.00300312</td></tr>\n",
       "</tbody>\n",
       "</table>\n",
       "</div>\n",
       "<style>\n",
       ".trialProgress {\n",
       "  display: flex;\n",
       "  flex-direction: column;\n",
       "  color: var(--jp-ui-font-color1);\n",
       "}\n",
       ".trialProgress h3 {\n",
       "  font-weight: bold;\n",
       "}\n",
       ".trialProgress td {\n",
       "  white-space: nowrap;\n",
       "}\n",
       "</style>\n"
      ],
      "text/plain": [
       "<IPython.core.display.HTML object>"
      ]
     },
     "metadata": {},
     "output_type": "display_data"
    },
    {
     "name": "stderr",
     "output_type": "stream",
     "text": [
      "2023-01-26 13:03:30,359\tINFO tune.py:762 -- Total run time: 259.99 seconds (259.85 seconds for the tuning loop).\n"
     ]
    }
   ],
   "source": [
    "# Run tuner\n",
    "\n",
    "report = tuner.fit()"
   ]
  },
  {
   "cell_type": "markdown",
   "id": "2940fc14-d848-4018-a8d2-96ec719a8652",
   "metadata": {},
   "source": [
    "## 2.4 Reports"
   ]
  },
  {
   "cell_type": "code",
   "execution_count": 16,
   "id": "468b6865-7e33-4372-a7b9-09d26beb098e",
   "metadata": {},
   "outputs": [
    {
     "name": "stdout",
     "output_type": "stream",
     "text": [
      "No errors.\n"
     ]
    }
   ],
   "source": [
    "# Check if there have been errors\n",
    "\n",
    "if report.errors :\n",
    "\tprint('At least one of the trials has failed.')\n",
    "else :\n",
    "\tprint('No errors.')"
   ]
  },
  {
   "cell_type": "code",
   "execution_count": 17,
   "id": "60cedfc3-65d4-4870-8093-0c5bb784fdf8",
   "metadata": {},
   "outputs": [
    {
     "name": "stdout",
     "output_type": "stream",
     "text": [
      "Shortest training time : 80.32 seconds\n",
      " Longest training time : 174.45 seconds\n",
      "\n"
     ]
    },
    {
     "data": {
      "text/html": [
       "<div>\n",
       "<style scoped>\n",
       "    .dataframe tbody tr th:only-of-type {\n",
       "        vertical-align: middle;\n",
       "    }\n",
       "\n",
       "    .dataframe tbody tr th {\n",
       "        vertical-align: top;\n",
       "    }\n",
       "\n",
       "    .dataframe thead th {\n",
       "        text-align: right;\n",
       "    }\n",
       "</style>\n",
       "<table border=\"1\" class=\"dataframe\">\n",
       "  <thead>\n",
       "    <tr style=\"text-align: right;\">\n",
       "      <th></th>\n",
       "      <th>trial_id</th>\n",
       "      <th>training_iteration</th>\n",
       "      <th>valid_loss</th>\n",
       "      <th>valid_r2</th>\n",
       "      <th>valid_mae</th>\n",
       "      <th>train_loss</th>\n",
       "    </tr>\n",
       "  </thead>\n",
       "  <tbody>\n",
       "    <tr>\n",
       "      <th>0</th>\n",
       "      <td>39bdb_00000</td>\n",
       "      <td>2</td>\n",
       "      <td>2.092</td>\n",
       "      <td>-2.830</td>\n",
       "      <td>1.217</td>\n",
       "      <td>2.095</td>\n",
       "    </tr>\n",
       "    <tr>\n",
       "      <th>1</th>\n",
       "      <td>39bdb_00001</td>\n",
       "      <td>2</td>\n",
       "      <td>0.833</td>\n",
       "      <td>-0.612</td>\n",
       "      <td>0.729</td>\n",
       "      <td>1.065</td>\n",
       "    </tr>\n",
       "  </tbody>\n",
       "</table>\n",
       "</div>"
      ],
      "text/plain": [
       "      trial_id  training_iteration  valid_loss  valid_r2  valid_mae  \\\n",
       "0  39bdb_00000                   2       2.092    -2.830      1.217   \n",
       "1  39bdb_00001                   2       0.833    -0.612      0.729   \n",
       "\n",
       "   train_loss  \n",
       "0       2.095  \n",
       "1       1.065  "
      ]
     },
     "execution_count": 17,
     "metadata": {},
     "output_type": "execute_result"
    }
   ],
   "source": [
    "# Print the results as dataframe\n",
    "\n",
    "dataframe = report.get_dataframe()\n",
    "\n",
    "print('Shortest training time : {:.2f} seconds'.format(dataframe['time_total_s'].min()))\n",
    "print(' Longest training time : {:.2f} seconds'.format(dataframe['time_total_s'].max()))\n",
    "print()\n",
    "\n",
    "dataframe[['trial_id', 'training_iteration', 'valid_loss', 'valid_r2', 'valid_mae', 'train_loss']]"
   ]
  },
  {
   "cell_type": "markdown",
   "id": "b25ca4ab-214f-451c-8854-11b73696fc0c",
   "metadata": {},
   "source": [
    "### 2.4.1 VIsualization"
   ]
  },
  {
   "cell_type": "code",
   "execution_count": 18,
   "id": "d993c871-3209-47c4-99d1-60f56c0e0191",
   "metadata": {},
   "outputs": [
    {
     "name": "stdout",
     "output_type": "stream",
     "text": [
      "TODO\n"
     ]
    }
   ],
   "source": [
    "print('TODO')"
   ]
  },
  {
   "cell_type": "markdown",
   "id": "8e10efdd-76db-46e4-903d-7118650bb027",
   "metadata": {},
   "source": [
    "### 2.4.2 Best"
   ]
  },
  {
   "cell_type": "code",
   "execution_count": 19,
   "id": "64bf57b1-c93a-4225-a592-3c48b3ee16c3",
   "metadata": {},
   "outputs": [
    {
     "name": "stdout",
     "output_type": "stream",
     "text": [
      "Best metric : loss =  0.83271 r2 = -0.61186\n",
      "Best config : \n",
      "{\n",
      "\t\"dataset/batch_size\": 64,\n",
      "\t\"optimizer/lr\": 0.0001,\n",
      "\t\"optimizer/l2\": 0.05,\n",
      "\t\"model/dropout\": 0.4,\n",
      "\t\"model/conv1/filters\": 256,\n",
      "\t\"model/conv1/kernel\": 5,\n",
      "\t\"model/conv1/padding\": 0,\n",
      "\t\"model/conv2/filters\": 64,\n",
      "\t\"model/conv2/kernel\": 21,\n",
      "\t\"model/conv2/padding\": 0,\n",
      "\t\"model/conv3/filters\": 64,\n",
      "\t\"model/conv3/kernel\": 31,\n",
      "\t\"model/conv3/padding\": \"same\",\n",
      "\t\"model/maxpool1/kernel\": 3,\n",
      "\t\"model/maxpool1/padding\": \"same\",\n",
      "\t\"model/maxpool2/kernel\": 3,\n",
      "\t\"model/maxpool2/padding\": \"same\",\n",
      "\t\"model/maxpool3/kernel\": 3,\n",
      "\t\"model/maxpool3/padding\": \"same\",\n",
      "\t\"model/fc1/features\": 128,\n",
      "\t\"model/fc2/features\": 256\n",
      "}\n"
     ]
    }
   ],
   "source": [
    "# Display best trial\n",
    "\n",
    "best = report.get_best_result()\n",
    "\n",
    "print('Best metric : loss = {: 8.5f} r2 = {: 8.5f}'.format(best.metrics['valid_loss'], best.metrics['valid_r2']))\n",
    "print('Best config : ')\n",
    "print(json.dumps(best.config, indent = '\\t'))"
   ]
  },
  {
   "cell_type": "code",
   "execution_count": 20,
   "id": "9e2e2351-82eb-41db-932d-ddc5fece0244",
   "metadata": {},
   "outputs": [
    {
     "name": "stdout",
     "output_type": "stream",
     "text": [
      "TODO\n"
     ]
    }
   ],
   "source": [
    "print('TODO')"
   ]
  },
  {
   "cell_type": "markdown",
   "id": "5f916513-555e-4c4a-a803-194373aab336",
   "metadata": {},
   "source": [
    "### 2.4.3 Worst"
   ]
  },
  {
   "cell_type": "code",
   "execution_count": 21,
   "id": "d2d8e546-a974-4d35-aa77-3f6e865b8e22",
   "metadata": {},
   "outputs": [
    {
     "name": "stdout",
     "output_type": "stream",
     "text": [
      "Worst metric : loss =  2.09175 r2 = -2.83014\n",
      "Worst config : \n",
      "{\n",
      "\t\"dataset/batch_size\": 128,\n",
      "\t\"optimizer/lr\": 0.001,\n",
      "\t\"optimizer/l2\": 0,\n",
      "\t\"model/dropout\": 0.3,\n",
      "\t\"model/conv1/filters\": 32,\n",
      "\t\"model/conv1/kernel\": 21,\n",
      "\t\"model/conv1/padding\": 0,\n",
      "\t\"model/conv2/filters\": 64,\n",
      "\t\"model/conv2/kernel\": 5,\n",
      "\t\"model/conv2/padding\": \"same\",\n",
      "\t\"model/conv3/filters\": 32,\n",
      "\t\"model/conv3/kernel\": 11,\n",
      "\t\"model/conv3/padding\": \"same\",\n",
      "\t\"model/maxpool1/kernel\": 9,\n",
      "\t\"model/maxpool1/padding\": \"same\",\n",
      "\t\"model/maxpool2/kernel\": 9,\n",
      "\t\"model/maxpool2/padding\": \"same\",\n",
      "\t\"model/maxpool3/kernel\": 5,\n",
      "\t\"model/maxpool3/padding\": \"same\",\n",
      "\t\"model/fc1/features\": 512,\n",
      "\t\"model/fc2/features\": 512\n",
      "}\n"
     ]
    }
   ],
   "source": [
    "# Display worst trial\n",
    "\n",
    "worst = report.get_best_result(metric = 'valid_loss', mode = 'max')\n",
    "\n",
    "print('Worst metric : loss = {: 8.5f} r2 = {: 8.5f}'.format(worst.metrics['valid_loss'], worst.metrics['valid_r2']))\n",
    "print('Worst config : ')\n",
    "print(json.dumps(worst.config, indent = '\\t'))"
   ]
  },
  {
   "cell_type": "code",
   "execution_count": 22,
   "id": "de3058da-1648-4d3f-94e1-540f5cb83905",
   "metadata": {},
   "outputs": [
    {
     "name": "stdout",
     "output_type": "stream",
     "text": [
      "TODO\n"
     ]
    }
   ],
   "source": [
    "print('TODO')"
   ]
  },
  {
   "cell_type": "markdown",
   "id": "8a22c9b0-2060-4ec0-845a-6d2880a6e865",
   "metadata": {},
   "source": [
    "## 2.4 Save"
   ]
  },
  {
   "cell_type": "code",
   "execution_count": 23,
   "id": "bb49abee-4242-4e40-b516-a3682b5fefd7",
   "metadata": {},
   "outputs": [],
   "source": [
    "# Save the tuning results\n",
    "\n",
    "report.get_dataframe().to_csv(\n",
    "\tos.path.join(OUT_DATA, core_config['model_name'] + '-report.csv')\n",
    ")"
   ]
  }
 ],
 "metadata": {
  "kernelspec": {
   "display_name": "Python 3 (ipykernel)",
   "language": "python",
   "name": "python3"
  },
  "language_info": {
   "codemirror_mode": {
    "name": "ipython",
    "version": 3
   },
   "file_extension": ".py",
   "mimetype": "text/x-python",
   "name": "python",
   "nbconvert_exporter": "python",
   "pygments_lexer": "ipython3",
   "version": "3.10.7"
  }
 },
 "nbformat": 4,
 "nbformat_minor": 5
}
