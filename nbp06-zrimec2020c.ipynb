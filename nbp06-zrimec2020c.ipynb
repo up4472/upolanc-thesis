{
 "cells": [
  {
   "cell_type": "code",
   "execution_count": 1,
   "id": "26b3f699-3e32-41d5-b3bc-e5051b120757",
   "metadata": {},
   "outputs": [],
   "source": [
    "# Libraries\n",
    "\n",
    "import numpy\n",
    "import os\n",
    "import shutil"
   ]
  },
  {
   "cell_type": "code",
   "execution_count": 2,
   "id": "63982933-9b7e-4c69-9320-0d622cc5c0fd",
   "metadata": {},
   "outputs": [],
   "source": [
    "# Code\n",
    "\n",
    "from src.cnn.dataset import GeneDataset\n",
    "from src.cnn.models  import Zrimec2020c\n",
    "\n",
    "from src.cnn import core    as cnn_core\n",
    "from src.cnn import dataset as cnn_dataset\n",
    "from src.cnn import model   as cnn_model\n",
    "from src.cnn import plot    as cnn_plot\n",
    "from src.cnn import util    as cnn_util\n",
    "from src.io  import loader  as data_loader"
   ]
  },
  {
   "cell_type": "markdown",
   "id": "1bb00b68-6422-44c5-b474-8e828e84a155",
   "metadata": {},
   "source": [
    "# 1. Setup"
   ]
  },
  {
   "cell_type": "code",
   "execution_count": 3,
   "id": "0f8e6208-5d4c-496e-b2dd-5f69ebe331db",
   "metadata": {},
   "outputs": [
    {
     "name": "stdout",
     "output_type": "stream",
     "text": [
      "     Root Directory : C:\\Developer\\Workspace\\PyCharm\\Projects\\upolanc-thesis\n",
      "   Output Directory : C:\\Developer\\Workspace\\PyCharm\\Projects\\upolanc-thesis\\out\n",
      " Resource Directory : C:\\Developer\\Workspace\\PyCharm\\Projects\\upolanc-thesis\\res\n"
     ]
    }
   ],
   "source": [
    "# Setup some directory paths.\n",
    "\n",
    "OUT_SUBFOLDER = 'nbp06-zrimec2020c'\n",
    "RES_SUBFOLDER = ''\n",
    "\n",
    "CWD = os.getcwd()\n",
    "OUT = os.path.join(CWD, 'out')\n",
    "RES = os.path.join(CWD, 'res')\n",
    "\n",
    "OUT_PLOT  = os.path.join(OUT, 'plot',  OUT_SUBFOLDER)\n",
    "OUT_MODEL = os.path.join(OUT, 'model', OUT_SUBFOLDER)\n",
    "RES_PLANT = os.path.join(RES, 'plant', RES_SUBFOLDER)\n",
    "RES_MODEL = os.path.join(RES, 'model', RES_SUBFOLDER)\n",
    "RES_NBP04 = os.path.join(OUT, 'data', 'nbp04-feature')\n",
    "RES_NBP05 = os.path.join(OUT, 'data', 'nbp05-target')\n",
    "\n",
    "shutil.rmtree(OUT_PLOT,  ignore_errors = True)\n",
    "shutil.rmtree(OUT_MODEL, ignore_errors = True)\n",
    "\n",
    "os.makedirs(OUT_PLOT,  exist_ok = True)\n",
    "os.makedirs(OUT_MODEL, exist_ok = True)\n",
    "\n",
    "print(f'     Root Directory : {CWD}')\n",
    "print(f'   Output Directory : {OUT}')\n",
    "print(f' Resource Directory : {RES}')"
   ]
  },
  {
   "cell_type": "code",
   "execution_count": 4,
   "id": "7a57b927-f2bc-4a6c-ab3d-b6a090436717",
   "metadata": {},
   "outputs": [
    {
     "name": "stdout",
     "output_type": "stream",
     "text": [
      "Graphic devices : 1\n",
      "Selected device : cuda\n"
     ]
    }
   ],
   "source": [
    "# Device\n",
    "\n",
    "DEVICE = cnn_core.get_device(only_cpu = False)"
   ]
  },
  {
   "cell_type": "code",
   "execution_count": 5,
   "id": "24c80797-8eeb-49e7-a09a-953e2604832b",
   "metadata": {},
   "outputs": [],
   "source": [
    "# Load the input <gene> features\n",
    "\n",
    "gene_sequences = data_loader.load_fasta(\n",
    "\tfilename  = os.path.join(RES_NBP04, 'features-bp2150.fasta'),\n",
    "\tto_string = True\n",
    ")\n",
    "\n",
    "gene_frequency = data_loader.load_npz(\n",
    "\tfilename = os.path.join(RES_NBP04, 'features-frequency.npz')\n",
    ")\n",
    "\n",
    "gene_stability = data_loader.load_npz(\n",
    "\tfilename = os.path.join(RES_NBP04, 'features-stability.npz')\n",
    ")\n",
    "\n",
    "tpm_label = data_loader.load_labels(\n",
    "\tfilename = os.path.join(RES_NBP05, 'target-labels.json'),\n",
    "\tto_numpy = True\n",
    ")\n",
    "\n",
    "tpm_order = data_loader.load_labels(\n",
    "\tfilename = os.path.join(RES_NBP05, 'target-order.json')\n",
    ")"
   ]
  },
  {
   "cell_type": "markdown",
   "id": "011f224a-6fff-4487-b1fc-1b64e050361c",
   "metadata": {},
   "source": [
    "# 2. Classification"
   ]
  },
  {
   "cell_type": "code",
   "execution_count": 6,
   "id": "15db99c2-2be2-4a10-ba71-e5ac472f6eab",
   "metadata": {},
   "outputs": [],
   "source": [
    "# Define basic data parameters\n",
    "\n",
    "config = {\n",
    "\t'random_seed' : None,\n",
    "\t'batch_size' : {\n",
    "\t\t'train' : 64,\n",
    "\t\t'valid' : 64,\n",
    "\t\t'test'  : 64\n",
    "\t},\n",
    "\t'split_size' : {\n",
    "\t\t'valid' : 0.2,\n",
    "\t\t'test'  : 0.2\n",
    "\t},\n",
    "\t'input' : {\n",
    "\t\t'channels' : 1,\n",
    "\t\t'height'   : 4,\n",
    "\t\t'width'    : 2150,\n",
    "\t\t'features' : 64\n",
    "\t},\n",
    "\t'output' : {\n",
    "\t\t'group0'  : 'tissue',\n",
    "\t\t'group1'  : 'tissue-mean',\n",
    "\t\t'length'  : 8,\n",
    "\t\t'classes' : 5\n",
    "\t}\n",
    "}\n",
    "\n",
    "# Ensure correct\n",
    "config['output']['length']  = len(tpm_order[config['output']['group0']])"
   ]
  },
  {
   "cell_type": "code",
   "execution_count": 7,
   "id": "a1a17e1b-a4ad-488a-b709-6bd4b228bce9",
   "metadata": {},
   "outputs": [
    {
     "name": "stdout",
     "output_type": "stream",
     "text": [
      "Random seed : 930129137\n"
     ]
    }
   ],
   "source": [
    "# Lock random\n",
    "\n",
    "config['random_seed'] = cnn_core.lock_random(\n",
    "\tseed = config['random_seed'],\n",
    "\tgenerate_seed = True\n",
    ")\n",
    "\n",
    "print('Random seed : {}'.format(config['random_seed']))"
   ]
  },
  {
   "cell_type": "markdown",
   "id": "76f67159-6eda-4817-a179-fad9343c35de",
   "metadata": {},
   "source": [
    "## 2.1 Data"
   ]
  },
  {
   "cell_type": "code",
   "execution_count": 8,
   "id": "2ae1eefa-0560-4ddc-9e0b-3ecc14e26d78",
   "metadata": {},
   "outputs": [],
   "source": [
    "# Get the correct output group\n",
    "\n",
    "gene_targets = {\n",
    "\tkey : numpy.array(value[config['output']['group1']], dtype = numpy.int64)\n",
    "\tfor key, value in tpm_label.items()\n",
    "}"
   ]
  },
  {
   "cell_type": "code",
   "execution_count": 9,
   "id": "61a2177e-e676-4b08-84bb-89cb9f1187b7",
   "metadata": {},
   "outputs": [
    {
     "name": "stdout",
     "output_type": "stream",
     "text": [
      "Classes Length : 5\n",
      "Classes Unique : 0, 1, 2, 3, 4\n"
     ]
    }
   ],
   "source": [
    "# Update number of classes\n",
    "\n",
    "classes = set(numpy.array([x for x in gene_targets.values()]).flatten())\n",
    "\n",
    "print(f'Classes Length : {len(classes)}')\n",
    "print(f'Classes Unique : ' + ', '.join(str(x) for x in classes))\n",
    "\n",
    "config['output']['classes'] = len(classes)"
   ]
  },
  {
   "cell_type": "code",
   "execution_count": 10,
   "id": "15047c6d-7183-4bb4-bbbc-36158a374943",
   "metadata": {},
   "outputs": [],
   "source": [
    "# Transform the data dictionaries into lists\n",
    "\n",
    "names = sorted(list(gene_sequences.keys()))\n",
    "\n",
    "sequences = numpy.array([gene_sequences[key] for key in names])\n",
    "features  = numpy.array([gene_frequency[key] for key in names])\n",
    "targets   = numpy.array([gene_targets[key]   for key in names])"
   ]
  },
  {
   "cell_type": "code",
   "execution_count": 11,
   "id": "e403cd2f-6a45-4d0c-9d1d-22d91ce027a9",
   "metadata": {},
   "outputs": [
    {
     "name": "stdout",
     "output_type": "stream",
     "text": [
      "Train percentage : 64.00\n",
      "Valid percentage : 16.00\n",
      " Test percentage : 20.00\n"
     ]
    }
   ],
   "source": [
    "# Create the dataset and generte split indices using sklearn\n",
    "\n",
    "dataset = GeneDataset(\n",
    "\tnames       = names,\n",
    "\tsequences   = sequences,\n",
    "\tfeatures    = features,\n",
    "\ttargets     = targets,\n",
    "\texpand_dims = None\n",
    ")\n",
    "\n",
    "train_idx, valid_idx, test_idx = cnn_dataset.generate_split_indices(\n",
    "\ttargets     = targets,\n",
    "\tvalid_split = config['split_size']['valid'],\n",
    "\ttest_split  = config['split_size']['test'],\n",
    "\trandom_seed = config['random_seed']\n",
    ")"
   ]
  },
  {
   "cell_type": "code",
   "execution_count": 12,
   "id": "3d76a3ce-762e-4cb1-a477-2f6e19938461",
   "metadata": {},
   "outputs": [
    {
     "name": "stdout",
     "output_type": "stream",
     "text": [
      "Dataloader  batch  size :     64\n",
      "Dataloader  batch count :    316\n",
      "Dataloader sample count : 20,224\n",
      "\n",
      "     Key shape : (64,)\n",
      "Sequence shape : torch.Size([64, 4, 2150])\n",
      " Feature shape : torch.Size([64, 64])\n",
      "  Target shape : torch.Size([64, 8])\n"
     ]
    }
   ],
   "source": [
    "# Create train dataloader and display batch dimensions\n",
    "\n",
    "train_dataloader = cnn_dataset.to_dataloader(\n",
    "\tdataset    = dataset,\n",
    "\tindices    = train_idx,\n",
    "\tbatch_size = config['batch_size']['train']\n",
    ")\n",
    "\n",
    "cnn_dataset.show_dataloader(\n",
    "\tdataloader = train_dataloader,\n",
    "\tbatch_size = config['batch_size']['train']\n",
    ")"
   ]
  },
  {
   "cell_type": "code",
   "execution_count": 13,
   "id": "62bebac4-4b81-4ec6-a306-15a0c2fb2bac",
   "metadata": {},
   "outputs": [
    {
     "name": "stdout",
     "output_type": "stream",
     "text": [
      "Dataloader  batch  size :     64\n",
      "Dataloader  batch count :     79\n",
      "Dataloader sample count :  5,056\n",
      "\n",
      "     Key shape : (64,)\n",
      "Sequence shape : torch.Size([64, 4, 2150])\n",
      " Feature shape : torch.Size([64, 64])\n",
      "  Target shape : torch.Size([64, 8])\n"
     ]
    }
   ],
   "source": [
    "# Create valid dataloader and display batch dimensions\n",
    "\n",
    "valid_dataloader = cnn_dataset.to_dataloader(\n",
    "\tdataset    = dataset,\n",
    "\tindices    = valid_idx,\n",
    "\tbatch_size = config['batch_size']['valid']\n",
    ")\n",
    "\n",
    "cnn_dataset.show_dataloader(\n",
    "\tdataloader = valid_dataloader,\n",
    "\tbatch_size = config['batch_size']['valid']\n",
    ")"
   ]
  },
  {
   "cell_type": "code",
   "execution_count": 14,
   "id": "7a39df76-798e-47a8-a945-248c24536af2",
   "metadata": {},
   "outputs": [
    {
     "name": "stdout",
     "output_type": "stream",
     "text": [
      "Dataloader  batch  size :     64\n",
      "Dataloader  batch count :     99\n",
      "Dataloader sample count :  6,336\n",
      "\n",
      "     Key shape : (64,)\n",
      "Sequence shape : torch.Size([64, 4, 2150])\n",
      " Feature shape : torch.Size([64, 64])\n",
      "  Target shape : torch.Size([64, 8])\n"
     ]
    }
   ],
   "source": [
    "# Create test dataloader and display batch dimensions\n",
    "\n",
    "test_dataloader = cnn_dataset.to_dataloader(\n",
    "\tdataset    = dataset,\n",
    "\tindices    = test_idx,\n",
    "\tbatch_size = config['batch_size']['test']\n",
    ")\n",
    "\n",
    "cnn_dataset.show_dataloader(\n",
    "\tdataloader = test_dataloader,\n",
    "\tbatch_size = config['batch_size']['test']\n",
    ")"
   ]
  },
  {
   "cell_type": "markdown",
   "id": "1ae8f258-7a81-49a4-be05-bbf5a9b749f0",
   "metadata": {},
   "source": [
    "## 2.2 Model"
   ]
  },
  {
   "cell_type": "code",
   "execution_count": 15,
   "id": "def292a2-8b2c-4602-b15b-791e357b44a4",
   "metadata": {},
   "outputs": [
    {
     "data": {
      "text/plain": [
       "===================================================================================================================\n",
       "Layer (type:depth-idx)                   Input Shape               Output Shape              Param #\n",
       "===================================================================================================================\n",
       "Zrimec2020c                              [64, 4, 2150]             [64, 5, 8]                --\n",
       "├─Zrimec2020: 1-1                        [64, 4, 2150]             [64, 64]                  --\n",
       "│    └─Conv1d: 2-1                       [64, 4, 2150]             [64, 64, 2142]            2,368\n",
       "│    └─ReLU: 2-2                         [64, 64, 2142]            [64, 64, 2142]            --\n",
       "│    └─BatchNorm1d: 2-3                  [64, 64, 2142]            [64, 64, 2142]            128\n",
       "│    └─Dropout: 2-4                      [64, 64, 2142]            [64, 64, 2142]            --\n",
       "│    └─MaxPool1d: 2-5                    [64, 64, 2142]            [64, 64, 429]             --\n",
       "│    └─Conv1d: 2-6                       [64, 64, 429]             [64, 64, 429]             36,928\n",
       "│    └─ReLU: 2-7                         [64, 64, 429]             [64, 64, 429]             --\n",
       "│    └─BatchNorm1d: 2-8                  [64, 64, 429]             [64, 64, 429]             128\n",
       "│    └─Dropout: 2-9                      [64, 64, 429]             [64, 64, 429]             --\n",
       "│    └─MaxPool1d: 2-10                   [64, 64, 429]             [64, 64, 86]              --\n",
       "│    └─Conv1d: 2-11                      [64, 64, 86]              [64, 128, 86]             73,856\n",
       "│    └─ReLU: 2-12                        [64, 128, 86]             [64, 128, 86]             --\n",
       "│    └─BatchNorm1d: 2-13                 [64, 128, 86]             [64, 128, 86]             256\n",
       "│    └─Dropout: 2-14                     [64, 128, 86]             [64, 128, 86]             --\n",
       "│    └─MaxPool1d: 2-15                   [64, 128, 86]             [64, 128, 18]             --\n",
       "│    └─Flatten: 2-16                     [64, 128, 18]             [64, 2304]                --\n",
       "│    └─Linear: 2-17                      [64, 2368]                [64, 128]                 303,232\n",
       "│    └─ReLU: 2-18                        [64, 128]                 [64, 128]                 --\n",
       "│    └─Dropout: 2-19                     [64, 128]                 [64, 128]                 --\n",
       "│    └─Linear: 2-20                      [64, 128]                 [64, 64]                  8,256\n",
       "│    └─ReLU: 2-21                        [64, 64]                  [64, 64]                  --\n",
       "│    └─Dropout: 2-22                     [64, 64]                  [64, 64]                  --\n",
       "├─ModuleList: 1-2                        --                        --                        --\n",
       "│    └─Linear: 2-23                      [64, 64]                  [64, 5]                   325\n",
       "│    └─Linear: 2-24                      [64, 64]                  [64, 5]                   325\n",
       "│    └─Linear: 2-25                      [64, 64]                  [64, 5]                   325\n",
       "│    └─Linear: 2-26                      [64, 64]                  [64, 5]                   325\n",
       "│    └─Linear: 2-27                      [64, 64]                  [64, 5]                   325\n",
       "│    └─Linear: 2-28                      [64, 64]                  [64, 5]                   325\n",
       "│    └─Linear: 2-29                      [64, 64]                  [64, 5]                   325\n",
       "│    └─Linear: 2-30                      [64, 64]                  [64, 5]                   325\n",
       "===================================================================================================================\n",
       "Total params: 427,752\n",
       "Trainable params: 427,752\n",
       "Non-trainable params: 0\n",
       "Total mult-adds (G): 1.77\n",
       "===================================================================================================================\n",
       "Input size (MB): 2.22\n",
       "Forward/backward pass size (MB): 179.88\n",
       "Params size (MB): 1.71\n",
       "Estimated Total Size (MB): 183.81\n",
       "==================================================================================================================="
      ]
     },
     "execution_count": 15,
     "metadata": {},
     "output_type": "execute_result"
    }
   ],
   "source": [
    "# Create and display the model structure\n",
    "\n",
    "model = Zrimec2020c(params = {\n",
    "\t'other' : {\n",
    "\t\t'in_height'   : config['input']['height'],\n",
    "\t\t'in_width'    : config['input']['width'],\n",
    "\t\t'in_features' : config['input']['features'],\n",
    "\t\t'dropout'     : 0.25\n",
    "\t},\n",
    "\t'conv1' : {\n",
    "\t\t'filters' : 64,\n",
    "\t\t'kernel'  : 9,\n",
    "\t\t'padding' : 0\n",
    "\t},\n",
    "\t'conv2' : {\n",
    "\t\t'filters' : 64,\n",
    "\t\t'kernel'  : 9,\n",
    "\t\t'padding' : 4\n",
    "\t},\n",
    "\t'conv3' : {\n",
    "\t\t'filters' : 128,\n",
    "\t\t'kernel'  : 9,\n",
    "\t\t'padding' : 4\n",
    "\t},\n",
    "\t'maxpool1' : {\n",
    "\t\t'kernel'  : 3,\n",
    "\t\t'padding' : 1\n",
    "\t},\n",
    "\t'maxpool2' : {\n",
    "\t\t'kernel'  : 3,\n",
    "\t\t'padding' : 1\n",
    "\t},\n",
    "\t'maxpool3' : {\n",
    "\t\t'kernel'  : 3,\n",
    "\t\t'padding' : 1\n",
    "\t},\n",
    "\t'fc1' : {\n",
    "\t\t'features' : 128\n",
    "\t},\n",
    "\t'fc2' : {\n",
    "\t\t'features' : 64\n",
    "\t},\n",
    "\t'fc3' : {\n",
    "\t\t'features' : config['output']['classes'],\n",
    "\t\t'heads'    : config['output']['length']\n",
    "\t}\n",
    "})\n",
    "\n",
    "model.summary(\n",
    "\tbatch_size  = config['batch_size']['train'],\n",
    "\tin_height   = config['input']['height'],\n",
    "\tin_width    = config['input']['width'],\n",
    "\tin_features = config['input']['features'],\n",
    ")"
   ]
  },
  {
   "cell_type": "code",
   "execution_count": 16,
   "id": "726f7470-9e83-4e7a-b5c8-73f85fef97a4",
   "metadata": {},
   "outputs": [],
   "source": [
    "# Convert the model to double and initialize weights and biases\n",
    "\n",
    "model = model.double()\n",
    "model = model.apply(cnn_model.he_uniform_weight)\n",
    "model = model.apply(cnn_model.zero_bias)"
   ]
  },
  {
   "cell_type": "code",
   "execution_count": 17,
   "id": "500f0749-13e2-4d2e-9286-ade10b41066d",
   "metadata": {},
   "outputs": [],
   "source": [
    "# Set the training parameters\n",
    "\n",
    "criterion = cnn_model.get_criterion(\n",
    "\tquery     = 'entropy',\n",
    "\treduction = 'mean'\n",
    ")\n",
    "\n",
    "optimizer = cnn_model.get_optimizer(\n",
    "\tquery        = 'adam',\n",
    "\tmodel        = model,\n",
    "\tlr           = 1e-4,\n",
    "\tbetas        = (0.900, 0.999),\n",
    "\tweight_decay = 0.01\n",
    ")\n",
    "\n",
    "scheduler = cnn_model.get_scheduler(\n",
    "\tquery     = 'plateau',\n",
    "\tmode      = 'min',\n",
    "\toptimizer = optimizer,\n",
    "\tpatience  = 3,\n",
    "\tfactor    = 0.5,\n",
    "\tmin_lr    = 1e-6\n",
    ")\n",
    "\n",
    "params = {\n",
    "\t'model'     : model,\n",
    "\t'savebest'  : os.path.join(OUT_MODEL, f'{model.__name__}-best.pth'),\n",
    "\t'savelast'  : os.path.join(OUT_MODEL, f'{model.__name__}-last.pth'),\n",
    "\t'epochs'    : 15,\n",
    "\t'criterion' : criterion,\n",
    "\t'optimizer' : optimizer,\n",
    "\t'scheduler' : scheduler,\n",
    "\t'device'    : DEVICE,\n",
    "\t'verbose'   : True,\n",
    "\t'train_dataloader' : train_dataloader,\n",
    "\t'valid_dataloader' : valid_dataloader,\n",
    "\t'test_dataloader'  : test_dataloader,\n",
    "\t'metrics' : {\n",
    "\t\t'entropy'  : cnn_model.get_criterion(reduction = 'none', query = 'entropy'),\n",
    "\t\t'accuracy' : cnn_model.get_criterion(reduction = 'none', query = 'accuracy')\n",
    "\t}\n",
    "}"
   ]
  },
  {
   "cell_type": "markdown",
   "id": "59fbeda7-5ba2-4390-bf7b-1ccec5e3bb80",
   "metadata": {
    "tags": []
   },
   "source": [
    "## 2.3 Training"
   ]
  },
  {
   "cell_type": "code",
   "execution_count": 18,
   "id": "d7b4fe33-70d8-47ea-a20d-a0dc661e15c3",
   "metadata": {},
   "outputs": [
    {
     "data": {
      "application/vnd.jupyter.widget-view+json": {
       "model_id": "c049bb6c8f65473389aa5c9796516f6d",
       "version_major": 2,
       "version_minor": 0
      },
      "text/plain": [
       "  0%|          | 0/316 [00:00<?, ?it/s]"
      ]
     },
     "metadata": {},
     "output_type": "display_data"
    },
    {
     "data": {
      "application/vnd.jupyter.widget-view+json": {
       "model_id": "c5d0f582c7fc4a578fc2184f3134e640",
       "version_major": 2,
       "version_minor": 0
      },
      "text/plain": [
       "  0%|          | 0/79 [00:00<?, ?it/s]"
      ]
     },
     "metadata": {},
     "output_type": "display_data"
    },
    {
     "data": {
      "application/vnd.jupyter.widget-view+json": {
       "model_id": "b7e1e0ebd82e4d60804aeb29fb66ba11",
       "version_major": 2,
       "version_minor": 0
      },
      "text/plain": [
       "  0%|          | 0/316 [00:00<?, ?it/s]"
      ]
     },
     "metadata": {},
     "output_type": "display_data"
    },
    {
     "data": {
      "application/vnd.jupyter.widget-view+json": {
       "model_id": "c0f2fd78c4b944a99ba3429cfdae4617",
       "version_major": 2,
       "version_minor": 0
      },
      "text/plain": [
       "  0%|          | 0/79 [00:00<?, ?it/s]"
      ]
     },
     "metadata": {},
     "output_type": "display_data"
    },
    {
     "data": {
      "application/vnd.jupyter.widget-view+json": {
       "model_id": "a2c84843ad0e436e810c096283297f37",
       "version_major": 2,
       "version_minor": 0
      },
      "text/plain": [
       "  0%|          | 0/316 [00:00<?, ?it/s]"
      ]
     },
     "metadata": {},
     "output_type": "display_data"
    },
    {
     "data": {
      "application/vnd.jupyter.widget-view+json": {
       "model_id": "f07b2186526845bb8aa57ee8295b9446",
       "version_major": 2,
       "version_minor": 0
      },
      "text/plain": [
       "  0%|          | 0/79 [00:00<?, ?it/s]"
      ]
     },
     "metadata": {},
     "output_type": "display_data"
    },
    {
     "data": {
      "application/vnd.jupyter.widget-view+json": {
       "model_id": "db75ec2caf9043f2b60220d8a53c36fe",
       "version_major": 2,
       "version_minor": 0
      },
      "text/plain": [
       "  0%|          | 0/316 [00:00<?, ?it/s]"
      ]
     },
     "metadata": {},
     "output_type": "display_data"
    },
    {
     "data": {
      "application/vnd.jupyter.widget-view+json": {
       "model_id": "b6e68365556c4dc09a051520333898c7",
       "version_major": 2,
       "version_minor": 0
      },
      "text/plain": [
       "  0%|          | 0/79 [00:00<?, ?it/s]"
      ]
     },
     "metadata": {},
     "output_type": "display_data"
    },
    {
     "data": {
      "application/vnd.jupyter.widget-view+json": {
       "model_id": "f649eb1e7a81468982dc8f3899bc36f9",
       "version_major": 2,
       "version_minor": 0
      },
      "text/plain": [
       "  0%|          | 0/316 [00:00<?, ?it/s]"
      ]
     },
     "metadata": {},
     "output_type": "display_data"
    },
    {
     "data": {
      "application/vnd.jupyter.widget-view+json": {
       "model_id": "ef3de09c3f1f4db7bbb936a0d79d42f0",
       "version_major": 2,
       "version_minor": 0
      },
      "text/plain": [
       "  0%|          | 0/79 [00:00<?, ?it/s]"
      ]
     },
     "metadata": {},
     "output_type": "display_data"
    },
    {
     "data": {
      "application/vnd.jupyter.widget-view+json": {
       "model_id": "a020dc7c343c4df9bb4261ad4e747f17",
       "version_major": 2,
       "version_minor": 0
      },
      "text/plain": [
       "  0%|          | 0/316 [00:00<?, ?it/s]"
      ]
     },
     "metadata": {},
     "output_type": "display_data"
    },
    {
     "data": {
      "application/vnd.jupyter.widget-view+json": {
       "model_id": "4c6d7af3fd6847b19c76c8af056ed392",
       "version_major": 2,
       "version_minor": 0
      },
      "text/plain": [
       "  0%|          | 0/79 [00:00<?, ?it/s]"
      ]
     },
     "metadata": {},
     "output_type": "display_data"
    },
    {
     "data": {
      "application/vnd.jupyter.widget-view+json": {
       "model_id": "2dee80d871b844288b0d3c6d92313658",
       "version_major": 2,
       "version_minor": 0
      },
      "text/plain": [
       "  0%|          | 0/316 [00:00<?, ?it/s]"
      ]
     },
     "metadata": {},
     "output_type": "display_data"
    },
    {
     "data": {
      "application/vnd.jupyter.widget-view+json": {
       "model_id": "b307ca6f8f9042c1a3b65782fb710987",
       "version_major": 2,
       "version_minor": 0
      },
      "text/plain": [
       "  0%|          | 0/79 [00:00<?, ?it/s]"
      ]
     },
     "metadata": {},
     "output_type": "display_data"
    },
    {
     "data": {
      "application/vnd.jupyter.widget-view+json": {
       "model_id": "8b02a595a3874e869d93e0c43f4b14f0",
       "version_major": 2,
       "version_minor": 0
      },
      "text/plain": [
       "  0%|          | 0/316 [00:00<?, ?it/s]"
      ]
     },
     "metadata": {},
     "output_type": "display_data"
    },
    {
     "data": {
      "application/vnd.jupyter.widget-view+json": {
       "model_id": "22fe244adab748dd8931a786935d8c25",
       "version_major": 2,
       "version_minor": 0
      },
      "text/plain": [
       "  0%|          | 0/79 [00:00<?, ?it/s]"
      ]
     },
     "metadata": {},
     "output_type": "display_data"
    },
    {
     "data": {
      "application/vnd.jupyter.widget-view+json": {
       "model_id": "5f2a05d3878d43e196d417cf534d6169",
       "version_major": 2,
       "version_minor": 0
      },
      "text/plain": [
       "  0%|          | 0/316 [00:00<?, ?it/s]"
      ]
     },
     "metadata": {},
     "output_type": "display_data"
    },
    {
     "data": {
      "application/vnd.jupyter.widget-view+json": {
       "model_id": "383e89046fd846b4bccbaa0e2c86c063",
       "version_major": 2,
       "version_minor": 0
      },
      "text/plain": [
       "  0%|          | 0/79 [00:00<?, ?it/s]"
      ]
     },
     "metadata": {},
     "output_type": "display_data"
    },
    {
     "data": {
      "application/vnd.jupyter.widget-view+json": {
       "model_id": "f3025eb40ace4e61bce72a234f9dd485",
       "version_major": 2,
       "version_minor": 0
      },
      "text/plain": [
       "  0%|          | 0/316 [00:00<?, ?it/s]"
      ]
     },
     "metadata": {},
     "output_type": "display_data"
    },
    {
     "data": {
      "application/vnd.jupyter.widget-view+json": {
       "model_id": "68a76fbc59604761ae64de04732c5fa4",
       "version_major": 2,
       "version_minor": 0
      },
      "text/plain": [
       "  0%|          | 0/79 [00:00<?, ?it/s]"
      ]
     },
     "metadata": {},
     "output_type": "display_data"
    },
    {
     "data": {
      "application/vnd.jupyter.widget-view+json": {
       "model_id": "8b9e639357ef46548fef4565da78deb2",
       "version_major": 2,
       "version_minor": 0
      },
      "text/plain": [
       "  0%|          | 0/316 [00:00<?, ?it/s]"
      ]
     },
     "metadata": {},
     "output_type": "display_data"
    },
    {
     "data": {
      "application/vnd.jupyter.widget-view+json": {
       "model_id": "1b58b526ad824a6b90a98e6d8a42a48c",
       "version_major": 2,
       "version_minor": 0
      },
      "text/plain": [
       "  0%|          | 0/79 [00:00<?, ?it/s]"
      ]
     },
     "metadata": {},
     "output_type": "display_data"
    },
    {
     "data": {
      "application/vnd.jupyter.widget-view+json": {
       "model_id": "1703caab696e4ced95deb5c33f376cd7",
       "version_major": 2,
       "version_minor": 0
      },
      "text/plain": [
       "  0%|          | 0/316 [00:00<?, ?it/s]"
      ]
     },
     "metadata": {},
     "output_type": "display_data"
    },
    {
     "data": {
      "application/vnd.jupyter.widget-view+json": {
       "model_id": "e7111d1e588a4c9c8dd6c74cd10cdd9d",
       "version_major": 2,
       "version_minor": 0
      },
      "text/plain": [
       "  0%|          | 0/79 [00:00<?, ?it/s]"
      ]
     },
     "metadata": {},
     "output_type": "display_data"
    },
    {
     "data": {
      "application/vnd.jupyter.widget-view+json": {
       "model_id": "904d985cd90e463aa5fccdf08a32dfc3",
       "version_major": 2,
       "version_minor": 0
      },
      "text/plain": [
       "  0%|          | 0/316 [00:00<?, ?it/s]"
      ]
     },
     "metadata": {},
     "output_type": "display_data"
    },
    {
     "data": {
      "application/vnd.jupyter.widget-view+json": {
       "model_id": "0368dbc0dd184654a2e845e44ea30d0a",
       "version_major": 2,
       "version_minor": 0
      },
      "text/plain": [
       "  0%|          | 0/79 [00:00<?, ?it/s]"
      ]
     },
     "metadata": {},
     "output_type": "display_data"
    },
    {
     "data": {
      "application/vnd.jupyter.widget-view+json": {
       "model_id": "533f56efbfe34bef845461ffb6c18f2b",
       "version_major": 2,
       "version_minor": 0
      },
      "text/plain": [
       "  0%|          | 0/316 [00:00<?, ?it/s]"
      ]
     },
     "metadata": {},
     "output_type": "display_data"
    },
    {
     "data": {
      "application/vnd.jupyter.widget-view+json": {
       "model_id": "69c330d630294cdab90bb48b1a18ab79",
       "version_major": 2,
       "version_minor": 0
      },
      "text/plain": [
       "  0%|          | 0/79 [00:00<?, ?it/s]"
      ]
     },
     "metadata": {},
     "output_type": "display_data"
    },
    {
     "data": {
      "application/vnd.jupyter.widget-view+json": {
       "model_id": "8fa691649bac49a19b780ce6638dca7e",
       "version_major": 2,
       "version_minor": 0
      },
      "text/plain": [
       "  0%|          | 0/316 [00:00<?, ?it/s]"
      ]
     },
     "metadata": {},
     "output_type": "display_data"
    },
    {
     "data": {
      "application/vnd.jupyter.widget-view+json": {
       "model_id": "aa4b41650efb4006a1e54cc85d6ca579",
       "version_major": 2,
       "version_minor": 0
      },
      "text/plain": [
       "  0%|          | 0/79 [00:00<?, ?it/s]"
      ]
     },
     "metadata": {},
     "output_type": "display_data"
    }
   ],
   "source": [
    "# Train and validate the model\n",
    "\n",
    "report = cnn_model.train_classifier(\n",
    "\tmodel  = model,\n",
    "\tparams = params\n",
    ")"
   ]
  },
  {
   "cell_type": "code",
   "execution_count": 19,
   "id": "1dd6351e-f3da-4d21-bc1c-4558a2801c1e",
   "metadata": {},
   "outputs": [
    {
     "data": {
      "image/png": "[encoded data removed]",
      "text/plain": [
       "<Figure size 1600x1000 with 1 Axes>"
      ]
     },
     "metadata": {},
     "output_type": "display_data"
    }
   ],
   "source": [
    "# Display the training and validation loss curves\n",
    "\n",
    "cnn_plot.show_loss(\n",
    "\treport   = report,\n",
    "\ttitle    = 'Cross Entropy',\n",
    "\tfilename = os.path.join(OUT_PLOT, model.__name__)\n",
    ")"
   ]
  },
  {
   "cell_type": "code",
   "execution_count": 20,
   "id": "d829024c-eea1-4c80-bf99-16d3f11b158b",
   "metadata": {},
   "outputs": [
    {
     "data": {
      "image/png": "[encoded data removed]",
      "text/plain": [
       "<Figure size 1600x1000 with 1 Axes>"
      ]
     },
     "metadata": {},
     "output_type": "display_data"
    }
   ],
   "source": [
    "# Display the training and validation learning rate curves\n",
    "\n",
    "cnn_plot.show_lr(\n",
    "\treport   = report,\n",
    "\ttitle    = 'Reduce On Plateau',\n",
    "\tfilename = os.path.join(OUT_PLOT, model.__name__)\n",
    ")"
   ]
  },
  {
   "cell_type": "code",
   "execution_count": 21,
   "id": "2989ea49-a7a3-48c1-abf5-7bf37575a581",
   "metadata": {},
   "outputs": [
    {
     "data": {
      "image/png": "[encoded data removed]",
      "text/plain": [
       "<Figure size 1600x1000 with 1 Axes>"
      ]
     },
     "metadata": {},
     "output_type": "display_data"
    }
   ],
   "source": [
    "# Display the training and validation learning rate curves\n",
    "\n",
    "cnn_plot.show_accuracy(\n",
    "\treport   = report,\n",
    "\ttitle    = 'Accuracy',\n",
    "\tfilename = os.path.join(OUT_PLOT, model.__name__)\n",
    ")"
   ]
  },
  {
   "cell_type": "code",
   "execution_count": 22,
   "id": "002ccf4d-3d4c-43a8-b404-227e84c15fcb",
   "metadata": {},
   "outputs": [
    {
     "data": {
      "image/png": "[encoded data removed]",
      "text/plain": [
       "<Figure size 3200x1000 with 2 Axes>"
      ]
     },
     "metadata": {},
     "output_type": "display_data"
    }
   ],
   "source": [
    "# Display the training metrics per batch\n",
    "\n",
    "cnn_plot.show_metric_grid(\n",
    "\treport   = report,\n",
    "\tmode     = 'train',\n",
    "\tfilename = os.path.join(OUT_PLOT, model.__name__ + '-train')\n",
    ")"
   ]
  },
  {
   "cell_type": "code",
   "execution_count": 23,
   "id": "cf59b9f0-7111-48e9-9243-20217324cad7",
   "metadata": {},
   "outputs": [
    {
     "data": {
      "image/png": "[encoded data removed]",
      "text/plain": [
       "<Figure size 3200x1000 with 2 Axes>"
      ]
     },
     "metadata": {},
     "output_type": "display_data"
    }
   ],
   "source": [
    "# Display the validation metrics per batch\n",
    "\n",
    "cnn_plot.show_metric_grid(\n",
    "\treport   = report,\n",
    "\tmode     = 'valid',\n",
    "\tfilename = os.path.join(OUT_PLOT, model.__name__ + '-valid')\n",
    ")"
   ]
  },
  {
   "cell_type": "markdown",
   "id": "0bc6aafc-d3c2-4781-a45a-244b8dd02f8c",
   "metadata": {},
   "source": [
    "## 2.4 Evaluation"
   ]
  },
  {
   "cell_type": "markdown",
   "id": "e7e51b0f-b492-4cf7-8069-5bcb8a16a2c2",
   "metadata": {},
   "source": [
    "### 2.4.1 Last Model"
   ]
  },
  {
   "cell_type": "code",
   "execution_count": 24,
   "id": "3de7c56c-3c7c-42f4-81ad-9f047f4c8066",
   "metadata": {},
   "outputs": [
    {
     "name": "stdout",
     "output_type": "stream",
     "text": [
      "Epoch : 15\n",
      " Loss : 1.48235\n"
     ]
    },
    {
     "data": {
      "text/plain": [
       "<All keys matched successfully>"
      ]
     },
     "execution_count": 24,
     "metadata": {},
     "output_type": "execute_result"
    }
   ],
   "source": [
    "# Load last model\n",
    "\n",
    "checkpoint = data_loader.load_torch(\n",
    "\tfilename = os.path.join(OUT_MODEL, model.__name__ + '-last.pth')\n",
    ")\n",
    "\n",
    "print('Epoch : ' + '{}'.format(checkpoint['epoch']))\n",
    "print(' Loss : ' + '{:.5f}'.format(checkpoint['loss']))\n",
    "\n",
    "model.load_state_dict(checkpoint['models'])"
   ]
  },
  {
   "cell_type": "code",
   "execution_count": 25,
   "id": "150a80a5-6273-4772-b565-004f071e7892",
   "metadata": {},
   "outputs": [
    {
     "data": {
      "application/vnd.jupyter.widget-view+json": {
       "model_id": "cf32ee7fca654e5297a3bf5768adb725",
       "version_major": 2,
       "version_minor": 0
      },
      "text/plain": [
       "  0%|          | 0/99 [00:00<?, ?it/s]"
      ]
     },
     "metadata": {},
     "output_type": "display_data"
    }
   ],
   "source": [
    "# Evaluate the full model\n",
    "\n",
    "report = cnn_model.eval_classifier(\n",
    "\tmodel  = model,\n",
    "\tparams = params\n",
    ")"
   ]
  },
  {
   "cell_type": "code",
   "execution_count": 26,
   "id": "6a807ba2-aab1-4f21-9fbc-ba166fc4f1bb",
   "metadata": {},
   "outputs": [
    {
     "name": "stdout",
     "output_type": "stream",
     "text": [
      "Entropy  :  1.47511\n",
      "Accuracy :  0.34069\n"
     ]
    }
   ],
   "source": [
    "# Print the evaluation metrics\n",
    "\n",
    "print('Entropy  : ' + '{: 8.5f}'.format(report['eval']['metric']['entropy'].mean()))\n",
    "print('Accuracy : ' + '{: 8.5f}'.format(report['eval']['metric']['accuracy'].mean()))"
   ]
  },
  {
   "cell_type": "code",
   "execution_count": 27,
   "id": "f6300e23-3468-4c27-9e2c-36a086560045",
   "metadata": {},
   "outputs": [
    {
     "name": "stdout",
     "output_type": "stream",
     "text": [
      "Gene     : AT2G40020.2\n",
      "True     : [1 1 1 0 1 1 0 0]\n",
      "Pred     : [4 0 2 4 1 4 0 0]\n",
      "Entropy  : [1.78581   1.59650   1.52441   1.69903   1.50463   1.58869   1.19074   0.91826]\n",
      "Accuracy : [0.00000   0.00000   0.00000   0.00000   1.00000   0.00000   1.00000   1.00000]\n",
      "\n",
      "Gene     : AT5G64520.9\n",
      "True     : [2 1 1 1 1 0 0 0]\n",
      "Pred     : [4 0 2 3 1 1 0 0]\n",
      "Entropy  : [1.56281   1.55215   1.43244   1.76802   1.40917   1.69743   1.01728   0.76046]\n",
      "Accuracy : [0.00000   0.00000   0.00000   0.00000   1.00000   0.00000   1.00000   1.00000]\n",
      "\n"
     ]
    }
   ],
   "source": [
    "# Display the first few evaluation item predictions and expectations\n",
    "\n",
    "cnn_util.display_classification_predictions(report = report, n = 2)"
   ]
  },
  {
   "cell_type": "code",
   "execution_count": 28,
   "id": "8cb1acc5-aa4f-44e1-96cc-0e5d2285df16",
   "metadata": {},
   "outputs": [
    {
     "name": "stdout",
     "output_type": "stream",
     "text": [
      "Average Accuracy : 34.06921 %\n",
      "Average Missed 1 : 29.95581 %\n",
      "Average Missed 2 : 18.87626 %\n",
      "Average Missed 3 : 11.64181 %\n",
      "Average Missed 4 :  5.45691 %\n",
      "\n"
     ]
    },
    {
     "data": {
      "text/html": [
       "<div>\n",
       "<style scoped>\n",
       "    .dataframe tbody tr th:only-of-type {\n",
       "        vertical-align: middle;\n",
       "    }\n",
       "\n",
       "    .dataframe tbody tr th {\n",
       "        vertical-align: top;\n",
       "    }\n",
       "\n",
       "    .dataframe thead th {\n",
       "        text-align: right;\n",
       "    }\n",
       "</style>\n",
       "<table border=\"1\" class=\"dataframe\">\n",
       "  <thead>\n",
       "    <tr style=\"text-align: right;\">\n",
       "      <th></th>\n",
       "      <th>Group</th>\n",
       "      <th>Total</th>\n",
       "      <th>Accuracy</th>\n",
       "      <th>Missed_1</th>\n",
       "      <th>Missed_2</th>\n",
       "      <th>Missed_3</th>\n",
       "      <th>Missed_4</th>\n",
       "    </tr>\n",
       "  </thead>\n",
       "  <tbody>\n",
       "    <tr>\n",
       "      <th>7</th>\n",
       "      <td>senescence_reproductive</td>\n",
       "      <td>6336</td>\n",
       "      <td>41.38</td>\n",
       "      <td>32.29</td>\n",
       "      <td>17.63</td>\n",
       "      <td>7.70</td>\n",
       "      <td>0.99</td>\n",
       "    </tr>\n",
       "    <tr>\n",
       "      <th>0</th>\n",
       "      <td>flower</td>\n",
       "      <td>6336</td>\n",
       "      <td>36.25</td>\n",
       "      <td>28.82</td>\n",
       "      <td>18.37</td>\n",
       "      <td>9.61</td>\n",
       "      <td>6.94</td>\n",
       "    </tr>\n",
       "    <tr>\n",
       "      <th>3</th>\n",
       "      <td>root</td>\n",
       "      <td>6336</td>\n",
       "      <td>34.64</td>\n",
       "      <td>25.69</td>\n",
       "      <td>18.42</td>\n",
       "      <td>12.97</td>\n",
       "      <td>8.27</td>\n",
       "    </tr>\n",
       "    <tr>\n",
       "      <th>5</th>\n",
       "      <td>seedling</td>\n",
       "      <td>6336</td>\n",
       "      <td>32.89</td>\n",
       "      <td>28.54</td>\n",
       "      <td>19.30</td>\n",
       "      <td>13.43</td>\n",
       "      <td>5.84</td>\n",
       "    </tr>\n",
       "    <tr>\n",
       "      <th>4</th>\n",
       "      <td>seed</td>\n",
       "      <td>6336</td>\n",
       "      <td>32.62</td>\n",
       "      <td>28.85</td>\n",
       "      <td>19.71</td>\n",
       "      <td>12.96</td>\n",
       "      <td>5.86</td>\n",
       "    </tr>\n",
       "    <tr>\n",
       "      <th>1</th>\n",
       "      <td>leaf</td>\n",
       "      <td>6336</td>\n",
       "      <td>32.43</td>\n",
       "      <td>26.80</td>\n",
       "      <td>18.21</td>\n",
       "      <td>14.46</td>\n",
       "      <td>8.10</td>\n",
       "    </tr>\n",
       "    <tr>\n",
       "      <th>6</th>\n",
       "      <td>senescence_green</td>\n",
       "      <td>6336</td>\n",
       "      <td>32.28</td>\n",
       "      <td>31.04</td>\n",
       "      <td>19.44</td>\n",
       "      <td>12.61</td>\n",
       "      <td>4.62</td>\n",
       "    </tr>\n",
       "    <tr>\n",
       "      <th>2</th>\n",
       "      <td>other</td>\n",
       "      <td>6336</td>\n",
       "      <td>30.05</td>\n",
       "      <td>37.61</td>\n",
       "      <td>19.92</td>\n",
       "      <td>9.39</td>\n",
       "      <td>3.03</td>\n",
       "    </tr>\n",
       "  </tbody>\n",
       "</table>\n",
       "</div>"
      ],
      "text/plain": [
       "                     Group  Total  Accuracy  Missed_1  Missed_2  Missed_3  \\\n",
       "7  senescence_reproductive   6336     41.38     32.29     17.63      7.70   \n",
       "0                   flower   6336     36.25     28.82     18.37      9.61   \n",
       "3                     root   6336     34.64     25.69     18.42     12.97   \n",
       "5                 seedling   6336     32.89     28.54     19.30     13.43   \n",
       "4                     seed   6336     32.62     28.85     19.71     12.96   \n",
       "1                     leaf   6336     32.43     26.80     18.21     14.46   \n",
       "6         senescence_green   6336     32.28     31.04     19.44     12.61   \n",
       "2                    other   6336     30.05     37.61     19.92      9.39   \n",
       "\n",
       "   Missed_4  \n",
       "7      0.99  \n",
       "0      6.94  \n",
       "3      8.27  \n",
       "5      5.84  \n",
       "4      5.86  \n",
       "1      8.10  \n",
       "6      4.62  \n",
       "2      3.03  "
      ]
     },
     "execution_count": 28,
     "metadata": {},
     "output_type": "execute_result"
    }
   ],
   "source": [
    "# Display the evaluation accuracy\n",
    "\n",
    "dataframe = cnn_util.display_classification_accuracy(\n",
    "\treport = report['eval'],\n",
    "\torder  = tpm_order[config['output']['group0']]\n",
    ").sort_values('Accuracy', ascending = False)\n",
    "\n",
    "print('Average Accuracy : {:8.5f} %'.format(dataframe['Accuracy'].mean()))\n",
    "print('Average Missed 1 : {:8.5f} %'.format(dataframe['Missed_1'].mean()))\n",
    "print('Average Missed 2 : {:8.5f} %'.format(dataframe['Missed_2'].mean()))\n",
    "print('Average Missed 3 : {:8.5f} %'.format(dataframe['Missed_3'].mean()))\n",
    "print('Average Missed 4 : {:8.5f} %'.format(dataframe['Missed_4'].mean()))\n",
    "print()\n",
    "\n",
    "dataframe"
   ]
  },
  {
   "cell_type": "markdown",
   "id": "99a0a29a-6ab4-4463-93f5-a38239558db7",
   "metadata": {},
   "source": [
    "### 2.4.2 Best Model"
   ]
  },
  {
   "cell_type": "code",
   "execution_count": 29,
   "id": "b30e7903-88eb-4e92-9f10-65c4a71d1b4c",
   "metadata": {},
   "outputs": [
    {
     "name": "stdout",
     "output_type": "stream",
     "text": [
      "Epoch : 13\n",
      " Loss : 1.46005\n"
     ]
    },
    {
     "data": {
      "text/plain": [
       "<All keys matched successfully>"
      ]
     },
     "execution_count": 29,
     "metadata": {},
     "output_type": "execute_result"
    }
   ],
   "source": [
    "# Load best model\n",
    "\n",
    "checkpoint = data_loader.load_torch(\n",
    "\tfilename = os.path.join(OUT_MODEL, model.__name__ + '-best.pth')\n",
    ")\n",
    "\n",
    "print('Epoch : ' + '{}'.format(checkpoint['epoch']))\n",
    "print(' Loss : ' + '{:.5f}'.format(checkpoint['loss']))\n",
    "\n",
    "model.load_state_dict(checkpoint['models'])"
   ]
  },
  {
   "cell_type": "code",
   "execution_count": 30,
   "id": "9d55a634-efaa-4410-9c68-57794c25bbca",
   "metadata": {},
   "outputs": [
    {
     "data": {
      "application/vnd.jupyter.widget-view+json": {
       "model_id": "2c024dae7e9b491e992f54a02bac46e7",
       "version_major": 2,
       "version_minor": 0
      },
      "text/plain": [
       "  0%|          | 0/99 [00:00<?, ?it/s]"
      ]
     },
     "metadata": {},
     "output_type": "display_data"
    }
   ],
   "source": [
    "# Evaluate the full model\n",
    "\n",
    "report = cnn_model.eval_classifier(\n",
    "\tmodel  = model,\n",
    "\tparams = params\n",
    ")"
   ]
  },
  {
   "cell_type": "code",
   "execution_count": 31,
   "id": "05c70049-4040-4e16-a227-d01d5fac30a8",
   "metadata": {},
   "outputs": [
    {
     "name": "stdout",
     "output_type": "stream",
     "text": [
      "Entropy  :  1.45611\n",
      "Accuracy :  0.35277\n"
     ]
    }
   ],
   "source": [
    "# Print the evaluation metrics\n",
    "\n",
    "print('Entropy  : ' + '{: 8.5f}'.format(report['eval']['metric']['entropy'].mean()))\n",
    "print('Accuracy : ' + '{: 8.5f}'.format(report['eval']['metric']['accuracy'].mean()))"
   ]
  },
  {
   "cell_type": "code",
   "execution_count": 32,
   "id": "0097cf63-39e1-46e7-9f12-33b8cd860139",
   "metadata": {},
   "outputs": [
    {
     "name": "stdout",
     "output_type": "stream",
     "text": [
      "Gene     : AT4G00420.5\n",
      "True     : [0 1 0 1 1 1 1 0]\n",
      "Pred     : [4 0 3 4 3 3 0 0]\n",
      "Entropy  : [2.06621   1.67006   1.85285   1.91820   1.51602   1.67962   1.66211   0.83187]\n",
      "Accuracy : [0.00000   0.00000   0.00000   0.00000   0.00000   0.00000   0.00000   1.00000]\n",
      "\n",
      "Gene     : AT1G18700.4\n",
      "True     : [1 1 0 0 1 1 0 0]\n",
      "Pred     : [0 0 0 0 0 0 0 0]\n",
      "Entropy  : [1.72660   1.87482   1.11780   1.08361   1.44346   1.57245   0.59977   0.49843]\n",
      "Accuracy : [0.00000   0.00000   1.00000   1.00000   0.00000   0.00000   1.00000   1.00000]\n",
      "\n"
     ]
    }
   ],
   "source": [
    "# Display the first few evaluation item predictions and expectations\n",
    "\n",
    "cnn_util.display_classification_predictions(report = report, n = 2)"
   ]
  },
  {
   "cell_type": "code",
   "execution_count": 33,
   "id": "d4ba93f6-d50d-450d-8d37-4a937f795ac3",
   "metadata": {},
   "outputs": [
    {
     "name": "stdout",
     "output_type": "stream",
     "text": [
      "Average Accuracy : 35.27659 %\n",
      "Average Missed 1 : 31.09612 %\n",
      "Average Missed 2 : 18.29230 %\n",
      "Average Missed 3 : 10.72049 %\n",
      "Average Missed 4 :  4.61450 %\n",
      "\n"
     ]
    },
    {
     "data": {
      "text/html": [
       "<div>\n",
       "<style scoped>\n",
       "    .dataframe tbody tr th:only-of-type {\n",
       "        vertical-align: middle;\n",
       "    }\n",
       "\n",
       "    .dataframe tbody tr th {\n",
       "        vertical-align: top;\n",
       "    }\n",
       "\n",
       "    .dataframe thead th {\n",
       "        text-align: right;\n",
       "    }\n",
       "</style>\n",
       "<table border=\"1\" class=\"dataframe\">\n",
       "  <thead>\n",
       "    <tr style=\"text-align: right;\">\n",
       "      <th></th>\n",
       "      <th>Group</th>\n",
       "      <th>Total</th>\n",
       "      <th>Accuracy</th>\n",
       "      <th>Missed_1</th>\n",
       "      <th>Missed_2</th>\n",
       "      <th>Missed_3</th>\n",
       "      <th>Missed_4</th>\n",
       "    </tr>\n",
       "  </thead>\n",
       "  <tbody>\n",
       "    <tr>\n",
       "      <th>7</th>\n",
       "      <td>senescence_reproductive</td>\n",
       "      <td>6336</td>\n",
       "      <td>42.08</td>\n",
       "      <td>32.94</td>\n",
       "      <td>17.42</td>\n",
       "      <td>6.71</td>\n",
       "      <td>0.85</td>\n",
       "    </tr>\n",
       "    <tr>\n",
       "      <th>0</th>\n",
       "      <td>flower</td>\n",
       "      <td>6336</td>\n",
       "      <td>38.56</td>\n",
       "      <td>28.39</td>\n",
       "      <td>17.49</td>\n",
       "      <td>9.90</td>\n",
       "      <td>5.67</td>\n",
       "    </tr>\n",
       "    <tr>\n",
       "      <th>3</th>\n",
       "      <td>root</td>\n",
       "      <td>6336</td>\n",
       "      <td>35.70</td>\n",
       "      <td>26.59</td>\n",
       "      <td>18.04</td>\n",
       "      <td>12.11</td>\n",
       "      <td>7.56</td>\n",
       "    </tr>\n",
       "    <tr>\n",
       "      <th>4</th>\n",
       "      <td>seed</td>\n",
       "      <td>6336</td>\n",
       "      <td>34.28</td>\n",
       "      <td>29.75</td>\n",
       "      <td>19.62</td>\n",
       "      <td>11.60</td>\n",
       "      <td>4.75</td>\n",
       "    </tr>\n",
       "    <tr>\n",
       "      <th>1</th>\n",
       "      <td>leaf</td>\n",
       "      <td>6336</td>\n",
       "      <td>33.85</td>\n",
       "      <td>27.46</td>\n",
       "      <td>18.09</td>\n",
       "      <td>13.45</td>\n",
       "      <td>7.15</td>\n",
       "    </tr>\n",
       "    <tr>\n",
       "      <th>5</th>\n",
       "      <td>seedling</td>\n",
       "      <td>6336</td>\n",
       "      <td>33.78</td>\n",
       "      <td>30.11</td>\n",
       "      <td>18.48</td>\n",
       "      <td>12.64</td>\n",
       "      <td>4.99</td>\n",
       "    </tr>\n",
       "    <tr>\n",
       "      <th>6</th>\n",
       "      <td>senescence_green</td>\n",
       "      <td>6336</td>\n",
       "      <td>32.50</td>\n",
       "      <td>33.55</td>\n",
       "      <td>18.61</td>\n",
       "      <td>11.52</td>\n",
       "      <td>3.82</td>\n",
       "    </tr>\n",
       "    <tr>\n",
       "      <th>2</th>\n",
       "      <td>other</td>\n",
       "      <td>6336</td>\n",
       "      <td>31.47</td>\n",
       "      <td>39.96</td>\n",
       "      <td>18.59</td>\n",
       "      <td>7.84</td>\n",
       "      <td>2.13</td>\n",
       "    </tr>\n",
       "  </tbody>\n",
       "</table>\n",
       "</div>"
      ],
      "text/plain": [
       "                     Group  Total  Accuracy  Missed_1  Missed_2  Missed_3  \\\n",
       "7  senescence_reproductive   6336     42.08     32.94     17.42      6.71   \n",
       "0                   flower   6336     38.56     28.39     17.49      9.90   \n",
       "3                     root   6336     35.70     26.59     18.04     12.11   \n",
       "4                     seed   6336     34.28     29.75     19.62     11.60   \n",
       "1                     leaf   6336     33.85     27.46     18.09     13.45   \n",
       "5                 seedling   6336     33.78     30.11     18.48     12.64   \n",
       "6         senescence_green   6336     32.50     33.55     18.61     11.52   \n",
       "2                    other   6336     31.47     39.96     18.59      7.84   \n",
       "\n",
       "   Missed_4  \n",
       "7      0.85  \n",
       "0      5.67  \n",
       "3      7.56  \n",
       "4      4.75  \n",
       "1      7.15  \n",
       "5      4.99  \n",
       "6      3.82  \n",
       "2      2.13  "
      ]
     },
     "execution_count": 33,
     "metadata": {},
     "output_type": "execute_result"
    }
   ],
   "source": [
    "# Display the evaluation accuracy\n",
    "\n",
    "dataframe = cnn_util.display_classification_accuracy(\n",
    "\treport = report['eval'],\n",
    "\torder  = tpm_order[config['output']['group0']]\n",
    ").sort_values('Accuracy', ascending = False)\n",
    "\n",
    "print('Average Accuracy : {:8.5f} %'.format(dataframe['Accuracy'].mean()))\n",
    "print('Average Missed 1 : {:8.5f} %'.format(dataframe['Missed_1'].mean()))\n",
    "print('Average Missed 2 : {:8.5f} %'.format(dataframe['Missed_2'].mean()))\n",
    "print('Average Missed 3 : {:8.5f} %'.format(dataframe['Missed_3'].mean()))\n",
    "print('Average Missed 4 : {:8.5f} %'.format(dataframe['Missed_4'].mean()))\n",
    "print()\n",
    "\n",
    "dataframe"
   ]
  }
 ],
 "metadata": {
  "kernelspec": {
   "display_name": "Python 3 (ipykernel)",
   "language": "python",
   "name": "python3"
  },
  "language_info": {
   "codemirror_mode": {
    "name": "ipython",
    "version": 3
   },
   "file_extension": ".py",
   "mimetype": "text/x-python",
   "name": "python",
   "nbconvert_exporter": "python",
   "pygments_lexer": "ipython3",
   "version": "3.10.7"
  }
 },
 "nbformat": 4,
 "nbformat_minor": 5
}
