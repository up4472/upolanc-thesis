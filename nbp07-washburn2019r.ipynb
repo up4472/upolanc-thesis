{
 "cells": [
  {
   "cell_type": "code",
   "execution_count": null,
   "id": "48511085-ae79-438e-a14f-82c17fcb93b8",
   "metadata": {},
   "outputs": [],
   "source": [
    "# Libraries\n",
    "\n",
    "import numpy\n",
    "import os\n",
    "import shutil"
   ]
  },
  {
   "cell_type": "code",
   "execution_count": null,
   "id": "85b1edc1-cfaa-41a4-ba4c-3a76fca61684",
   "metadata": {},
   "outputs": [],
   "source": [
    "# Code\n",
    "\n",
    "from src.cnn.dataset import GeneDataset\n",
    "from src.cnn.models  import Washburn2019r\n",
    "\n",
    "from src.cnn import core    as cnn_core\n",
    "from src.cnn import dataset as cnn_dataset\n",
    "from src.cnn import model   as cnn_model\n",
    "from src.cnn import plot    as cnn_plot\n",
    "from src.cnn import util    as cnn_util\n",
    "from src.io  import loader  as data_loader"
   ]
  },
  {
   "cell_type": "markdown",
   "id": "1655fa54-e282-4c32-a393-8b699c2da8fb",
   "metadata": {},
   "source": [
    "# 1. Setup"
   ]
  },
  {
   "cell_type": "code",
   "execution_count": null,
   "id": "7f03c2a6-42f7-4065-9019-a256aa1fd2e7",
   "metadata": {},
   "outputs": [],
   "source": [
    "# Setup some directory paths.\n",
    "\n",
    "OUT_SUBFOLDER = 'nbp07-washburn2019r'\n",
    "RES_SUBFOLDER = ''\n",
    "\n",
    "CWD = os.getcwd()\n",
    "OUT = os.path.join(CWD, 'out')\n",
    "RES = os.path.join(CWD, 'res')\n",
    "\n",
    "OUT_PLOT  = os.path.join(OUT, 'plot',  OUT_SUBFOLDER)\n",
    "OUT_MODEL = os.path.join(OUT, 'model', OUT_SUBFOLDER)\n",
    "RES_PLANT = os.path.join(RES, 'plant', RES_SUBFOLDER)\n",
    "RES_MODEL = os.path.join(RES, 'model', RES_SUBFOLDER)\n",
    "RES_NBP04 = os.path.join(OUT, 'data', 'nbp04-feature')\n",
    "RES_NBP05 = os.path.join(OUT, 'data', 'nbp05-target')\n",
    "\n",
    "shutil.rmtree(OUT_PLOT,  ignore_errors = True)\n",
    "shutil.rmtree(OUT_MODEL, ignore_errors = True)\n",
    "\n",
    "os.makedirs(OUT_PLOT,  exist_ok = True)\n",
    "os.makedirs(OUT_MODEL, exist_ok = True)\n",
    "\n",
    "print(f'     Root Directory : {CWD}')\n",
    "print(f'   Output Directory : {OUT}')\n",
    "print(f' Resource Directory : {RES}')"
   ]
  },
  {
   "cell_type": "code",
   "execution_count": null,
   "id": "cc2eb521-004a-4093-aa8d-e591e095843a",
   "metadata": {},
   "outputs": [],
   "source": [
    "# Device\n",
    "\n",
    "DEVICE = cnn_core.get_device(only_cpu = False)"
   ]
  },
  {
   "cell_type": "code",
   "execution_count": null,
   "id": "3e08913e-7299-424e-b9bf-f94a055650db",
   "metadata": {},
   "outputs": [],
   "source": [
    "# Load the input <gene> features\n",
    "\n",
    "gene_sequences = data_loader.load_fasta(\n",
    "\tfilename  = os.path.join(RES_NBP04, 'features-bp2150.fasta'),\n",
    "\tto_string = True\n",
    ")\n",
    "\n",
    "gene_frequency = data_loader.load_npz(\n",
    "\tfilename = os.path.join(RES_NBP04, 'features-frequency.npz')\n",
    ")\n",
    "\n",
    "gene_stability = data_loader.load_npz(\n",
    "\tfilename = os.path.join(RES_NBP04, 'features-stability.npz')\n",
    ")\n",
    "\n",
    "tpm_value = data_loader.load_labels(\n",
    "\tfilename = os.path.join(RES_NBP05, 'target-values.json'),\n",
    "\tto_numpy = True\n",
    ")\n",
    "\n",
    "tpm_order = data_loader.load_labels(\n",
    "\tfilename = os.path.join(RES_NBP05, 'target-order.json')\n",
    ")"
   ]
  },
  {
   "cell_type": "markdown",
   "id": "a1df3337-8a46-4c0e-b9c6-caf73d0488e4",
   "metadata": {},
   "source": [
    "# 2. Regression"
   ]
  },
  {
   "cell_type": "code",
   "execution_count": null,
   "id": "0d006a23-c2b7-4150-8015-6915176eac9a",
   "metadata": {},
   "outputs": [],
   "source": [
    "# Define basic data parameters\n",
    "\n",
    "config = {\n",
    "\t'random_seed' : None,\n",
    "\t'batch_size' : {\n",
    "\t\t'train' : 64,\n",
    "\t\t'valid' : 64,\n",
    "\t\t'test'  : 64\n",
    "\t},\n",
    "\t'split_size' : {\n",
    "\t\t'valid' : 0.2,\n",
    "\t\t'test'  : 0.2\n",
    "\t},\n",
    "\t'input' : {\n",
    "\t\t'channels' : 1,\n",
    "\t\t'height'   : 4,\n",
    "\t\t'width'    : 2150,\n",
    "\t\t'features' : 64\n",
    "\t},\n",
    "\t'output' : {\n",
    "\t\t'group0' : 'tissue',\n",
    "\t\t'group1' : 'tissue-mean',\n",
    "\t\t'length' : 8\n",
    "\t}\n",
    "}\n",
    "\n",
    "# Ensure correct \n",
    "config['output']['length'] = len(tpm_order[config['output']['group0']])"
   ]
  },
  {
   "cell_type": "code",
   "execution_count": null,
   "id": "8a26195b-8d3b-4705-9bd0-d9f6621a8054",
   "metadata": {},
   "outputs": [],
   "source": [
    "# Lock random\n",
    "\n",
    "config['random_seed'] = cnn_core.lock_random(\n",
    "\tseed = config['random_seed'],\n",
    "\tgenerate_seed = True\n",
    ")\n",
    "\n",
    "print('Random seed : {}'.format(config['random_seed']))"
   ]
  },
  {
   "cell_type": "markdown",
   "id": "e9c78575-f8e1-4633-b870-33ecf25e63c1",
   "metadata": {},
   "source": [
    "## 2.1 Data"
   ]
  },
  {
   "cell_type": "code",
   "execution_count": null,
   "id": "1c0d663f-a328-4205-beb5-3f3817eadf59",
   "metadata": {},
   "outputs": [],
   "source": [
    "# Get the correct output group\n",
    "\n",
    "gene_targets = {\n",
    "\tkey : value[config['output']['group1']]\n",
    "\tfor key, value in tpm_value.items()\n",
    "}"
   ]
  },
  {
   "cell_type": "code",
   "execution_count": null,
   "id": "92584b22-af29-4d1d-8133-4e28c367b051",
   "metadata": {},
   "outputs": [],
   "source": [
    "# Transform the data dictionaries into lists\n",
    "\n",
    "names = sorted(list(gene_sequences.keys()))\n",
    "\n",
    "sequences = numpy.array([gene_sequences[key] for key in names])\n",
    "features  = numpy.array([gene_frequency[key] for key in names])\n",
    "targets   = numpy.array([gene_targets[key]   for key in names])"
   ]
  },
  {
   "cell_type": "code",
   "execution_count": null,
   "id": "71ea1692-5f21-46db-9b06-20751ffa9ef5",
   "metadata": {},
   "outputs": [],
   "source": [
    "# Create the dataset and generte split indices using sklearn\n",
    "\n",
    "dataset = GeneDataset(\n",
    "\tnames       = names,\n",
    "\tsequences   = sequences,\n",
    "\tfeatures    = features,\n",
    "\ttargets     = targets,\n",
    "\texpand_dims = 0\n",
    ")\n",
    "\n",
    "train_idx, valid_idx, test_idx = cnn_dataset.generate_split_indices(\n",
    "\ttargets     = targets,\n",
    "\tvalid_split = config['split_size']['valid'],\n",
    "\ttest_split  = config['split_size']['test'],\n",
    "\trandom_seed = config['random_seed']\n",
    ")"
   ]
  },
  {
   "cell_type": "code",
   "execution_count": null,
   "id": "5c83ab05-a5e5-4a78-ba40-f69e621ba3b8",
   "metadata": {},
   "outputs": [],
   "source": [
    "# Create train dataloader and display batch dimensions\n",
    "\n",
    "train_dataloader = cnn_dataset.to_dataloader(\n",
    "\tdataset    = dataset,\n",
    "\tindices    = train_idx,\n",
    "\tbatch_size = config['batch_size']['train']\n",
    ")\n",
    "\n",
    "cnn_dataset.show_dataloader(\n",
    "\tdataloader = train_dataloader,\n",
    "\tbatch_size = config['batch_size']['train']\n",
    ")"
   ]
  },
  {
   "cell_type": "code",
   "execution_count": null,
   "id": "3cc63a85-a761-4f91-8c45-d23f9a9612b5",
   "metadata": {},
   "outputs": [],
   "source": [
    "# Create valid dataloader and display batch dimensions\n",
    "\n",
    "valid_dataloader = cnn_dataset.to_dataloader(\n",
    "\tdataset    = dataset,\n",
    "\tindices    = valid_idx,\n",
    "\tbatch_size = config['batch_size']['valid']\n",
    ")\n",
    "\n",
    "cnn_dataset.show_dataloader(\n",
    "\tdataloader = valid_dataloader,\n",
    "\tbatch_size = config['batch_size']['valid']\n",
    ")"
   ]
  },
  {
   "cell_type": "code",
   "execution_count": null,
   "id": "eadb1b73-cad2-4b8f-a9d7-ba628108161e",
   "metadata": {},
   "outputs": [],
   "source": [
    "# Create test dataloader and display batch dimensions\n",
    "\n",
    "test_dataloader = cnn_dataset.to_dataloader(\n",
    "\tdataset    = dataset,\n",
    "\tindices    = test_idx,\n",
    "\tbatch_size = config['batch_size']['test']\n",
    ")\n",
    "\n",
    "cnn_dataset.show_dataloader(\n",
    "\tdataloader = test_dataloader,\n",
    "\tbatch_size = config['batch_size']['test']\n",
    ")"
   ]
  },
  {
   "cell_type": "markdown",
   "id": "6886c618-8cd8-4734-9491-0644e7ce0b66",
   "metadata": {},
   "source": [
    "## 2.2 Model"
   ]
  },
  {
   "cell_type": "code",
   "execution_count": null,
   "id": "dc35e20a-7bd2-4a32-88fb-f3ebfe171b99",
   "metadata": {},
   "outputs": [],
   "source": [
    "# Create and display the model structure\n",
    "\n",
    "model = Washburn2019r(params = {\n",
    "\t'other' : {\n",
    "\t\t'in_channels' : config['input']['channels'],\n",
    "\t\t'in_height'   : config['input']['height'],\n",
    "\t\t'in_width'    : config['input']['width'],\n",
    "\t\t'in_features' : config['input']['features'],\n",
    "\t\t'dropout'     : 0.25\n",
    "\t},\n",
    "\t'conv1' : {\n",
    "\t\t'kernel'  : (4, 3),\n",
    "\t\t'padding' : (0, 0)\n",
    "\t},\n",
    "\t'conv2' : {\n",
    "\t\t'kernel'  : (1, 9),\n",
    "\t\t'padding' : (0, 4)\n",
    "\t},\n",
    "\t'conv3' : {\n",
    "\t\t'kernel'  : (1, 9),\n",
    "\t\t'padding' : (0, 4)\n",
    "\t},\n",
    "\t'conv4' : {\n",
    "\t\t'kernel'  : (1, 9),\n",
    "\t\t'padding' : (0, 4)\n",
    "\t},\n",
    "\t'conv5' : {\n",
    "\t\t'kernel'  : (1, 9),\n",
    "\t\t'padding' : (0, 4)\n",
    "\t},\n",
    "\t'conv6' : {\n",
    "\t\t'kernel'  : (1, 9),\n",
    "\t\t'padding' : (0, 4)\n",
    "\t},\n",
    "\t'maxpool1' : {\n",
    "\t\t'kernel'  : (1, 3),\n",
    "\t\t'padding' : (0, 1)\n",
    "\t},\n",
    "\t'maxpool2' : {\n",
    "\t\t'kernel'  : (1, 3),\n",
    "\t\t'padding' : (0, 1)\n",
    "\t},\n",
    "\t'maxpool3' : {\n",
    "\t\t'kernel'  : (1, 3),\n",
    "\t\t'padding' : (0, 1)\n",
    "\t},\n",
    "\t'fc3' : {\n",
    "\t\t'features' : config['output']['length']\n",
    "\t}\n",
    "})\n",
    "\n",
    "model.summary(\n",
    "\tbatch_size  = config['batch_size']['train'],\n",
    "\tin_channels = config['input']['channels'],\n",
    "\tin_height   = config['input']['height'],\n",
    "\tin_width    = config['input']['width'],\n",
    "\tin_features = config['input']['features'],\n",
    ")"
   ]
  },
  {
   "cell_type": "code",
   "execution_count": null,
   "id": "1e2efe23-56e5-4ec4-9a92-536af625d8fd",
   "metadata": {},
   "outputs": [],
   "source": [
    "# Convert the model to double and initialize weights and biases\n",
    "\n",
    "model = model.double()\n",
    "model = model.apply(cnn_model.he_uniform_weight)\n",
    "model = model.apply(cnn_model.zero_bias)"
   ]
  },
  {
   "cell_type": "code",
   "execution_count": null,
   "id": "7592d0e8-5ad0-47bb-912d-1614855badc0",
   "metadata": {},
   "outputs": [],
   "source": [
    "# Set the training parameters\n",
    "\n",
    "criterion = cnn_model.get_criterion(\n",
    "\tquery     = 'mse',\n",
    "\treduction = 'mean'\n",
    ")\n",
    "\n",
    "optimizer = cnn_model.get_optimizer(\n",
    "\tquery        = 'adam',\n",
    "\tmodel        = model,\n",
    "\tlr           = 1e-4,\n",
    "\tbetas        = (0.900, 0.999),\n",
    "\tweight_decay = 0.01\n",
    ")\n",
    "\n",
    "scheduler = cnn_model.get_scheduler(\n",
    "\tquery     = 'plateau',\n",
    "\tmode      = 'min',\n",
    "\toptimizer = optimizer,\n",
    "\tpatience  = 3,\n",
    "\tfactor    = 0.5,\n",
    "\tmin_lr    = 1e-6\n",
    ")\n",
    "\n",
    "params = {\n",
    "\t'model'     : model,\n",
    "\t'savebest'  : os.path.join(OUT_MODEL, f'{model.__name__}-best.pth'),\n",
    "\t'savelast'  : os.path.join(OUT_MODEL, f'{model.__name__}-last.pth'),\n",
    "\t'epochs'    : 15,\n",
    "\t'criterion' : criterion,\n",
    "\t'optimizer' : optimizer,\n",
    "\t'scheduler' : scheduler,\n",
    "\t'device'    : DEVICE,\n",
    "\t'verbose'   : True,\n",
    "\t'train_dataloader' : train_dataloader,\n",
    "\t'valid_dataloader' : valid_dataloader,\n",
    "\t'test_dataloader'  : test_dataloader,\n",
    "\t'metrics' : {\n",
    "\t\t'mse'   : cnn_model.get_criterion(reduction = 'none', query = 'mse'),\n",
    "\t\t'mae'   : cnn_model.get_criterion(reduction = 'none', query = 'mae'),\n",
    "\t\t'huber' : cnn_model.get_criterion(reduction = 'none', query = 'huber'),\n",
    "\t\t'r2'    : cnn_model.get_criterion(reduction = 'none', query = 'r2')\n",
    "\t}\n",
    "}"
   ]
  },
  {
   "cell_type": "markdown",
   "id": "d319800a-448c-467c-b877-780104ad75b8",
   "metadata": {},
   "source": [
    "## 2.3 Training"
   ]
  },
  {
   "cell_type": "code",
   "execution_count": null,
   "id": "e79ef73d-a179-49ac-8776-a2b108acc537",
   "metadata": {},
   "outputs": [],
   "source": [
    "# Train and validate the model\n",
    "\n",
    "report = cnn_model.train_regressor(\n",
    "\tmodel  = model,\n",
    "\tparams = params\n",
    ")"
   ]
  },
  {
   "cell_type": "code",
   "execution_count": null,
   "id": "a27d16f3-1ca8-4b15-ab73-2b059ca1fca5",
   "metadata": {},
   "outputs": [],
   "source": [
    "# Display the training and validation loss curves\n",
    "\n",
    "cnn_plot.show_loss(\n",
    "\treport   = report,\n",
    "\ttitle    = 'MSE Loss',\n",
    "\tfilename = os.path.join(OUT_PLOT, model.__name__)\n",
    ")"
   ]
  },
  {
   "cell_type": "code",
   "execution_count": null,
   "id": "bfff57ea-2197-48ed-bc50-d50dfac2917a",
   "metadata": {},
   "outputs": [],
   "source": [
    "# Display the training and validation learning rate curves\n",
    "\n",
    "cnn_plot.show_lr(\n",
    "\treport   = report,\n",
    "\ttitle    = 'Reduce On Plateau',\n",
    "\tfilename = os.path.join(OUT_PLOT, model.__name__)\n",
    ")"
   ]
  },
  {
   "cell_type": "code",
   "execution_count": null,
   "id": "0bef5b15-ba18-4d3e-8dff-c5c23bff0834",
   "metadata": {},
   "outputs": [],
   "source": [
    "# Display the training and validation r2 score curves\n",
    "\n",
    "cnn_plot.show_r2(\n",
    "\treport   = report,\n",
    "\ttitle    = 'R2 Score',\n",
    "\tfilename = os.path.join(OUT_PLOT, model.__name__)\n",
    ")"
   ]
  },
  {
   "cell_type": "code",
   "execution_count": null,
   "id": "82fe2e6b-6c86-4866-873d-9765847be156",
   "metadata": {},
   "outputs": [],
   "source": [
    "# Display the training metrics per batch\n",
    "\n",
    "cnn_plot.show_metric_grid(\n",
    "\treport   = report,\n",
    "\tmode     = 'train',\n",
    "\tfilename = os.path.join(OUT_PLOT, model.__name__ + '-train')\n",
    ")"
   ]
  },
  {
   "cell_type": "code",
   "execution_count": null,
   "id": "aa980675-9bb9-48cc-b91f-e11e00aea002",
   "metadata": {},
   "outputs": [],
   "source": [
    "# Display the training metrics per batch\n",
    "\n",
    "cnn_plot.show_metric_grid(\n",
    "\treport   = report,\n",
    "\tmode     = 'valid',\n",
    "\tfilename = os.path.join(OUT_PLOT, model.__name__ + '-valid')\n",
    ")"
   ]
  },
  {
   "cell_type": "markdown",
   "id": "6ef2958d-5436-41ea-b1cc-73c004e24c12",
   "metadata": {},
   "source": [
    "## 2.4 Evaluation"
   ]
  },
  {
   "cell_type": "markdown",
   "id": "d9502b18-9a6d-47de-bfb5-fa61eabef5ca",
   "metadata": {},
   "source": [
    "### 2.4.1 Last Model"
   ]
  },
  {
   "cell_type": "code",
   "execution_count": null,
   "id": "27a74ad6-7a95-46c4-8f43-4cf645268744",
   "metadata": {},
   "outputs": [],
   "source": [
    "# Load last model\n",
    "\n",
    "checkpoint = data_loader.load_torch(\n",
    "\tfilename = os.path.join(OUT_MODEL, model.__name__ + '-last.pth')\n",
    ")\n",
    "\n",
    "print('Epoch : ' + '{}'.format(checkpoint['epoch']))\n",
    "print('Loss  : ' + '{:.5f}'.format(checkpoint['loss']))\n",
    "\n",
    "model.load_state_dict(checkpoint['models'])"
   ]
  },
  {
   "cell_type": "code",
   "execution_count": null,
   "id": "e64344b2-087f-484a-a54d-45110a10b24e",
   "metadata": {},
   "outputs": [],
   "source": [
    "# Evaluate the model\n",
    "\n",
    "report = cnn_model.eval_regressor(\n",
    "\tmodel  = model,\n",
    "\tparams = params\n",
    ")"
   ]
  },
  {
   "cell_type": "code",
   "execution_count": null,
   "id": "543ed946-6544-4cc4-88e5-2f70993e6804",
   "metadata": {},
   "outputs": [],
   "source": [
    "# Print the evaluation metrics\n",
    "\n",
    "print('R2 Score : ' + '{: 8.5f}'.format(report['eval']['metric']['r2'].mean()))\n",
    "print('MAE Loss : ' + '{: 8.5f}'.format(report['eval']['metric']['mae'].mean()))\n",
    "print('MSE Loss : ' + '{: 8.5f}'.format(report['eval']['metric']['mse'].mean()))"
   ]
  },
  {
   "cell_type": "code",
   "execution_count": null,
   "id": "23ca6877-aefa-4176-ad1f-e3ec0cad8856",
   "metadata": {},
   "outputs": [],
   "source": [
    "# Display the first few evaluation item predictions and expectations\n",
    "\n",
    "cnn_util.display_regression_predictions(report = report, n = 2)"
   ]
  },
  {
   "cell_type": "code",
   "execution_count": null,
   "id": "a2c72a89-87cc-4d3b-a8f4-3af09d7b6232",
   "metadata": {},
   "outputs": [],
   "source": [
    "# Display prediction error per group\n",
    "\n",
    "cnn_plot.show_prediction_error_grid(\n",
    "\treport   = report,\n",
    "\torder    = tpm_order[config['output']['group0']],\n",
    "\tfilename = os.path.join(OUT_PLOT, model.__name__ + '-last')\n",
    ")"
   ]
  },
  {
   "cell_type": "code",
   "execution_count": null,
   "id": "4b969776-5ee5-40b4-9832-7ae2a16715b7",
   "metadata": {},
   "outputs": [],
   "source": [
    "# Display prediction linear regression per group\n",
    "\n",
    "cnn_plot.show_linear_regression_grid(\n",
    "\treport   = report,\n",
    "\torder    = tpm_order[config['output']['group0']],\n",
    "\tfilename = os.path.join(OUT_PLOT, model.__name__ + '-last')\n",
    ")"
   ]
  },
  {
   "cell_type": "code",
   "execution_count": null,
   "id": "007d64bc-d089-4fd7-8ee6-8b271c2b9ba5",
   "metadata": {},
   "outputs": [],
   "source": [
    "# Display the evaluation accuracy\n",
    "\n",
    "dataframe = cnn_util.display_regression_accuracy(\n",
    "\treport    = report['eval'],\n",
    "\torder     = tpm_order[config['output']['group0']],\n",
    "\tthreshold = {\n",
    "\t\tkey : value[config['output']['group0'] + '-std']\n",
    "\t\tfor key, value in tpm_value.items()\n",
    "\t}\n",
    ").sort_values('Accuracy', ascending = False)\n",
    "\n",
    "print('Accuracy : {:8.5f} %'.format(dataframe['Accuracy'].mean()))\n",
    "print()\n",
    "\n",
    "dataframe"
   ]
  },
  {
   "cell_type": "markdown",
   "id": "129ed8ed-9f11-4b2a-8207-1e991ff5cb4e",
   "metadata": {},
   "source": [
    "### 2.4.2 Best Model"
   ]
  },
  {
   "cell_type": "code",
   "execution_count": null,
   "id": "e2427e71-36dc-4d57-a95e-536820fa6871",
   "metadata": {},
   "outputs": [],
   "source": [
    "# Load best model\n",
    "\n",
    "checkpoint = data_loader.load_torch(\n",
    "\tfilename = os.path.join(OUT_MODEL, model.__name__ + '-best.pth')\n",
    ")\n",
    "\n",
    "print('Epoch : ' + '{}'.format(checkpoint['epoch']))\n",
    "print('Loss  : ' + '{:.5f}'.format(checkpoint['loss']))\n",
    "\n",
    "model.load_state_dict(checkpoint['models'])"
   ]
  },
  {
   "cell_type": "code",
   "execution_count": null,
   "id": "9ad310d3-02f1-463a-8ad7-9706990b8358",
   "metadata": {},
   "outputs": [],
   "source": [
    "# Evaluate the model\n",
    "\n",
    "report = cnn_model.eval_regressor(\n",
    "\tmodel  = model,\n",
    "\tparams = params\n",
    ")"
   ]
  },
  {
   "cell_type": "code",
   "execution_count": null,
   "id": "f3fdaec7-c3d1-4db4-8d28-e238fce0c48c",
   "metadata": {},
   "outputs": [],
   "source": [
    "# Print the evaluation metrics\n",
    "\n",
    "print('R2 Score : ' + '{: 8.5f}'.format(report['eval']['metric']['r2'].mean()))\n",
    "print('MAE Loss : ' + '{: 8.5f}'.format(report['eval']['metric']['mae'].mean()))\n",
    "print('MSE Loss : ' + '{: 8.5f}'.format(report['eval']['metric']['mse'].mean()))"
   ]
  },
  {
   "cell_type": "code",
   "execution_count": null,
   "id": "aadd4e35-3a2b-4b52-bffa-ade7e4f1b354",
   "metadata": {},
   "outputs": [],
   "source": [
    "# Display the first few evaluation item predictions and expectations\n",
    "\n",
    "cnn_util.display_regression_predictions(report = report, n = 2)"
   ]
  },
  {
   "cell_type": "code",
   "execution_count": null,
   "id": "66636d12-bb3e-4099-b7c6-86f7c2551258",
   "metadata": {},
   "outputs": [],
   "source": [
    "# Display prediction error per group\n",
    "\n",
    "cnn_plot.show_prediction_error_grid(\n",
    "\treport   = report,\n",
    "\torder    = tpm_order[config['output']['group0']],\n",
    "\tfilename = os.path.join(OUT_PLOT, model.__name__ + '-best')\n",
    ")"
   ]
  },
  {
   "cell_type": "code",
   "execution_count": null,
   "id": "6dda2af5-bc06-494d-8abf-b47cfbf9e5d9",
   "metadata": {},
   "outputs": [],
   "source": [
    "# Display prediction linear regression per group\n",
    "\n",
    "cnn_plot.show_linear_regression_grid(\n",
    "\treport   = report,\n",
    "\torder    = tpm_order[config['output']['group0']],\n",
    "\tfilename = os.path.join(OUT_PLOT, model.__name__ + '-best')\n",
    ")"
   ]
  },
  {
   "cell_type": "code",
   "execution_count": null,
   "id": "b908ed6c-34d6-4c07-a15f-505a4a5f4665",
   "metadata": {},
   "outputs": [],
   "source": [
    "# Display the evaluation accuracy\n",
    "\n",
    "dataframe = cnn_util.display_regression_accuracy(\n",
    "\treport    = report['eval'],\n",
    "\torder     = tpm_order[config['output']['group0']],\n",
    "\tthreshold = {\n",
    "\t\tkey : value[config['output']['group0'] + '-std']\n",
    "\t\tfor key, value in tpm_value.items()\n",
    "\t}\n",
    ").sort_values('Accuracy', ascending = False)\n",
    "\n",
    "print('Accuracy : {:8.5f} %'.format(dataframe['Accuracy'].mean()))\n",
    "print()\n",
    "\n",
    "dataframe"
   ]
  }
 ],
 "metadata": {
  "kernelspec": {
   "display_name": "Python 3 (ipykernel)",
   "language": "python",
   "name": "python3"
  },
  "language_info": {
   "codemirror_mode": {
    "name": "ipython",
    "version": 3
   },
   "file_extension": ".py",
   "mimetype": "text/x-python",
   "name": "python",
   "nbconvert_exporter": "python",
   "pygments_lexer": "ipython3",
   "version": "3.10.7"
  }
 },
 "nbformat": 4,
 "nbformat_minor": 5
}
