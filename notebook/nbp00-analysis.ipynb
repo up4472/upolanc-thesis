{
 "cells": [
  {
   "cell_type": "code",
   "execution_count": 1,
   "id": "a2411291-dbee-4f4c-9b0c-ddd7f968bf7f",
   "metadata": {
    "execution": {
     "iopub.execute_input": "2023-04-21T20:13:28.714443Z",
     "iopub.status.busy": "2023-04-21T20:13:28.713943Z",
     "iopub.status.idle": "2023-04-21T20:13:28.960154Z",
     "shell.execute_reply": "2023-04-21T20:13:28.959154Z",
     "shell.execute_reply.started": "2023-04-21T20:13:28.714443Z"
    },
    "tags": []
   },
   "outputs": [],
   "source": [
    "# Libraries\n",
    "\n",
    "import matplotlib\n",
    "import numpy\n",
    "import os\n",
    "import platform\n",
    "import shutil\n",
    "import sys\n",
    "import warnings"
   ]
  },
  {
   "cell_type": "code",
   "execution_count": 2,
   "id": "afc64c32-8d9f-4fc3-807f-448fbe6cacec",
   "metadata": {
    "execution": {
     "iopub.execute_input": "2023-04-21T20:13:28.961656Z",
     "iopub.status.busy": "2023-04-21T20:13:28.961656Z",
     "iopub.status.idle": "2023-04-21T20:13:28.975168Z",
     "shell.execute_reply": "2023-04-21T20:13:28.974668Z",
     "shell.execute_reply.started": "2023-04-21T20:13:28.961656Z"
    },
    "tags": []
   },
   "outputs": [],
   "source": [
    "# Ensure source path\n",
    "\n",
    "ROOT = os.getcwd()\n",
    "\n",
    "while not ROOT.endswith('upolanc-thesis') :\n",
    "\tROOT = os.path.abspath(os.path.join(ROOT, os.pardir))\n",
    "\n",
    "\tif len(ROOT) < len('upolanc-thesis') :\n",
    "\t\tif   platform.system() == 'Linux' :\n",
    "\t\t\tROOT = '/d/hpc/home/up4472/workspace/upolanc-thesis'\n",
    "\t\telif platform.system() == 'Windows' :\n",
    "\t\t\tROOT = 'C:\\\\Developer\\\\Workspace\\\\PyCharm\\\\Projects\\\\upolanc-thesis'\n",
    "\t\telse :\n",
    "\t\t\traise ValueError()\n",
    "\n",
    "\t\tprint(f'Warning : could not find correct directory, using default : {ROOT}')\n",
    "\t\tbreak\n",
    "\n",
    "if ROOT not in sys.path :\n",
    "\tsys.path.append(ROOT)\n",
    "\n",
    "os.chdir(ROOT)"
   ]
  },
  {
   "cell_type": "code",
   "execution_count": 3,
   "id": "d6f6e2b9-f88d-4ee7-a1f7-6bf6eaaa2313",
   "metadata": {
    "execution": {
     "iopub.execute_input": "2023-04-21T20:13:28.976670Z",
     "iopub.status.busy": "2023-04-21T20:13:28.976168Z",
     "iopub.status.idle": "2023-04-21T20:13:31.984756Z",
     "shell.execute_reply": "2023-04-21T20:13:31.983755Z",
     "shell.execute_reply.started": "2023-04-21T20:13:28.976670Z"
    }
   },
   "outputs": [],
   "source": [
    "# Code\n",
    "\n",
    "from source.python.data.analysis import analysis_annotation\n",
    "from source.python.data.analysis import analysis_assembly\n",
    "from source.python.data.analysis import analysis_metadata\n",
    "from source.python.data.analysis import analysis_statistics\n",
    "from source.python.data.analysis import analysis_tpm\n",
    "from source.python.io            import loader\n",
    "from source.python.io            import writer\n",
    "from source.python               import runtime\n",
    "\n",
    "runtime.set_numpy_format()\n",
    "runtime.set_pandas_format()\n",
    "runtime.set_plot_theme()"
   ]
  },
  {
   "cell_type": "markdown",
   "id": "4032f1bf-215a-431f-a66d-63b42ddecb86",
   "metadata": {},
   "source": [
    "# 1. Setup"
   ]
  },
  {
   "cell_type": "code",
   "execution_count": 4,
   "id": "8daced39-52a6-4b8f-b90a-a39c192a8830",
   "metadata": {
    "execution": {
     "iopub.execute_input": "2023-04-21T20:13:31.986257Z",
     "iopub.status.busy": "2023-04-21T20:13:31.985756Z",
     "iopub.status.idle": "2023-04-21T20:13:32.000269Z",
     "shell.execute_reply": "2023-04-21T20:13:31.999269Z",
     "shell.execute_reply.started": "2023-04-21T20:13:31.986257Z"
    },
    "tags": []
   },
   "outputs": [
    {
     "name": "stdout",
     "output_type": "stream",
     "text": [
      "     Root Directory : C:\\Developer\\Workspace\\PyCharm\\Projects\\upolanc-thesis\n",
      "   Output Directory : C:\\Developer\\Workspace\\PyCharm\\Projects\\upolanc-thesis\\output\\nbp00-analysis\n",
      " Resource Directory : C:\\Developer\\Workspace\\PyCharm\\Projects\\upolanc-thesis\\resources\\genome\n"
     ]
    }
   ],
   "source": [
    "# Setup some directory paths\n",
    "\n",
    "CWD = ROOT\n",
    "OUT = os.path.join(CWD, 'output')\n",
    "RES = os.path.join(CWD, 'resources')\n",
    "\n",
    "OUT_DATA   = os.path.join(OUT,      'nbp00-analysis')\n",
    "OUT_PLOT   = os.path.join(OUT_DATA, 'plot')\n",
    "RES_GENOME = os.path.join(RES,      'genome')\n",
    "\n",
    "shutil.rmtree(OUT_DATA, ignore_errors = True)\n",
    "\n",
    "os.makedirs(OUT_DATA, exist_ok = True)\n",
    "os.makedirs(OUT_PLOT, exist_ok = True)\n",
    "\n",
    "print(f'     Root Directory : {CWD}')\n",
    "print(f'   Output Directory : {OUT_DATA}')\n",
    "print(f' Resource Directory : {RES_GENOME}')"
   ]
  },
  {
   "cell_type": "code",
   "execution_count": 5,
   "id": "2e5afd2a-0de9-4222-b896-1bcc6ea7ba55",
   "metadata": {
    "execution": {
     "iopub.execute_input": "2023-04-21T20:13:32.001270Z",
     "iopub.status.busy": "2023-04-21T20:13:32.000770Z",
     "iopub.status.idle": "2023-04-21T20:14:19.376012Z",
     "shell.execute_reply": "2023-04-21T20:14:19.375511Z",
     "shell.execute_reply.started": "2023-04-21T20:13:32.001270Z"
    },
    "tags": []
   },
   "outputs": [],
   "source": [
    "# Load and clean (remove non-relevant columns, rename columns to same format, etc..)\n",
    "\n",
    "data = loader.load_resources(\n",
    "\tdirectory = RES_GENOME,\n",
    "\tplant     = 'arabidopsis-r36',\n",
    "\tclean     = True\n",
    ")\n",
    "\n",
    "gene_annotation = data['gene_annotation']\n",
    "gene_assembly   = data['gene_assembly']\n",
    "tissue_metadata = data['tissue_metadata']\n",
    "tissue_tpm      = data['tissue_tpm']"
   ]
  },
  {
   "cell_type": "markdown",
   "id": "ef9ad7cf-9e32-43b4-976f-4252b6293605",
   "metadata": {},
   "source": [
    "# 2. Sync"
   ]
  },
  {
   "cell_type": "code",
   "execution_count": 6,
   "id": "054fcdd3-5ce3-48e6-9ebf-01aa4bda0421",
   "metadata": {
    "execution": {
     "iopub.execute_input": "2023-04-21T20:14:19.377512Z",
     "iopub.status.busy": "2023-04-21T20:14:19.377012Z",
     "iopub.status.idle": "2023-04-21T20:14:19.763845Z",
     "shell.execute_reply": "2023-04-21T20:14:19.763345Z",
     "shell.execute_reply.started": "2023-04-21T20:14:19.377512Z"
    },
    "tags": []
   },
   "outputs": [
    {
     "name": "stdout",
     "output_type": "stream",
     "text": [
      "Transcript (Mt) : 120\n",
      "Transcript (Pt) : 88\n",
      "\n",
      "Gene       : 27628 -> 27420\n",
      "Transcript : 48321 -> 48113\n"
     ]
    }
   ],
   "source": [
    "# Drop mt and pt sequence annotations\n",
    "\n",
    "mt = gene_annotation[(gene_annotation['Seq'] == 'Mt') & (gene_annotation['Type'] == 'mRNA')]\n",
    "pt = gene_annotation[(gene_annotation['Seq'] == 'Pt') & (gene_annotation['Type'] == 'mRNA')]\n",
    "\n",
    "print(f'Transcript (Mt) : ' + '{:}'.format(len(mt)))\n",
    "print(f'Transcript (Pt) : ' + '{:}'.format(len(pt)))\n",
    "print()\n",
    "\n",
    "gcount = gene_annotation['Gene'].nunique()\n",
    "tcount = gene_annotation['Transcript'].nunique()\n",
    "\n",
    "gene_annotation = gene_annotation[~gene_annotation['Seq'].isin(['Pt'])]\n",
    "gene_annotation = gene_annotation[~gene_annotation['Seq'].isin(['Mt'])]\n",
    "\n",
    "print('Gene       : {:} -> {:}'.format(gcount, gene_annotation['Gene'].nunique(dropna = True)))\n",
    "print('Transcript : {:} -> {:}'.format(tcount, gene_annotation['Transcript'].nunique(dropna = True)))"
   ]
  },
  {
   "cell_type": "code",
   "execution_count": 7,
   "id": "a9ab2204-287c-48b8-a4d6-2f5692d73c38",
   "metadata": {
    "execution": {
     "iopub.execute_input": "2023-04-21T20:14:19.766348Z",
     "iopub.status.busy": "2023-04-21T20:14:19.765847Z",
     "iopub.status.idle": "2023-04-21T20:14:20.105639Z",
     "shell.execute_reply": "2023-04-21T20:14:20.104639Z",
     "shell.execute_reply.started": "2023-04-21T20:14:19.765847Z"
    }
   },
   "outputs": [
    {
     "name": "stdout",
     "output_type": "stream",
     "text": [
      "Samples in <tissue-metadata> : 4138 / 4139\n",
      "Samples in <tissue-tpm>      : 4138 / 4146\n",
      "\n",
      "Samples missing in <tissue-metadata> : [8] SRR5591024 SRR5591030 SRR5591033 SRR5591023 SRR5591021 ...\n",
      "Samples missing in <tissue-tpm>      : [1] DRR273449\n"
     ]
    }
   ],
   "source": [
    "# Check for sample matching between tpm and metadata tables\n",
    "\n",
    "x = set(tissue_metadata['Sample'].dropna())\n",
    "y = set(tissue_tpm.columns[1:].dropna())\n",
    "\n",
    "sample_i = list(x.intersection(y))\n",
    "sample_x = list(x.difference(y))\n",
    "sample_y = list(y.difference(x))\n",
    "\n",
    "print(f'Samples in <tissue-metadata> : {len(sample_i)} / {len(x)}')\n",
    "print(f'Samples in <tissue-tpm>      : {len(sample_i)} / {len(y)}')\n",
    "print()\n",
    "print(f'Samples missing in <tissue-metadata> : [{len(sample_y)}] ' + ' '.join(sample_y[:5]) + (' ...' if len(sample_y) > 5 else ''))\n",
    "print(f'Samples missing in <tissue-tpm>      : [{len(sample_x)}] ' + ' '.join(sample_x[:5]) + (' ...' if len(sample_x) > 5 else ''))\n",
    "\n",
    "if len(sample_x) > 0 :\n",
    "\ttissue_metadata = tissue_metadata[~tissue_metadata['Sample'].isin(sample_x)]\n",
    "\n",
    "if len(sample_y) > 0 :\n",
    "\ttissue_tpm = tissue_tpm.drop(columns = sample_y)"
   ]
  },
  {
   "cell_type": "markdown",
   "id": "2ef2e1af-31d4-4f13-aafe-db0438f2b471",
   "metadata": {},
   "source": [
    "# 3. Data"
   ]
  },
  {
   "cell_type": "markdown",
   "id": "afed2fab-7e59-4005-95de-1f33491c5932",
   "metadata": {},
   "source": [
    "## 3.1 Gene Annotation"
   ]
  },
  {
   "cell_type": "code",
   "execution_count": 8,
   "id": "6008fbd9-8dcf-4d66-bdb4-aa01929879ca",
   "metadata": {
    "execution": {
     "iopub.execute_input": "2023-04-21T20:14:20.107641Z",
     "iopub.status.busy": "2023-04-21T20:14:20.107141Z",
     "iopub.status.idle": "2023-04-21T20:14:20.137167Z",
     "shell.execute_reply": "2023-04-21T20:14:20.135665Z",
     "shell.execute_reply.started": "2023-04-21T20:14:20.107641Z"
    }
   },
   "outputs": [
    {
     "name": "stdout",
     "output_type": "stream",
     "text": [
      "Number of rows : 438629\n",
      "Number of cols : 10\n"
     ]
    },
    {
     "data": {
      "text/html": [
       "<div>\n",
       "<style scoped>\n",
       "    .dataframe tbody tr th:only-of-type {\n",
       "        vertical-align: middle;\n",
       "    }\n",
       "\n",
       "    .dataframe tbody tr th {\n",
       "        vertical-align: top;\n",
       "    }\n",
       "\n",
       "    .dataframe thead th {\n",
       "        text-align: right;\n",
       "    }\n",
       "</style>\n",
       "<table border=\"1\" class=\"dataframe\">\n",
       "  <thead>\n",
       "    <tr style=\"text-align: right;\">\n",
       "      <th></th>\n",
       "      <th>Seq</th>\n",
       "      <th>Strand</th>\n",
       "      <th>Type</th>\n",
       "      <th>Gene</th>\n",
       "      <th>Transcript</th>\n",
       "      <th>Exon</th>\n",
       "      <th>Parent</th>\n",
       "      <th>Start</th>\n",
       "      <th>End</th>\n",
       "      <th>Length</th>\n",
       "    </tr>\n",
       "  </thead>\n",
       "  <tbody>\n",
       "    <tr>\n",
       "      <th>2</th>\n",
       "      <td>1</td>\n",
       "      <td>+</td>\n",
       "      <td>mRNA</td>\n",
       "      <td>AT1G01010</td>\n",
       "      <td>AT1G01010.1</td>\n",
       "      <td>NaN</td>\n",
       "      <td>AT1G01010</td>\n",
       "      <td>3631</td>\n",
       "      <td>5899</td>\n",
       "      <td>2268</td>\n",
       "    </tr>\n",
       "    <tr>\n",
       "      <th>3</th>\n",
       "      <td>1</td>\n",
       "      <td>+</td>\n",
       "      <td>UTR5</td>\n",
       "      <td>AT1G01010</td>\n",
       "      <td>AT1G01010.1</td>\n",
       "      <td>NaN</td>\n",
       "      <td>AT1G01010.1</td>\n",
       "      <td>3631</td>\n",
       "      <td>3759</td>\n",
       "      <td>128</td>\n",
       "    </tr>\n",
       "    <tr>\n",
       "      <th>5</th>\n",
       "      <td>1</td>\n",
       "      <td>+</td>\n",
       "      <td>CDS</td>\n",
       "      <td>AT1G01010</td>\n",
       "      <td>AT1G01010.1</td>\n",
       "      <td>NaN</td>\n",
       "      <td>AT1G01010.1</td>\n",
       "      <td>3760</td>\n",
       "      <td>3913</td>\n",
       "      <td>153</td>\n",
       "    </tr>\n",
       "    <tr>\n",
       "      <th>7</th>\n",
       "      <td>1</td>\n",
       "      <td>+</td>\n",
       "      <td>CDS</td>\n",
       "      <td>AT1G01010</td>\n",
       "      <td>AT1G01010.1</td>\n",
       "      <td>NaN</td>\n",
       "      <td>AT1G01010.1</td>\n",
       "      <td>3996</td>\n",
       "      <td>4276</td>\n",
       "      <td>280</td>\n",
       "    </tr>\n",
       "    <tr>\n",
       "      <th>9</th>\n",
       "      <td>1</td>\n",
       "      <td>+</td>\n",
       "      <td>CDS</td>\n",
       "      <td>AT1G01010</td>\n",
       "      <td>AT1G01010.1</td>\n",
       "      <td>NaN</td>\n",
       "      <td>AT1G01010.1</td>\n",
       "      <td>4486</td>\n",
       "      <td>4605</td>\n",
       "      <td>119</td>\n",
       "    </tr>\n",
       "  </tbody>\n",
       "</table>\n",
       "</div>"
      ],
      "text/plain": [
       "  Seq Strand  Type       Gene   Transcript Exon       Parent  Start   End  \\\n",
       "2   1      +  mRNA  AT1G01010  AT1G01010.1  NaN    AT1G01010   3631  5899   \n",
       "3   1      +  UTR5  AT1G01010  AT1G01010.1  NaN  AT1G01010.1   3631  3759   \n",
       "5   1      +   CDS  AT1G01010  AT1G01010.1  NaN  AT1G01010.1   3760  3913   \n",
       "7   1      +   CDS  AT1G01010  AT1G01010.1  NaN  AT1G01010.1   3996  4276   \n",
       "9   1      +   CDS  AT1G01010  AT1G01010.1  NaN  AT1G01010.1   4486  4605   \n",
       "\n",
       "   Length  \n",
       "2    2268  \n",
       "3     128  \n",
       "5     153  \n",
       "7     280  \n",
       "9     119  "
      ]
     },
     "execution_count": 8,
     "metadata": {},
     "output_type": "execute_result"
    }
   ],
   "source": [
    "# Show the first few gene annotations\n",
    "\n",
    "analysis_annotation.show(gene_annotation)"
   ]
  },
  {
   "cell_type": "code",
   "execution_count": 9,
   "id": "965fa9b8-d793-44bc-b460-8e9b29aeccbc",
   "metadata": {
    "execution": {
     "iopub.execute_input": "2023-04-21T20:14:20.138667Z",
     "iopub.status.busy": "2023-04-21T20:14:20.138167Z",
     "iopub.status.idle": "2023-04-21T20:14:20.508986Z",
     "shell.execute_reply": "2023-04-21T20:14:20.507985Z",
     "shell.execute_reply.started": "2023-04-21T20:14:20.138667Z"
    }
   },
   "outputs": [
    {
     "name": "stdout",
     "output_type": "stream",
     "text": [
      "Unique values per column :\n",
      "\n",
      " - Seq        : [      5] 1 2 3 4 5\n",
      " - Strand     : [      2] + -\n",
      " - Type       : [      4] mRNA UTR5 CDS UTR3\n",
      " - Gene       : [ 27,420] AT1G01010 AT1G01020 AT1G01030 AT1G01040 AT1G01050 ...\n",
      " - Transcript : [ 48,113] AT1G01010.1 AT1G01020.6 AT1G01020.2 AT1G01020.3 AT1G01020.5 ...\n",
      " - Exon       : [      1] nan\n",
      " - Parent     : [ 75,533] AT1G01010 AT1G01010.1 AT1G01020 AT1G01020.6 AT1G01020.2 ...\n",
      " - Start      : [220,482] 3631 3760 3996 4486 4706 ...\n",
      " - End        : [220,484] 5899 3759 3913 4276 4605 ...\n",
      " - Length     : [  7,118] 2268 128 153 280 119 ...\n"
     ]
    },
    {
     "data": {
      "text/html": [
       "<div>\n",
       "<style scoped>\n",
       "    .dataframe tbody tr th:only-of-type {\n",
       "        vertical-align: middle;\n",
       "    }\n",
       "\n",
       "    .dataframe tbody tr th {\n",
       "        vertical-align: top;\n",
       "    }\n",
       "\n",
       "    .dataframe thead th {\n",
       "        text-align: right;\n",
       "    }\n",
       "</style>\n",
       "<table border=\"1\" class=\"dataframe\">\n",
       "  <thead>\n",
       "    <tr style=\"text-align: right;\">\n",
       "      <th></th>\n",
       "      <th>Seq</th>\n",
       "      <th>Strand</th>\n",
       "      <th>Type</th>\n",
       "      <th>Gene</th>\n",
       "      <th>Transcript</th>\n",
       "      <th>Exon</th>\n",
       "      <th>Parent</th>\n",
       "      <th>Start</th>\n",
       "      <th>End</th>\n",
       "      <th>Length</th>\n",
       "    </tr>\n",
       "  </thead>\n",
       "  <tbody>\n",
       "    <tr>\n",
       "      <th>Datatype</th>\n",
       "      <td>object</td>\n",
       "      <td>object</td>\n",
       "      <td>object</td>\n",
       "      <td>object</td>\n",
       "      <td>object</td>\n",
       "      <td>object</td>\n",
       "      <td>object</td>\n",
       "      <td>int32</td>\n",
       "      <td>int32</td>\n",
       "      <td>int32</td>\n",
       "    </tr>\n",
       "    <tr>\n",
       "      <th>Null</th>\n",
       "      <td>0</td>\n",
       "      <td>0</td>\n",
       "      <td>0</td>\n",
       "      <td>0</td>\n",
       "      <td>0</td>\n",
       "      <td>438629</td>\n",
       "      <td>0</td>\n",
       "      <td>0</td>\n",
       "      <td>0</td>\n",
       "      <td>0</td>\n",
       "    </tr>\n",
       "    <tr>\n",
       "      <th>Unique</th>\n",
       "      <td>5</td>\n",
       "      <td>2</td>\n",
       "      <td>4</td>\n",
       "      <td>27420</td>\n",
       "      <td>48113</td>\n",
       "      <td>1</td>\n",
       "      <td>75533</td>\n",
       "      <td>220482</td>\n",
       "      <td>220484</td>\n",
       "      <td>7118</td>\n",
       "    </tr>\n",
       "  </tbody>\n",
       "</table>\n",
       "</div>"
      ],
      "text/plain": [
       "             Seq  Strand    Type    Gene Transcript    Exon  Parent   Start  \\\n",
       "Datatype  object  object  object  object     object  object  object   int32   \n",
       "Null           0       0       0       0          0  438629       0       0   \n",
       "Unique         5       2       4   27420      48113       1   75533  220482   \n",
       "\n",
       "             End Length  \n",
       "Datatype   int32  int32  \n",
       "Null           0      0  \n",
       "Unique    220484   7118  "
      ]
     },
     "execution_count": 9,
     "metadata": {},
     "output_type": "execute_result"
    }
   ],
   "source": [
    "# Inspect gene annotation columns, and dispay the number of unique values (as well as the first few values)\n",
    "\n",
    "analysis_annotation.inspect_columns(\n",
    "\tdata    = gene_annotation,\n",
    "\tcolumns = None\n",
    ")"
   ]
  },
  {
   "cell_type": "code",
   "execution_count": 10,
   "id": "211c50d9-6d5f-421b-ad3d-fefcafbba85a",
   "metadata": {
    "execution": {
     "iopub.execute_input": "2023-04-21T20:14:20.509986Z",
     "iopub.status.busy": "2023-04-21T20:14:20.509486Z",
     "iopub.status.idle": "2023-04-21T20:14:20.539513Z",
     "shell.execute_reply": "2023-04-21T20:14:20.539012Z",
     "shell.execute_reply.started": "2023-04-21T20:14:20.509986Z"
    }
   },
   "outputs": [
    {
     "name": "stdout",
     "output_type": "stream",
     "text": [
      "Number of rows : 9\n",
      "Number of cols : 10\n"
     ]
    },
    {
     "data": {
      "text/html": [
       "<div>\n",
       "<style scoped>\n",
       "    .dataframe tbody tr th:only-of-type {\n",
       "        vertical-align: middle;\n",
       "    }\n",
       "\n",
       "    .dataframe tbody tr th {\n",
       "        vertical-align: top;\n",
       "    }\n",
       "\n",
       "    .dataframe thead th {\n",
       "        text-align: right;\n",
       "    }\n",
       "</style>\n",
       "<table border=\"1\" class=\"dataframe\">\n",
       "  <thead>\n",
       "    <tr style=\"text-align: right;\">\n",
       "      <th></th>\n",
       "      <th>Seq</th>\n",
       "      <th>Strand</th>\n",
       "      <th>Type</th>\n",
       "      <th>Gene</th>\n",
       "      <th>Transcript</th>\n",
       "      <th>Exon</th>\n",
       "      <th>Parent</th>\n",
       "      <th>Start</th>\n",
       "      <th>End</th>\n",
       "      <th>Length</th>\n",
       "    </tr>\n",
       "  </thead>\n",
       "  <tbody>\n",
       "    <tr>\n",
       "      <th>2</th>\n",
       "      <td>1</td>\n",
       "      <td>+</td>\n",
       "      <td>mRNA</td>\n",
       "      <td>AT1G01010</td>\n",
       "      <td>AT1G01010.1</td>\n",
       "      <td>NaN</td>\n",
       "      <td>AT1G01010</td>\n",
       "      <td>3631</td>\n",
       "      <td>5899</td>\n",
       "      <td>2268</td>\n",
       "    </tr>\n",
       "    <tr>\n",
       "      <th>3</th>\n",
       "      <td>1</td>\n",
       "      <td>+</td>\n",
       "      <td>UTR5</td>\n",
       "      <td>AT1G01010</td>\n",
       "      <td>AT1G01010.1</td>\n",
       "      <td>NaN</td>\n",
       "      <td>AT1G01010.1</td>\n",
       "      <td>3631</td>\n",
       "      <td>3759</td>\n",
       "      <td>128</td>\n",
       "    </tr>\n",
       "    <tr>\n",
       "      <th>5</th>\n",
       "      <td>1</td>\n",
       "      <td>+</td>\n",
       "      <td>CDS</td>\n",
       "      <td>AT1G01010</td>\n",
       "      <td>AT1G01010.1</td>\n",
       "      <td>NaN</td>\n",
       "      <td>AT1G01010.1</td>\n",
       "      <td>3760</td>\n",
       "      <td>3913</td>\n",
       "      <td>153</td>\n",
       "    </tr>\n",
       "    <tr>\n",
       "      <th>7</th>\n",
       "      <td>1</td>\n",
       "      <td>+</td>\n",
       "      <td>CDS</td>\n",
       "      <td>AT1G01010</td>\n",
       "      <td>AT1G01010.1</td>\n",
       "      <td>NaN</td>\n",
       "      <td>AT1G01010.1</td>\n",
       "      <td>3996</td>\n",
       "      <td>4276</td>\n",
       "      <td>280</td>\n",
       "    </tr>\n",
       "    <tr>\n",
       "      <th>9</th>\n",
       "      <td>1</td>\n",
       "      <td>+</td>\n",
       "      <td>CDS</td>\n",
       "      <td>AT1G01010</td>\n",
       "      <td>AT1G01010.1</td>\n",
       "      <td>NaN</td>\n",
       "      <td>AT1G01010.1</td>\n",
       "      <td>4486</td>\n",
       "      <td>4605</td>\n",
       "      <td>119</td>\n",
       "    </tr>\n",
       "    <tr>\n",
       "      <th>11</th>\n",
       "      <td>1</td>\n",
       "      <td>+</td>\n",
       "      <td>CDS</td>\n",
       "      <td>AT1G01010</td>\n",
       "      <td>AT1G01010.1</td>\n",
       "      <td>NaN</td>\n",
       "      <td>AT1G01010.1</td>\n",
       "      <td>4706</td>\n",
       "      <td>5095</td>\n",
       "      <td>389</td>\n",
       "    </tr>\n",
       "    <tr>\n",
       "      <th>13</th>\n",
       "      <td>1</td>\n",
       "      <td>+</td>\n",
       "      <td>CDS</td>\n",
       "      <td>AT1G01010</td>\n",
       "      <td>AT1G01010.1</td>\n",
       "      <td>NaN</td>\n",
       "      <td>AT1G01010.1</td>\n",
       "      <td>5174</td>\n",
       "      <td>5326</td>\n",
       "      <td>152</td>\n",
       "    </tr>\n",
       "    <tr>\n",
       "      <th>14</th>\n",
       "      <td>1</td>\n",
       "      <td>+</td>\n",
       "      <td>CDS</td>\n",
       "      <td>AT1G01010</td>\n",
       "      <td>AT1G01010.1</td>\n",
       "      <td>NaN</td>\n",
       "      <td>AT1G01010.1</td>\n",
       "      <td>5439</td>\n",
       "      <td>5630</td>\n",
       "      <td>191</td>\n",
       "    </tr>\n",
       "    <tr>\n",
       "      <th>16</th>\n",
       "      <td>1</td>\n",
       "      <td>+</td>\n",
       "      <td>UTR3</td>\n",
       "      <td>AT1G01010</td>\n",
       "      <td>AT1G01010.1</td>\n",
       "      <td>NaN</td>\n",
       "      <td>AT1G01010.1</td>\n",
       "      <td>5631</td>\n",
       "      <td>5899</td>\n",
       "      <td>268</td>\n",
       "    </tr>\n",
       "  </tbody>\n",
       "</table>\n",
       "</div>"
      ],
      "text/plain": [
       "   Seq Strand  Type       Gene   Transcript Exon       Parent  Start   End  \\\n",
       "2    1      +  mRNA  AT1G01010  AT1G01010.1  NaN    AT1G01010   3631  5899   \n",
       "3    1      +  UTR5  AT1G01010  AT1G01010.1  NaN  AT1G01010.1   3631  3759   \n",
       "5    1      +   CDS  AT1G01010  AT1G01010.1  NaN  AT1G01010.1   3760  3913   \n",
       "7    1      +   CDS  AT1G01010  AT1G01010.1  NaN  AT1G01010.1   3996  4276   \n",
       "9    1      +   CDS  AT1G01010  AT1G01010.1  NaN  AT1G01010.1   4486  4605   \n",
       "11   1      +   CDS  AT1G01010  AT1G01010.1  NaN  AT1G01010.1   4706  5095   \n",
       "13   1      +   CDS  AT1G01010  AT1G01010.1  NaN  AT1G01010.1   5174  5326   \n",
       "14   1      +   CDS  AT1G01010  AT1G01010.1  NaN  AT1G01010.1   5439  5630   \n",
       "16   1      +  UTR3  AT1G01010  AT1G01010.1  NaN  AT1G01010.1   5631  5899   \n",
       "\n",
       "    Length  \n",
       "2     2268  \n",
       "3      128  \n",
       "5      153  \n",
       "7      280  \n",
       "9      119  \n",
       "11     389  \n",
       "13     152  \n",
       "14     191  \n",
       "16     268  "
      ]
     },
     "execution_count": 10,
     "metadata": {},
     "output_type": "execute_result"
    }
   ],
   "source": [
    "# Display a full gene with all its regions\n",
    "\n",
    "analysis_annotation.show(\n",
    "\tdata     = gene_annotation,\n",
    "\tquery    = 'AT1G01010.1',\n",
    "\tquery_by = 'Transcript',\n",
    "\trows     = None\n",
    ")"
   ]
  },
  {
   "cell_type": "code",
   "execution_count": 11,
   "id": "f227cd41-4a8d-4593-aabb-00e6cd951eb1",
   "metadata": {
    "execution": {
     "iopub.execute_input": "2023-04-21T20:14:20.541014Z",
     "iopub.status.busy": "2023-04-21T20:14:20.540513Z",
     "iopub.status.idle": "2023-04-21T20:14:20.617579Z",
     "shell.execute_reply": "2023-04-21T20:14:20.616579Z",
     "shell.execute_reply.started": "2023-04-21T20:14:20.541014Z"
    }
   },
   "outputs": [
    {
     "name": "stdout",
     "output_type": "stream",
     "text": [
      "      Gene IDs : 27,420\n",
      "Transcript IDs : 48,113\n"
     ]
    }
   ],
   "source": [
    "# Print number of genes and transcripts\n",
    "\n",
    "print('      Gene IDs : {:,}'.format(gene_annotation['Gene'].nunique(dropna = True)))\n",
    "print('Transcript IDs : {:,}'.format(gene_annotation['Transcript'].nunique(dropna = True)))"
   ]
  },
  {
   "cell_type": "code",
   "execution_count": 12,
   "id": "e30a9a4b-50c7-4877-949f-15457793f5b4",
   "metadata": {
    "execution": {
     "iopub.execute_input": "2023-04-21T20:14:20.619581Z",
     "iopub.status.busy": "2023-04-21T20:14:20.619080Z",
     "iopub.status.idle": "2023-04-21T20:15:03.228224Z",
     "shell.execute_reply": "2023-04-21T20:15:03.227223Z",
     "shell.execute_reply.started": "2023-04-21T20:14:20.619581Z"
    }
   },
   "outputs": [
    {
     "data": {
      "text/html": [
       "<div>\n",
       "<style scoped>\n",
       "    .dataframe tbody tr th:only-of-type {\n",
       "        vertical-align: middle;\n",
       "    }\n",
       "\n",
       "    .dataframe tbody tr th {\n",
       "        vertical-align: top;\n",
       "    }\n",
       "\n",
       "    .dataframe thead th {\n",
       "        text-align: right;\n",
       "    }\n",
       "</style>\n",
       "<table border=\"1\" class=\"dataframe\">\n",
       "  <thead>\n",
       "    <tr style=\"text-align: right;\">\n",
       "      <th></th>\n",
       "      <th>Count</th>\n",
       "      <th>0</th>\n",
       "      <th>1</th>\n",
       "      <th>2</th>\n",
       "      <th>3</th>\n",
       "      <th>4</th>\n",
       "      <th>5+</th>\n",
       "    </tr>\n",
       "  </thead>\n",
       "  <tbody>\n",
       "    <tr>\n",
       "      <th>mRNA</th>\n",
       "      <td>48113</td>\n",
       "      <td>0</td>\n",
       "      <td>48113</td>\n",
       "      <td>0</td>\n",
       "      <td>0</td>\n",
       "      <td>0</td>\n",
       "      <td>0</td>\n",
       "    </tr>\n",
       "    <tr>\n",
       "      <th>UTR5</th>\n",
       "      <td>56380</td>\n",
       "      <td>5402</td>\n",
       "      <td>31229</td>\n",
       "      <td>9476</td>\n",
       "      <td>1874</td>\n",
       "      <td>99</td>\n",
       "      <td>33</td>\n",
       "    </tr>\n",
       "    <tr>\n",
       "      <th>CDS</th>\n",
       "      <td>285828</td>\n",
       "      <td>0</td>\n",
       "      <td>7910</td>\n",
       "      <td>6664</td>\n",
       "      <td>5450</td>\n",
       "      <td>4638</td>\n",
       "      <td>23451</td>\n",
       "    </tr>\n",
       "    <tr>\n",
       "      <th>UTR3</th>\n",
       "      <td>48308</td>\n",
       "      <td>5791</td>\n",
       "      <td>37615</td>\n",
       "      <td>3612</td>\n",
       "      <td>1011</td>\n",
       "      <td>49</td>\n",
       "      <td>35</td>\n",
       "    </tr>\n",
       "  </tbody>\n",
       "</table>\n",
       "</div>"
      ],
      "text/plain": [
       "       Count     0      1     2     3     4     5+\n",
       "mRNA   48113     0  48113     0     0     0      0\n",
       "UTR5   56380  5402  31229  9476  1874    99     33\n",
       "CDS   285828     0   7910  6664  5450  4638  23451\n",
       "UTR3   48308  5791  37615  3612  1011    49     35"
      ]
     },
     "execution_count": 12,
     "metadata": {},
     "output_type": "execute_result"
    }
   ],
   "source": [
    "# Display region type count per gene\n",
    "\n",
    "analysis_annotation.type_distribution(\n",
    "\tdata    = gene_annotation,\n",
    "\tgroupby = 'Transcript',\n",
    "\tregions = ['mRNA', 'UTR5', 'CDS', 'UTR3']\n",
    ")"
   ]
  },
  {
   "cell_type": "code",
   "execution_count": 13,
   "id": "95b7e389-99d0-4196-849a-6d6c982913ff",
   "metadata": {
    "execution": {
     "iopub.execute_input": "2023-04-21T20:15:03.229225Z",
     "iopub.status.busy": "2023-04-21T20:15:03.229225Z",
     "iopub.status.idle": "2023-04-21T20:15:03.631070Z",
     "shell.execute_reply": "2023-04-21T20:15:03.630570Z",
     "shell.execute_reply.started": "2023-04-21T20:15:03.229225Z"
    }
   },
   "outputs": [
    {
     "data": {
      "text/html": [
       "<div>\n",
       "<style scoped>\n",
       "    .dataframe tbody tr th:only-of-type {\n",
       "        vertical-align: middle;\n",
       "    }\n",
       "\n",
       "    .dataframe tbody tr th {\n",
       "        vertical-align: top;\n",
       "    }\n",
       "\n",
       "    .dataframe thead th {\n",
       "        text-align: right;\n",
       "    }\n",
       "</style>\n",
       "<table border=\"1\" class=\"dataframe\">\n",
       "  <thead>\n",
       "    <tr style=\"text-align: right;\">\n",
       "      <th></th>\n",
       "      <th>Count</th>\n",
       "      <th>Mean</th>\n",
       "      <th>Std</th>\n",
       "      <th>Min</th>\n",
       "      <th>25%</th>\n",
       "      <th>50%</th>\n",
       "      <th>75%</th>\n",
       "      <th>Max</th>\n",
       "    </tr>\n",
       "  </thead>\n",
       "  <tbody>\n",
       "    <tr>\n",
       "      <th>mRNA</th>\n",
       "      <td>48113.000</td>\n",
       "      <td>2660.272</td>\n",
       "      <td>1759.209</td>\n",
       "      <td>2.000</td>\n",
       "      <td>1582.000</td>\n",
       "      <td>2318.000</td>\n",
       "      <td>3303.000</td>\n",
       "      <td>27264.000</td>\n",
       "    </tr>\n",
       "    <tr>\n",
       "      <th>UTR5</th>\n",
       "      <td>56380.000</td>\n",
       "      <td>183.549</td>\n",
       "      <td>190.915</td>\n",
       "      <td>0.000</td>\n",
       "      <td>61.000</td>\n",
       "      <td>134.000</td>\n",
       "      <td>243.000</td>\n",
       "      <td>3679.000</td>\n",
       "    </tr>\n",
       "    <tr>\n",
       "      <th>CDS</th>\n",
       "      <td>285828.000</td>\n",
       "      <td>217.656</td>\n",
       "      <td>300.222</td>\n",
       "      <td>0.000</td>\n",
       "      <td>80.000</td>\n",
       "      <td>125.000</td>\n",
       "      <td>222.000</td>\n",
       "      <td>7760.000</td>\n",
       "    </tr>\n",
       "    <tr>\n",
       "      <th>UTR3</th>\n",
       "      <td>48308.000</td>\n",
       "      <td>275.153</td>\n",
       "      <td>205.004</td>\n",
       "      <td>0.000</td>\n",
       "      <td>161.000</td>\n",
       "      <td>240.000</td>\n",
       "      <td>339.000</td>\n",
       "      <td>4000.000</td>\n",
       "    </tr>\n",
       "  </tbody>\n",
       "</table>\n",
       "</div>"
      ],
      "text/plain": [
       "          Count     Mean      Std   Min      25%      50%      75%       Max\n",
       "mRNA  48113.000 2660.272 1759.209 2.000 1582.000 2318.000 3303.000 27264.000\n",
       "UTR5  56380.000  183.549  190.915 0.000   61.000  134.000  243.000  3679.000\n",
       "CDS  285828.000  217.656  300.222 0.000   80.000  125.000  222.000  7760.000\n",
       "UTR3  48308.000  275.153  205.004 0.000  161.000  240.000  339.000  4000.000"
      ]
     },
     "execution_count": 13,
     "metadata": {},
     "output_type": "execute_result"
    }
   ],
   "source": [
    "# Display the region length statistics per each region\n",
    "\n",
    "analysis_annotation.length_statistics(\n",
    "\tdata = gene_annotation\n",
    ")"
   ]
  },
  {
   "cell_type": "markdown",
   "id": "289c371e-37fd-4274-8974-c3e4a496719c",
   "metadata": {},
   "source": [
    "## 3.2 Gene Assembly"
   ]
  },
  {
   "cell_type": "code",
   "execution_count": 14,
   "id": "e2d6b2c1-79e4-4b1e-bcab-12381c2e0137",
   "metadata": {
    "execution": {
     "iopub.execute_input": "2023-04-21T20:15:03.632571Z",
     "iopub.status.busy": "2023-04-21T20:15:03.632071Z",
     "iopub.status.idle": "2023-04-21T20:15:03.693123Z",
     "shell.execute_reply": "2023-04-21T20:15:03.692623Z",
     "shell.execute_reply.started": "2023-04-21T20:15:03.632571Z"
    }
   },
   "outputs": [
    {
     "name": "stdout",
     "output_type": "stream",
     "text": [
      "Sequence [1 ] with length [30,427,671] : CCCTAAACCCTAAACCCTAAACCCT ... AGGGTTTAGGGTTTAGGGTTTAGGG\n",
      "Sequence [2 ] with length [19,698,289] : NNNNNNNNNNNNNNNNNNNNNNNNN ... AGGGTTTAGGGTTTAGGGTTTAGGG\n",
      "Sequence [3 ] with length [23,459,830] : NNNNNNNNNNNNNNNNNNNNNNNNN ... ACCCTAAACCCTAAACCCTAAACCC\n",
      "Sequence [4 ] with length [18,585,056] : NNNNNNNNNNNNNNNNNNNNNNNNN ... AAGGGTTTAGGGTTTAGGGTTTAGG\n",
      "Sequence [5 ] with length [26,975,502] : TATACCATGTACCCTCAACCTTAAA ... GTTTAGGATTTAGGGTTTTTAGATC\n",
      "Sequence [Mt] with length [   366,924] : GGATCCGTTCGAAACAGGTTAGCCT ... TCGCAGAATGGAAACAAACCGGATT\n",
      "Sequence [Pt] with length [   154,478] : ATGGGCGAACGACGGGAATTGAACC ... TCATAATAACTTGGTCCCGGGCATC\n"
     ]
    }
   ],
   "source": [
    "# Display the length and short nucleotide sequences for each chromosome\n",
    "\n",
    "analysis_assembly.show(\n",
    "\tdata = gene_assembly,\n",
    "\thead = 25,\n",
    "\ttail = 25\n",
    ")"
   ]
  },
  {
   "cell_type": "code",
   "execution_count": 15,
   "id": "166702dc-69b3-4aaf-b609-dcf88bed6026",
   "metadata": {
    "execution": {
     "iopub.execute_input": "2023-04-21T20:15:03.694624Z",
     "iopub.status.busy": "2023-04-21T20:15:03.694124Z",
     "iopub.status.idle": "2023-04-21T20:15:12.471673Z",
     "shell.execute_reply": "2023-04-21T20:15:12.470672Z",
     "shell.execute_reply.started": "2023-04-21T20:15:03.694624Z"
    }
   },
   "outputs": [
    {
     "data": {
      "text/html": [
       "<div>\n",
       "<style scoped>\n",
       "    .dataframe tbody tr th:only-of-type {\n",
       "        vertical-align: middle;\n",
       "    }\n",
       "\n",
       "    .dataframe tbody tr th {\n",
       "        vertical-align: top;\n",
       "    }\n",
       "\n",
       "    .dataframe thead th {\n",
       "        text-align: right;\n",
       "    }\n",
       "</style>\n",
       "<table border=\"1\" class=\"dataframe\">\n",
       "  <thead>\n",
       "    <tr style=\"text-align: right;\">\n",
       "      <th></th>\n",
       "      <th>A</th>\n",
       "      <th>T</th>\n",
       "      <th>C</th>\n",
       "      <th>G</th>\n",
       "      <th>N</th>\n",
       "      <th>W</th>\n",
       "      <th>Y</th>\n",
       "      <th>M</th>\n",
       "      <th>K</th>\n",
       "      <th>R</th>\n",
       "      <th>S</th>\n",
       "      <th>D</th>\n",
       "    </tr>\n",
       "  </thead>\n",
       "  <tbody>\n",
       "    <tr>\n",
       "      <th>1</th>\n",
       "      <td>9709674</td>\n",
       "      <td>9697113</td>\n",
       "      <td>5435374</td>\n",
       "      <td>5421151</td>\n",
       "      <td>163958</td>\n",
       "      <td>124</td>\n",
       "      <td>82</td>\n",
       "      <td>76</td>\n",
       "      <td>53</td>\n",
       "      <td>36</td>\n",
       "      <td>30</td>\n",
       "      <td>0</td>\n",
       "    </tr>\n",
       "    <tr>\n",
       "      <th>2</th>\n",
       "      <td>6315641</td>\n",
       "      <td>6316348</td>\n",
       "      <td>3542973</td>\n",
       "      <td>3520766</td>\n",
       "      <td>2506</td>\n",
       "      <td>18</td>\n",
       "      <td>12</td>\n",
       "      <td>5</td>\n",
       "      <td>10</td>\n",
       "      <td>7</td>\n",
       "      <td>3</td>\n",
       "      <td>0</td>\n",
       "    </tr>\n",
       "    <tr>\n",
       "      <th>3</th>\n",
       "      <td>7484757</td>\n",
       "      <td>7448059</td>\n",
       "      <td>4258333</td>\n",
       "      <td>4262704</td>\n",
       "      <td>5966</td>\n",
       "      <td>2</td>\n",
       "      <td>2</td>\n",
       "      <td>2</td>\n",
       "      <td>0</td>\n",
       "      <td>4</td>\n",
       "      <td>1</td>\n",
       "      <td>0</td>\n",
       "    </tr>\n",
       "    <tr>\n",
       "      <th>4</th>\n",
       "      <td>5940546</td>\n",
       "      <td>5914038</td>\n",
       "      <td>3371349</td>\n",
       "      <td>3356091</td>\n",
       "      <td>3030</td>\n",
       "      <td>0</td>\n",
       "      <td>0</td>\n",
       "      <td>1</td>\n",
       "      <td>0</td>\n",
       "      <td>0</td>\n",
       "      <td>0</td>\n",
       "      <td>1</td>\n",
       "    </tr>\n",
       "    <tr>\n",
       "      <th>5</th>\n",
       "      <td>8621974</td>\n",
       "      <td>8652238</td>\n",
       "      <td>4832253</td>\n",
       "      <td>4858759</td>\n",
       "      <td>10278</td>\n",
       "      <td>0</td>\n",
       "      <td>0</td>\n",
       "      <td>0</td>\n",
       "      <td>0</td>\n",
       "      <td>0</td>\n",
       "      <td>0</td>\n",
       "      <td>0</td>\n",
       "    </tr>\n",
       "    <tr>\n",
       "      <th>Mt</th>\n",
       "      <td>102464</td>\n",
       "      <td>100190</td>\n",
       "      <td>82661</td>\n",
       "      <td>81609</td>\n",
       "      <td>0</td>\n",
       "      <td>0</td>\n",
       "      <td>0</td>\n",
       "      <td>0</td>\n",
       "      <td>0</td>\n",
       "      <td>0</td>\n",
       "      <td>0</td>\n",
       "      <td>0</td>\n",
       "    </tr>\n",
       "    <tr>\n",
       "      <th>Pt</th>\n",
       "      <td>48546</td>\n",
       "      <td>49866</td>\n",
       "      <td>28496</td>\n",
       "      <td>27570</td>\n",
       "      <td>0</td>\n",
       "      <td>0</td>\n",
       "      <td>0</td>\n",
       "      <td>0</td>\n",
       "      <td>0</td>\n",
       "      <td>0</td>\n",
       "      <td>0</td>\n",
       "      <td>0</td>\n",
       "    </tr>\n",
       "    <tr>\n",
       "      <th>Total</th>\n",
       "      <td>38223602</td>\n",
       "      <td>38177852</td>\n",
       "      <td>21551439</td>\n",
       "      <td>21528650</td>\n",
       "      <td>185738</td>\n",
       "      <td>144</td>\n",
       "      <td>96</td>\n",
       "      <td>84</td>\n",
       "      <td>63</td>\n",
       "      <td>47</td>\n",
       "      <td>34</td>\n",
       "      <td>1</td>\n",
       "    </tr>\n",
       "  </tbody>\n",
       "</table>\n",
       "</div>"
      ],
      "text/plain": [
       "              A         T         C         G       N    W   Y   M   K   R  \\\n",
       "1       9709674   9697113   5435374   5421151  163958  124  82  76  53  36   \n",
       "2       6315641   6316348   3542973   3520766    2506   18  12   5  10   7   \n",
       "3       7484757   7448059   4258333   4262704    5966    2   2   2   0   4   \n",
       "4       5940546   5914038   3371349   3356091    3030    0   0   1   0   0   \n",
       "5       8621974   8652238   4832253   4858759   10278    0   0   0   0   0   \n",
       "Mt       102464    100190     82661     81609       0    0   0   0   0   0   \n",
       "Pt        48546     49866     28496     27570       0    0   0   0   0   0   \n",
       "Total  38223602  38177852  21551439  21528650  185738  144  96  84  63  47   \n",
       "\n",
       "        S  D  \n",
       "1      30  0  \n",
       "2       3  0  \n",
       "3       1  0  \n",
       "4       0  1  \n",
       "5       0  0  \n",
       "Mt      0  0  \n",
       "Pt      0  0  \n",
       "Total  34  1  "
      ]
     },
     "execution_count": 15,
     "metadata": {},
     "output_type": "execute_result"
    }
   ],
   "source": [
    "# Display the nucleotide frequency withing each chromosome\n",
    "\n",
    "analysis_assembly.show_nucleotide_frequency(\n",
    "\tdata     = gene_assembly,\n",
    "\trelative = False\n",
    ")"
   ]
  },
  {
   "cell_type": "markdown",
   "id": "8f9cac96-e1ec-4fbb-af55-0d45876d5e1d",
   "metadata": {},
   "source": [
    "## 3.3 Tissue Metadata"
   ]
  },
  {
   "cell_type": "code",
   "execution_count": 16,
   "id": "6cba9fee-b173-416c-aad3-dc08f4d9932b",
   "metadata": {
    "execution": {
     "iopub.execute_input": "2023-04-21T20:15:12.472674Z",
     "iopub.status.busy": "2023-04-21T20:15:12.472674Z",
     "iopub.status.idle": "2023-04-21T20:15:12.487186Z",
     "shell.execute_reply": "2023-04-21T20:15:12.486185Z",
     "shell.execute_reply.started": "2023-04-21T20:15:12.472674Z"
    }
   },
   "outputs": [
    {
     "name": "stdout",
     "output_type": "stream",
     "text": [
      "Number of rows : 4138\n",
      "Number of cols : 8\n"
     ]
    },
    {
     "data": {
      "text/html": [
       "<div>\n",
       "<style scoped>\n",
       "    .dataframe tbody tr th:only-of-type {\n",
       "        vertical-align: middle;\n",
       "    }\n",
       "\n",
       "    .dataframe tbody tr th {\n",
       "        vertical-align: top;\n",
       "    }\n",
       "\n",
       "    .dataframe thead th {\n",
       "        text-align: right;\n",
       "    }\n",
       "</style>\n",
       "<table border=\"1\" class=\"dataframe\">\n",
       "  <thead>\n",
       "    <tr style=\"text-align: right;\">\n",
       "      <th></th>\n",
       "      <th>Sample</th>\n",
       "      <th>Study</th>\n",
       "      <th>Control</th>\n",
       "      <th>Senescence</th>\n",
       "      <th>Age</th>\n",
       "      <th>Tissue</th>\n",
       "      <th>Group</th>\n",
       "      <th>Perturbation</th>\n",
       "    </tr>\n",
       "  </thead>\n",
       "  <tbody>\n",
       "    <tr>\n",
       "      <th>1</th>\n",
       "      <td>DRR273450</td>\n",
       "      <td>DRP006986</td>\n",
       "      <td>yes</td>\n",
       "      <td>no</td>\n",
       "      <td>mature</td>\n",
       "      <td>seedling</td>\n",
       "      <td>mature_seedling</td>\n",
       "      <td>control</td>\n",
       "    </tr>\n",
       "    <tr>\n",
       "      <th>2</th>\n",
       "      <td>DRR273451</td>\n",
       "      <td>DRP006986</td>\n",
       "      <td>yes</td>\n",
       "      <td>no</td>\n",
       "      <td>mature</td>\n",
       "      <td>seedling</td>\n",
       "      <td>mature_seedling</td>\n",
       "      <td>control</td>\n",
       "    </tr>\n",
       "    <tr>\n",
       "      <th>3</th>\n",
       "      <td>DRR273452</td>\n",
       "      <td>DRP006986</td>\n",
       "      <td>no</td>\n",
       "      <td>no</td>\n",
       "      <td>mature</td>\n",
       "      <td>seedling</td>\n",
       "      <td>mature_seedling</td>\n",
       "      <td>environmental</td>\n",
       "    </tr>\n",
       "    <tr>\n",
       "      <th>4</th>\n",
       "      <td>DRR273453</td>\n",
       "      <td>DRP006986</td>\n",
       "      <td>no</td>\n",
       "      <td>no</td>\n",
       "      <td>mature</td>\n",
       "      <td>seedling</td>\n",
       "      <td>mature_seedling</td>\n",
       "      <td>environmental</td>\n",
       "    </tr>\n",
       "    <tr>\n",
       "      <th>5</th>\n",
       "      <td>DRR273454</td>\n",
       "      <td>DRP006986</td>\n",
       "      <td>no</td>\n",
       "      <td>no</td>\n",
       "      <td>mature</td>\n",
       "      <td>seedling</td>\n",
       "      <td>mature_seedling</td>\n",
       "      <td>environmental</td>\n",
       "    </tr>\n",
       "  </tbody>\n",
       "</table>\n",
       "</div>"
      ],
      "text/plain": [
       "      Sample      Study Control Senescence     Age    Tissue            Group  \\\n",
       "1  DRR273450  DRP006986     yes         no  mature  seedling  mature_seedling   \n",
       "2  DRR273451  DRP006986     yes         no  mature  seedling  mature_seedling   \n",
       "3  DRR273452  DRP006986      no         no  mature  seedling  mature_seedling   \n",
       "4  DRR273453  DRP006986      no         no  mature  seedling  mature_seedling   \n",
       "5  DRR273454  DRP006986      no         no  mature  seedling  mature_seedling   \n",
       "\n",
       "    Perturbation  \n",
       "1        control  \n",
       "2        control  \n",
       "3  environmental  \n",
       "4  environmental  \n",
       "5  environmental  "
      ]
     },
     "execution_count": 16,
     "metadata": {},
     "output_type": "execute_result"
    }
   ],
   "source": [
    "# Display the first few annotated samples\n",
    "\n",
    "analysis_metadata.show(tissue_metadata)"
   ]
  },
  {
   "cell_type": "code",
   "execution_count": 17,
   "id": "3ae4612d-d1a2-4ee6-965f-ec2347b67f3a",
   "metadata": {
    "execution": {
     "iopub.execute_input": "2023-04-21T20:15:12.488687Z",
     "iopub.status.busy": "2023-04-21T20:15:12.488187Z",
     "iopub.status.idle": "2023-04-21T20:15:12.518213Z",
     "shell.execute_reply": "2023-04-21T20:15:12.517213Z",
     "shell.execute_reply.started": "2023-04-21T20:15:12.488687Z"
    }
   },
   "outputs": [
    {
     "name": "stdout",
     "output_type": "stream",
     "text": [
      "Unique values per column :\n",
      "\n",
      " - Sample       : [4,138] DRR273450 DRR273451 DRR273452 DRR273453 DRR273454 ...\n",
      " - Study        : [  277] DRP006986 DRP004882 DRP005301 DRP005881 DRP005877 ...\n",
      " - Control      : [    2] yes no\n",
      " - Senescence   : [    2] no yes\n",
      " - Age          : [    5] mature young missing senescence seed\n",
      " - Tissue       : [    8] seedling seed leaf root flower ...\n",
      " - Group        : [   18] mature_seedling young_seedling young_seed missing_seedling mature_leaf ...\n",
      " - Perturbation : [    8] control environmental unstressed chemical mutant ...\n"
     ]
    },
    {
     "data": {
      "text/html": [
       "<div>\n",
       "<style scoped>\n",
       "    .dataframe tbody tr th:only-of-type {\n",
       "        vertical-align: middle;\n",
       "    }\n",
       "\n",
       "    .dataframe tbody tr th {\n",
       "        vertical-align: top;\n",
       "    }\n",
       "\n",
       "    .dataframe thead th {\n",
       "        text-align: right;\n",
       "    }\n",
       "</style>\n",
       "<table border=\"1\" class=\"dataframe\">\n",
       "  <thead>\n",
       "    <tr style=\"text-align: right;\">\n",
       "      <th></th>\n",
       "      <th>Sample</th>\n",
       "      <th>Study</th>\n",
       "      <th>Control</th>\n",
       "      <th>Senescence</th>\n",
       "      <th>Age</th>\n",
       "      <th>Tissue</th>\n",
       "      <th>Group</th>\n",
       "      <th>Perturbation</th>\n",
       "    </tr>\n",
       "  </thead>\n",
       "  <tbody>\n",
       "    <tr>\n",
       "      <th>Datatype</th>\n",
       "      <td>object</td>\n",
       "      <td>object</td>\n",
       "      <td>object</td>\n",
       "      <td>object</td>\n",
       "      <td>object</td>\n",
       "      <td>object</td>\n",
       "      <td>object</td>\n",
       "      <td>object</td>\n",
       "    </tr>\n",
       "    <tr>\n",
       "      <th>Null</th>\n",
       "      <td>0</td>\n",
       "      <td>0</td>\n",
       "      <td>0</td>\n",
       "      <td>0</td>\n",
       "      <td>0</td>\n",
       "      <td>0</td>\n",
       "      <td>0</td>\n",
       "      <td>0</td>\n",
       "    </tr>\n",
       "    <tr>\n",
       "      <th>Unique</th>\n",
       "      <td>4138</td>\n",
       "      <td>277</td>\n",
       "      <td>2</td>\n",
       "      <td>2</td>\n",
       "      <td>5</td>\n",
       "      <td>8</td>\n",
       "      <td>18</td>\n",
       "      <td>8</td>\n",
       "    </tr>\n",
       "  </tbody>\n",
       "</table>\n",
       "</div>"
      ],
      "text/plain": [
       "          Sample   Study Control Senescence     Age  Tissue   Group  \\\n",
       "Datatype  object  object  object     object  object  object  object   \n",
       "Null           0       0       0          0       0       0       0   \n",
       "Unique      4138     277       2          2       5       8      18   \n",
       "\n",
       "         Perturbation  \n",
       "Datatype       object  \n",
       "Null                0  \n",
       "Unique              8  "
      ]
     },
     "execution_count": 17,
     "metadata": {},
     "output_type": "execute_result"
    }
   ],
   "source": [
    "# Inspect sample annotation columns, and dispay the number of unique values (as well as the first few values)\n",
    "\n",
    "analysis_metadata.inspect_columns(\n",
    "\tdata    = tissue_metadata,\n",
    "\tcolumns = None\n",
    ")"
   ]
  },
  {
   "cell_type": "code",
   "execution_count": 18,
   "id": "61aa7b18-23cc-40a5-8af6-8ab93601cf34",
   "metadata": {
    "execution": {
     "iopub.execute_input": "2023-04-21T20:15:12.519714Z",
     "iopub.status.busy": "2023-04-21T20:15:12.519213Z",
     "iopub.status.idle": "2023-04-21T20:15:12.533726Z",
     "shell.execute_reply": "2023-04-21T20:15:12.532725Z",
     "shell.execute_reply.started": "2023-04-21T20:15:12.519714Z"
    }
   },
   "outputs": [
    {
     "name": "stdout",
     "output_type": "stream",
     "text": [
      "flower                  :   82 [  1.98 %]\n",
      "leaf                    : 1566 [ 37.84 %]\n",
      "other                   :   23 [  0.56 %]\n",
      "root                    :  606 [ 14.64 %]\n",
      "seed                    :  103 [  2.49 %]\n",
      "seedling                : 1720 [ 41.57 %]\n",
      "senescence_green        :   24 [  0.58 %]\n",
      "senescence_reproductive :   14 [  0.34 %]\n"
     ]
    }
   ],
   "source": [
    "# Display tissue samples\n",
    "\n",
    "template = '{:' + str(tissue_metadata['Tissue'].str.len().max()) + 's} : {:4d} [{:6.2f} %]'\n",
    "\n",
    "for tissue, dataframe in tissue_metadata.groupby('Tissue') :\n",
    "\tlength  = len(dataframe)\n",
    "\tpercent = 100 * length / len(tissue_metadata)\n",
    "\n",
    "\tprint(template.format(tissue, length, percent))"
   ]
  },
  {
   "cell_type": "code",
   "execution_count": 19,
   "id": "08f55504-3caa-42c0-9bb4-7795feee4160",
   "metadata": {
    "execution": {
     "iopub.execute_input": "2023-04-21T20:15:12.535728Z",
     "iopub.status.busy": "2023-04-21T20:15:12.534727Z",
     "iopub.status.idle": "2023-04-21T20:15:12.549239Z",
     "shell.execute_reply": "2023-04-21T20:15:12.548239Z",
     "shell.execute_reply.started": "2023-04-21T20:15:12.535728Z"
    }
   },
   "outputs": [
    {
     "name": "stdout",
     "output_type": "stream",
     "text": [
      "mature     : 2915 [ 70.44 %]\n",
      "missing    :  165 [  3.99 %]\n",
      "seed       :   49 [  1.18 %]\n",
      "senescence :   38 [  0.92 %]\n",
      "young      :  971 [ 23.47 %]\n"
     ]
    }
   ],
   "source": [
    "# Display age samples\n",
    "\n",
    "template = '{:' + str(tissue_metadata['Age'].str.len().max()) + 's} : {:4d} [{:6.2f} %]'\n",
    "\n",
    "for age, dataframe in tissue_metadata.groupby('Age') :\n",
    "\tlength  = len(dataframe)\n",
    "\tpercent = 100 * length / len(tissue_metadata)\n",
    "\n",
    "\tprint(template.format(age, length, percent))"
   ]
  },
  {
   "cell_type": "code",
   "execution_count": 20,
   "id": "09840625-8cfa-42db-b7c4-336616ee59ac",
   "metadata": {
    "execution": {
     "iopub.execute_input": "2023-04-21T20:15:12.550740Z",
     "iopub.status.busy": "2023-04-21T20:15:12.550240Z",
     "iopub.status.idle": "2023-04-21T20:15:12.564752Z",
     "shell.execute_reply": "2023-04-21T20:15:12.563752Z",
     "shell.execute_reply.started": "2023-04-21T20:15:12.550740Z"
    }
   },
   "outputs": [
    {
     "name": "stdout",
     "output_type": "stream",
     "text": [
      "mature_flower           :   62 [  1.50 %]\n",
      "mature_leaf             : 1442 [ 34.85 %]\n",
      "mature_other            :   21 [  0.51 %]\n",
      "mature_root             :  298 [  7.20 %]\n",
      "mature_seed             :   82 [  1.98 %]\n",
      "mature_seedling         : 1059 [ 25.59 %]\n",
      "missing_flower          :   18 [  0.43 %]\n",
      "missing_leaf            :  106 [  2.56 %]\n",
      "missing_root            :   23 [  0.56 %]\n",
      "missing_seedling        :   18 [  0.43 %]\n",
      "senescence_green        :   24 [  0.58 %]\n",
      "senescence_reproductive :   14 [  0.34 %]\n",
      "young_flower            :    2 [  0.05 %]\n",
      "young_leaf              :   18 [  0.43 %]\n",
      "young_other             :    2 [  0.05 %]\n",
      "young_root              :  285 [  6.89 %]\n",
      "young_seed              :   21 [  0.51 %]\n",
      "young_seedling          :  643 [ 15.54 %]\n"
     ]
    }
   ],
   "source": [
    "# Display group samples\n",
    "\n",
    "template = '{:' + str(tissue_metadata['Group'].str.len().max()) + 's} : {:4d} [{:6.2f} %]'\n",
    "\n",
    "for group, dataframe in tissue_metadata.groupby('Group') :\n",
    "\tlength  = len(dataframe)\n",
    "\tpercent = 100 * length / len(tissue_metadata)\n",
    "\n",
    "\tprint(template.format(group, length, percent))"
   ]
  },
  {
   "cell_type": "code",
   "execution_count": 21,
   "id": "6f4c2c05-82ee-49c0-a1e3-99947f5703a6",
   "metadata": {
    "execution": {
     "iopub.execute_input": "2023-04-21T20:15:12.566254Z",
     "iopub.status.busy": "2023-04-21T20:15:12.566254Z",
     "iopub.status.idle": "2023-04-21T20:15:12.580266Z",
     "shell.execute_reply": "2023-04-21T20:15:12.579265Z",
     "shell.execute_reply.started": "2023-04-21T20:15:12.566254Z"
    }
   },
   "outputs": [
    {
     "name": "stdout",
     "output_type": "stream",
     "text": [
      "chemical      :  734 [ 17.74 %]\n",
      "control       : 1197 [ 28.93 %]\n",
      "dna           :   51 [  1.23 %]\n",
      "environmental : 1065 [ 25.74 %]\n",
      "mechanical    :  128 [  3.09 %]\n",
      "mutant        :  690 [ 16.67 %]\n",
      "unknown       :   33 [  0.80 %]\n",
      "unstressed    :  240 [  5.80 %]\n"
     ]
    }
   ],
   "source": [
    "# Display perturbation samples\n",
    "\n",
    "template = '{:' + str(tissue_metadata['Perturbation'].str.len().max()) + 's} : {:4d} [{:6.2f} %]'\n",
    "\n",
    "for group, dataframe in tissue_metadata.groupby('Perturbation') :\n",
    "\tlength  = len(dataframe)\n",
    "\tpercent = 100 * length / len(tissue_metadata)\n",
    "\n",
    "\tprint(template.format(group, length, percent))"
   ]
  },
  {
   "cell_type": "markdown",
   "id": "4331d52a-682c-4b18-8be3-55536316c939",
   "metadata": {},
   "source": [
    "## 3.4 Tissue TPM"
   ]
  },
  {
   "cell_type": "code",
   "execution_count": 22,
   "id": "0ac3ad9f-6054-4564-8c7c-fea95d2caf70",
   "metadata": {
    "execution": {
     "iopub.execute_input": "2023-04-21T20:15:12.584770Z",
     "iopub.status.busy": "2023-04-21T20:15:12.583769Z",
     "iopub.status.idle": "2023-04-21T20:15:12.611292Z",
     "shell.execute_reply": "2023-04-21T20:15:12.610292Z",
     "shell.execute_reply.started": "2023-04-21T20:15:12.584269Z"
    }
   },
   "outputs": [
    {
     "name": "stdout",
     "output_type": "stream",
     "text": [
      "Number of rows : 48359\n",
      "Number of cols : 4139\n"
     ]
    },
    {
     "data": {
      "text/html": [
       "<div>\n",
       "<style scoped>\n",
       "    .dataframe tbody tr th:only-of-type {\n",
       "        vertical-align: middle;\n",
       "    }\n",
       "\n",
       "    .dataframe tbody tr th {\n",
       "        vertical-align: top;\n",
       "    }\n",
       "\n",
       "    .dataframe thead th {\n",
       "        text-align: right;\n",
       "    }\n",
       "</style>\n",
       "<table border=\"1\" class=\"dataframe\">\n",
       "  <thead>\n",
       "    <tr style=\"text-align: right;\">\n",
       "      <th></th>\n",
       "      <th>Transcript</th>\n",
       "      <th>DRR090011</th>\n",
       "      <th>DRR090012</th>\n",
       "      <th>DRR090013</th>\n",
       "      <th>DRR090014</th>\n",
       "      <th>DRR090015</th>\n",
       "      <th>DRR090016</th>\n",
       "      <th>DRR090017</th>\n",
       "      <th>DRR090018</th>\n",
       "      <th>DRR090019</th>\n",
       "    </tr>\n",
       "  </thead>\n",
       "  <tbody>\n",
       "    <tr>\n",
       "      <th>0</th>\n",
       "      <td>AT1G01010.1</td>\n",
       "      <td>17.954</td>\n",
       "      <td>19.723</td>\n",
       "      <td>30.892</td>\n",
       "      <td>25.349</td>\n",
       "      <td>29.913</td>\n",
       "      <td>17.373</td>\n",
       "      <td>25.465</td>\n",
       "      <td>32.010</td>\n",
       "      <td>33.053</td>\n",
       "    </tr>\n",
       "    <tr>\n",
       "      <th>1</th>\n",
       "      <td>AT1G01020.1</td>\n",
       "      <td>2.140</td>\n",
       "      <td>0.000</td>\n",
       "      <td>0.502</td>\n",
       "      <td>1.455</td>\n",
       "      <td>2.084</td>\n",
       "      <td>0.000</td>\n",
       "      <td>1.565</td>\n",
       "      <td>0.626</td>\n",
       "      <td>0.061</td>\n",
       "    </tr>\n",
       "    <tr>\n",
       "      <th>2</th>\n",
       "      <td>AT1G01020.2</td>\n",
       "      <td>11.185</td>\n",
       "      <td>8.385</td>\n",
       "      <td>10.543</td>\n",
       "      <td>12.320</td>\n",
       "      <td>9.219</td>\n",
       "      <td>8.170</td>\n",
       "      <td>8.460</td>\n",
       "      <td>9.685</td>\n",
       "      <td>10.080</td>\n",
       "    </tr>\n",
       "    <tr>\n",
       "      <th>3</th>\n",
       "      <td>AT1G01020.3</td>\n",
       "      <td>0.000</td>\n",
       "      <td>0.000</td>\n",
       "      <td>2.558</td>\n",
       "      <td>0.000</td>\n",
       "      <td>0.006</td>\n",
       "      <td>2.017</td>\n",
       "      <td>1.933</td>\n",
       "      <td>0.000</td>\n",
       "      <td>0.000</td>\n",
       "    </tr>\n",
       "    <tr>\n",
       "      <th>4</th>\n",
       "      <td>AT1G01020.4</td>\n",
       "      <td>3.149</td>\n",
       "      <td>3.576</td>\n",
       "      <td>0.000</td>\n",
       "      <td>1.396</td>\n",
       "      <td>0.574</td>\n",
       "      <td>1.419</td>\n",
       "      <td>1.615</td>\n",
       "      <td>2.902</td>\n",
       "      <td>2.887</td>\n",
       "    </tr>\n",
       "  </tbody>\n",
       "</table>\n",
       "</div>"
      ],
      "text/plain": [
       "    Transcript  DRR090011  DRR090012  DRR090013  DRR090014  DRR090015  \\\n",
       "0  AT1G01010.1     17.954     19.723     30.892     25.349     29.913   \n",
       "1  AT1G01020.1      2.140      0.000      0.502      1.455      2.084   \n",
       "2  AT1G01020.2     11.185      8.385     10.543     12.320      9.219   \n",
       "3  AT1G01020.3      0.000      0.000      2.558      0.000      0.006   \n",
       "4  AT1G01020.4      3.149      3.576      0.000      1.396      0.574   \n",
       "\n",
       "   DRR090016  DRR090017  DRR090018  DRR090019  \n",
       "0     17.373     25.465     32.010     33.053  \n",
       "1      0.000      1.565      0.626      0.061  \n",
       "2      8.170      8.460      9.685     10.080  \n",
       "3      2.017      1.933      0.000      0.000  \n",
       "4      1.419      1.615      2.902      2.887  "
      ]
     },
     "execution_count": 22,
     "metadata": {},
     "output_type": "execute_result"
    }
   ],
   "source": [
    "# Display the first few tpm values\n",
    "\n",
    "analysis_tpm.show(tissue_tpm)"
   ]
  },
  {
   "cell_type": "code",
   "execution_count": 23,
   "id": "3d1f931b-7078-48c3-8299-495dbbd3401d",
   "metadata": {
    "execution": {
     "iopub.execute_input": "2023-04-21T20:15:12.612794Z",
     "iopub.status.busy": "2023-04-21T20:15:12.612293Z",
     "iopub.status.idle": "2023-04-21T20:15:16.954027Z",
     "shell.execute_reply": "2023-04-21T20:15:16.953527Z",
     "shell.execute_reply.started": "2023-04-21T20:15:12.612794Z"
    }
   },
   "outputs": [
    {
     "name": "stdout",
     "output_type": "stream",
     "text": [
      "   Max TPM : 586,287.00000\n",
      "  Mean TPM :      20.67867\n",
      "Median TPM :       1.11111\n",
      "   Min TPM :       0.00000\n"
     ]
    }
   ],
   "source": [
    "# Print the global tpm statistics\n",
    "\n",
    "matrix = tissue_tpm.iloc[:, 1:].to_numpy()\n",
    "\n",
    "print('   Max TPM : {:13,.5f}'.format(numpy.max(matrix)))\n",
    "print('  Mean TPM : {:13,.5f}'.format(numpy.mean(matrix)))\n",
    "print('Median TPM : {:13,.5f}'.format(numpy.median(matrix)))\n",
    "print('   Min TPM : {:13,.5f}'.format(numpy.min(matrix)))"
   ]
  },
  {
   "cell_type": "code",
   "execution_count": 24,
   "id": "025862fb-41b9-4f3d-9c36-1bf2e1affae6",
   "metadata": {
    "execution": {
     "iopub.execute_input": "2023-04-21T20:15:16.957030Z",
     "iopub.status.busy": "2023-04-21T20:15:16.955028Z",
     "iopub.status.idle": "2023-04-21T20:15:17.808262Z",
     "shell.execute_reply": "2023-04-21T20:15:17.806761Z",
     "shell.execute_reply.started": "2023-04-21T20:15:16.957030Z"
    }
   },
   "outputs": [
    {
     "name": "stdout",
     "output_type": "stream",
     "text": [
      "   Total elements : 200,109,542\n",
      "Non Zero elements :  97,791,328 [48.87 %]\n",
      "    Zero elements : 102,318,214 [51.13 %]\n"
     ]
    }
   ],
   "source": [
    "# Print the amoutn of tpm reading below or equal 1.0\n",
    "\n",
    "matrix = tissue_tpm.iloc[:, 1:].to_numpy()\n",
    "\n",
    "total = numpy.size(matrix)\n",
    "where = numpy.count_nonzero(matrix <= 1.0)\n",
    "other = total - where\n",
    "\n",
    "print('   Total elements : {:11,d}'.format(total))\n",
    "print('Non Zero elements : {:11,d} [{:5.2f} %]'.format(where, 100 * where / total))\n",
    "print('    Zero elements : {:11,d} [{:5.2f} %]'.format(other, 100 * other / total))"
   ]
  },
  {
   "cell_type": "code",
   "execution_count": 25,
   "id": "d3f343d3-c560-47e5-ad94-1557e6e5ea06",
   "metadata": {
    "execution": {
     "iopub.execute_input": "2023-04-21T20:15:17.809764Z",
     "iopub.status.busy": "2023-04-21T20:15:17.809263Z",
     "iopub.status.idle": "2023-04-21T20:15:18.691521Z",
     "shell.execute_reply": "2023-04-21T20:15:18.691021Z",
     "shell.execute_reply.started": "2023-04-21T20:15:17.809764Z"
    }
   },
   "outputs": [
    {
     "name": "stdout",
     "output_type": "stream",
     "text": [
      "Elements          : 200,109,542\n",
      "Elements <= 0.000 :  53,962,183 [26.97 %]\n",
      "Elements >  0.000 : 146,147,359 [73.03 %]\n"
     ]
    }
   ],
   "source": [
    "# Print the amoutn of tpm reading below or equal 0.0\n",
    "\n",
    "matrix = tissue_tpm.iloc[:, 1:].to_numpy()\n",
    "\n",
    "total = numpy.size(matrix)\n",
    "where = numpy.count_nonzero(matrix <= 0.0)\n",
    "other = total - where\n",
    "\n",
    "print('Elements          : {:11,d}'.format(total))\n",
    "print('Elements <= 0.000 : {:11,d} [{:5.2f} %]'.format(where, 100 * where / total))\n",
    "print('Elements >  0.000 : {:11,d} [{:5.2f} %]'.format(other, 100 * other / total))"
   ]
  },
  {
   "cell_type": "code",
   "execution_count": 26,
   "id": "226af209-3269-4c0c-9e72-b526fcb4bec0",
   "metadata": {
    "execution": {
     "iopub.execute_input": "2023-04-21T20:15:18.693023Z",
     "iopub.status.busy": "2023-04-21T20:15:18.692522Z",
     "iopub.status.idle": "2023-04-21T20:15:20.817349Z",
     "shell.execute_reply": "2023-04-21T20:15:20.816349Z",
     "shell.execute_reply.started": "2023-04-21T20:15:18.693023Z"
    }
   },
   "outputs": [
    {
     "name": "stdout",
     "output_type": "stream",
     "text": [
      "Elements          : 200,109,542\n",
      "Elements <= 0.001 :  57,150,130 [28.56 %]\n",
      "Elements >  0.001 : 142,959,412 [71.44 %]\n"
     ]
    }
   ],
   "source": [
    "# Add small shift to zeros\n",
    "\n",
    "tissue_tpm = tissue_tpm.replace(to_replace = 0.0, value = 0.001, inplace = False)\n",
    "\n",
    "matrix = tissue_tpm.iloc[:, 1:].to_numpy()\n",
    "\n",
    "total = numpy.size(matrix)\n",
    "where = numpy.count_nonzero(matrix <= 0.001)\n",
    "other = total - where\n",
    "\n",
    "print('Elements          : {:11,d}'.format(total))\n",
    "print('Elements <= 0.001 : {:11,d} [{:5.2f} %]'.format(where, 100 * where / total))\n",
    "print('Elements >  0.001 : {:11,d} [{:5.2f} %]'.format(other, 100 * other / total))"
   ]
  },
  {
   "cell_type": "markdown",
   "id": "6defc4c9-1cf4-4fe9-82ff-f9fc96bcb018",
   "metadata": {},
   "source": [
    "# 4. Plots"
   ]
  },
  {
   "cell_type": "code",
   "execution_count": 27,
   "id": "84044362-6f7e-4d5c-a6cd-a8f972533260",
   "metadata": {
    "execution": {
     "iopub.execute_input": "2023-04-21T20:15:20.820352Z",
     "iopub.status.busy": "2023-04-21T20:15:20.819852Z",
     "iopub.status.idle": "2023-04-21T20:15:22.926665Z",
     "shell.execute_reply": "2023-04-21T20:15:22.926164Z",
     "shell.execute_reply.started": "2023-04-21T20:15:20.820352Z"
    }
   },
   "outputs": [
    {
     "data": {
      "image/png": "[encoded data removed]",
      "text/plain": [
       "<Figure size 1600x1000 with 1 Axes>"
      ]
     },
     "metadata": {},
     "output_type": "display_data"
    },
    {
     "data": {
      "image/png": "[encoded data removed]",
      "text/plain": [
       "<Figure size 1600x1000 with 1 Axes>"
      ]
     },
     "metadata": {},
     "output_type": "display_data"
    },
    {
     "data": {
      "image/png": "[encoded data removed]",
      "text/plain": [
       "<Figure size 1600x1000 with 1 Axes>"
      ]
     },
     "metadata": {},
     "output_type": "display_data"
    },
    {
     "data": {
      "image/png": "[encoded data removed]",
      "text/plain": [
       "<Figure size 1600x1000 with 1 Axes>"
      ]
     },
     "metadata": {},
     "output_type": "display_data"
    }
   ],
   "source": [
    "# Display the distribution of groups for all samples\n",
    "\n",
    "for group in ['tissue', 'age', 'group', 'perturbation'] :\n",
    "\tanalysis_metadata.distribution_barplot(\n",
    "\t\tdata     = tissue_metadata,\n",
    "\t\tgroup    = group.capitalize(),\n",
    "\t\tfilename = os.path.join(OUT_PLOT, 'distribution-' + group)\n",
    "\t)\n",
    "\n",
    "\tmatplotlib.pyplot.show()"
   ]
  },
  {
   "cell_type": "code",
   "execution_count": 28,
   "id": "7a509eec-004d-4028-af26-e327b6a7f4ba",
   "metadata": {
    "execution": {
     "iopub.execute_input": "2023-04-21T20:15:22.927665Z",
     "iopub.status.busy": "2023-04-21T20:15:22.927665Z",
     "iopub.status.idle": "2023-04-21T20:15:28.016041Z",
     "shell.execute_reply": "2023-04-21T20:15:28.014540Z",
     "shell.execute_reply.started": "2023-04-21T20:15:22.927665Z"
    }
   },
   "outputs": [
    {
     "data": {
      "image/png": "[encoded data removed]",
      "text/plain": [
       "<Figure size 1600x1000 with 1 Axes>"
      ]
     },
     "metadata": {},
     "output_type": "display_data"
    },
    {
     "data": {
      "image/png": "[encoded data removed]",
      "text/plain": [
       "<Figure size 1600x1000 with 1 Axes>"
      ]
     },
     "metadata": {},
     "output_type": "display_data"
    },
    {
     "data": {
      "image/png": "[encoded data removed]",
      "text/plain": [
       "<Figure size 1600x1000 with 1 Axes>"
      ]
     },
     "metadata": {},
     "output_type": "display_data"
    },
    {
     "data": {
      "image/png": "[encoded data removed]",
      "text/plain": [
       "<Figure size 1600x1000 with 1 Axes>"
      ]
     },
     "metadata": {},
     "output_type": "display_data"
    }
   ],
   "source": [
    "# Display the region length distributions per each region\n",
    "\n",
    "with warnings.catch_warnings() :\n",
    "\twarnings.simplefilter('ignore')\n",
    "\n",
    "\tfor group, vline in zip(['mRNA', 'UTR5', 'CDS', 'UTR3'], [0, 300, 0, 350]) :\n",
    "\t\tanalysis_annotation.length_histplot(\n",
    "\t\t\tdata     = gene_annotation,\n",
    "\t\t\tvalue    = group,\n",
    "\t\t\tvline    = vline,\n",
    "\t\t\tfilename = os.path.join(OUT_PLOT, 'length-region-' + group.lower())\n",
    "\t\t)"
   ]
  },
  {
   "cell_type": "code",
   "execution_count": 29,
   "id": "a00ea6a6-05e9-40e9-ab99-437744975f94",
   "metadata": {
    "execution": {
     "iopub.execute_input": "2023-04-21T20:15:28.017542Z",
     "iopub.status.busy": "2023-04-21T20:15:28.017041Z",
     "iopub.status.idle": "2023-04-21T20:17:15.459940Z",
     "shell.execute_reply": "2023-04-21T20:17:15.459440Z",
     "shell.execute_reply.started": "2023-04-21T20:15:28.017542Z"
    }
   },
   "outputs": [
    {
     "data": {
      "image/png": "[encoded data removed]",
      "text/plain": [
       "<Figure size 1600x1000 with 1 Axes>"
      ]
     },
     "metadata": {},
     "output_type": "display_data"
    },
    {
     "data": {
      "image/png": "[encoded data removed]",
      "text/plain": [
       "<Figure size 1600x1000 with 1 Axes>"
      ]
     },
     "metadata": {},
     "output_type": "display_data"
    },
    {
     "data": {
      "image/png": "[encoded data removed]",
      "text/plain": [
       "<Figure size 1600x1000 with 1 Axes>"
      ]
     },
     "metadata": {},
     "output_type": "display_data"
    },
    {
     "data": {
      "image/png": "[encoded data removed]",
      "text/plain": [
       "<Figure size 1600x1000 with 1 Axes>"
      ]
     },
     "metadata": {},
     "output_type": "display_data"
    }
   ],
   "source": [
    "# Display the region length distributions per each region (grouped regions)\n",
    "\n",
    "dataframe = analysis_annotation.group_regions(\n",
    "\tdata    = gene_annotation,\n",
    "\tgroupby = 'Transcript',\n",
    "\tregions = ['mRNA', 'UTR5', 'CDS', 'UTR3']\n",
    ")\n",
    "\n",
    "with warnings.catch_warnings() :\n",
    "\twarnings.simplefilter('ignore')\n",
    "\n",
    "\tfor group, vline in zip(['mRNA', 'UTR5', 'CDS', 'UTR3'], [0, 300, 0, 350]) :\n",
    "\t\tanalysis_annotation.length_histplot(\n",
    "\t\t\tdata     = dataframe,\n",
    "\t\t\tvalue    = group,\n",
    "\t\t\tvline    = vline,\n",
    "\t\t\tfilename = os.path.join(OUT_PLOT, 'length-transcript-' + group.lower())\n",
    "\t\t)"
   ]
  },
  {
   "cell_type": "markdown",
   "id": "ad67d247-c18d-41ee-9ef6-403cbcb933f6",
   "metadata": {},
   "source": [
    "# 5. Groups"
   ]
  },
  {
   "cell_type": "code",
   "execution_count": 30,
   "id": "802ece55-f4b5-490a-a54a-0493557a42be",
   "metadata": {
    "execution": {
     "iopub.execute_input": "2023-04-21T20:17:15.460941Z",
     "iopub.status.busy": "2023-04-21T20:17:15.460941Z",
     "iopub.status.idle": "2023-04-21T20:17:15.475454Z",
     "shell.execute_reply": "2023-04-21T20:17:15.474953Z",
     "shell.execute_reply.started": "2023-04-21T20:17:15.460941Z"
    }
   },
   "outputs": [],
   "source": [
    "# Get the samples per tissue\n",
    "\n",
    "samples_tissue = dict()\n",
    "\n",
    "for group in tissue_metadata['Tissue'].unique() :\n",
    "\tsamples_tissue[group] = tissue_metadata[tissue_metadata['Tissue'] == group]['Sample'].tolist()"
   ]
  },
  {
   "cell_type": "markdown",
   "id": "1d9934db-7af6-40de-95c0-2a34fcbbe0b7",
   "metadata": {},
   "source": [
    "# 6. Statistics"
   ]
  },
  {
   "cell_type": "code",
   "execution_count": 31,
   "id": "456b1002-ec19-4372-ba75-1575f866cde3",
   "metadata": {
    "execution": {
     "iopub.execute_input": "2023-04-21T20:17:15.476955Z",
     "iopub.status.busy": "2023-04-21T20:17:15.476454Z",
     "iopub.status.idle": "2023-04-21T20:17:38.916113Z",
     "shell.execute_reply": "2023-04-21T20:17:38.915612Z",
     "shell.execute_reply.started": "2023-04-21T20:17:15.476955Z"
    },
    "tags": []
   },
   "outputs": [],
   "source": [
    "# Compute statistics for global\n",
    "\n",
    "transcripts = tissue_tpm.iloc[:, 0 ].values\n",
    "\n",
    "data = analysis_statistics.get_statistics_for(\n",
    "\tdataframe   = tissue_tpm,\n",
    "\ttranscripts = transcripts,\n",
    "\tgroup       = 'Global',\n",
    "\tdata        = None\n",
    ")"
   ]
  },
  {
   "cell_type": "code",
   "execution_count": 32,
   "id": "16525270-8273-4306-8f83-006e25796288",
   "metadata": {
    "execution": {
     "iopub.execute_input": "2023-04-21T20:17:38.917613Z",
     "iopub.status.busy": "2023-04-21T20:17:38.917113Z",
     "iopub.status.idle": "2023-04-21T20:17:58.400868Z",
     "shell.execute_reply": "2023-04-21T20:17:58.400368Z",
     "shell.execute_reply.started": "2023-04-21T20:17:38.917613Z"
    },
    "tags": []
   },
   "outputs": [],
   "source": [
    "# Compute statistics per tissue\n",
    "\n",
    "for tissue in samples_tissue.keys() :\n",
    "\tdata = analysis_statistics.get_statistics_for(\n",
    "\t\tdataframe   = tissue_tpm[samples_tissue[tissue]],\n",
    "\t\ttranscripts = transcripts,\n",
    "\t\tgroup       = tissue.capitalize(),\n",
    "\t\tdata        = data\n",
    "\t)"
   ]
  },
  {
   "cell_type": "code",
   "execution_count": 33,
   "id": "b12be6ca-62e9-4fce-97e8-97951f5521b6",
   "metadata": {
    "execution": {
     "iopub.execute_input": "2023-04-21T20:17:58.402369Z",
     "iopub.status.busy": "2023-04-21T20:17:58.401869Z",
     "iopub.status.idle": "2023-04-21T20:18:01.953425Z",
     "shell.execute_reply": "2023-04-21T20:18:01.952924Z",
     "shell.execute_reply.started": "2023-04-21T20:17:58.402369Z"
    },
    "tags": []
   },
   "outputs": [
    {
     "data": {
      "text/html": [
       "<div>\n",
       "<style scoped>\n",
       "    .dataframe tbody tr th:only-of-type {\n",
       "        vertical-align: middle;\n",
       "    }\n",
       "\n",
       "    .dataframe tbody tr th {\n",
       "        vertical-align: top;\n",
       "    }\n",
       "\n",
       "    .dataframe thead th {\n",
       "        text-align: right;\n",
       "    }\n",
       "</style>\n",
       "<table border=\"1\" class=\"dataframe\">\n",
       "  <thead>\n",
       "    <tr style=\"text-align: right;\">\n",
       "      <th></th>\n",
       "      <th></th>\n",
       "      <th>Mean</th>\n",
       "      <th>Min</th>\n",
       "      <th>Max</th>\n",
       "      <th>Median</th>\n",
       "      <th>StDev</th>\n",
       "      <th>Variance</th>\n",
       "      <th>P75</th>\n",
       "      <th>P25</th>\n",
       "      <th>Range</th>\n",
       "    </tr>\n",
       "    <tr>\n",
       "      <th>Transcript</th>\n",
       "      <th>Tissue</th>\n",
       "      <th></th>\n",
       "      <th></th>\n",
       "      <th></th>\n",
       "      <th></th>\n",
       "      <th></th>\n",
       "      <th></th>\n",
       "      <th></th>\n",
       "      <th></th>\n",
       "      <th></th>\n",
       "    </tr>\n",
       "  </thead>\n",
       "  <tbody>\n",
       "    <tr>\n",
       "      <th rowspan=\"9\" valign=\"top\">AT1G01010.1</th>\n",
       "      <th>Flower</th>\n",
       "      <td>6.646</td>\n",
       "      <td>2.385</td>\n",
       "      <td>23.810</td>\n",
       "      <td>5.379</td>\n",
       "      <td>3.834</td>\n",
       "      <td>14.696</td>\n",
       "      <td>7.495</td>\n",
       "      <td>3.980</td>\n",
       "      <td>21.425</td>\n",
       "    </tr>\n",
       "    <tr>\n",
       "      <th>Global</th>\n",
       "      <td>10.922</td>\n",
       "      <td>0.001</td>\n",
       "      <td>130.383</td>\n",
       "      <td>6.552</td>\n",
       "      <td>12.395</td>\n",
       "      <td>153.635</td>\n",
       "      <td>13.438</td>\n",
       "      <td>3.216</td>\n",
       "      <td>130.382</td>\n",
       "    </tr>\n",
       "    <tr>\n",
       "      <th>Leaf</th>\n",
       "      <td>5.918</td>\n",
       "      <td>0.001</td>\n",
       "      <td>89.863</td>\n",
       "      <td>3.506</td>\n",
       "      <td>7.922</td>\n",
       "      <td>62.766</td>\n",
       "      <td>6.478</td>\n",
       "      <td>1.950</td>\n",
       "      <td>89.862</td>\n",
       "    </tr>\n",
       "    <tr>\n",
       "      <th>Other</th>\n",
       "      <td>5.243</td>\n",
       "      <td>0.266</td>\n",
       "      <td>21.868</td>\n",
       "      <td>2.958</td>\n",
       "      <td>5.441</td>\n",
       "      <td>29.600</td>\n",
       "      <td>7.749</td>\n",
       "      <td>0.725</td>\n",
       "      <td>21.602</td>\n",
       "    </tr>\n",
       "    <tr>\n",
       "      <th>Root</th>\n",
       "      <td>26.687</td>\n",
       "      <td>0.938</td>\n",
       "      <td>130.383</td>\n",
       "      <td>26.008</td>\n",
       "      <td>16.548</td>\n",
       "      <td>273.846</td>\n",
       "      <td>32.579</td>\n",
       "      <td>16.964</td>\n",
       "      <td>129.445</td>\n",
       "    </tr>\n",
       "    <tr>\n",
       "      <th>Seed</th>\n",
       "      <td>7.109</td>\n",
       "      <td>0.359</td>\n",
       "      <td>61.140</td>\n",
       "      <td>4.877</td>\n",
       "      <td>8.883</td>\n",
       "      <td>78.916</td>\n",
       "      <td>6.635</td>\n",
       "      <td>3.305</td>\n",
       "      <td>60.780</td>\n",
       "    </tr>\n",
       "    <tr>\n",
       "      <th>Seedling</th>\n",
       "      <td>10.496</td>\n",
       "      <td>0.001</td>\n",
       "      <td>103.324</td>\n",
       "      <td>8.013</td>\n",
       "      <td>9.679</td>\n",
       "      <td>93.677</td>\n",
       "      <td>12.566</td>\n",
       "      <td>4.974</td>\n",
       "      <td>103.323</td>\n",
       "    </tr>\n",
       "    <tr>\n",
       "      <th>Senescence_Green</th>\n",
       "      <td>13.756</td>\n",
       "      <td>0.001</td>\n",
       "      <td>60.184</td>\n",
       "      <td>11.910</td>\n",
       "      <td>14.890</td>\n",
       "      <td>221.712</td>\n",
       "      <td>16.178</td>\n",
       "      <td>2.402</td>\n",
       "      <td>60.183</td>\n",
       "    </tr>\n",
       "    <tr>\n",
       "      <th>Senescence_Reproductive</th>\n",
       "      <td>0.453</td>\n",
       "      <td>0.001</td>\n",
       "      <td>2.265</td>\n",
       "      <td>0.302</td>\n",
       "      <td>0.581</td>\n",
       "      <td>0.337</td>\n",
       "      <td>0.534</td>\n",
       "      <td>0.001</td>\n",
       "      <td>2.264</td>\n",
       "    </tr>\n",
       "  </tbody>\n",
       "</table>\n",
       "</div>"
      ],
      "text/plain": [
       "                                      Mean   Min     Max  Median  StDev  \\\n",
       "Transcript  Tissue                                                        \n",
       "AT1G01010.1 Flower                   6.646 2.385  23.810   5.379  3.834   \n",
       "            Global                  10.922 0.001 130.383   6.552 12.395   \n",
       "            Leaf                     5.918 0.001  89.863   3.506  7.922   \n",
       "            Other                    5.243 0.266  21.868   2.958  5.441   \n",
       "            Root                    26.687 0.938 130.383  26.008 16.548   \n",
       "            Seed                     7.109 0.359  61.140   4.877  8.883   \n",
       "            Seedling                10.496 0.001 103.324   8.013  9.679   \n",
       "            Senescence_Green        13.756 0.001  60.184  11.910 14.890   \n",
       "            Senescence_Reproductive  0.453 0.001   2.265   0.302  0.581   \n",
       "\n",
       "                                     Variance    P75    P25   Range  \n",
       "Transcript  Tissue                                                   \n",
       "AT1G01010.1 Flower                     14.696  7.495  3.980  21.425  \n",
       "            Global                    153.635 13.438  3.216 130.382  \n",
       "            Leaf                       62.766  6.478  1.950  89.862  \n",
       "            Other                      29.600  7.749  0.725  21.602  \n",
       "            Root                      273.846 32.579 16.964 129.445  \n",
       "            Seed                       78.916  6.635  3.305  60.780  \n",
       "            Seedling                   93.677 12.566  4.974 103.323  \n",
       "            Senescence_Green          221.712 16.178  2.402  60.183  \n",
       "            Senescence_Reproductive     0.337  0.534  0.001   2.264  "
      ]
     },
     "execution_count": 33,
     "metadata": {},
     "output_type": "execute_result"
    }
   ],
   "source": [
    "# Statistics to dataframe\n",
    "\n",
    "dataframe = analysis_statistics.get_statistics_dataframe(\n",
    "\tdata = data\n",
    ")\n",
    "\n",
    "dataframe.head(n = 9)"
   ]
  },
  {
   "cell_type": "markdown",
   "id": "dfdac0da-f252-4287-90c0-16bc32d33b66",
   "metadata": {},
   "source": [
    "# 7. Save"
   ]
  },
  {
   "cell_type": "code",
   "execution_count": 34,
   "id": "64d6f5d7-46eb-4011-ba9a-1c996822a345",
   "metadata": {
    "execution": {
     "iopub.execute_input": "2023-04-21T20:18:01.954925Z",
     "iopub.status.busy": "2023-04-21T20:18:01.954426Z",
     "iopub.status.idle": "2023-04-21T20:20:38.666695Z",
     "shell.execute_reply": "2023-04-21T20:20:38.665694Z",
     "shell.execute_reply.started": "2023-04-21T20:18:01.954925Z"
    },
    "tags": []
   },
   "outputs": [],
   "source": [
    "# Save the updated and synchronized tables\n",
    "\n",
    "writer.write_csv(\n",
    "\tdata         = tissue_metadata,\n",
    "\tfilename     = os.path.join(OUT_DATA, 'tissue-metadata.csv'),\n",
    "\twrite_index  = False\n",
    ")\n",
    "\n",
    "writer.write_csv(\n",
    "\tdata        = tissue_tpm,\n",
    "\tfilename    = os.path.join(OUT_DATA, 'tissue-tpm.csv'),\n",
    "\twrite_index = False\n",
    ")\n",
    "\n",
    "writer.write_csv(\n",
    "\tdata        = gene_annotation,\n",
    "\tfilename    = os.path.join(OUT_DATA, 'gene-annotation.csv'),\n",
    "\twrite_index = False\n",
    ")\n",
    "\n",
    "writer.write_csv(\n",
    "\tdata        = dataframe,\n",
    "\tfilename    = os.path.join(OUT_DATA, 'statistics.csv'),\n",
    "\twrite_index = True\n",
    ")"
   ]
  }
 ],
 "metadata": {
  "kernelspec": {
   "display_name": "Python 3 (ipykernel)",
   "language": "python",
   "name": "python3"
  },
  "language_info": {
   "codemirror_mode": {
    "name": "ipython",
    "version": 3
   },
   "file_extension": ".py",
   "mimetype": "text/x-python",
   "name": "python",
   "nbconvert_exporter": "python",
   "pygments_lexer": "ipython3",
   "version": "3.10.7"
  }
 },
 "nbformat": 4,
 "nbformat_minor": 5
}
