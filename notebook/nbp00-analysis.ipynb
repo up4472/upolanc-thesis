{
 "cells": [
  {
   "cell_type": "code",
   "execution_count": null,
   "id": "a2411291-dbee-4f4c-9b0c-ddd7f968bf7f",
   "metadata": {
    "tags": []
   },
   "outputs": [],
   "source": [
    "# Libraries\n",
    "\n",
    "import matplotlib\n",
    "import numpy\n",
    "import os\n",
    "import pandas\n",
    "import platform\n",
    "import shutil\n",
    "import sys\n",
    "import warnings"
   ]
  },
  {
   "cell_type": "code",
   "execution_count": null,
   "id": "afc64c32-8d9f-4fc3-807f-448fbe6cacec",
   "metadata": {
    "tags": []
   },
   "outputs": [],
   "source": [
    "# Ensure source path\n",
    "\n",
    "ROOT = os.getcwd()\n",
    "\n",
    "while not ROOT.endswith('upolanc-thesis') :\n",
    "\tROOT = os.path.abspath(os.path.join(ROOT, os.pardir))\n",
    "\n",
    "\tif len(ROOT) < len('upolanc-thesis') :\n",
    "\t\tif   platform.system() == 'Linux'   : ROOT = '/d/hpc/projects/FRI/up4472/upolanc-thesis'\n",
    "\t\telif platform.system() == 'Windows' : ROOT = 'C:\\\\Developer\\\\Workspace\\\\PyCharm\\\\Projects\\\\upolanc-thesis'\n",
    "\t\telse : raise ValueError()\n",
    "\n",
    "\t\tprint(f'Warning : could not find correct directory, using default : {ROOT}')\n",
    "\t\tprint()\n",
    "\n",
    "\t\tbreak\n",
    "\n",
    "if ROOT not in sys.path :\n",
    "\tsys.path.append(ROOT)\n",
    "\n",
    "os.chdir(ROOT)"
   ]
  },
  {
   "cell_type": "code",
   "execution_count": null,
   "id": "d6f6e2b9-f88d-4ee7-a1f7-6bf6eaaa2313",
   "metadata": {},
   "outputs": [],
   "source": [
    "# Code\n",
    "\n",
    "from source.python               import runtime\n",
    "from source.python.data.analysis import analysis_annotation\n",
    "from source.python.data.analysis import analysis_assembly\n",
    "from source.python.data.analysis import analysis_metadata\n",
    "from source.python.data.analysis import analysis_statistics\n",
    "from source.python.data.analysis import analysis_tpm\n",
    "from source.python.io            import loader\n",
    "from source.python.io            import writer\n",
    "\n",
    "runtime.set_numpy_format()\n",
    "runtime.set_pandas_format()\n",
    "runtime.set_plot_theme()"
   ]
  },
  {
   "cell_type": "markdown",
   "id": "4032f1bf-215a-431f-a66d-63b42ddecb86",
   "metadata": {},
   "source": [
    "# 1. Setup"
   ]
  },
  {
   "cell_type": "code",
   "execution_count": null,
   "id": "8daced39-52a6-4b8f-b90a-a39c192a8830",
   "metadata": {
    "tags": []
   },
   "outputs": [],
   "source": [
    "# Setup some directory paths\n",
    "\n",
    "CWD = ROOT\n",
    "OUT = os.path.join(CWD, 'output')\n",
    "RES = os.path.join(CWD, 'resources')\n",
    "\n",
    "OUT_DATA   = os.path.join(OUT,      'nbp00-analysis')\n",
    "OUT_PLOT   = os.path.join(OUT_DATA, 'plot')\n",
    "RES_GENOME = os.path.join(RES,      'genome')\n",
    "\n",
    "shutil.rmtree(OUT_DATA, ignore_errors = True)\n",
    "\n",
    "os.makedirs(OUT_DATA, exist_ok = True)\n",
    "os.makedirs(OUT_PLOT, exist_ok = True)\n",
    "\n",
    "print(f'     Root Directory : {CWD}')\n",
    "print(f'   Output Directory : {OUT_DATA}')\n",
    "print(f' Resource Directory : {RES_GENOME}')\n",
    "print()"
   ]
  },
  {
   "cell_type": "code",
   "execution_count": null,
   "id": "2e5afd2a-0de9-4222-b896-1bcc6ea7ba55",
   "metadata": {
    "tags": []
   },
   "outputs": [],
   "source": [
    "# Load and clean (remove non-relevant columns, rename columns to same format, etc..)\n",
    "\n",
    "data = loader.load_resources(\n",
    "\tdirectory = RES_GENOME,\n",
    "\tplant     = 'arabidopsis-r36',\n",
    "\tclean     = True\n",
    ")\n",
    "\n",
    "gene_annotation = data['gene_annotation']\n",
    "gene_assembly   = data['gene_assembly']\n",
    "tissue_metadata = data['tissue_metadata']\n",
    "tissue_tpm      = data['tissue_tpm']"
   ]
  },
  {
   "cell_type": "markdown",
   "id": "ef9ad7cf-9e32-43b4-976f-4252b6293605",
   "metadata": {},
   "source": [
    "# 2. Sync"
   ]
  },
  {
   "cell_type": "code",
   "execution_count": null,
   "id": "054fcdd3-5ce3-48e6-9ebf-01aa4bda0421",
   "metadata": {
    "tags": []
   },
   "outputs": [],
   "source": [
    "# Drop mt and pt sequence annotations\n",
    "\n",
    "mt = gene_annotation[(gene_annotation['Seq'] == 'Mt') & (gene_annotation['Type'] == 'mRNA')]\n",
    "pt = gene_annotation[(gene_annotation['Seq'] == 'Pt') & (gene_annotation['Type'] == 'mRNA')]\n",
    "\n",
    "print(f'Transcript (Mt) : ' + '{:}'.format(len(mt)))\n",
    "print(f'Transcript (Pt) : ' + '{:}'.format(len(pt)))\n",
    "print()\n",
    "\n",
    "gcount = gene_annotation['Gene'].nunique()\n",
    "tcount = gene_annotation['Transcript'].nunique()\n",
    "\n",
    "gene_annotation = gene_annotation[~gene_annotation['Seq'].isin(['Pt'])]\n",
    "gene_annotation = gene_annotation[~gene_annotation['Seq'].isin(['Mt'])]\n",
    "\n",
    "print('Gene       : {:} -> {:}'.format(gcount, gene_annotation['Gene'].nunique(dropna = True)))\n",
    "print('Transcript : {:} -> {:}'.format(tcount, gene_annotation['Transcript'].nunique(dropna = True)))\n",
    "print()"
   ]
  },
  {
   "cell_type": "code",
   "execution_count": null,
   "id": "a9ab2204-287c-48b8-a4d6-2f5692d73c38",
   "metadata": {},
   "outputs": [],
   "source": [
    "# Check for sample matching between tpm and metadata tables\n",
    "\n",
    "x = set(tissue_metadata['Sample'].dropna())\n",
    "y = set(tissue_tpm.columns[1:].dropna())\n",
    "\n",
    "sample_i = list(x.intersection(y))\n",
    "sample_x = list(x.difference(y))\n",
    "sample_y = list(y.difference(x))\n",
    "\n",
    "print(f'Samples in <tissue-metadata> : {len(sample_i)} / {len(x)}')\n",
    "print(f'Samples in <tissue-tpm>      : {len(sample_i)} / {len(y)}')\n",
    "print()\n",
    "print(f'Samples missing in <tissue-metadata> : [{len(sample_y)}] ' + ' '.join(sample_y[:5]) + (' ...' if len(sample_y) > 5 else ''))\n",
    "print(f'Samples missing in <tissue-tpm>      : [{len(sample_x)}] ' + ' '.join(sample_x[:5]) + (' ...' if len(sample_x) > 5 else ''))\n",
    "print()\n",
    "\n",
    "if len(sample_x) > 0 :\n",
    "\ttissue_metadata = tissue_metadata[~tissue_metadata['Sample'].isin(sample_x)]\n",
    "\n",
    "if len(sample_y) > 0 :\n",
    "\ttissue_tpm = tissue_tpm.drop(columns = sample_y)"
   ]
  },
  {
   "cell_type": "markdown",
   "id": "2ef2e1af-31d4-4f13-aafe-db0438f2b471",
   "metadata": {},
   "source": [
    "# 3. Data"
   ]
  },
  {
   "cell_type": "markdown",
   "id": "afed2fab-7e59-4005-95de-1f33491c5932",
   "metadata": {},
   "source": [
    "## 3.1 Gene Annotation"
   ]
  },
  {
   "cell_type": "code",
   "execution_count": null,
   "id": "6008fbd9-8dcf-4d66-bdb4-aa01929879ca",
   "metadata": {},
   "outputs": [],
   "source": [
    "# Show the first few gene annotations\n",
    "\n",
    "analysis_annotation.show(gene_annotation)"
   ]
  },
  {
   "cell_type": "code",
   "execution_count": null,
   "id": "965fa9b8-d793-44bc-b460-8e9b29aeccbc",
   "metadata": {},
   "outputs": [],
   "source": [
    "# Inspect gene annotation columns, and dispay the number of unique values (as well as the first few values)\n",
    "\n",
    "analysis_annotation.inspect_columns(\n",
    "\tdata    = gene_annotation,\n",
    "\tcolumns = None\n",
    ")"
   ]
  },
  {
   "cell_type": "code",
   "execution_count": null,
   "id": "211c50d9-6d5f-421b-ad3d-fefcafbba85a",
   "metadata": {},
   "outputs": [],
   "source": [
    "# Display a full gene with all its regions\n",
    "\n",
    "analysis_annotation.show(\n",
    "\tdata     = gene_annotation,\n",
    "\tquery    = 'AT1G01010.1',\n",
    "\tquery_by = 'Transcript',\n",
    "\trows     = None\n",
    ")"
   ]
  },
  {
   "cell_type": "code",
   "execution_count": null,
   "id": "f227cd41-4a8d-4593-aabb-00e6cd951eb1",
   "metadata": {},
   "outputs": [],
   "source": [
    "# Print number of genes and transcripts\n",
    "\n",
    "print('      Gene IDs : {:,}'.format(gene_annotation['Gene'].nunique(dropna = True)))\n",
    "print('Transcript IDs : {:,}'.format(gene_annotation['Transcript'].nunique(dropna = True)))\n",
    "print()"
   ]
  },
  {
   "cell_type": "code",
   "execution_count": null,
   "id": "e30a9a4b-50c7-4877-949f-15457793f5b4",
   "metadata": {},
   "outputs": [],
   "source": [
    "# Display region type count per gene\n",
    "\n",
    "analysis_annotation.type_distribution(\n",
    "\tdata    = gene_annotation,\n",
    "\tgroupby = 'Transcript',\n",
    "\tregions = ['mRNA', 'UTR5', 'CDS', 'UTR3']\n",
    ")"
   ]
  },
  {
   "cell_type": "code",
   "execution_count": null,
   "id": "95b7e389-99d0-4196-849a-6d6c982913ff",
   "metadata": {},
   "outputs": [],
   "source": [
    "# Display the region length statistics per each region\n",
    "\n",
    "analysis_annotation.length_statistics(\n",
    "\tdata = gene_annotation\n",
    ")"
   ]
  },
  {
   "cell_type": "markdown",
   "id": "289c371e-37fd-4274-8974-c3e4a496719c",
   "metadata": {},
   "source": [
    "## 3.2 Gene Assembly"
   ]
  },
  {
   "cell_type": "code",
   "execution_count": null,
   "id": "e2d6b2c1-79e4-4b1e-bcab-12381c2e0137",
   "metadata": {},
   "outputs": [],
   "source": [
    "# Display the length and short nucleotide sequences for each chromosome\n",
    "\n",
    "analysis_assembly.show(\n",
    "\tdata = gene_assembly,\n",
    "\thead = 25,\n",
    "\ttail = 25\n",
    ")"
   ]
  },
  {
   "cell_type": "code",
   "execution_count": null,
   "id": "166702dc-69b3-4aaf-b609-dcf88bed6026",
   "metadata": {},
   "outputs": [],
   "source": [
    "# Display the nucleotide frequency withing each chromosome\n",
    "\n",
    "analysis_assembly.show_nucleotide_frequency(\n",
    "\tdata     = gene_assembly,\n",
    "\trelative = False\n",
    ")"
   ]
  },
  {
   "cell_type": "markdown",
   "id": "8f9cac96-e1ec-4fbb-af55-0d45876d5e1d",
   "metadata": {},
   "source": [
    "## 3.3 Tissue Metadata"
   ]
  },
  {
   "cell_type": "code",
   "execution_count": null,
   "id": "6cba9fee-b173-416c-aad3-dc08f4d9932b",
   "metadata": {},
   "outputs": [],
   "source": [
    "# Display the first few annotated samples\n",
    "\n",
    "analysis_metadata.show(tissue_metadata)"
   ]
  },
  {
   "cell_type": "code",
   "execution_count": null,
   "id": "3ae4612d-d1a2-4ee6-965f-ec2347b67f3a",
   "metadata": {},
   "outputs": [],
   "source": [
    "# Inspect sample annotation columns, and dispay the number of unique values (as well as the first few values)\n",
    "\n",
    "analysis_metadata.inspect_columns(\n",
    "\tdata    = tissue_metadata,\n",
    "\tcolumns = None\n",
    ")"
   ]
  },
  {
   "cell_type": "code",
   "execution_count": null,
   "id": "61aa7b18-23cc-40a5-8af6-8ab93601cf34",
   "metadata": {},
   "outputs": [],
   "source": [
    "# Display tissue samples\n",
    "\n",
    "template = '{:' + str(tissue_metadata['Tissue'].str.len().max()) + 's} : {:4d} [{:6.2f} %]'\n",
    "\n",
    "for tissue, dataframe in tissue_metadata.groupby('Tissue') :\n",
    "\tlength  = len(dataframe)\n",
    "\tpercent = 100 * length / len(tissue_metadata)\n",
    "\n",
    "\tprint(template.format(tissue, length, percent))\n",
    "\n",
    "print()"
   ]
  },
  {
   "cell_type": "code",
   "execution_count": null,
   "id": "08f55504-3caa-42c0-9bb4-7795feee4160",
   "metadata": {},
   "outputs": [],
   "source": [
    "# Display age samples\n",
    "\n",
    "template = '{:' + str(tissue_metadata['Age'].str.len().max()) + 's} : {:4d} [{:6.2f} %]'\n",
    "\n",
    "for age, dataframe in tissue_metadata.groupby('Age') :\n",
    "\tlength  = len(dataframe)\n",
    "\tpercent = 100 * length / len(tissue_metadata)\n",
    "\n",
    "\tprint(template.format(age, length, percent))\n",
    "\n",
    "print()"
   ]
  },
  {
   "cell_type": "code",
   "execution_count": null,
   "id": "09840625-8cfa-42db-b7c4-336616ee59ac",
   "metadata": {},
   "outputs": [],
   "source": [
    "# Display group samples\n",
    "\n",
    "template = '{:' + str(tissue_metadata['Group'].str.len().max()) + 's} : {:4d} [{:6.2f} %]'\n",
    "\n",
    "for group, dataframe in tissue_metadata.groupby('Group') :\n",
    "\tlength  = len(dataframe)\n",
    "\tpercent = 100 * length / len(tissue_metadata)\n",
    "\n",
    "\tprint(template.format(group, length, percent))\n",
    "\n",
    "print()"
   ]
  },
  {
   "cell_type": "code",
   "execution_count": null,
   "id": "6f4c2c05-82ee-49c0-a1e3-99947f5703a6",
   "metadata": {},
   "outputs": [],
   "source": [
    "# Display perturbation samples\n",
    "\n",
    "template = '{:' + str(tissue_metadata['Perturbation'].str.len().max()) + 's} : {:4d} [{:6.2f} %]'\n",
    "\n",
    "for group, dataframe in tissue_metadata.groupby('Perturbation') :\n",
    "\tlength  = len(dataframe)\n",
    "\tpercent = 100 * length / len(tissue_metadata)\n",
    "\n",
    "\tprint(template.format(group, length, percent))"
   ]
  },
  {
   "cell_type": "markdown",
   "id": "4331d52a-682c-4b18-8be3-55536316c939",
   "metadata": {},
   "source": [
    "## 3.4 Tissue TPM"
   ]
  },
  {
   "cell_type": "code",
   "execution_count": null,
   "id": "0ac3ad9f-6054-4564-8c7c-fea95d2caf70",
   "metadata": {},
   "outputs": [],
   "source": [
    "# Display the first few tpm values\n",
    "\n",
    "analysis_tpm.show(tissue_tpm)"
   ]
  },
  {
   "cell_type": "code",
   "execution_count": null,
   "id": "3d1f931b-7078-48c3-8299-495dbbd3401d",
   "metadata": {},
   "outputs": [],
   "source": [
    "# Print the global tpm statistics\n",
    "\n",
    "matrix = tissue_tpm.iloc[:, 1:].to_numpy()\n",
    "\n",
    "print('   Max TPM : {:13,.5f}'.format(numpy.max(matrix)))\n",
    "print('  Mean TPM : {:13,.5f}'.format(numpy.mean(matrix)))\n",
    "print('Median TPM : {:13,.5f}'.format(numpy.median(matrix)))\n",
    "print('   Min TPM : {:13,.5f}'.format(numpy.min(matrix)))\n",
    "print()"
   ]
  },
  {
   "cell_type": "code",
   "execution_count": null,
   "id": "025862fb-41b9-4f3d-9c36-1bf2e1affae6",
   "metadata": {},
   "outputs": [],
   "source": [
    "# Print the amoutn of tpm reading below or equal 1.0\n",
    "\n",
    "matrix = tissue_tpm.iloc[:, 1:].to_numpy()\n",
    "\n",
    "total = numpy.size(matrix)\n",
    "where = numpy.count_nonzero(matrix <= 1.0)\n",
    "other = total - where\n",
    "\n",
    "print('   Total elements : {:11,d}'.format(total))\n",
    "print('Non Zero elements : {:11,d} [{:5.2f} %]'.format(where, 100 * where / total))\n",
    "print('    Zero elements : {:11,d} [{:5.2f} %]'.format(other, 100 * other / total))\n",
    "print()"
   ]
  },
  {
   "cell_type": "code",
   "execution_count": null,
   "id": "d3f343d3-c560-47e5-ad94-1557e6e5ea06",
   "metadata": {},
   "outputs": [],
   "source": [
    "# Print the amoutn of tpm reading below or equal 0.0\n",
    "\n",
    "matrix = tissue_tpm.iloc[:, 1:].to_numpy()\n",
    "\n",
    "total = numpy.size(matrix)\n",
    "where = numpy.count_nonzero(matrix <= 0.0)\n",
    "other = total - where\n",
    "\n",
    "print('Elements          : {:11,d}'.format(total))\n",
    "print('Elements <= 0.000 : {:11,d} [{:5.2f} %]'.format(where, 100 * where / total))\n",
    "print('Elements >  0.000 : {:11,d} [{:5.2f} %]'.format(other, 100 * other / total))\n",
    "print()"
   ]
  },
  {
   "cell_type": "code",
   "execution_count": null,
   "id": "226af209-3269-4c0c-9e72-b526fcb4bec0",
   "metadata": {},
   "outputs": [],
   "source": [
    "# Add small shift to zeros\n",
    "\n",
    "tissue_tpm = tissue_tpm.replace(to_replace = 0.0, value = 0.001, inplace = False)\n",
    "\n",
    "matrix = tissue_tpm.iloc[:, 1:].to_numpy()\n",
    "\n",
    "total = numpy.size(matrix)\n",
    "where = numpy.count_nonzero(matrix <= 0.001)\n",
    "other = total - where\n",
    "\n",
    "print('Elements          : {:11,d}'.format(total))\n",
    "print('Elements <= 0.001 : {:11,d} [{:5.2f} %]'.format(where, 100 * where / total))\n",
    "print('Elements >  0.001 : {:11,d} [{:5.2f} %]'.format(other, 100 * other / total))\n",
    "print()"
   ]
  },
  {
   "cell_type": "markdown",
   "id": "6defc4c9-1cf4-4fe9-82ff-f9fc96bcb018",
   "metadata": {},
   "source": [
    "# 4. Plots"
   ]
  },
  {
   "cell_type": "code",
   "execution_count": null,
   "id": "84044362-6f7e-4d5c-a6cd-a8f972533260",
   "metadata": {
    "tags": []
   },
   "outputs": [],
   "source": [
    "# Display the distribution of groups for all samples\n",
    "\n",
    "for group in ['tissue', 'age', 'group', 'perturbation'] :\n",
    "\tanalysis_metadata.distribution_barplot(\n",
    "\t\tdata     = tissue_metadata,\n",
    "\t\tgroup    = group.capitalize(),\n",
    "\t\tfilename = os.path.join(OUT_PLOT, 'distribution-' + group)\n",
    "\t)\n",
    "\n",
    "\tmatplotlib.pyplot.show()"
   ]
  },
  {
   "cell_type": "code",
   "execution_count": null,
   "id": "7a509eec-004d-4028-af26-e327b6a7f4ba",
   "metadata": {
    "tags": []
   },
   "outputs": [],
   "source": [
    "# Display the region length distributions per each region\n",
    "\n",
    "with warnings.catch_warnings() :\n",
    "\twarnings.simplefilter('ignore')\n",
    "\n",
    "\tfor group, vline in zip(['mRNA', 'UTR5', 'CDS', 'UTR3'], [0, 300, 0, 350]) :\n",
    "\t\tanalysis_annotation.length_histplot(\n",
    "\t\t\tdata        = gene_annotation,\n",
    "\t\t\tvalue       = group,\n",
    "\t\t\tvline       = vline,\n",
    "\t\t\tlinewidth   = 4,\n",
    "\t\t\tshow_xlabel = False,\n",
    "\t\t\tshow_ylabel = False,\n",
    "\t\t\tfilename    = os.path.join(OUT_PLOT, 'length-region-' + group.lower())\n",
    "\t\t)"
   ]
  },
  {
   "cell_type": "code",
   "execution_count": null,
   "id": "a00ea6a6-05e9-40e9-ab99-437744975f94",
   "metadata": {
    "tags": []
   },
   "outputs": [],
   "source": [
    "# Display the region length distributions per each region (grouped regions)\n",
    "\n",
    "dataframe = analysis_annotation.group_regions(\n",
    "\tdata    = gene_annotation,\n",
    "\tgroupby = 'Transcript',\n",
    "\tregions = ['mRNA', 'UTR5', 'CDS', 'UTR3']\n",
    ")\n",
    "\n",
    "with warnings.catch_warnings() :\n",
    "\twarnings.simplefilter('ignore')\n",
    "\n",
    "\tfor group, vline in zip(['mRNA', 'UTR5', 'CDS', 'UTR3'], [0, 300, 0, 350]) :\n",
    "\t\tanalysis_annotation.length_histplot(\n",
    "\t\t\tdata        = dataframe,\n",
    "\t\t\tvalue       = group,\n",
    "\t\t\tvline       = vline,\n",
    "\t\t\tlinewidth   = 4,\n",
    "\t\t\tshow_xlabel = False,\n",
    "\t\t\tshow_ylabel = False,\n",
    "\t\t\tfilename    = os.path.join(OUT_PLOT, 'length-transcript-' + group.lower())\n",
    "\t\t)"
   ]
  },
  {
   "cell_type": "markdown",
   "id": "ad67d247-c18d-41ee-9ef6-403cbcb933f6",
   "metadata": {},
   "source": [
    "# 5. Groups"
   ]
  },
  {
   "cell_type": "code",
   "execution_count": null,
   "id": "802ece55-f4b5-490a-a54a-0493557a42be",
   "metadata": {
    "tags": []
   },
   "outputs": [],
   "source": [
    "# Get the samples per tissue\n",
    "\n",
    "samples_tissue = dict()\n",
    "\n",
    "for group in tissue_metadata['Tissue'].unique() :\n",
    "\tsamples_tissue[group] = tissue_metadata[tissue_metadata['Tissue'] == group]['Sample'].tolist()\n",
    "\n",
    "for group in tissue_metadata['Group'].unique() :\n",
    "\tsamples_tissue[group] = tissue_metadata[tissue_metadata['Group'] == group]['Sample'].tolist()"
   ]
  },
  {
   "cell_type": "markdown",
   "id": "1d9934db-7af6-40de-95c0-2a34fcbbe0b7",
   "metadata": {},
   "source": [
    "# 6. Statistics"
   ]
  },
  {
   "cell_type": "code",
   "execution_count": null,
   "id": "5ba584ea-2670-444b-adf7-8618254cc7a8",
   "metadata": {},
   "outputs": [],
   "source": [
    "# Define transcripts\n",
    "\n",
    "transcripts = tissue_tpm.iloc[:, 0 ].values"
   ]
  },
  {
   "cell_type": "code",
   "execution_count": null,
   "id": "456b1002-ec19-4372-ba75-1575f866cde3",
   "metadata": {
    "tags": []
   },
   "outputs": [],
   "source": [
    "# Compute basic statistics\n",
    "\n",
    "dataframes = [\n",
    "\tanalysis_statistics.generate_basic_statistics(\n",
    "\t\tdata       = tissue_tpm[samples_tissue[tissue]],\n",
    "\t\ttranscript = transcripts,\n",
    "\t\ttissue     = tissue,\n",
    "\t\taxis       = 1\n",
    "\t)\n",
    "\n",
    "\tfor tissue in samples_tissue.keys()\n",
    "]\n",
    "\n",
    "dataframes.append(\n",
    "\tanalysis_statistics.generate_basic_statistics(\n",
    "\t\tdata       = tissue_tpm,\n",
    "\t\ttranscript = transcripts,\n",
    "\t\ttissue     = 'Global',\n",
    "\t\taxis       = 1\n",
    "\t)\n",
    ")\n",
    "\n",
    "statistic_basic = pandas.concat(dataframes).set_index(['Transcript', 'Tissue'])\n",
    "statistic_basic.xs('AT1G01010.1', level = 0)"
   ]
  },
  {
   "cell_type": "code",
   "execution_count": null,
   "id": "16525270-8273-4306-8f83-006e25796288",
   "metadata": {
    "tags": []
   },
   "outputs": [],
   "source": [
    "# Compute advance statistics\n",
    "\n",
    "dataframes = [\n",
    "\tanalysis_statistics.genearte_advance_statistics(\n",
    "\t\tdata       = tissue_tpm[samples_tissue[tissue]],\n",
    "\t\ttranscript = transcripts,\n",
    "\t\ttissue     = tissue,\n",
    "\t\taxis       = 1\n",
    "\t)\n",
    "\n",
    "\tfor tissue in samples_tissue.keys()\n",
    "]\n",
    "\n",
    "dataframes.append(\n",
    "\tanalysis_statistics.genearte_advance_statistics(\n",
    "\t\tdata       = tissue_tpm,\n",
    "\t\ttranscript = transcripts,\n",
    "\t\ttissue     = 'Global',\n",
    "\t\taxis       = 1\n",
    "\t)\n",
    ")\n",
    "\n",
    "statistic_advance = pandas.concat(dataframes).set_index(['Transcript', 'Tissue'])\n",
    "statistic_advance.xs('AT1G01010.1', level = 0)"
   ]
  },
  {
   "cell_type": "code",
   "execution_count": null,
   "id": "b12be6ca-62e9-4fce-97e8-97951f5521b6",
   "metadata": {
    "tags": []
   },
   "outputs": [],
   "source": [
    "# Compute normality statistics\n",
    "\n",
    "with warnings.catch_warnings() :\n",
    "\twarnings.simplefilter('ignore')\n",
    "\n",
    "\tdataframes = [\n",
    "\t\tanalysis_statistics.generate_normality_statistics(\n",
    "\t\t\tdata       = tissue_tpm[samples_tissue[tissue]],\n",
    "\t\t\ttranscript = transcripts,\n",
    "\t\t\ttissue     = tissue\n",
    "\t\t)\n",
    "\n",
    "\t\tfor tissue in samples_tissue.keys()\n",
    "\t]\n",
    "\n",
    "\tdataframes.append(\n",
    "\t\tanalysis_statistics.generate_normality_statistics(\n",
    "\t\t\tdata       = tissue_tpm,\n",
    "\t\t\ttranscript = transcripts,\n",
    "\t\t\ttissue     = 'Global'\n",
    "\t\t)\n",
    "\t)\n",
    "\n",
    "statistic_normality = pandas.concat(dataframes).set_index(['Transcript', 'Tissue'])\n",
    "statistic_normality.xs('AT1G01010.1', level = 0)"
   ]
  },
  {
   "cell_type": "markdown",
   "id": "dfdac0da-f252-4287-90c0-16bc32d33b66",
   "metadata": {},
   "source": [
    "# 7. Save"
   ]
  },
  {
   "cell_type": "code",
   "execution_count": null,
   "id": "64d6f5d7-46eb-4011-ba9a-1c996822a345",
   "metadata": {
    "tags": []
   },
   "outputs": [],
   "source": [
    "# Save the updated and synchronized tables\n",
    "\n",
    "writer.write_csv(\n",
    "\tdata         = tissue_metadata,\n",
    "\tfilename     = os.path.join(OUT_DATA, 'tissue-metadata.csv'),\n",
    "\twrite_index  = False\n",
    ")\n",
    "\n",
    "writer.write_csv(\n",
    "\tdata        = tissue_tpm,\n",
    "\tfilename    = os.path.join(OUT_DATA, 'tissue-tpm.csv'),\n",
    "\twrite_index = False\n",
    ")\n",
    "\n",
    "writer.write_csv(\n",
    "\tdata        = gene_annotation,\n",
    "\tfilename    = os.path.join(OUT_DATA, 'gene-annotation.csv'),\n",
    "\twrite_index = False\n",
    ")\n",
    "\n",
    "writer.write_csv(\n",
    "\tdata        = statistic_basic,\n",
    "\tfilename    = os.path.join(OUT_DATA, 'statistics-basic.csv'),\n",
    "\twrite_index = True\n",
    ")\n",
    "\n",
    "writer.write_csv(\n",
    "\tdata        = statistic_advance,\n",
    "\tfilename    = os.path.join(OUT_DATA, 'statistics-advance.csv'),\n",
    "\twrite_index = True\n",
    ")\n",
    "\n",
    "writer.write_csv(\n",
    "\tdata        = statistic_normality,\n",
    "\tfilename    = os.path.join(OUT_DATA, 'statistics-normality.csv'),\n",
    "\twrite_index = True\n",
    ")"
   ]
  }
 ],
 "metadata": {
  "kernelspec": {
   "display_name": "Python 3 (ipykernel)",
   "language": "python",
   "name": "python3"
  },
  "language_info": {
   "codemirror_mode": {
    "name": "ipython",
    "version": 3
   },
   "file_extension": ".py",
   "mimetype": "text/x-python",
   "name": "python",
   "nbconvert_exporter": "python",
   "pygments_lexer": "ipython3",
   "version": "3.10.7"
  }
 },
 "nbformat": 4,
 "nbformat_minor": 5
}
