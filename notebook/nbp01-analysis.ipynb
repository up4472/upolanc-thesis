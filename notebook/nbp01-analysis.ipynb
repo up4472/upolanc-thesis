{
 "cells": [
  {
   "cell_type": "code",
   "execution_count": 1,
   "id": "1f25eb7c-230c-4c7d-bf05-94e980e5f1a3",
   "metadata": {
    "execution": {
     "iopub.execute_input": "2023-03-11T06:22:01.131868Z",
     "iopub.status.busy": "2023-03-11T06:22:01.131368Z",
     "iopub.status.idle": "2023-03-11T06:22:02.050658Z",
     "shell.execute_reply": "2023-03-11T06:22:02.049657Z",
     "shell.execute_reply.started": "2023-03-11T06:22:01.131868Z"
    },
    "tags": []
   },
   "outputs": [],
   "source": [
    "# Libraries\n",
    "\n",
    "import matplotlib\n",
    "import numpy\n",
    "import os\n",
    "import platform\n",
    "import shutil\n",
    "import sys\n",
    "import warnings"
   ]
  },
  {
   "cell_type": "code",
   "execution_count": 2,
   "id": "515d2035-d2d1-454e-84aa-47a84c2b3ce7",
   "metadata": {
    "execution": {
     "iopub.execute_input": "2023-03-11T06:22:02.053160Z",
     "iopub.status.busy": "2023-03-11T06:22:02.052660Z",
     "iopub.status.idle": "2023-03-11T06:22:02.066171Z",
     "shell.execute_reply": "2023-03-11T06:22:02.065170Z",
     "shell.execute_reply.started": "2023-03-11T06:22:02.053160Z"
    },
    "tags": []
   },
   "outputs": [],
   "source": [
    "# Ensure source path\n",
    "\n",
    "ROOT = os.getcwd()\n",
    "\n",
    "while not ROOT.endswith('upolanc-thesis') :\n",
    "\tROOT = os.path.abspath(os.path.join(ROOT, os.pardir))\n",
    "\n",
    "\tif len(ROOT) < len('upolanc-thesis') :\n",
    "\t\tif   platform.system() == 'Linux' :\n",
    "\t\t\tROOT = '/d/hpc/home/up4472/workspace/upolanc-thesis'\n",
    "\t\telif platform.system() == 'Windows' :\n",
    "\t\t\tROOT = 'C:\\\\Developer\\\\Workspace\\\\PyCharm\\\\Projects\\\\upolanc-thesis'\n",
    "\t\telse :\n",
    "\t\t\traise ValueError()\n",
    "\n",
    "\t\tprint(f'Warning : could not find correct directory, using default : {ROOT}')\n",
    "\t\tbreak\n",
    "\n",
    "if ROOT not in sys.path :\n",
    "\tsys.path.append(ROOT)\n",
    "\n",
    "os.chdir(ROOT)"
   ]
  },
  {
   "cell_type": "code",
   "execution_count": 3,
   "id": "f91d0765-eef6-4208-8c86-093f9d25a621",
   "metadata": {
    "execution": {
     "iopub.execute_input": "2023-03-11T06:22:02.067672Z",
     "iopub.status.busy": "2023-03-11T06:22:02.067172Z",
     "iopub.status.idle": "2023-03-11T06:22:12.738340Z",
     "shell.execute_reply": "2023-03-11T06:22:12.737839Z",
     "shell.execute_reply.started": "2023-03-11T06:22:02.067672Z"
    },
    "tags": []
   },
   "outputs": [],
   "source": [
    "# Code\n",
    "\n",
    "from source.python.data.analysis import analysis_annotation\n",
    "from source.python.data.analysis import analysis_assembly\n",
    "from source.python.data.analysis import analysis_metadata\n",
    "from source.python.data.analysis import analysis_tpm\n",
    "from source.python.io            import loader\n",
    "from source.python.io            import writer\n",
    "from source.python               import runtime\n",
    "\n",
    "runtime.set_numpy_format()\n",
    "runtime.set_pandas_format()\n",
    "runtime.set_plot_theme()"
   ]
  },
  {
   "cell_type": "markdown",
   "id": "facb54aa-3adb-4deb-a89b-3b45540d9a5f",
   "metadata": {},
   "source": [
    "# 1. Setup"
   ]
  },
  {
   "cell_type": "code",
   "execution_count": 4,
   "id": "a2deb09c-2a4e-4701-a2cd-6e9d7c706daf",
   "metadata": {
    "execution": {
     "iopub.execute_input": "2023-03-11T06:22:12.739841Z",
     "iopub.status.busy": "2023-03-11T06:22:12.739341Z",
     "iopub.status.idle": "2023-03-11T06:22:12.753852Z",
     "shell.execute_reply": "2023-03-11T06:22:12.753352Z",
     "shell.execute_reply.started": "2023-03-11T06:22:12.739841Z"
    },
    "tags": []
   },
   "outputs": [
    {
     "name": "stdout",
     "output_type": "stream",
     "text": [
      "     Root Directory : C:\\Developer\\Workspace\\PyCharm\\Projects\\upolanc-thesis\n",
      "   Output Directory : C:\\Developer\\Workspace\\PyCharm\\Projects\\upolanc-thesis\\output\\nbp01-analysis\n",
      "   Output Directory : C:\\Developer\\Workspace\\PyCharm\\Projects\\upolanc-thesis\\output\\nbp01-analysis\\plot\n",
      " Resource Directory : C:\\Developer\\Workspace\\PyCharm\\Projects\\upolanc-thesis\\resources\\genome\n"
     ]
    }
   ],
   "source": [
    "# Setup some directory paths\n",
    "\n",
    "CWD = ROOT\n",
    "OUT = os.path.join(CWD, 'output')\n",
    "RES = os.path.join(CWD, 'resources')\n",
    "\n",
    "OUT_DATA   = os.path.join(OUT,      'nbp01-analysis')\n",
    "OUT_PLOT   = os.path.join(OUT_DATA, 'plot')\n",
    "RES_GENOME = os.path.join(RES,      'genome')\n",
    "\n",
    "shutil.rmtree(OUT_DATA, ignore_errors = True)\n",
    "\n",
    "os.makedirs(OUT_DATA, exist_ok = True)\n",
    "os.makedirs(OUT_PLOT, exist_ok = True)\n",
    "\n",
    "print(f'     Root Directory : {CWD}')\n",
    "print(f'   Output Directory : {OUT_DATA}')\n",
    "print(f'   Output Directory : {OUT_PLOT}')\n",
    "print(f' Resource Directory : {RES_GENOME}')"
   ]
  },
  {
   "cell_type": "code",
   "execution_count": 5,
   "id": "55348545-8e3b-4df4-9da6-695bde30887c",
   "metadata": {
    "execution": {
     "iopub.execute_input": "2023-03-11T06:22:12.754853Z",
     "iopub.status.busy": "2023-03-11T06:22:12.754353Z",
     "iopub.status.idle": "2023-03-11T06:23:04.394712Z",
     "shell.execute_reply": "2023-03-11T06:23:04.394212Z",
     "shell.execute_reply.started": "2023-03-11T06:22:12.754853Z"
    }
   },
   "outputs": [],
   "source": [
    "# Load and clean (remove non-relevant columns, rename columns to same format, etc..)\n",
    "\n",
    "data = loader.load_resources(\n",
    "\tdirectory = RES_GENOME,\n",
    "\tplant     = 'arabidopsis-r36',\n",
    "\tclean     = True\n",
    ")\n",
    "\n",
    "gene_annotation = data['gene_annotation']\n",
    "gene_assembly   = data['gene_assembly']\n",
    "tissue_metadata = data['tissue_metadata']\n",
    "tissue_tpm      = data['tissue_tpm']"
   ]
  },
  {
   "cell_type": "markdown",
   "id": "e821c0b7-e284-4059-b8bf-7977c7e264c8",
   "metadata": {},
   "source": [
    "# 2. Gene Annotation"
   ]
  },
  {
   "cell_type": "markdown",
   "id": "1b518162-9803-4bf9-a647-69a535a3038c",
   "metadata": {},
   "source": [
    "## 2.1 Analysis"
   ]
  },
  {
   "cell_type": "code",
   "execution_count": 6,
   "id": "cde9af9f-c774-4b01-ac27-d685c826df2b",
   "metadata": {
    "execution": {
     "iopub.execute_input": "2023-03-11T06:23:04.396214Z",
     "iopub.status.busy": "2023-03-11T06:23:04.395713Z",
     "iopub.status.idle": "2023-03-11T06:23:04.425740Z",
     "shell.execute_reply": "2023-03-11T06:23:04.425239Z",
     "shell.execute_reply.started": "2023-03-11T06:23:04.395713Z"
    }
   },
   "outputs": [
    {
     "name": "stdout",
     "output_type": "stream",
     "text": [
      "Number of rows : 439080\n",
      "Number of cols : 10\n"
     ]
    },
    {
     "data": {
      "text/html": [
       "<div>\n",
       "<style scoped>\n",
       "    .dataframe tbody tr th:only-of-type {\n",
       "        vertical-align: middle;\n",
       "    }\n",
       "\n",
       "    .dataframe tbody tr th {\n",
       "        vertical-align: top;\n",
       "    }\n",
       "\n",
       "    .dataframe thead th {\n",
       "        text-align: right;\n",
       "    }\n",
       "</style>\n",
       "<table border=\"1\" class=\"dataframe\">\n",
       "  <thead>\n",
       "    <tr style=\"text-align: right;\">\n",
       "      <th></th>\n",
       "      <th>Seq</th>\n",
       "      <th>Strand</th>\n",
       "      <th>Type</th>\n",
       "      <th>Gene</th>\n",
       "      <th>Transcript</th>\n",
       "      <th>Exon</th>\n",
       "      <th>Parent</th>\n",
       "      <th>Start</th>\n",
       "      <th>End</th>\n",
       "      <th>Length</th>\n",
       "    </tr>\n",
       "  </thead>\n",
       "  <tbody>\n",
       "    <tr>\n",
       "      <th>2</th>\n",
       "      <td>1</td>\n",
       "      <td>+</td>\n",
       "      <td>mRNA</td>\n",
       "      <td>AT1G01010</td>\n",
       "      <td>AT1G01010.1</td>\n",
       "      <td>NaN</td>\n",
       "      <td>AT1G01010</td>\n",
       "      <td>3631</td>\n",
       "      <td>5899</td>\n",
       "      <td>2268</td>\n",
       "    </tr>\n",
       "    <tr>\n",
       "      <th>3</th>\n",
       "      <td>1</td>\n",
       "      <td>+</td>\n",
       "      <td>UTR5</td>\n",
       "      <td>AT1G01010</td>\n",
       "      <td>AT1G01010.1</td>\n",
       "      <td>NaN</td>\n",
       "      <td>AT1G01010.1</td>\n",
       "      <td>3631</td>\n",
       "      <td>3759</td>\n",
       "      <td>128</td>\n",
       "    </tr>\n",
       "    <tr>\n",
       "      <th>5</th>\n",
       "      <td>1</td>\n",
       "      <td>+</td>\n",
       "      <td>CDS</td>\n",
       "      <td>AT1G01010</td>\n",
       "      <td>AT1G01010.1</td>\n",
       "      <td>NaN</td>\n",
       "      <td>AT1G01010.1</td>\n",
       "      <td>3760</td>\n",
       "      <td>3913</td>\n",
       "      <td>153</td>\n",
       "    </tr>\n",
       "    <tr>\n",
       "      <th>7</th>\n",
       "      <td>1</td>\n",
       "      <td>+</td>\n",
       "      <td>CDS</td>\n",
       "      <td>AT1G01010</td>\n",
       "      <td>AT1G01010.1</td>\n",
       "      <td>NaN</td>\n",
       "      <td>AT1G01010.1</td>\n",
       "      <td>3996</td>\n",
       "      <td>4276</td>\n",
       "      <td>280</td>\n",
       "    </tr>\n",
       "    <tr>\n",
       "      <th>9</th>\n",
       "      <td>1</td>\n",
       "      <td>+</td>\n",
       "      <td>CDS</td>\n",
       "      <td>AT1G01010</td>\n",
       "      <td>AT1G01010.1</td>\n",
       "      <td>NaN</td>\n",
       "      <td>AT1G01010.1</td>\n",
       "      <td>4486</td>\n",
       "      <td>4605</td>\n",
       "      <td>119</td>\n",
       "    </tr>\n",
       "  </tbody>\n",
       "</table>\n",
       "</div>"
      ],
      "text/plain": [
       "  Seq Strand  Type       Gene   Transcript Exon       Parent  Start   End  \\\n",
       "2   1      +  mRNA  AT1G01010  AT1G01010.1  NaN    AT1G01010   3631  5899   \n",
       "3   1      +  UTR5  AT1G01010  AT1G01010.1  NaN  AT1G01010.1   3631  3759   \n",
       "5   1      +   CDS  AT1G01010  AT1G01010.1  NaN  AT1G01010.1   3760  3913   \n",
       "7   1      +   CDS  AT1G01010  AT1G01010.1  NaN  AT1G01010.1   3996  4276   \n",
       "9   1      +   CDS  AT1G01010  AT1G01010.1  NaN  AT1G01010.1   4486  4605   \n",
       "\n",
       "   Length  \n",
       "2    2268  \n",
       "3     128  \n",
       "5     153  \n",
       "7     280  \n",
       "9     119  "
      ]
     },
     "execution_count": 6,
     "metadata": {},
     "output_type": "execute_result"
    }
   ],
   "source": [
    "# Show the first few gene annotations\n",
    "\n",
    "analysis_annotation.show(gene_annotation)"
   ]
  },
  {
   "cell_type": "code",
   "execution_count": 7,
   "id": "1d6d4278-dfef-4a4a-bed1-25fa3a07f264",
   "metadata": {
    "execution": {
     "iopub.execute_input": "2023-03-11T06:23:04.427741Z",
     "iopub.status.busy": "2023-03-11T06:23:04.427741Z",
     "iopub.status.idle": "2023-03-11T06:23:04.875626Z",
     "shell.execute_reply": "2023-03-11T06:23:04.875125Z",
     "shell.execute_reply.started": "2023-03-11T06:23:04.427741Z"
    },
    "tags": []
   },
   "outputs": [
    {
     "name": "stdout",
     "output_type": "stream",
     "text": [
      "Unique values per column :\n",
      "\n",
      " - Seq        : [      7] 1 2 3 4 5 ...\n",
      " - Strand     : [      2] + -\n",
      " - Type       : [      4] mRNA UTR5 CDS UTR3\n",
      " - Gene       : [ 27,628] AT1G01010 AT1G01020 AT1G01030 AT1G01040 AT1G01050 ...\n",
      " - Transcript : [ 48,321] AT1G01010.1 AT1G01020.6 AT1G01020.2 AT1G01020.3 AT1G01020.5 ...\n",
      " - Exon       : [      1] nan\n",
      " - Parent     : [ 75,949] AT1G01010 AT1G01010.1 AT1G01020 AT1G01020.6 AT1G01020.2 ...\n",
      " - Start      : [220,718] 3631 3760 3996 4486 4706 ...\n",
      " - End        : [220,720] 5899 3759 3913 4276 4605 ...\n",
      " - Length     : [  7,119] 2268 128 153 280 119 ...\n"
     ]
    },
    {
     "data": {
      "text/html": [
       "<div>\n",
       "<style scoped>\n",
       "    .dataframe tbody tr th:only-of-type {\n",
       "        vertical-align: middle;\n",
       "    }\n",
       "\n",
       "    .dataframe tbody tr th {\n",
       "        vertical-align: top;\n",
       "    }\n",
       "\n",
       "    .dataframe thead th {\n",
       "        text-align: right;\n",
       "    }\n",
       "</style>\n",
       "<table border=\"1\" class=\"dataframe\">\n",
       "  <thead>\n",
       "    <tr style=\"text-align: right;\">\n",
       "      <th></th>\n",
       "      <th>Seq</th>\n",
       "      <th>Strand</th>\n",
       "      <th>Type</th>\n",
       "      <th>Gene</th>\n",
       "      <th>Transcript</th>\n",
       "      <th>Exon</th>\n",
       "      <th>Parent</th>\n",
       "      <th>Start</th>\n",
       "      <th>End</th>\n",
       "      <th>Length</th>\n",
       "    </tr>\n",
       "  </thead>\n",
       "  <tbody>\n",
       "    <tr>\n",
       "      <th>Datatype</th>\n",
       "      <td>object</td>\n",
       "      <td>object</td>\n",
       "      <td>object</td>\n",
       "      <td>object</td>\n",
       "      <td>object</td>\n",
       "      <td>object</td>\n",
       "      <td>object</td>\n",
       "      <td>int32</td>\n",
       "      <td>int32</td>\n",
       "      <td>int32</td>\n",
       "    </tr>\n",
       "    <tr>\n",
       "      <th>Null</th>\n",
       "      <td>0</td>\n",
       "      <td>0</td>\n",
       "      <td>0</td>\n",
       "      <td>0</td>\n",
       "      <td>0</td>\n",
       "      <td>439080</td>\n",
       "      <td>0</td>\n",
       "      <td>0</td>\n",
       "      <td>0</td>\n",
       "      <td>0</td>\n",
       "    </tr>\n",
       "    <tr>\n",
       "      <th>Unique</th>\n",
       "      <td>7</td>\n",
       "      <td>2</td>\n",
       "      <td>4</td>\n",
       "      <td>27628</td>\n",
       "      <td>48321</td>\n",
       "      <td>1</td>\n",
       "      <td>75949</td>\n",
       "      <td>220718</td>\n",
       "      <td>220720</td>\n",
       "      <td>7119</td>\n",
       "    </tr>\n",
       "  </tbody>\n",
       "</table>\n",
       "</div>"
      ],
      "text/plain": [
       "             Seq  Strand    Type    Gene Transcript    Exon  Parent   Start  \\\n",
       "Datatype  object  object  object  object     object  object  object   int32   \n",
       "Null           0       0       0       0          0  439080       0       0   \n",
       "Unique         7       2       4   27628      48321       1   75949  220718   \n",
       "\n",
       "             End Length  \n",
       "Datatype   int32  int32  \n",
       "Null           0      0  \n",
       "Unique    220720   7119  "
      ]
     },
     "execution_count": 7,
     "metadata": {},
     "output_type": "execute_result"
    }
   ],
   "source": [
    "# Inspect gene annotation columns, and dispay the number of unique values (as well as the first few values)\n",
    "\n",
    "analysis_annotation.inspect_columns(\n",
    "\tdata    = gene_annotation,\n",
    "\tcolumns = None\n",
    ")"
   ]
  },
  {
   "cell_type": "code",
   "execution_count": 8,
   "id": "3c4b5cad-38e6-4488-8cf0-a995340ce8fb",
   "metadata": {
    "execution": {
     "iopub.execute_input": "2023-03-11T06:23:04.876627Z",
     "iopub.status.busy": "2023-03-11T06:23:04.876627Z",
     "iopub.status.idle": "2023-03-11T06:23:04.922166Z",
     "shell.execute_reply": "2023-03-11T06:23:04.921665Z",
     "shell.execute_reply.started": "2023-03-11T06:23:04.876627Z"
    }
   },
   "outputs": [
    {
     "name": "stdout",
     "output_type": "stream",
     "text": [
      "Number of rows : 9\n",
      "Number of cols : 10\n"
     ]
    },
    {
     "data": {
      "text/html": [
       "<div>\n",
       "<style scoped>\n",
       "    .dataframe tbody tr th:only-of-type {\n",
       "        vertical-align: middle;\n",
       "    }\n",
       "\n",
       "    .dataframe tbody tr th {\n",
       "        vertical-align: top;\n",
       "    }\n",
       "\n",
       "    .dataframe thead th {\n",
       "        text-align: right;\n",
       "    }\n",
       "</style>\n",
       "<table border=\"1\" class=\"dataframe\">\n",
       "  <thead>\n",
       "    <tr style=\"text-align: right;\">\n",
       "      <th></th>\n",
       "      <th>Seq</th>\n",
       "      <th>Strand</th>\n",
       "      <th>Type</th>\n",
       "      <th>Gene</th>\n",
       "      <th>Transcript</th>\n",
       "      <th>Exon</th>\n",
       "      <th>Parent</th>\n",
       "      <th>Start</th>\n",
       "      <th>End</th>\n",
       "      <th>Length</th>\n",
       "    </tr>\n",
       "  </thead>\n",
       "  <tbody>\n",
       "    <tr>\n",
       "      <th>2</th>\n",
       "      <td>1</td>\n",
       "      <td>+</td>\n",
       "      <td>mRNA</td>\n",
       "      <td>AT1G01010</td>\n",
       "      <td>AT1G01010.1</td>\n",
       "      <td>NaN</td>\n",
       "      <td>AT1G01010</td>\n",
       "      <td>3631</td>\n",
       "      <td>5899</td>\n",
       "      <td>2268</td>\n",
       "    </tr>\n",
       "    <tr>\n",
       "      <th>3</th>\n",
       "      <td>1</td>\n",
       "      <td>+</td>\n",
       "      <td>UTR5</td>\n",
       "      <td>AT1G01010</td>\n",
       "      <td>AT1G01010.1</td>\n",
       "      <td>NaN</td>\n",
       "      <td>AT1G01010.1</td>\n",
       "      <td>3631</td>\n",
       "      <td>3759</td>\n",
       "      <td>128</td>\n",
       "    </tr>\n",
       "    <tr>\n",
       "      <th>5</th>\n",
       "      <td>1</td>\n",
       "      <td>+</td>\n",
       "      <td>CDS</td>\n",
       "      <td>AT1G01010</td>\n",
       "      <td>AT1G01010.1</td>\n",
       "      <td>NaN</td>\n",
       "      <td>AT1G01010.1</td>\n",
       "      <td>3760</td>\n",
       "      <td>3913</td>\n",
       "      <td>153</td>\n",
       "    </tr>\n",
       "    <tr>\n",
       "      <th>7</th>\n",
       "      <td>1</td>\n",
       "      <td>+</td>\n",
       "      <td>CDS</td>\n",
       "      <td>AT1G01010</td>\n",
       "      <td>AT1G01010.1</td>\n",
       "      <td>NaN</td>\n",
       "      <td>AT1G01010.1</td>\n",
       "      <td>3996</td>\n",
       "      <td>4276</td>\n",
       "      <td>280</td>\n",
       "    </tr>\n",
       "    <tr>\n",
       "      <th>9</th>\n",
       "      <td>1</td>\n",
       "      <td>+</td>\n",
       "      <td>CDS</td>\n",
       "      <td>AT1G01010</td>\n",
       "      <td>AT1G01010.1</td>\n",
       "      <td>NaN</td>\n",
       "      <td>AT1G01010.1</td>\n",
       "      <td>4486</td>\n",
       "      <td>4605</td>\n",
       "      <td>119</td>\n",
       "    </tr>\n",
       "    <tr>\n",
       "      <th>11</th>\n",
       "      <td>1</td>\n",
       "      <td>+</td>\n",
       "      <td>CDS</td>\n",
       "      <td>AT1G01010</td>\n",
       "      <td>AT1G01010.1</td>\n",
       "      <td>NaN</td>\n",
       "      <td>AT1G01010.1</td>\n",
       "      <td>4706</td>\n",
       "      <td>5095</td>\n",
       "      <td>389</td>\n",
       "    </tr>\n",
       "    <tr>\n",
       "      <th>13</th>\n",
       "      <td>1</td>\n",
       "      <td>+</td>\n",
       "      <td>CDS</td>\n",
       "      <td>AT1G01010</td>\n",
       "      <td>AT1G01010.1</td>\n",
       "      <td>NaN</td>\n",
       "      <td>AT1G01010.1</td>\n",
       "      <td>5174</td>\n",
       "      <td>5326</td>\n",
       "      <td>152</td>\n",
       "    </tr>\n",
       "    <tr>\n",
       "      <th>14</th>\n",
       "      <td>1</td>\n",
       "      <td>+</td>\n",
       "      <td>CDS</td>\n",
       "      <td>AT1G01010</td>\n",
       "      <td>AT1G01010.1</td>\n",
       "      <td>NaN</td>\n",
       "      <td>AT1G01010.1</td>\n",
       "      <td>5439</td>\n",
       "      <td>5630</td>\n",
       "      <td>191</td>\n",
       "    </tr>\n",
       "    <tr>\n",
       "      <th>16</th>\n",
       "      <td>1</td>\n",
       "      <td>+</td>\n",
       "      <td>UTR3</td>\n",
       "      <td>AT1G01010</td>\n",
       "      <td>AT1G01010.1</td>\n",
       "      <td>NaN</td>\n",
       "      <td>AT1G01010.1</td>\n",
       "      <td>5631</td>\n",
       "      <td>5899</td>\n",
       "      <td>268</td>\n",
       "    </tr>\n",
       "  </tbody>\n",
       "</table>\n",
       "</div>"
      ],
      "text/plain": [
       "   Seq Strand  Type       Gene   Transcript Exon       Parent  Start   End  \\\n",
       "2    1      +  mRNA  AT1G01010  AT1G01010.1  NaN    AT1G01010   3631  5899   \n",
       "3    1      +  UTR5  AT1G01010  AT1G01010.1  NaN  AT1G01010.1   3631  3759   \n",
       "5    1      +   CDS  AT1G01010  AT1G01010.1  NaN  AT1G01010.1   3760  3913   \n",
       "7    1      +   CDS  AT1G01010  AT1G01010.1  NaN  AT1G01010.1   3996  4276   \n",
       "9    1      +   CDS  AT1G01010  AT1G01010.1  NaN  AT1G01010.1   4486  4605   \n",
       "11   1      +   CDS  AT1G01010  AT1G01010.1  NaN  AT1G01010.1   4706  5095   \n",
       "13   1      +   CDS  AT1G01010  AT1G01010.1  NaN  AT1G01010.1   5174  5326   \n",
       "14   1      +   CDS  AT1G01010  AT1G01010.1  NaN  AT1G01010.1   5439  5630   \n",
       "16   1      +  UTR3  AT1G01010  AT1G01010.1  NaN  AT1G01010.1   5631  5899   \n",
       "\n",
       "    Length  \n",
       "2     2268  \n",
       "3      128  \n",
       "5      153  \n",
       "7      280  \n",
       "9      119  \n",
       "11     389  \n",
       "13     152  \n",
       "14     191  \n",
       "16     268  "
      ]
     },
     "execution_count": 8,
     "metadata": {},
     "output_type": "execute_result"
    }
   ],
   "source": [
    "# Display a full gene with all its regions\n",
    "\n",
    "analysis_annotation.show(\n",
    "\tdata     = gene_annotation,\n",
    "\tquery    = 'AT1G01010.1',\n",
    "\tquery_by = 'Transcript',\n",
    "\trows     = None\n",
    ")"
   ]
  },
  {
   "cell_type": "code",
   "execution_count": 9,
   "id": "11447797-d555-4f0a-8403-b0ccb9e7888d",
   "metadata": {
    "execution": {
     "iopub.execute_input": "2023-03-11T06:23:04.923167Z",
     "iopub.status.busy": "2023-03-11T06:23:04.923167Z",
     "iopub.status.idle": "2023-03-11T06:23:05.015577Z",
     "shell.execute_reply": "2023-03-11T06:23:05.014746Z",
     "shell.execute_reply.started": "2023-03-11T06:23:04.923167Z"
    }
   },
   "outputs": [
    {
     "name": "stdout",
     "output_type": "stream",
     "text": [
      "      Gene IDs : 27,628\n",
      "Transcript IDs : 48,321\n"
     ]
    }
   ],
   "source": [
    "# Print number of genes and transcripts\n",
    "\n",
    "print('      Gene IDs : {:,}'.format(gene_annotation['Gene'].nunique(dropna = True)))\n",
    "print('Transcript IDs : {:,}'.format(gene_annotation['Transcript'].nunique(dropna = True)))"
   ]
  },
  {
   "cell_type": "code",
   "execution_count": 10,
   "id": "73e426f5-f272-441b-b5e2-6ae240f2e4be",
   "metadata": {
    "execution": {
     "iopub.execute_input": "2023-03-11T06:23:05.016747Z",
     "iopub.status.busy": "2023-03-11T06:23:05.016247Z",
     "iopub.status.idle": "2023-03-11T06:23:45.342389Z",
     "shell.execute_reply": "2023-03-11T06:23:45.341888Z",
     "shell.execute_reply.started": "2023-03-11T06:23:05.016747Z"
    }
   },
   "outputs": [
    {
     "data": {
      "text/html": [
       "<div>\n",
       "<style scoped>\n",
       "    .dataframe tbody tr th:only-of-type {\n",
       "        vertical-align: middle;\n",
       "    }\n",
       "\n",
       "    .dataframe tbody tr th {\n",
       "        vertical-align: top;\n",
       "    }\n",
       "\n",
       "    .dataframe thead th {\n",
       "        text-align: right;\n",
       "    }\n",
       "</style>\n",
       "<table border=\"1\" class=\"dataframe\">\n",
       "  <thead>\n",
       "    <tr style=\"text-align: right;\">\n",
       "      <th></th>\n",
       "      <th>Count</th>\n",
       "      <th>0</th>\n",
       "      <th>1</th>\n",
       "      <th>2</th>\n",
       "      <th>3</th>\n",
       "      <th>4</th>\n",
       "      <th>5+</th>\n",
       "    </tr>\n",
       "  </thead>\n",
       "  <tbody>\n",
       "    <tr>\n",
       "      <th>mRNA</th>\n",
       "      <td>48321</td>\n",
       "      <td>0</td>\n",
       "      <td>48321</td>\n",
       "      <td>0</td>\n",
       "      <td>0</td>\n",
       "      <td>0</td>\n",
       "      <td>0</td>\n",
       "    </tr>\n",
       "    <tr>\n",
       "      <th>UTR5</th>\n",
       "      <td>56384</td>\n",
       "      <td>5606</td>\n",
       "      <td>31233</td>\n",
       "      <td>9476</td>\n",
       "      <td>1874</td>\n",
       "      <td>99</td>\n",
       "      <td>33</td>\n",
       "    </tr>\n",
       "    <tr>\n",
       "      <th>CDS</th>\n",
       "      <td>286067</td>\n",
       "      <td>0</td>\n",
       "      <td>8093</td>\n",
       "      <td>6686</td>\n",
       "      <td>5451</td>\n",
       "      <td>4639</td>\n",
       "      <td>23452</td>\n",
       "    </tr>\n",
       "    <tr>\n",
       "      <th>UTR3</th>\n",
       "      <td>48308</td>\n",
       "      <td>5999</td>\n",
       "      <td>37615</td>\n",
       "      <td>3612</td>\n",
       "      <td>1011</td>\n",
       "      <td>49</td>\n",
       "      <td>35</td>\n",
       "    </tr>\n",
       "  </tbody>\n",
       "</table>\n",
       "</div>"
      ],
      "text/plain": [
       "       Count     0      1     2     3     4     5+\n",
       "mRNA   48321     0  48321     0     0     0      0\n",
       "UTR5   56384  5606  31233  9476  1874    99     33\n",
       "CDS   286067     0   8093  6686  5451  4639  23452\n",
       "UTR3   48308  5999  37615  3612  1011    49     35"
      ]
     },
     "execution_count": 10,
     "metadata": {},
     "output_type": "execute_result"
    }
   ],
   "source": [
    "# Display region type count per gene\n",
    "\n",
    "analysis_annotation.type_distribution(\n",
    "\tdata    = gene_annotation,\n",
    "\tgroupby = 'Transcript',\n",
    "\tregions = ['mRNA', 'UTR5', 'CDS', 'UTR3']\n",
    ")"
   ]
  },
  {
   "cell_type": "code",
   "execution_count": 11,
   "id": "570ce778-8cdc-4941-bf3b-13ac8b1130b6",
   "metadata": {
    "execution": {
     "iopub.execute_input": "2023-03-11T06:23:45.343890Z",
     "iopub.status.busy": "2023-03-11T06:23:45.343389Z",
     "iopub.status.idle": "2023-03-11T06:23:45.715208Z",
     "shell.execute_reply": "2023-03-11T06:23:45.714207Z",
     "shell.execute_reply.started": "2023-03-11T06:23:45.343890Z"
    }
   },
   "outputs": [
    {
     "data": {
      "text/html": [
       "<div>\n",
       "<style scoped>\n",
       "    .dataframe tbody tr th:only-of-type {\n",
       "        vertical-align: middle;\n",
       "    }\n",
       "\n",
       "    .dataframe tbody tr th {\n",
       "        vertical-align: top;\n",
       "    }\n",
       "\n",
       "    .dataframe thead th {\n",
       "        text-align: right;\n",
       "    }\n",
       "</style>\n",
       "<table border=\"1\" class=\"dataframe\">\n",
       "  <thead>\n",
       "    <tr style=\"text-align: right;\">\n",
       "      <th></th>\n",
       "      <th>Count</th>\n",
       "      <th>Mean</th>\n",
       "      <th>Std</th>\n",
       "      <th>Min</th>\n",
       "      <th>25%</th>\n",
       "      <th>50%</th>\n",
       "      <th>75%</th>\n",
       "      <th>Max</th>\n",
       "    </tr>\n",
       "  </thead>\n",
       "  <tbody>\n",
       "    <tr>\n",
       "      <th>mRNA</th>\n",
       "      <td>48321.000</td>\n",
       "      <td>2652.603</td>\n",
       "      <td>1760.879</td>\n",
       "      <td>2.000</td>\n",
       "      <td>1572.000</td>\n",
       "      <td>2312.000</td>\n",
       "      <td>3299.000</td>\n",
       "      <td>27264.000</td>\n",
       "    </tr>\n",
       "    <tr>\n",
       "      <th>UTR5</th>\n",
       "      <td>56384.000</td>\n",
       "      <td>183.561</td>\n",
       "      <td>190.920</td>\n",
       "      <td>0.000</td>\n",
       "      <td>61.000</td>\n",
       "      <td>134.000</td>\n",
       "      <td>243.000</td>\n",
       "      <td>3679.000</td>\n",
       "    </tr>\n",
       "    <tr>\n",
       "      <th>CDS</th>\n",
       "      <td>286067.000</td>\n",
       "      <td>217.990</td>\n",
       "      <td>301.270</td>\n",
       "      <td>0.000</td>\n",
       "      <td>80.000</td>\n",
       "      <td>125.000</td>\n",
       "      <td>223.000</td>\n",
       "      <td>7760.000</td>\n",
       "    </tr>\n",
       "    <tr>\n",
       "      <th>UTR3</th>\n",
       "      <td>48308.000</td>\n",
       "      <td>275.153</td>\n",
       "      <td>205.004</td>\n",
       "      <td>0.000</td>\n",
       "      <td>161.000</td>\n",
       "      <td>240.000</td>\n",
       "      <td>339.000</td>\n",
       "      <td>4000.000</td>\n",
       "    </tr>\n",
       "  </tbody>\n",
       "</table>\n",
       "</div>"
      ],
      "text/plain": [
       "          Count     Mean      Std   Min      25%      50%      75%       Max\n",
       "mRNA  48321.000 2652.603 1760.879 2.000 1572.000 2312.000 3299.000 27264.000\n",
       "UTR5  56384.000  183.561  190.920 0.000   61.000  134.000  243.000  3679.000\n",
       "CDS  286067.000  217.990  301.270 0.000   80.000  125.000  223.000  7760.000\n",
       "UTR3  48308.000  275.153  205.004 0.000  161.000  240.000  339.000  4000.000"
      ]
     },
     "execution_count": 11,
     "metadata": {},
     "output_type": "execute_result"
    }
   ],
   "source": [
    "# Display the region length statistics per each region\n",
    "\n",
    "analysis_annotation.length_statistics(\n",
    "\tdata = gene_annotation\n",
    ")"
   ]
  },
  {
   "cell_type": "markdown",
   "id": "fdc9572a-63bb-4a84-a65f-0f3f56c9d9a4",
   "metadata": {},
   "source": [
    "## 2.2 Filtering"
   ]
  },
  {
   "cell_type": "code",
   "execution_count": 12,
   "id": "3c9ffbfe-d55b-448e-9b12-c688d704ea0e",
   "metadata": {
    "execution": {
     "iopub.execute_input": "2023-03-11T06:23:45.716710Z",
     "iopub.status.busy": "2023-03-11T06:23:45.716209Z",
     "iopub.status.idle": "2023-03-11T06:23:46.056000Z",
     "shell.execute_reply": "2023-03-11T06:23:46.055500Z",
     "shell.execute_reply.started": "2023-03-11T06:23:45.716710Z"
    },
    "tags": []
   },
   "outputs": [
    {
     "name": "stdout",
     "output_type": "stream",
     "text": [
      "Transcript (Mt) : 120\n",
      "Transcript (Pt) : 88\n",
      "\n",
      "Gene       : 27628 -> 27420\n",
      "Transcript : 48321 -> 48113\n"
     ]
    }
   ],
   "source": [
    "# Drop mt and pt sequence annotations\n",
    "\n",
    "mt = gene_annotation[(gene_annotation['Seq'] == 'Mt') & (gene_annotation['Type'] == 'mRNA')]\n",
    "pt = gene_annotation[(gene_annotation['Seq'] == 'Pt') & (gene_annotation['Type'] == 'mRNA')]\n",
    "\n",
    "print(f'Transcript (Mt) : ' + '{:}'.format(len(mt)))\n",
    "print(f'Transcript (Pt) : ' + '{:}'.format(len(pt)))\n",
    "print()\n",
    "\n",
    "gcount = gene_annotation['Gene'].nunique()\n",
    "tcount = gene_annotation['Transcript'].nunique()\n",
    "\n",
    "gene_annotation = gene_annotation[~gene_annotation['Seq'].isin(['Mt', 'Pt'])]\n",
    "\n",
    "print('Gene       : {:} -> {:}'.format(gcount, gene_annotation['Gene'].nunique(dropna = True)))\n",
    "print('Transcript : {:} -> {:}'.format(tcount, gene_annotation['Transcript'].nunique(dropna = True)))"
   ]
  },
  {
   "cell_type": "code",
   "execution_count": 13,
   "id": "25f3f2c2-e519-4102-a80e-79ab7d589083",
   "metadata": {
    "execution": {
     "iopub.execute_input": "2023-03-11T06:23:46.057001Z",
     "iopub.status.busy": "2023-03-11T06:23:46.057001Z",
     "iopub.status.idle": "2023-03-11T06:23:48.275407Z",
     "shell.execute_reply": "2023-03-11T06:23:48.273405Z",
     "shell.execute_reply.started": "2023-03-11T06:23:46.057001Z"
    },
    "tags": []
   },
   "outputs": [
    {
     "name": "stdout",
     "output_type": "stream",
     "text": [
      "Gene       : 27420 -> 27420\n",
      "Transcript : 48113 -> 27420\n"
     ]
    }
   ],
   "source": [
    "# Keep only the longest transcripts per gene\n",
    "\n",
    "gcount = gene_annotation['Gene'].nunique()\n",
    "tcount = gene_annotation['Transcript'].nunique()\n",
    "\n",
    "mrna_annotation = gene_annotation.copy()\n",
    "mrna_annotation = mrna_annotation[mrna_annotation['Type'] == 'mRNA']\n",
    "\n",
    "mrna_annotation = mrna_annotation[mrna_annotation.groupby('Gene')['Length'].transform(max) == mrna_annotation['Length']]\n",
    "mrna_annotation = mrna_annotation[mrna_annotation.groupby('Gene')['Transcript'].transform(min) == mrna_annotation['Transcript']]\n",
    "\n",
    "gene_annotation = gene_annotation[gene_annotation['Transcript'].isin(mrna_annotation['Transcript'])]\n",
    "\n",
    "print('Gene       : {:} -> {:}'.format(gcount, gene_annotation['Gene'].nunique(dropna = True)))\n",
    "print('Transcript : {:} -> {:}'.format(tcount, gene_annotation['Transcript'].nunique(dropna = True)))"
   ]
  },
  {
   "cell_type": "markdown",
   "id": "1c05ce3a-ebe8-4831-ade9-cf521df9637f",
   "metadata": {},
   "source": [
    "# 3. Gene Assembly"
   ]
  },
  {
   "cell_type": "markdown",
   "id": "08e21ca8-5ab3-4f0c-9568-b6ffb1f73a8c",
   "metadata": {},
   "source": [
    "## 3.1 Analysis"
   ]
  },
  {
   "cell_type": "code",
   "execution_count": 14,
   "id": "28b8c49d-7797-4cdf-8ea3-c7030bf61c13",
   "metadata": {
    "execution": {
     "iopub.execute_input": "2023-03-11T06:23:48.276408Z",
     "iopub.status.busy": "2023-03-11T06:23:48.275908Z",
     "iopub.status.idle": "2023-03-11T06:23:48.320447Z",
     "shell.execute_reply": "2023-03-11T06:23:48.319946Z",
     "shell.execute_reply.started": "2023-03-11T06:23:48.276408Z"
    }
   },
   "outputs": [
    {
     "name": "stdout",
     "output_type": "stream",
     "text": [
      "Sequence [1 ] with length [30,427,671] : CCCTAAACCCTAAACCCTAAACCCT ... AGGGTTTAGGGTTTAGGGTTTAGGG\n",
      "Sequence [2 ] with length [19,698,289] : NNNNNNNNNNNNNNNNNNNNNNNNN ... AGGGTTTAGGGTTTAGGGTTTAGGG\n",
      "Sequence [3 ] with length [23,459,830] : NNNNNNNNNNNNNNNNNNNNNNNNN ... ACCCTAAACCCTAAACCCTAAACCC\n",
      "Sequence [4 ] with length [18,585,056] : NNNNNNNNNNNNNNNNNNNNNNNNN ... AAGGGTTTAGGGTTTAGGGTTTAGG\n",
      "Sequence [5 ] with length [26,975,502] : TATACCATGTACCCTCAACCTTAAA ... GTTTAGGATTTAGGGTTTTTAGATC\n",
      "Sequence [Mt] with length [   366,924] : GGATCCGTTCGAAACAGGTTAGCCT ... TCGCAGAATGGAAACAAACCGGATT\n",
      "Sequence [Pt] with length [   154,478] : ATGGGCGAACGACGGGAATTGAACC ... TCATAATAACTTGGTCCCGGGCATC\n"
     ]
    }
   ],
   "source": [
    "# Display the length and short nucleotide sequences for each chromosome\n",
    "\n",
    "analysis_assembly.show(\n",
    "\tdata = gene_assembly,\n",
    "\thead = 25,\n",
    "\ttail = 25\n",
    ")"
   ]
  },
  {
   "cell_type": "code",
   "execution_count": 15,
   "id": "7207ce29-1b1a-474d-983c-c993f1420f3e",
   "metadata": {
    "execution": {
     "iopub.execute_input": "2023-03-11T06:23:48.321947Z",
     "iopub.status.busy": "2023-03-11T06:23:48.321448Z",
     "iopub.status.idle": "2023-03-11T06:23:55.855419Z",
     "shell.execute_reply": "2023-03-11T06:23:55.854918Z",
     "shell.execute_reply.started": "2023-03-11T06:23:48.321947Z"
    }
   },
   "outputs": [
    {
     "data": {
      "text/html": [
       "<div>\n",
       "<style scoped>\n",
       "    .dataframe tbody tr th:only-of-type {\n",
       "        vertical-align: middle;\n",
       "    }\n",
       "\n",
       "    .dataframe tbody tr th {\n",
       "        vertical-align: top;\n",
       "    }\n",
       "\n",
       "    .dataframe thead th {\n",
       "        text-align: right;\n",
       "    }\n",
       "</style>\n",
       "<table border=\"1\" class=\"dataframe\">\n",
       "  <thead>\n",
       "    <tr style=\"text-align: right;\">\n",
       "      <th></th>\n",
       "      <th>A</th>\n",
       "      <th>T</th>\n",
       "      <th>C</th>\n",
       "      <th>G</th>\n",
       "      <th>N</th>\n",
       "      <th>W</th>\n",
       "      <th>Y</th>\n",
       "      <th>M</th>\n",
       "      <th>K</th>\n",
       "      <th>R</th>\n",
       "      <th>S</th>\n",
       "      <th>D</th>\n",
       "    </tr>\n",
       "  </thead>\n",
       "  <tbody>\n",
       "    <tr>\n",
       "      <th>1</th>\n",
       "      <td>9709674</td>\n",
       "      <td>9697113</td>\n",
       "      <td>5435374</td>\n",
       "      <td>5421151</td>\n",
       "      <td>163958</td>\n",
       "      <td>124</td>\n",
       "      <td>82</td>\n",
       "      <td>76</td>\n",
       "      <td>53</td>\n",
       "      <td>36</td>\n",
       "      <td>30</td>\n",
       "      <td>0</td>\n",
       "    </tr>\n",
       "    <tr>\n",
       "      <th>2</th>\n",
       "      <td>6315641</td>\n",
       "      <td>6316348</td>\n",
       "      <td>3542973</td>\n",
       "      <td>3520766</td>\n",
       "      <td>2506</td>\n",
       "      <td>18</td>\n",
       "      <td>12</td>\n",
       "      <td>5</td>\n",
       "      <td>10</td>\n",
       "      <td>7</td>\n",
       "      <td>3</td>\n",
       "      <td>0</td>\n",
       "    </tr>\n",
       "    <tr>\n",
       "      <th>3</th>\n",
       "      <td>7484757</td>\n",
       "      <td>7448059</td>\n",
       "      <td>4258333</td>\n",
       "      <td>4262704</td>\n",
       "      <td>5966</td>\n",
       "      <td>2</td>\n",
       "      <td>2</td>\n",
       "      <td>2</td>\n",
       "      <td>0</td>\n",
       "      <td>4</td>\n",
       "      <td>1</td>\n",
       "      <td>0</td>\n",
       "    </tr>\n",
       "    <tr>\n",
       "      <th>4</th>\n",
       "      <td>5940546</td>\n",
       "      <td>5914038</td>\n",
       "      <td>3371349</td>\n",
       "      <td>3356091</td>\n",
       "      <td>3030</td>\n",
       "      <td>0</td>\n",
       "      <td>0</td>\n",
       "      <td>1</td>\n",
       "      <td>0</td>\n",
       "      <td>0</td>\n",
       "      <td>0</td>\n",
       "      <td>1</td>\n",
       "    </tr>\n",
       "    <tr>\n",
       "      <th>5</th>\n",
       "      <td>8621974</td>\n",
       "      <td>8652238</td>\n",
       "      <td>4832253</td>\n",
       "      <td>4858759</td>\n",
       "      <td>10278</td>\n",
       "      <td>0</td>\n",
       "      <td>0</td>\n",
       "      <td>0</td>\n",
       "      <td>0</td>\n",
       "      <td>0</td>\n",
       "      <td>0</td>\n",
       "      <td>0</td>\n",
       "    </tr>\n",
       "    <tr>\n",
       "      <th>Mt</th>\n",
       "      <td>102464</td>\n",
       "      <td>100190</td>\n",
       "      <td>82661</td>\n",
       "      <td>81609</td>\n",
       "      <td>0</td>\n",
       "      <td>0</td>\n",
       "      <td>0</td>\n",
       "      <td>0</td>\n",
       "      <td>0</td>\n",
       "      <td>0</td>\n",
       "      <td>0</td>\n",
       "      <td>0</td>\n",
       "    </tr>\n",
       "    <tr>\n",
       "      <th>Pt</th>\n",
       "      <td>48546</td>\n",
       "      <td>49866</td>\n",
       "      <td>28496</td>\n",
       "      <td>27570</td>\n",
       "      <td>0</td>\n",
       "      <td>0</td>\n",
       "      <td>0</td>\n",
       "      <td>0</td>\n",
       "      <td>0</td>\n",
       "      <td>0</td>\n",
       "      <td>0</td>\n",
       "      <td>0</td>\n",
       "    </tr>\n",
       "    <tr>\n",
       "      <th>Total</th>\n",
       "      <td>38223602</td>\n",
       "      <td>38177852</td>\n",
       "      <td>21551439</td>\n",
       "      <td>21528650</td>\n",
       "      <td>185738</td>\n",
       "      <td>144</td>\n",
       "      <td>96</td>\n",
       "      <td>84</td>\n",
       "      <td>63</td>\n",
       "      <td>47</td>\n",
       "      <td>34</td>\n",
       "      <td>1</td>\n",
       "    </tr>\n",
       "  </tbody>\n",
       "</table>\n",
       "</div>"
      ],
      "text/plain": [
       "              A         T         C         G       N    W   Y   M   K   R  \\\n",
       "1       9709674   9697113   5435374   5421151  163958  124  82  76  53  36   \n",
       "2       6315641   6316348   3542973   3520766    2506   18  12   5  10   7   \n",
       "3       7484757   7448059   4258333   4262704    5966    2   2   2   0   4   \n",
       "4       5940546   5914038   3371349   3356091    3030    0   0   1   0   0   \n",
       "5       8621974   8652238   4832253   4858759   10278    0   0   0   0   0   \n",
       "Mt       102464    100190     82661     81609       0    0   0   0   0   0   \n",
       "Pt        48546     49866     28496     27570       0    0   0   0   0   0   \n",
       "Total  38223602  38177852  21551439  21528650  185738  144  96  84  63  47   \n",
       "\n",
       "        S  D  \n",
       "1      30  0  \n",
       "2       3  0  \n",
       "3       1  0  \n",
       "4       0  1  \n",
       "5       0  0  \n",
       "Mt      0  0  \n",
       "Pt      0  0  \n",
       "Total  34  1  "
      ]
     },
     "execution_count": 15,
     "metadata": {},
     "output_type": "execute_result"
    }
   ],
   "source": [
    "# Display the nucleotide frequency withing each chromosome\n",
    "\n",
    "analysis_assembly.show_nucleotide_frequency(\n",
    "\tdata     = gene_assembly,\n",
    "\trelative = False\n",
    ")"
   ]
  },
  {
   "cell_type": "markdown",
   "id": "d64d8252-229f-49b7-97a1-1bfc0ac3bf4c",
   "metadata": {},
   "source": [
    "# 4. Tissue Metadata"
   ]
  },
  {
   "cell_type": "markdown",
   "id": "bb10c5b0-e163-409a-ab34-ba6c6e03071f",
   "metadata": {},
   "source": [
    "## 4.1 Analysis"
   ]
  },
  {
   "cell_type": "code",
   "execution_count": 16,
   "id": "9c57025e-3718-4865-8c5c-9d66049bd809",
   "metadata": {
    "execution": {
     "iopub.execute_input": "2023-03-11T06:23:55.856419Z",
     "iopub.status.busy": "2023-03-11T06:23:55.855919Z",
     "iopub.status.idle": "2023-03-11T06:23:55.870932Z",
     "shell.execute_reply": "2023-03-11T06:23:55.870431Z",
     "shell.execute_reply.started": "2023-03-11T06:23:55.856419Z"
    }
   },
   "outputs": [
    {
     "name": "stdout",
     "output_type": "stream",
     "text": [
      "Number of rows : 4139\n",
      "Number of cols : 8\n"
     ]
    },
    {
     "data": {
      "text/html": [
       "<div>\n",
       "<style scoped>\n",
       "    .dataframe tbody tr th:only-of-type {\n",
       "        vertical-align: middle;\n",
       "    }\n",
       "\n",
       "    .dataframe tbody tr th {\n",
       "        vertical-align: top;\n",
       "    }\n",
       "\n",
       "    .dataframe thead th {\n",
       "        text-align: right;\n",
       "    }\n",
       "</style>\n",
       "<table border=\"1\" class=\"dataframe\">\n",
       "  <thead>\n",
       "    <tr style=\"text-align: right;\">\n",
       "      <th></th>\n",
       "      <th>Sample</th>\n",
       "      <th>Study</th>\n",
       "      <th>Control</th>\n",
       "      <th>Senescence</th>\n",
       "      <th>Age</th>\n",
       "      <th>Tissue</th>\n",
       "      <th>Group</th>\n",
       "      <th>Perturbation</th>\n",
       "    </tr>\n",
       "  </thead>\n",
       "  <tbody>\n",
       "    <tr>\n",
       "      <th>0</th>\n",
       "      <td>DRR273449</td>\n",
       "      <td>DRP006986</td>\n",
       "      <td>yes</td>\n",
       "      <td>no</td>\n",
       "      <td>mature</td>\n",
       "      <td>seedling</td>\n",
       "      <td>mature_seedling</td>\n",
       "      <td>control</td>\n",
       "    </tr>\n",
       "    <tr>\n",
       "      <th>1</th>\n",
       "      <td>DRR273450</td>\n",
       "      <td>DRP006986</td>\n",
       "      <td>yes</td>\n",
       "      <td>no</td>\n",
       "      <td>mature</td>\n",
       "      <td>seedling</td>\n",
       "      <td>mature_seedling</td>\n",
       "      <td>control</td>\n",
       "    </tr>\n",
       "    <tr>\n",
       "      <th>2</th>\n",
       "      <td>DRR273451</td>\n",
       "      <td>DRP006986</td>\n",
       "      <td>yes</td>\n",
       "      <td>no</td>\n",
       "      <td>mature</td>\n",
       "      <td>seedling</td>\n",
       "      <td>mature_seedling</td>\n",
       "      <td>control</td>\n",
       "    </tr>\n",
       "    <tr>\n",
       "      <th>3</th>\n",
       "      <td>DRR273452</td>\n",
       "      <td>DRP006986</td>\n",
       "      <td>no</td>\n",
       "      <td>no</td>\n",
       "      <td>mature</td>\n",
       "      <td>seedling</td>\n",
       "      <td>mature_seedling</td>\n",
       "      <td>environmental</td>\n",
       "    </tr>\n",
       "    <tr>\n",
       "      <th>4</th>\n",
       "      <td>DRR273453</td>\n",
       "      <td>DRP006986</td>\n",
       "      <td>no</td>\n",
       "      <td>no</td>\n",
       "      <td>mature</td>\n",
       "      <td>seedling</td>\n",
       "      <td>mature_seedling</td>\n",
       "      <td>environmental</td>\n",
       "    </tr>\n",
       "  </tbody>\n",
       "</table>\n",
       "</div>"
      ],
      "text/plain": [
       "      Sample      Study Control Senescence     Age    Tissue            Group  \\\n",
       "0  DRR273449  DRP006986     yes         no  mature  seedling  mature_seedling   \n",
       "1  DRR273450  DRP006986     yes         no  mature  seedling  mature_seedling   \n",
       "2  DRR273451  DRP006986     yes         no  mature  seedling  mature_seedling   \n",
       "3  DRR273452  DRP006986      no         no  mature  seedling  mature_seedling   \n",
       "4  DRR273453  DRP006986      no         no  mature  seedling  mature_seedling   \n",
       "\n",
       "    Perturbation  \n",
       "0        control  \n",
       "1        control  \n",
       "2        control  \n",
       "3  environmental  \n",
       "4  environmental  "
      ]
     },
     "execution_count": 16,
     "metadata": {},
     "output_type": "execute_result"
    }
   ],
   "source": [
    "# Display the first few annotated samples\n",
    "\n",
    "analysis_metadata.show(tissue_metadata)"
   ]
  },
  {
   "cell_type": "code",
   "execution_count": 17,
   "id": "65498768-76c8-4831-ab29-1aa653cbd3f2",
   "metadata": {
    "execution": {
     "iopub.execute_input": "2023-03-11T06:23:55.871932Z",
     "iopub.status.busy": "2023-03-11T06:23:55.871432Z",
     "iopub.status.idle": "2023-03-11T06:23:55.901959Z",
     "shell.execute_reply": "2023-03-11T06:23:55.901458Z",
     "shell.execute_reply.started": "2023-03-11T06:23:55.871932Z"
    }
   },
   "outputs": [
    {
     "name": "stdout",
     "output_type": "stream",
     "text": [
      "Unique values per column :\n",
      "\n",
      " - Sample       : [4,139] DRR273449 DRR273450 DRR273451 DRR273452 DRR273453 ...\n",
      " - Study        : [  277] DRP006986 DRP004882 DRP005301 DRP005881 DRP005877 ...\n",
      " - Control      : [    2] yes no\n",
      " - Senescence   : [    2] no yes\n",
      " - Age          : [    5] mature young missing senescence seed\n",
      " - Tissue       : [    8] seedling seed leaf root flower ...\n",
      " - Group        : [   18] mature_seedling young_seedling young_seed missing_seedling mature_leaf ...\n",
      " - Perturbation : [    8] control environmental unstressed chemical mutant ...\n"
     ]
    },
    {
     "data": {
      "text/html": [
       "<div>\n",
       "<style scoped>\n",
       "    .dataframe tbody tr th:only-of-type {\n",
       "        vertical-align: middle;\n",
       "    }\n",
       "\n",
       "    .dataframe tbody tr th {\n",
       "        vertical-align: top;\n",
       "    }\n",
       "\n",
       "    .dataframe thead th {\n",
       "        text-align: right;\n",
       "    }\n",
       "</style>\n",
       "<table border=\"1\" class=\"dataframe\">\n",
       "  <thead>\n",
       "    <tr style=\"text-align: right;\">\n",
       "      <th></th>\n",
       "      <th>Sample</th>\n",
       "      <th>Study</th>\n",
       "      <th>Control</th>\n",
       "      <th>Senescence</th>\n",
       "      <th>Age</th>\n",
       "      <th>Tissue</th>\n",
       "      <th>Group</th>\n",
       "      <th>Perturbation</th>\n",
       "    </tr>\n",
       "  </thead>\n",
       "  <tbody>\n",
       "    <tr>\n",
       "      <th>Datatype</th>\n",
       "      <td>object</td>\n",
       "      <td>object</td>\n",
       "      <td>object</td>\n",
       "      <td>object</td>\n",
       "      <td>object</td>\n",
       "      <td>object</td>\n",
       "      <td>object</td>\n",
       "      <td>object</td>\n",
       "    </tr>\n",
       "    <tr>\n",
       "      <th>Null</th>\n",
       "      <td>0</td>\n",
       "      <td>0</td>\n",
       "      <td>0</td>\n",
       "      <td>0</td>\n",
       "      <td>0</td>\n",
       "      <td>0</td>\n",
       "      <td>0</td>\n",
       "      <td>0</td>\n",
       "    </tr>\n",
       "    <tr>\n",
       "      <th>Unique</th>\n",
       "      <td>4139</td>\n",
       "      <td>277</td>\n",
       "      <td>2</td>\n",
       "      <td>2</td>\n",
       "      <td>5</td>\n",
       "      <td>8</td>\n",
       "      <td>18</td>\n",
       "      <td>8</td>\n",
       "    </tr>\n",
       "  </tbody>\n",
       "</table>\n",
       "</div>"
      ],
      "text/plain": [
       "          Sample   Study Control Senescence     Age  Tissue   Group  \\\n",
       "Datatype  object  object  object     object  object  object  object   \n",
       "Null           0       0       0          0       0       0       0   \n",
       "Unique      4139     277       2          2       5       8      18   \n",
       "\n",
       "         Perturbation  \n",
       "Datatype       object  \n",
       "Null                0  \n",
       "Unique              8  "
      ]
     },
     "execution_count": 17,
     "metadata": {},
     "output_type": "execute_result"
    }
   ],
   "source": [
    "# Inspect sample annotation columns, and dispay the number of unique values (as well as the first few values)\n",
    "\n",
    "analysis_metadata.inspect_columns(\n",
    "\tdata    = tissue_metadata,\n",
    "\tcolumns = None\n",
    ")"
   ]
  },
  {
   "cell_type": "code",
   "execution_count": 18,
   "id": "35c21a01-947b-4eaa-a8b8-e2200c85ef14",
   "metadata": {
    "execution": {
     "iopub.execute_input": "2023-03-11T06:23:55.903460Z",
     "iopub.status.busy": "2023-03-11T06:23:55.902960Z",
     "iopub.status.idle": "2023-03-11T06:23:55.917472Z",
     "shell.execute_reply": "2023-03-11T06:23:55.916972Z",
     "shell.execute_reply.started": "2023-03-11T06:23:55.903460Z"
    }
   },
   "outputs": [
    {
     "name": "stdout",
     "output_type": "stream",
     "text": [
      "flower                  :   82 [  1.98 %]\n",
      "leaf                    : 1566 [ 37.84 %]\n",
      "other                   :   23 [  0.56 %]\n",
      "root                    :  606 [ 14.64 %]\n",
      "seed                    :  103 [  2.49 %]\n",
      "seedling                : 1721 [ 41.58 %]\n",
      "senescence_green        :   24 [  0.58 %]\n",
      "senescence_reproductive :   14 [  0.34 %]\n"
     ]
    }
   ],
   "source": [
    "# Display tissue samples\n",
    "\n",
    "template = '{:' + str(tissue_metadata['Tissue'].str.len().max()) + 's} : {:4d} [{:6.2f} %]'\n",
    "\n",
    "for tissue, dataframe in tissue_metadata.groupby('Tissue') :\n",
    "\tlength  = len(dataframe)\n",
    "\tpercent = 100 * length / len(tissue_metadata)\n",
    "\n",
    "\tprint(template.format(tissue, length, percent))"
   ]
  },
  {
   "cell_type": "code",
   "execution_count": 19,
   "id": "bbdc9527-7ee0-4a71-8e53-e8e1f1caf837",
   "metadata": {
    "execution": {
     "iopub.execute_input": "2023-03-11T06:23:55.918473Z",
     "iopub.status.busy": "2023-03-11T06:23:55.918473Z",
     "iopub.status.idle": "2023-03-11T06:23:55.932986Z",
     "shell.execute_reply": "2023-03-11T06:23:55.932485Z",
     "shell.execute_reply.started": "2023-03-11T06:23:55.918473Z"
    }
   },
   "outputs": [
    {
     "name": "stdout",
     "output_type": "stream",
     "text": [
      "mature     : 2916 [ 70.45 %]\n",
      "missing    :  165 [  3.99 %]\n",
      "seed       :   49 [  1.18 %]\n",
      "senescence :   38 [  0.92 %]\n",
      "young      :  971 [ 23.46 %]\n"
     ]
    }
   ],
   "source": [
    "# Display age samples\n",
    "\n",
    "template = '{:' + str(tissue_metadata['Age'].str.len().max()) + 's} : {:4d} [{:6.2f} %]'\n",
    "\n",
    "for age, dataframe in tissue_metadata.groupby('Age') :\n",
    "\tlength  = len(dataframe)\n",
    "\tpercent = 100 * length / len(tissue_metadata)\n",
    "\n",
    "\tprint(template.format(age, length, percent))"
   ]
  },
  {
   "cell_type": "code",
   "execution_count": 20,
   "id": "9c7ec5bc-5e1d-43ce-a8e8-d744142bfe8c",
   "metadata": {
    "execution": {
     "iopub.execute_input": "2023-03-11T06:23:55.934487Z",
     "iopub.status.busy": "2023-03-11T06:23:55.933986Z",
     "iopub.status.idle": "2023-03-11T06:23:55.948499Z",
     "shell.execute_reply": "2023-03-11T06:23:55.947998Z",
     "shell.execute_reply.started": "2023-03-11T06:23:55.934487Z"
    }
   },
   "outputs": [
    {
     "name": "stdout",
     "output_type": "stream",
     "text": [
      "mature_flower           :   62 [  1.50 %]\n",
      "mature_leaf             : 1442 [ 34.84 %]\n",
      "mature_other            :   21 [  0.51 %]\n",
      "mature_root             :  298 [  7.20 %]\n",
      "mature_seed             :   82 [  1.98 %]\n",
      "mature_seedling         : 1060 [ 25.61 %]\n",
      "missing_flower          :   18 [  0.43 %]\n",
      "missing_leaf            :  106 [  2.56 %]\n",
      "missing_root            :   23 [  0.56 %]\n",
      "missing_seedling        :   18 [  0.43 %]\n",
      "senescence_green        :   24 [  0.58 %]\n",
      "senescence_reproductive :   14 [  0.34 %]\n",
      "young_flower            :    2 [  0.05 %]\n",
      "young_leaf              :   18 [  0.43 %]\n",
      "young_other             :    2 [  0.05 %]\n",
      "young_root              :  285 [  6.89 %]\n",
      "young_seed              :   21 [  0.51 %]\n",
      "young_seedling          :  643 [ 15.54 %]\n"
     ]
    }
   ],
   "source": [
    "# Display group samples\n",
    "\n",
    "template = '{:' + str(tissue_metadata['Group'].str.len().max()) + 's} : {:4d} [{:6.2f} %]'\n",
    "\n",
    "for group, dataframe in tissue_metadata.groupby('Group') :\n",
    "\tlength  = len(dataframe)\n",
    "\tpercent = 100 * length / len(tissue_metadata)\n",
    "\n",
    "\tprint(template.format(group, length, percent))"
   ]
  },
  {
   "cell_type": "code",
   "execution_count": 21,
   "id": "c389c3a6-1336-4826-8034-82b4033cba67",
   "metadata": {
    "execution": {
     "iopub.execute_input": "2023-03-11T06:23:55.949500Z",
     "iopub.status.busy": "2023-03-11T06:23:55.949000Z",
     "iopub.status.idle": "2023-03-11T06:23:55.964012Z",
     "shell.execute_reply": "2023-03-11T06:23:55.963511Z",
     "shell.execute_reply.started": "2023-03-11T06:23:55.949500Z"
    }
   },
   "outputs": [
    {
     "name": "stdout",
     "output_type": "stream",
     "text": [
      "chemical      :  734 [ 17.73 %]\n",
      "control       : 1198 [ 28.94 %]\n",
      "dna           :   51 [  1.23 %]\n",
      "environmental : 1065 [ 25.73 %]\n",
      "mechanical    :  128 [  3.09 %]\n",
      "mutant        :  690 [ 16.67 %]\n",
      "unknown       :   33 [  0.80 %]\n",
      "unstressed    :  240 [  5.80 %]\n"
     ]
    }
   ],
   "source": [
    "# Display perturbation samples\n",
    "\n",
    "template = '{:' + str(tissue_metadata['Perturbation'].str.len().max()) + 's} : {:4d} [{:6.2f} %]'\n",
    "\n",
    "for group, dataframe in tissue_metadata.groupby('Perturbation') :\n",
    "\tlength  = len(dataframe)\n",
    "\tpercent = 100 * length / len(tissue_metadata)\n",
    "\n",
    "\tprint(template.format(group, length, percent))"
   ]
  },
  {
   "cell_type": "markdown",
   "id": "2025addc-2d14-43d0-a002-1f6fedbe701e",
   "metadata": {},
   "source": [
    "## 4.2 Filtering"
   ]
  },
  {
   "cell_type": "code",
   "execution_count": 22,
   "id": "55b2e5c5-bb74-4bfa-a54f-104739696b15",
   "metadata": {
    "execution": {
     "iopub.execute_input": "2023-03-11T06:23:55.968015Z",
     "iopub.status.busy": "2023-03-11T06:23:55.967515Z",
     "iopub.status.idle": "2023-03-11T06:23:55.979525Z",
     "shell.execute_reply": "2023-03-11T06:23:55.979024Z",
     "shell.execute_reply.started": "2023-03-11T06:23:55.968015Z"
    }
   },
   "outputs": [
    {
     "name": "stdout",
     "output_type": "stream",
     "text": [
      "Drop threshold : 41\n",
      "Drop count     : 3\n",
      "Drop groups    : other, senescence_green, senescence_reproductive\n"
     ]
    }
   ],
   "source": [
    "# Drop any tissue below a given threshold\n",
    "\n",
    "threshold = 0.01\n",
    "threshold = round(threshold * len(tissue_metadata))\n",
    "samples   = list()\n",
    "\n",
    "for tissue, dataframe in tissue_metadata.groupby('Tissue') :\n",
    "\tif len(dataframe) < threshold :\n",
    "\t\tsamples.append(tissue)\n",
    "\n",
    "tissue_metadata = tissue_metadata.loc[~tissue_metadata['Tissue'].isin(samples)]\n",
    "\n",
    "print('Drop threshold : {}'.format(threshold))\n",
    "print('Drop count     : {}'.format(len(samples)))\n",
    "print('Drop groups    : {}'.format(', '.join(samples)))"
   ]
  },
  {
   "cell_type": "markdown",
   "id": "62326e90-60c0-42af-b510-b4274c9c2f31",
   "metadata": {},
   "source": [
    "# 5. Tissue TPM"
   ]
  },
  {
   "cell_type": "markdown",
   "id": "92325ed3-619d-4728-820a-55c38c36960e",
   "metadata": {},
   "source": [
    "## 5.1 Analysis"
   ]
  },
  {
   "cell_type": "code",
   "execution_count": 23,
   "id": "692274dd-bcd9-4009-a664-602c9fd6c98e",
   "metadata": {
    "execution": {
     "iopub.execute_input": "2023-03-11T06:23:55.981027Z",
     "iopub.status.busy": "2023-03-11T06:23:55.980526Z",
     "iopub.status.idle": "2023-03-11T06:23:55.995039Z",
     "shell.execute_reply": "2023-03-11T06:23:55.994538Z",
     "shell.execute_reply.started": "2023-03-11T06:23:55.981027Z"
    }
   },
   "outputs": [
    {
     "name": "stdout",
     "output_type": "stream",
     "text": [
      "Number of rows : 48359\n",
      "Number of cols : 4147\n"
     ]
    },
    {
     "data": {
      "text/html": [
       "<div>\n",
       "<style scoped>\n",
       "    .dataframe tbody tr th:only-of-type {\n",
       "        vertical-align: middle;\n",
       "    }\n",
       "\n",
       "    .dataframe tbody tr th {\n",
       "        vertical-align: top;\n",
       "    }\n",
       "\n",
       "    .dataframe thead th {\n",
       "        text-align: right;\n",
       "    }\n",
       "</style>\n",
       "<table border=\"1\" class=\"dataframe\">\n",
       "  <thead>\n",
       "    <tr style=\"text-align: right;\">\n",
       "      <th></th>\n",
       "      <th>Transcript</th>\n",
       "      <th>DRR090011</th>\n",
       "      <th>DRR090012</th>\n",
       "      <th>DRR090013</th>\n",
       "      <th>DRR090014</th>\n",
       "      <th>DRR090015</th>\n",
       "      <th>DRR090016</th>\n",
       "      <th>DRR090017</th>\n",
       "      <th>DRR090018</th>\n",
       "      <th>DRR090019</th>\n",
       "    </tr>\n",
       "  </thead>\n",
       "  <tbody>\n",
       "    <tr>\n",
       "      <th>0</th>\n",
       "      <td>AT1G01010.1</td>\n",
       "      <td>17.954</td>\n",
       "      <td>19.723</td>\n",
       "      <td>30.892</td>\n",
       "      <td>25.349</td>\n",
       "      <td>29.913</td>\n",
       "      <td>17.373</td>\n",
       "      <td>25.465</td>\n",
       "      <td>32.010</td>\n",
       "      <td>33.053</td>\n",
       "    </tr>\n",
       "    <tr>\n",
       "      <th>1</th>\n",
       "      <td>AT1G01020.1</td>\n",
       "      <td>2.140</td>\n",
       "      <td>0.000</td>\n",
       "      <td>0.502</td>\n",
       "      <td>1.455</td>\n",
       "      <td>2.084</td>\n",
       "      <td>0.000</td>\n",
       "      <td>1.565</td>\n",
       "      <td>0.626</td>\n",
       "      <td>0.061</td>\n",
       "    </tr>\n",
       "    <tr>\n",
       "      <th>2</th>\n",
       "      <td>AT1G01020.2</td>\n",
       "      <td>11.185</td>\n",
       "      <td>8.385</td>\n",
       "      <td>10.543</td>\n",
       "      <td>12.320</td>\n",
       "      <td>9.219</td>\n",
       "      <td>8.170</td>\n",
       "      <td>8.460</td>\n",
       "      <td>9.685</td>\n",
       "      <td>10.080</td>\n",
       "    </tr>\n",
       "    <tr>\n",
       "      <th>3</th>\n",
       "      <td>AT1G01020.3</td>\n",
       "      <td>0.000</td>\n",
       "      <td>0.000</td>\n",
       "      <td>2.558</td>\n",
       "      <td>0.000</td>\n",
       "      <td>0.006</td>\n",
       "      <td>2.017</td>\n",
       "      <td>1.933</td>\n",
       "      <td>0.000</td>\n",
       "      <td>0.000</td>\n",
       "    </tr>\n",
       "    <tr>\n",
       "      <th>4</th>\n",
       "      <td>AT1G01020.4</td>\n",
       "      <td>3.149</td>\n",
       "      <td>3.576</td>\n",
       "      <td>0.000</td>\n",
       "      <td>1.396</td>\n",
       "      <td>0.574</td>\n",
       "      <td>1.419</td>\n",
       "      <td>1.615</td>\n",
       "      <td>2.902</td>\n",
       "      <td>2.887</td>\n",
       "    </tr>\n",
       "  </tbody>\n",
       "</table>\n",
       "</div>"
      ],
      "text/plain": [
       "    Transcript  DRR090011  DRR090012  DRR090013  DRR090014  DRR090015  \\\n",
       "0  AT1G01010.1     17.954     19.723     30.892     25.349     29.913   \n",
       "1  AT1G01020.1      2.140      0.000      0.502      1.455      2.084   \n",
       "2  AT1G01020.2     11.185      8.385     10.543     12.320      9.219   \n",
       "3  AT1G01020.3      0.000      0.000      2.558      0.000      0.006   \n",
       "4  AT1G01020.4      3.149      3.576      0.000      1.396      0.574   \n",
       "\n",
       "   DRR090016  DRR090017  DRR090018  DRR090019  \n",
       "0     17.373     25.465     32.010     33.053  \n",
       "1      0.000      1.565      0.626      0.061  \n",
       "2      8.170      8.460      9.685     10.080  \n",
       "3      2.017      1.933      0.000      0.000  \n",
       "4      1.419      1.615      2.902      2.887  "
      ]
     },
     "execution_count": 23,
     "metadata": {},
     "output_type": "execute_result"
    }
   ],
   "source": [
    "# Display the first few tpm values\n",
    "\n",
    "analysis_tpm.show(tissue_tpm)"
   ]
  },
  {
   "cell_type": "code",
   "execution_count": 24,
   "id": "85b56ae7-9514-4834-95f0-c6916684b57b",
   "metadata": {
    "execution": {
     "iopub.execute_input": "2023-03-11T06:23:55.996040Z",
     "iopub.status.busy": "2023-03-11T06:23:55.995539Z",
     "iopub.status.idle": "2023-03-11T06:24:00.165621Z",
     "shell.execute_reply": "2023-03-11T06:24:00.165120Z",
     "shell.execute_reply.started": "2023-03-11T06:23:55.996040Z"
    },
    "tags": []
   },
   "outputs": [
    {
     "name": "stdout",
     "output_type": "stream",
     "text": [
      "   Max TPM : 586,287.00000\n",
      "  Mean TPM :      20.67867\n",
      "Median TPM :       1.10162\n",
      "   Min TPM :       0.00000\n"
     ]
    }
   ],
   "source": [
    "# Print the global tpm statistics\n",
    "\n",
    "matrix = tissue_tpm.iloc[:, 1:].to_numpy()\n",
    "\n",
    "print('   Max TPM : {:13,.5f}'.format(numpy.max(matrix)))\n",
    "print('  Mean TPM : {:13,.5f}'.format(numpy.mean(matrix)))\n",
    "print('Median TPM : {:13,.5f}'.format(numpy.median(matrix)))\n",
    "print('   Min TPM : {:13,.5f}'.format(numpy.min(matrix)))"
   ]
  },
  {
   "cell_type": "code",
   "execution_count": 25,
   "id": "19a393d5-4e9b-4f2c-8de8-a540378b6ce0",
   "metadata": {
    "execution": {
     "iopub.execute_input": "2023-03-11T06:24:00.167122Z",
     "iopub.status.busy": "2023-03-11T06:24:00.167122Z",
     "iopub.status.idle": "2023-03-11T06:24:00.971814Z",
     "shell.execute_reply": "2023-03-11T06:24:00.971313Z",
     "shell.execute_reply.started": "2023-03-11T06:24:00.167122Z"
    },
    "tags": []
   },
   "outputs": [
    {
     "name": "stdout",
     "output_type": "stream",
     "text": [
      "   Total elements : 200,496,414\n",
      "Non Zero elements :  98,168,942 [48.96 %]\n",
      "    Zero elements : 102,327,472 [51.04 %]\n"
     ]
    }
   ],
   "source": [
    "# Print the amoutn of tpm reading below or equal 1.0\n",
    "\n",
    "matrix = tissue_tpm.iloc[:, 1:].to_numpy()\n",
    "\n",
    "total = numpy.size(matrix)\n",
    "where = numpy.count_nonzero(matrix <= 1.0)\n",
    "other = total - where\n",
    "\n",
    "print('   Total elements : {:11,d}'.format(total))\n",
    "print('Non Zero elements : {:11,d} [{:5.2f} %]'.format(where, 100 * where / total))\n",
    "print('    Zero elements : {:11,d} [{:5.2f} %]'.format(other, 100 * other / total))"
   ]
  },
  {
   "cell_type": "code",
   "execution_count": 26,
   "id": "2170af3e-2e8a-4592-be45-86f999608b1e",
   "metadata": {
    "execution": {
     "iopub.execute_input": "2023-03-11T06:24:00.972814Z",
     "iopub.status.busy": "2023-03-11T06:24:00.972814Z",
     "iopub.status.idle": "2023-03-11T06:24:01.809035Z",
     "shell.execute_reply": "2023-03-11T06:24:01.808033Z",
     "shell.execute_reply.started": "2023-03-11T06:24:00.972814Z"
    },
    "tags": []
   },
   "outputs": [
    {
     "name": "stdout",
     "output_type": "stream",
     "text": [
      "Elements          : 200,496,414\n",
      "Elements <= 0.000 :  54,210,216 [27.04 %]\n",
      "Elements >  0.000 : 146,286,198 [72.96 %]\n"
     ]
    }
   ],
   "source": [
    "# Print the amoutn of tpm reading below or equal 0.0\n",
    "\n",
    "matrix = tissue_tpm.iloc[:, 1:].to_numpy()\n",
    "\n",
    "total = numpy.size(matrix)\n",
    "where = numpy.count_nonzero(matrix <= 0.0)\n",
    "other = total - where\n",
    "\n",
    "print('Elements          : {:11,d}'.format(total))\n",
    "print('Elements <= 0.000 : {:11,d} [{:5.2f} %]'.format(where, 100 * where / total))\n",
    "print('Elements >  0.000 : {:11,d} [{:5.2f} %]'.format(other, 100 * other / total))"
   ]
  },
  {
   "cell_type": "code",
   "execution_count": 27,
   "id": "6bd17ab7-339c-4883-b347-454f19ec8ec8",
   "metadata": {
    "execution": {
     "iopub.execute_input": "2023-03-11T06:24:01.810034Z",
     "iopub.status.busy": "2023-03-11T06:24:01.810034Z",
     "iopub.status.idle": "2023-03-11T06:24:03.794238Z",
     "shell.execute_reply": "2023-03-11T06:24:03.793237Z",
     "shell.execute_reply.started": "2023-03-11T06:24:01.810034Z"
    },
    "tags": []
   },
   "outputs": [
    {
     "name": "stdout",
     "output_type": "stream",
     "text": [
      "Elements          : 200,496,414\n",
      "Elements <= 0.001 :  57,404,483 [28.63 %]\n",
      "Elements >  0.001 : 143,091,931 [71.37 %]\n"
     ]
    }
   ],
   "source": [
    "# Add small shift to zeros\n",
    "\n",
    "tissue_tpm = tissue_tpm.replace(to_replace = 0.0, value = 0.001, inplace = False)\n",
    "\n",
    "matrix = tissue_tpm.iloc[:, 1:].to_numpy()\n",
    "\n",
    "total = numpy.size(matrix)\n",
    "where = numpy.count_nonzero(matrix <= 0.001)\n",
    "other = total - where\n",
    "\n",
    "print('Elements          : {:11,d}'.format(total))\n",
    "print('Elements <= 0.001 : {:11,d} [{:5.2f} %]'.format(where, 100 * where / total))\n",
    "print('Elements >  0.001 : {:11,d} [{:5.2f} %]'.format(other, 100 * other / total))"
   ]
  },
  {
   "cell_type": "markdown",
   "id": "c978560d-8bee-4549-bb7b-fd8f2224efc1",
   "metadata": {},
   "source": [
    "## 5.2 Filtering"
   ]
  },
  {
   "cell_type": "code",
   "execution_count": 28,
   "id": "3c6be7bf-31a9-41de-aaed-c06049888611",
   "metadata": {
    "execution": {
     "iopub.execute_input": "2023-03-11T06:24:03.796240Z",
     "iopub.status.busy": "2023-03-11T06:24:03.795239Z",
     "iopub.status.idle": "2023-03-11T06:24:03.964385Z",
     "shell.execute_reply": "2023-03-11T06:24:03.963884Z",
     "shell.execute_reply.started": "2023-03-11T06:24:03.796240Z"
    },
    "tags": []
   },
   "outputs": [
    {
     "name": "stdout",
     "output_type": "stream",
     "text": [
      "Problematic items found : 0\n"
     ]
    }
   ],
   "source": [
    "# Filter samples that are problematic globally (looks at entire sample through all transcripts)\n",
    "\n",
    "dataframe, sample_filter = analysis_tpm.filter_samples(\n",
    "\tdata    = tissue_tpm,\n",
    "\tcutoff  = {\n",
    "\t\t'max' : 0.0,\n",
    "\t\t'sum' : 0.0,\n",
    "\t\t'std' : 0.0,\n",
    "\t\t'px0' : [\n",
    "\t\t\t0.0,\n",
    "\t\t\t0.0\n",
    "\t\t]\n",
    "\t}\n",
    ")\n",
    "\n",
    "if len(sample_filter) > 0 :\n",
    "\titem = list(sample_filter.keys())[0]\n",
    "\tdata = dataframe[item].to_numpy()\n",
    "\n",
    "\tprint()\n",
    "\tprint(f'Sample <{item}> has a sum expression : {data.sum():9.4f}')\n",
    "\tprint(f'Sample <{item}> has a max expression : {data.max():9.4f}')\n",
    "\tprint(f'Sample <{item}> has a min expression : {data.min():9.4f}')\n",
    "\n",
    "if len(sample_filter) > 0 :\n",
    "\tarray = list(sample_filter.keys())\n",
    "\ttissue_tpm = tissue_tpm.drop(columns = array)"
   ]
  },
  {
   "cell_type": "code",
   "execution_count": 29,
   "id": "9f8e772b-dbd9-4c4c-8586-f55b212d8603",
   "metadata": {
    "execution": {
     "iopub.execute_input": "2023-03-11T06:24:03.965386Z",
     "iopub.status.busy": "2023-03-11T06:24:03.965386Z",
     "iopub.status.idle": "2023-03-11T06:24:11.114026Z",
     "shell.execute_reply": "2023-03-11T06:24:11.113525Z",
     "shell.execute_reply.started": "2023-03-11T06:24:03.965386Z"
    }
   },
   "outputs": [
    {
     "name": "stdout",
     "output_type": "stream",
     "text": [
      "Problematic items found : 20 --> AT1G24475.1 ; var(TPM) = 0.0\n",
      "\n",
      "Gene <AT1G24475.1> has a sum expression :    4.1460\n",
      "Gene <AT1G24475.1> has a max expression :    0.0010\n",
      "Gene <AT1G24475.1> has a min expression :    0.0010\n"
     ]
    }
   ],
   "source": [
    "# Filter genes that are problematic globally (looks at entire transcript through all samples)\n",
    "\n",
    "dataframe, gene_filter = analysis_tpm.filter_genes(\n",
    "\tdata    = tissue_tpm,\n",
    "\tcutoff  = {\n",
    "\t\t'max' : 0.0,\n",
    "\t\t'sum' : 0.0,\n",
    "\t\t'std' : 0.0,\n",
    "\t\t'px0' : [\n",
    "\t\t\t0.0,\n",
    "\t\t\t0.0\n",
    "\t\t]\n",
    "\t}\n",
    ")\n",
    "\n",
    "if len(gene_filter) > 0 :\n",
    "\titem = list(gene_filter.keys())[0]\n",
    "\tdata = dataframe[item].to_numpy()\n",
    "\n",
    "\tprint()\n",
    "\tprint(f'Gene <{item}> has a sum expression : {data.sum():9.4f}')\n",
    "\tprint(f'Gene <{item}> has a max expression : {data.max():9.4f}')\n",
    "\tprint(f'Gene <{item}> has a min expression : {data.min():9.4f}')\n",
    "\n",
    "if len(gene_filter) > 0 :\n",
    "\tarray = list(gene_filter.keys())\n",
    "\ttissue_tpm = tissue_tpm[~tissue_tpm['Transcript'].isin(array)]"
   ]
  },
  {
   "cell_type": "markdown",
   "id": "f160f239-08db-490e-8c2a-36ec34b57606",
   "metadata": {},
   "source": [
    "# 6. Data"
   ]
  },
  {
   "cell_type": "markdown",
   "id": "261d168e-d969-46c1-9b5c-c0f7f5d51203",
   "metadata": {},
   "source": [
    "## 6.1 Syncronization"
   ]
  },
  {
   "cell_type": "code",
   "execution_count": 30,
   "id": "1ff695c5-8781-4cb4-a701-096e9961de23",
   "metadata": {
    "execution": {
     "iopub.execute_input": "2023-03-11T06:24:11.115527Z",
     "iopub.status.busy": "2023-03-11T06:24:11.115027Z",
     "iopub.status.idle": "2023-03-11T06:24:11.719046Z",
     "shell.execute_reply": "2023-03-11T06:24:11.718044Z",
     "shell.execute_reply.started": "2023-03-11T06:24:11.115527Z"
    },
    "tags": []
   },
   "outputs": [
    {
     "name": "stdout",
     "output_type": "stream",
     "text": [
      "Samples in <tissue-metadata> : 4077 / 4078\n",
      "Samples in <tissue-tpm>      : 4077 / 4146\n",
      "\n",
      "Samples missing in <tissue-metadata> : [69] SRR3151787 SRR1171800 SRR3087310 SRR1171798 SRR7889742 ...\n",
      "Samples missing in <tissue-tpm>      : [1] DRR273449\n"
     ]
    }
   ],
   "source": [
    "# Check for sample matching between tpm and metadata tables\n",
    "\n",
    "x = set(tissue_metadata['Sample'].dropna())\n",
    "y = set(tissue_tpm.columns[1:].dropna())\n",
    "\n",
    "sample_i = list(x.intersection(y))\n",
    "sample_x = list(x.difference(y))\n",
    "sample_y = list(y.difference(x))\n",
    "\n",
    "print(f'Samples in <tissue-metadata> : {len(sample_i)} / {len(x)}')\n",
    "print(f'Samples in <tissue-tpm>      : {len(sample_i)} / {len(y)}')\n",
    "print()\n",
    "print(f'Samples missing in <tissue-metadata> : [{len(sample_y)}] ' + ' '.join(sample_y[:5]) + (' ...' if len(sample_y) > 5 else ''))\n",
    "print(f'Samples missing in <tissue-tpm>      : [{len(sample_x)}] ' + ' '.join(sample_x[:5]) + (' ...' if len(sample_x) > 5 else ''))\n",
    "\n",
    "if len(sample_x) > 0 :\n",
    "\ttissue_metadata = tissue_metadata[~tissue_metadata['Sample'].isin(sample_x)]\n",
    "\n",
    "if len(sample_y) > 0 :\n",
    "\ttissue_tpm = tissue_tpm.drop(columns = sample_y)"
   ]
  },
  {
   "cell_type": "code",
   "execution_count": 31,
   "id": "63a96333-0225-4184-a4f5-1441fe5abdc0",
   "metadata": {
    "execution": {
     "iopub.execute_input": "2023-03-11T06:24:11.720047Z",
     "iopub.status.busy": "2023-03-11T06:24:11.719546Z",
     "iopub.status.idle": "2023-03-11T06:24:12.215473Z",
     "shell.execute_reply": "2023-03-11T06:24:12.214471Z",
     "shell.execute_reply.started": "2023-03-11T06:24:11.720047Z"
    }
   },
   "outputs": [
    {
     "name": "stdout",
     "output_type": "stream",
     "text": [
      "Samples in <tissue-tpm>      : 27403 / 48339\n",
      "Samples in <gene-annotation> : 27403 / 27420\n",
      "\n",
      "Genes missing in <tissue-tpm>      : [17] AT1G64633.1 AT4G09355.1 AT5G07545.1 AT4G12485.1 AT1G33355.1 ...\n",
      "Genes missing in <gene-annotation> : [20936] AT2G27790.3 AT1G28090.5 AT1G25550.2 AT5G36930.2 AT4G16330.2 ...\n"
     ]
    }
   ],
   "source": [
    "# Check for gene matching between tpm and annotation tables\n",
    "\n",
    "x = set(tissue_tpm['Transcript'].dropna())\n",
    "y = set(gene_annotation['Transcript'].dropna())\n",
    "\n",
    "gene_i = list(x.intersection(y))\n",
    "gene_x = list(x.difference(y))\n",
    "gene_y = list(y.difference(x))\n",
    "\n",
    "print(f'Samples in <tissue-tpm>      : {len(gene_i)} / {len(x)}')\n",
    "print(f'Samples in <gene-annotation> : {len(gene_i)} / {len(y)}')\n",
    "print()\n",
    "print(f'Genes missing in <tissue-tpm>      : [{len(gene_y)}] ' + ' '.join(gene_y[:5]) + (' ...' if len(gene_y) > 5 else ''))\n",
    "print(f'Genes missing in <gene-annotation> : [{len(gene_x)}] ' + ' '.join(gene_x[:5]) + (' ...' if len(gene_x) > 5 else ''))\n",
    "\n",
    "if len(gene_x) > 0 :\n",
    "\ttissue_tpm = tissue_tpm[~tissue_tpm['Transcript'].isin(gene_x)]\n",
    "\n",
    "if len(gene_y) > 0 :\n",
    "\tgene_annotation = gene_annotation[~gene_annotation['Transcript'].isin(gene_y)]"
   ]
  },
  {
   "cell_type": "markdown",
   "id": "68c962b0-29e8-4cd0-9cc8-e1122fca1740",
   "metadata": {},
   "source": [
    "## 6.2 Filtering"
   ]
  },
  {
   "cell_type": "code",
   "execution_count": 32,
   "id": "c2f54a9a-fe3f-43e5-bb9c-206be03fcc3a",
   "metadata": {
    "execution": {
     "iopub.execute_input": "2023-03-11T06:24:12.216474Z",
     "iopub.status.busy": "2023-03-11T06:24:12.215973Z",
     "iopub.status.idle": "2023-03-11T06:24:38.966953Z",
     "shell.execute_reply": "2023-03-11T06:24:38.965952Z",
     "shell.execute_reply.started": "2023-03-11T06:24:12.216474Z"
    },
    "tags": []
   },
   "outputs": [
    {
     "name": "stdout",
     "output_type": "stream",
     "text": [
      "Problematic items found : 9216 --> AT1G01060.6 ; p50(TPM) < 1.0\n",
      "Problematic items found : 12240 --> AT1G01060.6 ; p50(TPM) < 1.0\n",
      "Problematic items found : 10191 --> AT1G01030.1 ; p50(TPM) < 1.0\n",
      "Problematic items found : 11541 --> AT1G01060.6 ; p50(TPM) < 1.0\n",
      "Problematic items found : 10653 --> AT1G01060.6 ; p50(TPM) < 1.0\n",
      "\n",
      "Problematic items found : 6824 --> AT3G19410.1 ; p50(TPM) < 1.0 @ seedling\n"
     ]
    }
   ],
   "source": [
    "# Filter genes that are problematic locally (looks at entire transcript through grouped samples; at least one group must satisfy the filter to keep)\n",
    "\n",
    "gene_common, gene_filter = analysis_tpm.filter_genes_per_group(\n",
    "\tmetadata = tissue_metadata,\n",
    "\ttpm      = tissue_tpm,\n",
    "\tgroup    = 'Tissue',\n",
    "\tcutoff   = {\n",
    "\t\t'max' : 0.0,\n",
    "\t\t'sum' : 0.0,\n",
    "\t\t'std' : 0.0,\n",
    "\t\t'px0' : [\n",
    "\t\t\t1.0, # threshold\n",
    "\t\t\t0.5  # percentil\n",
    "\t\t]        # at least 50% of values in a single group must be above 1.0 TPM\n",
    "\t}\n",
    ")\n",
    "\n",
    "if len(gene_common) > 0 :\n",
    "\ttissue_tpm = tissue_tpm[~tissue_tpm['Transcript'].isin(gene_common)]"
   ]
  },
  {
   "cell_type": "code",
   "execution_count": 33,
   "id": "05685fe9-abaf-49e6-9253-e096eafb1511",
   "metadata": {
    "execution": {
     "iopub.execute_input": "2023-03-11T06:24:38.967954Z",
     "iopub.status.busy": "2023-03-11T06:24:38.967954Z",
     "iopub.status.idle": "2023-03-11T06:24:39.076046Z",
     "shell.execute_reply": "2023-03-11T06:24:39.074545Z",
     "shell.execute_reply.started": "2023-03-11T06:24:38.967954Z"
    }
   },
   "outputs": [
    {
     "name": "stdout",
     "output_type": "stream",
     "text": [
      "Samples in <tissue-tpm>      : 20579 / 20579\n",
      "Samples in <gene-annotation> : 20579 / 27403\n",
      "\n",
      "Genes missing in <tissue-tpm>      : [6824] AT3G19410.1 AT2G23980.1 AT1G62915.1 AT4G08025.1 AT1G33010.1 ...\n",
      "Genes missing in <gene-annotation> : [0] \n"
     ]
    }
   ],
   "source": [
    "# Check for gene matching between tpm and annotation tables\n",
    "\n",
    "x = set(tissue_tpm['Transcript'].dropna())\n",
    "y = set(gene_annotation['Transcript'].dropna())\n",
    "\n",
    "gene_i = list(x.intersection(y))\n",
    "gene_x = list(x.difference(y))\n",
    "gene_y = list(y.difference(x))\n",
    "\n",
    "print(f'Samples in <tissue-tpm>      : {len(gene_i)} / {len(x)}')\n",
    "print(f'Samples in <gene-annotation> : {len(gene_i)} / {len(y)}')\n",
    "print()\n",
    "print(f'Genes missing in <tissue-tpm>      : [{len(gene_y)}] ' + ' '.join(gene_y[:5]) + (' ...' if len(gene_y) > 5 else ''))\n",
    "print(f'Genes missing in <gene-annotation> : [{len(gene_x)}] ' + ' '.join(gene_x[:5]) + (' ...' if len(gene_x) > 5 else ''))\n",
    "\n",
    "if len(gene_x) > 0 :\n",
    "\ttissue_tpm = tissue_tpm[~tissue_tpm['Transcript'].isin(gene_x)]\n",
    "\n",
    "if len(gene_y) > 0 :\n",
    "\tgene_annotation = gene_annotation[~gene_annotation['Transcript'].isin(gene_y)]"
   ]
  },
  {
   "cell_type": "markdown",
   "id": "fdb9cf68-a9d2-4ef7-a58e-ef1f636f232b",
   "metadata": {},
   "source": [
    "# 7. Save"
   ]
  },
  {
   "cell_type": "code",
   "execution_count": 34,
   "id": "6adcc12c-8e5e-4dd5-961f-390563c0d9ee",
   "metadata": {
    "execution": {
     "iopub.execute_input": "2023-03-11T06:24:39.077547Z",
     "iopub.status.busy": "2023-03-11T06:24:39.077047Z",
     "iopub.status.idle": "2023-03-11T06:25:45.419537Z",
     "shell.execute_reply": "2023-03-11T06:25:45.418536Z",
     "shell.execute_reply.started": "2023-03-11T06:24:39.077547Z"
    },
    "tags": []
   },
   "outputs": [],
   "source": [
    "# Save the updated and synchronized tables\n",
    "\n",
    "writer.write_csv(\n",
    "\tdata         = tissue_metadata,\n",
    "\tfilename     = os.path.join(OUT_DATA, 'tissue-metadata.csv'),\n",
    "\twrite_index  = False\n",
    ")\n",
    "\n",
    "writer.write_csv(\n",
    "\tdata        = tissue_tpm,\n",
    "\tfilename    = os.path.join(OUT_DATA, 'tissue-tpm.csv'),\n",
    "\twrite_index = False\n",
    ")\n",
    "\n",
    "writer.write_csv(\n",
    "\tdata        = gene_annotation,\n",
    "\tfilename    = os.path.join(OUT_DATA, 'gene-annotation.csv'),\n",
    "\twrite_index = False\n",
    ")"
   ]
  },
  {
   "cell_type": "markdown",
   "id": "7fcc83f3-d752-4abc-826c-041c45eb9ca6",
   "metadata": {},
   "source": [
    "# 8. Visualization"
   ]
  },
  {
   "cell_type": "code",
   "execution_count": 35,
   "id": "d42dda36-8916-435e-bef3-e93fae08649c",
   "metadata": {
    "execution": {
     "iopub.execute_input": "2023-03-11T06:25:45.421038Z",
     "iopub.status.busy": "2023-03-11T06:25:45.420537Z",
     "iopub.status.idle": "2023-03-11T06:25:47.156028Z",
     "shell.execute_reply": "2023-03-11T06:25:47.155527Z",
     "shell.execute_reply.started": "2023-03-11T06:25:45.421038Z"
    },
    "tags": []
   },
   "outputs": [
    {
     "data": {
      "image/png": "[encoded data removed]",
      "text/plain": [
       "<Figure size 1600x1000 with 1 Axes>"
      ]
     },
     "metadata": {},
     "output_type": "display_data"
    },
    {
     "data": {
      "image/png": "[encoded data removed]",
      "text/plain": [
       "<Figure size 1600x1000 with 1 Axes>"
      ]
     },
     "metadata": {},
     "output_type": "display_data"
    },
    {
     "data": {
      "image/png": "[encoded data removed]",
      "text/plain": [
       "<Figure size 1600x1000 with 1 Axes>"
      ]
     },
     "metadata": {},
     "output_type": "display_data"
    },
    {
     "data": {
      "image/png": "[encoded data removed]",
      "text/plain": [
       "<Figure size 1600x1000 with 1 Axes>"
      ]
     },
     "metadata": {},
     "output_type": "display_data"
    }
   ],
   "source": [
    "# Display the distribution of groups for all samples\n",
    "\n",
    "for group in ['tissue', 'age', 'group', 'perturbation'] :\n",
    "\tanalysis_metadata.distribution_barplot(\n",
    "\t\tdata     = tissue_metadata,\n",
    "\t\tgroup    = group.capitalize(),\n",
    "\t\tfilename = os.path.join(OUT_PLOT, 'distribution-' + group)\n",
    "\t)\n",
    "\n",
    "\tmatplotlib.pyplot.show()"
   ]
  },
  {
   "cell_type": "code",
   "execution_count": 36,
   "id": "586d54cc-716d-423c-953c-991d1ffb2838",
   "metadata": {
    "execution": {
     "iopub.execute_input": "2023-03-11T06:25:47.157529Z",
     "iopub.status.busy": "2023-03-11T06:25:47.157029Z",
     "iopub.status.idle": "2023-03-11T06:25:50.613999Z",
     "shell.execute_reply": "2023-03-11T06:25:50.613499Z",
     "shell.execute_reply.started": "2023-03-11T06:25:47.157529Z"
    }
   },
   "outputs": [
    {
     "data": {
      "image/png": "[encoded data removed]",
      "text/plain": [
       "<Figure size 1600x1000 with 1 Axes>"
      ]
     },
     "metadata": {},
     "output_type": "display_data"
    },
    {
     "data": {
      "image/png": "[encoded data removed]",
      "text/plain": [
       "<Figure size 1600x1000 with 1 Axes>"
      ]
     },
     "metadata": {},
     "output_type": "display_data"
    },
    {
     "data": {
      "image/png": "[encoded data removed]",
      "text/plain": [
       "<Figure size 1600x1000 with 1 Axes>"
      ]
     },
     "metadata": {},
     "output_type": "display_data"
    },
    {
     "data": {
      "image/png": "[encoded data removed]",
      "text/plain": [
       "<Figure size 1600x1000 with 1 Axes>"
      ]
     },
     "metadata": {},
     "output_type": "display_data"
    }
   ],
   "source": [
    "# Display the region length distributions per each region\n",
    "\n",
    "with warnings.catch_warnings() :\n",
    "\twarnings.simplefilter('ignore')\n",
    "\n",
    "\tfor group, vline in zip(['mRNA', 'UTR5', 'CDS', 'UTR3'], [0, 300, 0, 350]) :\n",
    "\t\tanalysis_annotation.length_histplot(\n",
    "\t\t\tdata     = gene_annotation,\n",
    "\t\t\tvalue    = group,\n",
    "\t\t\tvline    = vline,\n",
    "\t\t\tfilename = os.path.join(OUT_PLOT, 'length-region-' + group.lower())\n",
    "\t\t)"
   ]
  },
  {
   "cell_type": "code",
   "execution_count": 37,
   "id": "7950f75f-90c1-4271-8fb9-5a8fb702632e",
   "metadata": {
    "execution": {
     "iopub.execute_input": "2023-03-11T06:25:50.615000Z",
     "iopub.status.busy": "2023-03-11T06:25:50.615000Z",
     "iopub.status.idle": "2023-03-11T06:26:36.412841Z",
     "shell.execute_reply": "2023-03-11T06:26:36.412341Z",
     "shell.execute_reply.started": "2023-03-11T06:25:50.615000Z"
    },
    "tags": []
   },
   "outputs": [
    {
     "data": {
      "image/png": "[encoded data removed]",
      "text/plain": [
       "<Figure size 1600x1000 with 1 Axes>"
      ]
     },
     "metadata": {},
     "output_type": "display_data"
    },
    {
     "data": {
      "image/png": "[encoded data removed]",
      "text/plain": [
       "<Figure size 1600x1000 with 1 Axes>"
      ]
     },
     "metadata": {},
     "output_type": "display_data"
    },
    {
     "data": {
      "image/png": "[encoded data removed]",
      "text/plain": [
       "<Figure size 1600x1000 with 1 Axes>"
      ]
     },
     "metadata": {},
     "output_type": "display_data"
    },
    {
     "data": {
      "image/png": "[encoded data removed]",
      "text/plain": [
       "<Figure size 1600x1000 with 1 Axes>"
      ]
     },
     "metadata": {},
     "output_type": "display_data"
    }
   ],
   "source": [
    "# Display the region length distributions per each region (grouped regions)\n",
    "\n",
    "dataframe = analysis_annotation.group_regions(\n",
    "\tdata    = gene_annotation,\n",
    "\tgroupby = 'Transcript',\n",
    "\tregions = ['mRNA', 'UTR5', 'CDS', 'UTR3']\n",
    ")\n",
    "\n",
    "with warnings.catch_warnings() :\n",
    "\twarnings.simplefilter('ignore')\n",
    "\n",
    "\tfor group, vline in zip(['mRNA', 'UTR5', 'CDS', 'UTR3'], [0, 300, 0, 350]) :\n",
    "\t\tanalysis_annotation.length_histplot(\n",
    "\t\t\tdata     = dataframe,\n",
    "\t\t\tvalue    = group,\n",
    "\t\t\tvline    = vline,\n",
    "\t\t\tfilename = os.path.join(OUT_PLOT, 'length-transcript-' + group.lower())\n",
    "\t\t)"
   ]
  }
 ],
 "metadata": {
  "kernelspec": {
   "display_name": "Python 3 (ipykernel)",
   "language": "python",
   "name": "python3"
  },
  "language_info": {
   "codemirror_mode": {
    "name": "ipython",
    "version": 3
   },
   "file_extension": ".py",
   "mimetype": "text/x-python",
   "name": "python",
   "nbconvert_exporter": "python",
   "pygments_lexer": "ipython3",
   "version": "3.10.7"
  }
 },
 "nbformat": 4,
 "nbformat_minor": 5
}
