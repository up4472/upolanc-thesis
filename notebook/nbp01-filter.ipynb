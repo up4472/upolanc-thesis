{
 "cells": [
  {
   "cell_type": "code",
   "execution_count": null,
   "id": "1f25eb7c-230c-4c7d-bf05-94e980e5f1a3",
   "metadata": {
    "tags": []
   },
   "outputs": [],
   "source": [
    "# Libraries\n",
    "\n",
    "import matplotlib\n",
    "import os\n",
    "import platform\n",
    "import shutil\n",
    "import sys\n",
    "import warnings"
   ]
  },
  {
   "cell_type": "code",
   "execution_count": null,
   "id": "515d2035-d2d1-454e-84aa-47a84c2b3ce7",
   "metadata": {
    "tags": []
   },
   "outputs": [],
   "source": [
    "# Ensure source path\n",
    "\n",
    "ROOT = os.getcwd()\n",
    "\n",
    "while not ROOT.endswith('upolanc-thesis') :\n",
    "\tROOT = os.path.abspath(os.path.join(ROOT, os.pardir))\n",
    "\n",
    "\tif len(ROOT) < len('upolanc-thesis') :\n",
    "\t\tif   platform.system() == 'Linux'   : ROOT = '/d/hpc/projects/FRI/up4472/upolanc-thesis'\n",
    "\t\telif platform.system() == 'Windows' : ROOT = 'C:\\\\Developer\\\\Workspace\\\\PyCharm\\\\Projects\\\\upolanc-thesis'\n",
    "\t\telse : raise ValueError()\n",
    "\n",
    "\t\tprint(f'Warning : could not find correct directory, using default : {ROOT}')\n",
    "\t\tprint()\n",
    "\n",
    "\t\tbreak\n",
    "\n",
    "if ROOT not in sys.path :\n",
    "\tsys.path.append(ROOT)\n",
    "\n",
    "os.chdir(ROOT)"
   ]
  },
  {
   "cell_type": "code",
   "execution_count": null,
   "id": "f91d0765-eef6-4208-8c86-093f9d25a621",
   "metadata": {
    "tags": []
   },
   "outputs": [],
   "source": [
    "# Code\n",
    "\n",
    "from source.python               import runtime\n",
    "from source.python.data.analysis import analysis_annotation\n",
    "from source.python.data.analysis import analysis_assembly\n",
    "from source.python.data.analysis import analysis_metadata\n",
    "from source.python.data.analysis import analysis_tpm\n",
    "from source.python.io            import loader\n",
    "from source.python.io            import writer\n",
    "\n",
    "runtime.set_numpy_format()\n",
    "runtime.set_pandas_format()\n",
    "runtime.set_plot_theme()"
   ]
  },
  {
   "cell_type": "markdown",
   "id": "facb54aa-3adb-4deb-a89b-3b45540d9a5f",
   "metadata": {},
   "source": [
    "# 1. Setup"
   ]
  },
  {
   "cell_type": "code",
   "execution_count": null,
   "id": "a2deb09c-2a4e-4701-a2cd-6e9d7c706daf",
   "metadata": {
    "tags": []
   },
   "outputs": [],
   "source": [
    "# Setup some directory paths\n",
    "\n",
    "# 0 -         none\n",
    "# 1 -          all -          longest transcript per gene\n",
    "# 2 -          all - maximum mean tpm transcript per gene\n",
    "# 3 -          tpm - transcript global avg >  5\n",
    "# 4 - perturbation - control + unstressed\n",
    "# 5 -       strand - positive strand\n",
    "# 6 -          tpm - transcript global avg > 10\n",
    "\n",
    "FILTER_ID = 2\n",
    "SUBFOLDER = 'filter' + str(FILTER_ID)\n",
    "\n",
    "CWD = ROOT\n",
    "OUT = os.path.join(CWD, 'output')\n",
    "RES = os.path.join(CWD, 'resources')\n",
    "\n",
    "OUT_DATA   = os.path.join(OUT,      'nbp01-filter', SUBFOLDER)\n",
    "OUT_PLOT   = os.path.join(OUT_DATA, 'plot')\n",
    "RES_GENOME = os.path.join(RES,      'genome')\n",
    "RES_NBP00  = os.path.join(OUT,      'nbp00-analysis')\n",
    "\n",
    "shutil.rmtree(OUT_DATA, ignore_errors = True)\n",
    "\n",
    "os.makedirs(OUT_DATA, exist_ok = True)\n",
    "os.makedirs(OUT_PLOT, exist_ok = True)\n",
    "\n",
    "print(f'     Root Directory : {CWD}')\n",
    "print(f'   Output Directory : {OUT_DATA}')\n",
    "print(f'   Output Directory : {OUT_PLOT}')\n",
    "print(f' Resource Directory : {RES_GENOME}')\n",
    "print()"
   ]
  },
  {
   "cell_type": "code",
   "execution_count": null,
   "id": "4f7609ba-57d4-419d-bb92-b6ad0e04cf5d",
   "metadata": {
    "tags": []
   },
   "outputs": [],
   "source": [
    "# Load the updated and synchronized data\n",
    "\n",
    "genome_assembly = loader.load_faidx(\n",
    "\tfilename  = os.path.join(RES_GENOME, 'arabidopsis-r36', 'gene-assembly.fa')\n",
    ")\n",
    "\n",
    "genome_annotation = loader.load_csv(\n",
    "\tfilename   = os.path.join(RES_NBP00, 'gene-annotation.csv'),\n",
    "\tlow_memory = False\n",
    ")\n",
    "\n",
    "tissue_metadata = loader.load_csv(\n",
    "\tfilename = os.path.join(RES_NBP00, 'tissue-metadata.csv')\n",
    ")\n",
    "\n",
    "tissue_tpm = loader.load_csv(\n",
    "\tfilename = os.path.join(RES_NBP00, 'tissue-tpm.csv')\n",
    ")"
   ]
  },
  {
   "cell_type": "code",
   "execution_count": null,
   "id": "86da9102-63c1-4dd3-878f-141e82d4aaad",
   "metadata": {
    "tags": []
   },
   "outputs": [],
   "source": [
    "# Define filtering factors\n",
    "\n",
    "FILTER = {\n",
    "\t'id'                          : FILTER_ID,\n",
    "\t'desc'                        : 'none',\n",
    "\t'keep_transcript'             : 'none',\n",
    "\t'keep_age'                    : None,\n",
    "\t'keep_perturbation'           : None,\n",
    "\t'keep_tissue'                 : None,\n",
    "\t'keep_group'                  : None,\n",
    "\t'keep_strand'                 : None,\n",
    "\t'tissue_percentage_threshold' : 0.01,\n",
    "\n",
    "\t# Per sample filter\n",
    "\t'sample_filter_global' : {\n",
    "\t\t'max' : 0.0,\n",
    "\t\t'sum' : 0.0,\n",
    "\t\t'avg' : 0.0,\n",
    "\t\t'std' : 0.0,\n",
    "\t\t'px0' : [\n",
    "\t\t\t0.0,\n",
    "\t\t\t0.0\n",
    "\t\t]\n",
    "\t},\n",
    "\n",
    "\t# Per transcript filter\n",
    "\t'transcript_filter_global' : {\n",
    "\t\t'max' : 0.0,\n",
    "\t\t'sum' : 0.0,\n",
    "\t\t'avg' : 0.0,\n",
    "\t\t'std' : 0.0,\n",
    "\t\t'px0' : [\n",
    "\t\t\t0.0,\n",
    "\t\t\t0.0\n",
    "\t\t]\n",
    "\t},\n",
    "\n",
    "\t# Per tissue-transcript filter\n",
    "\t'transcript_filter_tissue' : {\n",
    "\t\t'max' : 0.0,\n",
    "\t\t'sum' : 0.0,\n",
    "\t\t'avg' : 0.0,\n",
    "\t\t'std' : 0.0,\n",
    "\t\t'px0' : [\n",
    "\t\t\t1.0,\n",
    "\t\t\t0.5\n",
    "\t\t]\n",
    "\t},\n",
    "\t'data' : {\n",
    "\t\t'drop_transcript' : list(),\n",
    "\t\t'keep_transcript' : list()\n",
    "\t}\n",
    "}\n",
    "\n",
    "if FILTER_ID == 1 :\n",
    "\tFILTER['desc'] = 'all - longest transcript per gene'\n",
    "\tFILTER['keep_transcript'] = 'longest_per_mrna'\n",
    "\n",
    "if FILTER_ID == 2 :\n",
    "\tFILTER['desc'] = 'all - maximum mean tpm transcript per gene'\n",
    "\tFILTER['keep_transcript'] = 'maximum_mean_per_mrna'\n",
    "\n",
    "if FILTER_ID == 3 :\n",
    "\tFILTER['desc'] = 'tpm - transcript global avg > 5'\n",
    "\tFILTER['transcript_filter_global']['avg'] = 5.0\n",
    "\tFILTER['keep_transcript'] = 'maximum_mean_per_mrna'\n",
    "\n",
    "if FILTER_ID == 4 :\n",
    "\tFILTER['desc'] = 'pertrurbation - control + unstressed'\n",
    "\tFILTER['keep_perturbation'] = ['control', 'unstressed']\n",
    "\tFILTER['keep_transcript'] = 'maximum_mean_per_mrna'\n",
    "\n",
    "if FILTER_ID == 5 :\n",
    "\tFILTER['desc'] = 'strand - positive'\n",
    "\tFILTER['keep_strand'] = ['+']\n",
    "\tFILTER['keep_transcript'] = 'maximum_mean_per_mrna'\n",
    "\n",
    "if FILTER_ID == 6 :\n",
    "\tFILTER['desc'] = 'tpm - transcript global avg > 10'\n",
    "\tFILTER['transcript_filter_global']['avg'] = 10.0\n",
    "\tFILTER['keep_transcript'] = 'maximum_mean_per_mrna'"
   ]
  },
  {
   "cell_type": "markdown",
   "id": "e821c0b7-e284-4059-b8bf-7977c7e264c8",
   "metadata": {},
   "source": [
    "# 2. Annotation"
   ]
  },
  {
   "cell_type": "code",
   "execution_count": null,
   "id": "25f3f2c2-e519-4102-a80e-79ab7d589083",
   "metadata": {
    "tags": []
   },
   "outputs": [],
   "source": [
    "# Keep only the longest transcripts per gene\n",
    "\n",
    "gcount = genome_annotation['Gene'].nunique()\n",
    "tcount = genome_annotation['Transcript'].nunique()\n",
    "\n",
    "if FILTER['keep_transcript'] == 'longest_per_mrna' :\n",
    "\tdata = genome_annotation.copy()\n",
    "\tdata = data[data['Type'] == 'mRNA']\n",
    "\n",
    "\tdata = data[data.groupby('Gene')['Length'    ].transform(max) == data['Length']]\n",
    "\tdata = data[data.groupby('Gene')['Transcript'].transform(min) == data['Transcript']]\n",
    "\n",
    "\tgenome_annotation = genome_annotation[genome_annotation['Transcript'].isin(data['Transcript'])]\n",
    "\n",
    "if FILTER['keep_transcript'] == 'maximum_mean_per_mrna' :\n",
    "\tdata = genome_annotation.copy()\n",
    "\tdata = data[data['Type'] == 'mRNA']\n",
    "\n",
    "\tdata['TPM'] = data['Transcript'].map(lambda x : tissue_tpm[tissue_tpm['Transcript'] == x].iloc[0, 1:].mean())\n",
    "\n",
    "\tdata = data[data.groupby('Gene')['TPM'       ].transform(max) == data['TPM']]\n",
    "\tdata = data[data.groupby('Gene')['Transcript'].transform(min) == data['Transcript']]\n",
    "\n",
    "\tgenome_annotation = genome_annotation[genome_annotation['Transcript'].isin(data['Transcript'])]\n",
    "\n",
    "print('Gene       : {:} -> {:}'.format(gcount, genome_annotation['Gene'].nunique(dropna = True)))\n",
    "print('Transcript : {:} -> {:}'.format(tcount, genome_annotation['Transcript'].nunique(dropna = True)))\n",
    "print()"
   ]
  },
  {
   "cell_type": "markdown",
   "id": "d64d8252-229f-49b7-97a1-1bfc0ac3bf4c",
   "metadata": {},
   "source": [
    "# 3. Metadata"
   ]
  },
  {
   "cell_type": "code",
   "execution_count": null,
   "id": "55b2e5c5-bb74-4bfa-a54f-104739696b15",
   "metadata": {
    "tags": []
   },
   "outputs": [],
   "source": [
    "# Drop any tissue below a given threshold\n",
    "\n",
    "threshold = FILTER['tissue_percentage_threshold']\n",
    "threshold = round(threshold * len(tissue_metadata))\n",
    "samples   = list()\n",
    "\n",
    "if threshold > 0 :\n",
    "\tfor tissue, dataframe in tissue_metadata.groupby('Tissue') :\n",
    "\t\tif len(dataframe) < threshold :\n",
    "\t\t\tsamples.append(tissue)\n",
    "\n",
    "\ttissue_metadata = tissue_metadata.loc[~tissue_metadata['Tissue'].isin(samples)]\n",
    "\n",
    "print('Drop threshold : {}'.format(threshold))\n",
    "print('Drop count     : {}'.format(len(samples)))\n",
    "print('Drop groups    : {}'.format(', '.join(samples)))\n",
    "print()"
   ]
  },
  {
   "cell_type": "markdown",
   "id": "62326e90-60c0-42af-b510-b4274c9c2f31",
   "metadata": {},
   "source": [
    "# 4. Filter Basic"
   ]
  },
  {
   "cell_type": "code",
   "execution_count": null,
   "id": "3c6be7bf-31a9-41de-aaed-c06049888611",
   "metadata": {
    "tags": []
   },
   "outputs": [],
   "source": [
    "# Filter samples that are problematic globally (looks at entire sample through all transcripts)\n",
    "\n",
    "dataframe, sample_filter = analysis_tpm.filter_samples(\n",
    "\tdata    = tissue_tpm,\n",
    "\tcutoff  = FILTER['sample_filter_global']\n",
    ")\n",
    "\n",
    "sample_filter = list(sample_filter.keys())\n",
    "\n",
    "if len(sample_filter) > 0 :\n",
    "\titem = sample_filter[0]\n",
    "\tdata = dataframe[item].to_numpy()\n",
    "\n",
    "\tprint()\n",
    "\tprint(f'Sample <{item}> has a sum expression : {data.sum():9.4f}')\n",
    "\tprint(f'Sample <{item}> has a max expression : {data.max():9.4f}')\n",
    "\tprint(f'Sample <{item}> has a min expression : {data.min():9.4f}')\n",
    "\tprint()\n",
    "\n",
    "if len(sample_filter) > 0 :\n",
    "\ttissue_tpm = tissue_tpm.drop(columns = sample_filter)"
   ]
  },
  {
   "cell_type": "code",
   "execution_count": null,
   "id": "ff9607be-a9a7-4ebb-848c-0e791c36a75d",
   "metadata": {
    "tags": []
   },
   "outputs": [],
   "source": [
    "# Check for sample matching between tpm and metadata tables\n",
    "\n",
    "x = set(tissue_metadata['Sample'].dropna())\n",
    "y = set(tissue_tpm.columns[1:].dropna())\n",
    "\n",
    "sample_i = list(x.intersection(y))\n",
    "sample_x = list(x.difference(y))\n",
    "sample_y = list(y.difference(x))\n",
    "\n",
    "print(f'Samples in <tissue-metadata> : {len(sample_i)} / {len(x)}')\n",
    "print(f'Samples in <tissue-tpm>      : {len(sample_i)} / {len(y)}')\n",
    "print()\n",
    "print(f'Samples missing in <tissue-metadata> : [{len(sample_y)}] ' + ' '.join(sample_y[:5]) + (' ...' if len(sample_y) > 5 else ''))\n",
    "print(f'Samples missing in <tissue-tpm>      : [{len(sample_x)}] ' + ' '.join(sample_x[:5]) + (' ...' if len(sample_x) > 5 else ''))\n",
    "print()\n",
    "\n",
    "if len(sample_x) > 0 :\n",
    "\ttissue_metadata = tissue_metadata[~tissue_metadata['Sample'].isin(sample_x)]\n",
    "\n",
    "if len(sample_y) > 0 :\n",
    "\ttissue_tpm = tissue_tpm.drop(columns = sample_y)\n",
    "\n",
    "x = set(tissue_metadata['Sample'].dropna())\n",
    "y = set(tissue_tpm.columns[1:].dropna())\n",
    "\n",
    "sample_i = list(x.intersection(y))\n",
    "sample_x = list(x.difference(y))\n",
    "sample_y = list(y.difference(x))\n",
    "\n",
    "print(f'Samples in <tissue-metadata> : {len(sample_i)} / {len(x)}')\n",
    "print(f'Samples in <tissue-tpm>      : {len(sample_i)} / {len(y)}')\n",
    "print()\n",
    "print(f'Samples missing in <tissue-metadata> : [{len(sample_y)}] ' + ' '.join(sample_y[:5]) + (' ...' if len(sample_y) > 5 else ''))\n",
    "print(f'Samples missing in <tissue-tpm>      : [{len(sample_x)}] ' + ' '.join(sample_x[:5]) + (' ...' if len(sample_x) > 5 else ''))\n",
    "print()"
   ]
  },
  {
   "cell_type": "code",
   "execution_count": null,
   "id": "9f8e772b-dbd9-4c4c-8586-f55b212d8603",
   "metadata": {
    "tags": []
   },
   "outputs": [],
   "source": [
    "# Filter genes that are problematic globally (looks at entire transcript through all samples)\n",
    "\n",
    "dataframe, gene_filter = analysis_tpm.filter_genes(\n",
    "\tdata    = tissue_tpm,\n",
    "\tcutoff  = FILTER['transcript_filter_global']\n",
    ")\n",
    "\n",
    "gene_filter = list(gene_filter.keys())\n",
    "\n",
    "if len(gene_filter) > 0 :\n",
    "\titem = gene_filter[0]\n",
    "\tdata = dataframe[item].to_numpy()\n",
    "\n",
    "\tprint()\n",
    "\tprint(f'Gene <{item}> has a sum expression : {data.sum():9.4f}')\n",
    "\tprint(f'Gene <{item}> has a avg expression : {data.mean():9.4f}')\n",
    "\tprint(f'Gene <{item}> has a max expression : {data.max():9.4f}')\n",
    "\tprint(f'Gene <{item}> has a min expression : {data.min():9.4f}')\n",
    "\tprint()\n",
    "\n",
    "FILTER['data']['drop_transcript'].extend(gene_filter)"
   ]
  },
  {
   "cell_type": "code",
   "execution_count": null,
   "id": "63a96333-0225-4184-a4f5-1441fe5abdc0",
   "metadata": {
    "tags": []
   },
   "outputs": [],
   "source": [
    "# Check for gene matching between tpm and annotation tables\n",
    "\n",
    "x = set(tissue_tpm['Transcript'].dropna())\n",
    "y = set(genome_annotation['Transcript'].dropna())\n",
    "\n",
    "gene_i = list(x.intersection(y))\n",
    "gene_x = list(x.difference(y))\n",
    "gene_y = list(y.difference(x))\n",
    "\n",
    "print(f'Samples in <tissue-tpm>        : {len(gene_i)} / {len(x)}')\n",
    "print(f'Samples in <genome-annotation> : {len(gene_i)} / {len(y)}')\n",
    "print()\n",
    "print(f'Genes missing in <tissue-tpm>        : [{len(gene_y)}] ' + ' '.join(gene_y[:5]) + (' ...' if len(gene_y) > 5 else ''))\n",
    "print(f'Genes missing in <genome-annotation> : [{len(gene_x)}] ' + ' '.join(gene_x[:5]) + (' ...' if len(gene_x) > 5 else ''))\n",
    "print()\n",
    "\n",
    "if len(gene_x) > 0 :\n",
    "\ttissue_tpm = tissue_tpm[~tissue_tpm['Transcript'].isin(gene_x)]\n",
    "\n",
    "if len(gene_y) > 0 :\n",
    "\tgenome_annotation = genome_annotation[~genome_annotation['Transcript'].isin(gene_y)]\n",
    "\n",
    "x = set(tissue_tpm['Transcript'].dropna())\n",
    "y = set(genome_annotation['Transcript'].dropna())\n",
    "\n",
    "gene_i = list(x.intersection(y))\n",
    "gene_x = list(x.difference(y))\n",
    "gene_y = list(y.difference(x))\n",
    "\n",
    "print(f'Samples in <tissue-tpm>        : {len(gene_i)} / {len(x)}')\n",
    "print(f'Samples in <genome-annotation> : {len(gene_i)} / {len(y)}')\n",
    "print()\n",
    "print(f'Genes missing in <tissue-tpm>        : [{len(gene_y)}] ' + ' '.join(gene_y[:5]) + (' ...' if len(gene_y) > 5 else ''))\n",
    "print(f'Genes missing in <genome-annotation> : [{len(gene_x)}] ' + ' '.join(gene_x[:5]) + (' ...' if len(gene_x) > 5 else ''))\n",
    "print()"
   ]
  },
  {
   "cell_type": "markdown",
   "id": "68c962b0-29e8-4cd0-9cc8-e1122fca1740",
   "metadata": {},
   "source": [
    "# 5. Filter Groups"
   ]
  },
  {
   "cell_type": "code",
   "execution_count": null,
   "id": "c2f54a9a-fe3f-43e5-bb9c-206be03fcc3a",
   "metadata": {
    "tags": []
   },
   "outputs": [],
   "source": [
    "# Filter genes that are problematic locally (looks at entire transcript through grouped samples; at least one group must satisfy the filter to keep)\n",
    "\n",
    "gene_common, gene_filter = analysis_tpm.filter_genes_per_group(\n",
    "\tmetadata = tissue_metadata,\n",
    "\ttpm      = tissue_tpm,\n",
    "\tgroup    = 'Tissue',\n",
    "\tcutoff   = FILTER['transcript_filter_tissue']\n",
    ")\n",
    "\n",
    "FILTER['data']['drop_transcript'].extend(gene_common)"
   ]
  },
  {
   "cell_type": "code",
   "execution_count": null,
   "id": "05685fe9-abaf-49e6-9253-e096eafb1511",
   "metadata": {
    "tags": []
   },
   "outputs": [],
   "source": [
    "# Check for gene matching between tpm and annotation tables\n",
    "\n",
    "x = set(tissue_tpm['Transcript'].dropna())\n",
    "y = set(genome_annotation['Transcript'].dropna())\n",
    "\n",
    "gene_i = list(x.intersection(y))\n",
    "gene_x = list(x.difference(y))\n",
    "gene_y = list(y.difference(x))\n",
    "\n",
    "print(f'Samples in <tissue-tpm>        : {len(gene_i)} / {len(x)}')\n",
    "print(f'Samples in <genome-annotation> : {len(gene_i)} / {len(y)}')\n",
    "print()\n",
    "print(f'Genes missing in <tissue-tpm>        : [{len(gene_y)}] ' + ' '.join(gene_y[:5]) + (' ...' if len(gene_y) > 5 else ''))\n",
    "print(f'Genes missing in <genome-annotation> : [{len(gene_x)}] ' + ' '.join(gene_x[:5]) + (' ...' if len(gene_x) > 5 else ''))\n",
    "print()\n",
    "\n",
    "if len(gene_x) > 0 :\n",
    "\ttissue_tpm = tissue_tpm[~tissue_tpm['Transcript'].isin(gene_x)]\n",
    "\n",
    "if len(gene_y) > 0 :\n",
    "\tgenome_annotation = genome_annotation[~genome_annotation['Transcript'].isin(gene_y)]\n",
    "\n",
    "x = set(tissue_tpm['Transcript'].dropna())\n",
    "y = set(genome_annotation['Transcript'].dropna())\n",
    "\n",
    "gene_i = list(x.intersection(y))\n",
    "gene_x = list(x.difference(y))\n",
    "gene_y = list(y.difference(x))\n",
    "\n",
    "print(f'Samples in <tissue-tpm>        : {len(gene_i)} / {len(x)}')\n",
    "print(f'Samples in <genome-annotation> : {len(gene_i)} / {len(y)}')\n",
    "print()\n",
    "print(f'Genes missing in <tissue-tpm>        : [{len(gene_y)}] ' + ' '.join(gene_y[:5]) + (' ...' if len(gene_y) > 5 else ''))\n",
    "print(f'Genes missing in <genome-annotation> : [{len(gene_x)}] ' + ' '.join(gene_x[:5]) + (' ...' if len(gene_x) > 5 else ''))\n",
    "print()"
   ]
  },
  {
   "cell_type": "markdown",
   "id": "40a0b206-2343-4350-9299-d52f22bcc30d",
   "metadata": {},
   "source": [
    "# 6. Filter Samples"
   ]
  },
  {
   "cell_type": "code",
   "execution_count": null,
   "id": "db7de21d-d1ad-4557-8faa-c556888b4920",
   "metadata": {
    "tags": []
   },
   "outputs": [],
   "source": [
    "# Filter specific tags\n",
    "\n",
    "if FILTER['keep_age'] is not None :\n",
    "\tsample_count    = len(tissue_metadata)\n",
    "\ttissue_metadata = tissue_metadata[tissue_metadata['Age'].isin(FILTER['keep_age'])].copy()\n",
    "\tsample_count    = sample_count - len(tissue_metadata)\n",
    "\n",
    "\tprint('Filterd [{:4d}] samples due to [{:12s}] not beeing in [{}]'.format(sample_count, 'Age', ', '.join(FILTER['keep_age'])))\n",
    "\tprint()\n",
    "\n",
    "if FILTER['keep_perturbation'] is not None :\n",
    "\tsample_count    = len(tissue_metadata)\n",
    "\ttissue_metadata = tissue_metadata[tissue_metadata['Perturbation'].isin(FILTER['keep_perturbation'])].copy()\n",
    "\tsample_count    = sample_count - len(tissue_metadata)\n",
    "\n",
    "\tprint('Filterd [{:4d}] samples due to [{:12s}] not beeing in [{}]'.format(sample_count, 'Perturbation', ', '.join(FILTER['keep_perturbation'])))\n",
    "\tprint()\n",
    "\n",
    "if FILTER['keep_tissue'] is not None :\n",
    "\tsample_count    = len(tissue_metadata)\n",
    "\ttissue_metadata = tissue_metadata[tissue_metadata['Tissue'].isin(FILTER['keep_tissue'])].copy()\n",
    "\tsample_count    = sample_count - len(tissue_metadata)\n",
    "\n",
    "\tprint('Filterd [{:4d}] samples due to [{:12s}] not beeing in [{}]'.format(sample_count, 'Tissue', ', '.join(FILTER['keep_tissue'])))\n",
    "\tprint()\n",
    "\n",
    "if FILTER['keep_group'] is not None :\n",
    "\tsample_count    = len(tissue_metadata)\n",
    "\ttissue_metadata = tissue_metadata[tissue_metadata['Group'].isin(FILTER['keep_group'])].copy()\n",
    "\tsample_count    = sample_count - len(tissue_metadata)\n",
    "\n",
    "\tprint('Filterd [{:4d}] samples due to [{:12s}] not beeing in [{}]'.format(sample_count, 'Group', ', '.join(FILTER['keep_group'])))\n",
    "\tprint()"
   ]
  },
  {
   "cell_type": "code",
   "execution_count": null,
   "id": "59a9471d-42dd-4156-895c-c91f207c8272",
   "metadata": {
    "tags": []
   },
   "outputs": [],
   "source": [
    "# Check for sample matching between tpm and metadata tables\n",
    "\n",
    "x = set(tissue_metadata['Sample'].dropna())\n",
    "y = set(tissue_tpm.columns[1:].dropna())\n",
    "\n",
    "sample_i = list(x.intersection(y))\n",
    "sample_x = list(x.difference(y))\n",
    "sample_y = list(y.difference(x))\n",
    "\n",
    "print(f'Samples in <tissue-metadata> : {len(sample_i)} / {len(x)}')\n",
    "print(f'Samples in <tissue-tpm>      : {len(sample_i)} / {len(y)}')\n",
    "print()\n",
    "print(f'Samples missing in <tissue-metadata> : [{len(sample_y)}] ' + ' '.join(sample_y[:5]) + (' ...' if len(sample_y) > 5 else ''))\n",
    "print(f'Samples missing in <tissue-tpm>      : [{len(sample_x)}] ' + ' '.join(sample_x[:5]) + (' ...' if len(sample_x) > 5 else ''))\n",
    "print()\n",
    "\n",
    "if len(sample_x) > 0 :\n",
    "\ttissue_metadata = tissue_metadata[~tissue_metadata['Sample'].isin(sample_x)]\n",
    "\n",
    "if len(sample_y) > 0 :\n",
    "\ttissue_tpm = tissue_tpm.drop(columns = sample_y)\n",
    "\n",
    "x = set(tissue_metadata['Sample'].dropna())\n",
    "y = set(tissue_tpm.columns[1:].dropna())\n",
    "\n",
    "sample_i = list(x.intersection(y))\n",
    "sample_x = list(x.difference(y))\n",
    "sample_y = list(y.difference(x))\n",
    "\n",
    "print(f'Samples in <tissue-metadata> : {len(sample_i)} / {len(x)}')\n",
    "print(f'Samples in <tissue-tpm>      : {len(sample_i)} / {len(y)}')\n",
    "print()\n",
    "print(f'Samples missing in <tissue-metadata> : [{len(sample_y)}] ' + ' '.join(sample_y[:5]) + (' ...' if len(sample_y) > 5 else ''))\n",
    "print(f'Samples missing in <tissue-tpm>      : [{len(sample_x)}] ' + ' '.join(sample_x[:5]) + (' ...' if len(sample_x) > 5 else ''))\n",
    "print()"
   ]
  },
  {
   "cell_type": "markdown",
   "id": "a894dc2c-5936-48a2-bc0b-5208efcbe3c3",
   "metadata": {},
   "source": [
    "# 7. Filter Genes"
   ]
  },
  {
   "cell_type": "code",
   "execution_count": null,
   "id": "16b9f821-6eec-4653-adba-e8922651f253",
   "metadata": {},
   "outputs": [],
   "source": [
    "# Filter specific tags\n",
    "\n",
    "if FILTER['keep_strand'] is not None :\n",
    "\tgene_count        = genome_annotation['Gene'].nunique()\n",
    "\tgenome_annotation = genome_annotation[genome_annotation['Strand'].isin(FILTER['keep_strand'])].copy()\n",
    "\tgene_count        = gene_count - genome_annotation['Gene'].nunique()\n",
    "\n",
    "\tprint('Filterd [{:4d}] genes due to [{:12s}] not beeing in [{}]'.format(gene_count, 'Strand', ', '.join(FILTER['keep_strand'])))\n",
    "\tprint()"
   ]
  },
  {
   "cell_type": "code",
   "execution_count": null,
   "id": "d7c8c545-52ad-4334-8a17-81a710b747e1",
   "metadata": {},
   "outputs": [],
   "source": [
    "# Check for gene matching between tpm and annotation tables\n",
    "\n",
    "x = set(tissue_tpm['Transcript'].dropna())\n",
    "y = set(genome_annotation['Transcript'].dropna())\n",
    "\n",
    "gene_i = list(x.intersection(y))\n",
    "gene_x = list(x.difference(y))\n",
    "gene_y = list(y.difference(x))\n",
    "\n",
    "print(f'Samples in <tissue-tpm>        : {len(gene_i)} / {len(x)}')\n",
    "print(f'Samples in <genome-annotation> : {len(gene_i)} / {len(y)}')\n",
    "print()\n",
    "print(f'Genes missing in <tissue-tpm>        : [{len(gene_y)}] ' + ' '.join(gene_y[:5]) + (' ...' if len(gene_y) > 5 else ''))\n",
    "print(f'Genes missing in <genome-annotation> : [{len(gene_x)}] ' + ' '.join(gene_x[:5]) + (' ...' if len(gene_x) > 5 else ''))\n",
    "print()\n",
    "\n",
    "if len(gene_x) > 0 :\n",
    "\ttissue_tpm = tissue_tpm[~tissue_tpm['Transcript'].isin(gene_x)]\n",
    "\n",
    "if len(gene_y) > 0 :\n",
    "\tgenome_annotation = genome_annotation[~genome_annotation['Transcript'].isin(gene_y)]\n",
    "\n",
    "x = set(tissue_tpm['Transcript'].dropna())\n",
    "y = set(genome_annotation['Transcript'].dropna())\n",
    "\n",
    "gene_i = list(x.intersection(y))\n",
    "gene_x = list(x.difference(y))\n",
    "gene_y = list(y.difference(x))\n",
    "\n",
    "print(f'Samples in <tissue-tpm>        : {len(gene_i)} / {len(x)}')\n",
    "print(f'Samples in <genome-annotation> : {len(gene_i)} / {len(y)}')\n",
    "print()\n",
    "print(f'Genes missing in <tissue-tpm>        : [{len(gene_y)}] ' + ' '.join(gene_y[:5]) + (' ...' if len(gene_y) > 5 else ''))\n",
    "print(f'Genes missing in <genome-annotation> : [{len(gene_x)}] ' + ' '.join(gene_x[:5]) + (' ...' if len(gene_x) > 5 else ''))\n",
    "print()"
   ]
  },
  {
   "cell_type": "markdown",
   "id": "fdb9cf68-a9d2-4ef7-a58e-ef1f636f232b",
   "metadata": {},
   "source": [
    "# 8. Save"
   ]
  },
  {
   "cell_type": "code",
   "execution_count": null,
   "id": "ee67e7c6-7419-4f1e-ab6d-e35cc3a9635d",
   "metadata": {
    "tags": []
   },
   "outputs": [],
   "source": [
    "# Modify transcripts\n",
    "\n",
    "drop_transcript = set(FILTER['data']['drop_transcript'])\n",
    "keep_transcript = set(tissue_tpm['Transcript'].tolist())\n",
    "\n",
    "drop_transcript = {x for x in drop_transcript if x in keep_transcript}\n",
    "keep_transcript = keep_transcript.difference(drop_transcript)\n",
    "\n",
    "FILTER['data'] = {\n",
    "\t'keep_transcript' : list(keep_transcript),\n",
    "\t'drop_transcript' : list(drop_transcript)\n",
    "}"
   ]
  },
  {
   "cell_type": "code",
   "execution_count": null,
   "id": "40edf571-8b53-4fba-a711-04b0ba7132ea",
   "metadata": {
    "tags": []
   },
   "outputs": [],
   "source": [
    "# Safety check\n",
    "\n",
    "x = set(FILTER['data']['keep_transcript'])\n",
    "y = set(tissue_tpm['Transcript'].dropna())\n",
    "\n",
    "sample_i = list(x.intersection(y))\n",
    "sample_x = list(x.difference(y))\n",
    "sample_y = list(y.difference(x))\n",
    "\n",
    "print('Total transcript : {:5d} | {:5s} [y    ]'.format(len(y), ''))\n",
    "print(' Keep transcript : {:5d} | {:5s} [x    ]'.format(len(x), ''))\n",
    "print(' Keep transcript : {:5d} | {:5d} [y & x]'.format(len(sample_i), len(FILTER['data']['keep_transcript'])))\n",
    "print(' Drop transcript : {:5d} | {:5d} [y - x]'.format(len(sample_y), len(FILTER['data']['drop_transcript'])))\n",
    "print()"
   ]
  },
  {
   "cell_type": "code",
   "execution_count": null,
   "id": "6adcc12c-8e5e-4dd5-961f-390563c0d9ee",
   "metadata": {
    "tags": []
   },
   "outputs": [],
   "source": [
    "# Save the updated and synchronized tables\n",
    "\n",
    "writer.write_csv(\n",
    "\tdata         = tissue_metadata,\n",
    "\tfilename     = os.path.join(OUT_DATA, 'tissue-metadata.csv'),\n",
    "\twrite_index  = False\n",
    ")\n",
    "\n",
    "writer.write_csv(\n",
    "\tdata        = tissue_tpm,\n",
    "\tfilename    = os.path.join(OUT_DATA, 'tissue-tpm.csv'),\n",
    "\twrite_index = False\n",
    ")\n",
    "\n",
    "writer.write_csv(\n",
    "\tdata        = genome_annotation,\n",
    "\tfilename    = os.path.join(OUT_DATA, 'gene-annotation.csv'),\n",
    "\twrite_index = False\n",
    ")\n",
    "\n",
    "writer.write_json(\n",
    "\tdata     = FILTER,\n",
    "\tfilename = os.path.join(OUT_DATA, 'filter.json')\n",
    ")"
   ]
  },
  {
   "cell_type": "markdown",
   "id": "7fcc83f3-d752-4abc-826c-041c45eb9ca6",
   "metadata": {},
   "source": [
    "# 9. Plot"
   ]
  },
  {
   "cell_type": "code",
   "execution_count": null,
   "id": "d42dda36-8916-435e-bef3-e93fae08649c",
   "metadata": {
    "tags": []
   },
   "outputs": [],
   "source": [
    "# Display the distribution of groups for all samples\n",
    "\n",
    "for group in ['tissue', 'age', 'group', 'perturbation'] :\n",
    "\tanalysis_metadata.distribution_barplot(\n",
    "\t\tdata     = tissue_metadata,\n",
    "\t\tgroup    = group.capitalize(),\n",
    "\t\tfilename = os.path.join(OUT_PLOT, 'distribution-' + group)\n",
    "\t)\n",
    "\n",
    "\tmatplotlib.pyplot.show()"
   ]
  },
  {
   "cell_type": "code",
   "execution_count": null,
   "id": "586d54cc-716d-423c-953c-991d1ffb2838",
   "metadata": {},
   "outputs": [],
   "source": [
    "# Display the region length distributions per each region\n",
    "\n",
    "with warnings.catch_warnings() :\n",
    "\twarnings.simplefilter('ignore')\n",
    "\n",
    "\tfor group, vline in zip(['mRNA', 'UTR5', 'CDS', 'UTR3'], [0, 300, 0, 350]) :\n",
    "\t\tanalysis_annotation.length_histplot(\n",
    "\t\t\tdata     = genome_annotation,\n",
    "\t\t\tvalue    = group,\n",
    "\t\t\tvline    = vline,\n",
    "\t\t\tfilename = os.path.join(OUT_PLOT, 'length-region-' + group.lower())\n",
    "\t\t)"
   ]
  },
  {
   "cell_type": "code",
   "execution_count": null,
   "id": "7950f75f-90c1-4271-8fb9-5a8fb702632e",
   "metadata": {
    "tags": []
   },
   "outputs": [],
   "source": [
    "# Display the region length distributions per each region (grouped regions)\n",
    "\n",
    "dataframe = analysis_annotation.group_regions(\n",
    "\tdata    = genome_annotation,\n",
    "\tgroupby = 'Transcript',\n",
    "\tregions = ['mRNA', 'UTR5', 'CDS', 'UTR3']\n",
    ")\n",
    "\n",
    "with warnings.catch_warnings() :\n",
    "\twarnings.simplefilter('ignore')\n",
    "\n",
    "\tfor group, vline in zip(['mRNA', 'UTR5', 'CDS', 'UTR3'], [0, 300, 0, 350]) :\n",
    "\t\tanalysis_annotation.length_histplot(\n",
    "\t\t\tdata     = dataframe,\n",
    "\t\t\tvalue    = group,\n",
    "\t\t\tvline    = vline,\n",
    "\t\t\tfilename = os.path.join(OUT_PLOT, 'length-transcript-' + group.lower())\n",
    "\t\t)"
   ]
  }
 ],
 "metadata": {
  "kernelspec": {
   "display_name": "Python 3 (ipykernel)",
   "language": "python",
   "name": "python3"
  },
  "language_info": {
   "codemirror_mode": {
    "name": "ipython",
    "version": 3
   },
   "file_extension": ".py",
   "mimetype": "text/x-python",
   "name": "python",
   "nbconvert_exporter": "python",
   "pygments_lexer": "ipython3",
   "version": "3.10.7"
  }
 },
 "nbformat": 4,
 "nbformat_minor": 5
}
