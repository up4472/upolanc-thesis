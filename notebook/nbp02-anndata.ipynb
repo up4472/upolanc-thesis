{
 "cells": [
  {
   "cell_type": "code",
   "execution_count": null,
   "id": "5d501d8a-c0c7-4f69-8ce1-6b83f3c662be",
   "metadata": {
    "tags": []
   },
   "outputs": [],
   "source": [
    "# Libraries\n",
    "\n",
    "import matplotlib\n",
    "import numpy\n",
    "import os\n",
    "import pandas\n",
    "import platform\n",
    "import seaborn\n",
    "import shutil\n",
    "import sys\n",
    "import warnings"
   ]
  },
  {
   "cell_type": "code",
   "execution_count": null,
   "id": "80e9f968-0fd2-4b9e-9168-0fcf43aa3a09",
   "metadata": {
    "tags": []
   },
   "outputs": [],
   "source": [
    "# Ensure source path\n",
    "\n",
    "ROOT = os.getcwd()\n",
    "\n",
    "while not ROOT.endswith('upolanc-thesis') :\n",
    "\tROOT = os.path.abspath(os.path.join(ROOT, os.pardir))\n",
    "\n",
    "\tif len(ROOT) < len('upolanc-thesis') :\n",
    "\t\tif   platform.system() == 'Linux'   : ROOT = '/d/hpc/projects/FRI/up4472/upolanc-thesis'\n",
    "\t\telif platform.system() == 'Windows' : ROOT = 'C:\\\\Developer\\\\Workspace\\\\PyCharm\\\\Projects\\\\upolanc-thesis'\n",
    "\t\telse : raise ValueError()\n",
    "\n",
    "\t\tprint(f'Warning : could not find correct directory, using default : {ROOT}')\n",
    "\t\tprint()\n",
    "\n",
    "\t\tbreak\n",
    "\n",
    "if ROOT not in sys.path :\n",
    "\tsys.path.append(ROOT)\n",
    "\n",
    "os.chdir(ROOT)"
   ]
  },
  {
   "cell_type": "code",
   "execution_count": null,
   "id": "631ad53d-75f9-49a9-8b7a-25aac85e6db8",
   "metadata": {
    "tags": []
   },
   "outputs": [],
   "source": [
    "# Code\n",
    "\n",
    "from source.python               import runtime\n",
    "from source.python.data.analysis import analysis_statistics\n",
    "from source.python.data.feature  import feature_anndata\n",
    "from source.python.io            import loader\n",
    "from source.python.io            import writer\n",
    "\n",
    "runtime.set_numpy_format()\n",
    "runtime.set_pandas_format()\n",
    "runtime.set_plot_theme()"
   ]
  },
  {
   "cell_type": "markdown",
   "id": "6625988d-f5bb-4428-aab7-a085facc6625",
   "metadata": {},
   "source": [
    "# 1. Setup"
   ]
  },
  {
   "cell_type": "code",
   "execution_count": null,
   "id": "bdedd4a3-ceb3-4270-9b30-069feba7bb83",
   "metadata": {
    "tags": []
   },
   "outputs": [],
   "source": [
    "# Setup some directory paths\n",
    "\n",
    "FILTER_ID = 2\n",
    "SUBFOLDER = 'filter' + str(FILTER_ID)\n",
    "\n",
    "CWD = ROOT\n",
    "OUT = os.path.join(CWD, 'output')\n",
    "RES = os.path.join(CWD, 'resources')\n",
    "\n",
    "OUT_DATA  = os.path.join(OUT,      'nbp02-anndata',  SUBFOLDER)\n",
    "OUT_PLOT  = os.path.join(OUT_DATA, 'plot')\n",
    "RES_NBP01 = os.path.join(OUT,      'nbp01-filter',   SUBFOLDER)\n",
    "\n",
    "shutil.rmtree(OUT_DATA, ignore_errors = True)\n",
    "\n",
    "os.makedirs(OUT_DATA, exist_ok = True)\n",
    "os.makedirs(OUT_PLOT, exist_ok = True)\n",
    "\n",
    "print(f'     Root Directory : {CWD}')\n",
    "print(f'   Output Directory : {OUT_DATA}')\n",
    "print(f'   Output Directory : {OUT_PLOT}')\n",
    "print(f' Resource Directory : {RES_NBP01}')\n",
    "print()"
   ]
  },
  {
   "cell_type": "code",
   "execution_count": null,
   "id": "2cdf1f22-a873-44ef-9c70-02dbd57ce773",
   "metadata": {
    "tags": []
   },
   "outputs": [],
   "source": [
    "# Load the updated and synchronized data\n",
    "\n",
    "tissue_metadata = loader.load_csv(\n",
    "\tfilename = os.path.join(RES_NBP01, 'tissue-metadata.csv')\n",
    ")\n",
    "\n",
    "tissue_tpm = loader.load_csv(\n",
    "\tfilename = os.path.join(RES_NBP01, 'tissue-tpm.csv')\n",
    ")\n",
    "\n",
    "filter_dict = loader.load_json(\n",
    "\tfilename = os.path.join(RES_NBP01, 'filter.json')\n",
    ")"
   ]
  },
  {
   "cell_type": "code",
   "execution_count": null,
   "id": "adf2ddff-79c7-43fd-8af2-bfb2a4035768",
   "metadata": {
    "tags": []
   },
   "outputs": [],
   "source": [
    "# Filtered transcripts\n",
    "\n",
    "keep_transcript = filter_dict['data']['keep_transcript']\n",
    "drop_transcript = filter_dict['data']['drop_transcript']"
   ]
  },
  {
   "cell_type": "code",
   "execution_count": null,
   "id": "dac87cf9-5676-45eb-bbcb-fa2f8d045048",
   "metadata": {
    "tags": []
   },
   "outputs": [],
   "source": [
    "# Define layer mapping\n",
    "\n",
    "mapping = {\n",
    "\t'log1p'    : None,\n",
    "\t'boxcox1p' : None,\n",
    "\t'normal'   : 'boxcox1p',\n",
    "\t'standard' : 'boxcox1p'\n",
    "}"
   ]
  },
  {
   "cell_type": "code",
   "execution_count": null,
   "id": "f304cc8c-678c-49f3-9861-2574d36f30ba",
   "metadata": {
    "tags": []
   },
   "outputs": [],
   "source": [
    "# Define percentile functions\n",
    "\n",
    "def percentile90 (x, axis) : return numpy.percentile(x, 90, axis = axis)\n",
    "def percentile75 (x, axis) : return numpy.percentile(x, 75, axis = axis)\n",
    "def percentile60 (x, axis) : return numpy.percentile(x, 60, axis = axis)\n",
    "\n",
    "functions = [\n",
    "\t('mean', numpy.mean),\n",
    "\t('max',  numpy.max),\n",
    "\t('std',  numpy.std),\n",
    "\t('min',  numpy.min)\n",
    "]"
   ]
  },
  {
   "cell_type": "code",
   "execution_count": null,
   "id": "f06b43f0-97ee-4235-9242-ccf63c9d401b",
   "metadata": {
    "tags": []
   },
   "outputs": [],
   "source": [
    "# Define transcripts to boxplot\n",
    "\n",
    "# AT2G17360.1 - expressive in all-to-most tissues\n",
    "# AT2G07713.1 - expressive only in senescence\n",
    "# AT4G08160.1 - expressive in all but dominant in single\n",
    "\n",
    "boxplot_transcripts = ['AT2G17360.1', 'AT2G07713.1', 'AT4G08160.1']"
   ]
  },
  {
   "cell_type": "code",
   "execution_count": null,
   "id": "6d5c7de9-8a80-42f0-9ac0-f7238493eed5",
   "metadata": {},
   "outputs": [],
   "source": [
    "# Get the samples per tissue\n",
    "\n",
    "samples_tissue = dict()\n",
    "samples_name   = tissue_tpm['Transcript'][0]\n",
    "\n",
    "for group in tissue_metadata['Tissue'].unique() :\n",
    "\tsamples_tissue[group] = tissue_metadata[tissue_metadata['Tissue'] == group]['Sample'].tolist()\n",
    "\n",
    "for group in tissue_metadata['Group'].unique() :\n",
    "\tif group.lower().startswith('missing') :\n",
    "\t\tcontinue\n",
    "\n",
    "\tsamples_tissue[group] = tissue_metadata[tissue_metadata['Group'] == group]['Sample'].tolist()"
   ]
  },
  {
   "cell_type": "markdown",
   "id": "409174fc-dd24-4dfa-9e08-aceeaa857862",
   "metadata": {},
   "source": [
    "# 2. Anndata"
   ]
  },
  {
   "cell_type": "code",
   "execution_count": null,
   "id": "3d1c4ad2-67c9-41ba-bb3a-27f5ec862bca",
   "metadata": {
    "tags": []
   },
   "outputs": [],
   "source": [
    "# Create anndata object from the metadata and tpm tables\n",
    "\n",
    "with warnings.catch_warnings() :\n",
    "\twarnings.simplefilter('ignore')\n",
    "\n",
    "\tanndata = feature_anndata.create_anndata(\n",
    "\t\tmat = tissue_tpm,\n",
    "\t\tobs = tissue_metadata\n",
    "\t)\n",
    "\n",
    "transcripts = anndata.var.index.tolist()\n",
    "samples     = anndata.obs.index.tolist()\n",
    "\n",
    "feature_anndata.show_structure(anndata)"
   ]
  },
  {
   "cell_type": "code",
   "execution_count": null,
   "id": "492594d6-c778-4b24-b89b-8a7299892cf4",
   "metadata": {
    "tags": []
   },
   "outputs": [],
   "source": [
    "# Display anndata tpm matrix information\n",
    "\n",
    "feature_anndata.show_matrix(anndata, layer = None)"
   ]
  },
  {
   "cell_type": "markdown",
   "id": "96f44ecc-3b31-428e-be06-a30796cb8251",
   "metadata": {},
   "source": [
    "# 3. Log"
   ]
  },
  {
   "cell_type": "code",
   "execution_count": null,
   "id": "5c1163cd-bf1a-43a5-88eb-ce3fa68ed08f",
   "metadata": {},
   "outputs": [],
   "source": [
    "# Compute and save the log1p tpm values\n",
    "\n",
    "anndata = feature_anndata.compute_log1p(\n",
    "\tdata       = anndata,\n",
    "\tlayer      = mapping['log1p'],\n",
    "\tbase       = 2,\n",
    "\tstore_into = 'log1p'\n",
    ")"
   ]
  },
  {
   "cell_type": "code",
   "execution_count": null,
   "id": "206cbef0-bfbd-44f1-893f-64161b1dcad0",
   "metadata": {},
   "outputs": [],
   "source": [
    "# Display anndata log1p tpm matrix information\n",
    "\n",
    "feature_anndata.show_matrix(anndata, layer = 'log1p')"
   ]
  },
  {
   "cell_type": "code",
   "execution_count": null,
   "id": "f0a8a3ef-0929-4415-8ff8-a75d917a02fa",
   "metadata": {
    "tags": []
   },
   "outputs": [],
   "source": [
    "# Compute basic statistics\n",
    "\n",
    "dataframes = [\n",
    "\tanalysis_statistics.generate_basic_statistics(\n",
    "\t\tdata       = anndata[samples_tissue[tissue]].layers['log1p'].T,\n",
    "\t\ttranscript = transcripts,\n",
    "\t\ttissue     = tissue,\n",
    "\t\taxis       = 1\n",
    "\t)\n",
    "\n",
    "\tfor tissue in samples_tissue.keys()\n",
    "]\n",
    "\n",
    "dataframes.append(\n",
    "\tanalysis_statistics.generate_basic_statistics(\n",
    "\t\tdata       = anndata.layers['log1p'].T,\n",
    "\t\ttranscript = transcripts,\n",
    "\t\ttissue     = 'Global',\n",
    "\t\taxis       = 1\n",
    "\t)\n",
    ")\n",
    "\n",
    "statistic_log1p_basic = pandas.concat(dataframes).set_index(['Transcript', 'Tissue'])\n",
    "statistic_log1p_basic.xs(samples_name, level = 0)"
   ]
  },
  {
   "cell_type": "code",
   "execution_count": null,
   "id": "1608b3c6-ddc2-4075-be41-c45adbc28f29",
   "metadata": {},
   "outputs": [],
   "source": [
    "# Compute advance statistics\n",
    "\n",
    "dataframes = [\n",
    "\tanalysis_statistics.genearte_advance_statistics(\n",
    "\t\tdata       = anndata[samples_tissue[tissue]].layers['log1p'].T,\n",
    "\t\ttranscript = transcripts,\n",
    "\t\ttissue     = tissue,\n",
    "\t\taxis       = 1\n",
    "\t)\n",
    "\n",
    "\tfor tissue in samples_tissue.keys()\n",
    "]\n",
    "\n",
    "dataframes.append(\n",
    "\tanalysis_statistics.genearte_advance_statistics(\n",
    "\t\tdata       = anndata.layers['log1p'].T,\n",
    "\t\ttranscript = transcripts,\n",
    "\t\ttissue     = 'Global',\n",
    "\t\taxis       = 1\n",
    "\t)\n",
    ")\n",
    "\n",
    "statistic_log1p_advance = pandas.concat(dataframes).set_index(['Transcript', 'Tissue'])\n",
    "statistic_log1p_advance.xs(samples_name, level = 0)"
   ]
  },
  {
   "cell_type": "code",
   "execution_count": null,
   "id": "23678175-0d27-4c58-ae2d-8faf1d704ef3",
   "metadata": {
    "tags": []
   },
   "outputs": [],
   "source": [
    "# Compute normality statistics\n",
    "\n",
    "with warnings.catch_warnings() :\n",
    "\twarnings.simplefilter('ignore')\n",
    "\n",
    "\tdataframes = [\n",
    "\t\tanalysis_statistics.generate_normality_statistics(\n",
    "\t\t\tdata       = anndata[samples_tissue[tissue]].layers['log1p'].T,\n",
    "\t\t\ttranscript = transcripts,\n",
    "\t\t\ttissue     = tissue\n",
    "\t\t)\n",
    "\n",
    "\t\tfor tissue in samples_tissue.keys()\n",
    "\t]\n",
    "\n",
    "\tdataframes.append(\n",
    "\t\tanalysis_statistics.generate_normality_statistics(\n",
    "\t\t\tdata       = anndata.layers['log1p'].T,\n",
    "\t\t\ttranscript = transcripts,\n",
    "\t\t\ttissue     = 'Global'\n",
    "\t\t)\n",
    "\t)\n",
    "\n",
    "statistic_log1p_normality = pandas.concat(dataframes).set_index(['Transcript', 'Tissue'])\n",
    "statistic_log1p_normality.xs(samples_name, level = 0)"
   ]
  },
  {
   "cell_type": "markdown",
   "id": "749e149c-2628-41ba-974f-ed81f4597e3a",
   "metadata": {},
   "source": [
    "## 3.2 Distribution"
   ]
  },
  {
   "cell_type": "code",
   "execution_count": null,
   "id": "3716e092-2104-47b3-822f-83421e776d8c",
   "metadata": {
    "tags": []
   },
   "outputs": [],
   "source": [
    "# Display log1p tpm value distribution per gene\n",
    "\n",
    "for name, function in functions :\n",
    "\tif name == 'min' : continue\n",
    "\n",
    "\tfeature_anndata.tpm_histplot(\n",
    "\t\tdata     = anndata[:, keep_transcript],\n",
    "\t\tlayer    = 'log1p',\n",
    "\t\tfunction = function,\n",
    "\t\tfilters  = None,\n",
    "\t\tfilename = os.path.join(OUT_PLOT, 'distribution-log1p-keep-' + name)\n",
    "\t)\n",
    "\n",
    "\tmatplotlib.pyplot.show()"
   ]
  },
  {
   "cell_type": "code",
   "execution_count": null,
   "id": "fc89481f-46d8-4766-8b16-add90f61248d",
   "metadata": {},
   "outputs": [],
   "source": [
    "# Display log1p tpm value distribution per gene\n",
    "\n",
    "for name, function in functions :\n",
    "\tif name == 'min' : continue\n",
    "\n",
    "\tfeature_anndata.tpm_histplot(\n",
    "\t\tdata     = anndata[:, drop_transcript],\n",
    "\t\tlayer    = 'log1p',\n",
    "\t\tfunction = function,\n",
    "\t\tfilters  = None,\n",
    "\t\tfilename = os.path.join(OUT_PLOT, 'distribution-log1p-drop-' + name)\n",
    "\t)\n",
    "\n",
    "\tmatplotlib.pyplot.show()"
   ]
  },
  {
   "cell_type": "markdown",
   "id": "4d24c19f-b04d-4496-b192-7035e1d476fb",
   "metadata": {},
   "source": [
    "## 3.3 Transcripts"
   ]
  },
  {
   "cell_type": "code",
   "execution_count": null,
   "id": "829c3a2e-8b2e-4100-8dd5-10a82911cf21",
   "metadata": {
    "tags": []
   },
   "outputs": [],
   "source": [
    "# Display an example of few transcript expressions per tissue\n",
    "\n",
    "for transcript in boxplot_transcripts :\n",
    "\tif transcript not in anndata.var.index : continue\n",
    "\n",
    "\tfeature_anndata.gene_boxplot(\n",
    "\t\tdata       = anndata,\n",
    "\t\ttranscript = transcript,\n",
    "\t\tgroupby    = 'Tissue',\n",
    "\t\tlayer      = 'log1p',\n",
    "\t\tfilename   = os.path.join(OUT_PLOT, 'tissue-log1p-' + transcript)\n",
    "\t)\n",
    "\n",
    "\tmatplotlib.pyplot.show()"
   ]
  },
  {
   "cell_type": "markdown",
   "id": "7ea186df-5939-4d59-9966-6a4473cbf4c5",
   "metadata": {},
   "source": [
    "# 4. BoxCox"
   ]
  },
  {
   "cell_type": "code",
   "execution_count": null,
   "id": "cba14102-2708-47f0-8be9-016ee3ae7245",
   "metadata": {
    "tags": []
   },
   "outputs": [],
   "source": [
    "# Compute and save the boxcox1p tpm values\n",
    "\n",
    "anndata, boxcox_factors = feature_anndata.compute_boxcox1p(\n",
    "\tdata       = anndata,\n",
    "\tstore_into = 'boxcox1p',\n",
    "\tlayer      = mapping['boxcox1p'],\n",
    "\teps        =  1.0000000000000000,\n",
    "\tlmbda      = -0.1455266110158969\n",
    ")\n",
    "\n",
    "print('Lambda : {}'.format(boxcox_factors['lambda']))\n",
    "print()"
   ]
  },
  {
   "cell_type": "code",
   "execution_count": null,
   "id": "46ff7db9-9ce7-4823-8b9b-03f6e6dd8b1c",
   "metadata": {
    "tags": []
   },
   "outputs": [],
   "source": [
    "# Display anndata boxcox1p tpm matrix information\n",
    "\n",
    "feature_anndata.show_matrix(anndata, layer = 'boxcox1p')"
   ]
  },
  {
   "cell_type": "markdown",
   "id": "f2c5bcf6-363a-4c22-a0fa-6afb7cde1de0",
   "metadata": {},
   "source": [
    "## 4.1 Statistics"
   ]
  },
  {
   "cell_type": "code",
   "execution_count": null,
   "id": "2a2392fd-7614-443e-939d-91e0437d35a3",
   "metadata": {},
   "outputs": [],
   "source": [
    "# Compute basic statistics\n",
    "\n",
    "dataframes = [\n",
    "\tanalysis_statistics.generate_basic_statistics(\n",
    "\t\tdata       = anndata[samples_tissue[tissue]].layers['boxcox1p'].T,\n",
    "\t\ttranscript = transcripts,\n",
    "\t\ttissue     = tissue,\n",
    "\t\taxis       = 1\n",
    "\t)\n",
    "\n",
    "\tfor tissue in samples_tissue.keys()\n",
    "]\n",
    "\n",
    "dataframes.append(\n",
    "\tanalysis_statistics.generate_basic_statistics(\n",
    "\t\tdata       = anndata.layers['boxcox1p'].T,\n",
    "\t\ttranscript = transcripts,\n",
    "\t\ttissue     = 'Global',\n",
    "\t\taxis       = 1\n",
    "\t)\n",
    ")\n",
    "\n",
    "statistic_boxcox1p_basic = pandas.concat(dataframes).set_index(['Transcript', 'Tissue'])\n",
    "statistic_boxcox1p_basic.xs(samples_name, level = 0)"
   ]
  },
  {
   "cell_type": "code",
   "execution_count": null,
   "id": "54f57b53-770a-44e6-88d4-481ccbfe723a",
   "metadata": {},
   "outputs": [],
   "source": [
    "# Compute advance statistics\n",
    "\n",
    "dataframes = [\n",
    "\tanalysis_statistics.genearte_advance_statistics(\n",
    "\t\tdata       = anndata[samples_tissue[tissue]].layers['boxcox1p'].T,\n",
    "\t\ttranscript = transcripts,\n",
    "\t\ttissue     = tissue,\n",
    "\t\taxis       = 1\n",
    "\t)\n",
    "\n",
    "\tfor tissue in samples_tissue.keys()\n",
    "]\n",
    "\n",
    "dataframes.append(\n",
    "\tanalysis_statistics.genearte_advance_statistics(\n",
    "\t\tdata       = anndata.layers['boxcox1p'].T,\n",
    "\t\ttranscript = transcripts,\n",
    "\t\ttissue     = 'Global',\n",
    "\t\taxis       = 1\n",
    "\t)\n",
    ")\n",
    "\n",
    "statistic_boxcox1p_advance = pandas.concat(dataframes).set_index(['Transcript', 'Tissue'])\n",
    "statistic_boxcox1p_advance.xs(samples_name, level = 0)"
   ]
  },
  {
   "cell_type": "code",
   "execution_count": null,
   "id": "a925270d-4672-4ffa-8562-ee8c26ed6e76",
   "metadata": {
    "tags": []
   },
   "outputs": [],
   "source": [
    "# Compute normality statistics\n",
    "\n",
    "with warnings.catch_warnings() :\n",
    "\twarnings.simplefilter('ignore')\n",
    "\n",
    "\tdataframes = [\n",
    "\t\tanalysis_statistics.generate_normality_statistics(\n",
    "\t\t\tdata       = anndata[samples_tissue[tissue]].layers['boxcox1p'].T,\n",
    "\t\t\ttranscript = transcripts,\n",
    "\t\t\ttissue     = tissue\n",
    "\t\t)\n",
    "\n",
    "\t\tfor tissue in samples_tissue.keys()\n",
    "\t]\n",
    "\n",
    "\tdataframes.append(\n",
    "\t\tanalysis_statistics.generate_normality_statistics(\n",
    "\t\t\tdata       = anndata.layers['boxcox1p'].T,\n",
    "\t\t\ttranscript = transcripts,\n",
    "\t\t\ttissue     = 'Global'\n",
    "\t\t)\n",
    "\t)\n",
    "\n",
    "statistic_boxcox1p_normality = pandas.concat(dataframes).set_index(['Transcript', 'Tissue'])\n",
    "statistic_boxcox1p_normality.xs(samples_name, level = 0)"
   ]
  },
  {
   "cell_type": "markdown",
   "id": "70daedb4-bfce-4902-9b15-7e56b226b57f",
   "metadata": {},
   "source": [
    "## 4.2 Distribution"
   ]
  },
  {
   "cell_type": "code",
   "execution_count": null,
   "id": "2c081fa8-5f63-49f3-9b06-dac83e80e301",
   "metadata": {},
   "outputs": [],
   "source": [
    "# Display boxcox1p tpm value distribution per gene\n",
    "\n",
    "for name, function in functions :\n",
    "\tif name == 'min' : continue\n",
    "\n",
    "\tfeature_anndata.tpm_histplot(\n",
    "\t\tdata     = anndata[:, keep_transcript],\n",
    "\t\tlayer    = 'boxcox1p',\n",
    "\t\tfunction = function,\n",
    "\t\tfilters  = None,\n",
    "\t\tfilename = os.path.join(OUT_PLOT, 'distribution-boxcox1p-keep-' + name)\n",
    "\t)\n",
    "\n",
    "\tmatplotlib.pyplot.show()"
   ]
  },
  {
   "cell_type": "code",
   "execution_count": null,
   "id": "17ff9d17-780d-4388-9aa5-2a3522d8ca27",
   "metadata": {},
   "outputs": [],
   "source": [
    "# Display boxcox1p tpm value distribution per gene\n",
    "\n",
    "for name, function in functions :\n",
    "\tif name == 'min' : continue\n",
    "\n",
    "\tfeature_anndata.tpm_histplot(\n",
    "\t\tdata     = anndata[:, drop_transcript],\n",
    "\t\tlayer    = 'boxcox1p',\n",
    "\t\tfunction = function,\n",
    "\t\tfilters  = None,\n",
    "\t\tfilename = os.path.join(OUT_PLOT, 'distribution-boxcox1p-drop-' + name)\n",
    "\t)\n",
    "\n",
    "\tmatplotlib.pyplot.show()"
   ]
  },
  {
   "cell_type": "markdown",
   "id": "19c572af-55be-4131-ad28-aa130b468f04",
   "metadata": {},
   "source": [
    "## 4.3 Transcripts"
   ]
  },
  {
   "cell_type": "code",
   "execution_count": null,
   "id": "1ac1fc99-3b45-4498-aa0f-7aedcea6bd42",
   "metadata": {
    "tags": []
   },
   "outputs": [],
   "source": [
    "# Display an example of few transcript expressions per tissue\n",
    "\n",
    "for transcript in boxplot_transcripts :\n",
    "\tif transcript not in anndata.var.index : continue\n",
    "\n",
    "\tfeature_anndata.gene_boxplot(\n",
    "\t\tdata       = anndata,\n",
    "\t\ttranscript = transcript,\n",
    "\t\tgroupby    = 'Tissue',\n",
    "\t\tlayer      = 'boxcox1p',\n",
    "\t\tfilename   = os.path.join(OUT_PLOT, 'tissue-boxcox1p-' + transcript)\n",
    "\t)\n",
    "\n",
    "\tmatplotlib.pyplot.show()"
   ]
  },
  {
   "cell_type": "markdown",
   "id": "8be0913f-121d-41e8-a4bb-97374b5a21e0",
   "metadata": {},
   "source": [
    "# 5. Normal"
   ]
  },
  {
   "cell_type": "code",
   "execution_count": null,
   "id": "df9b6d6f-875d-403f-a9e0-55c3ad2773f8",
   "metadata": {},
   "outputs": [],
   "source": [
    "# Compute and save the normalized tpm values\n",
    "\n",
    "anndata, normal_factors = feature_anndata.compute_normalized(\n",
    "\tdata       = anndata,\n",
    "\tlayer      = mapping['normal'],\n",
    "\tstore_into = 'normal'\n",
    ")\n",
    "\n",
    "print('Min : {}'.format(normal_factors['min']))\n",
    "print('Max : {}'.format(normal_factors['max']))\n",
    "print()"
   ]
  },
  {
   "cell_type": "code",
   "execution_count": null,
   "id": "0180d63e-d191-4e33-b87f-1dcf48e97cf5",
   "metadata": {
    "tags": []
   },
   "outputs": [],
   "source": [
    "# Display normalized log1p tpm matrix information\n",
    "\n",
    "feature_anndata.show_matrix(anndata, layer = 'normal')"
   ]
  },
  {
   "cell_type": "markdown",
   "id": "848dc812-d987-4085-a60e-ec00542a4f3e",
   "metadata": {},
   "source": [
    "## 5.1 Distribution"
   ]
  },
  {
   "cell_type": "code",
   "execution_count": null,
   "id": "45625fb0-643d-406d-9f48-ea6fa7d25e96",
   "metadata": {
    "tags": []
   },
   "outputs": [],
   "source": [
    "# Display normal tpm value distribution per gene\n",
    "\n",
    "for name, function in functions :\n",
    "\tif name == 'min' : continue\n",
    "\n",
    "\tfeature_anndata.tpm_histplot(\n",
    "\t\tdata     = anndata[:, keep_transcript],\n",
    "\t\tlayer    = 'normal',\n",
    "\t\tfunction = function,\n",
    "\t\tfilters  = None,\n",
    "\t\tfilename = os.path.join(OUT_PLOT, 'distribution-nornal-keep-' + name)\n",
    "\t)\n",
    "\n",
    "\tmatplotlib.pyplot.show()"
   ]
  },
  {
   "cell_type": "code",
   "execution_count": null,
   "id": "a27c39c0-f527-4fab-94e3-729cd34a46ce",
   "metadata": {
    "tags": []
   },
   "outputs": [],
   "source": [
    "# Display boxcox1p tpm value distribution per gene\n",
    "\n",
    "for name, function in functions :\n",
    "\tif name == 'min' : continue\n",
    "\n",
    "\tfeature_anndata.tpm_histplot(\n",
    "\t\tdata     = anndata[:, drop_transcript],\n",
    "\t\tlayer    = 'normal',\n",
    "\t\tfunction = function,\n",
    "\t\tfilters  = None,\n",
    "\t\tfilename = os.path.join(OUT_PLOT, 'distribution-normal-drop-' + name)\n",
    "\t)\n",
    "\n",
    "\tmatplotlib.pyplot.show()"
   ]
  },
  {
   "cell_type": "markdown",
   "id": "a2f1f104-1279-4b5f-9a11-896764578188",
   "metadata": {},
   "source": [
    "## 5.2 Transcripts"
   ]
  },
  {
   "cell_type": "code",
   "execution_count": null,
   "id": "882f2fec-0674-4c68-83cf-1a367300910c",
   "metadata": {},
   "outputs": [],
   "source": [
    "# Display an example of few transcript expressions per tissue\n",
    "\n",
    "for transcript in boxplot_transcripts :\n",
    "\tif transcript not in anndata.var.index : continue\n",
    "\n",
    "\tfeature_anndata.gene_boxplot(\n",
    "\t\tdata       = anndata,\n",
    "\t\ttranscript = transcript,\n",
    "\t\tgroupby    = 'Tissue',\n",
    "\t\tlayer      = 'normal',\n",
    "\t\tfilename   = os.path.join(OUT_PLOT, 'tissue-normal-' + transcript)\n",
    "\t)\n",
    "\n",
    "\tmatplotlib.pyplot.show()"
   ]
  },
  {
   "cell_type": "markdown",
   "id": "31231e17-c019-4bc1-aea5-159c1b10b9ff",
   "metadata": {},
   "source": [
    "# 6. Standard"
   ]
  },
  {
   "cell_type": "code",
   "execution_count": null,
   "id": "5593f20f-e34a-4d03-9405-0c19191b8c0e",
   "metadata": {},
   "outputs": [],
   "source": [
    "# Compute and save the standardized tpm values\n",
    "\n",
    "anndata, standard_factors = feature_anndata.compute_standardized(\n",
    "\tdata       = anndata,\n",
    "\tlayer      = mapping['standard'],\n",
    "\tstore_into = 'standard',\n",
    "\taxis       = None\n",
    ")\n",
    "\n",
    "print('Mean : {}'.format(standard_factors['mean']))\n",
    "print(' Std : {}'.format(standard_factors['std']))\n",
    "print()"
   ]
  },
  {
   "cell_type": "code",
   "execution_count": null,
   "id": "1f589363-57ff-4f2a-abfd-62b8793f4283",
   "metadata": {},
   "outputs": [],
   "source": [
    "# Display anndata standardized tpm matrix information\n",
    "\n",
    "feature_anndata.show_matrix(anndata, layer = 'standard')"
   ]
  },
  {
   "cell_type": "markdown",
   "id": "2a4c88ac-b59b-4e07-97c1-05d5c96c5c82",
   "metadata": {},
   "source": [
    "## 6.1 Distribution"
   ]
  },
  {
   "cell_type": "code",
   "execution_count": null,
   "id": "55687182-a064-4452-9283-f7429fd870bc",
   "metadata": {
    "tags": []
   },
   "outputs": [],
   "source": [
    "# Display normal tpm value distribution per gene\n",
    "\n",
    "for name, function in functions :\n",
    "\tif name == 'min' : continue\n",
    "\n",
    "\tfeature_anndata.tpm_histplot(\n",
    "\t\tdata     = anndata[:, keep_transcript],\n",
    "\t\tlayer    = 'standard',\n",
    "\t\tfunction = function,\n",
    "\t\tfilters  = None,\n",
    "\t\tfilename = os.path.join(OUT_PLOT, 'distribution-standard-keep-' + name)\n",
    "\t)\n",
    "\n",
    "\tmatplotlib.pyplot.show()"
   ]
  },
  {
   "cell_type": "code",
   "execution_count": null,
   "id": "6e93a95b-c098-4783-a684-8f30e559fcd9",
   "metadata": {},
   "outputs": [],
   "source": [
    "# Display normal tpm value distribution per gene\n",
    "\n",
    "for name, function in functions :\n",
    "\tif name == 'min' : continue\n",
    "\n",
    "\tfeature_anndata.tpm_histplot(\n",
    "\t\tdata     = anndata[:, drop_transcript],\n",
    "\t\tlayer    = 'standard',\n",
    "\t\tfunction = function,\n",
    "\t\tfilters  = None,\n",
    "\t\tfilename = os.path.join(OUT_PLOT, 'distribution-standard-drop-' + name)\n",
    "\t)\n",
    "\n",
    "\tmatplotlib.pyplot.show()"
   ]
  },
  {
   "cell_type": "markdown",
   "id": "afc58ca0-a664-4f78-ad6c-b79cb27e963d",
   "metadata": {},
   "source": [
    "## 6.2 Transcripts"
   ]
  },
  {
   "cell_type": "code",
   "execution_count": null,
   "id": "c6603a6d-9ea6-42d3-a6e0-2dfa54e12fff",
   "metadata": {
    "tags": []
   },
   "outputs": [],
   "source": [
    "# Display an example of few transcript expressions per tissue\n",
    "\n",
    "for transcript in boxplot_transcripts :\n",
    "\tif transcript not in anndata.var.index : continue\n",
    "\n",
    "\tfeature_anndata.gene_boxplot(\n",
    "\t\tdata       = anndata,\n",
    "\t\ttranscript = transcript,\n",
    "\t\tgroupby    = 'Tissue',\n",
    "\t\tlayer      = 'standard',\n",
    "\t\tfilename   = os.path.join(OUT_PLOT, 'tissue-standard-' + transcript)\n",
    "\t)\n",
    "\n",
    "\tmatplotlib.pyplot.show()"
   ]
  },
  {
   "cell_type": "markdown",
   "id": "776a29e4-f348-4d9f-b46e-b1c78fcb761e",
   "metadata": {},
   "source": [
    "# 7. Save"
   ]
  },
  {
   "cell_type": "code",
   "execution_count": null,
   "id": "ac9d34e8-0328-485a-ab91-43f37a7f5445",
   "metadata": {
    "tags": []
   },
   "outputs": [],
   "source": [
    "# Save the annotated data with multiple layers\n",
    "\n",
    "writer.write_h5ad(\n",
    "\tdata     = anndata,\n",
    "\tfilename = os.path.join(OUT_DATA, 'arabidopsis-r36.h5ad')\n",
    ")"
   ]
  },
  {
   "cell_type": "code",
   "execution_count": null,
   "id": "7107c685-775a-44cc-96b9-898c574c9b30",
   "metadata": {
    "tags": []
   },
   "outputs": [],
   "source": [
    "# Save processing info\n",
    "\n",
    "writer.write_json(\n",
    "\tdata     = mapping,\n",
    "\tfilename = os.path.join(OUT_DATA, 'layer-mapping.json')\n",
    ")\n",
    "\n",
    "writer.write_json(\n",
    "\tdata     = boxcox_factors,\n",
    "\tfilename = os.path.join(OUT_DATA, 'factors-boxcox.json')\n",
    ")\n",
    "\n",
    "writer.write_json(\n",
    "\tdata     = normal_factors,\n",
    "\tfilename = os.path.join(OUT_DATA, 'factors-normal.json')\n",
    ")\n",
    "\n",
    "writer.write_json(\n",
    "\tdata     = standard_factors,\n",
    "\tfilename = os.path.join(OUT_DATA, 'factors-standard.json')\n",
    ")\n",
    "\n",
    "writer.write_csv(\n",
    "\tdata        = statistic_log1p_basic,\n",
    "\tfilename    = os.path.join(OUT_DATA, 'statistics-log1p-basic.csv'),\n",
    "\twrite_index = True\n",
    ")\n",
    "\n",
    "writer.write_csv(\n",
    "\tdata        = statistic_log1p_advance,\n",
    "\tfilename    = os.path.join(OUT_DATA, 'statistics-log1p-advance.csv'),\n",
    "\twrite_index = True\n",
    ")\n",
    "\n",
    "writer.write_csv(\n",
    "\tdata        = statistic_log1p_normality,\n",
    "\tfilename    = os.path.join(OUT_DATA, 'statistics-log1p-normality.csv'),\n",
    "\twrite_index = True\n",
    ")\n",
    "\n",
    "writer.write_csv(\n",
    "\tdata        = statistic_boxcox1p_basic,\n",
    "\tfilename    = os.path.join(OUT_DATA, 'statistics-boxcox1p-basic.csv'),\n",
    "\twrite_index = True\n",
    ")\n",
    "\n",
    "writer.write_csv(\n",
    "\tdata        = statistic_boxcox1p_advance,\n",
    "\tfilename    = os.path.join(OUT_DATA, 'statistics-boxcox1p-advance.csv'),\n",
    "\twrite_index = True\n",
    ")\n",
    "\n",
    "writer.write_csv(\n",
    "\tdata        = statistic_boxcox1p_normality,\n",
    "\tfilename    = os.path.join(OUT_DATA, 'statistics-boxcox1p-normality.csv'),\n",
    "\twrite_index = True\n",
    ")"
   ]
  },
  {
   "cell_type": "markdown",
   "id": "06b4735a-6efc-4d67-8d3f-4731409d4490",
   "metadata": {},
   "source": [
    "# 8. Distributions"
   ]
  },
  {
   "cell_type": "code",
   "execution_count": null,
   "id": "0000b440-83e0-4a48-b03c-20a6caf2728a",
   "metadata": {
    "tags": []
   },
   "outputs": [],
   "source": [
    "# Plot multiple lambda distributions to compare\n",
    "\n",
    "LMBDA = boxcox_factors['lambda']\n",
    "EPS   = boxcox_factors['eps']\n",
    "\n",
    "lambdas = sorted([\n",
    "\t-0.9, -0.8, -0.7, -0.6, -0.5,\n",
    "\t-0.4, -0.3, -0.2, -0.1,  0.0,\n",
    "\t 0.1,  0.2,  0.3,  0.4, LMBDA\n",
    "])\n",
    "\n",
    "fig, ax = matplotlib.pyplot.subplots(\n",
    "\tnrows   = 3,\n",
    "\tncols   = 5,\n",
    "\tfigsize = (16, 10),\n",
    "\tsharex  = False,\n",
    "\tsharey  = True\n",
    ")\n",
    "\n",
    "for index, lmbda in enumerate(lambdas) :\n",
    "\tif lmbda is None :\n",
    "\t\tmatrix = anndata.X\n",
    "\t\ttitle  = 'Original'\n",
    "\telse :\n",
    "\t\tlayer = 'boxcox1p-{}'.format(index)\n",
    "\n",
    "\t\tanndata, _ = feature_anndata.compute_boxcox1p(\n",
    "\t\t\tdata       = anndata,\n",
    "\t\t\tstore_into = layer,\n",
    "\t\t\tlayer      = None,\n",
    "\t\t\teps        = EPS,\n",
    "\t\t\tlmbda      = lmbda\n",
    "\t\t)\n",
    "\n",
    "\t\tmatrix = anndata.layers[layer]\n",
    "\t\ttitle  = 'Lambda {:.3f}'.format(lmbda)\n",
    "\n",
    "\tirow = index // 5\n",
    "\ticol = index  % 5\n",
    "\n",
    "\tdata = pandas.DataFrame.from_dict({\n",
    "\t\t'Values' : numpy.mean(matrix, axis = 0)\n",
    "\t})\n",
    "\n",
    "\tseaborn.histplot(\n",
    "\t\tdata  = data,\n",
    "\t\tx     = 'Values',\n",
    "\t\talpha = 0.9,\n",
    "\t\tcolor = '#799FCB',\n",
    "\t\tax    = ax[irow, icol],\n",
    "\t\tkde   = False\n",
    "\t)\n",
    "\n",
    "\tax[irow, icol].set_title(title, loc = 'center')\n",
    "\tax[irow, icol].set_ylabel(None)\n",
    "\tax[irow, icol].set_xlabel(None)\n",
    "\n",
    "matplotlib.pyplot.savefig(\n",
    "\tos.path.join(OUT_PLOT, 'distribution-lambda.png'),\n",
    "\tdpi    = 120,\n",
    "\tformat = 'png'\n",
    ")"
   ]
  }
 ],
 "metadata": {
  "kernelspec": {
   "display_name": "Python 3 (ipykernel)",
   "language": "python",
   "name": "python3"
  },
  "language_info": {
   "codemirror_mode": {
    "name": "ipython",
    "version": 3
   },
   "file_extension": ".py",
   "mimetype": "text/x-python",
   "name": "python",
   "nbconvert_exporter": "python",
   "pygments_lexer": "ipython3",
   "version": "3.10.7"
  }
 },
 "nbformat": 4,
 "nbformat_minor": 5
}
