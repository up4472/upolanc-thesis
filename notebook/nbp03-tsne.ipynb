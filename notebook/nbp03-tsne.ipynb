{
 "cells": [
  {
   "cell_type": "code",
   "execution_count": null,
   "id": "9373a1c5-65fc-4816-8e76-2dfcd7321980",
   "metadata": {
    "tags": []
   },
   "outputs": [],
   "source": [
    "# Libraries\n",
    "\n",
    "import matplotlib\n",
    "import os\n",
    "import platform\n",
    "import shutil\n",
    "import sys"
   ]
  },
  {
   "cell_type": "code",
   "execution_count": null,
   "id": "9078ff7d-ae22-445e-959b-6b0c2177eaed",
   "metadata": {
    "tags": []
   },
   "outputs": [],
   "source": [
    "# Ensure source path\n",
    "\n",
    "ROOT = os.getcwd()\n",
    "\n",
    "while not ROOT.endswith('upolanc-thesis') :\n",
    "\tROOT = os.path.abspath(os.path.join(ROOT, os.pardir))\n",
    "\n",
    "\tif len(ROOT) < len('upolanc-thesis') :\n",
    "\t\tif   platform.system() == 'Linux'   : ROOT = '/d/hpc/projects/FRI/up4472/upolanc-thesis'\n",
    "\t\telif platform.system() == 'Windows' : ROOT = 'C:\\\\Developer\\\\Workspace\\\\PyCharm\\\\Projects\\\\upolanc-thesis'\n",
    "\t\telse : raise ValueError()\n",
    "\n",
    "\t\tprint(f'Warning : could not find correct directory, using default : {ROOT}')\n",
    "\t\tprint()\n",
    "\n",
    "\t\tbreak\n",
    "\n",
    "if ROOT not in sys.path :\n",
    "\tsys.path.append(ROOT)\n",
    "\n",
    "os.chdir(ROOT)"
   ]
  },
  {
   "cell_type": "code",
   "execution_count": null,
   "id": "30a89473-7523-4267-a99c-b1aa5060225c",
   "metadata": {
    "tags": []
   },
   "outputs": [],
   "source": [
    "# Code\n",
    "\n",
    "from source.python              import runtime\n",
    "from source.python.data.feature import feature_anndata\n",
    "from source.python.data.feature import feature_tsne\n",
    "from source.python.io           import loader\n",
    "\n",
    "runtime.set_numpy_format()\n",
    "runtime.set_pandas_format()\n",
    "runtime.set_plot_theme()"
   ]
  },
  {
   "cell_type": "markdown",
   "id": "321759d3-5a43-478f-8310-833cb724397d",
   "metadata": {},
   "source": [
    "# 1. Setup"
   ]
  },
  {
   "cell_type": "code",
   "execution_count": null,
   "id": "8e3cbbfa-165f-4c9f-9fd8-34f33137b8e7",
   "metadata": {
    "tags": []
   },
   "outputs": [],
   "source": [
    "# Setup some directory paths\n",
    "\n",
    "FILTER_ID = 2\n",
    "SUBFOLDER = 'filter' + str(FILTER_ID)\n",
    "\n",
    "CWD = ROOT\n",
    "OUT = os.path.join(CWD, 'output')\n",
    "RES = os.path.join(CWD, 'resources')\n",
    "\n",
    "OUT_DATA  = os.path.join(OUT,      'nbp03-tsne',    SUBFOLDER)\n",
    "OUT_PLOT  = os.path.join(OUT_DATA, 'plot')\n",
    "RES_NBP01 = os.path.join(OUT,      'nbp01-filter',  SUBFOLDER)\n",
    "RES_NBP02 = os.path.join(OUT,      'nbp02-anndata', SUBFOLDER)\n",
    "\n",
    "shutil.rmtree(OUT_DATA, ignore_errors = True)\n",
    "\n",
    "os.makedirs(OUT_DATA, exist_ok = True)\n",
    "os.makedirs(OUT_PLOT, exist_ok = True)\n",
    "\n",
    "print(f'     Root Directory : {CWD}')\n",
    "print(f'   Output Directory : {OUT_DATA}')\n",
    "print(f'   Output Directory : {OUT_PLOT}')\n",
    "print(f' Resource Directory : {RES_NBP01}')\n",
    "print(f' Resource Directory : {RES_NBP02}')\n",
    "print()"
   ]
  },
  {
   "cell_type": "code",
   "execution_count": null,
   "id": "5c6ae5f5-8f03-4914-b844-55503bf93a21",
   "metadata": {
    "tags": []
   },
   "outputs": [],
   "source": [
    "# Load the annotated data\n",
    "\n",
    "anndata = loader.load_h5ad(\n",
    "\tfilename = os.path.join(RES_NBP02, 'arabidopsis-r36.h5ad')\n",
    ")\n",
    "\n",
    "filter_dict = loader.load_json(\n",
    "\tfilename = os.path.join(RES_NBP01, 'filter.json')\n",
    ")"
   ]
  },
  {
   "cell_type": "code",
   "execution_count": null,
   "id": "1e5082e3-022a-44a8-9552-7397beb56bf4",
   "metadata": {},
   "outputs": [],
   "source": [
    "# Filtered transcripts\n",
    "\n",
    "keep_transcript = filter_dict['data']['keep_transcript']\n",
    "drop_transcript = filter_dict['data']['drop_transcript']"
   ]
  },
  {
   "cell_type": "markdown",
   "id": "0f08def9-3441-42c8-82ef-e471be8cafdb",
   "metadata": {},
   "source": [
    "# 2. TSNE"
   ]
  },
  {
   "cell_type": "markdown",
   "id": "58e6ba24-7917-4745-b9ab-ec038ffcdf69",
   "metadata": {},
   "source": [
    "## 2.1 Filtering"
   ]
  },
  {
   "cell_type": "code",
   "execution_count": null,
   "id": "a78c3bd9-8bf0-4195-810a-4f49b41ac403",
   "metadata": {},
   "outputs": [],
   "source": [
    "# Select only the needed transcripts\n",
    "\n",
    "keep_anndata = anndata[:, keep_transcript].copy()\n",
    "drop_anndata = anndata[:, drop_transcript].copy()"
   ]
  },
  {
   "cell_type": "code",
   "execution_count": null,
   "id": "f77f752b-14b6-468c-945a-56dc857ac22a",
   "metadata": {},
   "outputs": [],
   "source": [
    "# Select the most prominent genes (not implemented)\n",
    "\n",
    "# with warnings.catch_warnings() :\n",
    "# \twarnings.simplefilter('ignore')\n",
    "\n",
    "# \tmask = feature_tsne.select_genes(\n",
    "# \t\tmatrix    = keep_anndata.X,\n",
    "# \t\tn         = 3000,\n",
    "# \t\tthreshold = 0,\n",
    "# \t\tdecay     = 1,\n",
    "# \t\txoffset   = 5,\n",
    "# \t\tyoffset   = 0.02\n",
    "# \t)\n",
    "\n",
    "# \tkeep_anndata = keep_anndata[:, mask].copy()"
   ]
  },
  {
   "cell_type": "markdown",
   "id": "b64aca00-1429-4b54-b8d7-5b4662e8fb6d",
   "metadata": {
    "tags": []
   },
   "source": [
    "## 2.2 Features"
   ]
  },
  {
   "cell_type": "code",
   "execution_count": null,
   "id": "d913a890-5731-4374-b3c7-92bc8cf945de",
   "metadata": {
    "tags": []
   },
   "outputs": [],
   "source": [
    "# Compute and save the pca from standardized log1p values and keep the top 50 components\n",
    "\n",
    "keep_anndata = feature_anndata.compute_pca(\n",
    "\tdata       = keep_anndata,\n",
    "\tlayer      = 'standard',\n",
    "\tstore_into = 'pca50',\n",
    "\tcomponents = 50\n",
    ")"
   ]
  },
  {
   "cell_type": "markdown",
   "id": "ba0705be-347f-4dc9-ae80-79f2ba0cebdd",
   "metadata": {},
   "source": [
    "## 2.3 Embeddings"
   ]
  },
  {
   "cell_type": "code",
   "execution_count": null,
   "id": "6902e360-79d2-43e4-a9c5-9dda9512be5e",
   "metadata": {
    "tags": []
   },
   "outputs": [],
   "source": [
    "# Compute and save the tsne embeddings\n",
    "\n",
    "keep_anndata = feature_tsne.compute_tsne(\n",
    "\tdata         = keep_anndata,\n",
    "\tfeatures     = 'pca50',\n",
    "\tstore_into   = 'tsne',\n",
    "\tperplexities = [50, 200]\n",
    ")"
   ]
  },
  {
   "cell_type": "markdown",
   "id": "d0eaec4e-4e4e-4b01-ba47-d111e20c13e8",
   "metadata": {},
   "source": [
    "## 2.4 Visualization"
   ]
  },
  {
   "cell_type": "code",
   "execution_count": null,
   "id": "f1c6ea8f-cd4f-4233-a16c-b86dd2c71b0f",
   "metadata": {
    "tags": []
   },
   "outputs": [],
   "source": [
    "# Display tsne visualization for diffrent gene groups\n",
    "\n",
    "for group in ['tissue', 'age', 'group', 'perturbation'] :\n",
    "\tfeature_tsne.visualize(\n",
    "\t\tdata     = keep_anndata,\n",
    "\t\tfeature  = 'tsne',\n",
    "\t\tgroupby  = group.capitalize(),\n",
    "\t\tfilename = os.path.join(OUT_PLOT, 'tsne-' + group),\n",
    "\t\talpha    = 0.5,\n",
    "\t\tsize     = 5,\n",
    "\t\tprop     = {\n",
    "\t\t\t'size' : 24\n",
    "\t\t}\n",
    "\t)\n",
    "\n",
    "\tmatplotlib.pyplot.show()"
   ]
  }
 ],
 "metadata": {
  "kernelspec": {
   "display_name": "Python 3 (ipykernel)",
   "language": "python",
   "name": "python3"
  },
  "language_info": {
   "codemirror_mode": {
    "name": "ipython",
    "version": 3
   },
   "file_extension": ".py",
   "mimetype": "text/x-python",
   "name": "python",
   "nbconvert_exporter": "python",
   "pygments_lexer": "ipython3",
   "version": "3.10.7"
  }
 },
 "nbformat": 4,
 "nbformat_minor": 5
}
