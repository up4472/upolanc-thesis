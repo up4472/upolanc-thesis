{
 "cells": [
  {
   "cell_type": "code",
   "execution_count": 1,
   "id": "f9a99b59-5e38-44ca-a55b-0ffed993e6d3",
   "metadata": {
    "execution": {
     "iopub.execute_input": "2023-04-19T19:07:03.388015Z",
     "iopub.status.busy": "2023-04-19T19:07:03.388015Z",
     "iopub.status.idle": "2023-04-19T19:07:03.495108Z",
     "shell.execute_reply": "2023-04-19T19:07:03.494607Z",
     "shell.execute_reply.started": "2023-04-19T19:07:03.388015Z"
    },
    "tags": []
   },
   "outputs": [],
   "source": [
    "# Libraries\n",
    "\n",
    "import numpy\n",
    "import os\n",
    "import platform\n",
    "import random\n",
    "import shutil\n",
    "import sys"
   ]
  },
  {
   "cell_type": "code",
   "execution_count": 2,
   "id": "3f6f9928-f8dd-4c12-b5b4-176c3321ba48",
   "metadata": {
    "execution": {
     "iopub.execute_input": "2023-04-19T19:07:03.496609Z",
     "iopub.status.busy": "2023-04-19T19:07:03.496110Z",
     "iopub.status.idle": "2023-04-19T19:07:03.511122Z",
     "shell.execute_reply": "2023-04-19T19:07:03.510121Z",
     "shell.execute_reply.started": "2023-04-19T19:07:03.496609Z"
    },
    "tags": []
   },
   "outputs": [],
   "source": [
    "# Ensure source path\n",
    "\n",
    "ROOT = os.getcwd()\n",
    "\n",
    "while not ROOT.endswith('upolanc-thesis') :\n",
    "\tROOT = os.path.abspath(os.path.join(ROOT, os.pardir))\n",
    "\n",
    "\tif len(ROOT) < len('upolanc-thesis') :\n",
    "\t\tif   platform.system() == 'Linux' :\n",
    "\t\t\tROOT = '/d/hpc/home/up4472/workspace/upolanc-thesis'\n",
    "\t\telif platform.system() == 'Windows' :\n",
    "\t\t\tROOT = 'C:\\\\Developer\\\\Workspace\\\\PyCharm\\\\Projects\\\\upolanc-thesis'\n",
    "\t\telse :\n",
    "\t\t\traise ValueError()\n",
    "\n",
    "\t\tprint(f'Warning : could not find correct directory, using default : {ROOT}')\n",
    "\t\tbreak\n",
    "\n",
    "if ROOT not in sys.path :\n",
    "\tsys.path.append(ROOT)\n",
    "\n",
    "os.chdir(ROOT)"
   ]
  },
  {
   "cell_type": "code",
   "execution_count": 3,
   "id": "af2d1a13-8af4-4612-8428-0c6d6d0444fd",
   "metadata": {
    "execution": {
     "iopub.execute_input": "2023-04-19T19:07:03.512623Z",
     "iopub.status.busy": "2023-04-19T19:07:03.512123Z",
     "iopub.status.idle": "2023-04-19T19:07:06.504196Z",
     "shell.execute_reply": "2023-04-19T19:07:06.503695Z",
     "shell.execute_reply.started": "2023-04-19T19:07:03.512623Z"
    },
    "tags": []
   },
   "outputs": [],
   "source": [
    "# Code\n",
    "\n",
    "from source.python.data.mutation import mutation_sequence\n",
    "from source.python.data.feature  import feature_extractor\n",
    "from source.python.io            import loader\n",
    "from source.python.io            import writer\n",
    "from source.python               import runtime\n",
    "\n",
    "runtime.set_numpy_format()\n",
    "runtime.set_pandas_format()\n",
    "runtime.set_plot_theme()"
   ]
  },
  {
   "cell_type": "markdown",
   "id": "46ebed75-3c90-4dc3-acb5-b9dffb12d5da",
   "metadata": {},
   "source": [
    "# 1. Setup"
   ]
  },
  {
   "cell_type": "code",
   "execution_count": 4,
   "id": "41d3dd6d-ed46-4a86-afe8-15f1f1be4895",
   "metadata": {
    "execution": {
     "iopub.execute_input": "2023-04-19T19:07:06.505197Z",
     "iopub.status.busy": "2023-04-19T19:07:06.504696Z",
     "iopub.status.idle": "2023-04-19T19:07:06.520210Z",
     "shell.execute_reply": "2023-04-19T19:07:06.519210Z",
     "shell.execute_reply.started": "2023-04-19T19:07:06.505197Z"
    },
    "tags": []
   },
   "outputs": [
    {
     "name": "stdout",
     "output_type": "stream",
     "text": [
      "     Root Directory : C:\\Developer\\Workspace\\PyCharm\\Projects\\upolanc-thesis\n",
      "   Output Directory : C:\\Developer\\Workspace\\PyCharm\\Projects\\upolanc-thesis\\output\\nbp04-feature\\filter0\n",
      " Resource Directory : C:\\Developer\\Workspace\\PyCharm\\Projects\\upolanc-thesis\\resources\\genome\n",
      " Resource Directory : C:\\Developer\\Workspace\\PyCharm\\Projects\\upolanc-thesis\\output\\nbp01-analysis\\filter0\n"
     ]
    }
   ],
   "source": [
    "# Setup some directory paths\n",
    "\n",
    "FILTER_ID = 0\n",
    "SUBFOLDER = 'filter' + str(FILTER_ID)\n",
    "\n",
    "CWD = ROOT\n",
    "OUT = os.path.join(CWD, 'output')\n",
    "RES = os.path.join(CWD, 'resources')\n",
    "\n",
    "OUT_DATA   = os.path.join(OUT, 'nbp04-feature',  SUBFOLDER)\n",
    "RES_GENOME = os.path.join(RES, 'genome')\n",
    "RES_NBP01  = os.path.join(OUT, 'nbp01-analysis', SUBFOLDER)\n",
    "RES_NBP02  = os.path.join(OUT, 'nbp02-anndata',  SUBFOLDER)\n",
    "\n",
    "shutil.rmtree(OUT_DATA, ignore_errors = True)\n",
    "\n",
    "os.makedirs(OUT_DATA, exist_ok = True)\n",
    "\n",
    "print(f'     Root Directory : {CWD}')\n",
    "print(f'   Output Directory : {OUT_DATA}')\n",
    "print(f' Resource Directory : {RES_GENOME}')\n",
    "print(f' Resource Directory : {RES_NBP01}')"
   ]
  },
  {
   "cell_type": "code",
   "execution_count": 5,
   "id": "fd6c27b1-4c0a-497f-b961-a73b659797e7",
   "metadata": {
    "execution": {
     "iopub.execute_input": "2023-04-19T19:07:06.521210Z",
     "iopub.status.busy": "2023-04-19T19:07:06.520710Z",
     "iopub.status.idle": "2023-04-19T19:07:07.947436Z",
     "shell.execute_reply": "2023-04-19T19:07:07.946436Z",
     "shell.execute_reply.started": "2023-04-19T19:07:06.521210Z"
    }
   },
   "outputs": [],
   "source": [
    "# Load the annotated and cleaned data\n",
    "\n",
    "gene_assembly = loader.load_faidx(\n",
    "\tfilename  = os.path.join(RES_GENOME, 'arabidopsis-r36', 'gene-assembly.fa')\n",
    ")\n",
    "\n",
    "gene_annotation = loader.load_csv(\n",
    "\tfilename   = os.path.join(RES_NBP01, 'gene-annotation.csv'),\n",
    "\tlow_memory = False\n",
    ")\n",
    "\n",
    "anndata = loader.load_h5ad(\n",
    "\tfilename = os.path.join(RES_NBP02, 'arabidopsis-r36.h5ad')\n",
    ")"
   ]
  },
  {
   "cell_type": "code",
   "execution_count": 6,
   "id": "646e4086-0192-439f-b154-c819f87dd4ba",
   "metadata": {
    "execution": {
     "iopub.execute_input": "2023-04-19T19:07:07.949938Z",
     "iopub.status.busy": "2023-04-19T19:07:07.948437Z",
     "iopub.status.idle": "2023-04-19T19:07:07.962450Z",
     "shell.execute_reply": "2023-04-19T19:07:07.961949Z",
     "shell.execute_reply.started": "2023-04-19T19:07:07.949938Z"
    }
   },
   "outputs": [],
   "source": [
    "# Define the region lengths\n",
    "\n",
    "lengths = {\n",
    "\t'prom_full' : [int(1000), int(500)],\n",
    "\t'prom'      :  int(1000),\n",
    "\t'utr5'      :  int( 300),\n",
    "\t'cds'       :  int(9999),\n",
    "\t'utr3'      :  int( 350),\n",
    "\t'term'      :  int( 500),\n",
    "\t'term_full' : [int( 500), int(500)]\n",
    "}\n",
    "\n",
    "padding = {\n",
    "\t'prom_full' : 'left',\n",
    "\t'prom'      : 'left',\n",
    "\t'utr5'      : 'left',\n",
    "\t'cds'       : 'none',\n",
    "\t'utr3'      : 'left',\n",
    "\t'term'      : 'right',\n",
    "\t'term_full' : 'right'\n",
    "}"
   ]
  },
  {
   "cell_type": "markdown",
   "id": "115d104b-4935-46c3-9868-a7660f8b688c",
   "metadata": {
    "tags": []
   },
   "source": [
    "# 2. Transcript Regions"
   ]
  },
  {
   "cell_type": "code",
   "execution_count": 7,
   "id": "8b4b8b12-4f5e-4500-aa48-3a1373fc7a92",
   "metadata": {
    "execution": {
     "iopub.execute_input": "2023-04-19T19:07:07.965452Z",
     "iopub.status.busy": "2023-04-19T19:07:07.964951Z",
     "iopub.status.idle": "2023-04-19T19:07:12.244132Z",
     "shell.execute_reply": "2023-04-19T19:07:12.243131Z",
     "shell.execute_reply.started": "2023-04-19T19:07:07.965452Z"
    }
   },
   "outputs": [
    {
     "name": "stdout",
     "output_type": "stream",
     "text": [
      "Passed 1st assertion : True\n",
      "Passed 2nd assertion : True\n",
      "\n",
      "Gene       : 19022\n",
      "Transcript : 19022\n"
     ]
    }
   ],
   "source": [
    "# Group annotations into regions\n",
    "\n",
    "regions = feature_extractor.annotation_to_regions(\n",
    "\tannotation = gene_annotation,\n",
    "\tlengths    = lengths\n",
    ")\n",
    "\n",
    "print()\n",
    "print('Gene       : {:}'.format(regions['Gene'].nunique()))\n",
    "print('Transcript : {:}'.format(regions['Transcript'].nunique()))"
   ]
  },
  {
   "cell_type": "markdown",
   "id": "1633d701-8e6b-4a53-92d6-a882b627750d",
   "metadata": {},
   "source": [
    "# 3. Transcript Features"
   ]
  },
  {
   "cell_type": "code",
   "execution_count": 8,
   "id": "4b65bf86-8326-41d8-b1ed-c15187240bba",
   "metadata": {
    "execution": {
     "iopub.execute_input": "2023-04-19T19:07:12.245133Z",
     "iopub.status.busy": "2023-04-19T19:07:12.244632Z",
     "iopub.status.idle": "2023-04-19T19:09:28.643733Z",
     "shell.execute_reply": "2023-04-19T19:09:28.643733Z",
     "shell.execute_reply.started": "2023-04-19T19:07:12.245133Z"
    },
    "tags": []
   },
   "outputs": [
    {
     "name": "stdout",
     "output_type": "stream",
     "text": [
      "[AT1G33612.1 ] : unknown codon [GYG]\n",
      "[AT2G01120.1 ] : unknown codon [GKT]\n",
      "[AT2G01120.1 ] : unknown codon [STA]\n",
      "[AT2G01120.1 ] : unknown codon [GAK]\n",
      "[AT2G01120.1 ] : unknown codon [KTG]\n",
      "[AT2G48110.1 ] : unknown codon [GCM]\n",
      "[AT3G63540.1 ] : out of bounds at sequence end\n"
     ]
    }
   ],
   "source": [
    "# Convert the regions into sequences and features\n",
    "\n",
    "sequences, features = feature_extractor.regions_to_features(\n",
    "\tfaidx     = gene_assembly,\n",
    "\tdataframe = regions,\n",
    "\tlengths   = lengths\n",
    ")"
   ]
  },
  {
   "cell_type": "code",
   "execution_count": 9,
   "id": "35f67d39-fc7b-417a-9cb9-3f30111eef99",
   "metadata": {
    "execution": {
     "iopub.execute_input": "2023-04-19T19:09:28.645735Z",
     "iopub.status.busy": "2023-04-19T19:09:28.644734Z",
     "iopub.status.idle": "2023-04-19T19:09:28.771924Z",
     "shell.execute_reply": "2023-04-19T19:09:28.771924Z",
     "shell.execute_reply.started": "2023-04-19T19:09:28.645735Z"
    }
   },
   "outputs": [],
   "source": [
    "# Convert the dataframe into a dictionary for ease of use\n",
    "\n",
    "sequences = sequences.copy()\n",
    "sequences = sequences.set_index('Transcript', drop = False)\n",
    "sequences = sequences.rename_axis(None, axis = 'index')\n",
    "sequences = sequences.to_dict('index')"
   ]
  },
  {
   "cell_type": "code",
   "execution_count": 10,
   "id": "bd54bdf8-962c-4f70-89bd-804022fa130c",
   "metadata": {
    "execution": {
     "iopub.execute_input": "2023-04-19T19:09:28.772925Z",
     "iopub.status.busy": "2023-04-19T19:09:28.772925Z",
     "iopub.status.idle": "2023-04-19T19:09:28.834959Z",
     "shell.execute_reply": "2023-04-19T19:09:28.834959Z",
     "shell.execute_reply.started": "2023-04-19T19:09:28.772925Z"
    }
   },
   "outputs": [],
   "source": [
    "# Convert the dataframe into a dictionary for ease of use\n",
    "\n",
    "features = features.copy()\n",
    "features = features.set_index('Transcript', drop = False)\n",
    "features = features.rename_axis(None, axis = 'index')\n",
    "features = features.to_dict('index')"
   ]
  },
  {
   "cell_type": "markdown",
   "id": "c2fcf5e1-bcc2-4e45-a64d-ba6f6aa63f84",
   "metadata": {},
   "source": [
    "## 3.1 Fasta"
   ]
  },
  {
   "cell_type": "code",
   "execution_count": 11,
   "id": "2df35250-a75c-4e11-a200-e6cb638bbc25",
   "metadata": {
    "execution": {
     "iopub.execute_input": "2023-04-19T19:09:28.835960Z",
     "iopub.status.busy": "2023-04-19T19:09:28.835960Z",
     "iopub.status.idle": "2023-04-19T19:09:58.002703Z",
     "shell.execute_reply": "2023-04-19T19:09:58.002703Z",
     "shell.execute_reply.started": "2023-04-19T19:09:28.835960Z"
    }
   },
   "outputs": [],
   "source": [
    "# Add a header field with more transcript information\n",
    "\n",
    "sequences = feature_extractor.sequences_extend_kvpair(\n",
    "\tsequences = sequences,\n",
    "\tregions   = regions,\n",
    "\theader    = '{} | {} | {}:{}-{} | {}'\n",
    ")"
   ]
  },
  {
   "cell_type": "code",
   "execution_count": 12,
   "id": "2f313440-253f-4977-9d38-11b46acf541a",
   "metadata": {
    "execution": {
     "iopub.execute_input": "2023-04-19T19:09:58.003704Z",
     "iopub.status.busy": "2023-04-19T19:09:58.003704Z",
     "iopub.status.idle": "2023-04-19T19:09:58.018720Z",
     "shell.execute_reply": "2023-04-19T19:09:58.018720Z",
     "shell.execute_reply.started": "2023-04-19T19:09:58.003704Z"
    }
   },
   "outputs": [],
   "source": [
    "# Example of a positive strand\n",
    "\n",
    "transcript = 'AT1G01010.1',\n",
    "\n",
    "if transcript in sequences.keys() :\n",
    "\tfeature_extractor.print_extracted_sequence(\n",
    "\t\ttranscript = transcript,\n",
    "\t\tsequences  = sequences,\n",
    "\t\tspace      = True\n",
    "\t)"
   ]
  },
  {
   "cell_type": "code",
   "execution_count": 13,
   "id": "83d09452-4c1e-4484-bfba-c1100c1393f2",
   "metadata": {
    "execution": {
     "iopub.execute_input": "2023-04-19T19:09:58.019720Z",
     "iopub.status.busy": "2023-04-19T19:09:58.019720Z",
     "iopub.status.idle": "2023-04-19T19:09:58.034734Z",
     "shell.execute_reply": "2023-04-19T19:09:58.034734Z",
     "shell.execute_reply.started": "2023-04-19T19:09:58.019720Z"
    },
    "tags": []
   },
   "outputs": [
    {
     "name": "stdout",
     "output_type": "stream",
     "text": [
      "AT1G01020.1 | - | 1:9129-10128 | 1000\n",
      "ATAAATATAT GAACCTACAT CATTATAAGT AGGGTTAAGT GTGTATGATT GTGTATGCGT ATAAAAATAC TCCCTTGACC GTAAACATGA AACATGTAAT \n",
      "ATATAAGATA TATAGACATG GAGACTATAT CATATAAACA TACATATATA TATATATGTT AGTTATATGT GTAGCCCACA TTTTTCGATA TAGGGGAACA \n",
      "AAGTTACGAA TAATGTATAT GTTAGTTATA TGTATAAAAC ATTTGCAAAG GGATGATACA ATGGAATATG TAAATACGTA TTCCAAATAG TCTACAAGTA \n",
      "GCAATGATAT TGTGTAGATA TGTCTCATAA AGGCTTGTGC TATTATATTG TGTAGATGTG TCTCAAAAGG CTTGTGCATA GTTGTCAAAA GAATATAAAA \n",
      "TGCATTTTAA TATTCAAAAG AATGCATGCA TAGACTGATA GAAAAGAAGA AATAATGAAA ATTAAAAGGG GAGGTATTAG TGAAAAGTAC GGAGGTATTA \n",
      "AAATTATGAA AATGACTAAA GGAAATAATA TTGTAACACA TCTAAATGAT TAGTTGTGTA AGAAGAATAA AGAGAATTAA TGACATGCTC CAATTATTGT \n",
      "TAAATAAAAT AAAATAATTC ATTCTCATTA GATTCCTGAC CTAAAAGAGA CTGCAAATAT GTAGGCCGGT TAGGGTTTTC ATAGGCATGA TTAATGATGA \n",
      "TAAGGAAACT TCGTATTGGG GGTTAATGGG TTCTTTCCCT TTCTAATACA TTTCTAAATA AAGTAATAAT CAAATATTAA ACTTTTAACT TACCGTTTCA \n",
      "TTTTTATGTT GAGTTTACTT ATATTGAAAG GAAACTATTT TATCTAAACC TCATTGTCAA ATCTTTCATT TTGTAGCCAT ATGCTAATTA CATGCAACAA \n",
      "AAGGAGTTTT TTTTGTTTGG TGTGGCAAAC GAAGATTTAT TTACCTTTCT TATTTAATCA AACTAAATAA ATTTCTTCAC TGTTGAATTG TAATAAATAA \n",
      "\n",
      "AT1G01020.1 | - | 1:8667-9130 | 300\n",
      "GGCCTATAAT ATGTTTCATT CATGAACCTA CGCATTTTAA AATGCTATGT CATATGGACA AGATTTTGAT CCAAATTGAA CTATTTATAA ATTACAACGT \n",
      "GTATATGATT TTTAAATTTT GGGGTACAAA TACCCCGGCT TAGAGCAAAA GTGGGCCTAA CAAATTTAAA GTTAAGACTT CAAAAACTTG GCCCATGAAT \n",
      "AAGCCCATTT AGGGTTAAAA CAGTAGCCCA GACCCGGACT CTAATTGCTC CGTATTCTTC TTCTCTTGAG AGAGAGAGAG AGAGAGAGAG AGAGAGAGCA \n",
      "\n",
      "AT1G01020.1 | - | 1:6915-8666 | 738\n",
      "ATGGCGGCGA GTGAACACAG ATGCGTGGGA TGTGGTTTTA GGGTAAAGTC ATTGTTCATT CAATACTCTC CGGGTAACAT TCGTCTCATG AAATGCGGAA \n",
      "ATTGCAAGGA AGTAGCAGAT GAGTACATCG AGTGTGAACG CATGATTATT TTCATCGATT TAATCCTTCA CAGACCAAAG GTATATAGAC ACGTCCTCTA \n",
      "CAATGCAATT AATCCAGCAA CTGTCAATAT TCAGCATCTG TTGTGGAAGT TGGTCTTCGC CTATCTTCTT CTAGACTGTT ATAGAAGCTT GCTACTGAGA \n",
      "AAAAGTGATG AAGAATCGAG CTTTTCTGAT AGCCCTGTTC TTCTATCTAT AAAGGTTCTG ATTGGTGTCT TATCTGCAAA CGCTGCATTT ATCATCTCTT \n",
      "TTGCCATTGC GACTAAGGGT TTGCTAAATG AAGTTTCCAG AAGAAGAGAG ATTATGTTGG GGATATTCAT CTCTAGTTAC TTCAAGATAT TTCTGCTTGC \n",
      "GATGTTGGTA TGGGAATTCC CAATGTCAGT GATTTTTTTT GTCGATATAC TTCTCTTAAC ATCAAACTCC ATGGCTCTTA AAGTGATGAC TGAATCAACA \n",
      "ATGACCAGAT GCATAGCCGT ATGCTTAATC GCGCACTTGA TTAGATTCTT GGTGGGTCAG ATTTTTGAGC CGACAATATT TTTGATACAA ATTGGATCTC \n",
      "TGTTGCAATA TATGTCTTAT TTTTTCAGAA TCGTATGA \n",
      "\n",
      "AT1G01020.1 | - | 1:6788-6914 | 127\n",
      "TCCCATCAGC TTCCAGTATA GTCTTTTGGT TTGAAGATAA GAGAAACCTT TACATTATTA TACCATACTG TATTTTATGA CTAAGCCAAA TATTATCGCC \n",
      "ACCAAAAATT GAATTAGACC TTACTAA \n",
      "\n",
      "AT1G01020.1 | - | 1:6290-6789 | 500\n",
      "AAAATATCAA AAGTTAATTG TTGGTCTGTT ACTCTGTGCG GGCGGATATA ACTCAACCAC CTACAATTAT TTGCCCTACA AAAACCTTGT TCCTCACGAT \n",
      "ATCGTCGCTC CATCTTTCTT GGAATGCTGG GCATATGTGG TGGTACCCTC CTTGGAATGG TGGGCATATG TGGAACCCTC CTATGAATGT TGGAGATATG \n",
      "TGGGACTCTC CTATGAATGT GGGGCATCAA CACATTGTTG CAACACCAAG TGAATGTCAT AGGAAAGACG AGGAGACGGT TGAAGCCGAA GTTGAGGCTC \n",
      "CCCTTGATTC TTATCCGGAG AATGCTACTA CCATGGCGAG AAAGCAACCA AAGGCAAGTT AAATATCTGA AAATGTTGAG AATTCTGATG ATAACTAAAG \n",
      "CATTGAAACG AATATTGGGT TAACTTAATA ATACTTATGC TTATTTTCAA GTCTCGTTTT GTTTTAATTG ACTACACTAT ACTTCTTAGA TCCGTTATGT \n",
      "\n"
     ]
    }
   ],
   "source": [
    "# Example of a negative strand\n",
    "\n",
    "transcript = 'AT1G01020.1'\n",
    "\n",
    "if transcript in sequences.keys() :\n",
    "\tfeature_extractor.print_extracted_sequence(\n",
    "\t\ttranscript = transcript,\n",
    "\t\tsequences  = sequences,\n",
    "\t\tspace      = True\n",
    "\t)"
   ]
  },
  {
   "cell_type": "code",
   "execution_count": 14,
   "id": "b554fd5b-908b-4b92-b0b6-e0e4e82d4152",
   "metadata": {
    "execution": {
     "iopub.execute_input": "2023-04-19T19:09:58.035734Z",
     "iopub.status.busy": "2023-04-19T19:09:58.035734Z",
     "iopub.status.idle": "2023-04-19T19:09:59.052399Z",
     "shell.execute_reply": "2023-04-19T19:09:59.052399Z",
     "shell.execute_reply.started": "2023-04-19T19:09:58.035734Z"
    }
   },
   "outputs": [],
   "source": [
    "# Save the transcript region sequences\n",
    "\n",
    "tuples = [\n",
    "\t('Prom_Full', 'promoter-full'),\n",
    "\t('Prom',      'promoter'),\n",
    "\t('UTR5',      'utr5'),\n",
    "\t('CDS',       'cds'),\n",
    "\t('UTR3',      'utr3'),\n",
    "\t('Term',      'terminator'),\n",
    "\t('Term_Full', 'terminator-full')\n",
    "]\n",
    "\n",
    "for region, filename in tuples :\n",
    "\twriter.write_fasta(\n",
    "\t\tdata = {\n",
    "\t\t\titem[region]['key'] : item[region]['seq']\n",
    "\t\t\tfor item in sequences.values()\n",
    "\t\t},\n",
    "\t\tfilename = os.path.join(OUT_DATA, f'sequences-{filename}.fasta')\n",
    "\t)"
   ]
  },
  {
   "cell_type": "markdown",
   "id": "5e4b0715-27b0-428b-be6b-9bea2be77368",
   "metadata": {},
   "source": [
    "## 3.2 Sequences"
   ]
  },
  {
   "cell_type": "code",
   "execution_count": 15,
   "id": "c9e2a11f-a5ed-4f91-bc6a-86fba8fb6b3f",
   "metadata": {
    "execution": {
     "iopub.execute_input": "2023-04-19T19:09:59.053400Z",
     "iopub.status.busy": "2023-04-19T19:09:59.053400Z",
     "iopub.status.idle": "2023-04-19T19:09:59.179515Z",
     "shell.execute_reply": "2023-04-19T19:09:59.179515Z",
     "shell.execute_reply.started": "2023-04-19T19:09:59.053400Z"
    }
   },
   "outputs": [],
   "source": [
    "# Merge transcript regions and pad accordingly\n",
    "\n",
    "bp2150 = feature_extractor.merge_and_pad_sequences(\n",
    "\tsequences = sequences,\n",
    "\tlengths   = lengths,\n",
    "\tpadding   = padding\n",
    ")"
   ]
  },
  {
   "cell_type": "code",
   "execution_count": 16,
   "id": "0a0fb323-d623-4411-948e-80a0721afbba",
   "metadata": {
    "execution": {
     "iopub.execute_input": "2023-04-19T19:09:59.180516Z",
     "iopub.status.busy": "2023-04-19T19:09:59.180516Z",
     "iopub.status.idle": "2023-04-19T19:09:59.195529Z",
     "shell.execute_reply": "2023-04-19T19:09:59.195529Z",
     "shell.execute_reply.started": "2023-04-19T19:09:59.180516Z"
    }
   },
   "outputs": [],
   "source": [
    "# Display an example of a merged transcript sequence\n",
    "\n",
    "transcript = 'AT1G03730.1'\n",
    "\n",
    "if transcript in bp2150.keys() :\n",
    "\tfeature_extractor.print_padded_sequence(\n",
    "\t\ttranscript = transcript,\n",
    "\t\tsequences  = bp2150,\n",
    "\t\tspace      = True\n",
    "\t)"
   ]
  },
  {
   "cell_type": "code",
   "execution_count": 17,
   "id": "23489337-1d89-4929-bc89-f7d87567effd",
   "metadata": {
    "execution": {
     "iopub.execute_input": "2023-04-19T19:09:59.196530Z",
     "iopub.status.busy": "2023-04-19T19:09:59.196530Z",
     "iopub.status.idle": "2023-04-19T19:09:59.483791Z",
     "shell.execute_reply": "2023-04-19T19:09:59.483791Z",
     "shell.execute_reply.started": "2023-04-19T19:09:59.196530Z"
    },
    "tags": []
   },
   "outputs": [],
   "source": [
    "# Save the transcript sequences\n",
    "\n",
    "writer.write_fasta(\n",
    "\tdata     = bp2150,\n",
    "\tfilename = os.path.join(OUT_DATA, f'sequences-bp2150.fasta')\n",
    ")"
   ]
  },
  {
   "cell_type": "markdown",
   "id": "5cbb845a-e1ff-46cb-b3bc-a9274d12d0b5",
   "metadata": {},
   "source": [
    "## 3.3 Mutations"
   ]
  },
  {
   "cell_type": "code",
   "execution_count": 18,
   "id": "4cd8b064-ed29-459d-8e52-5de3ce6e9ab2",
   "metadata": {
    "execution": {
     "iopub.execute_input": "2023-04-19T19:09:59.485794Z",
     "iopub.status.busy": "2023-04-19T19:09:59.485794Z",
     "iopub.status.idle": "2023-04-19T19:09:59.499806Z",
     "shell.execute_reply": "2023-04-19T19:09:59.499806Z",
     "shell.execute_reply.started": "2023-04-19T19:09:59.485794Z"
    }
   },
   "outputs": [],
   "source": [
    "# Select random transcripts to mutate\n",
    "\n",
    "mutation_transcripts = random.choices(list(sequences.keys()), k = 25)\n",
    "mutation_transcripts = {key : value for key, value in sequences.items() if key in mutation_transcripts}"
   ]
  },
  {
   "cell_type": "code",
   "execution_count": 19,
   "id": "e2e5ca72-01a3-475a-8045-f848ccc3c810",
   "metadata": {
    "execution": {
     "iopub.execute_input": "2023-04-19T19:09:59.500808Z",
     "iopub.status.busy": "2023-04-19T19:09:59.500808Z",
     "iopub.status.idle": "2023-04-19T19:10:16.188126Z",
     "shell.execute_reply": "2023-04-19T19:10:16.188126Z",
     "shell.execute_reply.started": "2023-04-19T19:09:59.500808Z"
    },
    "tags": []
   },
   "outputs": [
    {
     "data": {
      "application/vnd.jupyter.widget-view+json": {
       "model_id": "b5ca4c78841b4a2594dcb3f5d09be076",
       "version_major": 2,
       "version_minor": 0
      },
      "text/plain": [
       "  0%|          | 0/125 [00:00<?, ?it/s]"
      ]
     },
     "metadata": {},
     "output_type": "display_data"
    }
   ],
   "source": [
    "# Mutate transcripts multiple times\n",
    "\n",
    "rates = [\n",
    "\t0.01,\n",
    "\t0.05,\n",
    "\t0.10,\n",
    "\t0.15,\n",
    "\t0.25\n",
    "]\n",
    "\n",
    "params = {\n",
    "\t'mutation_rate'     : 0.1,\n",
    "\t'insertion_rate'    : 0.0,\n",
    "\t'deletion_rate'     : 0.0,\n",
    "\t'substitution_rate' : 1.0,\n",
    "\t'max_length'        : 6\n",
    "}\n",
    "\n",
    "result = mutation_sequence.generate_multi(\n",
    "\tsequences = mutation_transcripts,\n",
    "\tvariants  = 20,\n",
    "\tmethod    = 'random',\n",
    "\trates     = rates,\n",
    "\tparams    = params\n",
    ")\n",
    "\n",
    "mutation_sequences = result[0]\n",
    "mutation_features  = result[1]"
   ]
  },
  {
   "cell_type": "code",
   "execution_count": 20,
   "id": "e28d6bdb-1402-47b1-acaa-ceb8d494c8cc",
   "metadata": {
    "execution": {
     "iopub.execute_input": "2023-04-19T19:10:16.189127Z",
     "iopub.status.busy": "2023-04-19T19:10:16.189127Z",
     "iopub.status.idle": "2023-04-19T19:10:16.220154Z",
     "shell.execute_reply": "2023-04-19T19:10:16.220154Z",
     "shell.execute_reply.started": "2023-04-19T19:10:16.189127Z"
    }
   },
   "outputs": [],
   "source": [
    "# Merge mutation transcript regions and pad accordingly\n",
    "\n",
    "mutation_bp2150 = feature_extractor.merge_and_pad_sequences(\n",
    "\tsequences = mutation_sequences,\n",
    "\tlengths   = lengths,\n",
    "\tpadding   = padding\n",
    ")"
   ]
  },
  {
   "cell_type": "code",
   "execution_count": 21,
   "id": "16fb3099-a09c-4251-8d14-fbea951e734f",
   "metadata": {
    "execution": {
     "iopub.execute_input": "2023-04-19T19:10:16.221155Z",
     "iopub.status.busy": "2023-04-19T19:10:16.221155Z",
     "iopub.status.idle": "2023-04-19T19:10:16.527434Z",
     "shell.execute_reply": "2023-04-19T19:10:16.524431Z",
     "shell.execute_reply.started": "2023-04-19T19:10:16.221155Z"
    }
   },
   "outputs": [],
   "source": [
    "# Compute similiarity betwen orginal and mutated transcript sequences\n",
    "\n",
    "data = dict()\n",
    "\n",
    "for key, value in mutation_bp2150.items() :\n",
    "\tsplits = key.split(' | ')\n",
    "\n",
    "\torgkey = splits[0].split('-')[0]\n",
    "\torgkey = orgkey + ' | ' + ' | '.join(splits[1:])\n",
    "\n",
    "\torgseq = bp2150[orgkey]\n",
    "\n",
    "\tmatch = sum([1 if x == y else 0 for x, y in zip(orgseq, value)])\n",
    "\tmatch = match / len(orgseq)\n",
    "\n",
    "\tdata['{} | {:.5f}'.format(key, match)] = value\n",
    "\n",
    "mutation_bp2150 = data"
   ]
  },
  {
   "cell_type": "code",
   "execution_count": 22,
   "id": "26c40ebe-8e41-46e6-b4f7-c09a703baeb5",
   "metadata": {
    "execution": {
     "iopub.execute_input": "2023-04-19T19:10:16.532438Z",
     "iopub.status.busy": "2023-04-19T19:10:16.532438Z",
     "iopub.status.idle": "2023-04-19T19:10:16.587489Z",
     "shell.execute_reply": "2023-04-19T19:10:16.587489Z",
     "shell.execute_reply.started": "2023-04-19T19:10:16.532438Z"
    }
   },
   "outputs": [],
   "source": [
    "# Save the mutation transcript sequences\n",
    "\n",
    "writer.write_fasta(\n",
    "\tdata     = mutation_bp2150,\n",
    "\tfilename = os.path.join(OUT_DATA, f'mutation-sequences-bp2150.fasta')\n",
    ")"
   ]
  },
  {
   "cell_type": "code",
   "execution_count": 23,
   "id": "3d9245eb-fa80-45d1-b8e3-a0995a069ad3",
   "metadata": {
    "execution": {
     "iopub.execute_input": "2023-04-19T19:10:16.589491Z",
     "iopub.status.busy": "2023-04-19T19:10:16.589491Z",
     "iopub.status.idle": "2023-04-19T19:10:16.619519Z",
     "shell.execute_reply": "2023-04-19T19:10:16.619519Z",
     "shell.execute_reply.started": "2023-04-19T19:10:16.589491Z"
    },
    "tags": []
   },
   "outputs": [],
   "source": [
    "# Extract mutation features\n",
    "\n",
    "mutation_features_frequency = {\n",
    "\tkey : numpy.array(value['Frequency'])\n",
    "\tfor key, value in mutation_features.items()\n",
    "}\n",
    "\n",
    "mutation_features_stability = {\n",
    "\tkey : numpy.array(value['Stability'])\n",
    "\tfor key, value in mutation_features.items()\n",
    "}"
   ]
  },
  {
   "cell_type": "code",
   "execution_count": 24,
   "id": "99145fcf-78d9-4683-b9e7-4e31a9d10d21",
   "metadata": {
    "execution": {
     "iopub.execute_input": "2023-04-19T19:10:16.621520Z",
     "iopub.status.busy": "2023-04-19T19:10:16.620518Z",
     "iopub.status.idle": "2023-04-19T19:10:16.827707Z",
     "shell.execute_reply": "2023-04-19T19:10:16.827707Z",
     "shell.execute_reply.started": "2023-04-19T19:10:16.621520Z"
    }
   },
   "outputs": [],
   "source": [
    "# Save the mutation features\n",
    "\n",
    "writer.write_npz(\n",
    "\tdata     = mutation_features_frequency,\n",
    "\tfilename = os.path.join(OUT_DATA, 'mutation-features-frequency')\n",
    ")\n",
    "\n",
    "writer.write_npz(\n",
    "\tdata     = mutation_features_stability,\n",
    "\tfilename = os.path.join(OUT_DATA, 'mutation-features-stability')\n",
    ")"
   ]
  },
  {
   "cell_type": "code",
   "execution_count": 25,
   "id": "77ddd800-136a-408a-a8d9-86202c858886",
   "metadata": {
    "execution": {
     "iopub.execute_input": "2023-04-19T19:10:16.828708Z",
     "iopub.status.busy": "2023-04-19T19:10:16.828708Z",
     "iopub.status.idle": "2023-04-19T19:10:16.969837Z",
     "shell.execute_reply": "2023-04-19T19:10:16.968835Z",
     "shell.execute_reply.started": "2023-04-19T19:10:16.828708Z"
    },
    "tags": []
   },
   "outputs": [],
   "source": [
    "# Save merged features\n",
    "\n",
    "mutation_features_base = dict()\n",
    "\n",
    "for key in mutation_features_frequency.keys() :\n",
    "\tfreq = mutation_features_frequency[key]\n",
    "\tstab = mutation_features_stability[key]\n",
    "\n",
    "\tmutation_features_base[key] = numpy.concatenate((freq, stab), axis = 0)\n",
    "\n",
    "writer.write_npz(\n",
    "\tdata     = mutation_features_base,\n",
    "\tfilename = os.path.join(OUT_DATA, 'mutation-features-base')\n",
    ")"
   ]
  },
  {
   "cell_type": "markdown",
   "id": "803fb8fa-aa16-4ea1-8697-122abf9578ec",
   "metadata": {},
   "source": [
    "## 3.4 Features"
   ]
  },
  {
   "cell_type": "code",
   "execution_count": 26,
   "id": "733732a1-bec0-4d30-b751-cdf8c2eaebbf",
   "metadata": {
    "execution": {
     "iopub.execute_input": "2023-04-19T19:10:16.971838Z",
     "iopub.status.busy": "2023-04-19T19:10:16.970837Z",
     "iopub.status.idle": "2023-04-19T19:10:17.126981Z",
     "shell.execute_reply": "2023-04-19T19:10:17.125979Z",
     "shell.execute_reply.started": "2023-04-19T19:10:16.971838Z"
    }
   },
   "outputs": [],
   "source": [
    "# Extract features\n",
    "\n",
    "features_frequency = {\n",
    "\tkey : numpy.array(value['Frequency'])\n",
    "\tfor key, value in features.items()\n",
    "}\n",
    "\n",
    "features_stability = {\n",
    "\tkey : numpy.array(value['Stability'])\n",
    "\tfor key, value in features.items()\n",
    "}"
   ]
  },
  {
   "cell_type": "code",
   "execution_count": 27,
   "id": "26ba9574-a637-4a33-819f-4324df70c775",
   "metadata": {
    "execution": {
     "iopub.execute_input": "2023-04-19T19:10:17.127981Z",
     "iopub.status.busy": "2023-04-19T19:10:17.126981Z",
     "iopub.status.idle": "2023-04-19T19:10:18.731440Z",
     "shell.execute_reply": "2023-04-19T19:10:18.731440Z",
     "shell.execute_reply.started": "2023-04-19T19:10:17.127981Z"
    },
    "tags": []
   },
   "outputs": [],
   "source": [
    "# Save the features\n",
    "\n",
    "writer.write_npz(\n",
    "\tdata     = features_frequency,\n",
    "\tfilename = os.path.join(OUT_DATA, 'features-frequency')\n",
    ")\n",
    "\n",
    "writer.write_npz(\n",
    "\tdata     = features_stability,\n",
    "\tfilename = os.path.join(OUT_DATA, 'features-stability')\n",
    ")"
   ]
  },
  {
   "cell_type": "code",
   "execution_count": 28,
   "id": "90779130-2f8b-4689-af96-12b480b773ef",
   "metadata": {
    "execution": {
     "iopub.execute_input": "2023-04-19T19:10:18.733442Z",
     "iopub.status.busy": "2023-04-19T19:10:18.732441Z",
     "iopub.status.idle": "2023-04-19T19:10:19.627255Z",
     "shell.execute_reply": "2023-04-19T19:10:19.627255Z",
     "shell.execute_reply.started": "2023-04-19T19:10:18.733442Z"
    },
    "tags": []
   },
   "outputs": [],
   "source": [
    "# Save merged features\n",
    "\n",
    "features_base = dict()\n",
    "\n",
    "for key in features_frequency.keys() :\n",
    "\tfreq = features_frequency[key]\n",
    "\tstab = features_stability[key]\n",
    "\n",
    "\tfeatures_base[key] = numpy.concatenate((freq, stab), axis = 0)\n",
    "\n",
    "writer.write_npz(\n",
    "\tdata     = features_base,\n",
    "\tfilename = os.path.join(OUT_DATA, 'features-base')\n",
    ")"
   ]
  },
  {
   "cell_type": "markdown",
   "id": "5d47196e-c7fe-49ea-81e7-91ea86c618b4",
   "metadata": {},
   "source": [
    "## 3.5 Anndata"
   ]
  },
  {
   "cell_type": "code",
   "execution_count": 29,
   "id": "623bd4af-c325-4ab1-829f-da05d31fc6d2",
   "metadata": {
    "execution": {
     "iopub.execute_input": "2023-04-19T19:10:19.628255Z",
     "iopub.status.busy": "2023-04-19T19:10:19.628255Z",
     "iopub.status.idle": "2023-04-19T19:10:28.530355Z",
     "shell.execute_reply": "2023-04-19T19:10:28.529355Z",
     "shell.execute_reply.started": "2023-04-19T19:10:19.628255Z"
    },
    "tags": []
   },
   "outputs": [],
   "source": [
    "# Save the annotated data with multiple layers\n",
    "\n",
    "writer.write_h5ad(\n",
    "\tdata     = anndata[:, list(features.keys())].copy(),\n",
    "\tfilename = os.path.join(OUT_DATA, 'arabidopsis-r36.h5ad')\n",
    ")"
   ]
  }
 ],
 "metadata": {
  "kernelspec": {
   "display_name": "Python 3 (ipykernel)",
   "language": "python",
   "name": "python3"
  },
  "language_info": {
   "codemirror_mode": {
    "name": "ipython",
    "version": 3
   },
   "file_extension": ".py",
   "mimetype": "text/x-python",
   "name": "python",
   "nbconvert_exporter": "python",
   "pygments_lexer": "ipython3",
   "version": "3.10.7"
  }
 },
 "nbformat": 4,
 "nbformat_minor": 5
}
