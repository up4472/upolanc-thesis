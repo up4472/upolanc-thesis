{
 "cells": [
  {
   "cell_type": "code",
   "execution_count": 1,
   "id": "f9a99b59-5e38-44ca-a55b-0ffed993e6d3",
   "metadata": {
    "execution": {
     "iopub.execute_input": "2023-07-19T17:30:33.331463Z",
     "iopub.status.busy": "2023-07-19T17:30:33.331463Z",
     "iopub.status.idle": "2023-07-19T17:30:33.442302Z",
     "shell.execute_reply": "2023-07-19T17:30:33.442302Z",
     "shell.execute_reply.started": "2023-07-19T17:30:33.331463Z"
    },
    "tags": []
   },
   "outputs": [],
   "source": [
    "# Libraries\n",
    "\n",
    "import numpy\n",
    "import os\n",
    "import platform\n",
    "import random\n",
    "import shutil\n",
    "import sys"
   ]
  },
  {
   "cell_type": "code",
   "execution_count": 2,
   "id": "3f6f9928-f8dd-4c12-b5b4-176c3321ba48",
   "metadata": {
    "execution": {
     "iopub.execute_input": "2023-07-19T17:30:33.444304Z",
     "iopub.status.busy": "2023-07-19T17:30:33.443303Z",
     "iopub.status.idle": "2023-07-19T17:30:33.458317Z",
     "shell.execute_reply": "2023-07-19T17:30:33.458317Z",
     "shell.execute_reply.started": "2023-07-19T17:30:33.444304Z"
    },
    "tags": []
   },
   "outputs": [],
   "source": [
    "# Ensure source path\n",
    "\n",
    "ROOT = os.getcwd()\n",
    "\n",
    "while not ROOT.endswith('upolanc-thesis') :\n",
    "\tROOT = os.path.abspath(os.path.join(ROOT, os.pardir))\n",
    "\n",
    "\tif len(ROOT) < len('upolanc-thesis') :\n",
    "\t\tif   platform.system() == 'Linux'   : ROOT = '/d/hpc/projects/FRI/up4472/upolanc-thesis'\n",
    "\t\telif platform.system() == 'Windows' : ROOT = 'C:\\\\Developer\\\\Workspace\\\\PyCharm\\\\Projects\\\\upolanc-thesis'\n",
    "\t\telse : raise ValueError()\n",
    "\n",
    "\t\tprint(f'Warning : could not find correct directory, using default : {ROOT}')\n",
    "\t\tprint()\n",
    "\n",
    "\t\tbreak\n",
    "\n",
    "if ROOT not in sys.path :\n",
    "\tsys.path.append(ROOT)\n",
    "\n",
    "os.chdir(ROOT)"
   ]
  },
  {
   "cell_type": "code",
   "execution_count": 3,
   "id": "af2d1a13-8af4-4612-8428-0c6d6d0444fd",
   "metadata": {
    "execution": {
     "iopub.execute_input": "2023-07-19T17:30:33.459319Z",
     "iopub.status.busy": "2023-07-19T17:30:33.459319Z",
     "iopub.status.idle": "2023-07-19T17:30:36.701116Z",
     "shell.execute_reply": "2023-07-19T17:30:36.701116Z",
     "shell.execute_reply.started": "2023-07-19T17:30:33.459319Z"
    },
    "tags": []
   },
   "outputs": [],
   "source": [
    "# Code\n",
    "\n",
    "from source.python.data.mutation import mutation_sequence\n",
    "from source.python.data.feature  import feature_extractor\n",
    "from source.python.io            import loader\n",
    "from source.python.io            import writer\n",
    "from source.python               import runtime\n",
    "\n",
    "runtime.set_numpy_format()\n",
    "runtime.set_pandas_format()\n",
    "runtime.set_plot_theme()"
   ]
  },
  {
   "cell_type": "markdown",
   "id": "46ebed75-3c90-4dc3-acb5-b9dffb12d5da",
   "metadata": {},
   "source": [
    "# 1. Setup"
   ]
  },
  {
   "cell_type": "code",
   "execution_count": 4,
   "id": "41d3dd6d-ed46-4a86-afe8-15f1f1be4895",
   "metadata": {
    "execution": {
     "iopub.execute_input": "2023-07-19T17:30:36.702117Z",
     "iopub.status.busy": "2023-07-19T17:30:36.702117Z",
     "iopub.status.idle": "2023-07-19T17:30:36.717130Z",
     "shell.execute_reply": "2023-07-19T17:30:36.717130Z",
     "shell.execute_reply.started": "2023-07-19T17:30:36.702117Z"
    },
    "tags": []
   },
   "outputs": [
    {
     "name": "stdout",
     "output_type": "stream",
     "text": [
      "     Root Directory : C:\\Developer\\Workspace\\PyCharm\\Projects\\upolanc-thesis\n",
      "   Output Directory : C:\\Developer\\Workspace\\PyCharm\\Projects\\upolanc-thesis\\output\\nbp04-feature\\filter6\n",
      " Resource Directory : C:\\Developer\\Workspace\\PyCharm\\Projects\\upolanc-thesis\\resources\\genome\n",
      " Resource Directory : C:\\Developer\\Workspace\\PyCharm\\Projects\\upolanc-thesis\\output\\nbp01-filter\\filter6\n",
      "\n"
     ]
    }
   ],
   "source": [
    "# Setup some directory paths\n",
    "\n",
    "FILTER_ID = 6\n",
    "SUBFOLDER = 'filter' + str(FILTER_ID)\n",
    "\n",
    "CWD = ROOT\n",
    "OUT = os.path.join(CWD, 'output')\n",
    "RES = os.path.join(CWD, 'resources')\n",
    "\n",
    "OUT_DATA   = os.path.join(OUT, 'nbp04-feature', SUBFOLDER)\n",
    "RES_GENOME = os.path.join(RES, 'genome')\n",
    "RES_NBP01  = os.path.join(OUT, 'nbp01-filter',  SUBFOLDER)\n",
    "RES_NBP02  = os.path.join(OUT, 'nbp02-anndata', SUBFOLDER)\n",
    "\n",
    "shutil.rmtree(OUT_DATA, ignore_errors = True)\n",
    "\n",
    "os.makedirs(OUT_DATA, exist_ok = True)\n",
    "\n",
    "print(f'     Root Directory : {CWD}')\n",
    "print(f'   Output Directory : {OUT_DATA}')\n",
    "print(f' Resource Directory : {RES_GENOME}')\n",
    "print(f' Resource Directory : {RES_NBP01}')\n",
    "print()"
   ]
  },
  {
   "cell_type": "code",
   "execution_count": 5,
   "id": "fd6c27b1-4c0a-497f-b961-a73b659797e7",
   "metadata": {
    "execution": {
     "iopub.execute_input": "2023-07-19T17:30:36.718131Z",
     "iopub.status.busy": "2023-07-19T17:30:36.718131Z",
     "iopub.status.idle": "2023-07-19T17:30:40.631166Z",
     "shell.execute_reply": "2023-07-19T17:30:40.631166Z",
     "shell.execute_reply.started": "2023-07-19T17:30:36.718131Z"
    },
    "tags": []
   },
   "outputs": [],
   "source": [
    "# Load the annotated and cleaned data\n",
    "\n",
    "gene_assembly = loader.load_faidx(\n",
    "\tfilename  = os.path.join(RES_GENOME, 'arabidopsis-r36', 'gene-assembly.fa')\n",
    ")\n",
    "\n",
    "gene_annotation = loader.load_csv(\n",
    "\tfilename   = os.path.join(RES_NBP01, 'gene-annotation.csv'),\n",
    "\tlow_memory = False\n",
    ")\n",
    "\n",
    "anndata = loader.load_h5ad(\n",
    "\tfilename = os.path.join(RES_NBP02, 'arabidopsis-r36.h5ad')\n",
    ")\n",
    "\n",
    "filter_dict = loader.load_json(\n",
    "\tfilename = os.path.join(RES_NBP01, 'filter.json')\n",
    ")"
   ]
  },
  {
   "cell_type": "code",
   "execution_count": 6,
   "id": "2c4dbb6a-a18b-4eb5-b6fd-ffe8f7722fe1",
   "metadata": {
    "execution": {
     "iopub.execute_input": "2023-07-19T17:30:40.632167Z",
     "iopub.status.busy": "2023-07-19T17:30:40.632167Z",
     "iopub.status.idle": "2023-07-19T17:30:40.647180Z",
     "shell.execute_reply": "2023-07-19T17:30:40.647180Z",
     "shell.execute_reply.started": "2023-07-19T17:30:40.632167Z"
    },
    "tags": []
   },
   "outputs": [],
   "source": [
    "# Filtered transcripts\n",
    "\n",
    "keep_transcript = filter_dict['data']['keep_transcript']\n",
    "drop_transcript = filter_dict['data']['drop_transcript']"
   ]
  },
  {
   "cell_type": "code",
   "execution_count": 7,
   "id": "646e4086-0192-439f-b154-c819f87dd4ba",
   "metadata": {
    "execution": {
     "iopub.execute_input": "2023-07-19T17:30:40.650183Z",
     "iopub.status.busy": "2023-07-19T17:30:40.649182Z",
     "iopub.status.idle": "2023-07-19T17:30:40.664196Z",
     "shell.execute_reply": "2023-07-19T17:30:40.663194Z",
     "shell.execute_reply.started": "2023-07-19T17:30:40.650183Z"
    },
    "tags": []
   },
   "outputs": [],
   "source": [
    "# Define the region lengths\n",
    "\n",
    "lengths = {\n",
    "\t'prom_utr5' : [int( 5000), int(  0)],\n",
    "\t'prom_full' : [int( 5000), int(  0)],\n",
    "\t'prom'      :  int( 1000),\n",
    "\t'utr5'      :  int(  300),\n",
    "\t'cds'       :  int(10000),\n",
    "\t'utr3'      :  int(  350),\n",
    "\t'term'      :  int(  500),\n",
    "\t'term_full' : [int(    0), int(500)]\n",
    "}\n",
    "\n",
    "padding = {\n",
    "\t'prom_utr5' : 'left',\n",
    "\t'prom_full' : 'left',\n",
    "\t'prom'      : 'left',\n",
    "\t'utr5'      : 'left',\n",
    "\t'cds'       : 'none',\n",
    "\t'utr3'      : 'left',\n",
    "\t'term'      : 'right',\n",
    "\t'term_full' : 'right'\n",
    "}"
   ]
  },
  {
   "cell_type": "markdown",
   "id": "115d104b-4935-46c3-9868-a7660f8b688c",
   "metadata": {
    "tags": []
   },
   "source": [
    "# 2. Transcript Regions"
   ]
  },
  {
   "cell_type": "code",
   "execution_count": 8,
   "id": "8b4b8b12-4f5e-4500-aa48-3a1373fc7a92",
   "metadata": {
    "execution": {
     "iopub.execute_input": "2023-07-19T17:30:40.665196Z",
     "iopub.status.busy": "2023-07-19T17:30:40.664196Z",
     "iopub.status.idle": "2023-07-19T17:30:44.821491Z",
     "shell.execute_reply": "2023-07-19T17:30:44.821491Z",
     "shell.execute_reply.started": "2023-07-19T17:30:40.664196Z"
    },
    "tags": []
   },
   "outputs": [
    {
     "name": "stdout",
     "output_type": "stream",
     "text": [
      "Passed 1st assertion : True\n",
      "Passed 2nd assertion : True\n",
      "\n",
      "Gene       : 22373 / 27420\n",
      "Transcript : 22373 / 27420\n",
      "\n"
     ]
    }
   ],
   "source": [
    "# Group annotations into regions\n",
    "\n",
    "regions = feature_extractor.annotation_to_regions(\n",
    "\tannotation = gene_annotation,\n",
    "\tlengths    = lengths\n",
    ")\n",
    "\n",
    "print()\n",
    "print('Gene       : {:5d} / {:5d}'.format(regions['Gene'].nunique(), gene_annotation['Gene'].nunique()))\n",
    "print('Transcript : {:5d} / {:5d}'.format(regions['Transcript'].nunique(), gene_annotation['Transcript'].nunique()))\n",
    "print()"
   ]
  },
  {
   "cell_type": "code",
   "execution_count": 9,
   "id": "3d609a17-935c-40bf-80dc-5da18f01a14d",
   "metadata": {
    "execution": {
     "iopub.execute_input": "2023-07-19T17:30:44.822495Z",
     "iopub.status.busy": "2023-07-19T17:30:44.822495Z",
     "iopub.status.idle": "2023-07-19T17:30:45.325459Z",
     "shell.execute_reply": "2023-07-19T17:30:45.325459Z",
     "shell.execute_reply.started": "2023-07-19T17:30:44.822495Z"
    },
    "tags": []
   },
   "outputs": [],
   "source": [
    "# Define transcription and coding regions sites\n",
    "\n",
    "regions['UTR_Min'] = regions[['Start', 'End']].min(axis = 1)\n",
    "regions['UTR_Max'] = regions[['Start', 'End']].max(axis = 1)\n",
    "\n",
    "regions.drop(columns = ['Start', 'End'])\n",
    "\n",
    "regions['CDS_Min'] = regions['CDS'].apply(lambda x : numpy.min(x) - 1)\n",
    "regions['CDS_Max'] = regions['CDS'].apply(lambda x : numpy.max(x) - 1)"
   ]
  },
  {
   "cell_type": "code",
   "execution_count": 10,
   "id": "2575579c-6216-4a1b-8100-6da3a2962e61",
   "metadata": {
    "execution": {
     "iopub.execute_input": "2023-07-19T17:30:45.326461Z",
     "iopub.status.busy": "2023-07-19T17:30:45.326461Z",
     "iopub.status.idle": "2023-07-19T17:30:45.389180Z",
     "shell.execute_reply": "2023-07-19T17:30:45.389180Z",
     "shell.execute_reply.started": "2023-07-19T17:30:45.326461Z"
    },
    "tags": []
   },
   "outputs": [
    {
     "data": {
      "text/html": [
       "<div>\n",
       "<style scoped>\n",
       "    .dataframe tbody tr th:only-of-type {\n",
       "        vertical-align: middle;\n",
       "    }\n",
       "\n",
       "    .dataframe tbody tr th {\n",
       "        vertical-align: top;\n",
       "    }\n",
       "\n",
       "    .dataframe thead th {\n",
       "        text-align: right;\n",
       "    }\n",
       "</style>\n",
       "<table border=\"1\" class=\"dataframe\">\n",
       "  <thead>\n",
       "    <tr style=\"text-align: right;\">\n",
       "      <th></th>\n",
       "      <th>Seq</th>\n",
       "      <th>Strand</th>\n",
       "      <th>Gene</th>\n",
       "      <th>Transcript</th>\n",
       "      <th>UTR_Min</th>\n",
       "      <th>CDS_Min</th>\n",
       "      <th>CDS_Max</th>\n",
       "      <th>UTR_Max</th>\n",
       "      <th>UTR5_Length</th>\n",
       "      <th>CDS_Length</th>\n",
       "      <th>UTR3_Length</th>\n",
       "      <th>Prom_UTR5</th>\n",
       "    </tr>\n",
       "  </thead>\n",
       "  <tbody>\n",
       "    <tr>\n",
       "      <th>0</th>\n",
       "      <td>1</td>\n",
       "      <td>+</td>\n",
       "      <td>AT1G01010</td>\n",
       "      <td>AT1G01010.1</td>\n",
       "      <td>3631</td>\n",
       "      <td>3759</td>\n",
       "      <td>5629</td>\n",
       "      <td>5899</td>\n",
       "      <td>128</td>\n",
       "      <td>1284</td>\n",
       "      <td>268</td>\n",
       "      <td>[[1, 3758]]</td>\n",
       "    </tr>\n",
       "    <tr>\n",
       "      <th>1</th>\n",
       "      <td>1</td>\n",
       "      <td>-</td>\n",
       "      <td>AT1G01020</td>\n",
       "      <td>AT1G01020.2</td>\n",
       "      <td>6788</td>\n",
       "      <td>7314</td>\n",
       "      <td>8665</td>\n",
       "      <td>8737</td>\n",
       "      <td>70</td>\n",
       "      <td>569</td>\n",
       "      <td>438</td>\n",
       "      <td>[[8666, 13665]]</td>\n",
       "    </tr>\n",
       "    <tr>\n",
       "      <th>2</th>\n",
       "      <td>1</td>\n",
       "      <td>-</td>\n",
       "      <td>AT1G01030</td>\n",
       "      <td>AT1G01030.1</td>\n",
       "      <td>11649</td>\n",
       "      <td>11863</td>\n",
       "      <td>12939</td>\n",
       "      <td>13714</td>\n",
       "      <td>611</td>\n",
       "      <td>1076</td>\n",
       "      <td>214</td>\n",
       "      <td>[[12940, 17939]]</td>\n",
       "    </tr>\n",
       "    <tr>\n",
       "      <th>3</th>\n",
       "      <td>1</td>\n",
       "      <td>+</td>\n",
       "      <td>AT1G01040</td>\n",
       "      <td>AT1G01040.1</td>\n",
       "      <td>23121</td>\n",
       "      <td>23518</td>\n",
       "      <td>31078</td>\n",
       "      <td>31227</td>\n",
       "      <td>397</td>\n",
       "      <td>5710</td>\n",
       "      <td>147</td>\n",
       "      <td>[[18518, 23517]]</td>\n",
       "    </tr>\n",
       "    <tr>\n",
       "      <th>4</th>\n",
       "      <td>1</td>\n",
       "      <td>-</td>\n",
       "      <td>AT1G01050</td>\n",
       "      <td>AT1G01050.1</td>\n",
       "      <td>31170</td>\n",
       "      <td>31381</td>\n",
       "      <td>32669</td>\n",
       "      <td>33171</td>\n",
       "      <td>142</td>\n",
       "      <td>631</td>\n",
       "      <td>211</td>\n",
       "      <td>[[32670, 37669]]</td>\n",
       "    </tr>\n",
       "  </tbody>\n",
       "</table>\n",
       "</div>"
      ],
      "text/plain": [
       "   Seq Strand       Gene   Transcript  UTR_Min  CDS_Min  CDS_Max  UTR_Max  \\\n",
       "0    1      +  AT1G01010  AT1G01010.1     3631     3759     5629     5899   \n",
       "1    1      -  AT1G01020  AT1G01020.2     6788     7314     8665     8737   \n",
       "2    1      -  AT1G01030  AT1G01030.1    11649    11863    12939    13714   \n",
       "3    1      +  AT1G01040  AT1G01040.1    23121    23518    31078    31227   \n",
       "4    1      -  AT1G01050  AT1G01050.1    31170    31381    32669    33171   \n",
       "\n",
       "   UTR5_Length  CDS_Length  UTR3_Length         Prom_UTR5  \n",
       "0          128        1284          268       [[1, 3758]]  \n",
       "1           70         569          438   [[8666, 13665]]  \n",
       "2          611        1076          214  [[12940, 17939]]  \n",
       "3          397        5710          147  [[18518, 23517]]  \n",
       "4          142         631          211  [[32670, 37669]]  "
      ]
     },
     "execution_count": 10,
     "metadata": {},
     "output_type": "execute_result"
    }
   ],
   "source": [
    "# Compute regions for promoter + utr5\n",
    "\n",
    "regions['Prom_UTR5'] = None\n",
    "\n",
    "posx = lambda x : max(x - lengths['prom_utr5'][0] + 0, 1)\n",
    "posy = lambda x : max(x + lengths['prom_utr5'][1] - 1, 1)\n",
    "\n",
    "negx = lambda x : max(x - lengths['prom_utr5'][1] + 1, 1)\n",
    "negy = lambda x : max(x + lengths['prom_utr5'][0] + 0, 1)\n",
    "\n",
    "regions.loc[regions['Strand'] == '+', 'Prom_UTR5'] = regions[regions['Strand'] == '+']['CDS_Min'].apply(lambda x : [[posx(x), posy(x)]])\n",
    "regions.loc[regions['Strand'] == '-', 'Prom_UTR5'] = regions[regions['Strand'] == '-']['CDS_Max'].apply(lambda x : [[negx(x), negy(x)]])\n",
    "\n",
    "regions[['Seq', 'Strand', 'Gene', 'Transcript', 'UTR_Min', 'CDS_Min', 'CDS_Max', 'UTR_Max', 'UTR5_Length', 'CDS_Length', 'UTR3_Length', 'Prom_UTR5']].head()"
   ]
  },
  {
   "cell_type": "markdown",
   "id": "1633d701-8e6b-4a53-92d6-a882b627750d",
   "metadata": {},
   "source": [
    "# 3. Transcript Features"
   ]
  },
  {
   "cell_type": "code",
   "execution_count": 11,
   "id": "4b65bf86-8326-41d8-b1ed-c15187240bba",
   "metadata": {
    "execution": {
     "iopub.execute_input": "2023-07-19T17:30:45.390181Z",
     "iopub.status.busy": "2023-07-19T17:30:45.390181Z",
     "iopub.status.idle": "2023-07-19T17:33:43.762635Z",
     "shell.execute_reply": "2023-07-19T17:33:43.762635Z",
     "shell.execute_reply.started": "2023-07-19T17:30:45.390181Z"
    },
    "tags": []
   },
   "outputs": [],
   "source": [
    "# Convert the regions into sequences and features\n",
    "\n",
    "sequences, features = feature_extractor.regions_to_features(\n",
    "\tfaidx     = gene_assembly,\n",
    "\tdataframe = regions,\n",
    "\tlengths   = lengths,\n",
    "\tverbose   = False\n",
    ")"
   ]
  },
  {
   "cell_type": "code",
   "execution_count": 12,
   "id": "35f67d39-fc7b-417a-9cb9-3f30111eef99",
   "metadata": {
    "execution": {
     "iopub.execute_input": "2023-07-19T17:33:43.763636Z",
     "iopub.status.busy": "2023-07-19T17:33:43.763636Z",
     "iopub.status.idle": "2023-07-19T17:33:43.938796Z",
     "shell.execute_reply": "2023-07-19T17:33:43.938796Z",
     "shell.execute_reply.started": "2023-07-19T17:33:43.763636Z"
    },
    "tags": []
   },
   "outputs": [],
   "source": [
    "# Convert the dataframe into a dictionary for ease of use\n",
    "\n",
    "sequences = sequences.copy()\n",
    "sequences = sequences.set_index('Transcript', drop = False)\n",
    "sequences = sequences.rename_axis(None, axis = 'index')\n",
    "sequences = sequences.to_dict('index')"
   ]
  },
  {
   "cell_type": "code",
   "execution_count": 13,
   "id": "bd54bdf8-962c-4f70-89bd-804022fa130c",
   "metadata": {
    "execution": {
     "iopub.execute_input": "2023-07-19T17:33:43.939797Z",
     "iopub.status.busy": "2023-07-19T17:33:43.939797Z",
     "iopub.status.idle": "2023-07-19T17:33:44.018869Z",
     "shell.execute_reply": "2023-07-19T17:33:44.018869Z",
     "shell.execute_reply.started": "2023-07-19T17:33:43.939797Z"
    }
   },
   "outputs": [],
   "source": [
    "# Convert the dataframe into a dictionary for ease of use\n",
    "\n",
    "features = features.copy()\n",
    "features = features.set_index('Transcript', drop = False)\n",
    "features = features.rename_axis(None, axis = 'index')\n",
    "features = features.to_dict('index')"
   ]
  },
  {
   "cell_type": "code",
   "execution_count": 14,
   "id": "b2e5fb43-7cbe-4519-9602-21bca1e2a080",
   "metadata": {
    "execution": {
     "iopub.execute_input": "2023-07-19T17:33:44.019870Z",
     "iopub.status.busy": "2023-07-19T17:33:44.019870Z",
     "iopub.status.idle": "2023-07-19T17:33:51.584491Z",
     "shell.execute_reply": "2023-07-19T17:33:51.584491Z",
     "shell.execute_reply.started": "2023-07-19T17:33:44.019870Z"
    }
   },
   "outputs": [],
   "source": [
    "# Split to keep and drop\n",
    "\n",
    "keep_sequences = {k : v for k, v in sequences.items() if k in keep_transcript}\n",
    "keep_features  = {k : v for k, v in features.items()  if k in keep_transcript}\n",
    "\n",
    "drop_sequences = {k : v for k, v in sequences.items() if k in drop_transcript}\n",
    "drop_features  = {k : v for k, v in features.items()  if k in drop_transcript}"
   ]
  },
  {
   "cell_type": "markdown",
   "id": "c2fcf5e1-bcc2-4e45-a64d-ba6f6aa63f84",
   "metadata": {},
   "source": [
    "## 3.1 Fasta"
   ]
  },
  {
   "cell_type": "code",
   "execution_count": 15,
   "id": "2df35250-a75c-4e11-a200-e6cb638bbc25",
   "metadata": {
    "execution": {
     "iopub.execute_input": "2023-07-19T17:33:51.585494Z",
     "iopub.status.busy": "2023-07-19T17:33:51.585494Z",
     "iopub.status.idle": "2023-07-19T17:34:30.649441Z",
     "shell.execute_reply": "2023-07-19T17:34:30.649441Z",
     "shell.execute_reply.started": "2023-07-19T17:33:51.585494Z"
    },
    "tags": []
   },
   "outputs": [],
   "source": [
    "# Add a header field with more transcript information\n",
    "\n",
    "keep_sequences = feature_extractor.sequences_extend_kvpair(\n",
    "\tsequences = keep_sequences,\n",
    "\tregions   = regions,\n",
    "\theader    = '{} | {} | {}:{}-{} | {}'\n",
    ")\n",
    "\n",
    "drop_sequences = feature_extractor.sequences_extend_kvpair(\n",
    "\tsequences = drop_sequences,\n",
    "\tregions   = regions,\n",
    "\theader    = '{} | {} | {}:{}-{} | {}'\n",
    ")"
   ]
  },
  {
   "cell_type": "code",
   "execution_count": 16,
   "id": "2f313440-253f-4977-9d38-11b46acf541a",
   "metadata": {
    "execution": {
     "iopub.execute_input": "2023-07-19T17:34:30.650443Z",
     "iopub.status.busy": "2023-07-19T17:34:30.650443Z",
     "iopub.status.idle": "2023-07-19T17:34:30.665458Z",
     "shell.execute_reply": "2023-07-19T17:34:30.665458Z",
     "shell.execute_reply.started": "2023-07-19T17:34:30.650443Z"
    },
    "tags": []
   },
   "outputs": [
    {
     "name": "stdout",
     "output_type": "stream",
     "text": [
      "AT1G01010.1 | + | 1:1-3758 | 3758\n",
      "CCCTAAACCC TAAACCCTAA ACCCTAAACC TCTGAATCCT TAATCCCTAA ATCCCTAAAT CTTTAAATCC TACATCCATG AATCCCTAAA TACCTAATTC \n",
      "CCTAAACCCG AAACCGGTTT CTCTGGTTGA AAATCATTGT GTATATAATG ATAATTTTAT CGTTTTTATG TAATTGCTTA TTGTTGTGTG TAGATTTTTT \n",
      "AAAAATATCA TTTGAGGTCA ATACAAATCC TATTTCTTGT GGTTTTCTTT CCTTCACTTA GCTATGGATG GTTTATCTTC ATTTGTTATA TTGGATACAA \n",
      "GCTTTGCTAC GATCTACATT TGGGAATGTG AGTCTCTTAT TGTAACCTTA GGGTTGGTTT ATCTCAAGAA TCTTATTAAT TGTTTGGACT GTTTATGTTT \n",
      "GGACATTTAT TGTCATTCTT ACTCCTTTGT GGAAATGTTT GTTCTATCAA TTTATCTTTT GTGGGAAAAT TATTTAGTTG TAGGGATGAA GTCTTTCTTC \n",
      "GTTGTTGTTA CGCTTGTCAT CTCATCTCTC AATGATATGG GATGGTCCTT TAGCATTTAT TCTGAAGTTC TTCTGCTTGA TGATTTTATC CTTAGCCAAA \n",
      "AGGATTGGTG GTTTGAAGAC ACATCATATC AAAAAAGCTA TCGCCTCGAC GATGCTCTAT TTCTATCCTT GTAGCACACA TTTTGGCACT CAAAAAAGTA \n",
      "TTTTTAGATG TTTGTTTTGC TTCTTTGAAG TAGTTTCTCT TTGCAAAATT CCTCTTTTTT TAGAGTGATT TGGATGATTC AAGACTTCTC GGTACTGCAA \n",
      "AGTTCTTCCG CCTGATTAAT TATCCATTTT ACCTTTGTCG TAGATATTAG GTAATCTGTA AGTCAACTCA TATACAACTC ATAATTTAAA ATAAAATTAT \n",
      "GATCGACACA CGTTTACACA TAAAATCTGT AAATCAACTC ATATACCCGT TATTCCCACA ATCATATGCT TTCTAAAAGC AAAAGTATAT GTCAACAATT \n",
      "GGTTATAAAT TATTAGAAGT TTTCCACTTA TGACTTAAGA ACTTGTGAAG CAGAAAGTGG CAACACCCCC CACCTCCCCC CCCCCCCCCC ACCCCCCAAA \n",
      "TTGAGAAGTC AATTTTATAT AATTTAATCA AATAAATAAG TTTATGGTTA AGAGTTTTTT ACTCTCTTTA TTTTTCTTTT TCTTTTTGAG ACATACTGAA \n",
      "AAAAGTTGTA ATTATTAATG ATAGTTCTGT GATTCCTCCA TGAATCACAT CTGCTTGATT TTTCTTTCAT AAATTTATAA GTAATACATT CTTATAAAAT \n",
      "GGTCAGAGAA ACACCAAAGA TCCCGAGATT TCTTCTCACT TACTTTTTTT CTATCTATCT AGATTATATA AATGAGATGT TGAATTAGAG GAACCTTTGA \n",
      "TTCAATGATC ATAGAAAAAT TAGGTAAAGA GTCAGTGTCG TTATGTTATG GAAGATGTGA ATGAAGTTTG ACTTCTCATT GTATATGAGT AAAATCTTTT \n",
      "CTTACAAGGG AAGTCCCCAA TTGGTCAACA TGTGAAAGCA CGTGTCATGT TCTTACTTTT GTTTGGGTAA TCTTCTAATT ACTGTATATG GAAGATGTGA \n",
      "ATGAAGTTTT GGTCCTGAAT GTGGCCAAGG TTCCGTCATT TGGAGATACG AAATCAAATC TCCTTTAAGA TTTTGTTTTT ATAATGTGTT CTTCCATCCA \n",
      "CATCTATCTC CATATGATAT GGACCATATC ATACATCATC ATTTGTCCAA ATGCATGAAT GAATTTGGAA ATAGGTACGA GAATGCCAAC AATGACAAGA \n",
      "AGGGATCAAA GACAGTTTTT AAAACAATAT TTTACAGGGT TTTAATCTAA TTCTAAGTTT TGGTCACTCA CTTTGTTAAA AGAATAATTC AGTGTCTGGA \n",
      "CACTAAAATC TTCCAAAAAC CCCATATACA TATATGCTAT TTCGATACTT ATATTTATTT ACTCAGCATA AAAAATATTA ACCATGTATT CATAGTAAAA \n",
      "TGTTTCATGT GATATCAAAC CAGCGACAAC AAAAGTATTA TTCCCCTCAT TATGTTTGAC TCCTATTATA TTTTTATTTT AATTTTTTTC ACTATCATCT \n",
      "TTCTTGCAAT GAAAGTCCCA TATATTGGTC AACATTTCAA ACCACTTGTT CTCTTTTATG TTTTGGTAAG AGCTATCTTC TAAATTTATA ATACGCATAA \n",
      "ATTCAAAAGT AAAAGAAAAT TTTGGTCATG AATGTTGTTT AAGTCATTTG GAGATACGAA ATCAAATCTC CTTGTAGATT TTGTTTTTAG AATGTCGTTC \n",
      "CTTTTTCATC ATCTTAGCTA TATCTACAGC TATATATCCT ATCTTTAAAC CTATATTATT TTTTCCTCTC TTCACCAAAG CCATGTTTTT TAGTTGTGGC \n",
      "GAAAAATAAG AAATCCATAC ATCAACATAT CGCTTTCGTT ACCTTAAATT TTGGCTTGTT ATGAAGGCAT GTCATAACGT TTCTAGTCAC AACTCACAAG \n",
      "CATACCAACG ACCATGATAA ATCCAAAAAG TAGAAACAAT CTATTATCTA AACCCCCAAA AGACAAAAGA AAAAAGTAGA AAGAAAAGGT AGGCAGAGAT \n",
      "ATAATGCTGG TTTTATTTGT TTGTTAAAAG ATATTGCTAT TTCTGCCAAT ATTAAAACTT CACTTAGGAA GACTTGAACC TACCACACGT TAGTGACTAA \n",
      "TGAGAGCCAC TAGATAATTG CATGCATCCC ACACTAGTAC TAATTTTCTA GGGATATTAG AGTTTTCTAA TCACCTACTT CCTACTATGT GTATGTTATC \n",
      "TACTGGCGTG GATGCTTTTA AAGATGTTAC GTTATTATTT TGTTCGGTTT GGAAAACGGC TCAATCGTTA TGAGTTCGTA AGACACATAC ATTGTTCCAT \n",
      "GATAAAATGC AACCCCACGA ACCATTTGCG ACAAGCAAAA CAACATGGTC AAAATTAAAA GCTAACAATT AGCCAGCGAT TCAAAAAGTC AACCTTCTAG \n",
      "ATGGATTTAA CAACATATCG ATAGGATTCA AGATTAAAAA TAAGCACACT CTTATTAATG TTAAAAAACG AATGAGATGA AAATATTTGG CGTGTTCACA \n",
      "CACATAATCT AGAAGACAGA TTCGAGTTGC TCTCCTTTGT TTTGCTTTGG GAGGGACCCA TTATTACCGC CCAGCAGCTT CCCAGCCTTC CTTTATAAGG \n",
      "CTTAATTTAT ATTTATTTAA ATTTTATATG TTCTTCTATT ATAATACTAA AAGGGGAATA CAAATTTCTA CAGAGGATGA TATTCAATCC ACGGTTCACC \n",
      "CAAACCGATT TTATAAAATT TATTATTAAA TCTTTTTTAA TTGTTAAATT GGTTTAAATC TGAACTCTGT TTACTTACAT TGATTAAAAT TCTAAACCAT \n",
      "CATAAGTAAA AAATAATATG ATTAAGACTA ATAAATCTTA ATAGTTAATA CTACTCGGTT TACTACATGA AATTTCATAC CATCAATTGT TTTAATAATC \n",
      "TTTAAAATTG TTAGGACCGG TAAAACCATA CCAATTAAAC CGGAGATCCA TATTAATTTA ATTAAGAAAA TAAAAATAAA AGGAATAAAT TGTCTTATTT \n",
      "AAACGCTGAC TTCACTGTCT TCCTCCCTCC AAATTATTAG ATATACCAAA CCAGAGAAAA CAAATACATA ATCGGAGAAA TACAGATTAC AGAGAGCGAG \n",
      "AGAGATCGAC GGCGAAGCTC TTTACCCGGA AACCATTGAA ATCGGACGGT TTAGTGAA \n",
      "\n",
      "AT1G01010.1 | + | 1:1-3630 | 3630\n",
      "CCCTAAACCC TAAACCCTAA ACCCTAAACC TCTGAATCCT TAATCCCTAA ATCCCTAAAT CTTTAAATCC TACATCCATG AATCCCTAAA TACCTAATTC \n",
      "CCTAAACCCG AAACCGGTTT CTCTGGTTGA AAATCATTGT GTATATAATG ATAATTTTAT CGTTTTTATG TAATTGCTTA TTGTTGTGTG TAGATTTTTT \n",
      "AAAAATATCA TTTGAGGTCA ATACAAATCC TATTTCTTGT GGTTTTCTTT CCTTCACTTA GCTATGGATG GTTTATCTTC ATTTGTTATA TTGGATACAA \n",
      "GCTTTGCTAC GATCTACATT TGGGAATGTG AGTCTCTTAT TGTAACCTTA GGGTTGGTTT ATCTCAAGAA TCTTATTAAT TGTTTGGACT GTTTATGTTT \n",
      "GGACATTTAT TGTCATTCTT ACTCCTTTGT GGAAATGTTT GTTCTATCAA TTTATCTTTT GTGGGAAAAT TATTTAGTTG TAGGGATGAA GTCTTTCTTC \n",
      "GTTGTTGTTA CGCTTGTCAT CTCATCTCTC AATGATATGG GATGGTCCTT TAGCATTTAT TCTGAAGTTC TTCTGCTTGA TGATTTTATC CTTAGCCAAA \n",
      "AGGATTGGTG GTTTGAAGAC ACATCATATC AAAAAAGCTA TCGCCTCGAC GATGCTCTAT TTCTATCCTT GTAGCACACA TTTTGGCACT CAAAAAAGTA \n",
      "TTTTTAGATG TTTGTTTTGC TTCTTTGAAG TAGTTTCTCT TTGCAAAATT CCTCTTTTTT TAGAGTGATT TGGATGATTC AAGACTTCTC GGTACTGCAA \n",
      "AGTTCTTCCG CCTGATTAAT TATCCATTTT ACCTTTGTCG TAGATATTAG GTAATCTGTA AGTCAACTCA TATACAACTC ATAATTTAAA ATAAAATTAT \n",
      "GATCGACACA CGTTTACACA TAAAATCTGT AAATCAACTC ATATACCCGT TATTCCCACA ATCATATGCT TTCTAAAAGC AAAAGTATAT GTCAACAATT \n",
      "GGTTATAAAT TATTAGAAGT TTTCCACTTA TGACTTAAGA ACTTGTGAAG CAGAAAGTGG CAACACCCCC CACCTCCCCC CCCCCCCCCC ACCCCCCAAA \n",
      "TTGAGAAGTC AATTTTATAT AATTTAATCA AATAAATAAG TTTATGGTTA AGAGTTTTTT ACTCTCTTTA TTTTTCTTTT TCTTTTTGAG ACATACTGAA \n",
      "AAAAGTTGTA ATTATTAATG ATAGTTCTGT GATTCCTCCA TGAATCACAT CTGCTTGATT TTTCTTTCAT AAATTTATAA GTAATACATT CTTATAAAAT \n",
      "GGTCAGAGAA ACACCAAAGA TCCCGAGATT TCTTCTCACT TACTTTTTTT CTATCTATCT AGATTATATA AATGAGATGT TGAATTAGAG GAACCTTTGA \n",
      "TTCAATGATC ATAGAAAAAT TAGGTAAAGA GTCAGTGTCG TTATGTTATG GAAGATGTGA ATGAAGTTTG ACTTCTCATT GTATATGAGT AAAATCTTTT \n",
      "CTTACAAGGG AAGTCCCCAA TTGGTCAACA TGTGAAAGCA CGTGTCATGT TCTTACTTTT GTTTGGGTAA TCTTCTAATT ACTGTATATG GAAGATGTGA \n",
      "ATGAAGTTTT GGTCCTGAAT GTGGCCAAGG TTCCGTCATT TGGAGATACG AAATCAAATC TCCTTTAAGA TTTTGTTTTT ATAATGTGTT CTTCCATCCA \n",
      "CATCTATCTC CATATGATAT GGACCATATC ATACATCATC ATTTGTCCAA ATGCATGAAT GAATTTGGAA ATAGGTACGA GAATGCCAAC AATGACAAGA \n",
      "AGGGATCAAA GACAGTTTTT AAAACAATAT TTTACAGGGT TTTAATCTAA TTCTAAGTTT TGGTCACTCA CTTTGTTAAA AGAATAATTC AGTGTCTGGA \n",
      "CACTAAAATC TTCCAAAAAC CCCATATACA TATATGCTAT TTCGATACTT ATATTTATTT ACTCAGCATA AAAAATATTA ACCATGTATT CATAGTAAAA \n",
      "TGTTTCATGT GATATCAAAC CAGCGACAAC AAAAGTATTA TTCCCCTCAT TATGTTTGAC TCCTATTATA TTTTTATTTT AATTTTTTTC ACTATCATCT \n",
      "TTCTTGCAAT GAAAGTCCCA TATATTGGTC AACATTTCAA ACCACTTGTT CTCTTTTATG TTTTGGTAAG AGCTATCTTC TAAATTTATA ATACGCATAA \n",
      "ATTCAAAAGT AAAAGAAAAT TTTGGTCATG AATGTTGTTT AAGTCATTTG GAGATACGAA ATCAAATCTC CTTGTAGATT TTGTTTTTAG AATGTCGTTC \n",
      "CTTTTTCATC ATCTTAGCTA TATCTACAGC TATATATCCT ATCTTTAAAC CTATATTATT TTTTCCTCTC TTCACCAAAG CCATGTTTTT TAGTTGTGGC \n",
      "GAAAAATAAG AAATCCATAC ATCAACATAT CGCTTTCGTT ACCTTAAATT TTGGCTTGTT ATGAAGGCAT GTCATAACGT TTCTAGTCAC AACTCACAAG \n",
      "CATACCAACG ACCATGATAA ATCCAAAAAG TAGAAACAAT CTATTATCTA AACCCCCAAA AGACAAAAGA AAAAAGTAGA AAGAAAAGGT AGGCAGAGAT \n",
      "ATAATGCTGG TTTTATTTGT TTGTTAAAAG ATATTGCTAT TTCTGCCAAT ATTAAAACTT CACTTAGGAA GACTTGAACC TACCACACGT TAGTGACTAA \n",
      "TGAGAGCCAC TAGATAATTG CATGCATCCC ACACTAGTAC TAATTTTCTA GGGATATTAG AGTTTTCTAA TCACCTACTT CCTACTATGT GTATGTTATC \n",
      "TACTGGCGTG GATGCTTTTA AAGATGTTAC GTTATTATTT TGTTCGGTTT GGAAAACGGC TCAATCGTTA TGAGTTCGTA AGACACATAC ATTGTTCCAT \n",
      "GATAAAATGC AACCCCACGA ACCATTTGCG ACAAGCAAAA CAACATGGTC AAAATTAAAA GCTAACAATT AGCCAGCGAT TCAAAAAGTC AACCTTCTAG \n",
      "ATGGATTTAA CAACATATCG ATAGGATTCA AGATTAAAAA TAAGCACACT CTTATTAATG TTAAAAAACG AATGAGATGA AAATATTTGG CGTGTTCACA \n",
      "CACATAATCT AGAAGACAGA TTCGAGTTGC TCTCCTTTGT TTTGCTTTGG GAGGGACCCA TTATTACCGC CCAGCAGCTT CCCAGCCTTC CTTTATAAGG \n",
      "CTTAATTTAT ATTTATTTAA ATTTTATATG TTCTTCTATT ATAATACTAA AAGGGGAATA CAAATTTCTA CAGAGGATGA TATTCAATCC ACGGTTCACC \n",
      "CAAACCGATT TTATAAAATT TATTATTAAA TCTTTTTTAA TTGTTAAATT GGTTTAAATC TGAACTCTGT TTACTTACAT TGATTAAAAT TCTAAACCAT \n",
      "CATAAGTAAA AAATAATATG ATTAAGACTA ATAAATCTTA ATAGTTAATA CTACTCGGTT TACTACATGA AATTTCATAC CATCAATTGT TTTAATAATC \n",
      "TTTAAAATTG TTAGGACCGG TAAAACCATA CCAATTAAAC CGGAGATCCA TATTAATTTA ATTAAGAAAA TAAAAATAAA AGGAATAAAT TGTCTTATTT \n",
      "AAACGCTGAC TTCACTGTCT TCCTCCCTCC \n",
      "\n",
      "AT1G01010.1 | + | 1:2631-3630 | 1000\n",
      "ATATTGCTAT TTCTGCCAAT ATTAAAACTT CACTTAGGAA GACTTGAACC TACCACACGT TAGTGACTAA TGAGAGCCAC TAGATAATTG CATGCATCCC \n",
      "ACACTAGTAC TAATTTTCTA GGGATATTAG AGTTTTCTAA TCACCTACTT CCTACTATGT GTATGTTATC TACTGGCGTG GATGCTTTTA AAGATGTTAC \n",
      "GTTATTATTT TGTTCGGTTT GGAAAACGGC TCAATCGTTA TGAGTTCGTA AGACACATAC ATTGTTCCAT GATAAAATGC AACCCCACGA ACCATTTGCG \n",
      "ACAAGCAAAA CAACATGGTC AAAATTAAAA GCTAACAATT AGCCAGCGAT TCAAAAAGTC AACCTTCTAG ATGGATTTAA CAACATATCG ATAGGATTCA \n",
      "AGATTAAAAA TAAGCACACT CTTATTAATG TTAAAAAACG AATGAGATGA AAATATTTGG CGTGTTCACA CACATAATCT AGAAGACAGA TTCGAGTTGC \n",
      "TCTCCTTTGT TTTGCTTTGG GAGGGACCCA TTATTACCGC CCAGCAGCTT CCCAGCCTTC CTTTATAAGG CTTAATTTAT ATTTATTTAA ATTTTATATG \n",
      "TTCTTCTATT ATAATACTAA AAGGGGAATA CAAATTTCTA CAGAGGATGA TATTCAATCC ACGGTTCACC CAAACCGATT TTATAAAATT TATTATTAAA \n",
      "TCTTTTTTAA TTGTTAAATT GGTTTAAATC TGAACTCTGT TTACTTACAT TGATTAAAAT TCTAAACCAT CATAAGTAAA AAATAATATG ATTAAGACTA \n",
      "ATAAATCTTA ATAGTTAATA CTACTCGGTT TACTACATGA AATTTCATAC CATCAATTGT TTTAATAATC TTTAAAATTG TTAGGACCGG TAAAACCATA \n",
      "CCAATTAAAC CGGAGATCCA TATTAATTTA ATTAAGAAAA TAAAAATAAA AGGAATAAAT TGTCTTATTT AAACGCTGAC TTCACTGTCT TCCTCCCTCC \n",
      "\n",
      "AT1G01010.1 | + | 1:3631-3759 | 129\n",
      "AAATTATTAG ATATACCAAA CCAGAGAAAA CAAATACATA ATCGGAGAAA TACAGATTAC AGAGAGCGAG AGAGATCGAC GGCGAAGCTC TTTACCCGGA \n",
      "AACCATTGAA ATCGGACGGT TTAGTGAAA \n",
      "\n",
      "AT1G01010.1 | + | 1:3760-5630 | 1290\n",
      "ATGGAGGATC AAGTTGGGTT TGGGTTCCGT CCGAACGACG AGGAGCTCGT TGGTCACTAT CTCCGTAACA AAATCGAAGG AAACACTAGC CGCGACGTTG \n",
      "AAGTAGCCAT CAGCGAGGTC AACATCTGTA GCTACGATCC TTGGAACTTG CGCTTCCAGT CAAAGTACAA ATCGAGAGAT GCTATGTGGT ACTTCTTCTC \n",
      "TCGTAGAGAA AACAACAAAG GGAATCGACA GAGCAGGACA ACGGTTTCTG GTAAATGGAA GCTTACCGGA GAATCTGTTG AGGTCAAGGA CCAGTGGGGA \n",
      "TTTTGTAGTG AGGGCTTTCG TGGTAAGATT GGTCATAAAA GGGTTTTGGT GTTCCTCGAT GGAAGATACC CTGACAAAAC CAAATCTGAT TGGGTTATCC \n",
      "ACGAGTTCCA CTACGACCTC TTACCAGAAC ATCAGAGGAC ATATGTCATC TGCAGACTTG AGTACAAGGG TGATGATGCG GACATTCTAT CTGCTTATGC \n",
      "AATAGATCCC ACTCCCGCTT TTGTCCCCAA TATGACTAGT AGTGCAGGTT CTGTGGTCAA CCAATCACGT CAACGAAATT CAGGATCTTA CAACACTTAC \n",
      "TCTGAGTATG ATTCAGCAAA TCATGGCCAG CAGTTTAATG AAAACTCTAA CATTATGCAG CAGCAACCAC TTCAAGGATC ATTCAACCCT CTCCTTGAGT \n",
      "ATGATTTTGC AAATCACGGC GGTCAGTGGC TGAGTGACTA TATCGACCTG CAACAGCAAG TTCCTTACTT GGCACCTTAT GAAAATGAGT CGGAGATGAT \n",
      "TTGGAAGCAT GTGATTGAAG AAAATTTTGA GTTTTTGGTA GATGAAAGGA CATCTATGCA ACAGCATTAC AGTGATCACC GGCCCAAAAA ACCTGTGTCT \n",
      "GGGGTTTTGC CTGATGATAG CAGTGATACT GAAACTGGAT CAATGATTTT CGAAGACACT TCGAGCTCCA CTGATAGTGT TGGTAGTTCA GATGAACCGG \n",
      "GCCATACTCG TATAGATGAT ATTCCATCAT TGAACATTAT TGAGCCTTTG CACAATTATA AGGCACAAGA GCAACCAAAG CAGCAGAGCA AAGAAAAGGT \n",
      "GATAAGTTCG CAGAAAAGCG AATGCGAGTG GAAAATGGCT GAAGACTCGA TCAAGATACC TCCATCCACC AACACGGTGA AGCAGAGCTG GATTGTTTTG \n",
      "GAGAATGCAC AGTGGAACTA TCTCAAGAAC ATGATCATTG GTGTCTTGTT GTTCATCTCC GTCATTAGTT GGATCATTCT TGTTGGTTAA \n",
      "\n",
      "AT1G01010.1 | + | 1:5631-5899 | 269\n",
      "GAGGTCAAAT CGGATTCTTG CTCAAAATTT GTATTTCTTA GAATGTGTGT TTTTTTTTGT TTTTTTTTCT TTGCTCTGTT TTCTCGCTCC GGAAAAGTTT \n",
      "GAAGTTATAT TTTATTAGTA TGTAAAGAAG AGAAAAAGGG GGAAAGAAGA GAGAAGAAAA ATGCAGAAAA TCATATATAT GAATTGGAAA AAAGTATATG \n",
      "TAATAATAAT TAGTGCATCG TTTTGTGGTG TAGTTTATAT AAATAAAGTG ATATATAGTC TTGTATAAG \n",
      "\n",
      "AT1G01010.1 | + | 1:5900-6399 | 500\n",
      "AAAGGGATTT TACATGAGAC CCAAATATGA GTAAAGGGTG TTGGCTCAAA GATTCATTTA GCAACCAAAG TTGCATTTGC AAGGAAATGA AAAGGTGTTA \n",
      "ACAATGTCAC TGCGTAACAT GACTTCGATA CAAAATCTCA AACAATACAT CTTCAACTGT GGATTATGAT GGACTTGGGG TTGCAGGTGA TATGTCTATA \n",
      "GAAAAACGGG TGGGAATGGA AAATGGCTGA AGAAGAAAGC TCCAACTAAG CATCATAACT GGATTGTTTT AGAGGAGATG AGTCAAAGGA ATTCACAGTG \n",
      "GAACTATCTC AAGAACATGA TCATTGGCTT CTTATTGTTC ATCTCCATCA TTGGCTGGAT CATTCTGGTT CAAGAGGTCA AATTATATAT ACATAACGGA \n",
      "TCTAAGAAGT ATAGTGTAGT CAATTAAAAC AAAACGAGAC TTGAAAATAA GCATAAGTAT TATTAAGTTA ACCCAATATT CGTTTCAATG CTTTAGTTAT \n",
      "\n",
      "AT1G01010.1 | + | 1:5900-6399 | 500\n",
      "AAAGGGATTT TACATGAGAC CCAAATATGA GTAAAGGGTG TTGGCTCAAA GATTCATTTA GCAACCAAAG TTGCATTTGC AAGGAAATGA AAAGGTGTTA \n",
      "ACAATGTCAC TGCGTAACAT GACTTCGATA CAAAATCTCA AACAATACAT CTTCAACTGT GGATTATGAT GGACTTGGGG TTGCAGGTGA TATGTCTATA \n",
      "GAAAAACGGG TGGGAATGGA AAATGGCTGA AGAAGAAAGC TCCAACTAAG CATCATAACT GGATTGTTTT AGAGGAGATG AGTCAAAGGA ATTCACAGTG \n",
      "GAACTATCTC AAGAACATGA TCATTGGCTT CTTATTGTTC ATCTCCATCA TTGGCTGGAT CATTCTGGTT CAAGAGGTCA AATTATATAT ACATAACGGA \n",
      "TCTAAGAAGT ATAGTGTAGT CAATTAAAAC AAAACGAGAC TTGAAAATAA GCATAAGTAT TATTAAGTTA ACCCAATATT CGTTTCAATG CTTTAGTTAT \n",
      "\n"
     ]
    }
   ],
   "source": [
    "# Example of a padded strand\n",
    "\n",
    "transcript = list(keep_sequences.keys())[0]\n",
    "\n",
    "feature_extractor.print_extracted_sequence(\n",
    "\ttranscript = transcript,\n",
    "\tsequences  = keep_sequences,\n",
    "\tspace      = True\n",
    ")"
   ]
  },
  {
   "cell_type": "code",
   "execution_count": 17,
   "id": "83d09452-4c1e-4484-bfba-c1100c1393f2",
   "metadata": {
    "execution": {
     "iopub.execute_input": "2023-07-19T17:34:30.667458Z",
     "iopub.status.busy": "2023-07-19T17:34:30.666457Z",
     "iopub.status.idle": "2023-07-19T17:34:30.681470Z",
     "shell.execute_reply": "2023-07-19T17:34:30.681470Z",
     "shell.execute_reply.started": "2023-07-19T17:34:30.667458Z"
    },
    "tags": []
   },
   "outputs": [
    {
     "name": "stdout",
     "output_type": "stream",
     "text": [
      "AT1G01020.2 | - | 1:8666-13665 | 5000\n",
      "CTCTCTAAGT CTTGAAACTC TATCAAGAAT CTCAAGCCAC CATTTTTTCT TCATCTTCAT AAAGAGAAAG AGAGAGATCC TCTTGTTTGG CAAGAACCCA \n",
      "ATTTGAGTTC TAAGTCCTGA TTTGCTTAGC TCTTTTCTTT CCTTGATTTC ATTCTATATA AAGTCAACGG AAAGATATAC ATATATAGTT TTCTTCCGAT \n",
      "TCTAGGGTTT TCATATTTCC TCTAAATTTT CATGGTCAAA GAAGAAAATC TAAGAAACAA TCGAACCAGC AAGAGAAAGA AGACTTCAAT ATCAACATCT \n",
      "CTCTCTCCCT CTCTCTCTCT TATATTATAA GGTGAGACCA CAAGAACTTT TGATTTTCTT TTTCCTTCTT CCCTTCTTTT AATATATTCT TTGAATTTTT \n",
      "TTTCACTAAT TCATCTACCC TTTTTTATAA TTGTGGCTAG ATTTTTGTTT CGTTTCCTCT TTTTAATATT ATCTCTCTAA TGTATGTTGA AGATCTCGAG \n",
      "TTGAGTCATC ATCATCGTCA ATGGCTTTGA AAAACATCCG CAACAATTCA CCAATTGAAG AACAAGAGAA AGGTTTAAAC TTCATCAAGA TTCACTAAGA \n",
      "CCCACTAAGA GCCAACTCAA AACTAAACGG AGCAAGGTTT TGCCAAAAAC CAAAAAAAAA AAAAAAAAGA TTCAAGAACC ATCTCGTAAA TCAAGATTTC \n",
      "TCCAAGGAAA ATCAGATAAG TCATAATGGA TCTATCCCTG GCTCCGACAA CAACAACAAG TTCCGACCAA GAACAAGACA GAGACCAAGA ATTAACCTCC \n",
      "AACATCGGAG CAAGCAGCAG CTCCGGTCCC AGCGGAAACA ACAACAACCT TCCGATGATG ATGATTCCAC CTCCGGAGAA AGAACACATG TTCGACAAAG \n",
      "TGGTAACACC AAGCGACGTC GGAAAACTCA ACAGACTCGT GATCCCTAAA CAACACGCTG AGAGGTATTT CCCTCTAGAC TCCTCAAACA ACCAAAACGG \n",
      "CACGCTTTTG AACTTCCAAG ACAGAAACGG CAAGATGTGG AGATTCCGTT ACTCGTATTG GAACTCTAGC CAGAGCTACG TTATGACCAA AGGATGGAGC \n",
      "CGTTTCGTCA AAGAGAAAAA GCTCGATGCA GGAGACATTG TCTCTTTCCA ACGAGGCATC GGAGATGAGT CAGAAAGATC CAAACTTTAC ATAGATTGGA \n",
      "GGCATAGACC CGACATGAGC CTCGTTCAAG CACATCAGTT TGGTAATTTT GGTTTCAATT TCAATTTCCC GACCACTTCT CAATATTCCA ACAGATTTCA \n",
      "TCCATTGCCA GAATATAACT CCGTCCCGAT TCACCGGGGC TTAAACATCG GAAATCACCA ACGTTCCTAT TATAACACCC AGCGTCAAGA GTTCGTAGGG \n",
      "TATGGTTATG GGAATTTAGC TGGAAGGTGT TACTACACGG GATCACCGTT GGATCATAGG AACATTGTTG GATCAGAGCC GTTGGTTATA GACTCAGTCC \n",
      "CTGTGGTTCC CGGGAGATTA ACTCCGGTGA TGTTACCGCC GCTTCCTCCG CCTCCTTCTA CGGCGGGAAA GAGACTAAGG CTCTTTGGGG TGAATATGGA \n",
      "ATGTGGCAAT GACTATAATC AACAAGAAGA GTCATGGTTG GTGCCACGTG GCGAAATTGG TGCATCTTCT TCTTCTTCTT CAGCTCTACG ACTAAATTTA \n",
      "TCGACTGATC ATGATGATGA TAATGATGAT GGTGATGATG GCGATGATGA TCAATTTGCT AAGAAAGGGA AGTCTTCACT TTCTCTCAAT TTCAATCCAT \n",
      "GAGAAGTTTC ATCATCTTCT TGTTTTGAAT CTCTCTTTAT ATTGTTTCAT TAGTAATTTT TCTAAGGGTA TTAGATTCTA GCTAGTGAGA GGAAGAAAAA \n",
      "ACGATCTTCT TCGTTTTTTT GGTTATGATT TTTTTTTCCG ACATGTTTCT TGATGTTCAT CATCATTAGG CTTTTGTCAC CATGTTGAAA CTCGCATCTT \n",
      "TTCAATTTTG TATATAAACT ATATATATAA TTTACATAAA ATAACAGGTT CACATGCCTC AAATGTTAGC TAATTATATC CATAATATTC GCTATAACTC \n",
      "GTTGGTTACT CATCATCTTC ATAAGTTATA TGTTAATCTT AATACTTGAC ACTAGGTGAA CCTCTGTGCC TACAGCATTT CATCAATAGA ACAGTTTTCA \n",
      "TCTTCTTCTT TTTTCAGTTT TGATATTTAT AACTTGAGAT TATAATTGAT GAGTGGGAAA AAAGCTTATA AATTTCATGA ATTGTACTCT CTGTGCCTAT \n",
      "CTCCCTACAC TGACAAAGTG TTTCATGGTA CATTCTAAGC TAATGGGCAG GTCCAAAAAA AGGCACTCTT TTCTCTCTCT CTGATGGTCC TATTTTGTTT \n",
      "GTTTGGTTAC TCTTGTAATT TTGCTCGGTT AAAGAGATTT TCTGCAGGTT ATGGGCAGAG AAAATAAAGA GAAGCTAGCT ATGGAAGAAG GACTGATCCA \n",
      "TCCATTTAGT AATTCAATTA TTATATTAAA AAGAACAAAA GGTATGATAT GTTTTCACAT TGTTTGACTT TTTTTATGAT CACAGGTTCA TTAATTTCTC \n",
      "ATTTTTTTAC TAATTCTAGA TTCTTGTTTT TGTTATTAAC CCTTGGTTAT TAACTTTGTT TGGTTTGGTT TGGATTGCAA GTTGAAGCCA TTTTTATCAA \n",
      "ATCAGGTATC TTGTGTAGAT CTCACAAACT CATGAGTACT TTTAGAATAT ATGTTAGAAC CTAAATCATT TGTCAATTAC TATATATATA CACATATACC \n",
      "TACCCTATAT ATACACAGTT TACACATGTA TATGTATAAA TTGATATATT ATTTTACGTG GACGTAAGGA ACTTTTAAAT GCTGTCTCTA CGGATCATAA \n",
      "TTTTCACCCT AAGCTGTTCA ATAGGTTATT GACGTGTTCA TTGGTTGATT ATACATGTTT ATAGTTTCCC ATACTAAAAT TGACTGGTAC TTGCAGCATA \n",
      "TTAAAAGTAT GATCCCACAC AACATGCTAA CTAGGAACTC TCAGATCATG CTTCACGAAC AAGGAATTTT TTTTTTTTTT GTTGTTGTTG TCATATCTAC \n",
      "TATATATATG TATGTCAGAT TGTCAGTATG TGCATATATA CATGAGGTTA CCGGTCCATG TACATAAACA CATTCAGGTA AATAACTAGA AAGGTTGGGA \n",
      "GAATTACTAT TCTGCATGTA GTCCATGAAT ATATGGTAAG ATTGCGTTAA TTAAGTGTTA AATTTTTAAT CTTTGGCATG AAAGATCAAA TCGACAAGTC \n",
      "ATTTAACAGA ATGTATTTCC CTCCCATTGC ATAGACATAC TTCAGTACAC CTTATATTAT CCATATCCTT TGTGATAGTT CATGTAACTA AGCACTCGAG \n",
      "ACTCAAATCT TCAGTAGATG CATGTGTTTG TTTTTCTTTA GCTGCTAATT CGGATCGGAT ATGACATAGC GGATTTTGTA TATCTTTAGA GAGTATGAGG \n",
      "GTCCGTATAA TTTGTGATCG AATGATCCTA AAATAAGATA AATATATGAA CCTACATCAT TATAAGTAGG GTTAAGTGTG TATGATTGTG TATGCGTATA \n",
      "AAAATACTCC CTTGACCGTA AACATGAAAC ATGTAATATA TAAGATATAT AGACATGGAG ACTATATCAT ATAAACATAC ATATATATAT ATATGTTAGT \n",
      "TATATGTGTA GCCCACATTT TTCGATATAG GGGAACAAAG TTACGAATAA TGTATATGTT AGTTATATGT ATAAAACATT TGCAAAGGGA TGATACAATG \n",
      "GAATATGTAA ATACGTATTC CAAATAGTCT ACAAGTAGCA ATGATATTGT GTAGATATGT CTCATAAAGG CTTGTGCTAT TATATTGTGT AGATGTGTCT \n",
      "CAAAAGGCTT GTGCATAGTT GTCAAAAGAA TATAAAATGC ATTTTAATAT TCAAAAGAAT GCATGCATAG ACTGATAGAA AAGAAGAAAT AATGAAAATT \n",
      "AAAAGGGGAG GTATTAGTGA AAAGTACGGA GGTATTAAAA TTATGAAAAT GACTAAAGGA AATAATATTG TAACACATCT AAATGATTAG TTGTGTAAGA \n",
      "AGAATAAAGA GAATTAATGA CATGCTCCAA TTATTGTTAA ATAAAATAAA ATAATTCATT CTCATTAGAT TCCTGACCTA AAAGAGACTG CAAATATGTA \n",
      "GGCCGGTTAG GGTTTTCATA GGCATGATTA ATGATGATAA GGAAACTTCG TATTGGGGGT TAATGGGTTC TTTCCCTTTC TAATACATTT CTAAATAAAG \n",
      "TAATAATCAA ATATTAAACT TTTAACTTAC CGTTTCATTT TTATGTTGAG TTTACTTATA TTGAAAGGAA ACTATTTTAT CTAAACCTCA TTGTCAAATC \n",
      "TTTCATTTTG TAGCCATATG CTAATTACAT GCAACAAAAG GAGTTTTTTT TGTTTGGTGT GGCAAACGAA GATTTATTTA CCTTTCTTAT TTAATCAAAC \n",
      "TAAATAAATT TCTTCACTGT TGAATTGTAA TAAATAATTT ATTTTCTTAT AAACTTATCC ATCACAACTC ACAAGTCATG AACTATATAT AGAAAGTAAC \n",
      "ACGACAGTAA TAATATTAGT GAACCACTAG ACTTTTCAGT AAGTGTGGTA AATTCTGAAG ACTAAATAAT TTAGACTTAA TATGTATATC TTTATCTGAG \n",
      "GCCTATAATA TGTTTCATTC ATGAACCTAC GCATTTTAAA ATGCTATGTC ATATGGACAA GATTTTGATC CAAATTGAAC TATTTATAAA TTACAACGTG \n",
      "TATATGATTT TTAAATTTTG GGGTACAAAT ACCCCGGCTT AGAGCAAAAG TGGGCCTAAC AAATTTAAAG TTAAGACTTC AAAAACTTGG CCCATGAATA \n",
      "AGCCCATTTA GGGTTAAAAC AGTAGCCCAG ACCCGGACTC TAATTGCTCC GTATTCTTCT TCTCTTGAGA GAGAGAGAGA GAGAGAGAGA GAGAGAGCAA \n",
      "\n",
      "AT1G01020.2 | - | 1:8736-13735 | 5000\n",
      "GAAGCTCACA TGACCCGAAC CATATCATTC ATGGGCCCCT ACGCATTACT CGGTACCAAT CTCGCTCTCT CTCTCTAAGT CTTGAAACTC TATCAAGAAT \n",
      "CTCAAGCCAC CATTTTTTCT TCATCTTCAT AAAGAGAAAG AGAGAGATCC TCTTGTTTGG CAAGAACCCA ATTTGAGTTC TAAGTCCTGA TTTGCTTAGC \n",
      "TCTTTTCTTT CCTTGATTTC ATTCTATATA AAGTCAACGG AAAGATATAC ATATATAGTT TTCTTCCGAT TCTAGGGTTT TCATATTTCC TCTAAATTTT \n",
      "CATGGTCAAA GAAGAAAATC TAAGAAACAA TCGAACCAGC AAGAGAAAGA AGACTTCAAT ATCAACATCT CTCTCTCCCT CTCTCTCTCT TATATTATAA \n",
      "GGTGAGACCA CAAGAACTTT TGATTTTCTT TTTCCTTCTT CCCTTCTTTT AATATATTCT TTGAATTTTT TTTCACTAAT TCATCTACCC TTTTTTATAA \n",
      "TTGTGGCTAG ATTTTTGTTT CGTTTCCTCT TTTTAATATT ATCTCTCTAA TGTATGTTGA AGATCTCGAG TTGAGTCATC ATCATCGTCA ATGGCTTTGA \n",
      "AAAACATCCG CAACAATTCA CCAATTGAAG AACAAGAGAA AGGTTTAAAC TTCATCAAGA TTCACTAAGA CCCACTAAGA GCCAACTCAA AACTAAACGG \n",
      "AGCAAGGTTT TGCCAAAAAC CAAAAAAAAA AAAAAAAAGA TTCAAGAACC ATCTCGTAAA TCAAGATTTC TCCAAGGAAA ATCAGATAAG TCATAATGGA \n",
      "TCTATCCCTG GCTCCGACAA CAACAACAAG TTCCGACCAA GAACAAGACA GAGACCAAGA ATTAACCTCC AACATCGGAG CAAGCAGCAG CTCCGGTCCC \n",
      "AGCGGAAACA ACAACAACCT TCCGATGATG ATGATTCCAC CTCCGGAGAA AGAACACATG TTCGACAAAG TGGTAACACC AAGCGACGTC GGAAAACTCA \n",
      "ACAGACTCGT GATCCCTAAA CAACACGCTG AGAGGTATTT CCCTCTAGAC TCCTCAAACA ACCAAAACGG CACGCTTTTG AACTTCCAAG ACAGAAACGG \n",
      "CAAGATGTGG AGATTCCGTT ACTCGTATTG GAACTCTAGC CAGAGCTACG TTATGACCAA AGGATGGAGC CGTTTCGTCA AAGAGAAAAA GCTCGATGCA \n",
      "GGAGACATTG TCTCTTTCCA ACGAGGCATC GGAGATGAGT CAGAAAGATC CAAACTTTAC ATAGATTGGA GGCATAGACC CGACATGAGC CTCGTTCAAG \n",
      "CACATCAGTT TGGTAATTTT GGTTTCAATT TCAATTTCCC GACCACTTCT CAATATTCCA ACAGATTTCA TCCATTGCCA GAATATAACT CCGTCCCGAT \n",
      "TCACCGGGGC TTAAACATCG GAAATCACCA ACGTTCCTAT TATAACACCC AGCGTCAAGA GTTCGTAGGG TATGGTTATG GGAATTTAGC TGGAAGGTGT \n",
      "TACTACACGG GATCACCGTT GGATCATAGG AACATTGTTG GATCAGAGCC GTTGGTTATA GACTCAGTCC CTGTGGTTCC CGGGAGATTA ACTCCGGTGA \n",
      "TGTTACCGCC GCTTCCTCCG CCTCCTTCTA CGGCGGGAAA GAGACTAAGG CTCTTTGGGG TGAATATGGA ATGTGGCAAT GACTATAATC AACAAGAAGA \n",
      "GTCATGGTTG GTGCCACGTG GCGAAATTGG TGCATCTTCT TCTTCTTCTT CAGCTCTACG ACTAAATTTA TCGACTGATC ATGATGATGA TAATGATGAT \n",
      "GGTGATGATG GCGATGATGA TCAATTTGCT AAGAAAGGGA AGTCTTCACT TTCTCTCAAT TTCAATCCAT GAGAAGTTTC ATCATCTTCT TGTTTTGAAT \n",
      "CTCTCTTTAT ATTGTTTCAT TAGTAATTTT TCTAAGGGTA TTAGATTCTA GCTAGTGAGA GGAAGAAAAA ACGATCTTCT TCGTTTTTTT GGTTATGATT \n",
      "TTTTTTTCCG ACATGTTTCT TGATGTTCAT CATCATTAGG CTTTTGTCAC CATGTTGAAA CTCGCATCTT TTCAATTTTG TATATAAACT ATATATATAA \n",
      "TTTACATAAA ATAACAGGTT CACATGCCTC AAATGTTAGC TAATTATATC CATAATATTC GCTATAACTC GTTGGTTACT CATCATCTTC ATAAGTTATA \n",
      "TGTTAATCTT AATACTTGAC ACTAGGTGAA CCTCTGTGCC TACAGCATTT CATCAATAGA ACAGTTTTCA TCTTCTTCTT TTTTCAGTTT TGATATTTAT \n",
      "AACTTGAGAT TATAATTGAT GAGTGGGAAA AAAGCTTATA AATTTCATGA ATTGTACTCT CTGTGCCTAT CTCCCTACAC TGACAAAGTG TTTCATGGTA \n",
      "CATTCTAAGC TAATGGGCAG GTCCAAAAAA AGGCACTCTT TTCTCTCTCT CTGATGGTCC TATTTTGTTT GTTTGGTTAC TCTTGTAATT TTGCTCGGTT \n",
      "AAAGAGATTT TCTGCAGGTT ATGGGCAGAG AAAATAAAGA GAAGCTAGCT ATGGAAGAAG GACTGATCCA TCCATTTAGT AATTCAATTA TTATATTAAA \n",
      "AAGAACAAAA GGTATGATAT GTTTTCACAT TGTTTGACTT TTTTTATGAT CACAGGTTCA TTAATTTCTC ATTTTTTTAC TAATTCTAGA TTCTTGTTTT \n",
      "TGTTATTAAC CCTTGGTTAT TAACTTTGTT TGGTTTGGTT TGGATTGCAA GTTGAAGCCA TTTTTATCAA ATCAGGTATC TTGTGTAGAT CTCACAAACT \n",
      "CATGAGTACT TTTAGAATAT ATGTTAGAAC CTAAATCATT TGTCAATTAC TATATATATA CACATATACC TACCCTATAT ATACACAGTT TACACATGTA \n",
      "TATGTATAAA TTGATATATT ATTTTACGTG GACGTAAGGA ACTTTTAAAT GCTGTCTCTA CGGATCATAA TTTTCACCCT AAGCTGTTCA ATAGGTTATT \n",
      "GACGTGTTCA TTGGTTGATT ATACATGTTT ATAGTTTCCC ATACTAAAAT TGACTGGTAC TTGCAGCATA TTAAAAGTAT GATCCCACAC AACATGCTAA \n",
      "CTAGGAACTC TCAGATCATG CTTCACGAAC AAGGAATTTT TTTTTTTTTT GTTGTTGTTG TCATATCTAC TATATATATG TATGTCAGAT TGTCAGTATG \n",
      "TGCATATATA CATGAGGTTA CCGGTCCATG TACATAAACA CATTCAGGTA AATAACTAGA AAGGTTGGGA GAATTACTAT TCTGCATGTA GTCCATGAAT \n",
      "ATATGGTAAG ATTGCGTTAA TTAAGTGTTA AATTTTTAAT CTTTGGCATG AAAGATCAAA TCGACAAGTC ATTTAACAGA ATGTATTTCC CTCCCATTGC \n",
      "ATAGACATAC TTCAGTACAC CTTATATTAT CCATATCCTT TGTGATAGTT CATGTAACTA AGCACTCGAG ACTCAAATCT TCAGTAGATG CATGTGTTTG \n",
      "TTTTTCTTTA GCTGCTAATT CGGATCGGAT ATGACATAGC GGATTTTGTA TATCTTTAGA GAGTATGAGG GTCCGTATAA TTTGTGATCG AATGATCCTA \n",
      "AAATAAGATA AATATATGAA CCTACATCAT TATAAGTAGG GTTAAGTGTG TATGATTGTG TATGCGTATA AAAATACTCC CTTGACCGTA AACATGAAAC \n",
      "ATGTAATATA TAAGATATAT AGACATGGAG ACTATATCAT ATAAACATAC ATATATATAT ATATGTTAGT TATATGTGTA GCCCACATTT TTCGATATAG \n",
      "GGGAACAAAG TTACGAATAA TGTATATGTT AGTTATATGT ATAAAACATT TGCAAAGGGA TGATACAATG GAATATGTAA ATACGTATTC CAAATAGTCT \n",
      "ACAAGTAGCA ATGATATTGT GTAGATATGT CTCATAAAGG CTTGTGCTAT TATATTGTGT AGATGTGTCT CAAAAGGCTT GTGCATAGTT GTCAAAAGAA \n",
      "TATAAAATGC ATTTTAATAT TCAAAAGAAT GCATGCATAG ACTGATAGAA AAGAAGAAAT AATGAAAATT AAAAGGGGAG GTATTAGTGA AAAGTACGGA \n",
      "GGTATTAAAA TTATGAAAAT GACTAAAGGA AATAATATTG TAACACATCT AAATGATTAG TTGTGTAAGA AGAATAAAGA GAATTAATGA CATGCTCCAA \n",
      "TTATTGTTAA ATAAAATAAA ATAATTCATT CTCATTAGAT TCCTGACCTA AAAGAGACTG CAAATATGTA GGCCGGTTAG GGTTTTCATA GGCATGATTA \n",
      "ATGATGATAA GGAAACTTCG TATTGGGGGT TAATGGGTTC TTTCCCTTTC TAATACATTT CTAAATAAAG TAATAATCAA ATATTAAACT TTTAACTTAC \n",
      "CGTTTCATTT TTATGTTGAG TTTACTTATA TTGAAAGGAA ACTATTTTAT CTAAACCTCA TTGTCAAATC TTTCATTTTG TAGCCATATG CTAATTACAT \n",
      "GCAACAAAAG GAGTTTTTTT TGTTTGGTGT GGCAAACGAA GATTTATTTA CCTTTCTTAT TTAATCAAAC TAAATAAATT TCTTCACTGT TGAATTGTAA \n",
      "TAAATAATTT ATTTTCTTAT AAACTTATCC ATCACAACTC ACAAGTCATG AACTATATAT AGAAAGTAAC ACGACAGTAA TAATATTAGT GAACCACTAG \n",
      "ACTTTTCAGT AAGTGTGGTA AATTCTGAAG ACTAAATAAT TTAGACTTAA TATGTATATC TTTATCTGAG GCCTATAATA TGTTTCATTC ATGAACCTAC \n",
      "GCATTTTAAA ATGCTATGTC ATATGGACAA GATTTTGATC CAAATTGAAC TATTTATAAA TTACAACGTG TATATGATTT TTAAATTTTG GGGTACAAAT \n",
      "ACCCCGGCTT AGAGCAAAAG TGGGCCTAAC AAATTTAAAG TTAAGACTTC AAAAACTTGG CCCATGAATA AGCCCATTTA GGGTTAAAAC AGTAGCCCAG \n",
      "\n",
      "AT1G01020.2 | - | 1:8736-9735 | 1000\n",
      "TATAAAATGC ATTTTAATAT TCAAAAGAAT GCATGCATAG ACTGATAGAA AAGAAGAAAT AATGAAAATT AAAAGGGGAG GTATTAGTGA AAAGTACGGA \n",
      "GGTATTAAAA TTATGAAAAT GACTAAAGGA AATAATATTG TAACACATCT AAATGATTAG TTGTGTAAGA AGAATAAAGA GAATTAATGA CATGCTCCAA \n",
      "TTATTGTTAA ATAAAATAAA ATAATTCATT CTCATTAGAT TCCTGACCTA AAAGAGACTG CAAATATGTA GGCCGGTTAG GGTTTTCATA GGCATGATTA \n",
      "ATGATGATAA GGAAACTTCG TATTGGGGGT TAATGGGTTC TTTCCCTTTC TAATACATTT CTAAATAAAG TAATAATCAA ATATTAAACT TTTAACTTAC \n",
      "CGTTTCATTT TTATGTTGAG TTTACTTATA TTGAAAGGAA ACTATTTTAT CTAAACCTCA TTGTCAAATC TTTCATTTTG TAGCCATATG CTAATTACAT \n",
      "GCAACAAAAG GAGTTTTTTT TGTTTGGTGT GGCAAACGAA GATTTATTTA CCTTTCTTAT TTAATCAAAC TAAATAAATT TCTTCACTGT TGAATTGTAA \n",
      "TAAATAATTT ATTTTCTTAT AAACTTATCC ATCACAACTC ACAAGTCATG AACTATATAT AGAAAGTAAC ACGACAGTAA TAATATTAGT GAACCACTAG \n",
      "ACTTTTCAGT AAGTGTGGTA AATTCTGAAG ACTAAATAAT TTAGACTTAA TATGTATATC TTTATCTGAG GCCTATAATA TGTTTCATTC ATGAACCTAC \n",
      "GCATTTTAAA ATGCTATGTC ATATGGACAA GATTTTGATC CAAATTGAAC TATTTATAAA TTACAACGTG TATATGATTT TTAAATTTTG GGGTACAAAT \n",
      "ACCCCGGCTT AGAGCAAAAG TGGGCCTAAC AAATTTAAAG TTAAGACTTC AAAAACTTGG CCCATGAATA AGCCCATTTA GGGTTAAAAC AGTAGCCCAG \n",
      "\n",
      "AT1G01020.2 | - | 1:8667-8737 | 71\n",
      "AGACCCGGAC TCTAATTGCT CCGTATTCTT CTTCTCTTGA GAGAGAGAGA GAGAGAGAGA GAGAGAGAGC A \n",
      "\n",
      "AT1G01020.2 | - | 1:7315-8666 | 576\n",
      "ATGGCGGCGA GTGAACACAG ATGCGTGGGA TGTGGTTTTA GGGTAAAGTC ATTGTTCATT CAATACTCTC CGGGTAACAT TCGTCTCATG AAATGCGGAA \n",
      "ATTGCAAGGA AGTAGCAGAT GAGTACATCG AGTGTGAACG CATGATTATT TTCATCGATT TAATCCTTCA CAGACCAAAG GTATATAGAC ACGTCCTCTA \n",
      "CAATGCAATT AATCCAGCAA CTGTCAATAT TCAGCATCTG TTGTGGAAGT TGGTCTTCGC CTATCTTCTT CTAGACTGTT ATAGAAGCTT GCTACTGAGA \n",
      "AAAAGTGATG AAGAATCGAG CTTTTCTGAT AGCCCTGTTC TTCTATCTAT AAAGGTTCTG ATTGGTGTCT TATCTGCAAA CGCTGCATTT ATCATCTCTT \n",
      "TTGCCATTGC GACTAAGGGT TTGCTAAATG AAGTTTCCAG AAGAAGAGAG ATTATGTTGG GGATATTCAT CTCTAGTTAC TTCAAGATAT TTCTGCTTGC \n",
      "GATGTTGGTA TGTTGTAGCT TTACCTCTCA CTTAATTCCT AATATTGAAG TTCCAAACTT CTTAAGCATT CCATAA \n",
      "\n",
      "AT1G01020.2 | - | 1:6788-7314 | 350\n",
      "ATTCCCAATG TCAGTGATTT TTTTTGTCGA TATACTTCTC TTAACATCAA ACTCCATGGC TCTTAAAGTG ATGACTGAAT CAACAATGAC CAGATGCATA \n",
      "GCCGTATGCT TAATCGCGCA CTTGATTAGA TTCTTGGTGG GTCAGATTTT TGAGCCGACA ATATTTTTGA TACAAATTGG ATCTCTGTTG CAATATATGT \n",
      "CTTATTTTTT CAGAATCGTA TGATCCCATC AGCTTCCAGT ATAGTCTTTT GGTTTGAAGA TAAGAGAAAC CTTTACATTA TTATACCATA CTGTATTTTA \n",
      "TGACTAAGCC AAATATTATC GCCACCAAAA ATTGAATTAG ACCTTACTAA \n",
      "\n",
      "AT1G01020.2 | - | 1:6290-6789 | 500\n",
      "AAAATATCAA AAGTTAATTG TTGGTCTGTT ACTCTGTGCG GGCGGATATA ACTCAACCAC CTACAATTAT TTGCCCTACA AAAACCTTGT TCCTCACGAT \n",
      "ATCGTCGCTC CATCTTTCTT GGAATGCTGG GCATATGTGG TGGTACCCTC CTTGGAATGG TGGGCATATG TGGAACCCTC CTATGAATGT TGGAGATATG \n",
      "TGGGACTCTC CTATGAATGT GGGGCATCAA CACATTGTTG CAACACCAAG TGAATGTCAT AGGAAAGACG AGGAGACGGT TGAAGCCGAA GTTGAGGCTC \n",
      "CCCTTGATTC TTATCCGGAG AATGCTACTA CCATGGCGAG AAAGCAACCA AAGGCAAGTT AAATATCTGA AAATGTTGAG AATTCTGATG ATAACTAAAG \n",
      "CATTGAAACG AATATTGGGT TAACTTAATA ATACTTATGC TTATTTTCAA GTCTCGTTTT GTTTTAATTG ACTACACTAT ACTTCTTAGA TCCGTTATGT \n",
      "\n",
      "AT1G01020.2 | - | 1:6290-6789 | 500\n",
      "AAAATATCAA AAGTTAATTG TTGGTCTGTT ACTCTGTGCG GGCGGATATA ACTCAACCAC CTACAATTAT TTGCCCTACA AAAACCTTGT TCCTCACGAT \n",
      "ATCGTCGCTC CATCTTTCTT GGAATGCTGG GCATATGTGG TGGTACCCTC CTTGGAATGG TGGGCATATG TGGAACCCTC CTATGAATGT TGGAGATATG \n",
      "TGGGACTCTC CTATGAATGT GGGGCATCAA CACATTGTTG CAACACCAAG TGAATGTCAT AGGAAAGACG AGGAGACGGT TGAAGCCGAA GTTGAGGCTC \n",
      "CCCTTGATTC TTATCCGGAG AATGCTACTA CCATGGCGAG AAAGCAACCA AAGGCAAGTT AAATATCTGA AAATGTTGAG AATTCTGATG ATAACTAAAG \n",
      "CATTGAAACG AATATTGGGT TAACTTAATA ATACTTATGC TTATTTTCAA GTCTCGTTTT GTTTTAATTG ACTACACTAT ACTTCTTAGA TCCGTTATGT \n",
      "\n"
     ]
    }
   ],
   "source": [
    "# Example of a padded strand\n",
    "\n",
    "transcript = list(drop_sequences.keys())[0]\n",
    "\n",
    "feature_extractor.print_extracted_sequence(\n",
    "\ttranscript = transcript,\n",
    "\tsequences  = drop_sequences,\n",
    "\tspace      = True\n",
    ")"
   ]
  },
  {
   "cell_type": "code",
   "execution_count": 18,
   "id": "b554fd5b-908b-4b92-b0b6-e0e4e82d4152",
   "metadata": {
    "execution": {
     "iopub.execute_input": "2023-07-19T17:34:30.683472Z",
     "iopub.status.busy": "2023-07-19T17:34:30.682471Z",
     "iopub.status.idle": "2023-07-19T17:34:33.322242Z",
     "shell.execute_reply": "2023-07-19T17:34:33.322242Z",
     "shell.execute_reply.started": "2023-07-19T17:34:30.683472Z"
    },
    "tags": []
   },
   "outputs": [],
   "source": [
    "# Save the transcript region sequences\n",
    "\n",
    "tuples = [\n",
    "\t('Prom_UTR5', 'promoter-utr5'),\n",
    "\t('Prom_Full', 'promoter-full'),\n",
    "\t('Prom',      'promoter'),\n",
    "\t('UTR5',      'utr5'),\n",
    "\t('CDS',       'cds'),\n",
    "\t('UTR3',      'utr3'),\n",
    "\t('Term',      'terminator'),\n",
    "\t('Term_Full', 'terminator-full')\n",
    "]\n",
    "\n",
    "for region, filename in tuples :\n",
    "\tdata = {\n",
    "\t\titem[region]['key'] : item[region]['seq']\n",
    "\t\tfor item in keep_sequences.values()\n",
    "\t}\n",
    "\n",
    "\tdata = feature_extractor.pad_multiple(\n",
    "\t\tsequences = data,\n",
    "\t\tlength    = lengths[region.lower()],\n",
    "\t\tside      = padding[region.lower()],\n",
    "\t\tpad_value = None\n",
    "\t)\n",
    "\n",
    "\twriter.write_fasta(\n",
    "\t\tdata     = data,\n",
    "\t\tfilename = os.path.join(OUT_DATA, f'sequences-{filename}-keep.fasta')\n",
    "\t)\n",
    "\n",
    "for region, filename in tuples :\n",
    "\tdata = {\n",
    "\t\titem[region]['key'] : item[region]['seq']\n",
    "\t\tfor item in drop_sequences.values()\n",
    "\t}\n",
    "\n",
    "\tdata = feature_extractor.pad_multiple(\n",
    "\t\tsequences = data,\n",
    "\t\tlength    = lengths[region.lower()],\n",
    "\t\tside      = padding[region.lower()],\n",
    "\t\tpad_value = None\n",
    "\t)\n",
    "\n",
    "\twriter.write_fasta(\n",
    "\t\tdata      = data,\n",
    "\t\tfilename = os.path.join(OUT_DATA, f'sequences-{filename}-drop.fasta')\n",
    "\t)"
   ]
  },
  {
   "cell_type": "markdown",
   "id": "5e4b0715-27b0-428b-be6b-9bea2be77368",
   "metadata": {},
   "source": [
    "## 3.2 Sequences"
   ]
  },
  {
   "cell_type": "code",
   "execution_count": 19,
   "id": "c9e2a11f-a5ed-4f91-bc6a-86fba8fb6b3f",
   "metadata": {
    "execution": {
     "iopub.execute_input": "2023-07-19T17:34:33.323243Z",
     "iopub.status.busy": "2023-07-19T17:34:33.323243Z",
     "iopub.status.idle": "2023-07-19T17:34:33.608221Z",
     "shell.execute_reply": "2023-07-19T17:34:33.608221Z",
     "shell.execute_reply.started": "2023-07-19T17:34:33.323243Z"
    },
    "tags": []
   },
   "outputs": [],
   "source": [
    "# Merge transcript regions and pad accordingly\n",
    "\n",
    "keep_2150, keep_6150 = feature_extractor.merge_and_pad_sequences(\n",
    "\tsequences = keep_sequences,\n",
    "\tlengths   = lengths,\n",
    "\tpadding   = padding\n",
    ")\n",
    "\n",
    "drop_2150, drop_6150 = feature_extractor.merge_and_pad_sequences(\n",
    "\tsequences = drop_sequences,\n",
    "\tlengths   = lengths,\n",
    "\tpadding   = padding\n",
    ")"
   ]
  },
  {
   "cell_type": "code",
   "execution_count": 20,
   "id": "0a0fb323-d623-4411-948e-80a0721afbba",
   "metadata": {
    "execution": {
     "iopub.execute_input": "2023-07-19T17:34:33.609222Z",
     "iopub.status.busy": "2023-07-19T17:34:33.609222Z",
     "iopub.status.idle": "2023-07-19T17:34:33.624235Z",
     "shell.execute_reply": "2023-07-19T17:34:33.624235Z",
     "shell.execute_reply.started": "2023-07-19T17:34:33.609222Z"
    },
    "tags": []
   },
   "outputs": [
    {
     "name": "stdout",
     "output_type": "stream",
     "text": [
      "AT1G01010.1 | + | 1:2631-6399 | 2150\n",
      "ATATTGCTAT TTCTGCCAAT ATTAAAACTT CACTTAGGAA GACTTGAACC TACCACACGT TAGTGACTAA TGAGAGCCAC TAGATAATTG CATGCATCCC \n",
      "ACACTAGTAC TAATTTTCTA GGGATATTAG AGTTTTCTAA TCACCTACTT CCTACTATGT GTATGTTATC TACTGGCGTG GATGCTTTTA AAGATGTTAC \n",
      "GTTATTATTT TGTTCGGTTT GGAAAACGGC TCAATCGTTA TGAGTTCGTA AGACACATAC ATTGTTCCAT GATAAAATGC AACCCCACGA ACCATTTGCG \n",
      "ACAAGCAAAA CAACATGGTC AAAATTAAAA GCTAACAATT AGCCAGCGAT TCAAAAAGTC AACCTTCTAG ATGGATTTAA CAACATATCG ATAGGATTCA \n",
      "AGATTAAAAA TAAGCACACT CTTATTAATG TTAAAAAACG AATGAGATGA AAATATTTGG CGTGTTCACA CACATAATCT AGAAGACAGA TTCGAGTTGC \n",
      "TCTCCTTTGT TTTGCTTTGG GAGGGACCCA TTATTACCGC CCAGCAGCTT CCCAGCCTTC CTTTATAAGG CTTAATTTAT ATTTATTTAA ATTTTATATG \n",
      "TTCTTCTATT ATAATACTAA AAGGGGAATA CAAATTTCTA CAGAGGATGA TATTCAATCC ACGGTTCACC CAAACCGATT TTATAAAATT TATTATTAAA \n",
      "TCTTTTTTAA TTGTTAAATT GGTTTAAATC TGAACTCTGT TTACTTACAT TGATTAAAAT TCTAAACCAT CATAAGTAAA AAATAATATG ATTAAGACTA \n",
      "ATAAATCTTA ATAGTTAATA CTACTCGGTT TACTACATGA AATTTCATAC CATCAATTGT TTTAATAATC TTTAAAATTG TTAGGACCGG TAAAACCATA \n",
      "CCAATTAAAC CGGAGATCCA TATTAATTTA ATTAAGAAAA TAAAAATAAA AGGAATAAAT TGTCTTATTT AAACGCTGAC TTCACTGTCT TCCTCCCTCC \n",
      "---------- ---------- ---------- ---------- ---------- ---------- ---------- ---------- ---------- ---------- \n",
      "---------- ---------- ---------- ---------- ---------- ---------- ---------- -AAATTATTA GATATACCAA ACCAGAGAAA \n",
      "ACAAATACAT AATCGGAGAA ATACAGATTA CAGAGAGCGA GAGAGATCGA CGGCGAAGCT CTTTACCCGG AAACCATTGA AATCGGACGG TTTAGTGAAA \n",
      "---------- ---------- ---------- ---------- ---------- ---------- ---------- ---------- -GAGGTCAAA TCGGATTCTT \n",
      "GCTCAAAATT TGTATTTCTT AGAATGTGTG TTTTTTTTTG TTTTTTTTTC TTTGCTCTGT TTTCTCGCTC CGGAAAAGTT TGAAGTTATA TTTTATTAGT \n",
      "ATGTAAAGAA GAGAAAAAGG GGGAAAGAAG AGAGAAGAAA AATGCAGAAA ATCATATATA TGAATTGGAA AAAAGTATAT GTAATAATAA TTAGTGCATC \n",
      "GTTTTGTGGT GTAGTTTATA TAAATAAAGT GATATATAGT CTTGTATAAG AAAGGGATTT TACATGAGAC CCAAATATGA GTAAAGGGTG TTGGCTCAAA \n",
      "GATTCATTTA GCAACCAAAG TTGCATTTGC AAGGAAATGA AAAGGTGTTA ACAATGTCAC TGCGTAACAT GACTTCGATA CAAAATCTCA AACAATACAT \n",
      "CTTCAACTGT GGATTATGAT GGACTTGGGG TTGCAGGTGA TATGTCTATA GAAAAACGGG TGGGAATGGA AAATGGCTGA AGAAGAAAGC TCCAACTAAG \n",
      "CATCATAACT GGATTGTTTT AGAGGAGATG AGTCAAAGGA ATTCACAGTG GAACTATCTC AAGAACATGA TCATTGGCTT CTTATTGTTC ATCTCCATCA \n",
      "TTGGCTGGAT CATTCTGGTT CAAGAGGTCA AATTATATAT ACATAACGGA TCTAAGAAGT ATAGTGTAGT CAATTAAAAC AAAACGAGAC TTGAAAATAA \n",
      "GCATAAGTAT TATTAAGTTA ACCCAATATT CGTTTCAATG CTTTAGTTAT \n",
      "\n"
     ]
    }
   ],
   "source": [
    "# Display an example of a merged transcript sequence\n",
    "\n",
    "transcript = list(keep_2150.keys())[0].split(' | ')[0]\n",
    "\n",
    "feature_extractor.print_padded_sequence(\n",
    "\ttranscript = transcript,\n",
    "\tsequences  = keep_2150,\n",
    "\tspace      = True\n",
    ")"
   ]
  },
  {
   "cell_type": "code",
   "execution_count": 21,
   "id": "af2bcb3e-e968-4b5a-885b-fdf4cc5875ac",
   "metadata": {
    "execution": {
     "iopub.execute_input": "2023-07-19T17:34:33.626237Z",
     "iopub.status.busy": "2023-07-19T17:34:33.625236Z",
     "iopub.status.idle": "2023-07-19T17:34:33.639249Z",
     "shell.execute_reply": "2023-07-19T17:34:33.639249Z",
     "shell.execute_reply.started": "2023-07-19T17:34:33.626237Z"
    },
    "tags": []
   },
   "outputs": [
    {
     "name": "stdout",
     "output_type": "stream",
     "text": [
      "AT1G01010.1 | + | 1:1-6399 | 6150\n",
      "---------- ---------- ---------- ---------- ---------- ---------- ---------- ---------- ---------- ---------- \n",
      "---------- ---------- ---------- ---------- ---------- ---------- ---------- ---------- ---------- ---------- \n",
      "---------- ---------- ---------- ---------- ---------- ---------- ---------- ---------- ---------- ---------- \n",
      "---------- ---------- ---------- ---------- ---------- ---------- ---------- ---------- ---------- ---------- \n",
      "---------- ---------- ---------- ---------- ---------- ---------- ---------- ---------- ---------- ---------- \n",
      "---------- ---------- ---------- ---------- ---------- ---------- ---------- ---------- ---------- ---------- \n",
      "---------- ---------- ---------- ---------- ---------- ---------- ---------- ---------- ---------- ---------- \n",
      "---------- ---------- ---------- ---------- ---------- ---------- ---------- ---------- ---------- ---------- \n",
      "---------- ---------- ---------- ---------- ---------- ---------- ---------- ---------- ---------- ---------- \n",
      "---------- ---------- ---------- ---------- ---------- ---------- ---------- ---------- ---------- ---------- \n",
      "---------- ---------- ---------- ---------- ---------- ---------- ---------- ---------- ---------- ---------- \n",
      "---------- ---------- ---------- ---------- ---------- ---------- ---------- ---------- ---------- ---------- \n",
      "---------- ---------- ---------- ---------- ---------- ---------- ---------- ---------- ---------- ---------- \n",
      "---------- ---------- ---------- ---------- ---------- ---------- ---------- CCCTAAACCC TAAACCCTAA ACCCTAAACC \n",
      "TCTGAATCCT TAATCCCTAA ATCCCTAAAT CTTTAAATCC TACATCCATG AATCCCTAAA TACCTAATTC CCTAAACCCG AAACCGGTTT CTCTGGTTGA \n",
      "AAATCATTGT GTATATAATG ATAATTTTAT CGTTTTTATG TAATTGCTTA TTGTTGTGTG TAGATTTTTT AAAAATATCA TTTGAGGTCA ATACAAATCC \n",
      "TATTTCTTGT GGTTTTCTTT CCTTCACTTA GCTATGGATG GTTTATCTTC ATTTGTTATA TTGGATACAA GCTTTGCTAC GATCTACATT TGGGAATGTG \n",
      "AGTCTCTTAT TGTAACCTTA GGGTTGGTTT ATCTCAAGAA TCTTATTAAT TGTTTGGACT GTTTATGTTT GGACATTTAT TGTCATTCTT ACTCCTTTGT \n",
      "GGAAATGTTT GTTCTATCAA TTTATCTTTT GTGGGAAAAT TATTTAGTTG TAGGGATGAA GTCTTTCTTC GTTGTTGTTA CGCTTGTCAT CTCATCTCTC \n",
      "AATGATATGG GATGGTCCTT TAGCATTTAT TCTGAAGTTC TTCTGCTTGA TGATTTTATC CTTAGCCAAA AGGATTGGTG GTTTGAAGAC ACATCATATC \n",
      "AAAAAAGCTA TCGCCTCGAC GATGCTCTAT TTCTATCCTT GTAGCACACA TTTTGGCACT CAAAAAAGTA TTTTTAGATG TTTGTTTTGC TTCTTTGAAG \n",
      "TAGTTTCTCT TTGCAAAATT CCTCTTTTTT TAGAGTGATT TGGATGATTC AAGACTTCTC GGTACTGCAA AGTTCTTCCG CCTGATTAAT TATCCATTTT \n",
      "ACCTTTGTCG TAGATATTAG GTAATCTGTA AGTCAACTCA TATACAACTC ATAATTTAAA ATAAAATTAT GATCGACACA CGTTTACACA TAAAATCTGT \n",
      "AAATCAACTC ATATACCCGT TATTCCCACA ATCATATGCT TTCTAAAAGC AAAAGTATAT GTCAACAATT GGTTATAAAT TATTAGAAGT TTTCCACTTA \n",
      "TGACTTAAGA ACTTGTGAAG CAGAAAGTGG CAACACCCCC CACCTCCCCC CCCCCCCCCC ACCCCCCAAA TTGAGAAGTC AATTTTATAT AATTTAATCA \n",
      "AATAAATAAG TTTATGGTTA AGAGTTTTTT ACTCTCTTTA TTTTTCTTTT TCTTTTTGAG ACATACTGAA AAAAGTTGTA ATTATTAATG ATAGTTCTGT \n",
      "GATTCCTCCA TGAATCACAT CTGCTTGATT TTTCTTTCAT AAATTTATAA GTAATACATT CTTATAAAAT GGTCAGAGAA ACACCAAAGA TCCCGAGATT \n",
      "TCTTCTCACT TACTTTTTTT CTATCTATCT AGATTATATA AATGAGATGT TGAATTAGAG GAACCTTTGA TTCAATGATC ATAGAAAAAT TAGGTAAAGA \n",
      "GTCAGTGTCG TTATGTTATG GAAGATGTGA ATGAAGTTTG ACTTCTCATT GTATATGAGT AAAATCTTTT CTTACAAGGG AAGTCCCCAA TTGGTCAACA \n",
      "TGTGAAAGCA CGTGTCATGT TCTTACTTTT GTTTGGGTAA TCTTCTAATT ACTGTATATG GAAGATGTGA ATGAAGTTTT GGTCCTGAAT GTGGCCAAGG \n",
      "TTCCGTCATT TGGAGATACG AAATCAAATC TCCTTTAAGA TTTTGTTTTT ATAATGTGTT CTTCCATCCA CATCTATCTC CATATGATAT GGACCATATC \n",
      "ATACATCATC ATTTGTCCAA ATGCATGAAT GAATTTGGAA ATAGGTACGA GAATGCCAAC AATGACAAGA AGGGATCAAA GACAGTTTTT AAAACAATAT \n",
      "TTTACAGGGT TTTAATCTAA TTCTAAGTTT TGGTCACTCA CTTTGTTAAA AGAATAATTC AGTGTCTGGA CACTAAAATC TTCCAAAAAC CCCATATACA \n",
      "TATATGCTAT TTCGATACTT ATATTTATTT ACTCAGCATA AAAAATATTA ACCATGTATT CATAGTAAAA TGTTTCATGT GATATCAAAC CAGCGACAAC \n",
      "AAAAGTATTA TTCCCCTCAT TATGTTTGAC TCCTATTATA TTTTTATTTT AATTTTTTTC ACTATCATCT TTCTTGCAAT GAAAGTCCCA TATATTGGTC \n",
      "AACATTTCAA ACCACTTGTT CTCTTTTATG TTTTGGTAAG AGCTATCTTC TAAATTTATA ATACGCATAA ATTCAAAAGT AAAAGAAAAT TTTGGTCATG \n",
      "AATGTTGTTT AAGTCATTTG GAGATACGAA ATCAAATCTC CTTGTAGATT TTGTTTTTAG AATGTCGTTC CTTTTTCATC ATCTTAGCTA TATCTACAGC \n",
      "TATATATCCT ATCTTTAAAC CTATATTATT TTTTCCTCTC TTCACCAAAG CCATGTTTTT TAGTTGTGGC GAAAAATAAG AAATCCATAC ATCAACATAT \n",
      "CGCTTTCGTT ACCTTAAATT TTGGCTTGTT ATGAAGGCAT GTCATAACGT TTCTAGTCAC AACTCACAAG CATACCAACG ACCATGATAA ATCCAAAAAG \n",
      "TAGAAACAAT CTATTATCTA AACCCCCAAA AGACAAAAGA AAAAAGTAGA AAGAAAAGGT AGGCAGAGAT ATAATGCTGG TTTTATTTGT TTGTTAAAAG \n",
      "ATATTGCTAT TTCTGCCAAT ATTAAAACTT CACTTAGGAA GACTTGAACC TACCACACGT TAGTGACTAA TGAGAGCCAC TAGATAATTG CATGCATCCC \n",
      "ACACTAGTAC TAATTTTCTA GGGATATTAG AGTTTTCTAA TCACCTACTT CCTACTATGT GTATGTTATC TACTGGCGTG GATGCTTTTA AAGATGTTAC \n",
      "GTTATTATTT TGTTCGGTTT GGAAAACGGC TCAATCGTTA TGAGTTCGTA AGACACATAC ATTGTTCCAT GATAAAATGC AACCCCACGA ACCATTTGCG \n",
      "ACAAGCAAAA CAACATGGTC AAAATTAAAA GCTAACAATT AGCCAGCGAT TCAAAAAGTC AACCTTCTAG ATGGATTTAA CAACATATCG ATAGGATTCA \n",
      "AGATTAAAAA TAAGCACACT CTTATTAATG TTAAAAAACG AATGAGATGA AAATATTTGG CGTGTTCACA CACATAATCT AGAAGACAGA TTCGAGTTGC \n",
      "TCTCCTTTGT TTTGCTTTGG GAGGGACCCA TTATTACCGC CCAGCAGCTT CCCAGCCTTC CTTTATAAGG CTTAATTTAT ATTTATTTAA ATTTTATATG \n",
      "TTCTTCTATT ATAATACTAA AAGGGGAATA CAAATTTCTA CAGAGGATGA TATTCAATCC ACGGTTCACC CAAACCGATT TTATAAAATT TATTATTAAA \n",
      "TCTTTTTTAA TTGTTAAATT GGTTTAAATC TGAACTCTGT TTACTTACAT TGATTAAAAT TCTAAACCAT CATAAGTAAA AAATAATATG ATTAAGACTA \n",
      "ATAAATCTTA ATAGTTAATA CTACTCGGTT TACTACATGA AATTTCATAC CATCAATTGT TTTAATAATC TTTAAAATTG TTAGGACCGG TAAAACCATA \n",
      "CCAATTAAAC CGGAGATCCA TATTAATTTA ATTAAGAAAA TAAAAATAAA AGGAATAAAT TGTCTTATTT AAACGCTGAC TTCACTGTCT TCCTCCCTCC \n",
      "---------- ---------- ---------- ---------- ---------- ---------- ---------- ---------- ---------- ---------- \n",
      "---------- ---------- ---------- ---------- ---------- ---------- ---------- -AAATTATTA GATATACCAA ACCAGAGAAA \n",
      "ACAAATACAT AATCGGAGAA ATACAGATTA CAGAGAGCGA GAGAGATCGA CGGCGAAGCT CTTTACCCGG AAACCATTGA AATCGGACGG TTTAGTGAAA \n",
      "---------- ---------- ---------- ---------- ---------- ---------- ---------- ---------- -GAGGTCAAA TCGGATTCTT \n",
      "GCTCAAAATT TGTATTTCTT AGAATGTGTG TTTTTTTTTG TTTTTTTTTC TTTGCTCTGT TTTCTCGCTC CGGAAAAGTT TGAAGTTATA TTTTATTAGT \n",
      "ATGTAAAGAA GAGAAAAAGG GGGAAAGAAG AGAGAAGAAA AATGCAGAAA ATCATATATA TGAATTGGAA AAAAGTATAT GTAATAATAA TTAGTGCATC \n",
      "GTTTTGTGGT GTAGTTTATA TAAATAAAGT GATATATAGT CTTGTATAAG AAAGGGATTT TACATGAGAC CCAAATATGA GTAAAGGGTG TTGGCTCAAA \n",
      "GATTCATTTA GCAACCAAAG TTGCATTTGC AAGGAAATGA AAAGGTGTTA ACAATGTCAC TGCGTAACAT GACTTCGATA CAAAATCTCA AACAATACAT \n",
      "CTTCAACTGT GGATTATGAT GGACTTGGGG TTGCAGGTGA TATGTCTATA GAAAAACGGG TGGGAATGGA AAATGGCTGA AGAAGAAAGC TCCAACTAAG \n",
      "CATCATAACT GGATTGTTTT AGAGGAGATG AGTCAAAGGA ATTCACAGTG GAACTATCTC AAGAACATGA TCATTGGCTT CTTATTGTTC ATCTCCATCA \n",
      "TTGGCTGGAT CATTCTGGTT CAAGAGGTCA AATTATATAT ACATAACGGA TCTAAGAAGT ATAGTGTAGT CAATTAAAAC AAAACGAGAC TTGAAAATAA \n",
      "GCATAAGTAT TATTAAGTTA ACCCAATATT CGTTTCAATG CTTTAGTTAT \n",
      "\n"
     ]
    }
   ],
   "source": [
    "# Display an example of a merged transcript sequence\n",
    "\n",
    "transcript = list(keep_6150.keys())[0].split(' | ')[0]\n",
    "\n",
    "feature_extractor.print_padded_sequence(\n",
    "\ttranscript = transcript,\n",
    "\tsequences  = keep_6150,\n",
    "\tspace      = True\n",
    ")"
   ]
  },
  {
   "cell_type": "code",
   "execution_count": 22,
   "id": "23489337-1d89-4929-bc89-f7d87567effd",
   "metadata": {
    "execution": {
     "iopub.execute_input": "2023-07-19T17:34:33.642251Z",
     "iopub.status.busy": "2023-07-19T17:34:33.642251Z",
     "iopub.status.idle": "2023-07-19T17:34:34.920215Z",
     "shell.execute_reply": "2023-07-19T17:34:34.920215Z",
     "shell.execute_reply.started": "2023-07-19T17:34:33.642251Z"
    },
    "tags": []
   },
   "outputs": [],
   "source": [
    "# Save the transcript sequences\n",
    "\n",
    "writer.write_fasta(\n",
    "\tdata     = keep_2150,\n",
    "\tfilename = os.path.join(OUT_DATA, f'sequences-2150-keep.fasta')\n",
    ")\n",
    "\n",
    "writer.write_fasta(\n",
    "\tdata     = drop_2150,\n",
    "\tfilename = os.path.join(OUT_DATA, f'sequences-2150-drop.fasta')\n",
    ")\n",
    "\n",
    "writer.write_fasta(\n",
    "\tdata     = keep_6150,\n",
    "\tfilename = os.path.join(OUT_DATA, f'sequences-6150-keep.fasta')\n",
    ")\n",
    "\n",
    "writer.write_fasta(\n",
    "\tdata     = drop_6150,\n",
    "\tfilename = os.path.join(OUT_DATA, f'sequences-6150-drop.fasta')\n",
    ")"
   ]
  },
  {
   "cell_type": "markdown",
   "id": "5cbb845a-e1ff-46cb-b3bc-a9274d12d0b5",
   "metadata": {},
   "source": [
    "## 3.3 Mutations"
   ]
  },
  {
   "cell_type": "code",
   "execution_count": 23,
   "id": "4cd8b064-ed29-459d-8e52-5de3ce6e9ab2",
   "metadata": {
    "execution": {
     "iopub.execute_input": "2023-07-19T17:34:34.921216Z",
     "iopub.status.busy": "2023-07-19T17:34:34.921216Z",
     "iopub.status.idle": "2023-07-19T17:34:34.935229Z",
     "shell.execute_reply": "2023-07-19T17:34:34.935229Z",
     "shell.execute_reply.started": "2023-07-19T17:34:34.921216Z"
    },
    "tags": []
   },
   "outputs": [],
   "source": [
    "# Select random transcripts to mutate\n",
    "\n",
    "mutation_transcripts = random.choices(list(keep_sequences.keys()), k = 25)\n",
    "mutation_transcripts = {key : value for key, value in keep_sequences.items() if key in mutation_transcripts}"
   ]
  },
  {
   "cell_type": "code",
   "execution_count": 24,
   "id": "e2e5ca72-01a3-475a-8045-f848ccc3c810",
   "metadata": {
    "execution": {
     "iopub.execute_input": "2023-07-19T17:34:34.936230Z",
     "iopub.status.busy": "2023-07-19T17:34:34.936230Z",
     "iopub.status.idle": "2023-07-19T17:35:14.326243Z",
     "shell.execute_reply": "2023-07-19T17:35:14.326243Z",
     "shell.execute_reply.started": "2023-07-19T17:34:34.936230Z"
    },
    "tags": []
   },
   "outputs": [
    {
     "data": {
      "application/vnd.jupyter.widget-view+json": {
       "model_id": "9fa4fcd664d44b64ae9af12d00523606",
       "version_major": 2,
       "version_minor": 0
      },
      "text/plain": [
       "  0%|          | 0/125 [00:00<?, ?it/s]"
      ]
     },
     "metadata": {},
     "output_type": "display_data"
    }
   ],
   "source": [
    "# Mutate transcripts multiple times\n",
    "\n",
    "rates = [\n",
    "\t0.01,\n",
    "\t0.05,\n",
    "\t0.10,\n",
    "\t0.15,\n",
    "\t0.25\n",
    "]\n",
    "\n",
    "params = {\n",
    "\t'mutation_rate'     : 0.1,\n",
    "\t'insertion_rate'    : 0.0,\n",
    "\t'deletion_rate'     : 0.0,\n",
    "\t'substitution_rate' : 1.0,\n",
    "\t'max_length'        : 6\n",
    "}\n",
    "\n",
    "result = mutation_sequence.generate_multi(\n",
    "\tsequences = mutation_transcripts,\n",
    "\tvariants  = 20,\n",
    "\tmethod    = 'random',\n",
    "\trates     = rates,\n",
    "\tparams    = params,\n",
    "\tverbose   = False\n",
    ")\n",
    "\n",
    "mutation_sequences = result[0]\n",
    "mutation_features  = result[1]"
   ]
  },
  {
   "cell_type": "code",
   "execution_count": 25,
   "id": "e28d6bdb-1402-47b1-acaa-ceb8d494c8cc",
   "metadata": {
    "execution": {
     "iopub.execute_input": "2023-07-19T17:35:14.327244Z",
     "iopub.status.busy": "2023-07-19T17:35:14.327244Z",
     "iopub.status.idle": "2023-07-19T17:35:14.373286Z",
     "shell.execute_reply": "2023-07-19T17:35:14.373286Z",
     "shell.execute_reply.started": "2023-07-19T17:35:14.327244Z"
    }
   },
   "outputs": [],
   "source": [
    "# Merge mutation transcript regions and pad accordingly\n",
    "\n",
    "mutation_2150, mutation_6150 = feature_extractor.merge_and_pad_sequences(\n",
    "\tsequences = mutation_sequences,\n",
    "\tlengths   = lengths,\n",
    "\tpadding   = padding\n",
    ")"
   ]
  },
  {
   "cell_type": "code",
   "execution_count": 26,
   "id": "16fb3099-a09c-4251-8d14-fbea951e734f",
   "metadata": {
    "execution": {
     "iopub.execute_input": "2023-07-19T17:35:14.374287Z",
     "iopub.status.busy": "2023-07-19T17:35:14.374287Z",
     "iopub.status.idle": "2023-07-19T17:35:15.497299Z",
     "shell.execute_reply": "2023-07-19T17:35:15.497299Z",
     "shell.execute_reply.started": "2023-07-19T17:35:14.374287Z"
    },
    "tags": []
   },
   "outputs": [],
   "source": [
    "# Compute similiarity betwen orginal and mutated transcript sequences\n",
    "\n",
    "data_2150 = dict()\n",
    "data_6150 = dict()\n",
    "\n",
    "for key, value in mutation_2150.items() :\n",
    "\tsplits = key.split(' | ')\n",
    "\n",
    "\torgkey = splits[0].split('-')[0]\n",
    "\torgkey = orgkey + ' | ' + ' | '.join(splits[1:])\n",
    "\n",
    "\torgseq = keep_2150[orgkey]\n",
    "\n",
    "\tmatch = sum([1 if x == y else 0 for x, y in zip(orgseq, value)])\n",
    "\tmatch = match / len(orgseq)\n",
    "\n",
    "\tdata_2150['{} | {:.5f}'.format(key, match)] = value\n",
    "\n",
    "for key, value in mutation_6150.items() :\n",
    "\tsplits = key.split(' | ')\n",
    "\n",
    "\torgkey = splits[0].split('-')[0]\n",
    "\torgkey = orgkey + ' | ' + ' | '.join(splits[1:])\n",
    "\n",
    "\torgseq = keep_6150[orgkey]\n",
    "\n",
    "\tmatch = sum([1 if x == y else 0 for x, y in zip(orgseq, value)])\n",
    "\tmatch = match / len(orgseq)\n",
    "\n",
    "\tdata_6150['{} | {:.5f}'.format(key, match)] = value\n",
    "\n",
    "mutation_2150 = data_2150\n",
    "mutation_6150 = data_6150"
   ]
  },
  {
   "cell_type": "code",
   "execution_count": 27,
   "id": "53ce6e73-819e-4363-817b-7b984272f87f",
   "metadata": {
    "execution": {
     "iopub.execute_input": "2023-07-19T17:35:15.498300Z",
     "iopub.status.busy": "2023-07-19T17:35:15.498300Z",
     "iopub.status.idle": "2023-07-19T17:35:15.796960Z",
     "shell.execute_reply": "2023-07-19T17:35:15.796960Z",
     "shell.execute_reply.started": "2023-07-19T17:35:15.498300Z"
    },
    "tags": []
   },
   "outputs": [],
   "source": [
    "# Save the transcript region sequences\n",
    "\n",
    "tuples = [\n",
    "\t('Prom_UTR5', 'promoter-utr5'),\n",
    "\t('Prom_Full', 'promoter-full'),\n",
    "\t('Prom',      'promoter'),\n",
    "\t('UTR5',      'utr5'),\n",
    "\t('CDS',       'cds'),\n",
    "\t('UTR3',      'utr3'),\n",
    "\t('Term',      'terminator'),\n",
    "\t('Term_Full', 'terminator-full')\n",
    "]\n",
    "\n",
    "createkey = lambda x, y : x + ' | ' + ' | '.join(y['key'].split(' | ')[1:])\n",
    "\n",
    "for region, filename in tuples :\n",
    "\tdata = {\n",
    "\t\tcreatekey(key, item[region]) : item[region]['seq']\n",
    "\t\tfor key, item in mutation_sequences.items()\n",
    "\t}\n",
    "\n",
    "\tdata = feature_extractor.pad_multiple(\n",
    "\t\tsequences = data,\n",
    "\t\tlength    = lengths[region.lower()],\n",
    "\t\tside      = padding[region.lower()],\n",
    "\t\tpad_value = None\n",
    "\t)\n",
    "\n",
    "\twriter.write_fasta(\n",
    "\t\tdata     = data,\n",
    "\t\tfilename = os.path.join(OUT_DATA, f'mutation-sequences-{filename}.fasta')\n",
    "\t)"
   ]
  },
  {
   "cell_type": "code",
   "execution_count": 28,
   "id": "26c40ebe-8e41-46e6-b4f7-c09a703baeb5",
   "metadata": {
    "execution": {
     "iopub.execute_input": "2023-07-19T17:35:15.797962Z",
     "iopub.status.busy": "2023-07-19T17:35:15.797962Z",
     "iopub.status.idle": "2023-07-19T17:35:15.956602Z",
     "shell.execute_reply": "2023-07-19T17:35:15.956602Z",
     "shell.execute_reply.started": "2023-07-19T17:35:15.797962Z"
    },
    "tags": []
   },
   "outputs": [],
   "source": [
    "# Save the mutation transcript sequences\n",
    "\n",
    "writer.write_fasta(\n",
    "\tdata     = mutation_2150,\n",
    "\tfilename = os.path.join(OUT_DATA, f'mutation-sequences-2150.fasta')\n",
    ")\n",
    "\n",
    "writer.write_fasta(\n",
    "\tdata     = mutation_6150,\n",
    "\tfilename = os.path.join(OUT_DATA, f'mutation-sequences-6150.fasta')\n",
    ")"
   ]
  },
  {
   "cell_type": "code",
   "execution_count": 29,
   "id": "3d9245eb-fa80-45d1-b8e3-a0995a069ad3",
   "metadata": {
    "execution": {
     "iopub.execute_input": "2023-07-19T17:35:15.957603Z",
     "iopub.status.busy": "2023-07-19T17:35:15.957603Z",
     "iopub.status.idle": "2023-07-19T17:35:15.988626Z",
     "shell.execute_reply": "2023-07-19T17:35:15.988626Z",
     "shell.execute_reply.started": "2023-07-19T17:35:15.957603Z"
    },
    "tags": []
   },
   "outputs": [],
   "source": [
    "# Extract mutation features\n",
    "\n",
    "mutation_features_frequency = {\n",
    "\tkey : numpy.array(value['Frequency'])\n",
    "\tfor key, value in mutation_features.items()\n",
    "}\n",
    "\n",
    "mutation_features_stability = {\n",
    "\tkey : numpy.array(value['Stability'])\n",
    "\tfor key, value in mutation_features.items()\n",
    "}"
   ]
  },
  {
   "cell_type": "code",
   "execution_count": 30,
   "id": "99145fcf-78d9-4683-b9e7-4e31a9d10d21",
   "metadata": {
    "execution": {
     "iopub.execute_input": "2023-07-19T17:35:15.989627Z",
     "iopub.status.busy": "2023-07-19T17:35:15.989627Z",
     "iopub.status.idle": "2023-07-19T17:35:16.211125Z",
     "shell.execute_reply": "2023-07-19T17:35:16.211125Z",
     "shell.execute_reply.started": "2023-07-19T17:35:15.989627Z"
    }
   },
   "outputs": [],
   "source": [
    "# Save the mutation features\n",
    "\n",
    "writer.write_npz(\n",
    "\tdata     = mutation_features_frequency,\n",
    "\tfilename = os.path.join(OUT_DATA, 'mutation-features-frequency')\n",
    ")\n",
    "\n",
    "writer.write_npz(\n",
    "\tdata     = mutation_features_stability,\n",
    "\tfilename = os.path.join(OUT_DATA, 'mutation-features-stability')\n",
    ")"
   ]
  },
  {
   "cell_type": "code",
   "execution_count": 31,
   "id": "77ddd800-136a-408a-a8d9-86202c858886",
   "metadata": {
    "execution": {
     "iopub.execute_input": "2023-07-19T17:35:16.212127Z",
     "iopub.status.busy": "2023-07-19T17:35:16.212127Z",
     "iopub.status.idle": "2023-07-19T17:35:16.339242Z",
     "shell.execute_reply": "2023-07-19T17:35:16.339242Z",
     "shell.execute_reply.started": "2023-07-19T17:35:16.212127Z"
    },
    "tags": []
   },
   "outputs": [],
   "source": [
    "# Save merged features\n",
    "\n",
    "mutation_features_base = dict()\n",
    "\n",
    "for key in mutation_features_frequency.keys() :\n",
    "\tfreq = mutation_features_frequency[key]\n",
    "\tstab = mutation_features_stability[key]\n",
    "\n",
    "\tmutation_features_base[key] = numpy.concatenate((freq, stab), axis = 0)\n",
    "\n",
    "writer.write_npz(\n",
    "\tdata     = mutation_features_base,\n",
    "\tfilename = os.path.join(OUT_DATA, 'mutation-features-base')\n",
    ")"
   ]
  },
  {
   "cell_type": "markdown",
   "id": "803fb8fa-aa16-4ea1-8697-122abf9578ec",
   "metadata": {},
   "source": [
    "## 3.4 Features"
   ]
  },
  {
   "cell_type": "code",
   "execution_count": 32,
   "id": "733732a1-bec0-4d30-b751-cdf8c2eaebbf",
   "metadata": {
    "execution": {
     "iopub.execute_input": "2023-07-19T17:35:16.340243Z",
     "iopub.status.busy": "2023-07-19T17:35:16.340243Z",
     "iopub.status.idle": "2023-07-19T17:35:16.495371Z",
     "shell.execute_reply": "2023-07-19T17:35:16.495371Z",
     "shell.execute_reply.started": "2023-07-19T17:35:16.340243Z"
    },
    "tags": []
   },
   "outputs": [],
   "source": [
    "# Extract features\n",
    "\n",
    "keep_features_frequency = {\n",
    "\tkey : numpy.array(value['Frequency'])\n",
    "\tfor key, value in keep_features.items()\n",
    "}\n",
    "\n",
    "keep_features_stability = {\n",
    "\tkey : numpy.array(value['Stability'])\n",
    "\tfor key, value in keep_features.items()\n",
    "}\n",
    "\n",
    "drop_features_frequency = {\n",
    "\tkey : numpy.array(value['Frequency'])\n",
    "\tfor key, value in drop_features.items()\n",
    "}\n",
    "\n",
    "drop_features_stability = {\n",
    "\tkey : numpy.array(value['Stability'])\n",
    "\tfor key, value in drop_features.items()\n",
    "}"
   ]
  },
  {
   "cell_type": "code",
   "execution_count": 33,
   "id": "26ba9574-a637-4a33-819f-4324df70c775",
   "metadata": {
    "execution": {
     "iopub.execute_input": "2023-07-19T17:35:16.496373Z",
     "iopub.status.busy": "2023-07-19T17:35:16.496373Z",
     "iopub.status.idle": "2023-07-19T17:35:18.293418Z",
     "shell.execute_reply": "2023-07-19T17:35:18.293418Z",
     "shell.execute_reply.started": "2023-07-19T17:35:16.496373Z"
    },
    "tags": []
   },
   "outputs": [],
   "source": [
    "# Save the features\n",
    "\n",
    "writer.write_npz(\n",
    "\tdata     = keep_features_frequency,\n",
    "\tfilename = os.path.join(OUT_DATA, 'features-frequency-keep')\n",
    ")\n",
    "\n",
    "writer.write_npz(\n",
    "\tdata     = keep_features_stability,\n",
    "\tfilename = os.path.join(OUT_DATA, 'features-stability-keep')\n",
    ")\n",
    "\n",
    "writer.write_npz(\n",
    "\tdata     = drop_features_frequency,\n",
    "\tfilename = os.path.join(OUT_DATA, 'features-frequency-drop')\n",
    ")\n",
    "\n",
    "writer.write_npz(\n",
    "\tdata     = drop_features_stability,\n",
    "\tfilename = os.path.join(OUT_DATA, 'features-stability-drop')\n",
    ")"
   ]
  },
  {
   "cell_type": "code",
   "execution_count": 34,
   "id": "90779130-2f8b-4689-af96-12b480b773ef",
   "metadata": {
    "execution": {
     "iopub.execute_input": "2023-07-19T17:35:18.294419Z",
     "iopub.status.busy": "2023-07-19T17:35:18.294419Z",
     "iopub.status.idle": "2023-07-19T17:35:19.390540Z",
     "shell.execute_reply": "2023-07-19T17:35:19.390540Z",
     "shell.execute_reply.started": "2023-07-19T17:35:18.294419Z"
    },
    "tags": []
   },
   "outputs": [],
   "source": [
    "# Save merged features\n",
    "\n",
    "keep_features_base = dict()\n",
    "drop_features_base = dict()\n",
    "\n",
    "for key in keep_features_frequency.keys() :\n",
    "\tfreq = keep_features_frequency[key]\n",
    "\tstab = keep_features_stability[key]\n",
    "\n",
    "\tkeep_features_base[key] = numpy.concatenate((freq, stab), axis = 0)\n",
    "\n",
    "writer.write_npz(\n",
    "\tdata     = keep_features_base,\n",
    "\tfilename = os.path.join(OUT_DATA, 'features-base-keep')\n",
    ")\n",
    "\n",
    "for key in drop_features_frequency.keys() :\n",
    "\tfreq = drop_features_frequency[key]\n",
    "\tstab = drop_features_stability[key]\n",
    "\n",
    "\tdrop_features_base[key] = numpy.concatenate((freq, stab), axis = 0)\n",
    "\n",
    "writer.write_npz(\n",
    "\tdata     = drop_features_base,\n",
    "\tfilename = os.path.join(OUT_DATA, 'features-base-drop')\n",
    ")"
   ]
  },
  {
   "cell_type": "markdown",
   "id": "5d47196e-c7fe-49ea-81e7-91ea86c618b4",
   "metadata": {},
   "source": [
    "## 3.5 Anndata"
   ]
  },
  {
   "cell_type": "code",
   "execution_count": 35,
   "id": "623bd4af-c325-4ab1-829f-da05d31fc6d2",
   "metadata": {
    "execution": {
     "iopub.execute_input": "2023-07-19T17:35:19.391542Z",
     "iopub.status.busy": "2023-07-19T17:35:19.391542Z",
     "iopub.status.idle": "2023-07-19T17:35:28.933454Z",
     "shell.execute_reply": "2023-07-19T17:35:28.933454Z",
     "shell.execute_reply.started": "2023-07-19T17:35:19.391542Z"
    },
    "tags": []
   },
   "outputs": [],
   "source": [
    "# Save the annotated data with multiple layers\n",
    "\n",
    "writer.write_h5ad(\n",
    "\tdata     = anndata[:, list(features.keys())].copy(),\n",
    "\tfilename = os.path.join(OUT_DATA, 'arabidopsis-r36.h5ad')\n",
    ")"
   ]
  }
 ],
 "metadata": {
  "kernelspec": {
   "display_name": "Python 3 (ipykernel)",
   "language": "python",
   "name": "python3"
  },
  "language_info": {
   "codemirror_mode": {
    "name": "ipython",
    "version": 3
   },
   "file_extension": ".py",
   "mimetype": "text/x-python",
   "name": "python",
   "nbconvert_exporter": "python",
   "pygments_lexer": "ipython3",
   "version": "3.10.7"
  }
 },
 "nbformat": 4,
 "nbformat_minor": 5
}
