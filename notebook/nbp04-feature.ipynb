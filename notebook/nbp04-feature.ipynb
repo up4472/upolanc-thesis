{
 "cells": [
  {
   "cell_type": "code",
   "execution_count": 1,
   "id": "f9a99b59-5e38-44ca-a55b-0ffed993e6d3",
   "metadata": {
    "execution": {
     "iopub.execute_input": "2023-05-16T22:29:22.409782Z",
     "iopub.status.busy": "2023-05-16T22:29:22.409281Z",
     "iopub.status.idle": "2023-05-16T22:29:22.501860Z",
     "shell.execute_reply": "2023-05-16T22:29:22.501359Z",
     "shell.execute_reply.started": "2023-05-16T22:29:22.409782Z"
    },
    "tags": []
   },
   "outputs": [],
   "source": [
    "# Libraries\n",
    "\n",
    "import numpy\n",
    "import os\n",
    "import platform\n",
    "import random\n",
    "import shutil\n",
    "import sys"
   ]
  },
  {
   "cell_type": "code",
   "execution_count": 2,
   "id": "3f6f9928-f8dd-4c12-b5b4-176c3321ba48",
   "metadata": {
    "execution": {
     "iopub.execute_input": "2023-05-16T22:29:22.503361Z",
     "iopub.status.busy": "2023-05-16T22:29:22.502861Z",
     "iopub.status.idle": "2023-05-16T22:29:22.517374Z",
     "shell.execute_reply": "2023-05-16T22:29:22.516873Z",
     "shell.execute_reply.started": "2023-05-16T22:29:22.503361Z"
    },
    "tags": []
   },
   "outputs": [],
   "source": [
    "# Ensure source path\n",
    "\n",
    "ROOT = os.getcwd()\n",
    "\n",
    "while not ROOT.endswith('upolanc-thesis') :\n",
    "\tROOT = os.path.abspath(os.path.join(ROOT, os.pardir))\n",
    "\n",
    "\tif len(ROOT) < len('upolanc-thesis') :\n",
    "\t\tif   platform.system() == 'Linux' :\n",
    "\t\t\tROOT = '/d/hpc/home/up4472/workspace/upolanc-thesis'\n",
    "\t\telif platform.system() == 'Windows' :\n",
    "\t\t\tROOT = 'C:\\\\Developer\\\\Workspace\\\\PyCharm\\\\Projects\\\\upolanc-thesis'\n",
    "\t\telse :\n",
    "\t\t\traise ValueError()\n",
    "\n",
    "\t\tprint(f'Warning : could not find correct directory, using default : {ROOT}')\n",
    "\t\tbreak\n",
    "\n",
    "if ROOT not in sys.path :\n",
    "\tsys.path.append(ROOT)\n",
    "\n",
    "os.chdir(ROOT)"
   ]
  },
  {
   "cell_type": "code",
   "execution_count": 3,
   "id": "af2d1a13-8af4-4612-8428-0c6d6d0444fd",
   "metadata": {
    "execution": {
     "iopub.execute_input": "2023-05-16T22:29:22.518375Z",
     "iopub.status.busy": "2023-05-16T22:29:22.517874Z",
     "iopub.status.idle": "2023-05-16T22:29:24.921935Z",
     "shell.execute_reply": "2023-05-16T22:29:24.921435Z",
     "shell.execute_reply.started": "2023-05-16T22:29:22.517874Z"
    },
    "tags": []
   },
   "outputs": [],
   "source": [
    "# Code\n",
    "\n",
    "from source.python.data.mutation import mutation_sequence\n",
    "from source.python.data.feature  import feature_extractor\n",
    "from source.python.io            import loader\n",
    "from source.python.io            import writer\n",
    "from source.python               import runtime\n",
    "\n",
    "runtime.set_numpy_format()\n",
    "runtime.set_pandas_format()\n",
    "runtime.set_plot_theme()"
   ]
  },
  {
   "cell_type": "markdown",
   "id": "46ebed75-3c90-4dc3-acb5-b9dffb12d5da",
   "metadata": {},
   "source": [
    "# 1. Setup"
   ]
  },
  {
   "cell_type": "code",
   "execution_count": 4,
   "id": "41d3dd6d-ed46-4a86-afe8-15f1f1be4895",
   "metadata": {
    "execution": {
     "iopub.execute_input": "2023-05-16T22:29:24.922936Z",
     "iopub.status.busy": "2023-05-16T22:29:24.922435Z",
     "iopub.status.idle": "2023-05-16T22:29:24.937448Z",
     "shell.execute_reply": "2023-05-16T22:29:24.936947Z",
     "shell.execute_reply.started": "2023-05-16T22:29:24.922936Z"
    },
    "tags": []
   },
   "outputs": [
    {
     "name": "stdout",
     "output_type": "stream",
     "text": [
      "     Root Directory : C:\\Developer\\Workspace\\PyCharm\\Projects\\upolanc-thesis\n",
      "   Output Directory : C:\\Developer\\Workspace\\PyCharm\\Projects\\upolanc-thesis\\output\\nbp04-feature\\filter1\n",
      " Resource Directory : C:\\Developer\\Workspace\\PyCharm\\Projects\\upolanc-thesis\\resources\\genome\n",
      " Resource Directory : C:\\Developer\\Workspace\\PyCharm\\Projects\\upolanc-thesis\\output\\nbp01-filter\\filter1\n"
     ]
    }
   ],
   "source": [
    "# Setup some directory paths\n",
    "\n",
    "FILTER_ID = 1\n",
    "SUBFOLDER = 'filter' + str(FILTER_ID)\n",
    "\n",
    "CWD = ROOT\n",
    "OUT = os.path.join(CWD, 'output')\n",
    "RES = os.path.join(CWD, 'resources')\n",
    "\n",
    "OUT_DATA   = os.path.join(OUT, 'nbp04-feature', SUBFOLDER)\n",
    "RES_GENOME = os.path.join(RES, 'genome')\n",
    "RES_NBP01  = os.path.join(OUT, 'nbp01-filter',  SUBFOLDER)\n",
    "RES_NBP02  = os.path.join(OUT, 'nbp02-anndata', SUBFOLDER)\n",
    "\n",
    "shutil.rmtree(OUT_DATA, ignore_errors = True)\n",
    "\n",
    "os.makedirs(OUT_DATA, exist_ok = True)\n",
    "\n",
    "print(f'     Root Directory : {CWD}')\n",
    "print(f'   Output Directory : {OUT_DATA}')\n",
    "print(f' Resource Directory : {RES_GENOME}')\n",
    "print(f' Resource Directory : {RES_NBP01}')"
   ]
  },
  {
   "cell_type": "code",
   "execution_count": 5,
   "id": "fd6c27b1-4c0a-497f-b961-a73b659797e7",
   "metadata": {
    "execution": {
     "iopub.execute_input": "2023-05-16T22:29:24.938448Z",
     "iopub.status.busy": "2023-05-16T22:29:24.938448Z",
     "iopub.status.idle": "2023-05-16T22:29:28.024594Z",
     "shell.execute_reply": "2023-05-16T22:29:28.024093Z",
     "shell.execute_reply.started": "2023-05-16T22:29:24.938448Z"
    },
    "tags": []
   },
   "outputs": [],
   "source": [
    "# Load the annotated and cleaned data\n",
    "\n",
    "gene_assembly = loader.load_faidx(\n",
    "\tfilename  = os.path.join(RES_GENOME, 'arabidopsis-r36', 'gene-assembly.fa')\n",
    ")\n",
    "\n",
    "gene_annotation = loader.load_csv(\n",
    "\tfilename   = os.path.join(RES_NBP01, 'gene-annotation.csv'),\n",
    "\tlow_memory = False\n",
    ")\n",
    "\n",
    "anndata = loader.load_h5ad(\n",
    "\tfilename = os.path.join(RES_NBP02, 'arabidopsis-r36.h5ad')\n",
    ")\n",
    "\n",
    "filter_dict = loader.load_json(\n",
    "\tfilename = os.path.join(RES_NBP01, 'filter.json')\n",
    ")"
   ]
  },
  {
   "cell_type": "code",
   "execution_count": 6,
   "id": "2c4dbb6a-a18b-4eb5-b6fd-ffe8f7722fe1",
   "metadata": {
    "execution": {
     "iopub.execute_input": "2023-05-16T22:29:28.025595Z",
     "iopub.status.busy": "2023-05-16T22:29:28.025595Z",
     "iopub.status.idle": "2023-05-16T22:29:28.040107Z",
     "shell.execute_reply": "2023-05-16T22:29:28.039607Z",
     "shell.execute_reply.started": "2023-05-16T22:29:28.025595Z"
    }
   },
   "outputs": [],
   "source": [
    "# Filtered transcripts\n",
    "\n",
    "keep_transcript = filter_dict['data']['keep_transcript']\n",
    "drop_transcript = filter_dict['data']['drop_transcript']"
   ]
  },
  {
   "cell_type": "code",
   "execution_count": 7,
   "id": "646e4086-0192-439f-b154-c819f87dd4ba",
   "metadata": {
    "execution": {
     "iopub.execute_input": "2023-05-16T22:29:28.042609Z",
     "iopub.status.busy": "2023-05-16T22:29:28.042609Z",
     "iopub.status.idle": "2023-05-16T22:29:28.055621Z",
     "shell.execute_reply": "2023-05-16T22:29:28.055120Z",
     "shell.execute_reply.started": "2023-05-16T22:29:28.042609Z"
    },
    "tags": []
   },
   "outputs": [],
   "source": [
    "# Define the region lengths\n",
    "\n",
    "lengths = {\n",
    "\t'prom_full' : [int(1000), int(500)],\n",
    "\t'prom'      :  int(1000),\n",
    "\t'utr5'      :  int( 300),\n",
    "\t'cds'       :  int(9999),\n",
    "\t'utr3'      :  int( 350),\n",
    "\t'term'      :  int( 500),\n",
    "\t'term_full' : [int( 500), int(500)]\n",
    "}\n",
    "\n",
    "padding = {\n",
    "\t'prom_full' : 'left',\n",
    "\t'prom'      : 'left',\n",
    "\t'utr5'      : 'left',\n",
    "\t'cds'       : 'none',\n",
    "\t'utr3'      : 'left',\n",
    "\t'term'      : 'right',\n",
    "\t'term_full' : 'right'\n",
    "}"
   ]
  },
  {
   "cell_type": "markdown",
   "id": "115d104b-4935-46c3-9868-a7660f8b688c",
   "metadata": {
    "tags": []
   },
   "source": [
    "# 2. Transcript Regions"
   ]
  },
  {
   "cell_type": "code",
   "execution_count": 8,
   "id": "8b4b8b12-4f5e-4500-aa48-3a1373fc7a92",
   "metadata": {
    "execution": {
     "iopub.execute_input": "2023-05-16T22:29:28.056622Z",
     "iopub.status.busy": "2023-05-16T22:29:28.056622Z",
     "iopub.status.idle": "2023-05-16T22:29:32.321778Z",
     "shell.execute_reply": "2023-05-16T22:29:32.321278Z",
     "shell.execute_reply.started": "2023-05-16T22:29:28.056622Z"
    },
    "tags": []
   },
   "outputs": [
    {
     "name": "stdout",
     "output_type": "stream",
     "text": [
      "Passed 1st assertion : True\n",
      "Passed 2nd assertion : True\n",
      "\n",
      "Gene       : 22579 / 27420\n",
      "Transcript : 22579 / 27420\n"
     ]
    }
   ],
   "source": [
    "# Group annotations into regions\n",
    "\n",
    "regions = feature_extractor.annotation_to_regions(\n",
    "\tannotation = gene_annotation,\n",
    "\tlengths    = lengths\n",
    ")\n",
    "\n",
    "print()\n",
    "print('Gene       : {:5d} / {:5d}'.format(regions['Gene'].nunique(), gene_annotation['Gene'].nunique()))\n",
    "print('Transcript : {:5d} / {:5d}'.format(regions['Transcript'].nunique(), gene_annotation['Transcript'].nunique()))"
   ]
  },
  {
   "cell_type": "markdown",
   "id": "1633d701-8e6b-4a53-92d6-a882b627750d",
   "metadata": {},
   "source": [
    "# 3. Transcript Features"
   ]
  },
  {
   "cell_type": "code",
   "execution_count": 9,
   "id": "4b65bf86-8326-41d8-b1ed-c15187240bba",
   "metadata": {
    "execution": {
     "iopub.execute_input": "2023-05-16T22:29:32.323279Z",
     "iopub.status.busy": "2023-05-16T22:29:32.322779Z",
     "iopub.status.idle": "2023-05-16T22:32:44.189744Z",
     "shell.execute_reply": "2023-05-16T22:32:44.189244Z",
     "shell.execute_reply.started": "2023-05-16T22:29:32.323279Z"
    },
    "tags": []
   },
   "outputs": [],
   "source": [
    "# Convert the regions into sequences and features\n",
    "\n",
    "sequences, features = feature_extractor.regions_to_features(\n",
    "\tfaidx     = gene_assembly,\n",
    "\tdataframe = regions,\n",
    "\tlengths   = lengths,\n",
    "\tverbose   = False\n",
    ")"
   ]
  },
  {
   "cell_type": "code",
   "execution_count": 10,
   "id": "35f67d39-fc7b-417a-9cb9-3f30111eef99",
   "metadata": {
    "execution": {
     "iopub.execute_input": "2023-05-16T22:32:44.190745Z",
     "iopub.status.busy": "2023-05-16T22:32:44.190745Z",
     "iopub.status.idle": "2023-05-16T22:32:44.360890Z",
     "shell.execute_reply": "2023-05-16T22:32:44.359890Z",
     "shell.execute_reply.started": "2023-05-16T22:32:44.190745Z"
    },
    "tags": []
   },
   "outputs": [],
   "source": [
    "# Convert the dataframe into a dictionary for ease of use\n",
    "\n",
    "sequences = sequences.copy()\n",
    "sequences = sequences.set_index('Transcript', drop = False)\n",
    "sequences = sequences.rename_axis(None, axis = 'index')\n",
    "sequences = sequences.to_dict('index')"
   ]
  },
  {
   "cell_type": "code",
   "execution_count": 11,
   "id": "bd54bdf8-962c-4f70-89bd-804022fa130c",
   "metadata": {
    "execution": {
     "iopub.execute_input": "2023-05-16T22:32:44.361892Z",
     "iopub.status.busy": "2023-05-16T22:32:44.361391Z",
     "iopub.status.idle": "2023-05-16T22:32:44.546550Z",
     "shell.execute_reply": "2023-05-16T22:32:44.546049Z",
     "shell.execute_reply.started": "2023-05-16T22:32:44.361892Z"
    }
   },
   "outputs": [],
   "source": [
    "# Convert the dataframe into a dictionary for ease of use\n",
    "\n",
    "features = features.copy()\n",
    "features = features.set_index('Transcript', drop = False)\n",
    "features = features.rename_axis(None, axis = 'index')\n",
    "features = features.to_dict('index')"
   ]
  },
  {
   "cell_type": "code",
   "execution_count": 12,
   "id": "b2e5fb43-7cbe-4519-9602-21bca1e2a080",
   "metadata": {
    "execution": {
     "iopub.execute_input": "2023-05-16T22:32:44.547550Z",
     "iopub.status.busy": "2023-05-16T22:32:44.547050Z",
     "iopub.status.idle": "2023-05-16T22:32:51.836298Z",
     "shell.execute_reply": "2023-05-16T22:32:51.835798Z",
     "shell.execute_reply.started": "2023-05-16T22:32:44.547550Z"
    }
   },
   "outputs": [],
   "source": [
    "# Split to keep and drop\n",
    "\n",
    "keep_sequences = {k : v for k, v in sequences.items() if k in keep_transcript}\n",
    "keep_features  = {k : v for k, v in features.items()  if k in keep_transcript}\n",
    "\n",
    "drop_sequences = {k : v for k, v in sequences.items() if k in drop_transcript}\n",
    "drop_features  = {k : v for k, v in features.items()  if k in drop_transcript}"
   ]
  },
  {
   "cell_type": "markdown",
   "id": "c2fcf5e1-bcc2-4e45-a64d-ba6f6aa63f84",
   "metadata": {},
   "source": [
    "## 3.1 Fasta"
   ]
  },
  {
   "cell_type": "code",
   "execution_count": 13,
   "id": "2df35250-a75c-4e11-a200-e6cb638bbc25",
   "metadata": {
    "execution": {
     "iopub.execute_input": "2023-05-16T22:32:51.837299Z",
     "iopub.status.busy": "2023-05-16T22:32:51.836798Z",
     "iopub.status.idle": "2023-05-16T22:33:34.015954Z",
     "shell.execute_reply": "2023-05-16T22:33:34.014453Z",
     "shell.execute_reply.started": "2023-05-16T22:32:51.837299Z"
    }
   },
   "outputs": [],
   "source": [
    "# Add a header field with more transcript information\n",
    "\n",
    "keep_sequences = feature_extractor.sequences_extend_kvpair(\n",
    "\tsequences = keep_sequences,\n",
    "\tregions   = regions,\n",
    "\theader    = '{} | {} | {}:{}-{} | {}'\n",
    ")\n",
    "\n",
    "drop_sequences = feature_extractor.sequences_extend_kvpair(\n",
    "\tsequences = drop_sequences,\n",
    "\tregions   = regions,\n",
    "\theader    = '{} | {} | {}:{}-{} | {}'\n",
    ")"
   ]
  },
  {
   "cell_type": "code",
   "execution_count": 14,
   "id": "2f313440-253f-4977-9d38-11b46acf541a",
   "metadata": {
    "execution": {
     "iopub.execute_input": "2023-05-16T22:33:34.016955Z",
     "iopub.status.busy": "2023-05-16T22:33:34.016455Z",
     "iopub.status.idle": "2023-05-16T22:33:34.030967Z",
     "shell.execute_reply": "2023-05-16T22:33:34.029966Z",
     "shell.execute_reply.started": "2023-05-16T22:33:34.016955Z"
    },
    "tags": []
   },
   "outputs": [
    {
     "name": "stdout",
     "output_type": "stream",
     "text": [
      "AT1G01010.1 | + | 1:2631-3630 | 1000\n",
      "ATATTGCTAT TTCTGCCAAT ATTAAAACTT CACTTAGGAA GACTTGAACC TACCACACGT TAGTGACTAA TGAGAGCCAC TAGATAATTG CATGCATCCC \n",
      "ACACTAGTAC TAATTTTCTA GGGATATTAG AGTTTTCTAA TCACCTACTT CCTACTATGT GTATGTTATC TACTGGCGTG GATGCTTTTA AAGATGTTAC \n",
      "GTTATTATTT TGTTCGGTTT GGAAAACGGC TCAATCGTTA TGAGTTCGTA AGACACATAC ATTGTTCCAT GATAAAATGC AACCCCACGA ACCATTTGCG \n",
      "ACAAGCAAAA CAACATGGTC AAAATTAAAA GCTAACAATT AGCCAGCGAT TCAAAAAGTC AACCTTCTAG ATGGATTTAA CAACATATCG ATAGGATTCA \n",
      "AGATTAAAAA TAAGCACACT CTTATTAATG TTAAAAAACG AATGAGATGA AAATATTTGG CGTGTTCACA CACATAATCT AGAAGACAGA TTCGAGTTGC \n",
      "TCTCCTTTGT TTTGCTTTGG GAGGGACCCA TTATTACCGC CCAGCAGCTT CCCAGCCTTC CTTTATAAGG CTTAATTTAT ATTTATTTAA ATTTTATATG \n",
      "TTCTTCTATT ATAATACTAA AAGGGGAATA CAAATTTCTA CAGAGGATGA TATTCAATCC ACGGTTCACC CAAACCGATT TTATAAAATT TATTATTAAA \n",
      "TCTTTTTTAA TTGTTAAATT GGTTTAAATC TGAACTCTGT TTACTTACAT TGATTAAAAT TCTAAACCAT CATAAGTAAA AAATAATATG ATTAAGACTA \n",
      "ATAAATCTTA ATAGTTAATA CTACTCGGTT TACTACATGA AATTTCATAC CATCAATTGT TTTAATAATC TTTAAAATTG TTAGGACCGG TAAAACCATA \n",
      "CCAATTAAAC CGGAGATCCA TATTAATTTA ATTAAGAAAA TAAAAATAAA AGGAATAAAT TGTCTTATTT AAACGCTGAC TTCACTGTCT TCCTCCCTCC \n",
      "\n",
      "AT1G01010.1 | + | 1:3631-3759 | 129\n",
      "AAATTATTAG ATATACCAAA CCAGAGAAAA CAAATACATA ATCGGAGAAA TACAGATTAC AGAGAGCGAG AGAGATCGAC GGCGAAGCTC TTTACCCGGA \n",
      "AACCATTGAA ATCGGACGGT TTAGTGAAA \n",
      "\n",
      "AT1G01010.1 | + | 1:3760-5630 | 1290\n",
      "ATGGAGGATC AAGTTGGGTT TGGGTTCCGT CCGAACGACG AGGAGCTCGT TGGTCACTAT CTCCGTAACA AAATCGAAGG AAACACTAGC CGCGACGTTG \n",
      "AAGTAGCCAT CAGCGAGGTC AACATCTGTA GCTACGATCC TTGGAACTTG CGCTTCCAGT CAAAGTACAA ATCGAGAGAT GCTATGTGGT ACTTCTTCTC \n",
      "TCGTAGAGAA AACAACAAAG GGAATCGACA GAGCAGGACA ACGGTTTCTG GTAAATGGAA GCTTACCGGA GAATCTGTTG AGGTCAAGGA CCAGTGGGGA \n",
      "TTTTGTAGTG AGGGCTTTCG TGGTAAGATT GGTCATAAAA GGGTTTTGGT GTTCCTCGAT GGAAGATACC CTGACAAAAC CAAATCTGAT TGGGTTATCC \n",
      "ACGAGTTCCA CTACGACCTC TTACCAGAAC ATCAGAGGAC ATATGTCATC TGCAGACTTG AGTACAAGGG TGATGATGCG GACATTCTAT CTGCTTATGC \n",
      "AATAGATCCC ACTCCCGCTT TTGTCCCCAA TATGACTAGT AGTGCAGGTT CTGTGGTCAA CCAATCACGT CAACGAAATT CAGGATCTTA CAACACTTAC \n",
      "TCTGAGTATG ATTCAGCAAA TCATGGCCAG CAGTTTAATG AAAACTCTAA CATTATGCAG CAGCAACCAC TTCAAGGATC ATTCAACCCT CTCCTTGAGT \n",
      "ATGATTTTGC AAATCACGGC GGTCAGTGGC TGAGTGACTA TATCGACCTG CAACAGCAAG TTCCTTACTT GGCACCTTAT GAAAATGAGT CGGAGATGAT \n",
      "TTGGAAGCAT GTGATTGAAG AAAATTTTGA GTTTTTGGTA GATGAAAGGA CATCTATGCA ACAGCATTAC AGTGATCACC GGCCCAAAAA ACCTGTGTCT \n",
      "GGGGTTTTGC CTGATGATAG CAGTGATACT GAAACTGGAT CAATGATTTT CGAAGACACT TCGAGCTCCA CTGATAGTGT TGGTAGTTCA GATGAACCGG \n",
      "GCCATACTCG TATAGATGAT ATTCCATCAT TGAACATTAT TGAGCCTTTG CACAATTATA AGGCACAAGA GCAACCAAAG CAGCAGAGCA AAGAAAAGGT \n",
      "GATAAGTTCG CAGAAAAGCG AATGCGAGTG GAAAATGGCT GAAGACTCGA TCAAGATACC TCCATCCACC AACACGGTGA AGCAGAGCTG GATTGTTTTG \n",
      "GAGAATGCAC AGTGGAACTA TCTCAAGAAC ATGATCATTG GTGTCTTGTT GTTCATCTCC GTCATTAGTT GGATCATTCT TGTTGGTTAA \n",
      "\n",
      "AT1G01010.1 | + | 1:5631-5899 | 269\n",
      "GAGGTCAAAT CGGATTCTTG CTCAAAATTT GTATTTCTTA GAATGTGTGT TTTTTTTTGT TTTTTTTTCT TTGCTCTGTT TTCTCGCTCC GGAAAAGTTT \n",
      "GAAGTTATAT TTTATTAGTA TGTAAAGAAG AGAAAAAGGG GGAAAGAAGA GAGAAGAAAA ATGCAGAAAA TCATATATAT GAATTGGAAA AAAGTATATG \n",
      "TAATAATAAT TAGTGCATCG TTTTGTGGTG TAGTTTATAT AAATAAAGTG ATATATAGTC TTGTATAAG \n",
      "\n",
      "AT1G01010.1 | + | 1:5900-6399 | 500\n",
      "AAAGGGATTT TACATGAGAC CCAAATATGA GTAAAGGGTG TTGGCTCAAA GATTCATTTA GCAACCAAAG TTGCATTTGC AAGGAAATGA AAAGGTGTTA \n",
      "ACAATGTCAC TGCGTAACAT GACTTCGATA CAAAATCTCA AACAATACAT CTTCAACTGT GGATTATGAT GGACTTGGGG TTGCAGGTGA TATGTCTATA \n",
      "GAAAAACGGG TGGGAATGGA AAATGGCTGA AGAAGAAAGC TCCAACTAAG CATCATAACT GGATTGTTTT AGAGGAGATG AGTCAAAGGA ATTCACAGTG \n",
      "GAACTATCTC AAGAACATGA TCATTGGCTT CTTATTGTTC ATCTCCATCA TTGGCTGGAT CATTCTGGTT CAAGAGGTCA AATTATATAT ACATAACGGA \n",
      "TCTAAGAAGT ATAGTGTAGT CAATTAAAAC AAAACGAGAC TTGAAAATAA GCATAAGTAT TATTAAGTTA ACCCAATATT CGTTTCAATG CTTTAGTTAT \n",
      "\n"
     ]
    }
   ],
   "source": [
    "# Example of a padded strand\n",
    "\n",
    "transcript = list(keep_sequences.keys())[0]\n",
    "\n",
    "feature_extractor.print_extracted_sequence(\n",
    "\ttranscript = transcript,\n",
    "\tsequences  = keep_sequences,\n",
    "\tspace      = True\n",
    ")"
   ]
  },
  {
   "cell_type": "code",
   "execution_count": 15,
   "id": "83d09452-4c1e-4484-bfba-c1100c1393f2",
   "metadata": {
    "execution": {
     "iopub.execute_input": "2023-05-16T22:33:34.031968Z",
     "iopub.status.busy": "2023-05-16T22:33:34.031467Z",
     "iopub.status.idle": "2023-05-16T22:33:34.045981Z",
     "shell.execute_reply": "2023-05-16T22:33:34.045480Z",
     "shell.execute_reply.started": "2023-05-16T22:33:34.031968Z"
    },
    "tags": []
   },
   "outputs": [
    {
     "name": "stdout",
     "output_type": "stream",
     "text": [
      "AT1G01060.6 | - | 1:37870-38869 | 1000\n",
      "TCAAATAACT GTTATGTCCT AGTTAATGTT TAAGGAGAGG TAATGAGAGA TAAAATTTTA TAATTCCAAA CATCAACGTA GAGATTTGTG AAATATTTAA \n",
      "ATCCGGTTTG TTTGGTTATT TTGGAATAAT TTCGGTTATT TCAATTAGAT TCGGGTAGTT CAGTTCTTCG GTTAGTAACA AAAACTGGTC TATTGTTTTT \n",
      "TGGTTAACCT AGAACCGAAC CGAACTAACC AAAGTTCTCG GTAACCTTTT GTAGTGGCTT CCTGACCGAT GAGGCCGTCA ACTTCAAAAA ATATTGCAAC \n",
      "TAAGCTCTGC TCCAACATTA GAGTATCTAT AACTATGTTA AACGCTTCTG CTTTAAGCAA AACACAGTTG TAAGCTGGAA TCTAAAAAAA TGAGTGTAAT \n",
      "GATGTTTGCT GAATTCCATA AATAAATACT ACATGCTTCG GTTAAGACTT AAGAGTAATT AATGTTCCTT AATTTCTACA AATGTTATAT AAGCAAGTTG \n",
      "ACCAAAGTTC TCGATGATAA TTTGTTGAAA TTTTGTATAG GCATTGCATG ATATTATATG AAAAGATGAA GATTTTTATA CAGACGCAAG TTCCCCGAGC \n",
      "AGTCCAAGCT TGTCGGGTTT AATTCAACTA TGTTAATACG CAAATTTATA TAGAATAGGC GTAAAAGTGA GGCCCATACA ATGTCTTATT ACAAGCCCAG \n",
      "ATCCAGCATA GCCAATACGT AGCAGTACAC CATCACAGCT GGCACCGTAC CCACTTGTTT AGTCGTCCAA GTTTGTACCA ATAATCGTTT ACACGTAAGC \n",
      "AATTGTGGAC CACCACACTC ACTTTTACCT ACGTGAGCTT CACATTGAAG CTTCTGGCTC GTAGAGAAGC AACTTGAGAT ATACCAAAAA GTGCAGTAGA \n",
      "CAGCCACTAC AATATCACCA CGTGTCGATC TGCGATGACT TCTGTTTTTT CCATTTATAC CCTTGGTGCT GTTCCAGCCT CAAATAAACT TTTCAATTAA \n",
      "\n",
      "AT1G01060.6 | - | 1:36837-37871 | 300\n",
      "TTGTGAAGGT TTTGGCTGCG GTGGATTCGT TTGGTTTCTC TAGAATCTAA AGAGGTTATC ACAACGGCTT TGCAATTTGA AAACTTTCAT GTTTGGGGAG \n",
      "ATCAAAGATG GTTTCTTTTT TATACTTTAC TTGTTAGAGA GGATTTGAAG CAGCGAATAG CTGCACCGGT CCTGTTATGG ATACTAATAC ATCTGGAGAA \n",
      "GAATTATTAG CTAAGGCAAG AAAGCCATAT ACAATAACAA AGCAGCGAGA GCGATGGACT GAGGATGAGC ATGAGAGGTT TCTAGAAGCC TTGAGGCTTT \n",
      "\n",
      "AT1G01060.6 | - | 1:33992-36836 | 1932\n",
      "ATGGAAGAGC TTGGCAACGA ATTGAAGAAC ATATTGGGAC AAAGACTGCT GTTCAGATCA GAAGTCATGC ACAAAAGTTC TTCACAAAGC CATCCATATG \n",
      "GAAACCAAAC CTCCTTGCCC TATAGGACAG GACATGAAGT AACTCTATCA TCTCTACCCC GAAAAATTCG GTTTGGAAAA GCTCACAGTT TTTGGTTCAC \n",
      "ATTTCAGTTG GAGAAAGAGG CTGAAGTTAA AGGCATCCCT GTTTGCCAAG CTTTGGACAT AGAAATTCCG CCTCCTCGTC CTAAACGAAA ACCCAATACT \n",
      "CCTTATCCTC GAAAGCCTGG GAACAACGGT ACATCTTCCT CTCAAGTATC ATCAGCAAAA GATGCAAAAC TTGTTTCATC GGCCTCTTCT TCACAGTTGA \n",
      "ATCAGGCGTT CTTGGATTTG GAAAAAATGC CGTTCTCTGA GAAAACATCA ACTGGAAAAG AAAATCAAGA TGAGAATTGC TCGGGTGTTT CTACTGTGAA \n",
      "CAAGTATCCC TTACCAACGA AACAGGTAAG TGGCGACATT GAAACAAGTA AGACCTCAAC TGTGGACAAC GCGGTTCAAG ATGTTCCCAA GAAGAACAAA \n",
      "GACAAAGATG GTAACGATGG TACTACTGTG CACAGCATGC AAAACTACCC TTGGCATTTC CACGCAGATA TTGTGAACGG GAATATAGCA AAATGCCCTC \n",
      "AAAATCATCC CTCAGGTATG GTATCTCAAG ACTTCATGTT TCATCCTATG AGAGAAGAAA CTCACGGGCA CGCAAATCTT CAAGCTACAA CAGCATCTGC \n",
      "TACTACTACA GCTTCTCATC AAGCGTTTCC AGCTTGTCAT TCACAGGATG ATTACCGTTC GTTTCTCCAG ATATCATCTA CTTTCTCCAA TCTTATTATG \n",
      "TCAACTCTCC TACAGAATCC TGCAGCTCAT GCTGCAGCTA CATTCGCTGC TTCGGTCTGG CCTTATGCGA GTGTCGGGAA TTCTGGTGAT TCATCAACCC \n",
      "CAATGAGCTC TTCTCCTCCA AGTATAACTG CCATTGCCGC TGCTACAGTA GCTGCTGCAA CTGCTTGGTG GGCTTCTCAT GGACTTCTTC CTGTATGCGC \n",
      "TCCAGCTCCA ATAACATGTG TTCCATTCTC AACTGTTGCA GTTCCAACTC CAGCAATGAC TGAAATGGAT ACCGTTGAAA ATACTCAACC GTTTGAGAAA \n",
      "CAAAACACAG CTCTGCAAGA TCAAAACTTG GCTTCGAAAT CTCCAGCTTC ATCATCTGAT GATTCAGATG AGACTGGAGT AACCAAGCTA AATGCCGACT \n",
      "CAAAAACCAA TGATGATAAA ATTGAGGAGG TTGTTGTTAC TGCCGCTGTG CATGACTCAA ACACTGCCCA GAAGAAAAAT CTTGTGGACC GCTCATCCTG \n",
      "TGGCTCAAAT ACACCTTCAG GGAGTGACGC AGAAACTGAT GCATTAGATA AAATGGAGAA AGATAAAGAG GATGTGAAGG AGACAGATGA GAATCAGCCA \n",
      "GATGTTATTG AGTTAAATAA CCGTAAGATT AAAATGAGAG ACAACAACAG CAACAACAAT GCAACTACTG ATTCGTGGAA GGAAGTCTCC GAAGAGGGTC \n",
      "GTATAGCGTT TCAGGCTCTC TTTGCAAGAG AAAGATTGCC TCAAAGCTTT TCGCCTCCTC AAGTGGCAGA GAATGTGAAT AGAAAACAAA GTGACACGTC \n",
      "AATGCCATTG GCTCCTAATT TCAAAAGCCA GGATTCTTGT GCTGCAGACC AAGAAGGAGT AGTAATGATC GGTGTTGGAA CATGCAAGAG TCTTAAAACG \n",
      "AGACAGACAG GATTTAAGCC ATACAAGAGA TGTTCAATGG AAGTGAAAGA GAGCCAAGTT GGGAACATAA ACAATCAAAG TGATGAAAAA GTCTGCAAAA \n",
      "GGCTTCGATT GGAAGGAGAA GCTTCTACAT GA \n",
      "\n",
      "AT1G01060.6 | - | 1:33365-33991 | 236\n",
      "CAGACTTGGA GGCGCTCGTT GCCCAACGCC AAATGCCCAA AGGTGCTAGG CTGGGCCTTA AAGATTTTAC TCACACTACT TGGGCCTACA TTACAACATT \n",
      "TTCCCTATTA CAAGCTTAAG TAATAGAGGC CTAAAGAAGG CTTATATTGT GTAGCTAGTT TATACAATAT TTCAATCTCT TAATTTGGTT TACTGATGAA \n",
      "TGAGTAGATA TACAATTTTT TTGTTCTCAC TGAATG \n",
      "\n",
      "AT1G01060.6 | - | 1:32867-33366 | 500\n",
      "TGAGCCATAT CCTTGCTACC AAACCAAATT ATTTGTGAAA AATGTAATGC AAGTATCCTA CATAGATTAT AGGAGTGACC GCAAAAACAC AAACTATGTT \n",
      "TCGTAATAAA AAATAAAGTA TTTTTAAAAA GATGTAAATC TTTGTAAATA ATTGAGTGGT AGTGTAGTGA GTGTTACGAT AATATAAAAG TTTGATCCGT \n",
      "ATATCTCGGT GGTGACTCAT ATATACATTT TACAATCACT TGCTAGACCA ACGGGCTTCA CTTGTTTCTC TCCCAAAGTT TCTTCATCAT CCTTGCGATA \n",
      "AAGAAAACAA CAATCGGCTG TTTCGTTTCG ATCCAAAGGT ACGTTTTTTT TTCTTTTGTC ATCGTTCTAA GATCATCAAA GTTTGATGCT TTTCCATGTT \n",
      "TAATCTTCTG GGTATTTTGT TGCTTCAAAT CTCAATCATC CATCGAGTCT ATAGAGAAAA AGTGAACAGA TTTGGTATAC ATCTTTTCAG TAATCGATAC \n",
      "\n"
     ]
    }
   ],
   "source": [
    "# Example of a padded strand\n",
    "\n",
    "transcript = list(drop_sequences.keys())[0]\n",
    "\n",
    "feature_extractor.print_extracted_sequence(\n",
    "\ttranscript = transcript,\n",
    "\tsequences  = drop_sequences,\n",
    "\tspace      = True\n",
    ")"
   ]
  },
  {
   "cell_type": "code",
   "execution_count": 16,
   "id": "b554fd5b-908b-4b92-b0b6-e0e4e82d4152",
   "metadata": {
    "execution": {
     "iopub.execute_input": "2023-05-16T22:33:34.048482Z",
     "iopub.status.busy": "2023-05-16T22:33:34.047982Z",
     "iopub.status.idle": "2023-05-16T22:33:35.333584Z",
     "shell.execute_reply": "2023-05-16T22:33:35.333083Z",
     "shell.execute_reply.started": "2023-05-16T22:33:34.048482Z"
    },
    "tags": []
   },
   "outputs": [],
   "source": [
    "# Save the transcript region sequences\n",
    "\n",
    "tuples = [\n",
    "\t('Prom_Full', 'promoter-full'),\n",
    "\t('Prom',      'promoter'),\n",
    "\t('UTR5',      'utr5'),\n",
    "\t('CDS',       'cds'),\n",
    "\t('UTR3',      'utr3'),\n",
    "\t('Term',      'terminator'),\n",
    "\t('Term_Full', 'terminator-full')\n",
    "]\n",
    "\n",
    "for region, filename in tuples :\n",
    "\twriter.write_fasta(\n",
    "\t\tdata = {\n",
    "\t\t\titem[region]['key'] : item[region]['seq']\n",
    "\t\t\tfor item in keep_sequences.values()\n",
    "\t\t},\n",
    "\t\tfilename = os.path.join(OUT_DATA, f'sequences-{filename}-keep.fasta')\n",
    "\t)\n",
    "\n",
    "for region, filename in tuples :\n",
    "\twriter.write_fasta(\n",
    "\t\tdata = {\n",
    "\t\t\titem[region]['key'] : item[region]['seq']\n",
    "\t\t\tfor item in drop_sequences.values()\n",
    "\t\t},\n",
    "\t\tfilename = os.path.join(OUT_DATA, f'sequences-{filename}-drop.fasta')\n",
    "\t)"
   ]
  },
  {
   "cell_type": "markdown",
   "id": "5e4b0715-27b0-428b-be6b-9bea2be77368",
   "metadata": {},
   "source": [
    "## 3.2 Sequences"
   ]
  },
  {
   "cell_type": "code",
   "execution_count": 17,
   "id": "c9e2a11f-a5ed-4f91-bc6a-86fba8fb6b3f",
   "metadata": {
    "execution": {
     "iopub.execute_input": "2023-05-16T22:33:35.334585Z",
     "iopub.status.busy": "2023-05-16T22:33:35.334084Z",
     "iopub.status.idle": "2023-05-16T22:33:35.505230Z",
     "shell.execute_reply": "2023-05-16T22:33:35.503730Z",
     "shell.execute_reply.started": "2023-05-16T22:33:35.334585Z"
    }
   },
   "outputs": [],
   "source": [
    "# Merge transcript regions and pad accordingly\n",
    "\n",
    "keep_bp2150 = feature_extractor.merge_and_pad_sequences(\n",
    "\tsequences = keep_sequences,\n",
    "\tlengths   = lengths,\n",
    "\tpadding   = padding\n",
    ")\n",
    "\n",
    "drop_bp2150 = feature_extractor.merge_and_pad_sequences(\n",
    "\tsequences = drop_sequences,\n",
    "\tlengths   = lengths,\n",
    "\tpadding   = padding\n",
    ")"
   ]
  },
  {
   "cell_type": "code",
   "execution_count": 18,
   "id": "0a0fb323-d623-4411-948e-80a0721afbba",
   "metadata": {
    "execution": {
     "iopub.execute_input": "2023-05-16T22:33:35.506732Z",
     "iopub.status.busy": "2023-05-16T22:33:35.506231Z",
     "iopub.status.idle": "2023-05-16T22:33:35.520243Z",
     "shell.execute_reply": "2023-05-16T22:33:35.519244Z",
     "shell.execute_reply.started": "2023-05-16T22:33:35.506732Z"
    },
    "tags": []
   },
   "outputs": [
    {
     "name": "stdout",
     "output_type": "stream",
     "text": [
      "AT1G01010.1 | + | 1:2631-6399 | 2150\n",
      "ATATTGCTAT TTCTGCCAAT ATTAAAACTT CACTTAGGAA GACTTGAACC TACCACACGT TAGTGACTAA TGAGAGCCAC TAGATAATTG CATGCATCCC \n",
      "ACACTAGTAC TAATTTTCTA GGGATATTAG AGTTTTCTAA TCACCTACTT CCTACTATGT GTATGTTATC TACTGGCGTG GATGCTTTTA AAGATGTTAC \n",
      "GTTATTATTT TGTTCGGTTT GGAAAACGGC TCAATCGTTA TGAGTTCGTA AGACACATAC ATTGTTCCAT GATAAAATGC AACCCCACGA ACCATTTGCG \n",
      "ACAAGCAAAA CAACATGGTC AAAATTAAAA GCTAACAATT AGCCAGCGAT TCAAAAAGTC AACCTTCTAG ATGGATTTAA CAACATATCG ATAGGATTCA \n",
      "AGATTAAAAA TAAGCACACT CTTATTAATG TTAAAAAACG AATGAGATGA AAATATTTGG CGTGTTCACA CACATAATCT AGAAGACAGA TTCGAGTTGC \n",
      "TCTCCTTTGT TTTGCTTTGG GAGGGACCCA TTATTACCGC CCAGCAGCTT CCCAGCCTTC CTTTATAAGG CTTAATTTAT ATTTATTTAA ATTTTATATG \n",
      "TTCTTCTATT ATAATACTAA AAGGGGAATA CAAATTTCTA CAGAGGATGA TATTCAATCC ACGGTTCACC CAAACCGATT TTATAAAATT TATTATTAAA \n",
      "TCTTTTTTAA TTGTTAAATT GGTTTAAATC TGAACTCTGT TTACTTACAT TGATTAAAAT TCTAAACCAT CATAAGTAAA AAATAATATG ATTAAGACTA \n",
      "ATAAATCTTA ATAGTTAATA CTACTCGGTT TACTACATGA AATTTCATAC CATCAATTGT TTTAATAATC TTTAAAATTG TTAGGACCGG TAAAACCATA \n",
      "CCAATTAAAC CGGAGATCCA TATTAATTTA ATTAAGAAAA TAAAAATAAA AGGAATAAAT TGTCTTATTT AAACGCTGAC TTCACTGTCT TCCTCCCTCC \n",
      "---------- ---------- ---------- ---------- ---------- ---------- ---------- ---------- ---------- ---------- \n",
      "---------- ---------- ---------- ---------- ---------- ---------- ---------- -AAATTATTA GATATACCAA ACCAGAGAAA \n",
      "ACAAATACAT AATCGGAGAA ATACAGATTA CAGAGAGCGA GAGAGATCGA CGGCGAAGCT CTTTACCCGG AAACCATTGA AATCGGACGG TTTAGTGAAA \n",
      "---------- ---------- ---------- ---------- ---------- ---------- ---------- ---------- -GAGGTCAAA TCGGATTCTT \n",
      "GCTCAAAATT TGTATTTCTT AGAATGTGTG TTTTTTTTTG TTTTTTTTTC TTTGCTCTGT TTTCTCGCTC CGGAAAAGTT TGAAGTTATA TTTTATTAGT \n",
      "ATGTAAAGAA GAGAAAAAGG GGGAAAGAAG AGAGAAGAAA AATGCAGAAA ATCATATATA TGAATTGGAA AAAAGTATAT GTAATAATAA TTAGTGCATC \n",
      "GTTTTGTGGT GTAGTTTATA TAAATAAAGT GATATATAGT CTTGTATAAG AAAGGGATTT TACATGAGAC CCAAATATGA GTAAAGGGTG TTGGCTCAAA \n",
      "GATTCATTTA GCAACCAAAG TTGCATTTGC AAGGAAATGA AAAGGTGTTA ACAATGTCAC TGCGTAACAT GACTTCGATA CAAAATCTCA AACAATACAT \n",
      "CTTCAACTGT GGATTATGAT GGACTTGGGG TTGCAGGTGA TATGTCTATA GAAAAACGGG TGGGAATGGA AAATGGCTGA AGAAGAAAGC TCCAACTAAG \n",
      "CATCATAACT GGATTGTTTT AGAGGAGATG AGTCAAAGGA ATTCACAGTG GAACTATCTC AAGAACATGA TCATTGGCTT CTTATTGTTC ATCTCCATCA \n",
      "TTGGCTGGAT CATTCTGGTT CAAGAGGTCA AATTATATAT ACATAACGGA TCTAAGAAGT ATAGTGTAGT CAATTAAAAC AAAACGAGAC TTGAAAATAA \n",
      "GCATAAGTAT TATTAAGTTA ACCCAATATT CGTTTCAATG CTTTAGTTAT \n",
      "\n"
     ]
    }
   ],
   "source": [
    "# Display an example of a merged transcript sequence\n",
    "\n",
    "transcript = list(keep_bp2150.keys())[0].split(' | ')[0]\n",
    "\n",
    "feature_extractor.print_padded_sequence(\n",
    "\ttranscript = transcript,\n",
    "\tsequences  = keep_bp2150,\n",
    "\tspace      = True\n",
    ")"
   ]
  },
  {
   "cell_type": "code",
   "execution_count": 19,
   "id": "23489337-1d89-4929-bc89-f7d87567effd",
   "metadata": {
    "execution": {
     "iopub.execute_input": "2023-05-16T22:33:35.521244Z",
     "iopub.status.busy": "2023-05-16T22:33:35.521244Z",
     "iopub.status.idle": "2023-05-16T22:33:35.876548Z",
     "shell.execute_reply": "2023-05-16T22:33:35.876048Z",
     "shell.execute_reply.started": "2023-05-16T22:33:35.521244Z"
    },
    "tags": []
   },
   "outputs": [],
   "source": [
    "# Save the transcript sequences\n",
    "\n",
    "writer.write_fasta(\n",
    "\tdata     = keep_bp2150,\n",
    "\tfilename = os.path.join(OUT_DATA, f'sequences-bp2150-keep.fasta')\n",
    ")\n",
    "\n",
    "writer.write_fasta(\n",
    "\tdata     = drop_bp2150,\n",
    "\tfilename = os.path.join(OUT_DATA, f'sequences-bp2150-drop.fasta')\n",
    ")"
   ]
  },
  {
   "cell_type": "markdown",
   "id": "5cbb845a-e1ff-46cb-b3bc-a9274d12d0b5",
   "metadata": {},
   "source": [
    "## 3.3 Mutations"
   ]
  },
  {
   "cell_type": "code",
   "execution_count": 20,
   "id": "4cd8b064-ed29-459d-8e52-5de3ce6e9ab2",
   "metadata": {
    "execution": {
     "iopub.execute_input": "2023-05-16T22:33:35.877549Z",
     "iopub.status.busy": "2023-05-16T22:33:35.877549Z",
     "iopub.status.idle": "2023-05-16T22:33:35.892062Z",
     "shell.execute_reply": "2023-05-16T22:33:35.891562Z",
     "shell.execute_reply.started": "2023-05-16T22:33:35.877549Z"
    },
    "tags": []
   },
   "outputs": [],
   "source": [
    "# Select random transcripts to mutate\n",
    "\n",
    "mutation_transcripts = random.choices(list(keep_sequences.keys()), k = 25)\n",
    "mutation_transcripts = {key : value for key, value in keep_sequences.items() if key in mutation_transcripts}"
   ]
  },
  {
   "cell_type": "code",
   "execution_count": 21,
   "id": "e2e5ca72-01a3-475a-8045-f848ccc3c810",
   "metadata": {
    "execution": {
     "iopub.execute_input": "2023-05-16T22:33:35.893063Z",
     "iopub.status.busy": "2023-05-16T22:33:35.892563Z",
     "iopub.status.idle": "2023-05-16T22:33:54.787258Z",
     "shell.execute_reply": "2023-05-16T22:33:54.786758Z",
     "shell.execute_reply.started": "2023-05-16T22:33:35.893063Z"
    },
    "tags": []
   },
   "outputs": [
    {
     "data": {
      "application/vnd.jupyter.widget-view+json": {
       "model_id": "9cc66fc16de644e389e5b1189ca3a288",
       "version_major": 2,
       "version_minor": 0
      },
      "text/plain": [
       "  0%|          | 0/125 [00:00<?, ?it/s]"
      ]
     },
     "metadata": {},
     "output_type": "display_data"
    }
   ],
   "source": [
    "# Mutate transcripts multiple times\n",
    "\n",
    "rates = [\n",
    "\t0.01,\n",
    "\t0.05,\n",
    "\t0.10,\n",
    "\t0.15,\n",
    "\t0.25\n",
    "]\n",
    "\n",
    "params = {\n",
    "\t'mutation_rate'     : 0.1,\n",
    "\t'insertion_rate'    : 0.0,\n",
    "\t'deletion_rate'     : 0.0,\n",
    "\t'substitution_rate' : 1.0,\n",
    "\t'max_length'        : 6\n",
    "}\n",
    "\n",
    "result = mutation_sequence.generate_multi(\n",
    "\tsequences = mutation_transcripts,\n",
    "\tvariants  = 20,\n",
    "\tmethod    = 'random',\n",
    "\trates     = rates,\n",
    "\tparams    = params,\n",
    "\tverbose   = False\n",
    ")\n",
    "\n",
    "mutation_sequences = result[0]\n",
    "mutation_features  = result[1]"
   ]
  },
  {
   "cell_type": "code",
   "execution_count": 22,
   "id": "e28d6bdb-1402-47b1-acaa-ceb8d494c8cc",
   "metadata": {
    "execution": {
     "iopub.execute_input": "2023-05-16T22:33:54.790262Z",
     "iopub.status.busy": "2023-05-16T22:33:54.789761Z",
     "iopub.status.idle": "2023-05-16T22:33:54.818286Z",
     "shell.execute_reply": "2023-05-16T22:33:54.817785Z",
     "shell.execute_reply.started": "2023-05-16T22:33:54.790262Z"
    }
   },
   "outputs": [],
   "source": [
    "# Merge mutation transcript regions and pad accordingly\n",
    "\n",
    "mutation_bp2150 = feature_extractor.merge_and_pad_sequences(\n",
    "\tsequences = mutation_sequences,\n",
    "\tlengths   = lengths,\n",
    "\tpadding   = padding\n",
    ")"
   ]
  },
  {
   "cell_type": "code",
   "execution_count": 23,
   "id": "16fb3099-a09c-4251-8d14-fbea951e734f",
   "metadata": {
    "execution": {
     "iopub.execute_input": "2023-05-16T22:33:54.819287Z",
     "iopub.status.busy": "2023-05-16T22:33:54.819287Z",
     "iopub.status.idle": "2023-05-16T22:33:55.128551Z",
     "shell.execute_reply": "2023-05-16T22:33:55.128051Z",
     "shell.execute_reply.started": "2023-05-16T22:33:54.819287Z"
    }
   },
   "outputs": [],
   "source": [
    "# Compute similiarity betwen orginal and mutated transcript sequences\n",
    "\n",
    "data = dict()\n",
    "\n",
    "for key, value in mutation_bp2150.items() :\n",
    "\tsplits = key.split(' | ')\n",
    "\n",
    "\torgkey = splits[0].split('-')[0]\n",
    "\torgkey = orgkey + ' | ' + ' | '.join(splits[1:])\n",
    "\n",
    "\torgseq = keep_bp2150[orgkey]\n",
    "\n",
    "\tmatch = sum([1 if x == y else 0 for x, y in zip(orgseq, value)])\n",
    "\tmatch = match / len(orgseq)\n",
    "\n",
    "\tdata['{} | {:.5f}'.format(key, match)] = value\n",
    "\n",
    "mutation_bp2150 = data"
   ]
  },
  {
   "cell_type": "code",
   "execution_count": 24,
   "id": "26c40ebe-8e41-46e6-b4f7-c09a703baeb5",
   "metadata": {
    "execution": {
     "iopub.execute_input": "2023-05-16T22:33:55.130553Z",
     "iopub.status.busy": "2023-05-16T22:33:55.129052Z",
     "iopub.status.idle": "2023-05-16T22:33:55.175091Z",
     "shell.execute_reply": "2023-05-16T22:33:55.174591Z",
     "shell.execute_reply.started": "2023-05-16T22:33:55.130553Z"
    }
   },
   "outputs": [],
   "source": [
    "# Save the mutation transcript sequences\n",
    "\n",
    "writer.write_fasta(\n",
    "\tdata     = mutation_bp2150,\n",
    "\tfilename = os.path.join(OUT_DATA, f'mutation-sequences-bp2150.fasta')\n",
    ")"
   ]
  },
  {
   "cell_type": "code",
   "execution_count": 25,
   "id": "3d9245eb-fa80-45d1-b8e3-a0995a069ad3",
   "metadata": {
    "execution": {
     "iopub.execute_input": "2023-05-16T22:33:55.176092Z",
     "iopub.status.busy": "2023-05-16T22:33:55.175592Z",
     "iopub.status.idle": "2023-05-16T22:33:55.206118Z",
     "shell.execute_reply": "2023-05-16T22:33:55.205617Z",
     "shell.execute_reply.started": "2023-05-16T22:33:55.176092Z"
    },
    "tags": []
   },
   "outputs": [],
   "source": [
    "# Extract mutation features\n",
    "\n",
    "mutation_features_frequency = {\n",
    "\tkey : numpy.array(value['Frequency'])\n",
    "\tfor key, value in mutation_features.items()\n",
    "}\n",
    "\n",
    "mutation_features_stability = {\n",
    "\tkey : numpy.array(value['Stability'])\n",
    "\tfor key, value in mutation_features.items()\n",
    "}"
   ]
  },
  {
   "cell_type": "code",
   "execution_count": 26,
   "id": "99145fcf-78d9-4683-b9e7-4e31a9d10d21",
   "metadata": {
    "execution": {
     "iopub.execute_input": "2023-05-16T22:33:55.207119Z",
     "iopub.status.busy": "2023-05-16T22:33:55.206618Z",
     "iopub.status.idle": "2023-05-16T22:33:55.438817Z",
     "shell.execute_reply": "2023-05-16T22:33:55.438316Z",
     "shell.execute_reply.started": "2023-05-16T22:33:55.207119Z"
    }
   },
   "outputs": [],
   "source": [
    "# Save the mutation features\n",
    "\n",
    "writer.write_npz(\n",
    "\tdata     = mutation_features_frequency,\n",
    "\tfilename = os.path.join(OUT_DATA, 'mutation-features-frequency')\n",
    ")\n",
    "\n",
    "writer.write_npz(\n",
    "\tdata     = mutation_features_stability,\n",
    "\tfilename = os.path.join(OUT_DATA, 'mutation-features-stability')\n",
    ")"
   ]
  },
  {
   "cell_type": "code",
   "execution_count": 27,
   "id": "77ddd800-136a-408a-a8d9-86202c858886",
   "metadata": {
    "execution": {
     "iopub.execute_input": "2023-05-16T22:33:55.439818Z",
     "iopub.status.busy": "2023-05-16T22:33:55.439818Z",
     "iopub.status.idle": "2023-05-16T22:33:55.562923Z",
     "shell.execute_reply": "2023-05-16T22:33:55.562423Z",
     "shell.execute_reply.started": "2023-05-16T22:33:55.439818Z"
    },
    "tags": []
   },
   "outputs": [],
   "source": [
    "# Save merged features\n",
    "\n",
    "mutation_features_base = dict()\n",
    "\n",
    "for key in mutation_features_frequency.keys() :\n",
    "\tfreq = mutation_features_frequency[key]\n",
    "\tstab = mutation_features_stability[key]\n",
    "\n",
    "\tmutation_features_base[key] = numpy.concatenate((freq, stab), axis = 0)\n",
    "\n",
    "writer.write_npz(\n",
    "\tdata     = mutation_features_base,\n",
    "\tfilename = os.path.join(OUT_DATA, 'mutation-features-base')\n",
    ")"
   ]
  },
  {
   "cell_type": "markdown",
   "id": "803fb8fa-aa16-4ea1-8697-122abf9578ec",
   "metadata": {},
   "source": [
    "## 3.4 Features"
   ]
  },
  {
   "cell_type": "code",
   "execution_count": 28,
   "id": "733732a1-bec0-4d30-b751-cdf8c2eaebbf",
   "metadata": {
    "execution": {
     "iopub.execute_input": "2023-05-16T22:33:55.563925Z",
     "iopub.status.busy": "2023-05-16T22:33:55.563925Z",
     "iopub.status.idle": "2023-05-16T22:33:55.718057Z",
     "shell.execute_reply": "2023-05-16T22:33:55.717556Z",
     "shell.execute_reply.started": "2023-05-16T22:33:55.563925Z"
    },
    "tags": []
   },
   "outputs": [],
   "source": [
    "# Extract features\n",
    "\n",
    "keep_features_frequency = {\n",
    "\tkey : numpy.array(value['Frequency'])\n",
    "\tfor key, value in keep_features.items()\n",
    "}\n",
    "\n",
    "keep_features_stability = {\n",
    "\tkey : numpy.array(value['Stability'])\n",
    "\tfor key, value in keep_features.items()\n",
    "}\n",
    "\n",
    "drop_features_frequency = {\n",
    "\tkey : numpy.array(value['Frequency'])\n",
    "\tfor key, value in drop_features.items()\n",
    "}\n",
    "\n",
    "drop_features_stability = {\n",
    "\tkey : numpy.array(value['Stability'])\n",
    "\tfor key, value in drop_features.items()\n",
    "}"
   ]
  },
  {
   "cell_type": "code",
   "execution_count": 29,
   "id": "26ba9574-a637-4a33-819f-4324df70c775",
   "metadata": {
    "execution": {
     "iopub.execute_input": "2023-05-16T22:33:55.719058Z",
     "iopub.status.busy": "2023-05-16T22:33:55.718557Z",
     "iopub.status.idle": "2023-05-16T22:33:57.610679Z",
     "shell.execute_reply": "2023-05-16T22:33:57.610178Z",
     "shell.execute_reply.started": "2023-05-16T22:33:55.719058Z"
    },
    "tags": []
   },
   "outputs": [],
   "source": [
    "# Save the features\n",
    "\n",
    "writer.write_npz(\n",
    "\tdata     = keep_features_frequency,\n",
    "\tfilename = os.path.join(OUT_DATA, 'features-frequency-keep')\n",
    ")\n",
    "\n",
    "writer.write_npz(\n",
    "\tdata     = keep_features_stability,\n",
    "\tfilename = os.path.join(OUT_DATA, 'features-stability-keep')\n",
    ")\n",
    "\n",
    "writer.write_npz(\n",
    "\tdata     = drop_features_frequency,\n",
    "\tfilename = os.path.join(OUT_DATA, 'features-frequency-drop')\n",
    ")\n",
    "\n",
    "writer.write_npz(\n",
    "\tdata     = drop_features_stability,\n",
    "\tfilename = os.path.join(OUT_DATA, 'features-stability-drop')\n",
    ")"
   ]
  },
  {
   "cell_type": "code",
   "execution_count": 30,
   "id": "90779130-2f8b-4689-af96-12b480b773ef",
   "metadata": {
    "execution": {
     "iopub.execute_input": "2023-05-16T22:33:57.611679Z",
     "iopub.status.busy": "2023-05-16T22:33:57.611679Z",
     "iopub.status.idle": "2023-05-16T22:33:58.619044Z",
     "shell.execute_reply": "2023-05-16T22:33:58.618543Z",
     "shell.execute_reply.started": "2023-05-16T22:33:57.611679Z"
    },
    "tags": []
   },
   "outputs": [],
   "source": [
    "# Save merged features\n",
    "\n",
    "keep_features_base = dict()\n",
    "drop_features_base = dict()\n",
    "\n",
    "for key in keep_features_frequency.keys() :\n",
    "\tfreq = keep_features_frequency[key]\n",
    "\tstab = keep_features_stability[key]\n",
    "\n",
    "\tkeep_features_base[key] = numpy.concatenate((freq, stab), axis = 0)\n",
    "\n",
    "writer.write_npz(\n",
    "\tdata     = keep_features_base,\n",
    "\tfilename = os.path.join(OUT_DATA, 'features-base-keep')\n",
    ")\n",
    "\n",
    "for key in drop_features_frequency.keys() :\n",
    "\tfreq = drop_features_frequency[key]\n",
    "\tstab = drop_features_stability[key]\n",
    "\n",
    "\tdrop_features_base[key] = numpy.concatenate((freq, stab), axis = 0)\n",
    "\n",
    "writer.write_npz(\n",
    "\tdata     = drop_features_base,\n",
    "\tfilename = os.path.join(OUT_DATA, 'features-base-drop')\n",
    ")"
   ]
  },
  {
   "cell_type": "markdown",
   "id": "5d47196e-c7fe-49ea-81e7-91ea86c618b4",
   "metadata": {},
   "source": [
    "## 3.5 Anndata"
   ]
  },
  {
   "cell_type": "code",
   "execution_count": 31,
   "id": "623bd4af-c325-4ab1-829f-da05d31fc6d2",
   "metadata": {
    "execution": {
     "iopub.execute_input": "2023-05-16T22:33:58.619544Z",
     "iopub.status.busy": "2023-05-16T22:33:58.619544Z",
     "iopub.status.idle": "2023-05-16T22:34:08.826507Z",
     "shell.execute_reply": "2023-05-16T22:34:08.826006Z",
     "shell.execute_reply.started": "2023-05-16T22:33:58.619544Z"
    },
    "tags": []
   },
   "outputs": [],
   "source": [
    "# Save the annotated data with multiple layers\n",
    "\n",
    "writer.write_h5ad(\n",
    "\tdata     = anndata[:, list(features.keys())].copy(),\n",
    "\tfilename = os.path.join(OUT_DATA, 'arabidopsis-r36.h5ad')\n",
    ")"
   ]
  }
 ],
 "metadata": {
  "kernelspec": {
   "display_name": "Python 3 (ipykernel)",
   "language": "python",
   "name": "python3"
  },
  "language_info": {
   "codemirror_mode": {
    "name": "ipython",
    "version": 3
   },
   "file_extension": ".py",
   "mimetype": "text/x-python",
   "name": "python",
   "nbconvert_exporter": "python",
   "pygments_lexer": "ipython3",
   "version": "3.10.7"
  }
 },
 "nbformat": 4,
 "nbformat_minor": 5
}
