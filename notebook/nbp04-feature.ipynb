{
 "cells": [
  {
   "cell_type": "code",
   "execution_count": null,
   "id": "f9a99b59-5e38-44ca-a55b-0ffed993e6d3",
   "metadata": {
    "tags": []
   },
   "outputs": [],
   "source": [
    "# Libraries\n",
    "\n",
    "import numpy\n",
    "import os\n",
    "import platform\n",
    "import random\n",
    "import shutil\n",
    "import sys"
   ]
  },
  {
   "cell_type": "code",
   "execution_count": null,
   "id": "3f6f9928-f8dd-4c12-b5b4-176c3321ba48",
   "metadata": {
    "tags": []
   },
   "outputs": [],
   "source": [
    "# Ensure source path\n",
    "\n",
    "ROOT = os.getcwd()\n",
    "\n",
    "while not ROOT.endswith('upolanc-thesis') :\n",
    "\tROOT = os.path.abspath(os.path.join(ROOT, os.pardir))\n",
    "\n",
    "\tif len(ROOT) < len('upolanc-thesis') :\n",
    "\t\tif   platform.system() == 'Linux'   : ROOT = '/d/hpc/projects/FRI/up4472/upolanc-thesis'\n",
    "\t\telif platform.system() == 'Windows' : ROOT = 'C:\\\\Developer\\\\Workspace\\\\PyCharm\\\\Projects\\\\upolanc-thesis'\n",
    "\t\telse : raise ValueError()\n",
    "\n",
    "\t\tprint(f'Warning : could not find correct directory, using default : {ROOT}')\n",
    "\t\tprint()\n",
    "\n",
    "\t\tbreak\n",
    "\n",
    "if ROOT not in sys.path :\n",
    "\tsys.path.append(ROOT)\n",
    "\n",
    "os.chdir(ROOT)"
   ]
  },
  {
   "cell_type": "code",
   "execution_count": null,
   "id": "af2d1a13-8af4-4612-8428-0c6d6d0444fd",
   "metadata": {
    "tags": []
   },
   "outputs": [],
   "source": [
    "# Code\n",
    "\n",
    "from source.python               import runtime\n",
    "from source.python.data.feature  import feature_extractor\n",
    "from source.python.data.mutation import mutation_sequence\n",
    "from source.python.io            import loader\n",
    "from source.python.io            import writer\n",
    "\n",
    "runtime.set_numpy_format()\n",
    "runtime.set_pandas_format()\n",
    "runtime.set_plot_theme()"
   ]
  },
  {
   "cell_type": "markdown",
   "id": "46ebed75-3c90-4dc3-acb5-b9dffb12d5da",
   "metadata": {},
   "source": [
    "# 1. Setup"
   ]
  },
  {
   "cell_type": "code",
   "execution_count": null,
   "id": "41d3dd6d-ed46-4a86-afe8-15f1f1be4895",
   "metadata": {
    "tags": []
   },
   "outputs": [],
   "source": [
    "# Setup some directory paths\n",
    "\n",
    "FILTER_ID = 2\n",
    "SUBFOLDER = 'filter' + str(FILTER_ID)\n",
    "\n",
    "CWD = ROOT\n",
    "OUT = os.path.join(CWD, 'output')\n",
    "RES = os.path.join(CWD, 'resources')\n",
    "\n",
    "OUT_DATA   = os.path.join(OUT, 'nbp04-feature', SUBFOLDER)\n",
    "RES_GENOME = os.path.join(RES, 'genome')\n",
    "RES_NBP01  = os.path.join(OUT, 'nbp01-filter',  SUBFOLDER)\n",
    "RES_NBP02  = os.path.join(OUT, 'nbp02-anndata', SUBFOLDER)\n",
    "\n",
    "shutil.rmtree(OUT_DATA, ignore_errors = True)\n",
    "\n",
    "os.makedirs(OUT_DATA, exist_ok = True)\n",
    "\n",
    "print(f'     Root Directory : {CWD}')\n",
    "print(f'   Output Directory : {OUT_DATA}')\n",
    "print(f' Resource Directory : {RES_GENOME}')\n",
    "print(f' Resource Directory : {RES_NBP01}')\n",
    "print()"
   ]
  },
  {
   "cell_type": "code",
   "execution_count": null,
   "id": "fd6c27b1-4c0a-497f-b961-a73b659797e7",
   "metadata": {
    "tags": []
   },
   "outputs": [],
   "source": [
    "# Load the annotated and cleaned data\n",
    "\n",
    "gene_assembly = loader.load_faidx(\n",
    "\tfilename  = os.path.join(RES_GENOME, 'arabidopsis-r36', 'gene-assembly.fa')\n",
    ")\n",
    "\n",
    "gene_annotation = loader.load_csv(\n",
    "\tfilename   = os.path.join(RES_NBP01, 'gene-annotation.csv'),\n",
    "\tlow_memory = False\n",
    ")\n",
    "\n",
    "anndata = loader.load_h5ad(\n",
    "\tfilename = os.path.join(RES_NBP02, 'arabidopsis-r36.h5ad')\n",
    ")\n",
    "\n",
    "filter_dict = loader.load_json(\n",
    "\tfilename = os.path.join(RES_NBP01, 'filter.json')\n",
    ")"
   ]
  },
  {
   "cell_type": "code",
   "execution_count": null,
   "id": "2c4dbb6a-a18b-4eb5-b6fd-ffe8f7722fe1",
   "metadata": {
    "tags": []
   },
   "outputs": [],
   "source": [
    "# Filtered transcripts\n",
    "\n",
    "keep_transcript = filter_dict['data']['keep_transcript']\n",
    "drop_transcript = filter_dict['data']['drop_transcript']"
   ]
  },
  {
   "cell_type": "code",
   "execution_count": null,
   "id": "646e4086-0192-439f-b154-c819f87dd4ba",
   "metadata": {
    "tags": []
   },
   "outputs": [],
   "source": [
    "# Define the region lengths\n",
    "\n",
    "lengths = {\n",
    "\t'prom_utr5' : [int( 5000), int(  0)],\n",
    "\t'prom_full' : [int( 5000), int(  0)],\n",
    "\t'prom'      :  int( 1000),\n",
    "\t'utr5'      :  int(  300),\n",
    "\t'cds'       :  int(10000),\n",
    "\t'utr3'      :  int(  350),\n",
    "\t'term'      :  int(  500),\n",
    "\t'term_full' : [int(    0), int(500)]\n",
    "}\n",
    "\n",
    "padding = {\n",
    "\t'prom_utr5' : 'left',\n",
    "\t'prom_full' : 'left',\n",
    "\t'prom'      : 'left',\n",
    "\t'utr5'      : 'left',\n",
    "\t'cds'       : 'none',\n",
    "\t'utr3'      : 'left',\n",
    "\t'term'      : 'right',\n",
    "\t'term_full' : 'right'\n",
    "}"
   ]
  },
  {
   "cell_type": "markdown",
   "id": "115d104b-4935-46c3-9868-a7660f8b688c",
   "metadata": {
    "tags": []
   },
   "source": [
    "# 2. Transcript Regions"
   ]
  },
  {
   "cell_type": "code",
   "execution_count": null,
   "id": "8b4b8b12-4f5e-4500-aa48-3a1373fc7a92",
   "metadata": {
    "tags": []
   },
   "outputs": [],
   "source": [
    "# Group annotations into regions\n",
    "\n",
    "regions = feature_extractor.annotation_to_regions(\n",
    "\tannotation = gene_annotation,\n",
    "\tlengths    = lengths\n",
    ")\n",
    "\n",
    "print()\n",
    "print('Gene       : {:5d} / {:5d}'.format(regions['Gene'].nunique(), gene_annotation['Gene'].nunique()))\n",
    "print('Transcript : {:5d} / {:5d}'.format(regions['Transcript'].nunique(), gene_annotation['Transcript'].nunique()))\n",
    "print()"
   ]
  },
  {
   "cell_type": "code",
   "execution_count": null,
   "id": "3d609a17-935c-40bf-80dc-5da18f01a14d",
   "metadata": {
    "tags": []
   },
   "outputs": [],
   "source": [
    "# Define transcription and coding regions sites\n",
    "\n",
    "regions['UTR_Min'] = regions[['Start', 'End']].min(axis = 1)\n",
    "regions['UTR_Max'] = regions[['Start', 'End']].max(axis = 1)\n",
    "\n",
    "regions.drop(columns = ['Start', 'End'])\n",
    "\n",
    "regions['CDS_Min'] = regions['CDS'].apply(lambda x : numpy.min(x) - 1)\n",
    "regions['CDS_Max'] = regions['CDS'].apply(lambda x : numpy.max(x) - 1)"
   ]
  },
  {
   "cell_type": "code",
   "execution_count": null,
   "id": "2575579c-6216-4a1b-8100-6da3a2962e61",
   "metadata": {
    "tags": []
   },
   "outputs": [],
   "source": [
    "# Compute regions for promoter + utr5\n",
    "\n",
    "regions['Prom_UTR5'] = None\n",
    "\n",
    "posx = lambda x : max(x - lengths['prom_utr5'][0] + 0, 1)\n",
    "posy = lambda x : max(x + lengths['prom_utr5'][1] - 1, 1)\n",
    "\n",
    "negx = lambda x : max(x - lengths['prom_utr5'][1] + 1, 1)\n",
    "negy = lambda x : max(x + lengths['prom_utr5'][0] + 0, 1)\n",
    "\n",
    "regions.loc[regions['Strand'] == '+', 'Prom_UTR5'] = regions[regions['Strand'] == '+']['CDS_Min'].apply(lambda x : [[posx(x), posy(x)]])\n",
    "regions.loc[regions['Strand'] == '-', 'Prom_UTR5'] = regions[regions['Strand'] == '-']['CDS_Max'].apply(lambda x : [[negx(x), negy(x)]])\n",
    "\n",
    "regions[['Seq', 'Strand', 'Gene', 'Transcript', 'UTR_Min', 'CDS_Min', 'CDS_Max', 'UTR_Max', 'UTR5_Length', 'CDS_Length', 'UTR3_Length', 'Prom_UTR5']].head()"
   ]
  },
  {
   "cell_type": "markdown",
   "id": "1633d701-8e6b-4a53-92d6-a882b627750d",
   "metadata": {},
   "source": [
    "# 3. Transcript Features"
   ]
  },
  {
   "cell_type": "code",
   "execution_count": null,
   "id": "4b65bf86-8326-41d8-b1ed-c15187240bba",
   "metadata": {
    "tags": []
   },
   "outputs": [],
   "source": [
    "# Convert the regions into sequences and features\n",
    "\n",
    "sequences, features = feature_extractor.regions_to_features(\n",
    "\tfaidx     = gene_assembly,\n",
    "\tdataframe = regions,\n",
    "\tlengths   = lengths,\n",
    "\tverbose   = False\n",
    ")"
   ]
  },
  {
   "cell_type": "code",
   "execution_count": null,
   "id": "35f67d39-fc7b-417a-9cb9-3f30111eef99",
   "metadata": {
    "tags": []
   },
   "outputs": [],
   "source": [
    "# Convert the dataframe into a dictionary for ease of use\n",
    "\n",
    "sequences = sequences.copy()\n",
    "sequences = sequences.set_index('Transcript', drop = False)\n",
    "sequences = sequences.rename_axis(None, axis = 'index')\n",
    "sequences = sequences.to_dict('index')"
   ]
  },
  {
   "cell_type": "code",
   "execution_count": null,
   "id": "bd54bdf8-962c-4f70-89bd-804022fa130c",
   "metadata": {},
   "outputs": [],
   "source": [
    "# Convert the dataframe into a dictionary for ease of use\n",
    "\n",
    "features = features.copy()\n",
    "features = features.set_index('Transcript', drop = False)\n",
    "features = features.rename_axis(None, axis = 'index')\n",
    "features = features.to_dict('index')"
   ]
  },
  {
   "cell_type": "code",
   "execution_count": null,
   "id": "b2e5fb43-7cbe-4519-9602-21bca1e2a080",
   "metadata": {},
   "outputs": [],
   "source": [
    "# Split to keep and drop\n",
    "\n",
    "keep_sequences = {k : v for k, v in sequences.items() if k in keep_transcript}\n",
    "keep_features  = {k : v for k, v in features.items()  if k in keep_transcript}\n",
    "\n",
    "drop_sequences = {k : v for k, v in sequences.items() if k in drop_transcript}\n",
    "drop_features  = {k : v for k, v in features.items()  if k in drop_transcript}"
   ]
  },
  {
   "cell_type": "markdown",
   "id": "c2fcf5e1-bcc2-4e45-a64d-ba6f6aa63f84",
   "metadata": {},
   "source": [
    "## 3.1 Fasta"
   ]
  },
  {
   "cell_type": "code",
   "execution_count": null,
   "id": "2df35250-a75c-4e11-a200-e6cb638bbc25",
   "metadata": {
    "tags": []
   },
   "outputs": [],
   "source": [
    "# Add a header field with more transcript information\n",
    "\n",
    "keep_sequences = feature_extractor.sequences_extend_kvpair(\n",
    "\tsequences = keep_sequences,\n",
    "\tregions   = regions,\n",
    "\theader    = '{} | {} | {}:{}-{} | {}'\n",
    ")\n",
    "\n",
    "drop_sequences = feature_extractor.sequences_extend_kvpair(\n",
    "\tsequences = drop_sequences,\n",
    "\tregions   = regions,\n",
    "\theader    = '{} | {} | {}:{}-{} | {}'\n",
    ")"
   ]
  },
  {
   "cell_type": "code",
   "execution_count": null,
   "id": "2f313440-253f-4977-9d38-11b46acf541a",
   "metadata": {
    "tags": []
   },
   "outputs": [],
   "source": [
    "# Example of a padded strand\n",
    "\n",
    "transcript = list(keep_sequences.keys())[0]\n",
    "\n",
    "feature_extractor.print_extracted_sequence(\n",
    "\ttranscript = transcript,\n",
    "\tsequences  = keep_sequences,\n",
    "\tspace      = True\n",
    ")"
   ]
  },
  {
   "cell_type": "code",
   "execution_count": null,
   "id": "83d09452-4c1e-4484-bfba-c1100c1393f2",
   "metadata": {
    "tags": []
   },
   "outputs": [],
   "source": [
    "# Example of a padded strand\n",
    "\n",
    "transcript = list(drop_sequences.keys())[0]\n",
    "\n",
    "feature_extractor.print_extracted_sequence(\n",
    "\ttranscript = transcript,\n",
    "\tsequences  = drop_sequences,\n",
    "\tspace      = True\n",
    ")"
   ]
  },
  {
   "cell_type": "code",
   "execution_count": null,
   "id": "b554fd5b-908b-4b92-b0b6-e0e4e82d4152",
   "metadata": {
    "tags": []
   },
   "outputs": [],
   "source": [
    "# Save the transcript region sequences\n",
    "\n",
    "tuples = [\n",
    "\t('Prom_UTR5', 'promoter-utr5'),\n",
    "\t('Prom_Full', 'promoter-full'),\n",
    "\t('Prom',      'promoter'),\n",
    "\t('UTR5',      'utr5'),\n",
    "\t('CDS',       'cds'),\n",
    "\t('UTR3',      'utr3'),\n",
    "\t('Term',      'terminator'),\n",
    "\t('Term_Full', 'terminator-full')\n",
    "]\n",
    "\n",
    "for region, filename in tuples :\n",
    "\tdata = {\n",
    "\t\titem[region]['key'] : item[region]['seq']\n",
    "\t\tfor item in keep_sequences.values()\n",
    "\t}\n",
    "\n",
    "\tdata = feature_extractor.pad_multiple(\n",
    "\t\tsequences = data,\n",
    "\t\tlength    = lengths[region.lower()],\n",
    "\t\tside      = padding[region.lower()],\n",
    "\t\tpad_value = None\n",
    "\t)\n",
    "\n",
    "\twriter.write_fasta(\n",
    "\t\tdata     = data,\n",
    "\t\tfilename = os.path.join(OUT_DATA, f'sequences-{filename}-keep.fasta')\n",
    "\t)\n",
    "\n",
    "for region, filename in tuples :\n",
    "\tdata = {\n",
    "\t\titem[region]['key'] : item[region]['seq']\n",
    "\t\tfor item in drop_sequences.values()\n",
    "\t}\n",
    "\n",
    "\tdata = feature_extractor.pad_multiple(\n",
    "\t\tsequences = data,\n",
    "\t\tlength    = lengths[region.lower()],\n",
    "\t\tside      = padding[region.lower()],\n",
    "\t\tpad_value = None\n",
    "\t)\n",
    "\n",
    "\twriter.write_fasta(\n",
    "\t\tdata      = data,\n",
    "\t\tfilename = os.path.join(OUT_DATA, f'sequences-{filename}-drop.fasta')\n",
    "\t)"
   ]
  },
  {
   "cell_type": "markdown",
   "id": "5e4b0715-27b0-428b-be6b-9bea2be77368",
   "metadata": {},
   "source": [
    "## 3.2 Sequences"
   ]
  },
  {
   "cell_type": "code",
   "execution_count": null,
   "id": "c9e2a11f-a5ed-4f91-bc6a-86fba8fb6b3f",
   "metadata": {
    "tags": []
   },
   "outputs": [],
   "source": [
    "# Merge transcript regions and pad accordingly\n",
    "\n",
    "keep_2150, keep_6150 = feature_extractor.merge_and_pad_sequences(\n",
    "\tsequences = keep_sequences,\n",
    "\tlengths   = lengths,\n",
    "\tpadding   = padding\n",
    ")\n",
    "\n",
    "drop_2150, drop_6150 = feature_extractor.merge_and_pad_sequences(\n",
    "\tsequences = drop_sequences,\n",
    "\tlengths   = lengths,\n",
    "\tpadding   = padding\n",
    ")"
   ]
  },
  {
   "cell_type": "code",
   "execution_count": null,
   "id": "0a0fb323-d623-4411-948e-80a0721afbba",
   "metadata": {
    "tags": []
   },
   "outputs": [],
   "source": [
    "# Display an example of a merged transcript sequence\n",
    "\n",
    "transcript = list(keep_2150.keys())[0].split(' | ')[0]\n",
    "\n",
    "feature_extractor.print_padded_sequence(\n",
    "\ttranscript = transcript,\n",
    "\tsequences  = keep_2150,\n",
    "\tspace      = True\n",
    ")"
   ]
  },
  {
   "cell_type": "code",
   "execution_count": null,
   "id": "af2bcb3e-e968-4b5a-885b-fdf4cc5875ac",
   "metadata": {
    "tags": []
   },
   "outputs": [],
   "source": [
    "# Display an example of a merged transcript sequence\n",
    "\n",
    "transcript = list(keep_6150.keys())[0].split(' | ')[0]\n",
    "\n",
    "feature_extractor.print_padded_sequence(\n",
    "\ttranscript = transcript,\n",
    "\tsequences  = keep_6150,\n",
    "\tspace      = True\n",
    ")"
   ]
  },
  {
   "cell_type": "code",
   "execution_count": null,
   "id": "23489337-1d89-4929-bc89-f7d87567effd",
   "metadata": {
    "tags": []
   },
   "outputs": [],
   "source": [
    "# Save the transcript sequences\n",
    "\n",
    "writer.write_fasta(\n",
    "\tdata     = keep_2150,\n",
    "\tfilename = os.path.join(OUT_DATA, f'sequences-2150-keep.fasta')\n",
    ")\n",
    "\n",
    "writer.write_fasta(\n",
    "\tdata     = drop_2150,\n",
    "\tfilename = os.path.join(OUT_DATA, f'sequences-2150-drop.fasta')\n",
    ")\n",
    "\n",
    "writer.write_fasta(\n",
    "\tdata     = keep_6150,\n",
    "\tfilename = os.path.join(OUT_DATA, f'sequences-6150-keep.fasta')\n",
    ")\n",
    "\n",
    "writer.write_fasta(\n",
    "\tdata     = drop_6150,\n",
    "\tfilename = os.path.join(OUT_DATA, f'sequences-6150-drop.fasta')\n",
    ")"
   ]
  },
  {
   "cell_type": "markdown",
   "id": "5cbb845a-e1ff-46cb-b3bc-a9274d12d0b5",
   "metadata": {},
   "source": [
    "## 3.3 Mutations"
   ]
  },
  {
   "cell_type": "code",
   "execution_count": null,
   "id": "4cd8b064-ed29-459d-8e52-5de3ce6e9ab2",
   "metadata": {
    "tags": []
   },
   "outputs": [],
   "source": [
    "# Select random transcripts to mutate\n",
    "\n",
    "mutation_transcripts = random.choices(list(keep_sequences.keys()), k = 25)\n",
    "mutation_transcripts = {key : value for key, value in keep_sequences.items() if key in mutation_transcripts}"
   ]
  },
  {
   "cell_type": "code",
   "execution_count": null,
   "id": "e2e5ca72-01a3-475a-8045-f848ccc3c810",
   "metadata": {
    "tags": []
   },
   "outputs": [],
   "source": [
    "# Mutate transcripts multiple times\n",
    "\n",
    "rates = [\n",
    "\t0.01,\n",
    "\t0.05,\n",
    "\t0.10,\n",
    "\t0.15,\n",
    "\t0.25\n",
    "]\n",
    "\n",
    "params = {\n",
    "\t'mutation_rate'     : 0.1,\n",
    "\t'insertion_rate'    : 0.0,\n",
    "\t'deletion_rate'     : 0.0,\n",
    "\t'substitution_rate' : 1.0,\n",
    "\t'max_length'        : 6\n",
    "}\n",
    "\n",
    "result = mutation_sequence.generate_multi(\n",
    "\tsequences = mutation_transcripts,\n",
    "\tvariants  = 20,\n",
    "\tmethod    = 'random',\n",
    "\trates     = rates,\n",
    "\tparams    = params,\n",
    "\tverbose   = False\n",
    ")\n",
    "\n",
    "mutation_sequences = result[0]\n",
    "mutation_features  = result[1]"
   ]
  },
  {
   "cell_type": "code",
   "execution_count": null,
   "id": "e28d6bdb-1402-47b1-acaa-ceb8d494c8cc",
   "metadata": {},
   "outputs": [],
   "source": [
    "# Merge mutation transcript regions and pad accordingly\n",
    "\n",
    "mutation_2150, mutation_6150 = feature_extractor.merge_and_pad_sequences(\n",
    "\tsequences = mutation_sequences,\n",
    "\tlengths   = lengths,\n",
    "\tpadding   = padding\n",
    ")"
   ]
  },
  {
   "cell_type": "code",
   "execution_count": null,
   "id": "16fb3099-a09c-4251-8d14-fbea951e734f",
   "metadata": {
    "tags": []
   },
   "outputs": [],
   "source": [
    "# Compute similiarity betwen orginal and mutated transcript sequences\n",
    "\n",
    "data_2150 = dict()\n",
    "data_6150 = dict()\n",
    "\n",
    "for key, value in mutation_2150.items() :\n",
    "\tsplits = key.split(' | ')\n",
    "\n",
    "\torgkey = splits[0].split('-')[0]\n",
    "\torgkey = orgkey + ' | ' + ' | '.join(splits[1:])\n",
    "\n",
    "\torgseq = keep_2150[orgkey]\n",
    "\n",
    "\tmatch = sum([1 if x == y else 0 for x, y in zip(orgseq, value)])\n",
    "\tmatch = match / len(orgseq)\n",
    "\n",
    "\tdata_2150['{} | {:.5f}'.format(key, match)] = value\n",
    "\n",
    "for key, value in mutation_6150.items() :\n",
    "\tsplits = key.split(' | ')\n",
    "\n",
    "\torgkey = splits[0].split('-')[0]\n",
    "\torgkey = orgkey + ' | ' + ' | '.join(splits[1:])\n",
    "\n",
    "\torgseq = keep_6150[orgkey]\n",
    "\n",
    "\tmatch = sum([1 if x == y else 0 for x, y in zip(orgseq, value)])\n",
    "\tmatch = match / len(orgseq)\n",
    "\n",
    "\tdata_6150['{} | {:.5f}'.format(key, match)] = value\n",
    "\n",
    "mutation_2150 = data_2150\n",
    "mutation_6150 = data_6150"
   ]
  },
  {
   "cell_type": "code",
   "execution_count": null,
   "id": "53ce6e73-819e-4363-817b-7b984272f87f",
   "metadata": {
    "tags": []
   },
   "outputs": [],
   "source": [
    "# Save the transcript region sequences\n",
    "\n",
    "tuples = [\n",
    "\t('Prom_UTR5', 'promoter-utr5'),\n",
    "\t('Prom_Full', 'promoter-full'),\n",
    "\t('Prom',      'promoter'),\n",
    "\t('UTR5',      'utr5'),\n",
    "\t('CDS',       'cds'),\n",
    "\t('UTR3',      'utr3'),\n",
    "\t('Term',      'terminator'),\n",
    "\t('Term_Full', 'terminator-full')\n",
    "]\n",
    "\n",
    "createkey = lambda x, y : x + ' | ' + ' | '.join(y['key'].split(' | ')[1:])\n",
    "\n",
    "for region, filename in tuples :\n",
    "\tdata = {\n",
    "\t\tcreatekey(key, item[region]) : item[region]['seq']\n",
    "\t\tfor key, item in mutation_sequences.items()\n",
    "\t}\n",
    "\n",
    "\tdata = feature_extractor.pad_multiple(\n",
    "\t\tsequences = data,\n",
    "\t\tlength    = lengths[region.lower()],\n",
    "\t\tside      = padding[region.lower()],\n",
    "\t\tpad_value = None\n",
    "\t)\n",
    "\n",
    "\twriter.write_fasta(\n",
    "\t\tdata     = data,\n",
    "\t\tfilename = os.path.join(OUT_DATA, f'mutation-sequences-{filename}.fasta')\n",
    "\t)"
   ]
  },
  {
   "cell_type": "code",
   "execution_count": null,
   "id": "26c40ebe-8e41-46e6-b4f7-c09a703baeb5",
   "metadata": {
    "tags": []
   },
   "outputs": [],
   "source": [
    "# Save the mutation transcript sequences\n",
    "\n",
    "writer.write_fasta(\n",
    "\tdata     = mutation_2150,\n",
    "\tfilename = os.path.join(OUT_DATA, f'mutation-sequences-2150.fasta')\n",
    ")\n",
    "\n",
    "writer.write_fasta(\n",
    "\tdata     = mutation_6150,\n",
    "\tfilename = os.path.join(OUT_DATA, f'mutation-sequences-6150.fasta')\n",
    ")"
   ]
  },
  {
   "cell_type": "code",
   "execution_count": null,
   "id": "3d9245eb-fa80-45d1-b8e3-a0995a069ad3",
   "metadata": {
    "tags": []
   },
   "outputs": [],
   "source": [
    "# Extract mutation features\n",
    "\n",
    "mutation_features_frequency = {\n",
    "\tkey : numpy.array(value['Frequency'])\n",
    "\tfor key, value in mutation_features.items()\n",
    "}\n",
    "\n",
    "mutation_features_stability = {\n",
    "\tkey : numpy.array(value['Stability'])\n",
    "\tfor key, value in mutation_features.items()\n",
    "}"
   ]
  },
  {
   "cell_type": "code",
   "execution_count": null,
   "id": "99145fcf-78d9-4683-b9e7-4e31a9d10d21",
   "metadata": {},
   "outputs": [],
   "source": [
    "# Save the mutation features\n",
    "\n",
    "writer.write_npz(\n",
    "\tdata     = mutation_features_frequency,\n",
    "\tfilename = os.path.join(OUT_DATA, 'mutation-features-frequency')\n",
    ")\n",
    "\n",
    "writer.write_npz(\n",
    "\tdata     = mutation_features_stability,\n",
    "\tfilename = os.path.join(OUT_DATA, 'mutation-features-stability')\n",
    ")"
   ]
  },
  {
   "cell_type": "code",
   "execution_count": null,
   "id": "77ddd800-136a-408a-a8d9-86202c858886",
   "metadata": {
    "tags": []
   },
   "outputs": [],
   "source": [
    "# Save merged features\n",
    "\n",
    "mutation_features_base = dict()\n",
    "\n",
    "for key in mutation_features_frequency.keys() :\n",
    "\tfreq = mutation_features_frequency[key]\n",
    "\tstab = mutation_features_stability[key]\n",
    "\n",
    "\tmutation_features_base[key] = numpy.concatenate((freq, stab), axis = 0)\n",
    "\n",
    "writer.write_npz(\n",
    "\tdata     = mutation_features_base,\n",
    "\tfilename = os.path.join(OUT_DATA, 'mutation-features-base')\n",
    ")"
   ]
  },
  {
   "cell_type": "markdown",
   "id": "803fb8fa-aa16-4ea1-8697-122abf9578ec",
   "metadata": {},
   "source": [
    "## 3.4 Features"
   ]
  },
  {
   "cell_type": "code",
   "execution_count": null,
   "id": "733732a1-bec0-4d30-b751-cdf8c2eaebbf",
   "metadata": {
    "tags": []
   },
   "outputs": [],
   "source": [
    "# Extract features\n",
    "\n",
    "keep_features_frequency = {\n",
    "\tkey : numpy.array(value['Frequency'])\n",
    "\tfor key, value in keep_features.items()\n",
    "}\n",
    "\n",
    "keep_features_stability = {\n",
    "\tkey : numpy.array(value['Stability'])\n",
    "\tfor key, value in keep_features.items()\n",
    "}\n",
    "\n",
    "drop_features_frequency = {\n",
    "\tkey : numpy.array(value['Frequency'])\n",
    "\tfor key, value in drop_features.items()\n",
    "}\n",
    "\n",
    "drop_features_stability = {\n",
    "\tkey : numpy.array(value['Stability'])\n",
    "\tfor key, value in drop_features.items()\n",
    "}"
   ]
  },
  {
   "cell_type": "code",
   "execution_count": null,
   "id": "26ba9574-a637-4a33-819f-4324df70c775",
   "metadata": {
    "tags": []
   },
   "outputs": [],
   "source": [
    "# Save the features\n",
    "\n",
    "writer.write_npz(\n",
    "\tdata     = keep_features_frequency,\n",
    "\tfilename = os.path.join(OUT_DATA, 'features-frequency-keep')\n",
    ")\n",
    "\n",
    "writer.write_npz(\n",
    "\tdata     = keep_features_stability,\n",
    "\tfilename = os.path.join(OUT_DATA, 'features-stability-keep')\n",
    ")\n",
    "\n",
    "writer.write_npz(\n",
    "\tdata     = drop_features_frequency,\n",
    "\tfilename = os.path.join(OUT_DATA, 'features-frequency-drop')\n",
    ")\n",
    "\n",
    "writer.write_npz(\n",
    "\tdata     = drop_features_stability,\n",
    "\tfilename = os.path.join(OUT_DATA, 'features-stability-drop')\n",
    ")"
   ]
  },
  {
   "cell_type": "code",
   "execution_count": null,
   "id": "90779130-2f8b-4689-af96-12b480b773ef",
   "metadata": {
    "tags": []
   },
   "outputs": [],
   "source": [
    "# Save merged features\n",
    "\n",
    "keep_features_base = dict()\n",
    "drop_features_base = dict()\n",
    "\n",
    "for key in keep_features_frequency.keys() :\n",
    "\tfreq = keep_features_frequency[key]\n",
    "\tstab = keep_features_stability[key]\n",
    "\n",
    "\tkeep_features_base[key] = numpy.concatenate((freq, stab), axis = 0)\n",
    "\n",
    "writer.write_npz(\n",
    "\tdata     = keep_features_base,\n",
    "\tfilename = os.path.join(OUT_DATA, 'features-base-keep')\n",
    ")\n",
    "\n",
    "for key in drop_features_frequency.keys() :\n",
    "\tfreq = drop_features_frequency[key]\n",
    "\tstab = drop_features_stability[key]\n",
    "\n",
    "\tdrop_features_base[key] = numpy.concatenate((freq, stab), axis = 0)\n",
    "\n",
    "writer.write_npz(\n",
    "\tdata     = drop_features_base,\n",
    "\tfilename = os.path.join(OUT_DATA, 'features-base-drop')\n",
    ")"
   ]
  },
  {
   "cell_type": "markdown",
   "id": "5d47196e-c7fe-49ea-81e7-91ea86c618b4",
   "metadata": {},
   "source": [
    "## 3.5 Anndata"
   ]
  },
  {
   "cell_type": "code",
   "execution_count": null,
   "id": "623bd4af-c325-4ab1-829f-da05d31fc6d2",
   "metadata": {
    "tags": []
   },
   "outputs": [],
   "source": [
    "# Save the annotated data with multiple layers\n",
    "\n",
    "writer.write_h5ad(\n",
    "\tdata     = anndata[:, list(features.keys())].copy(),\n",
    "\tfilename = os.path.join(OUT_DATA, 'arabidopsis-r36.h5ad')\n",
    ")"
   ]
  }
 ],
 "metadata": {
  "kernelspec": {
   "display_name": "Python 3 (ipykernel)",
   "language": "python",
   "name": "python3"
  },
  "language_info": {
   "codemirror_mode": {
    "name": "ipython",
    "version": 3
   },
   "file_extension": ".py",
   "mimetype": "text/x-python",
   "name": "python",
   "nbconvert_exporter": "python",
   "pygments_lexer": "ipython3",
   "version": "3.10.7"
  }
 },
 "nbformat": 4,
 "nbformat_minor": 5
}
