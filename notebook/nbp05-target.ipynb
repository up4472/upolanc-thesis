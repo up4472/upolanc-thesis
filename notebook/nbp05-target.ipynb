{
 "cells": [
  {
   "cell_type": "code",
   "execution_count": null,
   "id": "4e55292e-62cc-4979-b158-908a3bd6a719",
   "metadata": {
    "tags": []
   },
   "outputs": [],
   "source": [
    "# Libraries\n",
    "\n",
    "import itertools\n",
    "import numpy\n",
    "import os\n",
    "import platform\n",
    "import shutil\n",
    "import sys\n",
    "import warnings"
   ]
  },
  {
   "cell_type": "code",
   "execution_count": null,
   "id": "b59de269-054e-4d4e-8add-64aeee335b84",
   "metadata": {
    "tags": []
   },
   "outputs": [],
   "source": [
    "# Ensure source path\n",
    "\n",
    "ROOT = os.getcwd()\n",
    "\n",
    "while not ROOT.endswith('upolanc-thesis') :\n",
    "\tROOT = os.path.abspath(os.path.join(ROOT, os.pardir))\n",
    "\n",
    "\tif len(ROOT) < len('upolanc-thesis') :\n",
    "\t\tif   platform.system() == 'Linux'   : ROOT = '/d/hpc/projects/FRI/up4472/upolanc-thesis'\n",
    "\t\telif platform.system() == 'Windows' : ROOT = 'C:\\\\Developer\\\\Workspace\\\\PyCharm\\\\Projects\\\\upolanc-thesis'\n",
    "\t\telse : raise ValueError()\n",
    "\n",
    "\t\tprint(f'Warning : could not find correct directory, using default : {ROOT}')\n",
    "\t\tprint()\n",
    "\n",
    "\t\tbreak\n",
    "\n",
    "if ROOT not in sys.path :\n",
    "\tsys.path.append(ROOT)\n",
    "\n",
    "os.chdir(ROOT)"
   ]
  },
  {
   "cell_type": "code",
   "execution_count": null,
   "id": "b879f042-0f1b-48ff-8fb5-e09f3a019ebb",
   "metadata": {
    "tags": []
   },
   "outputs": [],
   "source": [
    "# Code\n",
    "\n",
    "from source.python              import runtime\n",
    "from source.python.bert         import bert_data\n",
    "from source.python.data.feature import feature_target\n",
    "from source.python.dataset      import dataset_split\n",
    "from source.python.io           import loader\n",
    "from source.python.io           import writer\n",
    "\n",
    "runtime.set_numpy_format()\n",
    "runtime.set_pandas_format()\n",
    "runtime.set_plot_theme()"
   ]
  },
  {
   "cell_type": "markdown",
   "id": "2d02e753-60a7-4f3e-acef-9c21123a81b0",
   "metadata": {},
   "source": [
    "# 1. Setup"
   ]
  },
  {
   "cell_type": "code",
   "execution_count": null,
   "id": "33132006-b328-46b2-b939-0349b165d0c8",
   "metadata": {
    "tags": []
   },
   "outputs": [],
   "source": [
    "# Setup some directory paths\n",
    "\n",
    "FILTER_ID = 2\n",
    "SUBFOLDER = 'filter' + str(FILTER_ID)\n",
    "\n",
    "CWD = ROOT\n",
    "OUT = os.path.join(CWD, 'output')\n",
    "RES = os.path.join(CWD, 'resources')\n",
    "\n",
    "OUT_DATA  = os.path.join(OUT,      'nbp05-target',  SUBFOLDER)\n",
    "OUT_PLOT  = os.path.join(OUT_DATA, 'plot')\n",
    "RES_NBP01 = os.path.join(OUT,      'nbp01-filter',  SUBFOLDER)\n",
    "RES_NBP02 = os.path.join(OUT,      'nbp02-anndata', SUBFOLDER)\n",
    "RES_NBP04 = os.path.join(OUT,      'nbp04-feature', SUBFOLDER)\n",
    "\n",
    "shutil.rmtree(OUT_DATA, ignore_errors = True)\n",
    "\n",
    "os.makedirs(OUT_DATA, exist_ok = True)\n",
    "os.makedirs(OUT_PLOT, exist_ok = True)\n",
    "\n",
    "print(f'     Root Directory : {CWD}')\n",
    "print(f'   Output Directory : {OUT_DATA}')\n",
    "print(f'   Output Directory : {OUT_PLOT}')\n",
    "print(f' Resource Directory : {RES_NBP01}')\n",
    "print(f' Resource Directory : {RES_NBP02}')\n",
    "print(f' Resource Directory : {RES_NBP04}')\n",
    "print()"
   ]
  },
  {
   "cell_type": "code",
   "execution_count": null,
   "id": "ba519da6-7a9f-4e60-99a7-404862292d3d",
   "metadata": {
    "tags": []
   },
   "outputs": [],
   "source": [
    "# Load the annotated and cleaned data\n",
    "\n",
    "anndata = loader.load_h5ad(\n",
    "\tfilename = os.path.join(RES_NBP04, 'arabidopsis-r36.h5ad')\n",
    ")\n",
    "\n",
    "sequence_prom_utr5_keep = loader.load_fasta(\n",
    "\tfilename  = os.path.join(RES_NBP04, 'sequences-promoter-utr5-keep.fasta'),\n",
    "\tto_string = True\n",
    ")\n",
    "\n",
    "sequence_prom_utr5_drop = loader.load_fasta(\n",
    "\tfilename  = os.path.join(RES_NBP04, 'sequences-promoter-utr5-drop.fasta'),\n",
    "\tto_string = True\n",
    ")\n",
    "\n",
    "sequence_prom_keep = loader.load_fasta(\n",
    "\tfilename  = os.path.join(RES_NBP04, 'sequences-promoter-full-keep.fasta'),\n",
    "\tto_string = True\n",
    ")\n",
    "\n",
    "sequence_prom_drop = loader.load_fasta(\n",
    "\tfilename  = os.path.join(RES_NBP04, 'sequences-promoter-full-drop.fasta'),\n",
    "\tto_string = True\n",
    ")\n",
    "\n",
    "sequence_2150_keep = loader.load_fasta(\n",
    "\tfilename  = os.path.join(RES_NBP04, 'sequences-2150-keep.fasta'),\n",
    "\tto_string = True\n",
    ")\n",
    "\n",
    "sequence_2150_drop = loader.load_fasta(\n",
    "\tfilename  = os.path.join(RES_NBP04, 'sequences-2150-drop.fasta'),\n",
    "\tto_string = True\n",
    ")\n",
    "\n",
    "feature_base_keep = loader.load_npz(\n",
    "\tfilename = os.path.join(RES_NBP04, 'features-base-keep.npz')\n",
    ")\n",
    "\n",
    "feature_base_drop = loader.load_npz(\n",
    "\tfilename = os.path.join(RES_NBP04, 'features-base-drop.npz')\n",
    ")\n",
    "\n",
    "filter_dict = loader.load_json(\n",
    "\tfilename = os.path.join(RES_NBP01, 'filter.json')\n",
    ")"
   ]
  },
  {
   "cell_type": "code",
   "execution_count": null,
   "id": "b6be01e2-2ba8-417b-9b53-7bdaa38a1da9",
   "metadata": {
    "tags": []
   },
   "outputs": [],
   "source": [
    "# Filtered transcripts\n",
    "\n",
    "keep_transcript = filter_dict['data']['keep_transcript']\n",
    "drop_transcript = filter_dict['data']['drop_transcript']"
   ]
  },
  {
   "cell_type": "code",
   "execution_count": null,
   "id": "724f3e21-28e0-4a6c-a183-15652e25aa4e",
   "metadata": {
    "tags": []
   },
   "outputs": [],
   "source": [
    "# Load anndata information\n",
    "\n",
    "mapping_layer   = loader.load_json(filename = os.path.join(RES_NBP02, 'layer-mapping.json'))\n",
    "factor_boxcox   = loader.load_json(filename = os.path.join(RES_NBP02, 'factors-boxcox.json'))\n",
    "factor_normal   = loader.load_json(filename = os.path.join(RES_NBP02, 'factors-normal.json'))\n",
    "factor_standard = loader.load_json(filename = os.path.join(RES_NBP02, 'factors-standard.json'))"
   ]
  },
  {
   "cell_type": "code",
   "execution_count": null,
   "id": "7d21cf8e-a007-4cff-8aec-6804d6d24f71",
   "metadata": {
    "tags": []
   },
   "outputs": [],
   "source": [
    "# Constants\n",
    "\n",
    "GENERATE_BERT_TRANSCRIPT_2150    = True\n",
    "GENERATE_BERT_PROMOTER_512       = True\n",
    "GENERATE_BERT_PROMOTER_4096      = True\n",
    "GENERATE_BERT_PROMOTER_UTR5_4096 = True\n",
    "\n",
    "TARGET_LAYER   = 'boxcox1p'\n",
    "OUTLIER_FILTER = 'zscore'\n",
    "\n",
    "OUTLIER_PARAMS = {\n",
    "\t'factor-zscore' : 3.0,\n",
    "\t'factor-iqr'    : 1.5\n",
    "}\n",
    "\n",
    "KMERS       = [3, 4, 5, 6]\n",
    "RANDOM_SEED = runtime.lock_random(\n",
    "\tseed     = None,\n",
    "\tgenerate = True\n",
    ")\n",
    "\n",
    "print('Random Seed : {}'.format(RANDOM_SEED))\n",
    "print()"
   ]
  },
  {
   "cell_type": "markdown",
   "id": "43444c92-1609-4afd-b02a-f89c314ea1ae",
   "metadata": {
    "tags": []
   },
   "source": [
    "# 2. Regression"
   ]
  },
  {
   "cell_type": "markdown",
   "id": "dd62b476-304a-4e59-9e8b-d732bf108e29",
   "metadata": {},
   "source": [
    "## 2.1 Extraction"
   ]
  },
  {
   "cell_type": "code",
   "execution_count": null,
   "id": "b4ed08cc-d449-4c80-a3e5-07d8607b8796",
   "metadata": {
    "tags": []
   },
   "outputs": [],
   "source": [
    "# Extract the transcript tpm values\n",
    "\n",
    "with warnings.catch_warnings() :\n",
    "\twarnings.simplefilter('ignore')\n",
    "\n",
    "\tvalues, order = feature_target.extract_tpm_multi(\n",
    "\t\tdata      = anndata,\n",
    "\t\tlayer     = TARGET_LAYER,\n",
    "\t\tverbose   = True,\n",
    "\t\tgroups    = ['Tissue'],\n",
    "\t\tfunctions = [\n",
    "\t\t\t('mean', lambda x, axis : numpy.nanmean(x, axis = axis))\n",
    "\t\t],\n",
    "\t\toutlier_filter = OUTLIER_FILTER,\n",
    "\t\toutlier_params = OUTLIER_PARAMS\n",
    "\t)"
   ]
  },
  {
   "cell_type": "code",
   "execution_count": null,
   "id": "458ad545-3016-4989-9462-7633cbeba45c",
   "metadata": {},
   "outputs": [],
   "source": [
    "raise ValueError()"
   ]
  },
  {
   "cell_type": "code",
   "execution_count": null,
   "id": "f61b8353-d293-4ec6-9dc0-e15a9e3fd0ea",
   "metadata": {
    "tags": []
   },
   "outputs": [],
   "source": [
    "# Extend to include global mean per transcript\n",
    "\n",
    "if TARGET_LAYER is None :\n",
    "\tmatrix = anndata.X\n",
    "else :\n",
    "\tmatrix = anndata.layers[TARGET_LAYER]\n",
    "\n",
    "for index, transcript in enumerate(anndata.var.index) :\n",
    "\tvalues[transcript]['global-mean'] = [numpy.nanmean(matrix[:, index])]\n",
    "\tvalues[transcript]['global-max']  = [numpy.nanmax (matrix[:, index])]\n",
    "\n",
    "order['global'] = ['global']"
   ]
  },
  {
   "cell_type": "code",
   "execution_count": null,
   "id": "cb6d87ce-1cef-4c2b-af9e-0e49d81629f8",
   "metadata": {},
   "outputs": [],
   "source": [
    "# Define what values to filter out (none means keep all)\n",
    "\n",
    "filters = {\n",
    "\t'tissue'       : None,\n",
    "\t'age'          : None,\n",
    "\t'group'        : ['mature_leaf', 'mature_flower', 'mature_root', 'mature_seed', 'young_seedling'],\n",
    "\t'perturbation' : None\n",
    "}\n",
    "\n",
    "for key, keep in filters.items() :\n",
    "\tif keep is None :\n",
    "\t\tcontinue\n",
    "\n",
    "\tkeep  = [x for x in keep if x in order[key]]\n",
    "\tindex = [order[key].index(x) for x in keep]\n",
    "\n",
    "\torder[key] = keep\n",
    "\n",
    "\tfor transcript in values.keys() :\n",
    "\t\tfor group, array in values[transcript].items() :\n",
    "\t\t\tif not group.startswith(key.lower()) :\n",
    "\t\t\t\tcontinue\n",
    "\n",
    "\t\t\tvalues[transcript][group] = [array[x] for x in index]"
   ]
  },
  {
   "cell_type": "code",
   "execution_count": null,
   "id": "2929fce4-15f5-471e-aa3f-687603797b03",
   "metadata": {
    "tags": []
   },
   "outputs": [],
   "source": [
    "# Display an example of the transcript tpm values\n",
    "\n",
    "gene = anndata.var.index.to_list()[0]\n",
    "\n",
    "for index, (key, value) in enumerate(values[gene].items()) :\n",
    "\tprint(f'{key:17s} : [{len(value):2d}] ' + ' '.join('{:7.5f}'.format(x) for x in value))"
   ]
  },
  {
   "cell_type": "code",
   "execution_count": null,
   "id": "74b57c8b-e4de-4245-90cc-a8f9f0c0f39e",
   "metadata": {},
   "outputs": [],
   "source": [
    "# Split into keep and drop\n",
    "\n",
    "values_keep = {k : v for k, v in values.items() if k in keep_transcript}\n",
    "values_drop = {k : v for k, v in values.items() if k in drop_transcript}\n",
    "\n",
    "print(' Keep : {:5d}'.format(len(values_keep)))\n",
    "print(' Drop : {:5d}'.format(len(values_drop)))\n",
    "print('Total : {:5d} / {:5d}'.format(len(values_drop) + len(values_keep), len(values)))\n",
    "print()"
   ]
  },
  {
   "cell_type": "code",
   "execution_count": null,
   "id": "db1a2a70-eea8-4f5d-a52a-43ee6026d6b7",
   "metadata": {
    "tags": []
   },
   "outputs": [],
   "source": [
    "# Safety checks for nans\n",
    "\n",
    "for t0, t1 in itertools.product(['tissue', 'age', 'group', 'perturbation', 'global'], ['mean', 'max']) :\n",
    "\tt = '{}-{}'.format(t0, t1)\n",
    "\n",
    "\tfor k, v in values_keep.items() :\n",
    "\t\tif numpy.isnan(v[t]).any() :\n",
    "\t\t\tprint('{} {:30s} {}'.format(k, t, v[t]))\n",
    "\n",
    "print()"
   ]
  },
  {
   "cell_type": "markdown",
   "id": "111cc7a6-8227-4fc2-8f50-27a2b0d8c473",
   "metadata": {},
   "source": [
    "## 2.2 Distribution"
   ]
  },
  {
   "cell_type": "code",
   "execution_count": null,
   "id": "ec94c645-bc01-4b89-ae40-6387640ada29",
   "metadata": {},
   "outputs": [],
   "source": [
    "# Compute distributions\n",
    "\n",
    "distribution_keep = feature_target.distribution_group(\n",
    "\tdata   = values_keep,\n",
    "\torder  = order,\n",
    "\tselect = 'mean',\n",
    "\tgenes  = list(values_keep.keys())\n",
    ")\n",
    "\n",
    "distribution_drop = feature_target.distribution_group(\n",
    "\tdata   = values_drop,\n",
    "\torder  = order,\n",
    "\tselect = 'mean',\n",
    "\tgenes  = list(values_drop.keys())\n",
    ")"
   ]
  },
  {
   "cell_type": "code",
   "execution_count": null,
   "id": "a25cd3c6-68d0-4a23-8569-4ba9cc32d346",
   "metadata": {
    "tags": []
   },
   "outputs": [],
   "source": [
    "# Display both keep and drop datasets\n",
    "\n",
    "feature_target.distribution_histplot(\n",
    "\tdata     = [distribution_keep, distribution_drop],\n",
    "\tnames    = ['keep', 'drop'],\n",
    "\tgroupby  = 'global',\n",
    "\tdiscrete = False,\n",
    "\ttitle    = False,\n",
    "\tfilename = os.path.join(OUT_PLOT, 'distribution-value-{}-mean'.format('global'))\n",
    ")"
   ]
  },
  {
   "cell_type": "code",
   "execution_count": null,
   "id": "b0a756b9-86e2-4b47-8fff-272ceb7bb4ee",
   "metadata": {},
   "outputs": [],
   "source": [
    "# Display both keep and drop datasets\n",
    "\n",
    "feature_target.distribution_histplot(\n",
    "\tdata     = [distribution_keep, distribution_drop],\n",
    "\tnames    = ['keep', 'drop'],\n",
    "\tgroupby  = 'tissue',\n",
    "\tdiscrete = False,\n",
    "\ttitle    = False,\n",
    "\tfilename = os.path.join(OUT_PLOT, 'distribution-value-{}-mean'.format('tissue'))\n",
    ")"
   ]
  },
  {
   "cell_type": "code",
   "execution_count": null,
   "id": "8fd2fcc5-107a-4f09-bda2-4c538abec5c3",
   "metadata": {},
   "outputs": [],
   "source": [
    "# Display both keep and drop datasets\n",
    "\n",
    "feature_target.distribution_histplot(\n",
    "\tdata     = [distribution_keep, distribution_drop],\n",
    "\tnames    = ['keep', 'drop'],\n",
    "\tgroupby  = 'group',\n",
    "\tdiscrete = False,\n",
    "\ttitle    = False,\n",
    "\tfilename = os.path.join(OUT_PLOT, 'distribution-value-{}-mean'.format('group'))\n",
    ")"
   ]
  },
  {
   "cell_type": "markdown",
   "id": "a7ac7d76-5163-44a7-9f5e-7115bf272ca1",
   "metadata": {},
   "source": [
    "## 2.3 Save"
   ]
  },
  {
   "cell_type": "code",
   "execution_count": null,
   "id": "fc889562-8667-44e1-ba12-a4a7f2f3ad9d",
   "metadata": {},
   "outputs": [],
   "source": [
    "# Save the target transcript tpm values\n",
    "\n",
    "writer.write_json(\n",
    "\tdata     = values_keep,\n",
    "\tfilename = os.path.join(OUT_DATA, 'target-values-keep.json')\n",
    ")\n",
    "\n",
    "writer.write_json(\n",
    "\tdata     = values_drop,\n",
    "\tfilename = os.path.join(OUT_DATA, 'target-values-drop.json')\n",
    ")\n",
    "\n",
    "writer.write_json(\n",
    "\tdata     = order,\n",
    "\tfilename = os.path.join(OUT_DATA, 'target-order.json')\n",
    ")"
   ]
  },
  {
   "cell_type": "markdown",
   "id": "be8ea7ec-c6e2-4ad4-9029-73f1e98a1074",
   "metadata": {
    "tags": []
   },
   "source": [
    "# 3. Classification"
   ]
  },
  {
   "cell_type": "markdown",
   "id": "516d5f94-825f-4bab-8f5c-c61a01b46ca0",
   "metadata": {},
   "source": [
    "## 3.1 Extraction"
   ]
  },
  {
   "cell_type": "code",
   "execution_count": null,
   "id": "361d647a-78d3-48b7-bb27-2040194c31e7",
   "metadata": {},
   "outputs": [],
   "source": [
    "# Extract the transcript tpm classification per group (reuses tpm values from regression extraction)\n",
    "\n",
    "labels, bounds = feature_target.classify_tpm(\n",
    "\tdata    = values,\n",
    "\tclasses = 5\n",
    ")"
   ]
  },
  {
   "cell_type": "code",
   "execution_count": null,
   "id": "c4106f67-5f8c-4f8d-85fb-8d1113d49f82",
   "metadata": {},
   "outputs": [],
   "source": [
    "# Display bounds in different configurations (start, values and mapping are manually set based on nbp02-anndata)\n",
    "\n",
    "feature_target.display_bounds_mapping(\n",
    "\tbounds     = bounds['tissue-mean'],\n",
    "\tstart      = TARGET_LAYER,\n",
    "\tvalues = {\n",
    "\t\t'min_value'  : factor_normal['min'],\n",
    "\t\t'max_value'  : factor_normal['max'],\n",
    "\t\t'box_lambda' : factor_boxcox['lambda'],\n",
    "\t\t'log_base'   : 2\n",
    "\t},\n",
    "\tmapping = mapping_layer\n",
    ")"
   ]
  },
  {
   "cell_type": "code",
   "execution_count": null,
   "id": "ee78a271-6005-489e-9e6b-37002ab1ad4e",
   "metadata": {},
   "outputs": [],
   "source": [
    "# Display an example of the transcript classification\n",
    "\n",
    "gene = anndata.var.index.to_list()[0]\n",
    "\n",
    "for index, (key, value) in enumerate(labels[gene].items()) :\n",
    "\tprint(f'{key:17s} : [{len(value):2d}] ' + ' '.join('{:1d}'.format(x) for x in value))"
   ]
  },
  {
   "cell_type": "code",
   "execution_count": null,
   "id": "9fa929f5-8be1-46f6-8be5-e745ee511ce1",
   "metadata": {},
   "outputs": [],
   "source": [
    "# Split into keep and drop\n",
    "\n",
    "labels_keep = {k : v for k, v in labels.items() if k in keep_transcript}\n",
    "labels_drop = {k : v for k, v in labels.items() if k in drop_transcript}\n",
    "\n",
    "print(' Keep : {:5d}'.format(len(labels_keep)))\n",
    "print(' Drop : {:5d}'.format(len(labels_drop)))\n",
    "print('Total : {:5d} / {:5d}'.format(len(labels_drop) + len(labels_keep), len(labels)))\n",
    "print()"
   ]
  },
  {
   "cell_type": "markdown",
   "id": "3c4c43d7-2ac6-4663-934b-9cf8ade67a4d",
   "metadata": {},
   "source": [
    "## 3.2 Distribution"
   ]
  },
  {
   "cell_type": "code",
   "execution_count": null,
   "id": "2f2cb378-4c6a-44de-9c48-c29a6f10e649",
   "metadata": {},
   "outputs": [],
   "source": [
    "# Compute distributions\n",
    "\n",
    "distribution_keep = feature_target.distribution_group(\n",
    "\tdata   = labels_keep,\n",
    "\torder  = order,\n",
    "\tselect = 'mean',\n",
    "\tgenes  = list(labels_keep.keys())\n",
    ")\n",
    "\n",
    "distribution_drop = feature_target.distribution_group(\n",
    "\tdata   = labels_drop,\n",
    "\torder  = order,\n",
    "\tselect = 'mean',\n",
    "\tgenes  = list(labels_drop.keys())\n",
    ")"
   ]
  },
  {
   "cell_type": "code",
   "execution_count": null,
   "id": "5174b971-d535-4a6b-95ff-969f89b18faf",
   "metadata": {},
   "outputs": [],
   "source": [
    "# Display both keep and drop datasets\n",
    "\n",
    "feature_target.distribution_histplot(\n",
    "\tdata     = [distribution_keep, distribution_drop],\n",
    "\tnames    = ['keep', 'drop'],\n",
    "\tgroupby  = 'tissue',\n",
    "\tdiscrete = True,\n",
    "\ttitle    = False,\n",
    "\tfilename = os.path.join(OUT_PLOT, 'distribution-class-{}-mean'.format('tissue'))\n",
    ")"
   ]
  },
  {
   "cell_type": "code",
   "execution_count": null,
   "id": "d135f9d8-4187-4a1d-adf9-cc31b568727a",
   "metadata": {},
   "outputs": [],
   "source": [
    "# Display both keep and drop datasets\n",
    "\n",
    "feature_target.distribution_histplot(\n",
    "\tdata     = [distribution_keep, distribution_drop],\n",
    "\tnames    = ['keep', 'drop'],\n",
    "\tgroupby  = 'group',\n",
    "\tdiscrete = True,\n",
    "\ttitle    = False,\n",
    "\tfilename = os.path.join(OUT_PLOT, 'distribution-class-{}-mean'.format('group'))\n",
    ")"
   ]
  },
  {
   "cell_type": "code",
   "execution_count": null,
   "id": "a142a0f3-64db-40ef-a111-a9ea12042cec",
   "metadata": {
    "tags": []
   },
   "outputs": [],
   "source": [
    "# Display both keep and drop datasets\n",
    "\n",
    "feature_target.distribution_histplot(\n",
    "\tdata     = [distribution_keep, distribution_drop],\n",
    "\tnames    = ['keep', 'drop'],\n",
    "\tgroupby  = 'global',\n",
    "\tdiscrete = True,\n",
    "\ttitle    = False,\n",
    "\tfilename = os.path.join(OUT_PLOT, 'distribution-class-{}-mean'.format('global'))\n",
    ")"
   ]
  },
  {
   "cell_type": "markdown",
   "id": "9ce00254-2557-4b4e-822f-607cd92bd533",
   "metadata": {},
   "source": [
    "## 3.3 Save"
   ]
  },
  {
   "cell_type": "code",
   "execution_count": null,
   "id": "60898138-3982-41a7-aea0-a0495ca8b31b",
   "metadata": {},
   "outputs": [],
   "source": [
    "# Save the target transcript classification\n",
    "\n",
    "writer.write_json(\n",
    "\tdata     = labels_keep,\n",
    "\tfilename = os.path.join(OUT_DATA, 'target-labels-keep.json')\n",
    ")\n",
    "\n",
    "writer.write_json(\n",
    "\tdata     = labels_drop,\n",
    "\tfilename = os.path.join(OUT_DATA, 'target-labels-drop.json')\n",
    ")"
   ]
  },
  {
   "cell_type": "markdown",
   "id": "78ebb48d-5fbc-4fc1-a794-ecbba9b2f052",
   "metadata": {
    "tags": []
   },
   "source": [
    "# 4. Mapping"
   ]
  },
  {
   "cell_type": "markdown",
   "id": "3351627c-4e35-4bcd-8708-de470319c483",
   "metadata": {},
   "source": [
    "## 4.1 Binarizer"
   ]
  },
  {
   "cell_type": "code",
   "execution_count": null,
   "id": "0b93183a-8c4d-4f50-9ea3-238e139d0012",
   "metadata": {},
   "outputs": [],
   "source": [
    "# Create binarizers and mapping lookup\n",
    "\n",
    "features_binarizer, features_grouped, features_exploded = feature_target.create_mapping(\n",
    "\tvalues = values,\n",
    "\tlabels = labels,\n",
    "\torder  = order\n",
    ")"
   ]
  },
  {
   "cell_type": "code",
   "execution_count": null,
   "id": "32a807b5-78d0-414d-8cbb-aacdc181b70e",
   "metadata": {},
   "outputs": [],
   "source": [
    "# Show keys and labels\n",
    "\n",
    "for key in features_binarizer.keys() :\n",
    "\tclasses = features_binarizer[key].classes_\n",
    "\n",
    "\tif len(classes) > 8 :\n",
    "\t\tprint('{:17s} : {} ...'.format(key, classes[:8]))\n",
    "\telse :\n",
    "\t\tprint('{:17s} : {}'.format(key, classes))\n",
    "\n",
    "print()"
   ]
  },
  {
   "cell_type": "code",
   "execution_count": null,
   "id": "de14c19b-aec2-4b1d-a4a3-d8c333b40bd9",
   "metadata": {},
   "outputs": [],
   "source": [
    "# Split keep and drop\n",
    "\n",
    "features_grouped_keep = {\n",
    "\tkey : dataframe[dataframe['Transcript'].isin(keep_transcript)].copy()\n",
    "\tfor key, dataframe in features_grouped.items()\n",
    "}\n",
    "\n",
    "features_exploded_keep = {\n",
    "\tkey : dataframe[dataframe['Transcript'].isin(keep_transcript)].copy()\n",
    "\tfor key, dataframe in features_exploded.items()\n",
    "}\n",
    "\n",
    "features_grouped_drop = {\n",
    "\tkey : dataframe[dataframe['Transcript'].isin(drop_transcript)].copy()\n",
    "\tfor key, dataframe in features_grouped.items()\n",
    "}\n",
    "\n",
    "features_exploded_drop = {\n",
    "\tkey : dataframe[dataframe['Transcript'].isin(drop_transcript)].copy()\n",
    "\tfor key, dataframe in features_exploded.items()\n",
    "}"
   ]
  },
  {
   "cell_type": "markdown",
   "id": "988960c4-a71c-41cd-8a06-eb8a5f033cdf",
   "metadata": {},
   "source": [
    "## 4.2 Save"
   ]
  },
  {
   "cell_type": "code",
   "execution_count": null,
   "id": "7efe58f3-182a-409a-bf3a-82ded808d4cf",
   "metadata": {
    "tags": []
   },
   "outputs": [],
   "source": [
    "# Save binarizers and mapping lookup\n",
    "\n",
    "writer.write_pickle(\n",
    "\tdata     = features_grouped_keep,\n",
    "\tfilename = os.path.join(OUT_DATA, f'mapping-grouped-keep.pkl')\n",
    ")\n",
    "\n",
    "writer.write_pickle(\n",
    "\tdata     = features_exploded_keep,\n",
    "\tfilename = os.path.join(OUT_DATA, f'mapping-exploded-keep.pkl')\n",
    ")\n",
    "\n",
    "writer.write_pickle(\n",
    "\tdata     = features_grouped_drop,\n",
    "\tfilename = os.path.join(OUT_DATA, f'mapping-grouped-drop.pkl')\n",
    ")\n",
    "\n",
    "writer.write_pickle(\n",
    "\tdata     = features_exploded_drop,\n",
    "\tfilename = os.path.join(OUT_DATA, f'mapping-exploded-drop.pkl')\n",
    ")"
   ]
  },
  {
   "cell_type": "markdown",
   "id": "4bac0824-69b4-4ba5-8a19-252bf1cc4137",
   "metadata": {
    "tags": []
   },
   "source": [
    "# 5. Bert"
   ]
  },
  {
   "cell_type": "code",
   "execution_count": null,
   "id": "02b6197e-51f1-42f7-be00-3a879891e83f",
   "metadata": {
    "tags": []
   },
   "outputs": [],
   "source": [
    "# Define generated combinations\n",
    "\n",
    "combinations = [\n",
    "\t('global', 'mean', False, None),\n",
    "\t('tissue', 'mean', False, None),\n",
    "\t('tissue', 'mean', True,  None),\n",
    "\t('tissue', 'mean', True, 'seedling'),\n",
    "\t('group',  'mean', False, None),\n",
    "\t('group',  'mean', True,  None),\n",
    "\t('group',  'mean', True, 'young_seedling')\n",
    "]"
   ]
  },
  {
   "cell_type": "markdown",
   "id": "1229e12a-d38a-4167-aaee-e199895b9ee6",
   "metadata": {},
   "source": [
    "## 5.1 Transcript - 2150bp"
   ]
  },
  {
   "cell_type": "code",
   "execution_count": null,
   "id": "42c115f6-4b69-4c88-ab4c-bb08eb54ba4b",
   "metadata": {},
   "outputs": [],
   "source": [
    "# Constants\n",
    "\n",
    "size = 2150\n",
    "name = 'transcript'"
   ]
  },
  {
   "cell_type": "code",
   "execution_count": null,
   "id": "4cf59f33-3efc-441e-aa46-950b132a3be4",
   "metadata": {
    "tags": []
   },
   "outputs": [],
   "source": [
    "# Generate full transcript tokens for bert model\n",
    "\n",
    "if GENERATE_BERT_TRANSCRIPT_2150 :\n",
    "\tsequences = sequence_2150_keep\n",
    "\tfeatures  = feature_base_keep\n",
    "\tgroup     = 'keep'\n",
    "\n",
    "\tgenerator = lambda : bert_data.data_prepare(\n",
    "\t\tsequences    = sequences,\n",
    "\t\tfeatures     = features,\n",
    "\t\tdirectory    = OUT_DATA,\n",
    "\t\tvalid_split  = 0.0,\n",
    "\t\ttest_split   = 0.2,\n",
    "\t\tfilename     = 'mapping-grouped-{}.pkl'.format(group),\n",
    "\t\tcombinations = combinations\n",
    "\t)\n",
    "\n",
    "\tfor data, filename in generator() :\n",
    "\t\tbert_data.create_kmers(\n",
    "\t\t\tfilename     = os.path.join(OUT_DATA, 'dnabert-{}', '{}-{}'.format(name, size), '{}'.format(filename), '{}' + '-{}.tsv'.format(group)),\n",
    "\t\t\tgenerator    = dataset_split.generate_group_shuffle_split,\n",
    "\t\t\tmax_tokens   = None,\n",
    "\t\t\trandom_seed  = RANDOM_SEED,\n",
    "\t\t\tkmers        = KMERS,\n",
    "\t\t\tdata         = data\n",
    "\t\t)"
   ]
  },
  {
   "cell_type": "code",
   "execution_count": null,
   "id": "f3b7edbe-1479-4641-a9f1-781b72a805ed",
   "metadata": {
    "tags": []
   },
   "outputs": [],
   "source": [
    "# Generate full transcript tokens for bert model\n",
    "\n",
    "if GENERATE_BERT_TRANSCRIPT_2150 :\n",
    "\tsequences = sequence_2150_drop\n",
    "\tfeatures  = feature_base_drop\n",
    "\tgroup     = 'drop'\n",
    "\n",
    "\tgenerator = lambda : bert_data.data_prepare(\n",
    "\t\tsequences    = sequences,\n",
    "\t\tfeatures     = features,\n",
    "\t\tdirectory    = OUT_DATA,\n",
    "\t\tvalid_split  = 0.0,\n",
    "\t\ttest_split   = 0.2,\n",
    "\t\tfilename     = 'mapping-grouped-{}.pkl'.format(group),\n",
    "\t\tcombinations = combinations\n",
    "\t)\n",
    "\n",
    "\tfor data, filename in generator() :\n",
    "\t\tbert_data.create_kmers(\n",
    "\t\t\tfilename     = os.path.join(OUT_DATA, 'dnabert-{}', '{}-{}'.format(name, size), '{}'.format(filename), '{}' + '-{}.tsv'.format(group)),\n",
    "\t\t\tgenerator    = dataset_split.generate_group_shuffle_split,\n",
    "\t\t\tmax_tokens   = None,\n",
    "\t\t\trandom_seed  = RANDOM_SEED,\n",
    "\t\t\tkmers        = KMERS,\n",
    "\t\t\tdata         = data\n",
    "\t\t)"
   ]
  },
  {
   "cell_type": "markdown",
   "id": "081fb012-731e-4bf3-9cb5-d87c5275366f",
   "metadata": {},
   "source": [
    "## 5.2 Promoter - 512bp"
   ]
  },
  {
   "cell_type": "code",
   "execution_count": null,
   "id": "93644445-7a86-4b6a-8c77-9fb57ffaec78",
   "metadata": {},
   "outputs": [],
   "source": [
    "# Constants\n",
    "\n",
    "size = 512\n",
    "name = 'promoter'"
   ]
  },
  {
   "cell_type": "code",
   "execution_count": null,
   "id": "bea6a43a-a44c-45f9-9fa9-8f52dd763874",
   "metadata": {},
   "outputs": [],
   "source": [
    "# Generate 512 promoter tokens for bert model\n",
    "\n",
    "if GENERATE_BERT_PROMOTER_512 :\n",
    "\tsequences = sequence_prom_keep\n",
    "\tfeatures  = feature_base_keep\n",
    "\tgroup     = 'keep'\n",
    "\n",
    "\tgenerator = lambda : bert_data.data_prepare(\n",
    "\t\tsequences    = sequences,\n",
    "\t\tfeatures     = features,\n",
    "\t\tdirectory    = OUT_DATA,\n",
    "\t\tvalid_split  = 0.0,\n",
    "\t\ttest_split   = 0.2,\n",
    "\t\tfilename     = 'mapping-grouped-{}.pkl'.format(group),\n",
    "\t\tcombinations = combinations\n",
    "\t)\n",
    "\n",
    "\tfor data, filename in generator() :\n",
    "\t\tbert_data.create_kmers(\n",
    "\t\t\tfilename     = os.path.join(OUT_DATA, 'dnabert-{}', '{}-{}'.format(name, size), '{}'.format(filename), '{}' + '-{}.tsv'.format(group)),\n",
    "\t\t\tgenerator    = dataset_split.generate_group_shuffle_split,\n",
    "\t\t\tmax_tokens   = -size,\n",
    "\t\t\trandom_seed  = RANDOM_SEED,\n",
    "\t\t\tkmers        = KMERS,\n",
    "\t\t\tdata         = data\n",
    "\t\t)"
   ]
  },
  {
   "cell_type": "code",
   "execution_count": null,
   "id": "d0b8467b-300b-47f1-bfb5-a5f38c278756",
   "metadata": {
    "tags": []
   },
   "outputs": [],
   "source": [
    "# Generate 512 promoter tokens for bert model\n",
    "\n",
    "if GENERATE_BERT_PROMOTER_512 :\n",
    "\tsequences = sequence_prom_drop\n",
    "\tfeatures  = feature_base_drop\n",
    "\tgroup     = 'drop'\n",
    "\n",
    "\tgenerator = lambda : bert_data.data_prepare(\n",
    "\t\tsequences    = sequences,\n",
    "\t\tfeatures     = features,\n",
    "\t\tdirectory    = OUT_DATA,\n",
    "\t\tvalid_split  = 0.0,\n",
    "\t\ttest_split   = 0.2,\n",
    "\t\tfilename     = 'mapping-grouped-{}.pkl'.format(group),\n",
    "\t\tcombinations = combinations\n",
    "\t)\n",
    "\n",
    "\tfor data, filename in generator() :\n",
    "\t\tbert_data.create_kmers(\n",
    "\t\t\tfilename     = os.path.join(OUT_DATA, 'dnabert-{}', '{}-{}'.format(name, size), '{}'.format(filename), '{}' + '-{}.tsv'.format(group)),\n",
    "\t\t\tgenerator    = dataset_split.generate_group_shuffle_split,\n",
    "\t\t\tmax_tokens   = -size,\n",
    "\t\t\trandom_seed  = RANDOM_SEED,\n",
    "\t\t\tkmers        = KMERS,\n",
    "\t\t\tdata         = data\n",
    "\t\t)"
   ]
  },
  {
   "cell_type": "markdown",
   "id": "9bdf6629-ecf5-4a65-a4be-9034bbb6f293",
   "metadata": {},
   "source": [
    "## 5.3 Promoter - 4096bp"
   ]
  },
  {
   "cell_type": "code",
   "execution_count": null,
   "id": "80f903ed-4d95-4ed4-8488-4c79d4cb3415",
   "metadata": {},
   "outputs": [],
   "source": [
    "# Constants\n",
    "\n",
    "size = 4096\n",
    "name = 'promoter'"
   ]
  },
  {
   "cell_type": "code",
   "execution_count": null,
   "id": "96aefb63-29f0-4436-bc7c-756b7f6206ed",
   "metadata": {},
   "outputs": [],
   "source": [
    "# Generate 4096 promoter tokens for bert model\n",
    "\n",
    "if GENERATE_BERT_PROMOTER_4096 :\n",
    "\tsequences = sequence_prom_keep\n",
    "\tfeatures  = feature_base_keep\n",
    "\tgroup     = 'keep'\n",
    "\n",
    "\tgenerator = lambda : bert_data.data_prepare(\n",
    "\t\tsequences    = sequences,\n",
    "\t\tfeatures     = features,\n",
    "\t\tdirectory    = OUT_DATA,\n",
    "\t\tvalid_split  = 0.0,\n",
    "\t\ttest_split   = 0.2,\n",
    "\t\tfilename     = 'mapping-grouped-{}.pkl'.format(group),\n",
    "\t\tcombinations = combinations\n",
    "\t)\n",
    "\n",
    "\tfor data, filename in generator() :\n",
    "\t\tbert_data.create_kmers(\n",
    "\t\t\tfilename     = os.path.join(OUT_DATA, 'dnabert-{}', '{}-{}'.format(name, size), '{}'.format(filename), '{}' + '-{}.tsv'.format(group)),\n",
    "\t\t\tgenerator    = dataset_split.generate_group_shuffle_split,\n",
    "\t\t\tmax_tokens   = -size,\n",
    "\t\t\trandom_seed  = RANDOM_SEED,\n",
    "\t\t\tkmers        = KMERS,\n",
    "\t\t\tdata         = data\n",
    "\t\t)"
   ]
  },
  {
   "cell_type": "code",
   "execution_count": null,
   "id": "940100f0-fcce-44fc-92b2-c946083725b9",
   "metadata": {},
   "outputs": [],
   "source": [
    "# Generate 4096 promoter tokens for bert model\n",
    "\n",
    "if GENERATE_BERT_PROMOTER_4096 :\n",
    "\tsequences = sequence_prom_drop\n",
    "\tfeatures  = feature_base_drop\n",
    "\tgroup     = 'drop'\n",
    "\n",
    "\tgenerator = lambda : bert_data.data_prepare(\n",
    "\t\tsequences    = sequences,\n",
    "\t\tfeatures     = features,\n",
    "\t\tdirectory    = OUT_DATA,\n",
    "\t\tvalid_split  = 0.0,\n",
    "\t\ttest_split   = 0.2,\n",
    "\t\tfilename     = 'mapping-grouped-{}.pkl'.format(group),\n",
    "\t\tcombinations = combinations\n",
    "\t)\n",
    "\n",
    "\tfor data, filename in generator() :\n",
    "\t\tbert_data.create_kmers(\n",
    "\t\t\tfilename     = os.path.join(OUT_DATA, 'dnabert-{}', '{}-{}'.format(name, size), '{}'.format(filename), '{}' + '-{}.tsv'.format(group)),\n",
    "\t\t\tgenerator    = dataset_split.generate_group_shuffle_split,\n",
    "\t\t\tmax_tokens   = -size,\n",
    "\t\t\trandom_seed  = RANDOM_SEED,\n",
    "\t\t\tkmers        = KMERS,\n",
    "\t\t\tdata         = data\n",
    "\t\t)"
   ]
  },
  {
   "cell_type": "markdown",
   "id": "26edb8e0-b990-4bdd-8fae-8f29b9774a94",
   "metadata": {},
   "source": [
    "## 5.4 Promoter - 4096bp (with UTR5)"
   ]
  },
  {
   "cell_type": "code",
   "execution_count": null,
   "id": "5c69c644-5a06-40ba-baca-3d03fab408e6",
   "metadata": {},
   "outputs": [],
   "source": [
    "# Constants\n",
    "\n",
    "size = 4096\n",
    "name = 'promoter-utr5'"
   ]
  },
  {
   "cell_type": "code",
   "execution_count": null,
   "id": "8655cec5-d64d-4dcb-96d5-9dcb90cf7ebd",
   "metadata": {},
   "outputs": [],
   "source": [
    "# Generate 4096 promoter tokens for bert model\n",
    "\n",
    "if GENERATE_BERT_PROMOTER_UTR5_4096 :\n",
    "\tsequences = sequence_prom_utr5_keep\n",
    "\tfeatures  = feature_base_keep\n",
    "\tgroup     = 'keep'\n",
    "\n",
    "\tgenerator = lambda : bert_data.data_prepare(\n",
    "\t\tsequences    = sequences,\n",
    "\t\tfeatures     = features,\n",
    "\t\tdirectory    = OUT_DATA,\n",
    "\t\tvalid_split  = 0.0,\n",
    "\t\ttest_split   = 0.2,\n",
    "\t\tfilename     = 'mapping-grouped-{}.pkl'.format(group),\n",
    "\t\tcombinations = combinations\n",
    "\t)\n",
    "\n",
    "\tfor data, filename in generator() :\n",
    "\t\tbert_data.create_kmers(\n",
    "\t\t\tfilename     = os.path.join(OUT_DATA, 'dnabert-{}', '{}-{}'.format(name, size), '{}'.format(filename), '{}' + '-{}.tsv'.format(group)),\n",
    "\t\t\tgenerator    = dataset_split.generate_group_shuffle_split,\n",
    "\t\t\tmax_tokens   = -size,\n",
    "\t\t\trandom_seed  = RANDOM_SEED,\n",
    "\t\t\tkmers        = KMERS,\n",
    "\t\t\tdata         = data\n",
    "\t\t)"
   ]
  },
  {
   "cell_type": "code",
   "execution_count": null,
   "id": "3f8e7cfd-31cc-464b-9665-24c125915a6b",
   "metadata": {
    "tags": []
   },
   "outputs": [],
   "source": [
    "if GENERATE_BERT_PROMOTER_UTR5_4096 :\n",
    "\tsequences = sequence_prom_utr5_drop\n",
    "\tfeatures  = feature_base_drop\n",
    "\tgroup     = 'drop'\n",
    "\n",
    "\tgenerator = lambda : bert_data.data_prepare(\n",
    "\t\tsequences    = sequences,\n",
    "\t\tfeatures     = features,\n",
    "\t\tdirectory    = OUT_DATA,\n",
    "\t\tvalid_split  = 0.0,\n",
    "\t\ttest_split   = 0.2,\n",
    "\t\tfilename     = 'mapping-grouped-{}.pkl'.format(group),\n",
    "\t\tcombinations = combinations\n",
    "\t)\n",
    "\n",
    "\tfor data, filename in generator() :\n",
    "\t\tbert_data.create_kmers(\n",
    "\t\t\tfilename     = os.path.join(OUT_DATA, 'dnabert-{}', '{}-{}'.format(name, size), '{}'.format(filename), '{}' + '-{}.tsv'.format(group)),\n",
    "\t\t\tgenerator    = dataset_split.generate_group_shuffle_split,\n",
    "\t\t\tmax_tokens   = -size,\n",
    "\t\t\trandom_seed  = RANDOM_SEED,\n",
    "\t\t\tkmers        = KMERS,\n",
    "\t\t\tdata         = data\n",
    "\t\t)"
   ]
  }
 ],
 "metadata": {
  "kernelspec": {
   "display_name": "Python 3 (ipykernel)",
   "language": "python",
   "name": "python3"
  },
  "language_info": {
   "codemirror_mode": {
    "name": "ipython",
    "version": 3
   },
   "file_extension": ".py",
   "mimetype": "text/x-python",
   "name": "python",
   "nbconvert_exporter": "python",
   "pygments_lexer": "ipython3",
   "version": "3.10.7"
  },
  "toc-autonumbering": false,
  "toc-showtags": false
 },
 "nbformat": 4,
 "nbformat_minor": 5
}
