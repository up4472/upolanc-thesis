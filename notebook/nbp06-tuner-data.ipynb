{
 "cells": [
  {
   "cell_type": "code",
   "execution_count": null,
   "id": "00b28859-72db-4353-a70d-880842d063ce",
   "metadata": {
    "tags": []
   },
   "outputs": [],
   "source": [
    "# Libraries\n",
    "\n",
    "import argparse\n",
    "import os\n",
    "import platform\n",
    "import ray\n",
    "import shutil\n",
    "import sys"
   ]
  },
  {
   "cell_type": "code",
   "execution_count": null,
   "id": "993178c8-6a03-4acc-9843-70a0e88b87e3",
   "metadata": {
    "tags": []
   },
   "outputs": [],
   "source": [
    "# Ensure source path\n",
    "\n",
    "ROOT = os.getcwd()\n",
    "\n",
    "while not ROOT.endswith('upolanc-thesis') :\n",
    "\tROOT = os.path.abspath(os.path.join(ROOT, os.pardir))\n",
    "\n",
    "\tif len(ROOT) < len('upolanc-thesis') :\n",
    "\t\tif   platform.system() == 'Linux' :\n",
    "\t\t\tROOT = '/d/hpc/home/up4472/workspace/upolanc-thesis'\n",
    "\t\telif platform.system() == 'Windows' :\n",
    "\t\t\tROOT = 'C:\\\\Developer\\\\Workspace\\\\PyCharm\\\\Projects\\\\upolanc-thesis'\n",
    "\t\telse :\n",
    "\t\t\traise ValueError()\n",
    "\n",
    "\t\tprint(f'Warning : could not find correct directory, using default : {ROOT}')\n",
    "\t\tbreak\n",
    "\n",
    "if ROOT not in sys.path :\n",
    "\tsys.path.append(ROOT)\n",
    "\n",
    "os.chdir(ROOT)"
   ]
  },
  {
   "cell_type": "code",
   "execution_count": null,
   "id": "029e85ce-3639-42a0-80ce-501e1a085d06",
   "metadata": {},
   "outputs": [],
   "source": [
    "# Tuner\n",
    "\n",
    "ray.init(include_dashboard = False)\n",
    "\n",
    "from ray.tune import choice\n",
    "from ray.tune import uniform\n",
    "from ray.tune import loguniform\n",
    "from ray.tune import randint"
   ]
  },
  {
   "cell_type": "code",
   "execution_count": null,
   "id": "9197dabb-0cac-417b-97da-a26ab8b417c4",
   "metadata": {
    "tags": []
   },
   "outputs": [],
   "source": [
    "# Code\n",
    "\n",
    "from source.python.raytune import raytune_data\n",
    "from source.python.raytune import raytune_model\n",
    "from source.python.raytune import raytune_plot\n",
    "from source.python.raytune import raytune_utils\n",
    "from source.python.io      import loader\n",
    "from source.python         import runtime\n",
    "\n",
    "runtime.set_numpy_format()\n",
    "runtime.set_pandas_format()\n",
    "runtime.set_plot_theme()"
   ]
  },
  {
   "cell_type": "markdown",
   "id": "e3e7e250-5fe4-4cea-a889-f3b7c440deb0",
   "metadata": {},
   "source": [
    "# 1. Setup"
   ]
  },
  {
   "cell_type": "code",
   "execution_count": null,
   "id": "67c10080-512e-4ac0-9310-07e07e3f10e6",
   "metadata": {
    "tags": []
   },
   "outputs": [],
   "source": [
    "# Define output and inputs\n",
    "\n",
    "MODEL_NAME       = 'zrimec2020'\n",
    "MODEL_TYPE       = 'r'\n",
    "MODEL_PARAMS     = None\n",
    "MODEL_EPOCHS     = 5\n",
    "\n",
    "TARGET_GROUP     = 'global'\n",
    "TARGET_TYPE      = 'mean'\n",
    "TARGET_EXPLODE   = False\n",
    "TARGET_FILTER    = None\n",
    "\n",
    "TUNER_CONCURRENT = 1\n",
    "TUNER_TRIALS     = 5\n",
    "TUNER_GRACE      = 1\n",
    "TUNER_NOTEBOOK   = True"
   ]
  },
  {
   "cell_type": "code",
   "execution_count": null,
   "id": "c8470476-dcd7-412f-9c91-67ab0fe15da4",
   "metadata": {
    "tags": []
   },
   "outputs": [],
   "source": [
    "# Check for args\n",
    "\n",
    "if __name__ == '__main__' and 'get_ipython' in dir() :\n",
    "\tprint('Running as .ipynb')\n",
    "\n",
    "if __name__ == '__main__' and 'get_ipython' not in dir() :\n",
    "\tprint('Running as .py')\n",
    "\n",
    "\tparser = argparse.ArgumentParser()\n",
    "\n",
    "\tparse_none = lambda x : None if x == 'none' else x\n",
    "\tparse_bool = lambda x : True if x == 'true' else False\n",
    "\n",
    "\tparser.add_argument('--target_group',     type = str, choices = ['tissue', 'group', 'age', 'global', 'perturbation'])\n",
    "\tparser.add_argument('--target_type',      type = str, choices = ['mean', 'max'])\n",
    "\tparser.add_argument('--target_explode',   type = parse_bool)\n",
    "\tparser.add_argument('--target_filter',    type = parse_none)\n",
    "\tparser.add_argument('--model_name',       type = str, choices = ['washburn2019', 'zrimec2020'])\n",
    "\tparser.add_argument('--model_epochs',     type = int)\n",
    "\tparser.add_argument('--tuner_concurrent', type = int)\n",
    "\tparser.add_argument('--tuner_trials',     type = int)\n",
    "\tparser.add_argument('--tuner_grace',      type = int)\n",
    "\n",
    "\tparser.set_defaults(\n",
    "\t\ttarget_group     = 'tissue',\n",
    "\t\ttarget_type      = 'mean',\n",
    "\t\ttarget_explode   = False,\n",
    "\t\ttarget_filter    = None,\n",
    "\t\tmodel_name       = 'zrimec2020',\n",
    "\t\tmodel_epochs     = 500,\n",
    "\t\ttuner_concurrent = 5,\n",
    "\t\ttuner_trials     = 250,\n",
    "\t\ttuner_grace      = 5\n",
    "\t)\n",
    "\n",
    "\targs = vars(parser.parse_args())\n",
    "\n",
    "\tTARGET_GROUP     = args['target_group']\n",
    "\tTARGET_TYPE      = args['target_type']\n",
    "\tTARGET_EXPLODE   = args['target_explode']\n",
    "\tTARGET_FILTER    = args['target_filter']\n",
    "\tMODEL_NAME       = args['model_name']\n",
    "\tMODEL_EPOCHS     = args['model_epochs']\n",
    "\tTUNER_CONCURRENT = args['tuner_concurrent']\n",
    "\tTUNER_TRIALS     = args['tuner_trials']\n",
    "\tTUNER_GRACE      = args['tuner_grace']\n",
    "\tTUNER_NOTEBOOK   = False\n",
    "\n",
    "if TARGET_GROUP == 'global' :\n",
    "\tTARGET_EXPLODE = False"
   ]
  },
  {
   "cell_type": "code",
   "execution_count": null,
   "id": "edb9c63a-071a-4303-a56b-1b46787b8691",
   "metadata": {
    "tags": []
   },
   "outputs": [],
   "source": [
    "# Setup some directory paths.\n",
    "\n",
    "CWD = ROOT\n",
    "OUT = os.path.join(CWD, 'output')\n",
    "RES = os.path.join(CWD, 'resources')\n",
    "\n",
    "OUT_DATA  = os.path.join(OUT,      'nbp06-tuner', 'data', MODEL_NAME[:-4])\n",
    "OUT_PLOT  = os.path.join(OUT_DATA, 'plot')\n",
    "RES_TUNER = os.path.join(RES,      'tuner')\n",
    "RES_NBP04 = os.path.join(OUT,      'nbp04-feature')\n",
    "RES_NBP05 = os.path.join(OUT,      'nbp05-target')\n",
    "\n",
    "shutil.rmtree(OUT_DATA, ignore_errors = True)\n",
    "\n",
    "os.makedirs(OUT_DATA, exist_ok = True)\n",
    "os.makedirs(OUT_PLOT, exist_ok = True)\n",
    "\n",
    "print(f'     Root Directory : {CWD}')\n",
    "print(f'   Output Directory : {OUT_DATA}')\n",
    "print(f'   Output Directory : {OUT_PLOT}')\n",
    "print(f' Resource Directory : {RES_TUNER}')\n",
    "print(f' Resource Directory : {RES_NBP04}')\n",
    "print(f' Resource Directory : {RES_NBP05}')"
   ]
  },
  {
   "cell_type": "code",
   "execution_count": null,
   "id": "5e018014-911d-43ce-a732-398decd154bb",
   "metadata": {
    "tags": []
   },
   "outputs": [],
   "source": [
    "# System and device\n",
    "\n",
    "DEVICE = runtime.get_device(only_cpu = False)\n",
    "SYSTEM = runtime.get_system_info()\n",
    "\n",
    "for key, value in SYSTEM.items() :\n",
    "\tprint('{:25s} : {}'.format(key, value))"
   ]
  },
  {
   "cell_type": "markdown",
   "id": "2f85d74c-aaee-4eaa-8f0e-8557710f8490",
   "metadata": {},
   "source": [
    "# 2. Tuner"
   ]
  },
  {
   "cell_type": "code",
   "execution_count": null,
   "id": "2793dee4-50c4-49d9-975e-9cfee599edba",
   "metadata": {
    "tags": []
   },
   "outputs": [],
   "source": [
    "# Define basic data parameters\n",
    "\n",
    "CONFIG = {\n",
    "\t'core/random'             : None,\n",
    "\t'core/device'             : DEVICE,\n",
    "\t'core/rootdir'            : ROOT,\n",
    "\t'core/outdir'             : OUT_DATA,\n",
    "\t'dataset/filepath'        : os.path.join(OUT_DATA, 'dataset.pkl'),\n",
    "\t'dataset/expanddim'       : None,\n",
    "\t'dataset/split/valid'     : 0.2,\n",
    "\t'dataset/split/test'      : 0.2,\n",
    "\t'tuner/trials'            : TUNER_TRIALS,\n",
    "\t'tuner/max_epochs'        : MODEL_EPOCHS,\n",
    "\t'tuner/min_epochs'        : TUNER_GRACE,\n",
    "\t'tuner/max_concurrent'    : TUNER_CONCURRENT,\n",
    "\t'tuner/reporter/freq'     : 30,\n",
    "\t'tuner/reporter/notebook' : TUNER_NOTEBOOK,\n",
    "\t'tuner/checkpoint'        : False,\n",
    "\t'tuner/stopper'           : True,\n",
    "\t'tuner/stopper/days'      : 3,\n",
    "\t'tuner/stopper/hours'     : 22,\n",
    "\t'tuner/stopper/minutes'   : 0,\n",
    "\t'model/name'              : MODEL_NAME,\n",
    "\t'model/type'              : MODEL_NAME + MODEL_TYPE,\n",
    "\t'model/epochs'            : MODEL_EPOCHS,\n",
    "\t'model/input/channels'    : 1,\n",
    "\t'model/input/height'      : 4,\n",
    "\t'model/input/width'       : 2150,\n",
    "\t'model/input/features'    : None,\n",
    "\t'model/output/target'     : TARGET_GROUP,\n",
    "\t'model/output/type'       : TARGET_TYPE,\n",
    "\t'model/output/filter'     : TARGET_FILTER,\n",
    "\t'model/output/explode'    : TARGET_EXPLODE,\n",
    "\t'model/output/size'       : None,\n",
    "\t'params/tuner'            : None,\n",
    "\t'params/filepath'         : RES_TUNER\n",
    "}\n",
    "\n",
    "CONFIG['core/random'] = runtime.lock_random(\n",
    "\tseed     = CONFIG['core/random'],\n",
    "\tgenerate = True\n",
    ")\n",
    "\n",
    "if CONFIG['model/name'].startswith('washburn2019') :\n",
    "\tCONFIG['dataset/expanddim'] = 0"
   ]
  },
  {
   "cell_type": "code",
   "execution_count": null,
   "id": "b2f03d1d-d339-4bdf-936e-3d52a019a21d",
   "metadata": {
    "tags": []
   },
   "outputs": [],
   "source": [
    "# Prints\n",
    "\n",
    "print('Model Name  : {}'.format(CONFIG['model/name']))\n",
    "print('Model Type  : {}'.format(CONFIG['model/type']))\n",
    "print('Random Seed : {}'.format(CONFIG['core/random']))"
   ]
  },
  {
   "cell_type": "markdown",
   "id": "92f43379-296b-4956-9415-a05737ccfdb2",
   "metadata": {},
   "source": [
    "# 3. Search Space"
   ]
  },
  {
   "cell_type": "code",
   "execution_count": null,
   "id": "28493c1b-0854-4b36-8103-84b33ab99742",
   "metadata": {
    "tags": []
   },
   "outputs": [],
   "source": [
    "# Define search space (tested with zrimec2020r and washburn2019r)\n",
    "\n",
    "param_space = dict()\n",
    "\n",
    "param_space['boxcox/lambda'] = uniform(-1.0, 1.0)"
   ]
  },
  {
   "cell_type": "markdown",
   "id": "9b92c29b-4388-4d61-ad0a-05aa57ccfe65",
   "metadata": {},
   "source": [
    "# 4. Tuning"
   ]
  },
  {
   "cell_type": "code",
   "execution_count": null,
   "id": "c5f4752d-8418-45af-913c-8385ad862587",
   "metadata": {
    "tags": []
   },
   "outputs": [],
   "source": [
    "# Create tuner config\n",
    "\n",
    "trainable = raytune_utils.create_trainable(\n",
    "\tmethod = raytune_data.main,\n",
    "\tconfig = CONFIG,\n",
    "\tcpu_count = SYSTEM['platform/cpu/count'],\n",
    "\tgpu_count = SYSTEM['platform/gpu/count']\n",
    ")\n",
    "\n",
    "tune_config = raytune_utils.create_tune_config(\n",
    "\tconfig = CONFIG,\n",
    "\tparams = None\n",
    ")\n",
    "\n",
    "run_config = raytune_utils.create_run_config(\n",
    "\tconfig    = CONFIG,\n",
    "\tlocal_dir = OUT_DATA,\n",
    "\tverbosity = raytune_utils.VERBOSE_STATUS,\n",
    "\tmode      = 'regression',\n",
    "\ttask      = 'data'\n",
    ")"
   ]
  },
  {
   "cell_type": "code",
   "execution_count": null,
   "id": "f69ffa02-d32f-41fb-8e49-eeb305987987",
   "metadata": {
    "tags": []
   },
   "outputs": [],
   "source": [
    "# Create tune and fit\n",
    "\n",
    "tuner = raytune_utils.create_tuner(\n",
    "\ttrainable   = trainable,\n",
    "\ttune_config = tune_config,\n",
    "\trun_config  = run_config,\n",
    "\tparam_space = param_space\n",
    ")\n",
    "\n",
    "report = tuner.fit()"
   ]
  },
  {
   "cell_type": "markdown",
   "id": "b35e43b7-805b-4a69-b70b-56aee1053203",
   "metadata": {},
   "source": [
    "# 5. Reports"
   ]
  },
  {
   "cell_type": "code",
   "execution_count": null,
   "id": "85d46462-4700-4a73-93de-b99463626df1",
   "metadata": {},
   "outputs": [],
   "source": [
    "# Check if there have been errors\n",
    "\n",
    "if report.errors :\n",
    "\tprint('At least one of the trials has failed.')\n",
    "else :\n",
    "\tprint('No errors.')"
   ]
  },
  {
   "cell_type": "code",
   "execution_count": null,
   "id": "64753c3a-bfc0-4fba-bea3-26f806f0c992",
   "metadata": {
    "tags": []
   },
   "outputs": [],
   "source": [
    "# Print possible columns\n",
    "\n",
    "for index, column in enumerate(report.get_dataframe().columns, start = 1) :\n",
    "\tprint('{:<40s}'.format(column), end = ' ')\n",
    "\n",
    "\tif index % 3 == 0 :\n",
    "\t\tprint()\n",
    "\n",
    "print()"
   ]
  },
  {
   "cell_type": "code",
   "execution_count": null,
   "id": "9b0fd34a-282e-4d09-b188-7f9c065422e1",
   "metadata": {},
   "outputs": [],
   "source": [
    "# Print the results as dataframe\n",
    "\n",
    "dataframe = report.get_dataframe()\n",
    "\n",
    "print('Shortest training time : {:8,.1f} minutes'.format(dataframe['time_total_s'].min()  / 60.0))\n",
    "print(' Longest training time : {:8,.1f} minutes'.format(dataframe['time_total_s'].max()  / 60.0))\n",
    "print('   Total training time : {:8,.1f} minutes'.format(dataframe['time_total_s'].sum()  / 60.0))\n",
    "print('    Mean training time : {:8,.1f} minutes'.format(dataframe['time_total_s'].mean() / 60.0))\n",
    "print()\n",
    "\n",
    "trials = dataframe[[\n",
    "\t'trial_id', 'logdir', 'time_total_s', 'training_iteration',\n",
    "\t'train_loss', 'train_r2', 'train_mae', 'train_mape', 'train_wmape',\n",
    "\t'valid_loss', 'valid_r2', 'valid_mae', 'valid_mape', 'valid_wmape',\n",
    "]]\n",
    "\n",
    "trials = trials.sort_values('valid_loss', ascending = True)\n",
    "trials"
   ]
  },
  {
   "cell_type": "code",
   "execution_count": null,
   "id": "2f254201-13c8-4923-b4a3-512f537da9bd",
   "metadata": {},
   "outputs": [],
   "source": [
    "# Save the tuning results\n",
    "\n",
    "report.get_dataframe().to_csv(\n",
    "\tos.path.join(OUT_DATA, 'report.csv')\n",
    ")"
   ]
  },
  {
   "cell_type": "markdown",
   "id": "cf311649-14e5-49fe-9d40-979ad356c2c0",
   "metadata": {},
   "source": [
    "## 5.1 Visualization"
   ]
  },
  {
   "cell_type": "code",
   "execution_count": null,
   "id": "af64c768-b87a-4a0a-b08d-98cd53b2842c",
   "metadata": {},
   "outputs": [],
   "source": [
    "# Plot trials valid loss\n",
    "\n",
    "raytune_plot.trials_lineplot_loss(\n",
    "\tdataframe  = trials,\n",
    "\tmax_trials = 5,\n",
    "\talpha      = 0.9,\n",
    "\tfilename   = os.path.join(OUT_PLOT, CONFIG['model/type'] + '-trials')\n",
    ")"
   ]
  },
  {
   "cell_type": "code",
   "execution_count": null,
   "id": "ef5831a8-8fac-4226-bc69-c4fd2e43e461",
   "metadata": {
    "tags": []
   },
   "outputs": [],
   "source": [
    "# Plot trials valid r2\n",
    "\n",
    "raytune_plot.trials_lineplot_r2(\n",
    "\tdataframe  = trials,\n",
    "\tmax_trials = 5,\n",
    "\talpha      = 0.9,\n",
    "\tfilename   = os.path.join(OUT_PLOT, CONFIG['model/type'] + '-trials')\n",
    ")"
   ]
  },
  {
   "cell_type": "code",
   "execution_count": null,
   "id": "15e7e8bf-fac7-43a4-94ef-0a718e3ac5a3",
   "metadata": {
    "tags": []
   },
   "outputs": [],
   "source": [
    "# Plot trials boxcox lambda vs. valid loss; clip loss values to range to bypass extreme values that would descale the plot\n",
    "\n",
    "raytune_plot.trials_scatterplot_lambda_loss(\n",
    "\tdataframe = dataframe,\n",
    "\talpha      = 0.9,\n",
    "\tfilename   = os.path.join(OUT_PLOT, CONFIG['model/type'] + '-trials'),\n",
    "\tclip       = None\n",
    ")"
   ]
  },
  {
   "cell_type": "code",
   "execution_count": null,
   "id": "4d2743fd-e329-468c-b47b-e33df8b70869",
   "metadata": {},
   "outputs": [],
   "source": [
    "# Plot trials boxcox lambda vs. valid r2; clip r2 values to range to bypass extreme values that would descale the plot\n",
    "\n",
    "raytune_plot.trials_scatterplot_lambda_r2(\n",
    "\tdataframe = dataframe,\n",
    "\talpha      = 0.9,\n",
    "\tfilename   = os.path.join(OUT_PLOT, CONFIG['model/type'] + '-trials'),\n",
    "\tclip       = (-2.0, None)\n",
    ")"
   ]
  },
  {
   "cell_type": "markdown",
   "id": "0f6832d1-1c53-4462-9d5c-d8754278e556",
   "metadata": {},
   "source": [
    "## 5.2 Best"
   ]
  },
  {
   "cell_type": "code",
   "execution_count": null,
   "id": "ae730f4a-a86e-4127-9ca9-72dc1cd6a6a7",
   "metadata": {},
   "outputs": [],
   "source": [
    "# Display best trial\n",
    "\n",
    "best = report.get_best_result()\n",
    "\n",
    "print('Best metric : loss = {: 8.5f} r2 = {: 8.5f}'.format(best.metrics['valid_loss'], best.metrics['valid_r2']))\n",
    "print('Best config : ')\n",
    "\n",
    "for key, val in best.config.items() :\n",
    "\tif isinstance(key, str) : key = f'\"{key}\"'\n",
    "\tif isinstance(val, str) : val = f'\"{val}\"'\n",
    "\n",
    "\tprint('{:30s} : {}'.format(key, val))"
   ]
  },
  {
   "cell_type": "code",
   "execution_count": null,
   "id": "720d36e8-f7a8-4638-850f-2bae90682c9d",
   "metadata": {
    "tags": []
   },
   "outputs": [],
   "source": [
    "# Display per iteration\n",
    "\n",
    "progress = loader.load_csv(\n",
    "\tfilename = os.path.join(best.log_dir, 'progress.csv')\n",
    ")\n",
    "\n",
    "progress = trials = progress[[\n",
    "\t'trial_id', 'time_total_s', 'training_iteration', 'lr',\n",
    "\t'train_loss', 'train_r2', 'train_mae', 'train_mape', 'train_wmape',\n",
    "\t'valid_loss', 'valid_r2', 'valid_mae', 'valid_mape', 'valid_wmape',\n",
    "]]\n",
    "\n",
    "progress"
   ]
  },
  {
   "cell_type": "code",
   "execution_count": null,
   "id": "30fab838-976f-496e-8406-9085c475cc40",
   "metadata": {},
   "outputs": [],
   "source": [
    "# Plot best trial valid loss\n",
    "\n",
    "raytune_plot.trial_lineplot_loss(\n",
    "\tdataframe = progress,\n",
    "\tfilename  = os.path.join(OUT_PLOT, CONFIG['model/type'] + '-best')\n",
    ")"
   ]
  },
  {
   "cell_type": "code",
   "execution_count": null,
   "id": "96ab5883-4f39-4b7a-bc68-75c2cc307f6e",
   "metadata": {},
   "outputs": [],
   "source": [
    "# Plot best trial valid r2\n",
    "\n",
    "raytune_plot.trial_lineplot_r2(\n",
    "\tdataframe = progress,\n",
    "\tfilename  = os.path.join(OUT_PLOT, CONFIG['model/type'] + '-best')\n",
    ")"
   ]
  },
  {
   "cell_type": "code",
   "execution_count": null,
   "id": "537bd163-1688-4a03-9793-0db2391b261a",
   "metadata": {
    "tags": []
   },
   "outputs": [],
   "source": [
    "# Plot trials learning rate\n",
    "\n",
    "raytune_plot.trial_lineplot_lr(\n",
    "\tdataframe = progress,\n",
    "\tfilename  = os.path.join(OUT_PLOT, CONFIG['model/type'] + '-best')\n",
    ")"
   ]
  }
 ],
 "metadata": {
  "kernelspec": {
   "display_name": "Python 3 (ipykernel)",
   "language": "python",
   "name": "python3"
  },
  "language_info": {
   "codemirror_mode": {
    "name": "ipython",
    "version": 3
   },
   "file_extension": ".py",
   "mimetype": "text/x-python",
   "name": "python",
   "nbconvert_exporter": "python",
   "pygments_lexer": "ipython3",
   "version": "3.10.7"
  }
 },
 "nbformat": 4,
 "nbformat_minor": 5
}
