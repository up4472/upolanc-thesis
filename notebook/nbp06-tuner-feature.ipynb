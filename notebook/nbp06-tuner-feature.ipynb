{
 "cells": [
  {
   "cell_type": "code",
   "execution_count": null,
   "id": "00b28859-72db-4353-a70d-880842d063ce",
   "metadata": {
    "tags": []
   },
   "outputs": [],
   "source": [
    "# Libraries\n",
    "\n",
    "import argparse\n",
    "import itertools\n",
    "import os\n",
    "import platform\n",
    "import ray\n",
    "import shutil\n",
    "import sys"
   ]
  },
  {
   "cell_type": "code",
   "execution_count": null,
   "id": "993178c8-6a03-4acc-9843-70a0e88b87e3",
   "metadata": {
    "tags": []
   },
   "outputs": [],
   "source": [
    "# Ensure source path\n",
    "\n",
    "ROOT = os.getcwd()\n",
    "\n",
    "while not ROOT.endswith('upolanc-thesis') :\n",
    "\tROOT = os.path.abspath(os.path.join(ROOT, os.pardir))\n",
    "\n",
    "\tif len(ROOT) < len('upolanc-thesis') :\n",
    "\t\tif   platform.system() == 'Linux'   : ROOT = '/d/hpc/projects/FRI/up4472/upolanc-thesis'\n",
    "\t\telif platform.system() == 'Windows' : ROOT = 'C:\\\\Developer\\\\Workspace\\\\PyCharm\\\\Projects\\\\upolanc-thesis'\n",
    "\t\telse : raise ValueError()\n",
    "\n",
    "\t\tprint(f'Warning : could not find correct directory, using default : {ROOT}')\n",
    "\t\tprint()\n",
    "\n",
    "\t\tbreak\n",
    "\n",
    "if ROOT not in sys.path :\n",
    "\tsys.path.append(ROOT)\n",
    "\n",
    "os.chdir(ROOT)"
   ]
  },
  {
   "cell_type": "code",
   "execution_count": null,
   "id": "029e85ce-3639-42a0-80ce-501e1a085d06",
   "metadata": {
    "tags": []
   },
   "outputs": [],
   "source": [
    "# Tuner\n",
    "\n",
    "ray.init(include_dashboard = False)\n",
    "\n",
    "from ray.tune import choice\n",
    "from ray.tune import grid_search\n",
    "from ray.tune import loguniform\n",
    "from ray.tune import randint\n",
    "from ray.tune import uniform"
   ]
  },
  {
   "cell_type": "code",
   "execution_count": null,
   "id": "9197dabb-0cac-417b-97da-a26ab8b417c4",
   "metadata": {
    "tags": []
   },
   "outputs": [],
   "source": [
    "# Code\n",
    "\n",
    "from source.python         import runtime\n",
    "from source.python.io      import loader\n",
    "from source.python.raytune import raytune_data\n",
    "from source.python.raytune import raytune_feature\n",
    "from source.python.raytune import raytune_model\n",
    "from source.python.raytune import raytune_plot\n",
    "from source.python.raytune import raytune_utils\n",
    "\n",
    "runtime.set_numpy_format()\n",
    "runtime.set_pandas_format()\n",
    "runtime.set_plot_theme()"
   ]
  },
  {
   "cell_type": "markdown",
   "id": "e3e7e250-5fe4-4cea-a889-f3b7c440deb0",
   "metadata": {},
   "source": [
    "# 1. Setup"
   ]
  },
  {
   "cell_type": "code",
   "execution_count": null,
   "id": "67c10080-512e-4ac0-9310-07e07e3f10e6",
   "metadata": {
    "tags": []
   },
   "outputs": [],
   "source": [
    "# Define output and inputs\n",
    "\n",
    "TUNER_CONCURRENT = 1\n",
    "TUNER_TRIALS     = 5\n",
    "TUNER_GRACE      = 5\n",
    "TUNER_NOTEBOOK   = True\n",
    "TUNER_SEARCH     = 'gridsearch'\n",
    "MODEL_EPOCHS     = 5\n",
    "GENERATOR        = 'group'"
   ]
  },
  {
   "cell_type": "code",
   "execution_count": null,
   "id": "c8470476-dcd7-412f-9c91-67ab0fe15da4",
   "metadata": {
    "tags": []
   },
   "outputs": [],
   "source": [
    "# Check for args\n",
    "\n",
    "if __name__ == '__main__' and 'get_ipython' in dir() :\n",
    "\tprint('Running as .ipynb')\n",
    "\tprint()\n",
    "\n",
    "if __name__ == '__main__' and 'get_ipython' not in dir() :\n",
    "\tprint('Running as .py')\n",
    "\tprint()\n",
    "\n",
    "\tparser = argparse.ArgumentParser()\n",
    "\n",
    "\tstr_of_bool = lambda x : True if x == 'true' else False\n",
    "\tstr_or_none = lambda x : None if x == 'none' else str(x)\n",
    "\n",
    "\tparser.add_argument('--tuner_concurrent', type = int, default = 5)\n",
    "\tparser.add_argument('--tuner_trials',     type = int, default = 500)\n",
    "\tparser.add_argument('--tuner_grace',      type = int, default = 10)\n",
    "\tparser.add_argument('--model_epochs',     type = int, default = 50)\n",
    "\tparser.add_argument('--generator',        type = str, default = 'group', choices = ['stratified', 'group', 'random'])\n",
    "\n",
    "\targs = vars(parser.parse_args())\n",
    "\n",
    "\tTUNER_CONCURRENT = args['tuner_concurrent']\n",
    "\tTUNER_TRIALS     = args['tuner_trials']\n",
    "\tTUNER_GRACE      = args['tuner_grace']\n",
    "\tMODEL_EPOCHS     = args['model_epochs']\n",
    "\tGENERATOR        = args['generator']\n",
    "\n",
    "\tTUNER_NOTEBOOK   = False"
   ]
  },
  {
   "cell_type": "code",
   "execution_count": null,
   "id": "edb9c63a-071a-4303-a56b-1b46787b8691",
   "metadata": {
    "tags": []
   },
   "outputs": [],
   "source": [
    "# Setup some directory paths.\n",
    "\n",
    "SUB_OUTPUT = 'feature'\n",
    "\n",
    "CWD = ROOT\n",
    "OUT = os.path.join(CWD, 'output')\n",
    "RES = os.path.join(CWD, 'resources')\n",
    "\n",
    "OUT_DATA  = os.path.join(OUT,      'nbp06-tuner', 'feature')\n",
    "OUT_PLOT  = os.path.join(OUT_DATA, 'plot')\n",
    "RES_TUNER = os.path.join(RES,      'tuner')\n",
    "\n",
    "shutil.rmtree(OUT_DATA, ignore_errors = True)\n",
    "\n",
    "os.makedirs(OUT_DATA, exist_ok = True)\n",
    "os.makedirs(OUT_PLOT, exist_ok = True)\n",
    "\n",
    "print(f'     Root Directory : {CWD}')\n",
    "print(f'   Output Directory : {OUT_DATA}')\n",
    "print(f'   Output Directory : {OUT_PLOT}')\n",
    "print(f' Resource Directory : {RES_TUNER}')\n",
    "print()"
   ]
  },
  {
   "cell_type": "code",
   "execution_count": null,
   "id": "5e018014-911d-43ce-a732-398decd154bb",
   "metadata": {
    "tags": []
   },
   "outputs": [],
   "source": [
    "# System and device\n",
    "\n",
    "DEVICE = runtime.get_device(only_cpu = False)\n",
    "SYSTEM = runtime.get_system_info()\n",
    "\n",
    "for key, value in SYSTEM.items() :\n",
    "\tprint('{:25s} : {}'.format(key, value))\n",
    "\n",
    "print()"
   ]
  },
  {
   "cell_type": "markdown",
   "id": "2f85d74c-aaee-4eaa-8f0e-8557710f8490",
   "metadata": {},
   "source": [
    "# 2. Tuner"
   ]
  },
  {
   "cell_type": "code",
   "execution_count": null,
   "id": "2793dee4-50c4-49d9-975e-9cfee599edba",
   "metadata": {
    "tags": []
   },
   "outputs": [],
   "source": [
    "# Define basic data parameters\n",
    "\n",
    "CONFIG = {\n",
    "\t'core/device'             : DEVICE,\n",
    "\t'core/outdir'             : OUT_DATA,\n",
    "\t'core/random'             : None,\n",
    "\t'core/rootdir'            : ROOT,\n",
    "\t'core/subfolder'          : None,\n",
    "\t'core/plots'              : 5,\n",
    "\t'dataset/expanddim'       : None,\n",
    "\t'dataset/split/generator' : GENERATOR,\n",
    "\t'dataset/split/test'      : 0.2,\n",
    "\t'dataset/split/valid'     : 0.2,\n",
    "\t'model/epochs'            : MODEL_EPOCHS,\n",
    "\t'model/input/features'    : 72,\n",
    "\t'model/name'              : 'default',\n",
    "\t'model/mode'              : 'regression',\n",
    "\t'model/output/size'       : 1,\n",
    "\t'params/filepath'         : RES_TUNER,\n",
    "\t'params/tuner'            : None,\n",
    "\t'tuner/checkpoint'        : False,\n",
    "\t'tuner/max_concurrent'    : TUNER_CONCURRENT,\n",
    "\t'tuner/max_epochs'        : MODEL_EPOCHS,\n",
    "\t'tuner/min_epochs'        : TUNER_GRACE,\n",
    "\t'tuner/reporter/freq'     : 30,\n",
    "\t'tuner/reporter/notebook' : TUNER_NOTEBOOK,\n",
    "\t'tuner/search'            : 'gridsearch',\n",
    "\t'tuner/stopper'           : True,\n",
    "\t'tuner/stopper/days'      : 3,\n",
    "\t'tuner/stopper/hours'     : 22,\n",
    "\t'tuner/stopper/minutes'   : 0,\n",
    "\t'tuner/trials'            : TUNER_TRIALS\n",
    "}\n",
    "\n",
    "CONFIG['core/random'] = runtime.lock_random(\n",
    "\tseed     = CONFIG['core/random'],\n",
    "\tgenerate = True\n",
    ")"
   ]
  },
  {
   "cell_type": "markdown",
   "id": "92f43379-296b-4956-9415-a05737ccfdb2",
   "metadata": {},
   "source": [
    "# 3. Search Space"
   ]
  },
  {
   "cell_type": "code",
   "execution_count": null,
   "id": "e6bffeb8-6a97-4e23-9bab-68be991693fe",
   "metadata": {
    "tags": []
   },
   "outputs": [],
   "source": [
    "# Define optimizer parameters\n",
    "\n",
    "optimizer_name     = 'adam'\n",
    "optimizer_lr       = loguniform(1e-6, 1e-3)\n",
    "optimizer_decay    = uniform(0.000, 0.100)\n",
    "optimizer_beta1    = uniform(0.600, 0.950)\n",
    "optimizer_beta2    = uniform(0.950, 0.999)"
   ]
  },
  {
   "cell_type": "code",
   "execution_count": null,
   "id": "27a68702-b61c-49c2-83d2-7e62cef434aa",
   "metadata": {
    "tags": []
   },
   "outputs": [],
   "source": [
    "# Define scheduler parameters\n",
    "\n",
    "scheduler_name       = 'exponential'\n",
    "scheduler_exp_factor = uniform(0.925, 0.995)"
   ]
  },
  {
   "cell_type": "code",
   "execution_count": null,
   "id": "f55aaca8-63c3-4f4d-ac0a-15f06f156a49",
   "metadata": {},
   "outputs": [],
   "source": [
    "# Define criterion parameters\n",
    "\n",
    "criterion_name      = 'mse'\n",
    "criterion_reduction = 'mean'"
   ]
  },
  {
   "cell_type": "code",
   "execution_count": null,
   "id": "52bec193-e9fa-4a02-bb54-fbdb67e08ab9",
   "metadata": {},
   "outputs": [],
   "source": [
    "# Define model parameters\n",
    "\n",
    "model_dropout   = uniform(0.0, 0.5)\n",
    "model_leakyrelu = uniform(0.0, 0.1)\n",
    "\n",
    "fc1_features = [64, 128, 256, 512]\n",
    "fc2_features = [64, 128, 256, 512]"
   ]
  },
  {
   "cell_type": "code",
   "execution_count": null,
   "id": "cf513ae7-b29e-43c0-b790-c1e35bf43b55",
   "metadata": {
    "tags": []
   },
   "outputs": [],
   "source": [
    "# Grid Search\n",
    "\n",
    "gs_model = [\n",
    "\t'densefc2',\n",
    "\t'densefc3'\n",
    "]\n",
    "\n",
    "gs_filter = [\n",
    "\t'filter1',\n",
    "\t'filter2',\n",
    "\t'filter3',\n",
    "\t'filter4',\n",
    "\t'filter5'\n",
    "]\n",
    "\n",
    "gs_target = [\n",
    "\t'global-mean'\n",
    "]"
   ]
  },
  {
   "cell_type": "code",
   "execution_count": null,
   "id": "28493c1b-0854-4b36-8103-84b33ab99742",
   "metadata": {
    "tags": []
   },
   "outputs": [],
   "source": [
    "# Define search space\n",
    "\n",
    "param_space = dict()\n",
    "\n",
    "# Dataset\n",
    "param_space['dataset/batch_size'] = choice([32, 64, 128])\n",
    "\n",
    "# Optimizer\n",
    "param_space['optimizer/name']  = optimizer_name\n",
    "param_space['optimizer/lr']    = optimizer_lr\n",
    "param_space['optimizer/decay'] = optimizer_decay\n",
    "param_space['optimizer/beta1'] = optimizer_beta1\n",
    "param_space['optimizer/beta2'] = optimizer_beta2\n",
    "\n",
    "# Criterion\n",
    "param_space['criterion/name']      = criterion_name\n",
    "param_space['criterion/reduction'] = criterion_reduction\n",
    "\n",
    "# Scheduler\n",
    "param_space['scheduler/name']               = scheduler_name\n",
    "param_space['scheduler/exponential/factor'] = scheduler_exp_factor\n",
    "\n",
    "# Model\n",
    "param_space['model/dropout']   = model_dropout\n",
    "param_space['model/leakyrelu'] = model_leakyrelu\n",
    "\n",
    "# Linear\n",
    "param_space['model/fc1/features'] = choice(fc1_features)\n",
    "param_space['model/fc2/features'] = choice(fc2_features)\n",
    "\n",
    "# Grid Search\n",
    "param_space['gs/model']   = grid_search(gs_model)\n",
    "param_space['gs/filter']  = grid_search(gs_filter)\n",
    "param_space['gs/target']  = grid_search(gs_target)"
   ]
  },
  {
   "cell_type": "markdown",
   "id": "9b92c29b-4388-4d61-ad0a-05aa57ccfe65",
   "metadata": {},
   "source": [
    "# 4. Tuning"
   ]
  },
  {
   "cell_type": "code",
   "execution_count": null,
   "id": "c5f4752d-8418-45af-913c-8385ad862587",
   "metadata": {
    "tags": []
   },
   "outputs": [],
   "source": [
    "# Create tuner config\n",
    "\n",
    "trainable = raytune_utils.create_trainable(\n",
    "\tmethod    = raytune_feature.main,\n",
    "\tconfig    = CONFIG,\n",
    "\tcpu_count = SYSTEM['platform/cpu/count'],\n",
    "\tgpu_count = SYSTEM['platform/gpu/count']\n",
    ")\n",
    "\n",
    "tune_config = raytune_utils.create_tune_config(\n",
    "\tconfig    = CONFIG,\n",
    "\talgorithm = CONFIG['tuner/search'],\n",
    "\tparams    = None\n",
    ")\n",
    "\n",
    "run_config = raytune_utils.create_run_config(\n",
    "\tconfig    = CONFIG,\n",
    "\tlocal_dir = OUT_DATA,\n",
    "\tverbosity = raytune_utils.VERBOSE_STATUS,\n",
    "\ttask      = 'feature'\n",
    ")"
   ]
  },
  {
   "cell_type": "code",
   "execution_count": null,
   "id": "f69ffa02-d32f-41fb-8e49-eeb305987987",
   "metadata": {
    "tags": []
   },
   "outputs": [],
   "source": [
    "# Create tune and fit\n",
    "\n",
    "tuner = raytune_utils.create_tuner(\n",
    "\ttrainable   = trainable,\n",
    "\ttune_config = tune_config,\n",
    "\trun_config  = run_config,\n",
    "\tparam_space = param_space\n",
    ")\n",
    "\n",
    "report = tuner.fit()"
   ]
  },
  {
   "cell_type": "markdown",
   "id": "b35e43b7-805b-4a69-b70b-56aee1053203",
   "metadata": {},
   "source": [
    "# 5. Reports"
   ]
  },
  {
   "cell_type": "code",
   "execution_count": null,
   "id": "85d46462-4700-4a73-93de-b99463626df1",
   "metadata": {
    "tags": []
   },
   "outputs": [],
   "source": [
    "# Check if there have been errors\n",
    "\n",
    "if report.errors :\n",
    "\tprint('At least one of the trials has failed.')\n",
    "\tprint()\n",
    "else :\n",
    "\tprint('No errors.')\n",
    "\tprint()"
   ]
  },
  {
   "cell_type": "code",
   "execution_count": null,
   "id": "64753c3a-bfc0-4fba-bea3-26f806f0c992",
   "metadata": {
    "tags": []
   },
   "outputs": [],
   "source": [
    "# Print possible columns\n",
    "\n",
    "for index, column in enumerate(report.get_dataframe().columns, start = 1) :\n",
    "\tprint('{:<40s}'.format(column), end = ' ')\n",
    "\n",
    "\tif index % 3 == 0 :\n",
    "\t\tprint()\n",
    "\n",
    "print()\n",
    "print()"
   ]
  },
  {
   "cell_type": "code",
   "execution_count": null,
   "id": "9b0fd34a-282e-4d09-b188-7f9c065422e1",
   "metadata": {
    "tags": []
   },
   "outputs": [],
   "source": [
    "# Print the results as dataframe\n",
    "\n",
    "dataframe = report.get_dataframe()\n",
    "\n",
    "print('Shortest training time : {:8,.1f} minutes'.format(dataframe['time_total_s'].min()  / 60.0))\n",
    "print(' Longest training time : {:8,.1f} minutes'.format(dataframe['time_total_s'].max()  / 60.0))\n",
    "print('   Total training time : {:8,.1f} minutes'.format(dataframe['time_total_s'].sum()  / 60.0))\n",
    "print('    Mean training time : {:8,.1f} minutes'.format(dataframe['time_total_s'].mean() / 60.0))\n",
    "print()\n",
    "\n",
    "if CONFIG['model/mode'] == 'regression' :\n",
    "\ttrials = dataframe[[\n",
    "\t\t'trial_id', 'logdir', 'time_total_s', 'training_iteration',\n",
    "\t\t'train_loss', 'train_r2', 'train_mae', 'train_mape', 'train_wmape',\n",
    "\t\t'valid_loss', 'valid_r2', 'valid_mae', 'valid_mape', 'valid_wmape',\n",
    "\t]]\n",
    "\n",
    "if CONFIG['model/mode'] == 'classification' :\n",
    "\ttrials = dataframe[[\n",
    "\t\t'trial_id', 'logdir', 'time_total_s', 'training_iteration',\n",
    "\t\t'train_loss', 'train_accuracy', 'train_auroc', 'train_f1',\n",
    "\t\t'valid_loss', 'valid_accuracy', 'valid_auroc', 'valid_f1'\n",
    "\t]]\n",
    "\n",
    "trials = trials.sort_values('valid_loss', ascending = True)\n",
    "trials"
   ]
  },
  {
   "cell_type": "code",
   "execution_count": null,
   "id": "2f254201-13c8-4923-b4a3-512f537da9bd",
   "metadata": {
    "tags": []
   },
   "outputs": [],
   "source": [
    "# Save the tuning results\n",
    "\n",
    "report.get_dataframe().to_csv(\n",
    "\tos.path.join(OUT_DATA, 'report.csv')\n",
    ")"
   ]
  },
  {
   "cell_type": "markdown",
   "id": "cf311649-14e5-49fe-9d40-979ad356c2c0",
   "metadata": {},
   "source": [
    "## 5.1 Visualization"
   ]
  },
  {
   "cell_type": "code",
   "execution_count": null,
   "id": "af64c768-b87a-4a0a-b08d-98cd53b2842c",
   "metadata": {
    "tags": []
   },
   "outputs": [],
   "source": [
    "# Plot trials valid loss\n",
    "\n",
    "raytune_plot.trials_lineplot_loss(\n",
    "\tdataframe  = trials,\n",
    "\tmax_trials = CONFIG['core/plots'],\n",
    "\talpha      = 0.9,\n",
    "\tfilename   = os.path.join(OUT_PLOT, CONFIG['model/name'] + '-trials')\n",
    ")"
   ]
  },
  {
   "cell_type": "markdown",
   "id": "c4d08bb3-c673-463e-b1b5-eb959fcf2ddf",
   "metadata": {},
   "source": [
    "### 5.1.1 Regression"
   ]
  },
  {
   "cell_type": "code",
   "execution_count": null,
   "id": "63678f7c-6670-4426-b604-6c1fb5311bd1",
   "metadata": {
    "tags": []
   },
   "outputs": [],
   "source": [
    "# Plot trials valid r2\n",
    "\n",
    "if CONFIG['model/mode'] == 'regression' :\n",
    "\traytune_plot.trials_lineplot_r2(\n",
    "\t\tdataframe  = trials,\n",
    "\t\tmax_trials = CONFIG['core/plots'],\n",
    "\t\talpha      = 0.9,\n",
    "\t\tfilename   = os.path.join(OUT_PLOT, CONFIG['model/name'] + '-trials')\n",
    "\t)"
   ]
  },
  {
   "cell_type": "markdown",
   "id": "9e9e20fd-4d34-4ebe-9b23-b3b1af3ba6c4",
   "metadata": {},
   "source": [
    "### 5.1.2 Classification"
   ]
  },
  {
   "cell_type": "code",
   "execution_count": null,
   "id": "1cb3b96a-9705-4928-aa8f-98ebcf075783",
   "metadata": {},
   "outputs": [],
   "source": [
    "# Plot trials valid accuracy\n",
    "\n",
    "if CONFIG['model/mode'] == 'classification' :\n",
    "\traytune_plot.trials_lineplot_accuracy(\n",
    "\t\tdataframe  = trials,\n",
    "\t\tmax_trials = CONFIG['core/plots'],\n",
    "\t\talpha      = 0.9,\n",
    "\t\tfilename   = os.path.join(OUT_PLOT, CONFIG['model/name'] + '-trials')\n",
    "\t)"
   ]
  },
  {
   "cell_type": "markdown",
   "id": "0f6832d1-1c53-4462-9d5c-d8754278e556",
   "metadata": {},
   "source": [
    "## 5.2 Best"
   ]
  },
  {
   "cell_type": "code",
   "execution_count": null,
   "id": "ae730f4a-a86e-4127-9ca9-72dc1cd6a6a7",
   "metadata": {
    "tags": []
   },
   "outputs": [],
   "source": [
    "# Display best trial\n",
    "\n",
    "best = report.get_best_result()\n",
    "\n",
    "if CONFIG['model/mode'] == 'regression'     : metrics = ['loss', 'r2', 'mae', 'mape', 'wmape']\n",
    "if CONFIG['model/mode'] == 'classification' : metrics = ['loss', 'accuracy', 'auroc', 'f1', 'matthews']\n",
    "\n",
    "for mode, metric in itertools.product(['train', 'valid'], metrics) :\n",
    "\tk0 = 'metrics/{}/{}'.format(mode, metric)\n",
    "\tk1 = '{}_{}'.format(mode, metric)\n",
    "\n",
    "\tbest.config[k0] = float(best.metrics[k1])\n",
    "\n",
    "print('Best config :')\n",
    "print()\n",
    "print('{')\n",
    "\n",
    "for index, (key, val) in enumerate(sorted(best.config.items()), start = 1) :\n",
    "\tif isinstance(key, str)   : key = f'\"{key}\"'\n",
    "\tif isinstance(val, str)   : val = f'\"{val}\"'\n",
    "\n",
    "\tif isinstance(val, float) : print('\\t{:30s} : {:.16f}'.format(key, val), end = '')\n",
    "\telse                      : print('\\t{:30s} : {}'.format(key, val), end = '')\n",
    "\n",
    "\tif index < len(best.config) : print(',')\n",
    "\telse                        : print('')\n",
    "\n",
    "print('}')\n",
    "print()"
   ]
  },
  {
   "cell_type": "code",
   "execution_count": null,
   "id": "720d36e8-f7a8-4638-850f-2bae90682c9d",
   "metadata": {
    "tags": []
   },
   "outputs": [],
   "source": [
    "# Display per iteration\n",
    "\n",
    "progress = loader.load_csv(\n",
    "\tfilename = os.path.join(best.log_dir, 'progress.csv')\n",
    ")\n",
    "\n",
    "if CONFIG['model/mode'] == 'regression' :\n",
    "\tprogress = progress[[\n",
    "\t\t'trial_id', 'time_total_s', 'training_iteration', 'lr',\n",
    "\t\t'train_loss', 'train_r2', 'train_mae', 'train_mape', 'train_wmape',\n",
    "\t\t'valid_loss', 'valid_r2', 'valid_mae', 'valid_mape', 'valid_wmape',\n",
    "\t]]\n",
    "\n",
    "if CONFIG['model/mode'] == 'classification' :\n",
    "\tprogress = progress[[\n",
    "\t\t'trial_id', 'time_total_s', 'training_iteration', 'lr',\n",
    "\t\t'train_loss', 'train_accuracy', 'train_auroc', 'train_f1', 'train_matthews',\n",
    "\t\t'valid_loss', 'valid_accuracy', 'valid_auroc', 'valid_f1', 'valid_matthews'\n",
    "\t]]\n",
    "\n",
    "progress"
   ]
  },
  {
   "cell_type": "code",
   "execution_count": null,
   "id": "30fab838-976f-496e-8406-9085c475cc40",
   "metadata": {
    "tags": []
   },
   "outputs": [],
   "source": [
    "# Plot best trial valid loss\n",
    "\n",
    "raytune_plot.trial_lineplot_loss(\n",
    "\tdataframe = progress,\n",
    "\tfilename  = os.path.join(OUT_PLOT, CONFIG['model/name'] + '-best')\n",
    ")"
   ]
  },
  {
   "cell_type": "code",
   "execution_count": null,
   "id": "96ab5883-4f39-4b7a-bc68-75c2cc307f6e",
   "metadata": {
    "tags": []
   },
   "outputs": [],
   "source": [
    "# Plot best trial valid r2\n",
    "\n",
    "if CONFIG['model/mode'] == 'regression' :\n",
    "\traytune_plot.trial_lineplot_r2(\n",
    "\t\tdataframe = progress,\n",
    "\t\tfilename  = os.path.join(OUT_PLOT, CONFIG['model/name'] + '-best')\n",
    "\t)"
   ]
  },
  {
   "cell_type": "code",
   "execution_count": null,
   "id": "aa9da68c-0461-4dc6-b7d8-cfa156cf18b8",
   "metadata": {
    "tags": []
   },
   "outputs": [],
   "source": [
    "# Plot best trial valid accuracy\n",
    "\n",
    "if CONFIG['model/mode'] == 'classification' :\n",
    "\traytune_plot.trial_lineplot_accuracy(\n",
    "\t\tdataframe = progress,\n",
    "\t\tfilename  = os.path.join(OUT_PLOT, CONFIG['model/name'] + '-best')\n",
    "\t)"
   ]
  },
  {
   "cell_type": "code",
   "execution_count": null,
   "id": "537bd163-1688-4a03-9793-0db2391b261a",
   "metadata": {
    "tags": []
   },
   "outputs": [],
   "source": [
    "# Plot trials learning rate\n",
    "\n",
    "raytune_plot.trial_lineplot_lr(\n",
    "\tdataframe = progress,\n",
    "\tfilename  = os.path.join(OUT_PLOT, CONFIG['model/name'] + '-best')\n",
    ")"
   ]
  }
 ],
 "metadata": {
  "kernelspec": {
   "display_name": "Python 3 (ipykernel)",
   "language": "python",
   "name": "python3"
  },
  "language_info": {
   "codemirror_mode": {
    "name": "ipython",
    "version": 3
   },
   "file_extension": ".py",
   "mimetype": "text/x-python",
   "name": "python",
   "nbconvert_exporter": "python",
   "pygments_lexer": "ipython3",
   "version": "3.10.7"
  }
 },
 "nbformat": 4,
 "nbformat_minor": 5
}
