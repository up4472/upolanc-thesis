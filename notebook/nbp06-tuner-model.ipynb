{
 "cells": [
  {
   "cell_type": "code",
   "execution_count": 1,
   "id": "4d6c1030-49e7-4910-a32d-0ae78ce0ce1f",
   "metadata": {
    "execution": {
     "iopub.execute_input": "2023-04-11T14:59:33.036713Z",
     "iopub.status.busy": "2023-04-11T14:59:33.036213Z",
     "iopub.status.idle": "2023-04-11T14:59:34.940346Z",
     "shell.execute_reply": "2023-04-11T14:59:34.939346Z",
     "shell.execute_reply.started": "2023-04-11T14:59:33.036713Z"
    },
    "tags": []
   },
   "outputs": [],
   "source": [
    "# Libraries\n",
    "\n",
    "import argparse\n",
    "import itertools\n",
    "import numpy\n",
    "import os\n",
    "import platform\n",
    "import ray\n",
    "import shutil\n",
    "import sys\n",
    "import torch"
   ]
  },
  {
   "cell_type": "code",
   "execution_count": 2,
   "id": "0f4e7e4e-b486-4abf-ae0d-4b22537b648b",
   "metadata": {
    "execution": {
     "iopub.execute_input": "2023-04-11T14:59:34.942849Z",
     "iopub.status.busy": "2023-04-11T14:59:34.942348Z",
     "iopub.status.idle": "2023-04-11T14:59:34.955359Z",
     "shell.execute_reply": "2023-04-11T14:59:34.954359Z",
     "shell.execute_reply.started": "2023-04-11T14:59:34.942849Z"
    },
    "tags": []
   },
   "outputs": [],
   "source": [
    "# Ensure source path\n",
    "\n",
    "ROOT = os.getcwd()\n",
    "\n",
    "while not ROOT.endswith('upolanc-thesis') :\n",
    "\tROOT = os.path.abspath(os.path.join(ROOT, os.pardir))\n",
    "\n",
    "\tif len(ROOT) < len('upolanc-thesis') :\n",
    "\t\tif   platform.system() == 'Linux' :\n",
    "\t\t\tROOT = '/d/hpc/home/up4472/workspace/upolanc-thesis'\n",
    "\t\telif platform.system() == 'Windows' :\n",
    "\t\t\tROOT = 'C:\\\\Developer\\\\Workspace\\\\PyCharm\\\\Projects\\\\upolanc-thesis'\n",
    "\t\telse :\n",
    "\t\t\traise ValueError()\n",
    "\n",
    "\t\tprint(f'Warning : could not find correct directory, using default : {ROOT}')\n",
    "\t\tbreak\n",
    "\n",
    "if ROOT not in sys.path :\n",
    "\tsys.path.append(ROOT)\n",
    "\n",
    "os.chdir(ROOT)"
   ]
  },
  {
   "cell_type": "code",
   "execution_count": 3,
   "id": "8655f888-e21b-4f0e-bebe-ae1e06bf72f9",
   "metadata": {
    "execution": {
     "iopub.execute_input": "2023-04-11T14:59:34.956861Z",
     "iopub.status.busy": "2023-04-11T14:59:34.956360Z",
     "iopub.status.idle": "2023-04-11T14:59:41.220735Z",
     "shell.execute_reply": "2023-04-11T14:59:41.219735Z",
     "shell.execute_reply.started": "2023-04-11T14:59:34.956861Z"
    },
    "tags": []
   },
   "outputs": [
    {
     "name": "stderr",
     "output_type": "stream",
     "text": [
      "2023-04-11 14:59:37,395\tINFO worker.py:1538 -- Started a local Ray instance.\n"
     ]
    }
   ],
   "source": [
    "# Tuner\n",
    "\n",
    "ray.init(include_dashboard = False)\n",
    "\n",
    "from ray.tune import choice\n",
    "from ray.tune import uniform\n",
    "from ray.tune import loguniform\n",
    "from ray.tune import randint"
   ]
  },
  {
   "cell_type": "code",
   "execution_count": 4,
   "id": "53cad32c-4de4-412f-a1e9-9e48a8f77213",
   "metadata": {
    "execution": {
     "iopub.execute_input": "2023-04-11T14:59:41.221736Z",
     "iopub.status.busy": "2023-04-11T14:59:41.221236Z",
     "iopub.status.idle": "2023-04-11T14:59:43.253479Z",
     "shell.execute_reply": "2023-04-11T14:59:43.251978Z",
     "shell.execute_reply.started": "2023-04-11T14:59:41.221736Z"
    },
    "tags": []
   },
   "outputs": [],
   "source": [
    "# Code\n",
    "\n",
    "from source.python.dataset import dataset_utils\n",
    "from source.python.raytune import raytune_model\n",
    "from source.python.raytune import raytune_plot\n",
    "from source.python.raytune import raytune_utils\n",
    "from source.python.io      import loader\n",
    "from source.python         import runtime\n",
    "\n",
    "runtime.set_numpy_format()\n",
    "runtime.set_pandas_format()\n",
    "runtime.set_plot_theme()"
   ]
  },
  {
   "cell_type": "markdown",
   "id": "d50a8f4a-ddce-4960-a822-3f612701ff0d",
   "metadata": {},
   "source": [
    "# 1. Setup"
   ]
  },
  {
   "cell_type": "code",
   "execution_count": 5,
   "id": "cfbe5643-6b5b-4bb7-a84e-c1ec9ce656c1",
   "metadata": {
    "execution": {
     "iopub.execute_input": "2023-04-11T14:59:43.255982Z",
     "iopub.status.busy": "2023-04-11T14:59:43.255481Z",
     "iopub.status.idle": "2023-04-11T14:59:43.269493Z",
     "shell.execute_reply": "2023-04-11T14:59:43.267492Z",
     "shell.execute_reply.started": "2023-04-11T14:59:43.255982Z"
    },
    "tags": []
   },
   "outputs": [],
   "source": [
    "# Define output and inputs\n",
    "\n",
    "MODEL_NAME       = 'zrimec2020'\n",
    "MODEL_TYPE       = 'r'\n",
    "MODEL_MODE       = None\n",
    "MODEL_PARAMS     = None\n",
    "MODEL_EPOCHS     = 5\n",
    "\n",
    "TARGET_GROUP     = 'global'\n",
    "TARGET_TYPE      = 'mean'\n",
    "TARGET_EXPLODE   = False\n",
    "TARGET_FILTER    = None\n",
    "\n",
    "TUNER_CONCURRENT = 1\n",
    "TUNER_TRIALS     = 5\n",
    "TUNER_GRACE      = 1\n",
    "TUNER_NOTEBOOK   = True\n",
    "\n",
    "PARAMS_SHARE     = False"
   ]
  },
  {
   "cell_type": "code",
   "execution_count": 6,
   "id": "89614f5c-6526-45f2-a2ee-113428cbe7f6",
   "metadata": {
    "execution": {
     "iopub.execute_input": "2023-04-11T14:59:43.270994Z",
     "iopub.status.busy": "2023-04-11T14:59:43.270494Z",
     "iopub.status.idle": "2023-04-11T14:59:43.283506Z",
     "shell.execute_reply": "2023-04-11T14:59:43.283004Z",
     "shell.execute_reply.started": "2023-04-11T14:59:43.270994Z"
    },
    "tags": []
   },
   "outputs": [
    {
     "name": "stdout",
     "output_type": "stream",
     "text": [
      "Running as .ipynb\n"
     ]
    }
   ],
   "source": [
    "# Check for args\n",
    "\n",
    "if __name__ == '__main__' and 'get_ipython' in dir() :\n",
    "\tprint('Running as .ipynb')\n",
    "\n",
    "if __name__ == '__main__' and 'get_ipython' not in dir() :\n",
    "\tprint('Running as .py')\n",
    "\n",
    "\tparser = argparse.ArgumentParser()\n",
    "\n",
    "\tstr_of_bool = lambda x : True if x == 'true' else False\n",
    "\tstr_or_none = lambda x : None if x == 'none' else str(x)\n",
    "\n",
    "\t_target_groups = ['tissue', 'group', 'age', 'global', 'perturbation']\n",
    "\t_target_types  = ['mean', 'max']\n",
    "\t_model_names   = ['washburn2019', 'zrimec2020']\n",
    "\t_model_types   = ['r', 'c']\n",
    "\n",
    "\tparser.add_argument('--target_group',     type = str,         default = 'global',     choices = _target_groups)\n",
    "\tparser.add_argument('--target_type',      type = str,         default = 'mean',       choices = _target_types)\n",
    "\tparser.add_argument('--model_name',       type = str,         default = 'zrimec2020', choices = _model_names)\n",
    "\tparser.add_argument('--model_type',       type = str,         default = 'r',          choices = _model_types)\n",
    "\tparser.add_argument('--target_explode',   type = str_of_bool, default = False)\n",
    "\tparser.add_argument('--target_filter',    type = str_or_none, default = None)\n",
    "\tparser.add_argument('--model_epochs',     type = int,         default = 500)\n",
    "\tparser.add_argument('--tuner_concurrent', type = int,         default = 5)\n",
    "\tparser.add_argument('--tuner_trials',     type = int,         default = 250)\n",
    "\tparser.add_argument('--tuner_grace',      type = int,         default = 5)\n",
    "\tparser.add_argument('--parms_share',      type = str_of_bool, default = False)\n",
    "\n",
    "\targs = vars(parser.parse_args())\n",
    "\n",
    "\tTARGET_GROUP     = args['target_group']\n",
    "\tTARGET_TYPE      = args['target_type']\n",
    "\tTARGET_EXPLODE   = args['target_explode']\n",
    "\tTARGET_FILTER    = args['target_filter']\n",
    "\tMODEL_NAME       = args['model_name']\n",
    "\tMODEL_TYPE       = args['model_type']\n",
    "\tMODEL_EPOCHS     = args['model_epochs']\n",
    "\tTUNER_CONCURRENT = args['tuner_concurrent']\n",
    "\tTUNER_TRIALS     = args['tuner_trials']\n",
    "\tTUNER_GRACE      = args['tuner_grace']\n",
    "\tPARAMS_SHARE     = args['params_share']\n",
    "\tTUNER_NOTEBOOK   = False\n",
    "\n",
    "if TARGET_GROUP == 'global' :\n",
    "\tTARGET_EXPLODE = False\n",
    "\n",
    "if MODEL_TYPE == 'r' : MODEL_MODE = 'regression'\n",
    "if MODEL_TYPE == 'c' : MODEL_MODE = 'classification'"
   ]
  },
  {
   "cell_type": "code",
   "execution_count": 7,
   "id": "7d9d420a-cde8-46cb-be15-1f99347d9bdd",
   "metadata": {
    "execution": {
     "iopub.execute_input": "2023-04-11T14:59:43.292012Z",
     "iopub.status.busy": "2023-04-11T14:59:43.291512Z",
     "iopub.status.idle": "2023-04-11T14:59:43.423125Z",
     "shell.execute_reply": "2023-04-11T14:59:43.422625Z",
     "shell.execute_reply.started": "2023-04-11T14:59:43.292012Z"
    },
    "tags": []
   },
   "outputs": [
    {
     "name": "stdout",
     "output_type": "stream",
     "text": [
      "     Root Directory : C:\\Developer\\Workspace\\PyCharm\\Projects\\upolanc-thesis\n",
      "   Output Directory : C:\\Developer\\Workspace\\PyCharm\\Projects\\upolanc-thesis\\output\\nbp06-tuner\\default\\model\\zrimec\n",
      "   Output Directory : C:\\Developer\\Workspace\\PyCharm\\Projects\\upolanc-thesis\\output\\nbp06-tuner\\default\\model\\zrimec\\plot\n",
      " Resource Directory : C:\\Developer\\Workspace\\PyCharm\\Projects\\upolanc-thesis\\resources\\tuner\n",
      " Resource Directory : C:\\Developer\\Workspace\\PyCharm\\Projects\\upolanc-thesis\\output\\nbp04-feature\\default\n",
      " Resource Directory : C:\\Developer\\Workspace\\PyCharm\\Projects\\upolanc-thesis\\output\\nbp05-target\\default\n"
     ]
    }
   ],
   "source": [
    "# Setup some directory paths.\n",
    "\n",
    "SUBFOLDER = 'default'\n",
    "\n",
    "CWD = ROOT\n",
    "OUT = os.path.join(CWD, 'output')\n",
    "RES = os.path.join(CWD, 'resources')\n",
    "\n",
    "OUT_DATA  = os.path.join(OUT,      'nbp06-tuner', SUBFOLDER, 'model', MODEL_NAME[:-4])\n",
    "OUT_PLOT  = os.path.join(OUT_DATA, 'plot')\n",
    "RES_TUNER = os.path.join(RES,      'tuner')\n",
    "RES_NBP04 = os.path.join(OUT,      'nbp04-feature', SUBFOLDER)\n",
    "RES_NBP05 = os.path.join(OUT,      'nbp05-target',  SUBFOLDER)\n",
    "\n",
    "shutil.rmtree(OUT_DATA, ignore_errors = True)\n",
    "\n",
    "os.makedirs(OUT_DATA, exist_ok = True)\n",
    "os.makedirs(OUT_PLOT, exist_ok = True)\n",
    "\n",
    "print(f'     Root Directory : {CWD}')\n",
    "print(f'   Output Directory : {OUT_DATA}')\n",
    "print(f'   Output Directory : {OUT_PLOT}')\n",
    "print(f' Resource Directory : {RES_TUNER}')\n",
    "print(f' Resource Directory : {RES_NBP04}')\n",
    "print(f' Resource Directory : {RES_NBP05}')"
   ]
  },
  {
   "cell_type": "code",
   "execution_count": 8,
   "id": "a7f1d561-e60e-44ea-9ffc-60f3bc53c1c4",
   "metadata": {
    "execution": {
     "iopub.execute_input": "2023-04-11T14:59:43.424126Z",
     "iopub.status.busy": "2023-04-11T14:59:43.424126Z",
     "iopub.status.idle": "2023-04-11T14:59:43.470166Z",
     "shell.execute_reply": "2023-04-11T14:59:43.469164Z",
     "shell.execute_reply.started": "2023-04-11T14:59:43.424126Z"
    },
    "tags": []
   },
   "outputs": [
    {
     "name": "stdout",
     "output_type": "stream",
     "text": [
      "platform/python           : 3.10.7\n",
      "platform/system           : Windows\n",
      "platform/release          : 10\n",
      "platform/version          : 10.0.19044\n",
      "platform/cpu/name         : N/A\n",
      "platform/cpu/count        : 12\n",
      "platform/gpu/name         : NVIDIA GeForce RTX 3060 Ti\n",
      "platform/gpu/available    : True\n",
      "platform/gpu/count        : 1\n",
      "platform/memory/total     : 31.924 GB\n",
      "platform/memory/available : 15.873 GB\n"
     ]
    }
   ],
   "source": [
    "# System and device\n",
    "\n",
    "DEVICE = runtime.get_device(only_cpu = False)\n",
    "SYSTEM = runtime.get_system_info()\n",
    "\n",
    "for key, value in SYSTEM.items() :\n",
    "\tprint('{:25s} : {}'.format(key, value))"
   ]
  },
  {
   "cell_type": "code",
   "execution_count": 9,
   "id": "d254fe75-06de-4b51-88ab-e6af1f5af769",
   "metadata": {
    "execution": {
     "iopub.execute_input": "2023-04-11T14:59:43.471667Z",
     "iopub.status.busy": "2023-04-11T14:59:43.471167Z",
     "iopub.status.idle": "2023-04-11T14:59:52.684573Z",
     "shell.execute_reply": "2023-04-11T14:59:52.684071Z",
     "shell.execute_reply.started": "2023-04-11T14:59:43.471667Z"
    },
    "tags": []
   },
   "outputs": [],
   "source": [
    "# Load the input transcript features\n",
    "\n",
    "sequence_bp2150 = loader.load_fasta(\n",
    "\tfilename  = os.path.join(RES_NBP04, 'sequences-bp2150.fasta'),\n",
    "\tto_string = True\n",
    ")\n",
    "\n",
    "feature_base = loader.load_npz(\n",
    "\tfilename = os.path.join(RES_NBP04, 'features-base.npz')\n",
    ")"
   ]
  },
  {
   "cell_type": "markdown",
   "id": "de314874-ff3f-43c1-bb0a-919f2d63e775",
   "metadata": {},
   "source": [
    "# 2. Tuner"
   ]
  },
  {
   "cell_type": "code",
   "execution_count": 10,
   "id": "7df5b6e1-2eb9-4c84-a31b-418ccbfd4766",
   "metadata": {
    "execution": {
     "iopub.execute_input": "2023-04-11T14:59:52.686074Z",
     "iopub.status.busy": "2023-04-11T14:59:52.685574Z",
     "iopub.status.idle": "2023-04-11T14:59:52.700085Z",
     "shell.execute_reply": "2023-04-11T14:59:52.699584Z",
     "shell.execute_reply.started": "2023-04-11T14:59:52.686074Z"
    },
    "tags": []
   },
   "outputs": [],
   "source": [
    "# Define basic data parameters\n",
    "\n",
    "CONFIG = {\n",
    "\t'core/random'             : None,\n",
    "\t'core/device'             : DEVICE,\n",
    "\t'core/rootdir'            : ROOT,\n",
    "\t'core/outdir'             : OUT_DATA,\n",
    "\t'dataset/filepath'        : os.path.join(OUT_DATA, 'dataset.pkl'),\n",
    "\t'dataset/expanddim'       : None,\n",
    "\t'dataset/split/valid'     : 0.2,\n",
    "\t'dataset/split/test'      : 0.2,\n",
    "\t'tuner/trials'            : TUNER_TRIALS,\n",
    "\t'tuner/max_epochs'        : MODEL_EPOCHS,\n",
    "\t'tuner/min_epochs'        : TUNER_GRACE,\n",
    "\t'tuner/max_concurrent'    : TUNER_CONCURRENT,\n",
    "\t'tuner/reporter/freq'     : 30,\n",
    "\t'tuner/reporter/notebook' : TUNER_NOTEBOOK,\n",
    "\t'tuner/checkpoint'        : False,\n",
    "\t'tuner/stopper'           : True,\n",
    "\t'tuner/stopper/days'      : 3,\n",
    "\t'tuner/stopper/hours'     : 22,\n",
    "\t'tuner/stopper/minutes'   : 0,\n",
    "\t'model/name'              : MODEL_NAME,\n",
    "\t'model/type'              : MODEL_NAME + MODEL_TYPE,\n",
    "\t'model/mode'              : MODEL_MODE,\n",
    "\t'model/epochs'            : MODEL_EPOCHS,\n",
    "\t'model/input/channels'    : 1,\n",
    "\t'model/input/height'      : 4,\n",
    "\t'model/input/width'       : 2150,\n",
    "\t'model/input/features'    : None,\n",
    "\t'model/output/target'     : TARGET_GROUP,\n",
    "\t'model/output/type'       : TARGET_TYPE,\n",
    "\t'model/output/filter'     : TARGET_FILTER,\n",
    "\t'model/output/explode'    : TARGET_EXPLODE,\n",
    "\t'model/output/size'       : None,\n",
    "\t'model/output/heads'      : None,\n",
    "\t'params/tuner'            : None,\n",
    "\t'params/filepath'         : RES_TUNER,\n",
    "\t'params/plot/max'         : 25,\n",
    "\t'params/share'            : PARAMS_SHARE\n",
    "}\n",
    "\n",
    "CONFIG['core/random'] = runtime.lock_random(\n",
    "\tseed     = CONFIG['core/random'],\n",
    "\tgenerate = True\n",
    ")\n",
    "\n",
    "if CONFIG['model/name'].startswith('washburn2019') :\n",
    "\tCONFIG['dataset/expanddim'] = 0"
   ]
  },
  {
   "cell_type": "code",
   "execution_count": 11,
   "id": "4fe4b9b5-4ee7-4b12-a0b8-ab7e037214c0",
   "metadata": {
    "execution": {
     "iopub.execute_input": "2023-04-11T14:59:52.701586Z",
     "iopub.status.busy": "2023-04-11T14:59:52.701086Z",
     "iopub.status.idle": "2023-04-11T14:59:52.716100Z",
     "shell.execute_reply": "2023-04-11T14:59:52.715098Z",
     "shell.execute_reply.started": "2023-04-11T14:59:52.701586Z"
    },
    "tags": []
   },
   "outputs": [
    {
     "name": "stdout",
     "output_type": "stream",
     "text": [
      "Model Name  : zrimec2020\n",
      "Model Type  : zrimec2020r\n",
      "Model Mode  : regression\n",
      "Random Seed : 893803043\n"
     ]
    }
   ],
   "source": [
    "# Prints\n",
    "\n",
    "print('Model Name  : {}'.format(CONFIG['model/name']))\n",
    "print('Model Type  : {}'.format(CONFIG['model/type']))\n",
    "print('Model Mode  : {}'.format(CONFIG['model/mode']))\n",
    "print('Random Seed : {}'.format(CONFIG['core/random']))"
   ]
  },
  {
   "cell_type": "markdown",
   "id": "2037535d-fbdf-4ff8-bc83-1cd1032b9896",
   "metadata": {},
   "source": [
    "# 3. Dataset"
   ]
  },
  {
   "cell_type": "code",
   "execution_count": 12,
   "id": "23b8c10a-64d7-47ba-b0e3-ac60ab6c985a",
   "metadata": {
    "execution": {
     "iopub.execute_input": "2023-04-11T14:59:52.717100Z",
     "iopub.status.busy": "2023-04-11T14:59:52.716599Z",
     "iopub.status.idle": "2023-04-11T15:00:08.524164Z",
     "shell.execute_reply": "2023-04-11T15:00:08.523163Z",
     "shell.execute_reply.started": "2023-04-11T14:59:52.717100Z"
    },
    "tags": []
   },
   "outputs": [],
   "source": [
    "# Create dataset\n",
    "\n",
    "dataset = dataset_utils.get_dataset(\n",
    "\tconfig    = CONFIG,\n",
    "\tbp2150    = sequence_bp2150,\n",
    "\tfeature   = feature_base,\n",
    "\tdirectory = RES_NBP05,\n",
    "\tcached    = None\n",
    ")[0]"
   ]
  },
  {
   "cell_type": "code",
   "execution_count": 13,
   "id": "915d2f9a-ba40-49f0-af26-123b7543926b",
   "metadata": {
    "execution": {
     "iopub.execute_input": "2023-04-11T15:00:08.525665Z",
     "iopub.status.busy": "2023-04-11T15:00:08.525165Z",
     "iopub.status.idle": "2023-04-11T15:01:06.854214Z",
     "shell.execute_reply": "2023-04-11T15:01:06.853214Z",
     "shell.execute_reply.started": "2023-04-11T15:00:08.525665Z"
    },
    "tags": []
   },
   "outputs": [],
   "source": [
    "# Save dataset\n",
    "\n",
    "torch.save(dataset, CONFIG['dataset/filepath'])"
   ]
  },
  {
   "cell_type": "code",
   "execution_count": 14,
   "id": "e02437ca-1eab-44f8-9fc7-5b192b48491f",
   "metadata": {
    "execution": {
     "iopub.execute_input": "2023-04-11T15:01:06.857217Z",
     "iopub.status.busy": "2023-04-11T15:01:06.855716Z",
     "iopub.status.idle": "2023-04-11T15:01:06.869227Z",
     "shell.execute_reply": "2023-04-11T15:01:06.868726Z",
     "shell.execute_reply.started": "2023-04-11T15:01:06.856717Z"
    },
    "tags": []
   },
   "outputs": [
    {
     "name": "stdout",
     "output_type": "stream",
     "text": [
      "Dataset Filepath : C:\\Developer\\Workspace\\PyCharm\\Projects\\upolanc-thesis\\output\\nbp06-tuner\\default\\model\\zrimec\\dataset.pkl\n",
      "Input Features   : 72\n",
      "Output Size      : 1\n",
      "Output Heads     : None\n"
     ]
    }
   ],
   "source": [
    "# Assert all is set\n",
    "\n",
    "if CONFIG['dataset/filepath']     is None : raise AssertionError('dataset/filepath')\n",
    "if CONFIG['model/input/features'] is None : raise AssertionError('model/input/features')\n",
    "if CONFIG['model/output/size']    is None : raise AssertionError('model/output/size')\n",
    "\n",
    "print('Dataset Filepath : {}'.format(CONFIG['dataset/filepath']))\n",
    "print('Input Features   : {}'.format(CONFIG['model/input/features']))\n",
    "print('Output Size      : {}'.format(CONFIG['model/output/size']))\n",
    "print('Output Heads     : {}'.format(CONFIG['model/output/heads']))"
   ]
  },
  {
   "cell_type": "markdown",
   "id": "e17b18d9-cccb-4763-8391-2567b75c3fbb",
   "metadata": {
    "tags": []
   },
   "source": [
    "# 4. Search Space"
   ]
  },
  {
   "cell_type": "code",
   "execution_count": 15,
   "id": "e14f73b3-6854-4fa0-a497-50d7fde4391d",
   "metadata": {
    "execution": {
     "iopub.execute_input": "2023-04-11T15:01:06.870229Z",
     "iopub.status.busy": "2023-04-11T15:01:06.870229Z",
     "iopub.status.idle": "2023-04-11T15:01:06.885241Z",
     "shell.execute_reply": "2023-04-11T15:01:06.884240Z",
     "shell.execute_reply.started": "2023-04-11T15:01:06.870229Z"
    },
    "tags": []
   },
   "outputs": [],
   "source": [
    "# Define optimizer parameters\n",
    "\n",
    "optimizer_lr       = loguniform(1e-5, 1e-2)\n",
    "optimizer_decay    = uniform(0.000, 0.100)\n",
    "optimizer_beta1    = uniform(0.500, 0.950)\n",
    "optimizer_beta2    = uniform(0.951, 0.999)"
   ]
  },
  {
   "cell_type": "code",
   "execution_count": 16,
   "id": "dd4332b9-3ced-4899-86a6-df0425063255",
   "metadata": {
    "execution": {
     "iopub.execute_input": "2023-04-11T15:01:06.886742Z",
     "iopub.status.busy": "2023-04-11T15:01:06.886242Z",
     "iopub.status.idle": "2023-04-11T15:01:06.900254Z",
     "shell.execute_reply": "2023-04-11T15:01:06.899753Z",
     "shell.execute_reply.started": "2023-04-11T15:01:06.886742Z"
    },
    "tags": []
   },
   "outputs": [],
   "source": [
    "# Define scheduler parameters\n",
    "\n",
    "scheduler_name             = choice(['plateau', 'linear', 'exponential'])\n",
    "scheduler_plateau_factor   = uniform(0.1, 0.5)\n",
    "scheduler_plateau_patience = randint(5, 25)\n",
    "scheduler_linear_factor    = uniform(1e-07, 2e-01)\n",
    "scheduler_exp_factor       = uniform(0.900, 0.999)"
   ]
  },
  {
   "cell_type": "code",
   "execution_count": 17,
   "id": "a5a3581a-5246-4b79-9e8f-8357a42f5793",
   "metadata": {
    "execution": {
     "iopub.execute_input": "2023-04-11T15:01:06.901756Z",
     "iopub.status.busy": "2023-04-11T15:01:06.901255Z",
     "iopub.status.idle": "2023-04-11T15:01:06.916268Z",
     "shell.execute_reply": "2023-04-11T15:01:06.915268Z",
     "shell.execute_reply.started": "2023-04-11T15:01:06.901756Z"
    },
    "tags": []
   },
   "outputs": [],
   "source": [
    "# Define model parameters\n",
    "\n",
    "model_dropout   = uniform(0.0, 0.5)\n",
    "model_leakyrelu = uniform(0.0, 0.1)\n",
    "\n",
    "conv1_kernels  = [5, 11, 21, 31, 41]\n",
    "conv1_filters  = [32, 64, 128, 256]\n",
    "\n",
    "convx_kernels  = [5, 11, 21, 31, 41]\n",
    "convx_padding  = ['same', 'none']\n",
    "convx_filters  = [32, 64, 128, 256]\n",
    "convx_dilation = [1]\n",
    "\n",
    "poolx_kernels  = [3, 5, 9]\n",
    "poolx_padding  = ['same', 'none']\n",
    "\n",
    "fc1_features = [64, 128, 256, 512]\n",
    "fcx_features = [64, 128, 256, 512]"
   ]
  },
  {
   "cell_type": "code",
   "execution_count": 18,
   "id": "0a2fc685-9803-4596-8fde-d0678ed7604b",
   "metadata": {
    "execution": {
     "iopub.execute_input": "2023-04-11T15:01:06.918270Z",
     "iopub.status.busy": "2023-04-11T15:01:06.918270Z",
     "iopub.status.idle": "2023-04-11T15:01:06.931780Z",
     "shell.execute_reply": "2023-04-11T15:01:06.930780Z",
     "shell.execute_reply.started": "2023-04-11T15:01:06.918270Z"
    },
    "tags": []
   },
   "outputs": [],
   "source": [
    "# Define search space\n",
    "\n",
    "param_space = dict()\n",
    "\n",
    "# Dataset\n",
    "param_space['dataset/batch_size'] = choice([32, 64, 128])\n",
    "\n",
    "# Optimizer\n",
    "param_space['optimizer/name']  = 'adam'\n",
    "param_space['optimizer/lr']    = optimizer_lr\n",
    "param_space['optimizer/decay'] = optimizer_decay\n",
    "param_space['optimizer/beta1'] = optimizer_beta1\n",
    "param_space['optimizer/beta2'] = optimizer_beta2\n",
    "\n",
    "# Criterion\n",
    "param_space['criterion/name']      = 'mse'\n",
    "param_space['criterion/reduction'] = 'mean'\n",
    "\n",
    "# Scheduler\n",
    "param_space['scheduler/name']               = scheduler_name\n",
    "param_space['scheduler/plateau/factor']     = scheduler_plateau_factor\n",
    "param_space['scheduler/plateau/patience']   = scheduler_plateau_patience\n",
    "param_space['scheduler/linear/factor']      = scheduler_linear_factor\n",
    "param_space['scheduler/exponential/factor'] = scheduler_exp_factor\n",
    "\n",
    "# Model\n",
    "param_space['model/dropout']   = model_dropout\n",
    "param_space['model/leakyrelu'] = model_leakyrelu\n",
    "\n",
    "# Convolution\n",
    "param_space['model/conv1/filters']  = choice(conv1_filters)\n",
    "param_space['model/conv1/kernel']   = choice(conv1_kernels)\n",
    "param_space['model/conv1/padding']  = 'none'\n",
    "param_space['model/conv1/dilation'] = 1\n",
    "\n",
    "if CONFIG['params/share'] :\n",
    "\tparam_space['model/convx/filters']  = choice(convx_filters)\n",
    "\tparam_space['model/convx/kernel']   = choice(convx_kernels)\n",
    "\tparam_space['model/convx/padding']  = 'same'\n",
    "\tparam_space['model/convx/dilation'] = 1\n",
    "\n",
    "\tparam_space['model/maxpoolx/kernel']  = choice(poolx_kernels)\n",
    "\tparam_space['model/maxpoolx/padding'] = 'same'\n",
    "else :\n",
    "\tparam_space['model/conv2/filters']  = choice(convx_filters)\n",
    "\tparam_space['model/conv2/kernel']   = choice(convx_kernels)\n",
    "\tparam_space['model/conv2/padding']  = 'same'\n",
    "\tparam_space['model/conv2/dilation'] = 1\n",
    "\tparam_space['model/conv3/filters']  = choice(convx_filters)\n",
    "\tparam_space['model/conv3/kernel']   = choice(convx_kernels)\n",
    "\tparam_space['model/conv3/padding']  = 'same'\n",
    "\tparam_space['model/conv3/dilation'] = 1\n",
    "\n",
    "\tif CONFIG['model/name'].startswith('washburn2019') :\n",
    "\t\tparam_space['model/conv4/filters']  = choice(convx_filters)\n",
    "\t\tparam_space['model/conv4/kernel']   = choice(convx_kernels)\n",
    "\t\tparam_space['model/conv4/padding']  = 'same'\n",
    "\t\tparam_space['model/conv4/dilation'] = 1\n",
    "\t\tparam_space['model/conv5/filters']  = choice(convx_filters)\n",
    "\t\tparam_space['model/conv5/kernel']   = choice(convx_kernels)\n",
    "\t\tparam_space['model/conv5/padding']  = 'same'\n",
    "\t\tparam_space['model/conv5/dilation'] = 1\n",
    "\t\tparam_space['model/conv6/filters']  = choice(convx_filters)\n",
    "\t\tparam_space['model/conv6/kernel']   = choice(convx_kernels)\n",
    "\t\tparam_space['model/conv6/padding']  = 'same'\n",
    "\t\tparam_space['model/conv6/dilation'] = 1\n",
    "\n",
    "\t# Pooling\n",
    "\tparam_space['model/maxpool1/kernel']  = choice(poolx_kernels)\n",
    "\tparam_space['model/maxpool1/padding'] = 'same'\n",
    "\tparam_space['model/maxpool2/kernel']  = choice(poolx_kernels)\n",
    "\tparam_space['model/maxpool2/padding'] = 'same'\n",
    "\tparam_space['model/maxpool3/kernel']  = choice(poolx_kernels)\n",
    "\tparam_space['model/maxpool3/padding'] = 'same'\n",
    "\n",
    "# Linear\n",
    "param_space['model/fc1/features'] = choice(fc1_features)\n",
    "param_space['model/fc2/features'] = choice(fcx_features)"
   ]
  },
  {
   "cell_type": "code",
   "execution_count": 19,
   "id": "665a0c20-95b3-4acd-ba9c-801dbd8ec72e",
   "metadata": {
    "execution": {
     "iopub.execute_input": "2023-04-11T15:01:06.933282Z",
     "iopub.status.busy": "2023-04-11T15:01:06.932782Z",
     "iopub.status.idle": "2023-04-11T15:01:06.948795Z",
     "shell.execute_reply": "2023-04-11T15:01:06.946294Z",
     "shell.execute_reply.started": "2023-04-11T15:01:06.933282Z"
    },
    "tags": []
   },
   "outputs": [],
   "source": [
    "# Define starting parameters for algorithm (some decent starting point from previous runs)\n",
    "\n",
    "params_initial = None\n",
    "\n",
    "if not CONFIG['params/share'] and CONFIG['model/type'].startswith('zrimec2020r') :\n",
    "\tfilename = os.path.join(RES_TUNER, 'zrimec2020.json')\n",
    "\n",
    "\tif os.path.exists(filename) :\n",
    "\t\tparams_initial = loader.load_json(filename = filename)\n",
    "\n",
    "if not CONFIG['params/share'] and CONFIG['model/type'].startswith('washburn2019r') :\n",
    "\tfilename = os.path.join(RES_TUNER, 'washburn2019.json')\n",
    "\n",
    "\tif os.path.exists(filename) :\n",
    "\t\tparams_initial = loader.load_json(filename = filename)"
   ]
  },
  {
   "cell_type": "markdown",
   "id": "08b64877-eb4c-4147-9c5f-d9ed43be320a",
   "metadata": {},
   "source": [
    "# 5. Tuning"
   ]
  },
  {
   "cell_type": "code",
   "execution_count": 20,
   "id": "67afe19c-bcd1-4200-8d26-182840a42168",
   "metadata": {
    "execution": {
     "iopub.execute_input": "2023-04-11T15:01:06.950296Z",
     "iopub.status.busy": "2023-04-11T15:01:06.949796Z",
     "iopub.status.idle": "2023-04-11T15:01:06.962307Z",
     "shell.execute_reply": "2023-04-11T15:01:06.961806Z",
     "shell.execute_reply.started": "2023-04-11T15:01:06.950296Z"
    },
    "tags": []
   },
   "outputs": [
    {
     "data": {
      "text/html": [
       "<div class=\"tuneStatus\">\n",
       "  <div style=\"display: flex;flex-direction: row\">\n",
       "    <div style=\"display: flex;flex-direction: column;\">\n",
       "      <h3>Tune Status</h3>\n",
       "      <table>\n",
       "<tbody>\n",
       "<tr><td>Current time:</td><td>2023-04-11 15:16:48</td></tr>\n",
       "<tr><td>Running for: </td><td>00:15:41.70        </td></tr>\n",
       "<tr><td>Memory:      </td><td>23.8/31.9 GiB      </td></tr>\n",
       "</tbody>\n",
       "</table>\n",
       "    </div>\n",
       "    <div class=\"vDivider\"></div>\n",
       "    <div class=\"systemInfo\">\n",
       "      <h3>System Info</h3>\n",
       "      Using AsyncHyperBand: num_stopped=5<br>Bracket: Iter 4.000: -1.0254014709869639 | Iter 1.000: -1.0961075603504458<br>Resources requested: 0/12 CPUs, 0/1 GPUs, 0.0/10.59 GiB heap, 0.0/5.29 GiB objects\n",
       "    </div>\n",
       "    \n",
       "  </div>\n",
       "  <div class=\"hDivider\"></div>\n",
       "  <div class=\"trialStatus\">\n",
       "    <h3>Trial Status</h3>\n",
       "    <table>\n",
       "<thead>\n",
       "<tr><th>Trial name  </th><th>status    </th><th>loc            </th><th style=\"text-align: right;\">  dataset/batch_size</th><th>optimizer/name  </th><th>scheduler/name  </th><th style=\"text-align: right;\">  train_loss</th><th style=\"text-align: right;\">    train_r2</th><th style=\"text-align: right;\">  train_mae</th><th style=\"text-align: right;\">  valid_loss</th><th style=\"text-align: right;\">    valid_r2</th><th style=\"text-align: right;\">  valid_mae</th></tr>\n",
       "</thead>\n",
       "<tbody>\n",
       "<tr><td>59b78869    </td><td>TERMINATED</td><td>127.0.0.1:6408 </td><td style=\"text-align: right;\">                  64</td><td>adam            </td><td>linear          </td><td style=\"text-align: right;\">    0.722092</td><td style=\"text-align: right;\">    0.150242</td><td style=\"text-align: right;\">   0.694546</td><td style=\"text-align: right;\">    0.889307</td><td style=\"text-align: right;\">  -0.0343138</td><td style=\"text-align: right;\">   0.754298</td></tr>\n",
       "<tr><td>6a32b1fa    </td><td>TERMINATED</td><td>127.0.0.1:15328</td><td style=\"text-align: right;\">                 128</td><td>adam            </td><td>linear          </td><td style=\"text-align: right;\">    0.549383</td><td style=\"text-align: right;\">    0.362012</td><td style=\"text-align: right;\">   0.597343</td><td style=\"text-align: right;\">    0.923339</td><td style=\"text-align: right;\">  -0.0599105</td><td style=\"text-align: right;\">   0.780269</td></tr>\n",
       "<tr><td>49e746db    </td><td>TERMINATED</td><td>127.0.0.1:15860</td><td style=\"text-align: right;\">                  64</td><td>adam            </td><td>linear          </td><td style=\"text-align: right;\"> 2158.96    </td><td style=\"text-align: right;\">-3054.72    </td><td style=\"text-align: right;\">   5.50155 </td><td style=\"text-align: right;\">   23.6736  </td><td style=\"text-align: right;\"> -28.2237   </td><td style=\"text-align: right;\">   1.90587 </td></tr>\n",
       "<tr><td>8efb79be    </td><td>TERMINATED</td><td>127.0.0.1:12284</td><td style=\"text-align: right;\">                  64</td><td>adam            </td><td>linear          </td><td style=\"text-align: right;\">    4.08618 </td><td style=\"text-align: right;\">   -3.3395  </td><td style=\"text-align: right;\">   1.13221 </td><td style=\"text-align: right;\">  114.97    </td><td style=\"text-align: right;\">-135.244    </td><td style=\"text-align: right;\">   7.86187 </td></tr>\n",
       "<tr><td>b9fa189c    </td><td>TERMINATED</td><td>127.0.0.1:17184</td><td style=\"text-align: right;\">                  32</td><td>adam            </td><td>plateau         </td><td style=\"text-align: right;\">    1.43833 </td><td style=\"text-align: right;\">   -0.747258</td><td style=\"text-align: right;\">   0.937178</td><td style=\"text-align: right;\">    2.51975 </td><td style=\"text-align: right;\">  -2.01828  </td><td style=\"text-align: right;\">   1.34421 </td></tr>\n",
       "</tbody>\n",
       "</table>\n",
       "  </div>\n",
       "</div>\n",
       "<style>\n",
       ".tuneStatus {\n",
       "  color: var(--jp-ui-font-color1);\n",
       "}\n",
       ".tuneStatus .systemInfo {\n",
       "  display: flex;\n",
       "  flex-direction: column;\n",
       "}\n",
       ".tuneStatus td {\n",
       "  white-space: nowrap;\n",
       "}\n",
       ".tuneStatus .trialStatus {\n",
       "  display: flex;\n",
       "  flex-direction: column;\n",
       "}\n",
       ".tuneStatus h3 {\n",
       "  font-weight: bold;\n",
       "}\n",
       ".tuneStatus .hDivider {\n",
       "  border-bottom-width: var(--jp-border-width);\n",
       "  border-bottom-color: var(--jp-border-color0);\n",
       "  border-bottom-style: solid;\n",
       "}\n",
       ".tuneStatus .vDivider {\n",
       "  border-left-width: var(--jp-border-width);\n",
       "  border-left-color: var(--jp-border-color0);\n",
       "  border-left-style: solid;\n",
       "  margin: 0.5em 1em 0.5em 1em;\n",
       "}\n",
       "</style>\n"
      ],
      "text/plain": [
       "<IPython.core.display.HTML object>"
      ]
     },
     "metadata": {},
     "output_type": "display_data"
    }
   ],
   "source": [
    "# Create tuner config\n",
    "\n",
    "trainable = raytune_utils.create_trainable(\n",
    "\tmethod    = raytune_model.main,\n",
    "\tconfig    = CONFIG,\n",
    "\tcpu_count = SYSTEM['platform/cpu/count'],\n",
    "\tgpu_count = SYSTEM['platform/gpu/count']\n",
    ")\n",
    "\n",
    "tune_config = raytune_utils.create_tune_config(\n",
    "\tconfig = CONFIG,\n",
    "\tparams = params_initial\n",
    ")\n",
    "\n",
    "run_config = raytune_utils.create_run_config(\n",
    "\tconfig    = CONFIG,\n",
    "\tlocal_dir = OUT_DATA,\n",
    "\tverbosity = raytune_utils.VERBOSE_STATUS,\n",
    "\ttask      = 'model'\n",
    ")"
   ]
  },
  {
   "cell_type": "code",
   "execution_count": 21,
   "id": "844676ae-777a-46ab-9302-89085342b326",
   "metadata": {
    "execution": {
     "iopub.execute_input": "2023-04-11T15:01:06.963808Z",
     "iopub.status.busy": "2023-04-11T15:01:06.963308Z",
     "iopub.status.idle": "2023-04-11T15:16:58.772019Z",
     "shell.execute_reply": "2023-04-11T15:16:58.771019Z",
     "shell.execute_reply.started": "2023-04-11T15:01:06.963808Z"
    },
    "tags": []
   },
   "outputs": [
    {
     "name": "stderr",
     "output_type": "stream",
     "text": [
      "2023-04-11 15:16:58,679\tINFO tune.py:762 -- Total run time: 951.69 seconds (941.69 seconds for the tuning loop).\n"
     ]
    }
   ],
   "source": [
    "# Create tune and fit\n",
    "\n",
    "tuner = raytune_utils.create_tuner(\n",
    "\ttrainable   = trainable,\n",
    "\ttune_config = tune_config,\n",
    "\trun_config  = run_config,\n",
    "\tparam_space = param_space\n",
    ")\n",
    "\n",
    "report = tuner.fit()"
   ]
  },
  {
   "cell_type": "markdown",
   "id": "2940fc14-d848-4018-a8d2-96ec719a8652",
   "metadata": {},
   "source": [
    "# 6. Reports"
   ]
  },
  {
   "cell_type": "code",
   "execution_count": 22,
   "id": "468b6865-7e33-4372-a7b9-09d26beb098e",
   "metadata": {
    "execution": {
     "iopub.execute_input": "2023-04-11T15:16:58.779526Z",
     "iopub.status.busy": "2023-04-11T15:16:58.775522Z",
     "iopub.status.idle": "2023-04-11T15:16:58.789534Z",
     "shell.execute_reply": "2023-04-11T15:16:58.787533Z",
     "shell.execute_reply.started": "2023-04-11T15:16:58.779526Z"
    },
    "tags": []
   },
   "outputs": [
    {
     "name": "stdout",
     "output_type": "stream",
     "text": [
      "No errors.\n"
     ]
    }
   ],
   "source": [
    "# Check if there have been errors\n",
    "\n",
    "if report.errors :\n",
    "\tprint('At least one of the trials has failed.')\n",
    "else :\n",
    "\tprint('No errors.')"
   ]
  },
  {
   "cell_type": "code",
   "execution_count": 23,
   "id": "048991f8-bf5d-47f2-b870-7365789f042c",
   "metadata": {
    "execution": {
     "iopub.execute_input": "2023-04-11T15:16:58.791035Z",
     "iopub.status.busy": "2023-04-11T15:16:58.790536Z",
     "iopub.status.idle": "2023-04-11T15:16:58.834072Z",
     "shell.execute_reply": "2023-04-11T15:16:58.833071Z",
     "shell.execute_reply.started": "2023-04-11T15:16:58.791035Z"
    },
    "tags": []
   },
   "outputs": [
    {
     "name": "stdout",
     "output_type": "stream",
     "text": [
      "valid_loss                               valid_r2                                 valid_mae                                \n",
      "valid_mape                               valid_wmape                              train_loss                               \n",
      "train_r2                                 train_mae                                train_mape                               \n",
      "train_wmape                              lr                                       time_this_iter_s                         \n",
      "done                                     timesteps_total                          episodes_total                           \n",
      "training_iteration                       trial_id                                 experiment_id                            \n",
      "date                                     timestamp                                time_total_s                             \n",
      "pid                                      hostname                                 node_ip                                  \n",
      "time_since_restore                       timesteps_since_restore                  iterations_since_restore                 \n",
      "warmup_time                              config/criterion/name                    config/criterion/reduction               \n",
      "config/dataset/batch_size                config/model/conv1/dilation              config/model/conv1/filters               \n",
      "config/model/conv1/kernel                config/model/conv1/padding               config/model/conv2/dilation              \n",
      "config/model/conv2/filters               config/model/conv2/kernel                config/model/conv2/padding               \n",
      "config/model/conv3/dilation              config/model/conv3/filters               config/model/conv3/kernel                \n",
      "config/model/conv3/padding               config/model/dropout                     config/model/fc1/features                \n",
      "config/model/fc2/features                config/model/leakyrelu                   config/model/maxpool1/kernel             \n",
      "config/model/maxpool1/padding            config/model/maxpool2/kernel             config/model/maxpool2/padding            \n",
      "config/model/maxpool3/kernel             config/model/maxpool3/padding            config/optimizer/beta1                   \n",
      "config/optimizer/beta2                   config/optimizer/decay                   config/optimizer/lr                      \n",
      "config/optimizer/name                    config/scheduler/exponential/factor      config/scheduler/linear/factor           \n",
      "config/scheduler/name                    config/scheduler/plateau/factor          config/scheduler/plateau/patience        \n",
      "logdir                                   \n"
     ]
    }
   ],
   "source": [
    "# Print possible columns\n",
    "\n",
    "for index, column in enumerate(report.get_dataframe().columns, start = 1) :\n",
    "\tprint('{:<40s}'.format(column), end = ' ')\n",
    "\n",
    "\tif index % 3 == 0 :\n",
    "\t\tprint()\n",
    "\n",
    "print()"
   ]
  },
  {
   "cell_type": "code",
   "execution_count": 24,
   "id": "60cedfc3-65d4-4870-8093-0c5bb784fdf8",
   "metadata": {
    "execution": {
     "iopub.execute_input": "2023-04-11T15:16:58.835574Z",
     "iopub.status.busy": "2023-04-11T15:16:58.835574Z",
     "iopub.status.idle": "2023-04-11T15:16:58.880612Z",
     "shell.execute_reply": "2023-04-11T15:16:58.879612Z",
     "shell.execute_reply.started": "2023-04-11T15:16:58.835574Z"
    },
    "tags": []
   },
   "outputs": [
    {
     "name": "stdout",
     "output_type": "stream",
     "text": [
      "Shortest training time :      1.0 minutes\n",
      " Longest training time :      6.3 minutes\n",
      "   Total training time :     14.6 minutes\n",
      "    Mean training time :      2.9 minutes\n",
      "\n"
     ]
    },
    {
     "data": {
      "text/html": [
       "<div>\n",
       "<style scoped>\n",
       "    .dataframe tbody tr th:only-of-type {\n",
       "        vertical-align: middle;\n",
       "    }\n",
       "\n",
       "    .dataframe tbody tr th {\n",
       "        vertical-align: top;\n",
       "    }\n",
       "\n",
       "    .dataframe thead th {\n",
       "        text-align: right;\n",
       "    }\n",
       "</style>\n",
       "<table border=\"1\" class=\"dataframe\">\n",
       "  <thead>\n",
       "    <tr style=\"text-align: right;\">\n",
       "      <th></th>\n",
       "      <th>logdir</th>\n",
       "      <th>trial_id</th>\n",
       "      <th>time_total_s</th>\n",
       "      <th>training_iteration</th>\n",
       "      <th>train_loss</th>\n",
       "      <th>train_r2</th>\n",
       "      <th>train_mae</th>\n",
       "      <th>train_mape</th>\n",
       "      <th>train_wmape</th>\n",
       "      <th>valid_loss</th>\n",
       "      <th>valid_r2</th>\n",
       "      <th>valid_mae</th>\n",
       "      <th>valid_mape</th>\n",
       "      <th>valid_wmape</th>\n",
       "    </tr>\n",
       "  </thead>\n",
       "  <tbody>\n",
       "    <tr>\n",
       "      <th>0</th>\n",
       "      <td>C:\\Developer\\Workspace\\PyCharm\\Projects\\upolan...</td>\n",
       "      <td>59b78869</td>\n",
       "      <td>194.250</td>\n",
       "      <td>5</td>\n",
       "      <td>0.722</td>\n",
       "      <td>0.150</td>\n",
       "      <td>0.695</td>\n",
       "      <td>1.616</td>\n",
       "      <td>0.402</td>\n",
       "      <td>0.889</td>\n",
       "      <td>-0.034</td>\n",
       "      <td>0.754</td>\n",
       "      <td>1.150</td>\n",
       "      <td>0.439</td>\n",
       "    </tr>\n",
       "    <tr>\n",
       "      <th>1</th>\n",
       "      <td>C:\\Developer\\Workspace\\PyCharm\\Projects\\upolan...</td>\n",
       "      <td>6a32b1fa</td>\n",
       "      <td>379.000</td>\n",
       "      <td>5</td>\n",
       "      <td>0.549</td>\n",
       "      <td>0.362</td>\n",
       "      <td>0.597</td>\n",
       "      <td>1.374</td>\n",
       "      <td>0.346</td>\n",
       "      <td>0.923</td>\n",
       "      <td>-0.060</td>\n",
       "      <td>0.780</td>\n",
       "      <td>1.595</td>\n",
       "      <td>0.455</td>\n",
       "    </tr>\n",
       "    <tr>\n",
       "      <th>4</th>\n",
       "      <td>C:\\Developer\\Workspace\\PyCharm\\Projects\\upolan...</td>\n",
       "      <td>b9fa189c</td>\n",
       "      <td>100.944</td>\n",
       "      <td>1</td>\n",
       "      <td>1.438</td>\n",
       "      <td>-0.747</td>\n",
       "      <td>0.937</td>\n",
       "      <td>1.865</td>\n",
       "      <td>0.545</td>\n",
       "      <td>2.520</td>\n",
       "      <td>-2.018</td>\n",
       "      <td>1.344</td>\n",
       "      <td>2.222</td>\n",
       "      <td>0.786</td>\n",
       "    </tr>\n",
       "    <tr>\n",
       "      <th>2</th>\n",
       "      <td>C:\\Developer\\Workspace\\PyCharm\\Projects\\upolan...</td>\n",
       "      <td>49e746db</td>\n",
       "      <td>139.768</td>\n",
       "      <td>1</td>\n",
       "      <td>2158.963</td>\n",
       "      <td>-3054.720</td>\n",
       "      <td>5.502</td>\n",
       "      <td>9.389</td>\n",
       "      <td>3.308</td>\n",
       "      <td>23.674</td>\n",
       "      <td>-28.224</td>\n",
       "      <td>1.906</td>\n",
       "      <td>2.703</td>\n",
       "      <td>1.107</td>\n",
       "    </tr>\n",
       "    <tr>\n",
       "      <th>3</th>\n",
       "      <td>C:\\Developer\\Workspace\\PyCharm\\Projects\\upolan...</td>\n",
       "      <td>8efb79be</td>\n",
       "      <td>61.362</td>\n",
       "      <td>1</td>\n",
       "      <td>4.086</td>\n",
       "      <td>-3.339</td>\n",
       "      <td>1.132</td>\n",
       "      <td>2.144</td>\n",
       "      <td>0.656</td>\n",
       "      <td>114.970</td>\n",
       "      <td>-135.244</td>\n",
       "      <td>7.862</td>\n",
       "      <td>8.028</td>\n",
       "      <td>4.573</td>\n",
       "    </tr>\n",
       "  </tbody>\n",
       "</table>\n",
       "</div>"
      ],
      "text/plain": [
       "                                              logdir  trial_id  time_total_s  \\\n",
       "0  C:\\Developer\\Workspace\\PyCharm\\Projects\\upolan...  59b78869       194.250   \n",
       "1  C:\\Developer\\Workspace\\PyCharm\\Projects\\upolan...  6a32b1fa       379.000   \n",
       "4  C:\\Developer\\Workspace\\PyCharm\\Projects\\upolan...  b9fa189c       100.944   \n",
       "2  C:\\Developer\\Workspace\\PyCharm\\Projects\\upolan...  49e746db       139.768   \n",
       "3  C:\\Developer\\Workspace\\PyCharm\\Projects\\upolan...  8efb79be        61.362   \n",
       "\n",
       "   training_iteration  train_loss  train_r2  train_mae  train_mape  \\\n",
       "0                   5       0.722     0.150      0.695       1.616   \n",
       "1                   5       0.549     0.362      0.597       1.374   \n",
       "4                   1       1.438    -0.747      0.937       1.865   \n",
       "2                   1    2158.963 -3054.720      5.502       9.389   \n",
       "3                   1       4.086    -3.339      1.132       2.144   \n",
       "\n",
       "   train_wmape  valid_loss  valid_r2  valid_mae  valid_mape  valid_wmape  \n",
       "0        0.402       0.889    -0.034      0.754       1.150        0.439  \n",
       "1        0.346       0.923    -0.060      0.780       1.595        0.455  \n",
       "4        0.545       2.520    -2.018      1.344       2.222        0.786  \n",
       "2        3.308      23.674   -28.224      1.906       2.703        1.107  \n",
       "3        0.656     114.970  -135.244      7.862       8.028        4.573  "
      ]
     },
     "execution_count": 24,
     "metadata": {},
     "output_type": "execute_result"
    }
   ],
   "source": [
    "# Print the results as dataframe\n",
    "\n",
    "dataframe = report.get_dataframe()\n",
    "\n",
    "print('Shortest training time : {:8,.1f} minutes'.format(dataframe['time_total_s'].min()  / 60.0))\n",
    "print(' Longest training time : {:8,.1f} minutes'.format(dataframe['time_total_s'].max()  / 60.0))\n",
    "print('   Total training time : {:8,.1f} minutes'.format(dataframe['time_total_s'].sum()  / 60.0))\n",
    "print('    Mean training time : {:8,.1f} minutes'.format(dataframe['time_total_s'].mean() / 60.0))\n",
    "print()\n",
    "\n",
    "if CONFIG['model/mode'] == 'regression' :\n",
    "\ttrials = dataframe[[\n",
    "\t\t'logdir', 'trial_id', 'time_total_s', 'training_iteration',\n",
    "\t\t'train_loss', 'train_r2', 'train_mae', 'train_mape', 'train_wmape',\n",
    "\t\t'valid_loss', 'valid_r2', 'valid_mae', 'valid_mape', 'valid_wmape',\n",
    "\t]]\n",
    "\n",
    "if CONFIG['model/mode'] == 'classification' :\n",
    "\ttrials = dataframe[[\n",
    "\t\t'logdir', 'trial_id', 'time_total_s', 'training_iteration',\n",
    "\t\t'train_loss', 'train_accuracy', 'train_auroc', 'train_f1', 'train_matthews',\n",
    "\t\t'valid_loss', 'valid_accuracy', 'valid_auroc', 'valid_f1', 'valid_matthews'\n",
    "\t]]\n",
    "\n",
    "trials = trials.sort_values('valid_loss', ascending = True)\n",
    "trials"
   ]
  },
  {
   "cell_type": "code",
   "execution_count": 25,
   "id": "943de37b-a1a0-4c53-9186-5176bf35a6b2",
   "metadata": {
    "execution": {
     "iopub.execute_input": "2023-04-11T15:16:58.882114Z",
     "iopub.status.busy": "2023-04-11T15:16:58.881113Z",
     "iopub.status.idle": "2023-04-11T15:16:58.912139Z",
     "shell.execute_reply": "2023-04-11T15:16:58.910638Z",
     "shell.execute_reply.started": "2023-04-11T15:16:58.882114Z"
    },
    "tags": []
   },
   "outputs": [],
   "source": [
    "# Save the tuning results\n",
    "\n",
    "report.get_dataframe().to_csv(\n",
    "\tos.path.join(OUT_DATA, 'report.csv')\n",
    ")"
   ]
  },
  {
   "cell_type": "markdown",
   "id": "b25ca4ab-214f-451c-8854-11b73696fc0c",
   "metadata": {},
   "source": [
    "## 6.1 Visualization"
   ]
  },
  {
   "cell_type": "code",
   "execution_count": 26,
   "id": "c3d0362f-aed3-4029-9e2d-06b653f51d32",
   "metadata": {
    "execution": {
     "iopub.execute_input": "2023-04-11T15:16:58.913640Z",
     "iopub.status.busy": "2023-04-11T15:16:58.913141Z",
     "iopub.status.idle": "2023-04-11T15:16:59.656778Z",
     "shell.execute_reply": "2023-04-11T15:16:59.655277Z",
     "shell.execute_reply.started": "2023-04-11T15:16:58.913640Z"
    },
    "tags": []
   },
   "outputs": [
    {
     "data": {
      "image/png": "[encoded data removed]",
      "text/plain": [
       "<Figure size 1600x1000 with 1 Axes>"
      ]
     },
     "metadata": {},
     "output_type": "display_data"
    }
   ],
   "source": [
    "# Plot trials valid loss\n",
    "\n",
    "raytune_plot.trials_lineplot_loss(\n",
    "\tdataframe  = trials,\n",
    "\tmax_trials = CONFIG['params/plot/max'],\n",
    "\talpha      = 0.9,\n",
    "\tfilename   = os.path.join(OUT_PLOT, CONFIG['model/type'] + '-trials')\n",
    ")"
   ]
  },
  {
   "cell_type": "markdown",
   "id": "8e90c754-8650-475e-97d9-f8dc8a298a6e",
   "metadata": {},
   "source": [
    "### 6.1.1 Regression"
   ]
  },
  {
   "cell_type": "code",
   "execution_count": 27,
   "id": "4e8ddb17-af25-45e1-9833-20066e680452",
   "metadata": {
    "execution": {
     "iopub.execute_input": "2023-04-11T15:16:59.658280Z",
     "iopub.status.busy": "2023-04-11T15:16:59.657779Z",
     "iopub.status.idle": "2023-04-11T15:17:00.354877Z",
     "shell.execute_reply": "2023-04-11T15:17:00.353877Z",
     "shell.execute_reply.started": "2023-04-11T15:16:59.657779Z"
    },
    "tags": []
   },
   "outputs": [
    {
     "data": {
      "image/png": "[encoded data removed]",
      "text/plain": [
       "<Figure size 1600x1000 with 1 Axes>"
      ]
     },
     "metadata": {},
     "output_type": "display_data"
    }
   ],
   "source": [
    "# Plot trials valid r2\n",
    "\n",
    "if CONFIG['model/mode'] == 'regression' :\n",
    "\traytune_plot.trials_lineplot_r2(\n",
    "\t\tdataframe  = trials,\n",
    "\t\tmax_trials = CONFIG['params/plot/max'],\n",
    "\t\talpha      = 0.9,\n",
    "\t\tfilename   = os.path.join(OUT_PLOT, CONFIG['model/type'] + '-trials')\n",
    "\t)"
   ]
  },
  {
   "cell_type": "markdown",
   "id": "55b80ce9-5256-49a6-865f-190da3688039",
   "metadata": {},
   "source": [
    "### 6.1.2 Classification"
   ]
  },
  {
   "cell_type": "code",
   "execution_count": 28,
   "id": "f681038f-d305-4196-a2ce-e7aa837edfde",
   "metadata": {
    "execution": {
     "iopub.execute_input": "2023-04-11T15:17:00.357380Z",
     "iopub.status.busy": "2023-04-11T15:17:00.356379Z",
     "iopub.status.idle": "2023-04-11T15:17:00.369389Z",
     "shell.execute_reply": "2023-04-11T15:17:00.368389Z",
     "shell.execute_reply.started": "2023-04-11T15:17:00.356880Z"
    }
   },
   "outputs": [],
   "source": [
    "# Plot trials valid accuracy\n",
    "\n",
    "if CONFIG['model/mode'] == 'classification' :\n",
    "\traytune_plot.trials_lineplot_accuracy(\n",
    "\t\tdataframe  = trials,\n",
    "\t\tmax_trials = CONFIG['params/plot/max'],\n",
    "\t\talpha      = 0.9,\n",
    "\t\tfilename   = os.path.join(OUT_PLOT, CONFIG['model/type'] + '-trials')\n",
    "\t)"
   ]
  },
  {
   "cell_type": "markdown",
   "id": "8e10efdd-76db-46e4-903d-7118650bb027",
   "metadata": {},
   "source": [
    "## 6.2 Best"
   ]
  },
  {
   "cell_type": "code",
   "execution_count": 29,
   "id": "64bf57b1-c93a-4225-a592-3c48b3ee16c3",
   "metadata": {
    "execution": {
     "iopub.execute_input": "2023-04-11T15:17:00.371392Z",
     "iopub.status.busy": "2023-04-11T15:17:00.370391Z",
     "iopub.status.idle": "2023-04-11T15:17:00.385403Z",
     "shell.execute_reply": "2023-04-11T15:17:00.383903Z",
     "shell.execute_reply.started": "2023-04-11T15:17:00.371392Z"
    },
    "tags": []
   },
   "outputs": [
    {
     "name": "stdout",
     "output_type": "stream",
     "text": [
      "Best config :\n",
      "\n",
      "{\n",
      "\t\"criterion/name\"               : \"mse\",\n",
      "\t\"criterion/reduction\"          : \"mean\",\n",
      "\t\"dataset/batch_size\"           : 64,\n",
      "\t\"metrics/train/loss\"           : 0.7220922820189826,\n",
      "\t\"metrics/train/mae\"            : 0.6945459095485106,\n",
      "\t\"metrics/train/mape\"           : 1.6157213449478149,\n",
      "\t\"metrics/train/r2\"             : 0.1502420753240585,\n",
      "\t\"metrics/train/wmape\"          : 0.4020755887031555,\n",
      "\t\"metrics/valid/loss\"           : 0.8893069276716244,\n",
      "\t\"metrics/valid/mae\"            : 0.7542983502728003,\n",
      "\t\"metrics/valid/mape\"           : 1.1504150629043579,\n",
      "\t\"metrics/valid/r2\"             : -0.0343137532472610,\n",
      "\t\"metrics/valid/wmape\"          : 0.4388244152069092,\n",
      "\t\"model/conv1/dilation\"         : 1,\n",
      "\t\"model/conv1/filters\"          : 256,\n",
      "\t\"model/conv1/kernel\"           : 11,\n",
      "\t\"model/conv1/padding\"          : \"none\",\n",
      "\t\"model/conv2/dilation\"         : 1,\n",
      "\t\"model/conv2/filters\"          : 32,\n",
      "\t\"model/conv2/kernel\"           : 5,\n",
      "\t\"model/conv2/padding\"          : \"same\",\n",
      "\t\"model/conv3/dilation\"         : 1,\n",
      "\t\"model/conv3/filters\"          : 32,\n",
      "\t\"model/conv3/kernel\"           : 31,\n",
      "\t\"model/conv3/padding\"          : \"same\",\n",
      "\t\"model/dropout\"                : 0.0900000000000000,\n",
      "\t\"model/fc1/features\"           : 64,\n",
      "\t\"model/fc2/features\"           : 128,\n",
      "\t\"model/leakyrelu\"              : 0.0000000000000000,\n",
      "\t\"model/maxpool1/kernel\"        : 5,\n",
      "\t\"model/maxpool1/padding\"       : \"same\",\n",
      "\t\"model/maxpool2/kernel\"        : 5,\n",
      "\t\"model/maxpool2/padding\"       : \"same\",\n",
      "\t\"model/maxpool3/kernel\"        : 9,\n",
      "\t\"model/maxpool3/padding\"       : \"same\",\n",
      "\t\"optimizer/beta1\"              : 0.8307935598904620,\n",
      "\t\"optimizer/beta2\"              : 0.9990000000000000,\n",
      "\t\"optimizer/decay\"              : 0.0491122883610902,\n",
      "\t\"optimizer/lr\"                 : 0.0008552697838009,\n",
      "\t\"optimizer/name\"               : \"adam\",\n",
      "\t\"scheduler/exponential/factor\" : 0.9932065255688890,\n",
      "\t\"scheduler/linear/factor\"      : 0.0445804343499086,\n",
      "\t\"scheduler/name\"               : \"linear\",\n",
      "\t\"scheduler/plateau/factor\"     : 0.2550732018041332,\n",
      "\t\"scheduler/plateau/patience\"   : 24\n",
      "}\n"
     ]
    }
   ],
   "source": [
    "# Display best trial\n",
    "\n",
    "best = report.get_best_result()\n",
    "\n",
    "if CONFIG['model/mode'] == 'regression'     : metrics = ['loss', 'r2', 'mae', 'mape', 'wmape']\n",
    "if CONFIG['model/mode'] == 'classification' : metrics = ['loss', 'accuracy', 'auroc', 'f1', 'matthews']\n",
    "\n",
    "for mode, metric in itertools.product(['train', 'valid'], metrics) :\n",
    "\tk0 = 'metrics/{}/{}'.format(mode, metric)\n",
    "\tk1 = '{}_{}'.format(mode, metric)\n",
    "\n",
    "\tbest.config[k0] = float(best.metrics[k1])\n",
    "\n",
    "print('Best config :')\n",
    "print()\n",
    "print('{')\n",
    "\n",
    "for index, (key, val) in enumerate(sorted(best.config.items()), start = 1) :\n",
    "\tif isinstance(key, str)   : key = f'\"{key}\"'\n",
    "\tif isinstance(val, str)   : val = f'\"{val}\"'\n",
    "\n",
    "\tif isinstance(val, float) : print('\\t{:30s} : {:.16f}'.format(key, val), end = '')\n",
    "\telse                      : print('\\t{:30s} : {}'.format(key, val), end = '')\n",
    "\n",
    "\tif index < len(best.config) : print(',')\n",
    "\telse                        : print('')\n",
    "\n",
    "print('}')"
   ]
  },
  {
   "cell_type": "code",
   "execution_count": 30,
   "id": "9e2e2351-82eb-41db-932d-ddc5fece0244",
   "metadata": {
    "execution": {
     "iopub.execute_input": "2023-04-11T15:17:00.386905Z",
     "iopub.status.busy": "2023-04-11T15:17:00.386905Z",
     "iopub.status.idle": "2023-04-11T15:17:00.415929Z",
     "shell.execute_reply": "2023-04-11T15:17:00.414929Z",
     "shell.execute_reply.started": "2023-04-11T15:17:00.386905Z"
    },
    "tags": []
   },
   "outputs": [
    {
     "data": {
      "text/html": [
       "<div>\n",
       "<style scoped>\n",
       "    .dataframe tbody tr th:only-of-type {\n",
       "        vertical-align: middle;\n",
       "    }\n",
       "\n",
       "    .dataframe tbody tr th {\n",
       "        vertical-align: top;\n",
       "    }\n",
       "\n",
       "    .dataframe thead th {\n",
       "        text-align: right;\n",
       "    }\n",
       "</style>\n",
       "<table border=\"1\" class=\"dataframe\">\n",
       "  <thead>\n",
       "    <tr style=\"text-align: right;\">\n",
       "      <th></th>\n",
       "      <th>trial_id</th>\n",
       "      <th>time_total_s</th>\n",
       "      <th>training_iteration</th>\n",
       "      <th>lr</th>\n",
       "      <th>train_loss</th>\n",
       "      <th>train_r2</th>\n",
       "      <th>train_mae</th>\n",
       "      <th>train_mape</th>\n",
       "      <th>train_wmape</th>\n",
       "      <th>valid_loss</th>\n",
       "      <th>valid_r2</th>\n",
       "      <th>valid_mae</th>\n",
       "      <th>valid_mape</th>\n",
       "      <th>valid_wmape</th>\n",
       "    </tr>\n",
       "  </thead>\n",
       "  <tbody>\n",
       "    <tr>\n",
       "      <th>0</th>\n",
       "      <td>59b78869</td>\n",
       "      <td>45.546</td>\n",
       "      <td>1</td>\n",
       "      <td>0.001</td>\n",
       "      <td>1.003</td>\n",
       "      <td>-0.177</td>\n",
       "      <td>0.810</td>\n",
       "      <td>1.847</td>\n",
       "      <td>0.469</td>\n",
       "      <td>1.096</td>\n",
       "      <td>-0.266</td>\n",
       "      <td>0.844</td>\n",
       "      <td>1.164</td>\n",
       "      <td>0.491</td>\n",
       "    </tr>\n",
       "    <tr>\n",
       "      <th>1</th>\n",
       "      <td>59b78869</td>\n",
       "      <td>79.338</td>\n",
       "      <td>2</td>\n",
       "      <td>0.001</td>\n",
       "      <td>0.803</td>\n",
       "      <td>0.061</td>\n",
       "      <td>0.734</td>\n",
       "      <td>1.730</td>\n",
       "      <td>0.425</td>\n",
       "      <td>0.993</td>\n",
       "      <td>-0.157</td>\n",
       "      <td>0.803</td>\n",
       "      <td>1.148</td>\n",
       "      <td>0.468</td>\n",
       "    </tr>\n",
       "    <tr>\n",
       "      <th>2</th>\n",
       "      <td>59b78869</td>\n",
       "      <td>108.397</td>\n",
       "      <td>3</td>\n",
       "      <td>0.001</td>\n",
       "      <td>0.759</td>\n",
       "      <td>0.109</td>\n",
       "      <td>0.713</td>\n",
       "      <td>1.656</td>\n",
       "      <td>0.413</td>\n",
       "      <td>1.620</td>\n",
       "      <td>-0.893</td>\n",
       "      <td>1.040</td>\n",
       "      <td>0.932</td>\n",
       "      <td>0.605</td>\n",
       "    </tr>\n",
       "    <tr>\n",
       "      <th>3</th>\n",
       "      <td>59b78869</td>\n",
       "      <td>148.576</td>\n",
       "      <td>4</td>\n",
       "      <td>0.001</td>\n",
       "      <td>0.728</td>\n",
       "      <td>0.147</td>\n",
       "      <td>0.701</td>\n",
       "      <td>1.632</td>\n",
       "      <td>0.406</td>\n",
       "      <td>1.348</td>\n",
       "      <td>-0.575</td>\n",
       "      <td>0.949</td>\n",
       "      <td>1.103</td>\n",
       "      <td>0.551</td>\n",
       "    </tr>\n",
       "    <tr>\n",
       "      <th>4</th>\n",
       "      <td>59b78869</td>\n",
       "      <td>194.250</td>\n",
       "      <td>5</td>\n",
       "      <td>0.001</td>\n",
       "      <td>0.722</td>\n",
       "      <td>0.150</td>\n",
       "      <td>0.695</td>\n",
       "      <td>1.616</td>\n",
       "      <td>0.402</td>\n",
       "      <td>0.889</td>\n",
       "      <td>-0.034</td>\n",
       "      <td>0.754</td>\n",
       "      <td>1.150</td>\n",
       "      <td>0.439</td>\n",
       "    </tr>\n",
       "  </tbody>\n",
       "</table>\n",
       "</div>"
      ],
      "text/plain": [
       "   trial_id  time_total_s  training_iteration    lr  train_loss  train_r2  \\\n",
       "0  59b78869        45.546                   1 0.001       1.003    -0.177   \n",
       "1  59b78869        79.338                   2 0.001       0.803     0.061   \n",
       "2  59b78869       108.397                   3 0.001       0.759     0.109   \n",
       "3  59b78869       148.576                   4 0.001       0.728     0.147   \n",
       "4  59b78869       194.250                   5 0.001       0.722     0.150   \n",
       "\n",
       "   train_mae  train_mape  train_wmape  valid_loss  valid_r2  valid_mae  \\\n",
       "0      0.810       1.847        0.469       1.096    -0.266      0.844   \n",
       "1      0.734       1.730        0.425       0.993    -0.157      0.803   \n",
       "2      0.713       1.656        0.413       1.620    -0.893      1.040   \n",
       "3      0.701       1.632        0.406       1.348    -0.575      0.949   \n",
       "4      0.695       1.616        0.402       0.889    -0.034      0.754   \n",
       "\n",
       "   valid_mape  valid_wmape  \n",
       "0       1.164        0.491  \n",
       "1       1.148        0.468  \n",
       "2       0.932        0.605  \n",
       "3       1.103        0.551  \n",
       "4       1.150        0.439  "
      ]
     },
     "execution_count": 30,
     "metadata": {},
     "output_type": "execute_result"
    }
   ],
   "source": [
    "# Display per iteration\n",
    "\n",
    "progress = loader.load_csv(\n",
    "\tfilename = os.path.join(best.log_dir, 'progress.csv')\n",
    ")\n",
    "\n",
    "if CONFIG['model/mode'] == 'regression' :\n",
    "\tprogress = progress[[\n",
    "\t\t'trial_id', 'time_total_s', 'training_iteration', 'lr',\n",
    "\t\t'train_loss', 'train_r2', 'train_mae', 'train_mape', 'train_wmape',\n",
    "\t\t'valid_loss', 'valid_r2', 'valid_mae', 'valid_mape', 'valid_wmape',\n",
    "\t]]\n",
    "\n",
    "if CONFIG['model/mode'] == 'classification' :\n",
    "\tprogress = progress[[\n",
    "\t\t'trial_id', 'time_total_s', 'training_iteration', 'lr',\n",
    "\t\t'train_loss', 'train_accuracy', 'train_auroc', 'train_f1', 'train_matthews',\n",
    "\t\t'valid_loss', 'valid_accuracy', 'valid_auroc', 'valid_f1', 'valid_matthews'\n",
    "\t]]\n",
    "\n",
    "progress"
   ]
  },
  {
   "cell_type": "code",
   "execution_count": 31,
   "id": "4eaa27d6-0da6-4e09-a49e-5cc9b25897c9",
   "metadata": {
    "execution": {
     "iopub.execute_input": "2023-04-11T15:17:00.417431Z",
     "iopub.status.busy": "2023-04-11T15:17:00.416930Z",
     "iopub.status.idle": "2023-04-11T15:17:01.022951Z",
     "shell.execute_reply": "2023-04-11T15:17:01.021449Z",
     "shell.execute_reply.started": "2023-04-11T15:17:00.417431Z"
    },
    "tags": []
   },
   "outputs": [
    {
     "data": {
      "image/png": "[encoded data removed]",
      "text/plain": [
       "<Figure size 1600x1000 with 1 Axes>"
      ]
     },
     "metadata": {},
     "output_type": "display_data"
    }
   ],
   "source": [
    "# Plot best trial valid loss\n",
    "\n",
    "raytune_plot.trial_lineplot_loss(\n",
    "\tdataframe = progress,\n",
    "\tfilename  = os.path.join(OUT_PLOT, CONFIG['model/type'] + '-best')\n",
    ")"
   ]
  },
  {
   "cell_type": "code",
   "execution_count": 32,
   "id": "5057fefd-cb7d-4244-b4bc-3d6ed10b53f9",
   "metadata": {
    "execution": {
     "iopub.execute_input": "2023-04-11T15:17:01.026454Z",
     "iopub.status.busy": "2023-04-11T15:17:01.024952Z",
     "iopub.status.idle": "2023-04-11T15:17:01.579428Z",
     "shell.execute_reply": "2023-04-11T15:17:01.577927Z",
     "shell.execute_reply.started": "2023-04-11T15:17:01.026454Z"
    },
    "tags": []
   },
   "outputs": [
    {
     "data": {
      "image/png": "[encoded data removed]",
      "text/plain": [
       "<Figure size 1600x1000 with 1 Axes>"
      ]
     },
     "metadata": {},
     "output_type": "display_data"
    }
   ],
   "source": [
    "# Plot best trial valid r2\n",
    "\n",
    "if CONFIG['model/mode'] == 'regression' :\n",
    "\traytune_plot.trial_lineplot_r2(\n",
    "\t\tdataframe = progress,\n",
    "\t\tfilename  = os.path.join(OUT_PLOT, CONFIG['model/type'] + '-best')\n",
    "\t)"
   ]
  },
  {
   "cell_type": "code",
   "execution_count": 33,
   "id": "8aa79b94-7b01-44f1-8f42-ea300bbac937",
   "metadata": {
    "execution": {
     "iopub.execute_input": "2023-04-11T15:17:01.580929Z",
     "iopub.status.busy": "2023-04-11T15:17:01.580430Z",
     "iopub.status.idle": "2023-04-11T15:17:01.594441Z",
     "shell.execute_reply": "2023-04-11T15:17:01.593440Z",
     "shell.execute_reply.started": "2023-04-11T15:17:01.580929Z"
    }
   },
   "outputs": [],
   "source": [
    "# Plot best trial valid accuracy\n",
    "\n",
    "if CONFIG['model/mode'] == 'classification' :\n",
    "\traytune_plot.trial_lineplot_accuracy(\n",
    "\t\tdataframe = progress,\n",
    "\t\tfilename  = os.path.join(OUT_PLOT, CONFIG['model/type'] + '-best')\n",
    "\t)"
   ]
  },
  {
   "cell_type": "code",
   "execution_count": 34,
   "id": "0461429d-9439-4764-b085-044ae6121581",
   "metadata": {
    "execution": {
     "iopub.execute_input": "2023-04-11T15:17:01.595441Z",
     "iopub.status.busy": "2023-04-11T15:17:01.595441Z",
     "iopub.status.idle": "2023-04-11T15:17:02.170435Z",
     "shell.execute_reply": "2023-04-11T15:17:02.167432Z",
     "shell.execute_reply.started": "2023-04-11T15:17:01.595441Z"
    },
    "tags": []
   },
   "outputs": [
    {
     "data": {
      "image/png": "[encoded data removed]",
      "text/plain": [
       "<Figure size 1600x1000 with 1 Axes>"
      ]
     },
     "metadata": {},
     "output_type": "display_data"
    }
   ],
   "source": [
    "# Plot trials learning rate\n",
    "\n",
    "raytune_plot.trial_lineplot_lr(\n",
    "\tdataframe = progress,\n",
    "\tfilename  = os.path.join(OUT_PLOT, CONFIG['model/type'] + '-best')\n",
    ")"
   ]
  }
 ],
 "metadata": {
  "kernelspec": {
   "display_name": "Python 3 (ipykernel)",
   "language": "python",
   "name": "python3"
  },
  "language_info": {
   "codemirror_mode": {
    "name": "ipython",
    "version": 3
   },
   "file_extension": ".py",
   "mimetype": "text/x-python",
   "name": "python",
   "nbconvert_exporter": "python",
   "pygments_lexer": "ipython3",
   "version": "3.10.7"
  }
 },
 "nbformat": 4,
 "nbformat_minor": 5
}
