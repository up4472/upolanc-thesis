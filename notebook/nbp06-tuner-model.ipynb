{
 "cells": [
  {
   "cell_type": "code",
   "execution_count": 1,
   "id": "4d6c1030-49e7-4910-a32d-0ae78ce0ce1f",
   "metadata": {
    "execution": {
     "iopub.execute_input": "2023-03-20T14:43:01.643403Z",
     "iopub.status.busy": "2023-03-20T14:43:01.642903Z",
     "iopub.status.idle": "2023-03-20T14:43:03.599082Z",
     "shell.execute_reply": "2023-03-20T14:43:03.596579Z",
     "shell.execute_reply.started": "2023-03-20T14:43:01.643403Z"
    },
    "tags": []
   },
   "outputs": [],
   "source": [
    "# Libraries\n",
    "\n",
    "import argparse\n",
    "import numpy\n",
    "import os\n",
    "import platform\n",
    "import ray\n",
    "import shutil\n",
    "import sys\n",
    "import torch"
   ]
  },
  {
   "cell_type": "code",
   "execution_count": 2,
   "id": "0f4e7e4e-b486-4abf-ae0d-4b22537b648b",
   "metadata": {
    "execution": {
     "iopub.execute_input": "2023-03-20T14:43:03.601083Z",
     "iopub.status.busy": "2023-03-20T14:43:03.600582Z",
     "iopub.status.idle": "2023-03-20T14:43:03.612593Z",
     "shell.execute_reply": "2023-03-20T14:43:03.612092Z",
     "shell.execute_reply.started": "2023-03-20T14:43:03.601083Z"
    },
    "tags": []
   },
   "outputs": [],
   "source": [
    "# Ensure source path\n",
    "\n",
    "ROOT = os.getcwd()\n",
    "\n",
    "while not ROOT.endswith('upolanc-thesis') :\n",
    "\tROOT = os.path.abspath(os.path.join(ROOT, os.pardir))\n",
    "\n",
    "\tif len(ROOT) < len('upolanc-thesis') :\n",
    "\t\tif   platform.system() == 'Linux' :\n",
    "\t\t\tROOT = '/d/hpc/home/up4472/workspace/upolanc-thesis'\n",
    "\t\telif platform.system() == 'Windows' :\n",
    "\t\t\tROOT = 'C:\\\\Developer\\\\Workspace\\\\PyCharm\\\\Projects\\\\upolanc-thesis'\n",
    "\t\telse :\n",
    "\t\t\traise ValueError()\n",
    "\n",
    "\t\tprint(f'Warning : could not find correct directory, using default : {ROOT}')\n",
    "\t\tbreak\n",
    "\n",
    "if ROOT not in sys.path :\n",
    "\tsys.path.append(ROOT)\n",
    "\n",
    "os.chdir(ROOT)"
   ]
  },
  {
   "cell_type": "code",
   "execution_count": 3,
   "id": "8655f888-e21b-4f0e-bebe-ae1e06bf72f9",
   "metadata": {
    "execution": {
     "iopub.execute_input": "2023-03-20T14:43:03.614595Z",
     "iopub.status.busy": "2023-03-20T14:43:03.613594Z",
     "iopub.status.idle": "2023-03-20T14:43:10.437449Z",
     "shell.execute_reply": "2023-03-20T14:43:10.436948Z",
     "shell.execute_reply.started": "2023-03-20T14:43:03.614094Z"
    },
    "tags": []
   },
   "outputs": [
    {
     "name": "stderr",
     "output_type": "stream",
     "text": [
      "2023-03-20 14:43:06,447\tINFO worker.py:1538 -- Started a local Ray instance.\n"
     ]
    }
   ],
   "source": [
    "# Tuner\n",
    "\n",
    "ray.init(include_dashboard = False)\n",
    "\n",
    "from ray.tune import choice\n",
    "from ray.tune import uniform\n",
    "from ray.tune import loguniform\n",
    "from ray.tune import randint"
   ]
  },
  {
   "cell_type": "code",
   "execution_count": 4,
   "id": "53cad32c-4de4-412f-a1e9-9e48a8f77213",
   "metadata": {
    "execution": {
     "iopub.execute_input": "2023-03-20T14:43:10.438951Z",
     "iopub.status.busy": "2023-03-20T14:43:10.438451Z",
     "iopub.status.idle": "2023-03-20T14:43:12.485206Z",
     "shell.execute_reply": "2023-03-20T14:43:12.484705Z",
     "shell.execute_reply.started": "2023-03-20T14:43:10.438951Z"
    },
    "tags": []
   },
   "outputs": [],
   "source": [
    "# Code\n",
    "\n",
    "from source.python.dataset import dataset_utils\n",
    "from source.python.raytune import raytune_model\n",
    "from source.python.raytune import raytune_plot\n",
    "from source.python.raytune import raytune_utils\n",
    "from source.python.io      import loader\n",
    "from source.python         import runtime\n",
    "\n",
    "runtime.set_numpy_format()\n",
    "runtime.set_pandas_format()\n",
    "runtime.set_plot_theme()"
   ]
  },
  {
   "cell_type": "markdown",
   "id": "d50a8f4a-ddce-4960-a822-3f612701ff0d",
   "metadata": {},
   "source": [
    "# 1. Setup"
   ]
  },
  {
   "cell_type": "code",
   "execution_count": 5,
   "id": "cfbe5643-6b5b-4bb7-a84e-c1ec9ce656c1",
   "metadata": {
    "execution": {
     "iopub.execute_input": "2023-03-20T14:43:12.489710Z",
     "iopub.status.busy": "2023-03-20T14:43:12.486207Z",
     "iopub.status.idle": "2023-03-20T14:43:12.500719Z",
     "shell.execute_reply": "2023-03-20T14:43:12.500219Z",
     "shell.execute_reply.started": "2023-03-20T14:43:12.489710Z"
    },
    "tags": []
   },
   "outputs": [],
   "source": [
    "# Define output and inputs\n",
    "\n",
    "MODEL_NAME       = 'zrimec2020'\n",
    "MODEL_TYPE       = 'r'\n",
    "MODEL_PARAMS     = None\n",
    "MODEL_EPOCHS     = 5\n",
    "\n",
    "TARGET_GROUP     = 'global'\n",
    "TARGET_TYPE      = 'mean'\n",
    "TARGET_EXPLODE   = False\n",
    "TARGET_FILTER    = None\n",
    "\n",
    "TUNER_CONCURRENT = 1\n",
    "TUNER_TRIALS     = 5\n",
    "TUNER_GRACE      = 1\n",
    "TUNER_NOTEBOOK   = True"
   ]
  },
  {
   "cell_type": "code",
   "execution_count": 6,
   "id": "89614f5c-6526-45f2-a2ee-113428cbe7f6",
   "metadata": {
    "execution": {
     "iopub.execute_input": "2023-03-20T14:43:12.502221Z",
     "iopub.status.busy": "2023-03-20T14:43:12.501720Z",
     "iopub.status.idle": "2023-03-20T14:43:12.516734Z",
     "shell.execute_reply": "2023-03-20T14:43:12.515733Z",
     "shell.execute_reply.started": "2023-03-20T14:43:12.502221Z"
    }
   },
   "outputs": [
    {
     "name": "stdout",
     "output_type": "stream",
     "text": [
      "Running as .ipynb\n"
     ]
    }
   ],
   "source": [
    "# Check for args\n",
    "\n",
    "if __name__ == '__main__' and 'get_ipython' in dir() :\n",
    "\tprint('Running as .ipynb')\n",
    "\n",
    "if __name__ == '__main__' and 'get_ipython' not in dir() :\n",
    "\tprint('Running as .py')\n",
    "\n",
    "\tparser = argparse.ArgumentParser()\n",
    "\n",
    "\tstr_of_bool = lambda x : True if x == 'true' else False\n",
    "\tstr_or_none = lambda x : None if x == 'none' else str(x)\n",
    "\n",
    "\t_groups = ['tissue', 'group', 'age', 'global', 'perturbation']\n",
    "\t_types  = ['mean', 'max']\n",
    "\t_models = ['washburn2019', 'zrimec2020']\n",
    "\n",
    "\tparser.add_argument('--target_group',     type = str,         default = 'global',     choices = _groups)\n",
    "\tparser.add_argument('--target_type',      type = str,         default = 'mean',       choices = _types)\n",
    "\tparser.add_argument('--model_name',       type = str,         default = 'zrimec2020', choices = _models)\n",
    "\tparser.add_argument('--target_explode',   type = str_of_bool, default = False)\n",
    "\tparser.add_argument('--target_filter',    type = str_or_none, default = None)\n",
    "\tparser.add_argument('--model_epochs',     type = int,         default = 500)\n",
    "\tparser.add_argument('--tuner_concurrent', type = int,         default = 5)\n",
    "\tparser.add_argument('--tuner_trials',     type = int,         default = 250)\n",
    "\tparser.add_argument('--tuner_grace',      type = int,         default = 5)\n",
    "\n",
    "\targs = vars(parser.parse_args())\n",
    "\n",
    "\tTARGET_GROUP     = args['target_group']\n",
    "\tTARGET_TYPE      = args['target_type']\n",
    "\tTARGET_EXPLODE   = args['target_explode']\n",
    "\tTARGET_FILTER    = args['target_filter']\n",
    "\tMODEL_NAME       = args['model_name']\n",
    "\tMODEL_EPOCHS     = args['model_epochs']\n",
    "\tTUNER_CONCURRENT = args['tuner_concurrent']\n",
    "\tTUNER_TRIALS     = args['tuner_trials']\n",
    "\tTUNER_GRACE      = args['tuner_grace']\n",
    "\tTUNER_NOTEBOOK   = False\n",
    "\n",
    "if TARGET_GROUP == 'global' :\n",
    "\tTARGET_EXPLODE = False"
   ]
  },
  {
   "cell_type": "code",
   "execution_count": 7,
   "id": "7d9d420a-cde8-46cb-be15-1f99347d9bdd",
   "metadata": {
    "execution": {
     "iopub.execute_input": "2023-03-20T14:43:12.519736Z",
     "iopub.status.busy": "2023-03-20T14:43:12.519235Z",
     "iopub.status.idle": "2023-03-20T14:43:12.562773Z",
     "shell.execute_reply": "2023-03-20T14:43:12.562272Z",
     "shell.execute_reply.started": "2023-03-20T14:43:12.519736Z"
    },
    "tags": []
   },
   "outputs": [
    {
     "name": "stdout",
     "output_type": "stream",
     "text": [
      "     Root Directory : C:\\Developer\\Workspace\\PyCharm\\Projects\\upolanc-thesis\n",
      "   Output Directory : C:\\Developer\\Workspace\\PyCharm\\Projects\\upolanc-thesis\\output\\nbp06-tuner\\model\\zrimec\n",
      "   Output Directory : C:\\Developer\\Workspace\\PyCharm\\Projects\\upolanc-thesis\\output\\nbp06-tuner\\model\\zrimec\\plot\n",
      " Resource Directory : C:\\Developer\\Workspace\\PyCharm\\Projects\\upolanc-thesis\\resources\\tuner\n",
      " Resource Directory : C:\\Developer\\Workspace\\PyCharm\\Projects\\upolanc-thesis\\output\\nbp04-feature\n",
      " Resource Directory : C:\\Developer\\Workspace\\PyCharm\\Projects\\upolanc-thesis\\output\\nbp05-target\n"
     ]
    }
   ],
   "source": [
    "# Setup some directory paths.\n",
    "\n",
    "CWD = ROOT\n",
    "OUT = os.path.join(CWD, 'output')\n",
    "RES = os.path.join(CWD, 'resources')\n",
    "\n",
    "OUT_DATA  = os.path.join(OUT,      'nbp06-tuner', 'model', MODEL_NAME[:-4])\n",
    "OUT_PLOT  = os.path.join(OUT_DATA, 'plot')\n",
    "RES_TUNER = os.path.join(RES,      'tuner')\n",
    "RES_NBP04 = os.path.join(OUT,      'nbp04-feature')\n",
    "RES_NBP05 = os.path.join(OUT,      'nbp05-target')\n",
    "\n",
    "shutil.rmtree(OUT_DATA, ignore_errors = True)\n",
    "\n",
    "os.makedirs(OUT_DATA, exist_ok = True)\n",
    "os.makedirs(OUT_PLOT, exist_ok = True)\n",
    "\n",
    "print(f'     Root Directory : {CWD}')\n",
    "print(f'   Output Directory : {OUT_DATA}')\n",
    "print(f'   Output Directory : {OUT_PLOT}')\n",
    "print(f' Resource Directory : {RES_TUNER}')\n",
    "print(f' Resource Directory : {RES_NBP04}')\n",
    "print(f' Resource Directory : {RES_NBP05}')"
   ]
  },
  {
   "cell_type": "code",
   "execution_count": 8,
   "id": "a7f1d561-e60e-44ea-9ffc-60f3bc53c1c4",
   "metadata": {
    "execution": {
     "iopub.execute_input": "2023-03-20T14:43:12.563774Z",
     "iopub.status.busy": "2023-03-20T14:43:12.563273Z",
     "iopub.status.idle": "2023-03-20T14:43:12.609313Z",
     "shell.execute_reply": "2023-03-20T14:43:12.608812Z",
     "shell.execute_reply.started": "2023-03-20T14:43:12.563774Z"
    },
    "tags": []
   },
   "outputs": [
    {
     "name": "stdout",
     "output_type": "stream",
     "text": [
      "platform/python           : 3.10.7\n",
      "platform/system           : Windows\n",
      "platform/release          : 10\n",
      "platform/version          : 10.0.19044\n",
      "platform/cpu/name         : N/A\n",
      "platform/cpu/count        : 12\n",
      "platform/gpu/name         : NVIDIA GeForce RTX 3060 Ti\n",
      "platform/gpu/available    : True\n",
      "platform/gpu/count        : 1\n",
      "platform/memory/total     : 31.924 GB\n",
      "platform/memory/available : 17.002 GB\n"
     ]
    }
   ],
   "source": [
    "# System and device\n",
    "\n",
    "DEVICE = runtime.get_device(only_cpu = False)\n",
    "SYSTEM = runtime.get_system_info()\n",
    "\n",
    "for key, value in SYSTEM.items() :\n",
    "\tprint('{:25s} : {}'.format(key, value))"
   ]
  },
  {
   "cell_type": "code",
   "execution_count": 9,
   "id": "d254fe75-06de-4b51-88ab-e6af1f5af769",
   "metadata": {
    "execution": {
     "iopub.execute_input": "2023-03-20T14:43:12.610814Z",
     "iopub.status.busy": "2023-03-20T14:43:12.610314Z",
     "iopub.status.idle": "2023-03-20T14:43:21.141634Z",
     "shell.execute_reply": "2023-03-20T14:43:21.141133Z",
     "shell.execute_reply.started": "2023-03-20T14:43:12.610814Z"
    },
    "tags": []
   },
   "outputs": [],
   "source": [
    "# Load the input transcript features\n",
    "\n",
    "sequence_bp2150 = loader.load_fasta(\n",
    "\tfilename  = os.path.join(RES_NBP04, 'sequences-bp2150.fasta'),\n",
    "\tto_string = True\n",
    ")\n",
    "\n",
    "feature_base = loader.load_npz(\n",
    "\tfilename = os.path.join(RES_NBP04, 'features-base.npz')\n",
    ")"
   ]
  },
  {
   "cell_type": "markdown",
   "id": "de314874-ff3f-43c1-bb0a-919f2d63e775",
   "metadata": {},
   "source": [
    "# 2. Tuner"
   ]
  },
  {
   "cell_type": "code",
   "execution_count": 10,
   "id": "7df5b6e1-2eb9-4c84-a31b-418ccbfd4766",
   "metadata": {
    "execution": {
     "iopub.execute_input": "2023-03-20T14:43:21.142635Z",
     "iopub.status.busy": "2023-03-20T14:43:21.142635Z",
     "iopub.status.idle": "2023-03-20T14:43:21.157147Z",
     "shell.execute_reply": "2023-03-20T14:43:21.156647Z",
     "shell.execute_reply.started": "2023-03-20T14:43:21.142635Z"
    },
    "tags": []
   },
   "outputs": [],
   "source": [
    "# Define basic data parameters\n",
    "\n",
    "CONFIG = {\n",
    "\t'core/random'             : None,\n",
    "\t'core/device'             : DEVICE,\n",
    "\t'core/rootdir'            : ROOT,\n",
    "\t'core/outdir'             : OUT_DATA,\n",
    "\t'dataset/filepath'        : os.path.join(OUT_DATA, 'dataset.pkl'),\n",
    "\t'dataset/expanddim'       : None,\n",
    "\t'dataset/split/valid'     : 0.2,\n",
    "\t'dataset/split/test'      : 0.2,\n",
    "\t'tuner/trials'            : TUNER_TRIALS,\n",
    "\t'tuner/max_epochs'        : MODEL_EPOCHS,\n",
    "\t'tuner/min_epochs'        : TUNER_GRACE,\n",
    "\t'tuner/max_concurrent'    : TUNER_CONCURRENT,\n",
    "\t'tuner/reporter/freq'     : 30,\n",
    "\t'tuner/reporter/notebook' : TUNER_NOTEBOOK,\n",
    "\t'tuner/checkpoint'        : False,\n",
    "\t'tuner/stopper'           : True,\n",
    "\t'tuner/stopper/days'      : 3,\n",
    "\t'tuner/stopper/hours'     : 22,\n",
    "\t'tuner/stopper/minutes'   : 0,\n",
    "\t'model/name'              : MODEL_NAME,\n",
    "\t'model/type'              : MODEL_NAME + MODEL_TYPE,\n",
    "\t'model/epochs'            : MODEL_EPOCHS,\n",
    "\t'model/input/channels'    : 1,\n",
    "\t'model/input/height'      : 4,\n",
    "\t'model/input/width'       : 2150,\n",
    "\t'model/input/features'    : None,\n",
    "\t'model/output/target'     : TARGET_GROUP,\n",
    "\t'model/output/type'       : TARGET_TYPE,\n",
    "\t'model/output/filter'     : TARGET_FILTER,\n",
    "\t'model/output/explode'    : TARGET_EXPLODE,\n",
    "\t'model/output/size'       : None,\n",
    "\t'params/tuner'            : None,\n",
    "\t'params/filepath'         : RES_TUNER\n",
    "}\n",
    "\n",
    "CONFIG['core/random'] = runtime.lock_random(\n",
    "\tseed     = CONFIG['core/random'],\n",
    "\tgenerate = True\n",
    ")\n",
    "\n",
    "if CONFIG['model/name'].startswith('washburn2019') :\n",
    "\tCONFIG['dataset/expanddim'] = 0"
   ]
  },
  {
   "cell_type": "code",
   "execution_count": 11,
   "id": "4fe4b9b5-4ee7-4b12-a0b8-ab7e037214c0",
   "metadata": {
    "execution": {
     "iopub.execute_input": "2023-03-20T14:43:21.158148Z",
     "iopub.status.busy": "2023-03-20T14:43:21.158148Z",
     "iopub.status.idle": "2023-03-20T14:43:21.172661Z",
     "shell.execute_reply": "2023-03-20T14:43:21.172160Z",
     "shell.execute_reply.started": "2023-03-20T14:43:21.158148Z"
    },
    "tags": []
   },
   "outputs": [
    {
     "name": "stdout",
     "output_type": "stream",
     "text": [
      "Model Name  : zrimec2020\n",
      "Model Type  : zrimec2020r\n",
      "Random Seed : 737850287\n"
     ]
    }
   ],
   "source": [
    "# Prints\n",
    "\n",
    "print('Model Name  : {}'.format(CONFIG['model/name']))\n",
    "print('Model Type  : {}'.format(CONFIG['model/type']))\n",
    "print('Random Seed : {}'.format(CONFIG['core/random']))"
   ]
  },
  {
   "cell_type": "markdown",
   "id": "2037535d-fbdf-4ff8-bc83-1cd1032b9896",
   "metadata": {},
   "source": [
    "# 3. Dataset"
   ]
  },
  {
   "cell_type": "code",
   "execution_count": 12,
   "id": "1f033c8a-dd5e-46d2-bb7f-2a99ed0d5a50",
   "metadata": {
    "execution": {
     "iopub.execute_input": "2023-03-20T14:43:21.174162Z",
     "iopub.status.busy": "2023-03-20T14:43:21.173661Z",
     "iopub.status.idle": "2023-03-20T14:43:21.684600Z",
     "shell.execute_reply": "2023-03-20T14:43:21.684099Z",
     "shell.execute_reply.started": "2023-03-20T14:43:21.174162Z"
    },
    "tags": []
   },
   "outputs": [
    {
     "data": {
      "text/html": [
       "<div>\n",
       "<style scoped>\n",
       "    .dataframe tbody tr th:only-of-type {\n",
       "        vertical-align: middle;\n",
       "    }\n",
       "\n",
       "    .dataframe tbody tr th {\n",
       "        vertical-align: top;\n",
       "    }\n",
       "\n",
       "    .dataframe thead th {\n",
       "        text-align: right;\n",
       "    }\n",
       "</style>\n",
       "<table border=\"1\" class=\"dataframe\">\n",
       "  <thead>\n",
       "    <tr style=\"text-align: right;\">\n",
       "      <th></th>\n",
       "      <th>Transcript</th>\n",
       "      <th>TPM_Value</th>\n",
       "      <th>TPM_Label</th>\n",
       "      <th>Global</th>\n",
       "    </tr>\n",
       "  </thead>\n",
       "  <tbody>\n",
       "    <tr>\n",
       "      <th>AT1G01010.1</th>\n",
       "      <td>AT1G01010.1</td>\n",
       "      <td>[1.761241756101558]</td>\n",
       "      <td>[1]</td>\n",
       "      <td>[global]</td>\n",
       "    </tr>\n",
       "    <tr>\n",
       "      <th>AT1G01020.1</th>\n",
       "      <td>AT1G01020.1</td>\n",
       "      <td>[1.0866479101651763]</td>\n",
       "      <td>[0]</td>\n",
       "      <td>[global]</td>\n",
       "    </tr>\n",
       "    <tr>\n",
       "      <th>AT1G01030.1</th>\n",
       "      <td>AT1G01030.1</td>\n",
       "      <td>[1.0235488805181145]</td>\n",
       "      <td>[0]</td>\n",
       "      <td>[global]</td>\n",
       "    </tr>\n",
       "    <tr>\n",
       "      <th>AT1G01040.1</th>\n",
       "      <td>AT1G01040.1</td>\n",
       "      <td>[1.6519999764364053]</td>\n",
       "      <td>[1]</td>\n",
       "      <td>[global]</td>\n",
       "    </tr>\n",
       "    <tr>\n",
       "      <th>AT1G01050.1</th>\n",
       "      <td>AT1G01050.1</td>\n",
       "      <td>[3.2601375485355275]</td>\n",
       "      <td>[2]</td>\n",
       "      <td>[global]</td>\n",
       "    </tr>\n",
       "    <tr>\n",
       "      <th>...</th>\n",
       "      <td>...</td>\n",
       "      <td>...</td>\n",
       "      <td>...</td>\n",
       "      <td>...</td>\n",
       "    </tr>\n",
       "    <tr>\n",
       "      <th>AT5G67600.1</th>\n",
       "      <td>AT5G67600.1</td>\n",
       "      <td>[3.2010419178026743]</td>\n",
       "      <td>[2]</td>\n",
       "      <td>[global]</td>\n",
       "    </tr>\n",
       "    <tr>\n",
       "      <th>AT5G67610.1</th>\n",
       "      <td>AT5G67610.1</td>\n",
       "      <td>[1.8563512356941414]</td>\n",
       "      <td>[1]</td>\n",
       "      <td>[global]</td>\n",
       "    </tr>\n",
       "    <tr>\n",
       "      <th>AT5G67620.1</th>\n",
       "      <td>AT5G67620.1</td>\n",
       "      <td>[0.9904034477856412]</td>\n",
       "      <td>[0]</td>\n",
       "      <td>[global]</td>\n",
       "    </tr>\n",
       "    <tr>\n",
       "      <th>AT5G67630.1</th>\n",
       "      <td>AT5G67630.1</td>\n",
       "      <td>[2.4249098838660283]</td>\n",
       "      <td>[2]</td>\n",
       "      <td>[global]</td>\n",
       "    </tr>\n",
       "    <tr>\n",
       "      <th>AT5G67640.1</th>\n",
       "      <td>AT5G67640.1</td>\n",
       "      <td>[1.8990362439286042]</td>\n",
       "      <td>[1]</td>\n",
       "      <td>[global]</td>\n",
       "    </tr>\n",
       "  </tbody>\n",
       "</table>\n",
       "<p>19367 rows × 4 columns</p>\n",
       "</div>"
      ],
      "text/plain": [
       "              Transcript             TPM_Value TPM_Label    Global\n",
       "AT1G01010.1  AT1G01010.1   [1.761241756101558]       [1]  [global]\n",
       "AT1G01020.1  AT1G01020.1  [1.0866479101651763]       [0]  [global]\n",
       "AT1G01030.1  AT1G01030.1  [1.0235488805181145]       [0]  [global]\n",
       "AT1G01040.1  AT1G01040.1  [1.6519999764364053]       [1]  [global]\n",
       "AT1G01050.1  AT1G01050.1  [3.2601375485355275]       [2]  [global]\n",
       "...                  ...                   ...       ...       ...\n",
       "AT5G67600.1  AT5G67600.1  [3.2010419178026743]       [2]  [global]\n",
       "AT5G67610.1  AT5G67610.1  [1.8563512356941414]       [1]  [global]\n",
       "AT5G67620.1  AT5G67620.1  [0.9904034477856412]       [0]  [global]\n",
       "AT5G67630.1  AT5G67630.1  [2.4249098838660283]       [2]  [global]\n",
       "AT5G67640.1  AT5G67640.1  [1.8990362439286042]       [1]  [global]\n",
       "\n",
       "[19367 rows x 4 columns]"
      ]
     },
     "execution_count": 12,
     "metadata": {},
     "output_type": "execute_result"
    }
   ],
   "source": [
    "# Load features\n",
    "\n",
    "filters = {\n",
    "\t'tissue'       : None,\n",
    "\t'group'        : None,\n",
    "\t'age'          : None,\n",
    "\t'perturbation' : None,\n",
    "\t'global'       : None,\n",
    "} | {\n",
    "\tTARGET_GROUP : TARGET_FILTER\n",
    "\tif TARGET_FILTER is None\n",
    "\telse [TARGET_FILTER]\n",
    "}\n",
    "\n",
    "dataframe, target_value, target_order = loader.load_feature_targets(\n",
    "\tgroup     = '{}-{}'.format(TARGET_GROUP, TARGET_TYPE),\n",
    "\texplode   = TARGET_EXPLODE,\n",
    "\tfilters   = filters,\n",
    "\tdirectory = RES_NBP05,\n",
    "\tfilename  = 'mapping-grouped.pkl',\n",
    "\tmode      = 'regression'\n",
    ")\n",
    "\n",
    "if 'Feature' in dataframe.columns :\n",
    "\tfeature_base = {\n",
    "\t\tkey : numpy.concatenate((feature_base[key.split('?')[-1]], value))\n",
    "\t\tfor key, value in dataframe['Feature'].to_dict().items()\n",
    "\t}\n",
    "\n",
    "CONFIG['model/output/size']    = len(target_order)\n",
    "CONFIG['model/input/features'] = len(list(feature_base.values())[0])\n",
    "\n",
    "dataframe"
   ]
  },
  {
   "cell_type": "code",
   "execution_count": 13,
   "id": "bae003d5-7e8d-4337-a1ec-f208c4bc90d4",
   "metadata": {
    "execution": {
     "iopub.execute_input": "2023-03-20T14:43:21.685600Z",
     "iopub.status.busy": "2023-03-20T14:43:21.685100Z",
     "iopub.status.idle": "2023-03-20T14:43:37.446124Z",
     "shell.execute_reply": "2023-03-20T14:43:37.445624Z",
     "shell.execute_reply.started": "2023-03-20T14:43:21.685600Z"
    },
    "tags": []
   },
   "outputs": [],
   "source": [
    "# Create dataset\n",
    "\n",
    "dataset = dataset_utils.to_gene_dataset(\n",
    "\tsequences   = sequence_bp2150,\n",
    "\tfeatures    = feature_base,\n",
    "\ttargets     = target_value,\n",
    "\texpand_dims = CONFIG['dataset/expanddim']\n",
    ")"
   ]
  },
  {
   "cell_type": "code",
   "execution_count": 14,
   "id": "915d2f9a-ba40-49f0-af26-123b7543926b",
   "metadata": {
    "execution": {
     "iopub.execute_input": "2023-03-20T14:43:37.448126Z",
     "iopub.status.busy": "2023-03-20T14:43:37.447626Z",
     "iopub.status.idle": "2023-03-20T14:44:35.402855Z",
     "shell.execute_reply": "2023-03-20T14:44:35.402354Z",
     "shell.execute_reply.started": "2023-03-20T14:43:37.448126Z"
    },
    "tags": []
   },
   "outputs": [],
   "source": [
    "# Save dataset\n",
    "\n",
    "torch.save(dataset, CONFIG['dataset/filepath'])"
   ]
  },
  {
   "cell_type": "code",
   "execution_count": 15,
   "id": "e02437ca-1eab-44f8-9fc7-5b192b48491f",
   "metadata": {
    "execution": {
     "iopub.execute_input": "2023-03-20T14:44:35.403856Z",
     "iopub.status.busy": "2023-03-20T14:44:35.403355Z",
     "iopub.status.idle": "2023-03-20T14:44:35.418368Z",
     "shell.execute_reply": "2023-03-20T14:44:35.417867Z",
     "shell.execute_reply.started": "2023-03-20T14:44:35.403856Z"
    },
    "tags": []
   },
   "outputs": [
    {
     "name": "stdout",
     "output_type": "stream",
     "text": [
      "Dataset Filepath : C:\\Developer\\Workspace\\PyCharm\\Projects\\upolanc-thesis\\output\\nbp06-tuner\\model\\zrimec\\dataset.pkl\n",
      "Input Features   : 72\n",
      "Output Size      : 1\n"
     ]
    }
   ],
   "source": [
    "# Assert all is set\n",
    "\n",
    "if CONFIG['dataset/filepath']     is None : raise AssertionError('dataset/filepath')\n",
    "if CONFIG['model/input/features'] is None : raise AssertionError('model/input/features')\n",
    "if CONFIG['model/output/size']    is None : raise AssertionError('model/output/size')\n",
    "\n",
    "print('Dataset Filepath : {}'.format(CONFIG['dataset/filepath']))\n",
    "print('Input Features   : {}'.format(CONFIG['model/input/features']))\n",
    "print('Output Size      : {}'.format(CONFIG['model/output/size']))"
   ]
  },
  {
   "cell_type": "markdown",
   "id": "e17b18d9-cccb-4763-8391-2567b75c3fbb",
   "metadata": {
    "tags": []
   },
   "source": [
    "# 4. Search Space"
   ]
  },
  {
   "cell_type": "code",
   "execution_count": 16,
   "id": "e14f73b3-6854-4fa0-a497-50d7fde4391d",
   "metadata": {
    "execution": {
     "iopub.execute_input": "2023-03-20T14:44:35.419869Z",
     "iopub.status.busy": "2023-03-20T14:44:35.419369Z",
     "iopub.status.idle": "2023-03-20T14:44:35.434382Z",
     "shell.execute_reply": "2023-03-20T14:44:35.433381Z",
     "shell.execute_reply.started": "2023-03-20T14:44:35.419869Z"
    },
    "tags": []
   },
   "outputs": [],
   "source": [
    "# Define optimizer parameters\n",
    "\n",
    "optimizer_lr       = loguniform(1e-5, 1e-2)\n",
    "optimizer_decay    = uniform(0.000, 0.100)\n",
    "optimizer_beta1    = uniform(0.500, 0.950)\n",
    "optimizer_beta2    = uniform(0.951, 0.999)"
   ]
  },
  {
   "cell_type": "code",
   "execution_count": 17,
   "id": "dd4332b9-3ced-4899-86a6-df0425063255",
   "metadata": {
    "execution": {
     "iopub.execute_input": "2023-03-20T14:44:35.435383Z",
     "iopub.status.busy": "2023-03-20T14:44:35.435383Z",
     "iopub.status.idle": "2023-03-20T14:44:35.449895Z",
     "shell.execute_reply": "2023-03-20T14:44:35.448895Z",
     "shell.execute_reply.started": "2023-03-20T14:44:35.435383Z"
    },
    "tags": []
   },
   "outputs": [],
   "source": [
    "# Define scheduler parameters\n",
    "\n",
    "scheduler_name             = choice(['plateau', 'linear', 'exponential'])\n",
    "scheduler_plateau_factor   = uniform(0.1, 0.5)\n",
    "scheduler_plateau_patience = randint(5, 25)\n",
    "scheduler_linear_factor    = uniform(1e-07, 2e-01)\n",
    "scheduler_exp_factor       = uniform(0.900, 0.999)"
   ]
  },
  {
   "cell_type": "code",
   "execution_count": 18,
   "id": "a5a3581a-5246-4b79-9e8f-8357a42f5793",
   "metadata": {
    "execution": {
     "iopub.execute_input": "2023-03-20T14:44:35.450896Z",
     "iopub.status.busy": "2023-03-20T14:44:35.450396Z",
     "iopub.status.idle": "2023-03-20T14:44:35.464908Z",
     "shell.execute_reply": "2023-03-20T14:44:35.464408Z",
     "shell.execute_reply.started": "2023-03-20T14:44:35.450896Z"
    },
    "tags": []
   },
   "outputs": [],
   "source": [
    "# Define model parameters\n",
    "\n",
    "model_dropout   = uniform(0.0, 0.5)\n",
    "model_leakyrelu = uniform(0.0, 0.1)\n",
    "\n",
    "conv1_kernels  = [5, 11, 21, 31, 41]\n",
    "conv1_filters  = [32, 64, 128, 256]\n",
    "\n",
    "convx_kernels  = [5, 11, 21, 31, 41]\n",
    "convx_padding  = ['same', 'none']\n",
    "convx_filters  = [32, 64, 128, 256]\n",
    "convx_dilation = [1]\n",
    "\n",
    "poolx_kernels  = [3, 5, 9]\n",
    "poolx_padding  = ['same', 'none']\n",
    "\n",
    "fc1_features = [64, 128, 256, 512]\n",
    "fcx_features = [64, 128, 256, 512]"
   ]
  },
  {
   "cell_type": "code",
   "execution_count": 19,
   "id": "0a2fc685-9803-4596-8fde-d0678ed7604b",
   "metadata": {
    "execution": {
     "iopub.execute_input": "2023-03-20T14:44:35.465909Z",
     "iopub.status.busy": "2023-03-20T14:44:35.465909Z",
     "iopub.status.idle": "2023-03-20T14:44:35.480422Z",
     "shell.execute_reply": "2023-03-20T14:44:35.479921Z",
     "shell.execute_reply.started": "2023-03-20T14:44:35.465909Z"
    },
    "tags": []
   },
   "outputs": [],
   "source": [
    "# Define search space (tested with zrimec2020r and washburn2019r)\n",
    "\n",
    "param_space = dict()\n",
    "\n",
    "# Dataset\n",
    "param_space['dataset/batch_size'] = choice([32, 64, 128])\n",
    "\n",
    "# Optimizer\n",
    "param_space['optimizer/name']  = 'adam'\n",
    "param_space['optimizer/lr']    = optimizer_lr\n",
    "param_space['optimizer/decay'] = optimizer_decay\n",
    "param_space['optimizer/beta1'] = optimizer_beta1\n",
    "param_space['optimizer/beta2'] = optimizer_beta2\n",
    "\n",
    "# Criterion\n",
    "param_space['criterion/name']      = 'mse'\n",
    "param_space['criterion/reduction'] = 'mean'\n",
    "\n",
    "# Scheduler\n",
    "param_space['scheduler/name']               = scheduler_name\n",
    "param_space['scheduler/plateau/factor']     = scheduler_plateau_factor\n",
    "param_space['scheduler/plateau/patience']   = scheduler_plateau_patience\n",
    "param_space['scheduler/linear/factor']      = scheduler_linear_factor\n",
    "param_space['scheduler/exponential/factor'] = scheduler_exp_factor\n",
    "\n",
    "# Model\n",
    "param_space['model/dropout']   = model_dropout\n",
    "param_space['model/leakyrelu'] = model_leakyrelu\n",
    "\n",
    "# Convolution\n",
    "param_space['model/conv1/filters']  = choice(conv1_filters)\n",
    "param_space['model/conv1/kernel']   = choice(conv1_kernels)\n",
    "param_space['model/conv1/padding']  = 'none'\n",
    "param_space['model/conv1/dilation'] = 1\n",
    "param_space['model/conv2/filters']  = choice(convx_filters)\n",
    "param_space['model/conv2/kernel']   = choice(convx_kernels)\n",
    "param_space['model/conv2/padding']  = 'same'\n",
    "param_space['model/conv2/dilation'] = 1\n",
    "param_space['model/conv3/filters']  = choice(convx_filters)\n",
    "param_space['model/conv3/kernel']   = choice(convx_kernels)\n",
    "param_space['model/conv3/padding']  = 'same'\n",
    "param_space['model/conv3/dilation'] = 1\n",
    "\n",
    "if CONFIG['model/name'].startswith('washburn2019') :\n",
    "\tparam_space['model/conv4/filters']  = choice(convx_filters)\n",
    "\tparam_space['model/conv4/kernel']   = choice(convx_kernels)\n",
    "\tparam_space['model/conv4/padding']  = 'same'\n",
    "\tparam_space['model/conv4/dilation'] = 1\n",
    "\tparam_space['model/conv5/filters']  = choice(convx_filters)\n",
    "\tparam_space['model/conv5/kernel']   = choice(convx_kernels)\n",
    "\tparam_space['model/conv5/padding']  = 'same'\n",
    "\tparam_space['model/conv5/dilation'] = 1\n",
    "\tparam_space['model/conv6/filters']  = choice(convx_filters)\n",
    "\tparam_space['model/conv6/kernel']   = choice(convx_kernels)\n",
    "\tparam_space['model/conv6/padding']  = 'same'\n",
    "\tparam_space['model/conv6/dilation'] = 1\n",
    "\n",
    "# Pooling\n",
    "param_space['model/maxpool1/kernel']  = choice(poolx_kernels)\n",
    "param_space['model/maxpool1/padding'] = 'same'\n",
    "param_space['model/maxpool2/kernel']  = choice(poolx_kernels)\n",
    "param_space['model/maxpool2/padding'] = 'same'\n",
    "param_space['model/maxpool3/kernel']  = choice(poolx_kernels)\n",
    "param_space['model/maxpool3/padding'] = 'same'\n",
    "\n",
    "# Linear\n",
    "param_space['model/fc1/features'] = choice(fc1_features)\n",
    "param_space['model/fc2/features'] = choice(fcx_features)"
   ]
  },
  {
   "cell_type": "code",
   "execution_count": 20,
   "id": "665a0c20-95b3-4acd-ba9c-801dbd8ec72e",
   "metadata": {
    "execution": {
     "iopub.execute_input": "2023-03-20T14:44:35.481923Z",
     "iopub.status.busy": "2023-03-20T14:44:35.481422Z",
     "iopub.status.idle": "2023-03-20T14:44:35.496435Z",
     "shell.execute_reply": "2023-03-20T14:44:35.495434Z",
     "shell.execute_reply.started": "2023-03-20T14:44:35.481923Z"
    },
    "tags": []
   },
   "outputs": [],
   "source": [
    "# Define starting parameters for algorithm (some decent starting point from previous runs)\n",
    "\n",
    "params_initial = None\n",
    "\n",
    "if CONFIG['model/type'].startswith('zrimec2020r') :\n",
    "\tfilename = os.path.join(RES_TUNER, 'zrimec2020.json')\n",
    "\n",
    "\tif os.path.exists(filename) :\n",
    "\t\tparams_initial = loader.load_json(filename = filename)\n",
    "\n",
    "if CONFIG['model/type'].startswith('washburn2019r') :\n",
    "\tfilename = os.path.join(RES_TUNER, 'washburn2019.json')\n",
    "\n",
    "\tif os.path.exists(filename) :\n",
    "\t\tparams_initial = loader.load_json(filename = filename)"
   ]
  },
  {
   "cell_type": "markdown",
   "id": "08b64877-eb4c-4147-9c5f-d9ed43be320a",
   "metadata": {},
   "source": [
    "# 5. Tuning"
   ]
  },
  {
   "cell_type": "code",
   "execution_count": 21,
   "id": "67afe19c-bcd1-4200-8d26-182840a42168",
   "metadata": {
    "execution": {
     "iopub.execute_input": "2023-03-20T14:44:35.497436Z",
     "iopub.status.busy": "2023-03-20T14:44:35.496935Z",
     "iopub.status.idle": "2023-03-20T14:44:35.512449Z",
     "shell.execute_reply": "2023-03-20T14:44:35.510948Z",
     "shell.execute_reply.started": "2023-03-20T14:44:35.497436Z"
    },
    "tags": []
   },
   "outputs": [
    {
     "data": {
      "text/html": [
       "<div class=\"tuneStatus\">\n",
       "  <div style=\"display: flex;flex-direction: row\">\n",
       "    <div style=\"display: flex;flex-direction: column;\">\n",
       "      <h3>Tune Status</h3>\n",
       "      <table>\n",
       "<tbody>\n",
       "<tr><td>Current time:</td><td>2023-03-20 14:53:58</td></tr>\n",
       "<tr><td>Running for: </td><td>00:09:22.39        </td></tr>\n",
       "<tr><td>Memory:      </td><td>20.3/31.9 GiB      </td></tr>\n",
       "</tbody>\n",
       "</table>\n",
       "    </div>\n",
       "    <div class=\"vDivider\"></div>\n",
       "    <div class=\"systemInfo\">\n",
       "      <h3>System Info</h3>\n",
       "      Using AsyncHyperBand: num_stopped=5<br>Bracket: Iter 4.000: -1.0783932932086033 | Iter 1.000: -1.3672060276218925<br>Resources requested: 0/12 CPUs, 0/1 GPUs, 0.0/10.74 GiB heap, 0.0/5.37 GiB objects\n",
       "    </div>\n",
       "    \n",
       "  </div>\n",
       "  <div class=\"hDivider\"></div>\n",
       "  <div class=\"trialStatus\">\n",
       "    <h3>Trial Status</h3>\n",
       "    <table>\n",
       "<thead>\n",
       "<tr><th>Trial name  </th><th>status    </th><th>loc            </th><th style=\"text-align: right;\">  dataset/batch_size</th><th>optimizer/name  </th><th>scheduler/name  </th><th style=\"text-align: right;\">  train_loss</th><th style=\"text-align: right;\">  train_r2</th><th style=\"text-align: right;\">  train_mae</th><th style=\"text-align: right;\">  valid_loss</th><th style=\"text-align: right;\">  valid_r2</th><th style=\"text-align: right;\">  valid_mae</th></tr>\n",
       "</thead>\n",
       "<tbody>\n",
       "<tr><td>5f0507ff    </td><td>TERMINATED</td><td>127.0.0.1:21752</td><td style=\"text-align: right;\">                  64</td><td>adam            </td><td>linear          </td><td style=\"text-align: right;\">    0.698565</td><td style=\"text-align: right;\">  0.180897</td><td style=\"text-align: right;\">   0.683193</td><td style=\"text-align: right;\">    1.49802 </td><td style=\"text-align: right;\">-0.795777 </td><td style=\"text-align: right;\">   1.0026  </td></tr>\n",
       "<tr><td>51fe720f    </td><td>TERMINATED</td><td>127.0.0.1:3888 </td><td style=\"text-align: right;\">                 128</td><td>adam            </td><td>linear          </td><td style=\"text-align: right;\">    0.57586 </td><td style=\"text-align: right;\">  0.333741</td><td style=\"text-align: right;\">   0.615777</td><td style=\"text-align: right;\">    0.863384</td><td style=\"text-align: right;\">-0.0199202</td><td style=\"text-align: right;\">   0.757287</td></tr>\n",
       "<tr><td>d8848fc5    </td><td>TERMINATED</td><td>127.0.0.1:16444</td><td style=\"text-align: right;\">                 128</td><td>adam            </td><td>exponential     </td><td style=\"text-align: right;\">    2.7188  </td><td style=\"text-align: right;\"> -2.18048 </td><td style=\"text-align: right;\">   1.14265 </td><td style=\"text-align: right;\">    6.14944 </td><td style=\"text-align: right;\">-6.34483  </td><td style=\"text-align: right;\">   2.28354 </td></tr>\n",
       "<tr><td>81192a93    </td><td>TERMINATED</td><td>127.0.0.1:1264 </td><td style=\"text-align: right;\">                  32</td><td>adam            </td><td>linear          </td><td style=\"text-align: right;\">    1.74629 </td><td style=\"text-align: right;\"> -1.12308 </td><td style=\"text-align: right;\">   1.03748 </td><td style=\"text-align: right;\">    1.58135 </td><td style=\"text-align: right;\">-0.928241 </td><td style=\"text-align: right;\">   1.02931 </td></tr>\n",
       "<tr><td>b87d60df    </td><td>TERMINATED</td><td>127.0.0.1:20588</td><td style=\"text-align: right;\">                 128</td><td>adam            </td><td>plateau         </td><td style=\"text-align: right;\">    4.76865 </td><td style=\"text-align: right;\"> -4.56988 </td><td style=\"text-align: right;\">   1.72683 </td><td style=\"text-align: right;\">    1.91473 </td><td style=\"text-align: right;\">-1.25525  </td><td style=\"text-align: right;\">   1.11553 </td></tr>\n",
       "</tbody>\n",
       "</table>\n",
       "  </div>\n",
       "</div>\n",
       "<style>\n",
       ".tuneStatus {\n",
       "  color: var(--jp-ui-font-color1);\n",
       "}\n",
       ".tuneStatus .systemInfo {\n",
       "  display: flex;\n",
       "  flex-direction: column;\n",
       "}\n",
       ".tuneStatus td {\n",
       "  white-space: nowrap;\n",
       "}\n",
       ".tuneStatus .trialStatus {\n",
       "  display: flex;\n",
       "  flex-direction: column;\n",
       "}\n",
       ".tuneStatus h3 {\n",
       "  font-weight: bold;\n",
       "}\n",
       ".tuneStatus .hDivider {\n",
       "  border-bottom-width: var(--jp-border-width);\n",
       "  border-bottom-color: var(--jp-border-color0);\n",
       "  border-bottom-style: solid;\n",
       "}\n",
       ".tuneStatus .vDivider {\n",
       "  border-left-width: var(--jp-border-width);\n",
       "  border-left-color: var(--jp-border-color0);\n",
       "  border-left-style: solid;\n",
       "  margin: 0.5em 1em 0.5em 1em;\n",
       "}\n",
       "</style>\n"
      ],
      "text/plain": [
       "<IPython.core.display.HTML object>"
      ]
     },
     "metadata": {},
     "output_type": "display_data"
    }
   ],
   "source": [
    "# Create tuner config\n",
    "\n",
    "trainable = raytune_utils.create_trainable(\n",
    "\tmethod = raytune_model.main,\n",
    "\tconfig = CONFIG,\n",
    "\tcpu_count = SYSTEM['platform/cpu/count'],\n",
    "\tgpu_count = SYSTEM['platform/gpu/count']\n",
    ")\n",
    "\n",
    "tune_config = raytune_utils.create_tune_config(\n",
    "\tconfig = CONFIG,\n",
    "\tparams = params_initial\n",
    ")\n",
    "\n",
    "run_config = raytune_utils.create_run_config(\n",
    "\tconfig    = CONFIG,\n",
    "\tlocal_dir = OUT_DATA,\n",
    "\tverbosity = raytune_utils.VERBOSE_STATUS,\n",
    "\tmode      = 'regression'\n",
    ")"
   ]
  },
  {
   "cell_type": "code",
   "execution_count": 22,
   "id": "844676ae-777a-46ab-9302-89085342b326",
   "metadata": {
    "execution": {
     "iopub.execute_input": "2023-03-20T14:44:35.515951Z",
     "iopub.status.busy": "2023-03-20T14:44:35.515451Z",
     "iopub.status.idle": "2023-03-20T14:54:01.244383Z",
     "shell.execute_reply": "2023-03-20T14:54:01.243882Z",
     "shell.execute_reply.started": "2023-03-20T14:44:35.515951Z"
    },
    "tags": []
   },
   "outputs": [
    {
     "name": "stderr",
     "output_type": "stream",
     "text": [
      "2023-03-20 14:54:01,197\tINFO tune.py:762 -- Total run time: 565.65 seconds (562.38 seconds for the tuning loop).\n"
     ]
    }
   ],
   "source": [
    "# Create tune and fit\n",
    "\n",
    "tuner = raytune_utils.create_tuner(\n",
    "\ttrainable   = trainable,\n",
    "\ttune_config = tune_config,\n",
    "\trun_config  = run_config,\n",
    "\tparam_space = param_space\n",
    ")\n",
    "\n",
    "report = tuner.fit()"
   ]
  },
  {
   "cell_type": "markdown",
   "id": "2940fc14-d848-4018-a8d2-96ec719a8652",
   "metadata": {},
   "source": [
    "# 6. Reports"
   ]
  },
  {
   "cell_type": "code",
   "execution_count": 23,
   "id": "468b6865-7e33-4372-a7b9-09d26beb098e",
   "metadata": {
    "execution": {
     "iopub.execute_input": "2023-03-20T14:54:01.245383Z",
     "iopub.status.busy": "2023-03-20T14:54:01.244883Z",
     "iopub.status.idle": "2023-03-20T14:54:01.260396Z",
     "shell.execute_reply": "2023-03-20T14:54:01.259396Z",
     "shell.execute_reply.started": "2023-03-20T14:54:01.245383Z"
    },
    "tags": []
   },
   "outputs": [
    {
     "name": "stdout",
     "output_type": "stream",
     "text": [
      "No errors.\n"
     ]
    }
   ],
   "source": [
    "# Check if there have been errors\n",
    "\n",
    "if report.errors :\n",
    "\tprint('At least one of the trials has failed.')\n",
    "else :\n",
    "\tprint('No errors.')"
   ]
  },
  {
   "cell_type": "code",
   "execution_count": 24,
   "id": "048991f8-bf5d-47f2-b870-7365789f042c",
   "metadata": {
    "execution": {
     "iopub.execute_input": "2023-03-20T14:54:01.261397Z",
     "iopub.status.busy": "2023-03-20T14:54:01.260897Z",
     "iopub.status.idle": "2023-03-20T14:54:01.290922Z",
     "shell.execute_reply": "2023-03-20T14:54:01.290422Z",
     "shell.execute_reply.started": "2023-03-20T14:54:01.261397Z"
    },
    "tags": []
   },
   "outputs": [
    {
     "name": "stdout",
     "output_type": "stream",
     "text": [
      "valid_loss                               valid_r2                                 valid_mae                                \n",
      "valid_mape                               valid_wmape                              train_loss                               \n",
      "train_r2                                 train_mae                                train_mape                               \n",
      "train_wmape                              lr                                       time_this_iter_s                         \n",
      "done                                     timesteps_total                          episodes_total                           \n",
      "training_iteration                       trial_id                                 experiment_id                            \n",
      "date                                     timestamp                                time_total_s                             \n",
      "pid                                      hostname                                 node_ip                                  \n",
      "time_since_restore                       timesteps_since_restore                  iterations_since_restore                 \n",
      "warmup_time                              config/criterion/name                    config/criterion/reduction               \n",
      "config/dataset/batch_size                config/model/conv1/dilation              config/model/conv1/filters               \n",
      "config/model/conv1/kernel                config/model/conv1/padding               config/model/conv2/dilation              \n",
      "config/model/conv2/filters               config/model/conv2/kernel                config/model/conv2/padding               \n",
      "config/model/conv3/dilation              config/model/conv3/filters               config/model/conv3/kernel                \n",
      "config/model/conv3/padding               config/model/dropout                     config/model/fc1/features                \n",
      "config/model/fc2/features                config/model/leakyrelu                   config/model/maxpool1/kernel             \n",
      "config/model/maxpool1/padding            config/model/maxpool2/kernel             config/model/maxpool2/padding            \n",
      "config/model/maxpool3/kernel             config/model/maxpool3/padding            config/optimizer/beta1                   \n",
      "config/optimizer/beta2                   config/optimizer/decay                   config/optimizer/lr                      \n",
      "config/optimizer/name                    config/scheduler/exponential/factor      config/scheduler/linear/factor           \n",
      "config/scheduler/name                    config/scheduler/plateau/factor          config/scheduler/plateau/patience        \n",
      "logdir                                   \n"
     ]
    }
   ],
   "source": [
    "# Print possible columns\n",
    "\n",
    "for index, column in enumerate(report.get_dataframe().columns, start = 1) :\n",
    "\tprint('{:<40s}'.format(column), end = ' ')\n",
    "\n",
    "\tif index % 3 == 0 :\n",
    "\t\tprint()\n",
    "\n",
    "print()"
   ]
  },
  {
   "cell_type": "code",
   "execution_count": 25,
   "id": "60cedfc3-65d4-4870-8093-0c5bb784fdf8",
   "metadata": {
    "execution": {
     "iopub.execute_input": "2023-03-20T14:54:01.291923Z",
     "iopub.status.busy": "2023-03-20T14:54:01.291923Z",
     "iopub.status.idle": "2023-03-20T14:54:01.321949Z",
     "shell.execute_reply": "2023-03-20T14:54:01.321448Z",
     "shell.execute_reply.started": "2023-03-20T14:54:01.291923Z"
    },
    "tags": []
   },
   "outputs": [
    {
     "name": "stdout",
     "output_type": "stream",
     "text": [
      "Shortest training time :      0.4 minutes\n",
      " Longest training time :      4.3 minutes\n",
      "   Total training time :      8.7 minutes\n",
      "    Mean training time :      1.7 minutes\n",
      "\n"
     ]
    },
    {
     "data": {
      "text/html": [
       "<div>\n",
       "<style scoped>\n",
       "    .dataframe tbody tr th:only-of-type {\n",
       "        vertical-align: middle;\n",
       "    }\n",
       "\n",
       "    .dataframe tbody tr th {\n",
       "        vertical-align: top;\n",
       "    }\n",
       "\n",
       "    .dataframe thead th {\n",
       "        text-align: right;\n",
       "    }\n",
       "</style>\n",
       "<table border=\"1\" class=\"dataframe\">\n",
       "  <thead>\n",
       "    <tr style=\"text-align: right;\">\n",
       "      <th></th>\n",
       "      <th>trial_id</th>\n",
       "      <th>logdir</th>\n",
       "      <th>time_total_s</th>\n",
       "      <th>training_iteration</th>\n",
       "      <th>train_loss</th>\n",
       "      <th>train_r2</th>\n",
       "      <th>train_mae</th>\n",
       "      <th>train_mape</th>\n",
       "      <th>train_wmape</th>\n",
       "      <th>valid_loss</th>\n",
       "      <th>valid_r2</th>\n",
       "      <th>valid_mae</th>\n",
       "      <th>valid_mape</th>\n",
       "      <th>valid_wmape</th>\n",
       "    </tr>\n",
       "  </thead>\n",
       "  <tbody>\n",
       "    <tr>\n",
       "      <th>1</th>\n",
       "      <td>51fe720f</td>\n",
       "      <td>C:\\Developer\\Workspace\\PyCharm\\Projects\\upolan...</td>\n",
       "      <td>257.077</td>\n",
       "      <td>5</td>\n",
       "      <td>0.576</td>\n",
       "      <td>0.334</td>\n",
       "      <td>0.616</td>\n",
       "      <td>1.394</td>\n",
       "      <td>0.357</td>\n",
       "      <td>0.863</td>\n",
       "      <td>-0.020</td>\n",
       "      <td>0.757</td>\n",
       "      <td>1.727</td>\n",
       "      <td>0.437</td>\n",
       "    </tr>\n",
       "    <tr>\n",
       "      <th>0</th>\n",
       "      <td>5f0507ff</td>\n",
       "      <td>C:\\Developer\\Workspace\\PyCharm\\Projects\\upolan...</td>\n",
       "      <td>163.372</td>\n",
       "      <td>5</td>\n",
       "      <td>0.699</td>\n",
       "      <td>0.181</td>\n",
       "      <td>0.683</td>\n",
       "      <td>1.516</td>\n",
       "      <td>0.397</td>\n",
       "      <td>1.498</td>\n",
       "      <td>-0.796</td>\n",
       "      <td>1.003</td>\n",
       "      <td>0.887</td>\n",
       "      <td>0.576</td>\n",
       "    </tr>\n",
       "    <tr>\n",
       "      <th>3</th>\n",
       "      <td>81192a93</td>\n",
       "      <td>C:\\Developer\\Workspace\\PyCharm\\Projects\\upolan...</td>\n",
       "      <td>47.124</td>\n",
       "      <td>1</td>\n",
       "      <td>1.746</td>\n",
       "      <td>-1.123</td>\n",
       "      <td>1.037</td>\n",
       "      <td>1.934</td>\n",
       "      <td>0.605</td>\n",
       "      <td>1.581</td>\n",
       "      <td>-0.928</td>\n",
       "      <td>1.029</td>\n",
       "      <td>1.065</td>\n",
       "      <td>0.590</td>\n",
       "    </tr>\n",
       "    <tr>\n",
       "      <th>4</th>\n",
       "      <td>b87d60df</td>\n",
       "      <td>C:\\Developer\\Workspace\\PyCharm\\Projects\\upolan...</td>\n",
       "      <td>21.624</td>\n",
       "      <td>1</td>\n",
       "      <td>4.769</td>\n",
       "      <td>-4.570</td>\n",
       "      <td>1.727</td>\n",
       "      <td>3.027</td>\n",
       "      <td>1.003</td>\n",
       "      <td>1.915</td>\n",
       "      <td>-1.255</td>\n",
       "      <td>1.116</td>\n",
       "      <td>1.474</td>\n",
       "      <td>0.642</td>\n",
       "    </tr>\n",
       "    <tr>\n",
       "      <th>2</th>\n",
       "      <td>d8848fc5</td>\n",
       "      <td>C:\\Developer\\Workspace\\PyCharm\\Projects\\upolan...</td>\n",
       "      <td>32.778</td>\n",
       "      <td>1</td>\n",
       "      <td>2.719</td>\n",
       "      <td>-2.180</td>\n",
       "      <td>1.143</td>\n",
       "      <td>2.095</td>\n",
       "      <td>0.660</td>\n",
       "      <td>6.149</td>\n",
       "      <td>-6.345</td>\n",
       "      <td>2.284</td>\n",
       "      <td>2.330</td>\n",
       "      <td>1.314</td>\n",
       "    </tr>\n",
       "  </tbody>\n",
       "</table>\n",
       "</div>"
      ],
      "text/plain": [
       "   trial_id                                             logdir  time_total_s  \\\n",
       "1  51fe720f  C:\\Developer\\Workspace\\PyCharm\\Projects\\upolan...       257.077   \n",
       "0  5f0507ff  C:\\Developer\\Workspace\\PyCharm\\Projects\\upolan...       163.372   \n",
       "3  81192a93  C:\\Developer\\Workspace\\PyCharm\\Projects\\upolan...        47.124   \n",
       "4  b87d60df  C:\\Developer\\Workspace\\PyCharm\\Projects\\upolan...        21.624   \n",
       "2  d8848fc5  C:\\Developer\\Workspace\\PyCharm\\Projects\\upolan...        32.778   \n",
       "\n",
       "   training_iteration  train_loss  train_r2  train_mae  train_mape  \\\n",
       "1                   5       0.576     0.334      0.616       1.394   \n",
       "0                   5       0.699     0.181      0.683       1.516   \n",
       "3                   1       1.746    -1.123      1.037       1.934   \n",
       "4                   1       4.769    -4.570      1.727       3.027   \n",
       "2                   1       2.719    -2.180      1.143       2.095   \n",
       "\n",
       "   train_wmape  valid_loss  valid_r2  valid_mae  valid_mape  valid_wmape  \n",
       "1        0.357       0.863    -0.020      0.757       1.727        0.437  \n",
       "0        0.397       1.498    -0.796      1.003       0.887        0.576  \n",
       "3        0.605       1.581    -0.928      1.029       1.065        0.590  \n",
       "4        1.003       1.915    -1.255      1.116       1.474        0.642  \n",
       "2        0.660       6.149    -6.345      2.284       2.330        1.314  "
      ]
     },
     "execution_count": 25,
     "metadata": {},
     "output_type": "execute_result"
    }
   ],
   "source": [
    "# Print the results as dataframe\n",
    "\n",
    "dataframe = report.get_dataframe()\n",
    "\n",
    "print('Shortest training time : {:8,.1f} minutes'.format(dataframe['time_total_s'].min()  / 60.0))\n",
    "print(' Longest training time : {:8,.1f} minutes'.format(dataframe['time_total_s'].max()  / 60.0))\n",
    "print('   Total training time : {:8,.1f} minutes'.format(dataframe['time_total_s'].sum()  / 60.0))\n",
    "print('    Mean training time : {:8,.1f} minutes'.format(dataframe['time_total_s'].mean() / 60.0))\n",
    "print()\n",
    "\n",
    "trials = dataframe[[\n",
    "\t'trial_id', 'logdir', 'time_total_s', 'training_iteration',\n",
    "\t'train_loss', 'train_r2', 'train_mae', 'train_mape', 'train_wmape',\n",
    "\t'valid_loss', 'valid_r2', 'valid_mae', 'valid_mape', 'valid_wmape',\n",
    "]]\n",
    "\n",
    "trials = trials.sort_values('valid_loss', ascending = True)\n",
    "trials"
   ]
  },
  {
   "cell_type": "code",
   "execution_count": 26,
   "id": "943de37b-a1a0-4c53-9186-5176bf35a6b2",
   "metadata": {
    "execution": {
     "iopub.execute_input": "2023-03-20T14:54:01.322950Z",
     "iopub.status.busy": "2023-03-20T14:54:01.322950Z",
     "iopub.status.idle": "2023-03-20T14:54:01.337963Z",
     "shell.execute_reply": "2023-03-20T14:54:01.336962Z",
     "shell.execute_reply.started": "2023-03-20T14:54:01.322950Z"
    }
   },
   "outputs": [],
   "source": [
    "# Save the tuning results\n",
    "\n",
    "report.get_dataframe().to_csv(\n",
    "\tos.path.join(OUT_DATA, 'report.csv')\n",
    ")"
   ]
  },
  {
   "cell_type": "markdown",
   "id": "b25ca4ab-214f-451c-8854-11b73696fc0c",
   "metadata": {},
   "source": [
    "## 6.1 Visualization"
   ]
  },
  {
   "cell_type": "code",
   "execution_count": 27,
   "id": "c3d0362f-aed3-4029-9e2d-06b653f51d32",
   "metadata": {
    "execution": {
     "iopub.execute_input": "2023-03-20T14:54:01.338963Z",
     "iopub.status.busy": "2023-03-20T14:54:01.338963Z",
     "iopub.status.idle": "2023-03-20T14:54:01.818374Z",
     "shell.execute_reply": "2023-03-20T14:54:01.817874Z",
     "shell.execute_reply.started": "2023-03-20T14:54:01.338963Z"
    },
    "tags": []
   },
   "outputs": [
    {
     "data": {
      "image/png": "[encoded data removed]",
      "text/plain": [
       "<Figure size 1600x1000 with 1 Axes>"
      ]
     },
     "metadata": {},
     "output_type": "display_data"
    }
   ],
   "source": [
    "# Plot trials valid loss\n",
    "\n",
    "raytune_plot.trials_lineplot_loss(\n",
    "\tdataframe  = trials,\n",
    "\tmax_trials = 5,\n",
    "\talpha      = 0.9,\n",
    "\tfilename   = os.path.join(OUT_PLOT, CONFIG['model/type'] + '-trials')\n",
    ")"
   ]
  },
  {
   "cell_type": "code",
   "execution_count": 28,
   "id": "4e8ddb17-af25-45e1-9833-20066e680452",
   "metadata": {
    "execution": {
     "iopub.execute_input": "2023-03-20T14:54:01.819375Z",
     "iopub.status.busy": "2023-03-20T14:54:01.819375Z",
     "iopub.status.idle": "2023-03-20T14:54:02.283273Z",
     "shell.execute_reply": "2023-03-20T14:54:02.282772Z",
     "shell.execute_reply.started": "2023-03-20T14:54:01.819375Z"
    },
    "tags": []
   },
   "outputs": [
    {
     "data": {
      "image/png": "[encoded data removed]",
      "text/plain": [
       "<Figure size 1600x1000 with 1 Axes>"
      ]
     },
     "metadata": {},
     "output_type": "display_data"
    }
   ],
   "source": [
    "# Plot trials valid r2\n",
    "\n",
    "raytune_plot.trials_lineplot_r2(\n",
    "\tdataframe  = trials,\n",
    "\tmax_trials = 5,\n",
    "\talpha      = 0.9,\n",
    "\tfilename   = os.path.join(OUT_PLOT, CONFIG['model/type'] + '-trials')\n",
    ")"
   ]
  },
  {
   "cell_type": "markdown",
   "id": "8e10efdd-76db-46e4-903d-7118650bb027",
   "metadata": {},
   "source": [
    "## 6.2 Best"
   ]
  },
  {
   "cell_type": "code",
   "execution_count": 29,
   "id": "64bf57b1-c93a-4225-a592-3c48b3ee16c3",
   "metadata": {
    "execution": {
     "iopub.execute_input": "2023-03-20T14:54:02.284274Z",
     "iopub.status.busy": "2023-03-20T14:54:02.284274Z",
     "iopub.status.idle": "2023-03-20T14:54:02.298786Z",
     "shell.execute_reply": "2023-03-20T14:54:02.298286Z",
     "shell.execute_reply.started": "2023-03-20T14:54:02.284274Z"
    },
    "tags": []
   },
   "outputs": [
    {
     "name": "stdout",
     "output_type": "stream",
     "text": [
      "Best metric : loss =  0.86338 r2 = -0.01992\n",
      "Best config : \n",
      "\"dataset/batch_size\"           : 128\n",
      "\"optimizer/name\"               : \"adam\"\n",
      "\"optimizer/lr\"                 : 2.451860301373e-05\n",
      "\"optimizer/decay\"              : 0.0464052533000238\n",
      "\"optimizer/beta1\"              : 0.5365792171661639\n",
      "\"optimizer/beta2\"              : 0.999\n",
      "\"criterion/name\"               : \"mse\"\n",
      "\"criterion/reduction\"          : \"mean\"\n",
      "\"scheduler/name\"               : \"linear\"\n",
      "\"scheduler/plateau/factor\"     : 0.3319740691249563\n",
      "\"scheduler/plateau/patience\"   : 6\n",
      "\"scheduler/linear/factor\"      : 0.0260499850842293\n",
      "\"scheduler/exponential/factor\" : 0.9128417486818478\n",
      "\"model/dropout\"                : 0.0\n",
      "\"model/leakyrelu\"              : 0.0\n",
      "\"model/conv1/filters\"          : 128\n",
      "\"model/conv1/kernel\"           : 21\n",
      "\"model/conv1/padding\"          : \"none\"\n",
      "\"model/conv1/dilation\"         : 1\n",
      "\"model/conv2/filters\"          : 64\n",
      "\"model/conv2/kernel\"           : 41\n",
      "\"model/conv2/padding\"          : \"same\"\n",
      "\"model/conv2/dilation\"         : 1\n",
      "\"model/conv3/filters\"          : 128\n",
      "\"model/conv3/kernel\"           : 21\n",
      "\"model/conv3/padding\"          : \"same\"\n",
      "\"model/conv3/dilation\"         : 1\n",
      "\"model/maxpool1/kernel\"        : 3\n",
      "\"model/maxpool1/padding\"       : \"same\"\n",
      "\"model/maxpool2/kernel\"        : 3\n",
      "\"model/maxpool2/padding\"       : \"same\"\n",
      "\"model/maxpool3/kernel\"        : 5\n",
      "\"model/maxpool3/padding\"       : \"same\"\n",
      "\"model/fc1/features\"           : 64\n",
      "\"model/fc2/features\"           : 64\n"
     ]
    }
   ],
   "source": [
    "# Display best trial\n",
    "\n",
    "best = report.get_best_result()\n",
    "\n",
    "print('Best metric : loss = {: 8.5f} r2 = {: 8.5f}'.format(best.metrics['valid_loss'], best.metrics['valid_r2']))\n",
    "print('Best config : ')\n",
    "\n",
    "for key, val in best.config.items() :\n",
    "\tif isinstance(key, str) : key = f'\"{key}\"'\n",
    "\tif isinstance(val, str) : val = f'\"{val}\"'\n",
    "\n",
    "\tprint('{:30s} : {}'.format(key, val))"
   ]
  },
  {
   "cell_type": "code",
   "execution_count": 30,
   "id": "9e2e2351-82eb-41db-932d-ddc5fece0244",
   "metadata": {
    "execution": {
     "iopub.execute_input": "2023-03-20T14:54:02.299787Z",
     "iopub.status.busy": "2023-03-20T14:54:02.299787Z",
     "iopub.status.idle": "2023-03-20T14:54:02.314300Z",
     "shell.execute_reply": "2023-03-20T14:54:02.313799Z",
     "shell.execute_reply.started": "2023-03-20T14:54:02.299787Z"
    },
    "tags": []
   },
   "outputs": [
    {
     "data": {
      "text/html": [
       "<div>\n",
       "<style scoped>\n",
       "    .dataframe tbody tr th:only-of-type {\n",
       "        vertical-align: middle;\n",
       "    }\n",
       "\n",
       "    .dataframe tbody tr th {\n",
       "        vertical-align: top;\n",
       "    }\n",
       "\n",
       "    .dataframe thead th {\n",
       "        text-align: right;\n",
       "    }\n",
       "</style>\n",
       "<table border=\"1\" class=\"dataframe\">\n",
       "  <thead>\n",
       "    <tr style=\"text-align: right;\">\n",
       "      <th></th>\n",
       "      <th>trial_id</th>\n",
       "      <th>time_total_s</th>\n",
       "      <th>training_iteration</th>\n",
       "      <th>lr</th>\n",
       "      <th>train_loss</th>\n",
       "      <th>train_r2</th>\n",
       "      <th>train_mae</th>\n",
       "      <th>train_mape</th>\n",
       "      <th>train_wmape</th>\n",
       "      <th>valid_loss</th>\n",
       "      <th>valid_r2</th>\n",
       "      <th>valid_mae</th>\n",
       "      <th>valid_mape</th>\n",
       "      <th>valid_wmape</th>\n",
       "    </tr>\n",
       "  </thead>\n",
       "  <tbody>\n",
       "    <tr>\n",
       "      <th>0</th>\n",
       "      <td>51fe720f</td>\n",
       "      <td>54.798</td>\n",
       "      <td>1</td>\n",
       "      <td>0.000</td>\n",
       "      <td>1.180</td>\n",
       "      <td>-0.361</td>\n",
       "      <td>0.871</td>\n",
       "      <td>1.938</td>\n",
       "      <td>0.504</td>\n",
       "      <td>0.909</td>\n",
       "      <td>-0.077</td>\n",
       "      <td>0.780</td>\n",
       "      <td>1.753</td>\n",
       "      <td>0.450</td>\n",
       "    </tr>\n",
       "    <tr>\n",
       "      <th>1</th>\n",
       "      <td>51fe720f</td>\n",
       "      <td>104.239</td>\n",
       "      <td>2</td>\n",
       "      <td>0.000</td>\n",
       "      <td>0.819</td>\n",
       "      <td>0.050</td>\n",
       "      <td>0.741</td>\n",
       "      <td>1.719</td>\n",
       "      <td>0.430</td>\n",
       "      <td>0.862</td>\n",
       "      <td>-0.021</td>\n",
       "      <td>0.762</td>\n",
       "      <td>1.670</td>\n",
       "      <td>0.438</td>\n",
       "    </tr>\n",
       "    <tr>\n",
       "      <th>2</th>\n",
       "      <td>51fe720f</td>\n",
       "      <td>153.021</td>\n",
       "      <td>3</td>\n",
       "      <td>0.000</td>\n",
       "      <td>0.732</td>\n",
       "      <td>0.153</td>\n",
       "      <td>0.698</td>\n",
       "      <td>1.604</td>\n",
       "      <td>0.405</td>\n",
       "      <td>0.867</td>\n",
       "      <td>-0.022</td>\n",
       "      <td>0.762</td>\n",
       "      <td>1.830</td>\n",
       "      <td>0.439</td>\n",
       "    </tr>\n",
       "    <tr>\n",
       "      <th>3</th>\n",
       "      <td>51fe720f</td>\n",
       "      <td>205.330</td>\n",
       "      <td>4</td>\n",
       "      <td>0.000</td>\n",
       "      <td>0.652</td>\n",
       "      <td>0.244</td>\n",
       "      <td>0.657</td>\n",
       "      <td>1.492</td>\n",
       "      <td>0.381</td>\n",
       "      <td>0.860</td>\n",
       "      <td>-0.012</td>\n",
       "      <td>0.756</td>\n",
       "      <td>1.662</td>\n",
       "      <td>0.435</td>\n",
       "    </tr>\n",
       "    <tr>\n",
       "      <th>4</th>\n",
       "      <td>51fe720f</td>\n",
       "      <td>257.077</td>\n",
       "      <td>5</td>\n",
       "      <td>0.000</td>\n",
       "      <td>0.576</td>\n",
       "      <td>0.334</td>\n",
       "      <td>0.616</td>\n",
       "      <td>1.394</td>\n",
       "      <td>0.357</td>\n",
       "      <td>0.863</td>\n",
       "      <td>-0.020</td>\n",
       "      <td>0.757</td>\n",
       "      <td>1.727</td>\n",
       "      <td>0.437</td>\n",
       "    </tr>\n",
       "  </tbody>\n",
       "</table>\n",
       "</div>"
      ],
      "text/plain": [
       "   trial_id  time_total_s  training_iteration    lr  train_loss  train_r2  \\\n",
       "0  51fe720f        54.798                   1 0.000       1.180    -0.361   \n",
       "1  51fe720f       104.239                   2 0.000       0.819     0.050   \n",
       "2  51fe720f       153.021                   3 0.000       0.732     0.153   \n",
       "3  51fe720f       205.330                   4 0.000       0.652     0.244   \n",
       "4  51fe720f       257.077                   5 0.000       0.576     0.334   \n",
       "\n",
       "   train_mae  train_mape  train_wmape  valid_loss  valid_r2  valid_mae  \\\n",
       "0      0.871       1.938        0.504       0.909    -0.077      0.780   \n",
       "1      0.741       1.719        0.430       0.862    -0.021      0.762   \n",
       "2      0.698       1.604        0.405       0.867    -0.022      0.762   \n",
       "3      0.657       1.492        0.381       0.860    -0.012      0.756   \n",
       "4      0.616       1.394        0.357       0.863    -0.020      0.757   \n",
       "\n",
       "   valid_mape  valid_wmape  \n",
       "0       1.753        0.450  \n",
       "1       1.670        0.438  \n",
       "2       1.830        0.439  \n",
       "3       1.662        0.435  \n",
       "4       1.727        0.437  "
      ]
     },
     "execution_count": 30,
     "metadata": {},
     "output_type": "execute_result"
    }
   ],
   "source": [
    "# Display per iteration\n",
    "\n",
    "progress = loader.load_csv(\n",
    "\tfilename = os.path.join(best.log_dir, 'progress.csv')\n",
    ")\n",
    "\n",
    "progress = trials = progress[[\n",
    "\t'trial_id', 'time_total_s', 'training_iteration', 'lr',\n",
    "\t'train_loss', 'train_r2', 'train_mae', 'train_mape', 'train_wmape',\n",
    "\t'valid_loss', 'valid_r2', 'valid_mae', 'valid_mape', 'valid_wmape',\n",
    "]]\n",
    "\n",
    "progress"
   ]
  },
  {
   "cell_type": "code",
   "execution_count": 31,
   "id": "4eaa27d6-0da6-4e09-a49e-5cc9b25897c9",
   "metadata": {
    "execution": {
     "iopub.execute_input": "2023-03-20T14:54:02.315300Z",
     "iopub.status.busy": "2023-03-20T14:54:02.314800Z",
     "iopub.status.idle": "2023-03-20T14:54:02.748674Z",
     "shell.execute_reply": "2023-03-20T14:54:02.748172Z",
     "shell.execute_reply.started": "2023-03-20T14:54:02.315300Z"
    },
    "tags": []
   },
   "outputs": [
    {
     "data": {
      "image/png": "[encoded data removed]",
      "text/plain": [
       "<Figure size 1600x1000 with 1 Axes>"
      ]
     },
     "metadata": {},
     "output_type": "display_data"
    }
   ],
   "source": [
    "# Plot best trial valid loss\n",
    "\n",
    "raytune_plot.trial_lineplot_loss(\n",
    "\tdataframe = progress,\n",
    "\tfilename  = os.path.join(OUT_PLOT, CONFIG['model/type'] + '-best')\n",
    ")"
   ]
  },
  {
   "cell_type": "code",
   "execution_count": 32,
   "id": "5057fefd-cb7d-4244-b4bc-3d6ed10b53f9",
   "metadata": {
    "execution": {
     "iopub.execute_input": "2023-03-20T14:54:02.750174Z",
     "iopub.status.busy": "2023-03-20T14:54:02.749673Z",
     "iopub.status.idle": "2023-03-20T14:54:03.168033Z",
     "shell.execute_reply": "2023-03-20T14:54:03.167032Z",
     "shell.execute_reply.started": "2023-03-20T14:54:02.750174Z"
    },
    "tags": []
   },
   "outputs": [
    {
     "data": {
      "image/png": "[encoded data removed]",
      "text/plain": [
       "<Figure size 1600x1000 with 1 Axes>"
      ]
     },
     "metadata": {},
     "output_type": "display_data"
    }
   ],
   "source": [
    "# Plot best trial valid r2\n",
    "\n",
    "raytune_plot.trial_lineplot_r2(\n",
    "\tdataframe = progress,\n",
    "\tfilename  = os.path.join(OUT_PLOT, CONFIG['model/type'] + '-best')\n",
    ")"
   ]
  },
  {
   "cell_type": "code",
   "execution_count": 33,
   "id": "0461429d-9439-4764-b085-044ae6121581",
   "metadata": {
    "execution": {
     "iopub.execute_input": "2023-03-20T14:54:03.169034Z",
     "iopub.status.busy": "2023-03-20T14:54:03.168533Z",
     "iopub.status.idle": "2023-03-20T14:54:03.586392Z",
     "shell.execute_reply": "2023-03-20T14:54:03.585891Z",
     "shell.execute_reply.started": "2023-03-20T14:54:03.169034Z"
    },
    "tags": []
   },
   "outputs": [
    {
     "data": {
      "image/png": "[encoded data removed]",
      "text/plain": [
       "<Figure size 1600x1000 with 1 Axes>"
      ]
     },
     "metadata": {},
     "output_type": "display_data"
    }
   ],
   "source": [
    "# Plot trials learning rate\n",
    "\n",
    "raytune_plot.trial_lineplot_lr(\n",
    "\tdataframe = progress,\n",
    "\tfilename  = os.path.join(OUT_PLOT, CONFIG['model/type'] + '-best')\n",
    ")"
   ]
  }
 ],
 "metadata": {
  "kernelspec": {
   "display_name": "Python 3 (ipykernel)",
   "language": "python",
   "name": "python3"
  },
  "language_info": {
   "codemirror_mode": {
    "name": "ipython",
    "version": 3
   },
   "file_extension": ".py",
   "mimetype": "text/x-python",
   "name": "python",
   "nbconvert_exporter": "python",
   "pygments_lexer": "ipython3",
   "version": "3.10.7"
  }
 },
 "nbformat": 4,
 "nbformat_minor": 5
}
