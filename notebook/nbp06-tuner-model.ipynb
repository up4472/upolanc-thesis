{
 "cells": [
  {
   "cell_type": "code",
   "execution_count": null,
   "id": "4d6c1030-49e7-4910-a32d-0ae78ce0ce1f",
   "metadata": {
    "tags": []
   },
   "outputs": [],
   "source": [
    "# Libraries\n",
    "\n",
    "import argparse\n",
    "import itertools\n",
    "import os\n",
    "import platform\n",
    "import ray\n",
    "import shutil\n",
    "import sys\n",
    "import torch"
   ]
  },
  {
   "cell_type": "code",
   "execution_count": null,
   "id": "0f4e7e4e-b486-4abf-ae0d-4b22537b648b",
   "metadata": {
    "tags": []
   },
   "outputs": [],
   "source": [
    "# Ensure source path\n",
    "\n",
    "ROOT = os.getcwd()\n",
    "\n",
    "while not ROOT.endswith('upolanc-thesis') :\n",
    "\tROOT = os.path.abspath(os.path.join(ROOT, os.pardir))\n",
    "\n",
    "\tif len(ROOT) < len('upolanc-thesis') :\n",
    "\t\tif   platform.system() == 'Linux'   : ROOT = '/d/hpc/projects/FRI/up4472/upolanc-thesis'\n",
    "\t\telif platform.system() == 'Windows' : ROOT = 'C:\\\\Developer\\\\Workspace\\\\PyCharm\\\\Projects\\\\upolanc-thesis'\n",
    "\t\telse : raise ValueError()\n",
    "\n",
    "\t\tprint(f'Warning : could not find correct directory, using default : {ROOT}')\n",
    "\t\tprint()\n",
    "\n",
    "\t\tbreak\n",
    "\n",
    "if ROOT not in sys.path :\n",
    "\tsys.path.append(ROOT)\n",
    "\n",
    "os.chdir(ROOT)"
   ]
  },
  {
   "cell_type": "code",
   "execution_count": null,
   "id": "8655f888-e21b-4f0e-bebe-ae1e06bf72f9",
   "metadata": {
    "tags": []
   },
   "outputs": [],
   "source": [
    "# Tuner\n",
    "\n",
    "ray.init(include_dashboard = False)\n",
    "\n",
    "from ray.tune import choice\n",
    "from ray.tune import loguniform\n",
    "from ray.tune import randint\n",
    "from ray.tune import uniform"
   ]
  },
  {
   "cell_type": "code",
   "execution_count": null,
   "id": "53cad32c-4de4-412f-a1e9-9e48a8f77213",
   "metadata": {
    "tags": []
   },
   "outputs": [],
   "source": [
    "# Code\n",
    "\n",
    "from source.python         import runtime\n",
    "from source.python.dataset import dataset_utils\n",
    "from source.python.io      import loader\n",
    "from source.python.raytune import raytune_model\n",
    "from source.python.raytune import raytune_plot\n",
    "from source.python.raytune import raytune_utils\n",
    "\n",
    "runtime.set_numpy_format()\n",
    "runtime.set_pandas_format()\n",
    "runtime.set_plot_theme()"
   ]
  },
  {
   "cell_type": "markdown",
   "id": "d50a8f4a-ddce-4960-a822-3f612701ff0d",
   "metadata": {},
   "source": [
    "# 1. Setup"
   ]
  },
  {
   "cell_type": "code",
   "execution_count": null,
   "id": "cfbe5643-6b5b-4bb7-a84e-c1ec9ce656c1",
   "metadata": {
    "tags": []
   },
   "outputs": [],
   "source": [
    "# Define output and inputs\n",
    "\n",
    "MODEL_ARCH       = 'zrimec'\n",
    "MODEL_MODE       = 'regression'\n",
    "MODEL_PARAMS     = None\n",
    "MODEL_EPOCHS     = 5\n",
    "\n",
    "TARGET_GROUP     = 'tissue'\n",
    "TARGET_TYPE      = 'mean'\n",
    "TARGET_EXPLODE   = False\n",
    "TARGET_FILTER    = None\n",
    "\n",
    "TUNER_CONCURRENT = 1\n",
    "TUNER_TRIALS     = 5\n",
    "TUNER_GRACE      = 5\n",
    "TUNER_NOTEBOOK   = True\n",
    "\n",
    "FILTER_ID        = 2\n",
    "PARAM_SHARE      = False\n",
    "GENERATOR        = 'group'\n",
    "FEATURES         = True\n",
    "SEQUENCE_END     = None\n",
    "SEQUENCE_START   = None"
   ]
  },
  {
   "cell_type": "code",
   "execution_count": null,
   "id": "89614f5c-6526-45f2-a2ee-113428cbe7f6",
   "metadata": {
    "tags": []
   },
   "outputs": [],
   "source": [
    "# Check for args\n",
    "\n",
    "if __name__ == '__main__' and 'get_ipython' in dir() :\n",
    "\tprint('Running as .ipynb')\n",
    "\tprint()\n",
    "\n",
    "if __name__ == '__main__' and 'get_ipython' not in dir() :\n",
    "\tprint('Running as .py')\n",
    "\tprint()\n",
    "\n",
    "\tparser = argparse.ArgumentParser()\n",
    "\n",
    "\tstr_of_bool = lambda x : True if x == 'true' else False\n",
    "\tstr_or_none = lambda x : None if x == 'none' else str(x)\n",
    "\tint_or_none = lambda x : None if x == 'none' else int(x)\n",
    "\n",
    "\tparser.add_argument('--target_group',     type = str,         default = 'global',     choices = ['tissue', 'group', 'age', 'global', 'perturbation'])\n",
    "\tparser.add_argument('--target_type',      type = str,         default = 'mean',       choices = ['mean', 'max'])\n",
    "\tparser.add_argument('--model_arch',       type = str,         default = 'zrimec',     choices = ['washburn', 'zrimec'])\n",
    "\tparser.add_argument('--model_mode',       type = str,         default = 'regression', choices = ['regression', 'classification'])\n",
    "\tparser.add_argument('--target_explode',   type = str_of_bool, default = False)\n",
    "\tparser.add_argument('--target_filter',    type = str_or_none, default = None)\n",
    "\tparser.add_argument('--model_epochs',     type = int,         default = 500)\n",
    "\tparser.add_argument('--tuner_concurrent', type = int,         default = 5)\n",
    "\tparser.add_argument('--tuner_trials',     type = int,         default = 250)\n",
    "\tparser.add_argument('--tuner_grace',      type = int,         default = 10)\n",
    "\tparser.add_argument('--param_share',      type = str_of_bool, default = False)\n",
    "\tparser.add_argument('--filter_id',        type = int,         default = 0)\n",
    "\tparser.add_argument('--generator',        type = str,         default = 'group',      choices = ['stratified', 'group', 'random'])\n",
    "\tparser.add_argument('--features',         type = str_of_bool, default = False)\n",
    "\tparser.add_argument('--sequence_start',   type = int_or_none, default = None)\n",
    "\tparser.add_argument('--sequence_end',     type = int_or_none, default = None)\n",
    "\n",
    "\targs = vars(parser.parse_args())\n",
    "\n",
    "\tTARGET_GROUP     = args['target_group']\n",
    "\tTARGET_TYPE      = args['target_type']\n",
    "\tTARGET_EXPLODE   = args['target_explode']\n",
    "\tTARGET_FILTER    = args['target_filter']\n",
    "\tMODEL_ARCH       = args['model_arch']\n",
    "\tMODEL_MODE       = args['model_mode']\n",
    "\tMODEL_EPOCHS     = args['model_epochs']\n",
    "\tTUNER_CONCURRENT = args['tuner_concurrent']\n",
    "\tTUNER_TRIALS     = args['tuner_trials']\n",
    "\tTUNER_GRACE      = args['tuner_grace']\n",
    "\tPARAM_SHARE      = args['param_share']\n",
    "\tFILTER_ID        = args['filter_id']\n",
    "\tGENERATOR        = args['generator']\n",
    "\tFEATURES         = args['features']\n",
    "\tSEQUENCE_START   = args['sequence_start']\n",
    "\tSEQUENCE_END     = args['sequence_end']\n",
    "\n",
    "\tTUNER_NOTEBOOK   = False\n",
    "\n",
    "if TARGET_GROUP == 'global' :\n",
    "\tTARGET_EXPLODE = False"
   ]
  },
  {
   "cell_type": "code",
   "execution_count": null,
   "id": "7d9d420a-cde8-46cb-be15-1f99347d9bdd",
   "metadata": {
    "tags": []
   },
   "outputs": [],
   "source": [
    "# Setup some directory paths.\n",
    "\n",
    "SUB_FILTER = 'filter' + str(FILTER_ID)\n",
    "SUB_OUTPUT = '{}-f{}-{}'.format(MODEL_ARCH, FILTER_ID, MODEL_MODE[0])\n",
    "\n",
    "CWD = ROOT\n",
    "OUT = os.path.join(CWD, 'output')\n",
    "RES = os.path.join(CWD, 'resources')\n",
    "\n",
    "OUT_DATA  = os.path.join(OUT,      'nbp06-tuner', 'model', SUB_OUTPUT)\n",
    "OUT_PLOT  = os.path.join(OUT_DATA, 'plot')\n",
    "RES_TUNER = os.path.join(RES,      'tuner')\n",
    "RES_NBP04 = os.path.join(OUT,      'nbp04-feature', SUB_FILTER)\n",
    "RES_NBP05 = os.path.join(OUT,      'nbp05-target',  SUB_FILTER)\n",
    "\n",
    "shutil.rmtree(OUT_DATA, ignore_errors = True)\n",
    "\n",
    "os.makedirs(OUT_DATA, exist_ok = True)\n",
    "os.makedirs(OUT_PLOT, exist_ok = True)\n",
    "\n",
    "print(f'     Root Directory : {CWD}')\n",
    "print(f'   Output Directory : {OUT_DATA}')\n",
    "print(f'   Output Directory : {OUT_PLOT}')\n",
    "print(f' Resource Directory : {RES_TUNER}')\n",
    "print(f' Resource Directory : {RES_NBP04}')\n",
    "print(f' Resource Directory : {RES_NBP05}')\n",
    "print()"
   ]
  },
  {
   "cell_type": "code",
   "execution_count": null,
   "id": "a7f1d561-e60e-44ea-9ffc-60f3bc53c1c4",
   "metadata": {
    "tags": []
   },
   "outputs": [],
   "source": [
    "# System and device\n",
    "\n",
    "DEVICE = runtime.get_device(only_cpu = False)\n",
    "SYSTEM = runtime.get_system_info()\n",
    "\n",
    "for key, value in SYSTEM.items() :\n",
    "\tprint('{:25s} : {}'.format(key, value))\n",
    "\n",
    "print()"
   ]
  },
  {
   "cell_type": "code",
   "execution_count": null,
   "id": "d254fe75-06de-4b51-88ab-e6af1f5af769",
   "metadata": {
    "tags": []
   },
   "outputs": [],
   "source": [
    "# Load the input transcript features\n",
    "\n",
    "sequence_2150 = loader.load_fasta(\n",
    "\tfilename  = os.path.join(RES_NBP04, 'sequences-2150-keep.fasta'),\n",
    "\tto_string = True\n",
    ")\n",
    "\n",
    "feature_base = loader.load_npz(\n",
    "\tfilename = os.path.join(RES_NBP04, 'features-base-keep.npz')\n",
    ")"
   ]
  },
  {
   "cell_type": "markdown",
   "id": "de314874-ff3f-43c1-bb0a-919f2d63e775",
   "metadata": {},
   "source": [
    "# 2. Tuner"
   ]
  },
  {
   "cell_type": "code",
   "execution_count": null,
   "id": "7df5b6e1-2eb9-4c84-a31b-418ccbfd4766",
   "metadata": {
    "tags": []
   },
   "outputs": [],
   "source": [
    "# Define basic data parameters\n",
    "\n",
    "CONFIG = {\n",
    "\t'core/device'             : DEVICE,\n",
    "\t'core/outdir'             : OUT_DATA,\n",
    "\t'core/random'             : None,\n",
    "\t'core/rootdir'            : ROOT,\n",
    "\t'core/subfolder'          : SUB_FILTER,\n",
    "\t'core/plots'              : 5,\n",
    "\t'dataset/expanddim'       : None,\n",
    "\t'dataset/filepath'        : os.path.join(OUT_DATA, 'dataset.pkl'),\n",
    "\t'dataset/sequence/start'  : SEQUENCE_START,\n",
    "\t'dataset/sequence/end'    : SEQUENCE_END,\n",
    "\t'dataset/split/generator' : GENERATOR,\n",
    "\t'dataset/split/test'      : 0.2,\n",
    "\t'dataset/split/valid'     : 0.2,\n",
    "\t'model/epochs'            : MODEL_EPOCHS,\n",
    "\t'model/features'          : FEATURES,\n",
    "\t'model/input/channels'    : 1,\n",
    "\t'model/input/features'    : None,\n",
    "\t'model/input/height'      : 4,\n",
    "\t'model/input/width'       : 2150,\n",
    "\t'model/mode'              : MODEL_MODE,\n",
    "\t'model/name'              : MODEL_ARCH,\n",
    "\t'model/output/explode'    : TARGET_EXPLODE,\n",
    "\t'model/output/filter'     : TARGET_FILTER,\n",
    "\t'model/output/heads'      : None,\n",
    "\t'model/output/size'       : None,\n",
    "\t'model/output/target'     : TARGET_GROUP,\n",
    "\t'model/output/type'       : TARGET_TYPE,\n",
    "\t'params/filepath'         : RES_TUNER,\n",
    "\t'params/share'            : PARAM_SHARE,\n",
    "\t'params/tuner'            : None,\n",
    "\t'tuner/checkpoint'        : False,\n",
    "\t'tuner/max_concurrent'    : TUNER_CONCURRENT,\n",
    "\t'tuner/max_epochs'        : MODEL_EPOCHS,\n",
    "\t'tuner/min_epochs'        : TUNER_GRACE,\n",
    "\t'tuner/reporter/freq'     : 30,\n",
    "\t'tuner/reporter/notebook' : TUNER_NOTEBOOK,\n",
    "\t'tuner/stopper'           : True,\n",
    "\t'tuner/stopper/days'      : 3,\n",
    "\t'tuner/stopper/hours'     : 22,\n",
    "\t'tuner/stopper/minutes'   : 0,\n",
    "\t'tuner/trials'            : TUNER_TRIALS\n",
    "}\n",
    "\n",
    "CONFIG['core/random'] = runtime.lock_random(\n",
    "\tseed     = CONFIG['core/random'],\n",
    "\tgenerate = True\n",
    ")\n",
    "\n",
    "if CONFIG['model/name'] == 'zrimec'   : CONFIG['dataset/expanddim'] = None\n",
    "if CONFIG['model/name'] == 'washburn' : CONFIG['dataset/expanddim'] = 0"
   ]
  },
  {
   "cell_type": "code",
   "execution_count": null,
   "id": "4fe4b9b5-4ee7-4b12-a0b8-ab7e037214c0",
   "metadata": {
    "tags": []
   },
   "outputs": [],
   "source": [
    "# Prints\n",
    "\n",
    "print('Model Name      : {}'.format(CONFIG['model/name']))\n",
    "print('Model Mode      : {}'.format(CONFIG['model/mode']))\n",
    "print('Use Features    : {}'.format(CONFIG['model/features']))\n",
    "print('Split Generator : {}'.format(CONFIG['dataset/split/generator']))\n",
    "print('Random Seed     : {}'.format(CONFIG['core/random']))\n",
    "print()"
   ]
  },
  {
   "cell_type": "markdown",
   "id": "2037535d-fbdf-4ff8-bc83-1cd1032b9896",
   "metadata": {},
   "source": [
    "# 3. Dataset"
   ]
  },
  {
   "cell_type": "code",
   "execution_count": null,
   "id": "23b8c10a-64d7-47ba-b0e3-ac60ab6c985a",
   "metadata": {
    "tags": []
   },
   "outputs": [],
   "source": [
    "# Create dataset\n",
    "\n",
    "dataset = dataset_utils.get_dataset(\n",
    "\tconfig    = CONFIG,\n",
    "\tsequence  = sequence_2150,\n",
    "\tfeature   = feature_base,\n",
    "\tdirectory = RES_NBP05,\n",
    "\tcached    = None,\n",
    "\tstart     = SEQUENCE_START,\n",
    "\tend       = SEQUENCE_END,\n",
    "\tfilename  = 'mapping-grouped-keep.pkl'\n",
    ")[0]"
   ]
  },
  {
   "cell_type": "code",
   "execution_count": null,
   "id": "915d2f9a-ba40-49f0-af26-123b7543926b",
   "metadata": {
    "tags": []
   },
   "outputs": [],
   "source": [
    "# Save dataset\n",
    "\n",
    "torch.save(dataset, CONFIG['dataset/filepath'])"
   ]
  },
  {
   "cell_type": "code",
   "execution_count": null,
   "id": "e02437ca-1eab-44f8-9fc7-5b192b48491f",
   "metadata": {
    "tags": []
   },
   "outputs": [],
   "source": [
    "# Assert all is set\n",
    "\n",
    "if CONFIG['dataset/filepath']     is None : raise AssertionError('dataset/filepath')\n",
    "if CONFIG['model/input/features'] is None : raise AssertionError('model/input/features')\n",
    "if CONFIG['model/output/size']    is None : raise AssertionError('model/output/size')\n",
    "\n",
    "print('Dataset Filepath : {}'.format(CONFIG['dataset/filepath']))\n",
    "print('Input Features   : {}'.format(CONFIG['model/input/features']))\n",
    "print('Output Size      : {}'.format(CONFIG['model/output/size']))\n",
    "print('Output Heads     : {}'.format(CONFIG['model/output/heads']))\n",
    "print()"
   ]
  },
  {
   "cell_type": "markdown",
   "id": "e17b18d9-cccb-4763-8391-2567b75c3fbb",
   "metadata": {
    "tags": []
   },
   "source": [
    "# 4. Search Space"
   ]
  },
  {
   "cell_type": "code",
   "execution_count": null,
   "id": "e14f73b3-6854-4fa0-a497-50d7fde4391d",
   "metadata": {
    "tags": []
   },
   "outputs": [],
   "source": [
    "# Define optimizer parameters\n",
    "\n",
    "optimizer_name     = 'adam'\n",
    "optimizer_lr       = loguniform(1e-6, 1e-3)\n",
    "optimizer_decay    = uniform(0.000, 0.100)\n",
    "optimizer_beta1    = uniform(0.600, 0.950)\n",
    "optimizer_beta2    = uniform(0.950, 0.999)"
   ]
  },
  {
   "cell_type": "code",
   "execution_count": null,
   "id": "dd4332b9-3ced-4899-86a6-df0425063255",
   "metadata": {
    "tags": []
   },
   "outputs": [],
   "source": [
    "# Define scheduler parameters\n",
    "\n",
    "scheduler_name       = 'exponential'\n",
    "scheduler_exp_factor = uniform(0.925, 0.995)"
   ]
  },
  {
   "cell_type": "code",
   "execution_count": null,
   "id": "5553f82c-556a-4892-afa4-47aa46384c22",
   "metadata": {},
   "outputs": [],
   "source": [
    "# Define criterion parameters\n",
    "\n",
    "criterion_name      = 'mse'\n",
    "criterion_reduction = 'mean'"
   ]
  },
  {
   "cell_type": "code",
   "execution_count": null,
   "id": "a5a3581a-5246-4b79-9e8f-8357a42f5793",
   "metadata": {
    "tags": []
   },
   "outputs": [],
   "source": [
    "# Define model parameters\n",
    "\n",
    "model_dropout   = uniform(0.0, 0.5)\n",
    "model_leakyrelu = uniform(0.0, 0.1)\n",
    "\n",
    "conv1_kernels  = [3, 5, 9, 11]\n",
    "conv1_filters  = [32, 64, 128, 256]\n",
    "conv1_padding  = ['same']\n",
    "conv1_dilation = [1]\n",
    "\n",
    "convx_kernels  = [3, 5, 9, 11]\n",
    "convx_filters  = [32, 64, 128, 256]\n",
    "convx_padding  = ['same']\n",
    "convx_dilation = [1, 2, 4]\n",
    "\n",
    "poolx_kernels  = [3, 5]\n",
    "poolx_padding  = ['same']\n",
    "\n",
    "fc1_features = [64, 128, 256, 512]\n",
    "fcx_features = [64, 128, 256, 512]"
   ]
  },
  {
   "cell_type": "code",
   "execution_count": null,
   "id": "0a2fc685-9803-4596-8fde-d0678ed7604b",
   "metadata": {
    "tags": []
   },
   "outputs": [],
   "source": [
    "# Define search space\n",
    "\n",
    "param_space = dict()\n",
    "\n",
    "# Dataset\n",
    "param_space['dataset/batch_size'] = choice([32, 64, 128])\n",
    "\n",
    "# Optimizer\n",
    "param_space['optimizer/name']  = optimizer_name\n",
    "param_space['optimizer/lr']    = optimizer_lr\n",
    "param_space['optimizer/decay'] = optimizer_decay\n",
    "param_space['optimizer/beta1'] = optimizer_beta1\n",
    "param_space['optimizer/beta2'] = optimizer_beta2\n",
    "\n",
    "# Criterion\n",
    "param_space['criterion/name']      = criterion_name\n",
    "param_space['criterion/reduction'] = criterion_reduction\n",
    "\n",
    "# Scheduler\n",
    "param_space['scheduler/name']               = scheduler_name\n",
    "param_space['scheduler/exponential/factor'] = scheduler_exp_factor\n",
    "\n",
    "# Model\n",
    "param_space['model/dropout']   = model_dropout\n",
    "param_space['model/leakyrelu'] = model_leakyrelu\n",
    "\n",
    "# Convolution\n",
    "param_space['model/conv1/filters']  = choice(conv1_filters)\n",
    "param_space['model/conv1/kernel']   = choice(conv1_kernels)\n",
    "param_space['model/conv1/padding']  = choice(conv1_padding)\n",
    "param_space['model/conv1/dilation'] = choice(conv1_dilation)\n",
    "\n",
    "if CONFIG['params/share'] :\n",
    "\tparam_space['model/convx/filters']  = choice(convx_filters)\n",
    "\tparam_space['model/convx/kernel']   = choice(convx_kernels)\n",
    "\tparam_space['model/convx/padding']  = choice(convx_padding)\n",
    "\tparam_space['model/convx/dilation'] = choice(convx_dilation)\n",
    "\n",
    "\tparam_space['model/maxpoolx/kernel']  = choice(poolx_kernels)\n",
    "\tparam_space['model/maxpoolx/padding'] = choice(poolx_padding)\n",
    "else :\n",
    "\tparam_space['model/conv2/filters']  = choice(convx_filters)\n",
    "\tparam_space['model/conv2/kernel']   = choice(convx_kernels)\n",
    "\tparam_space['model/conv2/padding']  = choice(convx_padding)\n",
    "\tparam_space['model/conv2/dilation'] = choice(convx_dilation)\n",
    "\tparam_space['model/conv3/filters']  = choice(convx_filters)\n",
    "\tparam_space['model/conv3/kernel']   = choice(convx_kernels)\n",
    "\tparam_space['model/conv3/padding']  = choice(convx_padding)\n",
    "\tparam_space['model/conv3/dilation'] = choice(convx_dilation)\n",
    "\n",
    "\tif CONFIG['model/name'] == 'washburn' :\n",
    "\t\tparam_space['model/conv4/filters']  = choice(convx_filters)\n",
    "\t\tparam_space['model/conv4/kernel']   = choice(convx_kernels)\n",
    "\t\tparam_space['model/conv4/padding']  = choice(convx_padding)\n",
    "\t\tparam_space['model/conv4/dilation'] = choice(convx_dilation)\n",
    "\t\tparam_space['model/conv5/filters']  = choice(convx_filters)\n",
    "\t\tparam_space['model/conv5/kernel']   = choice(convx_kernels)\n",
    "\t\tparam_space['model/conv5/padding']  = choice(convx_padding)\n",
    "\t\tparam_space['model/conv5/dilation'] = choice(convx_dilation)\n",
    "\t\tparam_space['model/conv6/filters']  = choice(convx_filters)\n",
    "\t\tparam_space['model/conv6/kernel']   = choice(convx_kernels)\n",
    "\t\tparam_space['model/conv6/padding']  = choice(convx_padding)\n",
    "\t\tparam_space['model/conv6/dilation'] = choice(convx_dilation)\n",
    "\n",
    "\t# Pooling\n",
    "\tparam_space['model/maxpool1/kernel']  = choice(poolx_kernels)\n",
    "\tparam_space['model/maxpool1/padding'] = choice(poolx_padding)\n",
    "\tparam_space['model/maxpool2/kernel']  = choice(poolx_kernels)\n",
    "\tparam_space['model/maxpool2/padding'] = choice(poolx_padding)\n",
    "\tparam_space['model/maxpool3/kernel']  = choice(poolx_kernels)\n",
    "\tparam_space['model/maxpool3/padding'] = choice(poolx_padding)\n",
    "\n",
    "# Linear\n",
    "param_space['model/fc1/features'] = choice(fc1_features)\n",
    "param_space['model/fc2/features'] = choice(fcx_features)"
   ]
  },
  {
   "cell_type": "code",
   "execution_count": null,
   "id": "665a0c20-95b3-4acd-ba9c-801dbd8ec72e",
   "metadata": {
    "tags": []
   },
   "outputs": [],
   "source": [
    "# Define starting parameters for algorithm (some decent starting point from previous runs)\n",
    "\n",
    "params_initial = None\n",
    "\n",
    "if not CONFIG['params/share'] and CONFIG['model/name'] == 'zrimec' :\n",
    "\tfilename = os.path.join(RES_TUNER, 'zrimec.json')\n",
    "\n",
    "\tif os.path.exists(filename) :\n",
    "\t\tparams_initial = loader.load_json(filename = filename)\n",
    "\n",
    "if not CONFIG['params/share'] and CONFIG['model/name'] == 'washburn' :\n",
    "\tfilename = os.path.join(RES_TUNER, 'washburn.json')\n",
    "\n",
    "\tif os.path.exists(filename) :\n",
    "\t\tparams_initial = loader.load_json(filename = filename)"
   ]
  },
  {
   "cell_type": "markdown",
   "id": "08b64877-eb4c-4147-9c5f-d9ed43be320a",
   "metadata": {},
   "source": [
    "# 5. Tuning"
   ]
  },
  {
   "cell_type": "code",
   "execution_count": null,
   "id": "67afe19c-bcd1-4200-8d26-182840a42168",
   "metadata": {
    "tags": []
   },
   "outputs": [],
   "source": [
    "# Create tuner config\n",
    "\n",
    "trainable = raytune_utils.create_trainable(\n",
    "\tmethod    = raytune_model.main,\n",
    "\tconfig    = CONFIG,\n",
    "\tcpu_count = SYSTEM['platform/cpu/count'],\n",
    "\tgpu_count = SYSTEM['platform/gpu/count']\n",
    ")\n",
    "\n",
    "tune_config = raytune_utils.create_tune_config(\n",
    "\tconfig = CONFIG,\n",
    "\tparams = params_initial\n",
    ")\n",
    "\n",
    "run_config = raytune_utils.create_run_config(\n",
    "\tconfig    = CONFIG,\n",
    "\tlocal_dir = OUT_DATA,\n",
    "\tverbosity = raytune_utils.VERBOSE_STATUS,\n",
    "\ttask      = 'model'\n",
    ")"
   ]
  },
  {
   "cell_type": "code",
   "execution_count": null,
   "id": "844676ae-777a-46ab-9302-89085342b326",
   "metadata": {
    "tags": []
   },
   "outputs": [],
   "source": [
    "# Create tune and fit\n",
    "\n",
    "tuner = raytune_utils.create_tuner(\n",
    "\ttrainable   = trainable,\n",
    "\ttune_config = tune_config,\n",
    "\trun_config  = run_config,\n",
    "\tparam_space = param_space\n",
    ")\n",
    "\n",
    "report = tuner.fit()"
   ]
  },
  {
   "cell_type": "markdown",
   "id": "2940fc14-d848-4018-a8d2-96ec719a8652",
   "metadata": {},
   "source": [
    "# 6. Reports"
   ]
  },
  {
   "cell_type": "code",
   "execution_count": null,
   "id": "468b6865-7e33-4372-a7b9-09d26beb098e",
   "metadata": {
    "tags": []
   },
   "outputs": [],
   "source": [
    "# Check if there have been errors\n",
    "\n",
    "if report.errors :\n",
    "\tprint('At least one of the trials has failed.')\n",
    "\tprint()\n",
    "else :\n",
    "\tprint('No errors.')\n",
    "\tprint()"
   ]
  },
  {
   "cell_type": "code",
   "execution_count": null,
   "id": "048991f8-bf5d-47f2-b870-7365789f042c",
   "metadata": {
    "tags": []
   },
   "outputs": [],
   "source": [
    "# Print possible columns\n",
    "\n",
    "for index, column in enumerate(report.get_dataframe().columns, start = 1) :\n",
    "\tprint('{:<40s}'.format(column), end = ' ')\n",
    "\n",
    "\tif index % 3 == 0 :\n",
    "\t\tprint()\n",
    "\n",
    "print()\n",
    "print()"
   ]
  },
  {
   "cell_type": "code",
   "execution_count": null,
   "id": "60cedfc3-65d4-4870-8093-0c5bb784fdf8",
   "metadata": {
    "tags": []
   },
   "outputs": [],
   "source": [
    "# Print the results as dataframe\n",
    "\n",
    "dataframe = report.get_dataframe()\n",
    "\n",
    "print('Shortest training time : {:8,.1f} minutes'.format(dataframe['time_total_s'].min()  / 60.0))\n",
    "print(' Longest training time : {:8,.1f} minutes'.format(dataframe['time_total_s'].max()  / 60.0))\n",
    "print('   Total training time : {:8,.1f} minutes'.format(dataframe['time_total_s'].sum()  / 60.0))\n",
    "print('    Mean training time : {:8,.1f} minutes'.format(dataframe['time_total_s'].mean() / 60.0))\n",
    "print()\n",
    "\n",
    "if CONFIG['model/mode'] == 'regression' :\n",
    "\ttrials = dataframe[[\n",
    "\t\t'logdir', 'trial_id', 'time_total_s', 'training_iteration',\n",
    "\t\t'train_loss', 'train_r2', 'train_mae', 'train_mape', 'train_wmape',\n",
    "\t\t'valid_loss', 'valid_r2', 'valid_mae', 'valid_mape', 'valid_wmape',\n",
    "\t]]\n",
    "\n",
    "if CONFIG['model/mode'] == 'classification' :\n",
    "\ttrials = dataframe[[\n",
    "\t\t'logdir', 'trial_id', 'time_total_s', 'training_iteration',\n",
    "\t\t'train_loss', 'train_accuracy', 'train_auroc', 'train_f1', 'train_matthews',\n",
    "\t\t'valid_loss', 'valid_accuracy', 'valid_auroc', 'valid_f1', 'valid_matthews'\n",
    "\t]]\n",
    "\n",
    "trials = trials.sort_values('valid_loss', ascending = True)\n",
    "trials"
   ]
  },
  {
   "cell_type": "code",
   "execution_count": null,
   "id": "943de37b-a1a0-4c53-9186-5176bf35a6b2",
   "metadata": {
    "tags": []
   },
   "outputs": [],
   "source": [
    "# Save the tuning results\n",
    "\n",
    "report.get_dataframe().to_csv(\n",
    "\tos.path.join(OUT_DATA, 'report.csv')\n",
    ")"
   ]
  },
  {
   "cell_type": "markdown",
   "id": "b25ca4ab-214f-451c-8854-11b73696fc0c",
   "metadata": {},
   "source": [
    "## 6.1 Visualization"
   ]
  },
  {
   "cell_type": "code",
   "execution_count": null,
   "id": "c3d0362f-aed3-4029-9e2d-06b653f51d32",
   "metadata": {
    "tags": []
   },
   "outputs": [],
   "source": [
    "# Plot trials valid loss\n",
    "\n",
    "raytune_plot.trials_lineplot_loss(\n",
    "\tdataframe  = trials,\n",
    "\tmax_trials = CONFIG['core/plots'],\n",
    "\talpha      = 0.9,\n",
    "\tfilename   = os.path.join(OUT_PLOT, CONFIG['model/name'] + '-trials')\n",
    ")"
   ]
  },
  {
   "cell_type": "markdown",
   "id": "8e90c754-8650-475e-97d9-f8dc8a298a6e",
   "metadata": {},
   "source": [
    "### 6.1.1 Regression"
   ]
  },
  {
   "cell_type": "code",
   "execution_count": null,
   "id": "4e8ddb17-af25-45e1-9833-20066e680452",
   "metadata": {
    "tags": []
   },
   "outputs": [],
   "source": [
    "# Plot trials valid r2\n",
    "\n",
    "if CONFIG['model/mode'] == 'regression' :\n",
    "\traytune_plot.trials_lineplot_r2(\n",
    "\t\tdataframe  = trials,\n",
    "\t\tmax_trials = CONFIG['core/plots'],\n",
    "\t\talpha      = 0.9,\n",
    "\t\tfilename   = os.path.join(OUT_PLOT, CONFIG['model/name'] + '-trials')\n",
    "\t)"
   ]
  },
  {
   "cell_type": "markdown",
   "id": "55b80ce9-5256-49a6-865f-190da3688039",
   "metadata": {},
   "source": [
    "### 6.1.2 Classification"
   ]
  },
  {
   "cell_type": "code",
   "execution_count": null,
   "id": "f681038f-d305-4196-a2ce-e7aa837edfde",
   "metadata": {},
   "outputs": [],
   "source": [
    "# Plot trials valid accuracy\n",
    "\n",
    "if CONFIG['model/mode'] == 'classification' :\n",
    "\traytune_plot.trials_lineplot_accuracy(\n",
    "\t\tdataframe  = trials,\n",
    "\t\tmax_trials = CONFIG['core/plots'],\n",
    "\t\talpha      = 0.9,\n",
    "\t\tfilename   = os.path.join(OUT_PLOT, CONFIG['model/name'] + '-trials')\n",
    "\t)"
   ]
  },
  {
   "cell_type": "markdown",
   "id": "8e10efdd-76db-46e4-903d-7118650bb027",
   "metadata": {},
   "source": [
    "## 6.2 Best"
   ]
  },
  {
   "cell_type": "code",
   "execution_count": null,
   "id": "64bf57b1-c93a-4225-a592-3c48b3ee16c3",
   "metadata": {
    "tags": []
   },
   "outputs": [],
   "source": [
    "# Display best trial\n",
    "\n",
    "best = report.get_best_result()\n",
    "\n",
    "if CONFIG['model/mode'] == 'regression'     : metrics = ['loss', 'r2', 'mae', 'mape', 'wmape']\n",
    "if CONFIG['model/mode'] == 'classification' : metrics = ['loss', 'accuracy', 'auroc', 'f1', 'matthews']\n",
    "\n",
    "for mode, metric in itertools.product(['train', 'valid'], metrics) :\n",
    "\tk0 = 'metrics/{}/{}'.format(mode, metric)\n",
    "\tk1 = '{}_{}'.format(mode, metric)\n",
    "\n",
    "\tbest.config[k0] = float(best.metrics[k1])\n",
    "\n",
    "print('Best config :')\n",
    "print()\n",
    "print('{')\n",
    "\n",
    "for index, (key, val) in enumerate(sorted(best.config.items()), start = 1) :\n",
    "\tif isinstance(key, str)   : key = f'\"{key}\"'\n",
    "\tif isinstance(val, str)   : val = f'\"{val}\"'\n",
    "\n",
    "\tif isinstance(val, float) : print('\\t{:30s} : {:.16f}'.format(key, val), end = '')\n",
    "\telse                      : print('\\t{:30s} : {}'.format(key, val), end = '')\n",
    "\n",
    "\tif index < len(best.config) : print(',')\n",
    "\telse                        : print('')\n",
    "\n",
    "print('}')\n",
    "print()"
   ]
  },
  {
   "cell_type": "code",
   "execution_count": null,
   "id": "9e2e2351-82eb-41db-932d-ddc5fece0244",
   "metadata": {
    "tags": []
   },
   "outputs": [],
   "source": [
    "# Display per iteration\n",
    "\n",
    "progress = loader.load_csv(\n",
    "\tfilename = os.path.join(best.log_dir, 'progress.csv')\n",
    ")\n",
    "\n",
    "if CONFIG['model/mode'] == 'regression' :\n",
    "\tprogress = progress[[\n",
    "\t\t'trial_id', 'time_total_s', 'training_iteration', 'lr',\n",
    "\t\t'train_loss', 'train_r2', 'train_mae', 'train_mape', 'train_wmape',\n",
    "\t\t'valid_loss', 'valid_r2', 'valid_mae', 'valid_mape', 'valid_wmape',\n",
    "\t]]\n",
    "\n",
    "if CONFIG['model/mode'] == 'classification' :\n",
    "\tprogress = progress[[\n",
    "\t\t'trial_id', 'time_total_s', 'training_iteration', 'lr',\n",
    "\t\t'train_loss', 'train_accuracy', 'train_auroc', 'train_f1', 'train_matthews',\n",
    "\t\t'valid_loss', 'valid_accuracy', 'valid_auroc', 'valid_f1', 'valid_matthews'\n",
    "\t]]\n",
    "\n",
    "progress"
   ]
  },
  {
   "cell_type": "code",
   "execution_count": null,
   "id": "4eaa27d6-0da6-4e09-a49e-5cc9b25897c9",
   "metadata": {
    "tags": []
   },
   "outputs": [],
   "source": [
    "# Plot best trial valid loss\n",
    "\n",
    "raytune_plot.trial_lineplot_loss(\n",
    "\tdataframe = progress,\n",
    "\tfilename  = os.path.join(OUT_PLOT, CONFIG['model/name'] + '-best')\n",
    ")"
   ]
  },
  {
   "cell_type": "code",
   "execution_count": null,
   "id": "5057fefd-cb7d-4244-b4bc-3d6ed10b53f9",
   "metadata": {
    "tags": []
   },
   "outputs": [],
   "source": [
    "# Plot best trial valid r2\n",
    "\n",
    "if CONFIG['model/mode'] == 'regression' :\n",
    "\traytune_plot.trial_lineplot_r2(\n",
    "\t\tdataframe = progress,\n",
    "\t\tfilename  = os.path.join(OUT_PLOT, CONFIG['model/name'] + '-best')\n",
    "\t)"
   ]
  },
  {
   "cell_type": "code",
   "execution_count": null,
   "id": "8aa79b94-7b01-44f1-8f42-ea300bbac937",
   "metadata": {},
   "outputs": [],
   "source": [
    "# Plot best trial valid accuracy\n",
    "\n",
    "if CONFIG['model/mode'] == 'classification' :\n",
    "\traytune_plot.trial_lineplot_accuracy(\n",
    "\t\tdataframe = progress,\n",
    "\t\tfilename  = os.path.join(OUT_PLOT, CONFIG['model/name'] + '-best')\n",
    "\t)"
   ]
  },
  {
   "cell_type": "code",
   "execution_count": null,
   "id": "0461429d-9439-4764-b085-044ae6121581",
   "metadata": {
    "tags": []
   },
   "outputs": [],
   "source": [
    "# Plot trials learning rate\n",
    "\n",
    "raytune_plot.trial_lineplot_lr(\n",
    "\tdataframe = progress,\n",
    "\tfilename  = os.path.join(OUT_PLOT, CONFIG['model/name'] + '-best')\n",
    ")"
   ]
  }
 ],
 "metadata": {
  "kernelspec": {
   "display_name": "Python 3 (ipykernel)",
   "language": "python",
   "name": "python3"
  },
  "language_info": {
   "codemirror_mode": {
    "name": "ipython",
    "version": 3
   },
   "file_extension": ".py",
   "mimetype": "text/x-python",
   "name": "python",
   "nbconvert_exporter": "python",
   "pygments_lexer": "ipython3",
   "version": "3.10.7"
  }
 },
 "nbformat": 4,
 "nbformat_minor": 5
}
