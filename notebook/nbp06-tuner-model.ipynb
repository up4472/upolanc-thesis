{
 "cells": [
  {
   "cell_type": "code",
   "execution_count": 1,
   "id": "4d6c1030-49e7-4910-a32d-0ae78ce0ce1f",
   "metadata": {
    "execution": {
     "iopub.execute_input": "2023-05-06T21:38:23.950142Z",
     "iopub.status.busy": "2023-05-06T21:38:23.949642Z",
     "iopub.status.idle": "2023-05-06T21:38:25.563029Z",
     "shell.execute_reply": "2023-05-06T21:38:25.562528Z",
     "shell.execute_reply.started": "2023-05-06T21:38:23.950142Z"
    },
    "tags": []
   },
   "outputs": [],
   "source": [
    "# Libraries\n",
    "\n",
    "import argparse\n",
    "import itertools\n",
    "import numpy\n",
    "import os\n",
    "import platform\n",
    "import ray\n",
    "import shutil\n",
    "import sys\n",
    "import torch"
   ]
  },
  {
   "cell_type": "code",
   "execution_count": 2,
   "id": "0f4e7e4e-b486-4abf-ae0d-4b22537b648b",
   "metadata": {
    "execution": {
     "iopub.execute_input": "2023-05-06T21:38:25.565031Z",
     "iopub.status.busy": "2023-05-06T21:38:25.564530Z",
     "iopub.status.idle": "2023-05-06T21:38:25.578543Z",
     "shell.execute_reply": "2023-05-06T21:38:25.578042Z",
     "shell.execute_reply.started": "2023-05-06T21:38:25.565031Z"
    },
    "tags": []
   },
   "outputs": [],
   "source": [
    "# Ensure source path\n",
    "\n",
    "ROOT = os.getcwd()\n",
    "\n",
    "while not ROOT.endswith('upolanc-thesis') :\n",
    "\tROOT = os.path.abspath(os.path.join(ROOT, os.pardir))\n",
    "\n",
    "\tif len(ROOT) < len('upolanc-thesis') :\n",
    "\t\tif   platform.system() == 'Linux' :\n",
    "\t\t\tROOT = '/d/hpc/home/up4472/workspace/upolanc-thesis'\n",
    "\t\telif platform.system() == 'Windows' :\n",
    "\t\t\tROOT = 'C:\\\\Developer\\\\Workspace\\\\PyCharm\\\\Projects\\\\upolanc-thesis'\n",
    "\t\telse :\n",
    "\t\t\traise ValueError()\n",
    "\n",
    "\t\tprint(f'Warning : could not find correct directory, using default : {ROOT}')\n",
    "\t\tbreak\n",
    "\n",
    "if ROOT not in sys.path :\n",
    "\tsys.path.append(ROOT)\n",
    "\n",
    "os.chdir(ROOT)"
   ]
  },
  {
   "cell_type": "code",
   "execution_count": 3,
   "id": "8655f888-e21b-4f0e-bebe-ae1e06bf72f9",
   "metadata": {
    "execution": {
     "iopub.execute_input": "2023-05-06T21:38:25.579544Z",
     "iopub.status.busy": "2023-05-06T21:38:25.579544Z",
     "iopub.status.idle": "2023-05-06T21:38:31.458099Z",
     "shell.execute_reply": "2023-05-06T21:38:31.457599Z",
     "shell.execute_reply.started": "2023-05-06T21:38:25.579544Z"
    },
    "tags": []
   },
   "outputs": [
    {
     "name": "stderr",
     "output_type": "stream",
     "text": [
      "2023-05-06 21:38:27,583\tINFO worker.py:1538 -- Started a local Ray instance.\n"
     ]
    }
   ],
   "source": [
    "# Tuner\n",
    "\n",
    "ray.init(include_dashboard = False)\n",
    "\n",
    "from ray.tune import choice\n",
    "from ray.tune import uniform\n",
    "from ray.tune import loguniform\n",
    "from ray.tune import randint"
   ]
  },
  {
   "cell_type": "code",
   "execution_count": 4,
   "id": "53cad32c-4de4-412f-a1e9-9e48a8f77213",
   "metadata": {
    "execution": {
     "iopub.execute_input": "2023-05-06T21:38:31.459601Z",
     "iopub.status.busy": "2023-05-06T21:38:31.459100Z",
     "iopub.status.idle": "2023-05-06T21:38:33.319700Z",
     "shell.execute_reply": "2023-05-06T21:38:33.319199Z",
     "shell.execute_reply.started": "2023-05-06T21:38:31.459601Z"
    },
    "tags": []
   },
   "outputs": [],
   "source": [
    "# Code\n",
    "\n",
    "from source.python.dataset import dataset_utils\n",
    "from source.python.raytune import raytune_model\n",
    "from source.python.raytune import raytune_plot\n",
    "from source.python.raytune import raytune_utils\n",
    "from source.python.io      import loader\n",
    "from source.python         import runtime\n",
    "\n",
    "runtime.set_numpy_format()\n",
    "runtime.set_pandas_format()\n",
    "runtime.set_plot_theme()"
   ]
  },
  {
   "cell_type": "markdown",
   "id": "d50a8f4a-ddce-4960-a822-3f612701ff0d",
   "metadata": {},
   "source": [
    "# 1. Setup"
   ]
  },
  {
   "cell_type": "code",
   "execution_count": 5,
   "id": "cfbe5643-6b5b-4bb7-a84e-c1ec9ce656c1",
   "metadata": {
    "execution": {
     "iopub.execute_input": "2023-05-06T21:38:33.321702Z",
     "iopub.status.busy": "2023-05-06T21:38:33.321202Z",
     "iopub.status.idle": "2023-05-06T21:38:33.335714Z",
     "shell.execute_reply": "2023-05-06T21:38:33.334713Z",
     "shell.execute_reply.started": "2023-05-06T21:38:33.321702Z"
    },
    "tags": []
   },
   "outputs": [],
   "source": [
    "# Define output and inputs\n",
    "\n",
    "MODEL_NAME       = 'zrimec2020'\n",
    "MODEL_TYPE       = 'r'\n",
    "MODEL_MODE       = None\n",
    "MODEL_PARAMS     = None\n",
    "MODEL_EPOCHS     = 5\n",
    "\n",
    "TARGET_GROUP     = 'global'\n",
    "TARGET_TYPE      = 'mean'\n",
    "TARGET_EXPLODE   = False\n",
    "TARGET_FILTER    = None\n",
    "\n",
    "TUNER_CONCURRENT = 1\n",
    "TUNER_TRIALS     = 5\n",
    "TUNER_GRACE      = 1\n",
    "TUNER_NOTEBOOK   = True\n",
    "\n",
    "FILTER_ID        = 0\n",
    "PARAM_SHARE      = False\n",
    "GENERATOR        = 'group'\n",
    "FEATURES         = True"
   ]
  },
  {
   "cell_type": "code",
   "execution_count": 6,
   "id": "89614f5c-6526-45f2-a2ee-113428cbe7f6",
   "metadata": {
    "execution": {
     "iopub.execute_input": "2023-05-06T21:38:33.337215Z",
     "iopub.status.busy": "2023-05-06T21:38:33.336716Z",
     "iopub.status.idle": "2023-05-06T21:38:33.350727Z",
     "shell.execute_reply": "2023-05-06T21:38:33.350226Z",
     "shell.execute_reply.started": "2023-05-06T21:38:33.337215Z"
    },
    "tags": []
   },
   "outputs": [
    {
     "name": "stdout",
     "output_type": "stream",
     "text": [
      "Running as .ipynb\n"
     ]
    }
   ],
   "source": [
    "# Check for args\n",
    "\n",
    "if __name__ == '__main__' and 'get_ipython' in dir() :\n",
    "\tprint('Running as .ipynb')\n",
    "\n",
    "if __name__ == '__main__' and 'get_ipython' not in dir() :\n",
    "\tprint('Running as .py')\n",
    "\n",
    "\tparser = argparse.ArgumentParser()\n",
    "\n",
    "\tstr_of_bool = lambda x : True if x == 'true' else False\n",
    "\tstr_or_none = lambda x : None if x == 'none' else str(x)\n",
    "\n",
    "\t_target_groups    = ['tissue', 'group', 'age', 'global', 'perturbation']\n",
    "\t_target_types     = ['mean', 'max']\n",
    "\t_model_names      = ['washburn2019', 'zrimec2020']\n",
    "\t_model_types      = ['r', 'c']\n",
    "\t_split_generators = ['stratified', 'group', 'random']\n",
    "\n",
    "\tparser.add_argument('--target_group',     type = str,         default = 'global',     choices = _target_groups)\n",
    "\tparser.add_argument('--target_type',      type = str,         default = 'mean',       choices = _target_types)\n",
    "\tparser.add_argument('--model_name',       type = str,         default = 'zrimec2020', choices = _model_names)\n",
    "\tparser.add_argument('--model_type',       type = str,         default = 'r',          choices = _model_types)\n",
    "\tparser.add_argument('--target_explode',   type = str_of_bool, default = False)\n",
    "\tparser.add_argument('--target_filter',    type = str_or_none, default = None)\n",
    "\tparser.add_argument('--model_epochs',     type = int,         default = 500)\n",
    "\tparser.add_argument('--tuner_concurrent', type = int,         default = 5)\n",
    "\tparser.add_argument('--tuner_trials',     type = int,         default = 250)\n",
    "\tparser.add_argument('--tuner_grace',      type = int,         default = 10)\n",
    "\tparser.add_argument('--param_share',      type = str_of_bool, default = False)\n",
    "\tparser.add_argument('--filter_id',        type = int,         default = 0)\n",
    "\tparser.add_argument('--generator',        type = str,         default = 'group',      choices = _split_generators)\n",
    "\tparser.add_argument('--features',         type = str_of_bool, default = False)\n",
    "\n",
    "\targs = vars(parser.parse_args())\n",
    "\n",
    "\tTARGET_GROUP     = args['target_group']\n",
    "\tTARGET_TYPE      = args['target_type']\n",
    "\tTARGET_EXPLODE   = args['target_explode']\n",
    "\tTARGET_FILTER    = args['target_filter']\n",
    "\tMODEL_NAME       = args['model_name']\n",
    "\tMODEL_TYPE       = args['model_type']\n",
    "\tMODEL_EPOCHS     = args['model_epochs']\n",
    "\tTUNER_CONCURRENT = args['tuner_concurrent']\n",
    "\tTUNER_TRIALS     = args['tuner_trials']\n",
    "\tTUNER_GRACE      = args['tuner_grace']\n",
    "\tPARAM_SHARE      = args['param_share']\n",
    "\tFILTER_ID        = args['filter_id']\n",
    "\tGENERATOR        = args['generator']\n",
    "\tFEATURES         = args['features']\n",
    "\n",
    "\tTUNER_NOTEBOOK   = False\n",
    "\n",
    "if TARGET_GROUP == 'global' :\n",
    "\tTARGET_EXPLODE = False\n",
    "\n",
    "if MODEL_TYPE == 'r' : MODEL_MODE = 'regression'\n",
    "if MODEL_TYPE == 'c' : MODEL_MODE = 'classification'"
   ]
  },
  {
   "cell_type": "code",
   "execution_count": 7,
   "id": "7d9d420a-cde8-46cb-be15-1f99347d9bdd",
   "metadata": {
    "execution": {
     "iopub.execute_input": "2023-05-06T21:38:33.354230Z",
     "iopub.status.busy": "2023-05-06T21:38:33.353729Z",
     "iopub.status.idle": "2023-05-06T21:38:33.366741Z",
     "shell.execute_reply": "2023-05-06T21:38:33.365740Z",
     "shell.execute_reply.started": "2023-05-06T21:38:33.354230Z"
    },
    "tags": []
   },
   "outputs": [
    {
     "name": "stdout",
     "output_type": "stream",
     "text": [
      "     Root Directory : C:\\Developer\\Workspace\\PyCharm\\Projects\\upolanc-thesis\n",
      "   Output Directory : C:\\Developer\\Workspace\\PyCharm\\Projects\\upolanc-thesis\\output\\nbp06-tuner\\model\\filter0\\zrimec\n",
      "   Output Directory : C:\\Developer\\Workspace\\PyCharm\\Projects\\upolanc-thesis\\output\\nbp06-tuner\\model\\filter0\\zrimec\\plot\n",
      " Resource Directory : C:\\Developer\\Workspace\\PyCharm\\Projects\\upolanc-thesis\\resources\\tuner\n",
      " Resource Directory : C:\\Developer\\Workspace\\PyCharm\\Projects\\upolanc-thesis\\output\\nbp04-feature\\filter0\n",
      " Resource Directory : C:\\Developer\\Workspace\\PyCharm\\Projects\\upolanc-thesis\\output\\nbp05-target\\filter0\n"
     ]
    }
   ],
   "source": [
    "# Setup some directory paths.\n",
    "\n",
    "SUBFOLDER = 'filter' + str(FILTER_ID)\n",
    "\n",
    "CWD = ROOT\n",
    "OUT = os.path.join(CWD, 'output')\n",
    "RES = os.path.join(CWD, 'resources')\n",
    "\n",
    "OUT_DATA  = os.path.join(OUT,      'nbp06-tuner', 'model', SUBFOLDER, MODEL_NAME[:-4])\n",
    "OUT_PLOT  = os.path.join(OUT_DATA, 'plot')\n",
    "RES_TUNER = os.path.join(RES,      'tuner')\n",
    "RES_NBP04 = os.path.join(OUT,      'nbp04-feature', SUBFOLDER)\n",
    "RES_NBP05 = os.path.join(OUT,      'nbp05-target',  SUBFOLDER)\n",
    "\n",
    "shutil.rmtree(OUT_DATA, ignore_errors = True)\n",
    "\n",
    "os.makedirs(OUT_DATA, exist_ok = True)\n",
    "os.makedirs(OUT_PLOT, exist_ok = True)\n",
    "\n",
    "print(f'     Root Directory : {CWD}')\n",
    "print(f'   Output Directory : {OUT_DATA}')\n",
    "print(f'   Output Directory : {OUT_PLOT}')\n",
    "print(f' Resource Directory : {RES_TUNER}')\n",
    "print(f' Resource Directory : {RES_NBP04}')\n",
    "print(f' Resource Directory : {RES_NBP05}')"
   ]
  },
  {
   "cell_type": "code",
   "execution_count": 8,
   "id": "a7f1d561-e60e-44ea-9ffc-60f3bc53c1c4",
   "metadata": {
    "execution": {
     "iopub.execute_input": "2023-05-06T21:38:33.367742Z",
     "iopub.status.busy": "2023-05-06T21:38:33.367242Z",
     "iopub.status.idle": "2023-05-06T21:38:33.413281Z",
     "shell.execute_reply": "2023-05-06T21:38:33.412280Z",
     "shell.execute_reply.started": "2023-05-06T21:38:33.367742Z"
    },
    "tags": []
   },
   "outputs": [
    {
     "name": "stdout",
     "output_type": "stream",
     "text": [
      "platform/python           : 3.10.7\n",
      "platform/system           : Windows\n",
      "platform/release          : 10\n",
      "platform/version          : 10.0.19044\n",
      "platform/cpu/name         : N/A\n",
      "platform/cpu/count        : 12\n",
      "platform/gpu/name         : NVIDIA GeForce RTX 3060 Ti\n",
      "platform/gpu/available    : True\n",
      "platform/gpu/count        : 1\n",
      "platform/memory/total     : 31.924 GB\n",
      "platform/memory/available : 16.161 GB\n"
     ]
    }
   ],
   "source": [
    "# System and device\n",
    "\n",
    "DEVICE = runtime.get_device(only_cpu = False)\n",
    "SYSTEM = runtime.get_system_info()\n",
    "\n",
    "for key, value in SYSTEM.items() :\n",
    "\tprint('{:25s} : {}'.format(key, value))"
   ]
  },
  {
   "cell_type": "code",
   "execution_count": 9,
   "id": "d254fe75-06de-4b51-88ab-e6af1f5af769",
   "metadata": {
    "execution": {
     "iopub.execute_input": "2023-05-06T21:38:33.414782Z",
     "iopub.status.busy": "2023-05-06T21:38:33.414282Z",
     "iopub.status.idle": "2023-05-06T21:38:41.432677Z",
     "shell.execute_reply": "2023-05-06T21:38:41.432176Z",
     "shell.execute_reply.started": "2023-05-06T21:38:33.414782Z"
    },
    "tags": []
   },
   "outputs": [],
   "source": [
    "# Load the input transcript features\n",
    "\n",
    "sequence_bp2150 = loader.load_fasta(\n",
    "\tfilename  = os.path.join(RES_NBP04, 'sequences-bp2150.fasta'),\n",
    "\tto_string = True\n",
    ")\n",
    "\n",
    "feature_base = loader.load_npz(\n",
    "\tfilename = os.path.join(RES_NBP04, 'features-base.npz')\n",
    ")"
   ]
  },
  {
   "cell_type": "markdown",
   "id": "de314874-ff3f-43c1-bb0a-919f2d63e775",
   "metadata": {},
   "source": [
    "# 2. Tuner"
   ]
  },
  {
   "cell_type": "code",
   "execution_count": 10,
   "id": "7df5b6e1-2eb9-4c84-a31b-418ccbfd4766",
   "metadata": {
    "execution": {
     "iopub.execute_input": "2023-05-06T21:38:41.434178Z",
     "iopub.status.busy": "2023-05-06T21:38:41.433679Z",
     "iopub.status.idle": "2023-05-06T21:38:41.448692Z",
     "shell.execute_reply": "2023-05-06T21:38:41.447690Z",
     "shell.execute_reply.started": "2023-05-06T21:38:41.434178Z"
    },
    "tags": []
   },
   "outputs": [],
   "source": [
    "# Define basic data parameters\n",
    "\n",
    "CONFIG = {\n",
    "\t'core/device'             : DEVICE,\n",
    "\t'core/outdir'             : OUT_DATA,\n",
    "\t'core/random'             : None,\n",
    "\t'core/rootdir'            : ROOT,\n",
    "\t'core/subfolder'          : SUBFOLDER,\n",
    "\t'dataset/expanddim'       : None,\n",
    "\t'dataset/filepath'        : os.path.join(OUT_DATA, 'dataset.pkl'),\n",
    "\t'dataset/split/generator' : GENERATOR,\n",
    "\t'dataset/split/test'      : 0.2,\n",
    "\t'dataset/split/valid'     : 0.2,\n",
    "\t'model/epochs'            : MODEL_EPOCHS,\n",
    "\t'model/features'          : FEATURES,\n",
    "\t'model/input/channels'    : 1,\n",
    "\t'model/input/features'    : None,\n",
    "\t'model/input/height'      : 4,\n",
    "\t'model/input/width'       : 2150,\n",
    "\t'model/mode'              : MODEL_MODE,\n",
    "\t'model/name'              : MODEL_NAME,\n",
    "\t'model/output/explode'    : TARGET_EXPLODE,\n",
    "\t'model/output/filter'     : TARGET_FILTER,\n",
    "\t'model/output/heads'      : None,\n",
    "\t'model/output/size'       : None,\n",
    "\t'model/output/target'     : TARGET_GROUP,\n",
    "\t'model/output/type'       : TARGET_TYPE,\n",
    "\t'model/type'              : MODEL_NAME + MODEL_TYPE,\n",
    "\t'params/filepath'         : RES_TUNER,\n",
    "\t'params/plot/max'         : 25,\n",
    "\t'params/share'            : PARAM_SHARE,\n",
    "\t'params/tuner'            : None,\n",
    "\t'tuner/checkpoint'        : False,\n",
    "\t'tuner/max_concurrent'    : TUNER_CONCURRENT,\n",
    "\t'tuner/max_epochs'        : MODEL_EPOCHS,\n",
    "\t'tuner/min_epochs'        : TUNER_GRACE,\n",
    "\t'tuner/reporter/freq'     : 30,\n",
    "\t'tuner/reporter/notebook' : TUNER_NOTEBOOK,\n",
    "\t'tuner/stopper'           : True,\n",
    "\t'tuner/stopper/days'      : 3,\n",
    "\t'tuner/stopper/hours'     : 22,\n",
    "\t'tuner/stopper/minutes'   : 0,\n",
    "\t'tuner/trials'            : TUNER_TRIALS\n",
    "}\n",
    "\n",
    "CONFIG['core/random'] = runtime.lock_random(\n",
    "\tseed     = CONFIG['core/random'],\n",
    "\tgenerate = True\n",
    ")\n",
    "\n",
    "if CONFIG['model/name'].startswith('washburn2019') :\n",
    "\tCONFIG['dataset/expanddim'] = 0"
   ]
  },
  {
   "cell_type": "code",
   "execution_count": 11,
   "id": "4fe4b9b5-4ee7-4b12-a0b8-ab7e037214c0",
   "metadata": {
    "execution": {
     "iopub.execute_input": "2023-05-06T21:38:41.450192Z",
     "iopub.status.busy": "2023-05-06T21:38:41.449692Z",
     "iopub.status.idle": "2023-05-06T21:38:41.464204Z",
     "shell.execute_reply": "2023-05-06T21:38:41.463203Z",
     "shell.execute_reply.started": "2023-05-06T21:38:41.450192Z"
    },
    "tags": []
   },
   "outputs": [
    {
     "name": "stdout",
     "output_type": "stream",
     "text": [
      "Model Name      : zrimec2020\n",
      "Model Type      : zrimec2020r\n",
      "Model Mode      : regression\n",
      "Use Features    : True\n",
      "Split Generator : group\n",
      "Random Seed     : 217405829\n"
     ]
    }
   ],
   "source": [
    "# Prints\n",
    "\n",
    "print('Model Name      : {}'.format(CONFIG['model/name']))\n",
    "print('Model Type      : {}'.format(CONFIG['model/type']))\n",
    "print('Model Mode      : {}'.format(CONFIG['model/mode']))\n",
    "print('Use Features    : {}'.format(CONFIG['model/features']))\n",
    "print('Split Generator : {}'.format(CONFIG['dataset/split/generator']))\n",
    "print('Random Seed     : {}'.format(CONFIG['core/random']))"
   ]
  },
  {
   "cell_type": "markdown",
   "id": "2037535d-fbdf-4ff8-bc83-1cd1032b9896",
   "metadata": {},
   "source": [
    "# 3. Dataset"
   ]
  },
  {
   "cell_type": "code",
   "execution_count": 12,
   "id": "23b8c10a-64d7-47ba-b0e3-ac60ab6c985a",
   "metadata": {
    "execution": {
     "iopub.execute_input": "2023-05-06T21:38:41.466206Z",
     "iopub.status.busy": "2023-05-06T21:38:41.465205Z",
     "iopub.status.idle": "2023-05-06T21:38:57.473472Z",
     "shell.execute_reply": "2023-05-06T21:38:57.472972Z",
     "shell.execute_reply.started": "2023-05-06T21:38:41.466206Z"
    },
    "tags": []
   },
   "outputs": [],
   "source": [
    "# Create dataset\n",
    "\n",
    "dataset = dataset_utils.get_dataset(\n",
    "\tconfig    = CONFIG,\n",
    "\tbp2150    = sequence_bp2150,\n",
    "\tfeature   = feature_base,\n",
    "\tdirectory = RES_NBP05,\n",
    "\tcached    = None\n",
    ")[0]"
   ]
  },
  {
   "cell_type": "code",
   "execution_count": 13,
   "id": "915d2f9a-ba40-49f0-af26-123b7543926b",
   "metadata": {
    "execution": {
     "iopub.execute_input": "2023-05-06T21:38:57.474973Z",
     "iopub.status.busy": "2023-05-06T21:38:57.474472Z",
     "iopub.status.idle": "2023-05-06T21:40:08.522072Z",
     "shell.execute_reply": "2023-05-06T21:40:08.520571Z",
     "shell.execute_reply.started": "2023-05-06T21:38:57.474973Z"
    },
    "tags": []
   },
   "outputs": [],
   "source": [
    "# Save dataset\n",
    "\n",
    "torch.save(dataset, CONFIG['dataset/filepath'])"
   ]
  },
  {
   "cell_type": "code",
   "execution_count": 14,
   "id": "e02437ca-1eab-44f8-9fc7-5b192b48491f",
   "metadata": {
    "execution": {
     "iopub.execute_input": "2023-05-06T21:40:08.523573Z",
     "iopub.status.busy": "2023-05-06T21:40:08.523073Z",
     "iopub.status.idle": "2023-05-06T21:40:08.538087Z",
     "shell.execute_reply": "2023-05-06T21:40:08.536084Z",
     "shell.execute_reply.started": "2023-05-06T21:40:08.523573Z"
    },
    "tags": []
   },
   "outputs": [
    {
     "name": "stdout",
     "output_type": "stream",
     "text": [
      "Dataset Filepath : C:\\Developer\\Workspace\\PyCharm\\Projects\\upolanc-thesis\\output\\nbp06-tuner\\model\\filter0\\zrimec\\dataset.pkl\n",
      "Input Features   : 72\n",
      "Output Size      : 1\n",
      "Output Heads     : None\n"
     ]
    }
   ],
   "source": [
    "# Assert all is set\n",
    "\n",
    "if CONFIG['dataset/filepath']     is None : raise AssertionError('dataset/filepath')\n",
    "if CONFIG['model/input/features'] is None : raise AssertionError('model/input/features')\n",
    "if CONFIG['model/output/size']    is None : raise AssertionError('model/output/size')\n",
    "\n",
    "print('Dataset Filepath : {}'.format(CONFIG['dataset/filepath']))\n",
    "print('Input Features   : {}'.format(CONFIG['model/input/features']))\n",
    "print('Output Size      : {}'.format(CONFIG['model/output/size']))\n",
    "print('Output Heads     : {}'.format(CONFIG['model/output/heads']))"
   ]
  },
  {
   "cell_type": "markdown",
   "id": "e17b18d9-cccb-4763-8391-2567b75c3fbb",
   "metadata": {
    "tags": []
   },
   "source": [
    "# 4. Search Space"
   ]
  },
  {
   "cell_type": "code",
   "execution_count": 15,
   "id": "e14f73b3-6854-4fa0-a497-50d7fde4391d",
   "metadata": {
    "execution": {
     "iopub.execute_input": "2023-05-06T21:40:08.540088Z",
     "iopub.status.busy": "2023-05-06T21:40:08.539588Z",
     "iopub.status.idle": "2023-05-06T21:40:08.553599Z",
     "shell.execute_reply": "2023-05-06T21:40:08.551598Z",
     "shell.execute_reply.started": "2023-05-06T21:40:08.540088Z"
    },
    "tags": []
   },
   "outputs": [],
   "source": [
    "# Define optimizer parameters\n",
    "\n",
    "optimizer_lr       = loguniform(1e-5, 1e-2)\n",
    "optimizer_decay    = uniform(0.000, 0.100)\n",
    "optimizer_beta1    = uniform(0.500, 0.950)\n",
    "optimizer_beta2    = uniform(0.951, 0.999)"
   ]
  },
  {
   "cell_type": "code",
   "execution_count": 16,
   "id": "dd4332b9-3ced-4899-86a6-df0425063255",
   "metadata": {
    "execution": {
     "iopub.execute_input": "2023-05-06T21:40:08.555101Z",
     "iopub.status.busy": "2023-05-06T21:40:08.554600Z",
     "iopub.status.idle": "2023-05-06T21:40:08.568613Z",
     "shell.execute_reply": "2023-05-06T21:40:08.567111Z",
     "shell.execute_reply.started": "2023-05-06T21:40:08.555101Z"
    },
    "tags": []
   },
   "outputs": [],
   "source": [
    "# Define scheduler parameters\n",
    "\n",
    "scheduler_name             = choice(['plateau', 'linear', 'exponential'])\n",
    "scheduler_plateau_factor   = uniform(0.1, 0.5)\n",
    "scheduler_plateau_patience = randint(5, 25)\n",
    "scheduler_linear_factor    = uniform(1e-07, 2e-01)\n",
    "scheduler_exp_factor       = uniform(0.900, 0.999)"
   ]
  },
  {
   "cell_type": "code",
   "execution_count": 17,
   "id": "a5a3581a-5246-4b79-9e8f-8357a42f5793",
   "metadata": {
    "execution": {
     "iopub.execute_input": "2023-05-06T21:40:08.570113Z",
     "iopub.status.busy": "2023-05-06T21:40:08.569613Z",
     "iopub.status.idle": "2023-05-06T21:40:08.584125Z",
     "shell.execute_reply": "2023-05-06T21:40:08.583125Z",
     "shell.execute_reply.started": "2023-05-06T21:40:08.570113Z"
    },
    "tags": []
   },
   "outputs": [],
   "source": [
    "# Define model parameters\n",
    "\n",
    "model_dropout   = uniform(0.0, 0.5)\n",
    "model_leakyrelu = uniform(0.0, 0.1)\n",
    "\n",
    "conv1_kernels  = [5, 11, 21, 31, 41]\n",
    "conv1_filters  = [32, 64, 128, 256]\n",
    "\n",
    "convx_kernels  = [5, 11, 21, 31, 41]\n",
    "convx_padding  = ['same', 'none']\n",
    "convx_filters  = [32, 64, 128, 256]\n",
    "convx_dilation = [1]\n",
    "\n",
    "poolx_kernels  = [3, 5, 9]\n",
    "poolx_padding  = ['same', 'none']\n",
    "\n",
    "fc1_features = [64, 128, 256, 512]\n",
    "fcx_features = [64, 128, 256, 512]"
   ]
  },
  {
   "cell_type": "code",
   "execution_count": 18,
   "id": "0a2fc685-9803-4596-8fde-d0678ed7604b",
   "metadata": {
    "execution": {
     "iopub.execute_input": "2023-05-06T21:40:08.585627Z",
     "iopub.status.busy": "2023-05-06T21:40:08.585127Z",
     "iopub.status.idle": "2023-05-06T21:40:08.630165Z",
     "shell.execute_reply": "2023-05-06T21:40:08.629164Z",
     "shell.execute_reply.started": "2023-05-06T21:40:08.585627Z"
    },
    "tags": []
   },
   "outputs": [],
   "source": [
    "# Define search space\n",
    "\n",
    "param_space = dict()\n",
    "\n",
    "# Dataset\n",
    "param_space['dataset/batch_size'] = choice([32, 64, 128])\n",
    "\n",
    "# Optimizer\n",
    "param_space['optimizer/name']  = 'adam'\n",
    "param_space['optimizer/lr']    = optimizer_lr\n",
    "param_space['optimizer/decay'] = optimizer_decay\n",
    "param_space['optimizer/beta1'] = optimizer_beta1\n",
    "param_space['optimizer/beta2'] = optimizer_beta2\n",
    "\n",
    "# Criterion\n",
    "param_space['criterion/name']      = 'mse'\n",
    "param_space['criterion/reduction'] = 'mean'\n",
    "\n",
    "# Scheduler\n",
    "param_space['scheduler/name']               = scheduler_name\n",
    "param_space['scheduler/plateau/factor']     = scheduler_plateau_factor\n",
    "param_space['scheduler/plateau/patience']   = scheduler_plateau_patience\n",
    "param_space['scheduler/linear/factor']      = scheduler_linear_factor\n",
    "param_space['scheduler/exponential/factor'] = scheduler_exp_factor\n",
    "\n",
    "# Model\n",
    "param_space['model/dropout']   = model_dropout\n",
    "param_space['model/leakyrelu'] = model_leakyrelu\n",
    "\n",
    "# Convolution\n",
    "param_space['model/conv1/filters']  = choice(conv1_filters)\n",
    "param_space['model/conv1/kernel']   = choice(conv1_kernels)\n",
    "param_space['model/conv1/padding']  = 'none'\n",
    "param_space['model/conv1/dilation'] = 1\n",
    "\n",
    "if CONFIG['params/share'] :\n",
    "\tparam_space['model/convx/filters']  = choice(convx_filters)\n",
    "\tparam_space['model/convx/kernel']   = choice(convx_kernels)\n",
    "\tparam_space['model/convx/padding']  = 'same'\n",
    "\tparam_space['model/convx/dilation'] = 1\n",
    "\n",
    "\tparam_space['model/maxpoolx/kernel']  = choice(poolx_kernels)\n",
    "\tparam_space['model/maxpoolx/padding'] = 'same'\n",
    "else :\n",
    "\tparam_space['model/conv2/filters']  = choice(convx_filters)\n",
    "\tparam_space['model/conv2/kernel']   = choice(convx_kernels)\n",
    "\tparam_space['model/conv2/padding']  = 'same'\n",
    "\tparam_space['model/conv2/dilation'] = 1\n",
    "\tparam_space['model/conv3/filters']  = choice(convx_filters)\n",
    "\tparam_space['model/conv3/kernel']   = choice(convx_kernels)\n",
    "\tparam_space['model/conv3/padding']  = 'same'\n",
    "\tparam_space['model/conv3/dilation'] = 1\n",
    "\n",
    "\tif CONFIG['model/name'].startswith('washburn2019') :\n",
    "\t\tparam_space['model/conv4/filters']  = choice(convx_filters)\n",
    "\t\tparam_space['model/conv4/kernel']   = choice(convx_kernels)\n",
    "\t\tparam_space['model/conv4/padding']  = 'same'\n",
    "\t\tparam_space['model/conv4/dilation'] = 1\n",
    "\t\tparam_space['model/conv5/filters']  = choice(convx_filters)\n",
    "\t\tparam_space['model/conv5/kernel']   = choice(convx_kernels)\n",
    "\t\tparam_space['model/conv5/padding']  = 'same'\n",
    "\t\tparam_space['model/conv5/dilation'] = 1\n",
    "\t\tparam_space['model/conv6/filters']  = choice(convx_filters)\n",
    "\t\tparam_space['model/conv6/kernel']   = choice(convx_kernels)\n",
    "\t\tparam_space['model/conv6/padding']  = 'same'\n",
    "\t\tparam_space['model/conv6/dilation'] = 1\n",
    "\n",
    "\t# Pooling\n",
    "\tparam_space['model/maxpool1/kernel']  = choice(poolx_kernels)\n",
    "\tparam_space['model/maxpool1/padding'] = 'same'\n",
    "\tparam_space['model/maxpool2/kernel']  = choice(poolx_kernels)\n",
    "\tparam_space['model/maxpool2/padding'] = 'same'\n",
    "\tparam_space['model/maxpool3/kernel']  = choice(poolx_kernels)\n",
    "\tparam_space['model/maxpool3/padding'] = 'same'\n",
    "\n",
    "# Linear\n",
    "param_space['model/fc1/features'] = choice(fc1_features)\n",
    "param_space['model/fc2/features'] = choice(fcx_features)"
   ]
  },
  {
   "cell_type": "code",
   "execution_count": 19,
   "id": "665a0c20-95b3-4acd-ba9c-801dbd8ec72e",
   "metadata": {
    "execution": {
     "iopub.execute_input": "2023-05-06T21:40:08.631666Z",
     "iopub.status.busy": "2023-05-06T21:40:08.631166Z",
     "iopub.status.idle": "2023-05-06T21:40:08.645178Z",
     "shell.execute_reply": "2023-05-06T21:40:08.644678Z",
     "shell.execute_reply.started": "2023-05-06T21:40:08.631666Z"
    },
    "tags": []
   },
   "outputs": [],
   "source": [
    "# Define starting parameters for algorithm (some decent starting point from previous runs)\n",
    "\n",
    "params_initial = None\n",
    "\n",
    "if not CONFIG['params/share'] and CONFIG['model/type'].startswith('zrimec2020r') :\n",
    "\tfilename = os.path.join(RES_TUNER, 'zrimec2020.json')\n",
    "\n",
    "\tif os.path.exists(filename) :\n",
    "\t\tparams_initial = loader.load_json(filename = filename)\n",
    "\n",
    "if not CONFIG['params/share'] and CONFIG['model/type'].startswith('washburn2019r') :\n",
    "\tfilename = os.path.join(RES_TUNER, 'washburn2019.json')\n",
    "\n",
    "\tif os.path.exists(filename) :\n",
    "\t\tparams_initial = loader.load_json(filename = filename)"
   ]
  },
  {
   "cell_type": "markdown",
   "id": "08b64877-eb4c-4147-9c5f-d9ed43be320a",
   "metadata": {},
   "source": [
    "# 5. Tuning"
   ]
  },
  {
   "cell_type": "code",
   "execution_count": 20,
   "id": "67afe19c-bcd1-4200-8d26-182840a42168",
   "metadata": {
    "execution": {
     "iopub.execute_input": "2023-05-06T21:40:08.647680Z",
     "iopub.status.busy": "2023-05-06T21:40:08.646679Z",
     "iopub.status.idle": "2023-05-06T21:40:08.661192Z",
     "shell.execute_reply": "2023-05-06T21:40:08.660191Z",
     "shell.execute_reply.started": "2023-05-06T21:40:08.647680Z"
    },
    "tags": []
   },
   "outputs": [
    {
     "data": {
      "text/html": [
       "<div class=\"tuneStatus\">\n",
       "  <div style=\"display: flex;flex-direction: row\">\n",
       "    <div style=\"display: flex;flex-direction: column;\">\n",
       "      <h3>Tune Status</h3>\n",
       "      <table>\n",
       "<tbody>\n",
       "<tr><td>Current time:</td><td>2023-05-06 21:51:33</td></tr>\n",
       "<tr><td>Running for: </td><td>00:11:24.95        </td></tr>\n",
       "<tr><td>Memory:      </td><td>20.9/31.9 GiB      </td></tr>\n",
       "</tbody>\n",
       "</table>\n",
       "    </div>\n",
       "    <div class=\"vDivider\"></div>\n",
       "    <div class=\"systemInfo\">\n",
       "      <h3>System Info</h3>\n",
       "      Using AsyncHyperBand: num_stopped=5<br>Bracket: Iter 4.000: -0.9724930265192577 | Iter 1.000: -1.2046534747695195<br>Resources requested: 0/12 CPUs, 0/1 GPUs, 0.0/10.29 GiB heap, 0.0/5.14 GiB objects\n",
       "    </div>\n",
       "    \n",
       "  </div>\n",
       "  <div class=\"hDivider\"></div>\n",
       "  <div class=\"trialStatus\">\n",
       "    <h3>Trial Status</h3>\n",
       "    <table>\n",
       "<thead>\n",
       "<tr><th>Trial name  </th><th>status    </th><th>loc            </th><th style=\"text-align: right;\">  dataset/batch_size</th><th>optimizer/name  </th><th>scheduler/name  </th><th style=\"text-align: right;\">  train_loss</th><th style=\"text-align: right;\">  train_r2</th><th style=\"text-align: right;\">  train_mae</th><th style=\"text-align: right;\">  valid_loss</th><th style=\"text-align: right;\">    valid_r2</th><th style=\"text-align: right;\">  valid_mae</th></tr>\n",
       "</thead>\n",
       "<tbody>\n",
       "<tr><td>5fbf957a    </td><td>TERMINATED</td><td>127.0.0.1:7064 </td><td style=\"text-align: right;\">                  64</td><td>adam            </td><td>linear          </td><td style=\"text-align: right;\">    0.699993</td><td style=\"text-align: right;\">  0.177002</td><td style=\"text-align: right;\">   0.683138</td><td style=\"text-align: right;\">    1.01916 </td><td style=\"text-align: right;\">  -0.214051 </td><td style=\"text-align: right;\">   0.82357 </td></tr>\n",
       "<tr><td>7bb30c82    </td><td>TERMINATED</td><td>127.0.0.1:26608</td><td style=\"text-align: right;\">                 128</td><td>adam            </td><td>linear          </td><td style=\"text-align: right;\">    0.635329</td><td style=\"text-align: right;\">  0.26365 </td><td style=\"text-align: right;\">   0.647966</td><td style=\"text-align: right;\">    0.903015</td><td style=\"text-align: right;\">  -0.0702596</td><td style=\"text-align: right;\">   0.769602</td></tr>\n",
       "<tr><td>5f19ff77    </td><td>TERMINATED</td><td>127.0.0.1:22928</td><td style=\"text-align: right;\">                  32</td><td>adam            </td><td>linear          </td><td style=\"text-align: right;\">    1.48127 </td><td style=\"text-align: right;\"> -0.825034</td><td style=\"text-align: right;\">   0.860458</td><td style=\"text-align: right;\">    1.56422 </td><td style=\"text-align: right;\">  -0.921121 </td><td style=\"text-align: right;\">   1.02119 </td></tr>\n",
       "<tr><td>a3b59626    </td><td>TERMINATED</td><td>127.0.0.1:19628</td><td style=\"text-align: right;\">                  64</td><td>adam            </td><td>plateau         </td><td style=\"text-align: right;\">    2.53432 </td><td style=\"text-align: right;\"> -1.98244 </td><td style=\"text-align: right;\">   1.26741 </td><td style=\"text-align: right;\">    1.55776 </td><td style=\"text-align: right;\">  -0.869828 </td><td style=\"text-align: right;\">   1.01004 </td></tr>\n",
       "<tr><td>2e4bbed3    </td><td>TERMINATED</td><td>127.0.0.1:17904</td><td style=\"text-align: right;\">                  64</td><td>adam            </td><td>exponential     </td><td style=\"text-align: right;\">   39.4119  </td><td style=\"text-align: right;\">-45.0774  </td><td style=\"text-align: right;\">   1.77448 </td><td style=\"text-align: right;\">  573.687   </td><td style=\"text-align: right;\">-697.35     </td><td style=\"text-align: right;\">  16.8086  </td></tr>\n",
       "</tbody>\n",
       "</table>\n",
       "  </div>\n",
       "</div>\n",
       "<style>\n",
       ".tuneStatus {\n",
       "  color: var(--jp-ui-font-color1);\n",
       "}\n",
       ".tuneStatus .systemInfo {\n",
       "  display: flex;\n",
       "  flex-direction: column;\n",
       "}\n",
       ".tuneStatus td {\n",
       "  white-space: nowrap;\n",
       "}\n",
       ".tuneStatus .trialStatus {\n",
       "  display: flex;\n",
       "  flex-direction: column;\n",
       "}\n",
       ".tuneStatus h3 {\n",
       "  font-weight: bold;\n",
       "}\n",
       ".tuneStatus .hDivider {\n",
       "  border-bottom-width: var(--jp-border-width);\n",
       "  border-bottom-color: var(--jp-border-color0);\n",
       "  border-bottom-style: solid;\n",
       "}\n",
       ".tuneStatus .vDivider {\n",
       "  border-left-width: var(--jp-border-width);\n",
       "  border-left-color: var(--jp-border-color0);\n",
       "  border-left-style: solid;\n",
       "  margin: 0.5em 1em 0.5em 1em;\n",
       "}\n",
       "</style>\n"
      ],
      "text/plain": [
       "<IPython.core.display.HTML object>"
      ]
     },
     "metadata": {},
     "output_type": "display_data"
    }
   ],
   "source": [
    "# Create tuner config\n",
    "\n",
    "trainable = raytune_utils.create_trainable(\n",
    "\tmethod    = raytune_model.main,\n",
    "\tconfig    = CONFIG,\n",
    "\tcpu_count = SYSTEM['platform/cpu/count'],\n",
    "\tgpu_count = SYSTEM['platform/gpu/count']\n",
    ")\n",
    "\n",
    "tune_config = raytune_utils.create_tune_config(\n",
    "\tconfig = CONFIG,\n",
    "\tparams = params_initial\n",
    ")\n",
    "\n",
    "run_config = raytune_utils.create_run_config(\n",
    "\tconfig    = CONFIG,\n",
    "\tlocal_dir = OUT_DATA,\n",
    "\tverbosity = raytune_utils.VERBOSE_STATUS,\n",
    "\ttask      = 'model'\n",
    ")"
   ]
  },
  {
   "cell_type": "code",
   "execution_count": 21,
   "id": "844676ae-777a-46ab-9302-89085342b326",
   "metadata": {
    "execution": {
     "iopub.execute_input": "2023-05-06T21:40:08.663694Z",
     "iopub.status.busy": "2023-05-06T21:40:08.662693Z",
     "iopub.status.idle": "2023-05-06T21:51:38.391846Z",
     "shell.execute_reply": "2023-05-06T21:51:38.391346Z",
     "shell.execute_reply.started": "2023-05-06T21:40:08.663194Z"
    },
    "tags": []
   },
   "outputs": [
    {
     "name": "stderr",
     "output_type": "stream",
     "text": [
      "2023-05-06 21:51:38,329\tINFO tune.py:762 -- Total run time: 689.64 seconds (684.93 seconds for the tuning loop).\n"
     ]
    }
   ],
   "source": [
    "# Create tune and fit\n",
    "\n",
    "tuner = raytune_utils.create_tuner(\n",
    "\ttrainable   = trainable,\n",
    "\ttune_config = tune_config,\n",
    "\trun_config  = run_config,\n",
    "\tparam_space = param_space\n",
    ")\n",
    "\n",
    "report = tuner.fit()"
   ]
  },
  {
   "cell_type": "markdown",
   "id": "2940fc14-d848-4018-a8d2-96ec719a8652",
   "metadata": {},
   "source": [
    "# 6. Reports"
   ]
  },
  {
   "cell_type": "code",
   "execution_count": 22,
   "id": "468b6865-7e33-4372-a7b9-09d26beb098e",
   "metadata": {
    "execution": {
     "iopub.execute_input": "2023-05-06T21:51:38.395851Z",
     "iopub.status.busy": "2023-05-06T21:51:38.395851Z",
     "iopub.status.idle": "2023-05-06T21:51:38.407861Z",
     "shell.execute_reply": "2023-05-06T21:51:38.406860Z",
     "shell.execute_reply.started": "2023-05-06T21:51:38.395851Z"
    },
    "tags": []
   },
   "outputs": [
    {
     "name": "stdout",
     "output_type": "stream",
     "text": [
      "No errors.\n"
     ]
    }
   ],
   "source": [
    "# Check if there have been errors\n",
    "\n",
    "if report.errors :\n",
    "\tprint('At least one of the trials has failed.')\n",
    "else :\n",
    "\tprint('No errors.')"
   ]
  },
  {
   "cell_type": "code",
   "execution_count": 23,
   "id": "048991f8-bf5d-47f2-b870-7365789f042c",
   "metadata": {
    "execution": {
     "iopub.execute_input": "2023-05-06T21:51:38.409362Z",
     "iopub.status.busy": "2023-05-06T21:51:38.408862Z",
     "iopub.status.idle": "2023-05-06T21:51:38.454401Z",
     "shell.execute_reply": "2023-05-06T21:51:38.453399Z",
     "shell.execute_reply.started": "2023-05-06T21:51:38.409362Z"
    },
    "tags": []
   },
   "outputs": [
    {
     "name": "stdout",
     "output_type": "stream",
     "text": [
      "valid_loss                               valid_r2                                 valid_mae                                \n",
      "valid_mape                               valid_wmape                              train_loss                               \n",
      "train_r2                                 train_mae                                train_mape                               \n",
      "train_wmape                              lr                                       time_this_iter_s                         \n",
      "done                                     timesteps_total                          episodes_total                           \n",
      "training_iteration                       trial_id                                 experiment_id                            \n",
      "date                                     timestamp                                time_total_s                             \n",
      "pid                                      hostname                                 node_ip                                  \n",
      "time_since_restore                       timesteps_since_restore                  iterations_since_restore                 \n",
      "warmup_time                              config/criterion/name                    config/criterion/reduction               \n",
      "config/dataset/batch_size                config/model/conv1/dilation              config/model/conv1/filters               \n",
      "config/model/conv1/kernel                config/model/conv1/padding               config/model/conv2/dilation              \n",
      "config/model/conv2/filters               config/model/conv2/kernel                config/model/conv2/padding               \n",
      "config/model/conv3/dilation              config/model/conv3/filters               config/model/conv3/kernel                \n",
      "config/model/conv3/padding               config/model/dropout                     config/model/fc1/features                \n",
      "config/model/fc2/features                config/model/leakyrelu                   config/model/maxpool1/kernel             \n",
      "config/model/maxpool1/padding            config/model/maxpool2/kernel             config/model/maxpool2/padding            \n",
      "config/model/maxpool3/kernel             config/model/maxpool3/padding            config/optimizer/beta1                   \n",
      "config/optimizer/beta2                   config/optimizer/decay                   config/optimizer/lr                      \n",
      "config/optimizer/name                    config/scheduler/exponential/factor      config/scheduler/linear/factor           \n",
      "config/scheduler/name                    config/scheduler/plateau/factor          config/scheduler/plateau/patience        \n",
      "logdir                                   \n"
     ]
    }
   ],
   "source": [
    "# Print possible columns\n",
    "\n",
    "for index, column in enumerate(report.get_dataframe().columns, start = 1) :\n",
    "\tprint('{:<40s}'.format(column), end = ' ')\n",
    "\n",
    "\tif index % 3 == 0 :\n",
    "\t\tprint()\n",
    "\n",
    "print()"
   ]
  },
  {
   "cell_type": "code",
   "execution_count": 24,
   "id": "60cedfc3-65d4-4870-8093-0c5bb784fdf8",
   "metadata": {
    "execution": {
     "iopub.execute_input": "2023-05-06T21:51:38.455402Z",
     "iopub.status.busy": "2023-05-06T21:51:38.455402Z",
     "iopub.status.idle": "2023-05-06T21:51:38.501441Z",
     "shell.execute_reply": "2023-05-06T21:51:38.499940Z",
     "shell.execute_reply.started": "2023-05-06T21:51:38.455402Z"
    },
    "tags": []
   },
   "outputs": [
    {
     "name": "stdout",
     "output_type": "stream",
     "text": [
      "Shortest training time :      0.6 minutes\n",
      " Longest training time :      5.0 minutes\n",
      "   Total training time :     10.6 minutes\n",
      "    Mean training time :      2.1 minutes\n",
      "\n"
     ]
    },
    {
     "data": {
      "text/html": [
       "<div>\n",
       "<style scoped>\n",
       "    .dataframe tbody tr th:only-of-type {\n",
       "        vertical-align: middle;\n",
       "    }\n",
       "\n",
       "    .dataframe tbody tr th {\n",
       "        vertical-align: top;\n",
       "    }\n",
       "\n",
       "    .dataframe thead th {\n",
       "        text-align: right;\n",
       "    }\n",
       "</style>\n",
       "<table border=\"1\" class=\"dataframe\">\n",
       "  <thead>\n",
       "    <tr style=\"text-align: right;\">\n",
       "      <th></th>\n",
       "      <th>logdir</th>\n",
       "      <th>trial_id</th>\n",
       "      <th>time_total_s</th>\n",
       "      <th>training_iteration</th>\n",
       "      <th>train_loss</th>\n",
       "      <th>train_r2</th>\n",
       "      <th>train_mae</th>\n",
       "      <th>train_mape</th>\n",
       "      <th>train_wmape</th>\n",
       "      <th>valid_loss</th>\n",
       "      <th>valid_r2</th>\n",
       "      <th>valid_mae</th>\n",
       "      <th>valid_mape</th>\n",
       "      <th>valid_wmape</th>\n",
       "    </tr>\n",
       "  </thead>\n",
       "  <tbody>\n",
       "    <tr>\n",
       "      <th>1</th>\n",
       "      <td>C:\\Developer\\Workspace\\PyCharm\\Projects\\upolan...</td>\n",
       "      <td>7bb30c82</td>\n",
       "      <td>300.177</td>\n",
       "      <td>5</td>\n",
       "      <td>0.635</td>\n",
       "      <td>0.264</td>\n",
       "      <td>0.648</td>\n",
       "      <td>1.488</td>\n",
       "      <td>0.376</td>\n",
       "      <td>0.903</td>\n",
       "      <td>-0.070</td>\n",
       "      <td>0.770</td>\n",
       "      <td>1.666</td>\n",
       "      <td>0.446</td>\n",
       "    </tr>\n",
       "    <tr>\n",
       "      <th>0</th>\n",
       "      <td>C:\\Developer\\Workspace\\PyCharm\\Projects\\upolan...</td>\n",
       "      <td>5fbf957a</td>\n",
       "      <td>198.818</td>\n",
       "      <td>5</td>\n",
       "      <td>0.700</td>\n",
       "      <td>0.177</td>\n",
       "      <td>0.683</td>\n",
       "      <td>1.621</td>\n",
       "      <td>0.397</td>\n",
       "      <td>1.019</td>\n",
       "      <td>-0.214</td>\n",
       "      <td>0.824</td>\n",
       "      <td>1.140</td>\n",
       "      <td>0.476</td>\n",
       "    </tr>\n",
       "    <tr>\n",
       "      <th>3</th>\n",
       "      <td>C:\\Developer\\Workspace\\PyCharm\\Projects\\upolan...</td>\n",
       "      <td>a3b59626</td>\n",
       "      <td>40.586</td>\n",
       "      <td>1</td>\n",
       "      <td>2.534</td>\n",
       "      <td>-1.982</td>\n",
       "      <td>1.267</td>\n",
       "      <td>2.435</td>\n",
       "      <td>0.737</td>\n",
       "      <td>1.558</td>\n",
       "      <td>-0.870</td>\n",
       "      <td>1.010</td>\n",
       "      <td>1.382</td>\n",
       "      <td>0.586</td>\n",
       "    </tr>\n",
       "    <tr>\n",
       "      <th>2</th>\n",
       "      <td>C:\\Developer\\Workspace\\PyCharm\\Projects\\upolan...</td>\n",
       "      <td>5f19ff77</td>\n",
       "      <td>59.655</td>\n",
       "      <td>1</td>\n",
       "      <td>1.481</td>\n",
       "      <td>-0.825</td>\n",
       "      <td>0.860</td>\n",
       "      <td>1.847</td>\n",
       "      <td>0.503</td>\n",
       "      <td>1.564</td>\n",
       "      <td>-0.921</td>\n",
       "      <td>1.021</td>\n",
       "      <td>1.008</td>\n",
       "      <td>0.590</td>\n",
       "    </tr>\n",
       "    <tr>\n",
       "      <th>4</th>\n",
       "      <td>C:\\Developer\\Workspace\\PyCharm\\Projects\\upolan...</td>\n",
       "      <td>2e4bbed3</td>\n",
       "      <td>33.957</td>\n",
       "      <td>1</td>\n",
       "      <td>39.412</td>\n",
       "      <td>-45.077</td>\n",
       "      <td>1.774</td>\n",
       "      <td>3.344</td>\n",
       "      <td>1.020</td>\n",
       "      <td>573.687</td>\n",
       "      <td>-697.350</td>\n",
       "      <td>16.809</td>\n",
       "      <td>17.184</td>\n",
       "      <td>9.745</td>\n",
       "    </tr>\n",
       "  </tbody>\n",
       "</table>\n",
       "</div>"
      ],
      "text/plain": [
       "                                              logdir  trial_id  time_total_s  \\\n",
       "1  C:\\Developer\\Workspace\\PyCharm\\Projects\\upolan...  7bb30c82       300.177   \n",
       "0  C:\\Developer\\Workspace\\PyCharm\\Projects\\upolan...  5fbf957a       198.818   \n",
       "3  C:\\Developer\\Workspace\\PyCharm\\Projects\\upolan...  a3b59626        40.586   \n",
       "2  C:\\Developer\\Workspace\\PyCharm\\Projects\\upolan...  5f19ff77        59.655   \n",
       "4  C:\\Developer\\Workspace\\PyCharm\\Projects\\upolan...  2e4bbed3        33.957   \n",
       "\n",
       "   training_iteration  train_loss  train_r2  train_mae  train_mape  \\\n",
       "1                   5       0.635     0.264      0.648       1.488   \n",
       "0                   5       0.700     0.177      0.683       1.621   \n",
       "3                   1       2.534    -1.982      1.267       2.435   \n",
       "2                   1       1.481    -0.825      0.860       1.847   \n",
       "4                   1      39.412   -45.077      1.774       3.344   \n",
       "\n",
       "   train_wmape  valid_loss  valid_r2  valid_mae  valid_mape  valid_wmape  \n",
       "1        0.376       0.903    -0.070      0.770       1.666        0.446  \n",
       "0        0.397       1.019    -0.214      0.824       1.140        0.476  \n",
       "3        0.737       1.558    -0.870      1.010       1.382        0.586  \n",
       "2        0.503       1.564    -0.921      1.021       1.008        0.590  \n",
       "4        1.020     573.687  -697.350     16.809      17.184        9.745  "
      ]
     },
     "execution_count": 24,
     "metadata": {},
     "output_type": "execute_result"
    }
   ],
   "source": [
    "# Print the results as dataframe\n",
    "\n",
    "dataframe = report.get_dataframe()\n",
    "\n",
    "print('Shortest training time : {:8,.1f} minutes'.format(dataframe['time_total_s'].min()  / 60.0))\n",
    "print(' Longest training time : {:8,.1f} minutes'.format(dataframe['time_total_s'].max()  / 60.0))\n",
    "print('   Total training time : {:8,.1f} minutes'.format(dataframe['time_total_s'].sum()  / 60.0))\n",
    "print('    Mean training time : {:8,.1f} minutes'.format(dataframe['time_total_s'].mean() / 60.0))\n",
    "print()\n",
    "\n",
    "if CONFIG['model/mode'] == 'regression' :\n",
    "\ttrials = dataframe[[\n",
    "\t\t'logdir', 'trial_id', 'time_total_s', 'training_iteration',\n",
    "\t\t'train_loss', 'train_r2', 'train_mae', 'train_mape', 'train_wmape',\n",
    "\t\t'valid_loss', 'valid_r2', 'valid_mae', 'valid_mape', 'valid_wmape',\n",
    "\t]]\n",
    "\n",
    "if CONFIG['model/mode'] == 'classification' :\n",
    "\ttrials = dataframe[[\n",
    "\t\t'logdir', 'trial_id', 'time_total_s', 'training_iteration',\n",
    "\t\t'train_loss', 'train_accuracy', 'train_auroc', 'train_f1', 'train_matthews',\n",
    "\t\t'valid_loss', 'valid_accuracy', 'valid_auroc', 'valid_f1', 'valid_matthews'\n",
    "\t]]\n",
    "\n",
    "trials = trials.sort_values('valid_loss', ascending = True)\n",
    "trials"
   ]
  },
  {
   "cell_type": "code",
   "execution_count": 25,
   "id": "943de37b-a1a0-4c53-9186-5176bf35a6b2",
   "metadata": {
    "execution": {
     "iopub.execute_input": "2023-05-06T21:51:38.507947Z",
     "iopub.status.busy": "2023-05-06T21:51:38.503442Z",
     "iopub.status.idle": "2023-05-06T21:51:38.531967Z",
     "shell.execute_reply": "2023-05-06T21:51:38.530966Z",
     "shell.execute_reply.started": "2023-05-06T21:51:38.507947Z"
    },
    "tags": []
   },
   "outputs": [],
   "source": [
    "# Save the tuning results\n",
    "\n",
    "report.get_dataframe().to_csv(\n",
    "\tos.path.join(OUT_DATA, 'report.csv')\n",
    ")"
   ]
  },
  {
   "cell_type": "markdown",
   "id": "b25ca4ab-214f-451c-8854-11b73696fc0c",
   "metadata": {},
   "source": [
    "## 6.1 Visualization"
   ]
  },
  {
   "cell_type": "code",
   "execution_count": 26,
   "id": "c3d0362f-aed3-4029-9e2d-06b653f51d32",
   "metadata": {
    "execution": {
     "iopub.execute_input": "2023-05-06T21:51:38.533969Z",
     "iopub.status.busy": "2023-05-06T21:51:38.532968Z",
     "iopub.status.idle": "2023-05-06T21:51:39.105961Z",
     "shell.execute_reply": "2023-05-06T21:51:39.104960Z",
     "shell.execute_reply.started": "2023-05-06T21:51:38.533468Z"
    },
    "tags": []
   },
   "outputs": [
    {
     "data": {
      "image/png": "[encoded data removed]",
      "text/plain": [
       "<Figure size 1600x1000 with 1 Axes>"
      ]
     },
     "metadata": {},
     "output_type": "display_data"
    }
   ],
   "source": [
    "# Plot trials valid loss\n",
    "\n",
    "raytune_plot.trials_lineplot_loss(\n",
    "\tdataframe  = trials,\n",
    "\tmax_trials = CONFIG['params/plot/max'],\n",
    "\talpha      = 0.9,\n",
    "\tfilename   = os.path.join(OUT_PLOT, CONFIG['model/type'] + '-trials')\n",
    ")"
   ]
  },
  {
   "cell_type": "markdown",
   "id": "8e90c754-8650-475e-97d9-f8dc8a298a6e",
   "metadata": {},
   "source": [
    "### 6.1.1 Regression"
   ]
  },
  {
   "cell_type": "code",
   "execution_count": 27,
   "id": "4e8ddb17-af25-45e1-9833-20066e680452",
   "metadata": {
    "execution": {
     "iopub.execute_input": "2023-05-06T21:51:39.106962Z",
     "iopub.status.busy": "2023-05-06T21:51:39.106962Z",
     "iopub.status.idle": "2023-05-06T21:51:39.695468Z",
     "shell.execute_reply": "2023-05-06T21:51:39.694467Z",
     "shell.execute_reply.started": "2023-05-06T21:51:39.106962Z"
    },
    "tags": []
   },
   "outputs": [
    {
     "data": {
      "image/png": "[encoded data removed]",
      "text/plain": [
       "<Figure size 1600x1000 with 1 Axes>"
      ]
     },
     "metadata": {},
     "output_type": "display_data"
    }
   ],
   "source": [
    "# Plot trials valid r2\n",
    "\n",
    "if CONFIG['model/mode'] == 'regression' :\n",
    "\traytune_plot.trials_lineplot_r2(\n",
    "\t\tdataframe  = trials,\n",
    "\t\tmax_trials = CONFIG['params/plot/max'],\n",
    "\t\talpha      = 0.9,\n",
    "\t\tfilename   = os.path.join(OUT_PLOT, CONFIG['model/type'] + '-trials')\n",
    "\t)"
   ]
  },
  {
   "cell_type": "markdown",
   "id": "55b80ce9-5256-49a6-865f-190da3688039",
   "metadata": {},
   "source": [
    "### 6.1.2 Classification"
   ]
  },
  {
   "cell_type": "code",
   "execution_count": 28,
   "id": "f681038f-d305-4196-a2ce-e7aa837edfde",
   "metadata": {
    "execution": {
     "iopub.execute_input": "2023-05-06T21:51:39.695968Z",
     "iopub.status.busy": "2023-05-06T21:51:39.695968Z",
     "iopub.status.idle": "2023-05-06T21:51:39.710982Z",
     "shell.execute_reply": "2023-05-06T21:51:39.709981Z",
     "shell.execute_reply.started": "2023-05-06T21:51:39.695968Z"
    }
   },
   "outputs": [],
   "source": [
    "# Plot trials valid accuracy\n",
    "\n",
    "if CONFIG['model/mode'] == 'classification' :\n",
    "\traytune_plot.trials_lineplot_accuracy(\n",
    "\t\tdataframe  = trials,\n",
    "\t\tmax_trials = CONFIG['params/plot/max'],\n",
    "\t\talpha      = 0.9,\n",
    "\t\tfilename   = os.path.join(OUT_PLOT, CONFIG['model/type'] + '-trials')\n",
    "\t)"
   ]
  },
  {
   "cell_type": "markdown",
   "id": "8e10efdd-76db-46e4-903d-7118650bb027",
   "metadata": {},
   "source": [
    "## 6.2 Best"
   ]
  },
  {
   "cell_type": "code",
   "execution_count": 29,
   "id": "64bf57b1-c93a-4225-a592-3c48b3ee16c3",
   "metadata": {
    "execution": {
     "iopub.execute_input": "2023-05-06T21:51:39.712483Z",
     "iopub.status.busy": "2023-05-06T21:51:39.711982Z",
     "iopub.status.idle": "2023-05-06T21:51:39.725994Z",
     "shell.execute_reply": "2023-05-06T21:51:39.725494Z",
     "shell.execute_reply.started": "2023-05-06T21:51:39.712483Z"
    },
    "tags": []
   },
   "outputs": [
    {
     "name": "stdout",
     "output_type": "stream",
     "text": [
      "Best config :\n",
      "\n",
      "{\n",
      "\t\"criterion/name\"               : \"mse\",\n",
      "\t\"criterion/reduction\"          : \"mean\",\n",
      "\t\"dataset/batch_size\"           : 128,\n",
      "\t\"metrics/train/loss\"           : 0.6353293608077684,\n",
      "\t\"metrics/train/mae\"            : 0.6479658087681081,\n",
      "\t\"metrics/train/mape\"           : 1.4876073598861694,\n",
      "\t\"metrics/train/r2\"             : 0.2636502981185913,\n",
      "\t\"metrics/train/wmape\"          : 0.3760680258274078,\n",
      "\t\"metrics/valid/loss\"           : 0.9030152778570280,\n",
      "\t\"metrics/valid/mae\"            : 0.7696017787041068,\n",
      "\t\"metrics/valid/mape\"           : 1.6657646894454956,\n",
      "\t\"metrics/valid/r2\"             : -0.0702596306800842,\n",
      "\t\"metrics/valid/wmape\"          : 0.4461394250392914,\n",
      "\t\"model/conv1/dilation\"         : 1,\n",
      "\t\"model/conv1/filters\"          : 128,\n",
      "\t\"model/conv1/kernel\"           : 21,\n",
      "\t\"model/conv1/padding\"          : \"none\",\n",
      "\t\"model/conv2/dilation\"         : 1,\n",
      "\t\"model/conv2/filters\"          : 64,\n",
      "\t\"model/conv2/kernel\"           : 41,\n",
      "\t\"model/conv2/padding\"          : \"same\",\n",
      "\t\"model/conv3/dilation\"         : 1,\n",
      "\t\"model/conv3/filters\"          : 128,\n",
      "\t\"model/conv3/kernel\"           : 21,\n",
      "\t\"model/conv3/padding\"          : \"same\",\n",
      "\t\"model/dropout\"                : 0.0000000000000000,\n",
      "\t\"model/fc1/features\"           : 64,\n",
      "\t\"model/fc2/features\"           : 64,\n",
      "\t\"model/leakyrelu\"              : 0.0000000000000000,\n",
      "\t\"model/maxpool1/kernel\"        : 3,\n",
      "\t\"model/maxpool1/padding\"       : \"same\",\n",
      "\t\"model/maxpool2/kernel\"        : 3,\n",
      "\t\"model/maxpool2/padding\"       : \"same\",\n",
      "\t\"model/maxpool3/kernel\"        : 5,\n",
      "\t\"model/maxpool3/padding\"       : \"same\",\n",
      "\t\"optimizer/beta1\"              : 0.5365792171661639,\n",
      "\t\"optimizer/beta2\"              : 0.9990000000000000,\n",
      "\t\"optimizer/decay\"              : 0.0464052533000238,\n",
      "\t\"optimizer/lr\"                 : 0.0000245186030137,\n",
      "\t\"optimizer/name\"               : \"adam\",\n",
      "\t\"scheduler/exponential/factor\" : 0.9128417486818478,\n",
      "\t\"scheduler/linear/factor\"      : 0.0260499850842293,\n",
      "\t\"scheduler/name\"               : \"linear\",\n",
      "\t\"scheduler/plateau/factor\"     : 0.3319740691249563,\n",
      "\t\"scheduler/plateau/patience\"   : 6\n",
      "}\n"
     ]
    }
   ],
   "source": [
    "# Display best trial\n",
    "\n",
    "best = report.get_best_result()\n",
    "\n",
    "if CONFIG['model/mode'] == 'regression'     : metrics = ['loss', 'r2', 'mae', 'mape', 'wmape']\n",
    "if CONFIG['model/mode'] == 'classification' : metrics = ['loss', 'accuracy', 'auroc', 'f1', 'matthews']\n",
    "\n",
    "for mode, metric in itertools.product(['train', 'valid'], metrics) :\n",
    "\tk0 = 'metrics/{}/{}'.format(mode, metric)\n",
    "\tk1 = '{}_{}'.format(mode, metric)\n",
    "\n",
    "\tbest.config[k0] = float(best.metrics[k1])\n",
    "\n",
    "print('Best config :')\n",
    "print()\n",
    "print('{')\n",
    "\n",
    "for index, (key, val) in enumerate(sorted(best.config.items()), start = 1) :\n",
    "\tif isinstance(key, str)   : key = f'\"{key}\"'\n",
    "\tif isinstance(val, str)   : val = f'\"{val}\"'\n",
    "\n",
    "\tif isinstance(val, float) : print('\\t{:30s} : {:.16f}'.format(key, val), end = '')\n",
    "\telse                      : print('\\t{:30s} : {}'.format(key, val), end = '')\n",
    "\n",
    "\tif index < len(best.config) : print(',')\n",
    "\telse                        : print('')\n",
    "\n",
    "print('}')"
   ]
  },
  {
   "cell_type": "code",
   "execution_count": 30,
   "id": "9e2e2351-82eb-41db-932d-ddc5fece0244",
   "metadata": {
    "execution": {
     "iopub.execute_input": "2023-05-06T21:51:39.727496Z",
     "iopub.status.busy": "2023-05-06T21:51:39.726995Z",
     "iopub.status.idle": "2023-05-06T21:51:39.757021Z",
     "shell.execute_reply": "2023-05-06T21:51:39.756520Z",
     "shell.execute_reply.started": "2023-05-06T21:51:39.727496Z"
    },
    "tags": []
   },
   "outputs": [
    {
     "data": {
      "text/html": [
       "<div>\n",
       "<style scoped>\n",
       "    .dataframe tbody tr th:only-of-type {\n",
       "        vertical-align: middle;\n",
       "    }\n",
       "\n",
       "    .dataframe tbody tr th {\n",
       "        vertical-align: top;\n",
       "    }\n",
       "\n",
       "    .dataframe thead th {\n",
       "        text-align: right;\n",
       "    }\n",
       "</style>\n",
       "<table border=\"1\" class=\"dataframe\">\n",
       "  <thead>\n",
       "    <tr style=\"text-align: right;\">\n",
       "      <th></th>\n",
       "      <th>trial_id</th>\n",
       "      <th>time_total_s</th>\n",
       "      <th>training_iteration</th>\n",
       "      <th>lr</th>\n",
       "      <th>train_loss</th>\n",
       "      <th>train_r2</th>\n",
       "      <th>train_mae</th>\n",
       "      <th>train_mape</th>\n",
       "      <th>train_wmape</th>\n",
       "      <th>valid_loss</th>\n",
       "      <th>valid_r2</th>\n",
       "      <th>valid_mae</th>\n",
       "      <th>valid_mape</th>\n",
       "      <th>valid_wmape</th>\n",
       "    </tr>\n",
       "  </thead>\n",
       "  <tbody>\n",
       "    <tr>\n",
       "      <th>0</th>\n",
       "      <td>7bb30c82</td>\n",
       "      <td>70.121</td>\n",
       "      <td>1</td>\n",
       "      <td>0.000</td>\n",
       "      <td>1.625</td>\n",
       "      <td>-0.893</td>\n",
       "      <td>1.012</td>\n",
       "      <td>2.097</td>\n",
       "      <td>0.587</td>\n",
       "      <td>1.055</td>\n",
       "      <td>-0.245</td>\n",
       "      <td>0.831</td>\n",
       "      <td>1.821</td>\n",
       "      <td>0.481</td>\n",
       "    </tr>\n",
       "    <tr>\n",
       "      <th>1</th>\n",
       "      <td>7bb30c82</td>\n",
       "      <td>129.897</td>\n",
       "      <td>2</td>\n",
       "      <td>0.000</td>\n",
       "      <td>0.934</td>\n",
       "      <td>-0.083</td>\n",
       "      <td>0.787</td>\n",
       "      <td>1.802</td>\n",
       "      <td>0.456</td>\n",
       "      <td>0.951</td>\n",
       "      <td>-0.120</td>\n",
       "      <td>0.793</td>\n",
       "      <td>1.862</td>\n",
       "      <td>0.459</td>\n",
       "    </tr>\n",
       "    <tr>\n",
       "      <th>2</th>\n",
       "      <td>7bb30c82</td>\n",
       "      <td>189.337</td>\n",
       "      <td>3</td>\n",
       "      <td>0.000</td>\n",
       "      <td>0.802</td>\n",
       "      <td>0.068</td>\n",
       "      <td>0.730</td>\n",
       "      <td>1.691</td>\n",
       "      <td>0.424</td>\n",
       "      <td>0.906</td>\n",
       "      <td>-0.073</td>\n",
       "      <td>0.775</td>\n",
       "      <td>1.648</td>\n",
       "      <td>0.449</td>\n",
       "    </tr>\n",
       "    <tr>\n",
       "      <th>3</th>\n",
       "      <td>7bb30c82</td>\n",
       "      <td>246.106</td>\n",
       "      <td>4</td>\n",
       "      <td>0.000</td>\n",
       "      <td>0.712</td>\n",
       "      <td>0.171</td>\n",
       "      <td>0.688</td>\n",
       "      <td>1.577</td>\n",
       "      <td>0.399</td>\n",
       "      <td>0.908</td>\n",
       "      <td>-0.073</td>\n",
       "      <td>0.775</td>\n",
       "      <td>1.763</td>\n",
       "      <td>0.449</td>\n",
       "    </tr>\n",
       "    <tr>\n",
       "      <th>4</th>\n",
       "      <td>7bb30c82</td>\n",
       "      <td>300.177</td>\n",
       "      <td>5</td>\n",
       "      <td>0.000</td>\n",
       "      <td>0.635</td>\n",
       "      <td>0.264</td>\n",
       "      <td>0.648</td>\n",
       "      <td>1.488</td>\n",
       "      <td>0.376</td>\n",
       "      <td>0.903</td>\n",
       "      <td>-0.070</td>\n",
       "      <td>0.770</td>\n",
       "      <td>1.666</td>\n",
       "      <td>0.446</td>\n",
       "    </tr>\n",
       "  </tbody>\n",
       "</table>\n",
       "</div>"
      ],
      "text/plain": [
       "   trial_id  time_total_s  training_iteration    lr  train_loss  train_r2  \\\n",
       "0  7bb30c82        70.121                   1 0.000       1.625    -0.893   \n",
       "1  7bb30c82       129.897                   2 0.000       0.934    -0.083   \n",
       "2  7bb30c82       189.337                   3 0.000       0.802     0.068   \n",
       "3  7bb30c82       246.106                   4 0.000       0.712     0.171   \n",
       "4  7bb30c82       300.177                   5 0.000       0.635     0.264   \n",
       "\n",
       "   train_mae  train_mape  train_wmape  valid_loss  valid_r2  valid_mae  \\\n",
       "0      1.012       2.097        0.587       1.055    -0.245      0.831   \n",
       "1      0.787       1.802        0.456       0.951    -0.120      0.793   \n",
       "2      0.730       1.691        0.424       0.906    -0.073      0.775   \n",
       "3      0.688       1.577        0.399       0.908    -0.073      0.775   \n",
       "4      0.648       1.488        0.376       0.903    -0.070      0.770   \n",
       "\n",
       "   valid_mape  valid_wmape  \n",
       "0       1.821        0.481  \n",
       "1       1.862        0.459  \n",
       "2       1.648        0.449  \n",
       "3       1.763        0.449  \n",
       "4       1.666        0.446  "
      ]
     },
     "execution_count": 30,
     "metadata": {},
     "output_type": "execute_result"
    }
   ],
   "source": [
    "# Display per iteration\n",
    "\n",
    "progress = loader.load_csv(\n",
    "\tfilename = os.path.join(best.log_dir, 'progress.csv')\n",
    ")\n",
    "\n",
    "if CONFIG['model/mode'] == 'regression' :\n",
    "\tprogress = progress[[\n",
    "\t\t'trial_id', 'time_total_s', 'training_iteration', 'lr',\n",
    "\t\t'train_loss', 'train_r2', 'train_mae', 'train_mape', 'train_wmape',\n",
    "\t\t'valid_loss', 'valid_r2', 'valid_mae', 'valid_mape', 'valid_wmape',\n",
    "\t]]\n",
    "\n",
    "if CONFIG['model/mode'] == 'classification' :\n",
    "\tprogress = progress[[\n",
    "\t\t'trial_id', 'time_total_s', 'training_iteration', 'lr',\n",
    "\t\t'train_loss', 'train_accuracy', 'train_auroc', 'train_f1', 'train_matthews',\n",
    "\t\t'valid_loss', 'valid_accuracy', 'valid_auroc', 'valid_f1', 'valid_matthews'\n",
    "\t]]\n",
    "\n",
    "progress"
   ]
  },
  {
   "cell_type": "code",
   "execution_count": 31,
   "id": "4eaa27d6-0da6-4e09-a49e-5cc9b25897c9",
   "metadata": {
    "execution": {
     "iopub.execute_input": "2023-05-06T21:51:39.758022Z",
     "iopub.status.busy": "2023-05-06T21:51:39.758022Z",
     "iopub.status.idle": "2023-05-06T21:51:40.254449Z",
     "shell.execute_reply": "2023-05-06T21:51:40.253448Z",
     "shell.execute_reply.started": "2023-05-06T21:51:39.758022Z"
    },
    "tags": []
   },
   "outputs": [
    {
     "data": {
      "image/png": "[encoded data removed]",
      "text/plain": [
       "<Figure size 1600x1000 with 1 Axes>"
      ]
     },
     "metadata": {},
     "output_type": "display_data"
    }
   ],
   "source": [
    "# Plot best trial valid loss\n",
    "\n",
    "raytune_plot.trial_lineplot_loss(\n",
    "\tdataframe = progress,\n",
    "\tfilename  = os.path.join(OUT_PLOT, CONFIG['model/type'] + '-best')\n",
    ")"
   ]
  },
  {
   "cell_type": "code",
   "execution_count": 32,
   "id": "5057fefd-cb7d-4244-b4bc-3d6ed10b53f9",
   "metadata": {
    "execution": {
     "iopub.execute_input": "2023-05-06T21:51:40.255950Z",
     "iopub.status.busy": "2023-05-06T21:51:40.255450Z",
     "iopub.status.idle": "2023-05-06T21:51:40.765388Z",
     "shell.execute_reply": "2023-05-06T21:51:40.764888Z",
     "shell.execute_reply.started": "2023-05-06T21:51:40.255950Z"
    },
    "tags": []
   },
   "outputs": [
    {
     "data": {
      "image/png": "[encoded data removed]",
      "text/plain": [
       "<Figure size 1600x1000 with 1 Axes>"
      ]
     },
     "metadata": {},
     "output_type": "display_data"
    }
   ],
   "source": [
    "# Plot best trial valid r2\n",
    "\n",
    "if CONFIG['model/mode'] == 'regression' :\n",
    "\traytune_plot.trial_lineplot_r2(\n",
    "\t\tdataframe = progress,\n",
    "\t\tfilename  = os.path.join(OUT_PLOT, CONFIG['model/type'] + '-best')\n",
    "\t)"
   ]
  },
  {
   "cell_type": "code",
   "execution_count": 33,
   "id": "8aa79b94-7b01-44f1-8f42-ea300bbac937",
   "metadata": {
    "execution": {
     "iopub.execute_input": "2023-05-06T21:51:40.766889Z",
     "iopub.status.busy": "2023-05-06T21:51:40.766388Z",
     "iopub.status.idle": "2023-05-06T21:51:40.781402Z",
     "shell.execute_reply": "2023-05-06T21:51:40.780401Z",
     "shell.execute_reply.started": "2023-05-06T21:51:40.766889Z"
    }
   },
   "outputs": [],
   "source": [
    "# Plot best trial valid accuracy\n",
    "\n",
    "if CONFIG['model/mode'] == 'classification' :\n",
    "\traytune_plot.trial_lineplot_accuracy(\n",
    "\t\tdataframe = progress,\n",
    "\t\tfilename  = os.path.join(OUT_PLOT, CONFIG['model/type'] + '-best')\n",
    "\t)"
   ]
  },
  {
   "cell_type": "code",
   "execution_count": 34,
   "id": "0461429d-9439-4764-b085-044ae6121581",
   "metadata": {
    "execution": {
     "iopub.execute_input": "2023-05-06T21:51:40.783404Z",
     "iopub.status.busy": "2023-05-06T21:51:40.782402Z",
     "iopub.status.idle": "2023-05-06T21:51:41.277829Z",
     "shell.execute_reply": "2023-05-06T21:51:41.276828Z",
     "shell.execute_reply.started": "2023-05-06T21:51:40.783404Z"
    },
    "tags": []
   },
   "outputs": [
    {
     "data": {
      "image/png": "[encoded data removed]",
      "text/plain": [
       "<Figure size 1600x1000 with 1 Axes>"
      ]
     },
     "metadata": {},
     "output_type": "display_data"
    }
   ],
   "source": [
    "# Plot trials learning rate\n",
    "\n",
    "raytune_plot.trial_lineplot_lr(\n",
    "\tdataframe = progress,\n",
    "\tfilename  = os.path.join(OUT_PLOT, CONFIG['model/type'] + '-best')\n",
    ")"
   ]
  }
 ],
 "metadata": {
  "kernelspec": {
   "display_name": "Python 3 (ipykernel)",
   "language": "python",
   "name": "python3"
  },
  "language_info": {
   "codemirror_mode": {
    "name": "ipython",
    "version": 3
   },
   "file_extension": ".py",
   "mimetype": "text/x-python",
   "name": "python",
   "nbconvert_exporter": "python",
   "pygments_lexer": "ipython3",
   "version": "3.10.7"
  }
 },
 "nbformat": 4,
 "nbformat_minor": 5
}
