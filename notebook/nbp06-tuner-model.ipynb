{
 "cells": [
  {
   "cell_type": "code",
   "execution_count": 1,
   "id": "4d6c1030-49e7-4910-a32d-0ae78ce0ce1f",
   "metadata": {
    "execution": {
     "iopub.execute_input": "2023-06-02T18:28:10.269806Z",
     "iopub.status.busy": "2023-06-02T18:28:10.269305Z",
     "iopub.status.idle": "2023-06-02T18:28:11.707038Z",
     "shell.execute_reply": "2023-06-02T18:28:11.706537Z",
     "shell.execute_reply.started": "2023-06-02T18:28:10.269806Z"
    },
    "tags": []
   },
   "outputs": [],
   "source": [
    "# Libraries\n",
    "\n",
    "import argparse\n",
    "import itertools\n",
    "import numpy\n",
    "import os\n",
    "import platform\n",
    "import ray\n",
    "import shutil\n",
    "import sys\n",
    "import torch"
   ]
  },
  {
   "cell_type": "code",
   "execution_count": 2,
   "id": "0f4e7e4e-b486-4abf-ae0d-4b22537b648b",
   "metadata": {
    "execution": {
     "iopub.execute_input": "2023-06-02T18:28:11.709041Z",
     "iopub.status.busy": "2023-06-02T18:28:11.708539Z",
     "iopub.status.idle": "2023-06-02T18:28:11.722552Z",
     "shell.execute_reply": "2023-06-02T18:28:11.722051Z",
     "shell.execute_reply.started": "2023-06-02T18:28:11.709041Z"
    },
    "tags": []
   },
   "outputs": [],
   "source": [
    "# Ensure source path\n",
    "\n",
    "ROOT = os.getcwd()\n",
    "\n",
    "while not ROOT.endswith('upolanc-thesis') :\n",
    "\tROOT = os.path.abspath(os.path.join(ROOT, os.pardir))\n",
    "\n",
    "\tif len(ROOT) < len('upolanc-thesis') :\n",
    "\t\tif   platform.system() == 'Linux' :\n",
    "\t\t\tROOT = '/d/hpc/home/up4472/workspace/upolanc-thesis'\n",
    "\t\telif platform.system() == 'Windows' :\n",
    "\t\t\tROOT = 'C:\\\\Developer\\\\Workspace\\\\PyCharm\\\\Projects\\\\upolanc-thesis'\n",
    "\t\telse :\n",
    "\t\t\traise ValueError()\n",
    "\n",
    "\t\tprint(f'Warning : could not find correct directory, using default : {ROOT}')\n",
    "\t\tbreak\n",
    "\n",
    "if ROOT not in sys.path :\n",
    "\tsys.path.append(ROOT)\n",
    "\n",
    "os.chdir(ROOT)"
   ]
  },
  {
   "cell_type": "code",
   "execution_count": 3,
   "id": "8655f888-e21b-4f0e-bebe-ae1e06bf72f9",
   "metadata": {
    "execution": {
     "iopub.execute_input": "2023-06-02T18:28:11.723552Z",
     "iopub.status.busy": "2023-06-02T18:28:11.723552Z",
     "iopub.status.idle": "2023-06-02T18:28:16.019735Z",
     "shell.execute_reply": "2023-06-02T18:28:16.018734Z",
     "shell.execute_reply.started": "2023-06-02T18:28:11.723552Z"
    },
    "tags": []
   },
   "outputs": [
    {
     "name": "stderr",
     "output_type": "stream",
     "text": [
      "2023-06-02 18:28:13,726\tINFO worker.py:1538 -- Started a local Ray instance.\n"
     ]
    }
   ],
   "source": [
    "# Tuner\n",
    "\n",
    "ray.init(include_dashboard = False)\n",
    "\n",
    "from ray.tune import choice\n",
    "from ray.tune import uniform\n",
    "from ray.tune import loguniform\n",
    "from ray.tune import randint"
   ]
  },
  {
   "cell_type": "code",
   "execution_count": 4,
   "id": "53cad32c-4de4-412f-a1e9-9e48a8f77213",
   "metadata": {
    "execution": {
     "iopub.execute_input": "2023-06-02T18:28:16.021236Z",
     "iopub.status.busy": "2023-06-02T18:28:16.020736Z",
     "iopub.status.idle": "2023-06-02T18:28:17.602091Z",
     "shell.execute_reply": "2023-06-02T18:28:17.601090Z",
     "shell.execute_reply.started": "2023-06-02T18:28:16.021236Z"
    },
    "tags": []
   },
   "outputs": [],
   "source": [
    "# Code\n",
    "\n",
    "from source.python.dataset import dataset_utils\n",
    "from source.python.raytune import raytune_model\n",
    "from source.python.raytune import raytune_plot\n",
    "from source.python.raytune import raytune_utils\n",
    "from source.python.io      import loader\n",
    "from source.python         import runtime\n",
    "\n",
    "runtime.set_numpy_format()\n",
    "runtime.set_pandas_format()\n",
    "runtime.set_plot_theme()"
   ]
  },
  {
   "cell_type": "markdown",
   "id": "d50a8f4a-ddce-4960-a822-3f612701ff0d",
   "metadata": {},
   "source": [
    "# 1. Setup"
   ]
  },
  {
   "cell_type": "code",
   "execution_count": 5,
   "id": "cfbe5643-6b5b-4bb7-a84e-c1ec9ce656c1",
   "metadata": {
    "execution": {
     "iopub.execute_input": "2023-06-02T18:28:17.604593Z",
     "iopub.status.busy": "2023-06-02T18:28:17.603592Z",
     "iopub.status.idle": "2023-06-02T18:28:17.617105Z",
     "shell.execute_reply": "2023-06-02T18:28:17.616604Z",
     "shell.execute_reply.started": "2023-06-02T18:28:17.604593Z"
    },
    "tags": []
   },
   "outputs": [],
   "source": [
    "# Define output and inputs\n",
    "\n",
    "MODEL_NAME       = 'zrimec2020'\n",
    "MODEL_TYPE       = 'r'\n",
    "MODEL_MODE       = None\n",
    "MODEL_PARAMS     = None\n",
    "MODEL_EPOCHS     = 10\n",
    "\n",
    "TARGET_GROUP     = 'global'\n",
    "TARGET_TYPE      = 'mean'\n",
    "TARGET_EXPLODE   = False\n",
    "TARGET_FILTER    = None\n",
    "\n",
    "TUNER_CONCURRENT = 1\n",
    "TUNER_TRIALS     = 5\n",
    "TUNER_GRACE      = 5\n",
    "TUNER_NOTEBOOK   = True\n",
    "\n",
    "FILTER_ID        = 1\n",
    "PARAM_SHARE      = True\n",
    "GENERATOR        = 'group'\n",
    "FEATURES         = True\n",
    "\n",
    "SEQUENCE_END     = None\n",
    "SEQUENCE_START   = None"
   ]
  },
  {
   "cell_type": "code",
   "execution_count": 6,
   "id": "89614f5c-6526-45f2-a2ee-113428cbe7f6",
   "metadata": {
    "execution": {
     "iopub.execute_input": "2023-06-02T18:28:17.618605Z",
     "iopub.status.busy": "2023-06-02T18:28:17.618105Z",
     "iopub.status.idle": "2023-06-02T18:28:17.632618Z",
     "shell.execute_reply": "2023-06-02T18:28:17.632117Z",
     "shell.execute_reply.started": "2023-06-02T18:28:17.618605Z"
    },
    "tags": []
   },
   "outputs": [
    {
     "name": "stdout",
     "output_type": "stream",
     "text": [
      "Running as .ipynb\n",
      "\n"
     ]
    }
   ],
   "source": [
    "# Check for args\n",
    "\n",
    "if __name__ == '__main__' and 'get_ipython' in dir() :\n",
    "\tprint('Running as .ipynb')\n",
    "\tprint()\n",
    "\n",
    "if __name__ == '__main__' and 'get_ipython' not in dir() :\n",
    "\tprint('Running as .py')\n",
    "\tprint()\n",
    "\n",
    "\tparser = argparse.ArgumentParser()\n",
    "\n",
    "\tstr_of_bool = lambda x : True if x == 'true' else False\n",
    "\tstr_or_none = lambda x : None if x == 'none' else str(x)\n",
    "\tint_or_none = lambda x : None if x == 'none' else int(x)\n",
    "\n",
    "\t_target_groups    = ['tissue', 'group', 'age', 'global', 'perturbation']\n",
    "\t_target_types     = ['mean', 'max']\n",
    "\t_model_names      = ['washburn2019', 'zrimec2020']\n",
    "\t_model_types      = ['r', 'c']\n",
    "\t_split_generators = ['stratified', 'group', 'random']\n",
    "\n",
    "\tparser.add_argument('--target_group',     type = str,         default = 'global',     choices = _target_groups)\n",
    "\tparser.add_argument('--target_type',      type = str,         default = 'mean',       choices = _target_types)\n",
    "\tparser.add_argument('--model_name',       type = str,         default = 'zrimec2020', choices = _model_names)\n",
    "\tparser.add_argument('--model_type',       type = str,         default = 'r',          choices = _model_types)\n",
    "\tparser.add_argument('--target_explode',   type = str_of_bool, default = False)\n",
    "\tparser.add_argument('--target_filter',    type = str_or_none, default = None)\n",
    "\tparser.add_argument('--model_epochs',     type = int,         default = 500)\n",
    "\tparser.add_argument('--tuner_concurrent', type = int,         default = 5)\n",
    "\tparser.add_argument('--tuner_trials',     type = int,         default = 250)\n",
    "\tparser.add_argument('--tuner_grace',      type = int,         default = 10)\n",
    "\tparser.add_argument('--param_share',      type = str_of_bool, default = False)\n",
    "\tparser.add_argument('--filter_id',        type = int,         default = 0)\n",
    "\tparser.add_argument('--generator',        type = str,         default = 'group',      choices = _split_generators)\n",
    "\tparser.add_argument('--features',         type = str_of_bool, default = False)\n",
    "\tparser.add_argument('--sequence_start',   type = int_or_none, default = None)\n",
    "\tparser.add_argument('--sequence_end',     type = int_or_none, default = None)\n",
    "\n",
    "\targs = vars(parser.parse_args())\n",
    "\n",
    "\tTARGET_GROUP     = args['target_group']\n",
    "\tTARGET_TYPE      = args['target_type']\n",
    "\tTARGET_EXPLODE   = args['target_explode']\n",
    "\tTARGET_FILTER    = args['target_filter']\n",
    "\tMODEL_NAME       = args['model_name']\n",
    "\tMODEL_TYPE       = args['model_type']\n",
    "\tMODEL_EPOCHS     = args['model_epochs']\n",
    "\tTUNER_CONCURRENT = args['tuner_concurrent']\n",
    "\tTUNER_TRIALS     = args['tuner_trials']\n",
    "\tTUNER_GRACE      = args['tuner_grace']\n",
    "\tPARAM_SHARE      = args['param_share']\n",
    "\tFILTER_ID        = args['filter_id']\n",
    "\tGENERATOR        = args['generator']\n",
    "\tFEATURES         = args['features']\n",
    "\tSEQUENCE_START   = args['sequence_start']\n",
    "\tSEQUENCE_END     = args['sequence_end']\n",
    "\n",
    "\tTUNER_NOTEBOOK   = False\n",
    "\n",
    "if TARGET_GROUP == 'global' :\n",
    "\tTARGET_EXPLODE = False\n",
    "\n",
    "if MODEL_TYPE == 'r' : MODEL_MODE = 'regression'\n",
    "if MODEL_TYPE == 'c' : MODEL_MODE = 'classification'"
   ]
  },
  {
   "cell_type": "code",
   "execution_count": 7,
   "id": "7d9d420a-cde8-46cb-be15-1f99347d9bdd",
   "metadata": {
    "execution": {
     "iopub.execute_input": "2023-06-02T18:28:17.635620Z",
     "iopub.status.busy": "2023-06-02T18:28:17.635120Z",
     "iopub.status.idle": "2023-06-02T18:28:17.772237Z",
     "shell.execute_reply": "2023-06-02T18:28:17.771737Z",
     "shell.execute_reply.started": "2023-06-02T18:28:17.635620Z"
    },
    "tags": []
   },
   "outputs": [
    {
     "name": "stdout",
     "output_type": "stream",
     "text": [
      "     Root Directory : C:\\Developer\\Workspace\\PyCharm\\Projects\\upolanc-thesis\n",
      "   Output Directory : C:\\Developer\\Workspace\\PyCharm\\Projects\\upolanc-thesis\\output\\nbp06-tuner\\model\\filter1\\zrimec\n",
      "   Output Directory : C:\\Developer\\Workspace\\PyCharm\\Projects\\upolanc-thesis\\output\\nbp06-tuner\\model\\filter1\\zrimec\\plot\n",
      " Resource Directory : C:\\Developer\\Workspace\\PyCharm\\Projects\\upolanc-thesis\\resources\\tuner\n",
      " Resource Directory : C:\\Developer\\Workspace\\PyCharm\\Projects\\upolanc-thesis\\output\\nbp04-feature\\filter1\n",
      " Resource Directory : C:\\Developer\\Workspace\\PyCharm\\Projects\\upolanc-thesis\\output\\nbp05-target\\filter1\n",
      "\n"
     ]
    }
   ],
   "source": [
    "# Setup some directory paths.\n",
    "\n",
    "SUBFOLDER = 'filter' + str(FILTER_ID)\n",
    "\n",
    "CWD = ROOT\n",
    "OUT = os.path.join(CWD, 'output')\n",
    "RES = os.path.join(CWD, 'resources')\n",
    "\n",
    "OUT_DATA  = os.path.join(OUT,      'nbp06-tuner', 'model', SUBFOLDER, MODEL_NAME[:-4])\n",
    "OUT_PLOT  = os.path.join(OUT_DATA, 'plot')\n",
    "RES_TUNER = os.path.join(RES,      'tuner')\n",
    "RES_NBP04 = os.path.join(OUT,      'nbp04-feature', SUBFOLDER)\n",
    "RES_NBP05 = os.path.join(OUT,      'nbp05-target',  SUBFOLDER)\n",
    "\n",
    "shutil.rmtree(OUT_DATA, ignore_errors = True)\n",
    "\n",
    "os.makedirs(OUT_DATA, exist_ok = True)\n",
    "os.makedirs(OUT_PLOT, exist_ok = True)\n",
    "\n",
    "print(f'     Root Directory : {CWD}')\n",
    "print(f'   Output Directory : {OUT_DATA}')\n",
    "print(f'   Output Directory : {OUT_PLOT}')\n",
    "print(f' Resource Directory : {RES_TUNER}')\n",
    "print(f' Resource Directory : {RES_NBP04}')\n",
    "print(f' Resource Directory : {RES_NBP05}')\n",
    "print()"
   ]
  },
  {
   "cell_type": "code",
   "execution_count": 8,
   "id": "a7f1d561-e60e-44ea-9ffc-60f3bc53c1c4",
   "metadata": {
    "execution": {
     "iopub.execute_input": "2023-06-02T18:28:17.773238Z",
     "iopub.status.busy": "2023-06-02T18:28:17.773238Z",
     "iopub.status.idle": "2023-06-02T18:28:17.819277Z",
     "shell.execute_reply": "2023-06-02T18:28:17.818277Z",
     "shell.execute_reply.started": "2023-06-02T18:28:17.773238Z"
    },
    "tags": []
   },
   "outputs": [
    {
     "name": "stdout",
     "output_type": "stream",
     "text": [
      "platform/python           : 3.10.7\n",
      "platform/system           : Windows\n",
      "platform/release          : 10\n",
      "platform/version          : 10.0.19044\n",
      "platform/cpu/name         : N/A\n",
      "platform/cpu/count        : 12\n",
      "platform/gpu/name         : NVIDIA GeForce RTX 3060 Ti\n",
      "platform/gpu/available    : True\n",
      "platform/gpu/count        : 1\n",
      "platform/memory/total     : 31.924 GB\n",
      "platform/memory/available : 16.166 GB\n",
      "\n"
     ]
    }
   ],
   "source": [
    "# System and device\n",
    "\n",
    "DEVICE = runtime.get_device(only_cpu = False)\n",
    "SYSTEM = runtime.get_system_info()\n",
    "\n",
    "for key, value in SYSTEM.items() :\n",
    "\tprint('{:25s} : {}'.format(key, value))\n",
    "\n",
    "print()"
   ]
  },
  {
   "cell_type": "code",
   "execution_count": 9,
   "id": "d254fe75-06de-4b51-88ab-e6af1f5af769",
   "metadata": {
    "execution": {
     "iopub.execute_input": "2023-06-02T18:28:17.820278Z",
     "iopub.status.busy": "2023-06-02T18:28:17.820278Z",
     "iopub.status.idle": "2023-06-02T18:28:25.420293Z",
     "shell.execute_reply": "2023-06-02T18:28:25.419793Z",
     "shell.execute_reply.started": "2023-06-02T18:28:17.820278Z"
    },
    "tags": []
   },
   "outputs": [],
   "source": [
    "# Load the input transcript features\n",
    "\n",
    "sequence_2150 = loader.load_fasta(\n",
    "\tfilename  = os.path.join(RES_NBP04, 'sequences-2150-keep.fasta'),\n",
    "\tto_string = True\n",
    ")\n",
    "\n",
    "feature_base = loader.load_npz(\n",
    "\tfilename = os.path.join(RES_NBP04, 'features-base-keep.npz')\n",
    ")"
   ]
  },
  {
   "cell_type": "markdown",
   "id": "de314874-ff3f-43c1-bb0a-919f2d63e775",
   "metadata": {},
   "source": [
    "# 2. Tuner"
   ]
  },
  {
   "cell_type": "code",
   "execution_count": 10,
   "id": "7df5b6e1-2eb9-4c84-a31b-418ccbfd4766",
   "metadata": {
    "execution": {
     "iopub.execute_input": "2023-06-02T18:28:25.421294Z",
     "iopub.status.busy": "2023-06-02T18:28:25.421294Z",
     "iopub.status.idle": "2023-06-02T18:28:25.435806Z",
     "shell.execute_reply": "2023-06-02T18:28:25.435306Z",
     "shell.execute_reply.started": "2023-06-02T18:28:25.421294Z"
    },
    "tags": []
   },
   "outputs": [],
   "source": [
    "# Define basic data parameters\n",
    "\n",
    "CONFIG = {\n",
    "\t'core/device'             : DEVICE,\n",
    "\t'core/outdir'             : OUT_DATA,\n",
    "\t'core/random'             : None,\n",
    "\t'core/rootdir'            : ROOT,\n",
    "\t'core/subfolder'          : SUBFOLDER,\n",
    "\t'dataset/expanddim'       : None,\n",
    "\t'dataset/filepath'        : os.path.join(OUT_DATA, 'dataset.pkl'),\n",
    "\t'dataset/sequence/start'  : SEQUENCE_START,\n",
    "\t'dataset/sequence/end'    : SEQUENCE_END,\n",
    "\t'dataset/split/generator' : GENERATOR,\n",
    "\t'dataset/split/test'      : 0.2,\n",
    "\t'dataset/split/valid'     : 0.2,\n",
    "\t'model/epochs'            : MODEL_EPOCHS,\n",
    "\t'model/features'          : FEATURES,\n",
    "\t'model/input/channels'    : 1,\n",
    "\t'model/input/features'    : None,\n",
    "\t'model/input/height'      : 4,\n",
    "\t'model/input/width'       : 2150,\n",
    "\t'model/mode'              : MODEL_MODE,\n",
    "\t'model/name'              : MODEL_NAME,\n",
    "\t'model/output/explode'    : TARGET_EXPLODE,\n",
    "\t'model/output/filter'     : TARGET_FILTER,\n",
    "\t'model/output/heads'      : None,\n",
    "\t'model/output/size'       : None,\n",
    "\t'model/output/target'     : TARGET_GROUP,\n",
    "\t'model/output/type'       : TARGET_TYPE,\n",
    "\t'model/type'              : MODEL_NAME + MODEL_TYPE,\n",
    "\t'params/filepath'         : RES_TUNER,\n",
    "\t'params/share'            : PARAM_SHARE,\n",
    "\t'params/tuner'            : None,\n",
    "\t'plot/trials'             : 3,\n",
    "\t'tuner/checkpoint'        : False,\n",
    "\t'tuner/max_concurrent'    : TUNER_CONCURRENT,\n",
    "\t'tuner/max_epochs'        : MODEL_EPOCHS,\n",
    "\t'tuner/min_epochs'        : TUNER_GRACE,\n",
    "\t'tuner/reporter/freq'     : 30,\n",
    "\t'tuner/reporter/notebook' : TUNER_NOTEBOOK,\n",
    "\t'tuner/stopper'           : True,\n",
    "\t'tuner/stopper/days'      : 3,\n",
    "\t'tuner/stopper/hours'     : 22,\n",
    "\t'tuner/stopper/minutes'   : 0,\n",
    "\t'tuner/trials'            : TUNER_TRIALS\n",
    "}\n",
    "\n",
    "CONFIG['core/random'] = runtime.lock_random(\n",
    "\tseed     = CONFIG['core/random'],\n",
    "\tgenerate = True\n",
    ")\n",
    "\n",
    "if CONFIG['model/name'].startswith('washburn2019') :\n",
    "\tCONFIG['dataset/expanddim'] = 0"
   ]
  },
  {
   "cell_type": "code",
   "execution_count": 11,
   "id": "4fe4b9b5-4ee7-4b12-a0b8-ab7e037214c0",
   "metadata": {
    "execution": {
     "iopub.execute_input": "2023-06-02T18:28:25.436808Z",
     "iopub.status.busy": "2023-06-02T18:28:25.436808Z",
     "iopub.status.idle": "2023-06-02T18:28:25.451320Z",
     "shell.execute_reply": "2023-06-02T18:28:25.450819Z",
     "shell.execute_reply.started": "2023-06-02T18:28:25.436808Z"
    },
    "tags": []
   },
   "outputs": [
    {
     "name": "stdout",
     "output_type": "stream",
     "text": [
      "Model Name      : zrimec2020\n",
      "Model Type      : zrimec2020r\n",
      "Model Mode      : regression\n",
      "Use Features    : True\n",
      "Split Generator : group\n",
      "Random Seed     : 693151700\n",
      "\n"
     ]
    }
   ],
   "source": [
    "# Prints\n",
    "\n",
    "print('Model Name      : {}'.format(CONFIG['model/name']))\n",
    "print('Model Type      : {}'.format(CONFIG['model/type']))\n",
    "print('Model Mode      : {}'.format(CONFIG['model/mode']))\n",
    "print('Use Features    : {}'.format(CONFIG['model/features']))\n",
    "print('Split Generator : {}'.format(CONFIG['dataset/split/generator']))\n",
    "print('Random Seed     : {}'.format(CONFIG['core/random']))\n",
    "print()"
   ]
  },
  {
   "cell_type": "markdown",
   "id": "2037535d-fbdf-4ff8-bc83-1cd1032b9896",
   "metadata": {},
   "source": [
    "# 3. Dataset"
   ]
  },
  {
   "cell_type": "code",
   "execution_count": 12,
   "id": "23b8c10a-64d7-47ba-b0e3-ac60ab6c985a",
   "metadata": {
    "execution": {
     "iopub.execute_input": "2023-06-02T18:28:25.452321Z",
     "iopub.status.busy": "2023-06-02T18:28:25.452321Z",
     "iopub.status.idle": "2023-06-02T18:28:41.446030Z",
     "shell.execute_reply": "2023-06-02T18:28:41.445029Z",
     "shell.execute_reply.started": "2023-06-02T18:28:25.452321Z"
    },
    "tags": []
   },
   "outputs": [],
   "source": [
    "# Create dataset\n",
    "\n",
    "dataset = dataset_utils.get_dataset(\n",
    "\tconfig    = CONFIG,\n",
    "\tsequence  = sequence_2150,\n",
    "\tfeature   = feature_base,\n",
    "\tdirectory = RES_NBP05,\n",
    "\tcached    = None,\n",
    "\tstart     = SEQUENCE_START,\n",
    "\tend       = SEQUENCE_END,\n",
    "\tfilename  = 'mapping-grouped-keep.pkl'\n",
    ")[0]"
   ]
  },
  {
   "cell_type": "code",
   "execution_count": 13,
   "id": "915d2f9a-ba40-49f0-af26-123b7543926b",
   "metadata": {
    "execution": {
     "iopub.execute_input": "2023-06-02T18:28:41.447531Z",
     "iopub.status.busy": "2023-06-02T18:28:41.447031Z",
     "iopub.status.idle": "2023-06-02T18:30:28.651925Z",
     "shell.execute_reply": "2023-06-02T18:30:28.650924Z",
     "shell.execute_reply.started": "2023-06-02T18:28:41.447531Z"
    },
    "tags": []
   },
   "outputs": [],
   "source": [
    "# Save dataset\n",
    "\n",
    "torch.save(dataset, CONFIG['dataset/filepath'])"
   ]
  },
  {
   "cell_type": "code",
   "execution_count": 14,
   "id": "e02437ca-1eab-44f8-9fc7-5b192b48491f",
   "metadata": {
    "execution": {
     "iopub.execute_input": "2023-06-02T18:30:28.652926Z",
     "iopub.status.busy": "2023-06-02T18:30:28.652426Z",
     "iopub.status.idle": "2023-06-02T18:30:28.667438Z",
     "shell.execute_reply": "2023-06-02T18:30:28.666437Z",
     "shell.execute_reply.started": "2023-06-02T18:30:28.652926Z"
    },
    "tags": []
   },
   "outputs": [
    {
     "name": "stdout",
     "output_type": "stream",
     "text": [
      "Dataset Filepath : C:\\Developer\\Workspace\\PyCharm\\Projects\\upolanc-thesis\\output\\nbp06-tuner\\model\\filter1\\zrimec\\dataset.pkl\n",
      "Input Features   : 72\n",
      "Output Size      : 1\n",
      "Output Heads     : None\n",
      "\n"
     ]
    }
   ],
   "source": [
    "# Assert all is set\n",
    "\n",
    "if CONFIG['dataset/filepath']     is None : raise AssertionError('dataset/filepath')\n",
    "if CONFIG['model/input/features'] is None : raise AssertionError('model/input/features')\n",
    "if CONFIG['model/output/size']    is None : raise AssertionError('model/output/size')\n",
    "\n",
    "print('Dataset Filepath : {}'.format(CONFIG['dataset/filepath']))\n",
    "print('Input Features   : {}'.format(CONFIG['model/input/features']))\n",
    "print('Output Size      : {}'.format(CONFIG['model/output/size']))\n",
    "print('Output Heads     : {}'.format(CONFIG['model/output/heads']))\n",
    "print()"
   ]
  },
  {
   "cell_type": "markdown",
   "id": "e17b18d9-cccb-4763-8391-2567b75c3fbb",
   "metadata": {
    "tags": []
   },
   "source": [
    "# 4. Search Space"
   ]
  },
  {
   "cell_type": "code",
   "execution_count": 15,
   "id": "e14f73b3-6854-4fa0-a497-50d7fde4391d",
   "metadata": {
    "execution": {
     "iopub.execute_input": "2023-06-02T18:30:28.668940Z",
     "iopub.status.busy": "2023-06-02T18:30:28.668439Z",
     "iopub.status.idle": "2023-06-02T18:30:28.683452Z",
     "shell.execute_reply": "2023-06-02T18:30:28.681951Z",
     "shell.execute_reply.started": "2023-06-02T18:30:28.668940Z"
    },
    "tags": []
   },
   "outputs": [],
   "source": [
    "# Define optimizer parameters\n",
    "\n",
    "optimizer_name     = 'adam'\n",
    "optimizer_lr       = loguniform(1e-6, 1e-3)\n",
    "optimizer_decay    = uniform(0.000, 0.100)\n",
    "optimizer_beta1    = uniform(0.600, 0.950)\n",
    "optimizer_beta2    = uniform(0.950, 0.999)"
   ]
  },
  {
   "cell_type": "code",
   "execution_count": 16,
   "id": "dd4332b9-3ced-4899-86a6-df0425063255",
   "metadata": {
    "execution": {
     "iopub.execute_input": "2023-06-02T18:30:28.684453Z",
     "iopub.status.busy": "2023-06-02T18:30:28.684453Z",
     "iopub.status.idle": "2023-06-02T18:30:28.698465Z",
     "shell.execute_reply": "2023-06-02T18:30:28.697464Z",
     "shell.execute_reply.started": "2023-06-02T18:30:28.684453Z"
    },
    "tags": []
   },
   "outputs": [],
   "source": [
    "# Define scheduler parameters\n",
    "\n",
    "scheduler_name       = 'exponential'\n",
    "scheduler_exp_factor = uniform(0.900, 0.995)"
   ]
  },
  {
   "cell_type": "code",
   "execution_count": 17,
   "id": "5553f82c-556a-4892-afa4-47aa46384c22",
   "metadata": {
    "execution": {
     "iopub.execute_input": "2023-06-02T18:30:28.699966Z",
     "iopub.status.busy": "2023-06-02T18:30:28.699465Z",
     "iopub.status.idle": "2023-06-02T18:30:28.713478Z",
     "shell.execute_reply": "2023-06-02T18:30:28.712977Z",
     "shell.execute_reply.started": "2023-06-02T18:30:28.699966Z"
    }
   },
   "outputs": [],
   "source": [
    "# Define criterion parameters\n",
    "\n",
    "criterion_name      = 'mse'\n",
    "criterion_reduction = 'mean'"
   ]
  },
  {
   "cell_type": "code",
   "execution_count": 18,
   "id": "a5a3581a-5246-4b79-9e8f-8357a42f5793",
   "metadata": {
    "execution": {
     "iopub.execute_input": "2023-06-02T18:30:28.714979Z",
     "iopub.status.busy": "2023-06-02T18:30:28.714478Z",
     "iopub.status.idle": "2023-06-02T18:30:28.760018Z",
     "shell.execute_reply": "2023-06-02T18:30:28.759517Z",
     "shell.execute_reply.started": "2023-06-02T18:30:28.714979Z"
    },
    "tags": []
   },
   "outputs": [],
   "source": [
    "# Define model parameters\n",
    "\n",
    "model_dropout   = uniform(0.0, 0.5)\n",
    "model_leakyrelu = uniform(0.0, 0.1)\n",
    "\n",
    "conv1_kernels  = [3, 5, 9, 11, 21]\n",
    "conv1_filters  = [32, 64, 128, 256]\n",
    "conv1_padding  = ['same']\n",
    "conv1_dilation = [1]\n",
    "\n",
    "convx_kernels  = [3, 5, 9, 11, 21, 31]\n",
    "convx_filters  = [32, 64, 128, 256]\n",
    "convx_padding  = ['same']\n",
    "convx_dilation = [1, 2, 4]\n",
    "\n",
    "poolx_kernels  = [3, 5]\n",
    "poolx_padding  = ['same']\n",
    "\n",
    "fc1_features = [64, 128, 256, 512]\n",
    "fcx_features = [64, 128, 256, 512]"
   ]
  },
  {
   "cell_type": "code",
   "execution_count": 19,
   "id": "0a2fc685-9803-4596-8fde-d0678ed7604b",
   "metadata": {
    "execution": {
     "iopub.execute_input": "2023-06-02T18:30:28.761519Z",
     "iopub.status.busy": "2023-06-02T18:30:28.761019Z",
     "iopub.status.idle": "2023-06-02T18:30:28.775531Z",
     "shell.execute_reply": "2023-06-02T18:30:28.775030Z",
     "shell.execute_reply.started": "2023-06-02T18:30:28.761519Z"
    },
    "tags": []
   },
   "outputs": [],
   "source": [
    "# Define search space\n",
    "\n",
    "param_space = dict()\n",
    "\n",
    "# Dataset\n",
    "param_space['dataset/batch_size'] = choice([32, 64, 128])\n",
    "\n",
    "# Optimizer\n",
    "param_space['optimizer/name']  = optimizer_name\n",
    "param_space['optimizer/lr']    = optimizer_lr\n",
    "param_space['optimizer/decay'] = optimizer_decay\n",
    "param_space['optimizer/beta1'] = optimizer_beta1\n",
    "param_space['optimizer/beta2'] = optimizer_beta2\n",
    "\n",
    "# Criterion\n",
    "param_space['criterion/name']      = criterion_name\n",
    "param_space['criterion/reduction'] = criterion_reduction\n",
    "\n",
    "# Scheduler\n",
    "param_space['scheduler/name']               = scheduler_name\n",
    "param_space['scheduler/exponential/factor'] = scheduler_exp_factor\n",
    "\n",
    "# Model\n",
    "param_space['model/dropout']   = model_dropout\n",
    "param_space['model/leakyrelu'] = model_leakyrelu\n",
    "\n",
    "# Convolution\n",
    "param_space['model/conv1/filters']  = choice(conv1_filters)\n",
    "param_space['model/conv1/kernel']   = choice(conv1_kernels)\n",
    "param_space['model/conv1/padding']  = choice(conv1_padding)\n",
    "param_space['model/conv1/dilation'] = choice(conv1_dilation)\n",
    "\n",
    "if CONFIG['params/share'] :\n",
    "\tparam_space['model/convx/filters']  = choice(convx_filters)\n",
    "\tparam_space['model/convx/kernel']   = choice(convx_kernels)\n",
    "\tparam_space['model/convx/padding']  = choice(convx_padding)\n",
    "\tparam_space['model/convx/dilation'] = choice(convx_dilation)\n",
    "\n",
    "\tparam_space['model/maxpoolx/kernel']  = choice(poolx_kernels)\n",
    "\tparam_space['model/maxpoolx/padding'] = choice(poolx_padding)\n",
    "else :\n",
    "\tparam_space['model/conv2/filters']  = choice(convx_filters)\n",
    "\tparam_space['model/conv2/kernel']   = choice(convx_kernels)\n",
    "\tparam_space['model/conv2/padding']  = choice(convx_padding)\n",
    "\tparam_space['model/conv2/dilation'] = choice(convx_dilation)\n",
    "\tparam_space['model/conv3/filters']  = choice(convx_filters)\n",
    "\tparam_space['model/conv3/kernel']   = choice(convx_kernels)\n",
    "\tparam_space['model/conv3/padding']  = choice(convx_padding)\n",
    "\tparam_space['model/conv3/dilation'] = choice(convx_dilation)\n",
    "\n",
    "\tif CONFIG['model/name'].startswith('washburn2019') :\n",
    "\t\tparam_space['model/conv4/filters']  = choice(convx_filters)\n",
    "\t\tparam_space['model/conv4/kernel']   = choice(convx_kernels)\n",
    "\t\tparam_space['model/conv4/padding']  = choice(convx_padding)\n",
    "\t\tparam_space['model/conv4/dilation'] = choice(convx_dilation)\n",
    "\t\tparam_space['model/conv5/filters']  = choice(convx_filters)\n",
    "\t\tparam_space['model/conv5/kernel']   = choice(convx_kernels)\n",
    "\t\tparam_space['model/conv5/padding']  = choice(convx_padding)\n",
    "\t\tparam_space['model/conv5/dilation'] = choice(convx_dilation)\n",
    "\t\tparam_space['model/conv6/filters']  = choice(convx_filters)\n",
    "\t\tparam_space['model/conv6/kernel']   = choice(convx_kernels)\n",
    "\t\tparam_space['model/conv6/padding']  = choice(convx_padding)\n",
    "\t\tparam_space['model/conv6/dilation'] = choice(convx_dilation)\n",
    "\n",
    "\t# Pooling\n",
    "\tparam_space['model/maxpool1/kernel']  = choice(poolx_kernels)\n",
    "\tparam_space['model/maxpool1/padding'] = choice(poolx_padding)\n",
    "\tparam_space['model/maxpool2/kernel']  = choice(poolx_kernels)\n",
    "\tparam_space['model/maxpool2/padding'] = choice(poolx_padding)\n",
    "\tparam_space['model/maxpool3/kernel']  = choice(poolx_kernels)\n",
    "\tparam_space['model/maxpool3/padding'] = choice(poolx_padding)\n",
    "\n",
    "# Linear\n",
    "param_space['model/fc1/features'] = choice(fc1_features)\n",
    "param_space['model/fc2/features'] = choice(fcx_features)"
   ]
  },
  {
   "cell_type": "code",
   "execution_count": 20,
   "id": "665a0c20-95b3-4acd-ba9c-801dbd8ec72e",
   "metadata": {
    "execution": {
     "iopub.execute_input": "2023-06-02T18:30:28.777032Z",
     "iopub.status.busy": "2023-06-02T18:30:28.776532Z",
     "iopub.status.idle": "2023-06-02T18:30:28.793546Z",
     "shell.execute_reply": "2023-06-02T18:30:28.790544Z",
     "shell.execute_reply.started": "2023-06-02T18:30:28.777032Z"
    },
    "tags": []
   },
   "outputs": [],
   "source": [
    "# Define starting parameters for algorithm (some decent starting point from previous runs)\n",
    "\n",
    "params_initial = None\n",
    "\n",
    "if not CONFIG['params/share'] and CONFIG['model/type'].startswith('zrimec2020r') :\n",
    "\tfilename = os.path.join(RES_TUNER, 'zrimec2020.json')\n",
    "\n",
    "\tif os.path.exists(filename) :\n",
    "\t\tparams_initial = loader.load_json(filename = filename)\n",
    "\n",
    "if not CONFIG['params/share'] and CONFIG['model/type'].startswith('washburn2019r') :\n",
    "\tfilename = os.path.join(RES_TUNER, 'washburn2019.json')\n",
    "\n",
    "\tif os.path.exists(filename) :\n",
    "\t\tparams_initial = loader.load_json(filename = filename)"
   ]
  },
  {
   "cell_type": "markdown",
   "id": "08b64877-eb4c-4147-9c5f-d9ed43be320a",
   "metadata": {},
   "source": [
    "# 5. Tuning"
   ]
  },
  {
   "cell_type": "code",
   "execution_count": 21,
   "id": "67afe19c-bcd1-4200-8d26-182840a42168",
   "metadata": {
    "execution": {
     "iopub.execute_input": "2023-06-02T18:30:28.795048Z",
     "iopub.status.busy": "2023-06-02T18:30:28.794547Z",
     "iopub.status.idle": "2023-06-02T18:30:28.806558Z",
     "shell.execute_reply": "2023-06-02T18:30:28.806057Z",
     "shell.execute_reply.started": "2023-06-02T18:30:28.795048Z"
    },
    "tags": []
   },
   "outputs": [
    {
     "data": {
      "text/html": [
       "<div class=\"tuneStatus\">\n",
       "  <div style=\"display: flex;flex-direction: row\">\n",
       "    <div style=\"display: flex;flex-direction: column;\">\n",
       "      <h3>Tune Status</h3>\n",
       "      <table>\n",
       "<tbody>\n",
       "<tr><td>Current time:</td><td>2023-06-02 19:00:59</td></tr>\n",
       "<tr><td>Running for: </td><td>00:30:30.46        </td></tr>\n",
       "<tr><td>Memory:      </td><td>21.7/31.9 GiB      </td></tr>\n",
       "</tbody>\n",
       "</table>\n",
       "    </div>\n",
       "    <div class=\"vDivider\"></div>\n",
       "    <div class=\"systemInfo\">\n",
       "      <h3>System Info</h3>\n",
       "      Using AsyncHyperBand: num_stopped=5<br>Bracket: Iter 5.000: -7.9435634658352425<br>Resources requested: 0/12 CPUs, 0/1 GPUs, 0.0/10.23 GiB heap, 0.0/5.11 GiB objects\n",
       "    </div>\n",
       "    \n",
       "  </div>\n",
       "  <div class=\"hDivider\"></div>\n",
       "  <div class=\"trialStatus\">\n",
       "    <h3>Trial Status</h3>\n",
       "    <table>\n",
       "<thead>\n",
       "<tr><th>Trial name  </th><th>status    </th><th>loc            </th><th style=\"text-align: right;\">  dataset/batch_size</th><th>optimizer/name  </th><th>scheduler/name  </th><th style=\"text-align: right;\">  train_loss</th><th style=\"text-align: right;\">  train_r2</th><th style=\"text-align: right;\">  train_mae</th><th style=\"text-align: right;\">  valid_loss</th><th style=\"text-align: right;\">  valid_r2</th><th style=\"text-align: right;\">  valid_mae</th></tr>\n",
       "</thead>\n",
       "<tbody>\n",
       "<tr><td>1091758d    </td><td>TERMINATED</td><td>127.0.0.1:3016 </td><td style=\"text-align: right;\">                 128</td><td>adam            </td><td>exponential     </td><td style=\"text-align: right;\">    0.902391</td><td style=\"text-align: right;\">-0.0539733</td><td style=\"text-align: right;\">   0.781009</td><td style=\"text-align: right;\">     2.21707</td><td style=\"text-align: right;\">  -1.56393</td><td style=\"text-align: right;\">    1.23452</td></tr>\n",
       "<tr><td>26c548c1    </td><td>TERMINATED</td><td>127.0.0.1:13352</td><td style=\"text-align: right;\">                  32</td><td>adam            </td><td>exponential     </td><td style=\"text-align: right;\">    1.43922 </td><td style=\"text-align: right;\">-0.752965 </td><td style=\"text-align: right;\">   0.963952</td><td style=\"text-align: right;\">     7.94356</td><td style=\"text-align: right;\">  -8.7103 </td><td style=\"text-align: right;\">    2.62959</td></tr>\n",
       "<tr><td>f796b7b4    </td><td>TERMINATED</td><td>127.0.0.1:9176 </td><td style=\"text-align: right;\">                  32</td><td>adam            </td><td>exponential     </td><td style=\"text-align: right;\">    0.841991</td><td style=\"text-align: right;\">-0.0116522</td><td style=\"text-align: right;\">   0.75659 </td><td style=\"text-align: right;\">   522.493  </td><td style=\"text-align: right;\">-642.827  </td><td style=\"text-align: right;\">   22.5615 </td></tr>\n",
       "<tr><td>54a0b7b8    </td><td>TERMINATED</td><td>127.0.0.1:12872</td><td style=\"text-align: right;\">                  32</td><td>adam            </td><td>exponential     </td><td style=\"text-align: right;\">    0.956679</td><td style=\"text-align: right;\">-0.156687 </td><td style=\"text-align: right;\">   0.795138</td><td style=\"text-align: right;\">   380.431  </td><td style=\"text-align: right;\">-463.901  </td><td style=\"text-align: right;\">   19.1655 </td></tr>\n",
       "<tr><td>37c3d8fe    </td><td>TERMINATED</td><td>127.0.0.1:26900</td><td style=\"text-align: right;\">                  32</td><td>adam            </td><td>exponential     </td><td style=\"text-align: right;\">    0.90687 </td><td style=\"text-align: right;\">-0.094188 </td><td style=\"text-align: right;\">   0.775198</td><td style=\"text-align: right;\">    70.6    </td><td style=\"text-align: right;\"> -86.0753 </td><td style=\"text-align: right;\">    8.00962</td></tr>\n",
       "</tbody>\n",
       "</table>\n",
       "  </div>\n",
       "</div>\n",
       "<style>\n",
       ".tuneStatus {\n",
       "  color: var(--jp-ui-font-color1);\n",
       "}\n",
       ".tuneStatus .systemInfo {\n",
       "  display: flex;\n",
       "  flex-direction: column;\n",
       "}\n",
       ".tuneStatus td {\n",
       "  white-space: nowrap;\n",
       "}\n",
       ".tuneStatus .trialStatus {\n",
       "  display: flex;\n",
       "  flex-direction: column;\n",
       "}\n",
       ".tuneStatus h3 {\n",
       "  font-weight: bold;\n",
       "}\n",
       ".tuneStatus .hDivider {\n",
       "  border-bottom-width: var(--jp-border-width);\n",
       "  border-bottom-color: var(--jp-border-color0);\n",
       "  border-bottom-style: solid;\n",
       "}\n",
       ".tuneStatus .vDivider {\n",
       "  border-left-width: var(--jp-border-width);\n",
       "  border-left-color: var(--jp-border-color0);\n",
       "  border-left-style: solid;\n",
       "  margin: 0.5em 1em 0.5em 1em;\n",
       "}\n",
       "</style>\n"
      ],
      "text/plain": [
       "<IPython.core.display.HTML object>"
      ]
     },
     "metadata": {},
     "output_type": "display_data"
    }
   ],
   "source": [
    "# Create tuner config\n",
    "\n",
    "trainable = raytune_utils.create_trainable(\n",
    "\tmethod    = raytune_model.main,\n",
    "\tconfig    = CONFIG,\n",
    "\tcpu_count = SYSTEM['platform/cpu/count'],\n",
    "\tgpu_count = SYSTEM['platform/gpu/count']\n",
    ")\n",
    "\n",
    "tune_config = raytune_utils.create_tune_config(\n",
    "\tconfig = CONFIG,\n",
    "\tparams = params_initial\n",
    ")\n",
    "\n",
    "run_config = raytune_utils.create_run_config(\n",
    "\tconfig    = CONFIG,\n",
    "\tlocal_dir = OUT_DATA,\n",
    "\tverbosity = raytune_utils.VERBOSE_STATUS,\n",
    "\ttask      = 'model'\n",
    ")"
   ]
  },
  {
   "cell_type": "code",
   "execution_count": 22,
   "id": "844676ae-777a-46ab-9302-89085342b326",
   "metadata": {
    "execution": {
     "iopub.execute_input": "2023-06-02T18:30:28.811562Z",
     "iopub.status.busy": "2023-06-02T18:30:28.811061Z",
     "iopub.status.idle": "2023-06-02T19:01:03.299554Z",
     "shell.execute_reply": "2023-06-02T19:01:03.299053Z",
     "shell.execute_reply.started": "2023-06-02T18:30:28.811562Z"
    },
    "tags": []
   },
   "outputs": [
    {
     "name": "stderr",
     "output_type": "stream",
     "text": [
      "2023-06-02 19:01:03,237\tINFO tune.py:762 -- Total run time: 1834.40 seconds (1830.45 seconds for the tuning loop).\n"
     ]
    }
   ],
   "source": [
    "# Create tune and fit\n",
    "\n",
    "tuner = raytune_utils.create_tuner(\n",
    "\ttrainable   = trainable,\n",
    "\ttune_config = tune_config,\n",
    "\trun_config  = run_config,\n",
    "\tparam_space = param_space\n",
    ")\n",
    "\n",
    "report = tuner.fit()"
   ]
  },
  {
   "cell_type": "markdown",
   "id": "2940fc14-d848-4018-a8d2-96ec719a8652",
   "metadata": {},
   "source": [
    "# 6. Reports"
   ]
  },
  {
   "cell_type": "code",
   "execution_count": 23,
   "id": "468b6865-7e33-4372-a7b9-09d26beb098e",
   "metadata": {
    "execution": {
     "iopub.execute_input": "2023-06-02T19:01:03.301055Z",
     "iopub.status.busy": "2023-06-02T19:01:03.300555Z",
     "iopub.status.idle": "2023-06-02T19:01:03.315067Z",
     "shell.execute_reply": "2023-06-02T19:01:03.314567Z",
     "shell.execute_reply.started": "2023-06-02T19:01:03.301055Z"
    },
    "tags": []
   },
   "outputs": [
    {
     "name": "stdout",
     "output_type": "stream",
     "text": [
      "No errors.\n",
      "\n"
     ]
    }
   ],
   "source": [
    "# Check if there have been errors\n",
    "\n",
    "if report.errors :\n",
    "\tprint('At least one of the trials has failed.')\n",
    "\tprint()\n",
    "else :\n",
    "\tprint('No errors.')\n",
    "\tprint()"
   ]
  },
  {
   "cell_type": "code",
   "execution_count": 24,
   "id": "048991f8-bf5d-47f2-b870-7365789f042c",
   "metadata": {
    "execution": {
     "iopub.execute_input": "2023-06-02T19:01:03.316568Z",
     "iopub.status.busy": "2023-06-02T19:01:03.316068Z",
     "iopub.status.idle": "2023-06-02T19:01:03.362108Z",
     "shell.execute_reply": "2023-06-02T19:01:03.361107Z",
     "shell.execute_reply.started": "2023-06-02T19:01:03.316568Z"
    },
    "tags": []
   },
   "outputs": [
    {
     "name": "stdout",
     "output_type": "stream",
     "text": [
      "valid_loss                               valid_r2                                 valid_mae                                \n",
      "valid_mape                               valid_wmape                              train_loss                               \n",
      "train_r2                                 train_mae                                train_mape                               \n",
      "train_wmape                              lr                                       time_this_iter_s                         \n",
      "done                                     timesteps_total                          episodes_total                           \n",
      "training_iteration                       trial_id                                 experiment_id                            \n",
      "date                                     timestamp                                time_total_s                             \n",
      "pid                                      hostname                                 node_ip                                  \n",
      "time_since_restore                       timesteps_since_restore                  iterations_since_restore                 \n",
      "warmup_time                              config/criterion/name                    config/criterion/reduction               \n",
      "config/dataset/batch_size                config/model/conv1/dilation              config/model/conv1/filters               \n",
      "config/model/conv1/kernel                config/model/conv1/padding               config/model/convx/dilation              \n",
      "config/model/convx/filters               config/model/convx/kernel                config/model/convx/padding               \n",
      "config/model/dropout                     config/model/fc1/features                config/model/fc2/features                \n",
      "config/model/leakyrelu                   config/model/maxpoolx/kernel             config/model/maxpoolx/padding            \n",
      "config/optimizer/beta1                   config/optimizer/beta2                   config/optimizer/decay                   \n",
      "config/optimizer/lr                      config/optimizer/name                    config/scheduler/exponential/factor      \n",
      "config/scheduler/name                    logdir                                   \n",
      "\n"
     ]
    }
   ],
   "source": [
    "# Print possible columns\n",
    "\n",
    "for index, column in enumerate(report.get_dataframe().columns, start = 1) :\n",
    "\tprint('{:<40s}'.format(column), end = ' ')\n",
    "\n",
    "\tif index % 3 == 0 :\n",
    "\t\tprint()\n",
    "\n",
    "print()\n",
    "print()"
   ]
  },
  {
   "cell_type": "code",
   "execution_count": 25,
   "id": "60cedfc3-65d4-4870-8093-0c5bb784fdf8",
   "metadata": {
    "execution": {
     "iopub.execute_input": "2023-06-02T19:01:03.363108Z",
     "iopub.status.busy": "2023-06-02T19:01:03.362608Z",
     "iopub.status.idle": "2023-06-02T19:01:03.393134Z",
     "shell.execute_reply": "2023-06-02T19:01:03.392133Z",
     "shell.execute_reply.started": "2023-06-02T19:01:03.363108Z"
    },
    "tags": []
   },
   "outputs": [
    {
     "name": "stdout",
     "output_type": "stream",
     "text": [
      "Shortest training time :      2.1 minutes\n",
      " Longest training time :     10.6 minutes\n",
      "   Total training time :     29.7 minutes\n",
      "    Mean training time :      5.9 minutes\n",
      "\n"
     ]
    },
    {
     "data": {
      "text/html": [
       "<div>\n",
       "<style scoped>\n",
       "    .dataframe tbody tr th:only-of-type {\n",
       "        vertical-align: middle;\n",
       "    }\n",
       "\n",
       "    .dataframe tbody tr th {\n",
       "        vertical-align: top;\n",
       "    }\n",
       "\n",
       "    .dataframe thead th {\n",
       "        text-align: right;\n",
       "    }\n",
       "</style>\n",
       "<table border=\"1\" class=\"dataframe\">\n",
       "  <thead>\n",
       "    <tr style=\"text-align: right;\">\n",
       "      <th></th>\n",
       "      <th>logdir</th>\n",
       "      <th>trial_id</th>\n",
       "      <th>time_total_s</th>\n",
       "      <th>training_iteration</th>\n",
       "      <th>train_loss</th>\n",
       "      <th>train_r2</th>\n",
       "      <th>train_mae</th>\n",
       "      <th>train_mape</th>\n",
       "      <th>train_wmape</th>\n",
       "      <th>valid_loss</th>\n",
       "      <th>valid_r2</th>\n",
       "      <th>valid_mae</th>\n",
       "      <th>valid_mape</th>\n",
       "      <th>valid_wmape</th>\n",
       "    </tr>\n",
       "  </thead>\n",
       "  <tbody>\n",
       "    <tr>\n",
       "      <th>0</th>\n",
       "      <td>C:\\Developer\\Workspace\\PyCharm\\Projects\\upolan...</td>\n",
       "      <td>1091758d</td>\n",
       "      <td>127.035</td>\n",
       "      <td>10</td>\n",
       "      <td>0.902</td>\n",
       "      <td>-0.054</td>\n",
       "      <td>0.781</td>\n",
       "      <td>1.866</td>\n",
       "      <td>0.454</td>\n",
       "      <td>2.217</td>\n",
       "      <td>-1.564</td>\n",
       "      <td>1.235</td>\n",
       "      <td>1.107</td>\n",
       "      <td>0.708</td>\n",
       "    </tr>\n",
       "    <tr>\n",
       "      <th>1</th>\n",
       "      <td>C:\\Developer\\Workspace\\PyCharm\\Projects\\upolan...</td>\n",
       "      <td>26c548c1</td>\n",
       "      <td>567.174</td>\n",
       "      <td>5</td>\n",
       "      <td>1.439</td>\n",
       "      <td>-0.753</td>\n",
       "      <td>0.964</td>\n",
       "      <td>1.927</td>\n",
       "      <td>0.562</td>\n",
       "      <td>7.944</td>\n",
       "      <td>-8.710</td>\n",
       "      <td>2.630</td>\n",
       "      <td>3.082</td>\n",
       "      <td>1.513</td>\n",
       "    </tr>\n",
       "    <tr>\n",
       "      <th>4</th>\n",
       "      <td>C:\\Developer\\Workspace\\PyCharm\\Projects\\upolan...</td>\n",
       "      <td>37c3d8fe</td>\n",
       "      <td>182.097</td>\n",
       "      <td>5</td>\n",
       "      <td>0.907</td>\n",
       "      <td>-0.094</td>\n",
       "      <td>0.775</td>\n",
       "      <td>1.740</td>\n",
       "      <td>0.452</td>\n",
       "      <td>70.600</td>\n",
       "      <td>-86.075</td>\n",
       "      <td>8.010</td>\n",
       "      <td>13.808</td>\n",
       "      <td>4.631</td>\n",
       "    </tr>\n",
       "    <tr>\n",
       "      <th>3</th>\n",
       "      <td>C:\\Developer\\Workspace\\PyCharm\\Projects\\upolan...</td>\n",
       "      <td>54a0b7b8</td>\n",
       "      <td>634.905</td>\n",
       "      <td>5</td>\n",
       "      <td>0.957</td>\n",
       "      <td>-0.157</td>\n",
       "      <td>0.795</td>\n",
       "      <td>1.805</td>\n",
       "      <td>0.465</td>\n",
       "      <td>380.431</td>\n",
       "      <td>-463.901</td>\n",
       "      <td>19.165</td>\n",
       "      <td>32.993</td>\n",
       "      <td>11.106</td>\n",
       "    </tr>\n",
       "    <tr>\n",
       "      <th>2</th>\n",
       "      <td>C:\\Developer\\Workspace\\PyCharm\\Projects\\upolan...</td>\n",
       "      <td>f796b7b4</td>\n",
       "      <td>269.958</td>\n",
       "      <td>5</td>\n",
       "      <td>0.842</td>\n",
       "      <td>-0.012</td>\n",
       "      <td>0.757</td>\n",
       "      <td>1.830</td>\n",
       "      <td>0.441</td>\n",
       "      <td>522.493</td>\n",
       "      <td>-642.827</td>\n",
       "      <td>22.562</td>\n",
       "      <td>37.715</td>\n",
       "      <td>13.070</td>\n",
       "    </tr>\n",
       "  </tbody>\n",
       "</table>\n",
       "</div>"
      ],
      "text/plain": [
       "                                              logdir  trial_id  time_total_s  \\\n",
       "0  C:\\Developer\\Workspace\\PyCharm\\Projects\\upolan...  1091758d       127.035   \n",
       "1  C:\\Developer\\Workspace\\PyCharm\\Projects\\upolan...  26c548c1       567.174   \n",
       "4  C:\\Developer\\Workspace\\PyCharm\\Projects\\upolan...  37c3d8fe       182.097   \n",
       "3  C:\\Developer\\Workspace\\PyCharm\\Projects\\upolan...  54a0b7b8       634.905   \n",
       "2  C:\\Developer\\Workspace\\PyCharm\\Projects\\upolan...  f796b7b4       269.958   \n",
       "\n",
       "   training_iteration  train_loss  train_r2  train_mae  train_mape  \\\n",
       "0                  10       0.902    -0.054      0.781       1.866   \n",
       "1                   5       1.439    -0.753      0.964       1.927   \n",
       "4                   5       0.907    -0.094      0.775       1.740   \n",
       "3                   5       0.957    -0.157      0.795       1.805   \n",
       "2                   5       0.842    -0.012      0.757       1.830   \n",
       "\n",
       "   train_wmape  valid_loss  valid_r2  valid_mae  valid_mape  valid_wmape  \n",
       "0        0.454       2.217    -1.564      1.235       1.107        0.708  \n",
       "1        0.562       7.944    -8.710      2.630       3.082        1.513  \n",
       "4        0.452      70.600   -86.075      8.010      13.808        4.631  \n",
       "3        0.465     380.431  -463.901     19.165      32.993       11.106  \n",
       "2        0.441     522.493  -642.827     22.562      37.715       13.070  "
      ]
     },
     "execution_count": 25,
     "metadata": {},
     "output_type": "execute_result"
    }
   ],
   "source": [
    "# Print the results as dataframe\n",
    "\n",
    "dataframe = report.get_dataframe()\n",
    "\n",
    "print('Shortest training time : {:8,.1f} minutes'.format(dataframe['time_total_s'].min()  / 60.0))\n",
    "print(' Longest training time : {:8,.1f} minutes'.format(dataframe['time_total_s'].max()  / 60.0))\n",
    "print('   Total training time : {:8,.1f} minutes'.format(dataframe['time_total_s'].sum()  / 60.0))\n",
    "print('    Mean training time : {:8,.1f} minutes'.format(dataframe['time_total_s'].mean() / 60.0))\n",
    "print()\n",
    "\n",
    "if CONFIG['model/mode'] == 'regression' :\n",
    "\ttrials = dataframe[[\n",
    "\t\t'logdir', 'trial_id', 'time_total_s', 'training_iteration',\n",
    "\t\t'train_loss', 'train_r2', 'train_mae', 'train_mape', 'train_wmape',\n",
    "\t\t'valid_loss', 'valid_r2', 'valid_mae', 'valid_mape', 'valid_wmape',\n",
    "\t]]\n",
    "\n",
    "if CONFIG['model/mode'] == 'classification' :\n",
    "\ttrials = dataframe[[\n",
    "\t\t'logdir', 'trial_id', 'time_total_s', 'training_iteration',\n",
    "\t\t'train_loss', 'train_accuracy', 'train_auroc', 'train_f1', 'train_matthews',\n",
    "\t\t'valid_loss', 'valid_accuracy', 'valid_auroc', 'valid_f1', 'valid_matthews'\n",
    "\t]]\n",
    "\n",
    "trials = trials.sort_values('valid_loss', ascending = True)\n",
    "trials"
   ]
  },
  {
   "cell_type": "code",
   "execution_count": 26,
   "id": "943de37b-a1a0-4c53-9186-5176bf35a6b2",
   "metadata": {
    "execution": {
     "iopub.execute_input": "2023-06-02T19:01:03.394135Z",
     "iopub.status.busy": "2023-06-02T19:01:03.393634Z",
     "iopub.status.idle": "2023-06-02T19:01:03.408648Z",
     "shell.execute_reply": "2023-06-02T19:01:03.407646Z",
     "shell.execute_reply.started": "2023-06-02T19:01:03.394135Z"
    },
    "tags": []
   },
   "outputs": [],
   "source": [
    "# Save the tuning results\n",
    "\n",
    "report.get_dataframe().to_csv(\n",
    "\tos.path.join(OUT_DATA, 'report.csv')\n",
    ")"
   ]
  },
  {
   "cell_type": "markdown",
   "id": "b25ca4ab-214f-451c-8854-11b73696fc0c",
   "metadata": {},
   "source": [
    "## 6.1 Visualization"
   ]
  },
  {
   "cell_type": "code",
   "execution_count": 27,
   "id": "c3d0362f-aed3-4029-9e2d-06b653f51d32",
   "metadata": {
    "execution": {
     "iopub.execute_input": "2023-06-02T19:01:03.409648Z",
     "iopub.status.busy": "2023-06-02T19:01:03.409148Z",
     "iopub.status.idle": "2023-06-02T19:01:03.888058Z",
     "shell.execute_reply": "2023-06-02T19:01:03.887558Z",
     "shell.execute_reply.started": "2023-06-02T19:01:03.409648Z"
    },
    "tags": []
   },
   "outputs": [
    {
     "data": {
      "image/png": "[encoded data removed]",
      "text/plain": [
       "<Figure size 1600x1000 with 1 Axes>"
      ]
     },
     "metadata": {},
     "output_type": "display_data"
    }
   ],
   "source": [
    "# Plot trials valid loss\n",
    "\n",
    "raytune_plot.trials_lineplot_loss(\n",
    "\tdataframe  = trials,\n",
    "\tmax_trials = CONFIG['plot/trials'],\n",
    "\talpha      = 0.9,\n",
    "\tfilename   = os.path.join(OUT_PLOT, CONFIG['model/type'] + '-trials')\n",
    ")"
   ]
  },
  {
   "cell_type": "markdown",
   "id": "8e90c754-8650-475e-97d9-f8dc8a298a6e",
   "metadata": {},
   "source": [
    "### 6.1.1 Regression"
   ]
  },
  {
   "cell_type": "code",
   "execution_count": 28,
   "id": "4e8ddb17-af25-45e1-9833-20066e680452",
   "metadata": {
    "execution": {
     "iopub.execute_input": "2023-06-02T19:01:03.889560Z",
     "iopub.status.busy": "2023-06-02T19:01:03.889060Z",
     "iopub.status.idle": "2023-06-02T19:01:04.353457Z",
     "shell.execute_reply": "2023-06-02T19:01:04.352956Z",
     "shell.execute_reply.started": "2023-06-02T19:01:03.889560Z"
    },
    "tags": []
   },
   "outputs": [
    {
     "data": {
      "image/png": "[encoded data removed]",
      "text/plain": [
       "<Figure size 1600x1000 with 1 Axes>"
      ]
     },
     "metadata": {},
     "output_type": "display_data"
    }
   ],
   "source": [
    "# Plot trials valid r2\n",
    "\n",
    "if CONFIG['model/mode'] == 'regression' :\n",
    "\traytune_plot.trials_lineplot_r2(\n",
    "\t\tdataframe  = trials,\n",
    "\t\tmax_trials = CONFIG['plot/trials'],\n",
    "\t\talpha      = 0.9,\n",
    "\t\tfilename   = os.path.join(OUT_PLOT, CONFIG['model/type'] + '-trials')\n",
    "\t)"
   ]
  },
  {
   "cell_type": "markdown",
   "id": "55b80ce9-5256-49a6-865f-190da3688039",
   "metadata": {},
   "source": [
    "### 6.1.2 Classification"
   ]
  },
  {
   "cell_type": "code",
   "execution_count": 29,
   "id": "f681038f-d305-4196-a2ce-e7aa837edfde",
   "metadata": {
    "execution": {
     "iopub.execute_input": "2023-06-02T19:01:04.354959Z",
     "iopub.status.busy": "2023-06-02T19:01:04.354459Z",
     "iopub.status.idle": "2023-06-02T19:01:04.369471Z",
     "shell.execute_reply": "2023-06-02T19:01:04.368470Z",
     "shell.execute_reply.started": "2023-06-02T19:01:04.354459Z"
    }
   },
   "outputs": [],
   "source": [
    "# Plot trials valid accuracy\n",
    "\n",
    "if CONFIG['model/mode'] == 'classification' :\n",
    "\traytune_plot.trials_lineplot_accuracy(\n",
    "\t\tdataframe  = trials,\n",
    "\t\tmax_trials = CONFIG['plot/trials'],\n",
    "\t\talpha      = 0.9,\n",
    "\t\tfilename   = os.path.join(OUT_PLOT, CONFIG['model/type'] + '-trials')\n",
    "\t)"
   ]
  },
  {
   "cell_type": "markdown",
   "id": "8e10efdd-76db-46e4-903d-7118650bb027",
   "metadata": {},
   "source": [
    "## 6.2 Best"
   ]
  },
  {
   "cell_type": "code",
   "execution_count": 30,
   "id": "64bf57b1-c93a-4225-a592-3c48b3ee16c3",
   "metadata": {
    "execution": {
     "iopub.execute_input": "2023-06-02T19:01:04.370472Z",
     "iopub.status.busy": "2023-06-02T19:01:04.369971Z",
     "iopub.status.idle": "2023-06-02T19:01:04.384484Z",
     "shell.execute_reply": "2023-06-02T19:01:04.383983Z",
     "shell.execute_reply.started": "2023-06-02T19:01:04.370472Z"
    },
    "tags": []
   },
   "outputs": [
    {
     "name": "stdout",
     "output_type": "stream",
     "text": [
      "Best config :\n",
      "\n",
      "{\n",
      "\t\"criterion/name\"               : \"mse\",\n",
      "\t\"criterion/reduction\"          : \"mean\",\n",
      "\t\"dataset/batch_size\"           : 128,\n",
      "\t\"metrics/train/loss\"           : 0.9023909315274455,\n",
      "\t\"metrics/train/mae\"            : 0.7810090140734866,\n",
      "\t\"metrics/train/mape\"           : 1.8662787675857544,\n",
      "\t\"metrics/train/r2\"             : -0.0539732910692692,\n",
      "\t\"metrics/train/wmape\"          : 0.4535469710826874,\n",
      "\t\"metrics/valid/loss\"           : 2.2170693296003199,\n",
      "\t\"metrics/valid/mae\"            : 1.2345228699107349,\n",
      "\t\"metrics/valid/mape\"           : 1.1069416999816895,\n",
      "\t\"metrics/valid/r2\"             : -1.5639346837997437,\n",
      "\t\"metrics/valid/wmape\"          : 0.7079588770866394,\n",
      "\t\"model/conv1/dilation\"         : 1,\n",
      "\t\"model/conv1/filters\"          : 64,\n",
      "\t\"model/conv1/kernel\"           : 5,\n",
      "\t\"model/conv1/padding\"          : \"same\",\n",
      "\t\"model/conv2/dilation\"         : 2,\n",
      "\t\"model/conv2/filters\"          : 32,\n",
      "\t\"model/conv2/kernel\"           : 5,\n",
      "\t\"model/conv2/padding\"          : \"same\",\n",
      "\t\"model/conv3/dilation\"         : 2,\n",
      "\t\"model/conv3/filters\"          : 32,\n",
      "\t\"model/conv3/kernel\"           : 5,\n",
      "\t\"model/conv3/padding\"          : \"same\",\n",
      "\t\"model/dropout\"                : 0.2493858660873137,\n",
      "\t\"model/fc1/features\"           : 64,\n",
      "\t\"model/fc2/features\"           : 64,\n",
      "\t\"model/leakyrelu\"              : 0.0778364811427131,\n",
      "\t\"model/maxpool1/kernel\"        : 5,\n",
      "\t\"model/maxpool1/padding\"       : \"same\",\n",
      "\t\"model/maxpool2/kernel\"        : 5,\n",
      "\t\"model/maxpool2/padding\"       : \"same\",\n",
      "\t\"model/maxpool3/kernel\"        : 5,\n",
      "\t\"model/maxpool3/padding\"       : \"same\",\n",
      "\t\"optimizer/beta1\"              : 0.6102501768046156,\n",
      "\t\"optimizer/beta2\"              : 0.9837988201992430,\n",
      "\t\"optimizer/decay\"              : 0.0517832155603803,\n",
      "\t\"optimizer/lr\"                 : 0.0001021433651136,\n",
      "\t\"optimizer/name\"               : \"adam\",\n",
      "\t\"scheduler/exponential/factor\" : 0.9782221729261603,\n",
      "\t\"scheduler/name\"               : \"exponential\"\n",
      "}\n",
      "\n"
     ]
    }
   ],
   "source": [
    "# Display best trial\n",
    "\n",
    "best = report.get_best_result()\n",
    "\n",
    "if CONFIG['model/mode'] == 'regression'     : metrics = ['loss', 'r2', 'mae', 'mape', 'wmape']\n",
    "if CONFIG['model/mode'] == 'classification' : metrics = ['loss', 'accuracy', 'auroc', 'f1', 'matthews']\n",
    "\n",
    "for mode, metric in itertools.product(['train', 'valid'], metrics) :\n",
    "\tk0 = 'metrics/{}/{}'.format(mode, metric)\n",
    "\tk1 = '{}_{}'.format(mode, metric)\n",
    "\n",
    "\tbest.config[k0] = float(best.metrics[k1])\n",
    "\n",
    "print('Best config :')\n",
    "print()\n",
    "print('{')\n",
    "\n",
    "for index, (key, val) in enumerate(sorted(best.config.items()), start = 1) :\n",
    "\tif isinstance(key, str)   : key = f'\"{key}\"'\n",
    "\tif isinstance(val, str)   : val = f'\"{val}\"'\n",
    "\n",
    "\tif isinstance(val, float) : print('\\t{:30s} : {:.16f}'.format(key, val), end = '')\n",
    "\telse                      : print('\\t{:30s} : {}'.format(key, val), end = '')\n",
    "\n",
    "\tif index < len(best.config) : print(',')\n",
    "\telse                        : print('')\n",
    "\n",
    "print('}')\n",
    "print()"
   ]
  },
  {
   "cell_type": "code",
   "execution_count": 31,
   "id": "9e2e2351-82eb-41db-932d-ddc5fece0244",
   "metadata": {
    "execution": {
     "iopub.execute_input": "2023-06-02T19:01:04.385985Z",
     "iopub.status.busy": "2023-06-02T19:01:04.385484Z",
     "iopub.status.idle": "2023-06-02T19:01:04.415510Z",
     "shell.execute_reply": "2023-06-02T19:01:04.415010Z",
     "shell.execute_reply.started": "2023-06-02T19:01:04.385985Z"
    },
    "tags": []
   },
   "outputs": [
    {
     "data": {
      "text/html": [
       "<div>\n",
       "<style scoped>\n",
       "    .dataframe tbody tr th:only-of-type {\n",
       "        vertical-align: middle;\n",
       "    }\n",
       "\n",
       "    .dataframe tbody tr th {\n",
       "        vertical-align: top;\n",
       "    }\n",
       "\n",
       "    .dataframe thead th {\n",
       "        text-align: right;\n",
       "    }\n",
       "</style>\n",
       "<table border=\"1\" class=\"dataframe\">\n",
       "  <thead>\n",
       "    <tr style=\"text-align: right;\">\n",
       "      <th></th>\n",
       "      <th>trial_id</th>\n",
       "      <th>time_total_s</th>\n",
       "      <th>training_iteration</th>\n",
       "      <th>lr</th>\n",
       "      <th>train_loss</th>\n",
       "      <th>train_r2</th>\n",
       "      <th>train_mae</th>\n",
       "      <th>train_mape</th>\n",
       "      <th>train_wmape</th>\n",
       "      <th>valid_loss</th>\n",
       "      <th>valid_r2</th>\n",
       "      <th>valid_mae</th>\n",
       "      <th>valid_mape</th>\n",
       "      <th>valid_wmape</th>\n",
       "    </tr>\n",
       "  </thead>\n",
       "  <tbody>\n",
       "    <tr>\n",
       "      <th>0</th>\n",
       "      <td>1091758d</td>\n",
       "      <td>23.874</td>\n",
       "      <td>1</td>\n",
       "      <td>0.000</td>\n",
       "      <td>5.066</td>\n",
       "      <td>-4.920</td>\n",
       "      <td>1.735</td>\n",
       "      <td>3.059</td>\n",
       "      <td>1.007</td>\n",
       "      <td>1.888</td>\n",
       "      <td>-1.175</td>\n",
       "      <td>1.124</td>\n",
       "      <td>1.285</td>\n",
       "      <td>0.644</td>\n",
       "    </tr>\n",
       "    <tr>\n",
       "      <th>1</th>\n",
       "      <td>1091758d</td>\n",
       "      <td>35.405</td>\n",
       "      <td>2</td>\n",
       "      <td>0.000</td>\n",
       "      <td>2.009</td>\n",
       "      <td>-1.359</td>\n",
       "      <td>1.133</td>\n",
       "      <td>2.130</td>\n",
       "      <td>0.658</td>\n",
       "      <td>1.735</td>\n",
       "      <td>-0.988</td>\n",
       "      <td>1.080</td>\n",
       "      <td>1.226</td>\n",
       "      <td>0.618</td>\n",
       "    </tr>\n",
       "    <tr>\n",
       "      <th>2</th>\n",
       "      <td>1091758d</td>\n",
       "      <td>47.836</td>\n",
       "      <td>3</td>\n",
       "      <td>0.000</td>\n",
       "      <td>1.504</td>\n",
       "      <td>-0.762</td>\n",
       "      <td>0.986</td>\n",
       "      <td>2.016</td>\n",
       "      <td>0.572</td>\n",
       "      <td>1.602</td>\n",
       "      <td>-0.836</td>\n",
       "      <td>1.037</td>\n",
       "      <td>1.269</td>\n",
       "      <td>0.594</td>\n",
       "    </tr>\n",
       "    <tr>\n",
       "      <th>3</th>\n",
       "      <td>1091758d</td>\n",
       "      <td>60.731</td>\n",
       "      <td>4</td>\n",
       "      <td>0.000</td>\n",
       "      <td>1.237</td>\n",
       "      <td>-0.444</td>\n",
       "      <td>0.900</td>\n",
       "      <td>1.926</td>\n",
       "      <td>0.522</td>\n",
       "      <td>1.650</td>\n",
       "      <td>-0.909</td>\n",
       "      <td>1.053</td>\n",
       "      <td>1.158</td>\n",
       "      <td>0.603</td>\n",
       "    </tr>\n",
       "    <tr>\n",
       "      <th>4</th>\n",
       "      <td>1091758d</td>\n",
       "      <td>73.820</td>\n",
       "      <td>5</td>\n",
       "      <td>0.000</td>\n",
       "      <td>1.122</td>\n",
       "      <td>-0.311</td>\n",
       "      <td>0.861</td>\n",
       "      <td>1.950</td>\n",
       "      <td>0.499</td>\n",
       "      <td>1.692</td>\n",
       "      <td>-0.952</td>\n",
       "      <td>1.065</td>\n",
       "      <td>1.105</td>\n",
       "      <td>0.610</td>\n",
       "    </tr>\n",
       "    <tr>\n",
       "      <th>5</th>\n",
       "      <td>1091758d</td>\n",
       "      <td>86.823</td>\n",
       "      <td>6</td>\n",
       "      <td>0.000</td>\n",
       "      <td>1.043</td>\n",
       "      <td>-0.219</td>\n",
       "      <td>0.834</td>\n",
       "      <td>1.933</td>\n",
       "      <td>0.484</td>\n",
       "      <td>1.737</td>\n",
       "      <td>-1.002</td>\n",
       "      <td>1.079</td>\n",
       "      <td>1.050</td>\n",
       "      <td>0.618</td>\n",
       "    </tr>\n",
       "    <tr>\n",
       "      <th>6</th>\n",
       "      <td>1091758d</td>\n",
       "      <td>99.531</td>\n",
       "      <td>7</td>\n",
       "      <td>0.000</td>\n",
       "      <td>0.995</td>\n",
       "      <td>-0.160</td>\n",
       "      <td>0.817</td>\n",
       "      <td>1.903</td>\n",
       "      <td>0.474</td>\n",
       "      <td>1.883</td>\n",
       "      <td>-1.160</td>\n",
       "      <td>1.127</td>\n",
       "      <td>0.999</td>\n",
       "      <td>0.645</td>\n",
       "    </tr>\n",
       "    <tr>\n",
       "      <th>7</th>\n",
       "      <td>1091758d</td>\n",
       "      <td>109.623</td>\n",
       "      <td>8</td>\n",
       "      <td>0.000</td>\n",
       "      <td>0.946</td>\n",
       "      <td>-0.107</td>\n",
       "      <td>0.799</td>\n",
       "      <td>1.911</td>\n",
       "      <td>0.464</td>\n",
       "      <td>2.051</td>\n",
       "      <td>-1.347</td>\n",
       "      <td>1.183</td>\n",
       "      <td>1.034</td>\n",
       "      <td>0.677</td>\n",
       "    </tr>\n",
       "    <tr>\n",
       "      <th>8</th>\n",
       "      <td>1091758d</td>\n",
       "      <td>117.867</td>\n",
       "      <td>9</td>\n",
       "      <td>0.000</td>\n",
       "      <td>0.922</td>\n",
       "      <td>-0.075</td>\n",
       "      <td>0.788</td>\n",
       "      <td>1.895</td>\n",
       "      <td>0.458</td>\n",
       "      <td>2.141</td>\n",
       "      <td>-1.487</td>\n",
       "      <td>1.212</td>\n",
       "      <td>1.074</td>\n",
       "      <td>0.695</td>\n",
       "    </tr>\n",
       "    <tr>\n",
       "      <th>9</th>\n",
       "      <td>1091758d</td>\n",
       "      <td>127.035</td>\n",
       "      <td>10</td>\n",
       "      <td>0.000</td>\n",
       "      <td>0.902</td>\n",
       "      <td>-0.054</td>\n",
       "      <td>0.781</td>\n",
       "      <td>1.866</td>\n",
       "      <td>0.454</td>\n",
       "      <td>2.217</td>\n",
       "      <td>-1.564</td>\n",
       "      <td>1.235</td>\n",
       "      <td>1.107</td>\n",
       "      <td>0.708</td>\n",
       "    </tr>\n",
       "  </tbody>\n",
       "</table>\n",
       "</div>"
      ],
      "text/plain": [
       "   trial_id  time_total_s  training_iteration    lr  train_loss  train_r2  \\\n",
       "0  1091758d        23.874                   1 0.000       5.066    -4.920   \n",
       "1  1091758d        35.405                   2 0.000       2.009    -1.359   \n",
       "2  1091758d        47.836                   3 0.000       1.504    -0.762   \n",
       "3  1091758d        60.731                   4 0.000       1.237    -0.444   \n",
       "4  1091758d        73.820                   5 0.000       1.122    -0.311   \n",
       "5  1091758d        86.823                   6 0.000       1.043    -0.219   \n",
       "6  1091758d        99.531                   7 0.000       0.995    -0.160   \n",
       "7  1091758d       109.623                   8 0.000       0.946    -0.107   \n",
       "8  1091758d       117.867                   9 0.000       0.922    -0.075   \n",
       "9  1091758d       127.035                  10 0.000       0.902    -0.054   \n",
       "\n",
       "   train_mae  train_mape  train_wmape  valid_loss  valid_r2  valid_mae  \\\n",
       "0      1.735       3.059        1.007       1.888    -1.175      1.124   \n",
       "1      1.133       2.130        0.658       1.735    -0.988      1.080   \n",
       "2      0.986       2.016        0.572       1.602    -0.836      1.037   \n",
       "3      0.900       1.926        0.522       1.650    -0.909      1.053   \n",
       "4      0.861       1.950        0.499       1.692    -0.952      1.065   \n",
       "5      0.834       1.933        0.484       1.737    -1.002      1.079   \n",
       "6      0.817       1.903        0.474       1.883    -1.160      1.127   \n",
       "7      0.799       1.911        0.464       2.051    -1.347      1.183   \n",
       "8      0.788       1.895        0.458       2.141    -1.487      1.212   \n",
       "9      0.781       1.866        0.454       2.217    -1.564      1.235   \n",
       "\n",
       "   valid_mape  valid_wmape  \n",
       "0       1.285        0.644  \n",
       "1       1.226        0.618  \n",
       "2       1.269        0.594  \n",
       "3       1.158        0.603  \n",
       "4       1.105        0.610  \n",
       "5       1.050        0.618  \n",
       "6       0.999        0.645  \n",
       "7       1.034        0.677  \n",
       "8       1.074        0.695  \n",
       "9       1.107        0.708  "
      ]
     },
     "execution_count": 31,
     "metadata": {},
     "output_type": "execute_result"
    }
   ],
   "source": [
    "# Display per iteration\n",
    "\n",
    "progress = loader.load_csv(\n",
    "\tfilename = os.path.join(best.log_dir, 'progress.csv')\n",
    ")\n",
    "\n",
    "if CONFIG['model/mode'] == 'regression' :\n",
    "\tprogress = progress[[\n",
    "\t\t'trial_id', 'time_total_s', 'training_iteration', 'lr',\n",
    "\t\t'train_loss', 'train_r2', 'train_mae', 'train_mape', 'train_wmape',\n",
    "\t\t'valid_loss', 'valid_r2', 'valid_mae', 'valid_mape', 'valid_wmape',\n",
    "\t]]\n",
    "\n",
    "if CONFIG['model/mode'] == 'classification' :\n",
    "\tprogress = progress[[\n",
    "\t\t'trial_id', 'time_total_s', 'training_iteration', 'lr',\n",
    "\t\t'train_loss', 'train_accuracy', 'train_auroc', 'train_f1', 'train_matthews',\n",
    "\t\t'valid_loss', 'valid_accuracy', 'valid_auroc', 'valid_f1', 'valid_matthews'\n",
    "\t]]\n",
    "\n",
    "progress"
   ]
  },
  {
   "cell_type": "code",
   "execution_count": 32,
   "id": "4eaa27d6-0da6-4e09-a49e-5cc9b25897c9",
   "metadata": {
    "execution": {
     "iopub.execute_input": "2023-06-02T19:01:04.416512Z",
     "iopub.status.busy": "2023-06-02T19:01:04.416512Z",
     "iopub.status.idle": "2023-06-02T19:01:04.788331Z",
     "shell.execute_reply": "2023-06-02T19:01:04.787329Z",
     "shell.execute_reply.started": "2023-06-02T19:01:04.416512Z"
    },
    "tags": []
   },
   "outputs": [
    {
     "data": {
      "image/png": "[encoded data removed]",
      "text/plain": [
       "<Figure size 1600x1000 with 1 Axes>"
      ]
     },
     "metadata": {},
     "output_type": "display_data"
    }
   ],
   "source": [
    "# Plot best trial valid loss\n",
    "\n",
    "raytune_plot.trial_lineplot_loss(\n",
    "\tdataframe = progress,\n",
    "\tfilename  = os.path.join(OUT_PLOT, CONFIG['model/type'] + '-best')\n",
    ")"
   ]
  },
  {
   "cell_type": "code",
   "execution_count": 33,
   "id": "5057fefd-cb7d-4244-b4bc-3d6ed10b53f9",
   "metadata": {
    "execution": {
     "iopub.execute_input": "2023-06-02T19:01:04.789331Z",
     "iopub.status.busy": "2023-06-02T19:01:04.788830Z",
     "iopub.status.idle": "2023-06-02T19:01:05.160650Z",
     "shell.execute_reply": "2023-06-02T19:01:05.159649Z",
     "shell.execute_reply.started": "2023-06-02T19:01:04.789331Z"
    },
    "tags": []
   },
   "outputs": [
    {
     "data": {
      "image/png": "[encoded data removed]",
      "text/plain": [
       "<Figure size 1600x1000 with 1 Axes>"
      ]
     },
     "metadata": {},
     "output_type": "display_data"
    }
   ],
   "source": [
    "# Plot best trial valid r2\n",
    "\n",
    "if CONFIG['model/mode'] == 'regression' :\n",
    "\traytune_plot.trial_lineplot_r2(\n",
    "\t\tdataframe = progress,\n",
    "\t\tfilename  = os.path.join(OUT_PLOT, CONFIG['model/type'] + '-best')\n",
    "\t)"
   ]
  },
  {
   "cell_type": "code",
   "execution_count": 34,
   "id": "8aa79b94-7b01-44f1-8f42-ea300bbac937",
   "metadata": {
    "execution": {
     "iopub.execute_input": "2023-06-02T19:01:05.161650Z",
     "iopub.status.busy": "2023-06-02T19:01:05.161150Z",
     "iopub.status.idle": "2023-06-02T19:01:05.176162Z",
     "shell.execute_reply": "2023-06-02T19:01:05.175162Z",
     "shell.execute_reply.started": "2023-06-02T19:01:05.161650Z"
    }
   },
   "outputs": [],
   "source": [
    "# Plot best trial valid accuracy\n",
    "\n",
    "if CONFIG['model/mode'] == 'classification' :\n",
    "\traytune_plot.trial_lineplot_accuracy(\n",
    "\t\tdataframe = progress,\n",
    "\t\tfilename  = os.path.join(OUT_PLOT, CONFIG['model/type'] + '-best')\n",
    "\t)"
   ]
  },
  {
   "cell_type": "code",
   "execution_count": 35,
   "id": "0461429d-9439-4764-b085-044ae6121581",
   "metadata": {
    "execution": {
     "iopub.execute_input": "2023-06-02T19:01:05.177163Z",
     "iopub.status.busy": "2023-06-02T19:01:05.176663Z",
     "iopub.status.idle": "2023-06-02T19:01:05.579008Z",
     "shell.execute_reply": "2023-06-02T19:01:05.578507Z",
     "shell.execute_reply.started": "2023-06-02T19:01:05.177163Z"
    },
    "tags": []
   },
   "outputs": [
    {
     "data": {
      "image/png": "[encoded data removed]",
      "text/plain": [
       "<Figure size 1600x1000 with 1 Axes>"
      ]
     },
     "metadata": {},
     "output_type": "display_data"
    }
   ],
   "source": [
    "# Plot trials learning rate\n",
    "\n",
    "raytune_plot.trial_lineplot_lr(\n",
    "\tdataframe = progress,\n",
    "\tfilename  = os.path.join(OUT_PLOT, CONFIG['model/type'] + '-best')\n",
    ")"
   ]
  }
 ],
 "metadata": {
  "kernelspec": {
   "display_name": "Python 3 (ipykernel)",
   "language": "python",
   "name": "python3"
  },
  "language_info": {
   "codemirror_mode": {
    "name": "ipython",
    "version": 3
   },
   "file_extension": ".py",
   "mimetype": "text/x-python",
   "name": "python",
   "nbconvert_exporter": "python",
   "pygments_lexer": "ipython3",
   "version": "3.10.7"
  }
 },
 "nbformat": 4,
 "nbformat_minor": 5
}
