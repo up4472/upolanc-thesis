{
 "cells": [
  {
   "cell_type": "code",
   "execution_count": null,
   "id": "4d6c1030-49e7-4910-a32d-0ae78ce0ce1f",
   "metadata": {
    "tags": []
   },
   "outputs": [],
   "source": [
    "# Libraries\n",
    "\n",
    "import datetime\n",
    "import json\n",
    "import numpy\n",
    "import os\n",
    "import platform\n",
    "import shutil\n",
    "import sys\n",
    "import torch"
   ]
  },
  {
   "cell_type": "code",
   "execution_count": null,
   "id": "0f4e7e4e-b486-4abf-ae0d-4b22537b648b",
   "metadata": {
    "tags": []
   },
   "outputs": [],
   "source": [
    "# Root directory\n",
    "\n",
    "ROOT = os.getcwd()\n",
    "\n",
    "while not ROOT.endswith('upolanc-thesis') :\n",
    "\tROOT = os.path.abspath(os.path.join(ROOT, os.pardir))\n",
    "\n",
    "\tif len(ROOT) < len('upolanc-thesis') :\n",
    "\t\tif   platform.system() == 'Linux' :\n",
    "\t\t\tROOT = '/d/hpc/home/up4472/workspace/upolanc-thesis'\n",
    "\t\telif platform.system() == 'Windows' :\n",
    "\t\t\tROOT = 'C:\\\\Developer\\\\Workspace\\\\PyCharm\\\\Projects\\\\upolanc-thesis'\n",
    "\t\telse :\n",
    "\t\t\traise ValueError()\n",
    "\n",
    "\t\tprint(f'Warning : could not find correct directory, using default : {ROOT}')\n",
    "\t\tbreak\n",
    "\n",
    "if ROOT not in sys.path :\n",
    "\tsys.path.append(ROOT)\n",
    "\n",
    "os.chdir(ROOT)"
   ]
  },
  {
   "cell_type": "code",
   "execution_count": null,
   "id": "6e2187b3-fd0c-4e6e-b02a-ffbe11f26afc",
   "metadata": {
    "tags": []
   },
   "outputs": [],
   "source": [
    "# Tune\n",
    "\n",
    "from ray.air                  import CheckpointConfig\n",
    "from ray.air                  import FailureConfig\n",
    "from ray.air                  import RunConfig\n",
    "from ray.tune                 import JupyterNotebookReporter\n",
    "from ray.tune                 import TuneConfig\n",
    "from ray.tune                 import Tuner\n",
    "from ray.tune.logger          import CSVLoggerCallback\n",
    "from ray.tune.schedulers      import ASHAScheduler\n",
    "from ray.tune.stopper         import TimeoutStopper\n",
    "from ray.tune.search          import ConcurrencyLimiter\n",
    "from ray.tune.search.bayesopt import BayesOptSearch\n",
    "from ray.tune.search.hyperopt import HyperOptSearch\n",
    "\n",
    "from ray import tune"
   ]
  },
  {
   "cell_type": "code",
   "execution_count": null,
   "id": "53cad32c-4de4-412f-a1e9-9e48a8f77213",
   "metadata": {
    "tags": []
   },
   "outputs": [],
   "source": [
    "# Code\n",
    "\n",
    "from source.python.cnn import core    as cnn_core\n",
    "from source.python.cnn import dataset as cnn_dataset\n",
    "from source.python.cnn import raytune as cnn_raytune\n",
    "from source.python.io  import loader  as data_loader"
   ]
  },
  {
   "cell_type": "markdown",
   "id": "d50a8f4a-ddce-4960-a822-3f612701ff0d",
   "metadata": {},
   "source": [
    "# 1. Setup"
   ]
  },
  {
   "cell_type": "code",
   "execution_count": null,
   "id": "cd10db9c-1c2c-4761-864f-1606829223bc",
   "metadata": {},
   "outputs": [],
   "source": [
    "# Setup model to tune\n",
    "\n",
    "MODEL_NAME = 'zrimec2020'\n",
    "MODEL_TYPE = 'r'"
   ]
  },
  {
   "cell_type": "code",
   "execution_count": null,
   "id": "7d9d420a-cde8-46cb-be15-1f99347d9bdd",
   "metadata": {
    "tags": []
   },
   "outputs": [],
   "source": [
    "# Setup some directory paths.\n",
    "\n",
    "CWD = ROOT\n",
    "OUT = os.path.join(CWD, 'output')\n",
    "RES = os.path.join(CWD, 'resources')\n",
    "\n",
    "OUT_DATA  = os.path.join(OUT,      'nbp06-tuner', MODEL_NAME)\n",
    "OUT_PLOT  = os.path.join(OUT_DATA, 'plot')\n",
    "RES_TUNER = os.path.join(RES,      'tuner')\n",
    "RES_NBP04 = os.path.join(OUT,      'nbp04-feature')\n",
    "RES_NBP05 = os.path.join(OUT,      'nbp05-target')\n",
    "\n",
    "shutil.rmtree(OUT_DATA, ignore_errors = True)\n",
    "\n",
    "os.makedirs(OUT_DATA, exist_ok = True)\n",
    "os.makedirs(OUT_PLOT, exist_ok = True)\n",
    "\n",
    "print(f'     Root Directory : {CWD}')\n",
    "print(f'   Output Directory : {OUT_DATA}')\n",
    "print(f'   Output Directory : {OUT_PLOT}')\n",
    "print(f' Resource Directory : {RES_TUNER}')\n",
    "print(f' Resource Directory : {RES_NBP04}')\n",
    "print(f' Resource Directory : {RES_NBP05}')"
   ]
  },
  {
   "cell_type": "code",
   "execution_count": null,
   "id": "a7f1d561-e60e-44ea-9ffc-60f3bc53c1c4",
   "metadata": {
    "tags": []
   },
   "outputs": [],
   "source": [
    "# System and device\n",
    "\n",
    "DEVICE = cnn_core.get_device(only_cpu = False)\n",
    "SYSTEM = cnn_core.get_system_info()\n",
    "\n",
    "for key, value in SYSTEM.items() :\n",
    "\tprint('{:25s} : {}'.format(key, value))"
   ]
  },
  {
   "cell_type": "code",
   "execution_count": null,
   "id": "d254fe75-06de-4b51-88ab-e6af1f5af769",
   "metadata": {
    "tags": []
   },
   "outputs": [],
   "source": [
    "# Load the input transcript features\n",
    "\n",
    "feature_sequence = data_loader.load_fasta(\n",
    "\tfilename  = os.path.join(RES_NBP04, 'features-bp2150.fasta'),\n",
    "\tto_string = True\n",
    ")\n",
    "\n",
    "feature_base = data_loader.load_npz(\n",
    "\tfilename = os.path.join(RES_NBP04, 'features-base.npz')\n",
    ")"
   ]
  },
  {
   "cell_type": "markdown",
   "id": "de314874-ff3f-43c1-bb0a-919f2d63e775",
   "metadata": {},
   "source": [
    "# 2. CNN Regression"
   ]
  },
  {
   "cell_type": "markdown",
   "id": "f1c53b24-13a8-42bb-8c70-b9ba0f04d28e",
   "metadata": {},
   "source": [
    "## 2.1 Config"
   ]
  },
  {
   "cell_type": "code",
   "execution_count": null,
   "id": "7df5b6e1-2eb9-4c84-a31b-418ccbfd4766",
   "metadata": {
    "tags": []
   },
   "outputs": [],
   "source": [
    "# Define basic data parameters\n",
    "\n",
    "CONFIG = {\n",
    "\t'core/random'           : None,\n",
    "\t'core/device'           : DEVICE,\n",
    "\t'core/rootdir'          : ROOT,\n",
    "\t'dataset/filepath'      : os.path.join(OUT_DATA, 'dataset.pkl'),\n",
    "\t'dataset/expanddim'     : None,\n",
    "\t'dataset/split/valid'   : 0.2,\n",
    "\t'dataset/split/test'    : 0.2,\n",
    "\t'tuner/trials'          : 5,\n",
    "\t'tuner/max_epochs'      : 50,\n",
    "\t'tuner/min_epochs'      : 5,\n",
    "\t'tuner/max_concurrent'  : 1,\n",
    "\t'tuner/notebook'        : True,\n",
    "\t'tuner/checkpoint'      : False,\n",
    "\t'tuner/stopper'         : True,\n",
    "\t'tuner/stopper/days'    : 3,\n",
    "\t'tuner/stopper/hours'   : 18,\n",
    "\t'tuner/stopper/minutes' : 0,\n",
    "\t'model/name'            : MODEL_NAME,\n",
    "\t'model/type'            : MODEL_NAME + MODEL_TYPE,\n",
    "\t'model/epochs'          : 15,\n",
    "\t'model/input/channels'  : 1,\n",
    "\t'model/input/height'    : 4,\n",
    "\t'model/input/width'     : 2150,\n",
    "\t'model/input/features'  : None,\n",
    "\t'model/output/target'   : 'tissue',\n",
    "\t'model/output/type'     : 'mean',\n",
    "\t'model/output/filter'   : None,\n",
    "\t'model/output/size'     : None\n",
    "}\n",
    "\n",
    "CONFIG['core/random'] = cnn_core.lock_random(\n",
    "\tseed     = CONFIG['core/random'],\n",
    "\tgenerate = True\n",
    ")\n",
    "\n",
    "if CONFIG['model/name'].startswith('washburn2019') :\n",
    "\tCONFIG['dataset/expanddim'] = 0"
   ]
  },
  {
   "cell_type": "code",
   "execution_count": null,
   "id": "4fe4b9b5-4ee7-4b12-a0b8-ab7e037214c0",
   "metadata": {
    "tags": []
   },
   "outputs": [],
   "source": [
    "# Prints\n",
    "\n",
    "print('Model Name  : {}'.format(CONFIG['model/name']))\n",
    "print('Model Type  : {}'.format(CONFIG['model/type']))\n",
    "print('Random Seed : {}'.format(CONFIG['core/random']))"
   ]
  },
  {
   "cell_type": "code",
   "execution_count": null,
   "id": "1f033c8a-dd5e-46d2-bb7f-2a99ed0d5a50",
   "metadata": {
    "tags": []
   },
   "outputs": [],
   "source": [
    "# Load features\n",
    "\n",
    "dataframe, target_value, target_order = data_loader.load_feature_targets(\n",
    "\tgroup    = '{}-{}'.format(CONFIG['model/output/target'], CONFIG['model/output/type']),\n",
    "\texplode  = False,\n",
    "\tfilters  = {\n",
    "\t\t'tissue'       : None,\n",
    "\t\t'group'        : None,\n",
    "\t\t'age'          : None,\n",
    "\t\t'perturbation' : None\n",
    "\t},\n",
    "\tdirectory = RES_NBP05,\n",
    "\tfilename  = 'mapping-{}-grouped.pkl'.format(CONFIG['model/output/type'])\n",
    ")\n",
    "\n",
    "if 'Feature' in dataframe.columns :\n",
    "\tfeature_base = {\n",
    "\t\tkey : numpy.concatenate((feature_base[key.split('?')[-1]], value))\n",
    "\t\tfor key, value in dataframe['Feature'].to_dict().items()\n",
    "\t}\n",
    "\n",
    "CONFIG['model/output/size']    = len(target_order)\n",
    "CONFIG['model/input/features'] = len(list(feature_base.values())[0])\n",
    "\n",
    "dataframe"
   ]
  },
  {
   "cell_type": "code",
   "execution_count": null,
   "id": "bae003d5-7e8d-4337-a1ec-f208c4bc90d4",
   "metadata": {
    "tags": []
   },
   "outputs": [],
   "source": [
    "# Create dataset\n",
    "\n",
    "dataset = cnn_dataset.to_dataset(\n",
    "\tsequences   = feature_sequence,\n",
    "\tfeatures    = feature_base,\n",
    "\ttargets     = target_value,\n",
    "\texpand_dims = CONFIG['dataset/expanddim']\n",
    ")"
   ]
  },
  {
   "cell_type": "code",
   "execution_count": null,
   "id": "915d2f9a-ba40-49f0-af26-123b7543926b",
   "metadata": {
    "tags": []
   },
   "outputs": [],
   "source": [
    "# Save dataset\n",
    "\n",
    "torch.save(dataset, CONFIG['dataset/filepath'])"
   ]
  },
  {
   "cell_type": "code",
   "execution_count": null,
   "id": "e02437ca-1eab-44f8-9fc7-5b192b48491f",
   "metadata": {
    "tags": []
   },
   "outputs": [],
   "source": [
    "# Assert all is set\n",
    "\n",
    "if CONFIG['dataset/filepath']     is None : raise AssertionError('dataset/filepath')\n",
    "if CONFIG['model/input/features'] is None : raise AssertionError('model/input/features')\n",
    "if CONFIG['model/output/size']    is None : raise AssertionError('model/output/size')\n",
    "\n",
    "print('Dataset Filepath : {}'.format(CONFIG['dataset/filepath']))\n",
    "print('Input Features   : {}'.format(CONFIG['model/input/features']))\n",
    "print('Output Size      : {}'.format(CONFIG['model/output/size']))"
   ]
  },
  {
   "cell_type": "markdown",
   "id": "e17b18d9-cccb-4763-8391-2567b75c3fbb",
   "metadata": {
    "tags": []
   },
   "source": [
    "## 2.2 Search Space"
   ]
  },
  {
   "cell_type": "code",
   "execution_count": null,
   "id": "e14f73b3-6854-4fa0-a497-50d7fde4391d",
   "metadata": {
    "tags": []
   },
   "outputs": [],
   "source": [
    "# Define optimizer parameters\n",
    "\n",
    "optimizer_name     = tune.choice(['adam', 'sgd'])\n",
    "optimizer_lr       = tune.loguniform(1e-5, 1e-2)\n",
    "optimizer_decay    = tune.uniform(0.00, 0.10)\n",
    "optimizer_momentum = tune.uniform(0.50, 0.99)\n",
    "\n",
    "# TODO - replace optimizer_momentum\n",
    "optimizer_adam_beta1   = tune.uniform(0.500, 0.990)\n",
    "optimizer_adam_beta2   = tune.uniform(0.900, 0.999)\n",
    "optimizer_sgd_momentum = tune.uniform(0.500, 0.990)"
   ]
  },
  {
   "cell_type": "code",
   "execution_count": null,
   "id": "dd4332b9-3ced-4899-86a6-df0425063255",
   "metadata": {
    "tags": []
   },
   "outputs": [],
   "source": [
    "# Define scheduler parameters\n",
    "\n",
    "scheduler_name             = tune.choice(['constant', 'step', 'plateau', 'linear', 'exponential'])\n",
    "scheduler_plateau_factor   = tune.uniform(0.1, 0.5)\n",
    "scheduler_plateau_patience = tune.randint(1, 25)\n",
    "scheduler_step_factor      = tune.uniform(0.1, 0.5)\n",
    "scheduler_step_patience    = tune.randint(1, 25)\n",
    "scheduler_linear_factor    = tune.uniform(1e-05, 1e-01)\n",
    "scheduler_exp_factor       = tune.uniform(0.950, 0.999)"
   ]
  },
  {
   "cell_type": "code",
   "execution_count": null,
   "id": "a5a3581a-5246-4b79-9e8f-8357a42f5793",
   "metadata": {
    "tags": []
   },
   "outputs": [],
   "source": [
    "# Define model parameters\n",
    "\n",
    "model_dropout  = tune.quniform(0.0, 0.5, 0.01)\n",
    "\n",
    "conv1_kernels  = [5, 11, 21, 31, 41]\n",
    "conv1_filters  = [32, 64, 128, 256]\n",
    "\n",
    "convx_kernels  = [5, 11, 21, 31, 41]\n",
    "convx_padding  = ['same', 'none']\n",
    "convx_filters  = [32, 64, 128, 256]\n",
    "convx_dilation = [1, 2, 4]\n",
    "\n",
    "poolx_kernels  = [3, 5, 9]\n",
    "poolx_padding  = ['same', 'none']\n",
    "\n",
    "fcx_features = [64, 128, 256, 512]\n",
    "\n",
    "if CONFIG['model/name'].startswith('washburn2019') :\n",
    "\tconv1_kernels = [(4, x) for x in conv1_kernels]\n",
    "\tconvx_kernels = [(1, x) for x in convx_kernels]\n",
    "\tpoolx_kernels = [(1, x) for x in poolx_kernels]"
   ]
  },
  {
   "cell_type": "code",
   "execution_count": null,
   "id": "0a2fc685-9803-4596-8fde-d0678ed7604b",
   "metadata": {
    "tags": []
   },
   "outputs": [],
   "source": [
    "# Define search space (tested with zrimec2020 and washburn2019)\n",
    "\n",
    "param_space = dict()\n",
    "\n",
    "# Dataset\n",
    "param_space['dataset/batch_size'] = tune.choice([32, 64, 128])\n",
    "\n",
    "# Optimizer\n",
    "param_space['optimizer/name']     = optimizer_name\n",
    "param_space['optimizer/lr']       = optimizer_lr\n",
    "param_space['optimizer/decay']    = optimizer_decay\n",
    "param_space['optimizer/momentum'] = optimizer_momentum\n",
    "\n",
    "# Criterion\n",
    "param_space['criterion/name']      = 'mse'\n",
    "param_space['criterion/reduction'] = 'mean'\n",
    "\n",
    "# Scheduler\n",
    "param_space['scheduler/name']               = scheduler_name\n",
    "param_space['scheduler/plateau/factor']     = scheduler_plateau_factor\n",
    "param_space['scheduler/plateau/patience']   = scheduler_plateau_patience\n",
    "param_space['scheduler/linear/factor']      = scheduler_linear_factor\n",
    "param_space['scheduler/step/factor']        = scheduler_step_factor\n",
    "param_space['scheduler/step/patience']      = scheduler_step_patience\n",
    "param_space['scheduler/exponential/factor'] = scheduler_exp_factor\n",
    "\n",
    "# Model\n",
    "param_space['model/dropout'] = model_dropout\n",
    "\n",
    "# Convolution\n",
    "param_space['model/conv1/filters']  = tune.choice(conv1_filters)\n",
    "param_space['model/conv1/kernel']   = tune.choice(conv1_kernels)\n",
    "param_space['model/conv1/padding']  = 'none'\n",
    "param_space['model/conv1/dilation'] = 1\n",
    "param_space['model/conv2/filters']  = tune.choice(convx_filters)\n",
    "param_space['model/conv2/kernel']   = tune.choice(convx_kernels)\n",
    "param_space['model/conv2/padding']  = tune.choice(convx_padding)\n",
    "param_space['model/conv2/dilation'] = 1\n",
    "param_space['model/conv3/filters']  = tune.choice(convx_filters)\n",
    "param_space['model/conv3/kernel']   = tune.choice(convx_kernels)\n",
    "param_space['model/conv3/padding']  = tune.choice(convx_padding)\n",
    "param_space['model/conv3/dilation'] = 1\n",
    "\n",
    "if CONFIG['model/name'].startswith('washburn2019') :\n",
    "\tparam_space['model/conv4/filters']  = tune.choice(convx_filters)\n",
    "\tparam_space['model/conv4/kernel']   = tune.choice(convx_kernels)\n",
    "\tparam_space['model/conv4/padding']  = tune.choice(convx_padding)\n",
    "\tparam_space['model/conv4/dilation'] = 1\n",
    "\tparam_space['model/conv5/filters']  = tune.choice(convx_filters)\n",
    "\tparam_space['model/conv5/kernel']   = tune.choice(convx_kernels)\n",
    "\tparam_space['model/conv5/padding']  = tune.choice(convx_padding)\n",
    "\tparam_space['model/conv5/dilation'] = 1\n",
    "\tparam_space['model/conv6/filters']  = tune.choice(convx_filters)\n",
    "\tparam_space['model/conv6/kernel']   = tune.choice(convx_kernels)\n",
    "\tparam_space['model/conv6/padding']  = tune.choice(convx_padding)\n",
    "\tparam_space['model/conv6/dilation'] = 1\n",
    "\n",
    "# Pooling\n",
    "param_space['model/maxpool1/kernel']  = tune.choice(poolx_kernels)\n",
    "param_space['model/maxpool1/padding'] = 'same'\n",
    "param_space['model/maxpool2/kernel']  = tune.choice(poolx_kernels)\n",
    "param_space['model/maxpool2/padding'] = 'same'\n",
    "param_space['model/maxpool3/kernel']  = tune.choice(poolx_kernels)\n",
    "param_space['model/maxpool3/padding'] = 'same'\n",
    "\n",
    "# Linear\n",
    "param_space['model/fc1/features'] = tune.choice(fcx_features)\n",
    "param_space['model/fc2/features'] = tune.choice(fcx_features)"
   ]
  },
  {
   "cell_type": "code",
   "execution_count": null,
   "id": "665a0c20-95b3-4acd-ba9c-801dbd8ec72e",
   "metadata": {
    "tags": []
   },
   "outputs": [],
   "source": [
    "# Define starting parameters for algorithm (some decent starting point from previous runs)\n",
    "\n",
    "params_initial = None\n",
    "\n",
    "if CONFIG['model/type'].startswith('zrimec2020r') :\n",
    "\tfilename = os.path.join(RES_TUNER, 'zrimec2020.json')\n",
    "\n",
    "\tif os.path.exists(filename) :\n",
    "\t\tparams_initial = data_loader.load_json(filename = filename)\n",
    "\n",
    "# DOES NOT WORK WITH (X, Y) KERNELS AND PADDING\n",
    "if CONFIG['model/type'].startswith('washburn2019r') :\n",
    "\tfilename = os.path.join(RES_TUNER, 'washburn2019.json')\n",
    "\n",
    "\tif os.path.exists(filename) :\n",
    "\t\tparams_initial = data_loader.load_json(filename = filename)"
   ]
  },
  {
   "cell_type": "markdown",
   "id": "08b64877-eb4c-4147-9c5f-d9ed43be320a",
   "metadata": {},
   "source": [
    "## 2.3 Tuning"
   ]
  },
  {
   "cell_type": "code",
   "execution_count": null,
   "id": "93eec23b-6fd7-4023-9187-c18f9e5f273f",
   "metadata": {
    "tags": []
   },
   "outputs": [],
   "source": [
    "# Create a tune method\n",
    "\n",
    "tune_method = tune.with_resources(\n",
    "\tlambda x : cnn_raytune.regression_tune(\n",
    "\t\ttune_config = x,\n",
    "\t\tcore_config = CONFIG\n",
    "\t),\n",
    "\t{\n",
    "\t\t'cpu' : max(1, SYSTEM['platform/cpu/count'] // 2),\n",
    "\t\t'gpu' : max(0, SYSTEM['platform/gpu/count'])\n",
    "\t}\n",
    ")"
   ]
  },
  {
   "cell_type": "code",
   "execution_count": null,
   "id": "6b5989e9-3e4f-4589-9837-7e3bdeeac746",
   "metadata": {
    "tags": []
   },
   "outputs": [],
   "source": [
    "# Create tune config\n",
    "\n",
    "tune_searcher = HyperOptSearch(\n",
    "\tpoints_to_evaluate = params_initial,\n",
    "\tmetric             = 'valid_loss',\n",
    "\tmode               = 'min'\n",
    ")\n",
    "\n",
    "tune_searcher = ConcurrencyLimiter(\n",
    "\ttune_searcher,\n",
    "\tmax_concurrent = CONFIG['tuner/max_concurrent']\n",
    ")\n",
    "\n",
    "tune_scheduler = ASHAScheduler(\n",
    "\ttime_attr        = 'training_iteration',\n",
    "\tmax_t            = CONFIG['tuner/max_epochs'],\n",
    "\tgrace_period     = CONFIG['tuner/min_epochs'],\n",
    "\treduction_factor = 4,\n",
    "\tbrackets         = 1\n",
    ")\n",
    "\n",
    "tune_config = TuneConfig(\n",
    "\tmetric      = 'valid_loss',\n",
    "\tmode        = 'min',\n",
    "\tnum_samples = CONFIG['tuner/trials'],\n",
    "\tsearch_alg  = tune_searcher,\n",
    "\tscheduler   = tune_scheduler,\n",
    "\ttrial_name_creator    = lambda x : str(x.trial_id),\n",
    "\ttrial_dirname_creator = lambda x : str(x.trial_id)\n",
    ")"
   ]
  },
  {
   "cell_type": "code",
   "execution_count": null,
   "id": "a4d6c612-49a0-4b61-955a-27a1d86982fa",
   "metadata": {
    "tags": []
   },
   "outputs": [],
   "source": [
    "# Create tune run config\n",
    "\n",
    "VERBOSE_SILENT = 0\n",
    "VERBOSE_STATUS = 1\n",
    "VERBOSE_BRIEF  = 2\n",
    "VERBOSE_DETAIL = 3\n",
    "\n",
    "reporter = None\n",
    "stopper  = None\n",
    "\n",
    "if CONFIG['tuner/notebook'] :\n",
    "\treporter = JupyterNotebookReporter(\n",
    "\t\tmax_column_length = 32,\n",
    "\t\tmax_progress_rows = 20,\n",
    "\t\tparameter_columns = ['dataset/batch_size', 'optimizer/name', 'optimizer/lr', 'scheduler/name', 'model/dropout'],\n",
    "\t\tmetric_columns    = ['valid_loss', 'valid_r2', 'train_loss']\n",
    "\t)\n",
    "\n",
    "failure = FailureConfig(\n",
    "\tmax_failures = 0\n",
    ")\n",
    "\n",
    "checkpoint = CheckpointConfig(\n",
    "\tnum_to_keep = None\n",
    ")\n",
    "\n",
    "if CONFIG['tuner/stopper'] :\n",
    "\tstopper = TimeoutStopper(\n",
    "\t\ttimeout = datetime.timedelta(\n",
    "\t\t\tdays    = CONFIG['tuner/stopper/days'],\n",
    "\t\t\thours   = CONFIG['tuner/stopper/hours'],\n",
    "\t\t\tminutes = CONFIG['tuner/stopper/minutes']\n",
    "\t\t)\n",
    "\t)\n",
    "\n",
    "run_config = RunConfig(\n",
    "\tname              = 'raytune',\n",
    "\tlocal_dir         = OUT_DATA,\n",
    "\tcallbacks         = None,\n",
    "\tlog_to_file       = True,\n",
    "\tstop              = stopper,\n",
    "\tverbose           = VERBOSE_STATUS,\n",
    "\tfailure_config    = failure,\n",
    "\tcheckpoint_config = checkpoint,\n",
    "\tprogress_reporter = reporter\n",
    ")"
   ]
  },
  {
   "cell_type": "code",
   "execution_count": null,
   "id": "844676ae-777a-46ab-9302-89085342b326",
   "metadata": {
    "tags": []
   },
   "outputs": [],
   "source": [
    "# Create tune and fit\n",
    "\n",
    "tuner = Tuner(\n",
    "\ttrainable   = tune_method,\n",
    "\ttune_config = tune_config,\n",
    "\trun_config  = run_config,\n",
    "\tparam_space = param_space\n",
    ")\n",
    "\n",
    "report = tuner.fit()"
   ]
  },
  {
   "cell_type": "markdown",
   "id": "2940fc14-d848-4018-a8d2-96ec719a8652",
   "metadata": {},
   "source": [
    "## 2.4 Reports"
   ]
  },
  {
   "cell_type": "code",
   "execution_count": null,
   "id": "468b6865-7e33-4372-a7b9-09d26beb098e",
   "metadata": {
    "tags": []
   },
   "outputs": [],
   "source": [
    "# Check if there have been errors\n",
    "\n",
    "if report.errors :\n",
    "\tprint('At least one of the trials has failed.')\n",
    "else :\n",
    "\tprint('No errors.')"
   ]
  },
  {
   "cell_type": "code",
   "execution_count": null,
   "id": "048991f8-bf5d-47f2-b870-7365789f042c",
   "metadata": {
    "tags": []
   },
   "outputs": [],
   "source": [
    "# Print possible columns\n",
    "\n",
    "for index, column in enumerate(report.get_dataframe().columns, start = 1) :\n",
    "\tprint('{:<40s}'.format(column), end = ' ')\n",
    "\n",
    "\tif index % 3 == 0 :\n",
    "\t\tprint()"
   ]
  },
  {
   "cell_type": "code",
   "execution_count": null,
   "id": "60cedfc3-65d4-4870-8093-0c5bb784fdf8",
   "metadata": {
    "tags": []
   },
   "outputs": [],
   "source": [
    "# Print the results as dataframe\n",
    "\n",
    "dataframe = report.get_dataframe()\n",
    "\n",
    "print('Shortest training time : {:8,.1f} minutes'.format(dataframe['time_total_s'].min()  / 60.0))\n",
    "print(' Longest training time : {:8,.1f} minutes'.format(dataframe['time_total_s'].max()  / 60.0))\n",
    "print('   Total training time : {:8,.1f} minutes'.format(dataframe['time_total_s'].sum()  / 60.0))\n",
    "print('    Mean training time : {:8,.1f} minutes'.format(dataframe['time_total_s'].mean() / 60.0))\n",
    "print()\n",
    "\n",
    "trials = dataframe[['trial_id', 'logdir', 'time_total_s', 'training_iteration', 'valid_loss', 'valid_r2', 'valid_mae', 'train_loss']]\n",
    "trials = trials.sort_values('valid_loss', ascending = True)\n",
    "trials"
   ]
  },
  {
   "cell_type": "markdown",
   "id": "b25ca4ab-214f-451c-8854-11b73696fc0c",
   "metadata": {},
   "source": [
    "### 2.4.1 VIsualization"
   ]
  },
  {
   "cell_type": "code",
   "execution_count": null,
   "id": "c3d0362f-aed3-4029-9e2d-06b653f51d32",
   "metadata": {
    "tags": []
   },
   "outputs": [],
   "source": [
    "# Plot trials valid loss\n",
    "\n",
    "cnn_raytune.plot_trials_loss(\n",
    "\tdataframe  = trials,\n",
    "\tmax_trials = 10,\n",
    "\talpha      = 0.9,\n",
    "\tfilename   = os.path.join(OUT_PLOT, CONFIG['model/type'] + '-trials')\n",
    ")"
   ]
  },
  {
   "cell_type": "code",
   "execution_count": null,
   "id": "4e8ddb17-af25-45e1-9833-20066e680452",
   "metadata": {
    "tags": []
   },
   "outputs": [],
   "source": [
    "# Plot trials valid r2\n",
    "\n",
    "cnn_raytune.plot_trials_r2(\n",
    "\tdataframe  = trials,\n",
    "\tmax_trials = 10,\n",
    "\talpha      = 0.9,\n",
    "\tfilename   = os.path.join(OUT_PLOT, CONFIG['model/type'] + '-trials')\n",
    ")"
   ]
  },
  {
   "cell_type": "markdown",
   "id": "8e10efdd-76db-46e4-903d-7118650bb027",
   "metadata": {},
   "source": [
    "### 2.4.2 Best"
   ]
  },
  {
   "cell_type": "code",
   "execution_count": null,
   "id": "64bf57b1-c93a-4225-a592-3c48b3ee16c3",
   "metadata": {
    "tags": []
   },
   "outputs": [],
   "source": [
    "# Display best trial\n",
    "\n",
    "best = report.get_best_result()\n",
    "\n",
    "print('Best metric : loss = {: 8.5f} r2 = {: 8.5f}'.format(best.metrics['valid_loss'], best.metrics['valid_r2']))\n",
    "print('Best config : ')\n",
    "\n",
    "for key, val in best.config.items() :\n",
    "\tif isinstance(key, str) : key = f'\"{key}\"'\n",
    "\tif isinstance(val, str) : val = f'\"{val}\"'\n",
    "\n",
    "\tprint('{:30s} : {}'.format(key, val))"
   ]
  },
  {
   "cell_type": "code",
   "execution_count": null,
   "id": "9e2e2351-82eb-41db-932d-ddc5fece0244",
   "metadata": {
    "tags": []
   },
   "outputs": [],
   "source": [
    "# Display per iteration\n",
    "\n",
    "progress = data_loader.load_csv(\n",
    "\tfilename = os.path.join(best.log_dir, 'progress.csv')\n",
    ")\n",
    "\n",
    "progress = progress[['trial_id', 'experiment_id', 'time_total_s', 'training_iteration', 'lr', 'valid_loss', 'valid_r2', 'valid_mae', 'train_loss']]\n",
    "progress"
   ]
  },
  {
   "cell_type": "code",
   "execution_count": null,
   "id": "4eaa27d6-0da6-4e09-a49e-5cc9b25897c9",
   "metadata": {
    "tags": []
   },
   "outputs": [],
   "source": [
    "# Plot best trial valid loss\n",
    "\n",
    "cnn_raytune.plot_trial_loss(\n",
    "\tdataframe = progress,\n",
    "\tfilename  = os.path.join(OUT_PLOT, CONFIG['model/type'] + '-best')\n",
    ")"
   ]
  },
  {
   "cell_type": "code",
   "execution_count": null,
   "id": "5057fefd-cb7d-4244-b4bc-3d6ed10b53f9",
   "metadata": {
    "tags": []
   },
   "outputs": [],
   "source": [
    "# Plot best trial valid r2\n",
    "\n",
    "cnn_raytune.plot_trial_r2(\n",
    "\tdataframe = progress,\n",
    "\tfilename  = os.path.join(OUT_PLOT, CONFIG['model/type'] + '-best')\n",
    ")"
   ]
  },
  {
   "cell_type": "code",
   "execution_count": null,
   "id": "0461429d-9439-4764-b085-044ae6121581",
   "metadata": {
    "tags": []
   },
   "outputs": [],
   "source": [
    "# Plot trials learning rate\n",
    "\n",
    "cnn_raytune.plot_trial_lr(\n",
    "\tdataframe = progress,\n",
    "\tfilename  = os.path.join(OUT_PLOT, CONFIG['model/type'] + '-best')\n",
    ")"
   ]
  },
  {
   "cell_type": "markdown",
   "id": "5f916513-555e-4c4a-a803-194373aab336",
   "metadata": {},
   "source": [
    "### 2.4.3 Worst"
   ]
  },
  {
   "cell_type": "code",
   "execution_count": null,
   "id": "d2d8e546-a974-4d35-aa77-3f6e865b8e22",
   "metadata": {
    "tags": []
   },
   "outputs": [],
   "source": [
    "# Display worst trial\n",
    "\n",
    "worst = report.get_best_result(metric = 'valid_loss', mode = 'max')\n",
    "\n",
    "print('Worst metric : loss = {: 8.5f} r2 = {: 8.5f}'.format(worst.metrics['valid_loss'], worst.metrics['valid_r2']))\n",
    "print('Worst config : ')\n",
    "\n",
    "for key, val in best.config.items() :\n",
    "\tif isinstance(key, str) : key = f'\"{key}\"'\n",
    "\tif isinstance(val, str) : val = f'\"{val}\"'\n",
    "\n",
    "\tprint('{:30s} : {}'.format(key, val))"
   ]
  },
  {
   "cell_type": "code",
   "execution_count": null,
   "id": "de3058da-1648-4d3f-94e1-540f5cb83905",
   "metadata": {
    "tags": []
   },
   "outputs": [],
   "source": [
    "# Display per iteration\n",
    "\n",
    "progress = data_loader.load_csv(\n",
    "\tfilename = os.path.join(worst.log_dir, 'progress.csv')\n",
    ")\n",
    "\n",
    "progress = progress[['trial_id', 'experiment_id', 'time_total_s', 'training_iteration', 'lr', 'valid_loss', 'valid_r2', 'valid_mae', 'train_loss']]\n",
    "progress"
   ]
  },
  {
   "cell_type": "markdown",
   "id": "8a22c9b0-2060-4ec0-845a-6d2880a6e865",
   "metadata": {},
   "source": [
    "## 2.5 Save"
   ]
  },
  {
   "cell_type": "code",
   "execution_count": null,
   "id": "bb49abee-4242-4e40-b516-a3682b5fefd7",
   "metadata": {
    "tags": []
   },
   "outputs": [],
   "source": [
    "# Save the tuning results\n",
    "\n",
    "report.get_dataframe().to_csv(\n",
    "\tos.path.join(OUT_DATA, CONFIG['model/type'] + '-report.csv')\n",
    ")"
   ]
  }
 ],
 "metadata": {
  "kernelspec": {
   "display_name": "Python 3 (ipykernel)",
   "language": "python",
   "name": "python3"
  },
  "language_info": {
   "codemirror_mode": {
    "name": "ipython",
    "version": 3
   },
   "file_extension": ".py",
   "mimetype": "text/x-python",
   "name": "python",
   "nbconvert_exporter": "python",
   "pygments_lexer": "ipython3",
   "version": "3.10.7"
  }
 },
 "nbformat": 4,
 "nbformat_minor": 5
}
