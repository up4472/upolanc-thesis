{
 "cells": [
  {
   "cell_type": "code",
   "execution_count": 1,
   "id": "4d6c1030-49e7-4910-a32d-0ae78ce0ce1f",
   "metadata": {
    "execution": {
     "iopub.execute_input": "2023-02-19T10:57:32.489617Z",
     "iopub.status.busy": "2023-02-19T10:57:32.489617Z",
     "iopub.status.idle": "2023-02-19T10:57:33.777723Z",
     "shell.execute_reply": "2023-02-19T10:57:33.777223Z",
     "shell.execute_reply.started": "2023-02-19T10:57:32.489617Z"
    },
    "tags": []
   },
   "outputs": [],
   "source": [
    "# Libraries\n",
    "\n",
    "import datetime\n",
    "import json\n",
    "import numpy\n",
    "import os\n",
    "import platform\n",
    "import shutil\n",
    "import sys\n",
    "import torch"
   ]
  },
  {
   "cell_type": "code",
   "execution_count": 2,
   "id": "0f4e7e4e-b486-4abf-ae0d-4b22537b648b",
   "metadata": {
    "execution": {
     "iopub.execute_input": "2023-02-19T10:57:33.779726Z",
     "iopub.status.busy": "2023-02-19T10:57:33.779224Z",
     "iopub.status.idle": "2023-02-19T10:57:33.793236Z",
     "shell.execute_reply": "2023-02-19T10:57:33.792736Z",
     "shell.execute_reply.started": "2023-02-19T10:57:33.779726Z"
    },
    "tags": []
   },
   "outputs": [],
   "source": [
    "# Root directory\n",
    "\n",
    "ROOT = os.getcwd()\n",
    "\n",
    "while not ROOT.endswith('upolanc-thesis') :\n",
    "\tROOT = os.path.abspath(os.path.join(ROOT, os.pardir))\n",
    "\n",
    "\tif len(ROOT) < len('upolanc-thesis') :\n",
    "\t\tif   platform.system() == 'Linux' :\n",
    "\t\t\tROOT = '/d/hpc/home/up4472/workspace/upolanc-thesis'\n",
    "\t\telif platform.system() == 'Windows' :\n",
    "\t\t\tROOT = 'C:\\\\Developer\\\\Workspace\\\\PyCharm\\\\Projects\\\\upolanc-thesis'\n",
    "\t\telse :\n",
    "\t\t\traise ValueError()\n",
    "\n",
    "\t\tprint(f'Warning : could not find correct directory, using default : {ROOT}')\n",
    "\t\tbreak\n",
    "\n",
    "if ROOT not in sys.path :\n",
    "\tsys.path.append(ROOT)\n",
    "\n",
    "os.chdir(ROOT)"
   ]
  },
  {
   "cell_type": "code",
   "execution_count": 3,
   "id": "6e2187b3-fd0c-4e6e-b02a-ffbe11f26afc",
   "metadata": {
    "execution": {
     "iopub.execute_input": "2023-02-19T10:57:33.794238Z",
     "iopub.status.busy": "2023-02-19T10:57:33.793737Z",
     "iopub.status.idle": "2023-02-19T10:57:35.592781Z",
     "shell.execute_reply": "2023-02-19T10:57:35.592281Z",
     "shell.execute_reply.started": "2023-02-19T10:57:33.794238Z"
    },
    "tags": []
   },
   "outputs": [],
   "source": [
    "# Tune\n",
    "\n",
    "from ray.air                  import CheckpointConfig\n",
    "from ray.air                  import FailureConfig\n",
    "from ray.air                  import RunConfig\n",
    "from ray.tune                 import JupyterNotebookReporter\n",
    "from ray.tune                 import TuneConfig\n",
    "from ray.tune                 import Tuner\n",
    "from ray.tune.logger          import CSVLoggerCallback\n",
    "from ray.tune.schedulers      import ASHAScheduler\n",
    "from ray.tune.stopper         import TimeoutStopper\n",
    "from ray.tune.search          import ConcurrencyLimiter\n",
    "from ray.tune.search.bayesopt import BayesOptSearch\n",
    "from ray.tune.search.hyperopt import HyperOptSearch\n",
    "\n",
    "from ray import tune"
   ]
  },
  {
   "cell_type": "code",
   "execution_count": 4,
   "id": "53cad32c-4de4-412f-a1e9-9e48a8f77213",
   "metadata": {
    "execution": {
     "iopub.execute_input": "2023-02-19T10:57:35.594283Z",
     "iopub.status.busy": "2023-02-19T10:57:35.593783Z",
     "iopub.status.idle": "2023-02-19T10:57:36.663701Z",
     "shell.execute_reply": "2023-02-19T10:57:36.662700Z",
     "shell.execute_reply.started": "2023-02-19T10:57:35.594283Z"
    },
    "tags": []
   },
   "outputs": [],
   "source": [
    "# Code\n",
    "\n",
    "from source.python.cnn import core    as cnn_core\n",
    "from source.python.cnn import dataset as cnn_dataset\n",
    "from source.python.cnn import raytune as cnn_raytune\n",
    "from source.python.io  import loader  as data_loader"
   ]
  },
  {
   "cell_type": "markdown",
   "id": "d50a8f4a-ddce-4960-a822-3f612701ff0d",
   "metadata": {},
   "source": [
    "# 1. Setup"
   ]
  },
  {
   "cell_type": "code",
   "execution_count": 5,
   "id": "cd10db9c-1c2c-4761-864f-1606829223bc",
   "metadata": {
    "execution": {
     "iopub.execute_input": "2023-02-19T10:57:36.664702Z",
     "iopub.status.busy": "2023-02-19T10:57:36.664202Z",
     "iopub.status.idle": "2023-02-19T10:57:36.678714Z",
     "shell.execute_reply": "2023-02-19T10:57:36.678213Z",
     "shell.execute_reply.started": "2023-02-19T10:57:36.664702Z"
    }
   },
   "outputs": [],
   "source": [
    "# Setup model to tune\n",
    "\n",
    "MODEL_NAME = 'zrimec2020'\n",
    "MODEL_TYPE = 'r'"
   ]
  },
  {
   "cell_type": "code",
   "execution_count": 6,
   "id": "7d9d420a-cde8-46cb-be15-1f99347d9bdd",
   "metadata": {
    "execution": {
     "iopub.execute_input": "2023-02-19T10:57:36.679715Z",
     "iopub.status.busy": "2023-02-19T10:57:36.679715Z",
     "iopub.status.idle": "2023-02-19T10:57:36.694728Z",
     "shell.execute_reply": "2023-02-19T10:57:36.693727Z",
     "shell.execute_reply.started": "2023-02-19T10:57:36.679715Z"
    },
    "tags": []
   },
   "outputs": [
    {
     "name": "stdout",
     "output_type": "stream",
     "text": [
      "     Root Directory : C:\\Developer\\Workspace\\PyCharm\\Projects\\upolanc-thesis\n",
      "   Output Directory : C:\\Developer\\Workspace\\PyCharm\\Projects\\upolanc-thesis\\output\\nbp06-tuner\\zrimec2020\n",
      "   Output Directory : C:\\Developer\\Workspace\\PyCharm\\Projects\\upolanc-thesis\\output\\nbp06-tuner\\zrimec2020\\plot\n",
      " Resource Directory : C:\\Developer\\Workspace\\PyCharm\\Projects\\upolanc-thesis\\resources\\tuner\n",
      " Resource Directory : C:\\Developer\\Workspace\\PyCharm\\Projects\\upolanc-thesis\\output\\nbp04-feature\n",
      " Resource Directory : C:\\Developer\\Workspace\\PyCharm\\Projects\\upolanc-thesis\\output\\nbp05-target\n"
     ]
    }
   ],
   "source": [
    "# Setup some directory paths.\n",
    "\n",
    "CWD = ROOT\n",
    "OUT = os.path.join(CWD, 'output')\n",
    "RES = os.path.join(CWD, 'resources')\n",
    "\n",
    "OUT_DATA  = os.path.join(OUT,      'nbp06-tuner', MODEL_NAME)\n",
    "OUT_PLOT  = os.path.join(OUT_DATA, 'plot')\n",
    "RES_TUNER = os.path.join(RES,      'tuner')\n",
    "RES_NBP04 = os.path.join(OUT,      'nbp04-feature')\n",
    "RES_NBP05 = os.path.join(OUT,      'nbp05-target')\n",
    "\n",
    "shutil.rmtree(OUT_DATA, ignore_errors = True)\n",
    "\n",
    "os.makedirs(OUT_DATA, exist_ok = True)\n",
    "os.makedirs(OUT_PLOT, exist_ok = True)\n",
    "\n",
    "print(f'     Root Directory : {CWD}')\n",
    "print(f'   Output Directory : {OUT_DATA}')\n",
    "print(f'   Output Directory : {OUT_PLOT}')\n",
    "print(f' Resource Directory : {RES_TUNER}')\n",
    "print(f' Resource Directory : {RES_NBP04}')\n",
    "print(f' Resource Directory : {RES_NBP05}')"
   ]
  },
  {
   "cell_type": "code",
   "execution_count": 7,
   "id": "a7f1d561-e60e-44ea-9ffc-60f3bc53c1c4",
   "metadata": {
    "execution": {
     "iopub.execute_input": "2023-02-19T10:57:36.697229Z",
     "iopub.status.busy": "2023-02-19T10:57:36.696729Z",
     "iopub.status.idle": "2023-02-19T10:57:36.740767Z",
     "shell.execute_reply": "2023-02-19T10:57:36.740267Z",
     "shell.execute_reply.started": "2023-02-19T10:57:36.697229Z"
    },
    "tags": []
   },
   "outputs": [
    {
     "name": "stdout",
     "output_type": "stream",
     "text": [
      "platform/python           : 3.10.7\n",
      "platform/system           : Windows\n",
      "platform/release          : 10\n",
      "platform/version          : 10.0.19044\n",
      "platform/cpu/name         : N/A\n",
      "platform/cpu/count        : 12\n",
      "platform/gpu/name         : NVIDIA GeForce RTX 3060 Ti\n",
      "platform/gpu/available    : True\n",
      "platform/gpu/count        : 1\n",
      "platform/memory/total     : 31.924 GB\n",
      "platform/memory/available : 15.968 GB\n"
     ]
    }
   ],
   "source": [
    "# System and device\n",
    "\n",
    "DEVICE = cnn_core.get_device(only_cpu = False)\n",
    "SYSTEM = cnn_core.get_system_info()\n",
    "\n",
    "for key, value in SYSTEM.items() :\n",
    "\tprint('{:25s} : {}'.format(key, value))"
   ]
  },
  {
   "cell_type": "code",
   "execution_count": 8,
   "id": "d254fe75-06de-4b51-88ab-e6af1f5af769",
   "metadata": {
    "execution": {
     "iopub.execute_input": "2023-02-19T10:57:36.742269Z",
     "iopub.status.busy": "2023-02-19T10:57:36.741768Z",
     "iopub.status.idle": "2023-02-19T10:57:53.526679Z",
     "shell.execute_reply": "2023-02-19T10:57:53.525678Z",
     "shell.execute_reply.started": "2023-02-19T10:57:36.742269Z"
    },
    "tags": []
   },
   "outputs": [],
   "source": [
    "# Load the input transcript features\n",
    "\n",
    "feature_sequence = data_loader.load_fasta(\n",
    "\tfilename  = os.path.join(RES_NBP04, 'features-bp2150.fasta'),\n",
    "\tto_string = True\n",
    ")\n",
    "\n",
    "feature_base = data_loader.load_npz(\n",
    "\tfilename = os.path.join(RES_NBP04, 'features-base.npz')\n",
    ")"
   ]
  },
  {
   "cell_type": "markdown",
   "id": "de314874-ff3f-43c1-bb0a-919f2d63e775",
   "metadata": {},
   "source": [
    "# 2. CNN Regression"
   ]
  },
  {
   "cell_type": "markdown",
   "id": "f1c53b24-13a8-42bb-8c70-b9ba0f04d28e",
   "metadata": {},
   "source": [
    "## 2.1 Config"
   ]
  },
  {
   "cell_type": "code",
   "execution_count": 9,
   "id": "7df5b6e1-2eb9-4c84-a31b-418ccbfd4766",
   "metadata": {
    "execution": {
     "iopub.execute_input": "2023-02-19T10:57:53.529181Z",
     "iopub.status.busy": "2023-02-19T10:57:53.528680Z",
     "iopub.status.idle": "2023-02-19T10:57:53.541691Z",
     "shell.execute_reply": "2023-02-19T10:57:53.541191Z",
     "shell.execute_reply.started": "2023-02-19T10:57:53.529181Z"
    },
    "tags": []
   },
   "outputs": [],
   "source": [
    "# Define basic data parameters\n",
    "\n",
    "CONFIG = {\n",
    "\t'core/random'           : None,\n",
    "\t'core/device'           : DEVICE,\n",
    "\t'core/rootdir'          : ROOT,\n",
    "\t'dataset/filepath'      : os.path.join(OUT_DATA, 'dataset.pkl'),\n",
    "\t'dataset/expanddim'     : None,\n",
    "\t'dataset/split/valid'   : 0.2,\n",
    "\t'dataset/split/test'    : 0.2,\n",
    "\t'tuner/trials'          : 2,\n",
    "\t'tuner/max_epochs'      : 50,\n",
    "\t'tuner/min_epochs'      : 5,\n",
    "\t'tuner/max_concurrent'  : 1,\n",
    "\t'tuner/notebook'        : True,\n",
    "\t'tuner/checkpoint'      : False,\n",
    "\t'tuner/stopper'         : True,\n",
    "\t'tuner/stopper/days'    : 3,\n",
    "\t'tuner/stopper/hours'   : 18,\n",
    "\t'tuner/stopper/minutes' : 0,\n",
    "\t'model/name'            : MODEL_NAME,\n",
    "\t'model/type'            : MODEL_NAME + MODEL_TYPE,\n",
    "\t'model/epochs'          : 5,\n",
    "\t'model/input/channels'  : 1,\n",
    "\t'model/input/height'    : 4,\n",
    "\t'model/input/width'     : 2150,\n",
    "\t'model/input/features'  : None,\n",
    "\t'model/output/target'   : 'tissue',\n",
    "\t'model/output/type'     : 'mean',\n",
    "\t'model/output/filter'   : None,\n",
    "\t'model/output/size'     : None\n",
    "}\n",
    "\n",
    "CONFIG['core/random'] = cnn_core.lock_random(\n",
    "\tseed     = CONFIG['core/random'],\n",
    "\tgenerate = True\n",
    ")\n",
    "\n",
    "if CONFIG['model/name'].startswith('washburn2019') :\n",
    "\tCONFIG['dataset/expanddim'] = 0"
   ]
  },
  {
   "cell_type": "code",
   "execution_count": 10,
   "id": "4fe4b9b5-4ee7-4b12-a0b8-ab7e037214c0",
   "metadata": {
    "execution": {
     "iopub.execute_input": "2023-02-19T10:57:53.543193Z",
     "iopub.status.busy": "2023-02-19T10:57:53.542693Z",
     "iopub.status.idle": "2023-02-19T10:57:53.557204Z",
     "shell.execute_reply": "2023-02-19T10:57:53.556704Z",
     "shell.execute_reply.started": "2023-02-19T10:57:53.543193Z"
    },
    "tags": []
   },
   "outputs": [
    {
     "name": "stdout",
     "output_type": "stream",
     "text": [
      "Model Name  : zrimec2020\n",
      "Model Type  : zrimec2020r\n",
      "Random Seed : 442641457\n"
     ]
    }
   ],
   "source": [
    "# Prints\n",
    "\n",
    "print('Model Name  : {}'.format(CONFIG['model/name']))\n",
    "print('Model Type  : {}'.format(CONFIG['model/type']))\n",
    "print('Random Seed : {}'.format(CONFIG['core/random']))"
   ]
  },
  {
   "cell_type": "code",
   "execution_count": 11,
   "id": "1f033c8a-dd5e-46d2-bb7f-2a99ed0d5a50",
   "metadata": {
    "execution": {
     "iopub.execute_input": "2023-02-19T10:57:53.558706Z",
     "iopub.status.busy": "2023-02-19T10:57:53.558206Z",
     "iopub.status.idle": "2023-02-19T10:57:56.783975Z",
     "shell.execute_reply": "2023-02-19T10:57:56.782974Z",
     "shell.execute_reply.started": "2023-02-19T10:57:53.558706Z"
    },
    "tags": []
   },
   "outputs": [
    {
     "data": {
      "text/html": [
       "<div>\n",
       "<style scoped>\n",
       "    .dataframe tbody tr th:only-of-type {\n",
       "        vertical-align: middle;\n",
       "    }\n",
       "\n",
       "    .dataframe tbody tr th {\n",
       "        vertical-align: top;\n",
       "    }\n",
       "\n",
       "    .dataframe thead th {\n",
       "        text-align: right;\n",
       "    }\n",
       "</style>\n",
       "<table border=\"1\" class=\"dataframe\">\n",
       "  <thead>\n",
       "    <tr style=\"text-align: right;\">\n",
       "      <th></th>\n",
       "      <th>Transcript</th>\n",
       "      <th>TPM_Value</th>\n",
       "      <th>TPM_Label</th>\n",
       "      <th>Tissue</th>\n",
       "      <th>Feature</th>\n",
       "    </tr>\n",
       "  </thead>\n",
       "  <tbody>\n",
       "    <tr>\n",
       "      <th>flower?AT1G01010.1</th>\n",
       "      <td>AT1G01010.1</td>\n",
       "      <td>[1.5681916074727578]</td>\n",
       "      <td>[1]</td>\n",
       "      <td>[flower]</td>\n",
       "      <td>[1, 0, 0, 0, 0]</td>\n",
       "    </tr>\n",
       "    <tr>\n",
       "      <th>leaf?AT1G01010.1</th>\n",
       "      <td>AT1G01010.1</td>\n",
       "      <td>[1.301200815779489]</td>\n",
       "      <td>[1]</td>\n",
       "      <td>[leaf]</td>\n",
       "      <td>[0, 1, 0, 0, 0]</td>\n",
       "    </tr>\n",
       "    <tr>\n",
       "      <th>root?AT1G01010.1</th>\n",
       "      <td>AT1G01010.1</td>\n",
       "      <td>[2.2188703135217023]</td>\n",
       "      <td>[2]</td>\n",
       "      <td>[root]</td>\n",
       "      <td>[0, 0, 1, 0, 0]</td>\n",
       "    </tr>\n",
       "    <tr>\n",
       "      <th>seed?AT1G01010.1</th>\n",
       "      <td>AT1G01010.1</td>\n",
       "      <td>[1.4635188472678688]</td>\n",
       "      <td>[1]</td>\n",
       "      <td>[seed]</td>\n",
       "      <td>[0, 0, 0, 1, 0]</td>\n",
       "    </tr>\n",
       "    <tr>\n",
       "      <th>seedling?AT1G01010.1</th>\n",
       "      <td>AT1G01010.1</td>\n",
       "      <td>[1.7152924597435606]</td>\n",
       "      <td>[1]</td>\n",
       "      <td>[seedling]</td>\n",
       "      <td>[0, 0, 0, 0, 1]</td>\n",
       "    </tr>\n",
       "    <tr>\n",
       "      <th>...</th>\n",
       "      <td>...</td>\n",
       "      <td>...</td>\n",
       "      <td>...</td>\n",
       "      <td>...</td>\n",
       "      <td>...</td>\n",
       "    </tr>\n",
       "    <tr>\n",
       "      <th>flower?AT5G67640.1</th>\n",
       "      <td>AT5G67640.1</td>\n",
       "      <td>[2.00921777463083]</td>\n",
       "      <td>[2]</td>\n",
       "      <td>[flower]</td>\n",
       "      <td>[1, 0, 0, 0, 0]</td>\n",
       "    </tr>\n",
       "    <tr>\n",
       "      <th>leaf?AT5G67640.1</th>\n",
       "      <td>AT5G67640.1</td>\n",
       "      <td>[1.6061456372803276]</td>\n",
       "      <td>[1]</td>\n",
       "      <td>[leaf]</td>\n",
       "      <td>[0, 1, 0, 0, 0]</td>\n",
       "    </tr>\n",
       "    <tr>\n",
       "      <th>root?AT5G67640.1</th>\n",
       "      <td>AT5G67640.1</td>\n",
       "      <td>[1.819972849820015]</td>\n",
       "      <td>[1]</td>\n",
       "      <td>[root]</td>\n",
       "      <td>[0, 0, 1, 0, 0]</td>\n",
       "    </tr>\n",
       "    <tr>\n",
       "      <th>seed?AT5G67640.1</th>\n",
       "      <td>AT5G67640.1</td>\n",
       "      <td>[1.8406892672654074]</td>\n",
       "      <td>[1]</td>\n",
       "      <td>[seed]</td>\n",
       "      <td>[0, 0, 0, 1, 0]</td>\n",
       "    </tr>\n",
       "    <tr>\n",
       "      <th>seedling?AT5G67640.1</th>\n",
       "      <td>AT5G67640.1</td>\n",
       "      <td>[1.8393338501503638]</td>\n",
       "      <td>[1]</td>\n",
       "      <td>[seedling]</td>\n",
       "      <td>[0, 0, 0, 0, 1]</td>\n",
       "    </tr>\n",
       "  </tbody>\n",
       "</table>\n",
       "<p>152070 rows × 5 columns</p>\n",
       "</div>"
      ],
      "text/plain": [
       "                       Transcript             TPM_Value TPM_Label      Tissue  \\\n",
       "flower?AT1G01010.1    AT1G01010.1  [1.5681916074727578]       [1]    [flower]   \n",
       "leaf?AT1G01010.1      AT1G01010.1   [1.301200815779489]       [1]      [leaf]   \n",
       "root?AT1G01010.1      AT1G01010.1  [2.2188703135217023]       [2]      [root]   \n",
       "seed?AT1G01010.1      AT1G01010.1  [1.4635188472678688]       [1]      [seed]   \n",
       "seedling?AT1G01010.1  AT1G01010.1  [1.7152924597435606]       [1]  [seedling]   \n",
       "...                           ...                   ...       ...         ...   \n",
       "flower?AT5G67640.1    AT5G67640.1    [2.00921777463083]       [2]    [flower]   \n",
       "leaf?AT5G67640.1      AT5G67640.1  [1.6061456372803276]       [1]      [leaf]   \n",
       "root?AT5G67640.1      AT5G67640.1   [1.819972849820015]       [1]      [root]   \n",
       "seed?AT5G67640.1      AT5G67640.1  [1.8406892672654074]       [1]      [seed]   \n",
       "seedling?AT5G67640.1  AT5G67640.1  [1.8393338501503638]       [1]  [seedling]   \n",
       "\n",
       "                              Feature  \n",
       "flower?AT1G01010.1    [1, 0, 0, 0, 0]  \n",
       "leaf?AT1G01010.1      [0, 1, 0, 0, 0]  \n",
       "root?AT1G01010.1      [0, 0, 1, 0, 0]  \n",
       "seed?AT1G01010.1      [0, 0, 0, 1, 0]  \n",
       "seedling?AT1G01010.1  [0, 0, 0, 0, 1]  \n",
       "...                               ...  \n",
       "flower?AT5G67640.1    [1, 0, 0, 0, 0]  \n",
       "leaf?AT5G67640.1      [0, 1, 0, 0, 0]  \n",
       "root?AT5G67640.1      [0, 0, 1, 0, 0]  \n",
       "seed?AT5G67640.1      [0, 0, 0, 1, 0]  \n",
       "seedling?AT5G67640.1  [0, 0, 0, 0, 1]  \n",
       "\n",
       "[152070 rows x 5 columns]"
      ]
     },
     "execution_count": 11,
     "metadata": {},
     "output_type": "execute_result"
    }
   ],
   "source": [
    "# Load features\n",
    "\n",
    "dataframe, target_value, target_order = data_loader.load_feature_targets(\n",
    "\tgroup    = '{}-{}'.format(CONFIG['model/output/target'], CONFIG['model/output/type']),\n",
    "\texplode  = True,\n",
    "\tfilters  = {\n",
    "\t\t'tissue'       : None,\n",
    "\t\t'group'        : None,\n",
    "\t\t'age'          : None,\n",
    "\t\t'perturbation' : None\n",
    "\t},\n",
    "\tdirectory = RES_NBP05,\n",
    "\tfilename  = 'mapping-{}-grouped.pkl'.format(CONFIG['model/output/type'])\n",
    ")\n",
    "\n",
    "if 'Feature' in dataframe.columns :\n",
    "\tfeature_base = {\n",
    "\t\tkey : numpy.concatenate((feature_base[key.split('?')[-1]], value))\n",
    "\t\tfor key, value in dataframe['Feature'].to_dict().items()\n",
    "\t}\n",
    "\n",
    "CONFIG['model/output/size']    = len(target_order)\n",
    "CONFIG['model/input/features'] = len(list(feature_base.values())[0])\n",
    "\n",
    "dataframe"
   ]
  },
  {
   "cell_type": "code",
   "execution_count": 12,
   "id": "bae003d5-7e8d-4337-a1ec-f208c4bc90d4",
   "metadata": {
    "execution": {
     "iopub.execute_input": "2023-02-19T10:57:56.785477Z",
     "iopub.status.busy": "2023-02-19T10:57:56.784976Z",
     "iopub.status.idle": "2023-02-19T10:58:20.612433Z",
     "shell.execute_reply": "2023-02-19T10:58:20.611433Z",
     "shell.execute_reply.started": "2023-02-19T10:57:56.785477Z"
    },
    "tags": []
   },
   "outputs": [],
   "source": [
    "# Create dataset\n",
    "\n",
    "dataset = cnn_dataset.to_dataset(\n",
    "\tsequences   = feature_sequence,\n",
    "\tfeatures    = feature_base,\n",
    "\ttargets     = target_value,\n",
    "\texpand_dims = CONFIG['dataset/expanddim']\n",
    ")"
   ]
  },
  {
   "cell_type": "code",
   "execution_count": 13,
   "id": "915d2f9a-ba40-49f0-af26-123b7543926b",
   "metadata": {
    "execution": {
     "iopub.execute_input": "2023-02-19T10:58:20.612934Z",
     "iopub.status.busy": "2023-02-19T10:58:20.612934Z",
     "iopub.status.idle": "2023-02-19T11:00:15.357694Z",
     "shell.execute_reply": "2023-02-19T11:00:15.357194Z",
     "shell.execute_reply.started": "2023-02-19T10:58:20.612934Z"
    },
    "tags": []
   },
   "outputs": [],
   "source": [
    "# Save dataset\n",
    "\n",
    "torch.save(dataset, CONFIG['dataset/filepath'])"
   ]
  },
  {
   "cell_type": "code",
   "execution_count": 14,
   "id": "e02437ca-1eab-44f8-9fc7-5b192b48491f",
   "metadata": {
    "execution": {
     "iopub.execute_input": "2023-02-19T11:00:15.358696Z",
     "iopub.status.busy": "2023-02-19T11:00:15.358696Z",
     "iopub.status.idle": "2023-02-19T11:00:15.373208Z",
     "shell.execute_reply": "2023-02-19T11:00:15.372706Z",
     "shell.execute_reply.started": "2023-02-19T11:00:15.358696Z"
    },
    "tags": []
   },
   "outputs": [
    {
     "name": "stdout",
     "output_type": "stream",
     "text": [
      "Dataset Filepath : C:\\Developer\\Workspace\\PyCharm\\Projects\\upolanc-thesis\\output\\nbp06-tuner\\zrimec2020\\dataset.pkl\n",
      "Input Features   : 77\n",
      "Output Size      : 1\n"
     ]
    }
   ],
   "source": [
    "# Assert all is set\n",
    "\n",
    "if CONFIG['dataset/filepath']     is None : raise AssertionError('dataset/filepath')\n",
    "if CONFIG['model/input/features'] is None : raise AssertionError('model/input/features')\n",
    "if CONFIG['model/output/size']    is None : raise AssertionError('model/output/size')\n",
    "\n",
    "print('Dataset Filepath : {}'.format(CONFIG['dataset/filepath']))\n",
    "print('Input Features   : {}'.format(CONFIG['model/input/features']))\n",
    "print('Output Size      : {}'.format(CONFIG['model/output/size']))"
   ]
  },
  {
   "cell_type": "markdown",
   "id": "e17b18d9-cccb-4763-8391-2567b75c3fbb",
   "metadata": {
    "tags": []
   },
   "source": [
    "## 2.2 Search Space"
   ]
  },
  {
   "cell_type": "code",
   "execution_count": 15,
   "id": "e14f73b3-6854-4fa0-a497-50d7fde4391d",
   "metadata": {
    "execution": {
     "iopub.execute_input": "2023-02-19T11:00:15.374708Z",
     "iopub.status.busy": "2023-02-19T11:00:15.374209Z",
     "iopub.status.idle": "2023-02-19T11:00:15.389221Z",
     "shell.execute_reply": "2023-02-19T11:00:15.388220Z",
     "shell.execute_reply.started": "2023-02-19T11:00:15.374708Z"
    },
    "tags": []
   },
   "outputs": [],
   "source": [
    "# Define optimizer parameters\n",
    "\n",
    "optimizer_name     = tune.choice(['adam', 'sgd'])\n",
    "optimizer_lr       = tune.loguniform(1e-5, 1e-2)\n",
    "optimizer_decay    = tune.uniform(0.00, 0.10)\n",
    "optimizer_momentum = tune.uniform(0.50, 0.99)\n",
    "\n",
    "# TODO - replace optimizer_momentum\n",
    "optimizer_adam_beta1   = tune.uniform(0.500, 0.990)\n",
    "optimizer_adam_beta2   = tune.uniform(0.900, 0.999)\n",
    "optimizer_sgd_momentum = tune.uniform(0.500, 0.990)"
   ]
  },
  {
   "cell_type": "code",
   "execution_count": 16,
   "id": "dd4332b9-3ced-4899-86a6-df0425063255",
   "metadata": {
    "execution": {
     "iopub.execute_input": "2023-02-19T11:00:15.390222Z",
     "iopub.status.busy": "2023-02-19T11:00:15.389723Z",
     "iopub.status.idle": "2023-02-19T11:00:15.404234Z",
     "shell.execute_reply": "2023-02-19T11:00:15.403733Z",
     "shell.execute_reply.started": "2023-02-19T11:00:15.390222Z"
    },
    "tags": []
   },
   "outputs": [],
   "source": [
    "# Define scheduler parameters\n",
    "\n",
    "scheduler_name             = tune.choice(['constant', 'step', 'plateau', 'linear', 'exponential'])\n",
    "scheduler_plateau_factor   = tune.uniform(0.1, 0.5)\n",
    "scheduler_plateau_patience = tune.randint(1, 25)\n",
    "scheduler_step_factor      = tune.uniform(0.1, 0.5)\n",
    "scheduler_step_patience    = tune.randint(1, 25)\n",
    "scheduler_linear_factor    = tune.uniform(1e-05, 1e-01)\n",
    "scheduler_exp_factor       = tune.uniform(0.950, 0.999)"
   ]
  },
  {
   "cell_type": "code",
   "execution_count": 17,
   "id": "a5a3581a-5246-4b79-9e8f-8357a42f5793",
   "metadata": {
    "execution": {
     "iopub.execute_input": "2023-02-19T11:00:15.405735Z",
     "iopub.status.busy": "2023-02-19T11:00:15.405236Z",
     "iopub.status.idle": "2023-02-19T11:00:15.420248Z",
     "shell.execute_reply": "2023-02-19T11:00:15.419247Z",
     "shell.execute_reply.started": "2023-02-19T11:00:15.405735Z"
    },
    "tags": []
   },
   "outputs": [],
   "source": [
    "# Define model parameters\n",
    "\n",
    "model_dropout  = tune.quniform(0.0, 0.5, 0.01)\n",
    "\n",
    "conv1_kernels  = [5, 11, 21, 31, 41]\n",
    "conv1_filters  = [32, 64, 128, 256]\n",
    "\n",
    "convx_kernels  = [5, 11, 21, 31, 41]\n",
    "convx_padding  = ['same', 'none']\n",
    "convx_filters  = [32, 64, 128, 256]\n",
    "convx_dilation = [1, 2, 4]\n",
    "\n",
    "poolx_kernels  = [3, 5, 9]\n",
    "poolx_padding  = ['same', 'none']\n",
    "\n",
    "fcx_features = [64, 128, 256, 512]\n",
    "\n",
    "if CONFIG['model/name'].startswith('washburn2019') :\n",
    "\tconv1_kernels = [(4, x) for x in conv1_kernels]\n",
    "\tconvx_kernels = [(1, x) for x in convx_kernels]\n",
    "\tpoolx_kernels = [(1, x) for x in poolx_kernels]"
   ]
  },
  {
   "cell_type": "code",
   "execution_count": 18,
   "id": "0a2fc685-9803-4596-8fde-d0678ed7604b",
   "metadata": {
    "execution": {
     "iopub.execute_input": "2023-02-19T11:00:15.421249Z",
     "iopub.status.busy": "2023-02-19T11:00:15.421249Z",
     "iopub.status.idle": "2023-02-19T11:00:15.435762Z",
     "shell.execute_reply": "2023-02-19T11:00:15.434760Z",
     "shell.execute_reply.started": "2023-02-19T11:00:15.421249Z"
    },
    "tags": []
   },
   "outputs": [],
   "source": [
    "# Define search space (tested with zrimec2020 and washburn2019)\n",
    "\n",
    "param_space = dict()\n",
    "\n",
    "# Dataset\n",
    "param_space['dataset/batch_size'] = tune.choice([32, 64, 128])\n",
    "\n",
    "# Optimizer\n",
    "param_space['optimizer/name']     = optimizer_name\n",
    "param_space['optimizer/lr']       = optimizer_lr\n",
    "param_space['optimizer/decay']    = optimizer_decay\n",
    "param_space['optimizer/momentum'] = optimizer_momentum\n",
    "\n",
    "# Criterion\n",
    "param_space['criterion/name']      = 'mse'\n",
    "param_space['criterion/reduction'] = 'mean'\n",
    "\n",
    "# Scheduler\n",
    "param_space['scheduler/name']               = scheduler_name\n",
    "param_space['scheduler/plateau/factor']     = scheduler_plateau_factor\n",
    "param_space['scheduler/plateau/patience']   = scheduler_plateau_patience\n",
    "param_space['scheduler/linear/factor']      = scheduler_linear_factor\n",
    "param_space['scheduler/step/factor']        = scheduler_step_factor\n",
    "param_space['scheduler/step/patience']      = scheduler_step_patience\n",
    "param_space['scheduler/exponential/factor'] = scheduler_exp_factor\n",
    "\n",
    "# Model\n",
    "param_space['model/dropout'] = model_dropout\n",
    "\n",
    "# Convolution\n",
    "param_space['model/conv1/filters']  = tune.choice(conv1_filters)\n",
    "param_space['model/conv1/kernel']   = tune.choice(conv1_kernels)\n",
    "param_space['model/conv1/padding']  = 'none'\n",
    "param_space['model/conv1/dilation'] = 1\n",
    "param_space['model/conv2/filters']  = tune.choice(convx_filters)\n",
    "param_space['model/conv2/kernel']   = tune.choice(convx_kernels)\n",
    "param_space['model/conv2/padding']  = tune.choice(convx_padding)\n",
    "param_space['model/conv2/dilation'] = 1\n",
    "param_space['model/conv3/filters']  = tune.choice(convx_filters)\n",
    "param_space['model/conv3/kernel']   = tune.choice(convx_kernels)\n",
    "param_space['model/conv3/padding']  = tune.choice(convx_padding)\n",
    "param_space['model/conv3/dilation'] = 1\n",
    "\n",
    "if CONFIG['model/name'].startswith('washburn2019') :\n",
    "\tparam_space['model/conv4/filters']  = tune.choice(convx_filters)\n",
    "\tparam_space['model/conv4/kernel']   = tune.choice(convx_kernels)\n",
    "\tparam_space['model/conv4/padding']  = tune.choice(convx_padding)\n",
    "\tparam_space['model/conv4/dilation'] = 1\n",
    "\tparam_space['model/conv5/filters']  = tune.choice(convx_filters)\n",
    "\tparam_space['model/conv5/kernel']   = tune.choice(convx_kernels)\n",
    "\tparam_space['model/conv5/padding']  = tune.choice(convx_padding)\n",
    "\tparam_space['model/conv5/dilation'] = 1\n",
    "\tparam_space['model/conv6/filters']  = tune.choice(convx_filters)\n",
    "\tparam_space['model/conv6/kernel']   = tune.choice(convx_kernels)\n",
    "\tparam_space['model/conv6/padding']  = tune.choice(convx_padding)\n",
    "\tparam_space['model/conv6/dilation'] = 1\n",
    "\n",
    "# Pooling\n",
    "param_space['model/maxpool1/kernel']  = tune.choice(poolx_kernels)\n",
    "param_space['model/maxpool1/padding'] = 'same'\n",
    "param_space['model/maxpool2/kernel']  = tune.choice(poolx_kernels)\n",
    "param_space['model/maxpool2/padding'] = 'same'\n",
    "param_space['model/maxpool3/kernel']  = tune.choice(poolx_kernels)\n",
    "param_space['model/maxpool3/padding'] = 'same'\n",
    "\n",
    "# Linear\n",
    "param_space['model/fc1/features'] = tune.choice(fcx_features)\n",
    "param_space['model/fc2/features'] = tune.choice(fcx_features)"
   ]
  },
  {
   "cell_type": "code",
   "execution_count": 19,
   "id": "665a0c20-95b3-4acd-ba9c-801dbd8ec72e",
   "metadata": {
    "execution": {
     "iopub.execute_input": "2023-02-19T11:00:15.436761Z",
     "iopub.status.busy": "2023-02-19T11:00:15.436761Z",
     "iopub.status.idle": "2023-02-19T11:00:15.450775Z",
     "shell.execute_reply": "2023-02-19T11:00:15.450274Z",
     "shell.execute_reply.started": "2023-02-19T11:00:15.436761Z"
    },
    "tags": []
   },
   "outputs": [],
   "source": [
    "# Define starting parameters for algorithm (some decent starting point from previous runs)\n",
    "\n",
    "params_initial = None\n",
    "\n",
    "if CONFIG['model/type'].startswith('zrimec2020r') :\n",
    "\tfilename = os.path.join(RES_TUNER, 'zrimec2020.json')\n",
    "\n",
    "\tif os.path.exists(filename) :\n",
    "\t\tparams_initial = data_loader.load_json(filename = filename)\n",
    "\n",
    "if CONFIG['model/type'].startswith('washburn2019r') :\n",
    "\tfilename = os.path.join(RES_TUNER, 'washburn2019.json')\n",
    "\n",
    "\tif os.path.exists(filename) :\n",
    "\t\tparams_initial = data_loader.load_json(filename = filename)"
   ]
  },
  {
   "cell_type": "markdown",
   "id": "08b64877-eb4c-4147-9c5f-d9ed43be320a",
   "metadata": {},
   "source": [
    "## 2.3 Tuning"
   ]
  },
  {
   "cell_type": "code",
   "execution_count": 20,
   "id": "93eec23b-6fd7-4023-9187-c18f9e5f273f",
   "metadata": {
    "execution": {
     "iopub.execute_input": "2023-02-19T11:00:15.452776Z",
     "iopub.status.busy": "2023-02-19T11:00:15.452275Z",
     "iopub.status.idle": "2023-02-19T11:00:15.466287Z",
     "shell.execute_reply": "2023-02-19T11:00:15.465786Z",
     "shell.execute_reply.started": "2023-02-19T11:00:15.452776Z"
    },
    "tags": []
   },
   "outputs": [],
   "source": [
    "# Create a tune method\n",
    "\n",
    "tune_method = tune.with_resources(\n",
    "\tlambda x : cnn_raytune.regression_tune(\n",
    "\t\ttune_config = x,\n",
    "\t\tcore_config = CONFIG\n",
    "\t),\n",
    "\t{\n",
    "\t\t'cpu' : max(1, SYSTEM['platform/cpu/count'] // 2),\n",
    "\t\t'gpu' : max(0, SYSTEM['platform/gpu/count'])\n",
    "\t}\n",
    ")"
   ]
  },
  {
   "cell_type": "code",
   "execution_count": 21,
   "id": "6b5989e9-3e4f-4589-9837-7e3bdeeac746",
   "metadata": {
    "execution": {
     "iopub.execute_input": "2023-02-19T11:00:15.468289Z",
     "iopub.status.busy": "2023-02-19T11:00:15.467788Z",
     "iopub.status.idle": "2023-02-19T11:00:15.481800Z",
     "shell.execute_reply": "2023-02-19T11:00:15.481300Z",
     "shell.execute_reply.started": "2023-02-19T11:00:15.467788Z"
    },
    "tags": []
   },
   "outputs": [],
   "source": [
    "# Create tune config\n",
    "\n",
    "tune_searcher = HyperOptSearch(\n",
    "\tpoints_to_evaluate = params_initial,\n",
    "\tmetric             = 'valid_loss',\n",
    "\tmode               = 'min'\n",
    ")\n",
    "\n",
    "tune_searcher = ConcurrencyLimiter(\n",
    "\ttune_searcher,\n",
    "\tmax_concurrent = CONFIG['tuner/max_concurrent']\n",
    ")\n",
    "\n",
    "tune_scheduler = ASHAScheduler(\n",
    "\ttime_attr        = 'training_iteration',\n",
    "\tmax_t            = CONFIG['tuner/max_epochs'],\n",
    "\tgrace_period     = CONFIG['tuner/min_epochs'],\n",
    "\treduction_factor = 4,\n",
    "\tbrackets         = 1\n",
    ")\n",
    "\n",
    "tune_config = TuneConfig(\n",
    "\tmetric      = 'valid_loss',\n",
    "\tmode        = 'min',\n",
    "\tnum_samples = CONFIG['tuner/trials'],\n",
    "\tsearch_alg  = tune_searcher,\n",
    "\tscheduler   = tune_scheduler,\n",
    "\ttrial_name_creator    = lambda x : str(x.trial_id),\n",
    "\ttrial_dirname_creator = lambda x : str(x.trial_id)\n",
    ")"
   ]
  },
  {
   "cell_type": "code",
   "execution_count": 22,
   "id": "a4d6c612-49a0-4b61-955a-27a1d86982fa",
   "metadata": {
    "execution": {
     "iopub.execute_input": "2023-02-19T11:00:15.485804Z",
     "iopub.status.busy": "2023-02-19T11:00:15.485804Z",
     "iopub.status.idle": "2023-02-19T11:00:15.497314Z",
     "shell.execute_reply": "2023-02-19T11:00:15.496814Z",
     "shell.execute_reply.started": "2023-02-19T11:00:15.485804Z"
    },
    "tags": []
   },
   "outputs": [
    {
     "data": {
      "text/html": [
       "<div class=\"tuneStatus\">\n",
       "  <div style=\"display: flex;flex-direction: row\">\n",
       "    <div style=\"display: flex;flex-direction: column;\">\n",
       "      <h3>Tune Status</h3>\n",
       "      <table>\n",
       "<tbody>\n",
       "<tr><td>Current time:</td><td>2023-02-19 11:34:15</td></tr>\n",
       "<tr><td>Running for: </td><td>00:33:56.57        </td></tr>\n",
       "<tr><td>Memory:      </td><td>17.2/31.9 GiB      </td></tr>\n",
       "</tbody>\n",
       "</table>\n",
       "    </div>\n",
       "    <div class=\"vDivider\"></div>\n",
       "    <div class=\"systemInfo\">\n",
       "      <h3>System Info</h3>\n",
       "      Using AsyncHyperBand: num_stopped=1<br>Bracket: Iter 20.000: None | Iter 5.000: -0.4110503327585346<br>Resources requested: 0/12 CPUs, 0/1 GPUs, 0.0/8.6 GiB heap, 0.0/4.3 GiB objects\n",
       "    </div>\n",
       "    \n",
       "  </div>\n",
       "  <div class=\"hDivider\"></div>\n",
       "  <div class=\"trialStatus\">\n",
       "    <h3>Trial Status</h3>\n",
       "    <table>\n",
       "<thead>\n",
       "<tr><th>Trial name  </th><th>status    </th><th>loc            </th><th style=\"text-align: right;\">  dataset/batch_size</th><th>optimizer/name  </th><th style=\"text-align: right;\">  optimizer/lr</th><th>scheduler/name  </th><th style=\"text-align: right;\">  model/dropout</th><th style=\"text-align: right;\">  valid_loss</th><th style=\"text-align: right;\">  valid_r2</th><th style=\"text-align: right;\">  train_loss</th></tr>\n",
       "</thead>\n",
       "<tbody>\n",
       "<tr><td>a40e77e7    </td><td>TERMINATED</td><td>127.0.0.1:10156</td><td style=\"text-align: right;\">                  32</td><td>adam            </td><td style=\"text-align: right;\">   3.26265e-05</td><td>constant        </td><td style=\"text-align: right;\">           0.02</td><td style=\"text-align: right;\">    0.371725</td><td style=\"text-align: right;\">  0.408467</td><td style=\"text-align: right;\">    0.376366</td></tr>\n",
       "<tr><td>8b0e8192    </td><td>TERMINATED</td><td>127.0.0.1:18728</td><td style=\"text-align: right;\">                  32</td><td>sgd             </td><td style=\"text-align: right;\">   0.00325984 </td><td>linear          </td><td style=\"text-align: right;\">           0.02</td><td style=\"text-align: right;\">    0.529028</td><td style=\"text-align: right;\">  0.156734</td><td style=\"text-align: right;\">    0.523362</td></tr>\n",
       "</tbody>\n",
       "</table>\n",
       "  </div>\n",
       "</div>\n",
       "<style>\n",
       ".tuneStatus {\n",
       "  color: var(--jp-ui-font-color1);\n",
       "}\n",
       ".tuneStatus .systemInfo {\n",
       "  display: flex;\n",
       "  flex-direction: column;\n",
       "}\n",
       ".tuneStatus td {\n",
       "  white-space: nowrap;\n",
       "}\n",
       ".tuneStatus .trialStatus {\n",
       "  display: flex;\n",
       "  flex-direction: column;\n",
       "}\n",
       ".tuneStatus h3 {\n",
       "  font-weight: bold;\n",
       "}\n",
       ".tuneStatus .hDivider {\n",
       "  border-bottom-width: var(--jp-border-width);\n",
       "  border-bottom-color: var(--jp-border-color0);\n",
       "  border-bottom-style: solid;\n",
       "}\n",
       ".tuneStatus .vDivider {\n",
       "  border-left-width: var(--jp-border-width);\n",
       "  border-left-color: var(--jp-border-color0);\n",
       "  border-left-style: solid;\n",
       "  margin: 0.5em 1em 0.5em 1em;\n",
       "}\n",
       "</style>\n"
      ],
      "text/plain": [
       "<IPython.core.display.HTML object>"
      ]
     },
     "metadata": {},
     "output_type": "display_data"
    }
   ],
   "source": [
    "# Create tune run config\n",
    "\n",
    "VERBOSE_SILENT = 0\n",
    "VERBOSE_STATUS = 1\n",
    "VERBOSE_BRIEF  = 2\n",
    "VERBOSE_DETAIL = 3\n",
    "\n",
    "reporter = None\n",
    "stopper  = None\n",
    "\n",
    "if CONFIG['tuner/notebook'] :\n",
    "\treporter = JupyterNotebookReporter(\n",
    "\t\tmax_column_length = 32,\n",
    "\t\tmax_progress_rows = 20,\n",
    "\t\tparameter_columns = ['dataset/batch_size', 'optimizer/name', 'optimizer/lr', 'scheduler/name', 'model/dropout'],\n",
    "\t\tmetric_columns    = ['valid_loss', 'valid_r2', 'train_loss']\n",
    "\t)\n",
    "\n",
    "failure = FailureConfig(\n",
    "\tmax_failures = 0\n",
    ")\n",
    "\n",
    "checkpoint = CheckpointConfig(\n",
    "\tnum_to_keep = None\n",
    ")\n",
    "\n",
    "if CONFIG['tuner/stopper'] :\n",
    "\tstopper = TimeoutStopper(\n",
    "\t\ttimeout = datetime.timedelta(\n",
    "\t\t\tdays    = CONFIG['tuner/stopper/days'],\n",
    "\t\t\thours   = CONFIG['tuner/stopper/hours'],\n",
    "\t\t\tminutes = CONFIG['tuner/stopper/minutes']\n",
    "\t\t)\n",
    "\t)\n",
    "\n",
    "run_config = RunConfig(\n",
    "\tname              = 'raytune',\n",
    "\tlocal_dir         = OUT_DATA,\n",
    "\tcallbacks         = None,\n",
    "\tlog_to_file       = True,\n",
    "\tstop              = stopper,\n",
    "\tverbose           = VERBOSE_STATUS,\n",
    "\tfailure_config    = failure,\n",
    "\tcheckpoint_config = checkpoint,\n",
    "\tprogress_reporter = reporter\n",
    ")"
   ]
  },
  {
   "cell_type": "code",
   "execution_count": 23,
   "id": "844676ae-777a-46ab-9302-89085342b326",
   "metadata": {
    "execution": {
     "iopub.execute_input": "2023-02-19T11:00:15.498815Z",
     "iopub.status.busy": "2023-02-19T11:00:15.498315Z",
     "iopub.status.idle": "2023-02-19T11:34:35.644934Z",
     "shell.execute_reply": "2023-02-19T11:34:35.643432Z",
     "shell.execute_reply.started": "2023-02-19T11:00:15.498815Z"
    },
    "tags": []
   },
   "outputs": [
    {
     "name": "stderr",
     "output_type": "stream",
     "text": [
      "2023-02-19 11:00:17,752\tINFO worker.py:1538 -- Started a local Ray instance.\n",
      "2023-02-19 11:34:35,609\tINFO tune.py:762 -- Total run time: 2056.33 seconds (2036.56 seconds for the tuning loop).\n"
     ]
    }
   ],
   "source": [
    "# Create tune and fit\n",
    "\n",
    "tuner = Tuner(\n",
    "\ttrainable   = tune_method,\n",
    "\ttune_config = tune_config,\n",
    "\trun_config  = run_config,\n",
    "\tparam_space = param_space\n",
    ")\n",
    "\n",
    "report = tuner.fit()"
   ]
  },
  {
   "cell_type": "markdown",
   "id": "2940fc14-d848-4018-a8d2-96ec719a8652",
   "metadata": {},
   "source": [
    "## 2.4 Reports"
   ]
  },
  {
   "cell_type": "code",
   "execution_count": 24,
   "id": "468b6865-7e33-4372-a7b9-09d26beb098e",
   "metadata": {
    "execution": {
     "iopub.execute_input": "2023-02-19T11:34:35.646435Z",
     "iopub.status.busy": "2023-02-19T11:34:35.645935Z",
     "iopub.status.idle": "2023-02-19T11:34:35.656944Z",
     "shell.execute_reply": "2023-02-19T11:34:35.656443Z",
     "shell.execute_reply.started": "2023-02-19T11:34:35.646435Z"
    },
    "tags": []
   },
   "outputs": [
    {
     "name": "stdout",
     "output_type": "stream",
     "text": [
      "No errors.\n"
     ]
    }
   ],
   "source": [
    "# Check if there have been errors\n",
    "\n",
    "if report.errors :\n",
    "\tprint('At least one of the trials has failed.')\n",
    "else :\n",
    "\tprint('No errors.')"
   ]
  },
  {
   "cell_type": "code",
   "execution_count": 25,
   "id": "048991f8-bf5d-47f2-b870-7365789f042c",
   "metadata": {
    "execution": {
     "iopub.execute_input": "2023-02-19T11:34:35.658445Z",
     "iopub.status.busy": "2023-02-19T11:34:35.657945Z",
     "iopub.status.idle": "2023-02-19T11:34:35.672457Z",
     "shell.execute_reply": "2023-02-19T11:34:35.671956Z",
     "shell.execute_reply.started": "2023-02-19T11:34:35.658445Z"
    },
    "tags": []
   },
   "outputs": [
    {
     "name": "stdout",
     "output_type": "stream",
     "text": [
      "valid_loss                               valid_r2                                 valid_mae                                \n",
      "train_loss                               lr                                       time_this_iter_s                         \n",
      "done                                     timesteps_total                          episodes_total                           \n",
      "training_iteration                       trial_id                                 experiment_id                            \n",
      "date                                     timestamp                                time_total_s                             \n",
      "pid                                      hostname                                 node_ip                                  \n",
      "time_since_restore                       timesteps_since_restore                  iterations_since_restore                 \n",
      "warmup_time                              config/criterion/name                    config/criterion/reduction               \n",
      "config/dataset/batch_size                config/model/conv1/dilation              config/model/conv1/filters               \n",
      "config/model/conv1/kernel                config/model/conv1/padding               config/model/conv2/dilation              \n",
      "config/model/conv2/filters               config/model/conv2/kernel                config/model/conv2/padding               \n",
      "config/model/conv3/dilation              config/model/conv3/filters               config/model/conv3/kernel                \n",
      "config/model/conv3/padding               config/model/dropout                     config/model/fc1/features                \n",
      "config/model/fc2/features                config/model/maxpool1/kernel             config/model/maxpool1/padding            \n",
      "config/model/maxpool2/kernel             config/model/maxpool2/padding            config/model/maxpool3/kernel             \n",
      "config/model/maxpool3/padding            config/optimizer/decay                   config/optimizer/lr                      \n",
      "config/optimizer/momentum                config/optimizer/name                    config/scheduler/exponential/factor      \n",
      "config/scheduler/linear/factor           config/scheduler/name                    config/scheduler/plateau/factor          \n",
      "config/scheduler/plateau/patience        config/scheduler/step/factor             config/scheduler/step/patience           \n",
      "logdir                                   "
     ]
    }
   ],
   "source": [
    "# Print possible columns\n",
    "\n",
    "for index, column in enumerate(report.get_dataframe().columns, start = 1) :\n",
    "\tprint('{:<40s}'.format(column), end = ' ')\n",
    "\n",
    "\tif index % 3 == 0 :\n",
    "\t\tprint()"
   ]
  },
  {
   "cell_type": "code",
   "execution_count": 26,
   "id": "60cedfc3-65d4-4870-8093-0c5bb784fdf8",
   "metadata": {
    "execution": {
     "iopub.execute_input": "2023-02-19T11:34:35.673959Z",
     "iopub.status.busy": "2023-02-19T11:34:35.673457Z",
     "iopub.status.idle": "2023-02-19T11:34:35.703984Z",
     "shell.execute_reply": "2023-02-19T11:34:35.702983Z",
     "shell.execute_reply.started": "2023-02-19T11:34:35.673959Z"
    },
    "tags": []
   },
   "outputs": [
    {
     "name": "stdout",
     "output_type": "stream",
     "text": [
      "Shortest training time :     13.7 minutes\n",
      " Longest training time :     19.8 minutes\n",
      "   Total training time :     33.5 minutes\n",
      "    Mean training time :     16.7 minutes\n",
      "\n"
     ]
    },
    {
     "data": {
      "text/html": [
       "<div>\n",
       "<style scoped>\n",
       "    .dataframe tbody tr th:only-of-type {\n",
       "        vertical-align: middle;\n",
       "    }\n",
       "\n",
       "    .dataframe tbody tr th {\n",
       "        vertical-align: top;\n",
       "    }\n",
       "\n",
       "    .dataframe thead th {\n",
       "        text-align: right;\n",
       "    }\n",
       "</style>\n",
       "<table border=\"1\" class=\"dataframe\">\n",
       "  <thead>\n",
       "    <tr style=\"text-align: right;\">\n",
       "      <th></th>\n",
       "      <th>trial_id</th>\n",
       "      <th>logdir</th>\n",
       "      <th>time_total_s</th>\n",
       "      <th>training_iteration</th>\n",
       "      <th>valid_loss</th>\n",
       "      <th>valid_r2</th>\n",
       "      <th>valid_mae</th>\n",
       "      <th>train_loss</th>\n",
       "    </tr>\n",
       "  </thead>\n",
       "  <tbody>\n",
       "    <tr>\n",
       "      <th>0</th>\n",
       "      <td>a40e77e7</td>\n",
       "      <td>C:\\Developer\\Workspace\\PyCharm\\Projects\\upolan...</td>\n",
       "      <td>820.102</td>\n",
       "      <td>5</td>\n",
       "      <td>0.372</td>\n",
       "      <td>0.408</td>\n",
       "      <td>0.493</td>\n",
       "      <td>0.376</td>\n",
       "    </tr>\n",
       "    <tr>\n",
       "      <th>1</th>\n",
       "      <td>8b0e8192</td>\n",
       "      <td>C:\\Developer\\Workspace\\PyCharm\\Projects\\upolan...</td>\n",
       "      <td>1189.484</td>\n",
       "      <td>5</td>\n",
       "      <td>0.529</td>\n",
       "      <td>0.157</td>\n",
       "      <td>0.604</td>\n",
       "      <td>0.523</td>\n",
       "    </tr>\n",
       "  </tbody>\n",
       "</table>\n",
       "</div>"
      ],
      "text/plain": [
       "   trial_id                                             logdir  time_total_s  \\\n",
       "0  a40e77e7  C:\\Developer\\Workspace\\PyCharm\\Projects\\upolan...       820.102   \n",
       "1  8b0e8192  C:\\Developer\\Workspace\\PyCharm\\Projects\\upolan...      1189.484   \n",
       "\n",
       "   training_iteration  valid_loss  valid_r2  valid_mae  train_loss  \n",
       "0                   5       0.372     0.408      0.493       0.376  \n",
       "1                   5       0.529     0.157      0.604       0.523  "
      ]
     },
     "execution_count": 26,
     "metadata": {},
     "output_type": "execute_result"
    }
   ],
   "source": [
    "# Print the results as dataframe\n",
    "\n",
    "dataframe = report.get_dataframe()\n",
    "\n",
    "print('Shortest training time : {:8,.1f} minutes'.format(dataframe['time_total_s'].min()  / 60.0))\n",
    "print(' Longest training time : {:8,.1f} minutes'.format(dataframe['time_total_s'].max()  / 60.0))\n",
    "print('   Total training time : {:8,.1f} minutes'.format(dataframe['time_total_s'].sum()  / 60.0))\n",
    "print('    Mean training time : {:8,.1f} minutes'.format(dataframe['time_total_s'].mean() / 60.0))\n",
    "print()\n",
    "\n",
    "trials = dataframe[['trial_id', 'logdir', 'time_total_s', 'training_iteration', 'valid_loss', 'valid_r2', 'valid_mae', 'train_loss']]\n",
    "trials = trials.sort_values('valid_loss', ascending = True)\n",
    "trials"
   ]
  },
  {
   "cell_type": "markdown",
   "id": "b25ca4ab-214f-451c-8854-11b73696fc0c",
   "metadata": {},
   "source": [
    "### 2.4.1 VIsualization"
   ]
  },
  {
   "cell_type": "code",
   "execution_count": 27,
   "id": "c3d0362f-aed3-4029-9e2d-06b653f51d32",
   "metadata": {
    "execution": {
     "iopub.execute_input": "2023-02-19T11:34:35.704986Z",
     "iopub.status.busy": "2023-02-19T11:34:35.704484Z",
     "iopub.status.idle": "2023-02-19T11:34:36.185397Z",
     "shell.execute_reply": "2023-02-19T11:34:36.183897Z",
     "shell.execute_reply.started": "2023-02-19T11:34:35.704986Z"
    },
    "tags": []
   },
   "outputs": [
    {
     "data": {
      "image/png": "[encoded data removed]",
      "text/plain": [
       "<Figure size 1600x1000 with 1 Axes>"
      ]
     },
     "metadata": {},
     "output_type": "display_data"
    }
   ],
   "source": [
    "# Plot trials valid loss\n",
    "\n",
    "cnn_raytune.plot_trials_loss(\n",
    "\tdataframe  = trials,\n",
    "\tmax_trials = 10,\n",
    "\talpha      = 0.9,\n",
    "\tfilename   = os.path.join(OUT_PLOT, CONFIG['model/type'] + '-trials')\n",
    ")"
   ]
  },
  {
   "cell_type": "code",
   "execution_count": 28,
   "id": "4e8ddb17-af25-45e1-9833-20066e680452",
   "metadata": {
    "execution": {
     "iopub.execute_input": "2023-02-19T11:34:36.186399Z",
     "iopub.status.busy": "2023-02-19T11:34:36.186399Z",
     "iopub.status.idle": "2023-02-19T11:34:36.619270Z",
     "shell.execute_reply": "2023-02-19T11:34:36.618269Z",
     "shell.execute_reply.started": "2023-02-19T11:34:36.186399Z"
    },
    "tags": []
   },
   "outputs": [
    {
     "data": {
      "image/png": "[encoded data removed]",
      "text/plain": [
       "<Figure size 1600x1000 with 1 Axes>"
      ]
     },
     "metadata": {},
     "output_type": "display_data"
    }
   ],
   "source": [
    "# Plot trials valid r2\n",
    "\n",
    "cnn_raytune.plot_trials_r2(\n",
    "\tdataframe  = trials,\n",
    "\tmax_trials = 10,\n",
    "\talpha      = 0.9,\n",
    "\tfilename   = os.path.join(OUT_PLOT, CONFIG['model/type'] + '-trials')\n",
    ")"
   ]
  },
  {
   "cell_type": "markdown",
   "id": "8e10efdd-76db-46e4-903d-7118650bb027",
   "metadata": {},
   "source": [
    "### 2.4.2 Best"
   ]
  },
  {
   "cell_type": "code",
   "execution_count": 29,
   "id": "64bf57b1-c93a-4225-a592-3c48b3ee16c3",
   "metadata": {
    "execution": {
     "iopub.execute_input": "2023-02-19T11:34:36.620271Z",
     "iopub.status.busy": "2023-02-19T11:34:36.620271Z",
     "iopub.status.idle": "2023-02-19T11:34:36.634283Z",
     "shell.execute_reply": "2023-02-19T11:34:36.633783Z",
     "shell.execute_reply.started": "2023-02-19T11:34:36.620271Z"
    },
    "tags": []
   },
   "outputs": [
    {
     "name": "stdout",
     "output_type": "stream",
     "text": [
      "Best metric : loss =  0.37172 r2 =  0.40847\n",
      "Best config : \n",
      "\"dataset/batch_size\"           : 32\n",
      "\"optimizer/name\"               : \"adam\"\n",
      "\"optimizer/lr\"                 : 3.262648825129617e-05\n",
      "\"optimizer/decay\"              : 0.05530820765433695\n",
      "\"optimizer/momentum\"           : 0.5857655085105684\n",
      "\"criterion/name\"               : \"mse\"\n",
      "\"criterion/reduction\"          : \"mean\"\n",
      "\"scheduler/name\"               : \"constant\"\n",
      "\"scheduler/plateau/factor\"     : 0.3798409889797759\n",
      "\"scheduler/plateau/patience\"   : 4\n",
      "\"scheduler/linear/factor\"      : 0.004318109387491916\n",
      "\"scheduler/step/factor\"        : 0.16975929027771253\n",
      "\"scheduler/step/patience\"      : 11\n",
      "\"scheduler/exponential/factor\" : 0.9652544464799763\n",
      "\"model/dropout\"                : 0.02\n",
      "\"model/conv1/filters\"          : 32\n",
      "\"model/conv1/kernel\"           : 11\n",
      "\"model/conv1/padding\"          : \"none\"\n",
      "\"model/conv1/dilation\"         : 1\n",
      "\"model/conv2/filters\"          : 32\n",
      "\"model/conv2/kernel\"           : 31\n",
      "\"model/conv2/padding\"          : \"same\"\n",
      "\"model/conv2/dilation\"         : 1\n",
      "\"model/conv3/filters\"          : 64\n",
      "\"model/conv3/kernel\"           : 41\n",
      "\"model/conv3/padding\"          : \"none\"\n",
      "\"model/conv3/dilation\"         : 1\n",
      "\"model/maxpool1/kernel\"        : 5\n",
      "\"model/maxpool1/padding\"       : \"same\"\n",
      "\"model/maxpool2/kernel\"        : 3\n",
      "\"model/maxpool2/padding\"       : \"same\"\n",
      "\"model/maxpool3/kernel\"        : 3\n",
      "\"model/maxpool3/padding\"       : \"same\"\n",
      "\"model/fc1/features\"           : 64\n",
      "\"model/fc2/features\"           : 512\n"
     ]
    }
   ],
   "source": [
    "# Display best trial\n",
    "\n",
    "best = report.get_best_result()\n",
    "\n",
    "print('Best metric : loss = {: 8.5f} r2 = {: 8.5f}'.format(best.metrics['valid_loss'], best.metrics['valid_r2']))\n",
    "print('Best config : ')\n",
    "\n",
    "for key, val in best.config.items() :\n",
    "\tif isinstance(key, str) : key = f'\"{key}\"'\n",
    "\tif isinstance(val, str) : val = f'\"{val}\"'\n",
    "\n",
    "\tprint('{:30s} : {}'.format(key, val))"
   ]
  },
  {
   "cell_type": "code",
   "execution_count": 30,
   "id": "9e2e2351-82eb-41db-932d-ddc5fece0244",
   "metadata": {
    "execution": {
     "iopub.execute_input": "2023-02-19T11:34:36.635284Z",
     "iopub.status.busy": "2023-02-19T11:34:36.635284Z",
     "iopub.status.idle": "2023-02-19T11:34:36.650797Z",
     "shell.execute_reply": "2023-02-19T11:34:36.649296Z",
     "shell.execute_reply.started": "2023-02-19T11:34:36.635284Z"
    },
    "tags": []
   },
   "outputs": [
    {
     "data": {
      "text/html": [
       "<div>\n",
       "<style scoped>\n",
       "    .dataframe tbody tr th:only-of-type {\n",
       "        vertical-align: middle;\n",
       "    }\n",
       "\n",
       "    .dataframe tbody tr th {\n",
       "        vertical-align: top;\n",
       "    }\n",
       "\n",
       "    .dataframe thead th {\n",
       "        text-align: right;\n",
       "    }\n",
       "</style>\n",
       "<table border=\"1\" class=\"dataframe\">\n",
       "  <thead>\n",
       "    <tr style=\"text-align: right;\">\n",
       "      <th></th>\n",
       "      <th>trial_id</th>\n",
       "      <th>experiment_id</th>\n",
       "      <th>time_total_s</th>\n",
       "      <th>training_iteration</th>\n",
       "      <th>lr</th>\n",
       "      <th>valid_loss</th>\n",
       "      <th>valid_r2</th>\n",
       "      <th>valid_mae</th>\n",
       "      <th>train_loss</th>\n",
       "    </tr>\n",
       "  </thead>\n",
       "  <tbody>\n",
       "    <tr>\n",
       "      <th>0</th>\n",
       "      <td>a40e77e7</td>\n",
       "      <td>b4788fb469b341d7977cee5f9ebb2308</td>\n",
       "      <td>186.550</td>\n",
       "      <td>1</td>\n",
       "      <td>0.000</td>\n",
       "      <td>0.603</td>\n",
       "      <td>0.046</td>\n",
       "      <td>0.648</td>\n",
       "      <td>0.767</td>\n",
       "    </tr>\n",
       "    <tr>\n",
       "      <th>1</th>\n",
       "      <td>a40e77e7</td>\n",
       "      <td>b4788fb469b341d7977cee5f9ebb2308</td>\n",
       "      <td>344.032</td>\n",
       "      <td>2</td>\n",
       "      <td>0.000</td>\n",
       "      <td>0.556</td>\n",
       "      <td>0.118</td>\n",
       "      <td>0.618</td>\n",
       "      <td>0.579</td>\n",
       "    </tr>\n",
       "    <tr>\n",
       "      <th>2</th>\n",
       "      <td>a40e77e7</td>\n",
       "      <td>b4788fb469b341d7977cee5f9ebb2308</td>\n",
       "      <td>509.514</td>\n",
       "      <td>3</td>\n",
       "      <td>0.000</td>\n",
       "      <td>0.491</td>\n",
       "      <td>0.218</td>\n",
       "      <td>0.578</td>\n",
       "      <td>0.513</td>\n",
       "    </tr>\n",
       "    <tr>\n",
       "      <th>3</th>\n",
       "      <td>a40e77e7</td>\n",
       "      <td>b4788fb469b341d7977cee5f9ebb2308</td>\n",
       "      <td>655.834</td>\n",
       "      <td>4</td>\n",
       "      <td>0.000</td>\n",
       "      <td>0.428</td>\n",
       "      <td>0.315</td>\n",
       "      <td>0.535</td>\n",
       "      <td>0.448</td>\n",
       "    </tr>\n",
       "    <tr>\n",
       "      <th>4</th>\n",
       "      <td>a40e77e7</td>\n",
       "      <td>b4788fb469b341d7977cee5f9ebb2308</td>\n",
       "      <td>820.102</td>\n",
       "      <td>5</td>\n",
       "      <td>0.000</td>\n",
       "      <td>0.372</td>\n",
       "      <td>0.408</td>\n",
       "      <td>0.493</td>\n",
       "      <td>0.376</td>\n",
       "    </tr>\n",
       "  </tbody>\n",
       "</table>\n",
       "</div>"
      ],
      "text/plain": [
       "   trial_id                     experiment_id  time_total_s  \\\n",
       "0  a40e77e7  b4788fb469b341d7977cee5f9ebb2308       186.550   \n",
       "1  a40e77e7  b4788fb469b341d7977cee5f9ebb2308       344.032   \n",
       "2  a40e77e7  b4788fb469b341d7977cee5f9ebb2308       509.514   \n",
       "3  a40e77e7  b4788fb469b341d7977cee5f9ebb2308       655.834   \n",
       "4  a40e77e7  b4788fb469b341d7977cee5f9ebb2308       820.102   \n",
       "\n",
       "   training_iteration    lr  valid_loss  valid_r2  valid_mae  train_loss  \n",
       "0                   1 0.000       0.603     0.046      0.648       0.767  \n",
       "1                   2 0.000       0.556     0.118      0.618       0.579  \n",
       "2                   3 0.000       0.491     0.218      0.578       0.513  \n",
       "3                   4 0.000       0.428     0.315      0.535       0.448  \n",
       "4                   5 0.000       0.372     0.408      0.493       0.376  "
      ]
     },
     "execution_count": 30,
     "metadata": {},
     "output_type": "execute_result"
    }
   ],
   "source": [
    "# Display per iteration\n",
    "\n",
    "progress = data_loader.load_csv(\n",
    "\tfilename = os.path.join(best.log_dir, 'progress.csv')\n",
    ")\n",
    "\n",
    "progress = progress[['trial_id', 'experiment_id', 'time_total_s', 'training_iteration', 'lr', 'valid_loss', 'valid_r2', 'valid_mae', 'train_loss']]\n",
    "progress"
   ]
  },
  {
   "cell_type": "code",
   "execution_count": 31,
   "id": "4eaa27d6-0da6-4e09-a49e-5cc9b25897c9",
   "metadata": {
    "execution": {
     "iopub.execute_input": "2023-02-19T11:34:36.652298Z",
     "iopub.status.busy": "2023-02-19T11:34:36.651798Z",
     "iopub.status.idle": "2023-02-19T11:34:37.100183Z",
     "shell.execute_reply": "2023-02-19T11:34:37.099182Z",
     "shell.execute_reply.started": "2023-02-19T11:34:36.652298Z"
    },
    "tags": []
   },
   "outputs": [
    {
     "data": {
      "image/png": "[encoded data removed]",
      "text/plain": [
       "<Figure size 1600x1000 with 1 Axes>"
      ]
     },
     "metadata": {},
     "output_type": "display_data"
    }
   ],
   "source": [
    "# Plot best trial valid loss\n",
    "\n",
    "cnn_raytune.plot_trial_loss(\n",
    "\tdataframe = progress,\n",
    "\tfilename  = os.path.join(OUT_PLOT, CONFIG['model/type'] + '-best')\n",
    ")"
   ]
  },
  {
   "cell_type": "code",
   "execution_count": 32,
   "id": "5057fefd-cb7d-4244-b4bc-3d6ed10b53f9",
   "metadata": {
    "execution": {
     "iopub.execute_input": "2023-02-19T11:34:37.101183Z",
     "iopub.status.busy": "2023-02-19T11:34:37.100683Z",
     "iopub.status.idle": "2023-02-19T11:34:37.534556Z",
     "shell.execute_reply": "2023-02-19T11:34:37.533555Z",
     "shell.execute_reply.started": "2023-02-19T11:34:37.101183Z"
    },
    "tags": []
   },
   "outputs": [
    {
     "data": {
      "image/png": "[encoded data removed]",
      "text/plain": [
       "<Figure size 1600x1000 with 1 Axes>"
      ]
     },
     "metadata": {},
     "output_type": "display_data"
    }
   ],
   "source": [
    "# Plot best trial valid r2\n",
    "\n",
    "cnn_raytune.plot_trial_r2(\n",
    "\tdataframe = progress,\n",
    "\tfilename  = os.path.join(OUT_PLOT, CONFIG['model/type'] + '-best')\n",
    ")"
   ]
  },
  {
   "cell_type": "code",
   "execution_count": 33,
   "id": "0461429d-9439-4764-b085-044ae6121581",
   "metadata": {
    "execution": {
     "iopub.execute_input": "2023-02-19T11:34:37.535557Z",
     "iopub.status.busy": "2023-02-19T11:34:37.535056Z",
     "iopub.status.idle": "2023-02-19T11:34:37.937402Z",
     "shell.execute_reply": "2023-02-19T11:34:37.936902Z",
     "shell.execute_reply.started": "2023-02-19T11:34:37.535557Z"
    },
    "tags": []
   },
   "outputs": [
    {
     "data": {
      "image/png": "[encoded data removed]",
      "text/plain": [
       "<Figure size 1600x1000 with 1 Axes>"
      ]
     },
     "metadata": {},
     "output_type": "display_data"
    }
   ],
   "source": [
    "# Plot trials learning rate\n",
    "\n",
    "cnn_raytune.plot_trial_lr(\n",
    "\tdataframe = progress,\n",
    "\tfilename  = os.path.join(OUT_PLOT, CONFIG['model/type'] + '-best')\n",
    ")"
   ]
  },
  {
   "cell_type": "markdown",
   "id": "5f916513-555e-4c4a-a803-194373aab336",
   "metadata": {},
   "source": [
    "### 2.4.3 Worst"
   ]
  },
  {
   "cell_type": "code",
   "execution_count": 34,
   "id": "d2d8e546-a974-4d35-aa77-3f6e865b8e22",
   "metadata": {
    "execution": {
     "iopub.execute_input": "2023-02-19T11:34:37.938903Z",
     "iopub.status.busy": "2023-02-19T11:34:37.938402Z",
     "iopub.status.idle": "2023-02-19T11:34:37.953416Z",
     "shell.execute_reply": "2023-02-19T11:34:37.952915Z",
     "shell.execute_reply.started": "2023-02-19T11:34:37.938903Z"
    },
    "tags": []
   },
   "outputs": [
    {
     "name": "stdout",
     "output_type": "stream",
     "text": [
      "Worst metric : loss =  0.52903 r2 =  0.15673\n",
      "Worst config : \n",
      "\"dataset/batch_size\"           : 32\n",
      "\"optimizer/name\"               : \"adam\"\n",
      "\"optimizer/lr\"                 : 3.262648825129617e-05\n",
      "\"optimizer/decay\"              : 0.05530820765433695\n",
      "\"optimizer/momentum\"           : 0.5857655085105684\n",
      "\"criterion/name\"               : \"mse\"\n",
      "\"criterion/reduction\"          : \"mean\"\n",
      "\"scheduler/name\"               : \"constant\"\n",
      "\"scheduler/plateau/factor\"     : 0.3798409889797759\n",
      "\"scheduler/plateau/patience\"   : 4\n",
      "\"scheduler/linear/factor\"      : 0.004318109387491916\n",
      "\"scheduler/step/factor\"        : 0.16975929027771253\n",
      "\"scheduler/step/patience\"      : 11\n",
      "\"scheduler/exponential/factor\" : 0.9652544464799763\n",
      "\"model/dropout\"                : 0.02\n",
      "\"model/conv1/filters\"          : 32\n",
      "\"model/conv1/kernel\"           : 11\n",
      "\"model/conv1/padding\"          : \"none\"\n",
      "\"model/conv1/dilation\"         : 1\n",
      "\"model/conv2/filters\"          : 32\n",
      "\"model/conv2/kernel\"           : 31\n",
      "\"model/conv2/padding\"          : \"same\"\n",
      "\"model/conv2/dilation\"         : 1\n",
      "\"model/conv3/filters\"          : 64\n",
      "\"model/conv3/kernel\"           : 41\n",
      "\"model/conv3/padding\"          : \"none\"\n",
      "\"model/conv3/dilation\"         : 1\n",
      "\"model/maxpool1/kernel\"        : 5\n",
      "\"model/maxpool1/padding\"       : \"same\"\n",
      "\"model/maxpool2/kernel\"        : 3\n",
      "\"model/maxpool2/padding\"       : \"same\"\n",
      "\"model/maxpool3/kernel\"        : 3\n",
      "\"model/maxpool3/padding\"       : \"same\"\n",
      "\"model/fc1/features\"           : 64\n",
      "\"model/fc2/features\"           : 512\n"
     ]
    }
   ],
   "source": [
    "# Display worst trial\n",
    "\n",
    "worst = report.get_best_result(metric = 'valid_loss', mode = 'max')\n",
    "\n",
    "print('Worst metric : loss = {: 8.5f} r2 = {: 8.5f}'.format(worst.metrics['valid_loss'], worst.metrics['valid_r2']))\n",
    "print('Worst config : ')\n",
    "\n",
    "for key, val in best.config.items() :\n",
    "\tif isinstance(key, str) : key = f'\"{key}\"'\n",
    "\tif isinstance(val, str) : val = f'\"{val}\"'\n",
    "\n",
    "\tprint('{:30s} : {}'.format(key, val))"
   ]
  },
  {
   "cell_type": "code",
   "execution_count": 35,
   "id": "de3058da-1648-4d3f-94e1-540f5cb83905",
   "metadata": {
    "execution": {
     "iopub.execute_input": "2023-02-19T11:34:37.954416Z",
     "iopub.status.busy": "2023-02-19T11:34:37.954416Z",
     "iopub.status.idle": "2023-02-19T11:34:37.968428Z",
     "shell.execute_reply": "2023-02-19T11:34:37.967928Z",
     "shell.execute_reply.started": "2023-02-19T11:34:37.954416Z"
    },
    "tags": []
   },
   "outputs": [
    {
     "data": {
      "text/html": [
       "<div>\n",
       "<style scoped>\n",
       "    .dataframe tbody tr th:only-of-type {\n",
       "        vertical-align: middle;\n",
       "    }\n",
       "\n",
       "    .dataframe tbody tr th {\n",
       "        vertical-align: top;\n",
       "    }\n",
       "\n",
       "    .dataframe thead th {\n",
       "        text-align: right;\n",
       "    }\n",
       "</style>\n",
       "<table border=\"1\" class=\"dataframe\">\n",
       "  <thead>\n",
       "    <tr style=\"text-align: right;\">\n",
       "      <th></th>\n",
       "      <th>trial_id</th>\n",
       "      <th>experiment_id</th>\n",
       "      <th>time_total_s</th>\n",
       "      <th>training_iteration</th>\n",
       "      <th>lr</th>\n",
       "      <th>valid_loss</th>\n",
       "      <th>valid_r2</th>\n",
       "      <th>valid_mae</th>\n",
       "      <th>train_loss</th>\n",
       "    </tr>\n",
       "  </thead>\n",
       "  <tbody>\n",
       "    <tr>\n",
       "      <th>0</th>\n",
       "      <td>8b0e8192</td>\n",
       "      <td>b46016b26d13461da65b1baeb9158e9b</td>\n",
       "      <td>258.292</td>\n",
       "      <td>1</td>\n",
       "      <td>0.003</td>\n",
       "      <td>0.662</td>\n",
       "      <td>-0.048</td>\n",
       "      <td>0.675</td>\n",
       "      <td>0.606</td>\n",
       "    </tr>\n",
       "    <tr>\n",
       "      <th>1</th>\n",
       "      <td>8b0e8192</td>\n",
       "      <td>b46016b26d13461da65b1baeb9158e9b</td>\n",
       "      <td>484.289</td>\n",
       "      <td>2</td>\n",
       "      <td>0.003</td>\n",
       "      <td>0.552</td>\n",
       "      <td>0.124</td>\n",
       "      <td>0.624</td>\n",
       "      <td>0.554</td>\n",
       "    </tr>\n",
       "    <tr>\n",
       "      <th>2</th>\n",
       "      <td>8b0e8192</td>\n",
       "      <td>b46016b26d13461da65b1baeb9158e9b</td>\n",
       "      <td>715.780</td>\n",
       "      <td>3</td>\n",
       "      <td>0.002</td>\n",
       "      <td>0.565</td>\n",
       "      <td>0.105</td>\n",
       "      <td>0.630</td>\n",
       "      <td>0.547</td>\n",
       "    </tr>\n",
       "    <tr>\n",
       "      <th>3</th>\n",
       "      <td>8b0e8192</td>\n",
       "      <td>b46016b26d13461da65b1baeb9158e9b</td>\n",
       "      <td>949.913</td>\n",
       "      <td>4</td>\n",
       "      <td>0.001</td>\n",
       "      <td>0.544</td>\n",
       "      <td>0.134</td>\n",
       "      <td>0.617</td>\n",
       "      <td>0.540</td>\n",
       "    </tr>\n",
       "    <tr>\n",
       "      <th>4</th>\n",
       "      <td>8b0e8192</td>\n",
       "      <td>b46016b26d13461da65b1baeb9158e9b</td>\n",
       "      <td>1189.484</td>\n",
       "      <td>5</td>\n",
       "      <td>0.001</td>\n",
       "      <td>0.529</td>\n",
       "      <td>0.157</td>\n",
       "      <td>0.604</td>\n",
       "      <td>0.523</td>\n",
       "    </tr>\n",
       "  </tbody>\n",
       "</table>\n",
       "</div>"
      ],
      "text/plain": [
       "   trial_id                     experiment_id  time_total_s  \\\n",
       "0  8b0e8192  b46016b26d13461da65b1baeb9158e9b       258.292   \n",
       "1  8b0e8192  b46016b26d13461da65b1baeb9158e9b       484.289   \n",
       "2  8b0e8192  b46016b26d13461da65b1baeb9158e9b       715.780   \n",
       "3  8b0e8192  b46016b26d13461da65b1baeb9158e9b       949.913   \n",
       "4  8b0e8192  b46016b26d13461da65b1baeb9158e9b      1189.484   \n",
       "\n",
       "   training_iteration    lr  valid_loss  valid_r2  valid_mae  train_loss  \n",
       "0                   1 0.003       0.662    -0.048      0.675       0.606  \n",
       "1                   2 0.003       0.552     0.124      0.624       0.554  \n",
       "2                   3 0.002       0.565     0.105      0.630       0.547  \n",
       "3                   4 0.001       0.544     0.134      0.617       0.540  \n",
       "4                   5 0.001       0.529     0.157      0.604       0.523  "
      ]
     },
     "execution_count": 35,
     "metadata": {},
     "output_type": "execute_result"
    }
   ],
   "source": [
    "# Display per iteration\n",
    "\n",
    "progress = data_loader.load_csv(\n",
    "\tfilename = os.path.join(worst.log_dir, 'progress.csv')\n",
    ")\n",
    "\n",
    "progress = progress[['trial_id', 'experiment_id', 'time_total_s', 'training_iteration', 'lr', 'valid_loss', 'valid_r2', 'valid_mae', 'train_loss']]\n",
    "progress"
   ]
  },
  {
   "cell_type": "markdown",
   "id": "8a22c9b0-2060-4ec0-845a-6d2880a6e865",
   "metadata": {},
   "source": [
    "## 2.5 Save"
   ]
  },
  {
   "cell_type": "code",
   "execution_count": 36,
   "id": "bb49abee-4242-4e40-b516-a3682b5fefd7",
   "metadata": {
    "execution": {
     "iopub.execute_input": "2023-02-19T11:34:37.969429Z",
     "iopub.status.busy": "2023-02-19T11:34:37.969429Z",
     "iopub.status.idle": "2023-02-19T11:34:37.999955Z",
     "shell.execute_reply": "2023-02-19T11:34:37.998954Z",
     "shell.execute_reply.started": "2023-02-19T11:34:37.969429Z"
    },
    "tags": []
   },
   "outputs": [],
   "source": [
    "# Save the tuning results\n",
    "\n",
    "report.get_dataframe().to_csv(\n",
    "\tos.path.join(OUT_DATA, CONFIG['model/type'] + '-report.csv')\n",
    ")"
   ]
  }
 ],
 "metadata": {
  "kernelspec": {
   "display_name": "Python 3 (ipykernel)",
   "language": "python",
   "name": "python3"
  },
  "language_info": {
   "codemirror_mode": {
    "name": "ipython",
    "version": 3
   },
   "file_extension": ".py",
   "mimetype": "text/x-python",
   "name": "python",
   "nbconvert_exporter": "python",
   "pygments_lexer": "ipython3",
   "version": "3.10.7"
  }
 },
 "nbformat": 4,
 "nbformat_minor": 5
}
