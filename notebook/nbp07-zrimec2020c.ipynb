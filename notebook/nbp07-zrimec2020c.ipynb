{
 "cells": [
  {
   "cell_type": "code",
   "execution_count": null,
   "id": "26b3f699-3e32-41d5-b3bc-e5051b120757",
   "metadata": {
    "tags": []
   },
   "outputs": [],
   "source": [
    "# Libraries\n",
    "\n",
    "import json\n",
    "import numpy\n",
    "import os\n",
    "import platform\n",
    "import shutil\n",
    "import sys"
   ]
  },
  {
   "cell_type": "code",
   "execution_count": null,
   "id": "9ef5d2df-9612-46a8-9bc5-2dde107f712d",
   "metadata": {},
   "outputs": [],
   "source": [
    "# Root directory\n",
    "\n",
    "ROOT = os.getcwd()\n",
    "\n",
    "while not ROOT.endswith('upolanc-thesis') :\n",
    "\tROOT = os.path.abspath(os.path.join(ROOT, os.pardir))\n",
    "\n",
    "\tif len(ROOT) < len('upolanc-thesis') :\n",
    "\t\tif   platform.system() == 'Linux' :\n",
    "\t\t\tROOT = '/d/hpc/home/up4472/workspace/upolanc-thesis'\n",
    "\t\telif platform.system() == 'Windows' :\n",
    "\t\t\tROOT = 'C:\\\\Developer\\\\Workspace\\\\PyCharm\\\\Projects\\\\upolanc-thesis'\n",
    "\t\telse :\n",
    "\t\t\traise ValueError()\n",
    "\n",
    "\t\tprint(f'Warning : could not find correct directory, using default : {ROOT}')\n",
    "\t\tbreak\n",
    "\n",
    "if ROOT not in sys.path :\n",
    "\tsys.path.append(ROOT)\n",
    "\n",
    "os.chdir(ROOT)"
   ]
  },
  {
   "cell_type": "code",
   "execution_count": null,
   "id": "63982933-9b7e-4c69-9320-0d622cc5c0fd",
   "metadata": {
    "tags": []
   },
   "outputs": [],
   "source": [
    "# Code\n",
    "\n",
    "from source.python.cnn.models import Zrimec2020c\n",
    "\n",
    "from source.python.cnn import core     as cnn_core\n",
    "from source.python.cnn import dataset  as cnn_dataset\n",
    "from source.python.cnn import model    as cnn_model\n",
    "from source.python.cnn import mutation as cnn_mutation\n",
    "from source.python.cnn import plot     as cnn_plot\n",
    "from source.python.cnn import util     as cnn_util\n",
    "from source.python.io  import loader   as data_loader"
   ]
  },
  {
   "cell_type": "markdown",
   "id": "1bb00b68-6422-44c5-b474-8e828e84a155",
   "metadata": {},
   "source": [
    "# 1. Setup"
   ]
  },
  {
   "cell_type": "code",
   "execution_count": null,
   "id": "97ae96b7-f396-4384-848f-1f3b5d81e31a",
   "metadata": {},
   "outputs": [],
   "source": [
    "raise Warning('Hardcoded Execution Stop - Not Maintained :: Copy From NBP07-zrimec2020r')"
   ]
  },
  {
   "cell_type": "code",
   "execution_count": null,
   "id": "0f8e6208-5d4c-496e-b2dd-5f69ebe331db",
   "metadata": {
    "tags": []
   },
   "outputs": [],
   "source": [
    "# Setup some directory paths.\n",
    "\n",
    "CWD = ROOT\n",
    "OUT = os.path.join(CWD, 'output')\n",
    "RES = os.path.join(CWD, 'resources')\n",
    "\n",
    "OUT_DATA  = os.path.join(OUT,      'nbp07-zrimec2020', 'classification')\n",
    "OUT_MODEL = os.path.join(OUT_DATA, 'model')\n",
    "OUT_PLOT  = os.path.join(OUT_DATA, 'plot')\n",
    "RES_NBP04 = os.path.join(OUT,      'nbp04-feature')\n",
    "RES_NBP05 = os.path.join(OUT,      'nbp05-target')\n",
    "\n",
    "shutil.rmtree(OUT_DATA, ignore_errors = True)\n",
    "\n",
    "os.makedirs(OUT_DATA,  exist_ok = True)\n",
    "os.makedirs(OUT_MODEL, exist_ok = True)\n",
    "os.makedirs(OUT_PLOT,  exist_ok = True)\n",
    "\n",
    "print(f'     Root Directory : {CWD}')\n",
    "print(f'   Output Directory : {OUT_DATA}')\n",
    "print(f'   Output Directory : {OUT_MODEL}')\n",
    "print(f'   Output Directory : {OUT_PLOT}')\n",
    "print(f' Resource Directory : {RES_NBP04}')\n",
    "print(f' Resource Directory : {RES_NBP05}')"
   ]
  },
  {
   "cell_type": "code",
   "execution_count": null,
   "id": "7a57b927-f2bc-4a6c-ab3d-b6a090436717",
   "metadata": {
    "tags": []
   },
   "outputs": [],
   "source": [
    "# System and device\n",
    "\n",
    "DEVICE = cnn_core.get_device(only_cpu = False)\n",
    "SYSTEM = cnn_core.get_system_info()\n",
    "\n",
    "for key, value in SYSTEM.items() :\n",
    "\tprint('{:25s} : {}'.format(key, value))"
   ]
  },
  {
   "cell_type": "code",
   "execution_count": null,
   "id": "24c80797-8eeb-49e7-a09a-953e2604832b",
   "metadata": {
    "tags": []
   },
   "outputs": [],
   "source": [
    "# Load the input transcript features\n",
    "\n",
    "mutation_feature_sequence = data_loader.load_fasta(\n",
    "\tfilename  = os.path.join(RES_NBP04, 'mutation-features-bp2150.fasta'),\n",
    "\tto_string = True\n",
    ")\n",
    "\n",
    "mutation_feature_frequency = data_loader.load_npz(\n",
    "\tfilename = os.path.join(RES_NBP04, 'mutation-features-frequency.npz')\n",
    ")\n",
    "\n",
    "mutation_feature_stability = data_loader.load_npz(\n",
    "\tfilename = os.path.join(RES_NBP04, 'mutation-features-stability.npz')\n",
    ")\n",
    "\n",
    "mutation_feature_base = data_loader.load_npz(\n",
    "\tfilename = os.path.join(RES_NBP04, 'mutation-features-base.npz')\n",
    ")\n",
    "\n",
    "feature_sequence = data_loader.load_fasta(\n",
    "\tfilename  = os.path.join(RES_NBP04, 'features-bp2150.fasta'),\n",
    "\tto_string = True\n",
    ")\n",
    "\n",
    "feature_frequency = data_loader.load_npz(\n",
    "\tfilename = os.path.join(RES_NBP04, 'features-frequency.npz')\n",
    ")\n",
    "\n",
    "feature_stability = data_loader.load_npz(\n",
    "\tfilename = os.path.join(RES_NBP04, 'features-stability.npz')\n",
    ")\n",
    "\n",
    "feature_base = data_loader.load_npz(\n",
    "\tfilename = os.path.join(RES_NBP04, 'features-base.npz')\n",
    ")\n",
    "\n",
    "target_label = data_loader.load_labels(\n",
    "\tfilename = os.path.join(RES_NBP05, 'target-labels.json'),\n",
    "\tto_numpy = True\n",
    ")\n",
    "\n",
    "target_order = data_loader.load_labels(\n",
    "\tfilename = os.path.join(RES_NBP05, 'target-order.json')\n",
    ")"
   ]
  },
  {
   "cell_type": "markdown",
   "id": "011f224a-6fff-4487-b1fc-1b64e050361c",
   "metadata": {},
   "source": [
    "# 2. Config"
   ]
  },
  {
   "cell_type": "code",
   "execution_count": null,
   "id": "58905793-abec-4180-846c-afb747f1842b",
   "metadata": {
    "tags": []
   },
   "outputs": [],
   "source": [
    "# Select target\n",
    "\n",
    "TARGET_GROUP  = 'tissue'\n",
    "TARGET_TYPE   = 'mean'\n",
    "TARGET_FILTER = None\n",
    "TARGET_SIZE   = -1\n",
    "TARGET_HEADS  = -1\n",
    "\n",
    "target_order = target_order[TARGET_GROUP]\n",
    "target_label = {\n",
    "\tkey : value[TARGET_GROUP + '-' + TARGET_TYPE]\n",
    "\tfor key, value in target_label.items()\n",
    "}\n",
    "\n",
    "if TARGET_FILTER is not None :\n",
    "\tindex = target_order[TARGET_GROUP].index(TARGET_FILTER)\n",
    "\n",
    "\ttarget_order = [target_order[index]]\n",
    "\ttarget_label = {\n",
    "\t\tkey : value[index:index + 1]\n",
    "\t\tfor key, value in target_label.items()\n",
    "\t}\n",
    "\n",
    "TARGET_HEADS = len(target_order)\n",
    "TARGET_SIZE  = len(numpy.unique([value for value in target_label.values()]))"
   ]
  },
  {
   "cell_type": "code",
   "execution_count": null,
   "id": "8a79b543-c443-416a-ae1b-f9e8b62cfd74",
   "metadata": {},
   "outputs": [],
   "source": [
    "# Ensure long dtype\n",
    "\n",
    "target_label = {\n",
    "\tkey : value.astype(numpy.int64)\n",
    "\tfor key, value in target_label.items()\n",
    "}"
   ]
  },
  {
   "cell_type": "code",
   "execution_count": null,
   "id": "15db99c2-2be2-4a10-ba71-e5ac472f6eab",
   "metadata": {
    "tags": []
   },
   "outputs": [],
   "source": [
    "# Single config\n",
    "\n",
    "CONFIG = {\n",
    "\t'core/random'  : None,\n",
    "\t'core/verbose' : True,\n",
    "\t'core/device'  : DEVICE,\n",
    "\t'core/rootdir' : ROOT,\n",
    "\n",
    "\t'dataset/expanddim'   : None,\n",
    "\t'dataset/batch/train' : 32,\n",
    "\t'dataset/batch/valid' : 32,\n",
    "\t'dataset/batch/test'  : 32,\n",
    "\t'dataset/split/valid' : 0.2,\n",
    "\t'dataset/split/test'  : 0.2,\n",
    "\n",
    "\t'criterion/name'      : 'entropy',\n",
    "\t'criterion/reduction' : 'mean',\n",
    "\n",
    "\t'optimizer/name'     : 'adam',\n",
    "\t'optimizer/lr'       : 0.001,\n",
    "\t'optimizer/decay'    : 0.01,\n",
    "\t'optimizer/momentum' : 0.97,\n",
    "\n",
    "\t'scheduler/name'               : 'plateau',\n",
    "\t'scheduler/plateau/factor'     : 0.5,\n",
    "\t'scheduler/plateau/patience'   : 5,\n",
    "\t'scheduler/linear/factor'      : 1e-5,\n",
    "\t'scheduler/step/factor'        : 0.5,\n",
    "\t'scheduler/step/patience'      : 5,\n",
    "\t'scheduler/exponential/factor' : 0.98,\n",
    "\n",
    "\t'model/input/channels' : 1,\n",
    "\t'model/input/height'   : 4,\n",
    "\t'model/input/width'    : 2150,\n",
    "\t'model/input/features' : 64,\n",
    "\n",
    "\t'model/epochs'    : 5,\n",
    "\t'model/dropout'   : 0.1,\n",
    "\t'model/leakyrelu' : 0.0,\n",
    "\n",
    "\t'model/conv1/filters'  : 64,\n",
    "\t'model/conv1/kernel'   : 21,\n",
    "\t'model/conv1/padding'  : 'none',\n",
    "\t'model/conv1/dilation' : 1,\n",
    "\t'model/conv2/filters'  : 64,\n",
    "\t'model/conv2/kernel'   : 31,\n",
    "\t'model/conv2/padding'  : 'none',\n",
    "\t'model/conv2/dilation' : 1,\n",
    "\t'model/conv3/filters'  : 128,\n",
    "\t'model/conv3/kernel'   : 5,\n",
    "\t'model/conv3/padding'  : 'same',\n",
    "\t'model/conv3/dilation' : 1,\n",
    "\n",
    "\t'model/maxpool1/kernel'  : 5,\n",
    "\t'model/maxpool1/stride'  : 5,\n",
    "\t'model/maxpool1/padding' : 'same',\n",
    "\t'model/maxpool2/kernel'  : 3,\n",
    "\t'model/maxpool2/stride'  : 3,\n",
    "\t'model/maxpool2/padding' : 'same',\n",
    "\t'model/maxpool3/kernel'  : 3,\n",
    "\t'model/maxpool3/stride'  : 3,\n",
    "\t'model/maxpool3/padding' : 'same',\n",
    "\n",
    "\t'model/fc1/features' : 128,\n",
    "\t'model/fc2/features' : 256,\n",
    "\t'model/fc3/features' : TARGET_SIZE,\n",
    "\t'model/fc3/heads'    : TARGET_HEADS,\n",
    "\n",
    "\t'model/output/target' : TARGET_GROUP,\n",
    "\t'model/output/type'   : TARGET_TYPE,\n",
    "\t'model/output/filter' : TARGET_FILTER,\n",
    "\t'model/output/size'   : TARGET_SIZE,\n",
    "\t'model/output/heads'  : TARGET_HEADS\n",
    "}\n",
    "\n",
    "CONFIG['core/random'] = cnn_core.lock_random(\n",
    "\tseed     = CONFIG['core/random'],\n",
    "\tgenerate = True\n",
    ")\n",
    "\n",
    "print('Random Seed : {}'.format(CONFIG['core/random']))"
   ]
  },
  {
   "cell_type": "markdown",
   "id": "2e400e81-0c4c-473b-98c9-5a01485f4cf8",
   "metadata": {},
   "source": [
    "# 3. Dataloaders"
   ]
  },
  {
   "cell_type": "markdown",
   "id": "df2766d0-154d-4087-b51b-fdad2bfb481b",
   "metadata": {},
   "source": [
    "## 3.1 Normal"
   ]
  },
  {
   "cell_type": "code",
   "execution_count": null,
   "id": "48783db7-e4d9-4cdb-8d3c-11f6d314b89e",
   "metadata": {},
   "outputs": [],
   "source": [
    "# Create dataloader\n",
    "\n",
    "dataset = cnn_dataset.to_dataset(\n",
    "\tsequences   = feature_sequence,\n",
    "\tfeatures    = feature_frequency,\n",
    "\ttargets     = target_label,\n",
    "\texpand_dims = CONFIG['dataset/expanddim']\n",
    ")\n",
    "\n",
    "dataloaders = cnn_dataset.to_dataloaders(\n",
    "\tdataset     = dataset,\n",
    "\trandom_seed = CONFIG['core/random'],\n",
    "\tsplit_size  = {\n",
    "\t\t'valid' : CONFIG['dataset/split/valid'],\n",
    "\t\t'test'  : CONFIG['dataset/split/test']\n",
    "\t},\n",
    "\tbatch_size  = {\n",
    "\t\t'train' : CONFIG['dataset/batch/train'],\n",
    "\t\t'valid' : CONFIG['dataset/batch/valid'],\n",
    "\t\t'test'  : CONFIG['dataset/batch/test']\n",
    "\t}\n",
    ")\n",
    "\n",
    "train_dataloader = dataloaders[0]\n",
    "valid_dataloader = dataloaders[1]\n",
    "test_dataloader  = dataloaders[2]"
   ]
  },
  {
   "cell_type": "code",
   "execution_count": null,
   "id": "d5e26f98-6a22-46a7-b82e-3c1d16c7aa91",
   "metadata": {},
   "outputs": [],
   "source": [
    "# Display train dataloader\n",
    "\n",
    "cnn_dataset.show_dataloader(\n",
    "\tdataloader = train_dataloader,\n",
    "\tverbose    = CONFIG['core/verbose']\n",
    ")"
   ]
  },
  {
   "cell_type": "code",
   "execution_count": null,
   "id": "8c5a27b0-14c1-494b-a9e0-7851e9784f1d",
   "metadata": {},
   "outputs": [],
   "source": [
    "# Display valid dataloader\n",
    "\n",
    "cnn_dataset.show_dataloader(\n",
    "\tdataloader = valid_dataloader,\n",
    "\tverbose    = CONFIG['core/verbose']\n",
    ")"
   ]
  },
  {
   "cell_type": "code",
   "execution_count": null,
   "id": "2628d763-676f-47d3-929e-b9b787a04e99",
   "metadata": {},
   "outputs": [],
   "source": [
    "# Display test dataloader\n",
    "\n",
    "cnn_dataset.show_dataloader(\n",
    "\tdataloader = test_dataloader,\n",
    "\tverbose    = CONFIG['core/verbose']\n",
    ")"
   ]
  },
  {
   "cell_type": "markdown",
   "id": "7eac5531-3aaa-4988-806f-d63fb2bafbff",
   "metadata": {},
   "source": [
    "## 3.2 Mutation"
   ]
  },
  {
   "cell_type": "code",
   "execution_count": null,
   "id": "894e48d9-b4c7-4cdd-b7e1-2d32bf42e756",
   "metadata": {},
   "outputs": [],
   "source": [
    "# Create mutation dataloader\n",
    "\n",
    "mutation_dataloader = cnn_mutation.create_dataloader(\n",
    "\tsequences   = mutation_feature_sequence,\n",
    "\tfeatures    = mutation_feature_frequency,\n",
    "\ttargets     = target_label,\n",
    "\texpand_dims = CONFIG['dataset/expanddim'],\n",
    "\trandom_seed = CONFIG['core/random']\n",
    ")"
   ]
  },
  {
   "cell_type": "code",
   "execution_count": null,
   "id": "cb9740d2-27a4-429d-a7a4-9a1fa025f6e7",
   "metadata": {},
   "outputs": [],
   "source": [
    "# Display mutation dataloader\n",
    "\n",
    "cnn_dataset.show_dataloader(\n",
    "\tdataloader = mutation_dataloader,\n",
    "\tverbose    = CONFIG['core/verbose']\n",
    ")"
   ]
  },
  {
   "cell_type": "markdown",
   "id": "1ae8f258-7a81-49a4-be05-bbf5a9b749f0",
   "metadata": {},
   "source": [
    "# 4. Model"
   ]
  },
  {
   "cell_type": "markdown",
   "id": "6e1d88b9-68ea-49e5-a323-0187dbadb6dd",
   "metadata": {},
   "source": [
    "## 4.1 Structure"
   ]
  },
  {
   "cell_type": "code",
   "execution_count": null,
   "id": "def292a2-8b2c-4602-b15b-791e357b44a4",
   "metadata": {},
   "outputs": [],
   "source": [
    "# Create and display the model structure\n",
    "\n",
    "model = Zrimec2020c(params = CONFIG)\n",
    "\n",
    "model.summary(\n",
    "\tbatch_size  = CONFIG['dataset/batch/train'],\n",
    "\tin_height   = CONFIG['model/input/height'],\n",
    "\tin_width    = CONFIG['model/input/width'],\n",
    "\tin_features = CONFIG['model/input/features']\n",
    ")"
   ]
  },
  {
   "cell_type": "code",
   "execution_count": null,
   "id": "726f7470-9e83-4e7a-b5c8-73f85fef97a4",
   "metadata": {},
   "outputs": [],
   "source": [
    "# Convert the model to double and initialize weights and biases\n",
    "\n",
    "model = model.double()\n",
    "model = model.apply(cnn_model.he_uniform_weight)\n",
    "model = model.apply(cnn_model.zero_bias)"
   ]
  },
  {
   "cell_type": "markdown",
   "id": "0e203659-9aed-49f2-9075-feeaf04c29cc",
   "metadata": {},
   "source": [
    "## 4.2 Parameters"
   ]
  },
  {
   "cell_type": "code",
   "execution_count": null,
   "id": "500f0749-13e2-4d2e-9286-ade10b41066d",
   "metadata": {
    "tags": []
   },
   "outputs": [],
   "source": [
    "# Set the training parameters\n",
    "# Set the model parameters\n",
    "\n",
    "model_trainers = cnn_model.get_model_trainers(\n",
    "\tmodel  = model,\n",
    "\tconfig = CONFIG,\n",
    "\tepochs = CONFIG['model/epochs']\n",
    ")\n",
    "\n",
    "model_params = {\n",
    "\t'model'     : model,\n",
    "\t'savebest'  : os.path.join(OUT_MODEL, f'{model.__name__}-best.pth'),\n",
    "\t'savelast'  : os.path.join(OUT_MODEL, f'{model.__name__}-last.pth'),\n",
    "\t'epochs'    : CONFIG['model/epochs'],\n",
    "\t'criterion' : model_trainers['criterion'],\n",
    "\t'optimizer' : model_trainers['optimizer'],\n",
    "\t'scheduler' : model_trainers['scheduler'],\n",
    "\t'device'    : DEVICE,\n",
    "\t'verbose'   : CONFIG['core/verbose'],\n",
    "\t'train_dataloader' : train_dataloader,\n",
    "\t'valid_dataloader' : valid_dataloader,\n",
    "\t'test_dataloader'  : test_dataloader,\n",
    "\t'metrics' : {\n",
    "\t\t'entropy'  : cnn_model.get_criterion(reduction = 'none', weights = None, query = 'entropy'),\n",
    "\t\t'accuracy' : cnn_model.get_criterion(reduction = 'none', weights = None, query = 'accuracy')\n",
    "\t}\n",
    "}"
   ]
  },
  {
   "cell_type": "markdown",
   "id": "59fbeda7-5ba2-4390-bf7b-1ccec5e3bb80",
   "metadata": {
    "tags": []
   },
   "source": [
    "## 4.3 Training"
   ]
  },
  {
   "cell_type": "code",
   "execution_count": null,
   "id": "d7b4fe33-70d8-47ea-a20d-a0dc661e15c3",
   "metadata": {},
   "outputs": [],
   "source": [
    "# Train and validate the model\n",
    "\n",
    "report = cnn_model.train_classifier(\n",
    "\tmodel  = model,\n",
    "\tparams = model_params\n",
    ")"
   ]
  },
  {
   "cell_type": "markdown",
   "id": "ab066b09-ef74-4af2-b761-2f277750564c",
   "metadata": {},
   "source": [
    "## 4.4 Visualization"
   ]
  },
  {
   "cell_type": "code",
   "execution_count": null,
   "id": "1dd6351e-f3da-4d21-bc1c-4558a2801c1e",
   "metadata": {},
   "outputs": [],
   "source": [
    "# Display the training and validation loss curves\n",
    "\n",
    "cnn_plot.show_loss(\n",
    "\treport   = report,\n",
    "\ttitle    = 'Cross Entropy Loss',\n",
    "\tfilename = os.path.join(OUT_PLOT, model.__name__)\n",
    ")"
   ]
  },
  {
   "cell_type": "code",
   "execution_count": null,
   "id": "d829024c-eea1-4c80-bf99-16d3f11b158b",
   "metadata": {},
   "outputs": [],
   "source": [
    "# Display the training and validation learning rate curves\n",
    "\n",
    "cnn_plot.show_lr(\n",
    "\treport   = report,\n",
    "\ttitle    = 'Reduce On Plateau',\n",
    "\tfilename = os.path.join(OUT_PLOT, model.__name__)\n",
    ")"
   ]
  },
  {
   "cell_type": "code",
   "execution_count": null,
   "id": "c8c3808e-94c0-493d-b546-391eeaff7250",
   "metadata": {},
   "outputs": [],
   "source": [
    "# Display the training and validation accuracy curves\n",
    "\n",
    "cnn_plot.show_accuracy(\n",
    "\treport   = report,\n",
    "\ttitle    = 'Accuracy',\n",
    "\tfilename = os.path.join(OUT_PLOT, model.__name__)\n",
    ")"
   ]
  },
  {
   "cell_type": "code",
   "execution_count": null,
   "id": "002ccf4d-3d4c-43a8-b404-227e84c15fcb",
   "metadata": {},
   "outputs": [],
   "source": [
    "# Display the training metrics per batch\n",
    "\n",
    "cnn_plot.show_metric_grid(\n",
    "\treport   = report,\n",
    "\tmode     = 'train',\n",
    "\tfilename = os.path.join(OUT_PLOT, model.__name__ + '-train')\n",
    ")"
   ]
  },
  {
   "cell_type": "code",
   "execution_count": null,
   "id": "cf59b9f0-7111-48e9-9243-20217324cad7",
   "metadata": {},
   "outputs": [],
   "source": [
    "# Display the validation metrics per batch\n",
    "\n",
    "cnn_plot.show_metric_grid(\n",
    "\treport   = report,\n",
    "\tmode     = 'valid',\n",
    "\tfilename = os.path.join(OUT_PLOT, model.__name__ + '-valid')\n",
    ")"
   ]
  },
  {
   "cell_type": "markdown",
   "id": "0bc6aafc-d3c2-4781-a45a-244b8dd02f8c",
   "metadata": {},
   "source": [
    "# 5. Evaluation"
   ]
  },
  {
   "cell_type": "markdown",
   "id": "e7e51b0f-b492-4cf7-8069-5bcb8a16a2c2",
   "metadata": {
    "tags": []
   },
   "source": [
    "## 5.1 Last Model"
   ]
  },
  {
   "cell_type": "markdown",
   "id": "1fcead0a-17bc-48f8-be9a-f42d64b88005",
   "metadata": {},
   "source": [
    "### 5.1.1 Evaluation"
   ]
  },
  {
   "cell_type": "code",
   "execution_count": null,
   "id": "3de7c56c-3c7c-42f4-81ad-9f047f4c8066",
   "metadata": {},
   "outputs": [],
   "source": [
    "# Load last model\n",
    "\n",
    "checkpoint = data_loader.load_torch(\n",
    "\tfilename = os.path.join(OUT_MODEL, model.__name__ + '-last.pth')\n",
    ")\n",
    "\n",
    "print('Epoch : ' + '{}'.format(checkpoint['epoch']))\n",
    "print('Loss  : ' + '{:.5f}'.format(checkpoint['loss']))\n",
    "\n",
    "model.load_state_dict(checkpoint['models'])"
   ]
  },
  {
   "cell_type": "code",
   "execution_count": null,
   "id": "3042f387-bdf2-4707-b46a-9d27bf244f70",
   "metadata": {},
   "outputs": [],
   "source": [
    "# Evaluate the full model\n",
    "\n",
    "report = cnn_model.eval_classifier(\n",
    "\tmodel  = model,\n",
    "\tparams = model_params\n",
    ")\n",
    "\n",
    "print('Accuracy : ' + '{: 8.5f}'.format(report['eval']['metric']['accuracy'].mean()))\n",
    "print('Entropy  : ' + '{: 8.5f}'.format(report['eval']['metric']['entropy'].mean()))"
   ]
  },
  {
   "cell_type": "markdown",
   "id": "4b554a9f-498e-47e1-9526-7dff8b6e34b4",
   "metadata": {
    "tags": []
   },
   "source": [
    "### 5.1.2 Custom"
   ]
  },
  {
   "cell_type": "code",
   "execution_count": null,
   "id": "f6300e23-3468-4c27-9e2c-36a086560045",
   "metadata": {},
   "outputs": [],
   "source": [
    "# Display the first few evaluation item predictions and expectations\n",
    "\n",
    "cnn_util.display_classification_predictions(report = report, n = 2)"
   ]
  },
  {
   "cell_type": "code",
   "execution_count": null,
   "id": "8cb1acc5-aa4f-44e1-96cc-0e5d2285df16",
   "metadata": {},
   "outputs": [],
   "source": [
    "# Display the evaluation accuracy\n",
    "\n",
    "dataframe = cnn_util.display_classification_accuracy(\n",
    "\treport = report,\n",
    "\torder  = target_order\n",
    ").sort_values('Accuracy', ascending = False)\n",
    "\n",
    "print('Average Accuracy : {:8.5f} %'.format(dataframe['Accuracy'].mean()))\n",
    "print('Average Missed 1 : {:8.5f} %'.format(dataframe['Missed_1'].mean()))\n",
    "print('Average Missed 2 : {:8.5f} %'.format(dataframe['Missed_2'].mean()))\n",
    "print('Average Missed 3 : {:8.5f} %'.format(dataframe['Missed_3'].mean()))\n",
    "print('Average Missed 4 : {:8.5f} %'.format(dataframe['Missed_4'].mean()))\n",
    "print()\n",
    "\n",
    "dataframe"
   ]
  },
  {
   "cell_type": "markdown",
   "id": "20d3d9e8-2d2d-4cab-868d-64e6bb7eb442",
   "metadata": {},
   "source": [
    "### 5.1.3 Visualization"
   ]
  },
  {
   "cell_type": "markdown",
   "id": "4771537e-91bc-4f06-8214-f9af478923cf",
   "metadata": {
    "tags": []
   },
   "source": [
    "### 5.1.4 Mutation"
   ]
  },
  {
   "cell_type": "code",
   "execution_count": null,
   "id": "b9b5f84a-f776-4a42-a96d-2c93c3d11b89",
   "metadata": {},
   "outputs": [],
   "source": [
    "# Evaluate the mutations\n",
    "\n",
    "report = cnn_model.eval_classifier(\n",
    "\tmodel  = model,\n",
    "\tparams = model_params | {\n",
    "\t\t'test_dataloader' : mutation_dataloader,\n",
    "\t\t'metrics' : {\n",
    "\t\t\t'entropy'  : cnn_model.get_criterion(reduction = 'none', weights = None, query = 'entropy'),\n",
    "\t\t\t'accuracy' : cnn_model.get_criterion(reduction = 'none', weights = None, query = 'accuracy')\n",
    "\t\t}\n",
    "\t}\n",
    ")\n",
    "\n",
    "print('Accuracy : ' + '{: 8.5f}'.format(report['eval']['metric']['accuracy'].mean()))\n",
    "print('Entropy  : ' + '{: 8.5f}'.format(report['eval']['metric']['entropy'].mean()))"
   ]
  },
  {
   "cell_type": "code",
   "execution_count": null,
   "id": "8088539b-9ea4-40b4-b3c2-6c6afdba8cb0",
   "metadata": {},
   "outputs": [],
   "source": [
    "# Transform model report to mutation report\n",
    "\n",
    "mutation_report = cnn_mutation.get_mutation_report(report = report)\n",
    "\n",
    "transcript = list(mutation_report.keys())[0]\n",
    "mutation   = list(mutation_report[transcript].keys())[0]\n",
    "\n",
    "print('Transcripts : {}'.format(len(mutation_report)))\n",
    "print('Mutations   : {}'.format(len(mutation_report[transcript])))\n",
    "print('Variants    : {}'.format(len(mutation_report[transcript][mutation]['label'])))"
   ]
  },
  {
   "cell_type": "code",
   "execution_count": null,
   "id": "bb426c70-efc5-4021-b794-e9057a50eb83",
   "metadata": {},
   "outputs": [],
   "source": [
    "# Print mutations\n",
    "\n",
    "print(' ' + ' '.join(x if i % 10 != 0 else x + '\\n' for i, x in enumerate(mutation_report.keys(), start = 1)))"
   ]
  },
  {
   "cell_type": "code",
   "execution_count": null,
   "id": "b1e6cb98-a6b9-4ba5-85ed-61eebef2c5a7",
   "metadata": {},
   "outputs": [],
   "source": [
    "# Plot single transcript mutation variant predictions\n",
    "\n",
    "cnn_mutation.plot_mutation_classification(\n",
    "\treport     = mutation_report,\n",
    "\ttranscript = None,\n",
    "\tmutation   = 'M01',\n",
    "\torder      = target_order\n",
    ")"
   ]
  },
  {
   "cell_type": "code",
   "execution_count": null,
   "id": "26757804-cd04-46d8-bbd2-8471a0392d4e",
   "metadata": {},
   "outputs": [],
   "source": [
    "# Plot single transcript mutation variant predictions\n",
    "\n",
    "cnn_mutation.plot_mutation_classification(\n",
    "\treport     = mutation_report,\n",
    "\ttranscript = None,\n",
    "\tmutation   = 'M05',\n",
    "\torder      = target_order\n",
    ")"
   ]
  },
  {
   "cell_type": "code",
   "execution_count": null,
   "id": "ca42557f-8966-4d33-aac1-bd7d9366f154",
   "metadata": {},
   "outputs": [],
   "source": [
    "# Plot single transcript mutation variant predictions\n",
    "\n",
    "cnn_mutation.plot_mutation_classification(\n",
    "\treport     = mutation_report,\n",
    "\ttranscript = None,\n",
    "\tmutation   = 'M10',\n",
    "\torder      = target_order\n",
    ")"
   ]
  },
  {
   "cell_type": "markdown",
   "id": "99a0a29a-6ab4-4463-93f5-a38239558db7",
   "metadata": {},
   "source": [
    "## 5.2 Best Model"
   ]
  },
  {
   "cell_type": "markdown",
   "id": "4042128f-c9a9-4ddf-a435-aa9bec4e537f",
   "metadata": {},
   "source": [
    "### 5.2.1 Evaluation"
   ]
  },
  {
   "cell_type": "code",
   "execution_count": null,
   "id": "b30e7903-88eb-4e92-9f10-65c4a71d1b4c",
   "metadata": {},
   "outputs": [],
   "source": [
    "# Load best model\n",
    "\n",
    "checkpoint = data_loader.load_torch(\n",
    "\tfilename = os.path.join(OUT_MODEL, model.__name__ + '-best.pth')\n",
    ")\n",
    "\n",
    "print('Epoch : ' + '{}'.format(checkpoint['epoch']))\n",
    "print(' Loss : ' + '{:.5f}'.format(checkpoint['loss']))\n",
    "\n",
    "model.load_state_dict(checkpoint['models'])"
   ]
  },
  {
   "cell_type": "code",
   "execution_count": null,
   "id": "9d55a634-efaa-4410-9c68-57794c25bbca",
   "metadata": {},
   "outputs": [],
   "source": [
    "# Evaluate the full model\n",
    "\n",
    "report = cnn_model.eval_classifier(\n",
    "\tmodel  = model,\n",
    "\tparams = model_params\n",
    ")\n",
    "\n",
    "print('Accuracy : ' + '{: 8.5f}'.format(report['eval']['metric']['accuracy'].mean()))\n",
    "print('Entropy  : ' + '{: 8.5f}'.format(report['eval']['metric']['entropy'].mean()))"
   ]
  },
  {
   "cell_type": "markdown",
   "id": "b4c52523-49d1-4613-9897-d9a4b8e22e50",
   "metadata": {},
   "source": [
    "### 5.2.2 Custom"
   ]
  },
  {
   "cell_type": "code",
   "execution_count": null,
   "id": "0097cf63-39e1-46e7-9f12-33b8cd860139",
   "metadata": {},
   "outputs": [],
   "source": [
    "# Display the first few evaluation item predictions and expectations\n",
    "\n",
    "cnn_util.display_classification_predictions(report = report, n = 2)"
   ]
  },
  {
   "cell_type": "code",
   "execution_count": null,
   "id": "d4ba93f6-d50d-450d-8d37-4a937f795ac3",
   "metadata": {},
   "outputs": [],
   "source": [
    "# Display the evaluation accuracy\n",
    "\n",
    "dataframe = cnn_util.display_classification_accuracy(\n",
    "\treport = report,\n",
    "\torder  = target_order\n",
    ").sort_values('Accuracy', ascending = False)\n",
    "\n",
    "print('Average Accuracy : {:8.5f} %'.format(dataframe['Accuracy'].mean()))\n",
    "print('Average Missed 1 : {:8.5f} %'.format(dataframe['Missed_1'].mean()))\n",
    "print('Average Missed 2 : {:8.5f} %'.format(dataframe['Missed_2'].mean()))\n",
    "print('Average Missed 3 : {:8.5f} %'.format(dataframe['Missed_3'].mean()))\n",
    "print('Average Missed 4 : {:8.5f} %'.format(dataframe['Missed_4'].mean()))\n",
    "print()\n",
    "\n",
    "dataframe"
   ]
  },
  {
   "cell_type": "markdown",
   "id": "71e1984d-88b8-4a09-abec-17eb6c100def",
   "metadata": {},
   "source": [
    "### 5.2.3 Visualization"
   ]
  },
  {
   "cell_type": "markdown",
   "id": "2a949ad0-5672-46fe-bf72-557d93cb0e8f",
   "metadata": {},
   "source": [
    "### 5.2.4 Mutation"
   ]
  },
  {
   "cell_type": "code",
   "execution_count": null,
   "id": "9df0eb5a-cf95-485d-8c02-a4bcbffb0702",
   "metadata": {},
   "outputs": [],
   "source": [
    "# Evaluate the mutations\n",
    "\n",
    "report = cnn_model.eval_classifier(\n",
    "\tmodel  = model,\n",
    "\tparams = model_params | {\n",
    "\t\t'test_dataloader' : mutation_dataloader,\n",
    "\t\t'metrics' : {\n",
    "\t\t\t'entropy'  : cnn_model.get_criterion(reduction = 'none', weights = None, query = 'entropy'),\n",
    "\t\t\t'accuracy' : cnn_model.get_criterion(reduction = 'none', weights = None, query = 'accuracy')\n",
    "\t\t}\n",
    "\t}\n",
    ")\n",
    "\n",
    "print('Accuracy : ' + '{: 8.5f}'.format(report['eval']['metric']['accuracy'].mean()))\n",
    "print('Entropy  : ' + '{: 8.5f}'.format(report['eval']['metric']['entropy'].mean()))"
   ]
  },
  {
   "cell_type": "code",
   "execution_count": null,
   "id": "0f2b4bf6-8a72-42f6-a421-366c7e3c52f9",
   "metadata": {},
   "outputs": [],
   "source": [
    "# Transform model report to mutation report\n",
    "\n",
    "mutation_report = cnn_mutation.get_mutation_report(report = report)\n",
    "\n",
    "transcript = list(mutation_report.keys())[0]\n",
    "mutation   = list(mutation_report[transcript].keys())[0]\n",
    "\n",
    "print('Transcripts : {}'.format(len(mutation_report)))\n",
    "print('Mutations   : {}'.format(len(mutation_report[transcript])))\n",
    "print('Variants    : {}'.format(len(mutation_report[transcript][mutation]['label'])))"
   ]
  },
  {
   "cell_type": "code",
   "execution_count": null,
   "id": "ef4c2abe-b19d-4722-aebb-a92113240dde",
   "metadata": {},
   "outputs": [],
   "source": [
    "# Print mutations\n",
    "\n",
    "print(' ' + ' '.join(x if i % 10 != 0 else x + '\\n' for i, x in enumerate(mutation_report.keys(), start = 1)))"
   ]
  },
  {
   "cell_type": "code",
   "execution_count": null,
   "id": "89806eef-b9f5-47eb-bb62-a172737026a6",
   "metadata": {},
   "outputs": [],
   "source": [
    "# Plot single transcript mutation variant predictions\n",
    "\n",
    "cnn_mutation.plot_mutation_classification(\n",
    "\treport     = mutation_report,\n",
    "\ttranscript = None,\n",
    "\tmutation   = 'M01',\n",
    "\torder      = target_order\n",
    ")"
   ]
  },
  {
   "cell_type": "code",
   "execution_count": null,
   "id": "c3afbc98-2bc0-4af0-bd05-2445769e48e2",
   "metadata": {},
   "outputs": [],
   "source": [
    "# Plot single transcript mutation variant predictions\n",
    "\n",
    "cnn_mutation.plot_mutation_classification(\n",
    "\treport     = mutation_report,\n",
    "\ttranscript = None,\n",
    "\tmutation   = 'M05',\n",
    "\torder      = target_order\n",
    ")"
   ]
  },
  {
   "cell_type": "code",
   "execution_count": null,
   "id": "0c557beb-1780-4034-ac34-bb2c2b1f8a6f",
   "metadata": {
    "tags": []
   },
   "outputs": [],
   "source": [
    "# Plot single transcript mutation variant predictions\n",
    "\n",
    "cnn_mutation.plot_mutation_classification(\n",
    "\treport     = mutation_report,\n",
    "\ttranscript = None,\n",
    "\tmutation   = 'M10',\n",
    "\torder      = target_order\n",
    ")"
   ]
  }
 ],
 "metadata": {
  "kernelspec": {
   "display_name": "Python 3 (ipykernel)",
   "language": "python",
   "name": "python3"
  },
  "language_info": {
   "codemirror_mode": {
    "name": "ipython",
    "version": 3
   },
   "file_extension": ".py",
   "mimetype": "text/x-python",
   "name": "python",
   "nbconvert_exporter": "python",
   "pygments_lexer": "ipython3",
   "version": "3.10.7"
  }
 },
 "nbformat": 4,
 "nbformat_minor": 5
}
