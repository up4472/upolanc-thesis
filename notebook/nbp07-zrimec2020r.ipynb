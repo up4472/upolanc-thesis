{
 "cells": [
  {
   "cell_type": "code",
   "execution_count": null,
   "id": "26b3f699-3e32-41d5-b3bc-e5051b120757",
   "metadata": {
    "tags": []
   },
   "outputs": [],
   "source": [
    "# Libraries\n",
    "\n",
    "import argparse\n",
    "import json\n",
    "import numpy\n",
    "import os\n",
    "import platform\n",
    "import shutil\n",
    "import sys"
   ]
  },
  {
   "cell_type": "code",
   "execution_count": null,
   "id": "fa68fb4d-fb70-4255-8f97-9557d0f0842c",
   "metadata": {
    "tags": []
   },
   "outputs": [],
   "source": [
    "# Root directory\n",
    "\n",
    "ROOT = os.getcwd()\n",
    "\n",
    "while not ROOT.endswith('upolanc-thesis') :\n",
    "\tROOT = os.path.abspath(os.path.join(ROOT, os.pardir))\n",
    "\n",
    "\tif len(ROOT) < len('upolanc-thesis') :\n",
    "\t\tif   platform.system() == 'Linux' :\n",
    "\t\t\tROOT = '/d/hpc/home/up4472/workspace/upolanc-thesis'\n",
    "\t\telif platform.system() == 'Windows' :\n",
    "\t\t\tROOT = 'C:\\\\Developer\\\\Workspace\\\\PyCharm\\\\Projects\\\\upolanc-thesis'\n",
    "\t\telse :\n",
    "\t\t\traise ValueError()\n",
    "\n",
    "\t\tprint(f'Warning : could not find correct directory, using default : {ROOT}')\n",
    "\t\tbreak\n",
    "\n",
    "if ROOT not in sys.path :\n",
    "\tsys.path.append(ROOT)\n",
    "\n",
    "os.chdir(ROOT)"
   ]
  },
  {
   "cell_type": "code",
   "execution_count": null,
   "id": "63982933-9b7e-4c69-9320-0d622cc5c0fd",
   "metadata": {
    "tags": []
   },
   "outputs": [],
   "source": [
    "# Code\n",
    "\n",
    "from source.python.cnn.models import Zrimec2020r\n",
    "\n",
    "from source.python.cnn import core     as cnn_core\n",
    "from source.python.cnn import dataset  as cnn_dataset\n",
    "from source.python.cnn import model    as cnn_model\n",
    "from source.python.cnn import mutation as cnn_mutation\n",
    "from source.python.cnn import plot     as cnn_plot\n",
    "from source.python.cnn import util     as cnn_util\n",
    "from source.python.io  import loader   as data_loader\n",
    "from source.python.io  import writer   as data_writer"
   ]
  },
  {
   "cell_type": "markdown",
   "id": "1bb00b68-6422-44c5-b474-8e828e84a155",
   "metadata": {},
   "source": [
    "# 1. Setup"
   ]
  },
  {
   "cell_type": "code",
   "execution_count": null,
   "id": "0f8e6208-5d4c-496e-b2dd-5f69ebe331db",
   "metadata": {
    "tags": []
   },
   "outputs": [],
   "source": [
    "# Setup some directory paths.\n",
    "\n",
    "CWD = ROOT\n",
    "OUT = os.path.join(CWD, 'output')\n",
    "RES = os.path.join(CWD, 'resources')\n",
    "\n",
    "OUT_DATA  = os.path.join(OUT,      'nbp07-zrimec2020', 'regression')\n",
    "OUT_MODEL = os.path.join(OUT_DATA, 'model')\n",
    "OUT_PLOT  = os.path.join(OUT_DATA, 'plot')\n",
    "RES_NBP02 = os.path.join(OUT,      'nbp02-anndata')\n",
    "RES_NBP04 = os.path.join(OUT,      'nbp04-feature')\n",
    "RES_NBP05 = os.path.join(OUT,      'nbp05-target')\n",
    "\n",
    "shutil.rmtree(OUT_DATA, ignore_errors = True)\n",
    "\n",
    "os.makedirs(OUT_DATA,  exist_ok = True)\n",
    "os.makedirs(OUT_MODEL, exist_ok = True)\n",
    "os.makedirs(OUT_PLOT,  exist_ok = True)\n",
    "\n",
    "print(f'     Root Directory : {CWD}')\n",
    "print(f'   Output Directory : {OUT_DATA}')\n",
    "print(f'   Output Directory : {OUT_MODEL}')\n",
    "print(f'   Output Directory : {OUT_PLOT}')\n",
    "print(f' Resource Directory : {RES_NBP04}')\n",
    "print(f' Resource Directory : {RES_NBP05}')"
   ]
  },
  {
   "cell_type": "code",
   "execution_count": null,
   "id": "7a57b927-f2bc-4a6c-ab3d-b6a090436717",
   "metadata": {
    "tags": []
   },
   "outputs": [],
   "source": [
    "# System and device\n",
    "\n",
    "DEVICE = cnn_core.get_device(only_cpu = False)\n",
    "SYSTEM = cnn_core.get_system_info()\n",
    "\n",
    "for key, value in SYSTEM.items() :\n",
    "\tprint('{:25s} : {}'.format(key, value))"
   ]
  },
  {
   "cell_type": "code",
   "execution_count": null,
   "id": "24c80797-8eeb-49e7-a09a-953e2604832b",
   "metadata": {
    "tags": []
   },
   "outputs": [],
   "source": [
    "# Load the input transcript features\n",
    "\n",
    "mutation_feature_sequence = data_loader.load_fasta(\n",
    "\tfilename  = os.path.join(RES_NBP04, 'mutation-features-bp2150.fasta'),\n",
    "\tto_string = True\n",
    ")\n",
    "\n",
    "mutation_feature_base = data_loader.load_npz(\n",
    "\tfilename = os.path.join(RES_NBP04, 'mutation-features-base.npz')\n",
    ")\n",
    "\n",
    "feature_sequence = data_loader.load_fasta(\n",
    "\tfilename  = os.path.join(RES_NBP04, 'features-bp2150.fasta'),\n",
    "\tto_string = True\n",
    ")\n",
    "\n",
    "feature_base = data_loader.load_npz(\n",
    "\tfilename = os.path.join(RES_NBP04, 'features-base.npz')\n",
    ")\n",
    "\n",
    "model_config = data_loader.load_json(\n",
    "\tfilename = os.path.join(RES, 'tuner', 'zrimec2020.json')\n",
    ")"
   ]
  },
  {
   "cell_type": "markdown",
   "id": "011f224a-6fff-4487-b1fc-1b64e050361c",
   "metadata": {},
   "source": [
    "# 2. Config"
   ]
  },
  {
   "cell_type": "code",
   "execution_count": null,
   "id": "6c47f690-ac5f-4b38-af08-689926e8adf2",
   "metadata": {
    "tags": []
   },
   "outputs": [],
   "source": [
    "# Create final report\n",
    "\n",
    "final_report = dict()"
   ]
  },
  {
   "cell_type": "code",
   "execution_count": null,
   "id": "34658783-684d-424a-89bf-4bcbbc6474f9",
   "metadata": {
    "tags": []
   },
   "outputs": [],
   "source": [
    "# Define output and inputs\n",
    "\n",
    "MODEL_PARAMS   = None\n",
    "MODEL_EPOCHS   = 5\n",
    "\n",
    "TARGET_GROUP   = 'global'\n",
    "TARGET_TYPE    = 'mean'\n",
    "TARGET_EXPLODE = False\n",
    "TARGET_FILTER  = None\n",
    "TARGET_SIZE    = None\n",
    "\n",
    "INPUT_FEATURES = None"
   ]
  },
  {
   "cell_type": "code",
   "execution_count": null,
   "id": "2fcb2776-d568-450d-98f4-4ecd03e9322a",
   "metadata": {
    "tags": []
   },
   "outputs": [],
   "source": [
    "# Check for args\n",
    "\n",
    "if __name__ == '__main__' and 'get_ipython' in dir() :\n",
    "\tprint('Running as .ipynb')\n",
    "\n",
    "if __name__ == '__main__' and 'get_ipython' not in dir() :\n",
    "\tprint('Running as .py')\n",
    "\n",
    "\tparser = argparse.ArgumentParser()\n",
    "\n",
    "\tparse_none = lambda x : None if x == 'none' else x\n",
    "\tparse_bool = lambda x : True if x == 'true' else False\n",
    "\n",
    "\tparser.add_argument('--target_group',   type = str, choices = ['tissue', 'group', 'age', 'global', 'perturbation'])\n",
    "\tparser.add_argument('--target_type',    type = str, choices = ['mean', 'max'])\n",
    "\tparser.add_argument('--target_explode', type = parse_bool)\n",
    "\tparser.add_argument('--target_filter',  type = parse_none)\n",
    "\tparser.add_argument('--model_epochs',   type = int)\n",
    "\tparser.add_argument('--model_params',   type = int)\n",
    "\n",
    "\tparser.set_defaults(\n",
    "\t\ttarget_group   = 'tissue',\n",
    "\t\ttarget_type    = 'mean',\n",
    "\t\ttarget_explode = False,\n",
    "\t\ttarget_filter  = None,\n",
    "\t\tmodel_epochs   = 100,\n",
    "\t\tmodel_params   = None\n",
    "\t)\n",
    "\n",
    "\targs = vars(parser.parse_args())\n",
    "\n",
    "\tTARGET_GROUP   = args['target_group']\n",
    "\tTARGET_TYPE    = args['target_type']\n",
    "\tTARGET_EXPLODE = args['target_explode']\n",
    "\tTARGET_FILTER  = args['target_filter']\n",
    "\tMODEL_EPOCHS   = args['model_epochs']\n",
    "\tMODEL_PARAMS   = args['model_params']\n",
    "\n",
    "if TARGET_GROUP == 'global' :\n",
    "\tTARGET_EXPLODE = False"
   ]
  },
  {
   "cell_type": "code",
   "execution_count": null,
   "id": "52189084-1831-408f-ae3d-85f14f21aab7",
   "metadata": {
    "tags": []
   },
   "outputs": [],
   "source": [
    "# Load features\n",
    "\n",
    "dataframe, target_value, target_order = data_loader.load_feature_targets(\n",
    "\tgroup    = f'{TARGET_GROUP}-{TARGET_TYPE}',\n",
    "\texplode  = TARGET_EXPLODE,\n",
    "\tfilters  = {\n",
    "\t\t'tissue'       : None,\n",
    "\t\t'group'        : None,\n",
    "\t\t'age'          : None,\n",
    "\t\t'perturbation' : None,\n",
    "\t\t'global'       : None\n",
    "\t} | {\n",
    "\t\tTARGET_GROUP : TARGET_FILTER\n",
    "\t\tif TARGET_FILTER is None\n",
    "\t\telse [TARGET_FILTER]\n",
    "\t},\n",
    "\tdirectory = RES_NBP05,\n",
    "\tfilename  = 'mapping-grouped.pkl'\n",
    ")\n",
    "\n",
    "if 'Feature' in dataframe.columns :\n",
    "\tfeature_base = {\n",
    "\t\tkey : numpy.concatenate((feature_base[key.split('?')[-1]], value))\n",
    "\t\tfor key, value in dataframe['Feature'].to_dict().items()\n",
    "\t}\n",
    "\n",
    "TARGET_SIZE   = len(target_order)\n",
    "INPUT_FEATURE = len(list(feature_base.values())[0])\n",
    "\n",
    "dataframe"
   ]
  },
  {
   "cell_type": "code",
   "execution_count": null,
   "id": "843d99b2-4885-4d27-add1-2bb458300512",
   "metadata": {
    "tags": []
   },
   "outputs": [],
   "source": [
    "# Single global config\n",
    "\n",
    "CONFIG = {\n",
    "\t'core/random'                  : None,\n",
    "\t'core/verbose'                 : False,\n",
    "\t'core/device'                  : DEVICE,\n",
    "\t'core/rootdir'                 : ROOT,\n",
    "\t'dataset/expanddim'            : None,\n",
    "\t'dataset/batch/train'          : 64,\n",
    "\t'dataset/batch/valid'          : 64,\n",
    "\t'dataset/batch/test'           : 64,\n",
    "\t'dataset/split/valid'          : 0.2,\n",
    "\t'dataset/split/test'           : 0.2,\n",
    "\t'criterion/name'               : 'mse',\n",
    "\t'criterion/reduction'          : 'mean',\n",
    "\t'optimizer/decay'              : 0.049112288361090203,\n",
    "\t'optimizer/lr'                 : 0.000855269783800900,\n",
    "\t'optimizer/momentum'           : 0.830793559890461997,\n",
    "\t'optimizer/name'               : 'adam',\n",
    "\t'scheduler/exponential/factor' : 0.993206525568888998,\n",
    "\t'scheduler/linear/factor'      : 0.044580434349908597,\n",
    "\t'scheduler/name'               : 'linear',\n",
    "\t'scheduler/plateau/factor'     : 0.255073201804133176,\n",
    "\t'scheduler/plateau/patience'   : 24,\n",
    "\t'scheduler/step/factor'        : 0.384810555304578694,\n",
    "\t'scheduler/step/patience'      : 14,\n",
    "\t'model/input/channels'         : 1,\n",
    "\t'model/input/height'           : 4,\n",
    "\t'model/input/width'            : 2150,\n",
    "\t'model/input/features'         : INPUT_FEATURE,\n",
    "\t'model/epochs'                 : MODEL_EPOCHS,\n",
    "\t'model/dropout'                : 0.09,\n",
    "\t'model/leakyrelu'              : 0.00,\n",
    "\t'model/conv1/dilation'         : 1,\n",
    "\t'model/conv1/filters'          : 256,\n",
    "\t'model/conv1/kernel'           : 11,\n",
    "\t'model/conv1/padding'          : 'none',\n",
    "\t'model/conv2/dilation'         : 1,\n",
    "\t'model/conv2/filters'          : 32,\n",
    "\t'model/conv2/kernel'           : 5,\n",
    "\t'model/conv2/padding'          : 'none',\n",
    "\t'model/conv3/dilation'         : 1,\n",
    "\t'model/conv3/filters'          : 32,\n",
    "\t'model/conv3/kernel'           : 31,\n",
    "\t'model/conv3/padding'          : 'none',\n",
    "\t'model/maxpool1/kernel'        : 5,\n",
    "\t'model/maxpool1/padding'       : 'same',\n",
    "\t'model/maxpool2/kernel'        : 5,\n",
    "\t'model/maxpool2/padding'       : 'same',\n",
    "\t'model/maxpool3/kernel'        : 9,\n",
    "\t'model/maxpool3/padding'       : 'same',\n",
    "\t'model/fc1/features'           : 64,\n",
    "\t'model/fc2/features'           : 128,\n",
    "\t'model/fc3/features'           : TARGET_SIZE,\n",
    "\t'model/output/target'          : TARGET_GROUP,\n",
    "\t'model/output/type'            : TARGET_TYPE,\n",
    "\t'model/output/size'            : TARGET_SIZE,\n",
    "\t'model/params/id'              : MODEL_PARAMS\n",
    "}\n",
    "\n",
    "CONFIG['core/random'] = cnn_core.lock_random(\n",
    "\tseed     = CONFIG['core/random'],\n",
    "\tgenerate = True\n",
    ")"
   ]
  },
  {
   "cell_type": "code",
   "execution_count": null,
   "id": "7145ed6f-f577-49b5-a9c5-a41ae851c01a",
   "metadata": {
    "tags": []
   },
   "outputs": [],
   "source": [
    "# Update specific params\n",
    "\n",
    "if CONFIG['model/params/id'] is not None and CONFIG['model/params/id'] >= 0 :\n",
    "\tCONFIG.update(model_config[CONFIG['model/params/id']])"
   ]
  },
  {
   "cell_type": "code",
   "execution_count": null,
   "id": "17be7ae5-a7d7-4ed6-b601-b6a2a7092c12",
   "metadata": {
    "tags": []
   },
   "outputs": [],
   "source": [
    "# Prints\n",
    "\n",
    "print('Input Feature : {}'.format(CONFIG['model/input/features']))\n",
    "print('Output Target : {}'.format(CONFIG['model/output/target']))\n",
    "print('Output Type   : {}'.format(CONFIG['model/output/type']))\n",
    "print('Output Size   : {}'.format(CONFIG['model/output/size']))\n",
    "print('Random Seed   : {}'.format(CONFIG['core/random']))"
   ]
  },
  {
   "cell_type": "markdown",
   "id": "2e400e81-0c4c-473b-98c9-5a01485f4cf8",
   "metadata": {},
   "source": [
    "# 3. Dataloaders"
   ]
  },
  {
   "cell_type": "markdown",
   "id": "df2766d0-154d-4087-b51b-fdad2bfb481b",
   "metadata": {},
   "source": [
    "## 3.1 Normal"
   ]
  },
  {
   "cell_type": "code",
   "execution_count": null,
   "id": "dba1449c-a5b2-4f07-92df-2fa093318e5b",
   "metadata": {
    "tags": []
   },
   "outputs": [],
   "source": [
    "# Create dataset\n",
    "\n",
    "dataset = cnn_dataset.to_dataset(\n",
    "\tsequences   = feature_sequence,\n",
    "\tfeatures    = feature_base,\n",
    "\ttargets     = target_value,\n",
    "\texpand_dims = CONFIG['dataset/expanddim'],\n",
    "\tgroups      = None\n",
    ")"
   ]
  },
  {
   "cell_type": "code",
   "execution_count": null,
   "id": "3a85b1cf-a882-4a16-8cc3-3f54755ad3f8",
   "metadata": {},
   "outputs": [],
   "source": [
    "# Create dataloader\n",
    "\n",
    "dataloaders = cnn_dataset.to_dataloaders(\n",
    "\tdataset     = dataset,\n",
    "\tgenerator   = cnn_dataset.generate_group_shuffle_split,\n",
    "\trandom_seed = CONFIG['core/random'],\n",
    "\tsplit_size  = {\n",
    "\t\t'valid' : CONFIG['dataset/split/valid'],\n",
    "\t\t'test'  : CONFIG['dataset/split/test']\n",
    "\t},\n",
    "\tbatch_size  = {\n",
    "\t\t'train' : CONFIG['dataset/batch/train'],\n",
    "\t\t'valid' : CONFIG['dataset/batch/valid'],\n",
    "\t\t'test'  : CONFIG['dataset/batch/test']\n",
    "\t}\n",
    ")\n",
    "\n",
    "train_dataloader = dataloaders[0]\n",
    "valid_dataloader = dataloaders[1]\n",
    "test_dataloader  = dataloaders[2]"
   ]
  },
  {
   "cell_type": "code",
   "execution_count": null,
   "id": "d5e26f98-6a22-46a7-b82e-3c1d16c7aa91",
   "metadata": {
    "tags": []
   },
   "outputs": [],
   "source": [
    "# Display train dataloader\n",
    "\n",
    "cnn_dataset.show_dataloader(\n",
    "\tdataloader = train_dataloader,\n",
    "\tverbose    = CONFIG['core/verbose']\n",
    ")"
   ]
  },
  {
   "cell_type": "code",
   "execution_count": null,
   "id": "8c5a27b0-14c1-494b-a9e0-7851e9784f1d",
   "metadata": {
    "tags": []
   },
   "outputs": [],
   "source": [
    "# Display valid dataloader\n",
    "\n",
    "cnn_dataset.show_dataloader(\n",
    "\tdataloader = valid_dataloader,\n",
    "\tverbose    = CONFIG['core/verbose']\n",
    ")"
   ]
  },
  {
   "cell_type": "code",
   "execution_count": null,
   "id": "2628d763-676f-47d3-929e-b9b787a04e99",
   "metadata": {
    "tags": []
   },
   "outputs": [],
   "source": [
    "# Display test dataloader\n",
    "\n",
    "cnn_dataset.show_dataloader(\n",
    "\tdataloader = test_dataloader,\n",
    "\tverbose    = CONFIG['core/verbose']\n",
    ")"
   ]
  },
  {
   "cell_type": "markdown",
   "id": "7eac5531-3aaa-4988-806f-d63fb2bafbff",
   "metadata": {},
   "source": [
    "## 3.2 Mutation"
   ]
  },
  {
   "cell_type": "code",
   "execution_count": null,
   "id": "267ae83c-1fd9-4d63-ad8b-746d5a5338ab",
   "metadata": {
    "tags": []
   },
   "outputs": [],
   "source": [
    "# Update mutation features\n",
    "\n",
    "if 'Feature' in dataframe.columns :\n",
    "\tmutation_feature_base_new = dict()\n",
    "\n",
    "\tfor x in mutation_feature_base.keys() :\n",
    "\t\tdf = dataframe.loc[dataframe['Transcript'] == x.split('-')[0]]\n",
    "\n",
    "\t\tfor index, row in df.iterrows() :\n",
    "\t\t\tkey = index + '-' + x.split('-')[-1]\n",
    "\t\t\tval = numpy.concatenate((mutation_feature_base[x], row['Feature']))\n",
    "\n",
    "\t\t\tmutation_feature_base_new[key] = val\n",
    "\n",
    "\tmutation_feature_base = mutation_feature_base_new"
   ]
  },
  {
   "cell_type": "code",
   "execution_count": null,
   "id": "894e48d9-b4c7-4cdd-b7e1-2d32bf42e756",
   "metadata": {
    "tags": []
   },
   "outputs": [],
   "source": [
    "# Create mutation dataloader\n",
    "\n",
    "mutation_dataloader = cnn_mutation.create_dataloader(\n",
    "\tsequences   = mutation_feature_sequence,\n",
    "\tfeatures    = mutation_feature_base,\n",
    "\ttargets     = target_value,\n",
    "\texpand_dims = CONFIG['dataset/expanddim']\n",
    ")"
   ]
  },
  {
   "cell_type": "code",
   "execution_count": null,
   "id": "cb9740d2-27a4-429d-a7a4-9a1fa025f6e7",
   "metadata": {
    "tags": []
   },
   "outputs": [],
   "source": [
    "# Display mutation dataloader\n",
    "\n",
    "cnn_dataset.show_dataloader(\n",
    "\tdataloader = mutation_dataloader,\n",
    "\tverbose    = CONFIG['core/verbose']\n",
    ")"
   ]
  },
  {
   "cell_type": "markdown",
   "id": "1ae8f258-7a81-49a4-be05-bbf5a9b749f0",
   "metadata": {},
   "source": [
    "# 4. Model"
   ]
  },
  {
   "cell_type": "markdown",
   "id": "6e1d88b9-68ea-49e5-a323-0187dbadb6dd",
   "metadata": {},
   "source": [
    "## 4.1 Structure"
   ]
  },
  {
   "cell_type": "code",
   "execution_count": null,
   "id": "def292a2-8b2c-4602-b15b-791e357b44a4",
   "metadata": {
    "tags": []
   },
   "outputs": [],
   "source": [
    "# Create and display the model structure\n",
    "\n",
    "model = Zrimec2020r(params = CONFIG)\n",
    "\n",
    "model.summary(\n",
    "\tbatch_size  = CONFIG['dataset/batch/train'],\n",
    "\tin_height   = CONFIG['model/input/height'],\n",
    "\tin_width    = CONFIG['model/input/width'],\n",
    "\tin_features = CONFIG['model/input/features'],\n",
    ")"
   ]
  },
  {
   "cell_type": "code",
   "execution_count": null,
   "id": "726f7470-9e83-4e7a-b5c8-73f85fef97a4",
   "metadata": {
    "tags": []
   },
   "outputs": [],
   "source": [
    "# Convert the model to double and initialize weights and biases\n",
    "\n",
    "model = model.double()\n",
    "model = model.apply(cnn_model.he_uniform_weight)\n",
    "model = model.apply(cnn_model.zero_bias)"
   ]
  },
  {
   "cell_type": "markdown",
   "id": "81ba9998-cd9d-4035-a84d-c982292927e2",
   "metadata": {},
   "source": [
    "## 4.2 Metrics"
   ]
  },
  {
   "cell_type": "code",
   "execution_count": null,
   "id": "d20d8e67-1606-492c-81c3-c0b22df3f859",
   "metadata": {},
   "outputs": [],
   "source": [
    "# Define metrics\n",
    "\n",
    "METRICS = {\n",
    "\t'mse' : cnn_model.get_criterion(reduction = 'none', weights = None, query = 'mse'),\n",
    "\t'mae' : cnn_model.get_criterion(reduction = 'none', weights = None, query = 'mae'),\n",
    "\t'r2'  : cnn_model.get_criterion(reduction = 'none', weights = None, query = 'r2', output_size = CONFIG['model/output/size'])\n",
    "}\n",
    "\n",
    "METRICS = {\n",
    "\tk : v.to(DEVICE)\n",
    "\tfor k, v in METRICS.items()\n",
    "}"
   ]
  },
  {
   "cell_type": "markdown",
   "id": "0e203659-9aed-49f2-9075-feeaf04c29cc",
   "metadata": {},
   "source": [
    "## 4.3 Parameters"
   ]
  },
  {
   "cell_type": "code",
   "execution_count": null,
   "id": "500f0749-13e2-4d2e-9286-ade10b41066d",
   "metadata": {
    "tags": []
   },
   "outputs": [],
   "source": [
    "# Set the model parameters\n",
    "\n",
    "model_trainers = cnn_model.get_model_trainers(\n",
    "\tmodel  = model,\n",
    "\tconfig = CONFIG,\n",
    "\tepochs = CONFIG['model/epochs']\n",
    ")\n",
    "\n",
    "model_params = {\n",
    "\t'model'     : model,\n",
    "\t'savebest'  : os.path.join(OUT_MODEL, f'{model.__name__}-best.pth'),\n",
    "\t'savelast'  : os.path.join(OUT_MODEL, f'{model.__name__}-last.pth'),\n",
    "\t'epochs'    : CONFIG['model/epochs'],\n",
    "\t'criterion' : model_trainers['criterion'],\n",
    "\t'optimizer' : model_trainers['optimizer'],\n",
    "\t'scheduler' : model_trainers['scheduler'],\n",
    "\t'device'    : DEVICE,\n",
    "\t'verbose'   : CONFIG['core/verbose'],\n",
    "\t'metrics'   : METRICS,\n",
    "\t'train_dataloader' : train_dataloader,\n",
    "\t'valid_dataloader' : valid_dataloader,\n",
    "\t'test_dataloader'  : test_dataloader\n",
    "}"
   ]
  },
  {
   "cell_type": "markdown",
   "id": "59fbeda7-5ba2-4390-bf7b-1ccec5e3bb80",
   "metadata": {
    "tags": []
   },
   "source": [
    "## 4.4 Training"
   ]
  },
  {
   "cell_type": "code",
   "execution_count": null,
   "id": "d7b4fe33-70d8-47ea-a20d-a0dc661e15c3",
   "metadata": {
    "tags": []
   },
   "outputs": [],
   "source": [
    "# Train and validate the model\n",
    "\n",
    "report = cnn_model.train_regressor(\n",
    "\tmodel  = model,\n",
    "\tparams = model_params\n",
    ")"
   ]
  },
  {
   "cell_type": "markdown",
   "id": "ab066b09-ef74-4af2-b761-2f277750564c",
   "metadata": {},
   "source": [
    "## 4.5 Visualization"
   ]
  },
  {
   "cell_type": "code",
   "execution_count": null,
   "id": "1dd6351e-f3da-4d21-bc1c-4558a2801c1e",
   "metadata": {},
   "outputs": [],
   "source": [
    "# Display the training and validation loss curves\n",
    "\n",
    "cnn_plot.show_loss(\n",
    "\treport   = report,\n",
    "\ttitle    = 'Loss Function',\n",
    "\tfilename = os.path.join(OUT_PLOT, model.__name__)\n",
    ")"
   ]
  },
  {
   "cell_type": "code",
   "execution_count": null,
   "id": "d829024c-eea1-4c80-bf99-16d3f11b158b",
   "metadata": {},
   "outputs": [],
   "source": [
    "# Display the training and validation learning rate curves\n",
    "\n",
    "cnn_plot.show_lr(\n",
    "\treport   = report,\n",
    "\ttitle    = 'Learning Rate',\n",
    "\tfilename = os.path.join(OUT_PLOT, model.__name__)\n",
    ")"
   ]
  },
  {
   "cell_type": "code",
   "execution_count": null,
   "id": "c8c3808e-94c0-493d-b546-391eeaff7250",
   "metadata": {
    "tags": []
   },
   "outputs": [],
   "source": [
    "# Display the training and validation r2 score curves\n",
    "\n",
    "cnn_plot.show_r2(\n",
    "\treport   = report,\n",
    "\ttitle    = 'R2 Score',\n",
    "\tfilename = os.path.join(OUT_PLOT, model.__name__)\n",
    ")"
   ]
  },
  {
   "cell_type": "code",
   "execution_count": null,
   "id": "002ccf4d-3d4c-43a8-b404-227e84c15fcb",
   "metadata": {},
   "outputs": [],
   "source": [
    "# Display the training metrics per batch\n",
    "\n",
    "cnn_plot.show_metric_grid(\n",
    "\treport   = report,\n",
    "\tmode     = 'train',\n",
    "\tfilename = os.path.join(OUT_PLOT, model.__name__ + '-train')\n",
    ")"
   ]
  },
  {
   "cell_type": "code",
   "execution_count": null,
   "id": "cf59b9f0-7111-48e9-9243-20217324cad7",
   "metadata": {},
   "outputs": [],
   "source": [
    "# Display the validation metrics per batch\n",
    "\n",
    "cnn_plot.show_metric_grid(\n",
    "\treport   = report,\n",
    "\tmode     = 'valid',\n",
    "\tfilename = os.path.join(OUT_PLOT, model.__name__ + '-valid')\n",
    ")"
   ]
  },
  {
   "cell_type": "markdown",
   "id": "0bc6aafc-d3c2-4781-a45a-244b8dd02f8c",
   "metadata": {},
   "source": [
    "# 5. Evaluation"
   ]
  },
  {
   "cell_type": "markdown",
   "id": "e7e51b0f-b492-4cf7-8069-5bcb8a16a2c2",
   "metadata": {
    "tags": []
   },
   "source": [
    "## 5.1 Last Model"
   ]
  },
  {
   "cell_type": "markdown",
   "id": "1fcead0a-17bc-48f8-be9a-f42d64b88005",
   "metadata": {},
   "source": [
    "### 5.1.1 Evaluation"
   ]
  },
  {
   "cell_type": "code",
   "execution_count": null,
   "id": "3de7c56c-3c7c-42f4-81ad-9f047f4c8066",
   "metadata": {
    "tags": []
   },
   "outputs": [],
   "source": [
    "# Load last model\n",
    "\n",
    "checkpoint = data_loader.load_torch(\n",
    "\tfilename = os.path.join(OUT_MODEL, model.__name__ + '-last.pth')\n",
    ")\n",
    "\n",
    "final_report['evaluation/last/epoch'] = checkpoint['epoch']\n",
    "final_report['evaluation/last/loss']  = checkpoint['loss']\n",
    "\n",
    "print('Epoch : ' + '{}'.format(final_report['evaluation/last/epoch']))\n",
    "print(' Loss : ' + '{:.5f}'.format(final_report['evaluation/last/loss']))\n",
    "\n",
    "model.load_state_dict(checkpoint['models'])"
   ]
  },
  {
   "cell_type": "code",
   "execution_count": null,
   "id": "3042f387-bdf2-4707-b46a-9d27bf244f70",
   "metadata": {},
   "outputs": [],
   "source": [
    "# Evaluate the full model\n",
    "\n",
    "report = cnn_model.eval_regressor(\n",
    "\tmodel  = model,\n",
    "\tparams = model_params\n",
    ")\n",
    "\n",
    "final_report['evaluation/last/r2/mean']  = report['eval']['metric']['r2'].mean()\n",
    "final_report['evaluation/last/mae/mean'] = report['eval']['metric']['mae'].mean()\n",
    "final_report['evaluation/last/mse/mean'] = report['eval']['metric']['mse'].mean()\n",
    "\n",
    "print('R2 Score : ' + '{: 8.5f}'.format(final_report['evaluation/last/r2/mean']))\n",
    "print('MAE Loss : ' + '{: 8.5f}'.format(final_report['evaluation/last/mae/mean']))\n",
    "print('MSE Loss : ' + '{: 8.5f}'.format(final_report['evaluation/last/mse/mean']))"
   ]
  },
  {
   "cell_type": "markdown",
   "id": "99a0a29a-6ab4-4463-93f5-a38239558db7",
   "metadata": {},
   "source": [
    "## 5.2 Best Model"
   ]
  },
  {
   "cell_type": "markdown",
   "id": "4042128f-c9a9-4ddf-a435-aa9bec4e537f",
   "metadata": {},
   "source": [
    "### 5.2.1 Evaluation"
   ]
  },
  {
   "cell_type": "code",
   "execution_count": null,
   "id": "b30e7903-88eb-4e92-9f10-65c4a71d1b4c",
   "metadata": {
    "tags": []
   },
   "outputs": [],
   "source": [
    "# Load best model\n",
    "\n",
    "checkpoint = data_loader.load_torch(\n",
    "\tfilename = os.path.join(OUT_MODEL, model.__name__ + '-best.pth')\n",
    ")\n",
    "\n",
    "final_report['evaluation/best/epoch'] = checkpoint['epoch']\n",
    "final_report['evaluation/best/loss']  = checkpoint['loss']\n",
    "\n",
    "print('Epoch : ' + '{}'.format(final_report['evaluation/best/epoch']))\n",
    "print(' Loss : ' + '{:.5f}'.format(final_report['evaluation/best/loss']))\n",
    "\n",
    "model.load_state_dict(checkpoint['models'])"
   ]
  },
  {
   "cell_type": "code",
   "execution_count": null,
   "id": "ae73e65d-f292-4570-ab58-9a662137d48f",
   "metadata": {
    "tags": []
   },
   "outputs": [],
   "source": [
    "# Evaluate the full model\n",
    "\n",
    "report = cnn_model.eval_regressor(\n",
    "\tmodel  = model,\n",
    "\tparams = model_params\n",
    ")\n",
    "\n",
    "final_report['evaluation/best/r2/mean']  = report['eval']['metric']['r2'].mean()\n",
    "final_report['evaluation/best/mae/mean'] = report['eval']['metric']['mae'].mean()\n",
    "final_report['evaluation/best/mse/mean'] = report['eval']['metric']['mse'].mean()\n",
    "\n",
    "print('R2 Score : ' + '{: 8.5f}'.format(final_report['evaluation/best/r2/mean']))\n",
    "print('MAE Loss : ' + '{: 8.5f}'.format(final_report['evaluation/best/mae/mean']))\n",
    "print('MSE Loss : ' + '{: 8.5f}'.format(final_report['evaluation/best/mse/mean']))"
   ]
  },
  {
   "cell_type": "markdown",
   "id": "b4c52523-49d1-4613-9897-d9a4b8e22e50",
   "metadata": {},
   "source": [
    "### 5.2.2 Custom"
   ]
  },
  {
   "cell_type": "code",
   "execution_count": null,
   "id": "0097cf63-39e1-46e7-9f12-33b8cd860139",
   "metadata": {
    "tags": []
   },
   "outputs": [],
   "source": [
    "# Display the first few evaluation item predictions and expectations\n",
    "\n",
    "cnn_util.display_regression_predictions(report = report, n = 2)"
   ]
  },
  {
   "cell_type": "markdown",
   "id": "71e1984d-88b8-4a09-abec-17eb6c100def",
   "metadata": {},
   "source": [
    "### 5.2.3 Visualization"
   ]
  },
  {
   "cell_type": "code",
   "execution_count": null,
   "id": "5b6c0368-22fa-4df2-b1af-98f222e8ea16",
   "metadata": {
    "tags": []
   },
   "outputs": [],
   "source": [
    "# Display prediction error per group\n",
    "\n",
    "cnn_plot.show_prediction_error_grid(\n",
    "\treport   = report,\n",
    "\torder    = target_order,\n",
    "\tfilename = os.path.join(OUT_PLOT, model.__name__ + '-best')\n",
    ")"
   ]
  },
  {
   "cell_type": "code",
   "execution_count": null,
   "id": "e4004492-e20b-4ad2-91cf-c11b6f564225",
   "metadata": {
    "tags": []
   },
   "outputs": [],
   "source": [
    "# Display prediction linear regression per group\n",
    "\n",
    "cnn_plot.show_linear_regression_grid(\n",
    "\treport   = report,\n",
    "\torder    = target_order,\n",
    "\tfilename = os.path.join(OUT_PLOT, model.__name__ + '-best')\n",
    ")"
   ]
  },
  {
   "cell_type": "markdown",
   "id": "2a949ad0-5672-46fe-bf72-557d93cb0e8f",
   "metadata": {},
   "source": [
    "### 5.2.4 Mutation"
   ]
  },
  {
   "cell_type": "code",
   "execution_count": null,
   "id": "9df0eb5a-cf95-485d-8c02-a4bcbffb0702",
   "metadata": {
    "tags": []
   },
   "outputs": [],
   "source": [
    "# Evaluate the mutations\n",
    "\n",
    "report = cnn_model.eval_regressor(\n",
    "\tmodel  = model,\n",
    "\tparams = model_params | {\n",
    "\t\t'test_dataloader' : mutation_dataloader,\n",
    "\t\t'metrics' : {\n",
    "\t\t\t'mse' : cnn_model.get_criterion(reduction = 'none', weights = None, query = 'mse').to(DEVICE),\n",
    "\t\t\t'mae' : cnn_model.get_criterion(reduction = 'none', weights = None, query = 'mae').to(DEVICE)\n",
    "\t\t}\n",
    "\t}\n",
    ")\n",
    "\n",
    "final_report['mutation/best/mae/mean'] = report['eval']['metric']['mae'].mean()\n",
    "final_report['mutation/best/mse/mean'] = report['eval']['metric']['mse'].mean()\n",
    "\n",
    "print('MAE Loss : ' + '{: 8.5f}'.format(final_report['mutation/best/mae/mean']))\n",
    "print('MSE Loss : ' + '{: 8.5f}'.format(final_report['mutation/best/mse/mean']))"
   ]
  },
  {
   "cell_type": "code",
   "execution_count": null,
   "id": "0f2b4bf6-8a72-42f6-a421-366c7e3c52f9",
   "metadata": {
    "tags": []
   },
   "outputs": [],
   "source": [
    "# Transform model report to mutation report\n",
    "\n",
    "mutation_report = cnn_mutation.get_mutation_report(report = report)\n",
    "\n",
    "transcript = list(mutation_report.keys())[0]\n",
    "mutation   = list(mutation_report[transcript].keys())[0]\n",
    "\n",
    "print('Transcripts : {}'.format(len(mutation_report)))\n",
    "print('Mutations   : {}'.format(len(mutation_report[transcript])))\n",
    "print('Variants    : {}'.format(len(mutation_report[transcript][mutation]['label'])))"
   ]
  },
  {
   "cell_type": "code",
   "execution_count": null,
   "id": "ef4c2abe-b19d-4722-aebb-a92113240dde",
   "metadata": {
    "tags": []
   },
   "outputs": [],
   "source": [
    "# Print mutations\n",
    "\n",
    "print(' ' + ' '.join('{:>20s}'.format(x) if i % 5 != 0 else '{:>20s}'.format(x) + '\\n' for i, x in enumerate(mutation_report.keys(), start = 1)))"
   ]
  },
  {
   "cell_type": "code",
   "execution_count": null,
   "id": "89806eef-b9f5-47eb-bb62-a172737026a6",
   "metadata": {
    "tags": []
   },
   "outputs": [],
   "source": [
    "# Plot single transcript mutation variant predictions\n",
    "\n",
    "cnn_mutation.plot_mutation_regression(\n",
    "\treport     = mutation_report,\n",
    "\ttranscript = None,\n",
    "\tmutation   = 'M01',\n",
    "\torder      = target_order,\n",
    "\tfilename   = os.path.join(OUT_PLOT, model.__name__ + '-mutation-m01')\n",
    ")"
   ]
  },
  {
   "cell_type": "code",
   "execution_count": null,
   "id": "c3afbc98-2bc0-4af0-bd05-2445769e48e2",
   "metadata": {
    "tags": []
   },
   "outputs": [],
   "source": [
    "# Plot single transcript mutation variant predictions\n",
    "\n",
    "cnn_mutation.plot_mutation_regression(\n",
    "\treport     = mutation_report,\n",
    "\ttranscript = None,\n",
    "\tmutation   = 'M05',\n",
    "\torder      = target_order,\n",
    "\tfilename   = os.path.join(OUT_PLOT, model.__name__ + '-mutation-m05')\n",
    ")"
   ]
  },
  {
   "cell_type": "code",
   "execution_count": null,
   "id": "0c557beb-1780-4034-ac34-bb2c2b1f8a6f",
   "metadata": {
    "tags": []
   },
   "outputs": [],
   "source": [
    "# Plot single transcript mutation variant predictions\n",
    "\n",
    "cnn_mutation.plot_mutation_regression(\n",
    "\treport     = mutation_report,\n",
    "\ttranscript = None,\n",
    "\tmutation   = 'M10',\n",
    "\torder      = target_order,\n",
    "\tfilename   = os.path.join(OUT_PLOT, model.__name__ + '-mutation-m10')\n",
    ")"
   ]
  },
  {
   "cell_type": "markdown",
   "id": "560bfbe1-c755-4ffb-84e6-191343271702",
   "metadata": {},
   "source": [
    "# 6. Save"
   ]
  },
  {
   "cell_type": "code",
   "execution_count": null,
   "id": "52874422-b6f3-4f4b-b1f9-43d76476faf5",
   "metadata": {
    "tags": []
   },
   "outputs": [],
   "source": [
    "# Save results\n",
    "\n",
    "for key, value in final_report.items() :\n",
    "\tif isinstance(value, numpy.float32) :\n",
    "\t\tfinal_report[key] = float(value)\n",
    "\n",
    "data_writer.write_json(\n",
    "\tdata     = final_report,\n",
    "\tfilename = os.path.join(OUT_DATA, 'report.json')\n",
    ")\n",
    "\n",
    "data_writer.write_json(\n",
    "\tdata     = {k : v for k, v in CONFIG.items() if k != 'core/device'},\n",
    "\tfilename = os.path.join(OUT_DATA, 'config.json')\n",
    ")"
   ]
  }
 ],
 "metadata": {
  "kernelspec": {
   "display_name": "Python 3 (ipykernel)",
   "language": "python",
   "name": "python3"
  },
  "language_info": {
   "codemirror_mode": {
    "name": "ipython",
    "version": 3
   },
   "file_extension": ".py",
   "mimetype": "text/x-python",
   "name": "python",
   "nbconvert_exporter": "python",
   "pygments_lexer": "ipython3",
   "version": "3.10.7"
  }
 },
 "nbformat": 4,
 "nbformat_minor": 5
}
