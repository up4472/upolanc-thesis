{
 "cells": [
  {
   "cell_type": "code",
   "execution_count": null,
   "id": "9cffb14c-ef9d-44b7-9361-8b863c7ea42e",
   "metadata": {
    "tags": []
   },
   "outputs": [],
   "source": [
    "# Libraries\n",
    "\n",
    "import argparse\n",
    "import numpy\n",
    "import os\n",
    "import platform\n",
    "import shutil\n",
    "import sys"
   ]
  },
  {
   "cell_type": "code",
   "execution_count": null,
   "id": "9b1df225-75e2-456c-81cd-8d2a358738b6",
   "metadata": {
    "tags": []
   },
   "outputs": [],
   "source": [
    "# Ensure source path\n",
    "\n",
    "ROOT = os.getcwd()\n",
    "\n",
    "while not ROOT.endswith('upolanc-thesis') :\n",
    "\tROOT = os.path.abspath(os.path.join(ROOT, os.pardir))\n",
    "\n",
    "\tif len(ROOT) < len('upolanc-thesis') :\n",
    "\t\tif   platform.system() == 'Linux'   : ROOT = '/d/hpc/projects/FRI/up4472/upolanc-thesis'\n",
    "\t\telif platform.system() == 'Windows' : ROOT = 'C:\\\\Developer\\\\Workspace\\\\PyCharm\\\\Projects\\\\upolanc-thesis'\n",
    "\t\telse : raise ValueError()\n",
    "\n",
    "\t\tprint(f'Warning : could not find correct directory, using default : {ROOT}')\n",
    "\t\tprint()\n",
    "\n",
    "\t\tbreak\n",
    "\n",
    "if ROOT not in sys.path :\n",
    "\tsys.path.append(ROOT)\n",
    "\n",
    "os.chdir(ROOT)"
   ]
  },
  {
   "cell_type": "code",
   "execution_count": null,
   "id": "4f160ee1-7c64-4a19-b375-2b36da431412",
   "metadata": {
    "tags": []
   },
   "outputs": [],
   "source": [
    "# Code\n",
    "\n",
    "from source.python.cnn.models import Washburn2019c\n",
    "from source.python.cnn.models import Washburn2019r\n",
    "from source.python.cnn.models import Zrimec2020c\n",
    "from source.python.cnn.models import Zrimec2020r\n",
    "\n",
    "from source.python         import runtime\n",
    "from source.python.cnn     import cnn_model\n",
    "from source.python.cnn     import cnn_mutation\n",
    "from source.python.cnn     import cnn_plot\n",
    "from source.python.cnn     import cnn_utils\n",
    "from source.python.dataset import dataset_split\n",
    "from source.python.dataset import dataset_utils\n",
    "from source.python.io      import loader\n",
    "from source.python.io      import writer\n",
    "\n",
    "runtime.set_numpy_format()\n",
    "runtime.set_pandas_format()\n",
    "runtime.set_plot_theme(font_scale = 3)"
   ]
  },
  {
   "cell_type": "markdown",
   "id": "2b872266-6b59-43df-9bfd-2faf46e53a86",
   "metadata": {},
   "source": [
    "# 1. Setup"
   ]
  },
  {
   "cell_type": "code",
   "execution_count": null,
   "id": "2fa60bc7-b07f-4c9c-874c-ffe22a5795e0",
   "metadata": {
    "tags": []
   },
   "outputs": [],
   "source": [
    "# Define output and inputs\n",
    "\n",
    "FILTER_ID      = 2\n",
    "VERBOSE        = False\n",
    "FEATURES       = True\n",
    "GENERATOR      = 'group'\n",
    "\n",
    "MODEL_ARCH     = 'zrimec'\n",
    "MODEL_MODE     = 'regression'\n",
    "MODEL_PARAMS   = 0\n",
    "MODEL_EPOCHS   = 2\n",
    "\n",
    "TARGET_GROUP   = 'tissue'\n",
    "TARGET_TYPE    = 'mean'\n",
    "TARGET_EXPLODE = True\n",
    "TARGET_FILTER  = None\n",
    "\n",
    "SEQUENCE_TYPE  = 'transcript-2150'\n",
    "SEQUENCE_END   = None\n",
    "SEQUENCE_START = None\n",
    "\n",
    "PRETRAIN_FLAG  = False\n",
    "PRETRAIN_PATH  = None"
   ]
  },
  {
   "cell_type": "code",
   "execution_count": null,
   "id": "c39e6f47-7e54-4957-866a-66674ad9ae35",
   "metadata": {
    "tags": []
   },
   "outputs": [],
   "source": [
    "# Check for args\n",
    "\n",
    "if __name__ == '__main__' and 'get_ipython' in dir() :\n",
    "\tprint('Running as .ipynb')\n",
    "\tprint()\n",
    "\n",
    "if __name__ == '__main__' and 'get_ipython' not in dir() :\n",
    "\tprint('Running as .py')\n",
    "\tprint()\n",
    "\n",
    "\tparser = argparse.ArgumentParser()\n",
    "\n",
    "\tstr_of_bool = lambda x : True if x == 'true' else False\n",
    "\tstr_or_none = lambda x : None if x == 'none' else str(x)\n",
    "\tint_or_none = lambda x : None if x == 'none' else int(x)\n",
    "\n",
    "\tparser.add_argument('--target_group',   type = str,         default = 'global',          choices = ['tissue', 'group', 'age', 'global', 'perturbation'])\n",
    "\tparser.add_argument('--target_type',    type = str,         default = 'mean',            choices = ['mean', 'max'])\n",
    "\tparser.add_argument('--target_explode', type = str_of_bool, default = False)\n",
    "\tparser.add_argument('--target_filter',  type = str_or_none, default = None)\n",
    "\tparser.add_argument('--model_arch',     type = str,         default = 'zrimec',          choices = ['zrimec', 'washburn'])\n",
    "\tparser.add_argument('--model_epochs',   type = int,         default = 250)\n",
    "\tparser.add_argument('--model_params',   type = int_or_none, default = None)\n",
    "\tparser.add_argument('--model_mode',     type = str,         default = 'regression',      choices = ['regression', 'classification'])\n",
    "\tparser.add_argument('--filter_id',      type = int,         default = 0)\n",
    "\tparser.add_argument('--generator',      type = str,         default = 'group',           choices = ['stratified', 'group', 'random'])\n",
    "\tparser.add_argument('--features',       type = str_of_bool, default = False)\n",
    "\tparser.add_argument('--sequence_start', type = int_or_none, default = None)\n",
    "\tparser.add_argument('--sequence_end',   type = int_or_none, default = None)\n",
    "\tparser.add_argument('--sequence_type',  type = str,         default = 'transcript-2150', choices = ['transcript-2150', 'transcript-6150', 'promoter-full-5000', 'promoter-utr5-5000']),\n",
    "\tparser.add_argument('--model_pretrain', type = str_of_bool, default = False)\n",
    "\n",
    "\targs = vars(parser.parse_args())\n",
    "\n",
    "\tTARGET_GROUP   = args['target_group']\n",
    "\tTARGET_TYPE    = args['target_type']\n",
    "\tTARGET_EXPLODE = args['target_explode']\n",
    "\tTARGET_FILTER  = args['target_filter']\n",
    "\tMODEL_ARCH     = args['model_arch']\n",
    "\tMODEL_EPOCHS   = args['model_epochs']\n",
    "\tMODEL_PARAMS   = args['model_params']\n",
    "\tMODEL_MODE     = args['model_mode']\n",
    "\tFILTER_ID      = args['filter_id']\n",
    "\tGENERATOR      = args['generator']\n",
    "\tFEATURES       = args['features']\n",
    "\tSEQUENCE_START = args['sequence_start']\n",
    "\tSEQUENCE_END   = args['sequence_end']\n",
    "\tSEQUENCE_TYPE  = args['sequence_type']\n",
    "\tPRETRAIN_FLAG  = args['model_pretrain']\n",
    "\n",
    "if TARGET_GROUP == 'global' :\n",
    "\tTARGET_EXPLODE = False"
   ]
  },
  {
   "cell_type": "code",
   "execution_count": null,
   "id": "d86a191d-45c6-4d24-851a-bdeb1a65697a",
   "metadata": {
    "tags": []
   },
   "outputs": [],
   "source": [
    "# Setup some directory paths.\n",
    "\n",
    "SUBFOLDER = 'filter' + str(FILTER_ID)\n",
    "FOLDER    = '{}-f{}-{}'.format(MODEL_ARCH, FILTER_ID, MODEL_MODE[0])\n",
    "TARGET    = '{}-{}'.format(TARGET_GROUP, TARGET_TYPE)\n",
    "\n",
    "if TARGET_EXPLODE :\n",
    "\tif TARGET_FILTER is None : TARGET = TARGET + '-' + 'explode'\n",
    "\telse                     : TARGET = TARGET + '-' + TARGET_FILTER\n",
    "\n",
    "CWD = ROOT\n",
    "OUT = os.path.join(CWD, 'output')\n",
    "RES = os.path.join(CWD, 'resources')\n",
    "\n",
    "OUT_DATA  = os.path.join(OUT,      'nbp08-cnn',     FOLDER, TARGET)\n",
    "OUT_MODEL = os.path.join(OUT_DATA, 'model')\n",
    "OUT_PLOT  = os.path.join(OUT_DATA, 'plot')\n",
    "RES_NBP02 = os.path.join(OUT,      'nbp02-anndata', SUBFOLDER)\n",
    "RES_NBP04 = os.path.join(OUT,      'nbp04-feature', SUBFOLDER)\n",
    "RES_NBP05 = os.path.join(OUT,      'nbp05-target',  SUBFOLDER)\n",
    "\n",
    "shutil.rmtree(OUT_DATA, ignore_errors = True)\n",
    "\n",
    "os.makedirs(OUT_DATA,  exist_ok = True)\n",
    "os.makedirs(OUT_MODEL, exist_ok = True)\n",
    "os.makedirs(OUT_PLOT,  exist_ok = True)\n",
    "\n",
    "print(f'     Root Directory : {CWD}')\n",
    "print(f'   Output Directory : {OUT_DATA}')\n",
    "print(f'   Output Directory : {OUT_MODEL}')\n",
    "print(f'   Output Directory : {OUT_PLOT}')\n",
    "print(f' Resource Directory : {RES_NBP02}')\n",
    "print(f' Resource Directory : {RES_NBP04}')\n",
    "print(f' Resource Directory : {RES_NBP05}')\n",
    "print()"
   ]
  },
  {
   "cell_type": "code",
   "execution_count": null,
   "id": "6061086b-3391-4d1e-8546-574b4faba319",
   "metadata": {},
   "outputs": [],
   "source": [
    "# System and device\n",
    "\n",
    "DEVICE = runtime.get_device(only_cpu = False)\n",
    "SYSTEM = runtime.get_system_info()\n",
    "\n",
    "for key, value in SYSTEM.items() :\n",
    "\tprint('{:25s} : {}'.format(key, value))\n",
    "\n",
    "print()"
   ]
  },
  {
   "cell_type": "code",
   "execution_count": null,
   "id": "43d4b7e3-1aff-436f-a876-3881c3398825",
   "metadata": {
    "tags": []
   },
   "outputs": [],
   "source": [
    "# Define sequence paths\n",
    "\n",
    "if SEQUENCE_TYPE == 'transcript-6150'    :\n",
    "\tsequence_keep = os.path.join(RES_NBP04, 'sequences-6150-keep.fasta')\n",
    "\tsequence_drop = os.path.join(RES_NBP04, 'sequences-6150-drop.fasta')\n",
    "\tmutation_keep = os.path.join(RES_NBP04, 'mutation-sequences-6150.fasta')\n",
    "\n",
    "if SEQUENCE_TYPE == 'transcript-2150'    :\n",
    "\tsequence_keep = os.path.join(RES_NBP04, 'sequences-2150-keep.fasta')\n",
    "\tsequence_drop = os.path.join(RES_NBP04, 'sequences-2150-drop.fasta')\n",
    "\tmutation_keep = os.path.join(RES_NBP04, 'mutation-sequences-2150.fasta')\n",
    "\n",
    "if SEQUENCE_TYPE == 'promoter-full-5000' :\n",
    "\tsequence_keep = os.path.join(RES_NBP04, 'sequences-promoter-full-keep.fasta')\n",
    "\tsequence_drop = os.path.join(RES_NBP04, 'sequences-promoter-full-drop.fasta')\n",
    "\tmutation_keep = os.path.join(RES_NBP04, 'mutation-sequences-promoter-full.fasta')\n",
    "\n",
    "if SEQUENCE_TYPE == 'promoter-utr5-5000' :\n",
    "\tsequence_keep = os.path.join(RES_NBP04, 'sequences-promoter-utr5-keep.fasta')\n",
    "\tsequence_drop = os.path.join(RES_NBP04, 'sequences-promoter-utr5-drop.fasta')\n",
    "\tmutation_keep = os.path.join(RES_NBP04, 'mutation-sequences-promoter-utr5.fasta')\n",
    "\n",
    "if MODEL_ARCH == 'zrimec'   : model_config = os.path.join(RES, 'tuner', 'zrimec.json')\n",
    "if MODEL_ARCH == 'washburn' : model_config = os.path.join(RES, 'tuner', 'washburn.json')"
   ]
  },
  {
   "cell_type": "code",
   "execution_count": null,
   "id": "6a2bba76-de1e-41d5-9255-b1232e84bf27",
   "metadata": {
    "tags": []
   },
   "outputs": [],
   "source": [
    "# Define pretrained model path\n",
    "\n",
    "PRETRAIN_PATH = os.path.join(RES, 'models', SEQUENCE_TYPE, MODEL_ARCH + '-scerevisiae.pth')"
   ]
  },
  {
   "cell_type": "code",
   "execution_count": null,
   "id": "73a596b8-15b0-402c-b86c-f3342dca5266",
   "metadata": {
    "tags": []
   },
   "outputs": [],
   "source": [
    "# Load the input transcript features\n",
    "\n",
    "sequence_keep = loader.load_fasta(\n",
    "\tfilename  = sequence_keep,\n",
    "\tto_string = True\n",
    ")\n",
    "\n",
    "sequence_drop = loader.load_fasta(\n",
    "\tfilename  = sequence_drop,\n",
    "\tto_string = True\n",
    ")\n",
    "\n",
    "mutation_sequence = loader.load_fasta(\n",
    "\tfilename  = mutation_keep,\n",
    "\tto_string = True\n",
    ")\n",
    "\n",
    "mutation_feature_base = loader.load_npz(\n",
    "\tfilename = os.path.join(RES_NBP04, 'mutation-features-base.npz')\n",
    ")\n",
    "\n",
    "feature_base_keep = loader.load_npz(\n",
    "\tfilename = os.path.join(RES_NBP04, 'features-base-keep.npz')\n",
    ")\n",
    "\n",
    "feature_base_drop = loader.load_npz(\n",
    "\tfilename = os.path.join(RES_NBP04, 'features-base-drop.npz')\n",
    ")\n",
    "\n",
    "model_config = loader.load_json(\n",
    "\tfilename = model_config\n",
    ")"
   ]
  },
  {
   "cell_type": "markdown",
   "id": "6fba2747-dc78-4c86-95b9-2b95cc3eceb5",
   "metadata": {},
   "source": [
    "# 2. Config"
   ]
  },
  {
   "cell_type": "code",
   "execution_count": null,
   "id": "c9471628-3243-41c2-8c21-72419cdc202f",
   "metadata": {},
   "outputs": [],
   "source": [
    "# Create final report\n",
    "\n",
    "final_report = dict()"
   ]
  },
  {
   "cell_type": "code",
   "execution_count": null,
   "id": "27bad798-98fc-4783-9e18-784d4cb0112e",
   "metadata": {
    "tags": []
   },
   "outputs": [],
   "source": [
    "# Single global config\n",
    "\n",
    "CONFIG = {\n",
    "\t'core/device'             : DEVICE,\n",
    "\t'core/random'             : None,\n",
    "\t'core/rootdir'            : ROOT,\n",
    "\t'core/verbose'            : VERBOSE,\n",
    "\t'core/plots'              : 5,\n",
    "\t'core/alpha'              : 0.8,\n",
    "\t'core/linewidth'          : 2,\n",
    "\t'core/bins'               : 75,\n",
    "\t'dataset/expanddim'       : 0,\n",
    "\t'dataset/sequence/start'  : SEQUENCE_START,\n",
    "\t'dataset/sequence/end'    : SEQUENCE_END,\n",
    "\t'dataset/sequence/type'   : SEQUENCE_TYPE,\n",
    "\t'dataset/split/generator' : GENERATOR,\n",
    "\t'dataset/split/test'      : 0.2,\n",
    "\t'dataset/split/valid'     : 0.2,\n",
    "\t'model/arch'              : MODEL_ARCH,\n",
    "\t'model/epochs'            : MODEL_EPOCHS,\n",
    "\t'model/features'          : FEATURES,\n",
    "\t'model/input/channels'    : 1,\n",
    "\t'model/input/features'    : None,\n",
    "\t'model/input/height'      : 4,\n",
    "\t'model/input/width'       : 2150,\n",
    "\t'model/mode'              : MODEL_MODE,\n",
    "\t'model/output/explode'    : TARGET_EXPLODE,\n",
    "\t'model/output/filter'     : TARGET_FILTER,\n",
    "\t'model/output/heads'      : None,\n",
    "\t'model/output/size'       : None,\n",
    "\t'model/output/target'     : TARGET_GROUP,\n",
    "\t'model/output/type'       : TARGET_TYPE,\n",
    "\t'model/params/id'         : MODEL_PARAMS,\n",
    "\t'pretrain/flag'           : PRETRAIN_FLAG,\n",
    "\t'pretrain/path'           : PRETRAIN_PATH\n",
    "}\n",
    "\n",
    "CONFIG['core/random'] = runtime.lock_random(\n",
    "\tseed     = CONFIG['core/random'],\n",
    "\tgenerate = True\n",
    ")\n",
    "\n",
    "if CONFIG['model/arch'] == 'zrimec'   : CONFIG['dataset/expanddim'] = None\n",
    "if CONFIG['model/arch'] == 'washburn' : CONFIG['dataset/expanddim'] = 0"
   ]
  },
  {
   "cell_type": "code",
   "execution_count": null,
   "id": "c721c729-8212-482c-9686-d4a648e78574",
   "metadata": {
    "tags": []
   },
   "outputs": [],
   "source": [
    "# Update specific params\n",
    "\n",
    "if CONFIG['model/params/id'] is not None and CONFIG['model/params/id'] >= 0 :\n",
    "\tCONFIG.update(model_config[CONFIG['model/params/id']])\n",
    "\n",
    "\tCONFIG['dataset/batch/train'] = CONFIG['dataset/batch_size']\n",
    "\tCONFIG['dataset/batch/valid'] = CONFIG['dataset/batch_size']\n",
    "\tCONFIG['dataset/batch/test']  = CONFIG['dataset/batch_size']"
   ]
  },
  {
   "cell_type": "code",
   "execution_count": null,
   "id": "51f85799-6f17-4c5b-9450-894ff4a48ba6",
   "metadata": {},
   "outputs": [],
   "source": [
    "# Update configuration\n",
    "\n",
    "if CONFIG['model/mode'] == 'regression'     : CONFIG['criterion/name'] = 'corrected-mse'\n",
    "if CONFIG['model/mode'] == 'classification' : CONFIG['criterion/name'] = 'entropy'"
   ]
  },
  {
   "cell_type": "code",
   "execution_count": null,
   "id": "2a812730-aa56-458c-af66-2f1d1a5c3fec",
   "metadata": {
    "tags": []
   },
   "outputs": [],
   "source": [
    "# Prints\n",
    "\n",
    "print('Output Target : {}'.format(CONFIG['model/output/target']))\n",
    "print('Output Type   : {}'.format(CONFIG['model/output/type']))\n",
    "print('Use Features  : {}'.format(CONFIG['model/features']))\n",
    "print('Random Seed   : {}'.format(CONFIG['core/random']))\n",
    "print()"
   ]
  },
  {
   "cell_type": "markdown",
   "id": "18b323f2-5aad-4ea3-b1ca-66ac9c82d56c",
   "metadata": {},
   "source": [
    "# 3. Dataloader"
   ]
  },
  {
   "cell_type": "markdown",
   "id": "ef086005-c5af-4fb7-ae03-96f842d9b6db",
   "metadata": {},
   "source": [
    "## 3.1 Normal"
   ]
  },
  {
   "cell_type": "code",
   "execution_count": null,
   "id": "911901d4-bb4a-4286-81cd-c780542a6a1e",
   "metadata": {
    "tags": []
   },
   "outputs": [],
   "source": [
    "# Create dataset\n",
    "\n",
    "dataset_keep, dataframe_keep, target_value_keep, target_order_keep = dataset_utils.get_dataset(\n",
    "\tconfig    = CONFIG,\n",
    "\tsequence  = sequence_keep,\n",
    "\tfeature   = feature_base_keep,\n",
    "\tdirectory = RES_NBP05,\n",
    "\tcached    = None,\n",
    "\tstart     = SEQUENCE_START,\n",
    "\tend       = SEQUENCE_END,\n",
    "\tfilename  = 'mapping-grouped-keep.pkl'\n",
    ")\n",
    "\n",
    "dataset_drop, dataframe_drop, target_value_drop, target_order_drop = dataset_utils.get_dataset(\n",
    "\tconfig    = CONFIG,\n",
    "\tsequence  = sequence_drop,\n",
    "\tfeature   = feature_base_drop,\n",
    "\tdirectory = RES_NBP05,\n",
    "\tcached    = None,\n",
    "\tstart     = SEQUENCE_START,\n",
    "\tend       = SEQUENCE_END,\n",
    "\tfilename  = 'mapping-grouped-drop.pkl'\n",
    ")\n",
    "\n",
    "print('Input Features : {}'.format(CONFIG['model/input/features']))\n",
    "print('Output Size    : {}'.format(CONFIG['model/output/size']))\n",
    "print('Output Heads   : {}'.format(CONFIG['model/output/heads']))\n",
    "print()\n",
    "\n",
    "CONFIG['model/fc3/features'] = CONFIG['model/output/size']\n",
    "CONFIG['model/fc3/heads']    = CONFIG['model/output/heads']"
   ]
  },
  {
   "cell_type": "code",
   "execution_count": null,
   "id": "11ba5816-307b-43ee-92ea-f51f3bc79931",
   "metadata": {},
   "outputs": [],
   "source": [
    "# Create dataloader\n",
    "\n",
    "dataloaders_keep = dataset_utils.to_dataloaders(\n",
    "\tdataset     = dataset_keep,\n",
    "\tgenerator   = CONFIG['dataset/split/generator'],\n",
    "\trandom_seed = CONFIG['core/random'],\n",
    "\tsplit_size  = {\n",
    "\t\t'valid' : CONFIG['dataset/split/valid'],\n",
    "\t\t'test'  : CONFIG['dataset/split/test']\n",
    "\t},\n",
    "\tbatch_size  = {\n",
    "\t\t'train' : CONFIG['dataset/batch/train'],\n",
    "\t\t'valid' : CONFIG['dataset/batch/valid'],\n",
    "\t\t'test'  : CONFIG['dataset/batch/test']\n",
    "\t}\n",
    ")\n",
    "\n",
    "train_dataloader_keep = dataloaders_keep[0]\n",
    "valid_dataloader_keep = dataloaders_keep[1]\n",
    "test_dataloader_keep  = dataloaders_keep[2]\n",
    "\n",
    "dataloaders_drop = dataset_utils.to_dataloaders(\n",
    "\tdataset     = dataset_drop,\n",
    "\tgenerator   = CONFIG['dataset/split/generator'],\n",
    "\trandom_seed = CONFIG['core/random'],\n",
    "\tsplit_size  = {\n",
    "\t\t'valid' : 0.0,\n",
    "\t\t'test'  : 0.0\n",
    "\t},\n",
    "\tbatch_size  = {\n",
    "\t\t'train' : CONFIG['dataset/batch/train'],\n",
    "\t\t'valid' : CONFIG['dataset/batch/valid'],\n",
    "\t\t'test'  : CONFIG['dataset/batch/test']\n",
    "\t}\n",
    ")\n",
    "\n",
    "test_dataloader_drop = dataloaders_drop[0]\n",
    "\n",
    "dataloaders_full = dataset_utils.to_dataloaders(\n",
    "\tdataset     = dataset_keep,\n",
    "\tgenerator   = CONFIG['dataset/split/generator'],\n",
    "\trandom_seed = CONFIG['core/random'],\n",
    "\tsplit_size  = {\n",
    "\t\t'valid' : 0.0,\n",
    "\t\t'test'  : 0.0\n",
    "\t},\n",
    "\tbatch_size  = {\n",
    "\t\t'train' : CONFIG['dataset/batch/train'],\n",
    "\t\t'valid' : CONFIG['dataset/batch/valid'],\n",
    "\t\t'test'  : CONFIG['dataset/batch/test']\n",
    "\t}\n",
    ")\n",
    "\n",
    "test_dataloader_full = dataloaders_full[0]"
   ]
  },
  {
   "cell_type": "code",
   "execution_count": null,
   "id": "f4d5eb7e-7801-486a-bae4-a10d1904d741",
   "metadata": {
    "tags": []
   },
   "outputs": [],
   "source": [
    "# Display train dataloader\n",
    "\n",
    "dataset_utils.show_dataloader(\n",
    "\tdataloader = train_dataloader_keep,\n",
    "\tverbose    = CONFIG['core/verbose']\n",
    ")"
   ]
  },
  {
   "cell_type": "code",
   "execution_count": null,
   "id": "9b6045b9-de73-486b-8c65-4854fc293c96",
   "metadata": {
    "tags": []
   },
   "outputs": [],
   "source": [
    "# Display valid dataloader\n",
    "\n",
    "dataset_utils.show_dataloader(\n",
    "\tdataloader = valid_dataloader_keep,\n",
    "\tverbose    = CONFIG['core/verbose']\n",
    ")"
   ]
  },
  {
   "cell_type": "code",
   "execution_count": null,
   "id": "c83d22d6-92a7-432b-ab5d-2c29a8e64c20",
   "metadata": {},
   "outputs": [],
   "source": [
    "# Display test dataloader\n",
    "\n",
    "dataset_utils.show_dataloader(\n",
    "\tdataloader = test_dataloader_keep,\n",
    "\tverbose    = CONFIG['core/verbose']\n",
    ")"
   ]
  },
  {
   "cell_type": "code",
   "execution_count": null,
   "id": "05e01423-37be-479f-95e2-5d50154e5bbb",
   "metadata": {},
   "outputs": [],
   "source": [
    "# Display test dataloader\n",
    "\n",
    "dataset_utils.show_dataloader(\n",
    "\tdataloader = test_dataloader_drop,\n",
    "\tverbose    = CONFIG['core/verbose']\n",
    ")"
   ]
  },
  {
   "cell_type": "code",
   "execution_count": null,
   "id": "beea799a-267b-43c2-b337-87b1ea0619fc",
   "metadata": {},
   "outputs": [],
   "source": [
    "# Display full dataloader\n",
    "\n",
    "dataset_utils.show_dataloader(\n",
    "\tdataloader = test_dataloader_full,\n",
    "\tverbose    = CONFIG['core/verbose']\n",
    ")"
   ]
  },
  {
   "cell_type": "markdown",
   "id": "1cb9492e-0526-489c-903c-88dfda4a4abc",
   "metadata": {},
   "source": [
    "## 3.2 Mutation"
   ]
  },
  {
   "cell_type": "code",
   "execution_count": null,
   "id": "792008c7-85dd-46a7-9bf9-03c9e4e381fc",
   "metadata": {},
   "outputs": [],
   "source": [
    "# Update mutation features\n",
    "\n",
    "if 'Feature' in dataframe_keep.columns :\n",
    "\tmutation_feature_base_new = dict()\n",
    "\n",
    "\tfor x in mutation_feature_base.keys() :\n",
    "\t\tdf = dataframe_keep.loc[dataframe_keep['Transcript'] == x.split('-')[0]]\n",
    "\n",
    "\t\tfor index, row in df.iterrows() :\n",
    "\t\t\tkey = index + '-' + x.split('-')[-1]\n",
    "\t\t\tval = numpy.concatenate((mutation_feature_base[x], row['Feature']))\n",
    "\n",
    "\t\t\tmutation_feature_base_new[key] = val\n",
    "\n",
    "\tmutation_feature_base = mutation_feature_base_new"
   ]
  },
  {
   "cell_type": "code",
   "execution_count": null,
   "id": "d93e7dc2-27ca-4c60-ac52-9f0eb371a66b",
   "metadata": {
    "tags": []
   },
   "outputs": [],
   "source": [
    "# Create mutation dataloader\n",
    "\n",
    "mutation_dataloader = cnn_mutation.create_dataloader(\n",
    "\tsequences   = mutation_sequence,\n",
    "\tfeatures    = mutation_feature_base,\n",
    "\ttargets     = target_value_keep,\n",
    "\texpand_dims = CONFIG['dataset/expanddim'],\n",
    "\tstart       = SEQUENCE_START,\n",
    "\tend         = SEQUENCE_END\n",
    ")"
   ]
  },
  {
   "cell_type": "code",
   "execution_count": null,
   "id": "1296eeb4-412c-484a-858d-3b275d73614e",
   "metadata": {
    "tags": []
   },
   "outputs": [],
   "source": [
    "# Display mutation dataloader\n",
    "\n",
    "dataset_utils.show_dataloader(\n",
    "\tdataloader = mutation_dataloader,\n",
    "\tverbose    = CONFIG['core/verbose']\n",
    ")"
   ]
  },
  {
   "cell_type": "markdown",
   "id": "fa2f96e6-d23e-4bd1-b46f-230c2a0e4e17",
   "metadata": {},
   "source": [
    "# 4. Model"
   ]
  },
  {
   "cell_type": "markdown",
   "id": "541ff4ca-25b7-4a26-b3e6-6f1c11e4135d",
   "metadata": {},
   "source": [
    "## 4.1 Structure"
   ]
  },
  {
   "cell_type": "code",
   "execution_count": null,
   "id": "ba77f51f-e132-46df-81d7-7c9eb4a413f1",
   "metadata": {
    "tags": []
   },
   "outputs": [],
   "source": [
    "# Create and display the model structure\n",
    "\n",
    "if CONFIG['model/arch'] == 'zrimec' :\n",
    "\tif CONFIG['model/mode'] == 'regression'     : model = Zrimec2020r(params = CONFIG)\n",
    "\tif CONFIG['model/mode'] == 'classification' : model = Zrimec2020c(params = CONFIG, binary = False)\n",
    "\n",
    "\tprint(model.summary(\n",
    "\t\tbatch_size  = CONFIG['dataset/batch/train'],\n",
    "\t\tin_height   = CONFIG['model/input/height'],\n",
    "\t\tin_width    = CONFIG['model/input/width'],\n",
    "\t\tin_features = CONFIG['model/input/features'],\n",
    "\t))\n",
    "\n",
    "if CONFIG['model/arch'] == 'washburn' :\n",
    "\tif CONFIG['model/mode'] == 'regression'     : model = Washburn2019r(params = CONFIG)\n",
    "\tif CONFIG['model/mode'] == 'classification' : model = Washburn2019c(params = CONFIG, binary = False)\n",
    "\n",
    "\tprint(model.summary(\n",
    "\t\tbatch_size  = CONFIG['dataset/batch/train'],\n",
    "\t\tin_channels = CONFIG['model/input/channels'],\n",
    "\t\tin_height   = CONFIG['model/input/height'],\n",
    "\t\tin_width    = CONFIG['model/input/width'],\n",
    "\t\tin_features = CONFIG['model/input/features'],\n",
    "\t))\n",
    "\n",
    "print()"
   ]
  },
  {
   "cell_type": "code",
   "execution_count": null,
   "id": "a065d26b-3895-405b-b5da-1c27a164fd74",
   "metadata": {
    "tags": []
   },
   "outputs": [],
   "source": [
    "# Convert the model to double and initialize weights and biases\n",
    "\n",
    "if CONFIG['pretrain/flag'] :\n",
    "\tmodel = cnn_model.load_from_pretrained(\n",
    "\t\tfilename = os.path.join(CONFIG['pretrain/path']),\n",
    "\t\tmodel    = model,\n",
    "\t\tstrict   = False\n",
    "\t)\n",
    "\n",
    "\tmodel = model.double()\n",
    "\n",
    "else :\n",
    "\tmodel = model.double()\n",
    "\tmodel = model.apply(cnn_model.he_uniform_weight)\n",
    "\tmodel = model.apply(cnn_model.zero_bias)"
   ]
  },
  {
   "cell_type": "markdown",
   "id": "6ecf8332-8af1-4de1-99c7-d240013f5b72",
   "metadata": {},
   "source": [
    "## 4.2 Metrics"
   ]
  },
  {
   "cell_type": "code",
   "execution_count": null,
   "id": "b2e97ddd-9648-4cb7-b071-3573bf3a892e",
   "metadata": {
    "tags": []
   },
   "outputs": [],
   "source": [
    "# Define metrics\n",
    "\n",
    "if CONFIG['model/mode'] == 'regression' :\n",
    "\tMETRICS = {\n",
    "\t\t'mse'   : cnn_model.get_criterion(reduction = 'none', weights = None, query = 'mse'),\n",
    "\t\t'mae'   : cnn_model.get_criterion(reduction = 'none', weights = None, query = 'mae'),\n",
    "\t\t'smae'  : cnn_model.get_criterion(reduction = 'none', weights = None, query = 'smae'),\n",
    "\t\t'mape'  : cnn_model.get_criterion(reduction = 'none', weights = None, query = 'mape',  output_size = CONFIG['model/output/size']),\n",
    "\t\t'wmape' : cnn_model.get_criterion(reduction = 'none', weights = None, query = 'wmape', output_size = CONFIG['model/output/size']),\n",
    "\t\t'r2'    : cnn_model.get_criterion(reduction = 'none', weights = None, query = 'r2',    output_size = CONFIG['model/output/size']),\n",
    "\t}\n",
    "\n",
    "if CONFIG['model/mode'] == 'classification' :\n",
    "\tMETRICS = {\n",
    "\t\t'entropy'   : cnn_model.get_criterion(reduction = 'none', weights = None, query = 'entropy'),\n",
    "\t\t'accuracy'  : cnn_model.get_criterion(reduction = 'none', weights = None, query = 'accuracy',  task = 'multiclass', n_classes = CONFIG['model/output/size']),\n",
    "\t\t'auroc'     : cnn_model.get_criterion(reduction = 'none', weights = None, query = 'auroc',     task = 'multiclass', n_classes = CONFIG['model/output/size']),\n",
    "\t\t'confusion' : cnn_model.get_criterion(reduction = 'none', weights = None, query = 'confusion', task = 'multiclass', n_classes = CONFIG['model/output/size']),\n",
    "\t\t'f1'        : cnn_model.get_criterion(reduction = 'none', weights = None, query = 'f1',        task = 'multiclass', n_classes = CONFIG['model/output/size']),\n",
    "\t\t'jaccardi'  : cnn_model.get_criterion(reduction = 'none', weights = None, query = 'jaccardi',  task = 'multiclass', n_classes = CONFIG['model/output/size']),\n",
    "\t\t'matthews'  : cnn_model.get_criterion(reduction = 'none', weights = None, query = 'matthews',  task = 'multiclass', n_classes = CONFIG['model/output/size'])\n",
    "\t}\n",
    "\n",
    "METRICS = {\n",
    "\tk : v.to(DEVICE)\n",
    "\tfor k, v in METRICS.items()\n",
    "}"
   ]
  },
  {
   "cell_type": "markdown",
   "id": "f470a395-d648-4362-8652-0ff72c999fe5",
   "metadata": {
    "execution": {
     "iopub.status.busy": "2023-04-07T18:56:21.528754Z",
     "iopub.status.idle": "2023-04-07T18:56:21.529755Z",
     "shell.execute_reply": "2023-04-07T18:56:21.529255Z",
     "shell.execute_reply.started": "2023-04-07T18:56:21.529255Z"
    }
   },
   "source": [
    "## 4.3 Parameters"
   ]
  },
  {
   "cell_type": "code",
   "execution_count": null,
   "id": "451ebee0-d9d2-4742-a169-a0312ee4b4df",
   "metadata": {
    "tags": []
   },
   "outputs": [],
   "source": [
    "# Set the model parameters\n",
    "\n",
    "model_trainers = cnn_model.get_model_trainers(\n",
    "\tmodel  = model,\n",
    "\tconfig = CONFIG | {\n",
    "\t\t'criterion/threshold' : 0.20\n",
    "\t},\n",
    "\tepochs = CONFIG['model/epochs']\n",
    ")\n",
    "\n",
    "model_params = {\n",
    "\t'model'     : model,\n",
    "\t'savebest'  : os.path.join(OUT_MODEL, f'{model.__name__}-best.pth'),\n",
    "\t'savelast'  : os.path.join(OUT_MODEL, f'{model.__name__}-last.pth'),\n",
    "\t'savetime'  : os.path.join(OUT_MODEL, f'{model.__name__}-time.pth'),\n",
    "\t'epochs'    : CONFIG['model/epochs'],\n",
    "\t'criterion' : model_trainers['criterion'],\n",
    "\t'optimizer' : model_trainers['optimizer'],\n",
    "\t'scheduler' : model_trainers['scheduler'],\n",
    "\t'device'    : DEVICE,\n",
    "\t'verbose'   : CONFIG['core/verbose'],\n",
    "\t'metrics'   : METRICS,\n",
    "\t'train_dataloader' : train_dataloader_keep,\n",
    "\t'valid_dataloader' : valid_dataloader_keep,\n",
    "\t'test_dataloader'  : test_dataloader_keep\n",
    "}"
   ]
  },
  {
   "cell_type": "markdown",
   "id": "20021c70-cb28-42a3-807d-b246033809b8",
   "metadata": {},
   "source": [
    "## 4.4 Train"
   ]
  },
  {
   "cell_type": "code",
   "execution_count": null,
   "id": "75817c49-0651-4aba-b812-e3476c18c590",
   "metadata": {
    "tags": []
   },
   "outputs": [],
   "source": [
    "# Train and validate the model\n",
    "\n",
    "if CONFIG['model/mode'] == 'regression' :\n",
    "\treport = cnn_model.train_regressor(\n",
    "\t\tmodel  = model,\n",
    "\t\tparams = model_params\n",
    "\t)\n",
    "\n",
    "if CONFIG['model/mode'] == 'classification' :\n",
    "\treport = cnn_model.train_classifier(\n",
    "\t\tmodel  = model,\n",
    "\t\tparams = model_params\n",
    "\t)"
   ]
  },
  {
   "cell_type": "markdown",
   "id": "1d1eeae0-a0d3-408d-87f9-4c2c60710f05",
   "metadata": {},
   "source": [
    "## 4.5 Visualization"
   ]
  },
  {
   "cell_type": "code",
   "execution_count": null,
   "id": "98ad82f6-587e-4134-807b-8ccd5ccba64f",
   "metadata": {
    "tags": []
   },
   "outputs": [],
   "source": [
    "# Display the training and validation loss curves\n",
    "\n",
    "cnn_plot.show_loss(\n",
    "\treport      = report,\n",
    "\ttitle       = 'Loss Function',\n",
    "\tfilename    = os.path.join(OUT_PLOT, model.__name__),\n",
    "\tlimit_bot   = None,\n",
    "\tlimit_top   = None,\n",
    "\tstart_index = CONFIG['core/plots'],\n",
    "\talpha       = CONFIG['core/alpha'],\n",
    "\tlinewidth   = CONFIG['core/linewidth'],\n",
    ")"
   ]
  },
  {
   "cell_type": "code",
   "execution_count": null,
   "id": "00d16ab2-3b8d-4002-8cd7-cdd37798af08",
   "metadata": {
    "tags": []
   },
   "outputs": [],
   "source": [
    "# Display the training and validation learning rate curves\n",
    "\n",
    "cnn_plot.show_lr(\n",
    "\treport      = report,\n",
    "\ttitle       = 'Learning Rate',\n",
    "\tfilename    = os.path.join(OUT_PLOT, model.__name__),\n",
    "\tlimit_bot   = None,\n",
    "\tlimit_top   = None,\n",
    "\tstart_index = None,\n",
    "\talpha       = CONFIG['core/alpha'],\n",
    "\tlinewidth   = CONFIG['core/linewidth'],\n",
    ")"
   ]
  },
  {
   "cell_type": "code",
   "execution_count": null,
   "id": "f15fb5c8-1543-4e46-8481-d345c1f720db",
   "metadata": {
    "tags": []
   },
   "outputs": [],
   "source": [
    "# Display the training and validation accuracy or r2 curves\n",
    "\n",
    "if CONFIG['model/mode'] == 'regression' :\n",
    "\tcnn_plot.show_r2(\n",
    "\t\treport      = report,\n",
    "\t\ttitle       = 'R2 Score',\n",
    "\t\tfilename    = os.path.join(OUT_PLOT, model.__name__),\n",
    "\t\tlimit_bot   = None,\n",
    "\t\tlimit_top   = None,\n",
    "\t\tstart_index = CONFIG['core/plots'],\n",
    "\t\talpha       = CONFIG['core/alpha'],\n",
    "\t\tlinewidth   = CONFIG['core/linewidth'],\n",
    "\t)\n",
    "\n",
    "if CONFIG['model/mode'] == 'classification' :\n",
    "\tcnn_plot.show_accuracy(\n",
    "\t\treport      = report,\n",
    "\t\ttitle       = 'Accuracy',\n",
    "\t\tfilename    = os.path.join(OUT_PLOT, model.__name__),\n",
    "\t\tlimit_bot   = None,\n",
    "\t\tlimit_top   = None,\n",
    "\t\tstart_index = CONFIG['core/plots'],\n",
    "\t\talpha       = CONFIG['core/alpha'],\n",
    "\t\tlinewidth   = CONFIG['core/linewidth'],\n",
    "\t)"
   ]
  },
  {
   "cell_type": "code",
   "execution_count": null,
   "id": "dec09f7c-eb80-48fc-9d8f-7db72c4dbf74",
   "metadata": {
    "tags": []
   },
   "outputs": [],
   "source": [
    "# Display the training metrics per batch\n",
    "\n",
    "cnn_plot.show_metric_grid(\n",
    "\treport       = report,\n",
    "\tmode         = 'train',\n",
    "\tfilename     = os.path.join(OUT_PLOT, model.__name__ + '-train'),\n",
    "\tapply_limits = False,\n",
    "\tstart_index  = CONFIG['core/plots'],\n",
    "\talpha        = CONFIG['core/alpha'],\n",
    "\tlinewidth    = CONFIG['core/linewidth']\n",
    ")"
   ]
  },
  {
   "cell_type": "code",
   "execution_count": null,
   "id": "7c4dc3e8-8dcf-49a8-a86f-806347093d66",
   "metadata": {
    "tags": []
   },
   "outputs": [],
   "source": [
    "# Display the validation metrics per batch\n",
    "\n",
    "cnn_plot.show_metric_grid(\n",
    "\treport       = report,\n",
    "\tmode         = 'valid',\n",
    "\tfilename     = os.path.join(OUT_PLOT, model.__name__ + '-valid'),\n",
    "\tapply_limits = False,\n",
    "\tstart_index  = CONFIG['core/plots'],\n",
    "\talpha        = CONFIG['core/alpha'],\n",
    "\tlinewidth    = CONFIG['core/linewidth']\n",
    ")"
   ]
  },
  {
   "cell_type": "markdown",
   "id": "bb2ee472-f155-4244-8116-a15f8bcd3e3e",
   "metadata": {},
   "source": [
    "# 5. Evaluation"
   ]
  },
  {
   "cell_type": "markdown",
   "id": "92b2f3a4-87bf-4f37-b559-e921000a2e12",
   "metadata": {},
   "source": [
    "## 5.1 Last Model"
   ]
  },
  {
   "cell_type": "markdown",
   "id": "b506900d-502f-4e4c-9998-f3da5d9eec05",
   "metadata": {},
   "source": [
    "### 5.1.1 Evaluation"
   ]
  },
  {
   "cell_type": "code",
   "execution_count": null,
   "id": "dc2e9777-e5fa-4aed-8b8a-6091762fe850",
   "metadata": {
    "tags": []
   },
   "outputs": [],
   "source": [
    "# Load last model\n",
    "\n",
    "checkpoint = loader.load_torch(\n",
    "\tfilename = os.path.join(OUT_MODEL, model.__name__ + '-last.pth')\n",
    ")\n",
    "\n",
    "final_report['evaluation/last/epoch'] = checkpoint['epoch']\n",
    "final_report['evaluation/last/loss']  = checkpoint['loss']\n",
    "\n",
    "print('Epoch : ' + '{}'.format(final_report['evaluation/last/epoch']))\n",
    "print(' Loss : ' + '{:.5f}'.format(final_report['evaluation/last/loss']))\n",
    "print()\n",
    "\n",
    "model.load_state_dict(checkpoint['models'])"
   ]
  },
  {
   "cell_type": "code",
   "execution_count": null,
   "id": "2dc36ae1-e2f0-4f34-ac70-23d78e4ba16f",
   "metadata": {
    "tags": []
   },
   "outputs": [],
   "source": [
    "# Evaluate the full model on keep test\n",
    "\n",
    "if CONFIG['model/mode'] == 'regression' :\n",
    "\treport_keep, final_report = cnn_model.eval_regressor_with_report(\n",
    "\t\tmodel  = model,\n",
    "\t\tparams = model_params,\n",
    "\t\treport = final_report,\n",
    "\t\tmode   = 'evaluation/last/test'\n",
    "\t)\n",
    "\n",
    "if CONFIG['model/mode'] == 'classification' :\n",
    "\treport_keep, final_report = cnn_model.eval_classifier_with_report(\n",
    "\t\tmodel  = model,\n",
    "\t\tparams = model_params,\n",
    "\t\treport = final_report,\n",
    "\t\tmode   = 'evaluation/last/test'\n",
    "\t)"
   ]
  },
  {
   "cell_type": "code",
   "execution_count": null,
   "id": "78ed62a4-3fac-4f77-ac3a-695ac5fd7094",
   "metadata": {},
   "outputs": [],
   "source": [
    "# Evaluate the full model on drop test\n",
    "\n",
    "if CONFIG['model/mode'] == 'regression' :\n",
    "\treport_drop, final_report = cnn_model.eval_regressor_with_report(\n",
    "\t\tmodel  = model,\n",
    "\t\tparams = model_params | {\n",
    "\t\t\t'test_dataloader' : test_dataloader_drop\n",
    "\t\t},\n",
    "\t\treport = final_report,\n",
    "\t\tmode   = 'evaluation/last/drop'\n",
    "\t)\n",
    "\n",
    "if CONFIG['model/mode'] == 'classification' :\n",
    "\treport_drop, final_report = cnn_model.eval_classifier_with_report(\n",
    "\t\tmodel  = model,\n",
    "\t\tparams = model_params | {\n",
    "\t\t\t'test_dataloader' : test_dataloader_drop\n",
    "\t\t},\n",
    "\t\treport = final_report,\n",
    "\t\tmode   = 'evaluation/last/drop'\n",
    "\t)"
   ]
  },
  {
   "cell_type": "code",
   "execution_count": null,
   "id": "866e0b5a-e6c9-490a-bc4e-2f8b99f3ced9",
   "metadata": {},
   "outputs": [],
   "source": [
    "# Evaluate the full model on full test\n",
    "\n",
    "if CONFIG['model/mode'] == 'regression' :\n",
    "\treport_full, final_report = cnn_model.eval_regressor_with_report(\n",
    "\t\tmodel  = model,\n",
    "\t\tparams = model_params | {\n",
    "\t\t\t'test_dataloader' : test_dataloader_full\n",
    "\t\t},\n",
    "\t\treport = final_report,\n",
    "\t\tmode   = 'evaluation/last/full'\n",
    "\t)\n",
    "\n",
    "if CONFIG['model/mode'] == 'classification' :\n",
    "\treport_full, final_report = cnn_model.eval_classifier_with_report(\n",
    "\t\tmodel  = model,\n",
    "\t\tparams = model_params | {\n",
    "\t\t\t'test_dataloader' : test_dataloader_full\n",
    "\t\t},\n",
    "\t\treport = final_report,\n",
    "\t\tmode   = 'evaluation/last/full'\n",
    "\t)"
   ]
  },
  {
   "cell_type": "markdown",
   "id": "560f4132-f0af-449c-818d-77f261790184",
   "metadata": {},
   "source": [
    "## 5.2 Best Model"
   ]
  },
  {
   "cell_type": "markdown",
   "id": "4d70ef47-08d9-498f-8b9d-4e1b87b9f78e",
   "metadata": {},
   "source": [
    "### 5.2.1 Evaluation"
   ]
  },
  {
   "cell_type": "code",
   "execution_count": null,
   "id": "50d18b6f-78ca-4f22-a755-f8a971a9b01c",
   "metadata": {
    "tags": []
   },
   "outputs": [],
   "source": [
    "# Load best model\n",
    "\n",
    "checkpoint = loader.load_torch(\n",
    "\tfilename = os.path.join(OUT_MODEL, model.__name__ + '-best.pth')\n",
    ")\n",
    "\n",
    "final_report['evaluation/best/epoch'] = checkpoint['epoch']\n",
    "final_report['evaluation/best/loss']  = checkpoint['loss']\n",
    "\n",
    "print('Epoch : ' + '{}'.format(final_report['evaluation/best/epoch']))\n",
    "print(' Loss : ' + '{:.5f}'.format(final_report['evaluation/best/loss']))\n",
    "print()\n",
    "\n",
    "model.load_state_dict(checkpoint['models'])"
   ]
  },
  {
   "cell_type": "code",
   "execution_count": null,
   "id": "41f98979-37fe-4f50-9991-c9430f1fb2b3",
   "metadata": {
    "tags": []
   },
   "outputs": [],
   "source": [
    "# Evaluate the full model on keep test\n",
    "\n",
    "if CONFIG['model/mode'] == 'regression' :\n",
    "\treport_keep, final_report = cnn_model.eval_regressor_with_report(\n",
    "\t\tmodel  = model,\n",
    "\t\tparams = model_params,\n",
    "\t\treport = final_report,\n",
    "\t\tmode   = 'evaluation/best/test'\n",
    "\t)\n",
    "\n",
    "if CONFIG['model/mode'] == 'classification' :\n",
    "\treport_keep, final_report = cnn_model.eval_classifier_with_report(\n",
    "\t\tmodel  = model,\n",
    "\t\tparams = model_params,\n",
    "\t\treport = final_report,\n",
    "\t\tmode   = 'evaluation/best/test'\n",
    "\t)"
   ]
  },
  {
   "cell_type": "code",
   "execution_count": null,
   "id": "bf9dbd72-b698-45a0-9ca3-5d07dd0857a1",
   "metadata": {},
   "outputs": [],
   "source": [
    "# Evaluate the full model on drop test\n",
    "\n",
    "if CONFIG['model/mode'] == 'regression' :\n",
    "\treport_drop, final_report = cnn_model.eval_regressor_with_report(\n",
    "\t\tmodel  = model,\n",
    "\t\tparams = model_params | {\n",
    "\t\t\t'test_dataloader' : test_dataloader_drop\n",
    "\t\t},\n",
    "\t\treport = final_report,\n",
    "\t\tmode   = 'evaluation/best/drop'\n",
    "\t)\n",
    "\n",
    "if CONFIG['model/mode'] == 'classification' :\n",
    "\treport_drop, final_report = cnn_model.eval_classifier_with_report(\n",
    "\t\tmodel  = model,\n",
    "\t\tparams = model_params | {\n",
    "\t\t\t'test_dataloader' : test_dataloader_drop\n",
    "\t\t},\n",
    "\t\treport = final_report,\n",
    "\t\tmode   = 'evaluation/best/drop'\n",
    "\t)"
   ]
  },
  {
   "cell_type": "code",
   "execution_count": null,
   "id": "63b6e3e1-828d-4cae-ac2a-7fde3201304c",
   "metadata": {},
   "outputs": [],
   "source": [
    "# Evaluate the full model on drop test\n",
    "\n",
    "if CONFIG['model/mode'] == 'regression' :\n",
    "\treport_full, final_report = cnn_model.eval_regressor_with_report(\n",
    "\t\tmodel  = model,\n",
    "\t\tparams = model_params | {\n",
    "\t\t\t'test_dataloader' : test_dataloader_full\n",
    "\t\t},\n",
    "\t\treport = final_report,\n",
    "\t\tmode   = 'evaluation/best/full'\n",
    "\t)\n",
    "\n",
    "if CONFIG['model/mode'] == 'classification' :\n",
    "\treport_full, final_report = cnn_model.eval_classifier_with_report(\n",
    "\t\tmodel  = model,\n",
    "\t\tparams = model_params | {\n",
    "\t\t\t'test_dataloader' : test_dataloader_full\n",
    "\t\t},\n",
    "\t\treport = final_report,\n",
    "\t\tmode   = 'evaluation/best/full'\n",
    "\t)"
   ]
  },
  {
   "cell_type": "markdown",
   "id": "a160c2f5-cfad-4e16-a1c8-6a2918f407d4",
   "metadata": {},
   "source": [
    "### 5.2.2 Custom"
   ]
  },
  {
   "cell_type": "code",
   "execution_count": null,
   "id": "bbdc48ae-9243-4754-adfc-08d80f225d68",
   "metadata": {
    "tags": []
   },
   "outputs": [],
   "source": [
    "# Display the first few evaluation item predictions and expectations\n",
    "\n",
    "if CONFIG['model/mode'] == 'regression' :\n",
    "\tcnn_utils.display_regression_predictions(\n",
    "\t\treport = report_keep,\n",
    "\t\tn      = 2\n",
    "\t)\n",
    "\n",
    "if CONFIG['model/mode'] == 'classification' :\n",
    "\tcnn_utils.display_classification_predictions(\n",
    "\t\treport = report_keep,\n",
    "\t\tn      = 2\n",
    "\t)"
   ]
  },
  {
   "cell_type": "code",
   "execution_count": null,
   "id": "3df13c10-f39a-4cb1-b78b-e0dc2aa04881",
   "metadata": {},
   "outputs": [],
   "source": [
    "# Display the first few evaluation item predictions and expectations\n",
    "\n",
    "if CONFIG['model/mode'] == 'regression' :\n",
    "\tcnn_utils.display_regression_predictions(\n",
    "\t\treport = report_full,\n",
    "\t\tn      = 2\n",
    "\t)\n",
    "\n",
    "if CONFIG['model/mode'] == 'classification' :\n",
    "\tcnn_utils.display_classification_predictions(\n",
    "\t\treport = report_full,\n",
    "\t\tn      = 2\n",
    "\t)"
   ]
  },
  {
   "cell_type": "markdown",
   "id": "b213a3c7-a0c6-4304-b709-4c0951d8aab7",
   "metadata": {},
   "source": [
    "### 5.2.3 Visualization"
   ]
  },
  {
   "cell_type": "code",
   "execution_count": null,
   "id": "9bd3dcfa-b0e0-471d-bcf4-ad11321049f7",
   "metadata": {
    "tags": []
   },
   "outputs": [],
   "source": [
    "# Display prediction error per group\n",
    "\n",
    "if CONFIG['model/mode'] == 'regression' :\n",
    "\tcnn_plot.show_prediction_error_grid(\n",
    "\t\treport   = report_keep,\n",
    "\t\torder    = target_order_keep,\n",
    "\t\tfilename = os.path.join(OUT_PLOT, model.__name__ + '-keep-best'),\n",
    "\t\talpha    = CONFIG['core/alpha'],\n",
    "\t\tbins     = CONFIG['core/bins']\n",
    "\t)"
   ]
  },
  {
   "cell_type": "code",
   "execution_count": null,
   "id": "e55c000a-2f19-41ef-9dd9-5b40bd662788",
   "metadata": {
    "tags": []
   },
   "outputs": [],
   "source": [
    "# Display prediction error per group\n",
    "\n",
    "if CONFIG['model/mode'] == 'regression' :\n",
    "\tcnn_plot.show_prediction_error_grid(\n",
    "\t\treport   = report_full,\n",
    "\t\torder    = target_order_keep,\n",
    "\t\tfilename = os.path.join(OUT_PLOT, model.__name__ + '-full-best'),\n",
    "\t\talpha    = CONFIG['core/alpha'],\n",
    "\t\tbins     = CONFIG['core/bins']\n",
    "\t)"
   ]
  },
  {
   "cell_type": "code",
   "execution_count": null,
   "id": "01f09342-5c10-4d62-ab3a-1922ca38e0fd",
   "metadata": {
    "tags": []
   },
   "outputs": [],
   "source": [
    "# Display prediction linear regression per group\n",
    "\n",
    "if CONFIG['model/mode'] == 'regression' :\n",
    "\tcnn_plot.show_linear_regression_grid(\n",
    "\t\treport    = report_keep,\n",
    "\t\torder     = target_order_keep,\n",
    "\t\tfilename  = os.path.join(OUT_PLOT, model.__name__ + '-keep-best'),\n",
    "\t\talpha     = CONFIG['core/alpha'],\n",
    "\t\tlinewidth = CONFIG['core/linewidth']\n",
    "\t)"
   ]
  },
  {
   "cell_type": "code",
   "execution_count": null,
   "id": "367c2a59-9b01-4306-9b07-c0e7205b6906",
   "metadata": {
    "tags": []
   },
   "outputs": [],
   "source": [
    "# Display prediction linear regression per group\n",
    "\n",
    "if CONFIG['model/mode'] == 'regression' :\n",
    "\tcnn_plot.show_linear_regression_grid(\n",
    "\t\treport    = report_full,\n",
    "\t\torder     = target_order_keep,\n",
    "\t\tfilename  = os.path.join(OUT_PLOT, model.__name__ + '-full-best'),\n",
    "\t\talpha     = CONFIG['core/alpha'],\n",
    "\t\tlinewidth = CONFIG['core/linewidth']\n",
    "\t)"
   ]
  },
  {
   "cell_type": "markdown",
   "id": "a06d6510-3b25-4bd5-9f31-a5dd06d84917",
   "metadata": {},
   "source": [
    "# 6 Mutation"
   ]
  },
  {
   "cell_type": "markdown",
   "id": "0887d716-c9df-4cfb-ae47-387c1a01be90",
   "metadata": {},
   "source": [
    "## 6.1 Evaluation"
   ]
  },
  {
   "cell_type": "code",
   "execution_count": null,
   "id": "1a10b614-a8b4-4f68-81a9-3b6847641cf1",
   "metadata": {
    "tags": []
   },
   "outputs": [],
   "source": [
    "# Evaluate the mutations\n",
    "\n",
    "if CONFIG['model/mode'] == 'regression' :\n",
    "\treport_muta, final_report = cnn_model.eval_regressor_with_report(\n",
    "\t\tmodel  = model,\n",
    "\t\tparams = model_params | {\n",
    "\t\t\t'test_dataloader' : mutation_dataloader,\n",
    "\t\t\t'metrics' : {\n",
    "\t\t\t\t'mse'   : cnn_model.get_criterion(reduction = 'none', weights = None, query = 'mse').to(DEVICE),\n",
    "\t\t\t\t'mae'   : cnn_model.get_criterion(reduction = 'none', weights = None, query = 'mae').to(DEVICE)\n",
    "\t\t\t}\n",
    "\t\t},\n",
    "\t\treport = final_report,\n",
    "\t\tmode   = 'mutation/best/'\n",
    "\t)\n",
    "\n",
    "if CONFIG['model/mode'] == 'classification' :\n",
    "\treport_muta, final_report = cnn_model.eval_classifier_with_report(\n",
    "\t\tmodel  = model,\n",
    "\t\tparams = model_params | {\n",
    "\t\t\t'test_dataloader' : mutation_dataloader,\n",
    "\t\t\t'metrics' : {\n",
    "\t\t\t\t'entropy'  : cnn_model.get_criterion(reduction = 'none', weights = None, query = 'entropy' ).to(DEVICE),\n",
    "\t\t\t\t'accuracy' : cnn_model.get_criterion(reduction = 'none', weights = None, query = 'accuracy', n_classes = CONFIG['model/output/size']).to(DEVICE)\n",
    "\t\t\t}\n",
    "\t\t},\n",
    "\t\treport = final_report,\n",
    "\t\tmode   = 'mutation/best/'\n",
    "\t)"
   ]
  },
  {
   "cell_type": "code",
   "execution_count": null,
   "id": "c3ce1920-464e-4a37-950c-6227c97d830f",
   "metadata": {
    "tags": []
   },
   "outputs": [],
   "source": [
    "# Transform model report to mutation report\n",
    "\n",
    "mutation_report = cnn_mutation.get_mutation_report(report = report_muta)\n",
    "\n",
    "transcript = list(mutation_report.keys())[0]\n",
    "mutation   = list(mutation_report[transcript].keys())[0]\n",
    "\n",
    "print('Transcripts : {}'.format(len(mutation_report)))\n",
    "print('Mutations   : {}'.format(len(mutation_report[transcript])))\n",
    "print('Variants    : {}'.format(len(mutation_report[transcript][mutation]['label'])))\n",
    "print()"
   ]
  },
  {
   "cell_type": "code",
   "execution_count": null,
   "id": "7a172177-6751-434e-aa9a-1d69766966dd",
   "metadata": {
    "tags": []
   },
   "outputs": [],
   "source": [
    "# Print mutations\n",
    "\n",
    "print(' ' + ' '.join('{:>20s}'.format(x) if i % 5 != 0 else '{:>20s}'.format(x) + '\\n' for i, x in enumerate(mutation_report.keys(), start = 1)))"
   ]
  },
  {
   "cell_type": "markdown",
   "id": "02449513-56a1-4d84-80bd-dabc70f71238",
   "metadata": {},
   "source": [
    "## 6.2 Visualization"
   ]
  },
  {
   "cell_type": "code",
   "execution_count": null,
   "id": "27b0b413-1c41-41c1-9ba3-52a8ed95fbaa",
   "metadata": {
    "tags": []
   },
   "outputs": [],
   "source": [
    "# Plot single transcript mutation variant predictions\n",
    "\n",
    "if CONFIG['model/mode'] == 'regression' :\n",
    "\tcnn_mutation.plot_mutation_regression(\n",
    "\t\treport     = mutation_report,\n",
    "\t\ttranscript = None,\n",
    "\t\tmutation   = 'M01',\n",
    "\t\torder      = target_order_keep,\n",
    "\t\tfilename   = os.path.join(OUT_PLOT, model.__name__ + '-mutation-m01')\n",
    "\t)\n",
    "\n",
    "if CONFIG['model/mode'] == 'classification' :\n",
    "\tcnn_mutation.plot_mutation_classification(\n",
    "\t\treport     = mutation_report,\n",
    "\t\ttranscript = None,\n",
    "\t\tmutation   = 'M01',\n",
    "\t\torder      = target_order_keep,\n",
    "\t\tfilename   = os.path.join(OUT_PLOT, model.__name__ + '-mutation-m01')\n",
    "\t)"
   ]
  },
  {
   "cell_type": "code",
   "execution_count": null,
   "id": "609c736e-c934-488c-9f3a-1c99e329a2b2",
   "metadata": {
    "tags": []
   },
   "outputs": [],
   "source": [
    "# Plot single transcript mutation variant predictions\n",
    "\n",
    "if CONFIG['model/mode'] == 'regression' :\n",
    "\tcnn_mutation.plot_mutation_regression(\n",
    "\t\treport     = mutation_report,\n",
    "\t\ttranscript = None,\n",
    "\t\tmutation   = 'M05',\n",
    "\t\torder      = target_order_keep,\n",
    "\t\tfilename   = os.path.join(OUT_PLOT, model.__name__ + '-mutation-m05')\n",
    "\t)\n",
    "\n",
    "if CONFIG['model/mode'] == 'classification' :\n",
    "\tcnn_mutation.plot_mutation_classification(\n",
    "\t\treport     = mutation_report,\n",
    "\t\ttranscript = None,\n",
    "\t\tmutation   = 'M05',\n",
    "\t\torder      = target_order_keep,\n",
    "\t\tfilename   = os.path.join(OUT_PLOT, model.__name__ + '-mutation-m05')\n",
    "\t)"
   ]
  },
  {
   "cell_type": "code",
   "execution_count": null,
   "id": "e10eb13f-2cbd-4248-9b32-ff3cba6f6e97",
   "metadata": {
    "tags": []
   },
   "outputs": [],
   "source": [
    "# Plot single transcript mutation variant predictions\n",
    "\n",
    "if CONFIG['model/mode'] == 'regression' :\n",
    "\tcnn_mutation.plot_mutation_regression(\n",
    "\t\treport     = mutation_report,\n",
    "\t\ttranscript = None,\n",
    "\t\tmutation   = 'M10',\n",
    "\t\torder      = target_order_keep,\n",
    "\t\tfilename   = os.path.join(OUT_PLOT, model.__name__ + '-mutation-m10')\n",
    "\t)\n",
    "\n",
    "if CONFIG['model/mode'] == 'classification' :\n",
    "\tcnn_mutation.plot_mutation_classification(\n",
    "\t\treport     = mutation_report,\n",
    "\t\ttranscript = None,\n",
    "\t\tmutation   = 'M10',\n",
    "\t\torder      = target_order_keep,\n",
    "\t\tfilename   = os.path.join(OUT_PLOT, model.__name__ + '-mutation-m05')\n",
    "\t)"
   ]
  },
  {
   "cell_type": "markdown",
   "id": "5263b84b-0a0f-422b-bf2f-adb10a5193b1",
   "metadata": {},
   "source": [
    "# 7. Save"
   ]
  },
  {
   "cell_type": "code",
   "execution_count": null,
   "id": "02253ca7-813b-4d37-96d4-22bf628355bd",
   "metadata": {
    "tags": []
   },
   "outputs": [],
   "source": [
    "# Convert reports from numpy array to lists\n",
    "\n",
    "def ensure_json_validity (item) :\n",
    "\tif   isinstance(item, dict)          : pass\n",
    "\telif isinstance(item, list)          : return item\n",
    "\telif isinstance(item, numpy.ndarray) : return item.tolist()\n",
    "\telif isinstance(item, float)         : return item\n",
    "\telif isinstance(item, int)           : return item\n",
    "\telif isinstance(item, str)           : return item\n",
    "\telse                                 : return None\n",
    "\n",
    "\tdata = dict()\n",
    "\n",
    "\tfor key in item.keys() :\n",
    "\t\tdata[key] = ensure_json_validity(item[key])\n",
    "\n",
    "\treturn data\n",
    "\n",
    "report_keep = ensure_json_validity(report_keep)\n",
    "report_drop = ensure_json_validity(report_drop)\n",
    "report_full = ensure_json_validity(report_full)\n",
    "report_muta = ensure_json_validity(report_muta)"
   ]
  },
  {
   "cell_type": "code",
   "execution_count": null,
   "id": "86967e32-43de-4762-943f-64957b217e83",
   "metadata": {
    "tags": []
   },
   "outputs": [],
   "source": [
    "# Save results\n",
    "\n",
    "for key, value in final_report.items() :\n",
    "\tif isinstance(value, numpy.float32) :\n",
    "\t\tfinal_report[key] = float(value)\n",
    "\n",
    "writer.write_json(\n",
    "\tdata     = final_report,\n",
    "\tfilename = os.path.join(OUT_DATA, 'report.json')\n",
    ")\n",
    "\n",
    "writer.write_json(\n",
    "\tdata     = report_keep,\n",
    "\tfilename = os.path.join(OUT_DATA, 'report_keep.json')\n",
    ")\n",
    "\n",
    "writer.write_json(\n",
    "\tdata     = report_drop,\n",
    "\tfilename = os.path.join(OUT_DATA, 'report_drop.json')\n",
    ")\n",
    "\n",
    "writer.write_json(\n",
    "\tdata     = report_full,\n",
    "\tfilename = os.path.join(OUT_DATA, 'report_full.json')\n",
    ")\n",
    "\n",
    "writer.write_json(\n",
    "\tdata     = report_muta,\n",
    "\tfilename = os.path.join(OUT_DATA, 'report_muta.json')\n",
    ")\n",
    "\n",
    "writer.write_json(\n",
    "\tdata     = {k : v for k, v in CONFIG.items() if k != 'core/device'},\n",
    "\tfilename = os.path.join(OUT_DATA, 'config.json')\n",
    ")"
   ]
  }
 ],
 "metadata": {
  "kernelspec": {
   "display_name": "Python 3 (ipykernel)",
   "language": "python",
   "name": "python3"
  },
  "language_info": {
   "codemirror_mode": {
    "name": "ipython",
    "version": 3
   },
   "file_extension": ".py",
   "mimetype": "text/x-python",
   "name": "python",
   "nbconvert_exporter": "python",
   "pygments_lexer": "ipython3",
   "version": "3.10.7"
  }
 },
 "nbformat": 4,
 "nbformat_minor": 5
}
