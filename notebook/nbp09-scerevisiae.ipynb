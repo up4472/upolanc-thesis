{
 "cells": [
  {
   "cell_type": "code",
   "execution_count": null,
   "id": "fb7b573c-38ca-49a7-b590-3733661216e5",
   "metadata": {
    "tags": []
   },
   "outputs": [],
   "source": [
    "# Libraries\n",
    "\n",
    "import argparse\n",
    "import numpy\n",
    "import os\n",
    "import platform\n",
    "import shutil\n",
    "import sys"
   ]
  },
  {
   "cell_type": "code",
   "execution_count": null,
   "id": "89614cb2-9262-4904-bc5e-1e9a2c024483",
   "metadata": {
    "tags": []
   },
   "outputs": [],
   "source": [
    "# Ensure source path\n",
    "\n",
    "ROOT = os.getcwd()\n",
    "\n",
    "while not ROOT.endswith('upolanc-thesis') :\n",
    "\tROOT = os.path.abspath(os.path.join(ROOT, os.pardir))\n",
    "\n",
    "\tif len(ROOT) < len('upolanc-thesis') :\n",
    "\t\tif   platform.system() == 'Linux'   : ROOT = '/d/hpc/projects/FRI/up4472/upolanc-thesis'\n",
    "\t\telif platform.system() == 'Windows' : ROOT = 'C:\\\\Developer\\\\Workspace\\\\PyCharm\\\\Projects\\\\upolanc-thesis'\n",
    "\t\telse : raise ValueError()\n",
    "\n",
    "\t\tprint(f'Warning : could not find correct directory, using default : {ROOT}')\n",
    "\t\tprint()\n",
    "\n",
    "\t\tbreak\n",
    "\n",
    "if ROOT not in sys.path :\n",
    "\tsys.path.append(ROOT)\n",
    "\n",
    "os.chdir(ROOT)"
   ]
  },
  {
   "cell_type": "code",
   "execution_count": null,
   "id": "316152ba-1e73-4cbc-8b0f-4b80626c7b1f",
   "metadata": {
    "tags": []
   },
   "outputs": [],
   "source": [
    "# Code\n",
    "\n",
    "from source.python.cnn.models              import Washburn2019c\n",
    "from source.python.cnn.models              import Washburn2019r\n",
    "from source.python.cnn.models              import Zrimec2020c\n",
    "from source.python.cnn.models              import Zrimec2020r\n",
    "from source.python.dataset.dataset_classes import GeneDataset\n",
    "\n",
    "from source.python                       import runtime\n",
    "from source.python.cnn                   import cnn_model\n",
    "from source.python.cnn                   import cnn_mutation\n",
    "from source.python.cnn                   import cnn_plot\n",
    "from source.python.cnn                   import cnn_utils\n",
    "from source.python.dataset               import dataset_split\n",
    "from source.python.dataset               import dataset_utils\n",
    "from source.python.dataset.dataset_utils import show_dataloader\n",
    "from source.python.dataset.dataset_utils import to_dataloader\n",
    "from source.python.dataset.dataset_utils import to_dataloaders\n",
    "from source.python.dataset.dataset_utils import to_gene_dataset\n",
    "from source.python.io                    import loader\n",
    "from source.python.io                    import writer\n",
    "\n",
    "runtime.set_numpy_format()\n",
    "runtime.set_pandas_format()\n",
    "runtime.set_plot_theme()"
   ]
  },
  {
   "cell_type": "code",
   "execution_count": null,
   "id": "8266df70-caba-4545-b9fb-ec50ed1e0a98",
   "metadata": {
    "tags": []
   },
   "outputs": [],
   "source": [
    "# System and device\n",
    "\n",
    "DEVICE = runtime.get_device(only_cpu = False)\n",
    "SYSTEM = runtime.get_system_info()\n",
    "\n",
    "for key, value in SYSTEM.items() :\n",
    "\tprint('{:25s} : {}'.format(key, value))\n",
    "\n",
    "print()"
   ]
  },
  {
   "cell_type": "markdown",
   "id": "132f7c96-7c83-4000-b3dc-89f31c19bcb0",
   "metadata": {},
   "source": [
    "# 1. Setup"
   ]
  },
  {
   "cell_type": "code",
   "execution_count": null,
   "id": "79864bd6-4ebc-4fb0-aa0c-e0e188aaf71f",
   "metadata": {
    "tags": []
   },
   "outputs": [],
   "source": [
    "# Define output and inputs\n",
    "\n",
    "VERBOSE        = False\n",
    "FEATURES       = True\n",
    "GENERATOR      = 'group'\n",
    "\n",
    "MODEL_MODE     = 'regression'\n",
    "MODEL_ARCH     = 'zrimec'\n",
    "MODEL_PARAMS   = 0\n",
    "MODEL_EPOCHS   = 50"
   ]
  },
  {
   "cell_type": "code",
   "execution_count": null,
   "id": "c290ad4b-392e-41fe-a307-e6f93eb3d1c5",
   "metadata": {},
   "outputs": [],
   "source": [
    "# Check for args\n",
    "\n",
    "if __name__ == '__main__' and 'get_ipython' in dir() :\n",
    "\tprint('Running as .ipynb')\n",
    "\tprint()\n",
    "\n",
    "if __name__ == '__main__' and 'get_ipython' not in dir() :\n",
    "\tprint('Running as .py')\n",
    "\tprint()\n",
    "\n",
    "\tparser = argparse.ArgumentParser()\n",
    "\n",
    "\tstr_of_bool = lambda x : True if x == 'true' else False\n",
    "\tstr_or_none = lambda x : None if x == 'none' else str(x)\n",
    "\tint_or_none = lambda x : None if x == 'none' else int(x)\n",
    "\n",
    "\tparser.add_argument('--model_epochs',   type = int,         default = 50)\n",
    "\tparser.add_argument('--model_params',   type = int_or_none, default = None)\n",
    "\tparser.add_argument('--model_arch',     type = str,         default = 'zrimec',     choices = ['zrimec', 'washburn'])\n",
    "\tparser.add_argument('--model_mode',     type = str,         default = 'regression', choices = ['regression', 'classification'])\n",
    "\tparser.add_argument('--generator',      type = str,         default = 'group',      choices = ['stratified', 'group', 'random'])\n",
    "\tparser.add_argument('--features',       type = str_of_bool, default = False)\n",
    "\n",
    "\targs = vars(parser.parse_args())\n",
    "\n",
    "\tMODEL_EPOCHS   = args['model_epochs']\n",
    "\tMODEL_PARAMS   = args['model_params']\n",
    "\tMODEL_MODE     = args['model_mode']\n",
    "\tMODEL_ARCH     = args['model_arch']\n",
    "\tGENERATOR      = args['generator']\n",
    "\tFEATURES       = args['features']"
   ]
  },
  {
   "cell_type": "code",
   "execution_count": null,
   "id": "63f11269-5273-46b7-8fcc-3238264e45ff",
   "metadata": {
    "tags": []
   },
   "outputs": [],
   "source": [
    "# Setup some directory paths.\n",
    "\n",
    "CWD = ROOT\n",
    "OUT = os.path.join(CWD, 'output')\n",
    "RES = os.path.join(CWD, 'resources')\n",
    "\n",
    "OUT_DATA  = os.path.join(OUT,      'nbp09-scerevisiae')\n",
    "OUT_MODEL = os.path.join(OUT_DATA, 'model')\n",
    "OUT_PLOT  = os.path.join(OUT_DATA, 'plot')\n",
    "\n",
    "shutil.rmtree(OUT_DATA, ignore_errors = True)\n",
    "\n",
    "os.makedirs(OUT_DATA,  exist_ok = True)\n",
    "os.makedirs(OUT_MODEL, exist_ok = True)\n",
    "os.makedirs(OUT_PLOT,  exist_ok = True)\n",
    "\n",
    "print(f'  Root Directory : {CWD}')\n",
    "print(f'Output Directory : {OUT_DATA}')\n",
    "print(f'Output Directory : {OUT_MODEL}')\n",
    "print(f'Output Directory : {OUT_PLOT}')\n",
    "print()"
   ]
  },
  {
   "cell_type": "code",
   "execution_count": null,
   "id": "e689bf5f-8a1d-4a57-8117-15e85087fc02",
   "metadata": {},
   "outputs": [],
   "source": [
    "# Load model config\n",
    "\n",
    "if MODEL_ARCH == 'washburn' : filename = os.path.join(RES, 'tuner', 'washburn.json')\n",
    "if MODEL_ARCH == 'zrimec'   : filename = os.path.join(RES, 'tuner', 'zrimec.json')\n",
    "\n",
    "model_config = loader.load_json(filename = filename)"
   ]
  },
  {
   "cell_type": "markdown",
   "id": "410b0a80-ec1a-479c-88e1-530a76a18e1e",
   "metadata": {},
   "source": [
    "# 2. Config"
   ]
  },
  {
   "cell_type": "code",
   "execution_count": null,
   "id": "63578100-c134-42b3-a746-e8fd28087cfe",
   "metadata": {
    "tags": []
   },
   "outputs": [],
   "source": [
    "# Create final report\n",
    "\n",
    "final_report = dict()"
   ]
  },
  {
   "cell_type": "code",
   "execution_count": null,
   "id": "f7d44104-7698-48ca-8b5a-287fc1606779",
   "metadata": {
    "tags": []
   },
   "outputs": [],
   "source": [
    "# Single global config\n",
    "\n",
    "CONFIG = {\n",
    "\t'core/device'             : DEVICE,\n",
    "\t'core/random'             : None,\n",
    "\t'core/rootdir'            : ROOT,\n",
    "\t'core/verbose'            : VERBOSE,\n",
    "\t'core/plots'              : 5,\n",
    "\t'dataset/expanddim'       : None,\n",
    "\t'dataset/sequence/start'  : None,\n",
    "\t'dataset/sequence/end'    : None,\n",
    "\t'dataset/split/generator' : GENERATOR,\n",
    "\t'dataset/split/test'      : 0.2,\n",
    "\t'dataset/split/valid'     : 0.2,\n",
    "\t'model/arch'              : MODEL_ARCH,\n",
    "\t'model/mode'              : MODEL_MODE,\n",
    "\t'model/epochs'            : MODEL_EPOCHS,\n",
    "\t'model/features'          : FEATURES,\n",
    "\t'model/input/channels'    : 1,\n",
    "\t'model/input/features'    : None,\n",
    "\t'model/input/height'      : 4,\n",
    "\t'model/input/width'       : 2150,\n",
    "\t'model/output/heads'      : None,\n",
    "\t'model/output/size'       : None,\n",
    "\t'model/params/id'         : MODEL_PARAMS\n",
    "}\n",
    "\n",
    "CONFIG['core/random'] = runtime.lock_random(\n",
    "\tseed     = CONFIG['core/random'],\n",
    "\tgenerate = True\n",
    ")"
   ]
  },
  {
   "cell_type": "code",
   "execution_count": null,
   "id": "e650db5d-0893-4401-a840-3381fe18b83c",
   "metadata": {},
   "outputs": [],
   "source": [
    "# Configure criterion\n",
    "\n",
    "if CONFIG['model/mode'] == 'regression'     : CONFIG['criterion/name'] = 'corrected-mse'\n",
    "if CONFIG['model/mode'] == 'classification' : CONFIG['criterion/name'] = 'entropy'"
   ]
  },
  {
   "cell_type": "code",
   "execution_count": null,
   "id": "f83bd9f9-fe9b-4091-b175-0711ee9308f8",
   "metadata": {},
   "outputs": [],
   "source": [
    "# Update specific params\n",
    "\n",
    "if CONFIG['model/params/id'] is not None and CONFIG['model/params/id'] >= 0 :\n",
    "\tCONFIG.update(model_config[CONFIG['model/params/id']])\n",
    "\n",
    "\tCONFIG['dataset/batch/train'] = CONFIG['dataset/batch_size']\n",
    "\tCONFIG['dataset/batch/valid'] = CONFIG['dataset/batch_size']\n",
    "\tCONFIG['dataset/batch/test']  = CONFIG['dataset/batch_size']"
   ]
  },
  {
   "cell_type": "code",
   "execution_count": null,
   "id": "1941de9e-4297-491d-9651-8d6bb97a5029",
   "metadata": {},
   "outputs": [],
   "source": [
    "# Update config\n",
    "\n",
    "if CONFIG['model/arch'] == 'zrimec' :   CONFIG['dataset/expanddim'] = None\n",
    "if CONFIG['model/arch'] == 'washburn' : CONFIG['dataset/expanddim'] = 0"
   ]
  },
  {
   "cell_type": "code",
   "execution_count": null,
   "id": "c4b0108c-f779-483a-b951-2ef56223810c",
   "metadata": {
    "tags": []
   },
   "outputs": [],
   "source": [
    "# Prints\n",
    "\n",
    "print('Use Features  : {}'.format(CONFIG['model/features']))\n",
    "print('Random Seed   : {}'.format(CONFIG['core/random']))\n",
    "print()"
   ]
  },
  {
   "cell_type": "markdown",
   "id": "17a09d99-2304-44c1-93e9-fd23284937e1",
   "metadata": {},
   "source": [
    "# 3. Dataloader"
   ]
  },
  {
   "cell_type": "code",
   "execution_count": null,
   "id": "93b13030-d49b-462f-b748-5834dd023d10",
   "metadata": {
    "tags": []
   },
   "outputs": [],
   "source": [
    "# Load and check data\n",
    "\n",
    "file = os.path.join(RES, 'genome')\n",
    "file = os.path.join(file, 'scerevisiae', 'scerevisiae.rsd1.lmbda_22.npz')\n",
    "file = numpy.load(file)\n",
    "\n",
    "train_onehot  = file['arr_0']\n",
    "train_feature = file['arr_2']\n",
    "train_target  = file['arr_4']\n",
    "\n",
    "test_onehot   = file['arr_1']\n",
    "test_feature  = file['arr_3']\n",
    "test_target   = file['arr_5']\n",
    "\n",
    "to_double = lambda x : x.astype(numpy.float64)\n",
    "to_float  = lambda x : x.astype(numpy.float32)\n",
    "to_common = to_double\n",
    "\n",
    "train = list()\n",
    "train.append(to_common(train_onehot))\n",
    "train.append(to_common(train_feature))\n",
    "train.append(to_common(train_target).reshape((-1, 1)))\n",
    "\n",
    "test = list()\n",
    "test.append(to_common(test_onehot))\n",
    "test.append(to_common(test_feature))\n",
    "test.append(to_common(test_target).reshape((-1, 1)))\n",
    "\n",
    "train_onehot  = train[0]\n",
    "train_feature = train[1]\n",
    "train_tpm     = train[2]\n",
    "\n",
    "test_onehot   = test[0]\n",
    "test_feature  = test[1]\n",
    "test_tpm      = test[2]\n",
    "\n",
    "train_onehot = numpy.swapaxes(train_onehot, 1, 2)\n",
    "test_onehot  = numpy.swapaxes(test_onehot,  1, 2)\n",
    "\n",
    "train_indices = [i for i in range(numpy.shape(train_tpm)[0])]\n",
    "test_indices  = [i for i in range(numpy.shape( test_tpm)[0])]"
   ]
  },
  {
   "cell_type": "code",
   "execution_count": null,
   "id": "bf1e4547-3ed5-4d1f-a875-2217d1922361",
   "metadata": {
    "tags": []
   },
   "outputs": [],
   "source": [
    "# Print and ensure configuration\n",
    "\n",
    "if CONFIG['core/verbose'] :\n",
    "\tcf = lambda x : ', '.join([str(i) for i in x])\n",
    "\n",
    "\tprint('Train onehot  : {}'.format(cf(numpy.shape(train_onehot))))\n",
    "\tprint('Train feature : {}'.format(cf(numpy.shape(train_feature))))\n",
    "\tprint('Train tpm     : {}'.format(cf(numpy.shape(train_tpm))))\n",
    "\tprint('Train indices : {}'.format(len(train_indices)))\n",
    "\tprint()\n",
    "\n",
    "\tprint('Test onehot  : {}'.format(cf(numpy.shape(test_onehot))))\n",
    "\tprint('Test feature : {}'.format(cf(numpy.shape(test_feature))))\n",
    "\tprint('Test tpm     : {}'.format(cf(numpy.shape(test_tpm))))\n",
    "\tprint('Test indices : {}'.format(len(test_indices)))\n",
    "\tprint()\n",
    "\n",
    "CONFIG['model/input/features'] = numpy.shape(train_feature)[1]\n",
    "CONFIG['model/input/height']   = numpy.shape(train_onehot)[1]\n",
    "CONFIG['model/input/width']    = numpy.shape(train_onehot)[2]\n",
    "CONFIG['model/output/size']    = numpy.shape(train_tpm)[1]\n",
    "\n",
    "if CONFIG['model/arch'] == 'zrimec'   : CONFIG['model/fc3/features'] = CONFIG['model/output/size']\n",
    "if CONFIG['model/arch'] == 'washburn' : CONFIG['model/fc3/features'] = CONFIG['model/output/size']\n",
    "\n",
    "if CONFIG['core/verbose'] :\n",
    "\tprint('Input Features : {}'.format(CONFIG['model/input/features']))\n",
    "\tprint('Input Height   : {}'.format(CONFIG['model/input/height']))\n",
    "\tprint('Input Width    : {}'.format(CONFIG['model/input/width']))\n",
    "\tprint('Input Channels : {}'.format(CONFIG['model/input/channels']))\n",
    "\tprint('Output Size    : {}'.format(CONFIG['model/output/size']))\n",
    "\tprint()"
   ]
  },
  {
   "cell_type": "code",
   "execution_count": null,
   "id": "fd9df42b-62d3-42fa-a1f8-fb3cdbcf2ed2",
   "metadata": {
    "tags": []
   },
   "outputs": [],
   "source": [
    "# Convert into my format\n",
    "\n",
    "cf = lambda x : 'G{:04d}'.format(x)\n",
    "\n",
    "train_names     = [cf(i)                    for i in train_indices]\n",
    "train_sequences = {cf(i) : train_onehot[i]  for i in train_indices}\n",
    "train_features  = {cf(i) : train_feature[i] for i in train_indices}\n",
    "train_targets   = {cf(i) : train_tpm[i]     for i in train_indices}\n",
    "\n",
    "test_names      = [cf(i)                    for i in test_indices]\n",
    "test_sequences  = {cf(i) : test_onehot[i]   for i in test_indices}\n",
    "test_features   = {cf(i) : test_feature[i]  for i in test_indices}\n",
    "test_targets    = {cf(i) : test_tpm[i]      for i in test_indices}"
   ]
  },
  {
   "cell_type": "code",
   "execution_count": null,
   "id": "2e74d2d7-0e78-4990-a3c6-525bac6f49c1",
   "metadata": {
    "tags": []
   },
   "outputs": [],
   "source": [
    "# Create train and valid dataloader\n",
    "\n",
    "train_dataset = GeneDataset(\n",
    "\tnames       = train_names,\n",
    "\tsequences   = train_sequences,\n",
    "\tfeatures    = train_features,\n",
    "\ttargets     = train_targets,\n",
    "\tonehot      = False,\n",
    "\texpand_dims = CONFIG['dataset/expanddim'],\n",
    "\tgroups      = train_indices,\n",
    "\tstart       = CONFIG['dataset/sequence/start'],\n",
    "\tend         = CONFIG['dataset/sequence/end']\n",
    ")\n",
    "\n",
    "dataloaders = to_dataloaders(\n",
    "\tdataset     = train_dataset,\n",
    "\tgenerator   = CONFIG['dataset/split/generator'],\n",
    "\trandom_seed = CONFIG['core/random'],\n",
    "\tsplit_size  = {\n",
    "\t\t'valid' : CONFIG['dataset/split/test'],\n",
    "\t\t'test'  : CONFIG['dataset/split/valid']\n",
    "\t},\n",
    "\tbatch_size  = {\n",
    "\t\t'train' : CONFIG['dataset/batch/train'],\n",
    "\t\t'valid' : CONFIG['dataset/batch/test'],\n",
    "\t\t'test'  : CONFIG['dataset/batch/valid']\n",
    "\t}\n",
    ")\n",
    "\n",
    "train_dataloader = dataloaders[0]\n",
    "valid_dataloader = dataloaders[2]"
   ]
  },
  {
   "cell_type": "code",
   "execution_count": null,
   "id": "ada4b3fe-9485-4367-917d-ba767a8b5707",
   "metadata": {
    "tags": []
   },
   "outputs": [],
   "source": [
    "# Display train dataloader\n",
    "\n",
    "show_dataloader(\n",
    "\tdataloader = train_dataloader,\n",
    "\tverbose    = CONFIG['core/verbose']\n",
    ")"
   ]
  },
  {
   "cell_type": "code",
   "execution_count": null,
   "id": "6beb6963-52c9-482b-9ccc-5170de7b9ce4",
   "metadata": {
    "tags": []
   },
   "outputs": [],
   "source": [
    "# Display valid dataloader\n",
    "\n",
    "show_dataloader(\n",
    "\tdataloader = valid_dataloader,\n",
    "\tverbose    = CONFIG['core/verbose']\n",
    ")"
   ]
  },
  {
   "cell_type": "code",
   "execution_count": null,
   "id": "020a3f98-e683-4451-b41a-36827fc4d8ed",
   "metadata": {
    "tags": []
   },
   "outputs": [],
   "source": [
    "# Create test dataloader\n",
    "\n",
    "test_dataset = GeneDataset(\n",
    "\tnames       = test_names,\n",
    "\tsequences   = test_sequences,\n",
    "\tfeatures    = test_features,\n",
    "\ttargets     = test_targets,\n",
    "\tonehot      = False,\n",
    "\texpand_dims = CONFIG['dataset/expanddim'],\n",
    "\tgroups      = test_indices,\n",
    "\tstart       = CONFIG['dataset/sequence/start'],\n",
    "\tend         = CONFIG['dataset/sequence/end']\n",
    ")\n",
    "\n",
    "test_dataloader = to_dataloader(\n",
    "\tdataset    = test_dataset,\n",
    "\tindices    = test_indices,\n",
    "\tbatch_size = CONFIG['dataset/batch/test']\n",
    ")"
   ]
  },
  {
   "cell_type": "code",
   "execution_count": null,
   "id": "40f56718-8ad7-4b29-85e2-2c90507481cb",
   "metadata": {
    "tags": []
   },
   "outputs": [],
   "source": [
    "# Display test dataloader\n",
    "\n",
    "show_dataloader(\n",
    "\tdataloader = test_dataloader,\n",
    "\tverbose    = CONFIG['core/verbose']\n",
    ")"
   ]
  },
  {
   "cell_type": "markdown",
   "id": "d1559ce5-89c0-42eb-a7c5-dbf4846dc72f",
   "metadata": {},
   "source": [
    "# 4. Model"
   ]
  },
  {
   "cell_type": "markdown",
   "id": "b64d50b8-3869-47d3-8a44-545b9ac9eb86",
   "metadata": {},
   "source": [
    "## 4.1 Structure"
   ]
  },
  {
   "cell_type": "code",
   "execution_count": null,
   "id": "6445490a-9d73-4624-b9ca-97f5cae3c823",
   "metadata": {
    "tags": []
   },
   "outputs": [],
   "source": [
    "# Create and display the model structure\n",
    "\n",
    "if CONFIG['model/arch'] == 'zrimec' :\n",
    "\tif CONFIG['model/mode'] == 'regression'     : model = Zrimec2020r(params = CONFIG)\n",
    "\tif CONFIG['model/mode'] == 'classification' : model = Zrimec2020c(params = CONFIG, binary = False)\n",
    "\n",
    "\tprint(model.summary(\n",
    "\t\tbatch_size  = CONFIG['dataset/batch/train'],\n",
    "\t\tin_height   = CONFIG['model/input/height'],\n",
    "\t\tin_width    = CONFIG['model/input/width'],\n",
    "\t\tin_features = CONFIG['model/input/features']\n",
    "\t))\n",
    "\n",
    "if CONFIG['model/arch'] == 'washburn' :\n",
    "\tif CONFIG['model/mode'] == 'regression'     : model = Washburn2019r(params = CONFIG)\n",
    "\tif CONFIG['model/mode'] == 'classification' : model = Washburn2019c(params = CONFIG, binary = False)\n",
    "\n",
    "\tprint(model.summary(\n",
    "\t\tbatch_size  = CONFIG['dataset/batch/train'],\n",
    "\t\tin_channels = CONFIG['model/input/channels'],\n",
    "\t\tin_height   = CONFIG['model/input/height'],\n",
    "\t\tin_width    = CONFIG['model/input/width'],\n",
    "\t\tin_features = CONFIG['model/input/features'],\n",
    "\t))\n",
    "\n",
    "print()"
   ]
  },
  {
   "cell_type": "code",
   "execution_count": null,
   "id": "4054cbe5-663a-4d84-a1ba-0e2911e8fe46",
   "metadata": {
    "tags": []
   },
   "outputs": [],
   "source": [
    "# Convert the model to double and initialize weights and biases\n",
    "\n",
    "model = model.double()\n",
    "model = model.apply(cnn_model.he_uniform_weight)\n",
    "model = model.apply(cnn_model.zero_bias)"
   ]
  },
  {
   "cell_type": "markdown",
   "id": "7087eb0c-b5d7-47fe-98cf-4646bb849e4a",
   "metadata": {},
   "source": [
    "## 4.2 Metrics"
   ]
  },
  {
   "cell_type": "code",
   "execution_count": null,
   "id": "bb5ab66f-6a6f-4d7c-8e6a-eeb49bfd9f60",
   "metadata": {
    "tags": []
   },
   "outputs": [],
   "source": [
    "# Define metrics\n",
    "\n",
    "if CONFIG['model/mode'] == 'regression' :\n",
    "\tMETRICS = {\n",
    "\t\t'mse'   : cnn_model.get_criterion(reduction = 'none', weights = None, query = 'mse'),\n",
    "\t\t'mae'   : cnn_model.get_criterion(reduction = 'none', weights = None, query = 'mae'),\n",
    "\t\t'smae'  : cnn_model.get_criterion(reduction = 'none', weights = None, query = 'smae'),\n",
    "\t\t'mape'  : cnn_model.get_criterion(reduction = 'none', weights = None, query = 'mape',  output_size = CONFIG['model/output/size']),\n",
    "\t\t'wmape' : cnn_model.get_criterion(reduction = 'none', weights = None, query = 'wmape', output_size = CONFIG['model/output/size']),\n",
    "\t\t'r2'    : cnn_model.get_criterion(reduction = 'none', weights = None, query = 'r2',    output_size = CONFIG['model/output/size']),\n",
    "\t}\n",
    "\n",
    "if CONFIG['model/mode'] == 'classification' :\n",
    "\tMETRICS = {\n",
    "\t\t'entropy'   : cnn_model.get_criterion(reduction = 'none', weights = None, query = 'entropy'),\n",
    "\t\t'accuracy'  : cnn_model.get_criterion(reduction = 'none', weights = None, query = 'accuracy',  task = 'multiclass', n_classes = CONFIG['model/output/size']),\n",
    "\t\t'auroc'     : cnn_model.get_criterion(reduction = 'none', weights = None, query = 'auroc',     task = 'multiclass', n_classes = CONFIG['model/output/size']),\n",
    "\t\t'confusion' : cnn_model.get_criterion(reduction = 'none', weights = None, query = 'confusion', task = 'multiclass', n_classes = CONFIG['model/output/size']),\n",
    "\t\t'f1'        : cnn_model.get_criterion(reduction = 'none', weights = None, query = 'f1',        task = 'multiclass', n_classes = CONFIG['model/output/size']),\n",
    "\t\t'jaccardi'  : cnn_model.get_criterion(reduction = 'none', weights = None, query = 'jaccardi',  task = 'multiclass', n_classes = CONFIG['model/output/size']),\n",
    "\t\t'matthews'  : cnn_model.get_criterion(reduction = 'none', weights = None, query = 'matthews',  task = 'multiclass', n_classes = CONFIG['model/output/size'])\n",
    "\t}\n",
    "\n",
    "METRICS = {\n",
    "\tk : v.to(DEVICE)\n",
    "\tfor k, v in METRICS.items()\n",
    "}"
   ]
  },
  {
   "cell_type": "markdown",
   "id": "6cd97ef4-9526-409a-9cae-1457fba4a68c",
   "metadata": {},
   "source": [
    "## 4.3 Parameters"
   ]
  },
  {
   "cell_type": "code",
   "execution_count": null,
   "id": "51b8306a-81d6-46c3-8d27-3d79f7bff6b8",
   "metadata": {
    "tags": []
   },
   "outputs": [],
   "source": [
    "# Set the model parameters\n",
    "\n",
    "model_trainers = cnn_model.get_model_trainers(\n",
    "\tmodel  = model,\n",
    "\tconfig = CONFIG,\n",
    "\tepochs = CONFIG['model/epochs']\n",
    ")\n",
    "\n",
    "model_params = {\n",
    "\t'model'     : model,\n",
    "\t'savebest'  : os.path.join(OUT_MODEL, f'{model.__name__}-best.pth'),\n",
    "\t'savelast'  : os.path.join(OUT_MODEL, f'{model.__name__}-last.pth'),\n",
    "\t'savetime'  : os.path.join(OUT_MODEL, f'{model.__name__}-time.pth'),\n",
    "\t'epochs'    : CONFIG['model/epochs'],\n",
    "\t'criterion' : model_trainers['criterion'],\n",
    "\t'optimizer' : model_trainers['optimizer'],\n",
    "\t'scheduler' : model_trainers['scheduler'],\n",
    "\t'device'    : DEVICE,\n",
    "\t'verbose'   : CONFIG['core/verbose'],\n",
    "\t'metrics'   : METRICS,\n",
    "\t'train_dataloader' : train_dataloader,\n",
    "\t'valid_dataloader' : valid_dataloader,\n",
    "\t'test_dataloader'  : test_dataloader\n",
    "}"
   ]
  },
  {
   "cell_type": "markdown",
   "id": "22f92567-5902-499c-bab6-b33710931bc9",
   "metadata": {},
   "source": [
    "## 4.4 Train"
   ]
  },
  {
   "cell_type": "code",
   "execution_count": null,
   "id": "e42d1dfa-a287-4533-a867-5ddd2dbdb4dc",
   "metadata": {
    "tags": []
   },
   "outputs": [],
   "source": [
    "# Train and validate the model\n",
    "\n",
    "if CONFIG['model/mode'] == 'regression' :\n",
    "\treport = cnn_model.train_regressor(\n",
    "\t\tmodel  = model,\n",
    "\t\tparams = model_params\n",
    "\t)\n",
    "\n",
    "if CONFIG['model/mode'] == 'classification' :\n",
    "\treport = cnn_model.train_classifier(\n",
    "\t\tmodel  = model,\n",
    "\t\tparams = model_params\n",
    "\t)"
   ]
  },
  {
   "cell_type": "markdown",
   "id": "9e865753-c252-4675-8447-8a1d06d9ae3b",
   "metadata": {},
   "source": [
    "## 4.5 Visualization"
   ]
  },
  {
   "cell_type": "code",
   "execution_count": null,
   "id": "c24fdb0d-1f04-424b-b33b-4a4c689e0ab8",
   "metadata": {
    "tags": []
   },
   "outputs": [],
   "source": [
    "# Display the training and validation loss curves\n",
    "\n",
    "cnn_plot.show_loss(\n",
    "\treport      = report,\n",
    "\ttitle       = 'Loss Function',\n",
    "\tfilename    = os.path.join(OUT_PLOT, model.__name__),\n",
    "\tlimit_top   = None,\n",
    "\tlimit_bot   = None,\n",
    "\tstart_index = CONFIG['core/plots']\n",
    ")"
   ]
  },
  {
   "cell_type": "code",
   "execution_count": null,
   "id": "d38e02af-ce89-4ba4-8a0e-9cc9c5908d4f",
   "metadata": {
    "tags": []
   },
   "outputs": [],
   "source": [
    "# Display the training and validation learning rate curves\n",
    "\n",
    "cnn_plot.show_lr(\n",
    "\treport      = report,\n",
    "\ttitle       = 'Learning Rate',\n",
    "\tfilename    = os.path.join(OUT_PLOT, model.__name__),\n",
    "\tlimit_top   = None,\n",
    "\tlimit_bot   = None,\n",
    "\tstart_index = None\n",
    ")"
   ]
  },
  {
   "cell_type": "code",
   "execution_count": null,
   "id": "74627e40-fcec-45ed-835e-3da8b3668eb4",
   "metadata": {
    "tags": []
   },
   "outputs": [],
   "source": [
    "# Display the training and validation accuracy or r2 curves\n",
    "\n",
    "if CONFIG['model/mode'] == 'regression' :\n",
    "\tcnn_plot.show_r2(\n",
    "\t\treport      = report,\n",
    "\t\ttitle       = 'R2 Score',\n",
    "\t\tfilename    = os.path.join(OUT_PLOT, model.__name__),\n",
    "\t\tlimit_top   = None,\n",
    "\t\tlimit_bot   = None,\n",
    "\t\tstart_index = CONFIG['core/plots']\n",
    "\t)\n",
    "\n",
    "if CONFIG['model/mode'] == 'classification' :\n",
    "\tcnn_plot.show_accuracy(\n",
    "\t\treport      = report,\n",
    "\t\ttitle       = 'Accuracy',\n",
    "\t\tfilename    = os.path.join(OUT_PLOT, model.__name__),\n",
    "\t\tlimit_top   = None,\n",
    "\t\tlimit_bot   = None,\n",
    "\t\tstart_index = CONFIG['core/plots']\n",
    "\t)"
   ]
  },
  {
   "cell_type": "code",
   "execution_count": null,
   "id": "5d627d8d-1171-4437-b466-220060d50079",
   "metadata": {
    "tags": []
   },
   "outputs": [],
   "source": [
    "# Display the training metrics per batch\n",
    "\n",
    "cnn_plot.show_metric_grid(\n",
    "\treport       = report,\n",
    "\tmode         = 'train',\n",
    "\tfilename     = os.path.join(OUT_PLOT, model.__name__ + '-train'),\n",
    "\tapply_limits = False,\n",
    "\tstart_index  = CONFIG['core/plots']\n",
    ")"
   ]
  },
  {
   "cell_type": "code",
   "execution_count": null,
   "id": "46323763-10dd-4ab4-a084-e46a682d9058",
   "metadata": {
    "tags": []
   },
   "outputs": [],
   "source": [
    "# Display the validation metrics per batch\n",
    "\n",
    "cnn_plot.show_metric_grid(\n",
    "\treport       = report,\n",
    "\tmode         = 'valid',\n",
    "\tfilename     = os.path.join(OUT_PLOT, model.__name__ + '-valid'),\n",
    "\tapply_limits = False,\n",
    "\tstart_index  = CONFIG['core/plots']\n",
    ")"
   ]
  },
  {
   "cell_type": "markdown",
   "id": "f243cb3a-6ace-4a98-8545-ddfd3c5f62b8",
   "metadata": {},
   "source": [
    "# 5. Evaluation"
   ]
  },
  {
   "cell_type": "markdown",
   "id": "f93072bd-4879-46a4-99b4-e14b3ee72e05",
   "metadata": {},
   "source": [
    "## 5.1 Last Model"
   ]
  },
  {
   "cell_type": "markdown",
   "id": "d40c83e2-e913-453f-8fc9-42caf04f1eb6",
   "metadata": {},
   "source": [
    "### 5.1.1 Evaluation"
   ]
  },
  {
   "cell_type": "code",
   "execution_count": null,
   "id": "d0681de2-574e-4b3c-8ed3-dda63e2aaa9a",
   "metadata": {
    "tags": []
   },
   "outputs": [],
   "source": [
    "# Load last model\n",
    "\n",
    "checkpoint = loader.load_torch(\n",
    "\tfilename = os.path.join(OUT_MODEL, model.__name__ + '-last.pth')\n",
    ")\n",
    "\n",
    "final_report['evaluation/last/epoch'] = checkpoint['epoch']\n",
    "final_report['evaluation/last/loss']  = checkpoint['loss']\n",
    "\n",
    "print('Epoch : ' + '{}'.format(final_report['evaluation/last/epoch']))\n",
    "print(' Loss : ' + '{:.5f}'.format(final_report['evaluation/last/loss']))\n",
    "print()\n",
    "\n",
    "model.load_state_dict(checkpoint['models'])"
   ]
  },
  {
   "cell_type": "code",
   "execution_count": null,
   "id": "a40c32ba-c31f-41b8-b1df-2cc08772b59a",
   "metadata": {
    "tags": []
   },
   "outputs": [],
   "source": [
    "# Evaluate the full model on keep test\n",
    "\n",
    "if CONFIG['model/mode'] == 'regression' :\n",
    "\treport_keep, final_report = cnn_model.eval_regressor_with_report(\n",
    "\t\tmodel  = model,\n",
    "\t\tparams = model_params,\n",
    "\t\treport = final_report,\n",
    "\t\tmode   = 'evaluation/last/test'\n",
    "\t)\n",
    "\n",
    "if CONFIG['model/mode'] == 'classification' :\n",
    "\treport_keep, final_report = cnn_model.eval_classifier_with_report(\n",
    "\t\tmodel  = model,\n",
    "\t\tparams = model_params,\n",
    "\t\treport = final_report,\n",
    "\t\tmode   = 'evaluation/last/test'\n",
    "\t)"
   ]
  },
  {
   "cell_type": "markdown",
   "id": "a4430e73-662c-471d-97bd-3660bfe9111b",
   "metadata": {},
   "source": [
    "## 5.2 Best Model"
   ]
  },
  {
   "cell_type": "markdown",
   "id": "169a17d3-61e2-4841-a3cb-ec8e9ddacbc2",
   "metadata": {},
   "source": [
    "### 5.2.1 Evaluation"
   ]
  },
  {
   "cell_type": "code",
   "execution_count": null,
   "id": "6b9047e3-ff74-49e7-8493-92f795e2e479",
   "metadata": {},
   "outputs": [],
   "source": [
    "# Load best model\n",
    "\n",
    "checkpoint = loader.load_torch(\n",
    "\tfilename = os.path.join(OUT_MODEL, model.__name__ + '-best.pth')\n",
    ")\n",
    "\n",
    "final_report['evaluation/best/epoch'] = checkpoint['epoch']\n",
    "final_report['evaluation/best/loss']  = checkpoint['loss']\n",
    "\n",
    "print('Epoch : ' + '{}'.format(final_report['evaluation/last/epoch']))\n",
    "print(' Loss : ' + '{:.5f}'.format(final_report['evaluation/last/loss']))\n",
    "print()\n",
    "\n",
    "model.load_state_dict(checkpoint['models'])"
   ]
  },
  {
   "cell_type": "code",
   "execution_count": null,
   "id": "e3bd4f6f-c54d-48ea-922e-071708bfb6dc",
   "metadata": {},
   "outputs": [],
   "source": [
    "# Evaluate the full model on keep test\n",
    "\n",
    "if CONFIG['model/mode'] == 'regression' :\n",
    "\treport_keep, final_report = cnn_model.eval_regressor_with_report(\n",
    "\t\tmodel  = model,\n",
    "\t\tparams = model_params,\n",
    "\t\treport = final_report,\n",
    "\t\tmode   = 'evaluation/best/test'\n",
    "\t)\n",
    "\n",
    "if CONFIG['model/mode'] == 'classification' :\n",
    "\treport_keep, final_report = cnn_model.eval_classifier_with_report(\n",
    "\t\tmodel  = model,\n",
    "\t\tparams = model_params,\n",
    "\t\treport = final_report,\n",
    "\t\tmode   = 'evaluation/best/test'\n",
    "\t)"
   ]
  },
  {
   "cell_type": "markdown",
   "id": "5c0ab12e-b258-4ab4-80f8-655bf8c873fe",
   "metadata": {},
   "source": [
    "### 5.2.2 Custom"
   ]
  },
  {
   "cell_type": "code",
   "execution_count": null,
   "id": "682d23da-9bb1-4976-bcdd-4d6d0e5f1bde",
   "metadata": {},
   "outputs": [],
   "source": [
    "# Display the first few evaluation item predictions and expectations\n",
    "\n",
    "if CONFIG['model/mode'] == 'regression' :\n",
    "\tcnn_utils.display_regression_predictions(\n",
    "\t\treport = report_keep,\n",
    "\t\tn      = 2\n",
    "\t)\n",
    "\n",
    "if CONFIG['model/mode'] == 'classification' :\n",
    "\tcnn_utils.display_classification_predictions(\n",
    "\t\treport = report_keep,\n",
    "\t\tn      = 2\n",
    "\t)"
   ]
  },
  {
   "cell_type": "markdown",
   "id": "0ead9eaa-f637-404c-8531-05bb3e782b05",
   "metadata": {},
   "source": [
    "### 5.2.3 Visualization"
   ]
  },
  {
   "cell_type": "code",
   "execution_count": null,
   "id": "add3d531-2381-4ec4-ae11-fc413eb8c8da",
   "metadata": {
    "tags": []
   },
   "outputs": [],
   "source": [
    "# Display prediction error per group\n",
    "\n",
    "if CONFIG['model/mode'] == 'regression' :\n",
    "\tcnn_plot.show_prediction_error_grid(\n",
    "\t\treport   = report_keep,\n",
    "\t\torder    = ['global'],\n",
    "\t\tfilename = os.path.join(OUT_PLOT, model.__name__ + '-best')\n",
    "\t)"
   ]
  },
  {
   "cell_type": "code",
   "execution_count": null,
   "id": "9aff1f7a-9db0-45f6-87e8-b3477ba9054e",
   "metadata": {
    "tags": []
   },
   "outputs": [],
   "source": [
    "# Display prediction linear regression per group\n",
    "\n",
    "if CONFIG['model/mode'] == 'regression' :\n",
    "\tcnn_plot.show_linear_regression_grid(\n",
    "\t\treport   = report_keep,\n",
    "\t\torder    = ['global'],\n",
    "\t\tfilename = os.path.join(OUT_PLOT, model.__name__ + '-best')\n",
    "\t)"
   ]
  },
  {
   "cell_type": "markdown",
   "id": "720d06fd-9827-4bde-83e4-a5af16f504ad",
   "metadata": {},
   "source": [
    "# 6. Save"
   ]
  },
  {
   "cell_type": "code",
   "execution_count": null,
   "id": "da64247e-aae9-4966-b7e7-4e8cdfd5e907",
   "metadata": {
    "tags": []
   },
   "outputs": [],
   "source": [
    "# Convert reports from numpy array to lists\n",
    "\n",
    "def ensure_json_validity (item) :\n",
    "\tif   isinstance(item, dict)          : pass\n",
    "\telif isinstance(item, list)          : return item\n",
    "\telif isinstance(item, numpy.ndarray) : return item.tolist()\n",
    "\telif isinstance(item, float)         : return item\n",
    "\telif isinstance(item, int)           : return item\n",
    "\telif isinstance(item, str)           : return item\n",
    "\telse                                 : return None\n",
    "\n",
    "\tdata = dict()\n",
    "\n",
    "\tfor key in item.keys() :\n",
    "\t\tdata[key] = ensure_json_validity(item[key])\n",
    "\n",
    "\treturn data\n",
    "\n",
    "report_keep = ensure_json_validity(report_keep)"
   ]
  },
  {
   "cell_type": "code",
   "execution_count": null,
   "id": "1dafb9de-ca09-4085-a8ee-25dfa7bb7491",
   "metadata": {
    "tags": []
   },
   "outputs": [],
   "source": [
    "# Save results\n",
    "\n",
    "for key, value in final_report.items() :\n",
    "\tif isinstance(value, numpy.float32) :\n",
    "\t\tfinal_report[key] = float(value)\n",
    "\n",
    "writer.write_json(\n",
    "\tdata     = final_report,\n",
    "\tfilename = os.path.join(OUT_DATA, 'report.json')\n",
    ")\n",
    "\n",
    "writer.write_json(\n",
    "\tdata     = report_keep,\n",
    "\tfilename = os.path.join(OUT_DATA, 'report_keep.json')\n",
    ")\n",
    "\n",
    "writer.write_json(\n",
    "\tdata     = {k : v for k, v in CONFIG.items() if k != 'core/device'},\n",
    "\tfilename = os.path.join(OUT_DATA, 'config.json')\n",
    ")"
   ]
  }
 ],
 "metadata": {
  "kernelspec": {
   "display_name": "Python 3 (ipykernel)",
   "language": "python",
   "name": "python3"
  },
  "language_info": {
   "codemirror_mode": {
    "name": "ipython",
    "version": 3
   },
   "file_extension": ".py",
   "mimetype": "text/x-python",
   "name": "python",
   "nbconvert_exporter": "python",
   "pygments_lexer": "ipython3",
   "version": "3.10.7"
  }
 },
 "nbformat": 4,
 "nbformat_minor": 5
}
