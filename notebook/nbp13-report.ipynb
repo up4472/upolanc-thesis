{
 "cells": [
  {
   "cell_type": "code",
   "execution_count": null,
   "id": "0d486dba-3cb7-4e1c-98e4-ecf2457d8670",
   "metadata": {
    "tags": []
   },
   "outputs": [],
   "source": [
    "# Libraries\n",
    "\n",
    "import matplotlib\n",
    "import os\n",
    "import pandas\n",
    "import platform\n",
    "import seaborn\n",
    "import shutil\n",
    "import sys"
   ]
  },
  {
   "cell_type": "code",
   "execution_count": null,
   "id": "a23fbf92-81ae-4a39-929c-cedd7c7c2724",
   "metadata": {
    "tags": []
   },
   "outputs": [],
   "source": [
    "# Ensure source path\n",
    "\n",
    "ROOT = os.getcwd()\n",
    "\n",
    "while not ROOT.endswith('upolanc-thesis') :\n",
    "\tROOT = os.path.abspath(os.path.join(ROOT, os.pardir))\n",
    "\n",
    "\tif len(ROOT) < len('upolanc-thesis') :\n",
    "\t\tif   platform.system() == 'Linux'   : ROOT = '/d/hpc/projects/FRI/up4472/upolanc-thesis'\n",
    "\t\telif platform.system() == 'Windows' : ROOT = 'C:\\\\Developer\\\\Workspace\\\\PyCharm\\\\Projects\\\\upolanc-thesis'\n",
    "\t\telse : raise ValueError()\n",
    "\n",
    "\t\tprint(f'Warning : could not find correct directory, using default : {ROOT}')\n",
    "\t\tprint()\n",
    "\n",
    "\t\tbreak\n",
    "\n",
    "if ROOT not in sys.path :\n",
    "\tsys.path.append(ROOT)\n",
    "\n",
    "os.chdir(ROOT)"
   ]
  },
  {
   "cell_type": "code",
   "execution_count": null,
   "id": "be968fd0-6929-4317-abad-5378da344ca8",
   "metadata": {
    "tags": []
   },
   "outputs": [],
   "source": [
    "# Code\n",
    "\n",
    "from source.python        import runtime\n",
    "from source.python.io     import loader\n",
    "from source.python.io     import writer\n",
    "from source.python.report import report_concat\n",
    "from source.python.report import report_filter\n",
    "from source.python.report import report_load\n",
    "from source.python.report import report_plot\n",
    "\n",
    "runtime.set_numpy_format()\n",
    "runtime.set_pandas_format()\n",
    "runtime.set_plot_theme()"
   ]
  },
  {
   "cell_type": "code",
   "execution_count": null,
   "id": "ec2b7a49-3443-43c4-9ca4-d98bdc55940a",
   "metadata": {
    "tags": []
   },
   "outputs": [],
   "source": [
    "# List reports folder content\n",
    "\n",
    "PRINT_FILES = False\n",
    "\n",
    "ROOT_DIR = os.path.join(ROOT, 'reports')\n",
    "DATA_DIR = os.path.join(ROOT, 'output', 'nbp13-report')\n",
    "\n",
    "shutil.rmtree(DATA_DIR, ignore_errors = True)\n",
    "os.makedirs(DATA_DIR, exist_ok = True)\n",
    "\n",
    "if PRINT_FILES :\n",
    "\tfor index, name in enumerate(os.listdir(ROOT_DIR), start = 0) :\n",
    "\t\tpath_l0 = os.path.join(ROOT_DIR, name)\n",
    "\n",
    "\t\tif index == 0 : print('{} :'.format(path_l0))\n",
    "\t\telse          : print('\\n{} :'.format(path_l0))\n",
    "\n",
    "\t\tfor name in os.listdir(path_l0) :\n",
    "\t\t\tprint('...\\\\{}'.format(name))\n",
    "\n",
    "\t\tprint()"
   ]
  },
  {
   "cell_type": "code",
   "execution_count": null,
   "id": "4ac82ee2-068d-4e31-9c66-6f0bb4ec32bc",
   "metadata": {
    "tags": []
   },
   "outputs": [],
   "source": [
    "# Load existing configurations\n",
    "\n",
    "CONFIG_DIR = os.path.join(ROOT, 'resources', 'tuner')\n",
    "\n",
    "ZCONFIG_PATH = os.path.join(CONFIG_DIR, 'zrimec.json')\n",
    "WCONFIG_PATH = os.path.join(CONFIG_DIR, 'washburn.json')\n",
    "\n",
    "ZCONFIG = list()\n",
    "WCONFIG = list()\n",
    "\n",
    "CONFIG_MAX       = 100\n",
    "CONFIG_BEST      = 10\n",
    "CONFIG_OVERWRITE = True\n",
    "CONFIG_EXTEND    = False\n",
    "\n",
    "if os.path.exists(ZCONFIG_PATH) and CONFIG_EXTEND :\n",
    "\tZCONFIG = loader.load_json(filename = ZCONFIG_PATH)\n",
    "\n",
    "\tprint('Sucessufully loaded configuration [{:88s}] with [{:2d}] elements'.format(ZCONFIG_PATH, len(ZCONFIG)))\n",
    "\tprint()\n",
    "\n",
    "if os.path.exists(WCONFIG_PATH) and CONFIG_EXTEND :\n",
    "\tWCONFIG = loader.load_json(filename = WCONFIG_PATH)\n",
    "\n",
    "\tprint('Sucessufully loader configuration [{:88s}] with [{:2d}] elements'.format(WCONFIG_PATH, len(WCONFIG)))\n",
    "\tprint()"
   ]
  },
  {
   "cell_type": "markdown",
   "id": "6eaaedb9-829b-4f29-a9a8-296a4b15b0cb",
   "metadata": {},
   "source": [
    "# 1. Tuner CNN"
   ]
  },
  {
   "cell_type": "code",
   "execution_count": null,
   "id": "f25d6142-bf4f-4f68-8e48-d4dadced2280",
   "metadata": {
    "tags": []
   },
   "outputs": [],
   "source": [
    "# Load tune model reports\n",
    "\n",
    "report_tune_model = report_load.load_cnn_tune_reports(\n",
    "\troot = ROOT_DIR,\n",
    "\tshow = False,\n",
    "\tn    = 5\n",
    ")"
   ]
  },
  {
   "cell_type": "code",
   "execution_count": null,
   "id": "db48eb97-ea0c-421f-aeba-f87a0f6d865a",
   "metadata": {
    "tags": []
   },
   "outputs": [],
   "source": [
    "# Display overall regression prediction\n",
    "\n",
    "R2_THRESHOLD = 0.00\n",
    "\n",
    "for key, dataframe in report_tune_model['regression'].items() :\n",
    "\tnan_mse = dataframe['valid_loss'].isnull().values.ravel().sum()\n",
    "\tpos_r2  = dataframe[dataframe['valid_r2'] > R2_THRESHOLD]['valid_r2'].count()\n",
    "\tneg_r2  = dataframe[dataframe['valid_r2'] < R2_THRESHOLD]['valid_r2'].count()\n",
    "\n",
    "\tprint('{:50s} : Size = {:4d} || NaN Loss = {:4d} || Pos R2 = {:4d} || Neg R2 = {:4d}'.format(key, len(dataframe), nan_mse, pos_r2, neg_r2))\n",
    "\n",
    "print()"
   ]
  },
  {
   "cell_type": "code",
   "execution_count": null,
   "id": "7a69cb2b-63a6-448f-a5f9-46c32bae02dc",
   "metadata": {
    "tags": []
   },
   "outputs": [],
   "source": [
    "# Concat reports\n",
    "\n",
    "report = report_concat.concat_cnn_tune_reports(\n",
    "\treports = report_tune_model,\n",
    "\tmode    = 'regression',\n",
    "\tn       = None\n",
    ")"
   ]
  },
  {
   "cell_type": "markdown",
   "id": "c06a916f-b29d-49db-9620-04e1db890c87",
   "metadata": {},
   "source": [
    "## 1.1 All"
   ]
  },
  {
   "cell_type": "code",
   "execution_count": null,
   "id": "311a629f-b682-4345-a694-54ef90612078",
   "metadata": {
    "tags": []
   },
   "outputs": [],
   "source": [
    "# All reports\n",
    "\n",
    "if report is not None :\n",
    "\treport['Target'] = report[['Target0', 'Target1', 'Target2']].agg(lambda x : '-'.join(x.dropna()), axis = 1)\n",
    "\n",
    "\told_cols = report.columns.tolist()\n",
    "\tnew_cols = old_cols[-1:] + old_cols[:-1]\n",
    "\treport = report[new_cols]\n",
    "\n",
    "\treport = report.rename(columns = {\n",
    "\t\t'Valid_MSE' : 'MSE',\n",
    "\t\t'Valid_R2'  : 'R2'\n",
    "\t})\n",
    "\n",
    "\treport['Sequence'] = report['Sequence'].replace('tf2150', 'transcript 2150 bp')\n",
    "\treport['Sequence'] = report['Sequence'].replace('tf6150', 'transcript 6150 bp')\n",
    "\treport['Sequence'] = report['Sequence'].replace('po0512', 'promoter 512 bp')\n",
    "\treport['Sequence'] = report['Sequence'].replace('po4096', 'promoter 4096 bp')\n",
    "\treport['Sequence'] = report['Sequence'].replace('po4096', 'promoter + 5\\'utr 4096 bp')\n",
    "\treport['Filter']   = report['Filter'].replace('f1', '1')\n",
    "\treport['Filter']   = report['Filter'].replace('f2', '2')\n",
    "\treport['Filter']   = report['Filter'].replace('f3', '3')\n",
    "\treport['Filter']   = report['Filter'].replace('f4', '4')\n",
    "\treport['Filter']   = report['Filter'].replace('f5', '5')\n",
    "\treport['Filter']   = report['Filter'].replace('f6', '6')\n",
    "\treport['Filter']   = report['Filter'].astype(int)\n",
    "\n",
    "\treport = report.drop(columns = ['Target0', 'Target1', 'Target2', 'Sequence', 'ID', 'Train_MSE', 'Valid_MAE', 'Optimizer', 'Scheduler'])\n",
    "\treport = report[['Target', 'Model', 'Filter', 'LR', 'Beta1', 'Beta2', 'Decay', 'Dropout', 'Batch', 'Epoch', 'MSE', 'R2']]\n",
    "\n",
    "report.head(n = 10)"
   ]
  },
  {
   "cell_type": "markdown",
   "id": "efc38a3d-dec8-48b0-9e29-bd5fe8162cd2",
   "metadata": {},
   "source": [
    "## 1.2 Zrimec"
   ]
  },
  {
   "cell_type": "code",
   "execution_count": null,
   "id": "a0889b22-5db6-4bf7-9313-56f1f50613fa",
   "metadata": {
    "tags": []
   },
   "outputs": [],
   "source": [
    "# Only zrimec\n",
    "\n",
    "x = report\n",
    "x = report[report['Model'] == 'zrimec']\n",
    "x = x.reset_index(drop = True)\n",
    "x = x.drop(columns = ['Filter', 'Epoch'])\n",
    "x = x.head(n = 10)\n",
    "\n",
    "x"
   ]
  },
  {
   "cell_type": "markdown",
   "id": "21ca934d-342a-4e6d-a5b1-b80d3ca7ec98",
   "metadata": {},
   "source": [
    "## 1.3 Washburn"
   ]
  },
  {
   "cell_type": "code",
   "execution_count": null,
   "id": "d83b74e2-88b9-4011-8706-baf4e7f312e0",
   "metadata": {
    "tags": []
   },
   "outputs": [],
   "source": [
    "# Only washburn\n",
    "\n",
    "x = report\n",
    "x = report[report['Model'] == 'washburn']\n",
    "x = x.reset_index(drop = True)\n",
    "x = x.drop(columns = ['Filter', 'Epoch'])\n",
    "x = x.head(n = 10)\n",
    "\n",
    "x"
   ]
  },
  {
   "cell_type": "code",
   "execution_count": null,
   "id": "fcd6c952-6b90-4db2-896d-ffec7e316604",
   "metadata": {
    "tags": []
   },
   "outputs": [],
   "source": [
    "# Save top model configurations (to same format as model params)\n",
    "\n",
    "for key in report_tune_model['regression'].keys() :\n",
    "\tdf = report_tune_model['regression'][key]\n",
    "\tdf = df.sort_values('valid_r2', ascending = False)\n",
    "\n",
    "\tif   key.startswith('zrimec')   : config = ZCONFIG\n",
    "\telif key.startswith('washburn') : config = WCONFIG\n",
    "\telse : raise ValueError()\n",
    "\n",
    "\tif   key.startswith('zrimec')   : layers = [3, 3]\n",
    "\telif key.startswith('washburn') : layers = [6, 3]\n",
    "\telse : raise ValueError()\n",
    "\n",
    "\tfor i in range(CONFIG_BEST) :\n",
    "\t\titem = {\n",
    "\t\t\t'id' : 'id'\n",
    "\t\t}\n",
    "\n",
    "\t\ttemp = df.iloc[i, :].to_dict()\n",
    "\n",
    "\t\tif 'trial_id' in temp.keys() :\n",
    "\t\t\titem['id'] = item['id'] + '_{:s}'.format(temp['trial_id'])\n",
    "\n",
    "\t\tif 'pid' in temp.keys() :\n",
    "\t\t\titem['id'] = item['id'] + '_{:d}'.format(temp['pid'])\n",
    "\n",
    "\t\tfor k, v in temp.items() :\n",
    "\t\t\tif   k.startswith('valid')  : pass\n",
    "\t\t\telif k.startswith('train')  : pass\n",
    "\t\t\telif k.startswith('config') : k = k[7:]\n",
    "\t\t\telse : continue\n",
    "\n",
    "\t\t\tif k.startswith('model/convx/') :\n",
    "\t\t\t\tfor i in range(2, layers[0] + 1) :\n",
    "\t\t\t\t\toldkey = 'x/'\n",
    "\t\t\t\t\tnewkey = str(i) + '/'\n",
    "\n",
    "\t\t\t\t\titem[k.replace(oldkey, newkey)] = v\n",
    "\n",
    "\t\t\telif k.startswith('model/maxpoolx/') :\n",
    "\t\t\t\tfor i in range(1, layers[1] + 1) :\n",
    "\t\t\t\t\toldkey = 'x/'\n",
    "\t\t\t\t\tnewkey = str(i) + '/'\n",
    "\n",
    "\t\t\t\t\titem[k.replace(oldkey, newkey)] = v\n",
    "\n",
    "\t\t\telse :\n",
    "\t\t\t\titem[k] = v\n",
    "\n",
    "\t\tconfig.append(item)\n",
    "\n",
    "ZCONFIG = sorted(ZCONFIG, key = lambda x : x['valid_r2'], reverse = True)\n",
    "WCONFIG = sorted(WCONFIG, key = lambda x : x['valid_r2'], reverse = True)\n",
    "\n",
    "ZCONFIG = ZCONFIG[:CONFIG_MAX]\n",
    "WCONFIG = WCONFIG[:CONFIG_MAX]\n",
    "\n",
    "if CONFIG_OVERWRITE :\n",
    "\tif len(ZCONFIG) > 0 :\n",
    "\t\twriter.write_json(filename = ZCONFIG_PATH, data = ZCONFIG)\n",
    "\n",
    "\t\tprint('Sucessufully written configuration [{:88s}] with [{:2d}] elements'.format(ZCONFIG_PATH, len(ZCONFIG)))\n",
    "\n",
    "\tif len(WCONFIG) > 0 :\n",
    "\t\twriter.write_json(filename = WCONFIG_PATH, data = WCONFIG)\n",
    "\n",
    "\t\tprint('Sucessufully written configuration [{:88s}] with [{:2d}] elements'.format(WCONFIG_PATH, len(WCONFIG)))\n",
    "\n",
    "\tprint()"
   ]
  },
  {
   "cell_type": "markdown",
   "id": "8dbb29c8-9614-4a57-b887-2b527f04ebb8",
   "metadata": {},
   "source": [
    "# 2. Tuner Data"
   ]
  },
  {
   "cell_type": "code",
   "execution_count": null,
   "id": "3196a6f0-baf2-41d8-9da2-56de2d399ff1",
   "metadata": {
    "tags": []
   },
   "outputs": [],
   "source": [
    "# Display top few results for each tune configuration\n",
    "\n",
    "report_tune_data = report_load.load_data_tune_reports(\n",
    "\troot = ROOT_DIR,\n",
    "\tshow = False,\n",
    "\tn    = 25\n",
    ")"
   ]
  },
  {
   "cell_type": "markdown",
   "id": "d3299bd1-e8e9-4e8a-8e8a-eb870901096c",
   "metadata": {},
   "source": [
    "## 2.1 All"
   ]
  },
  {
   "cell_type": "code",
   "execution_count": null,
   "id": "b121270c-c3b7-4170-b190-bea199ced0e7",
   "metadata": {
    "tags": []
   },
   "outputs": [],
   "source": [
    "# Concat reports and display top few\n",
    "\n",
    "report = report_concat.concat_data_tune_reports(\n",
    "\treports = report_tune_data,\n",
    "\tmode    = 'regression',\n",
    "\tn       = None\n",
    ")\n",
    "\n",
    "if report is not None :\n",
    "\treport['Target'] = report[['Target0', 'Target1', 'Target2']].agg(lambda x : '-'.join(x.dropna()), axis = 1)\n",
    "\n",
    "\treport = report.rename(columns = {\n",
    "\t\t'Valid_MSE' : 'MSE',\n",
    "\t\t'Valid_R2'  : 'R2'\n",
    "\t})\n",
    "\n",
    "\told_cols = report.columns.tolist()\n",
    "\tnew_cols = old_cols[-1:] + old_cols[:-1]\n",
    "\treport = report[new_cols]\n",
    "\n",
    "\treport = report.drop(columns = ['Target0', 'Target1', 'Target2', 'ID', 'Sequence', 'Valid_MAE', 'Train_MSE'])\n",
    "\treport = report[['Target', 'Model', 'Filter', 'Epoch', 'Lambda', 'MSE', 'R2']]\n",
    "\n",
    "report.head(n = 10)"
   ]
  },
  {
   "cell_type": "markdown",
   "id": "f61ca8eb-b1e0-48e2-ab8d-5fe6e6a90a56",
   "metadata": {},
   "source": [
    "## 2.2 Checkpoints"
   ]
  },
  {
   "cell_type": "code",
   "execution_count": null,
   "id": "b32cc5cf-5585-441a-aa70-4a0cb496f988",
   "metadata": {
    "tags": []
   },
   "outputs": [],
   "source": [
    "# Display top reports and checkpoints (log2, boxcox)\n",
    "\n",
    "x = report.head(n = 5)\n",
    "a = report[report['Lambda'] ==  '0.00000']\n",
    "b = report[report['Lambda'] == '-0.14']\n",
    "\n",
    "x = pandas.concat((x, a))\n",
    "x = pandas.concat((x, b))\n",
    "x = x.reset_index(drop = True)\n",
    "\n",
    "x"
   ]
  },
  {
   "cell_type": "markdown",
   "id": "c04bde67-1913-462b-8103-5f3c6923c1ca",
   "metadata": {},
   "source": [
    "# 3. Model CNN"
   ]
  },
  {
   "cell_type": "code",
   "execution_count": null,
   "id": "00733de1-10a6-4dad-a8c4-a7f773a77ed6",
   "metadata": {
    "tags": []
   },
   "outputs": [],
   "source": [
    "# Load cnn model reports\n",
    "\n",
    "report_cnn_model = report_load.load_cnn_reports(\n",
    "\troot = ROOT_DIR\n",
    ")"
   ]
  },
  {
   "cell_type": "markdown",
   "id": "dd6ecab7-9328-471d-9e6a-60874af06ae7",
   "metadata": {},
   "source": [
    "## 3.1 All"
   ]
  },
  {
   "cell_type": "code",
   "execution_count": null,
   "id": "3bf82c16-a01f-43cc-a2df-4491ca655e08",
   "metadata": {
    "tags": []
   },
   "outputs": [],
   "source": [
    "# Display model performance for regression\n",
    "\n",
    "report = report_cnn_model['regression']\n",
    "\n",
    "if len(report) > 0 :\n",
    "\treport['Target'] = report[['Target0', 'Target1', 'Target2']].agg(lambda x : '-'.join(x.dropna()), axis = 1)\n",
    "\treport['Params'] = report[['Model', 'Param']].agg(lambda x : '-'.join([str(i) for i in x]), axis = 1)\n",
    "\n",
    "\treport['Sequence'] = report['Sequence'].replace('tf2150', 'transcript 2150 bp')\n",
    "\treport['Sequence'] = report['Sequence'].replace('tf6150', 'transcript 6150 bp')\n",
    "\treport['Sequence'] = report['Sequence'].replace('po0512', 'promoter 512 bp')\n",
    "\treport['Sequence'] = report['Sequence'].replace('po4096', 'promoter 4096 bp')\n",
    "\treport['Sequence'] = report['Sequence'].replace('po5000', 'promoter 5000 bp')\n",
    "\treport['Sequence'] = report['Sequence'].replace('pu4096', 'promoter + 5\\'utr 4096 bp')\n",
    "\treport['Sequence'] = report['Sequence'].replace('pu5000', 'promoter + 5\\'utr 5000 bp')\n",
    "\treport['Filter']   = report['Filter'].replace('f1', '1')\n",
    "\treport['Filter']   = report['Filter'].replace('f2', '2')\n",
    "\treport['Filter']   = report['Filter'].replace('f3', '3')\n",
    "\treport['Filter']   = report['Filter'].replace('f4', '4')\n",
    "\treport['Filter']   = report['Filter'].replace('f5', '5')\n",
    "\treport['Filter']   = report['Filter'].replace('f6', '6')\n",
    "\treport['Filter']   = report['Filter'].astype(int)\n",
    "\n",
    "\told_cols = report.columns.tolist()\n",
    "\tnew_cols = old_cols[-2:] + old_cols[:-2]\n",
    "\treport = report[new_cols]\n",
    "\n",
    "\treport = report.reset_index(drop = True)\n",
    "\treport = report.drop(columns = ['Target0', 'Target1', 'Target2', 'Model', 'Param', 'Epochs', 'Optimizer', 'Scheduler'])\n",
    "\n",
    "report.head(n = 10)"
   ]
  },
  {
   "cell_type": "code",
   "execution_count": null,
   "id": "f666c7db-1842-47f5-aa48-a098576d3eb1",
   "metadata": {
    "tags": []
   },
   "outputs": [],
   "source": [
    "# Display all results\n",
    "\n",
    "x = report\n",
    "x = x.drop(columns = ['Features', 'LR', 'Beta1', 'Beta2', 'Decay', 'Dropout', 'Gamma', 'Batch'])\n",
    "x = x.reset_index(drop = True)\n",
    "\n",
    "x['Params'] = x['Params'].str.replace('washburn-1', 'washburn')\n",
    "x['Params'] = x['Params'].str.replace('washburn-0', 'washburn')\n",
    "x['Params'] = x['Params'].str.replace('zrimec-0',   'zrimec')\n",
    "\n",
    "x.head(n = 10)"
   ]
  },
  {
   "cell_type": "markdown",
   "id": "324f98b9-4535-44a7-8b8d-248b12adaea0",
   "metadata": {},
   "source": [
    "## 3.2 Baseline"
   ]
  },
  {
   "cell_type": "code",
   "execution_count": null,
   "id": "d7c537f9-302b-4285-8879-af33f7490924",
   "metadata": {
    "tags": []
   },
   "outputs": [],
   "source": [
    "# Display the performance of the model with no features\n",
    "\n",
    "x = report\n",
    "x = x[x['Filter']   == 2]\n",
    "x = x[x['Features'] == 0]\n",
    "x = x[x['Params'].str.startswith('zrimec-0')]\n",
    "x = x.drop(columns = ['Features', 'LR', 'Beta1', 'Beta2', 'Decay', 'Dropout', 'Gamma', 'Batch'])\n",
    "x = x.reset_index(drop = True)\n",
    "\n",
    "x['Params'] = x['Params'].str.replace('zrimec-0', 'zrimec')\n",
    "\n",
    "x"
   ]
  },
  {
   "cell_type": "code",
   "execution_count": null,
   "id": "86db1818-ce21-4fd9-8b8f-f3a20bc23957",
   "metadata": {
    "tags": []
   },
   "outputs": [],
   "source": [
    "# Display the performance of the model with no features\n",
    "\n",
    "x = report\n",
    "x = x[x['Filter']   == 2]\n",
    "x = x[x['Features'] == 0]\n",
    "x = x[x['Params'].str.startswith('washburn-1')]\n",
    "x = x.drop(columns = ['Filter', 'Features', 'LR', 'Beta1', 'Beta2', 'Decay', 'Dropout', 'Gamma', 'Batch'])\n",
    "x = x.reset_index(drop = True)\n",
    "\n",
    "x['Params'] = x['Params'].str.replace('washburn-1', 'washburn')\n",
    "\n",
    "x"
   ]
  },
  {
   "cell_type": "code",
   "execution_count": null,
   "id": "ee593648-9d4a-4eac-bac1-1319e9723be6",
   "metadata": {
    "tags": []
   },
   "outputs": [],
   "source": [
    "# Display the performance of the model with no features\n",
    "\n",
    "x = report\n",
    "x = x[x['Filter']   == 2]\n",
    "x = x[x['Features'] == 0]\n",
    "x = x[x['Params'].str.startswith('zrimec-0') | x['Params'].str.startswith('washburn-1')]\n",
    "x = x.drop(columns = ['Features', 'LR', 'Beta1', 'Beta2', 'Decay', 'Dropout', 'Gamma', 'Batch'])\n",
    "x = x.reset_index(drop = True)\n",
    "\n",
    "x['Params'] = x['Params'].str.replace('washburn-1', 'washburn')\n",
    "x['Params'] = x['Params'].str.replace('zrimec-0',   'zrimec')\n",
    "\n",
    "x"
   ]
  },
  {
   "cell_type": "markdown",
   "id": "1290d7d8-6206-44ca-8b54-1c657880c88d",
   "metadata": {},
   "source": [
    "## 3.3 Filter"
   ]
  },
  {
   "cell_type": "code",
   "execution_count": null,
   "id": "f24ab4f8-a186-4448-9c55-b4226f453fcc",
   "metadata": {
    "tags": []
   },
   "outputs": [],
   "source": [
    "# Display the performance of the model with different filters\n",
    "\n",
    "x = report\n",
    "x = x[x['Sequence'] == 'transcript 2150 bp']\n",
    "x = x[x['Features'] != 0]\n",
    "x = x[x['Target']   == 'global-mean']\n",
    "x = x[x['Params'].str.startswith('zrimec-0')]\n",
    "x = x.drop(columns = ['Features', 'LR', 'Beta1', 'Beta2', 'Decay', 'Dropout', 'Gamma', 'Batch'])\n",
    "x = x.reset_index(drop = True)\n",
    "\n",
    "x['Params'] = x['Params'].str.replace('zrimec-0', 'zrimec')\n",
    "\n",
    "x"
   ]
  },
  {
   "cell_type": "code",
   "execution_count": null,
   "id": "2a9b48f9-6fbd-4a27-bfff-3c430e3b0a69",
   "metadata": {
    "tags": []
   },
   "outputs": [],
   "source": [
    "# Display the performance of the model with different filters\n",
    "\n",
    "x = report\n",
    "x = x[x['Sequence'] == 'transcript 2150 bp']\n",
    "x = x[x['Features'] != 0]\n",
    "x = x[x['Target']   == 'global-mean']\n",
    "x = x[x['Params'].str.startswith('washburn-1')]\n",
    "x = x.drop(columns = ['Features', 'LR', 'Beta1', 'Beta2', 'Decay', 'Dropout', 'Gamma', 'Batch'])\n",
    "x = x.reset_index(drop = True)\n",
    "\n",
    "x['Params'] = x['Params'].str.replace('washburn-1', 'washburn')\n",
    "\n",
    "x"
   ]
  },
  {
   "cell_type": "code",
   "execution_count": null,
   "id": "1f433b87-1908-45be-aa21-741ae1555423",
   "metadata": {
    "tags": []
   },
   "outputs": [],
   "source": [
    "# Display the performance of the model with different filters\n",
    "\n",
    "x = report\n",
    "x = x[x['Sequence'] == 'transcript 2150 bp']\n",
    "x = x[x['Features'] != 0]\n",
    "x = x[x['Target']   == 'global-mean']\n",
    "x = x[x['Params'].str.startswith('zrimec-0') | x['Params'].str.startswith('washburn-1')]\n",
    "x = x.drop(columns = ['Features', 'LR', 'Beta1', 'Beta2', 'Decay', 'Dropout', 'Gamma', 'Batch'])\n",
    "x = x.reset_index(drop = True)\n",
    "\n",
    "x['Params'] = x['Params'].str.replace('washburn-1', 'washburn')\n",
    "x['Params'] = x['Params'].str.replace('zrimec-0',   'zrimec')\n",
    "\n",
    "x"
   ]
  },
  {
   "cell_type": "markdown",
   "id": "dd602a2b-cdd6-4a64-82ab-1fbc0c84b328",
   "metadata": {},
   "source": [
    "## 3.4 Sequence"
   ]
  },
  {
   "cell_type": "code",
   "execution_count": null,
   "id": "9d990966-9101-497f-bff5-842fa31f1393",
   "metadata": {
    "tags": []
   },
   "outputs": [],
   "source": [
    "# Display the performance of the model with different input sequences\n",
    "\n",
    "x = report\n",
    "x = x[x['Filter']   == 2]\n",
    "x = x[x['Target']   == 'global-mean']\n",
    "x = x[x['Features'] != 0]\n",
    "x = x[x['Params'].str.startswith('zrimec-0')]\n",
    "x = x.drop(columns = ['Features', 'LR', 'Beta1', 'Beta2', 'Decay', 'Dropout', 'Gamma', 'Batch'])\n",
    "x = x.reset_index(drop = True)\n",
    "\n",
    "x['Params'] = x['Params'].str.replace('zrimec-0', 'zrimec')\n",
    "\n",
    "x"
   ]
  },
  {
   "cell_type": "code",
   "execution_count": null,
   "id": "9eede183-5505-4b18-aa82-b4fcb9390b22",
   "metadata": {
    "tags": []
   },
   "outputs": [],
   "source": [
    "# Display the performance of the model with different input sequences\n",
    "\n",
    "x = report\n",
    "x = x[x['Filter']   == 2]\n",
    "x = x[x['Target']   == 'global-mean']\n",
    "x = x[x['Features'] != 0]\n",
    "x = x[x['Params'].str.startswith('washburn-1')]\n",
    "x = x.drop(columns = ['Features', 'LR', 'Beta1', 'Beta2', 'Decay', 'Dropout', 'Gamma', 'Batch'])\n",
    "x = x.reset_index(drop = True)\n",
    "\n",
    "x['Params'] = x['Params'].str.replace('washburn-1', 'washburn')\n",
    "\n",
    "x"
   ]
  },
  {
   "cell_type": "code",
   "execution_count": null,
   "id": "c8cad77a-c094-43e9-a4e0-9c9ee109d382",
   "metadata": {
    "tags": []
   },
   "outputs": [],
   "source": [
    "# Display the performance of the model with different input sequences\n",
    "\n",
    "x = report\n",
    "x = x[x['Filter']   == 2]\n",
    "x = x[x['Target']   == 'global-mean']\n",
    "x = x[x['Features'] != 0]\n",
    "x = x[x['Params'].str.startswith('zrimec-0') | x['Params'].str.startswith('washburn-1')]\n",
    "x = x.drop(columns = ['Features', 'LR', 'Beta1', 'Beta2', 'Decay', 'Dropout', 'Gamma', 'Batch'])\n",
    "x = x.reset_index(drop = True)\n",
    "\n",
    "x['Params'] = x['Params'].str.replace('washburn-1', 'washburn')\n",
    "x['Params'] = x['Params'].str.replace('zrimec-0',   'zrimec')\n",
    "\n",
    "x"
   ]
  },
  {
   "cell_type": "markdown",
   "id": "0d883d9c-763c-4bc2-b47f-6daf975ef728",
   "metadata": {},
   "source": [
    "## 3.5 Zrimec"
   ]
  },
  {
   "cell_type": "code",
   "execution_count": null,
   "id": "7b601940-ebb0-4985-b577-9a952b2d3f9f",
   "metadata": {
    "tags": []
   },
   "outputs": [],
   "source": [
    "# Display the performance of the model for the specific architecture\n",
    "\n",
    "x = report\n",
    "x = x[x['Features'] != 0]\n",
    "x = x[x['Params'].str.startswith('zrimec-0')]\n",
    "x = x.drop(columns = ['Features', 'LR', 'Beta1', 'Beta2', 'Decay', 'Dropout', 'Gamma', 'Batch'])\n",
    "x = x.reset_index(drop = True)\n",
    "x = x.head(n = 10)\n",
    "\n",
    "x"
   ]
  },
  {
   "cell_type": "markdown",
   "id": "534a148b-6d5b-4ae1-8c98-a44ee2e7cab4",
   "metadata": {},
   "source": [
    "## 3.6 Washburn"
   ]
  },
  {
   "cell_type": "code",
   "execution_count": null,
   "id": "f5908ee8-7d53-4901-8541-2fe2e637b418",
   "metadata": {
    "tags": []
   },
   "outputs": [],
   "source": [
    "# Display the performance of the model for the specific architecture\n",
    "\n",
    "x = report\n",
    "x = x[x['Features'] != 0]\n",
    "x = x[x['Params'].str.startswith('washburn')]\n",
    "x = x.drop(columns = ['Features', 'LR', 'Beta1', 'Beta2', 'Decay', 'Dropout', 'Gamma', 'Batch'])\n",
    "x = x.reset_index(drop = True)\n",
    "\n",
    "x"
   ]
  },
  {
   "cell_type": "markdown",
   "id": "3e26c715-5d2b-475f-aa42-764d7414dc17",
   "metadata": {},
   "source": [
    "# 4. Model FC"
   ]
  },
  {
   "cell_type": "code",
   "execution_count": null,
   "id": "731d7b4a-6d76-4673-b93e-962f40bd29e5",
   "metadata": {
    "tags": []
   },
   "outputs": [],
   "source": [
    "# Load fc model reports\n",
    "\n",
    "report_fc_model = report_load.load_fc_reports(\n",
    "\troot = ROOT_DIR\n",
    ")"
   ]
  },
  {
   "cell_type": "markdown",
   "id": "9e9cab14-f553-4114-ba53-f71c08b9823b",
   "metadata": {},
   "source": [
    "## 4.1 All"
   ]
  },
  {
   "cell_type": "code",
   "execution_count": null,
   "id": "54cc8ef8-e401-44d5-bbe2-624866c7ecf8",
   "metadata": {
    "tags": []
   },
   "outputs": [],
   "source": [
    "# Display the performance of the model for only features\n",
    "\n",
    "report = report_fc_model['regression']\n",
    "\n",
    "if len(report) > 0 :\n",
    "\treport['Target'] = report[['Target0', 'Target1', 'Target2']].agg(lambda x : '-'.join(x.dropna()), axis = 1)\n",
    "\treport['Params'] = report[['Model', 'Param']].agg(lambda x : '-'.join([str(i) for i in x]), axis = 1)\n",
    "\n",
    "\told_cols = report.columns.tolist()\n",
    "\tnew_cols = old_cols[-2:] + old_cols[:-2]\n",
    "\treport = report[new_cols]\n",
    "\n",
    "\treport = report.copy()\n",
    "\treport.insert(2, 'Sequence', 'none')\n",
    "\n",
    "\treport['Filter']   = report['Filter'].replace('f1', '1')\n",
    "\treport['Filter']   = report['Filter'].replace('f2', '2')\n",
    "\treport['Filter']   = report['Filter'].replace('f3', '3')\n",
    "\treport['Filter']   = report['Filter'].replace('f4', '4')\n",
    "\treport['Filter']   = report['Filter'].replace('f5', '5')\n",
    "\treport['Filter']   = report['Filter'].replace('f6', '6')\n",
    "\treport['Filter']   = report['Filter'].astype(int)\n",
    "\n",
    "\treport = report.reset_index(drop = True)\n",
    "\treport = report.drop(columns = ['Target0', 'Target1', 'Target2', 'Arch', 'Model', 'Param', 'Epochs'])\n",
    "\n",
    "report.head(n = 10)"
   ]
  },
  {
   "cell_type": "code",
   "execution_count": null,
   "id": "b1995317-9a01-42ba-aa9f-3b60fd2aef71",
   "metadata": {
    "tags": []
   },
   "outputs": [],
   "source": [
    "# Display the performance of the model for the specific architecture\n",
    "\n",
    "x = report\n",
    "x = x[x['Params'].str.startswith('zrimec-0') | x['Params'].str.startswith('washburn-1')]\n",
    "x = x.drop(columns = ['FC1', 'FC2', 'Batch', 'Optimizer', 'Scheduler', 'LR', 'Beta1', 'Beta2', 'Decay', 'Dropout', 'Gamma', 'Batch'])\n",
    "x = x.reset_index(drop = True)\n",
    "\n",
    "x['Params'] = x['Params'].str.replace('washburn-1', 'washburn')\n",
    "x['Params'] = x['Params'].str.replace('zrimec-0',   'zrimec')\n",
    "\n",
    "x"
   ]
  },
  {
   "cell_type": "markdown",
   "id": "ba2d4d8b-2c26-4a2f-b28a-45824754972d",
   "metadata": {
    "execution": {
     "iopub.execute_input": "2023-08-14T09:21:42.395737Z",
     "iopub.status.busy": "2023-08-14T09:21:42.395236Z",
     "iopub.status.idle": "2023-08-14T09:21:42.403243Z",
     "shell.execute_reply": "2023-08-14T09:21:42.402243Z",
     "shell.execute_reply.started": "2023-08-14T09:21:42.395737Z"
    }
   },
   "source": [
    "## 4.2 Zrimec"
   ]
  },
  {
   "cell_type": "code",
   "execution_count": null,
   "id": "d7c76353-2e81-4a86-9303-5266872bd5ff",
   "metadata": {
    "tags": []
   },
   "outputs": [],
   "source": [
    "# Display the performance of the model for the specific architecture\n",
    "\n",
    "x = report\n",
    "x = x[x['Params'].str.startswith('zrimec-0')]\n",
    "x = x.drop(columns = ['FC1', 'FC2', 'Batch', 'Optimizer', 'Scheduler', 'LR', 'Beta1', 'Beta2', 'Decay', 'Dropout', 'Gamma', 'Batch'])\n",
    "x = x.reset_index(drop = True)\n",
    "\n",
    "x['Params'] = x['Params'].str.replace('zrimec-0', 'zrimec')\n",
    "\n",
    "x"
   ]
  },
  {
   "cell_type": "markdown",
   "id": "ab1d1a18-aff4-476d-ae97-e9f82bf1aa29",
   "metadata": {},
   "source": [
    "## 4.3 Washburn"
   ]
  },
  {
   "cell_type": "code",
   "execution_count": null,
   "id": "2fb86471-4c92-4363-84fa-b476a4b06f87",
   "metadata": {
    "tags": []
   },
   "outputs": [],
   "source": [
    "# Display the performance of the model for the specific architecture\n",
    "\n",
    "x = report\n",
    "x = x[x['Params'].str.startswith('washburn-1')]\n",
    "x = x.drop(columns = ['FC1', 'FC2', 'Batch', 'Optimizer', 'Scheduler', 'LR', 'Beta1', 'Beta2', 'Decay', 'Dropout', 'Gamma', 'Batch'])\n",
    "x = x.reset_index(drop = True)\n",
    "\n",
    "x['Params'] = x['Params'].str.replace('washburn-1', 'washburn')\n",
    "\n",
    "x"
   ]
  },
  {
   "cell_type": "markdown",
   "id": "7fdf7a48-5a21-4ce6-b3b9-9c94e1ac7754",
   "metadata": {},
   "source": [
    "# 5. BERT"
   ]
  },
  {
   "cell_type": "code",
   "execution_count": null,
   "id": "a5066752-2b54-4115-ae92-e65df63d9b2f",
   "metadata": {},
   "outputs": [],
   "source": [
    "# Approximate value used for non-explode reports (512 x 32 = 16384)\n",
    "\n",
    "STEPS_PER_EPOCH = 512\n",
    "LINEWIDTH       = 2\n",
    "ALPHA           = 0.8\n",
    "FONT_SCALE      = 3.0\n",
    "\n",
    "matplotlib.rcParams.update({'font.size' : int(12 * FONT_SCALE)})\n",
    "seaborn.set_theme(font_scale = FONT_SCALE)"
   ]
  },
  {
   "cell_type": "code",
   "execution_count": null,
   "id": "64533dc0-a020-4d1f-baf9-e4f97ee067be",
   "metadata": {
    "tags": []
   },
   "outputs": [],
   "source": [
    "# Load bert model reports\n",
    "\n",
    "report_bert_model = report_load.load_bert_reports(\n",
    "\troot = ROOT_DIR,\n",
    "\tshow = False\n",
    ")"
   ]
  },
  {
   "cell_type": "markdown",
   "id": "f92f76a3-fc8d-439f-9655-199282f5750e",
   "metadata": {},
   "source": [
    "## 5.1 All"
   ]
  },
  {
   "cell_type": "code",
   "execution_count": null,
   "id": "e36e7385-b8c0-4d33-966e-ccdd1c69c562",
   "metadata": {
    "tags": []
   },
   "outputs": [],
   "source": [
    "# Concat reports and display top few\n",
    "\n",
    "report = report_concat.concat_bert_reports(\n",
    "\tdata            = report_bert_model,\n",
    "\tmode            = 'regression',\n",
    "\tmetric          = 'eval_r2',\n",
    "\tascending       = False,\n",
    "\tsteps_per_epoch = STEPS_PER_EPOCH\n",
    ")\n",
    "\n",
    "if report is not None :\n",
    "\tto_str = lambda x : x if len(x) == 5 else ' {}'.format(x)\n",
    "\n",
    "\treport['Target'] = report[['Target0', 'Target1', 'Target2']].agg(lambda x : '-'.join(x.dropna()), axis = 1)\n",
    "\n",
    "\told_cols = report.columns.tolist()\n",
    "\tnew_cols = old_cols[-1:] + old_cols[:-1]\n",
    "\treport = report[new_cols]\n",
    "\n",
    "\treport['Pooler'] = report['Pooler'].replace('def', 'first')\n",
    "\treport['Pooler'] = report['Pooler'].replace('dna', 'mean')\n",
    "\n",
    "\treport['Sequence'] = report['Sequence'].replace('tf2150', 'transcript 2150 bp')\n",
    "\treport['Sequence'] = report['Sequence'].replace('tf6150', 'transcript 6150 bp')\n",
    "\treport['Sequence'] = report['Sequence'].replace('po0512', 'promoter 512 bp')\n",
    "\treport['Sequence'] = report['Sequence'].replace('po4096', 'promoter 4096 bp')\n",
    "\treport['Sequence'] = report['Sequence'].replace('po5000', 'promoter 5000 bp')\n",
    "\treport['Sequence'] = report['Sequence'].replace('pu4096', 'promoter + 5\\'utr 4096 bp')\n",
    "\treport['Sequence'] = report['Sequence'].replace('pu5000', 'promoter + 5\\'utr 5000 bp')\n",
    "\treport['Filter'] = report['Filter'].replace('f1', 1)\n",
    "\treport['Filter'] = report['Filter'].replace('f2', 2)\n",
    "\treport['Filter'] = report['Filter'].replace('f3', 3)\n",
    "\treport['Filter'] = report['Filter'].replace('f4', 4)\n",
    "\treport['Filter'] = report['Filter'].replace('f5', 5)\n",
    "\treport['Filter'] = report['Filter'].replace('f6', 6)\n",
    "\treport['Filter'] = report['Filter'].astype(int)\n",
    "\n",
    "\treport = report.rename(columns = {\n",
    "\t\t'Eval_R2' : 'R2',\n",
    "\t\t'Kmer'    : 'KMer'\n",
    "\t})\n",
    "\n",
    "\treport = report.drop(columns = ['Target0', 'Target1', 'Target2', 'Mode', 'Arch', 'LR', 'Steps', 'Step', 'Eval_ME', 'Eval_MAPE', 'Eval_MAE'])\n",
    "\treport = report.reset_index(drop = True)\n",
    "\treport = report[['Target', 'Pooler', 'Type', 'Layer', 'KMer', 'Feature', 'Filter', 'Sequence', 'Epoch', 'Epochs', 'R2']]\n",
    "\n",
    "report.head(n = 10)"
   ]
  },
  {
   "cell_type": "markdown",
   "id": "5feabdaf-b570-4265-8f81-775f93ea88d2",
   "metadata": {},
   "source": [
    "## 5.2 Baseline"
   ]
  },
  {
   "cell_type": "code",
   "execution_count": null,
   "id": "baa5f8cf-b580-4ae4-8a6f-10d6237259e0",
   "metadata": {
    "tags": []
   },
   "outputs": [],
   "source": [
    "# Display the performance of the model with no features\n",
    "\n",
    "x = report\n",
    "x = x[x['KMer']     == 3]\n",
    "x = x[x['Filter']   == 2]\n",
    "x = x[x['Feature']  == 0]\n",
    "x = x.drop(columns = ['Layer', 'Feature'])\n",
    "x = x.reset_index(drop = True)\n",
    "\n",
    "x"
   ]
  },
  {
   "cell_type": "code",
   "execution_count": null,
   "id": "b48fdc0d-c511-4dde-8358-c7dbefd02dc2",
   "metadata": {},
   "outputs": [],
   "source": [
    "# Plot baseline\n",
    "\n",
    "report_plot.models_bert_r2(\n",
    "\tdata = report_filter.filter_bert_reports(\n",
    "\t\treports = report_bert_model,\n",
    "\t\tkeep_only = ['global-mean', 'rnn', '-3-', '00'],\n",
    "\t\tdrop_only = []\n",
    "\t),\n",
    "\tmode            = 'regression',\n",
    "\tstep            = 'epoch',\n",
    "\tsteps_min       = int(  2 * STEPS_PER_EPOCH),\n",
    "\tsteps_max       = int(150 * STEPS_PER_EPOCH),\n",
    "\tsteps_per_epoch = STEPS_PER_EPOCH,\n",
    "\talpha           = ALPHA,\n",
    "\tlinewidth       = LINEWIDTH,\n",
    "\tgroupby         = 'none',\n",
    "\tstyle           = 'sequence',\n",
    "\tfilename        = os.path.join(DATA_DIR, 'bert-baseline-sequence')\n",
    ")"
   ]
  },
  {
   "cell_type": "markdown",
   "id": "af216b38-c843-47d2-9bb5-20349ff84f92",
   "metadata": {},
   "source": [
    "## 5.3 K-Mer"
   ]
  },
  {
   "cell_type": "code",
   "execution_count": null,
   "id": "b29280b1-067c-4798-8819-a4fcd52034d7",
   "metadata": {
    "tags": []
   },
   "outputs": [],
   "source": [
    "# Display the performance of the model for the different kmers\n",
    "\n",
    "x = report\n",
    "x = x[x['Pooler']   == 'first']\n",
    "x = x[x['Type']     == 'def']\n",
    "x = x[x['Filter']   == 2]\n",
    "x = x[x['Feature']  != 0]\n",
    "x = x[x['Sequence'] == 'promoter 512 bp']\n",
    "x = x[x['Target']   == 'global-mean']\n",
    "x = x.drop(columns = ['Layer', 'Feature'])\n",
    "x = x.reset_index(drop = True)\n",
    "\n",
    "x"
   ]
  },
  {
   "cell_type": "code",
   "execution_count": null,
   "id": "6e2cade0-bd3c-4946-b91b-2d04d58718f9",
   "metadata": {},
   "outputs": [],
   "source": [
    "# Plot kmer\n",
    "\n",
    "report_plot.models_bert_r2(\n",
    "\tdata = report_filter.filter_bert_reports(\n",
    "\t\treports = report_bert_model,\n",
    "\t\tkeep_only = ['global-mean', 'f2', 'v1', 'def'],\n",
    "\t\tdrop_only = ['00']\n",
    "\t),\n",
    "\tmode            = 'regression',\n",
    "\tstep            = 'epoch',\n",
    "\tsteps_min       = int(  5 * STEPS_PER_EPOCH),\n",
    "\tsteps_max       = int(250 * STEPS_PER_EPOCH),\n",
    "\tsteps_per_epoch = STEPS_PER_EPOCH,\n",
    "\talpha           = ALPHA,\n",
    "\tlinewidth       = LINEWIDTH,\n",
    "\tgroupby         = 'none',\n",
    "\tstyle           = 'kmer',\n",
    "\tfilename        = os.path.join(DATA_DIR, 'bert-kmer')\n",
    ")"
   ]
  },
  {
   "cell_type": "markdown",
   "id": "abcd6bb6-8870-46f5-93da-41127c525e1e",
   "metadata": {},
   "source": [
    "## 5.4 Filter"
   ]
  },
  {
   "cell_type": "code",
   "execution_count": null,
   "id": "36c2f235-9d7c-41bd-8f0a-0caeda45a1b8",
   "metadata": {
    "tags": []
   },
   "outputs": [],
   "source": [
    "# Display the performance of the model for the different filters\n",
    "\n",
    "x = report\n",
    "x = x[x['Pooler']   == 'first']\n",
    "x = x[x['Type']     == 'def']\n",
    "x = x[x['KMer']     == 3]\n",
    "x = x[x['Feature']  != 0]\n",
    "x = x[x['Sequence'] == 'promoter 512 bp']\n",
    "x = x[x['Target']   == 'global-mean']\n",
    "x = x.drop(columns = ['Layer', 'Feature'])\n",
    "x = x.reset_index(drop = True)\n",
    "\n",
    "x"
   ]
  },
  {
   "cell_type": "code",
   "execution_count": null,
   "id": "d9583a38-9a71-41aa-8c08-c3dffddcb671",
   "metadata": {
    "tags": []
   },
   "outputs": [],
   "source": [
    "# Plot filter\n",
    "\n",
    "report_plot.models_bert_r2(\n",
    "\tdata = report_filter.filter_bert_reports(\n",
    "\t\treports = report_bert_model,\n",
    "\t\tkeep_only = ['global-mean', '-3-', 'v1', 'def'],\n",
    "\t\tdrop_only = ['00']\n",
    "\t),\n",
    "\tmode            = 'regression',\n",
    "\tstep            = 'epoch',\n",
    "\tsteps_min       = int(  5 * STEPS_PER_EPOCH),\n",
    "\tsteps_max       = int(250 * STEPS_PER_EPOCH),\n",
    "\tsteps_per_epoch = STEPS_PER_EPOCH,\n",
    "\talpha           = ALPHA,\n",
    "\tlinewidth       = LINEWIDTH,\n",
    "\tgroupby         = 'none',\n",
    "\tstyle           = 'filter',\n",
    "\tfilename        = os.path.join(DATA_DIR, 'bert-filter')\n",
    ")"
   ]
  },
  {
   "cell_type": "markdown",
   "id": "b1861ba6-30aa-4ea3-8cde-cd2f2c65a509",
   "metadata": {},
   "source": [
    "## 5.5 Pooler"
   ]
  },
  {
   "cell_type": "code",
   "execution_count": null,
   "id": "64c32258-383c-4fd9-9388-aeb0ae2719dc",
   "metadata": {
    "tags": []
   },
   "outputs": [],
   "source": [
    "# Display the performance of the model for the different poolers\n",
    "\n",
    "x = report\n",
    "x = x[x['KMer']     == 3]\n",
    "x = x[x['Filter']   == 2]\n",
    "x = x[x['Feature']  != 0]\n",
    "x = x[x['Sequence'] == 'promoter 512 bp']\n",
    "x = x[x['Target']   == 'global-mean']\n",
    "x = x.drop(columns = ['Layer', 'Feature'])\n",
    "x = x.reset_index(drop = True)\n",
    "\n",
    "x"
   ]
  },
  {
   "cell_type": "code",
   "execution_count": null,
   "id": "e2061d43-a933-4abb-9a9d-839236315160",
   "metadata": {
    "tags": []
   },
   "outputs": [],
   "source": [
    "# Plot architecture\n",
    "\n",
    "report_plot.models_bert_r2(\n",
    "\tdata = report_filter.filter_bert_reports(\n",
    "\t\treports = report_bert_model,\n",
    "\t\tkeep_only = ['global-mean', '-3-', 'f2', 'po0512'],\n",
    "\t\tdrop_only = ['00']\n",
    "\t),\n",
    "\tmode            = 'regression',\n",
    "\tstep            = 'epoch',\n",
    "\tsteps_min       = int(  5 * STEPS_PER_EPOCH),\n",
    "\tsteps_max       = int(250 * STEPS_PER_EPOCH),\n",
    "\tsteps_per_epoch = STEPS_PER_EPOCH,\n",
    "\talpha           = ALPHA,\n",
    "\tlinewidth       = LINEWIDTH,\n",
    "\tgroupby         = 'none',\n",
    "\tstyle           = 'pooler-architecture',\n",
    "\tfilename        = os.path.join(DATA_DIR, 'bert-pooler')\n",
    ")"
   ]
  },
  {
   "cell_type": "markdown",
   "id": "f7a7283b-1e62-4a05-a4b1-696190ef65dd",
   "metadata": {},
   "source": [
    "## 5.6 Sequence"
   ]
  },
  {
   "cell_type": "code",
   "execution_count": null,
   "id": "52327c3a-d63f-46a2-83b5-bfb8c8315be5",
   "metadata": {
    "tags": []
   },
   "outputs": [],
   "source": [
    "# Display the performance of the model for the different input sequences\n",
    "\n",
    "x = report\n",
    "x = x[x['Pooler']   == 'first']\n",
    "x = x[x['Type']     == 'rnn']\n",
    "x = x[x['KMer']     == 3]\n",
    "x = x[x['Filter']   == 2]\n",
    "x = x[x['Feature']  != 0]\n",
    "x = x[x['Target']   == 'global-mean']\n",
    "x = x.drop(columns = ['Layer', 'Feature'])\n",
    "x = x.reset_index(drop = True)\n",
    "\n",
    "x"
   ]
  },
  {
   "cell_type": "code",
   "execution_count": null,
   "id": "6bfb445d-aaa2-4d68-a80f-8a5209da4959",
   "metadata": {
    "tags": []
   },
   "outputs": [],
   "source": [
    "# Plot sequence\n",
    "\n",
    "report_plot.models_bert_r2(\n",
    "\tdata = report_filter.filter_bert_reports(\n",
    "\t\treports = report_bert_model,\n",
    "\t\tkeep_only = ['global-mean', '-3-', 'f2', 'v1', 'rnn'],\n",
    "\t\tdrop_only = ['00']\n",
    "\t),\n",
    "\tmode            = 'regression',\n",
    "\tstep            = 'epoch',\n",
    "\tsteps_min       = int(  5 * STEPS_PER_EPOCH),\n",
    "\tsteps_max       = int(250 * STEPS_PER_EPOCH),\n",
    "\tsteps_per_epoch = STEPS_PER_EPOCH,\n",
    "\talpha           = ALPHA,\n",
    "\tlinewidth       = LINEWIDTH,\n",
    "\tgroupby         = 'none',\n",
    "\tstyle           = 'sequence',\n",
    "\tfilename        = os.path.join(DATA_DIR, 'bert-sequence')\n",
    ")"
   ]
  },
  {
   "cell_type": "markdown",
   "id": "2d0d1399-ee20-4892-bb34-fddc16f24987",
   "metadata": {},
   "source": [
    "## 5.7 Final"
   ]
  },
  {
   "cell_type": "code",
   "execution_count": null,
   "id": "e4bdd2ea-f128-4d7e-9c1b-47402e3c9cb4",
   "metadata": {
    "tags": []
   },
   "outputs": [],
   "source": [
    "# Display the performance of the model\n",
    "\n",
    "x = report\n",
    "x = x[x['KMer']     == 3]\n",
    "x = x[x['Feature']  != 0]\n",
    "x = x[x['Pooler']   == 'first']\n",
    "x = x[x['Type']     == 'rnn']\n",
    "x = x[x['Target']   != 'tissue-mean-seedling']\n",
    "x = x.drop(columns = ['Layer', 'Feature'])\n",
    "x = x.reset_index(drop = True)\n",
    "\n",
    "x.head(n = 10)"
   ]
  }
 ],
 "metadata": {
  "kernelspec": {
   "display_name": "Python 3 (ipykernel)",
   "language": "python",
   "name": "python3"
  },
  "language_info": {
   "codemirror_mode": {
    "name": "ipython",
    "version": 3
   },
   "file_extension": ".py",
   "mimetype": "text/x-python",
   "name": "python",
   "nbconvert_exporter": "python",
   "pygments_lexer": "ipython3",
   "version": "3.10.7"
  }
 },
 "nbformat": 4,
 "nbformat_minor": 5
}
