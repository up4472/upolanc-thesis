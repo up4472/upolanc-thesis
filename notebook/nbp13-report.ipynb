{
 "cells": [
  {
   "cell_type": "code",
   "execution_count": null,
   "id": "0d486dba-3cb7-4e1c-98e4-ecf2457d8670",
   "metadata": {
    "tags": []
   },
   "outputs": [],
   "source": [
    "# Libraries\n",
    "\n",
    "import os\n",
    "import platform\n",
    "import sys"
   ]
  },
  {
   "cell_type": "code",
   "execution_count": null,
   "id": "a23fbf92-81ae-4a39-929c-cedd7c7c2724",
   "metadata": {
    "tags": []
   },
   "outputs": [],
   "source": [
    "# Ensure source path\n",
    "\n",
    "ROOT = os.getcwd()\n",
    "\n",
    "while not ROOT.endswith('upolanc-thesis') :\n",
    "\tROOT = os.path.abspath(os.path.join(ROOT, os.pardir))\n",
    "\n",
    "\tif len(ROOT) < len('upolanc-thesis') :\n",
    "\t\tif   platform.system() == 'Linux'   : ROOT = '/d/hpc/projects/FRI/up4472/upolanc-thesis'\n",
    "\t\telif platform.system() == 'Windows' : ROOT = 'C:\\\\Developer\\\\Workspace\\\\PyCharm\\\\Projects\\\\upolanc-thesis'\n",
    "\t\telse : raise ValueError()\n",
    "\n",
    "\t\tprint(f'Warning : could not find correct directory, using default : {ROOT}')\n",
    "\t\tprint()\n",
    "\n",
    "\t\tbreak\n",
    "\n",
    "if ROOT not in sys.path :\n",
    "\tsys.path.append(ROOT)\n",
    "\n",
    "os.chdir(ROOT)"
   ]
  },
  {
   "cell_type": "code",
   "execution_count": null,
   "id": "be968fd0-6929-4317-abad-5378da344ca8",
   "metadata": {
    "tags": []
   },
   "outputs": [],
   "source": [
    "# Code\n",
    "\n",
    "from source.python.report import report_load\n",
    "from source.python.report import report_concat\n",
    "from source.python.report import report_filter\n",
    "from source.python.report import report_plot\n",
    "from source.python.io     import loader\n",
    "from source.python.io     import writer\n",
    "from source.python        import runtime\n",
    "\n",
    "runtime.set_numpy_format()\n",
    "runtime.set_pandas_format()\n",
    "runtime.set_plot_theme()"
   ]
  },
  {
   "cell_type": "code",
   "execution_count": null,
   "id": "ec2b7a49-3443-43c4-9ca4-d98bdc55940a",
   "metadata": {
    "tags": []
   },
   "outputs": [],
   "source": [
    "# List reports folder content\n",
    "\n",
    "ROOT_DIR = os.path.join(ROOT, 'reports', '2023-06-13')\n",
    "\n",
    "for index, name in enumerate(os.listdir(ROOT_DIR), start = 0) :\n",
    "\tpath_l0 = os.path.join(ROOT_DIR, name)\n",
    "\n",
    "\tif index == 0 : print('{} :'.format(path_l0))\n",
    "\telse          : print('\\n{} :'.format(path_l0))\n",
    "\n",
    "\tfor name in os.listdir(path_l0) :\n",
    "\t\tprint('...\\\\{}'.format(name))\n",
    "\n",
    "\tprint()"
   ]
  },
  {
   "cell_type": "code",
   "execution_count": null,
   "id": "4ac82ee2-068d-4e31-9c66-6f0bb4ec32bc",
   "metadata": {
    "tags": []
   },
   "outputs": [],
   "source": [
    "# Load existing configurations\n",
    "\n",
    "CONFIG_DIR = os.path.join(ROOT, 'resources', 'tuner')\n",
    "\n",
    "ZCONFIG_PATH = os.path.join(CONFIG_DIR, 'zrimec.json')\n",
    "WCONFIG_PATH = os.path.join(CONFIG_DIR, 'washburn.json')\n",
    "\n",
    "ZCONFIG = list()\n",
    "WCONFIG = list()\n",
    "\n",
    "CONFIG_MAX       = 100\n",
    "CONFIG_BEST      = 10\n",
    "CONFIG_OVERWRITE = True\n",
    "CONFIG_EXTEND    = False\n",
    "\n",
    "if os.path.exists(ZCONFIG_PATH) and CONFIG_EXTEND :\n",
    "\tZCONFIG = loader.load_json(filename = ZCONFIG_PATH)\n",
    "\n",
    "\tprint('Sucessufully loaded configuration [{:88s}] with [{:2d}] elements'.format(ZCONFIG_PATH, len(ZCONFIG)))\n",
    "\tprint()\n",
    "\n",
    "if os.path.exists(WCONFIG_PATH) and CONFIG_EXTEND :\n",
    "\tWCONFIG = loader.load_json(filename = WCONFIG_PATH)\n",
    "\n",
    "\tprint('Sucessufully loader configuration [{:88s}] with [{:2d}] elements'.format(WCONFIG_PATH, len(WCONFIG)))\n",
    "\tprint()"
   ]
  },
  {
   "cell_type": "markdown",
   "id": "0a6d31f9-987b-4f4d-a07e-395582d75a66",
   "metadata": {},
   "source": [
    "# 1. Tuner"
   ]
  },
  {
   "cell_type": "markdown",
   "id": "6eaaedb9-829b-4f29-a9a8-296a4b15b0cb",
   "metadata": {},
   "source": [
    "## 1.1 Model"
   ]
  },
  {
   "cell_type": "code",
   "execution_count": null,
   "id": "f25d6142-bf4f-4f68-8e48-d4dadced2280",
   "metadata": {
    "tags": []
   },
   "outputs": [],
   "source": [
    "# Load tune model reports\n",
    "\n",
    "report_tune_model = report_load.load_cnn_tune_reports(\n",
    "\troot = ROOT_DIR,\n",
    "\tshow = False,\n",
    "\tn    = 5\n",
    ")"
   ]
  },
  {
   "cell_type": "markdown",
   "id": "4c297cb1-bcea-4013-8ebb-c7c33fb674a8",
   "metadata": {},
   "source": [
    "### 1.1.1 Regression"
   ]
  },
  {
   "cell_type": "code",
   "execution_count": null,
   "id": "db48eb97-ea0c-421f-aeba-f87a0f6d865a",
   "metadata": {},
   "outputs": [],
   "source": [
    "# Display overall regression prediction\n",
    "\n",
    "R2_THRESHOLD = 0.00\n",
    "\n",
    "for key, dataframe in report_tune_model['regression'].items() :\n",
    "\tnan_mse = dataframe['valid_loss'].isnull().values.ravel().sum()\n",
    "\tpos_r2  = dataframe[dataframe['valid_r2'] > R2_THRESHOLD]['valid_r2'].count()\n",
    "\tneg_r2  = dataframe[dataframe['valid_r2'] < R2_THRESHOLD]['valid_r2'].count()\n",
    "\n",
    "\tprint('{:64s} : Size = {:4d} || NaN Loss = {:4d} || Pos R2 = {:4d} || Neg R2 = {:4d}'.format(key, len(dataframe), nan_mse, pos_r2, neg_r2))\n",
    "\n",
    "print()"
   ]
  },
  {
   "cell_type": "code",
   "execution_count": null,
   "id": "7c192101-eec9-48d6-b6f1-1e0ab1a4f7d8",
   "metadata": {},
   "outputs": [],
   "source": [
    "# Concat reports and display top few\n",
    "\n",
    "report = report_concat.concat_cnn_tune_reports(\n",
    "\treports = report_tune_model,\n",
    "\tmode    = 'regression',\n",
    "\tn       = None\n",
    ")\n",
    "\n",
    "if report is not None :\n",
    "\treport = report.head(n = 25)\n",
    "\n",
    "report"
   ]
  },
  {
   "cell_type": "code",
   "execution_count": null,
   "id": "fcd6c952-6b90-4db2-896d-ffec7e316604",
   "metadata": {
    "tags": []
   },
   "outputs": [],
   "source": [
    "# Save top model configurations (to same format as model params)\n",
    "\n",
    "for key in report_tune_model['regression'].keys() :\n",
    "\tdf = report_tune_model['regression'][key]\n",
    "\tdf = df.sort_values('valid_r2', ascending = False)\n",
    "\n",
    "\tif   key.startswith('zrimec')   : config = ZCONFIG\n",
    "\telif key.startswith('washburn') : config = WCONFIG\n",
    "\telse : raise ValueError()\n",
    "\n",
    "\tif   key.startswith('zrimec')   : layers = [3, 3]\n",
    "\telif key.startswith('washburn') : layers = [6, 3]\n",
    "\telse : raise ValueError()\n",
    "\n",
    "\tfor i in range(CONFIG_BEST) :\n",
    "\t\titem = {\n",
    "\t\t\t'id' : 'id'\n",
    "\t\t}\n",
    "\n",
    "\t\ttemp = df.iloc[i, :].to_dict()\n",
    "\n",
    "\t\tif 'trial_id' in temp.keys() :\n",
    "\t\t\titem['id'] = item['id'] + '_{:s}'.format(temp['trial_id'])\n",
    "\n",
    "\t\tif 'pid' in temp.keys() :\n",
    "\t\t\titem['id'] = item['id'] + '_{:d}'.format(temp['pid'])\n",
    "\n",
    "\t\tfor k, v in temp.items() :\n",
    "\t\t\tif   k.startswith('valid')  : pass\n",
    "\t\t\telif k.startswith('train')  : pass\n",
    "\t\t\telif k.startswith('config') : k = k[7:]\n",
    "\t\t\telse : continue\n",
    "\n",
    "\t\t\tif k.startswith('model/convx/') :\n",
    "\t\t\t\tfor i in range(2, layers[0] + 1) :\n",
    "\t\t\t\t\toldkey = 'x/'\n",
    "\t\t\t\t\tnewkey = str(i) + '/'\n",
    "\n",
    "\t\t\t\t\titem[k.replace(oldkey, newkey)] = v\n",
    "\n",
    "\t\t\telif k.startswith('model/maxpoolx/') :\n",
    "\t\t\t\tfor i in range(1, layers[1] + 1) :\n",
    "\t\t\t\t\toldkey = 'x/'\n",
    "\t\t\t\t\tnewkey = str(i) + '/'\n",
    "\n",
    "\t\t\t\t\titem[k.replace(oldkey, newkey)] = v\n",
    "\n",
    "\t\t\telse :\n",
    "\t\t\t\titem[k] = v\n",
    "\n",
    "\n",
    "\t\tconfig.append(item)\n",
    "\n",
    "ZCONFIG = sorted(ZCONFIG, key = lambda x : x['valid_r2'], reverse = True)\n",
    "WCONFIG = sorted(WCONFIG, key = lambda x : x['valid_r2'], reverse = True)\n",
    "\n",
    "ZCONFIG = ZCONFIG[:CONFIG_MAX]\n",
    "WCONFIG = WCONFIG[:CONFIG_MAX]\n",
    "\n",
    "if CONFIG_OVERWRITE :\n",
    "\tif len(ZCONFIG) > 0 : writer.write_json(filename = ZCONFIG_PATH, data = ZCONFIG)\n",
    "\tif len(WCONFIG) > 0 : writer.write_json(filename = WCONFIG_PATH, data = WCONFIG)"
   ]
  },
  {
   "cell_type": "markdown",
   "id": "6f78b5ce-aaef-4879-a6a6-7dc299a4b0df",
   "metadata": {},
   "source": [
    "### 1.1.2 Classification"
   ]
  },
  {
   "cell_type": "code",
   "execution_count": null,
   "id": "4a107a86-f12c-4446-b876-76645275e5b1",
   "metadata": {},
   "outputs": [],
   "source": [
    "# Concat reports and display top few\n",
    "\n",
    "report = report_concat.concat_cnn_tune_reports(\n",
    "\treports = report_tune_model,\n",
    "\tmode    = 'classification',\n",
    "\tn       = None\n",
    ")\n",
    "\n",
    "report"
   ]
  },
  {
   "cell_type": "markdown",
   "id": "8dbb29c8-9614-4a57-b887-2b527f04ebb8",
   "metadata": {},
   "source": [
    "## 1.2 Date"
   ]
  },
  {
   "cell_type": "code",
   "execution_count": null,
   "id": "3196a6f0-baf2-41d8-9da2-56de2d399ff1",
   "metadata": {},
   "outputs": [],
   "source": [
    "# Display top few results for each tune configuration\n",
    "\n",
    "report_tune_data = report_load.load_data_tune_reports(\n",
    "\troot = ROOT_DIR,\n",
    "\tshow = False,\n",
    "\tn    = 25\n",
    ")"
   ]
  },
  {
   "cell_type": "markdown",
   "id": "7a7a8245-4aed-46e1-bf5f-337de90d4842",
   "metadata": {},
   "source": [
    "### 1.2.1 Regression"
   ]
  },
  {
   "cell_type": "code",
   "execution_count": null,
   "id": "b121270c-c3b7-4170-b190-bea199ced0e7",
   "metadata": {},
   "outputs": [],
   "source": [
    "# Concat reports and display top few\n",
    "\n",
    "report = report_concat.concat_data_tune_reports(\n",
    "\treports = report_tune_data,\n",
    "\tmode    = 'regression',\n",
    "\tn       = 25\n",
    ")\n",
    "\n",
    "report"
   ]
  },
  {
   "cell_type": "markdown",
   "id": "70965ba6-c5cf-4577-893b-f8deadc8116b",
   "metadata": {},
   "source": [
    "### 1.2.2 Classification"
   ]
  },
  {
   "cell_type": "code",
   "execution_count": null,
   "id": "56f8f75e-1243-422e-aa1c-979a4731161e",
   "metadata": {},
   "outputs": [],
   "source": [
    "# Concat reports and display top few\n",
    "\n",
    "report = report_concat.concat_data_tune_reports(\n",
    "\treports = report_tune_data,\n",
    "\tmode    = 'classification',\n",
    "\tn       = 25\n",
    ")\n",
    "\n",
    "report"
   ]
  },
  {
   "cell_type": "markdown",
   "id": "ac210149-a5ab-4987-83f6-0dde3670ff35",
   "metadata": {},
   "source": [
    "## 1.3 Feature"
   ]
  },
  {
   "cell_type": "code",
   "execution_count": null,
   "id": "037feb77-e571-4834-ac63-c3cc7f184721",
   "metadata": {},
   "outputs": [],
   "source": [
    "# Display top few results for each tune configuration\n",
    "\n",
    "report_tune_feature = report_load.load_feature_tune_reports(\n",
    "\troot = ROOT_DIR,\n",
    "\tshow = False,\n",
    "\tn    = 25\n",
    ")"
   ]
  },
  {
   "cell_type": "markdown",
   "id": "ce20878b-493f-4b74-82d8-c22f2c72bfff",
   "metadata": {},
   "source": [
    "### 1.3.1 Regression"
   ]
  },
  {
   "cell_type": "code",
   "execution_count": null,
   "id": "65c1214c-deea-4597-acc9-6a9c0e8ac7f6",
   "metadata": {},
   "outputs": [],
   "source": [
    "# Concat reports and display top few\n",
    "\n",
    "report = report_concat.concat_feature_tune_reports(\n",
    "\treports = report_tune_feature,\n",
    "\tmode    = 'regression',\n",
    "\tn       = None\n",
    ")\n",
    "\n",
    "if report is not None :\n",
    "\treport = report[report['Target1'] == 'mean'].head(n = 50)\n",
    "\n",
    "report"
   ]
  },
  {
   "cell_type": "markdown",
   "id": "89ef3aba-74d9-4fc9-b21a-0f2af4bb070c",
   "metadata": {},
   "source": [
    "### 1.3.2 Classification"
   ]
  },
  {
   "cell_type": "code",
   "execution_count": null,
   "id": "c441d2e2-45bc-494f-a532-e879364d013a",
   "metadata": {},
   "outputs": [],
   "source": [
    "# Concat reports and display top few\n",
    "\n",
    "report = report_concat.concat_feature_tune_reports(\n",
    "\treports = report_tune_feature,\n",
    "\tmode    = 'classification',\n",
    "\tn       = 25\n",
    ")\n",
    "\n",
    "report"
   ]
  },
  {
   "cell_type": "markdown",
   "id": "c04bde67-1913-462b-8103-5f3c6923c1ca",
   "metadata": {},
   "source": [
    "# 2. CNN"
   ]
  },
  {
   "cell_type": "markdown",
   "id": "28b0d913-1798-4d14-92b9-848d8ddf0afc",
   "metadata": {},
   "source": [
    "## 2.1 Model"
   ]
  },
  {
   "cell_type": "code",
   "execution_count": null,
   "id": "00733de1-10a6-4dad-a8c4-a7f773a77ed6",
   "metadata": {
    "tags": []
   },
   "outputs": [],
   "source": [
    "# Load cnn model reports\n",
    "\n",
    "report_cnn_model = report_load.load_cnn_reports(\n",
    "\troot = ROOT_DIR\n",
    ")"
   ]
  },
  {
   "cell_type": "markdown",
   "id": "dd6ecab7-9328-471d-9e6a-60874af06ae7",
   "metadata": {},
   "source": [
    "### 2.1.1 Regression"
   ]
  },
  {
   "cell_type": "code",
   "execution_count": null,
   "id": "3bf82c16-a01f-43cc-a2df-4491ca655e08",
   "metadata": {
    "tags": []
   },
   "outputs": [],
   "source": [
    "# Display model performance for regression\n",
    "\n",
    "if len(report_cnn_model['regression']) > 0 :\n",
    "\treport = report_cnn_model['regression']\n",
    "else :\n",
    "\treport = None\n",
    "\n",
    "report"
   ]
  },
  {
   "cell_type": "markdown",
   "id": "3cac53b3-8ebc-456e-aad7-ec61b9a71ccd",
   "metadata": {},
   "source": [
    "### 2.1.2 Classification"
   ]
  },
  {
   "cell_type": "code",
   "execution_count": null,
   "id": "b5df4ce0-4a7e-4a92-ad55-20c5b52e5271",
   "metadata": {
    "tags": []
   },
   "outputs": [],
   "source": [
    "# Display model performance for classification\n",
    "\n",
    "if len(report_cnn_model['classification']) > 0 :\n",
    "\treport = report_cnn_model['classification']\n",
    "else :\n",
    "\treport = None\n",
    "\n",
    "report"
   ]
  },
  {
   "cell_type": "markdown",
   "id": "11221228-5519-435e-b3c7-6b3f1dbaf341",
   "metadata": {},
   "source": [
    "## 2.2 Bert"
   ]
  },
  {
   "cell_type": "code",
   "execution_count": null,
   "id": "2414ed0d-a8a2-49b1-94d8-853569a51478",
   "metadata": {
    "tags": []
   },
   "outputs": [],
   "source": [
    "# Load bert cnn model reports\n",
    "\n",
    "report_cnn_model = report_load.load_bert_cnn_reports(\n",
    "\troot = ROOT_DIR\n",
    ")"
   ]
  },
  {
   "cell_type": "markdown",
   "id": "762b8a71-92ca-4777-aaa2-805ff2063eee",
   "metadata": {},
   "source": [
    "### 2.2.1 Regression"
   ]
  },
  {
   "cell_type": "code",
   "execution_count": null,
   "id": "069d655c-af6c-4425-9253-fef1ce08adc3",
   "metadata": {},
   "outputs": [],
   "source": [
    "# Display model performance for regression\n",
    "\n",
    "if len(report_cnn_model['regression']) > 0 :\n",
    "\treport = report_cnn_model['regression']\n",
    "else :\n",
    "\treport = None\n",
    "\n",
    "report"
   ]
  },
  {
   "cell_type": "markdown",
   "id": "acae3668-7980-4f58-a90b-3f2e8e60e460",
   "metadata": {},
   "source": [
    "### 2.2.2 Classification"
   ]
  },
  {
   "cell_type": "code",
   "execution_count": null,
   "id": "e5fba543-60f0-448c-9718-ede1a230a160",
   "metadata": {},
   "outputs": [],
   "source": [
    "# Display model performance for classification\n",
    "\n",
    "if len(report_cnn_model['classification']) > 0 :\n",
    "\treport = report_cnn_model['classification']\n",
    "else :\n",
    "\treport = None\n",
    "\n",
    "report"
   ]
  },
  {
   "cell_type": "markdown",
   "id": "7fdf7a48-5a21-4ce6-b3b9-9c94e1ac7754",
   "metadata": {},
   "source": [
    "# 3. Bert"
   ]
  },
  {
   "cell_type": "markdown",
   "id": "8389a4a4-3203-42d1-a906-637c8d4b2b71",
   "metadata": {},
   "source": [
    "## 3.1 Model"
   ]
  },
  {
   "cell_type": "code",
   "execution_count": null,
   "id": "64533dc0-a020-4d1f-baf9-e4f97ee067be",
   "metadata": {
    "tags": []
   },
   "outputs": [],
   "source": [
    "# Load bert model reports\n",
    "\n",
    "report_bert_model = report_load.load_bert_reports(\n",
    "\troot = ROOT_DIR,\n",
    "\tshow = False\n",
    ")"
   ]
  },
  {
   "cell_type": "markdown",
   "id": "e398ead2-8631-4ecb-91a5-5b079e536b23",
   "metadata": {},
   "source": [
    "### 3.1.1 Plot"
   ]
  },
  {
   "cell_type": "code",
   "execution_count": null,
   "id": "eada38bd-128b-42b0-972d-1da9c72b184c",
   "metadata": {
    "tags": []
   },
   "outputs": [],
   "source": [
    "# Plot\n",
    "\n",
    "report_plot.models_bert_r2(\n",
    "\tdata = report_filter.filter_bert_reports(\n",
    "\t\treports = report_bert_model,\n",
    "\t\tkeep_only = [],\n",
    "\t\tdrop_only = []\n",
    "\t),\n",
    "\tmode     = 'regression',\n",
    "\tx        = 12,\n",
    "\ty        = None,\n",
    "\tfilename = None,\n",
    "\tstep     = 'epoch'\n",
    ")"
   ]
  },
  {
   "cell_type": "markdown",
   "id": "f92f76a3-fc8d-439f-9655-199282f5750e",
   "metadata": {},
   "source": [
    "### 3.1.2 Regression"
   ]
  },
  {
   "cell_type": "code",
   "execution_count": null,
   "id": "e36e7385-b8c0-4d33-966e-ccdd1c69c562",
   "metadata": {
    "tags": []
   },
   "outputs": [],
   "source": [
    "# Concat reports and display top few\n",
    "\n",
    "report = report_concat.concat_bert_reports(\n",
    "\tdata      = report_bert_model,\n",
    "\tmode      = 'regression',\n",
    "\tmetric    = 'eval_r2',\n",
    "\tascending = False\n",
    ")\n",
    "\n",
    "if report is not None :\n",
    "\treport = report.head(n = 25)\n",
    "\n",
    "report"
   ]
  }
 ],
 "metadata": {
  "kernelspec": {
   "display_name": "Python 3 (ipykernel)",
   "language": "python",
   "name": "python3"
  },
  "language_info": {
   "codemirror_mode": {
    "name": "ipython",
    "version": 3
   },
   "file_extension": ".py",
   "mimetype": "text/x-python",
   "name": "python",
   "nbconvert_exporter": "python",
   "pygments_lexer": "ipython3",
   "version": "3.10.7"
  }
 },
 "nbformat": 4,
 "nbformat_minor": 5
}
