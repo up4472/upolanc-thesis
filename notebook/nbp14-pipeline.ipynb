{
 "cells": [
  {
   "cell_type": "code",
   "execution_count": null,
   "id": "9cffb14c-ef9d-44b7-9361-8b863c7ea42e",
   "metadata": {
    "tags": []
   },
   "outputs": [],
   "source": [
    "# Libraries\n",
    "\n",
    "import argparse\n",
    "import numpy\n",
    "import os\n",
    "import platform\n",
    "import shutil\n",
    "import sys"
   ]
  },
  {
   "cell_type": "code",
   "execution_count": null,
   "id": "9b1df225-75e2-456c-81cd-8d2a358738b6",
   "metadata": {
    "tags": []
   },
   "outputs": [],
   "source": [
    "# Ensure source path\n",
    "\n",
    "ROOT = os.getcwd()\n",
    "\n",
    "while not ROOT.endswith('upolanc-thesis') :\n",
    "\tROOT = os.path.abspath(os.path.join(ROOT, os.pardir))\n",
    "\n",
    "\tif len(ROOT) < len('upolanc-thesis') :\n",
    "\t\tif   platform.system() == 'Linux'   : ROOT = '/d/hpc/projects/FRI/up4472/upolanc-thesis'\n",
    "\t\telif platform.system() == 'Windows' : ROOT = 'C:\\\\Developer\\\\Workspace\\\\PyCharm\\\\Projects\\\\upolanc-thesis'\n",
    "\t\telse : raise ValueError()\n",
    "\n",
    "\t\tprint(f'Warning : could not find correct directory, using default : {ROOT}')\n",
    "\t\tprint()\n",
    "\n",
    "\t\tbreak\n",
    "\n",
    "if ROOT not in sys.path :\n",
    "\tsys.path.append(ROOT)\n",
    "\n",
    "os.chdir(ROOT)"
   ]
  },
  {
   "cell_type": "code",
   "execution_count": null,
   "id": "4f160ee1-7c64-4a19-b375-2b36da431412",
   "metadata": {
    "tags": []
   },
   "outputs": [],
   "source": [
    "# Code\n",
    "\n",
    "from source.python.cnn.models import Washburn2019c\n",
    "from source.python.cnn.models import Washburn2019r\n",
    "from source.python.cnn.models import Zrimec2020c\n",
    "from source.python.cnn.models import Zrimec2020r\n",
    "\n",
    "from source.python         import runtime\n",
    "from source.python.cnn     import cnn_model\n",
    "from source.python.cnn     import cnn_plot\n",
    "from source.python.cnn     import cnn_switch\n",
    "from source.python.cnn     import cnn_utils\n",
    "from source.python.dataset import dataset_utils\n",
    "from source.python.io      import loader\n",
    "from source.python.io      import writer\n",
    "\n",
    "runtime.set_numpy_format()\n",
    "runtime.set_pandas_format()\n",
    "runtime.set_plot_theme()"
   ]
  },
  {
   "cell_type": "markdown",
   "id": "2b872266-6b59-43df-9bfd-2faf46e53a86",
   "metadata": {},
   "source": [
    "# 1. Setup"
   ]
  },
  {
   "cell_type": "code",
   "execution_count": null,
   "id": "2fa60bc7-b07f-4c9c-874c-ffe22a5795e0",
   "metadata": {
    "tags": []
   },
   "outputs": [],
   "source": [
    "# Define output and inputs\n",
    "\n",
    "FILTER_ID      = 2\n",
    "VERBOSE        = False\n",
    "FEATURES       = True\n",
    "\n",
    "MODEL_ARCH     = 'zrimec'\n",
    "MODEL_PARAMS   = 0\n",
    "MODEL_EPOCHS   = 50\n",
    "\n",
    "TARGET_GROUP   = 'tissue'\n",
    "TARGET_TYPE    = 'mean'\n",
    "TARGET_EXPLODE = True\n",
    "TARGET_FILTER  = None\n",
    "\n",
    "SEQUENCE_TYPE  = 'transcript-2150'\n",
    "SEQUENCE_END   = None\n",
    "SEQUENCE_START = None"
   ]
  },
  {
   "cell_type": "code",
   "execution_count": null,
   "id": "c39e6f47-7e54-4957-866a-66674ad9ae35",
   "metadata": {
    "tags": []
   },
   "outputs": [],
   "source": [
    "# Check for args\n",
    "\n",
    "if __name__ == '__main__' and 'get_ipython' in dir() :\n",
    "\tprint('Running as .ipynb')\n",
    "\tprint()\n",
    "\n",
    "if __name__ == '__main__' and 'get_ipython' not in dir() :\n",
    "\tprint('Running as .py')\n",
    "\tprint()\n",
    "\n",
    "\tparser = argparse.ArgumentParser()\n",
    "\n",
    "\tstr_of_bool = lambda x : True if x == 'true' else False\n",
    "\tstr_or_none = lambda x : None if x == 'none' else str(x)\n",
    "\tint_or_none = lambda x : None if x == 'none' else int(x)\n",
    "\n",
    "\tparser.add_argument('--target_group',   type = str,         default = 'global',          choices = ['tissue', 'group', 'age', 'global', 'perturbation'])\n",
    "\tparser.add_argument('--target_type',    type = str,         default = 'mean',            choices = ['mean', 'max'])\n",
    "\tparser.add_argument('--target_explode', type = str_of_bool, default = False)\n",
    "\tparser.add_argument('--target_filter',  type = str_or_none, default = None)\n",
    "\tparser.add_argument('--model_arch',     type = str,         default = 'zrimec',          choices = ['zrimec', 'washburn'])\n",
    "\tparser.add_argument('--model_epochs',   type = int,         default = 250)\n",
    "\tparser.add_argument('--model_params',   type = int_or_none, default = None)\n",
    "\tparser.add_argument('--filter_id',      type = int,         default = 0)\n",
    "\tparser.add_argument('--features',       type = str_of_bool, default = False)\n",
    "\tparser.add_argument('--sequence_start', type = int_or_none, default = None)\n",
    "\tparser.add_argument('--sequence_end',   type = int_or_none, default = None)\n",
    "\tparser.add_argument('--sequence_type',  type = str,         default = 'transcript-2150', choices = ['transcript-2150', 'transcript-6150', 'promoter-full-5000', 'promoter-utr5-5000'])\n",
    "\n",
    "\targs = vars(parser.parse_args())\n",
    "\n",
    "\tTARGET_GROUP   = args['target_group']\n",
    "\tTARGET_TYPE    = args['target_type']\n",
    "\tTARGET_EXPLODE = args['target_explode']\n",
    "\tTARGET_FILTER  = args['target_filter']\n",
    "\tMODEL_ARCH     = args['model_arch']\n",
    "\tMODEL_EPOCHS   = args['model_epochs']\n",
    "\tMODEL_PARAMS   = args['model_params']\n",
    "\tFILTER_ID      = args['filter_id']\n",
    "\tFEATURES       = args['features']\n",
    "\tSEQUENCE_START = args['sequence_start']\n",
    "\tSEQUENCE_END   = args['sequence_end']\n",
    "\tSEQUENCE_TYPE  = args['sequence_type']\n",
    "\n",
    "if TARGET_GROUP == 'global' :\n",
    "\tTARGET_EXPLODE = False"
   ]
  },
  {
   "cell_type": "code",
   "execution_count": null,
   "id": "d86a191d-45c6-4d24-851a-bdeb1a65697a",
   "metadata": {
    "tags": []
   },
   "outputs": [],
   "source": [
    "# Setup some directory paths.\n",
    "\n",
    "SUBFOLDER = 'filter' + str(FILTER_ID)\n",
    "FOLDER    = '{}-f{}'.format(MODEL_ARCH, FILTER_ID)\n",
    "\n",
    "CWD = ROOT\n",
    "OUT = os.path.join(CWD, 'output')\n",
    "RES = os.path.join(CWD, 'resources')\n",
    "\n",
    "OUT_DATA1   = os.path.join(OUT,      'nbp14-pipeline',  FOLDER + '-c')\n",
    "OUT_DATA2   = os.path.join(OUT,      'nbp14-pipeline',  FOLDER + '-r')\n",
    "OUT_MODEL1 = os.path.join(OUT_DATA1, 'model')\n",
    "OUT_MODEL2 = os.path.join(OUT_DATA2, 'model')\n",
    "OUT_PLOT1  = os.path.join(OUT_DATA1, 'plot')\n",
    "OUT_PLOT2  = os.path.join(OUT_DATA2, 'plot')\n",
    "RES_NBP02  = os.path.join(OUT,       'nbp02-anndata', SUBFOLDER)\n",
    "RES_NBP04  = os.path.join(OUT,       'nbp04-feature', SUBFOLDER)\n",
    "RES_NBP05  = os.path.join(OUT,       'nbp05-target',  SUBFOLDER)\n",
    "\n",
    "shutil.rmtree(OUT_DATA1, ignore_errors = True)\n",
    "shutil.rmtree(OUT_DATA2, ignore_errors = True)\n",
    "\n",
    "os.makedirs(OUT_DATA1,  exist_ok = True)\n",
    "os.makedirs(OUT_DATA2,  exist_ok = True)\n",
    "os.makedirs(OUT_MODEL1, exist_ok = True)\n",
    "os.makedirs(OUT_MODEL2, exist_ok = True)\n",
    "os.makedirs(OUT_PLOT1,  exist_ok = True)\n",
    "os.makedirs(OUT_PLOT2,  exist_ok = True)\n",
    "\n",
    "print(f'     Root Directory : {CWD}')\n",
    "print(f'   Output Directory : {OUT_DATA1}')\n",
    "print(f'   Output Directory : {OUT_DATA2}')\n",
    "print(f'   Output Directory : {OUT_MODEL1}')\n",
    "print(f'   Output Directory : {OUT_MODEL2}')\n",
    "print(f'   Output Directory : {OUT_PLOT1}')\n",
    "print(f'   Output Directory : {OUT_PLOT2}')\n",
    "print(f' Resource Directory : {RES_NBP02}')\n",
    "print(f' Resource Directory : {RES_NBP04}')\n",
    "print(f' Resource Directory : {RES_NBP05}')\n",
    "print()"
   ]
  },
  {
   "cell_type": "code",
   "execution_count": null,
   "id": "6061086b-3391-4d1e-8546-574b4faba319",
   "metadata": {
    "tags": []
   },
   "outputs": [],
   "source": [
    "# System and device\n",
    "\n",
    "DEVICE = runtime.get_device(only_cpu = False)\n",
    "SYSTEM = runtime.get_system_info()\n",
    "\n",
    "for key, value in SYSTEM.items() :\n",
    "\tprint('{:25s} : {}'.format(key, value))\n",
    "\n",
    "print()"
   ]
  },
  {
   "cell_type": "code",
   "execution_count": null,
   "id": "9c7d0021-22d3-4d17-b953-8052e7aa5496",
   "metadata": {
    "tags": []
   },
   "outputs": [],
   "source": [
    "# Define sequence paths\n",
    "\n",
    "if SEQUENCE_TYPE == 'transcript-6150'    :\n",
    "\tsequence_keep = os.path.join(RES_NBP04, 'sequences-6150-keep.fasta')\n",
    "\tsequence_drop = os.path.join(RES_NBP04, 'sequences-6150-drop.fasta')\n",
    "\tmutation_keep = os.path.join(RES_NBP04, 'mutation-sequences-6150.fasta')\n",
    "\n",
    "if SEQUENCE_TYPE == 'transcript-2150'    :\n",
    "\tsequence_keep = os.path.join(RES_NBP04, 'sequences-2150-keep.fasta')\n",
    "\tsequence_drop = os.path.join(RES_NBP04, 'sequences-2150-drop.fasta')\n",
    "\tmutation_keep = os.path.join(RES_NBP04, 'mutation-sequences-2150.fasta')\n",
    "\n",
    "if SEQUENCE_TYPE == 'promoter-full-5000' :\n",
    "\tsequence_keep = os.path.join(RES_NBP04, 'sequences-promoter-full-keep.fasta')\n",
    "\tsequence_drop = os.path.join(RES_NBP04, 'sequences-promoter-full-drop.fasta')\n",
    "\tmutation_keep = os.path.join(RES_NBP04, 'mutation-sequences-promoter-full.fasta')\n",
    "\n",
    "if SEQUENCE_TYPE == 'promoter-utr5-5000' :\n",
    "\tsequence_keep = os.path.join(RES_NBP04, 'sequences-promoter-utr5-keep.fasta')\n",
    "\tsequence_drop = os.path.join(RES_NBP04, 'sequences-promoter-utr5-drop.fasta')\n",
    "\tmutation_keep = os.path.join(RES_NBP04, 'mutation-sequences-promoter-utr5.fasta')\n",
    "\n",
    "if MODEL_ARCH == 'zrimec'   : model_config = os.path.join(RES, 'tuner', 'zrimec.json')\n",
    "if MODEL_ARCH == 'washburn' : model_config = os.path.join(RES, 'tuner', 'washburn.json')"
   ]
  },
  {
   "cell_type": "code",
   "execution_count": null,
   "id": "73a596b8-15b0-402c-b86c-f3342dca5266",
   "metadata": {
    "tags": []
   },
   "outputs": [],
   "source": [
    "# Load the input transcript features\n",
    "\n",
    "sequence_keep = loader.load_fasta(\n",
    "\tfilename  = sequence_keep,\n",
    "\tto_string = True\n",
    ")\n",
    "\n",
    "sequence_drop = loader.load_fasta(\n",
    "\tfilename  = sequence_drop,\n",
    "\tto_string = True\n",
    ")\n",
    "\n",
    "features_keep = loader.load_npz(\n",
    "\tfilename = os.path.join(RES_NBP04, 'features-base-keep.npz')\n",
    ")\n",
    "\n",
    "features_drop = loader.load_npz(\n",
    "\tfilename = os.path.join(RES_NBP04, 'features-base-drop.npz')\n",
    ")\n",
    "\n",
    "model_config = loader.load_json(\n",
    "\tfilename = model_config\n",
    ")\n",
    "\n",
    "target_order = loader.load_json(\n",
    "\tfilename = os.path.join(RES_NBP05, 'target-order.json')\n",
    ")[TARGET_GROUP]"
   ]
  },
  {
   "cell_type": "markdown",
   "id": "6fba2747-dc78-4c86-95b9-2b95cc3eceb5",
   "metadata": {},
   "source": [
    "# 2. Config"
   ]
  },
  {
   "cell_type": "code",
   "execution_count": null,
   "id": "27bad798-98fc-4783-9e18-784d4cb0112e",
   "metadata": {
    "tags": []
   },
   "outputs": [],
   "source": [
    "# Single global config\n",
    "\n",
    "CONFIG = {\n",
    "\t'core/device'             : DEVICE,\n",
    "\t'core/random'             : 635686590,\n",
    "\t'core/rootdir'            : ROOT,\n",
    "\t'core/verbose'            : VERBOSE,\n",
    "\t'core/plots'              : 1,\n",
    "\t'dataset/expanddim'       : 0,\n",
    "\t'dataset/sequence/start'  : SEQUENCE_START,\n",
    "\t'dataset/sequence/end'    : SEQUENCE_END,\n",
    "\t'dataset/sequence/type'   : SEQUENCE_TYPE,\n",
    "\t'dataset/split/generator' : None,\n",
    "\t'dataset/split/test'      : 0.2,\n",
    "\t'dataset/split/valid'     : 0.2,\n",
    "\t'model/name'              : MODEL_ARCH,\n",
    "\t'model/mode'              : None,\n",
    "\t'model/epochs'            : MODEL_EPOCHS,\n",
    "\t'model/features'          : True,\n",
    "\t'model/input/channels'    : 1,\n",
    "\t'model/input/features'    : None,\n",
    "\t'model/input/height'      : 4,\n",
    "\t'model/input/width'       : 2150,\n",
    "\t'model/output/explode'    : TARGET_EXPLODE,\n",
    "\t'model/output/filter'     : TARGET_FILTER,\n",
    "\t'model/output/heads'      : None,\n",
    "\t'model/output/size'       : None,\n",
    "\t'model/output/target'     : TARGET_GROUP,\n",
    "\t'model/output/type'       : TARGET_TYPE,\n",
    "\t'model/params/id'         : MODEL_PARAMS\n",
    "}\n",
    "\n",
    "CONFIG['core/random'] = runtime.lock_random(\n",
    "\tseed     = CONFIG['core/random'],\n",
    "\tgenerate = True\n",
    ")"
   ]
  },
  {
   "cell_type": "code",
   "execution_count": null,
   "id": "c721c729-8212-482c-9686-d4a648e78574",
   "metadata": {
    "tags": []
   },
   "outputs": [],
   "source": [
    "# Update specific params\n",
    "\n",
    "if CONFIG['model/params/id'] is not None and CONFIG['model/params/id'] >= 0 :\n",
    "\tCONFIG.update(model_config[CONFIG['model/params/id']])\n",
    "\n",
    "\tCONFIG['dataset/batch/train'] = CONFIG['dataset/batch_size']\n",
    "\tCONFIG['dataset/batch/valid'] = CONFIG['dataset/batch_size']\n",
    "\tCONFIG['dataset/batch/test']  = CONFIG['dataset/batch_size']"
   ]
  },
  {
   "cell_type": "code",
   "execution_count": null,
   "id": "eda831a4-3680-4de8-8307-db1f8c6025e2",
   "metadata": {
    "tags": []
   },
   "outputs": [],
   "source": [
    "# Update configuratio\n",
    "\n",
    "if CONFIG['model/name'] == 'zrimec'   : CONFIG['dataset/expanddim'] = None\n",
    "if CONFIG['model/name'] == 'washburn' : CONFIG['dataset/expanddim'] = 0"
   ]
  },
  {
   "cell_type": "code",
   "execution_count": null,
   "id": "2a812730-aa56-458c-af66-2f1d1a5c3fec",
   "metadata": {
    "tags": []
   },
   "outputs": [],
   "source": [
    "# Prints\n",
    "\n",
    "print('Use Features  : {}'.format(CONFIG['model/features']))\n",
    "print('Random Seed   : {}'.format(CONFIG['core/random']))\n",
    "print()"
   ]
  },
  {
   "cell_type": "markdown",
   "id": "288f31db-1edb-4a2c-ba54-f0bee83198c7",
   "metadata": {},
   "source": [
    "# 3. Classification"
   ]
  },
  {
   "cell_type": "code",
   "execution_count": null,
   "id": "0d8a344b-adb7-420c-a982-de3fc37c4fb6",
   "metadata": {
    "tags": []
   },
   "outputs": [],
   "source": [
    "# Update to correct mode\n",
    "\n",
    "CONFIG['model/mode']              = 'classification'\n",
    "CONFIG['model/features']          = True\n",
    "CONFIG['dataset/split/generator'] = 'stratified'\n",
    "CONFIG['criterion/name']          = 'bce'\n",
    "\n",
    "final_report = dict()"
   ]
  },
  {
   "cell_type": "markdown",
   "id": "18b323f2-5aad-4ea3-b1ca-66ac9c82d56c",
   "metadata": {},
   "source": [
    "## 3.1 Dataloader"
   ]
  },
  {
   "cell_type": "markdown",
   "id": "4ac95068-74d4-443c-a9a6-f129832715d7",
   "metadata": {},
   "source": [
    "### 3.1.1 Targets"
   ]
  },
  {
   "cell_type": "code",
   "execution_count": null,
   "id": "878079ae-bfce-40a5-9c78-a4f4529e91e5",
   "metadata": {
    "tags": []
   },
   "outputs": [],
   "source": [
    "# Define target classes\n",
    "\n",
    "targets_keep = {k : numpy.array([1], dtype = numpy.float64) for k in sequence_keep.keys()}\n",
    "targets_drop = {k : numpy.array([0], dtype = numpy.float64) for k in sequence_drop.keys()}\n",
    "\n",
    "print('Keep Size : {:6,d}'.format(len(sequence_keep)))\n",
    "print('Drop Size : {:6,d}'.format(len(sequence_drop)))\n",
    "print()\n",
    "\n",
    "c1_factor = len(sequence_keep) / len(sequence_keep)\n",
    "c0_factor = len(sequence_keep) / len(sequence_drop)\n",
    "\n",
    "CONFIG['criterion/weight'] = {\n",
    "\t1 : 1, # c1_factor,\n",
    "\t0 : 1  # c0_factor\n",
    "}\n",
    "\n",
    "for k, v in CONFIG['criterion/weight'].items() :\n",
    "\tprint('Class [{}] Weight : {:8.5f}'.format(k, v))\n",
    "\n",
    "print()"
   ]
  },
  {
   "cell_type": "markdown",
   "id": "c260b825-153d-42da-bfd5-cb11c51f7d99",
   "metadata": {},
   "source": [
    "### 3.1.2 Sampling"
   ]
  },
  {
   "cell_type": "code",
   "execution_count": null,
   "id": "a5323b8f-185e-490b-ab2b-0dde4be72894",
   "metadata": {
    "tags": []
   },
   "outputs": [],
   "source": [
    "# Random undersampling until better code\n",
    "\n",
    "sequence_full = {k : v for k, v in sequence_keep.items()}\n",
    "features_full = {k : v for k, v in features_keep.items()}\n",
    "targets_full  = {k : v for k, v in targets_keep.items()}\n",
    "\n",
    "factor = len(targets_keep) / len(targets_drop)\n",
    "factor = round(factor)\n",
    "\n",
    "data = numpy.array(list(sequence_keep.keys()))\n",
    "data = numpy.array_split(data, factor)\n",
    "\n",
    "sequence_keep = [{k : v for k, v in sequence_keep.items() if k in item} for item in data]\n",
    "features_keep = [{k : v for k, v in features_keep.items() if k in item} for item in data]\n",
    "targets_keep  = [{k : v for k, v in targets_keep.items()  if k in item} for item in data]"
   ]
  },
  {
   "cell_type": "markdown",
   "id": "4f5ee0ea-987c-4d20-b0e2-46f2dfc9a0b1",
   "metadata": {},
   "source": [
    "### 3.1.3 Merge"
   ]
  },
  {
   "cell_type": "code",
   "execution_count": null,
   "id": "d3040ba1-5135-498c-9cf0-a355a1c11037",
   "metadata": {
    "tags": []
   },
   "outputs": [],
   "source": [
    "# Merge data\n",
    "\n",
    "chunk, merge = cnn_switch.append_drop_to_each(\n",
    "\tkeep = [sequence_keep, features_keep, targets_keep],\n",
    "\tdrop = [sequence_drop, features_drop, targets_drop],\n",
    "\tfull = [sequence_full, features_full, targets_full]\n",
    ")\n",
    "\n",
    "sequence_chunk = chunk[0]\n",
    "features_chunk = chunk[1]\n",
    "targets_chunk  = chunk[2]\n",
    "\n",
    "sequence_merge = merge[0]\n",
    "features_merge = merge[1]\n",
    "targets_merge  = merge[2]"
   ]
  },
  {
   "cell_type": "markdown",
   "id": "716e97e9-8da4-46e8-8ff5-61ce034a6dc7",
   "metadata": {},
   "source": [
    "### 3.1.4 Normal"
   ]
  },
  {
   "cell_type": "code",
   "execution_count": null,
   "id": "a8829fc7-2fd8-4ec2-bcb2-da1b10da6177",
   "metadata": {
    "tags": []
   },
   "outputs": [],
   "source": [
    "# Create dataset\n",
    "\n",
    "CONFIG['model/output/size']    = 1\n",
    "CONFIG['model/output/heads']   = None\n",
    "CONFIG['model/input/features'] = len(list(features_chunk[0].values())[0])\n",
    "\n",
    "start = CONFIG['dataset/sequence/start']\n",
    "end   = CONFIG['dataset/sequence/end']\n",
    "\n",
    "dataset_all = cnn_switch.to_dataset(\n",
    "\tsequence = sequence_merge,\n",
    "\tfeatures = features_merge,\n",
    "\ttargets  = targets_merge,\n",
    "\tconfig   = CONFIG,\n",
    ")[0]\n",
    "\n",
    "dataset_mix = cnn_switch.to_dataset(\n",
    "\tsequence = sequence_chunk,\n",
    "\tfeatures = features_chunk,\n",
    "\ttargets  = targets_chunk,\n",
    "\tconfig   = CONFIG,\n",
    ")\n",
    "\n",
    "CONFIG['model/fc3/features'] = CONFIG['model/output/size']\n",
    "CONFIG['model/fc3/heads']    = CONFIG['model/output/heads']\n",
    "\n",
    "print('Input Features : {}'.format(CONFIG['model/input/features']))\n",
    "print('Output Size    : {}'.format(CONFIG['model/output/size']))\n",
    "print('Output Heads   : {}'.format(CONFIG['model/output/heads']))\n",
    "print()"
   ]
  },
  {
   "cell_type": "code",
   "execution_count": null,
   "id": "11ba5816-307b-43ee-92ea-f51f3bc79931",
   "metadata": {
    "tags": []
   },
   "outputs": [],
   "source": [
    "# Create dataloader\n",
    "\n",
    "dataloaders = cnn_switch.to_dataloader(\n",
    "\tdataset_all = dataset_all,\n",
    "\tdataset_mix = dataset_mix,\n",
    "\tconfig      = CONFIG\n",
    ")\n",
    "\n",
    "train_dataloader = dataloaders[1][0]\n",
    "valid_dataloader = dataloaders[1][1]\n",
    "test_dataloader  = dataloaders[1][2]\n",
    "full_dataloader  = dataloaders[0]"
   ]
  },
  {
   "cell_type": "code",
   "execution_count": null,
   "id": "f4d5eb7e-7801-486a-bae4-a10d1904d741",
   "metadata": {
    "tags": []
   },
   "outputs": [],
   "source": [
    "# Display train dataloader\n",
    "\n",
    "dataset_utils.show_dataloader(\n",
    "\tdataloader = train_dataloader[0],\n",
    "\tverbose    = CONFIG['core/verbose']\n",
    ")"
   ]
  },
  {
   "cell_type": "code",
   "execution_count": null,
   "id": "9b6045b9-de73-486b-8c65-4854fc293c96",
   "metadata": {
    "tags": []
   },
   "outputs": [],
   "source": [
    "# Display valid dataloader\n",
    "\n",
    "dataset_utils.show_dataloader(\n",
    "\tdataloader = valid_dataloader[0],\n",
    "\tverbose    = CONFIG['core/verbose']\n",
    ")"
   ]
  },
  {
   "cell_type": "code",
   "execution_count": null,
   "id": "c83d22d6-92a7-432b-ab5d-2c29a8e64c20",
   "metadata": {
    "tags": []
   },
   "outputs": [],
   "source": [
    "# Display test dataloader\n",
    "\n",
    "dataset_utils.show_dataloader(\n",
    "\tdataloader = test_dataloader[0],\n",
    "\tverbose    = CONFIG['core/verbose']\n",
    ")"
   ]
  },
  {
   "cell_type": "code",
   "execution_count": null,
   "id": "cb5f715a-7c03-4a2f-bd5c-2ff6f7397c36",
   "metadata": {},
   "outputs": [],
   "source": [
    "# Display full dataloader\n",
    "\n",
    "dataset_utils.show_dataloader(\n",
    "\tdataloader = full_dataloader,\n",
    "\tverbose    = CONFIG['core/verbose']\n",
    ")"
   ]
  },
  {
   "cell_type": "markdown",
   "id": "fa2f96e6-d23e-4bd1-b46f-230c2a0e4e17",
   "metadata": {},
   "source": [
    "## 3.2 Model"
   ]
  },
  {
   "cell_type": "markdown",
   "id": "541ff4ca-25b7-4a26-b3e6-6f1c11e4135d",
   "metadata": {},
   "source": [
    "### 3.2.1 Structure"
   ]
  },
  {
   "cell_type": "code",
   "execution_count": null,
   "id": "ba77f51f-e132-46df-81d7-7c9eb4a413f1",
   "metadata": {
    "tags": []
   },
   "outputs": [],
   "source": [
    "# Create and display the model structure\n",
    "\n",
    "if CONFIG['model/name'] == 'zrimec' :\n",
    "\tmodel = Zrimec2020c(params = CONFIG, binary = True)\n",
    "\n",
    "\tprint(model.summary(\n",
    "\t\tbatch_size  = CONFIG['dataset/batch/train'],\n",
    "\t\tin_height   = CONFIG['model/input/height'],\n",
    "\t\tin_width    = CONFIG['model/input/width'],\n",
    "\t\tin_features = CONFIG['model/input/features'],\n",
    "\t))\n",
    "\n",
    "if CONFIG['model/name'] == 'washburn' :\n",
    "\tmodel = Washburn2019c(params = CONFIG, binary = True)\n",
    "\n",
    "\tprint(model.summary(\n",
    "\t\tbatch_size  = CONFIG['dataset/batch/train'],\n",
    "\t\tin_channels = CONFIG['model/input/channels'],\n",
    "\t\tin_height   = CONFIG['model/input/height'],\n",
    "\t\tin_width    = CONFIG['model/input/width'],\n",
    "\t\tin_features = CONFIG['model/input/features'],\n",
    "\t))\n",
    "\n",
    "print()"
   ]
  },
  {
   "cell_type": "code",
   "execution_count": null,
   "id": "a065d26b-3895-405b-b5da-1c27a164fd74",
   "metadata": {
    "tags": []
   },
   "outputs": [],
   "source": [
    "# Convert the model to double and initialize weights and biases\n",
    "\n",
    "model = model.double()\n",
    "model = model.apply(cnn_model.he_uniform_weight)\n",
    "model = model.apply(cnn_model.zero_bias)"
   ]
  },
  {
   "cell_type": "markdown",
   "id": "6ecf8332-8af1-4de1-99c7-d240013f5b72",
   "metadata": {},
   "source": [
    "### 3.2.2 Metrics"
   ]
  },
  {
   "cell_type": "code",
   "execution_count": null,
   "id": "b2e97ddd-9648-4cb7-b071-3573bf3a892e",
   "metadata": {
    "tags": []
   },
   "outputs": [],
   "source": [
    "# Define metrics\n",
    "\n",
    "if CONFIG['model/mode'] == 'regression' :\n",
    "\tMETRICS = {\n",
    "\t\t'mse'   : cnn_model.get_criterion(reduction = 'none', weights = None, query = 'mse'),\n",
    "\t\t'mae'   : cnn_model.get_criterion(reduction = 'none', weights = None, query = 'mae'),\n",
    "\t\t'smae'  : cnn_model.get_criterion(reduction = 'none', weights = None, query = 'smae'),\n",
    "\t\t'mape'  : cnn_model.get_criterion(reduction = 'none', weights = None, query = 'mape',  output_size = CONFIG['model/output/size']),\n",
    "\t\t'wmape' : cnn_model.get_criterion(reduction = 'none', weights = None, query = 'wmape', output_size = CONFIG['model/output/size']),\n",
    "\t\t'r2'    : cnn_model.get_criterion(reduction = 'none', weights = None, query = 'r2',    output_size = CONFIG['model/output/size']),\n",
    "\t}\n",
    "\n",
    "if CONFIG['model/mode'] == 'classification' :\n",
    "\tMETRICS = {\n",
    "\t\t'entropy'   : cnn_model.get_criterion(reduction = 'none', weights = None, query = 'bce'),\n",
    "\t\t'accuracy'  : cnn_model.get_criterion(reduction = 'none', weights = None, query = 'accuracy',  task = 'binary', n_classes = CONFIG['model/output/size']),\n",
    "\t\t'auroc'     : cnn_model.get_criterion(reduction = 'none', weights = None, query = 'auroc',     task = 'binary', n_classes = CONFIG['model/output/size']),\n",
    "\t\t'confusion' : cnn_model.get_criterion(reduction = 'none', weights = None, query = 'confusion', task = 'binary', n_classes = CONFIG['model/output/size']),\n",
    "\t\t'f1'        : cnn_model.get_criterion(reduction = 'none', weights = None, query = 'f1',        task = 'binary', n_classes = CONFIG['model/output/size']),\n",
    "\t\t'jaccardi'  : cnn_model.get_criterion(reduction = 'none', weights = None, query = 'jaccardi',  task = 'binary', n_classes = CONFIG['model/output/size']),\n",
    "\t\t'matthews'  : cnn_model.get_criterion(reduction = 'none', weights = None, query = 'matthews',  task = 'binary', n_classes = CONFIG['model/output/size'])\n",
    "\t}\n",
    "\n",
    "METRICS = {\n",
    "\tk : v.to(DEVICE)\n",
    "\tfor k, v in METRICS.items()\n",
    "}"
   ]
  },
  {
   "cell_type": "markdown",
   "id": "f470a395-d648-4362-8652-0ff72c999fe5",
   "metadata": {
    "execution": {
     "iopub.status.busy": "2023-04-07T18:56:21.528754Z",
     "iopub.status.idle": "2023-04-07T18:56:21.529755Z",
     "shell.execute_reply": "2023-04-07T18:56:21.529255Z",
     "shell.execute_reply.started": "2023-04-07T18:56:21.529255Z"
    }
   },
   "source": [
    "### 3.2.3 Parameters"
   ]
  },
  {
   "cell_type": "code",
   "execution_count": null,
   "id": "451ebee0-d9d2-4742-a169-a0312ee4b4df",
   "metadata": {
    "tags": []
   },
   "outputs": [],
   "source": [
    "# Set the model parameters\n",
    "\n",
    "model_trainers = cnn_model.get_model_trainers(\n",
    "\tmodel  = model,\n",
    "\tconfig = CONFIG,\n",
    "\tepochs = CONFIG['model/epochs'],\n",
    "\tweight = CONFIG['criterion/weight']\n",
    ")\n",
    "\n",
    "model_params = {\n",
    "\t'model'     : model,\n",
    "\t'savebest'  : os.path.join(OUT_MODEL1, f'{model.__name__}-best.pth'),\n",
    "\t'savelast'  : os.path.join(OUT_MODEL1, f'{model.__name__}-last.pth'),\n",
    "\t'savetime'  : os.path.join(OUT_MODEL1, f'{model.__name__}-time.pth'),\n",
    "\t'epochs'    : CONFIG['model/epochs'],\n",
    "\t'criterion' : model_trainers['criterion'],\n",
    "\t'optimizer' : model_trainers['optimizer'],\n",
    "\t'scheduler' : model_trainers['scheduler'],\n",
    "\t'device'    : DEVICE,\n",
    "\t'verbose'   : CONFIG['core/verbose'],\n",
    "\t'metrics'   : METRICS,\n",
    "\t'train_dataloader' : train_dataloader,\n",
    "\t'valid_dataloader' : valid_dataloader,\n",
    "\t'test_dataloader'  : test_dataloader\n",
    "}"
   ]
  },
  {
   "cell_type": "markdown",
   "id": "20021c70-cb28-42a3-807d-b246033809b8",
   "metadata": {},
   "source": [
    "### 3.2.4 Train"
   ]
  },
  {
   "cell_type": "code",
   "execution_count": null,
   "id": "75817c49-0651-4aba-b812-e3476c18c590",
   "metadata": {
    "tags": []
   },
   "outputs": [],
   "source": [
    "# Train and validate the model\n",
    "\n",
    "if CONFIG['model/mode'] == 'regression' :\n",
    "\treport = cnn_model.train_regressor(\n",
    "\t\tmodel  = model,\n",
    "\t\tparams = model_params\n",
    "\t)\n",
    "\n",
    "if CONFIG['model/mode'] == 'classification' :\n",
    "\treport = cnn_model.train_classifier(\n",
    "\t\tmodel  = model,\n",
    "\t\tparams = model_params\n",
    "\t)"
   ]
  },
  {
   "cell_type": "markdown",
   "id": "1d1eeae0-a0d3-408d-87f9-4c2c60710f05",
   "metadata": {},
   "source": [
    "### 3.2.5 Visualization"
   ]
  },
  {
   "cell_type": "code",
   "execution_count": null,
   "id": "98ad82f6-587e-4134-807b-8ccd5ccba64f",
   "metadata": {
    "tags": []
   },
   "outputs": [],
   "source": [
    "# Display the training and validation loss curves\n",
    "\n",
    "cnn_plot.show_loss(\n",
    "\treport       = report,\n",
    "\ttitle        = 'Loss Function',\n",
    "\tfilename     = os.path.join(OUT_PLOT1, model.__name__),\n",
    "\tlimit_bot    = None,\n",
    "\tlimit_top    = None,\n",
    "\tstart_index  = CONFIG['core/plots']\n",
    ")"
   ]
  },
  {
   "cell_type": "code",
   "execution_count": null,
   "id": "00d16ab2-3b8d-4002-8cd7-cdd37798af08",
   "metadata": {
    "tags": []
   },
   "outputs": [],
   "source": [
    "# Display the training and validation learning rate curves\n",
    "\n",
    "cnn_plot.show_lr(\n",
    "\treport      = report,\n",
    "\ttitle       = 'Learning Rate',\n",
    "\tfilename    = os.path.join(OUT_PLOT1, model.__name__),\n",
    "\tlimit_bot   = None,\n",
    "\tlimit_top   = None,\n",
    "\tstart_index = None\n",
    ")"
   ]
  },
  {
   "cell_type": "code",
   "execution_count": null,
   "id": "f15fb5c8-1543-4e46-8481-d345c1f720db",
   "metadata": {
    "tags": []
   },
   "outputs": [],
   "source": [
    "# Display the training and validation accuracy or r2 curves\n",
    "\n",
    "if CONFIG['model/mode'] == 'regression' :\n",
    "\tcnn_plot.show_r2(\n",
    "\t\treport       = report,\n",
    "\t\ttitle        = 'R2 Score',\n",
    "\t\tfilename     = os.path.join(OUT_PLOT1, model.__name__),\n",
    "\t\tlimit_bot    = None,\n",
    "\t\tlimit_top    = None,\n",
    "\t\tstart_index  = CONFIG['core/plots']\n",
    "\t)\n",
    "\n",
    "if CONFIG['model/mode'] == 'classification' :\n",
    "\tcnn_plot.show_accuracy(\n",
    "\t\treport       = report,\n",
    "\t\ttitle        = 'Accuracy',\n",
    "\t\tfilename     = os.path.join(OUT_PLOT1, model.__name__),\n",
    "\t\tlimit_bot    = None,\n",
    "\t\tlimit_top    = None,\n",
    "\t\tstart_index  = CONFIG['core/plots']\n",
    "\t)"
   ]
  },
  {
   "cell_type": "code",
   "execution_count": null,
   "id": "dec09f7c-eb80-48fc-9d8f-7db72c4dbf74",
   "metadata": {
    "tags": []
   },
   "outputs": [],
   "source": [
    "# Display the training metrics per batch\n",
    "\n",
    "cnn_plot.show_metric_grid(\n",
    "\treport       = report,\n",
    "\tmode         = 'train',\n",
    "\tfilename     = os.path.join(OUT_PLOT1, model.__name__ + '-train'),\n",
    "\tapply_limits = False,\n",
    "\tstart_index  = CONFIG['core/plots']\n",
    ")"
   ]
  },
  {
   "cell_type": "code",
   "execution_count": null,
   "id": "7c4dc3e8-8dcf-49a8-a86f-806347093d66",
   "metadata": {
    "tags": []
   },
   "outputs": [],
   "source": [
    "# Display the validation metrics per batch\n",
    "\n",
    "cnn_plot.show_metric_grid(\n",
    "\treport       = report,\n",
    "\tmode         = 'valid',\n",
    "\tfilename     = os.path.join(OUT_PLOT1, model.__name__ + '-valid'),\n",
    "\tapply_limits = False,\n",
    "\tstart_index  = CONFIG['core/plots']\n",
    ")"
   ]
  },
  {
   "cell_type": "markdown",
   "id": "bb2ee472-f155-4244-8116-a15f8bcd3e3e",
   "metadata": {},
   "source": [
    "## 3.3 Evaluation"
   ]
  },
  {
   "cell_type": "markdown",
   "id": "92b2f3a4-87bf-4f37-b559-e921000a2e12",
   "metadata": {},
   "source": [
    "### 3.3.1 Last Model"
   ]
  },
  {
   "cell_type": "markdown",
   "id": "b506900d-502f-4e4c-9998-f3da5d9eec05",
   "metadata": {
    "tags": []
   },
   "source": [
    "#### 3.3.1.1 Evaluation"
   ]
  },
  {
   "cell_type": "code",
   "execution_count": null,
   "id": "dc2e9777-e5fa-4aed-8b8a-6091762fe850",
   "metadata": {
    "tags": []
   },
   "outputs": [],
   "source": [
    "# Load last model\n",
    "\n",
    "checkpoint = loader.load_torch(\n",
    "\tfilename = os.path.join(OUT_MODEL1, model.__name__ + '-last.pth')\n",
    ")\n",
    "\n",
    "final_report['evaluation/last/epoch'] = checkpoint['epoch']\n",
    "final_report['evaluation/last/loss']  = checkpoint['loss']\n",
    "\n",
    "print('Epoch : ' + '{}'.format(final_report['evaluation/last/epoch']))\n",
    "print(' Loss : ' + '{:.5f}'.format(final_report['evaluation/last/loss']))\n",
    "print()\n",
    "\n",
    "model.load_state_dict(checkpoint['models'])"
   ]
  },
  {
   "cell_type": "code",
   "execution_count": null,
   "id": "2dc36ae1-e2f0-4f34-ac70-23d78e4ba16f",
   "metadata": {
    "tags": []
   },
   "outputs": [],
   "source": [
    "# Evaluate the full model on keep test\n",
    "\n",
    "if CONFIG['model/mode'] == 'regression' :\n",
    "\treport_keep, final_report = cnn_model.eval_regressor_with_report(\n",
    "\t\tmodel  = model,\n",
    "\t\tparams = model_params,\n",
    "\t\treport = final_report,\n",
    "\t\tmode   = 'evaluation/last/test'\n",
    "\t)\n",
    "\n",
    "if CONFIG['model/mode'] == 'classification' :\n",
    "\treport_keep, final_report = cnn_model.eval_classifier_with_report(\n",
    "\t\tmodel  = model,\n",
    "\t\tparams = model_params,\n",
    "\t\treport = final_report,\n",
    "\t\tmode   = 'evaluation/last/test'\n",
    "\t)"
   ]
  },
  {
   "cell_type": "code",
   "execution_count": null,
   "id": "5043721b-b111-425c-ad88-6c098ee093d2",
   "metadata": {
    "tags": []
   },
   "outputs": [],
   "source": [
    "# Evaluate the full model on full test\n",
    "\n",
    "if CONFIG['model/mode'] == 'regression' :\n",
    "\treport_full, final_report = cnn_model.eval_regressor_with_report(\n",
    "\t\tmodel  = model,\n",
    "\t\tparams = model_params | {\n",
    "\t\t\t'test_dataloader' : full_dataloader\n",
    "\t\t},\n",
    "\t\treport = final_report,\n",
    "\t\tmode   = 'evaluation/last/full'\n",
    "\t)\n",
    "\n",
    "if CONFIG['model/mode'] == 'classification' :\n",
    "\treport_full, final_report = cnn_model.eval_classifier_with_report(\n",
    "\t\tmodel  = model,\n",
    "\t\tparams = model_params | {\n",
    "\t\t\t'test_dataloader' : full_dataloader\n",
    "\t\t},\n",
    "\t\treport = final_report,\n",
    "\t\tmode   = 'evaluation/last/full'\n",
    "\t)"
   ]
  },
  {
   "cell_type": "markdown",
   "id": "560f4132-f0af-449c-818d-77f261790184",
   "metadata": {},
   "source": [
    "### 3.3.2 Best Model"
   ]
  },
  {
   "cell_type": "markdown",
   "id": "4d70ef47-08d9-498f-8b9d-4e1b87b9f78e",
   "metadata": {},
   "source": [
    "#### 3.3.2.1 Evaluation"
   ]
  },
  {
   "cell_type": "code",
   "execution_count": null,
   "id": "50d18b6f-78ca-4f22-a755-f8a971a9b01c",
   "metadata": {
    "tags": []
   },
   "outputs": [],
   "source": [
    "# Load best model\n",
    "\n",
    "checkpoint = loader.load_torch(\n",
    "\tfilename = os.path.join(OUT_MODEL1, model.__name__ + '-best.pth')\n",
    ")\n",
    "\n",
    "final_report['evaluation/best/epoch'] = checkpoint['epoch']\n",
    "final_report['evaluation/best/loss']  = checkpoint['loss']\n",
    "\n",
    "print('Epoch : ' + '{}'.format(final_report['evaluation/best/epoch']))\n",
    "print(' Loss : ' + '{:.5f}'.format(final_report['evaluation/best/loss']))\n",
    "print()\n",
    "\n",
    "model.load_state_dict(checkpoint['models'])"
   ]
  },
  {
   "cell_type": "code",
   "execution_count": null,
   "id": "41f98979-37fe-4f50-9991-c9430f1fb2b3",
   "metadata": {
    "tags": []
   },
   "outputs": [],
   "source": [
    "# Evaluate the full model on keep test\n",
    "\n",
    "if CONFIG['model/mode'] == 'regression' :\n",
    "\treport_keep, final_report = cnn_model.eval_regressor_with_report(\n",
    "\t\tmodel  = model,\n",
    "\t\tparams = model_params,\n",
    "\t\treport = final_report,\n",
    "\t\tmode   = 'evaluation/best/test'\n",
    "\t)\n",
    "\n",
    "if CONFIG['model/mode'] == 'classification' :\n",
    "\treport_keep, final_report = cnn_model.eval_classifier_with_report(\n",
    "\t\tmodel  = model,\n",
    "\t\tparams = model_params,\n",
    "\t\treport = final_report,\n",
    "\t\tmode   = 'evaluation/best/test'\n",
    "\t)"
   ]
  },
  {
   "cell_type": "code",
   "execution_count": null,
   "id": "8c645991-da3c-4a0c-ae8f-b2e158902c4d",
   "metadata": {
    "tags": []
   },
   "outputs": [],
   "source": [
    "# Evaluate the full model on full test\n",
    "\n",
    "if CONFIG['model/mode'] == 'regression' :\n",
    "\treport_full, final_report = cnn_model.eval_regressor_with_report(\n",
    "\t\tmodel  = model,\n",
    "\t\tparams = model_params | {\n",
    "\t\t\t'test_dataloader' : full_dataloader\n",
    "\t\t},\n",
    "\t\treport = final_report,\n",
    "\t\tmode   = 'evaluation/best/full'\n",
    "\t)\n",
    "\n",
    "if CONFIG['model/mode'] == 'classification' :\n",
    "\treport_full, final_report = cnn_model.eval_classifier_with_report(\n",
    "\t\tmodel  = model,\n",
    "\t\tparams = model_params | {\n",
    "\t\t\t'test_dataloader' : full_dataloader\n",
    "\t\t},\n",
    "\t\treport = final_report,\n",
    "\t\tmode   = 'evaluation/best/full'\n",
    "\t)"
   ]
  },
  {
   "cell_type": "markdown",
   "id": "a160c2f5-cfad-4e16-a1c8-6a2918f407d4",
   "metadata": {},
   "source": [
    "#### 3.3.2.2 Custom"
   ]
  },
  {
   "cell_type": "code",
   "execution_count": null,
   "id": "bbdc48ae-9243-4754-adfc-08d80f225d68",
   "metadata": {
    "tags": []
   },
   "outputs": [],
   "source": [
    "# Display the first few evaluation item predictions and expectations\n",
    "\n",
    "if CONFIG['model/mode'] == 'regression' :\n",
    "\tcnn_utils.display_regression_predictions(\n",
    "\t\treport = report_keep,\n",
    "\t\tn      = 2\n",
    "\t)\n",
    "\n",
    "if CONFIG['model/mode'] == 'classification' :\n",
    "\tcnn_utils.display_classification_predictions(\n",
    "\t\treport = report_keep,\n",
    "\t\tn      = 2,\n",
    "\t\tbinary = True\n",
    "\t)"
   ]
  },
  {
   "cell_type": "code",
   "execution_count": null,
   "id": "8b85d3e1-9ded-4ec0-8aed-d7f8ccc76d7c",
   "metadata": {
    "tags": []
   },
   "outputs": [],
   "source": [
    "# Display the first few evaluation item predictions and expectations\n",
    "\n",
    "if CONFIG['model/mode'] == 'regression' :\n",
    "\tcnn_utils.display_regression_predictions(\n",
    "\t\treport = report_full,\n",
    "\t\tn      = 2\n",
    "\t)\n",
    "\n",
    "if CONFIG['model/mode'] == 'classification' :\n",
    "\tcnn_utils.display_classification_predictions(\n",
    "\t\treport = report_full,\n",
    "\t\tn      = 2\n",
    "\t)"
   ]
  },
  {
   "cell_type": "markdown",
   "id": "b213a3c7-a0c6-4304-b709-4c0951d8aab7",
   "metadata": {},
   "source": [
    "#### 3.3.2.3 Visualization"
   ]
  },
  {
   "cell_type": "code",
   "execution_count": null,
   "id": "6b07c12c-da41-46c6-8022-a83864e70495",
   "metadata": {},
   "outputs": [],
   "source": [
    "# Plot prediction histplot\n",
    "\n",
    "if CONFIG['model/mode'] == 'classification' :\n",
    "\tcnn_plot.plot_prediction_histplot(\n",
    "\t\treport   = report_keep,\n",
    "\t\tfilename = os.path.join(OUT_PLOT1, model.__name__ + '-keep'),\n",
    "\t\tfigsize  = (12, 5)\n",
    "\t)"
   ]
  },
  {
   "cell_type": "code",
   "execution_count": null,
   "id": "bfd3edb1-7629-4b00-ba91-ceeaa3abc3c4",
   "metadata": {},
   "outputs": [],
   "source": [
    "# Plot prediction histplot\n",
    "\n",
    "if CONFIG['model/mode'] == 'classification' :\n",
    "\tcnn_plot.plot_prediction_histplot(\n",
    "\t\treport   = report_full,\n",
    "\t\tfilename = os.path.join(OUT_PLOT1, model.__name__ + '-full'),\n",
    "\t\tfigsize  = (12, 5)\n",
    "\t)"
   ]
  },
  {
   "cell_type": "code",
   "execution_count": null,
   "id": "c126d044-6fa7-4214-8d7a-4bc0162e4f7c",
   "metadata": {
    "tags": []
   },
   "outputs": [],
   "source": [
    "# Plot confusion matrix\n",
    "\n",
    "if CONFIG['model/mode'] == 'classification' :\n",
    "\tcnn_plot.plot_confusion_matrix(\n",
    "\t\treport   = report_keep,\n",
    "\t\tfilename = os.path.join(OUT_PLOT1, model.__name__ + '-keep'),\n",
    "\t\tfigsize  = (12, 5)\n",
    "\t)"
   ]
  },
  {
   "cell_type": "code",
   "execution_count": null,
   "id": "9855aaab-4c5f-464a-82e3-c98c5bff579e",
   "metadata": {
    "tags": []
   },
   "outputs": [],
   "source": [
    "# Plot confusion matrix\n",
    "\n",
    "if CONFIG['model/mode'] == 'classification' :\n",
    "\tcnn_plot.plot_confusion_matrix(\n",
    "\t\treport   = report_full,\n",
    "\t\tfilename = os.path.join(OUT_PLOT1, model.__name__ + '-full'),\n",
    "\t\tfigsize  = (12, 5)\n",
    "\t)"
   ]
  },
  {
   "cell_type": "code",
   "execution_count": null,
   "id": "9bd3dcfa-b0e0-471d-bcf4-ad11321049f7",
   "metadata": {
    "tags": []
   },
   "outputs": [],
   "source": [
    "# Display prediction error per group\n",
    "\n",
    "if CONFIG['model/mode'] == 'regression' :\n",
    "\tcnn_plot.show_prediction_error_grid(\n",
    "\t\treport   = report_keep,\n",
    "\t\torder    = ['on/off'],\n",
    "\t\tfilename = os.path.join(OUT_PLOT1, model.__name__ + '-keep-best')\n",
    "\t)"
   ]
  },
  {
   "cell_type": "code",
   "execution_count": null,
   "id": "a94d7bb4-0c79-4d83-a969-d26357952e22",
   "metadata": {},
   "outputs": [],
   "source": [
    "# Display prediction error per group\n",
    "\n",
    "if CONFIG['model/mode'] == 'regression' :\n",
    "\tcnn_plot.show_prediction_error_grid(\n",
    "\t\treport   = report_full,\n",
    "\t\torder    = ['on/off'],\n",
    "\t\tfilename = os.path.join(OUT_PLOT1, model.__name__ + '-full-best')\n",
    "\t)"
   ]
  },
  {
   "cell_type": "code",
   "execution_count": null,
   "id": "01f09342-5c10-4d62-ab3a-1922ca38e0fd",
   "metadata": {
    "tags": []
   },
   "outputs": [],
   "source": [
    "# Display prediction linear regression per group\n",
    "\n",
    "if CONFIG['model/mode'] == 'regression' :\n",
    "\tcnn_plot.show_linear_regression_grid(\n",
    "\t\treport   = report_keep,\n",
    "\t\torder    = ['on/off'],\n",
    "\t\tfilename = os.path.join(OUT_PLOT1, model.__name__ + '-keep-best')\n",
    "\t)"
   ]
  },
  {
   "cell_type": "code",
   "execution_count": null,
   "id": "cd4dbdfd-db28-4ed4-ac45-34dcf4c2d05e",
   "metadata": {},
   "outputs": [],
   "source": [
    "# Display prediction linear regression per group\n",
    "\n",
    "if CONFIG['model/mode'] == 'regression' :\n",
    "\tcnn_plot.show_linear_regression_grid(\n",
    "\t\treport   = report_full,\n",
    "\t\torder    = ['on/off'],\n",
    "\t\tfilename = os.path.join(OUT_PLOT1, model.__name__ + '-full-best')\n",
    "\t)"
   ]
  },
  {
   "cell_type": "markdown",
   "id": "5263b84b-0a0f-422b-bf2f-adb10a5193b1",
   "metadata": {},
   "source": [
    "## 3.4 Save"
   ]
  },
  {
   "cell_type": "code",
   "execution_count": null,
   "id": "02253ca7-813b-4d37-96d4-22bf628355bd",
   "metadata": {
    "tags": []
   },
   "outputs": [],
   "source": [
    "# Convert reports from numpy array to lists\n",
    "\n",
    "def ensure_json_validity (item) :\n",
    "\tif   isinstance(item, dict)          : pass\n",
    "\telif isinstance(item, list)          : return item\n",
    "\telif isinstance(item, numpy.ndarray) : return item.tolist()\n",
    "\telif isinstance(item, float)         : return item\n",
    "\telif isinstance(item, int)           : return item\n",
    "\telif isinstance(item, str)           : return item\n",
    "\telse                                 : return None\n",
    "\n",
    "\tdata = dict()\n",
    "\n",
    "\tfor key in item.keys() :\n",
    "\t\tdata[key] = ensure_json_validity(item[key])\n",
    "\n",
    "\treturn data\n",
    "\n",
    "report_keep = ensure_json_validity(report_keep)\n",
    "report_full = ensure_json_validity(report_full)"
   ]
  },
  {
   "cell_type": "code",
   "execution_count": null,
   "id": "86967e32-43de-4762-943f-64957b217e83",
   "metadata": {
    "tags": []
   },
   "outputs": [],
   "source": [
    "# Save results\n",
    "\n",
    "for key, value in final_report.items() :\n",
    "\tif isinstance(value, numpy.float32) :\n",
    "\t\tfinal_report[key] = float(value)\n",
    "\n",
    "writer.write_json(\n",
    "\tdata     = final_report,\n",
    "\tfilename = os.path.join(OUT_DATA1, 'report.json')\n",
    ")\n",
    "\n",
    "writer.write_json(\n",
    "\tdata     = report_keep,\n",
    "\tfilename = os.path.join(OUT_DATA1, 'report_keep.json')\n",
    ")\n",
    "\n",
    "writer.write_json(\n",
    "\tdata     = report_full,\n",
    "\tfilename = os.path.join(OUT_DATA1, 'report_full.json')\n",
    ")\n",
    "\n",
    "writer.write_json(\n",
    "\tdata     = {k : v for k, v in CONFIG.items() if k != 'core/device'},\n",
    "\tfilename = os.path.join(OUT_DATA1, 'config.json')\n",
    ")"
   ]
  },
  {
   "cell_type": "markdown",
   "id": "b7f89b5b-11b2-4d26-8486-9c78d5dfa618",
   "metadata": {},
   "source": [
    "# 4. Regression"
   ]
  },
  {
   "cell_type": "code",
   "execution_count": null,
   "id": "bcae2dbd-7653-46c4-916e-43ea4ea22547",
   "metadata": {
    "tags": []
   },
   "outputs": [],
   "source": [
    "# Update to correct mode\n",
    "\n",
    "CONFIG['model/mode']              = 'regression'\n",
    "CONFIG['model/features']          = True\n",
    "CONFIG['dataset/split/generator'] = 'group'\n",
    "CONFIG['criterion/name']          = 'corrected-mse'\n",
    "\n",
    "final_report = dict()"
   ]
  },
  {
   "cell_type": "markdown",
   "id": "23178e9f-c752-4c46-bc2f-b5f197a48734",
   "metadata": {},
   "source": [
    "## 4.1 Dataloader"
   ]
  },
  {
   "cell_type": "markdown",
   "id": "6d75a0e8-09e0-47ea-b871-4bd523c72f1e",
   "metadata": {},
   "source": [
    "### 4.1.1 Convert"
   ]
  },
  {
   "cell_type": "code",
   "execution_count": null,
   "id": "8fa8728c-4cb5-409b-96a8-aeb8eb9de9b6",
   "metadata": {
    "tags": []
   },
   "outputs": [],
   "source": [
    "# Print examples\n",
    "\n",
    "genes = numpy.array(report_full['eval']['keys'],  dtype = str          ).flatten()\n",
    "ypred = numpy.array(report_full['eval']['ypred'], dtype = numpy.float64).flatten()\n",
    "ytrue = numpy.array(report_full['eval']['ytrue'], dtype = numpy.float64).flatten()\n",
    "\n",
    "for i in range(5) :\n",
    "\tprint('{} : pred = {:.05f} : true = {:0.1f}'.format(genes[i], ypred[i], ytrue[i]))\n",
    "\n",
    "print()"
   ]
  },
  {
   "cell_type": "markdown",
   "id": "d234be67-d2b0-4b91-90e9-306782e3927a",
   "metadata": {},
   "source": [
    "### 4.1.2 Select"
   ]
  },
  {
   "cell_type": "code",
   "execution_count": null,
   "id": "d41d0436-d2a6-40d0-9b33-f206a9c25a55",
   "metadata": {
    "tags": []
   },
   "outputs": [],
   "source": [
    "# Select only expressed transcripts\n",
    "\n",
    "transcripts = genes[ypred > 0.5]\n",
    "\n",
    "x = len(transcripts)\n",
    "y = len(genes)\n",
    "\n",
    "print('Selected {:5,d} [{:.2f} %] of all transcripts'.format(x, 100 * x / y))\n",
    "print()\n",
    "\n",
    "sequence = {k : v for k, v in sequence_merge.items() if k in transcripts}\n",
    "features = {k : v for k, v in features_merge.items() if k in transcripts}"
   ]
  },
  {
   "cell_type": "code",
   "execution_count": null,
   "id": "fbcf0a3b-b32f-410c-94e3-5648f7c002a8",
   "metadata": {
    "tags": []
   },
   "outputs": [],
   "source": [
    "\n",
    "target_name = '{}-{}'.format(\n",
    "\tCONFIG['model/output/target'],\n",
    "\tCONFIG['model/output/type']\n",
    ")\n",
    "\n",
    "print('Target Name    : {}'.format(target_name))\n",
    "print('Output Target  : {}'.format(CONFIG['model/output/target']))\n",
    "print('Output Type    : {}'.format(CONFIG['model/output/type']))\n",
    "print('Output Explode : {}'.format(CONFIG['model/output/explode']))\n",
    "print('Output Filter  : {}'.format(CONFIG['model/output/filter']))\n",
    "print()\n",
    "\n",
    "data_keep = loader.load_pickle(filename = os.path.join(RES_NBP05, 'mapping-grouped-keep.pkl'))\n",
    "data_drop = loader.load_pickle(filename = os.path.join(RES_NBP05, 'mapping-grouped-drop.pkl'))\n",
    "\n",
    "targets_keep = data_keep[target_name]\n",
    "targets_drop = data_drop[target_name]\n",
    "\n",
    "targets_keep = targets_keep[targets_keep['ID'].isin(transcripts)].copy()\n",
    "targets_drop = targets_drop[targets_drop['ID'].isin(transcripts)].copy()\n",
    "\n",
    "if CONFIG['model/output/explode'] :\n",
    "\tkey = CONFIG['model/output/target'].capitalize()\n",
    "\n",
    "\tfrom sklearn.preprocessing import LabelBinarizer\n",
    "\n",
    "\tbinarizer = LabelBinarizer()\n",
    "\tbinarizer.fit(targets_keep[key].iloc[0])\n",
    "\n",
    "\ttargets_keep = targets_keep.explode(column = ['TPM_Value', 'TPM_Label', key])\n",
    "\ttargets_drop = targets_drop.explode(column = ['TPM_Value', 'TPM_Label', key])\n",
    "\n",
    "\ttargets_keep['ID'] = targets_keep[key].astype(str) + '?' + targets_keep['ID'].astype(str)\n",
    "\ttargets_drop['ID'] = targets_drop[key].astype(str) + '?' + targets_drop['ID'].astype(str)\n",
    "\n",
    "\tif CONFIG['model/output/filter'] is not None :\n",
    "\t\ttargets_keep = targets_keep[targets_keep[key] == CONFIG['model/output/filter']].copy()\n",
    "\t\ttargets_drop = targets_drop[targets_drop[key] == CONFIG['model/output/filter']].copy()\n",
    "\n",
    "\t\ttarget_order = [CONFIG['model/output/filter']]\n",
    "\telse :\n",
    "\t\ttarget_order = ['mix']\n",
    "\n",
    "\tfeatures_keep = {\n",
    "\t\titem['ID'] : numpy.concatenate((\n",
    "\t\t\tfeatures[item['ID'].split('?')[-1]],\n",
    "\t\t\tbinarizer.transform([item[key]]).flatten()\n",
    "\t\t), axis = 0)\n",
    "\t\tfor _, item in targets_keep.iterrows()\n",
    "\t}\n",
    "\n",
    "\tfeature_drop = {\n",
    "\t\titem['ID'] : numpy.concatenate((\n",
    "\t\t\tfeatures[item['ID'].split('?')[-1]],\n",
    "\t\t\tbinarizer.transform([item[key]]).flatten()\n",
    "\t\t), axis = 0)\n",
    "\t\tfor _, item in targets_drop.iterrows()\n",
    "\t}\n",
    "\n",
    "\tfeatures = features_keep | feature_drop\n",
    "\n",
    "targets_keep = targets_keep.set_index('ID')\n",
    "targets_drop = targets_drop.set_index('ID')\n",
    "\n",
    "targets_keep = targets_keep.to_dict(orient = 'index')\n",
    "targets_drop = targets_drop.to_dict(orient = 'index')\n",
    "\n",
    "targets =      {k : [v['TPM_Value']] for k, v in targets_keep.items()}\n",
    "targets.update({k : [v['TPM_Value']] for k, v in targets_drop.items()})\n",
    "\n",
    "print('Sequence : {:,d}'.format(len(sequence)))\n",
    "print('Features : {:,d}'.format(len(features)))\n",
    "print('Targets  : {:,d}'.format(len(targets)))\n",
    "print()"
   ]
  },
  {
   "cell_type": "markdown",
   "id": "07371f31-05a7-4e90-8757-72280cbed00f",
   "metadata": {},
   "source": [
    "### 4.1.3 Normal"
   ]
  },
  {
   "cell_type": "code",
   "execution_count": null,
   "id": "9f7c55a2-921b-4b8a-b5e6-9f9a1c8d739b",
   "metadata": {
    "tags": []
   },
   "outputs": [],
   "source": [
    "# Create dataset\n",
    "\n",
    "CONFIG['model/output/size']    = 1\n",
    "CONFIG['model/output/heads']   = None\n",
    "CONFIG['model/input/features'] = len(list(features.values())[0])\n",
    "\n",
    "start = CONFIG['dataset/sequence/start']\n",
    "end   = CONFIG['dataset/sequence/end']\n",
    "\n",
    "dataset = cnn_switch.to_dataset(\n",
    "\tsequence = sequence,\n",
    "\tfeatures = features,\n",
    "\ttargets  = targets,\n",
    "\tconfig   = CONFIG,\n",
    ")[0]\n",
    "\n",
    "CONFIG['model/fc3/features'] = CONFIG['model/output/size']\n",
    "CONFIG['model/fc3/heads']    = CONFIG['model/output/heads']\n",
    "\n",
    "print('Input Features : {}'.format(CONFIG['model/input/features']))\n",
    "print('Output Size    : {}'.format(CONFIG['model/output/size']))\n",
    "print('Output Heads   : {}'.format(CONFIG['model/output/heads']))\n",
    "print()"
   ]
  },
  {
   "cell_type": "code",
   "execution_count": null,
   "id": "ca8e7893-bf2e-4c4e-abb5-653fe46a5a9f",
   "metadata": {
    "tags": []
   },
   "outputs": [],
   "source": [
    "# Create dataloader\n",
    "\n",
    "dataloaders = cnn_switch.to_dataloader(\n",
    "\tdataset_all =  dataset,\n",
    "\tdataset_mix = [dataset],\n",
    "\tconfig      = CONFIG\n",
    ")\n",
    "\n",
    "train_dataloader = dataloaders[1][0][0]\n",
    "valid_dataloader = dataloaders[1][1][0]\n",
    "test_dataloader  = dataloaders[1][2][0]\n",
    "full_dataloader  = dataloaders[0]"
   ]
  },
  {
   "cell_type": "code",
   "execution_count": null,
   "id": "53882d3c-3502-45f7-aaf3-9ba3ef438cb4",
   "metadata": {},
   "outputs": [],
   "source": [
    "# Display train dataloader\n",
    "\n",
    "dataset_utils.show_dataloader(\n",
    "\tdataloader = train_dataloader,\n",
    "\tverbose    = CONFIG['core/verbose']\n",
    ")"
   ]
  },
  {
   "cell_type": "code",
   "execution_count": null,
   "id": "0ca2a4dd-410d-4d8d-8252-fbf420c659e8",
   "metadata": {},
   "outputs": [],
   "source": [
    "# Display valid dataloader\n",
    "\n",
    "dataset_utils.show_dataloader(\n",
    "\tdataloader = valid_dataloader,\n",
    "\tverbose    = CONFIG['core/verbose']\n",
    ")"
   ]
  },
  {
   "cell_type": "code",
   "execution_count": null,
   "id": "0398cdc5-1e61-4d65-a78e-19506265777a",
   "metadata": {},
   "outputs": [],
   "source": [
    "# Display test dataloader\n",
    "\n",
    "dataset_utils.show_dataloader(\n",
    "\tdataloader = test_dataloader,\n",
    "\tverbose    = CONFIG['core/verbose']\n",
    ")"
   ]
  },
  {
   "cell_type": "code",
   "execution_count": null,
   "id": "bf126727-618a-4b51-926e-bcc751bcc019",
   "metadata": {},
   "outputs": [],
   "source": [
    "# Display full dataloader\n",
    "\n",
    "dataset_utils.show_dataloader(\n",
    "\tdataloader = full_dataloader,\n",
    "\tverbose    = CONFIG['core/verbose']\n",
    ")"
   ]
  },
  {
   "cell_type": "markdown",
   "id": "cceddc6f-5f34-4ddd-9222-2bd036ead48f",
   "metadata": {},
   "source": [
    "## 4.2 Model"
   ]
  },
  {
   "cell_type": "markdown",
   "id": "c8f18784-1e9c-4c3c-ab72-ec24350c6add",
   "metadata": {},
   "source": [
    "### 4.2.1 Structure"
   ]
  },
  {
   "cell_type": "code",
   "execution_count": null,
   "id": "4114a15b-cf03-49c4-b470-94890b0b85dc",
   "metadata": {
    "tags": []
   },
   "outputs": [],
   "source": [
    "# Create and display the model structure\n",
    "\n",
    "if CONFIG['model/name'] == 'zrimec' :\n",
    "\tif CONFIG['model/mode'] == 'regression'     : model = Zrimec2020r(params = CONFIG)\n",
    "\tif CONFIG['model/mode'] == 'classification' : model = Zrimec2020c(params = CONFIG, binary = False)\n",
    "\n",
    "\tprint(model.summary(\n",
    "\t\tbatch_size  = CONFIG['dataset/batch/train'],\n",
    "\t\tin_height   = CONFIG['model/input/height'],\n",
    "\t\tin_width    = CONFIG['model/input/width'],\n",
    "\t\tin_features = CONFIG['model/input/features'],\n",
    "\t))\n",
    "\n",
    "if CONFIG['model/name'] == 'washburn' :\n",
    "\tif CONFIG['model/mode'] == 'regression'     : model = Washburn2019r(params = CONFIG)\n",
    "\tif CONFIG['model/mode'] == 'classification' : model = Washburn2019c(params = CONFIG, binary = False)\n",
    "\n",
    "\tprint(model.summary(\n",
    "\t\tbatch_size  = CONFIG['dataset/batch/train'],\n",
    "\t\tin_channels = CONFIG['model/input/channels'],\n",
    "\t\tin_height   = CONFIG['model/input/height'],\n",
    "\t\tin_width    = CONFIG['model/input/width'],\n",
    "\t\tin_features = CONFIG['model/input/features'],\n",
    "\t))\n",
    "\n",
    "print()"
   ]
  },
  {
   "cell_type": "code",
   "execution_count": null,
   "id": "b6e80569-6881-488e-b2b8-d158103822fb",
   "metadata": {
    "tags": []
   },
   "outputs": [],
   "source": [
    "# Convert the model to double and initialize weights and biases\n",
    "\n",
    "model = model.double()\n",
    "model = model.apply(cnn_model.he_uniform_weight)\n",
    "model = model.apply(cnn_model.zero_bias)"
   ]
  },
  {
   "cell_type": "markdown",
   "id": "ce4336bb-6066-48a5-82fc-3611409349ee",
   "metadata": {},
   "source": [
    "### 4.2.2 Metrics"
   ]
  },
  {
   "cell_type": "code",
   "execution_count": null,
   "id": "5e2ee960-2f32-4f48-8e28-2adc437ef96d",
   "metadata": {
    "tags": []
   },
   "outputs": [],
   "source": [
    "# Define metrics\n",
    "\n",
    "if CONFIG['model/mode'] == 'regression' :\n",
    "\tMETRICS = {\n",
    "\t\t'mse'   : cnn_model.get_criterion(reduction = 'none', weights = None, query = 'mse'),\n",
    "\t\t'mae'   : cnn_model.get_criterion(reduction = 'none', weights = None, query = 'mae'),\n",
    "\t\t'smae'  : cnn_model.get_criterion(reduction = 'none', weights = None, query = 'smae'),\n",
    "\t\t'mape'  : cnn_model.get_criterion(reduction = 'none', weights = None, query = 'mape',  output_size = CONFIG['model/output/size']),\n",
    "\t\t'wmape' : cnn_model.get_criterion(reduction = 'none', weights = None, query = 'wmape', output_size = CONFIG['model/output/size']),\n",
    "\t\t'r2'    : cnn_model.get_criterion(reduction = 'none', weights = None, query = 'r2',    output_size = CONFIG['model/output/size']),\n",
    "\t}\n",
    "\n",
    "if CONFIG['model/mode'] == 'classification' :\n",
    "\tMETRICS = {\n",
    "\t\t'entropy'   : cnn_model.get_criterion(reduction = 'none', weights = None, query = 'entropy'),\n",
    "\t\t'accuracy'  : cnn_model.get_criterion(reduction = 'none', weights = None, query = 'accuracy',  task = 'multiclass', n_classes = CONFIG['model/output/size']),\n",
    "\t\t'auroc'     : cnn_model.get_criterion(reduction = 'none', weights = None, query = 'auroc',     task = 'multiclass', n_classes = CONFIG['model/output/size']),\n",
    "\t\t'confusion' : cnn_model.get_criterion(reduction = 'none', weights = None, query = 'confusion', task = 'multiclass', n_classes = CONFIG['model/output/size']),\n",
    "\t\t'f1'        : cnn_model.get_criterion(reduction = 'none', weights = None, query = 'f1',        task = 'multiclass', n_classes = CONFIG['model/output/size']),\n",
    "\t\t'jaccardi'  : cnn_model.get_criterion(reduction = 'none', weights = None, query = 'jaccardi',  task = 'multiclass', n_classes = CONFIG['model/output/size']),\n",
    "\t\t'matthews'  : cnn_model.get_criterion(reduction = 'none', weights = None, query = 'matthews',  task = 'multiclass', n_classes = CONFIG['model/output/size'])\n",
    "\t}\n",
    "\n",
    "METRICS = {\n",
    "\tk : v.to(DEVICE)\n",
    "\tfor k, v in METRICS.items()\n",
    "}"
   ]
  },
  {
   "cell_type": "markdown",
   "id": "2df16d1c-8e87-4628-b6cd-eb5901421cae",
   "metadata": {},
   "source": [
    "### 4.2.3 Parameters"
   ]
  },
  {
   "cell_type": "code",
   "execution_count": null,
   "id": "25247c1a-dc7f-482d-8199-cf71ab480244",
   "metadata": {
    "tags": []
   },
   "outputs": [],
   "source": [
    "# Set the model parameters\n",
    "\n",
    "model_trainers = cnn_model.get_model_trainers(\n",
    "\tmodel  = model,\n",
    "\tconfig = CONFIG | {\n",
    "\t\t'criterion/threshold' : 0.15\n",
    "\t},\n",
    "\tepochs = CONFIG['model/epochs']\n",
    ")\n",
    "\n",
    "model_params = {\n",
    "\t'model'     : model,\n",
    "\t'savebest'  : os.path.join(OUT_MODEL2, f'{model.__name__}-best.pth'),\n",
    "\t'savelast'  : os.path.join(OUT_MODEL2, f'{model.__name__}-last.pth'),\n",
    "\t'savetime'  : os.path.join(OUT_MODEL2, f'{model.__name__}-time.pth'),\n",
    "\t'epochs'    : CONFIG['model/epochs'],\n",
    "\t'criterion' : model_trainers['criterion'],\n",
    "\t'optimizer' : model_trainers['optimizer'],\n",
    "\t'scheduler' : model_trainers['scheduler'],\n",
    "\t'device'    : DEVICE,\n",
    "\t'verbose'   : CONFIG['core/verbose'],\n",
    "\t'metrics'   : METRICS,\n",
    "\t'train_dataloader' : train_dataloader,\n",
    "\t'valid_dataloader' : valid_dataloader,\n",
    "\t'test_dataloader'  : test_dataloader\n",
    "}"
   ]
  },
  {
   "cell_type": "markdown",
   "id": "d19c070d-c6f6-4ad8-ae59-66a12e907b6d",
   "metadata": {},
   "source": [
    "### 4.2.4 Train"
   ]
  },
  {
   "cell_type": "code",
   "execution_count": null,
   "id": "439cfa3b-4190-4682-abfa-9703e0dacd11",
   "metadata": {
    "tags": []
   },
   "outputs": [],
   "source": [
    "# Train and validate the model\n",
    "\n",
    "if CONFIG['model/mode'] == 'regression' :\n",
    "\treport = cnn_model.train_regressor(\n",
    "\t\tmodel  = model,\n",
    "\t\tparams = model_params\n",
    "\t)\n",
    "\n",
    "if CONFIG['model/mode'] == 'classification' :\n",
    "\treport = cnn_model.train_classifier(\n",
    "\t\tmodel  = model,\n",
    "\t\tparams = model_params\n",
    "\t)"
   ]
  },
  {
   "cell_type": "markdown",
   "id": "9e954ac5-7f98-4173-a65a-90bd0253ebeb",
   "metadata": {},
   "source": [
    "### 4.2.5 Visualization"
   ]
  },
  {
   "cell_type": "code",
   "execution_count": null,
   "id": "13bb3eb8-d901-4df0-8913-48805f950306",
   "metadata": {},
   "outputs": [],
   "source": [
    "# Display the training and validation loss curves\n",
    "\n",
    "cnn_plot.show_loss(\n",
    "\treport       = report,\n",
    "\ttitle        = 'Loss Function',\n",
    "\tfilename     = os.path.join(OUT_PLOT2, model.__name__),\n",
    "\tlimit_bot    = None,\n",
    "\tlimit_top    = None,\n",
    "\tstart_index  = CONFIG['core/plots']\n",
    ")"
   ]
  },
  {
   "cell_type": "code",
   "execution_count": null,
   "id": "e0f1c894-7454-456d-894c-c79c866bff8e",
   "metadata": {},
   "outputs": [],
   "source": [
    "# Display the training and validation learning rate curves\n",
    "\n",
    "cnn_plot.show_lr(\n",
    "\treport      = report,\n",
    "\ttitle       = 'Learning Rate',\n",
    "\tfilename    = os.path.join(OUT_PLOT2, model.__name__),\n",
    "\tlimit_bot   = None,\n",
    "\tlimit_top   = None,\n",
    "\tstart_index = None\n",
    ")"
   ]
  },
  {
   "cell_type": "code",
   "execution_count": null,
   "id": "5a6cb1e2-6b3b-49b3-99f8-5c7c2c1037a7",
   "metadata": {},
   "outputs": [],
   "source": [
    "# Display the training and validation accuracy or r2 curves\n",
    "\n",
    "if CONFIG['model/mode'] == 'regression' :\n",
    "\tcnn_plot.show_r2(\n",
    "\t\treport       = report,\n",
    "\t\ttitle        = 'R2 Score',\n",
    "\t\tfilename     = os.path.join(OUT_PLOT2, model.__name__),\n",
    "\t\tlimit_bot    = None,\n",
    "\t\tlimit_top    = None,\n",
    "\t\tstart_index  = CONFIG['core/plots']\n",
    "\t)\n",
    "\n",
    "if CONFIG['model/mode'] == 'classification' :\n",
    "\tcnn_plot.show_accuracy(\n",
    "\t\treport       = report,\n",
    "\t\ttitle        = 'Accuracy',\n",
    "\t\tfilename     = os.path.join(OUT_PLOT2, model.__name__),\n",
    "\t\tlimit_bot    = None,\n",
    "\t\tlimit_top    = None,\n",
    "\t\tstart_index  = CONFIG['core/plots']\n",
    "\t)"
   ]
  },
  {
   "cell_type": "code",
   "execution_count": null,
   "id": "f3b0b02d-3c25-4b0b-9a2a-b76a7b853df9",
   "metadata": {},
   "outputs": [],
   "source": [
    "# Display the training metrics per batch\n",
    "\n",
    "cnn_plot.show_metric_grid(\n",
    "\treport       = report,\n",
    "\tmode         = 'train',\n",
    "\tfilename     = os.path.join(OUT_PLOT2, model.__name__ + '-train'),\n",
    "\tapply_limits = False,\n",
    "\tstart_index  = CONFIG['core/plots']\n",
    ")"
   ]
  },
  {
   "cell_type": "code",
   "execution_count": null,
   "id": "f97464b1-1785-4796-9df8-bea440c82264",
   "metadata": {},
   "outputs": [],
   "source": [
    "# Display the validation metrics per batch\n",
    "\n",
    "cnn_plot.show_metric_grid(\n",
    "\treport       = report,\n",
    "\tmode         = 'valid',\n",
    "\tfilename     = os.path.join(OUT_PLOT2, model.__name__ + '-valid'),\n",
    "\tapply_limits = False,\n",
    "\tstart_index  = CONFIG['core/plots']\n",
    ")"
   ]
  },
  {
   "cell_type": "markdown",
   "id": "ea12f683-86ca-4e59-a637-d9181ff07d48",
   "metadata": {},
   "source": [
    "## 4.3 Evaluation"
   ]
  },
  {
   "cell_type": "markdown",
   "id": "c9927573-0d5a-4f02-aa00-2e6c4ee43e1f",
   "metadata": {},
   "source": [
    "### 4.3.1 Last Model"
   ]
  },
  {
   "cell_type": "markdown",
   "id": "e1e42d2e-90ff-4df1-a1cb-1c6f0fc13d96",
   "metadata": {
    "tags": []
   },
   "source": [
    "#### 4.3.1.1 Evaluation"
   ]
  },
  {
   "cell_type": "code",
   "execution_count": null,
   "id": "5cd49742-d1df-4ac5-a81e-fa31b5e8b03d",
   "metadata": {
    "tags": []
   },
   "outputs": [],
   "source": [
    "# Load last model\n",
    "\n",
    "checkpoint = loader.load_torch(\n",
    "\tfilename = os.path.join(OUT_MODEL2, model.__name__ + '-last.pth')\n",
    ")\n",
    "\n",
    "final_report['evaluation/last/epoch'] = checkpoint['epoch']\n",
    "final_report['evaluation/last/loss']  = checkpoint['loss']\n",
    "\n",
    "print('Epoch : ' + '{}'.format(final_report['evaluation/last/epoch']))\n",
    "print(' Loss : ' + '{:.5f}'.format(final_report['evaluation/last/loss']))\n",
    "print()\n",
    "\n",
    "model.load_state_dict(checkpoint['models'])"
   ]
  },
  {
   "cell_type": "code",
   "execution_count": null,
   "id": "0895d205-dcac-421b-890e-d7fbdb01de02",
   "metadata": {
    "tags": []
   },
   "outputs": [],
   "source": [
    "# Evaluate the full model on keep test\n",
    "\n",
    "if CONFIG['model/mode'] == 'regression' :\n",
    "\treport_keep, final_report = cnn_model.eval_regressor_with_report(\n",
    "\t\tmodel  = model,\n",
    "\t\tparams = model_params,\n",
    "\t\treport = final_report,\n",
    "\t\tmode   = 'evaluation/last/test'\n",
    "\t)\n",
    "\n",
    "if CONFIG['model/mode'] == 'classification' :\n",
    "\treport_keep, final_report = cnn_model.eval_classifier_with_report(\n",
    "\t\tmodel  = model,\n",
    "\t\tparams = model_params,\n",
    "\t\treport = final_report,\n",
    "\t\tmode   = 'evaluation/last/test'\n",
    "\t)"
   ]
  },
  {
   "cell_type": "code",
   "execution_count": null,
   "id": "e0f8d408-a40f-4827-b849-6781e14b58eb",
   "metadata": {
    "tags": []
   },
   "outputs": [],
   "source": [
    "# Evaluate the full model on full test\n",
    "\n",
    "if CONFIG['model/mode'] == 'regression' :\n",
    "\treport_full, final_report = cnn_model.eval_regressor_with_report(\n",
    "\t\tmodel  = model,\n",
    "\t\tparams = model_params | {\n",
    "\t\t\t'test_dataloader' : full_dataloader\n",
    "\t\t},\n",
    "\t\treport = final_report,\n",
    "\t\tmode   = 'evaluation/last/full'\n",
    "\t)\n",
    "\n",
    "if CONFIG['model/mode'] == 'classification' :\n",
    "\treport_full, final_report = cnn_model.eval_classifier_with_report(\n",
    "\t\tmodel  = model,\n",
    "\t\tparams = model_params | {\n",
    "\t\t\t'test_dataloader' : full_dataloader\n",
    "\t\t},\n",
    "\t\treport = final_report,\n",
    "\t\tmode   = 'evaluation/last/full'\n",
    "\t)"
   ]
  },
  {
   "cell_type": "markdown",
   "id": "cfb58a23-6434-43d7-bf1e-18a22a23a473",
   "metadata": {},
   "source": [
    "### 4.3.2 Best Model"
   ]
  },
  {
   "cell_type": "markdown",
   "id": "b4e1ca6b-aa7b-47af-b076-bce44416b122",
   "metadata": {},
   "source": [
    "#### 4.3.2.1 Evaluation"
   ]
  },
  {
   "cell_type": "code",
   "execution_count": null,
   "id": "15732b68-138b-46c4-badb-e2caa8165361",
   "metadata": {
    "tags": []
   },
   "outputs": [],
   "source": [
    "# Load best model\n",
    "\n",
    "checkpoint = loader.load_torch(\n",
    "\tfilename = os.path.join(OUT_MODEL2, model.__name__ + '-best.pth')\n",
    ")\n",
    "\n",
    "final_report['evaluation/best/epoch'] = checkpoint['epoch']\n",
    "final_report['evaluation/best/loss']  = checkpoint['loss']\n",
    "\n",
    "print('Epoch : ' + '{}'.format(final_report['evaluation/best/epoch']))\n",
    "print(' Loss : ' + '{:.5f}'.format(final_report['evaluation/best/loss']))\n",
    "print()\n",
    "\n",
    "model.load_state_dict(checkpoint['models'])"
   ]
  },
  {
   "cell_type": "code",
   "execution_count": null,
   "id": "d056814b-97ae-424c-bafe-8921d66a467a",
   "metadata": {
    "tags": []
   },
   "outputs": [],
   "source": [
    "# Evaluate the full model on keep test\n",
    "\n",
    "if CONFIG['model/mode'] == 'regression' :\n",
    "\treport_keep, final_report = cnn_model.eval_regressor_with_report(\n",
    "\t\tmodel  = model,\n",
    "\t\tparams = model_params,\n",
    "\t\treport = final_report,\n",
    "\t\tmode   = 'evaluation/best/test'\n",
    "\t)\n",
    "\n",
    "if CONFIG['model/mode'] == 'classification' :\n",
    "\treport_keep, final_report = cnn_model.eval_classifier_with_report(\n",
    "\t\tmodel  = model,\n",
    "\t\tparams = model_params,\n",
    "\t\treport = final_report,\n",
    "\t\tmode   = 'evaluation/best/test'\n",
    "\t)"
   ]
  },
  {
   "cell_type": "code",
   "execution_count": null,
   "id": "74b24248-0921-498f-96e9-701c0b5a9c1f",
   "metadata": {
    "tags": []
   },
   "outputs": [],
   "source": [
    "# Evaluate the full model on drop test\n",
    "\n",
    "if CONFIG['model/mode'] == 'regression' :\n",
    "\treport_full, final_report = cnn_model.eval_regressor_with_report(\n",
    "\t\tmodel  = model,\n",
    "\t\tparams = model_params | {\n",
    "\t\t\t'test_dataloader' : full_dataloader\n",
    "\t\t},\n",
    "\t\treport = final_report,\n",
    "\t\tmode   = 'evaluation/best/full'\n",
    "\t)\n",
    "\n",
    "if CONFIG['model/mode'] == 'classification' :\n",
    "\treport_full, final_report = cnn_model.eval_classifier_with_report(\n",
    "\t\tmodel  = model,\n",
    "\t\tparams = model_params | {\n",
    "\t\t\t'test_dataloader' : full_dataloader\n",
    "\t\t},\n",
    "\t\treport = final_report,\n",
    "\t\tmode   = 'evaluation/best/full'\n",
    "\t)"
   ]
  },
  {
   "cell_type": "markdown",
   "id": "5d299f86-2df6-4498-be54-876fa5b3c8bd",
   "metadata": {},
   "source": [
    "#### 4.3.2.2 Visualization"
   ]
  },
  {
   "cell_type": "code",
   "execution_count": null,
   "id": "bbe68a6f-25c1-4162-859b-5aacda82bf86",
   "metadata": {
    "tags": []
   },
   "outputs": [],
   "source": [
    "# Display prediction error per group\n",
    "\n",
    "if CONFIG['model/mode'] == 'regression' :\n",
    "\tcnn_plot.show_prediction_error_grid(\n",
    "\t\treport   = report_keep,\n",
    "\t\torder    = target_order,\n",
    "\t\tfilename = os.path.join(OUT_PLOT2, model.__name__ + '-keep-best')\n",
    "\t)"
   ]
  },
  {
   "cell_type": "code",
   "execution_count": null,
   "id": "34eadc08-5623-4414-838f-84b61912b466",
   "metadata": {
    "tags": []
   },
   "outputs": [],
   "source": [
    "# Display prediction error per group\n",
    "\n",
    "if CONFIG['model/mode'] == 'regression' :\n",
    "\tcnn_plot.show_prediction_error_grid(\n",
    "\t\treport   = report_full,\n",
    "\t\torder    = target_order,\n",
    "\t\tfilename = os.path.join(OUT_PLOT2, model.__name__ + '-full-best')\n",
    "\t)"
   ]
  },
  {
   "cell_type": "code",
   "execution_count": null,
   "id": "24b17cbf-65a3-4006-9a7b-8e5df492b44b",
   "metadata": {
    "tags": []
   },
   "outputs": [],
   "source": [
    "# Display prediction linear regression per group\n",
    "\n",
    "if CONFIG['model/mode'] == 'regression' :\n",
    "\tcnn_plot.show_linear_regression_grid(\n",
    "\t\treport   = report_keep,\n",
    "\t\torder    = target_order,\n",
    "\t\tfilename = os.path.join(OUT_PLOT2, model.__name__ + '-keep-best')\n",
    "\t)"
   ]
  },
  {
   "cell_type": "code",
   "execution_count": null,
   "id": "52fb9ca6-04b9-4975-8229-4dc30c07fa4d",
   "metadata": {
    "tags": []
   },
   "outputs": [],
   "source": [
    "# Display prediction linear regression per group\n",
    "\n",
    "if CONFIG['model/mode'] == 'regression' :\n",
    "\tcnn_plot.show_linear_regression_grid(\n",
    "\t\treport   = report_full,\n",
    "\t\torder    = target_order,\n",
    "\t\tfilename = os.path.join(OUT_PLOT2, model.__name__ + '-full-best')\n",
    "\t)"
   ]
  },
  {
   "cell_type": "markdown",
   "id": "ff90dbfd-c798-4ac4-917d-cdc7ae095c54",
   "metadata": {},
   "source": [
    "## 4.4 Save"
   ]
  },
  {
   "cell_type": "code",
   "execution_count": null,
   "id": "b649e369-7cf8-4fb0-8946-f07f5a2c4742",
   "metadata": {
    "tags": []
   },
   "outputs": [],
   "source": [
    "# Convert reports from numpy array to lists\n",
    "\n",
    "def ensure_json_validity (item) :\n",
    "\tif   isinstance(item, dict)          : pass\n",
    "\telif isinstance(item, list)          : return item\n",
    "\telif isinstance(item, numpy.ndarray) : return item.tolist()\n",
    "\telif isinstance(item, float)         : return item\n",
    "\telif isinstance(item, int)           : return item\n",
    "\telif isinstance(item, str)           : return item\n",
    "\telse                                 : return None\n",
    "\n",
    "\tdata = dict()\n",
    "\n",
    "\tfor key in item.keys() :\n",
    "\t\tdata[key] = ensure_json_validity(item[key])\n",
    "\n",
    "\treturn data\n",
    "\n",
    "report_keep = ensure_json_validity(report_keep)\n",
    "report_full = ensure_json_validity(report_full)"
   ]
  },
  {
   "cell_type": "code",
   "execution_count": null,
   "id": "889ffb7b-bebc-47be-9630-1be9e6e5b245",
   "metadata": {
    "tags": []
   },
   "outputs": [],
   "source": [
    "# Save results\n",
    "\n",
    "for key, value in final_report.items() :\n",
    "\tif isinstance(value, numpy.float32) :\n",
    "\t\tfinal_report[key] = float(value)\n",
    "\n",
    "writer.write_json(\n",
    "\tdata     = final_report,\n",
    "\tfilename = os.path.join(OUT_DATA2, 'report.json')\n",
    ")\n",
    "\n",
    "writer.write_json(\n",
    "\tdata     = report_keep,\n",
    "\tfilename = os.path.join(OUT_DATA2, 'report_keep.json')\n",
    ")\n",
    "\n",
    "writer.write_json(\n",
    "\tdata     = report_full,\n",
    "\tfilename = os.path.join(OUT_DATA2, 'report_full.json')\n",
    ")\n",
    "\n",
    "writer.write_json(\n",
    "\tdata     = {k : v for k, v in CONFIG.items() if k != 'core/device'},\n",
    "\tfilename = os.path.join(OUT_DATA2, 'config.json')\n",
    ")"
   ]
  }
 ],
 "metadata": {
  "kernelspec": {
   "display_name": "Python 3 (ipykernel)",
   "language": "python",
   "name": "python3"
  },
  "language_info": {
   "codemirror_mode": {
    "name": "ipython",
    "version": 3
   },
   "file_extension": ".py",
   "mimetype": "text/x-python",
   "name": "python",
   "nbconvert_exporter": "python",
   "pygments_lexer": "ipython3",
   "version": "3.10.7"
  }
 },
 "nbformat": 4,
 "nbformat_minor": 5
}
