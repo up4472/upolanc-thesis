{
 "cells": [
  {
   "cell_type": "code",
   "execution_count": null,
   "id": "ecd1193c-b24d-4889-9d44-cffca77dcf0b",
   "metadata": {
    "tags": []
   },
   "outputs": [],
   "source": [
    "# Libraries\n",
    "\n",
    "import json\n",
    "import matplotlib\n",
    "import numpy\n",
    "import os\n",
    "import platform\n",
    "import seaborn\n",
    "import shutil\n",
    "import sys\n",
    "import torch"
   ]
  },
  {
   "cell_type": "code",
   "execution_count": null,
   "id": "fcce4834-edac-499a-a83a-1812b8e809a8",
   "metadata": {
    "tags": []
   },
   "outputs": [],
   "source": [
    "# Ensure source path\n",
    "\n",
    "ROOT = os.getcwd()\n",
    "\n",
    "while not ROOT.endswith('upolanc-thesis') :\n",
    "\tROOT = os.path.abspath(os.path.join(ROOT, os.pardir))\n",
    "\n",
    "\tif len(ROOT) < len('upolanc-thesis') :\n",
    "\t\tif   platform.system() == 'Linux'   : ROOT = '/d/hpc/projects/FRI/up4472/upolanc-thesis'\n",
    "\t\telif platform.system() == 'Windows' : ROOT = 'C:\\\\Developer\\\\Workspace\\\\PyCharm\\\\Projects\\\\upolanc-thesis'\n",
    "\t\telse : raise ValueError()\n",
    "\n",
    "\t\tprint(f'Warning : could not find correct directory, using default : {ROOT}')\n",
    "\t\tprint()\n",
    "\n",
    "\t\tbreak\n",
    "\n",
    "if ROOT not in sys.path :\n",
    "\tsys.path.append(ROOT)\n",
    "\n",
    "os.chdir(ROOT)"
   ]
  },
  {
   "cell_type": "code",
   "execution_count": null,
   "id": "6e68f368-bb5d-40aa-bf13-5de6712f73d9",
   "metadata": {
    "tags": []
   },
   "outputs": [],
   "source": [
    "# Code\n",
    "\n",
    "from source.python.cnn.models import Washburn2019c\n",
    "from source.python.cnn.models import Washburn2019r\n",
    "from source.python.cnn.models import Zrimec2020c\n",
    "from source.python.cnn.models import Zrimec2020r\n",
    "\n",
    "from source.python          import runtime\n",
    "from source.python.cnn      import cnn_motifs\n",
    "from source.python.encoding import onehot\n",
    "from source.python.io       import loader\n",
    "\n",
    "runtime.set_numpy_format()\n",
    "runtime.set_pandas_format()\n",
    "runtime.set_plot_theme()"
   ]
  },
  {
   "cell_type": "markdown",
   "id": "df328ca3-c975-439a-abaa-44d956c9b54d",
   "metadata": {},
   "source": [
    "# 1. Setup"
   ]
  },
  {
   "cell_type": "code",
   "execution_count": null,
   "id": "7628ffc9-6a7a-41d4-9f5a-edc2fb1f4794",
   "metadata": {
    "tags": []
   },
   "outputs": [],
   "source": [
    "# Define output and inputs\n",
    "\n",
    "FILTER_ID            = 2\n",
    "MODEL_ARCH           = 'zrimec'\n",
    "MODEL_MODE           = 'classification'\n",
    "\n",
    "SEQUENCE_RANGE       = [50, 250]\n",
    "\n",
    "NUCLEOTIDE_ALPHABET  = 'dna'\n",
    "NUCLEOTIDE_ORDER     = 'ACGT'\n",
    "NUCLEOTIDE_STRANDS   = '+ -'\n",
    "NUCLEOTIDE_VALUE     = 'fraction'\n",
    "\n",
    "DISPLAY_MOTIFS       = 'probability'\n",
    "DISPLAY_COLS         = 8\n",
    "DISPLAY_ROWS         = 4\n",
    "DISPLAY_SIZE         = [(16, 10), (16, 16)]\n",
    "\n",
    "ACTIVATION_WEIGHTED  = True\n",
    "ACTIVATION_THRESHOLD = [0, numpy.PINF]"
   ]
  },
  {
   "cell_type": "code",
   "execution_count": null,
   "id": "dd57dd08-ae24-4cb3-8d50-519d081f42ba",
   "metadata": {
    "tags": []
   },
   "outputs": [],
   "source": [
    "# Check for args\n",
    "\n",
    "if __name__ == '__main__' and 'get_ipython' in dir() :\n",
    "\tprint('Running as .ipynb')\n",
    "\tprint()\n",
    "\n",
    "if __name__ == '__main__' and 'get_ipython' not in dir() :\n",
    "\tprint('Running as .py')\n",
    "\tprint()"
   ]
  },
  {
   "cell_type": "code",
   "execution_count": null,
   "id": "ff09d461-7026-497f-8863-4b3dc5d48055",
   "metadata": {
    "tags": []
   },
   "outputs": [],
   "source": [
    "# Setup some directory paths.\n",
    "\n",
    "FILTER = 'filter' + str(FILTER_ID)\n",
    "FOLDER = '{}-f{}-{}-{}'.format(\n",
    "\tMODEL_ARCH,\n",
    "\tFILTER_ID,\n",
    "\tMODEL_MODE[0],\n",
    "\tNUCLEOTIDE_VALUE\n",
    ")\n",
    "\n",
    "if ACTIVATION_WEIGHTED : FOLDER = FOLDER + '-weight'\n",
    "else                   : FOLDER = FOLDER + '-counts'\n",
    "\n",
    "CWD       = ROOT\n",
    "OUT       = os.path.join(CWD, 'output')\n",
    "OUT_DATA  = os.path.join(OUT, 'nbp15-motifs',  FOLDER)\n",
    "RES_NBP04 = os.path.join(OUT, 'nbp04-feature', FILTER)\n",
    "\n",
    "shutil.rmtree(OUT_DATA, ignore_errors = True)\n",
    "\n",
    "os.makedirs(OUT_DATA, exist_ok = True)\n",
    "\n",
    "print(f'     Root Directory : {CWD}')\n",
    "print(f'   Output Directory : {OUT_DATA}')\n",
    "print(f' Resource Directory : {RES_NBP04}')\n",
    "print()"
   ]
  },
  {
   "cell_type": "code",
   "execution_count": null,
   "id": "528d525f-7e52-4187-8df2-2213dd609686",
   "metadata": {
    "tags": []
   },
   "outputs": [],
   "source": [
    "# Print\n",
    "\n",
    "print('Sequence Bot Index       : {}'.format(SEQUENCE_RANGE[0] if SEQUENCE_RANGE is not None else None))\n",
    "print('Sequence Top Index       : {}'.format(SEQUENCE_RANGE[1] if SEQUENCE_RANGE is not None else None))\n",
    "print('Nucleotide Alphabet      : {}'.format(NUCLEOTIDE_ALPHABET))\n",
    "print('Nucleotide Strands       : {}'.format(NUCLEOTIDE_STRANDS))\n",
    "print('Nucleotide Order         : {}'.format(NUCLEOTIDE_ORDER))\n",
    "print('Nucleotide Value         : {}'.format(NUCLEOTIDE_VALUE))\n",
    "print('Motif Display            : {}'.format(DISPLAY_MOTIFS))\n",
    "print('Activation Weighted      : {}'.format(ACTIVATION_WEIGHTED))\n",
    "print('Activation Bot Threshold : {}'.format(ACTIVATION_THRESHOLD[0]))\n",
    "print('Activation Top Threshold : {}'.format(ACTIVATION_THRESHOLD[1]))\n",
    "print()"
   ]
  },
  {
   "cell_type": "code",
   "execution_count": null,
   "id": "c3c1b239-fc2c-4649-8864-f90b56b98fce",
   "metadata": {},
   "outputs": [],
   "source": [
    "# System and device\n",
    "\n",
    "DEVICE = runtime.get_device(only_cpu = False)\n",
    "SYSTEM = runtime.get_system_info()\n",
    "\n",
    "for key, value in SYSTEM.items() :\n",
    "\tprint('{:25s} : {}'.format(key, value))\n",
    "\n",
    "print()"
   ]
  },
  {
   "cell_type": "code",
   "execution_count": null,
   "id": "13422063-c2bb-4845-8600-e68747183533",
   "metadata": {
    "tags": []
   },
   "outputs": [],
   "source": [
    "# Define sequence paths\n",
    "\n",
    "sequence_keep = os.path.join(RES_NBP04, 'sequences-2150-keep.fasta')\n",
    "sequence_drop = os.path.join(RES_NBP04, 'sequences-2150-drop.fasta')\n",
    "mutation_keep = os.path.join(RES_NBP04, 'mutation-sequences-2150.fasta')"
   ]
  },
  {
   "cell_type": "code",
   "execution_count": null,
   "id": "71bc8c06-ba2f-4549-8abc-26f4ae133b18",
   "metadata": {},
   "outputs": [],
   "source": [
    "#\n",
    "\n",
    "sequence_keep = loader.load_fasta(\n",
    "\tfilename  = sequence_keep,\n",
    "\tto_string = True\n",
    ")\n",
    "\n",
    "sequence_drop = loader.load_fasta(\n",
    "\tfilename  = sequence_drop,\n",
    "\tto_string = True\n",
    ")\n",
    "\n",
    "mutation_sequence = loader.load_fasta(\n",
    "\tfilename  = mutation_keep,\n",
    "\tto_string = True\n",
    ")\n",
    "\n",
    "if SEQUENCE_RANGE is not None : sequence = list(sequence_keep.values())[SEQUENCE_RANGE[0]:SEQUENCE_RANGE[1]]\n",
    "else                          : sequence = list(sequence_keep.values())"
   ]
  },
  {
   "cell_type": "markdown",
   "id": "115c81f2-88d8-471f-bc6e-b99219727bdf",
   "metadata": {},
   "source": [
    "# 2. Model"
   ]
  },
  {
   "cell_type": "code",
   "execution_count": null,
   "id": "661e8922-fdfe-4efd-aa23-bce8fff314f3",
   "metadata": {
    "tags": []
   },
   "outputs": [],
   "source": [
    "# Load model\n",
    "\n",
    "if MODEL_ARCH == 'zrimec'   : models_path = '{}2020{}-best.pth'.format(MODEL_ARCH, MODEL_MODE[0])\n",
    "if MODEL_ARCH == 'washburn' : models_path = '{}2019{}-best.pth'.format(MODEL_ARCH, MODEL_MODE[0])\n",
    "\n",
    "folder_path = '{}-f{}-{}'.format(MODEL_ARCH, FILTER_ID, MODEL_MODE[0])\n",
    "\n",
    "folder_path = os.path.join(OUT, 'nbp07-switch',  folder_path)\n",
    "models_path = os.path.join(folder_path, 'model', models_path)\n",
    "config_path = os.path.join(folder_path, 'config.json')\n",
    "\n",
    "print(' Model Path : {}'.format(models_path))\n",
    "print('Config Path : {}'.format(config_path))\n",
    "print()\n",
    "\n",
    "with open(config_path, mode = 'r') as handle :\n",
    "\tCONFIG = json.load(handle)\n",
    "\n",
    "if MODEL_ARCH == 'zrimec' :\n",
    "\tif MODEL_MODE[0] == 'c' : model = Zrimec2020c(params = CONFIG, binary = True)\n",
    "\tif MODEL_MODE[0] == 'r' : model = Zrimec2020r(params = CONFIG)\n",
    "\n",
    "\tprint(model.summary(\n",
    "\t\tbatch_size  = CONFIG['dataset/batch/train'],\n",
    "\t\tin_height   = CONFIG['model/input/height'],\n",
    "\t\tin_width    = CONFIG['model/input/width'],\n",
    "\t\tin_features = CONFIG['model/input/features'],\n",
    "\t))\n",
    "\n",
    "if MODEL_ARCH == 'washburn' :\n",
    "\tif MODEL_MODE[0] == 'c' : model = Washburn2019c(params = CONFIG, binary = True)\n",
    "\tif MODEL_MODE[0] == 'r' : model = Washburn2019r(params = CONFIG)\n",
    "\n",
    "\tprint(model.summary(\n",
    "\t\tbatch_size  = CONFIG['dataset/batch/train'],\n",
    "\t\tin_channels = CONFIG['model/input/channels'],\n",
    "\t\tin_height   = CONFIG['model/input/height'],\n",
    "\t\tin_width    = CONFIG['model/input/width'],\n",
    "\t\tin_features = CONFIG['model/input/features'],\n",
    "\t))\n",
    "\n",
    "print()"
   ]
  },
  {
   "cell_type": "code",
   "execution_count": null,
   "id": "81fb5604-6a8d-49f2-aad3-6db4d458654c",
   "metadata": {
    "tags": []
   },
   "outputs": [],
   "source": [
    "# Load state dict and convert to double\n",
    "\n",
    "model.load_state_dict(\n",
    "\ttorch.load(models_path)['models']\n",
    ")\n",
    "\n",
    "model = model.double()"
   ]
  },
  {
   "cell_type": "markdown",
   "id": "cae7d655-1017-4180-966a-c41564f3400d",
   "metadata": {},
   "source": [
    "# 3. Motifs"
   ]
  },
  {
   "cell_type": "code",
   "execution_count": null,
   "id": "cc2fa1a1-a624-429a-a645-0122a4e84ed0",
   "metadata": {
    "tags": []
   },
   "outputs": [],
   "source": [
    "# Get convolutional layers and generate one hot encoding mapping\n",
    "\n",
    "data = cnn_motifs.get_conv_layers_from_model(\n",
    "\tmodel = model\n",
    ")\n",
    "\n",
    "mapping = onehot.generate_onehot_mapping(\n",
    "\tnucleotide_order = NUCLEOTIDE_ORDER,\n",
    "\tambiguous_value  = NUCLEOTIDE_VALUE\n",
    ")"
   ]
  },
  {
   "cell_type": "code",
   "execution_count": null,
   "id": "0a9420ed-172f-4e30-a1d6-a48fde95e46a",
   "metadata": {
    "tags": []
   },
   "outputs": [],
   "source": [
    "# Compute kernel activations (pretty slow ~ can be up to 12h)\n",
    "# 256 filters, 5x4 kernels,    50 sequences ~   2 min\n",
    "# 256 filters, 5x4 kernels, 20000 sequences ~ 800 min\n",
    "\n",
    "ker_activations = cnn_motifs.get_kernel_activations(\n",
    "\tsequences = sequence,\n",
    "\tmapping   = mapping,\n",
    "\tlayer     = data['layer'][0],\n",
    "\tdevice    = DEVICE,\n",
    "\tweighted  = ACTIVATION_WEIGHTED,\n",
    "\tthreshold = ACTIVATION_THRESHOLD,\n",
    "\tfunction  = (\n",
    "\t\t'leaky_relu', {\n",
    "\t\t'negative_slope' : CONFIG['model/leakyrelu'],\n",
    "\t\t'inplace'        : True\n",
    "\t})\n",
    ")\n",
    "\n",
    "pos_activations = cnn_motifs.get_position_activations(\n",
    "\tsequences = sequence,\n",
    "\tmapping   = mapping,\n",
    "\tlayer     = data['layer'][0],\n",
    "\tdevice    = DEVICE,\n",
    "\tfn        = numpy.mean,\n",
    "\tfunction  = (\n",
    "\t\t'leaky_relu', {\n",
    "\t\t'negative_slope' : CONFIG['model/leakyrelu'],\n",
    "\t\t'inplace'        : True\n",
    "\t})\n",
    ")\n",
    "\n",
    "ker_activations = {i : x for i, x in enumerate(ker_activations)}"
   ]
  },
  {
   "cell_type": "code",
   "execution_count": null,
   "id": "1287165f-7113-4d67-874b-065304a8c527",
   "metadata": {
    "tags": []
   },
   "outputs": [],
   "source": [
    "# Plot kernels and motifs\n",
    "\n",
    "motifs = cnn_motifs.plot_kernels_and_motifs(\n",
    "\tweights          = data['weight'][0].squeeze(),\n",
    "\tactivations      = ker_activations,\n",
    "\tto_type          = DISPLAY_MOTIFS,\n",
    "\tnucleotide_order = NUCLEOTIDE_ORDER,\n",
    "\tfilename         = os.path.join(OUT_DATA, 'activation-kernel-motif'),\n",
    "\tcols             = DISPLAY_COLS,\n",
    "\trows             = DISPLAY_ROWS,\n",
    "\tfigsize          = DISPLAY_SIZE[1]\n",
    ")"
   ]
  },
  {
   "cell_type": "code",
   "execution_count": null,
   "id": "f593941a-e95c-4e65-b988-48dd4884f521",
   "metadata": {},
   "outputs": [],
   "source": [
    "# Plot position activations\n",
    "\n",
    "import matplotlib\n",
    "import seaborn\n",
    "\n",
    "fig, ax = matplotlib.pyplot.subplots(figsize = (16, 10))\n",
    "fig.tight_layout()\n",
    "\n",
    "seaborn.lineplot(pos_activations, ax = ax)\n",
    "matplotlib.pyplot.axvline(1000, color = 'r', alpha = 0.6)\n",
    "matplotlib.pyplot.axvline(1300, color = 'r', alpha = 0.6)\n",
    "matplotlib.pyplot.axvline(1650, color = 'r', alpha = 0.6)\n",
    "\n",
    "matplotlib.pyplot.savefig(\n",
    "\tos.path.join(OUT_DATA, 'positional-ctivation.png'),\n",
    "\tdpi         = 120,\n",
    "\tformat      = 'png',\n",
    "\tbbox_inches = 'tight',\n",
    "\tpad_inches  = 0\n",
    ")"
   ]
  },
  {
   "cell_type": "markdown",
   "id": "d2b71e73-e7c7-4024-b840-e276e5c807d9",
   "metadata": {},
   "source": [
    "# 4. Save"
   ]
  },
  {
   "cell_type": "code",
   "execution_count": null,
   "id": "1ea5ff92-ab19-4718-b928-06e9c807626d",
   "metadata": {
    "tags": []
   },
   "outputs": [],
   "source": [
    "# Compute background letter frequency (keep only the alphabet ones)\n",
    "\n",
    "frequency = cnn_motifs.get_alphabet_letter_frequency(\n",
    "\tsequences      = sequence,\n",
    "\tto_probability = True,\n",
    "\talphabet       = NUCLEOTIDE_ORDER\n",
    ")\n",
    "\n",
    "for k, v in frequency.items() :\n",
    "\tprint('{:s} : {:.5f}'.format(k, v))\n",
    "\n",
    "print('{:s} : {:.5f}'.format('-', sum(frequency.values())))\n",
    "print()"
   ]
  },
  {
   "cell_type": "code",
   "execution_count": null,
   "id": "5c05c60d-a44e-42a5-a0c9-35791c49ce04",
   "metadata": {
    "tags": []
   },
   "outputs": [],
   "source": [
    "# Save motifs to meme format\n",
    "\n",
    "cnn_motifs.to_meme_format(\n",
    "\tmotifs    = motifs,\n",
    "\tfrequency = frequency,\n",
    "\tfilename  = os.path.join(OUT_DATA, 'motifs'),\n",
    "\tstrands   = NUCLEOTIDE_STRANDS,\n",
    "\talphabet  = NUCLEOTIDE_ORDER,\n",
    "\tversion   = 4\n",
    ")"
   ]
  }
 ],
 "metadata": {
  "kernelspec": {
   "display_name": "Python 3 (ipykernel)",
   "language": "python",
   "name": "python3"
  },
  "language_info": {
   "codemirror_mode": {
    "name": "ipython",
    "version": 3
   },
   "file_extension": ".py",
   "mimetype": "text/x-python",
   "name": "python",
   "nbconvert_exporter": "python",
   "pygments_lexer": "ipython3",
   "version": "3.10.7"
  }
 },
 "nbformat": 4,
 "nbformat_minor": 5
}
