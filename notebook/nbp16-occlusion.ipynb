{
 "cells": [
  {
   "cell_type": "code",
   "execution_count": null,
   "id": "8c23a3e3-ef8e-4295-850b-0c1ae56e69f5",
   "metadata": {
    "tags": []
   },
   "outputs": [],
   "source": [
    "# Libraries\n",
    "\n",
    "import argparse\n",
    "import matplotlib\n",
    "import numpy\n",
    "import os\n",
    "import pandas\n",
    "import platform\n",
    "import seaborn\n",
    "import shutil\n",
    "import sys"
   ]
  },
  {
   "cell_type": "code",
   "execution_count": null,
   "id": "3e3d6332-0454-4e78-8aa0-0bb52ce749ab",
   "metadata": {},
   "outputs": [],
   "source": [
    "# Ensure source path\n",
    "\n",
    "ROOT = os.getcwd()\n",
    "\n",
    "while not ROOT.endswith('upolanc-thesis') :\n",
    "\tROOT = os.path.abspath(os.path.join(ROOT, os.pardir))\n",
    "\n",
    "\tif len(ROOT) < len('upolanc-thesis') :\n",
    "\t\tif   platform.system() == 'Linux'   : ROOT = '/d/hpc/projects/FRI/up4472/upolanc-thesis'\n",
    "\t\telif platform.system() == 'Windows' : ROOT = 'C:\\\\Developer\\\\Workspace\\\\PyCharm\\\\Projects\\\\upolanc-thesis'\n",
    "\t\telse : raise ValueError()\n",
    "\n",
    "\t\tprint(f'Warning : could not find correct directory, using default : {ROOT}')\n",
    "\t\tprint()\n",
    "\n",
    "\t\tbreak\n",
    "\n",
    "if ROOT not in sys.path :\n",
    "\tsys.path.append(ROOT)\n",
    "\n",
    "os.chdir(ROOT)"
   ]
  },
  {
   "cell_type": "code",
   "execution_count": null,
   "id": "59db5875-9cb1-4403-8d7f-058f7cfd037c",
   "metadata": {
    "tags": []
   },
   "outputs": [],
   "source": [
    "# Code\n",
    "\n",
    "from source.python     import runtime\n",
    "from source.python.cnn import cnn_model\n",
    "from source.python.cnn import cnn_occlusion\n",
    "from source.python.io  import loader\n",
    "from source.python.io  import writer\n",
    "\n",
    "runtime.set_numpy_format()\n",
    "runtime.set_pandas_format()\n",
    "runtime.set_plot_theme()"
   ]
  },
  {
   "cell_type": "markdown",
   "id": "c7ee6983-5845-4b4d-8c71-6e184f0f5a40",
   "metadata": {},
   "source": [
    "# 1. Setup"
   ]
  },
  {
   "cell_type": "code",
   "execution_count": null,
   "id": "b136a0ac-060f-43b9-915f-cd6888d2a47e",
   "metadata": {
    "tags": []
   },
   "outputs": [],
   "source": [
    "# Check for args\n",
    "\n",
    "MODEL_FOLDER = 'washburn-0-tf2150-f2-0250-77-tissue-mean-explode'\n",
    "MODEL_NAME   = 'washburn'\n",
    "FILTER_ID    = 2\n",
    "\n",
    "OCCLUSION_START  = 0\n",
    "OCCLUSION_END    = 2150\n",
    "OCCLUSION_SIZE   = 20\n",
    "OCCLUSION_STRIDE = 50\n",
    "OCCLUSION_TYPE   = 'zero'\n",
    "RELEVANCE_TYPE   = 'r2'\n",
    "\n",
    "if __name__ == '__main__' and 'get_ipython' in dir() :\n",
    "\tprint('Running as .ipynb')\n",
    "\tprint()\n",
    "\n",
    "if __name__ == '__main__' and 'get_ipython' not in dir() :\n",
    "\tprint('Running as .py')\n",
    "\tprint()\n",
    "\n",
    "\tparser = argparse.ArgumentParser()\n",
    "\n",
    "\tparser.add_argument('--model_folder',     type = str, default = '')\n",
    "\tparser.add_argument('--occlusion_size',   type = int, default = 10)\n",
    "\tparser.add_argument('--occlusion_stride', type = int, default = 10)\n",
    "\tparser.add_argument('--occlusion_type',   type = str, default = 'zero', choices = ['zero', 'shuffle', 'random'])\n",
    "\tparser.add_argument('--relevance_type',   type = str, default = 'r2',   choices = ['r2', 'mse', 'mae'])\n",
    "\n",
    "\targs = vars(parser.parse_args())\n",
    "\n",
    "\tMODEL_FOLDER     = args['model_folder']\n",
    "\tOCCLUSION_SIZE   = args['occlusion_size']\n",
    "\tOCCLUSION_STRIDE = args['occlusion_stride']\n",
    "\tOCCLUSION_TYPE   = args['occlusion_type']\n",
    "\tRELEVANCE_TYPE   = args['relevance_type']\n",
    "\n",
    "MODEL_FILTER   = int(MODEL_FOLDER.split('-')[3][1:])\n",
    "MODEL_NAME     = str(MODEL_FOLDER.split('-')[0])\n",
    "RELEVANCE_TYPE = RELEVANCE_TYPE.upper()\n",
    "\n",
    "if MODEL_NAME == 'washburn' : MODEL_NAME = MODEL_NAME + '2019r'\n",
    "if MODEL_NAME == 'zrimec'   : MODEL_NAME = MODEL_NAME + '2020r'"
   ]
  },
  {
   "cell_type": "code",
   "execution_count": null,
   "id": "1ed27611-b968-4a72-b57d-5df2f77b4194",
   "metadata": {
    "tags": []
   },
   "outputs": [],
   "source": [
    "# Setup some directory paths\n",
    "\n",
    "CWD = ROOT\n",
    "OUT = os.path.join(CWD, 'output')\n",
    "RES = os.path.join(CWD, 'resources')\n",
    "REP = os.path.join(CWD, 'reports')\n",
    "\n",
    "FID = 'filter' + str(FILTER_ID)\n",
    "\n",
    "OUT_DATA  = os.path.join(OUT, 'nbp16-occlusion')\n",
    "RES_NBP01 = os.path.join(OUT, 'nbp01-filter',    FID)\n",
    "RES_NBP02 = os.path.join(OUT, 'nbp02-anndata',   FID)\n",
    "RES_NBP04 = os.path.join(OUT, 'nbp04-feature',   FID)\n",
    "RES_NBP05 = os.path.join(OUT, 'nbp05-target',    FID)\n",
    "\n",
    "shutil.rmtree(OUT_DATA, ignore_errors = True)\n",
    "\n",
    "os.makedirs(OUT_DATA, exist_ok = True)\n",
    "\n",
    "print(f'     Root Directory : {CWD}')\n",
    "print(f'   Output Directory : {OUT_DATA}')\n",
    "print(f' Resource Directory : {RES_NBP01}')\n",
    "print(f' Resource Directory : {RES_NBP02}')\n",
    "print(f' Resource Directory : {RES_NBP04}')\n",
    "print(f' Resource Directory : {RES_NBP05}')\n",
    "print()"
   ]
  },
  {
   "cell_type": "code",
   "execution_count": null,
   "id": "17f69729-c62b-4091-825e-c782d7404b2d",
   "metadata": {},
   "outputs": [],
   "source": [
    "# System and device\n",
    "\n",
    "DEVICE = runtime.get_device(only_cpu = False)\n",
    "SYSTEM = runtime.get_system_info()\n",
    "\n",
    "for key, value in SYSTEM.items() :\n",
    "\tprint('{:25s} : {}'.format(key, value))\n",
    "\n",
    "print()"
   ]
  },
  {
   "cell_type": "code",
   "execution_count": null,
   "id": "59954f5f-d787-41df-bc1f-6796034f9993",
   "metadata": {
    "tags": []
   },
   "outputs": [],
   "source": [
    "# Define paths\n",
    "\n",
    "folder_path = os.path.join(REP,         'regression-cnn')\n",
    "folder_path = os.path.join(folder_path, MODEL_FOLDER)\n",
    "\n",
    "report_path = os.path.join(folder_path, 'report_keep.json')\n",
    "models_path = os.path.join(folder_path, 'model', '{}-best.pth'.format(MODEL_NAME))\n",
    "config_path = os.path.join(folder_path, 'config.json')"
   ]
  },
  {
   "cell_type": "code",
   "execution_count": null,
   "id": "67b29c02-68f6-477c-bccc-c0039a380ac8",
   "metadata": {
    "tags": []
   },
   "outputs": [],
   "source": [
    "# Load config and fix split size\n",
    "\n",
    "config = loader.load_json(config_path)\n",
    "\n",
    "config['dataset/split/test']  = 0.0\n",
    "config['dataset/split/valid'] = 0.0\n",
    "\n",
    "print('Output Target  : {}'.format(config['model/output/target']))\n",
    "print('Output Type    : {}'.format(config['model/output/type']))\n",
    "print('Output Explode : {}'.format(config['model/output/explode']))\n",
    "print('Features       : {}'.format(config['model/features']))\n",
    "print('Seed           : {}'.format(config['core/random']))\n",
    "print()"
   ]
  },
  {
   "cell_type": "markdown",
   "id": "11a73dd4-61ae-4b8b-9747-06a765ff0b76",
   "metadata": {},
   "source": [
    "# 2. Dataset"
   ]
  },
  {
   "cell_type": "code",
   "execution_count": null,
   "id": "ea5aed0f-30a3-45f9-9063-0a859f01c076",
   "metadata": {
    "tags": []
   },
   "outputs": [],
   "source": [
    "# Create dataset from evaluation transcripts only.\n",
    "\n",
    "sequences, features = cnn_occlusion.select_only_evaluation_transcripts(\n",
    "\tdirectory = RES_NBP04,\n",
    "\treport    = report_path\n",
    ")\n",
    "\n",
    "dataset, config = cnn_occlusion.to_dataset(\n",
    "\tsequences = sequences,\n",
    "\tfeatures  = features,\n",
    "\tdirectory = RES_NBP05,\n",
    "\tconfig    = config\n",
    ")"
   ]
  },
  {
   "cell_type": "markdown",
   "id": "dad94b9d-aafb-4c39-9ca4-77fe196af72a",
   "metadata": {},
   "source": [
    "# 3. Model"
   ]
  },
  {
   "cell_type": "code",
   "execution_count": null,
   "id": "1d989f78-ec5f-4711-a3ba-3ef62b305b36",
   "metadata": {
    "tags": []
   },
   "outputs": [],
   "source": [
    "# Load pretrained model.\n",
    "\n",
    "model, model_params = cnn_occlusion.load_pretrained_model(\n",
    "\tconfig     = config,\n",
    "\tdevice     = DEVICE,\n",
    "\tpath       = models_path,\n",
    "\tdataloader = None\n",
    ")"
   ]
  },
  {
   "cell_type": "markdown",
   "id": "56913f25-1060-4a37-b42d-fe2d16a34c07",
   "metadata": {},
   "source": [
    "# 4. Baseline Without Occlusion"
   ]
  },
  {
   "cell_type": "code",
   "execution_count": null,
   "id": "b173d4df-92cf-4033-8806-8dffe084fb11",
   "metadata": {
    "tags": []
   },
   "outputs": [],
   "source": [
    "# Run no occlusion evaluation\n",
    "\n",
    "model_params['test_dataloader'] = cnn_occlusion.create_dataloader_without_occlusion(\n",
    "\tdataset = dataset,\n",
    "\tconfig  = config\n",
    ")\n",
    "\n",
    "report = cnn_model.eval_regressor(\n",
    "\tmodel  = model,\n",
    "\tparams = model_params\n",
    ")\n",
    "\n",
    "baseline = {\n",
    "\t'r2'  : report['eval']['metric']['r2'].flatten().mean(),\n",
    "\t'mse' : report['eval']['metric']['mse'].flatten().mean(),\n",
    "\t'mae' : report['eval']['metric']['mae'].flatten().mean(),\n",
    "}\n",
    "\n",
    "print('Baseline R2  : {:.5f}'.format(baseline['r2']))\n",
    "print('Baseline MSE : {:.5f}'.format(baseline['mse']))\n",
    "print('Baseline MAE : {:.5f}'.format(baseline['mae']))\n",
    "print()"
   ]
  },
  {
   "cell_type": "markdown",
   "id": "7786395b-3ccf-44fa-a565-94bbd2362224",
   "metadata": {},
   "source": [
    "# 5. Reports With Occlusion"
   ]
  },
  {
   "cell_type": "code",
   "execution_count": null,
   "id": "a8e3c298-bb10-4a40-93b8-20b9d1a40948",
   "metadata": {
    "tags": []
   },
   "outputs": [],
   "source": [
    "# Compute scores with occlusion\n",
    "\n",
    "reports = list()\n",
    "\n",
    "for spoint in numpy.arange(OCCLUSION_START, OCCLUSION_END, OCCLUSION_STRIDE) :\n",
    "\tepoint = spoint + OCCLUSION_SIZE\n",
    "\tmpoint = (spoint + epoint) // 2\n",
    "\n",
    "\tmodel_params['test_dataloader'] = cnn_occlusion.create_dataloader_with_occlusion(\n",
    "\t\tdataset = dataset,\n",
    "\t\tconfig  = config,\n",
    "\t\tstart   = spoint,\n",
    "\t\tend     = epoint,\n",
    "\t\tmethod  = OCCLUSION_TYPE\n",
    "\t)\n",
    "\n",
    "\tevaluation = cnn_model.eval_regressor(\n",
    "\t\tmodel  = model,\n",
    "\t\tparams = model_params\n",
    "\t)\n",
    "\n",
    "\tevaluation = {\n",
    "\t\t'start' : int(spoint),\n",
    "\t\t'end'   : int(epoint),\n",
    "\t\t'mid'   : int(mpoint),\n",
    "\t\t'r2'    : float(evaluation['eval']['metric']['r2'].flatten().mean()),\n",
    "\t\t'mse'   : float(evaluation['eval']['metric']['mse'].flatten().mean()),\n",
    "\t\t'mae'   : float(evaluation['eval']['metric']['mae'].flatten().mean())\n",
    "\t}\n",
    "\n",
    "\tevaluation['r2-relevance'] = float(cnn_occlusion.compute_relevance(\n",
    "\t\tbase  = baseline['r2'],\n",
    "\t\tvalue = evaluation['r2']\n",
    "\t))\n",
    "\n",
    "\tevaluation['mse-relevance'] = float(cnn_occlusion.compute_relevance(\n",
    "\t\tbase  = baseline['mse'],\n",
    "\t\tvalue = evaluation['mse']\n",
    "\t))\n",
    "\n",
    "\tevaluation['mae-relevance'] = float(cnn_occlusion.compute_relevance(\n",
    "\t\tbase  = baseline['mae'],\n",
    "\t\tvalue = evaluation['mae']\n",
    "\t))\n",
    "\n",
    "\treports.append(evaluation)"
   ]
  },
  {
   "cell_type": "code",
   "execution_count": null,
   "id": "6e51b1bb-70e4-4656-99dd-ce2f869d6a54",
   "metadata": {
    "tags": []
   },
   "outputs": [],
   "source": [
    "# Save evaluations\n",
    "\n",
    "writer.write_json(\n",
    "\tdata     = reports,\n",
    "\tfilename = os.path.join(OUT_DATA, 'table-occlusion-w{}-s{}.json'.format(OCCLUSION_SIZE, OCCLUSION_STRIDE))\n",
    ")"
   ]
  },
  {
   "cell_type": "code",
   "execution_count": null,
   "id": "78549853-c155-4f6c-b31f-1ea906c97c1a",
   "metadata": {},
   "outputs": [],
   "source": [
    "# Create data and save\n",
    "\n",
    "relevances = pandas.DataFrame.from_dict({\n",
    "\t'R2'       : [report['r2-relevance']  for report in reports],\n",
    "\t'MAE'      : [report['mae-relevance'] for report in reports],\n",
    "\t'MSE'      : [report['mse-relevance'] for report in reports],\n",
    "\t'Midpoint' : [report['mid']           for report in reports]\n",
    "})\n",
    "\n",
    "writer.write_csv(\n",
    "\tdata     = relevances,\n",
    "\tfilename = os.path.join(OUT_DATA, 'table-occlusion-w{}-s{}.csv'.format(OCCLUSION_SIZE, OCCLUSION_STRIDE)),\n",
    ")"
   ]
  },
  {
   "cell_type": "code",
   "execution_count": null,
   "id": "30a0bcd8-59c9-4ebc-bbc7-eefeaa769107",
   "metadata": {
    "tags": []
   },
   "outputs": [],
   "source": [
    "# Plot relevance for entire sequence\n",
    "\n",
    "fig, ax = matplotlib.pyplot.subplots(figsize = (16, 10))\n",
    "fig.tight_layout()\n",
    "\n",
    "seaborn.lineplot(\n",
    "\tdata      = relevances,\n",
    "\tx         = 'Midpoint',\n",
    "\ty         = RELEVANCE_TYPE,\n",
    "\tlinewidth = 2,\n",
    "\tax        = ax,\n",
    "\talpha     = 0.9\n",
    ")\n",
    "\n",
    "ax.set_ylabel(None)\n",
    "ax.set_xlabel(None)\n",
    "\n",
    "matplotlib.pyplot.savefig(\n",
    "\tos.path.join(OUT_DATA, 'graph-occlusion-w{}-s{}-full.png'.format(OCCLUSION_SIZE, OCCLUSION_STRIDE)),\n",
    "\tdpi         = 120,\n",
    "\tformat      = 'png',\n",
    "\tbbox_inches = 'tight',\n",
    "\tpad_inches  = 0\n",
    ")"
   ]
  },
  {
   "cell_type": "code",
   "execution_count": null,
   "id": "6c688bee-9095-4563-a629-483e9b8e017b",
   "metadata": {
    "tags": []
   },
   "outputs": [],
   "source": [
    "# Plot relevance for each region seperately\n",
    "\n",
    "lengths = [1000, 300, 350, 500]\n",
    "regions = [\n",
    "\t('Promoter',      0, sum(lengths[:1])),\n",
    "\t('5\\'UTR',     1000, sum(lengths[:2])),\n",
    "\t('3\\'UTR',     1300, sum(lengths[:3])),\n",
    "\t('Terminator', 1650, sum(lengths[:4])),\n",
    "]\n",
    "\n",
    "fig, ax = matplotlib.pyplot.subplots(nrows = 1, ncols = 4, sharey = True, figsize = (16, 4))\n",
    "fig.tight_layout()\n",
    "\n",
    "for index, region in enumerate(regions) :\n",
    "\taxis = ax[index]\n",
    "\n",
    "\tsubset = relevances\n",
    "\tsubset = subset[subset['Midpoint'] >= region[1]]\n",
    "\tsubset = subset[subset['Midpoint'] <  region[2]]\n",
    "\n",
    "\tseaborn.lineplot(\n",
    "\t\tdata      = subset,\n",
    "\t\tx         = 'Midpoint',\n",
    "\t\ty         = RELEVANCE_TYPE,\n",
    "\t\tlinewidth = 2,\n",
    "\t\tax        = axis,\n",
    "\t\talpha     = 0.9\n",
    "\t)\n",
    "\n",
    "\taxis.set_title(region[0])\n",
    "\taxis.set_ylabel(None)\n",
    "\taxis.set_xlabel(None)\n",
    "\n",
    "matplotlib.pyplot.savefig(\n",
    "\tos.path.join(OUT_DATA, 'graph-occlusion-w{}-s{}-seperate.png'.format(OCCLUSION_SIZE, OCCLUSION_STRIDE)),\n",
    "\tdpi         = 120,\n",
    "\tformat      = 'png',\n",
    "\tbbox_inches = 'tight',\n",
    "\tpad_inches  = 0\n",
    ")"
   ]
  }
 ],
 "metadata": {
  "kernelspec": {
   "display_name": "Python 3 (ipykernel)",
   "language": "python",
   "name": "python3"
  },
  "language_info": {
   "codemirror_mode": {
    "name": "ipython",
    "version": 3
   },
   "file_extension": ".py",
   "mimetype": "text/x-python",
   "name": "python",
   "nbconvert_exporter": "python",
   "pygments_lexer": "ipython3",
   "version": "3.10.7"
  }
 },
 "nbformat": 4,
 "nbformat_minor": 5
}
